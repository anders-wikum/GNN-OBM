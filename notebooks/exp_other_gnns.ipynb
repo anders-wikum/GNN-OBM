{
 "cells": [
  {
   "cell_type": "code",
   "execution_count": null,
   "metadata": {},
   "outputs": [],
   "source": [
    "import os\n",
    "os.chdir('..')"
   ]
  },
  {
   "cell_type": "code",
   "execution_count": null,
   "metadata": {},
   "outputs": [],
   "source": [
    "import torch\n",
    "import numpy as np\n",
    "import pickle\n",
    "from gnn_library.util import load\n",
    "from evaluate import evaluate_model\n",
    "from instance_generator import sample_instances\n",
    "from params import TEST_CONFIGS\n",
    "from util import _box_plots\n",
    "\n",
    "%load_ext autoreload\n",
    "%autoreload 2"
   ]
  },
  {
   "cell_type": "code",
   "execution_count": null,
   "metadata": {},
   "outputs": [],
   "source": [
    "device = torch.device('cuda:4' if torch.cuda.is_available() else 'cpu')\n",
    "print(\"PyTorch has version {}\".format(torch.__version__))\n",
    "print('Using device:', device)\n",
    "\n",
    "models = {\n",
    "\t'GENConv': load('GNN_large_10_6', device),\n",
    "\t'DeeperGCN': load('other_GNN_deeperGCN', device),\n",
    "\t'GATv2Conv': load('other_GNN_Gatv2Conv', device),\n",
    "\t'GraphConv': load('other_GNN_GraphConv', device),\n",
    "\t'GCNConv': load('other_GNN_GCNConv', device),\n",
    "}\n",
    "_, args = load('GNN_large_10_6', device)"
   ]
  },
  {
   "cell_type": "markdown",
   "metadata": {},
   "source": [
    "## Box plot baseline evaluation"
   ]
  },
  {
   "cell_type": "markdown",
   "metadata": {},
   "source": [
    "#### Evaluate CRs on all graph configurations"
   ]
  },
  {
   "cell_type": "code",
   "execution_count": null,
   "metadata": {},
   "outputs": [],
   "source": [
    "rng = np.random.default_rng()\n",
    "num_trials = 150\n",
    "batch_size = 500\n",
    "node_configs = [(20, 10)]\n",
    "graph_configs = TEST_CONFIGS['MAIN']\n",
    "baselines_kwargs = {}\n",
    "\n",
    "data = {node_config: {str(graph_config): {} for graph_config in graph_configs} for node_config in node_configs}\n",
    "\n",
    "for node_config in node_configs:\n",
    "    for graph_config in graph_configs:\n",
    "            print(node_config, graph_config)\n",
    "            instances = sample_instances(\n",
    "                *node_config,\n",
    "                num_trials,\n",
    "                rng,\n",
    "                args.__dict__,\n",
    "                **graph_config\n",
    "            )\n",
    "            for model_name, (GNN, args) in models.items():\n",
    "                cr_ratios, _ = evaluate_model(\n",
    "                    meta_model=None,\n",
    "                    meta_model_type=None,\n",
    "                    base_models=[GNN],\n",
    "                    instances=instances,\n",
    "                    batch_size=batch_size,\n",
    "                    rng=rng,\n",
    "                    num_realizations=20,\n",
    "                    baselines=[],\n",
    "                    **baselines_kwargs\n",
    "                )\n",
    "\n",
    "                data[node_config][str(graph_config)][model_name] = cr_ratios['learned']\n",
    "\n",
    "            with open(f\"experiment_output/box_plots_multiple_gnns.pickle\", 'wb') as handle:\n",
    "                pickle.dump(data, handle, protocol=pickle.HIGHEST_PROTOCOL)\n"
   ]
  },
  {
   "cell_type": "markdown",
   "metadata": {},
   "source": [
    "#### Generate box plots"
   ]
  },
  {
   "cell_type": "code",
   "execution_count": null,
   "metadata": {},
   "outputs": [],
   "source": [
    "results = {}\n",
    "for graph_type, val in data[node_configs[0]].items():\t\n",
    "\tresults[graph_type] = val\n",
    "\n",
    "_box_plots(results, lambda graph_type: f\"GNN2_classify_{graph_type} {node_config[1]}x{node_config[0]}\")"
   ]
  }
 ],
 "metadata": {
  "kernelspec": {
   "display_name": "clrs",
   "language": "python",
   "name": "python3"
  },
  "language_info": {
   "codemirror_mode": {
    "name": "ipython",
    "version": 3
   },
   "file_extension": ".py",
   "mimetype": "text/x-python",
   "name": "python",
   "nbconvert_exporter": "python",
   "pygments_lexer": "ipython3",
   "version": "3.10.12"
  }
 },
 "nbformat": 4,
 "nbformat_minor": 2
}
