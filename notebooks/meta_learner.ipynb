{
 "cells": [
  {
   "cell_type": "code",
   "execution_count": null,
   "metadata": {},
   "outputs": [],
   "source": [
    "import torch\n",
    "import numpy as np\n",
    "import os\n",
    "os.chdir('..')\n",
    "\n",
    "import torch_converter as tc\n",
    "import instance_generator as ig\n",
    "from torch_geometric.loader import DataLoader\n",
    "from gnn_library.util import train, save, load\n",
    "from util import NumpyDataset, collect\n",
    "from evaluate import evaluate_model, evaluate_meta_model, pp_output\n",
    "\n",
    "%load_ext autoreload\n",
    "%autoreload 2"
   ]
  },
  {
   "cell_type": "code",
   "execution_count": null,
   "metadata": {},
   "outputs": [],
   "source": [
    "device = torch.device('cuda' if torch.cuda.is_available() else 'cpu')\n",
    "print(\"PyTorch has version {}\".format(torch.__version__))\n",
    "print('Using device:', device)"
   ]
  },
  {
   "cell_type": "code",
   "execution_count": null,
   "metadata": {},
   "outputs": [],
   "source": [
    "GNN1, args1 = load('GNN1')\n",
    "GNN2, args2 = load('GNN2')"
   ]
  },
  {
   "cell_type": "code",
   "execution_count": null,
   "metadata": {},
   "outputs": [],
   "source": [
    "train_num = 100; test_num = 30\n",
    "\n",
    "er_config = {\n",
    "    'graph_type': 'ER',\n",
    "    'p': 1,\n",
    "    'weighted': True\n",
    "}\n",
    "ba_config = {\n",
    "    'graph_type': 'BA',\n",
    "    'ba_param': 2,\n",
    "    'weighted': True\n",
    "}\n",
    "geom_config = {\n",
    "    'graph_type': 'GEOM',\n",
    "    'threshold': 0.2,\n",
    "    'scaling': 1 / np.sqrt(2)\n",
    "}\n",
    "\n",
    "rng = np.random.default_rng()\n",
    "\n",
    "train_instances, train_coin_flips = collect(\n",
    "    [\n",
    "        ig.sample_instances(10, 6, train_num, rng, **er_config),\n",
    "        ig.sample_instances(10, 6, train_num, rng, **ba_config),\n",
    "        ig.sample_instances(10, 6, train_num, rng, **geom_config),\n",
    "    ]\n",
    ")\n",
    "\n",
    "test_instances, test_coin_flips = collect(\n",
    "    [\n",
    "        ig.sample_instances(10, 6, test_num, rng, **er_config),\n",
    "        ig.sample_instances(10, 6, test_num, rng, **ba_config),\n",
    "        ig.sample_instances(10, 6, test_num, rng, **geom_config),\n",
    "    ]\n",
    ")\n",
    "\n",
    "train_dataset = NumpyDataset(\n",
    "    tc._instances_to_nn_samples(\n",
    "        instances=train_instances,\n",
    "        coin_flips=train_coin_flips,\n",
    "        models=[GNN1, GNN2],\n",
    "        args=args1,\n",
    "        batch_size=50,\n",
    "        rng=rng\n",
    "    )\n",
    ")\n",
    "\n",
    "test_dataset = NumpyDataset(\n",
    "    tc._instances_to_nn_samples(\n",
    "        instances=test_instances,\n",
    "        coin_flips=test_coin_flips,\n",
    "        models=[GNN1, GNN2],\n",
    "        args=args1,\n",
    "        batch_size=50,\n",
    "        rng=rng\n",
    "    )\n",
    ")\n",
    "\n",
    "args = {\n",
    "    'processor':         'NN',\n",
    "    'head':              'meta',\n",
    "    'num_layers':        5,\n",
    "    'input_dim':         17,\n",
    "    'batch_size':        4,\n",
    "    'hidden_dim':        16,\n",
    "    'output_dim':        3,\n",
    "    'dropout':           0,\n",
    "    'epochs':            1000,\n",
    "    'opt':               'adam',\n",
    "    'opt_scheduler':     'none',\n",
    "    'opt_restart':       0,\n",
    "    'weight_decay':      5e-3,\n",
    "    'lr':                0.0001,\n",
    "    'device':            device\n",
    "}\n",
    "\n",
    "train_loader = DataLoader(\n",
    "    train_dataset,\n",
    "    batch_size=args['batch_size'],\n",
    "    shuffle=True,\n",
    "    num_workers=4\n",
    ")\n",
    "\n",
    "test_loader = DataLoader(\n",
    "    test_dataset,\n",
    "    batch_size=args['batch_size'],\n",
    "    shuffle=True,\n",
    "    num_workers=4\n",
    ")"
   ]
  },
  {
   "cell_type": "code",
   "execution_count": null,
   "metadata": {},
   "outputs": [],
   "source": [
    "\n",
    "\n",
    "_, _, META_NN, _ = train(train_loader, test_loader, args)"
   ]
  },
  {
   "cell_type": "code",
   "execution_count": null,
   "metadata": {},
   "outputs": [],
   "source": [
    "save(META_NN, args, 'META_NN')"
   ]
  },
  {
   "cell_type": "code",
   "execution_count": null,
   "metadata": {},
   "outputs": [],
   "source": [
    "META_NN, args = load('META_NN')"
   ]
  },
  {
   "cell_type": "code",
   "execution_count": null,
   "metadata": {},
   "outputs": [],
   "source": [
    "rng = np.random.default_rng(50)\n",
    "eval_instances, eval_coin_flips = ig.sample_instances(48, 16, 100, rng, **geom_config)\n",
    "\n",
    "ratios1, log = evaluate_meta_model(\n",
    "    classify_model=META_NN,\n",
    "    eval_models=[GNN1, GNN2],\n",
    "    args=args,\n",
    "    instances=eval_instances,\n",
    "    coin_flips=eval_coin_flips,\n",
    "    batch_size=50,\n",
    "    rng=rng\n",
    ")\n",
    "\n",
    "pp_output(ratios1, log, show_log=True)"
   ]
  },
  {
   "cell_type": "code",
   "execution_count": null,
   "metadata": {},
   "outputs": [],
   "source": [
    "rng = np.random.default_rng(50)\n",
    "eval_instances, eval_coin_flips = ig.sample_instances(48, 16, 100, rng, **geom_config)\n",
    "\n",
    "ratios2, log = evaluate_model(\n",
    "    model=GNN1,\n",
    "    args=args,\n",
    "    instances=eval_instances,\n",
    "    coin_flips=eval_coin_flips,\n",
    "    batch_size=50,\n",
    "    rng=rng\n",
    ")\n",
    "\n",
    "pp_output(ratios2, log, show_log=True)"
   ]
  },
  {
   "cell_type": "code",
   "execution_count": null,
   "metadata": {},
   "outputs": [],
   "source": [
    "rng = np.random.default_rng(50)\n",
    "eval_instances, eval_coin_flips = ig.sample_instances(48, 16, 100, rng, **geom_config)\n",
    "\n",
    "ratios, log = evaluate_model(\n",
    "    model=GNN2,\n",
    "    args=args,\n",
    "    instances=eval_instances,\n",
    "    coin_flips=eval_coin_flips,\n",
    "    batch_size=50,\n",
    "    rng=rng\n",
    ")\n",
    "\n",
    "pp_output(ratios, log, show_log=True)"
   ]
  },
  {
   "cell_type": "code",
   "execution_count": null,
   "metadata": {},
   "outputs": [],
   "source": [
    "rng = np.random.default_rng()\n",
    "eval_instances, eval_coin_flips = ig.sample_instances(32, 32, 10, rng, **ba_config)\n",
    "\n",
    "X = tc._instances_to_nn_eval(eval_instances).to('cuda')\n",
    "print(META_NN((X, None)))\n"
   ]
  },
  {
   "cell_type": "code",
   "execution_count": null,
   "metadata": {},
   "outputs": [],
   "source": []
  }
 ],
 "metadata": {
  "kernelspec": {
   "display_name": "Python 3",
   "language": "python",
   "name": "python3"
  },
  "language_info": {
   "codemirror_mode": {
    "name": "ipython",
    "version": 3
   },
   "file_extension": ".py",
   "mimetype": "text/x-python",
   "name": "python",
   "nbconvert_exporter": "python",
   "pygments_lexer": "ipython3",
   "version": "3.10.6"
  },
  "orig_nbformat": 4
 },
 "nbformat": 4,
 "nbformat_minor": 2
}
