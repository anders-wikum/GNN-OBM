{
 "cells": [
  {
   "cell_type": "code",
   "execution_count": 1,
   "metadata": {},
   "outputs": [],
   "source": [
    "import torch\n",
    "import numpy as np\n",
    "import os\n",
    "os.chdir('..')\n",
    "\n",
    "import torch_converter as tc\n",
    "import instance_generator as ig\n",
    "from torch_geometric.loader import DataLoader\n",
    "from gnn_library.util import train, save, load\n",
    "from util import NumpyDataset, Dataset\n",
    "from evaluate import evaluate_model, pp_output\n",
    "import evaluate as ev\n",
    "from gnn_library.OBM_greedy import OBM_Greedy\n",
    "\n",
    "%load_ext autoreload\n",
    "%autoreload 2"
   ]
  },
  {
   "cell_type": "code",
   "execution_count": 2,
   "metadata": {},
   "outputs": [
    {
     "name": "stdout",
     "output_type": "stream",
     "text": [
      "PyTorch has version 2.0.0+cu117\n",
      "Using device: cuda:2\n"
     ]
    }
   ],
   "source": [
    "device = torch.device('cuda:2' if torch.cuda.is_available() else 'cpu')\n",
    "print(\"PyTorch has version {}\".format(torch.__version__))\n",
    "print('Using device:', device)"
   ]
  },
  {
   "cell_type": "code",
   "execution_count": 3,
   "metadata": {},
   "outputs": [],
   "source": [
    "GNN1, args1 = load('GNN1', device)\n",
    "GNN2, args2 = load('GNN2', device)\n",
    "# GNN3, args3 = load('GNN3', device)\n",
    "GREEDY = OBM_Greedy()"
   ]
  },
  {
   "cell_type": "markdown",
   "metadata": {},
   "source": [
    "### I. Meta GNN training/evaluation"
   ]
  },
  {
   "cell_type": "code",
   "execution_count": 17,
   "metadata": {},
   "outputs": [],
   "source": [
    "args = {\n",
    "    'processor':         'TEST',\n",
    "    'head':              'meta',\n",
    "    'num_layers':        2,\n",
    "    'num_mlp_layers':    2,\n",
    "    'aggr':              'max',\n",
    "    'batch_size':        6,\n",
    "    'node_feature_dim':  4,\n",
    "    'edge_feature_dim':  1,\n",
    "    'graph_feature_dim': 2,\n",
    "    'hidden_dim':        64,\n",
    "    'output_dim':        2,\n",
    "    'dropout':           0.25,\n",
    "    'epochs':            25,\n",
    "    'opt':               'adam',\n",
    "    'opt_scheduler':     'none',\n",
    "    'opt_restart':       0,\n",
    "    'weight_decay':      5e-3,\n",
    "    'lr':                0.0001,\n",
    "    'device':            device\n",
    "}\n",
    "\n",
    "train_num = 25; test_num = 5\n",
    "\n",
    "er_config = {\n",
    "    'graph_type': 'ER',\n",
    "    'p': 1,\n",
    "    'weighted': True\n",
    "}\n",
    "ba_config = {\n",
    "    'graph_type': 'BA',\n",
    "    'ba_param': 4,\n",
    "    'weighted': False\n",
    "}\n",
    "geom_config = {\n",
    "    'graph_type': 'GEOM',\n",
    "    'threshold': 0.2,\n",
    "    'scaling': 1 / np.sqrt(2)\n",
    "}\n",
    "\n",
    "rng = np.random.default_rng()\n",
    "\n",
    "train_instances = [\n",
    "    *ig.sample_instances(6, 10, train_num, rng, **er_config),\n",
    "    *ig.sample_instances(6, 10, train_num, rng, **ba_config),\n",
    "    *ig.sample_instances(6, 10, train_num, rng, **geom_config),\n",
    "    *ig.sample_instances(8, 8, train_num, rng, **er_config),\n",
    "    *ig.sample_instances(8, 8, train_num, rng, **ba_config),\n",
    "    *ig.sample_instances(8, 8, train_num, rng, **geom_config),\n",
    "    *ig.sample_instances(10, 6, train_num, rng, **er_config),\n",
    "    *ig.sample_instances(10, 6, train_num, rng, **ba_config),\n",
    "    *ig.sample_instances(10, 6, train_num, rng, **geom_config)\n",
    "]\n",
    "\n",
    "\n",
    "test_instances = [\n",
    "    *ig.sample_instances(6, 10, test_num, rng, **er_config),\n",
    "    *ig.sample_instances(6, 10, test_num, rng, **ba_config),\n",
    "    *ig.sample_instances(6, 10, test_num, rng, **geom_config),\n",
    "    *ig.sample_instances(8, 8, test_num, rng, **er_config),\n",
    "    *ig.sample_instances(8, 8, test_num, rng, **ba_config),\n",
    "    *ig.sample_instances(8, 8, test_num, rng, **geom_config),\n",
    "    *ig.sample_instances(10, 6, test_num, rng, **er_config),\n",
    "    *ig.sample_instances(10, 6, test_num, rng, **ba_config),\n",
    "    *ig.sample_instances(10, 6, test_num, rng, **geom_config)\n",
    "]\n",
    "\n",
    "train_data = Dataset(\n",
    "    tc._instances_to_train_samples(\n",
    "        instances=train_instances,\n",
    "        head=args['head'],\n",
    "        meta_model_type='gnn',\n",
    "        base_models=[GNN1, GNN2]\n",
    "    )\n",
    ")\n",
    "\n",
    "test_data = Dataset(\n",
    "    tc._instances_to_train_samples(\n",
    "        instances=test_instances,\n",
    "        head=args['head'],\n",
    "        meta_model_type='gnn',\n",
    "        base_models=[GNN1, GNN2]\n",
    "    )\n",
    ")\n",
    "\n",
    "train_loader = DataLoader(\n",
    "    train_data,\n",
    "    batch_size=args['batch_size'],\n",
    "    shuffle=True,\n",
    "    num_workers=4\n",
    ")\n",
    "\n",
    "test_loader = DataLoader(\n",
    "    test_data,\n",
    "    batch_size=args['batch_size'],\n",
    "    shuffle=True,\n",
    "    num_workers=4\n",
    ")"
   ]
  },
  {
   "cell_type": "code",
   "execution_count": 4,
   "metadata": {},
   "outputs": [],
   "source": [
    "args = {\n",
    "    'processor':         'TEST2',\n",
    "    'head':              'meta',\n",
    "    'num_layers':        4,\n",
    "    'num_lp_layers':     2,\n",
    "    'aggr':              'max',\n",
    "    'batch_size':        6,\n",
    "    'node_feature_dim':  6,\n",
    "    'edge_feature_dim':  1,\n",
    "    'graph_feature_dim': 2,\n",
    "    'hidden_dim':        4,\n",
    "    'output_dim':        2,\n",
    "    'dropout':           0,\n",
    "    'epochs':            50,\n",
    "    'opt':               'adam',\n",
    "    'opt_scheduler':     'none',\n",
    "    'opt_restart':       0,\n",
    "    'weight_decay':      5e-3,\n",
    "    'lr':                0.001,\n",
    "    'device':            device\n",
    "}"
   ]
  },
  {
   "cell_type": "code",
   "execution_count": 19,
   "metadata": {},
   "outputs": [
    {
     "name": "stdout",
     "output_type": "stream",
     "text": [
      "tensor([145., 129.])\n"
     ]
    }
   ],
   "source": [
    "sum = torch.zeros(2)\n",
    "for data in train_data:\n",
    "    sum += data.hint\n",
    "print(sum)"
   ]
  },
  {
   "cell_type": "code",
   "execution_count": 20,
   "metadata": {},
   "outputs": [
    {
     "name": "stderr",
     "output_type": "stream",
     "text": [
      "Training:   0%|          | 0/50 [00:00<?, ?Epochs/s]"
     ]
    },
    {
     "name": "stdout",
     "output_type": "stream",
     "text": [
      "0.7113666251628068\n"
     ]
    },
    {
     "name": "stderr",
     "output_type": "stream",
     "text": [
      "Training:   2%|▏         | 1/50 [00:03<02:32,  3.11s/Epochs]"
     ]
    },
    {
     "name": "stdout",
     "output_type": "stream",
     "text": [
      "TEST ACCURACY: 0.5522388219833374\n",
      "TEST LOSS: 0.6817859411239624\n"
     ]
    },
    {
     "name": "stderr",
     "output_type": "stream",
     "text": [
      "Training:   4%|▍         | 2/50 [00:04<01:48,  2.26s/Epochs]"
     ]
    },
    {
     "name": "stdout",
     "output_type": "stream",
     "text": [
      "0.7103076242182377\n",
      "0.7034545353729359\n"
     ]
    },
    {
     "name": "stderr",
     "output_type": "stream",
     "text": [
      "Training:   6%|▌         | 3/50 [00:07<01:52,  2.40s/Epochs]"
     ]
    },
    {
     "name": "stdout",
     "output_type": "stream",
     "text": [
      "TEST ACCURACY: 0.5522388219833374\n",
      "TEST LOSS: 0.6773368120193481\n"
     ]
    },
    {
     "name": "stderr",
     "output_type": "stream",
     "text": [
      "Training:   8%|▊         | 4/50 [00:09<01:39,  2.15s/Epochs]"
     ]
    },
    {
     "name": "stdout",
     "output_type": "stream",
     "text": [
      "0.6865031484269748\n",
      "0.6732044563676319\n"
     ]
    },
    {
     "name": "stderr",
     "output_type": "stream",
     "text": [
      "Training:  10%|█         | 5/50 [00:11<01:38,  2.20s/Epochs]"
     ]
    },
    {
     "name": "stdout",
     "output_type": "stream",
     "text": [
      "TEST ACCURACY: 0.7164179086685181\n",
      "TEST LOSS: 0.6700090765953064\n"
     ]
    },
    {
     "name": "stderr",
     "output_type": "stream",
     "text": [
      "Training:  12%|█▏        | 6/50 [00:13<01:38,  2.23s/Epochs]"
     ]
    },
    {
     "name": "stdout",
     "output_type": "stream",
     "text": [
      "0.6641459800031063\n",
      "0.6574860615451841\n"
     ]
    },
    {
     "name": "stderr",
     "output_type": "stream",
     "text": [
      "Training:  14%|█▍        | 7/50 [00:16<01:38,  2.29s/Epochs]"
     ]
    },
    {
     "name": "stdout",
     "output_type": "stream",
     "text": [
      "TEST ACCURACY: 0.6716417670249939\n",
      "TEST LOSS: 0.6670339703559875\n"
     ]
    },
    {
     "name": "stderr",
     "output_type": "stream",
     "text": [
      "Training:  16%|█▌        | 8/50 [00:17<01:30,  2.15s/Epochs]"
     ]
    },
    {
     "name": "stdout",
     "output_type": "stream",
     "text": [
      "0.6513519421981199\n",
      "0.6459689914745136\n"
     ]
    },
    {
     "name": "stderr",
     "output_type": "stream",
     "text": [
      "Training:  18%|█▊        | 9/50 [00:20<01:29,  2.18s/Epochs]"
     ]
    },
    {
     "name": "stdout",
     "output_type": "stream",
     "text": [
      "TEST ACCURACY: 0.7164179086685181\n",
      "TEST LOSS: 0.6477149128913879\n"
     ]
    },
    {
     "name": "stderr",
     "output_type": "stream",
     "text": [
      "Training:  20%|██        | 10/50 [00:21<01:21,  2.05s/Epochs]"
     ]
    },
    {
     "name": "stdout",
     "output_type": "stream",
     "text": [
      "0.6362961082562913\n",
      "0.632262293439712\n"
     ]
    },
    {
     "name": "stderr",
     "output_type": "stream",
     "text": [
      "Training:  22%|██▏       | 11/50 [00:24<01:27,  2.25s/Epochs]"
     ]
    },
    {
     "name": "stdout",
     "output_type": "stream",
     "text": [
      "TEST ACCURACY: 0.7611939907073975\n",
      "TEST LOSS: 0.6373624801635742\n"
     ]
    },
    {
     "name": "stderr",
     "output_type": "stream",
     "text": [
      "Training:  24%|██▍       | 12/50 [00:26<01:19,  2.10s/Epochs]"
     ]
    },
    {
     "name": "stdout",
     "output_type": "stream",
     "text": [
      "0.625468484241597\n",
      "0.6189506884909024\n"
     ]
    },
    {
     "name": "stderr",
     "output_type": "stream",
     "text": [
      "Training:  26%|██▌       | 13/50 [00:28<01:21,  2.19s/Epochs]"
     ]
    },
    {
     "name": "stdout",
     "output_type": "stream",
     "text": [
      "TEST ACCURACY: 0.7761194109916687\n",
      "TEST LOSS: 0.6243304014205933\n"
     ]
    },
    {
     "name": "stderr",
     "output_type": "stream",
     "text": [
      "Training:  28%|██▊       | 14/50 [00:30<01:14,  2.07s/Epochs]"
     ]
    },
    {
     "name": "stdout",
     "output_type": "stream",
     "text": [
      "0.6118568438683113\n",
      "0.6064480830283061\n"
     ]
    },
    {
     "name": "stderr",
     "output_type": "stream",
     "text": [
      "Training:  30%|███       | 15/50 [00:33<01:17,  2.22s/Epochs]"
     ]
    },
    {
     "name": "stdout",
     "output_type": "stream",
     "text": [
      "TEST ACCURACY: 0.746268630027771\n",
      "TEST LOSS: 0.619926929473877\n"
     ]
    },
    {
     "name": "stderr",
     "output_type": "stream",
     "text": [
      "Training:  32%|███▏      | 16/50 [00:34<01:10,  2.06s/Epochs]"
     ]
    },
    {
     "name": "stdout",
     "output_type": "stream",
     "text": [
      "0.6084878201032207\n",
      "0.5964096406080427\n"
     ]
    },
    {
     "name": "stderr",
     "output_type": "stream",
     "text": [
      "Training:  34%|███▍      | 17/50 [00:37<01:10,  2.12s/Epochs]"
     ]
    },
    {
     "name": "stdout",
     "output_type": "stream",
     "text": [
      "TEST ACCURACY: 0.7761194109916687\n",
      "TEST LOSS: 0.6091129183769226\n"
     ]
    },
    {
     "name": "stderr",
     "output_type": "stream",
     "text": [
      "Training:  36%|███▌      | 18/50 [00:38<01:03,  2.00s/Epochs]"
     ]
    },
    {
     "name": "stdout",
     "output_type": "stream",
     "text": [
      "0.5905941609483566\n",
      "0.5849064210035505\n"
     ]
    },
    {
     "name": "stderr",
     "output_type": "stream",
     "text": [
      "Training:  38%|███▊      | 19/50 [00:41<01:04,  2.09s/Epochs]"
     ]
    },
    {
     "name": "stdout",
     "output_type": "stream",
     "text": [
      "TEST ACCURACY: 0.7611939907073975\n",
      "TEST LOSS: 0.6062901616096497\n"
     ]
    },
    {
     "name": "stderr",
     "output_type": "stream",
     "text": [
      "Training:  40%|████      | 20/50 [00:42<00:59,  1.99s/Epochs]"
     ]
    },
    {
     "name": "stdout",
     "output_type": "stream",
     "text": [
      "0.5817864415419363\n",
      "0.5748971820312695\n"
     ]
    },
    {
     "name": "stderr",
     "output_type": "stream",
     "text": [
      "Training:  42%|████▏     | 21/50 [00:45<01:04,  2.21s/Epochs]"
     ]
    },
    {
     "name": "stdout",
     "output_type": "stream",
     "text": [
      "TEST ACCURACY: 0.7910447716712952\n",
      "TEST LOSS: 0.589599072933197\n"
     ]
    },
    {
     "name": "stderr",
     "output_type": "stream",
     "text": [
      "Training:  44%|████▍     | 22/50 [00:47<00:57,  2.05s/Epochs]"
     ]
    },
    {
     "name": "stdout",
     "output_type": "stream",
     "text": [
      "0.5788236277816939\n",
      "0.5817897524276789\n"
     ]
    },
    {
     "name": "stderr",
     "output_type": "stream",
     "text": [
      "Training:  46%|████▌     | 23/50 [00:49<00:56,  2.09s/Epochs]"
     ]
    },
    {
     "name": "stdout",
     "output_type": "stream",
     "text": [
      "TEST ACCURACY: 0.7910447716712952\n",
      "TEST LOSS: 0.5815468430519104\n"
     ]
    },
    {
     "name": "stderr",
     "output_type": "stream",
     "text": [
      "Training:  48%|████▊     | 24/50 [00:51<00:52,  2.00s/Epochs]"
     ]
    },
    {
     "name": "stdout",
     "output_type": "stream",
     "text": [
      "0.5834958100840993\n",
      "0.5757668596984696\n"
     ]
    },
    {
     "name": "stderr",
     "output_type": "stream",
     "text": [
      "Training:  50%|█████     | 25/50 [00:53<00:51,  2.06s/Epochs]"
     ]
    },
    {
     "name": "stdout",
     "output_type": "stream",
     "text": [
      "TEST ACCURACY: 0.7910447716712952\n",
      "TEST LOSS: 0.5863474607467651\n"
     ]
    },
    {
     "name": "stderr",
     "output_type": "stream",
     "text": [
      "Training:  52%|█████▏    | 26/50 [00:55<00:47,  1.98s/Epochs]"
     ]
    },
    {
     "name": "stdout",
     "output_type": "stream",
     "text": [
      "0.5699480661075481\n",
      "0.5685427774042979\n"
     ]
    },
    {
     "name": "stderr",
     "output_type": "stream",
     "text": [
      "Training:  54%|█████▍    | 27/50 [00:57<00:47,  2.06s/Epochs]"
     ]
    },
    {
     "name": "stdout",
     "output_type": "stream",
     "text": [
      "TEST ACCURACY: 0.7910447716712952\n",
      "TEST LOSS: 0.5797392725944519\n"
     ]
    },
    {
     "name": "stderr",
     "output_type": "stream",
     "text": [
      "Training:  56%|█████▌    | 28/50 [00:59<00:42,  1.95s/Epochs]"
     ]
    },
    {
     "name": "stdout",
     "output_type": "stream",
     "text": [
      "0.5652696022587101\n",
      "0.5633009343686766\n"
     ]
    },
    {
     "name": "stderr",
     "output_type": "stream",
     "text": [
      "Training:  58%|█████▊    | 29/50 [01:01<00:44,  2.14s/Epochs]"
     ]
    },
    {
     "name": "stdout",
     "output_type": "stream",
     "text": [
      "TEST ACCURACY: 0.8059701323509216\n",
      "TEST LOSS: 0.5765560865402222\n"
     ]
    },
    {
     "name": "stderr",
     "output_type": "stream",
     "text": [
      "Training:  60%|██████    | 30/50 [01:03<00:40,  2.02s/Epochs]"
     ]
    },
    {
     "name": "stdout",
     "output_type": "stream",
     "text": [
      "0.5613508013478161\n",
      "0.5596858919972051\n"
     ]
    },
    {
     "name": "stderr",
     "output_type": "stream",
     "text": [
      "Training:  62%|██████▏   | 31/50 [01:05<00:39,  2.09s/Epochs]"
     ]
    },
    {
     "name": "stdout",
     "output_type": "stream",
     "text": [
      "TEST ACCURACY: 0.8059701323509216\n",
      "TEST LOSS: 0.5699300765991211\n"
     ]
    },
    {
     "name": "stderr",
     "output_type": "stream",
     "text": [
      "Training:  64%|██████▍   | 32/50 [01:07<00:35,  1.95s/Epochs]"
     ]
    },
    {
     "name": "stdout",
     "output_type": "stream",
     "text": [
      "0.5581327285209712\n",
      "0.5572958244894543\n"
     ]
    },
    {
     "name": "stderr",
     "output_type": "stream",
     "text": [
      "Training:  66%|██████▌   | 33/50 [01:09<00:34,  2.03s/Epochs]"
     ]
    },
    {
     "name": "stdout",
     "output_type": "stream",
     "text": [
      "TEST ACCURACY: 0.8059701323509216\n",
      "TEST LOSS: 0.5686379671096802\n"
     ]
    },
    {
     "name": "stderr",
     "output_type": "stream",
     "text": [
      "Training:  68%|██████▊   | 34/50 [01:11<00:30,  1.94s/Epochs]"
     ]
    },
    {
     "name": "stdout",
     "output_type": "stream",
     "text": [
      "0.5563840696411412\n",
      "0.5561860745405629\n"
     ]
    },
    {
     "name": "stderr",
     "output_type": "stream",
     "text": [
      "Training:  70%|███████   | 35/50 [01:13<00:30,  2.05s/Epochs]"
     ]
    },
    {
     "name": "stdout",
     "output_type": "stream",
     "text": [
      "TEST ACCURACY: 0.8059701323509216\n",
      "TEST LOSS: 0.5620054602622986\n"
     ]
    },
    {
     "name": "stderr",
     "output_type": "stream",
     "text": [
      "Training:  72%|███████▏  | 36/50 [01:15<00:27,  1.95s/Epochs]"
     ]
    },
    {
     "name": "stdout",
     "output_type": "stream",
     "text": [
      "0.5568724888084579\n",
      "0.5536415067902447\n"
     ]
    },
    {
     "name": "stderr",
     "output_type": "stream",
     "text": [
      "Training:  74%|███████▍  | 37/50 [01:17<00:26,  2.03s/Epochs]"
     ]
    },
    {
     "name": "stdout",
     "output_type": "stream",
     "text": [
      "TEST ACCURACY: 0.8059701323509216\n",
      "TEST LOSS: 0.5611840486526489\n"
     ]
    },
    {
     "name": "stderr",
     "output_type": "stream",
     "text": [
      "Training:  76%|███████▌  | 38/50 [01:19<00:24,  2.00s/Epochs]"
     ]
    },
    {
     "name": "stdout",
     "output_type": "stream",
     "text": [
      "0.5513948104242339\n",
      "0.550981277531951\n"
     ]
    },
    {
     "name": "stderr",
     "output_type": "stream",
     "text": [
      "Training:  78%|███████▊  | 39/50 [01:21<00:22,  2.08s/Epochs]"
     ]
    },
    {
     "name": "stdout",
     "output_type": "stream",
     "text": [
      "TEST ACCURACY: 0.8059701323509216\n",
      "TEST LOSS: 0.557553768157959\n"
     ]
    },
    {
     "name": "stderr",
     "output_type": "stream",
     "text": [
      "Training:  80%|████████  | 40/50 [01:23<00:19,  1.98s/Epochs]"
     ]
    },
    {
     "name": "stdout",
     "output_type": "stream",
     "text": [
      "0.5487376725586661\n",
      "0.5492253183883472\n"
     ]
    },
    {
     "name": "stderr",
     "output_type": "stream",
     "text": [
      "Training:  82%|████████▏ | 41/50 [01:26<00:20,  2.22s/Epochs]"
     ]
    },
    {
     "name": "stdout",
     "output_type": "stream",
     "text": [
      "TEST ACCURACY: 0.8059701323509216\n",
      "TEST LOSS: 0.5667229890823364\n"
     ]
    },
    {
     "name": "stderr",
     "output_type": "stream",
     "text": [
      "Training:  84%|████████▍ | 42/50 [01:28<00:16,  2.07s/Epochs]"
     ]
    },
    {
     "name": "stdout",
     "output_type": "stream",
     "text": [
      "0.5480030068080791\n",
      "0.5467826902431293\n"
     ]
    },
    {
     "name": "stderr",
     "output_type": "stream",
     "text": [
      "Training:  86%|████████▌ | 43/50 [01:30<00:15,  2.23s/Epochs]"
     ]
    },
    {
     "name": "stdout",
     "output_type": "stream",
     "text": [
      "TEST ACCURACY: 0.8059701323509216\n",
      "TEST LOSS: 0.5565277338027954\n"
     ]
    },
    {
     "name": "stderr",
     "output_type": "stream",
     "text": [
      "Training:  88%|████████▊ | 44/50 [01:32<00:12,  2.10s/Epochs]"
     ]
    },
    {
     "name": "stdout",
     "output_type": "stream",
     "text": [
      "0.5463843578404753\n",
      "0.5455934538023315\n"
     ]
    },
    {
     "name": "stderr",
     "output_type": "stream",
     "text": [
      "Training:  90%|█████████ | 45/50 [01:34<00:11,  2.20s/Epochs]"
     ]
    },
    {
     "name": "stdout",
     "output_type": "stream",
     "text": [
      "TEST ACCURACY: 0.8059701323509216\n",
      "TEST LOSS: 0.5545482635498047\n"
     ]
    },
    {
     "name": "stderr",
     "output_type": "stream",
     "text": [
      "Training:  92%|█████████▏| 46/50 [01:36<00:08,  2.09s/Epochs]"
     ]
    },
    {
     "name": "stdout",
     "output_type": "stream",
     "text": [
      "0.5466663017325157\n",
      "0.5461296996060949\n"
     ]
    },
    {
     "name": "stderr",
     "output_type": "stream",
     "text": [
      "Training:  94%|█████████▍| 47/50 [01:39<00:06,  2.22s/Epochs]"
     ]
    },
    {
     "name": "stdout",
     "output_type": "stream",
     "text": [
      "TEST ACCURACY: 0.8059701323509216\n",
      "TEST LOSS: 0.5565930604934692\n"
     ]
    },
    {
     "name": "stderr",
     "output_type": "stream",
     "text": [
      "Training:  96%|█████████▌| 48/50 [01:41<00:04,  2.11s/Epochs]"
     ]
    },
    {
     "name": "stdout",
     "output_type": "stream",
     "text": [
      "0.5447660340879955\n",
      "0.5416888633783716\n"
     ]
    },
    {
     "name": "stderr",
     "output_type": "stream",
     "text": [
      "Training:  98%|█████████▊| 49/50 [01:43<00:02,  2.17s/Epochs]"
     ]
    },
    {
     "name": "stdout",
     "output_type": "stream",
     "text": [
      "TEST ACCURACY: 0.7761194109916687\n",
      "TEST LOSS: 0.5611750483512878\n"
     ]
    },
    {
     "name": "stderr",
     "output_type": "stream",
     "text": [
      "Training: 100%|██████████| 50/50 [01:45<00:00,  2.10s/Epochs]"
     ]
    },
    {
     "name": "stdout",
     "output_type": "stream",
     "text": [
      "0.5389533232163338\n"
     ]
    },
    {
     "name": "stderr",
     "output_type": "stream",
     "text": [
      "\n"
     ]
    }
   ],
   "source": [
    "_, _, META_GNN, _ = train(train_loader, test_loader, args)"
   ]
  },
  {
   "cell_type": "code",
   "execution_count": 21,
   "metadata": {},
   "outputs": [],
   "source": [
    "save(META_GNN, args, 'META_TEST')"
   ]
  },
  {
   "cell_type": "code",
   "execution_count": 4,
   "metadata": {},
   "outputs": [],
   "source": [
    "META_GNN, args = load('META_GNN', device)"
   ]
  },
  {
   "cell_type": "code",
   "execution_count": null,
   "metadata": {},
   "outputs": [],
   "source": [
    "args = {\n",
    "    'processor':         'TEST2',\n",
    "    'head':              'meta',\n",
    "    'num_layers':        4,\n",
    "    'num_mlp_layers':    2,\n",
    "    'aggr':              'max',\n",
    "    'batch_size':        6,\n",
    "    'node_feature_dim':  6,\n",
    "    'edge_feature_dim':  1,\n",
    "    'graph_feature_dim': 2,\n",
    "    'hidden_dim':        8,\n",
    "    'output_dim':        2,\n",
    "    'head_mlp_dim':      8,\n",
    "    'dropout':           0,\n",
    "    'epochs':            200,\n",
    "    'opt':               'adam',\n",
    "    'opt_scheduler':     'none',\n",
    "    'opt_restart':       0,\n",
    "    'weight_decay':      5e-3,\n",
    "    'lr':                0.0005,\n",
    "    'device':            device\n",
    "}\n",
    "\n",
    "train_num = 100; test_num = 20\n",
    "\n",
    "er_config = {\n",
    "    'graph_type': 'ER',\n",
    "    'p': 1,\n",
    "    'weighted': True\n",
    "}\n",
    "ba_config = {\n",
    "    'graph_type': 'BA',\n",
    "    'ba_param': 4,\n",
    "    'weighted': False\n",
    "}\n",
    "geom_config = {\n",
    "    'graph_type': 'GEOM',\n",
    "    'threshold': 0.2,\n",
    "    'scaling': 1 / np.sqrt(2)\n",
    "}\n",
    "\n",
    "\n",
    "rng = np.random.default_rng()\n",
    "\n",
    "train_instances = [\n",
    "    *ig.sample_instances(6, 10, train_num, rng, **er_config),\n",
    "    *ig.sample_instances(6, 10, train_num, rng, **ba_config),\n",
    "    *ig.sample_instances(6, 10, train_num, rng, **geom_config),\n",
    "    *ig.sample_instances(8, 8, train_num, rng, **er_config),\n",
    "    *ig.sample_instances(8, 8, train_num, rng, **ba_config),\n",
    "    *ig.sample_instances(8, 8, 4*train_num, rng, **geom_config),\n",
    "    *ig.sample_instances(10, 6, train_num, rng, **er_config),\n",
    "    *ig.sample_instances(10, 6, train_num, rng, **ba_config),\n",
    "    *ig.sample_instances(10, 6, train_num, rng, **geom_config)\n",
    "]\n",
    "\n",
    "\n",
    "test_instances = [\n",
    "    *ig.sample_instances(6, 10, test_num, rng, **er_config),\n",
    "    *ig.sample_instances(6, 10, test_num, rng, **ba_config),\n",
    "    *ig.sample_instances(6, 10, test_num, rng, **geom_config),\n",
    "    *ig.sample_instances(8, 8, test_num, rng, **er_config),\n",
    "    *ig.sample_instances(8, 8, test_num, rng, **ba_config),\n",
    "    *ig.sample_instances(8, 8, 4*test_num, rng, **geom_config),\n",
    "    *ig.sample_instances(10, 6, test_num, rng, **er_config),\n",
    "    *ig.sample_instances(10, 6, test_num, rng, **ba_config),\n",
    "    *ig.sample_instances(10, 6, test_num, rng, **geom_config)\n",
    "]\n",
    "\n",
    "\n",
    "train_data = Dataset(\n",
    "    tc._instances_to_train_samples(\n",
    "        instances=train_instances,\n",
    "        head=args['head'],\n",
    "        meta_model_type='gnn',\n",
    "        base_models=[GNN1, GNN2]\n",
    "    )\n",
    ")\n",
    "\n",
    "test_data = Dataset(\n",
    "    tc._instances_to_train_samples(\n",
    "        instances=test_instances,\n",
    "        head=args['head'],\n",
    "        meta_model_type='gnn',\n",
    "        base_models=[GNN1, GNN2]\n",
    "    )\n",
    ")"
   ]
  },
  {
   "cell_type": "code",
   "execution_count": null,
   "metadata": {},
   "outputs": [],
   "source": [
    "train_loader = DataLoader(\n",
    "    train_data,\n",
    "    batch_size=args['batch_size'],\n",
    "    shuffle=True,\n",
    "    num_workers=4\n",
    ")\n",
    "\n",
    "test_loader = DataLoader(\n",
    "    test_data,\n",
    "    batch_size=args['batch_size'],\n",
    "    shuffle=True,\n",
    "    num_workers=4\n",
    ")"
   ]
  },
  {
   "cell_type": "code",
   "execution_count": null,
   "metadata": {},
   "outputs": [],
   "source": [
    "_, _, META_GNN, _ = train(train_loader, test_loader, args)"
   ]
  },
  {
   "cell_type": "code",
   "execution_count": null,
   "metadata": {},
   "outputs": [],
   "source": [
    "save(META_GNN, args, 'META_GNN')"
   ]
  },
  {
   "cell_type": "code",
   "execution_count": 5,
   "metadata": {},
   "outputs": [],
   "source": [
    "er_config = {\n",
    "    'graph_type': 'ER',\n",
    "    'p': 1,\n",
    "    'weighted': True\n",
    "}\n",
    "ba_config = {\n",
    "    'graph_type': 'BA',\n",
    "    'ba_param': 4,\n",
    "    'weighted': False\n",
    "}\n",
    "geom_config = {\n",
    "    'graph_type': 'GEOM',\n",
    "    'threshold': 0.2,\n",
    "    'scaling': 1 / np.sqrt(2)\n",
    "}"
   ]
  },
  {
   "cell_type": "code",
   "execution_count": 8,
   "metadata": {},
   "outputs": [
    {
     "name": "stdout",
     "output_type": "stream",
     "text": [
      "-- Competitive ratios --\n",
      "learned: 0.967\n",
      "greedy: 0.9771\n",
      "lp_rounding: 0.9167\n",
      "\n",
      "\n",
      "-- Competitive ratios --\n",
      "learned: 0.9563\n",
      "\n",
      "\n",
      "-- Competitive ratios --\n",
      "learned: 0.96\n"
     ]
    }
   ],
   "source": [
    "seed = np.random.randint(0, 500000)\n",
    "(m, n) = (24, 16)\n",
    "config = er_config\n",
    "\n",
    "rng = np.random.default_rng(seed)\n",
    "eval_instances = ig.sample_instances(m, n, 10, rng, **config)\n",
    "\n",
    "rng = np.random.default_rng(seed)\n",
    "ratios1 = ev.evaluate_model(\n",
    "    meta_model=META_GNN,\n",
    "    meta_model_type='gnn',\n",
    "    base_models=[GNN1, GNN2],\n",
    "    instances=eval_instances,\n",
    "    batch_size=500,\n",
    "    rng=rng,\n",
    "    num_realizations=10,\n",
    "    baselines=['greedy', 'lp_rounding']\n",
    ")\n",
    "\n",
    "pp_output(ratios1)\n",
    "print()\n",
    "print()\n",
    "\n",
    "rng = np.random.default_rng(seed)\n",
    "\n",
    "ratios2 = ev.evaluate_model(\n",
    "    meta_model=None,\n",
    "    meta_model_type=None,\n",
    "    base_models=[GNN1],\n",
    "    instances=eval_instances,\n",
    "    batch_size=500,\n",
    "    rng=rng,\n",
    "    num_realizations=10\n",
    ")\n",
    "\n",
    "pp_output(ratios2)\n",
    "\n",
    "print()\n",
    "print()\n",
    "\n",
    "rng = np.random.default_rng(seed)\n",
    "\n",
    "ratios = ev.evaluate_model(\n",
    "    meta_model=None,\n",
    "    meta_model_type=None,\n",
    "    base_models=[GNN2],\n",
    "    instances=eval_instances,\n",
    "    batch_size=500,\n",
    "    rng=rng,\n",
    "    num_realizations=10\n",
    ")\n",
    "\n",
    "pp_output(ratios)"
   ]
  },
  {
   "cell_type": "code",
   "execution_count": null,
   "metadata": {},
   "outputs": [],
   "source": [
    "print(np.mean(ratios1[0] >= np.max(np.vstack([ratios2[0], ratios[0]]), axis=0)))\n",
    "eq_mask = ratios1[0] == np.max(np.vstack([ratios2[0], ratios[0]]), axis=0)\n",
    "neq_mask = ratios1[0] != np.max(np.vstack([ratios2[0], ratios[0]]), axis=0)\n",
    "diffs = np.abs(ratios2[0] - ratios[0])\n",
    "print(np.mean(diffs[eq_mask]))\n",
    "print(np.mean(diffs[neq_mask]))\n",
    "import matplotlib.pyplot as plt\n",
    "plt.hist(diffs[eq_mask])\n",
    "plt.show()\n",
    "plt.hist(diffs[neq_mask])\n",
    "plt.show()"
   ]
  },
  {
   "cell_type": "markdown",
   "metadata": {},
   "source": [
    "### II. Meta NN training"
   ]
  },
  {
   "cell_type": "code",
   "execution_count": null,
   "metadata": {},
   "outputs": [],
   "source": [
    "train_num = 50; test_num = 20\n",
    "\n",
    "er_config = {\n",
    "    'graph_type': 'ER',\n",
    "    'p': 1,\n",
    "    'weighted': True\n",
    "}\n",
    "ba_config = {\n",
    "    'graph_type': 'BA',\n",
    "    'ba_param': 4,\n",
    "    'weighted': False\n",
    "}\n",
    "geom_config = {\n",
    "    'graph_type': 'GEOM',\n",
    "    'threshold': 0.2,\n",
    "    'scaling': 1 / np.sqrt(2)\n",
    "}\n",
    "\n",
    "args = {\n",
    "    'processor':         'NN',\n",
    "    'head':              'meta',\n",
    "    'num_layers':        5,\n",
    "    'input_dim':         17,\n",
    "    'batch_size':        4,\n",
    "    'hidden_dim':        16,\n",
    "    'output_dim':        2,\n",
    "    'dropout':           0,\n",
    "    'epochs':            50,\n",
    "    'opt':               'adam',\n",
    "    'opt_scheduler':     'none',\n",
    "    'opt_restart':       0,\n",
    "    'weight_decay':      5e-3,\n",
    "    'lr':                0.0001,\n",
    "    'device':            device\n",
    "}\n",
    "\n",
    "\n",
    "rng = np.random.default_rng()\n",
    "\n",
    "train_instances = [\n",
    "    *ig.sample_instances(6, 10, train_num, rng, **er_config),\n",
    "    *ig.sample_instances(6, 10, train_num, rng, **ba_config),\n",
    "    *ig.sample_instances(6, 10, train_num, rng, **geom_config),\n",
    "    *ig.sample_instances(8, 8, train_num, rng, **er_config),\n",
    "    *ig.sample_instances(8, 8, train_num, rng, **ba_config),\n",
    "    *ig.sample_instances(8, 8, train_num, rng, **geom_config),\n",
    "    *ig.sample_instances(10, 6, train_num, rng, **er_config),\n",
    "    *ig.sample_instances(10, 6, train_num, rng, **ba_config),\n",
    "    *ig.sample_instances(10, 6, train_num, rng, **geom_config)\n",
    "]\n",
    "\n",
    "\n",
    "test_instances = [\n",
    "    *ig.sample_instances(6, 10, test_num, rng, **er_config),\n",
    "    *ig.sample_instances(6, 10, test_num, rng, **ba_config),\n",
    "    *ig.sample_instances(6, 10, test_num, rng, **geom_config),\n",
    "    *ig.sample_instances(8, 8, test_num, rng, **er_config),\n",
    "    *ig.sample_instances(8, 8, test_num, rng, **ba_config),\n",
    "    *ig.sample_instances(8, 8, test_num, rng, **geom_config),\n",
    "    *ig.sample_instances(10, 6, test_num, rng, **er_config),\n",
    "    *ig.sample_instances(10, 6, test_num, rng, **ba_config),\n",
    "    *ig.sample_instances(10, 6, test_num, rng, **geom_config)\n",
    "]\n",
    "\n",
    "train_data = NumpyDataset(\n",
    "    tc._instances_to_nn_samples(\n",
    "        instances=train_instances,\n",
    "        base_models=[GNN1, GNN2],\n",
    "        batch_size=100\n",
    "    )\n",
    ")\n",
    "\n",
    "test_data = NumpyDataset(\n",
    "    tc._instances_to_nn_samples(\n",
    "        instances=test_instances,\n",
    "        base_models=[GNN1, GNN2],\n",
    "        batch_size=100\n",
    "    )\n",
    ")\n",
    "\n"
   ]
  },
  {
   "cell_type": "code",
   "execution_count": null,
   "metadata": {},
   "outputs": [],
   "source": [
    "for i, sample in enumerate(train_data):\n",
    "    assert not torch.all(sample[1] == 0)"
   ]
  },
  {
   "cell_type": "code",
   "execution_count": null,
   "metadata": {},
   "outputs": [],
   "source": [
    "args = {\n",
    "    'processor':         'NN',\n",
    "    'head':              'meta',\n",
    "    'num_layers':        2,\n",
    "    'input_dim':         23,\n",
    "    'batch_size':        10,\n",
    "    'hidden_dim':        8,\n",
    "    'output_dim':        2,\n",
    "    'dropout':           0,\n",
    "    'epochs':            100,\n",
    "    'opt':               'adam',\n",
    "    'opt_scheduler':     'none',\n",
    "    'opt_restart':       0,\n",
    "    'weight_decay':      5e-3,\n",
    "    'lr':                0.001,\n",
    "    'device':            device\n",
    "}\n",
    "\n",
    "train_loader = DataLoader(\n",
    "    train_data,\n",
    "    batch_size=args['batch_size'],\n",
    "    shuffle=True,\n",
    "    num_workers=4\n",
    ")\n",
    "\n",
    "test_loader = DataLoader(\n",
    "    test_data,\n",
    "    batch_size=args['batch_size'],\n",
    "    shuffle=True,\n",
    "    num_workers=4\n",
    ")\n",
    "\n",
    "_, _, META_NN, _ = train(train_loader, test_loader, args)"
   ]
  },
  {
   "cell_type": "code",
   "execution_count": null,
   "metadata": {},
   "outputs": [],
   "source": [
    "seed = np.random.randint(0, 50000)\n",
    "(m, n) = (24, 16)\n",
    "config = geom_config\n",
    "\n",
    "rng = np.random.default_rng(seed)\n",
    "eval_instances = ig.sample_instances(m, n, 250, rng, **config)\n",
    "\n",
    "rng = np.random.default_rng(seed)\n",
    "ratios1 = evaluate_model(\n",
    "    meta_model=META_NN,\n",
    "    meta_model_type='nn',\n",
    "    base_models=[GNN1, GNN2],\n",
    "    instances=eval_instances,\n",
    "    batch_size=50,\n",
    "    rng=rng,\n",
    "    num_realizations=5\n",
    ")\n",
    "\n",
    "pp_output(ratios1, _, show_log=False)\n",
    "print()\n",
    "print()\n",
    "\n",
    "rng = np.random.default_rng(seed)\n",
    "\n",
    "ratios2 = evaluate_model(\n",
    "    meta_model=None,\n",
    "    meta_model_type=None,\n",
    "    base_models=[GNN1],\n",
    "    instances=eval_instances,\n",
    "    batch_size=50,\n",
    "    rng=rng,\n",
    "    num_realizations=5\n",
    ")\n",
    "\n",
    "pp_output(ratios2, _, show_log=False)\n",
    "\n",
    "print()\n",
    "print()\n",
    "\n",
    "rng = np.random.default_rng(seed)\n",
    "\n",
    "ratios = evaluate_model(\n",
    "    meta_model=None,\n",
    "    meta_model_type=None,\n",
    "    base_models=[GNN2],\n",
    "    instances=eval_instances,\n",
    "    batch_size=50,\n",
    "    rng=rng,\n",
    "    num_realizations=5\n",
    ")\n",
    "\n",
    "pp_output(ratios, _, show_log=False)"
   ]
  },
  {
   "cell_type": "code",
   "execution_count": null,
   "metadata": {},
   "outputs": [],
   "source": [
    "print(np.mean(ratios1[0] == np.max(np.vstack([ratios2[0], ratios[0]]), axis=0)))\n",
    "eq_mask = ratios1[0] == np.max(np.vstack([ratios2[0], ratios[0]]), axis=0)\n",
    "neq_mask = ratios1[0] != np.max(np.vstack([ratios2[0], ratios[0]]), axis=0)\n",
    "diffs = np.abs(ratios2[0] - ratios[0])\n",
    "import matplotlib.pyplot as plt\n",
    "plt.hist(diffs[eq_mask])\n",
    "plt.show()\n",
    "plt.hist(diffs[neq_mask])\n",
    "plt.show()"
   ]
  },
  {
   "cell_type": "code",
   "execution_count": 16,
   "metadata": {},
   "outputs": [
    {
     "name": "stdout",
     "output_type": "stream",
     "text": [
      "[0.25, 0.5, 0.75, 1.0, 1.25, 1.5, 1.75, 2.0, 2.25, 2.5]\n",
      "{'graph_type': 'ER', 'p': 0.75, 'weighted': True} (4, 16)\n",
      "{'graph_type': 'ER', 'p': 0.75, 'weighted': True} (8, 16)\n",
      "{'graph_type': 'ER', 'p': 0.75, 'weighted': True} (12, 16)\n",
      "{'graph_type': 'ER', 'p': 0.75, 'weighted': True} (16, 16)\n",
      "{'graph_type': 'ER', 'p': 0.75, 'weighted': True} (20, 16)\n"
     ]
    },
    {
     "name": "stderr",
     "output_type": "stream",
     "text": [
      "/home/wikum/GNN-OBM/algorithms.py:255: RuntimeWarning: invalid value encountered in divide\n",
      "  proposal_probs = x / denom_matrix\n"
     ]
    },
    {
     "name": "stdout",
     "output_type": "stream",
     "text": [
      "{'graph_type': 'ER', 'p': 0.75, 'weighted': True} (24, 16)\n",
      "{'graph_type': 'ER', 'p': 0.75, 'weighted': True} (28, 16)\n",
      "{'graph_type': 'ER', 'p': 0.75, 'weighted': True} (32, 16)\n",
      "{'graph_type': 'ER', 'p': 0.75, 'weighted': True} (36, 16)\n",
      "{'graph_type': 'ER', 'p': 0.75, 'weighted': True} (40, 16)\n",
      "{'graph_type': 'BA', 'ba_param': 4, 'weighted': True} (4, 16)\n",
      "{'graph_type': 'BA', 'ba_param': 4, 'weighted': True} (8, 16)\n",
      "{'graph_type': 'BA', 'ba_param': 4, 'weighted': True} (12, 16)\n",
      "{'graph_type': 'BA', 'ba_param': 4, 'weighted': True} (16, 16)\n",
      "{'graph_type': 'BA', 'ba_param': 4, 'weighted': True} (20, 16)\n",
      "{'graph_type': 'BA', 'ba_param': 4, 'weighted': True} (24, 16)\n",
      "{'graph_type': 'BA', 'ba_param': 4, 'weighted': True} (28, 16)\n",
      "{'graph_type': 'BA', 'ba_param': 4, 'weighted': True} (32, 16)\n",
      "{'graph_type': 'BA', 'ba_param': 4, 'weighted': True} (36, 16)\n",
      "{'graph_type': 'BA', 'ba_param': 4, 'weighted': True} (40, 16)\n",
      "{'graph_type': 'GEOM', 'threshold': 0.2, 'scaling': 0.7071067811865475} (4, 16)\n",
      "{'graph_type': 'GEOM', 'threshold': 0.2, 'scaling': 0.7071067811865475} (8, 16)\n",
      "{'graph_type': 'GEOM', 'threshold': 0.2, 'scaling': 0.7071067811865475} (12, 16)\n",
      "{'graph_type': 'GEOM', 'threshold': 0.2, 'scaling': 0.7071067811865475} (16, 16)\n",
      "{'graph_type': 'GEOM', 'threshold': 0.2, 'scaling': 0.7071067811865475} (20, 16)\n",
      "{'graph_type': 'GEOM', 'threshold': 0.2, 'scaling': 0.7071067811865475} (24, 16)\n",
      "{'graph_type': 'GEOM', 'threshold': 0.2, 'scaling': 0.7071067811865475} (28, 16)\n",
      "{'graph_type': 'GEOM', 'threshold': 0.2, 'scaling': 0.7071067811865475} (32, 16)\n",
      "{'graph_type': 'GEOM', 'threshold': 0.2, 'scaling': 0.7071067811865475} (36, 16)\n",
      "{'graph_type': 'GEOM', 'threshold': 0.2, 'scaling': 0.7071067811865475} (40, 16)\n"
     ]
    }
   ],
   "source": [
    "num_trials = 50\n",
    "node_configs = [(x, 16) for x in np.arange(4, 44, 4)]\n",
    "# of nodes [20 -> 80]\n",
    "# of nodes in batch [10,000 -> 40,000]\n",
    "batch_size = 500 #[int(min(32, x + y)) for (x, y) in node_configs]\n",
    "graph_configs = [\n",
    "    # {\n",
    "    #     'graph_type': 'GM'\n",
    "    # },\n",
    "    {\n",
    "        'graph_type': 'ER',\n",
    "        'p': 0.75,\n",
    "        'weighted': True\n",
    "    },\n",
    "    {\n",
    "        'graph_type': 'BA',\n",
    "        'ba_param': 4,\n",
    "        'weighted': True\n",
    "    },\n",
    "    {\n",
    "        'graph_type': 'GEOM',\n",
    "        'threshold': 0.2,\n",
    "        'scaling': 1 / np.sqrt(2),\n",
    "    }\n",
    "]\n",
    "\n",
    "ratios = [x/y for (x,y) in node_configs]\n",
    "print(ratios)\n",
    "data = {config['graph_type']: [] for config in graph_configs}\n",
    "for graph_config in graph_configs:\n",
    "    for i, node_config in enumerate(node_configs):\n",
    "        print(graph_config, node_config)\n",
    "        seed = np.random.randint(0, 500000)\n",
    "        rng = np.random.default_rng(seed)\n",
    "        instances = ig.sample_instances(*node_config, num_trials, rng, **graph_config)\n",
    "\n",
    "        rng = np.random.default_rng(seed)\n",
    "        (meta_learned_ratios,  greedy_ratios, lp_match_ratios) = evaluate_model(\n",
    "            meta_model=META_GNN,\n",
    "            meta_model_type='gnn',\n",
    "            base_models=[GNN1, GNN2],\n",
    "            instances=instances,\n",
    "            batch_size=batch_size,\n",
    "            rng=rng,\n",
    "            num_realizations=5\n",
    "        )\n",
    "\n",
    "        # rng = np.random.default_rng(seed)\n",
    "        # gnn1_learned_ratios, greedy_ratios, lp_match_ratios = evaluate_model(\n",
    "        #     meta_model=None,\n",
    "        #     meta_model_type=None,\n",
    "        #     base_models=[GNN1],\n",
    "        #     instances=instances,\n",
    "        #     batch_size=batch_size,\n",
    "        #     rng=rng,\n",
    "        #     num_realizations=5\n",
    "        # )\n",
    "\n",
    "        # rng = np.random.default_rng(seed)\n",
    "        # gnn2_learned_ratios, _, _ = evaluate_model(\n",
    "        #     meta_model=None,\n",
    "        #     meta_model_type=None,\n",
    "        #     base_models=[GNN2],\n",
    "        #     instances=instances,\n",
    "        #     batch_size=batch_size,\n",
    "        #     rng=rng,\n",
    "        #     num_realizations=5\n",
    "        # )\n",
    "\n",
    "\n",
    "        data[graph_config['graph_type']].append(np.array(\n",
    "            [\n",
    "                meta_learned_ratios,\n",
    "                # gnn1_learned_ratios,\n",
    "                # gnn2_learned_ratios,\n",
    "                greedy_ratios,\n",
    "                lp_match_ratios\n",
    "            ]\n",
    "        ))"
   ]
  },
  {
   "cell_type": "code",
   "execution_count": 17,
   "metadata": {},
   "outputs": [
    {
     "name": "stdout",
     "output_type": "stream",
     "text": [
      "ER\n"
     ]
    },
    {
     "data": {
      "image/png": "[encoded data removed]",
      "text/plain": [
       "<Figure size 576x432 with 1 Axes>"
      ]
     },
     "metadata": {
      "needs_background": "light"
     },
     "output_type": "display_data"
    },
    {
     "name": "stdout",
     "output_type": "stream",
     "text": [
      "BA\n"
     ]
    },
    {
     "data": {
      "image/png": "[encoded data removed]",
      "text/plain": [
       "<Figure size 576x432 with 1 Axes>"
      ]
     },
     "metadata": {
      "needs_background": "light"
     },
     "output_type": "display_data"
    },
    {
     "name": "stdout",
     "output_type": "stream",
     "text": [
      "GEOM\n"
     ]
    },
    {
     "data": {
      "image/png": "[encoded data removed]",
      "text/plain": [
       "<Figure size 576x432 with 1 Axes>"
      ]
     },
     "metadata": {
      "needs_background": "light"
     },
     "output_type": "display_data"
    }
   ],
   "source": [
    "import matplotlib.pyplot as plt\n",
    "ratios = [x/y for (x,y) in node_configs]\n",
    "for graph_type, comp_ratios in data.items():\n",
    "    greedy_avg_ratios = []\n",
    "    meta_avg_ratios = []\n",
    "    # gnn1_avg_ratios = []\n",
    "    # gnn2_avg_ratios = []\n",
    "    lp_match_avg_ratios = []\n",
    "    max_avg_ratios = []\n",
    "\n",
    "    for trial_ratios in comp_ratios:\n",
    "        meta_avg_ratios.append(np.array(trial_ratios[0]).mean())\n",
    "        # gnn1_avg_ratios.append(np.array(trial_ratios[1]).mean())\n",
    "        # gnn2_avg_ratios.append(np.array(trial_ratios[2]).mean())\n",
    "        lp_match_avg_ratios.append(np.array(trial_ratios[2]).mean())\n",
    "        greedy_avg_ratios.append(np.array(trial_ratios[1]).mean())\n",
    "        #max_avg_ratios.append(np.array(np.max(trial_ratios[1:3, :], axis=0)).mean())\n",
    "\n",
    "    print(graph_type)\n",
    "    fig = plt.figure(figsize=(8,6))\n",
    "    plt.title(graph_type)\n",
    "    # plt.plot(ratios, gnn1_avg_ratios, label='GNN1')\n",
    "    # plt.plot(ratios, gnn2_avg_ratios, label='GNN2')\n",
    "    plt.plot(ratios, lp_match_avg_ratios, label='LP ROUNDING')\n",
    "    plt.plot(ratios, greedy_avg_ratios, label='Greedy')\n",
    "    #plt.plot(ratios, max_avg_ratios, label='MAX')\n",
    "    plt.plot(ratios, meta_avg_ratios, label='GNN')\n",
    "    plt.xlabel('# online / # offline')\n",
    "    plt.ylabel('Average competitive ratio')\n",
    "    plt.legend()\n",
    "    plt.show()\n"
   ]
  },
  {
   "cell_type": "code",
   "execution_count": null,
   "metadata": {},
   "outputs": [],
   "source": []
  },
  {
   "cell_type": "code",
   "execution_count": null,
   "metadata": {},
   "outputs": [],
   "source": [
    "comp = np.vstack([gnn1_learned_ratios, gnn2_learned_ratios, greedy_ratios]).T\n",
    "comp[:10]"
   ]
  },
  {
   "cell_type": "code",
   "execution_count": null,
   "metadata": {},
   "outputs": [],
   "source": [
    "print(np.max(comp[:2, :], axis=1).mean())\n",
    "print(comp.mean(axis=0))"
   ]
  },
  {
   "cell_type": "code",
   "execution_count": null,
   "metadata": {},
   "outputs": [],
   "source": [
    "index1 = np.argmax(comp[:, 0] - comp[:, 1])\n",
    "index2 = np.argmax(comp[:, 1] - comp[:, 0])"
   ]
  },
  {
   "cell_type": "code",
   "execution_count": null,
   "metadata": {},
   "outputs": [],
   "source": [
    "tc._featurize(instances[index1])"
   ]
  },
  {
   "cell_type": "code",
   "execution_count": null,
   "metadata": {},
   "outputs": [],
   "source": [
    "tc._featurize(instances[index2])"
   ]
  },
  {
   "cell_type": "code",
   "execution_count": null,
   "metadata": {},
   "outputs": [],
   "source": [
    "GNN2_features = []\n",
    "GNN1_features = []\n",
    "for i, boolean in enumerate(comp[:, 1] > comp[:, 0]):\n",
    "    if boolean:\n",
    "        GNN2_features.append(tc._featurize(instances[i]))\n",
    "    else:\n",
    "        GNN1_features.append(tc._featurize(instances[i]))\n",
    "\n",
    "out1 = np.vstack(GNN1_features)\n",
    "out2 = np.vstack(GNN2_features)\n"
   ]
  },
  {
   "cell_type": "code",
   "execution_count": null,
   "metadata": {},
   "outputs": [],
   "source": [
    "out1.mean(axis=0)"
   ]
  },
  {
   "cell_type": "code",
   "execution_count": null,
   "metadata": {},
   "outputs": [],
   "source": [
    "out2.mean(axis=0)"
   ]
  }
 ],
 "metadata": {
  "kernelspec": {
   "display_name": "Python 3",
   "language": "python",
   "name": "python3"
  },
  "language_info": {
   "codemirror_mode": {
    "name": "ipython",
    "version": 3
   },
   "file_extension": ".py",
   "mimetype": "text/x-python",
   "name": "python",
   "nbconvert_exporter": "python",
   "pygments_lexer": "ipython3",
   "version": "3.10.12"
  },
  "orig_nbformat": 4
 },
 "nbformat": 4,
 "nbformat_minor": 2
}
