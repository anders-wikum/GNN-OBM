{
 "cells": [
  {
   "cell_type": "code",
   "execution_count": 1,
   "metadata": {},
   "outputs": [],
   "source": [
    "import torch\n",
    "import numpy as np\n",
    "import os\n",
    "os.chdir('..')\n",
    "\n",
    "import torch_converter as tc\n",
    "import instance_generator as ig\n",
    "from torch_geometric.loader import DataLoader\n",
    "from gnn_library.util import train, save, load\n",
    "from util import NumpyDataset, Dataset\n",
    "from evaluate import evaluate_model, pp_output\n",
    "import evaluate as ev\n",
    "from gnn_library.node_selectors import TorchNodeSelector, GreedyNodeSelector\n",
    "\n",
    "%load_ext autoreload\n",
    "%autoreload 2"
   ]
  },
  {
   "cell_type": "code",
   "execution_count": 2,
   "metadata": {},
   "outputs": [
    {
     "name": "stdout",
     "output_type": "stream",
     "text": [
      "PyTorch has version 2.0.0+cu117\n",
      "Using device: cuda:2\n"
     ]
    }
   ],
   "source": [
    "device = torch.device('cuda:2' if torch.cuda.is_available() else 'cpu')\n",
    "print(\"PyTorch has version {}\".format(torch.__version__))\n",
    "print('Using device:', device)"
   ]
  },
  {
   "cell_type": "code",
   "execution_count": 3,
   "metadata": {},
   "outputs": [],
   "source": [
    "GNN1, args1 = load('GNN1', device)\n",
    "GNN2, args2 = load('GNN2', device)"
   ]
  },
  {
   "cell_type": "markdown",
   "metadata": {},
   "source": [
    "### I. Meta GNN training/evaluation"
   ]
  },
  {
   "cell_type": "code",
   "execution_count": 42,
   "metadata": {},
   "outputs": [],
   "source": [
    "selector1 = TorchNodeSelector(GNN1)\n",
    "selector2 = TorchNodeSelector(GNN2)\n",
    "selector3 = GreedyNodeSelector()\n",
    "\n",
    "args = {\n",
    "    'processor':         'GENConv',\n",
    "    'head':              'meta',\n",
    "    'num_layers':        2,\n",
    "    'num_mlp_layers':    2,\n",
    "    'aggr':              'max',\n",
    "    'batch_size':        32,\n",
    "    'node_feature_dim':  4,\n",
    "    'edge_feature_dim':  1,\n",
    "    'graph_feature_dim': 2,\n",
    "    'hidden_dim':        4,\n",
    "    'output_dim':        3,\n",
    "    'dropout':           0.25,\n",
    "    'epochs':            25,\n",
    "    'opt':               'adam',\n",
    "    'opt_scheduler':     'none',\n",
    "    'opt_restart':       0,\n",
    "    'weight_decay':      5e-3,\n",
    "    'lr':                0.0001,\n",
    "    'device':            device\n",
    "}\n",
    "\n",
    "train_num = 50; test_num = 10\n",
    "\n",
    "er_config = {\n",
    "    'graph_type': 'ER',\n",
    "    'p': 1,\n",
    "    'weighted': True\n",
    "}\n",
    "ba_config = {\n",
    "    'graph_type': 'BA',\n",
    "    'ba_param': 4,\n",
    "    'weighted': False\n",
    "}\n",
    "geom_config = {\n",
    "    'graph_type': 'GEOM',\n",
    "    'threshold': 0.2,\n",
    "    'scaling': 1 / np.sqrt(2)\n",
    "}\n",
    "\n",
    "rng = np.random.default_rng()\n",
    "\n",
    "train_instances = [\n",
    "    *ig.sample_instances(6, 10, train_num, rng, **er_config),\n",
    "    *ig.sample_instances(6, 10, train_num, rng, **ba_config),\n",
    "    *ig.sample_instances(6, 10, train_num, rng, **geom_config),\n",
    "    *ig.sample_instances(8, 8, train_num, rng, **er_config),\n",
    "    *ig.sample_instances(8, 8, train_num, rng, **ba_config),\n",
    "    *ig.sample_instances(8, 8, train_num, rng, **geom_config),\n",
    "    *ig.sample_instances(10, 6, train_num, rng, **er_config),\n",
    "    *ig.sample_instances(10, 6, train_num, rng, **ba_config),\n",
    "    *ig.sample_instances(10, 6, train_num, rng, **geom_config)\n",
    "]\n",
    "\n",
    "\n",
    "test_instances = [\n",
    "    *ig.sample_instances(6, 10, test_num, rng, **er_config),\n",
    "    *ig.sample_instances(6, 10, test_num, rng, **ba_config),\n",
    "    *ig.sample_instances(6, 10, test_num, rng, **geom_config),\n",
    "    *ig.sample_instances(8, 8, test_num, rng, **er_config),\n",
    "    *ig.sample_instances(8, 8, test_num, rng, **ba_config),\n",
    "    *ig.sample_instances(8, 8, test_num, rng, **geom_config),\n",
    "    *ig.sample_instances(10, 6, test_num, rng, **er_config),\n",
    "    *ig.sample_instances(10, 6, test_num, rng, **ba_config),\n",
    "    *ig.sample_instances(10, 6, test_num, rng, **geom_config)\n",
    "]\n",
    "\n",
    "train_data = Dataset(\n",
    "    tc._instances_to_train_samples(\n",
    "        instances=train_instances,\n",
    "        head=args['head'],\n",
    "        meta_model_type='gnn',\n",
    "        base_models=[selector1, selector2, selector3]\n",
    "    )\n",
    ")\n",
    "\n",
    "test_data = Dataset(\n",
    "    tc._instances_to_train_samples(\n",
    "        instances=test_instances,\n",
    "        head=args['head'],\n",
    "        meta_model_type='gnn',\n",
    "        base_models=[selector1, selector2, selector3]\n",
    "    )\n",
    ")\n",
    "\n",
    "train_loader = DataLoader(\n",
    "    train_data,\n",
    "    batch_size=args['batch_size'],\n",
    "    shuffle=True,\n",
    "    num_workers=4\n",
    ")\n",
    "\n",
    "test_loader = DataLoader(\n",
    "    test_data,\n",
    "    batch_size=args['batch_size'],\n",
    "    shuffle=True,\n",
    "    num_workers=4\n",
    ")"
   ]
  },
  {
   "cell_type": "code",
   "execution_count": 44,
   "metadata": {},
   "outputs": [
    {
     "name": "stderr",
     "output_type": "stream",
     "text": [
      "Training:   0%|          | 0/100 [00:00<?, ?Epochs/s]"
     ]
    },
    {
     "name": "stdout",
     "output_type": "stream",
     "text": [
      "0.8808706794053983\n"
     ]
    },
    {
     "name": "stderr",
     "output_type": "stream",
     "text": [
      "Training:   1%|          | 1/100 [00:03<05:37,  3.41s/Epochs]"
     ]
    },
    {
     "name": "stdout",
     "output_type": "stream",
     "text": [
      "TEST LOSS: 0.8740912079811096\n"
     ]
    },
    {
     "name": "stderr",
     "output_type": "stream",
     "text": [
      "Training:   2%|▏         | 2/100 [00:05<04:43,  2.89s/Epochs]"
     ]
    },
    {
     "name": "stdout",
     "output_type": "stream",
     "text": [
      "0.8521308103040286\n",
      "0.8224346090817137\n"
     ]
    },
    {
     "name": "stderr",
     "output_type": "stream",
     "text": [
      "Training:   3%|▎         | 3/100 [00:09<04:56,  3.05s/Epochs]"
     ]
    },
    {
     "name": "stdout",
     "output_type": "stream",
     "text": [
      "TEST LOSS: 0.82154780626297\n"
     ]
    },
    {
     "name": "stderr",
     "output_type": "stream",
     "text": [
      "Training:   4%|▍         | 4/100 [00:11<04:29,  2.80s/Epochs]"
     ]
    },
    {
     "name": "stdout",
     "output_type": "stream",
     "text": [
      "0.7874601055718696\n",
      "0.7468724908033764\n"
     ]
    },
    {
     "name": "stderr",
     "output_type": "stream",
     "text": [
      "Training:   5%|▌         | 5/100 [00:14<04:40,  2.96s/Epochs]"
     ]
    },
    {
     "name": "stdout",
     "output_type": "stream",
     "text": [
      "TEST LOSS: 0.7339855432510376\n"
     ]
    },
    {
     "name": "stderr",
     "output_type": "stream",
     "text": [
      "Training:   6%|▌         | 6/100 [00:17<04:22,  2.79s/Epochs]"
     ]
    },
    {
     "name": "stdout",
     "output_type": "stream",
     "text": [
      "0.7154989704521675\n",
      "0.6844416369772235\n"
     ]
    },
    {
     "name": "stderr",
     "output_type": "stream",
     "text": [
      "Training:   7%|▋         | 7/100 [00:20<04:32,  2.93s/Epochs]"
     ]
    },
    {
     "name": "stdout",
     "output_type": "stream",
     "text": [
      "TEST LOSS: 0.6775308847427368\n"
     ]
    },
    {
     "name": "stderr",
     "output_type": "stream",
     "text": [
      "Training:   8%|▊         | 8/100 [00:23<04:18,  2.81s/Epochs]"
     ]
    },
    {
     "name": "stdout",
     "output_type": "stream",
     "text": [
      "0.6549320909241172\n",
      "0.627800650202786\n"
     ]
    },
    {
     "name": "stderr",
     "output_type": "stream",
     "text": [
      "Training:   9%|▉         | 9/100 [00:26<04:26,  2.93s/Epochs]"
     ]
    },
    {
     "name": "stdout",
     "output_type": "stream",
     "text": [
      "TEST LOSS: 0.6171528697013855\n"
     ]
    },
    {
     "name": "stderr",
     "output_type": "stream",
     "text": [
      "Training:  10%|█         | 10/100 [00:28<04:09,  2.77s/Epochs]"
     ]
    },
    {
     "name": "stdout",
     "output_type": "stream",
     "text": [
      "0.5975265994489906\n",
      "0.5699025488981176\n"
     ]
    },
    {
     "name": "stderr",
     "output_type": "stream",
     "text": [
      "Training:  11%|█         | 11/100 [00:31<04:14,  2.86s/Epochs]"
     ]
    },
    {
     "name": "stdout",
     "output_type": "stream",
     "text": [
      "TEST LOSS: 0.5619569420814514\n"
     ]
    },
    {
     "name": "stderr",
     "output_type": "stream",
     "text": [
      "Training:  12%|█▏        | 12/100 [00:34<03:59,  2.73s/Epochs]"
     ]
    },
    {
     "name": "stdout",
     "output_type": "stream",
     "text": [
      "0.5429034358769007\n",
      "0.5200816534466441\n"
     ]
    },
    {
     "name": "stderr",
     "output_type": "stream",
     "text": [
      "Training:  13%|█▎        | 13/100 [00:37<04:10,  2.88s/Epochs]"
     ]
    },
    {
     "name": "stdout",
     "output_type": "stream",
     "text": [
      "TEST LOSS: 0.5158018469810486\n"
     ]
    },
    {
     "name": "stderr",
     "output_type": "stream",
     "text": [
      "Training:  14%|█▍        | 14/100 [00:39<03:54,  2.73s/Epochs]"
     ]
    },
    {
     "name": "stdout",
     "output_type": "stream",
     "text": [
      "0.49883973089749195\n",
      "0.4778906063017142\n"
     ]
    },
    {
     "name": "stderr",
     "output_type": "stream",
     "text": [
      "Training:  15%|█▌        | 15/100 [00:43<04:09,  2.93s/Epochs]"
     ]
    },
    {
     "name": "stdout",
     "output_type": "stream",
     "text": [
      "TEST LOSS: 0.4788520932197571\n"
     ]
    },
    {
     "name": "stderr",
     "output_type": "stream",
     "text": [
      "Training:  16%|█▌        | 16/100 [00:45<03:53,  2.79s/Epochs]"
     ]
    },
    {
     "name": "stdout",
     "output_type": "stream",
     "text": [
      "0.45694838706752183\n",
      "0.4423642984808058\n"
     ]
    },
    {
     "name": "stderr",
     "output_type": "stream",
     "text": [
      "Training:  17%|█▋        | 17/100 [00:49<04:09,  3.00s/Epochs]"
     ]
    },
    {
     "name": "stdout",
     "output_type": "stream",
     "text": [
      "TEST LOSS: 0.43931883573532104\n"
     ]
    },
    {
     "name": "stderr",
     "output_type": "stream",
     "text": [
      "Training:  18%|█▊        | 18/100 [00:51<03:57,  2.90s/Epochs]"
     ]
    },
    {
     "name": "stdout",
     "output_type": "stream",
     "text": [
      "0.4264274406498866\n",
      "0.41191134641333443\n"
     ]
    },
    {
     "name": "stderr",
     "output_type": "stream",
     "text": [
      "Training:  19%|█▉        | 19/100 [00:55<04:03,  3.01s/Epochs]"
     ]
    },
    {
     "name": "stdout",
     "output_type": "stream",
     "text": [
      "TEST LOSS: 0.40458691120147705\n"
     ]
    },
    {
     "name": "stderr",
     "output_type": "stream",
     "text": [
      "Training:  20%|██        | 20/100 [00:57<03:49,  2.86s/Epochs]"
     ]
    },
    {
     "name": "stdout",
     "output_type": "stream",
     "text": [
      "0.40094488608007817\n",
      "0.38691737379283947\n"
     ]
    },
    {
     "name": "stderr",
     "output_type": "stream",
     "text": [
      "Training:  21%|██        | 21/100 [01:00<03:54,  2.97s/Epochs]"
     ]
    },
    {
     "name": "stdout",
     "output_type": "stream",
     "text": [
      "TEST LOSS: 0.3799213469028473\n"
     ]
    },
    {
     "name": "stderr",
     "output_type": "stream",
     "text": [
      "Training:  22%|██▏       | 22/100 [01:03<03:43,  2.86s/Epochs]"
     ]
    },
    {
     "name": "stdout",
     "output_type": "stream",
     "text": [
      "0.37527792010978067\n",
      "0.3677008304627366\n"
     ]
    },
    {
     "name": "stderr",
     "output_type": "stream",
     "text": [
      "Training:  23%|██▎       | 23/100 [01:06<03:45,  2.93s/Epochs]"
     ]
    },
    {
     "name": "stdout",
     "output_type": "stream",
     "text": [
      "TEST LOSS: 0.3592424690723419\n"
     ]
    },
    {
     "name": "stderr",
     "output_type": "stream",
     "text": [
      "Training:  24%|██▍       | 24/100 [01:08<03:31,  2.79s/Epochs]"
     ]
    },
    {
     "name": "stdout",
     "output_type": "stream",
     "text": [
      "0.3582394775111654\n",
      "0.3541028673868767\n"
     ]
    },
    {
     "name": "stderr",
     "output_type": "stream",
     "text": [
      "Training:  25%|██▌       | 25/100 [01:12<03:43,  2.98s/Epochs]"
     ]
    },
    {
     "name": "stdout",
     "output_type": "stream",
     "text": [
      "TEST LOSS: 0.3435453176498413\n"
     ]
    },
    {
     "name": "stderr",
     "output_type": "stream",
     "text": [
      "Training:  26%|██▌       | 26/100 [01:14<03:30,  2.85s/Epochs]"
     ]
    },
    {
     "name": "stdout",
     "output_type": "stream",
     "text": [
      "0.34543745325198394\n",
      "0.34166671610156196\n"
     ]
    },
    {
     "name": "stderr",
     "output_type": "stream",
     "text": [
      "Training:  27%|██▋       | 27/100 [01:18<03:37,  2.98s/Epochs]"
     ]
    },
    {
     "name": "stdout",
     "output_type": "stream",
     "text": [
      "TEST LOSS: 0.32805803418159485\n"
     ]
    },
    {
     "name": "stderr",
     "output_type": "stream",
     "text": [
      "Training:  28%|██▊       | 28/100 [01:20<03:25,  2.85s/Epochs]"
     ]
    },
    {
     "name": "stdout",
     "output_type": "stream",
     "text": [
      "0.3350738065121476\n",
      "0.3325366931680591\n"
     ]
    },
    {
     "name": "stderr",
     "output_type": "stream",
     "text": [
      "Training:  29%|██▉       | 29/100 [01:23<03:28,  2.94s/Epochs]"
     ]
    },
    {
     "name": "stdout",
     "output_type": "stream",
     "text": [
      "TEST LOSS: 0.31904906034469604\n"
     ]
    },
    {
     "name": "stderr",
     "output_type": "stream",
     "text": [
      "Training:  30%|███       | 30/100 [01:26<03:18,  2.84s/Epochs]"
     ]
    },
    {
     "name": "stdout",
     "output_type": "stream",
     "text": [
      "0.3236217804657255\n",
      "0.32607000197620434\n"
     ]
    },
    {
     "name": "stderr",
     "output_type": "stream",
     "text": [
      "Training:  31%|███       | 31/100 [01:29<03:19,  2.89s/Epochs]"
     ]
    },
    {
     "name": "stdout",
     "output_type": "stream",
     "text": [
      "TEST LOSS: 0.3115678131580353\n"
     ]
    },
    {
     "name": "stderr",
     "output_type": "stream",
     "text": [
      "Training:  32%|███▏      | 32/100 [01:31<03:06,  2.74s/Epochs]"
     ]
    },
    {
     "name": "stdout",
     "output_type": "stream",
     "text": [
      "0.3196996003115356\n",
      "0.3140400384709472\n"
     ]
    },
    {
     "name": "stderr",
     "output_type": "stream",
     "text": [
      "Training:  33%|███▎      | 33/100 [01:34<03:09,  2.82s/Epochs]"
     ]
    },
    {
     "name": "stdout",
     "output_type": "stream",
     "text": [
      "TEST LOSS: 0.30622389912605286\n"
     ]
    },
    {
     "name": "stderr",
     "output_type": "stream",
     "text": [
      "Training:  34%|███▍      | 34/100 [01:37<02:56,  2.67s/Epochs]"
     ]
    },
    {
     "name": "stdout",
     "output_type": "stream",
     "text": [
      "0.3126940115112634\n",
      "0.30766985278863174\n"
     ]
    },
    {
     "name": "stderr",
     "output_type": "stream",
     "text": [
      "Training:  35%|███▌      | 35/100 [01:40<02:59,  2.76s/Epochs]"
     ]
    },
    {
     "name": "stdout",
     "output_type": "stream",
     "text": [
      "TEST LOSS: 0.3024502992630005\n"
     ]
    },
    {
     "name": "stderr",
     "output_type": "stream",
     "text": [
      "Training:  36%|███▌      | 36/100 [01:42<02:53,  2.70s/Epochs]"
     ]
    },
    {
     "name": "stdout",
     "output_type": "stream",
     "text": [
      "0.30759946129693233\n",
      "0.3054553303402916\n"
     ]
    },
    {
     "name": "stderr",
     "output_type": "stream",
     "text": [
      "Training:  37%|███▋      | 37/100 [01:46<03:02,  2.89s/Epochs]"
     ]
    },
    {
     "name": "stdout",
     "output_type": "stream",
     "text": [
      "TEST LOSS: 0.29933539032936096\n"
     ]
    },
    {
     "name": "stderr",
     "output_type": "stream",
     "text": [
      "Training:  38%|███▊      | 38/100 [01:48<02:54,  2.81s/Epochs]"
     ]
    },
    {
     "name": "stdout",
     "output_type": "stream",
     "text": [
      "0.303616850125143\n",
      "0.30720825707514227\n"
     ]
    },
    {
     "name": "stderr",
     "output_type": "stream",
     "text": [
      "Training:  39%|███▉      | 39/100 [01:51<02:55,  2.88s/Epochs]"
     ]
    },
    {
     "name": "stdout",
     "output_type": "stream",
     "text": [
      "TEST LOSS: 0.2962135672569275\n"
     ]
    },
    {
     "name": "stderr",
     "output_type": "stream",
     "text": [
      "Training:  40%|████      | 40/100 [01:54<02:44,  2.75s/Epochs]"
     ]
    },
    {
     "name": "stdout",
     "output_type": "stream",
     "text": [
      "0.3013032771968929\n",
      "0.2960059999451475\n"
     ]
    },
    {
     "name": "stderr",
     "output_type": "stream",
     "text": [
      "Training:  41%|████      | 41/100 [01:57<02:49,  2.88s/Epochs]"
     ]
    },
    {
     "name": "stdout",
     "output_type": "stream",
     "text": [
      "TEST LOSS: 0.29485300183296204\n"
     ]
    },
    {
     "name": "stderr",
     "output_type": "stream",
     "text": [
      "Training:  42%|████▏     | 42/100 [01:59<02:40,  2.76s/Epochs]"
     ]
    },
    {
     "name": "stdout",
     "output_type": "stream",
     "text": [
      "0.2968004505271894\n",
      "0.29492870164984325\n"
     ]
    },
    {
     "name": "stderr",
     "output_type": "stream",
     "text": [
      "Training:  43%|████▎     | 43/100 [02:02<02:41,  2.84s/Epochs]"
     ]
    },
    {
     "name": "stdout",
     "output_type": "stream",
     "text": [
      "TEST LOSS: 0.29249200224876404\n"
     ]
    },
    {
     "name": "stderr",
     "output_type": "stream",
     "text": [
      "Training:  44%|████▍     | 44/100 [02:05<02:31,  2.71s/Epochs]"
     ]
    },
    {
     "name": "stdout",
     "output_type": "stream",
     "text": [
      "0.29768836660378556\n",
      "0.29096105813048495\n"
     ]
    },
    {
     "name": "stderr",
     "output_type": "stream",
     "text": [
      "Training:  45%|████▌     | 45/100 [02:08<02:36,  2.84s/Epochs]"
     ]
    },
    {
     "name": "stdout",
     "output_type": "stream",
     "text": [
      "TEST LOSS: 0.292282372713089\n"
     ]
    },
    {
     "name": "stderr",
     "output_type": "stream",
     "text": [
      "Training:  46%|████▌     | 46/100 [02:10<02:27,  2.74s/Epochs]"
     ]
    },
    {
     "name": "stdout",
     "output_type": "stream",
     "text": [
      "0.2907001010952572\n",
      "0.29164350134187267\n"
     ]
    },
    {
     "name": "stderr",
     "output_type": "stream",
     "text": [
      "Training:  47%|████▋     | 47/100 [02:13<02:29,  2.82s/Epochs]"
     ]
    },
    {
     "name": "stdout",
     "output_type": "stream",
     "text": [
      "TEST LOSS: 0.2907906472682953\n"
     ]
    },
    {
     "name": "stderr",
     "output_type": "stream",
     "text": [
      "Training:  48%|████▊     | 48/100 [02:16<02:19,  2.69s/Epochs]"
     ]
    },
    {
     "name": "stdout",
     "output_type": "stream",
     "text": [
      "0.2880083936244624\n",
      "0.28699529769228455\n"
     ]
    },
    {
     "name": "stderr",
     "output_type": "stream",
     "text": [
      "Training:  49%|████▉     | 49/100 [02:19<02:25,  2.85s/Epochs]"
     ]
    },
    {
     "name": "stdout",
     "output_type": "stream",
     "text": [
      "TEST LOSS: 0.2871524691581726\n"
     ]
    },
    {
     "name": "stderr",
     "output_type": "stream",
     "text": [
      "Training:  50%|█████     | 50/100 [02:22<02:17,  2.74s/Epochs]"
     ]
    },
    {
     "name": "stdout",
     "output_type": "stream",
     "text": [
      "0.2832479185390209\n",
      "0.2866400659924594\n"
     ]
    },
    {
     "name": "stderr",
     "output_type": "stream",
     "text": [
      "Training:  51%|█████     | 51/100 [02:25<02:18,  2.83s/Epochs]"
     ]
    },
    {
     "name": "stdout",
     "output_type": "stream",
     "text": [
      "TEST LOSS: 0.2865726947784424\n"
     ]
    },
    {
     "name": "stderr",
     "output_type": "stream",
     "text": [
      "Training:  52%|█████▏    | 52/100 [02:27<02:09,  2.71s/Epochs]"
     ]
    },
    {
     "name": "stdout",
     "output_type": "stream",
     "text": [
      "0.28098268596409215\n",
      "0.2772089886475369\n"
     ]
    },
    {
     "name": "stderr",
     "output_type": "stream",
     "text": [
      "Training:  53%|█████▎    | 53/100 [02:30<02:09,  2.77s/Epochs]"
     ]
    },
    {
     "name": "stdout",
     "output_type": "stream",
     "text": [
      "TEST LOSS: 0.28475677967071533\n"
     ]
    },
    {
     "name": "stderr",
     "output_type": "stream",
     "text": [
      "Training:  54%|█████▍    | 54/100 [02:32<02:01,  2.63s/Epochs]"
     ]
    },
    {
     "name": "stdout",
     "output_type": "stream",
     "text": [
      "0.27639103832692047\n",
      "0.2774612419250148\n"
     ]
    },
    {
     "name": "stderr",
     "output_type": "stream",
     "text": [
      "Training:  55%|█████▌    | 55/100 [02:35<02:02,  2.72s/Epochs]"
     ]
    },
    {
     "name": "stdout",
     "output_type": "stream",
     "text": [
      "TEST LOSS: 0.28323298692703247\n"
     ]
    },
    {
     "name": "stderr",
     "output_type": "stream",
     "text": [
      "Training:  56%|█████▌    | 56/100 [02:38<01:54,  2.60s/Epochs]"
     ]
    },
    {
     "name": "stdout",
     "output_type": "stream",
     "text": [
      "0.27695136865040954\n",
      "0.27690656579530865\n"
     ]
    },
    {
     "name": "stderr",
     "output_type": "stream",
     "text": [
      "Training:  57%|█████▋    | 57/100 [02:41<02:00,  2.79s/Epochs]"
     ]
    },
    {
     "name": "stdout",
     "output_type": "stream",
     "text": [
      "TEST LOSS: 0.2813819348812103\n"
     ]
    },
    {
     "name": "stderr",
     "output_type": "stream",
     "text": [
      "Training:  58%|█████▊    | 58/100 [02:43<01:53,  2.70s/Epochs]"
     ]
    },
    {
     "name": "stdout",
     "output_type": "stream",
     "text": [
      "0.2744204333560656\n",
      "0.27751743188855693\n"
     ]
    },
    {
     "name": "stderr",
     "output_type": "stream",
     "text": [
      "Training:  59%|█████▉    | 59/100 [02:46<01:54,  2.80s/Epochs]"
     ]
    },
    {
     "name": "stdout",
     "output_type": "stream",
     "text": [
      "TEST LOSS: 0.2808138132095337\n"
     ]
    },
    {
     "name": "stderr",
     "output_type": "stream",
     "text": [
      "Training:  60%|██████    | 60/100 [02:49<01:48,  2.71s/Epochs]"
     ]
    },
    {
     "name": "stdout",
     "output_type": "stream",
     "text": [
      "0.2756962952093591\n",
      "0.2740893664213546\n"
     ]
    },
    {
     "name": "stderr",
     "output_type": "stream",
     "text": [
      "Training:  61%|██████    | 61/100 [02:52<01:51,  2.85s/Epochs]"
     ]
    },
    {
     "name": "stdout",
     "output_type": "stream",
     "text": [
      "TEST LOSS: 0.2805834412574768\n"
     ]
    },
    {
     "name": "stderr",
     "output_type": "stream",
     "text": [
      "Training:  62%|██████▏   | 62/100 [02:54<01:43,  2.72s/Epochs]"
     ]
    },
    {
     "name": "stdout",
     "output_type": "stream",
     "text": [
      "0.27351510258054135\n",
      "0.27218985334700907\n"
     ]
    },
    {
     "name": "stderr",
     "output_type": "stream",
     "text": [
      "Training:  63%|██████▎   | 63/100 [02:57<01:42,  2.78s/Epochs]"
     ]
    },
    {
     "name": "stdout",
     "output_type": "stream",
     "text": [
      "TEST LOSS: 0.2781814634799957\n"
     ]
    },
    {
     "name": "stderr",
     "output_type": "stream",
     "text": [
      "Training:  64%|██████▍   | 64/100 [03:00<01:37,  2.72s/Epochs]"
     ]
    },
    {
     "name": "stdout",
     "output_type": "stream",
     "text": [
      "0.2689868353770768\n",
      "0.27072841545536663\n"
     ]
    },
    {
     "name": "stderr",
     "output_type": "stream",
     "text": [
      "Training:  65%|██████▌   | 65/100 [03:03<01:40,  2.88s/Epochs]"
     ]
    },
    {
     "name": "stdout",
     "output_type": "stream",
     "text": [
      "TEST LOSS: 0.2781391441822052\n"
     ]
    },
    {
     "name": "stderr",
     "output_type": "stream",
     "text": [
      "Training:  66%|██████▌   | 66/100 [03:06<01:34,  2.78s/Epochs]"
     ]
    },
    {
     "name": "stdout",
     "output_type": "stream",
     "text": [
      "0.26881768269943307\n",
      "0.26649551954859063\n"
     ]
    },
    {
     "name": "stderr",
     "output_type": "stream",
     "text": [
      "Training:  67%|██████▋   | 67/100 [03:09<01:35,  2.88s/Epochs]"
     ]
    },
    {
     "name": "stdout",
     "output_type": "stream",
     "text": [
      "TEST LOSS: 0.27727413177490234\n"
     ]
    },
    {
     "name": "stderr",
     "output_type": "stream",
     "text": [
      "Training:  68%|██████▊   | 68/100 [03:11<01:27,  2.74s/Epochs]"
     ]
    },
    {
     "name": "stdout",
     "output_type": "stream",
     "text": [
      "0.26646988644597724\n",
      "0.26748072994182787\n"
     ]
    },
    {
     "name": "stderr",
     "output_type": "stream",
     "text": [
      "Training:  69%|██████▉   | 69/100 [03:14<01:27,  2.82s/Epochs]"
     ]
    },
    {
     "name": "stdout",
     "output_type": "stream",
     "text": [
      "TEST LOSS: 0.27692002058029175\n"
     ]
    },
    {
     "name": "stderr",
     "output_type": "stream",
     "text": [
      "Training:  70%|███████   | 70/100 [03:17<01:22,  2.73s/Epochs]"
     ]
    },
    {
     "name": "stdout",
     "output_type": "stream",
     "text": [
      "0.2667360854567175\n",
      "0.26713579521382325\n"
     ]
    },
    {
     "name": "stderr",
     "output_type": "stream",
     "text": [
      "Training:  71%|███████   | 71/100 [03:20<01:21,  2.81s/Epochs]"
     ]
    },
    {
     "name": "stdout",
     "output_type": "stream",
     "text": [
      "TEST LOSS: 0.27706339955329895\n"
     ]
    },
    {
     "name": "stderr",
     "output_type": "stream",
     "text": [
      "Training:  72%|███████▏  | 72/100 [03:22<01:14,  2.67s/Epochs]"
     ]
    },
    {
     "name": "stdout",
     "output_type": "stream",
     "text": [
      "0.2637041020970603\n",
      "0.26451838547161227\n"
     ]
    },
    {
     "name": "stderr",
     "output_type": "stream",
     "text": [
      "Training:  73%|███████▎  | 73/100 [03:25<01:16,  2.83s/Epochs]"
     ]
    },
    {
     "name": "stdout",
     "output_type": "stream",
     "text": [
      "TEST LOSS: 0.27617955207824707\n"
     ]
    },
    {
     "name": "stderr",
     "output_type": "stream",
     "text": [
      "Training:  74%|███████▍  | 74/100 [03:28<01:10,  2.72s/Epochs]"
     ]
    },
    {
     "name": "stdout",
     "output_type": "stream",
     "text": [
      "0.2631688245209382\n",
      "0.2654347358225242\n"
     ]
    },
    {
     "name": "stderr",
     "output_type": "stream",
     "text": [
      "Training:  75%|███████▌  | 75/100 [03:31<01:10,  2.83s/Epochs]"
     ]
    },
    {
     "name": "stdout",
     "output_type": "stream",
     "text": [
      "TEST LOSS: 0.2761174142360687\n"
     ]
    },
    {
     "name": "stderr",
     "output_type": "stream",
     "text": [
      "Training:  76%|███████▌  | 76/100 [03:33<01:04,  2.69s/Epochs]"
     ]
    },
    {
     "name": "stdout",
     "output_type": "stream",
     "text": [
      "0.26325076183694074\n",
      "0.2617709194402771\n"
     ]
    },
    {
     "name": "stderr",
     "output_type": "stream",
     "text": [
      "Training:  77%|███████▋  | 77/100 [03:36<01:04,  2.83s/Epochs]"
     ]
    },
    {
     "name": "stdout",
     "output_type": "stream",
     "text": [
      "TEST LOSS: 0.2745456099510193\n"
     ]
    },
    {
     "name": "stderr",
     "output_type": "stream",
     "text": [
      "Training:  78%|███████▊  | 78/100 [03:39<00:59,  2.72s/Epochs]"
     ]
    },
    {
     "name": "stdout",
     "output_type": "stream",
     "text": [
      "0.2625411925891627\n",
      "0.2623003008191731\n"
     ]
    },
    {
     "name": "stderr",
     "output_type": "stream",
     "text": [
      "Training:  79%|███████▉  | 79/100 [03:42<01:00,  2.86s/Epochs]"
     ]
    },
    {
     "name": "stdout",
     "output_type": "stream",
     "text": [
      "TEST LOSS: 0.2748434245586395\n"
     ]
    },
    {
     "name": "stderr",
     "output_type": "stream",
     "text": [
      "Training:  80%|████████  | 80/100 [03:44<00:55,  2.76s/Epochs]"
     ]
    },
    {
     "name": "stdout",
     "output_type": "stream",
     "text": [
      "0.2608554690592208\n",
      "0.2612055414546095\n"
     ]
    },
    {
     "name": "stderr",
     "output_type": "stream",
     "text": [
      "Training:  81%|████████  | 81/100 [03:48<00:56,  2.98s/Epochs]"
     ]
    },
    {
     "name": "stdout",
     "output_type": "stream",
     "text": [
      "TEST LOSS: 0.27428558468818665\n"
     ]
    },
    {
     "name": "stderr",
     "output_type": "stream",
     "text": [
      "Training:  82%|████████▏ | 82/100 [03:51<00:51,  2.84s/Epochs]"
     ]
    },
    {
     "name": "stdout",
     "output_type": "stream",
     "text": [
      "0.2611111385797453\n",
      "0.26011487759405433\n"
     ]
    },
    {
     "name": "stderr",
     "output_type": "stream",
     "text": [
      "Training:  83%|████████▎ | 83/100 [03:54<00:50,  2.95s/Epochs]"
     ]
    },
    {
     "name": "stdout",
     "output_type": "stream",
     "text": [
      "TEST LOSS: 0.27382585406303406\n"
     ]
    },
    {
     "name": "stderr",
     "output_type": "stream",
     "text": [
      "Training:  84%|████████▍ | 84/100 [03:56<00:45,  2.84s/Epochs]"
     ]
    },
    {
     "name": "stdout",
     "output_type": "stream",
     "text": [
      "0.2599648143245587\n",
      "0.25898592791928493\n"
     ]
    },
    {
     "name": "stderr",
     "output_type": "stream",
     "text": [
      "Training:  85%|████████▌ | 85/100 [04:00<00:45,  3.03s/Epochs]"
     ]
    },
    {
     "name": "stdout",
     "output_type": "stream",
     "text": [
      "TEST LOSS: 0.27379608154296875\n"
     ]
    },
    {
     "name": "stderr",
     "output_type": "stream",
     "text": [
      "Training:  86%|████████▌ | 86/100 [04:02<00:39,  2.82s/Epochs]"
     ]
    },
    {
     "name": "stdout",
     "output_type": "stream",
     "text": [
      "0.2581219983418734\n",
      "0.25918350778143356\n"
     ]
    },
    {
     "name": "stderr",
     "output_type": "stream",
     "text": [
      "Training:  87%|████████▋ | 87/100 [04:05<00:38,  2.94s/Epochs]"
     ]
    },
    {
     "name": "stdout",
     "output_type": "stream",
     "text": [
      "TEST LOSS: 0.2727509140968323\n"
     ]
    },
    {
     "name": "stderr",
     "output_type": "stream",
     "text": [
      "Training:  88%|████████▊ | 88/100 [04:08<00:33,  2.81s/Epochs]"
     ]
    },
    {
     "name": "stdout",
     "output_type": "stream",
     "text": [
      "0.2565409521675899\n",
      "0.25731875789227604\n"
     ]
    },
    {
     "name": "stderr",
     "output_type": "stream",
     "text": [
      "Training:  89%|████████▉ | 89/100 [04:11<00:31,  2.85s/Epochs]"
     ]
    },
    {
     "name": "stdout",
     "output_type": "stream",
     "text": [
      "TEST LOSS: 0.27235421538352966\n"
     ]
    },
    {
     "name": "stderr",
     "output_type": "stream",
     "text": [
      "Training:  90%|█████████ | 90/100 [04:13<00:27,  2.71s/Epochs]"
     ]
    },
    {
     "name": "stdout",
     "output_type": "stream",
     "text": [
      "0.2580784910612226\n",
      "0.2576324870313854\n"
     ]
    },
    {
     "name": "stderr",
     "output_type": "stream",
     "text": [
      "Training:  91%|█████████ | 91/100 [04:16<00:25,  2.79s/Epochs]"
     ]
    },
    {
     "name": "stdout",
     "output_type": "stream",
     "text": [
      "TEST LOSS: 0.2725597321987152\n"
     ]
    },
    {
     "name": "stderr",
     "output_type": "stream",
     "text": [
      "Training:  92%|█████████▏| 92/100 [04:19<00:21,  2.68s/Epochs]"
     ]
    },
    {
     "name": "stdout",
     "output_type": "stream",
     "text": [
      "0.2549923224853585\n",
      "0.2564237772358951\n"
     ]
    },
    {
     "name": "stderr",
     "output_type": "stream",
     "text": [
      "Training:  93%|█████████▎| 93/100 [04:22<00:20,  2.86s/Epochs]"
     ]
    },
    {
     "name": "stdout",
     "output_type": "stream",
     "text": [
      "TEST LOSS: 0.27193132042884827\n"
     ]
    },
    {
     "name": "stderr",
     "output_type": "stream",
     "text": [
      "Training:  94%|█████████▍| 94/100 [04:24<00:16,  2.74s/Epochs]"
     ]
    },
    {
     "name": "stdout",
     "output_type": "stream",
     "text": [
      "0.2558121147228464\n",
      "0.25680782050214\n"
     ]
    },
    {
     "name": "stderr",
     "output_type": "stream",
     "text": [
      "Training:  95%|█████████▌| 95/100 [04:27<00:14,  2.85s/Epochs]"
     ]
    },
    {
     "name": "stdout",
     "output_type": "stream",
     "text": [
      "TEST LOSS: 0.27126139402389526\n"
     ]
    },
    {
     "name": "stderr",
     "output_type": "stream",
     "text": [
      "Training:  96%|█████████▌| 96/100 [04:30<00:10,  2.72s/Epochs]"
     ]
    },
    {
     "name": "stdout",
     "output_type": "stream",
     "text": [
      "0.25620183405282854\n",
      "0.2541358876120558\n"
     ]
    },
    {
     "name": "stderr",
     "output_type": "stream",
     "text": [
      "Training:  97%|█████████▋| 97/100 [04:33<00:08,  2.85s/Epochs]"
     ]
    },
    {
     "name": "stdout",
     "output_type": "stream",
     "text": [
      "TEST LOSS: 0.2709062695503235\n"
     ]
    },
    {
     "name": "stderr",
     "output_type": "stream",
     "text": [
      "Training:  98%|█████████▊| 98/100 [04:36<00:05,  2.77s/Epochs]"
     ]
    },
    {
     "name": "stdout",
     "output_type": "stream",
     "text": [
      "0.25642364460049033\n",
      "0.25442565517249444\n"
     ]
    },
    {
     "name": "stderr",
     "output_type": "stream",
     "text": [
      "Training:  99%|█████████▉| 99/100 [04:39<00:02,  2.93s/Epochs]"
     ]
    },
    {
     "name": "stdout",
     "output_type": "stream",
     "text": [
      "TEST LOSS: 0.2703932523727417\n"
     ]
    },
    {
     "name": "stderr",
     "output_type": "stream",
     "text": [
      "Training: 100%|██████████| 100/100 [04:42<00:00,  2.82s/Epochs]"
     ]
    },
    {
     "name": "stdout",
     "output_type": "stream",
     "text": [
      "0.25501388441993894\n"
     ]
    },
    {
     "name": "stderr",
     "output_type": "stream",
     "text": [
      "\n"
     ]
    }
   ],
   "source": [
    "args['epochs'] = 100\n",
    "_, _, META_GNN, _ = train(train_loader, test_loader, args)"
   ]
  },
  {
   "cell_type": "code",
   "execution_count": 46,
   "metadata": {},
   "outputs": [
    {
     "name": "stdout",
     "output_type": "stream",
     "text": [
      "-- Competitive ratios --\n",
      "GNN: 0.9608\n",
      "Greedy: 0.9937\n",
      "\n",
      "\n",
      "-- Competitive ratios --\n",
      "GNN: 0.953\n",
      "Greedy: 0.9937\n",
      "\n",
      "\n",
      "-- Competitive ratios --\n",
      "GNN: 0.9756\n",
      "Greedy: 0.9937\n"
     ]
    }
   ],
   "source": [
    "selector1 = TorchNodeSelector(GNN1)\n",
    "selector2 = TorchNodeSelector(GNN2)\n",
    "selector3 = GreedyNodeSelector()\n",
    "\n",
    "seed = 0\n",
    "(m, n) = (8, 16)\n",
    "config = er_config\n",
    "\n",
    "rng = np.random.default_rng(seed)\n",
    "eval_instances = ig.sample_instances(m, n, 100, rng, **config)\n",
    "\n",
    "rng = np.random.default_rng(seed)\n",
    "ratios1 = ev.evaluate_model(\n",
    "    meta_model=META_GNN,\n",
    "    meta_model_type='gnn',\n",
    "    base_models=[selector1, selector2, selector3],\n",
    "    instances=eval_instances,\n",
    "    batch_size=500,\n",
    "    rng=rng,\n",
    "    num_realizations=1\n",
    ")\n",
    "\n",
    "pp_output(ratios1, _, show_log=False)\n",
    "print()\n",
    "print()\n",
    "\n",
    "rng = np.random.default_rng(seed)\n",
    "\n",
    "ratios2 = ev.evaluate_model(\n",
    "    meta_model=None,\n",
    "    meta_model_type=None,\n",
    "    base_models=[selector1],\n",
    "    instances=eval_instances,\n",
    "    batch_size=500,\n",
    "    rng=rng,\n",
    "    num_realizations=1\n",
    ")\n",
    "\n",
    "pp_output(ratios2, _, show_log=False)\n",
    "\n",
    "print()\n",
    "print()\n",
    "\n",
    "rng = np.random.default_rng(seed)\n",
    "\n",
    "ratios = ev.evaluate_model(\n",
    "    meta_model=None,\n",
    "    meta_model_type=None,\n",
    "    base_models=[selector2],\n",
    "    instances=eval_instances,\n",
    "    batch_size=500,\n",
    "    rng=rng,\n",
    "    num_realizations=1\n",
    ")\n",
    "\n",
    "pp_output(ratios, _, show_log=False)"
   ]
  },
  {
   "cell_type": "markdown",
   "metadata": {},
   "source": [
    "### II. Meta NN training"
   ]
  },
  {
   "cell_type": "code",
   "execution_count": 99,
   "metadata": {},
   "outputs": [],
   "source": [
    "train_num = 50; test_num = 10\n",
    "\n",
    "er_config = {\n",
    "    'graph_type': 'ER',\n",
    "    'p': 1,\n",
    "    'weighted': True\n",
    "}\n",
    "ba_config = {\n",
    "    'graph_type': 'BA',\n",
    "    'ba_param': 4,\n",
    "    'weighted': False\n",
    "}\n",
    "geom_config = {\n",
    "    'graph_type': 'GEOM',\n",
    "    'threshold': 0.2,\n",
    "    'scaling': 1 / np.sqrt(2)\n",
    "}\n",
    "\n",
    "args = {\n",
    "    'processor':         'NN',\n",
    "    'head':              'meta',\n",
    "    'num_layers':        5,\n",
    "    'input_dim':         17,\n",
    "    'batch_size':        4,\n",
    "    'hidden_dim':        16,\n",
    "    'output_dim':        3,\n",
    "    'dropout':           0,\n",
    "    'epochs':            50,\n",
    "    'opt':               'adam',\n",
    "    'opt_scheduler':     'none',\n",
    "    'opt_restart':       0,\n",
    "    'weight_decay':      5e-3,\n",
    "    'lr':                0.0001,\n",
    "    'device':            device\n",
    "}\n",
    "\n",
    "\n",
    "rng = np.random.default_rng()\n",
    "\n",
    "train_instances = [\n",
    "    *ig.sample_instances(6, 10, train_num, rng, **er_config),\n",
    "    *ig.sample_instances(6, 10, train_num, rng, **ba_config),\n",
    "    *ig.sample_instances(6, 10, train_num, rng, **geom_config),\n",
    "    *ig.sample_instances(8, 8, train_num, rng, **er_config),\n",
    "    *ig.sample_instances(8, 8, train_num, rng, **ba_config),\n",
    "    *ig.sample_instances(8, 8, train_num, rng, **geom_config),\n",
    "    *ig.sample_instances(10, 6, train_num, rng, **er_config),\n",
    "    *ig.sample_instances(10, 6, train_num, rng, **ba_config),\n",
    "    *ig.sample_instances(10, 6, train_num, rng, **geom_config)\n",
    "]\n",
    "\n",
    "\n",
    "test_instances = [\n",
    "    *ig.sample_instances(6, 10, test_num, rng, **er_config),\n",
    "    *ig.sample_instances(6, 10, test_num, rng, **ba_config),\n",
    "    *ig.sample_instances(6, 10, test_num, rng, **geom_config),\n",
    "    *ig.sample_instances(8, 8, test_num, rng, **er_config),\n",
    "    *ig.sample_instances(8, 8, test_num, rng, **ba_config),\n",
    "    *ig.sample_instances(8, 8, test_num, rng, **geom_config),\n",
    "    *ig.sample_instances(10, 6, test_num, rng, **er_config),\n",
    "    *ig.sample_instances(10, 6, test_num, rng, **ba_config),\n",
    "    *ig.sample_instances(10, 6, test_num, rng, **geom_config)\n",
    "]\n",
    "\n",
    "train_data = NumpyDataset(\n",
    "    tc._instances_to_train_samples(\n",
    "        instances=train_instances,\n",
    "        head=args['head'],\n",
    "        meta_model_type='nn',\n",
    "        base_models=[selector1, selector2, selector3]\n",
    "    )\n",
    ")\n",
    "\n",
    "test_data = NumpyDataset(\n",
    "    tc._instances_to_train_samples(\n",
    "        instances=test_instances,\n",
    "        head=args['head'],\n",
    "        meta_model_type='nn',\n",
    "        base_models=[selector1, selector2, selector3]\n",
    "    )\n",
    ")\n",
    "\n",
    "train_loader = DataLoader(\n",
    "    train_data,\n",
    "    batch_size=args['batch_size'],\n",
    "    shuffle=True,\n",
    "    num_workers=4\n",
    ")\n",
    "\n",
    "test_loader = DataLoader(\n",
    "    test_data,\n",
    "    batch_size=args['batch_size'],\n",
    "    shuffle=True,\n",
    "    num_workers=4\n",
    ")"
   ]
  },
  {
   "cell_type": "code",
   "execution_count": 100,
   "metadata": {},
   "outputs": [],
   "source": [
    "train_data.y.sum(dim=0)\n",
    "\n",
    "train_data.x = train_data.x[train_data.y.sum(dim=1) > 0, :]\n",
    "train_data.y = train_data.y[train_data.y.sum(dim=1) > 0, :]"
   ]
  },
  {
   "cell_type": "code",
   "execution_count": 102,
   "metadata": {},
   "outputs": [],
   "source": [
    "test_data.x = test_data.x[test_data.y.sum(dim=1) > 0, :]\n",
    "test_data.y = test_data.y[test_data.y.sum(dim=1) > 0, :]"
   ]
  },
  {
   "cell_type": "code",
   "execution_count": 104,
   "metadata": {},
   "outputs": [],
   "source": [
    "train_loader = DataLoader(\n",
    "    train_data,\n",
    "    batch_size=args['batch_size'],\n",
    "    shuffle=True,\n",
    "    num_workers=4\n",
    ")\n",
    "\n",
    "test_loader = DataLoader(\n",
    "    test_data,\n",
    "    batch_size=args['batch_size'],\n",
    "    shuffle=True,\n",
    "    num_workers=4\n",
    ")"
   ]
  },
  {
   "cell_type": "code",
   "execution_count": 108,
   "metadata": {},
   "outputs": [
    {
     "name": "stderr",
     "output_type": "stream",
     "text": [
      "Training:   0%|          | 0/250 [00:00<?, ?Epochs/s]"
     ]
    },
    {
     "name": "stdout",
     "output_type": "stream",
     "text": [
      "0.716557418977892\n"
     ]
    },
    {
     "name": "stderr",
     "output_type": "stream",
     "text": [
      "Training:   0%|          | 1/250 [00:00<03:14,  1.28Epochs/s]"
     ]
    },
    {
     "name": "stdout",
     "output_type": "stream",
     "text": [
      "TEST LOSS: 0.7159779071807861\n"
     ]
    },
    {
     "name": "stderr",
     "output_type": "stream",
     "text": [
      "Training:   1%|          | 2/250 [00:01<02:13,  1.86Epochs/s]"
     ]
    },
    {
     "name": "stdout",
     "output_type": "stream",
     "text": [
      "0.7128773777334539\n",
      "0.7095671838468259\n"
     ]
    },
    {
     "name": "stderr",
     "output_type": "stream",
     "text": [
      "Training:   1%|          | 3/250 [00:01<02:28,  1.66Epochs/s]"
     ]
    },
    {
     "name": "stdout",
     "output_type": "stream",
     "text": [
      "TEST LOSS: 0.7096449732780457\n"
     ]
    },
    {
     "name": "stderr",
     "output_type": "stream",
     "text": [
      "Training:   2%|▏         | 4/250 [00:02<02:06,  1.94Epochs/s]"
     ]
    },
    {
     "name": "stdout",
     "output_type": "stream",
     "text": [
      "0.7064878650613733\n",
      "0.7035883600647385\n"
     ]
    },
    {
     "name": "stderr",
     "output_type": "stream",
     "text": [
      "Training:   2%|▏         | 5/250 [00:02<02:21,  1.73Epochs/s]"
     ]
    },
    {
     "name": "stdout",
     "output_type": "stream",
     "text": [
      "TEST LOSS: 0.7040579319000244\n"
     ]
    },
    {
     "name": "stderr",
     "output_type": "stream",
     "text": [
      "Training:   2%|▏         | 6/250 [00:03<02:01,  2.00Epochs/s]"
     ]
    },
    {
     "name": "stdout",
     "output_type": "stream",
     "text": [
      "0.7006456674756231\n",
      "0.6976043737686433\n"
     ]
    },
    {
     "name": "stderr",
     "output_type": "stream",
     "text": [
      "Training:   3%|▎         | 7/250 [00:03<02:15,  1.79Epochs/s]"
     ]
    },
    {
     "name": "stdout",
     "output_type": "stream",
     "text": [
      "TEST LOSS: 0.6985090970993042\n"
     ]
    },
    {
     "name": "stderr",
     "output_type": "stream",
     "text": [
      "Training:   3%|▎         | 8/250 [00:04<02:00,  2.01Epochs/s]"
     ]
    },
    {
     "name": "stdout",
     "output_type": "stream",
     "text": [
      "0.6946168928532988\n",
      "0.6915196244781082\n"
     ]
    },
    {
     "name": "stderr",
     "output_type": "stream",
     "text": [
      "Training:   4%|▎         | 9/250 [00:04<02:13,  1.80Epochs/s]"
     ]
    },
    {
     "name": "stdout",
     "output_type": "stream",
     "text": [
      "TEST LOSS: 0.6925255060195923\n"
     ]
    },
    {
     "name": "stderr",
     "output_type": "stream",
     "text": [
      "Training:   4%|▍         | 10/250 [00:05<01:59,  2.02Epochs/s]"
     ]
    },
    {
     "name": "stdout",
     "output_type": "stream",
     "text": [
      "0.6885375052958995\n",
      "0.6853113496625746\n"
     ]
    },
    {
     "name": "stderr",
     "output_type": "stream",
     "text": [
      "Training:   4%|▍         | 11/250 [00:06<02:15,  1.77Epochs/s]"
     ]
    },
    {
     "name": "stdout",
     "output_type": "stream",
     "text": [
      "TEST LOSS: 0.6862642168998718\n"
     ]
    },
    {
     "name": "stderr",
     "output_type": "stream",
     "text": [
      "Training:   5%|▍         | 12/250 [00:06<02:00,  1.98Epochs/s]"
     ]
    },
    {
     "name": "stdout",
     "output_type": "stream",
     "text": [
      "0.6817484739664439\n",
      "0.6776079132750228\n"
     ]
    },
    {
     "name": "stderr",
     "output_type": "stream",
     "text": [
      "Training:   5%|▌         | 13/250 [00:07<02:13,  1.78Epochs/s]"
     ]
    },
    {
     "name": "stdout",
     "output_type": "stream",
     "text": [
      "TEST LOSS: 0.6779649257659912\n"
     ]
    },
    {
     "name": "stderr",
     "output_type": "stream",
     "text": [
      "Training:   6%|▌         | 14/250 [00:07<02:00,  1.96Epochs/s]"
     ]
    },
    {
     "name": "stdout",
     "output_type": "stream",
     "text": [
      "0.6723303021611394\n",
      "0.6654142195040041\n"
     ]
    },
    {
     "name": "stderr",
     "output_type": "stream",
     "text": [
      "Training:   6%|▌         | 15/250 [00:08<02:14,  1.75Epochs/s]"
     ]
    },
    {
     "name": "stdout",
     "output_type": "stream",
     "text": [
      "TEST LOSS: 0.6638795733451843\n"
     ]
    },
    {
     "name": "stderr",
     "output_type": "stream",
     "text": [
      "Training:   6%|▋         | 16/250 [00:08<01:59,  1.95Epochs/s]"
     ]
    },
    {
     "name": "stdout",
     "output_type": "stream",
     "text": [
      "0.6564966579815289\n",
      "0.6461698869327167\n"
     ]
    },
    {
     "name": "stderr",
     "output_type": "stream",
     "text": [
      "Training:   7%|▋         | 17/250 [00:09<02:12,  1.75Epochs/s]"
     ]
    },
    {
     "name": "stdout",
     "output_type": "stream",
     "text": [
      "TEST LOSS: 0.6450899839401245\n"
     ]
    },
    {
     "name": "stderr",
     "output_type": "stream",
     "text": [
      "Training:   7%|▋         | 18/250 [00:09<01:57,  1.97Epochs/s]"
     ]
    },
    {
     "name": "stdout",
     "output_type": "stream",
     "text": [
      "0.6386198653831138\n",
      "0.635322485421155\n"
     ]
    },
    {
     "name": "stderr",
     "output_type": "stream",
     "text": [
      "Training:   8%|▊         | 19/250 [00:10<02:10,  1.77Epochs/s]"
     ]
    },
    {
     "name": "stdout",
     "output_type": "stream",
     "text": [
      "TEST LOSS: 0.6413196921348572\n"
     ]
    },
    {
     "name": "stderr",
     "output_type": "stream",
     "text": [
      "Training:   8%|▊         | 20/250 [00:10<01:58,  1.95Epochs/s]"
     ]
    },
    {
     "name": "stdout",
     "output_type": "stream",
     "text": [
      "0.6334339133254042\n",
      "0.6316531295174951\n"
     ]
    },
    {
     "name": "stderr",
     "output_type": "stream",
     "text": [
      "Training:   8%|▊         | 21/250 [00:11<02:09,  1.77Epochs/s]"
     ]
    },
    {
     "name": "stdout",
     "output_type": "stream",
     "text": [
      "TEST LOSS: 0.6393288969993591\n"
     ]
    },
    {
     "name": "stderr",
     "output_type": "stream",
     "text": [
      "Training:   9%|▉         | 22/250 [00:11<01:54,  2.00Epochs/s]"
     ]
    },
    {
     "name": "stdout",
     "output_type": "stream",
     "text": [
      "0.6299632776964892\n",
      "0.6292829298758292\n"
     ]
    },
    {
     "name": "stderr",
     "output_type": "stream",
     "text": [
      "Training:   9%|▉         | 23/250 [00:12<02:06,  1.79Epochs/s]"
     ]
    },
    {
     "name": "stdout",
     "output_type": "stream",
     "text": [
      "TEST LOSS: 0.6375411748886108\n"
     ]
    },
    {
     "name": "stderr",
     "output_type": "stream",
     "text": [
      "Training:  10%|▉         | 24/250 [00:12<01:52,  2.00Epochs/s]"
     ]
    },
    {
     "name": "stdout",
     "output_type": "stream",
     "text": [
      "0.6280787415332623\n",
      "0.6275157949945949\n"
     ]
    },
    {
     "name": "stderr",
     "output_type": "stream",
     "text": [
      "Training:  10%|█         | 25/250 [00:13<02:04,  1.81Epochs/s]"
     ]
    },
    {
     "name": "stdout",
     "output_type": "stream",
     "text": [
      "TEST LOSS: 0.638028621673584\n"
     ]
    },
    {
     "name": "stderr",
     "output_type": "stream",
     "text": [
      "Training:  10%|█         | 26/250 [00:13<01:50,  2.02Epochs/s]"
     ]
    },
    {
     "name": "stdout",
     "output_type": "stream",
     "text": [
      "0.6269577816799954\n",
      "0.6264065031532768\n"
     ]
    },
    {
     "name": "stderr",
     "output_type": "stream",
     "text": [
      "Training:  11%|█         | 27/250 [00:14<02:02,  1.82Epochs/s]"
     ]
    },
    {
     "name": "stdout",
     "output_type": "stream",
     "text": [
      "TEST LOSS: 0.6394619941711426\n"
     ]
    },
    {
     "name": "stderr",
     "output_type": "stream",
     "text": [
      "Training:  11%|█         | 28/250 [00:14<01:50,  2.02Epochs/s]"
     ]
    },
    {
     "name": "stdout",
     "output_type": "stream",
     "text": [
      "0.626092582672566\n",
      "0.6255534119434185\n"
     ]
    },
    {
     "name": "stderr",
     "output_type": "stream",
     "text": [
      "Training:  12%|█▏        | 29/250 [00:15<02:01,  1.81Epochs/s]"
     ]
    },
    {
     "name": "stdout",
     "output_type": "stream",
     "text": [
      "TEST LOSS: 0.6397204399108887\n"
     ]
    },
    {
     "name": "stderr",
     "output_type": "stream",
     "text": [
      "Training:  12%|█▏        | 30/250 [00:15<01:49,  2.01Epochs/s]"
     ]
    },
    {
     "name": "stdout",
     "output_type": "stream",
     "text": [
      "0.6249377743617909\n",
      "0.6247421111072506\n"
     ]
    },
    {
     "name": "stderr",
     "output_type": "stream",
     "text": [
      "Training:  12%|█▏        | 31/250 [00:16<02:00,  1.81Epochs/s]"
     ]
    },
    {
     "name": "stdout",
     "output_type": "stream",
     "text": [
      "TEST LOSS: 0.6396349668502808\n"
     ]
    },
    {
     "name": "stderr",
     "output_type": "stream",
     "text": [
      "Training:  13%|█▎        | 32/250 [00:17<01:48,  2.01Epochs/s]"
     ]
    },
    {
     "name": "stdout",
     "output_type": "stream",
     "text": [
      "0.6242247707134968\n",
      "0.6237919137284562\n"
     ]
    },
    {
     "name": "stderr",
     "output_type": "stream",
     "text": [
      "Training:  13%|█▎        | 33/250 [00:17<02:01,  1.79Epochs/s]"
     ]
    },
    {
     "name": "stdout",
     "output_type": "stream",
     "text": [
      "TEST LOSS: 0.638416588306427\n"
     ]
    },
    {
     "name": "stderr",
     "output_type": "stream",
     "text": [
      "Training:  14%|█▎        | 34/250 [00:18<01:48,  1.98Epochs/s]"
     ]
    },
    {
     "name": "stdout",
     "output_type": "stream",
     "text": [
      "0.6229292863124126\n",
      "0.6225802490303108\n"
     ]
    },
    {
     "name": "stderr",
     "output_type": "stream",
     "text": [
      "Training:  14%|█▍        | 35/250 [00:18<02:00,  1.79Epochs/s]"
     ]
    },
    {
     "name": "stdout",
     "output_type": "stream",
     "text": [
      "TEST LOSS: 0.6383142471313477\n"
     ]
    },
    {
     "name": "stderr",
     "output_type": "stream",
     "text": [
      "Training:  14%|█▍        | 36/250 [00:19<01:47,  2.00Epochs/s]"
     ]
    },
    {
     "name": "stdout",
     "output_type": "stream",
     "text": [
      "0.6221645512022413\n",
      "0.6225143848238764\n"
     ]
    },
    {
     "name": "stderr",
     "output_type": "stream",
     "text": [
      "Training:  15%|█▍        | 37/250 [00:19<01:58,  1.80Epochs/s]"
     ]
    },
    {
     "name": "stdout",
     "output_type": "stream",
     "text": [
      "TEST LOSS: 0.6390859484672546\n"
     ]
    },
    {
     "name": "stderr",
     "output_type": "stream",
     "text": [
      "Training:  15%|█▌        | 38/250 [00:20<01:45,  2.01Epochs/s]"
     ]
    },
    {
     "name": "stdout",
     "output_type": "stream",
     "text": [
      "0.6217376417941876\n",
      "0.6211378783793062\n"
     ]
    },
    {
     "name": "stderr",
     "output_type": "stream",
     "text": [
      "Training:  16%|█▌        | 39/250 [00:20<01:57,  1.80Epochs/s]"
     ]
    },
    {
     "name": "stdout",
     "output_type": "stream",
     "text": [
      "TEST LOSS: 0.6387074589729309\n"
     ]
    },
    {
     "name": "stderr",
     "output_type": "stream",
     "text": [
      "Training:  16%|█▌        | 40/250 [00:21<01:43,  2.02Epochs/s]"
     ]
    },
    {
     "name": "stdout",
     "output_type": "stream",
     "text": [
      "0.6205061394889075\n",
      "0.6200076159056243\n"
     ]
    },
    {
     "name": "stderr",
     "output_type": "stream",
     "text": [
      "Training:  16%|█▋        | 41/250 [00:21<01:53,  1.84Epochs/s]"
     ]
    },
    {
     "name": "stdout",
     "output_type": "stream",
     "text": [
      "TEST LOSS: 0.6383285522460938\n"
     ]
    },
    {
     "name": "stderr",
     "output_type": "stream",
     "text": [
      "Training:  17%|█▋        | 42/250 [00:22<01:41,  2.05Epochs/s]"
     ]
    },
    {
     "name": "stdout",
     "output_type": "stream",
     "text": [
      "0.6192967972239932\n",
      "0.6186293975726979\n"
     ]
    },
    {
     "name": "stderr",
     "output_type": "stream",
     "text": [
      "Training:  17%|█▋        | 43/250 [00:22<01:51,  1.86Epochs/s]"
     ]
    },
    {
     "name": "stdout",
     "output_type": "stream",
     "text": [
      "TEST LOSS: 0.6367904543876648\n"
     ]
    },
    {
     "name": "stderr",
     "output_type": "stream",
     "text": [
      "Training:  18%|█▊        | 44/250 [00:23<01:39,  2.08Epochs/s]"
     ]
    },
    {
     "name": "stdout",
     "output_type": "stream",
     "text": [
      "0.6179560444376491\n",
      "0.617608752336588\n"
     ]
    },
    {
     "name": "stderr",
     "output_type": "stream",
     "text": [
      "Training:  18%|█▊        | 45/250 [00:23<01:50,  1.86Epochs/s]"
     ]
    },
    {
     "name": "stdout",
     "output_type": "stream",
     "text": [
      "TEST LOSS: 0.6343247294425964\n"
     ]
    },
    {
     "name": "stderr",
     "output_type": "stream",
     "text": [
      "Training:  18%|█▊        | 46/250 [00:24<01:38,  2.07Epochs/s]"
     ]
    },
    {
     "name": "stdout",
     "output_type": "stream",
     "text": [
      "0.6167901963800997\n",
      "0.6159748085984239\n"
     ]
    },
    {
     "name": "stderr",
     "output_type": "stream",
     "text": [
      "Training:  19%|█▉        | 47/250 [00:24<01:48,  1.87Epochs/s]"
     ]
    },
    {
     "name": "stdout",
     "output_type": "stream",
     "text": [
      "TEST LOSS: 0.6333597898483276\n"
     ]
    },
    {
     "name": "stderr",
     "output_type": "stream",
     "text": [
      "Training:  19%|█▉        | 48/250 [00:25<01:36,  2.08Epochs/s]"
     ]
    },
    {
     "name": "stdout",
     "output_type": "stream",
     "text": [
      "0.6156380826288516\n",
      "0.6149577074222736\n"
     ]
    },
    {
     "name": "stderr",
     "output_type": "stream",
     "text": [
      "Training:  20%|█▉        | 49/250 [00:25<01:47,  1.87Epochs/s]"
     ]
    },
    {
     "name": "stdout",
     "output_type": "stream",
     "text": [
      "TEST LOSS: 0.6314916014671326\n"
     ]
    },
    {
     "name": "stderr",
     "output_type": "stream",
     "text": [
      "Training:  20%|██        | 50/250 [00:26<01:36,  2.08Epochs/s]"
     ]
    },
    {
     "name": "stdout",
     "output_type": "stream",
     "text": [
      "0.6140508565816793\n",
      "0.6132256394034034\n"
     ]
    },
    {
     "name": "stderr",
     "output_type": "stream",
     "text": [
      "Training:  20%|██        | 51/250 [00:26<01:46,  1.87Epochs/s]"
     ]
    },
    {
     "name": "stdout",
     "output_type": "stream",
     "text": [
      "TEST LOSS: 0.6287883520126343\n"
     ]
    },
    {
     "name": "stderr",
     "output_type": "stream",
     "text": [
      "Training:  21%|██        | 52/250 [00:27<01:35,  2.07Epochs/s]"
     ]
    },
    {
     "name": "stdout",
     "output_type": "stream",
     "text": [
      "0.6113473270927463\n",
      "0.6096192002296448\n"
     ]
    },
    {
     "name": "stderr",
     "output_type": "stream",
     "text": [
      "Training:  21%|██        | 53/250 [00:27<01:44,  1.89Epochs/s]"
     ]
    },
    {
     "name": "stdout",
     "output_type": "stream",
     "text": [
      "TEST LOSS: 0.6271904706954956\n"
     ]
    },
    {
     "name": "stderr",
     "output_type": "stream",
     "text": [
      "Training:  22%|██▏       | 54/250 [00:28<01:33,  2.11Epochs/s]"
     ]
    },
    {
     "name": "stdout",
     "output_type": "stream",
     "text": [
      "0.6082066813030759\n",
      "0.6063226203660708\n"
     ]
    },
    {
     "name": "stderr",
     "output_type": "stream",
     "text": [
      "Training:  22%|██▏       | 55/250 [00:29<01:44,  1.86Epochs/s]"
     ]
    },
    {
     "name": "stdout",
     "output_type": "stream",
     "text": [
      "TEST LOSS: 0.6223496198654175\n"
     ]
    },
    {
     "name": "stderr",
     "output_type": "stream",
     "text": [
      "Training:  22%|██▏       | 56/250 [00:29<01:33,  2.07Epochs/s]"
     ]
    },
    {
     "name": "stdout",
     "output_type": "stream",
     "text": [
      "0.6028199920783172\n",
      "0.60087750194309\n"
     ]
    },
    {
     "name": "stderr",
     "output_type": "stream",
     "text": [
      "Training:  23%|██▎       | 57/250 [00:30<01:43,  1.86Epochs/s]"
     ]
    },
    {
     "name": "stdout",
     "output_type": "stream",
     "text": [
      "TEST LOSS: 0.6184102892875671\n"
     ]
    },
    {
     "name": "stderr",
     "output_type": "stream",
     "text": [
      "Training:  23%|██▎       | 58/250 [00:30<01:32,  2.08Epochs/s]"
     ]
    },
    {
     "name": "stdout",
     "output_type": "stream",
     "text": [
      "0.5980435411135355\n",
      "0.5958238131291157\n"
     ]
    },
    {
     "name": "stderr",
     "output_type": "stream",
     "text": [
      "Training:  24%|██▎       | 59/250 [00:31<01:41,  1.87Epochs/s]"
     ]
    },
    {
     "name": "stdout",
     "output_type": "stream",
     "text": [
      "TEST LOSS: 0.6131079792976379\n"
     ]
    },
    {
     "name": "stderr",
     "output_type": "stream",
     "text": [
      "Training:  24%|██▍       | 60/250 [00:31<01:30,  2.11Epochs/s]"
     ]
    },
    {
     "name": "stdout",
     "output_type": "stream",
     "text": [
      "0.5923757869918067\n",
      "0.588549372312185\n"
     ]
    },
    {
     "name": "stderr",
     "output_type": "stream",
     "text": [
      "Training:  24%|██▍       | 61/250 [00:32<01:39,  1.91Epochs/s]"
     ]
    },
    {
     "name": "stdout",
     "output_type": "stream",
     "text": [
      "TEST LOSS: 0.605015218257904\n"
     ]
    },
    {
     "name": "stderr",
     "output_type": "stream",
     "text": [
      "Training:  25%|██▍       | 62/250 [00:32<01:29,  2.10Epochs/s]"
     ]
    },
    {
     "name": "stdout",
     "output_type": "stream",
     "text": [
      "0.5850034723947714\n",
      "0.5799117346067686\n"
     ]
    },
    {
     "name": "stderr",
     "output_type": "stream",
     "text": [
      "Training:  25%|██▌       | 63/250 [00:33<01:39,  1.88Epochs/s]"
     ]
    },
    {
     "name": "stdout",
     "output_type": "stream",
     "text": [
      "TEST LOSS: 0.5936399102210999\n"
     ]
    },
    {
     "name": "stderr",
     "output_type": "stream",
     "text": [
      "Training:  26%|██▌       | 64/250 [00:33<01:28,  2.10Epochs/s]"
     ]
    },
    {
     "name": "stdout",
     "output_type": "stream",
     "text": [
      "0.5758199971001428\n",
      "0.5696403862119795\n"
     ]
    },
    {
     "name": "stderr",
     "output_type": "stream",
     "text": [
      "Training:  26%|██▌       | 65/250 [00:34<01:39,  1.86Epochs/s]"
     ]
    },
    {
     "name": "stdout",
     "output_type": "stream",
     "text": [
      "TEST LOSS: 0.585915744304657\n"
     ]
    },
    {
     "name": "stderr",
     "output_type": "stream",
     "text": [
      "Training:  26%|██▋       | 66/250 [00:34<01:28,  2.08Epochs/s]"
     ]
    },
    {
     "name": "stdout",
     "output_type": "stream",
     "text": [
      "0.5627578829859828\n",
      "0.560411417269492\n"
     ]
    },
    {
     "name": "stderr",
     "output_type": "stream",
     "text": [
      "Training:  27%|██▋       | 67/250 [00:35<01:36,  1.89Epochs/s]"
     ]
    },
    {
     "name": "stdout",
     "output_type": "stream",
     "text": [
      "TEST LOSS: 0.5721079111099243\n"
     ]
    },
    {
     "name": "stderr",
     "output_type": "stream",
     "text": [
      "Training:  27%|██▋       | 68/250 [00:35<01:25,  2.12Epochs/s]"
     ]
    },
    {
     "name": "stdout",
     "output_type": "stream",
     "text": [
      "0.5530453608916687\n",
      "0.5511841969984071\n"
     ]
    },
    {
     "name": "stderr",
     "output_type": "stream",
     "text": [
      "Training:  28%|██▊       | 69/250 [00:36<01:35,  1.89Epochs/s]"
     ]
    },
    {
     "name": "stdout",
     "output_type": "stream",
     "text": [
      "TEST LOSS: 0.5729250907897949\n"
     ]
    },
    {
     "name": "stderr",
     "output_type": "stream",
     "text": [
      "Training:  28%|██▊       | 70/250 [00:36<01:25,  2.11Epochs/s]"
     ]
    },
    {
     "name": "stdout",
     "output_type": "stream",
     "text": [
      "0.5472086721712405\n",
      "0.5398123430776166\n"
     ]
    },
    {
     "name": "stderr",
     "output_type": "stream",
     "text": [
      "Training:  28%|██▊       | 71/250 [00:37<01:35,  1.87Epochs/s]"
     ]
    },
    {
     "name": "stdout",
     "output_type": "stream",
     "text": [
      "TEST LOSS: 0.5624931454658508\n"
     ]
    },
    {
     "name": "stderr",
     "output_type": "stream",
     "text": [
      "Training:  29%|██▉       | 72/250 [00:37<01:25,  2.09Epochs/s]"
     ]
    },
    {
     "name": "stdout",
     "output_type": "stream",
     "text": [
      "0.5334682679391122\n",
      "0.5308647585344745\n"
     ]
    },
    {
     "name": "stderr",
     "output_type": "stream",
     "text": [
      "Training:  29%|██▉       | 73/250 [00:38<01:35,  1.85Epochs/s]"
     ]
    },
    {
     "name": "stdout",
     "output_type": "stream",
     "text": [
      "TEST LOSS: 0.5622043013572693\n"
     ]
    },
    {
     "name": "stderr",
     "output_type": "stream",
     "text": [
      "Training:  30%|██▉       | 74/250 [00:38<01:25,  2.06Epochs/s]"
     ]
    },
    {
     "name": "stdout",
     "output_type": "stream",
     "text": [
      "0.5284065808261837\n",
      "0.5220811139825765\n"
     ]
    },
    {
     "name": "stderr",
     "output_type": "stream",
     "text": [
      "Training:  30%|███       | 75/250 [00:39<01:34,  1.85Epochs/s]"
     ]
    },
    {
     "name": "stdout",
     "output_type": "stream",
     "text": [
      "TEST LOSS: 0.5439789295196533\n"
     ]
    },
    {
     "name": "stderr",
     "output_type": "stream",
     "text": [
      "Training:  30%|███       | 76/250 [00:39<01:24,  2.05Epochs/s]"
     ]
    },
    {
     "name": "stdout",
     "output_type": "stream",
     "text": [
      "0.5178349533596555\n",
      "0.5163968183972814\n"
     ]
    },
    {
     "name": "stderr",
     "output_type": "stream",
     "text": [
      "Training:  31%|███       | 77/250 [00:40<01:33,  1.85Epochs/s]"
     ]
    },
    {
     "name": "stdout",
     "output_type": "stream",
     "text": [
      "TEST LOSS: 0.5606657862663269\n"
     ]
    },
    {
     "name": "stderr",
     "output_type": "stream",
     "text": [
      "Training:  31%|███       | 78/250 [00:40<01:24,  2.03Epochs/s]"
     ]
    },
    {
     "name": "stdout",
     "output_type": "stream",
     "text": [
      "0.5190007643656688\n",
      "0.5099234124561688\n"
     ]
    },
    {
     "name": "stderr",
     "output_type": "stream",
     "text": [
      "Training:  32%|███▏      | 79/250 [00:41<01:33,  1.82Epochs/s]"
     ]
    },
    {
     "name": "stdout",
     "output_type": "stream",
     "text": [
      "TEST LOSS: 0.5368750691413879\n"
     ]
    },
    {
     "name": "stderr",
     "output_type": "stream",
     "text": [
      "Training:  32%|███▏      | 80/250 [00:41<01:23,  2.03Epochs/s]"
     ]
    },
    {
     "name": "stdout",
     "output_type": "stream",
     "text": [
      "0.512753926418923\n",
      "0.5034214628709329\n"
     ]
    },
    {
     "name": "stderr",
     "output_type": "stream",
     "text": [
      "Training:  32%|███▏      | 81/250 [00:42<01:32,  1.83Epochs/s]"
     ]
    },
    {
     "name": "stdout",
     "output_type": "stream",
     "text": [
      "TEST LOSS: 0.5324850678443909\n"
     ]
    },
    {
     "name": "stderr",
     "output_type": "stream",
     "text": [
      "Training:  33%|███▎      | 82/250 [00:42<01:22,  2.04Epochs/s]"
     ]
    },
    {
     "name": "stdout",
     "output_type": "stream",
     "text": [
      "0.5008292606285026\n",
      "0.49762293964892895\n"
     ]
    },
    {
     "name": "stderr",
     "output_type": "stream",
     "text": [
      "Training:  33%|███▎      | 83/250 [00:43<01:31,  1.83Epochs/s]"
     ]
    },
    {
     "name": "stdout",
     "output_type": "stream",
     "text": [
      "TEST LOSS: 0.532461941242218\n"
     ]
    },
    {
     "name": "stderr",
     "output_type": "stream",
     "text": [
      "Training:  34%|███▎      | 84/250 [00:43<01:21,  2.04Epochs/s]"
     ]
    },
    {
     "name": "stdout",
     "output_type": "stream",
     "text": [
      "0.4965368369678119\n",
      "0.4939013102033117\n"
     ]
    },
    {
     "name": "stderr",
     "output_type": "stream",
     "text": [
      "Training:  34%|███▍      | 85/250 [00:44<01:29,  1.84Epochs/s]"
     ]
    },
    {
     "name": "stdout",
     "output_type": "stream",
     "text": [
      "TEST LOSS: 0.5270158052444458\n"
     ]
    },
    {
     "name": "stderr",
     "output_type": "stream",
     "text": [
      "Training:  34%|███▍      | 86/250 [00:44<01:19,  2.06Epochs/s]"
     ]
    },
    {
     "name": "stdout",
     "output_type": "stream",
     "text": [
      "0.4911253469752836\n",
      "0.49105356727634464\n"
     ]
    },
    {
     "name": "stderr",
     "output_type": "stream",
     "text": [
      "Training:  35%|███▍      | 87/250 [00:45<01:28,  1.84Epochs/s]"
     ]
    },
    {
     "name": "stdout",
     "output_type": "stream",
     "text": [
      "TEST LOSS: 0.5197581052780151\n"
     ]
    },
    {
     "name": "stderr",
     "output_type": "stream",
     "text": [
      "Training:  35%|███▌      | 88/250 [00:45<01:18,  2.06Epochs/s]"
     ]
    },
    {
     "name": "stdout",
     "output_type": "stream",
     "text": [
      "0.48867918349601125\n",
      "0.4907079278617292\n"
     ]
    },
    {
     "name": "stderr",
     "output_type": "stream",
     "text": [
      "Training:  36%|███▌      | 89/250 [00:46<01:27,  1.84Epochs/s]"
     ]
    },
    {
     "name": "stdout",
     "output_type": "stream",
     "text": [
      "TEST LOSS: 0.5351596474647522\n"
     ]
    },
    {
     "name": "stderr",
     "output_type": "stream",
     "text": [
      "Training:  36%|███▌      | 90/250 [00:46<01:18,  2.04Epochs/s]"
     ]
    },
    {
     "name": "stdout",
     "output_type": "stream",
     "text": [
      "0.4831696860156618\n",
      "0.4839134055214959\n"
     ]
    },
    {
     "name": "stderr",
     "output_type": "stream",
     "text": [
      "Training:  36%|███▋      | 91/250 [00:47<01:26,  1.83Epochs/s]"
     ]
    },
    {
     "name": "stdout",
     "output_type": "stream",
     "text": [
      "TEST LOSS: 0.5129964351654053\n"
     ]
    },
    {
     "name": "stderr",
     "output_type": "stream",
     "text": [
      "Training:  37%|███▋      | 92/250 [00:47<01:17,  2.03Epochs/s]"
     ]
    },
    {
     "name": "stdout",
     "output_type": "stream",
     "text": [
      "0.48712876573339237\n",
      "0.48552261494301463\n"
     ]
    },
    {
     "name": "stderr",
     "output_type": "stream",
     "text": [
      "Training:  37%|███▋      | 93/250 [00:48<01:26,  1.82Epochs/s]"
     ]
    },
    {
     "name": "stdout",
     "output_type": "stream",
     "text": [
      "TEST LOSS: 0.5260161757469177\n"
     ]
    },
    {
     "name": "stderr",
     "output_type": "stream",
     "text": [
      "Training:  38%|███▊      | 94/250 [00:48<01:16,  2.04Epochs/s]"
     ]
    },
    {
     "name": "stdout",
     "output_type": "stream",
     "text": [
      "0.47793519174730453\n",
      "0.4762910029909632\n"
     ]
    },
    {
     "name": "stderr",
     "output_type": "stream",
     "text": [
      "Training:  38%|███▊      | 95/250 [00:49<01:23,  1.86Epochs/s]"
     ]
    },
    {
     "name": "stdout",
     "output_type": "stream",
     "text": [
      "TEST LOSS: 0.5119947791099548\n"
     ]
    },
    {
     "name": "stderr",
     "output_type": "stream",
     "text": [
      "Training:  38%|███▊      | 96/250 [00:49<01:14,  2.07Epochs/s]"
     ]
    },
    {
     "name": "stdout",
     "output_type": "stream",
     "text": [
      "0.47844584192241635\n",
      "0.47465426669464456\n"
     ]
    },
    {
     "name": "stderr",
     "output_type": "stream",
     "text": [
      "Training:  39%|███▉      | 97/250 [00:50<01:22,  1.86Epochs/s]"
     ]
    },
    {
     "name": "stdout",
     "output_type": "stream",
     "text": [
      "TEST LOSS: 0.5174325108528137\n"
     ]
    },
    {
     "name": "stderr",
     "output_type": "stream",
     "text": [
      "Training:  39%|███▉      | 98/250 [00:50<01:13,  2.06Epochs/s]"
     ]
    },
    {
     "name": "stdout",
     "output_type": "stream",
     "text": [
      "0.47492604481207357\n",
      "0.47874464913531467\n"
     ]
    },
    {
     "name": "stderr",
     "output_type": "stream",
     "text": [
      "Training:  40%|███▉      | 99/250 [00:51<01:23,  1.80Epochs/s]"
     ]
    },
    {
     "name": "stdout",
     "output_type": "stream",
     "text": [
      "TEST LOSS: 0.5090687274932861\n"
     ]
    },
    {
     "name": "stderr",
     "output_type": "stream",
     "text": [
      "Training:  40%|████      | 100/250 [00:51<01:14,  2.02Epochs/s]"
     ]
    },
    {
     "name": "stdout",
     "output_type": "stream",
     "text": [
      "0.4746467058655915\n",
      "0.4717950487996007\n"
     ]
    },
    {
     "name": "stderr",
     "output_type": "stream",
     "text": [
      "Training:  40%|████      | 101/250 [00:52<01:21,  1.83Epochs/s]"
     ]
    },
    {
     "name": "stdout",
     "output_type": "stream",
     "text": [
      "TEST LOSS: 0.514038622379303\n"
     ]
    },
    {
     "name": "stderr",
     "output_type": "stream",
     "text": [
      "Training:  41%|████      | 102/250 [00:52<01:12,  2.04Epochs/s]"
     ]
    },
    {
     "name": "stdout",
     "output_type": "stream",
     "text": [
      "0.47817285909309043\n",
      "0.47781436991047216\n"
     ]
    },
    {
     "name": "stderr",
     "output_type": "stream",
     "text": [
      "Training:  41%|████      | 103/250 [00:53<01:18,  1.87Epochs/s]"
     ]
    },
    {
     "name": "stdout",
     "output_type": "stream",
     "text": [
      "TEST LOSS: 0.5173336863517761\n"
     ]
    },
    {
     "name": "stderr",
     "output_type": "stream",
     "text": [
      "Training:  42%|████▏     | 104/250 [00:53<01:09,  2.09Epochs/s]"
     ]
    },
    {
     "name": "stdout",
     "output_type": "stream",
     "text": [
      "0.4717570446633004\n",
      "0.47066119823369895\n"
     ]
    },
    {
     "name": "stderr",
     "output_type": "stream",
     "text": [
      "Training:  42%|████▏     | 105/250 [00:54<01:17,  1.88Epochs/s]"
     ]
    },
    {
     "name": "stdout",
     "output_type": "stream",
     "text": [
      "TEST LOSS: 0.5100253224372864\n"
     ]
    },
    {
     "name": "stderr",
     "output_type": "stream",
     "text": [
      "Training:  42%|████▏     | 106/250 [00:54<01:08,  2.09Epochs/s]"
     ]
    },
    {
     "name": "stdout",
     "output_type": "stream",
     "text": [
      "0.4756847853596146\n",
      "0.4718013872971406\n"
     ]
    },
    {
     "name": "stderr",
     "output_type": "stream",
     "text": [
      "Training:  43%|████▎     | 107/250 [00:55<01:15,  1.88Epochs/s]"
     ]
    },
    {
     "name": "stdout",
     "output_type": "stream",
     "text": [
      "TEST LOSS: 0.5163686871528625\n"
     ]
    },
    {
     "name": "stderr",
     "output_type": "stream",
     "text": [
      "Training:  43%|████▎     | 108/250 [00:55<01:07,  2.11Epochs/s]"
     ]
    },
    {
     "name": "stdout",
     "output_type": "stream",
     "text": [
      "0.4742539922396342\n",
      "0.4754123929384592\n"
     ]
    },
    {
     "name": "stderr",
     "output_type": "stream",
     "text": [
      "Training:  44%|████▎     | 109/250 [00:56<01:14,  1.88Epochs/s]"
     ]
    },
    {
     "name": "stdout",
     "output_type": "stream",
     "text": [
      "TEST LOSS: 0.5026951432228088\n"
     ]
    },
    {
     "name": "stderr",
     "output_type": "stream",
     "text": [
      "Training:  44%|████▍     | 110/250 [00:56<01:06,  2.11Epochs/s]"
     ]
    },
    {
     "name": "stdout",
     "output_type": "stream",
     "text": [
      "0.470791309266477\n",
      "0.468271415512841\n"
     ]
    },
    {
     "name": "stderr",
     "output_type": "stream",
     "text": [
      "Training:  44%|████▍     | 111/250 [00:57<01:13,  1.90Epochs/s]"
     ]
    },
    {
     "name": "stdout",
     "output_type": "stream",
     "text": [
      "TEST LOSS: 0.519137442111969\n"
     ]
    },
    {
     "name": "stderr",
     "output_type": "stream",
     "text": [
      "Training:  45%|████▍     | 112/250 [00:57<01:05,  2.11Epochs/s]"
     ]
    },
    {
     "name": "stdout",
     "output_type": "stream",
     "text": [
      "0.47184395897495857\n",
      "0.4676034649213155\n"
     ]
    },
    {
     "name": "stderr",
     "output_type": "stream",
     "text": [
      "Training:  45%|████▌     | 113/250 [00:58<01:12,  1.88Epochs/s]"
     ]
    },
    {
     "name": "stdout",
     "output_type": "stream",
     "text": [
      "TEST LOSS: 0.5133479237556458\n"
     ]
    },
    {
     "name": "stderr",
     "output_type": "stream",
     "text": [
      "Training:  46%|████▌     | 114/250 [00:58<01:04,  2.10Epochs/s]"
     ]
    },
    {
     "name": "stdout",
     "output_type": "stream",
     "text": [
      "0.4647894866831668\n",
      "0.4658380723348609\n"
     ]
    },
    {
     "name": "stderr",
     "output_type": "stream",
     "text": [
      "Training:  46%|████▌     | 115/250 [00:59<01:12,  1.87Epochs/s]"
     ]
    },
    {
     "name": "stdout",
     "output_type": "stream",
     "text": [
      "TEST LOSS: 0.5080274939537048\n"
     ]
    },
    {
     "name": "stderr",
     "output_type": "stream",
     "text": [
      "Training:  46%|████▋     | 116/250 [00:59<01:04,  2.09Epochs/s]"
     ]
    },
    {
     "name": "stdout",
     "output_type": "stream",
     "text": [
      "0.46612004492733927\n",
      "0.46198005101702233\n"
     ]
    },
    {
     "name": "stderr",
     "output_type": "stream",
     "text": [
      "Training:  47%|████▋     | 117/250 [01:00<01:10,  1.88Epochs/s]"
     ]
    },
    {
     "name": "stdout",
     "output_type": "stream",
     "text": [
      "TEST LOSS: 0.5012404918670654\n"
     ]
    },
    {
     "name": "stderr",
     "output_type": "stream",
     "text": [
      "Training:  47%|████▋     | 118/250 [01:00<01:03,  2.08Epochs/s]"
     ]
    },
    {
     "name": "stdout",
     "output_type": "stream",
     "text": [
      "0.4667244021956985\n",
      "0.4632923774891072\n"
     ]
    },
    {
     "name": "stderr",
     "output_type": "stream",
     "text": [
      "Training:  48%|████▊     | 119/250 [01:01<01:09,  1.87Epochs/s]"
     ]
    },
    {
     "name": "stdout",
     "output_type": "stream",
     "text": [
      "TEST LOSS: 0.5115932822227478\n"
     ]
    },
    {
     "name": "stderr",
     "output_type": "stream",
     "text": [
      "Training:  48%|████▊     | 120/250 [01:02<01:01,  2.10Epochs/s]"
     ]
    },
    {
     "name": "stdout",
     "output_type": "stream",
     "text": [
      "0.4730066308030137\n",
      "0.458986924038277\n"
     ]
    },
    {
     "name": "stderr",
     "output_type": "stream",
     "text": [
      "Training:  48%|████▊     | 121/250 [01:02<01:08,  1.87Epochs/s]"
     ]
    },
    {
     "name": "stdout",
     "output_type": "stream",
     "text": [
      "TEST LOSS: 0.4998248815536499\n"
     ]
    },
    {
     "name": "stderr",
     "output_type": "stream",
     "text": [
      "Training:  49%|████▉     | 122/250 [01:03<01:00,  2.11Epochs/s]"
     ]
    },
    {
     "name": "stdout",
     "output_type": "stream",
     "text": [
      "0.46531276069245897\n",
      "0.4645359019438426\n"
     ]
    },
    {
     "name": "stderr",
     "output_type": "stream",
     "text": [
      "Training:  49%|████▉     | 123/250 [01:03<01:06,  1.90Epochs/s]"
     ]
    },
    {
     "name": "stdout",
     "output_type": "stream",
     "text": [
      "TEST LOSS: 0.5007697343826294\n"
     ]
    },
    {
     "name": "stderr",
     "output_type": "stream",
     "text": [
      "Training:  50%|████▉     | 124/250 [01:03<00:59,  2.13Epochs/s]"
     ]
    },
    {
     "name": "stdout",
     "output_type": "stream",
     "text": [
      "0.462079939541516\n",
      "0.4608918855319152\n"
     ]
    },
    {
     "name": "stderr",
     "output_type": "stream",
     "text": [
      "Training:  50%|█████     | 125/250 [01:04<01:05,  1.90Epochs/s]"
     ]
    },
    {
     "name": "stdout",
     "output_type": "stream",
     "text": [
      "TEST LOSS: 0.5051042437553406\n"
     ]
    },
    {
     "name": "stderr",
     "output_type": "stream",
     "text": [
      "Training:  50%|█████     | 126/250 [01:05<00:59,  2.10Epochs/s]"
     ]
    },
    {
     "name": "stdout",
     "output_type": "stream",
     "text": [
      "0.4605999116425042\n",
      "0.46102294621166884\n"
     ]
    },
    {
     "name": "stderr",
     "output_type": "stream",
     "text": [
      "Training:  51%|█████     | 127/250 [01:05<01:05,  1.88Epochs/s]"
     ]
    },
    {
     "name": "stdout",
     "output_type": "stream",
     "text": [
      "TEST LOSS: 0.5099563002586365\n"
     ]
    },
    {
     "name": "stderr",
     "output_type": "stream",
     "text": [
      "Training:  51%|█████     | 128/250 [01:06<00:58,  2.10Epochs/s]"
     ]
    },
    {
     "name": "stdout",
     "output_type": "stream",
     "text": [
      "0.46036717376193487\n",
      "0.4601750142939456\n"
     ]
    },
    {
     "name": "stderr",
     "output_type": "stream",
     "text": [
      "Training:  52%|█████▏    | 129/250 [01:06<01:04,  1.88Epochs/s]"
     ]
    },
    {
     "name": "stdout",
     "output_type": "stream",
     "text": [
      "TEST LOSS: 0.5091206431388855\n"
     ]
    },
    {
     "name": "stderr",
     "output_type": "stream",
     "text": [
      "Training:  52%|█████▏    | 130/250 [01:07<00:56,  2.11Epochs/s]"
     ]
    },
    {
     "name": "stdout",
     "output_type": "stream",
     "text": [
      "0.4593764076361785\n",
      "0.4606229120546633\n"
     ]
    },
    {
     "name": "stderr",
     "output_type": "stream",
     "text": [
      "Training:  52%|█████▏    | 131/250 [01:07<01:02,  1.90Epochs/s]"
     ]
    },
    {
     "name": "stdout",
     "output_type": "stream",
     "text": [
      "TEST LOSS: 0.5006914138793945\n"
     ]
    },
    {
     "name": "stderr",
     "output_type": "stream",
     "text": [
      "Training:  53%|█████▎    | 132/250 [01:08<00:55,  2.12Epochs/s]"
     ]
    },
    {
     "name": "stdout",
     "output_type": "stream",
     "text": [
      "0.45930634532962833\n",
      "0.4589022732264287\n"
     ]
    },
    {
     "name": "stderr",
     "output_type": "stream",
     "text": [
      "Training:  53%|█████▎    | 133/250 [01:08<01:01,  1.90Epochs/s]"
     ]
    },
    {
     "name": "stdout",
     "output_type": "stream",
     "text": [
      "TEST LOSS: 0.5062696933746338\n"
     ]
    },
    {
     "name": "stderr",
     "output_type": "stream",
     "text": [
      "Training:  54%|█████▎    | 134/250 [01:09<00:54,  2.12Epochs/s]"
     ]
    },
    {
     "name": "stdout",
     "output_type": "stream",
     "text": [
      "0.45884836632926185\n",
      "0.461430886844257\n"
     ]
    },
    {
     "name": "stderr",
     "output_type": "stream",
     "text": [
      "Training:  54%|█████▍    | 135/250 [01:09<01:00,  1.91Epochs/s]"
     ]
    },
    {
     "name": "stdout",
     "output_type": "stream",
     "text": [
      "TEST LOSS: 0.5078571438789368\n"
     ]
    },
    {
     "name": "stderr",
     "output_type": "stream",
     "text": [
      "Training:  54%|█████▍    | 136/250 [01:09<00:53,  2.13Epochs/s]"
     ]
    },
    {
     "name": "stdout",
     "output_type": "stream",
     "text": [
      "0.4582673885800817\n",
      "0.4626430847623327\n"
     ]
    },
    {
     "name": "stderr",
     "output_type": "stream",
     "text": [
      "Training:  55%|█████▍    | 137/250 [01:10<00:59,  1.91Epochs/s]"
     ]
    },
    {
     "name": "stdout",
     "output_type": "stream",
     "text": [
      "TEST LOSS: 0.5362406373023987\n"
     ]
    },
    {
     "name": "stderr",
     "output_type": "stream",
     "text": [
      "Training:  55%|█████▌    | 138/250 [01:10<00:52,  2.11Epochs/s]"
     ]
    },
    {
     "name": "stdout",
     "output_type": "stream",
     "text": [
      "0.4681229070500211\n",
      "0.4653243379549937\n"
     ]
    },
    {
     "name": "stderr",
     "output_type": "stream",
     "text": [
      "Training:  56%|█████▌    | 139/250 [01:11<00:58,  1.90Epochs/s]"
     ]
    },
    {
     "name": "stdout",
     "output_type": "stream",
     "text": [
      "TEST LOSS: 0.5173018574714661\n"
     ]
    },
    {
     "name": "stderr",
     "output_type": "stream",
     "text": [
      "Training:  56%|█████▌    | 140/250 [01:12<00:52,  2.11Epochs/s]"
     ]
    },
    {
     "name": "stdout",
     "output_type": "stream",
     "text": [
      "0.461317777633667\n",
      "0.4610114129813942\n"
     ]
    },
    {
     "name": "stderr",
     "output_type": "stream",
     "text": [
      "Training:  56%|█████▋    | 141/250 [01:12<00:57,  1.89Epochs/s]"
     ]
    },
    {
     "name": "stdout",
     "output_type": "stream",
     "text": [
      "TEST LOSS: 0.49981689453125\n"
     ]
    },
    {
     "name": "stderr",
     "output_type": "stream",
     "text": [
      "Training:  57%|█████▋    | 142/250 [01:13<00:51,  2.11Epochs/s]"
     ]
    },
    {
     "name": "stdout",
     "output_type": "stream",
     "text": [
      "0.45811421377164824\n",
      "0.45816872329325287\n"
     ]
    },
    {
     "name": "stderr",
     "output_type": "stream",
     "text": [
      "Training:  57%|█████▋    | 143/250 [01:13<00:56,  1.89Epochs/s]"
     ]
    },
    {
     "name": "stdout",
     "output_type": "stream",
     "text": [
      "TEST LOSS: 0.5066698789596558\n"
     ]
    },
    {
     "name": "stderr",
     "output_type": "stream",
     "text": [
      "Training:  58%|█████▊    | 144/250 [01:14<00:50,  2.11Epochs/s]"
     ]
    },
    {
     "name": "stdout",
     "output_type": "stream",
     "text": [
      "0.45886897074209676\n",
      "0.45830110118195816\n"
     ]
    },
    {
     "name": "stderr",
     "output_type": "stream",
     "text": [
      "Training:  58%|█████▊    | 145/250 [01:14<00:55,  1.89Epochs/s]"
     ]
    },
    {
     "name": "stdout",
     "output_type": "stream",
     "text": [
      "TEST LOSS: 0.5056750774383545\n"
     ]
    },
    {
     "name": "stderr",
     "output_type": "stream",
     "text": [
      "Training:  58%|█████▊    | 146/250 [01:15<00:49,  2.10Epochs/s]"
     ]
    },
    {
     "name": "stdout",
     "output_type": "stream",
     "text": [
      "0.4573653684006081\n",
      "0.45762721026265946\n"
     ]
    },
    {
     "name": "stderr",
     "output_type": "stream",
     "text": [
      "Training:  59%|█████▉    | 147/250 [01:15<00:55,  1.87Epochs/s]"
     ]
    },
    {
     "name": "stdout",
     "output_type": "stream",
     "text": [
      "TEST LOSS: 0.509505569934845\n"
     ]
    },
    {
     "name": "stderr",
     "output_type": "stream",
     "text": [
      "Training:  59%|█████▉    | 148/250 [01:16<00:48,  2.08Epochs/s]"
     ]
    },
    {
     "name": "stdout",
     "output_type": "stream",
     "text": [
      "0.4577002310538077\n",
      "0.46171342628496187\n"
     ]
    },
    {
     "name": "stderr",
     "output_type": "stream",
     "text": [
      "Training:  60%|█████▉    | 149/250 [01:16<00:53,  1.89Epochs/s]"
     ]
    },
    {
     "name": "stdout",
     "output_type": "stream",
     "text": [
      "TEST LOSS: 0.500189483165741\n"
     ]
    },
    {
     "name": "stderr",
     "output_type": "stream",
     "text": [
      "Training:  60%|██████    | 150/250 [01:17<00:47,  2.10Epochs/s]"
     ]
    },
    {
     "name": "stdout",
     "output_type": "stream",
     "text": [
      "0.4607560205030012\n",
      "0.46239271464648546\n"
     ]
    },
    {
     "name": "stderr",
     "output_type": "stream",
     "text": [
      "Training:  60%|██████    | 151/250 [01:17<00:52,  1.87Epochs/s]"
     ]
    },
    {
     "name": "stdout",
     "output_type": "stream",
     "text": [
      "TEST LOSS: 0.5174809098243713\n"
     ]
    },
    {
     "name": "stderr",
     "output_type": "stream",
     "text": [
      "Training:  61%|██████    | 152/250 [01:18<00:46,  2.09Epochs/s]"
     ]
    },
    {
     "name": "stdout",
     "output_type": "stream",
     "text": [
      "0.4602119111799979\n",
      "0.4599640138514407\n"
     ]
    },
    {
     "name": "stderr",
     "output_type": "stream",
     "text": [
      "Training:  61%|██████    | 153/250 [01:18<00:52,  1.85Epochs/s]"
     ]
    },
    {
     "name": "stdout",
     "output_type": "stream",
     "text": [
      "TEST LOSS: 0.5059974193572998\n"
     ]
    },
    {
     "name": "stderr",
     "output_type": "stream",
     "text": [
      "Training:  62%|██████▏   | 154/250 [01:19<00:46,  2.07Epochs/s]"
     ]
    },
    {
     "name": "stdout",
     "output_type": "stream",
     "text": [
      "0.45691643534479914\n",
      "0.4571129110482362\n"
     ]
    },
    {
     "name": "stderr",
     "output_type": "stream",
     "text": [
      "Training:  62%|██████▏   | 155/250 [01:19<00:50,  1.87Epochs/s]"
     ]
    },
    {
     "name": "stdout",
     "output_type": "stream",
     "text": [
      "TEST LOSS: 0.5077359676361084\n"
     ]
    },
    {
     "name": "stderr",
     "output_type": "stream",
     "text": [
      "Training:  62%|██████▏   | 156/250 [01:20<00:45,  2.09Epochs/s]"
     ]
    },
    {
     "name": "stdout",
     "output_type": "stream",
     "text": [
      "0.4565488236981469\n",
      "0.4564236864313349\n"
     ]
    },
    {
     "name": "stderr",
     "output_type": "stream",
     "text": [
      "Training:  63%|██████▎   | 157/250 [01:20<00:49,  1.87Epochs/s]"
     ]
    },
    {
     "name": "stdout",
     "output_type": "stream",
     "text": [
      "TEST LOSS: 0.5036338567733765\n"
     ]
    },
    {
     "name": "stderr",
     "output_type": "stream",
     "text": [
      "Training:  63%|██████▎   | 158/250 [01:21<00:44,  2.08Epochs/s]"
     ]
    },
    {
     "name": "stdout",
     "output_type": "stream",
     "text": [
      "0.45662974183623856\n",
      "0.45711425456914817\n"
     ]
    },
    {
     "name": "stderr",
     "output_type": "stream",
     "text": [
      "Training:  64%|██████▎   | 159/250 [01:21<00:48,  1.87Epochs/s]"
     ]
    },
    {
     "name": "stdout",
     "output_type": "stream",
     "text": [
      "TEST LOSS: 0.5031083822250366\n"
     ]
    },
    {
     "name": "stderr",
     "output_type": "stream",
     "text": [
      "Training:  64%|██████▍   | 160/250 [01:22<00:43,  2.08Epochs/s]"
     ]
    },
    {
     "name": "stdout",
     "output_type": "stream",
     "text": [
      "0.45770036153965166\n",
      "0.456029009711635\n"
     ]
    },
    {
     "name": "stderr",
     "output_type": "stream",
     "text": [
      "Training:  64%|██████▍   | 161/250 [01:22<00:46,  1.90Epochs/s]"
     ]
    },
    {
     "name": "stdout",
     "output_type": "stream",
     "text": [
      "TEST LOSS: 0.5081714391708374\n"
     ]
    },
    {
     "name": "stderr",
     "output_type": "stream",
     "text": [
      "Training:  65%|██████▍   | 162/250 [01:23<00:41,  2.13Epochs/s]"
     ]
    },
    {
     "name": "stdout",
     "output_type": "stream",
     "text": [
      "0.45736289668727564\n",
      "0.45696370129112723\n"
     ]
    },
    {
     "name": "stderr",
     "output_type": "stream",
     "text": [
      "Training:  65%|██████▌   | 163/250 [01:23<00:45,  1.89Epochs/s]"
     ]
    },
    {
     "name": "stdout",
     "output_type": "stream",
     "text": [
      "TEST LOSS: 0.5001196265220642\n"
     ]
    },
    {
     "name": "stderr",
     "output_type": "stream",
     "text": [
      "Training:  66%|██████▌   | 164/250 [01:24<00:40,  2.12Epochs/s]"
     ]
    },
    {
     "name": "stdout",
     "output_type": "stream",
     "text": [
      "0.4570661009968938\n",
      "0.45585167300593743\n"
     ]
    },
    {
     "name": "stderr",
     "output_type": "stream",
     "text": [
      "Training:  66%|██████▌   | 165/250 [01:24<00:45,  1.87Epochs/s]"
     ]
    },
    {
     "name": "stdout",
     "output_type": "stream",
     "text": [
      "TEST LOSS: 0.5052006840705872\n"
     ]
    },
    {
     "name": "stderr",
     "output_type": "stream",
     "text": [
      "Training:  66%|██████▋   | 166/250 [01:25<00:40,  2.09Epochs/s]"
     ]
    },
    {
     "name": "stdout",
     "output_type": "stream",
     "text": [
      "0.46186456916568513\n",
      "0.45771454378694026\n"
     ]
    },
    {
     "name": "stderr",
     "output_type": "stream",
     "text": [
      "Training:  67%|██████▋   | 167/250 [01:25<00:43,  1.89Epochs/s]"
     ]
    },
    {
     "name": "stdout",
     "output_type": "stream",
     "text": [
      "TEST LOSS: 0.5030786991119385\n"
     ]
    },
    {
     "name": "stderr",
     "output_type": "stream",
     "text": [
      "Training:  67%|██████▋   | 168/250 [01:26<00:38,  2.12Epochs/s]"
     ]
    },
    {
     "name": "stdout",
     "output_type": "stream",
     "text": [
      "0.45654116208488876\n",
      "0.46085485735455073\n"
     ]
    },
    {
     "name": "stderr",
     "output_type": "stream",
     "text": [
      "Training:  68%|██████▊   | 169/250 [01:26<00:42,  1.90Epochs/s]"
     ]
    },
    {
     "name": "stdout",
     "output_type": "stream",
     "text": [
      "TEST LOSS: 0.49979549646377563\n"
     ]
    },
    {
     "name": "stderr",
     "output_type": "stream",
     "text": [
      "Training:  68%|██████▊   | 170/250 [01:27<00:37,  2.12Epochs/s]"
     ]
    },
    {
     "name": "stdout",
     "output_type": "stream",
     "text": [
      "0.4565899546618934\n",
      "0.4599917018198752\n"
     ]
    },
    {
     "name": "stderr",
     "output_type": "stream",
     "text": [
      "Training:  68%|██████▊   | 171/250 [01:27<00:41,  1.90Epochs/s]"
     ]
    },
    {
     "name": "stdout",
     "output_type": "stream",
     "text": [
      "TEST LOSS: 0.5120484828948975\n"
     ]
    },
    {
     "name": "stderr",
     "output_type": "stream",
     "text": [
      "Training:  69%|██████▉   | 172/250 [01:28<00:36,  2.12Epochs/s]"
     ]
    },
    {
     "name": "stdout",
     "output_type": "stream",
     "text": [
      "0.4565009941925874\n",
      "0.4570027289089856\n"
     ]
    },
    {
     "name": "stderr",
     "output_type": "stream",
     "text": [
      "Training:  69%|██████▉   | 173/250 [01:28<00:40,  1.88Epochs/s]"
     ]
    },
    {
     "name": "stdout",
     "output_type": "stream",
     "text": [
      "TEST LOSS: 0.515929639339447\n"
     ]
    },
    {
     "name": "stderr",
     "output_type": "stream",
     "text": [
      "Training:  70%|██████▉   | 174/250 [01:29<00:36,  2.09Epochs/s]"
     ]
    },
    {
     "name": "stdout",
     "output_type": "stream",
     "text": [
      "0.4595642535536139\n",
      "0.45463558078349176\n"
     ]
    },
    {
     "name": "stderr",
     "output_type": "stream",
     "text": [
      "Training:  70%|███████   | 175/250 [01:29<00:40,  1.87Epochs/s]"
     ]
    },
    {
     "name": "stdout",
     "output_type": "stream",
     "text": [
      "TEST LOSS: 0.4988514184951782\n"
     ]
    },
    {
     "name": "stderr",
     "output_type": "stream",
     "text": [
      "Training:  70%|███████   | 176/250 [01:30<00:35,  2.09Epochs/s]"
     ]
    },
    {
     "name": "stdout",
     "output_type": "stream",
     "text": [
      "0.46082781617705887\n",
      "0.4622708704020526\n"
     ]
    },
    {
     "name": "stderr",
     "output_type": "stream",
     "text": [
      "Training:  71%|███████   | 177/250 [01:30<00:38,  1.88Epochs/s]"
     ]
    },
    {
     "name": "stdout",
     "output_type": "stream",
     "text": [
      "TEST LOSS: 0.49584901332855225\n"
     ]
    },
    {
     "name": "stderr",
     "output_type": "stream",
     "text": [
      "Training:  71%|███████   | 178/250 [01:31<00:34,  2.09Epochs/s]"
     ]
    },
    {
     "name": "stdout",
     "output_type": "stream",
     "text": [
      "0.45785555297190006\n",
      "0.45662870493021096\n"
     ]
    },
    {
     "name": "stderr",
     "output_type": "stream",
     "text": [
      "Training:  72%|███████▏  | 179/250 [01:31<00:37,  1.88Epochs/s]"
     ]
    },
    {
     "name": "stdout",
     "output_type": "stream",
     "text": [
      "TEST LOSS: 0.5004599094390869\n"
     ]
    },
    {
     "name": "stderr",
     "output_type": "stream",
     "text": [
      "Training:  72%|███████▏  | 180/250 [01:32<00:33,  2.09Epochs/s]"
     ]
    },
    {
     "name": "stdout",
     "output_type": "stream",
     "text": [
      "0.45650135128347724\n",
      "0.4565521991467691\n"
     ]
    },
    {
     "name": "stderr",
     "output_type": "stream",
     "text": [
      "Training:  72%|███████▏  | 181/250 [01:32<00:37,  1.86Epochs/s]"
     ]
    },
    {
     "name": "stdout",
     "output_type": "stream",
     "text": [
      "TEST LOSS: 0.5073962807655334\n"
     ]
    },
    {
     "name": "stderr",
     "output_type": "stream",
     "text": [
      "Training:  73%|███████▎  | 182/250 [01:33<00:32,  2.07Epochs/s]"
     ]
    },
    {
     "name": "stdout",
     "output_type": "stream",
     "text": [
      "0.45574194515073624\n",
      "0.45528574623503126\n"
     ]
    },
    {
     "name": "stderr",
     "output_type": "stream",
     "text": [
      "Training:  73%|███████▎  | 183/250 [01:33<00:35,  1.86Epochs/s]"
     ]
    },
    {
     "name": "stdout",
     "output_type": "stream",
     "text": [
      "TEST LOSS: 0.5041074156761169\n"
     ]
    },
    {
     "name": "stderr",
     "output_type": "stream",
     "text": [
      "Training:  74%|███████▎  | 184/250 [01:34<00:31,  2.09Epochs/s]"
     ]
    },
    {
     "name": "stdout",
     "output_type": "stream",
     "text": [
      "0.45497306939717885\n",
      "0.45499560317477666\n"
     ]
    },
    {
     "name": "stderr",
     "output_type": "stream",
     "text": [
      "Training:  74%|███████▍  | 185/250 [01:34<00:34,  1.88Epochs/s]"
     ]
    },
    {
     "name": "stdout",
     "output_type": "stream",
     "text": [
      "TEST LOSS: 0.511563777923584\n"
     ]
    },
    {
     "name": "stderr",
     "output_type": "stream",
     "text": [
      "Training:  74%|███████▍  | 186/250 [01:35<00:30,  2.11Epochs/s]"
     ]
    },
    {
     "name": "stdout",
     "output_type": "stream",
     "text": [
      "0.45627089556273037\n",
      "0.45442502589913103\n"
     ]
    },
    {
     "name": "stderr",
     "output_type": "stream",
     "text": [
      "Training:  75%|███████▍  | 187/250 [01:35<00:33,  1.90Epochs/s]"
     ]
    },
    {
     "name": "stdout",
     "output_type": "stream",
     "text": [
      "TEST LOSS: 0.5063698887825012\n"
     ]
    },
    {
     "name": "stderr",
     "output_type": "stream",
     "text": [
      "Training:  75%|███████▌  | 188/250 [01:36<00:29,  2.11Epochs/s]"
     ]
    },
    {
     "name": "stdout",
     "output_type": "stream",
     "text": [
      "0.4555993964811703\n",
      "0.455022111669317\n"
     ]
    },
    {
     "name": "stderr",
     "output_type": "stream",
     "text": [
      "Training:  76%|███████▌  | 189/250 [01:36<00:32,  1.89Epochs/s]"
     ]
    },
    {
     "name": "stdout",
     "output_type": "stream",
     "text": [
      "TEST LOSS: 0.5071265697479248\n"
     ]
    },
    {
     "name": "stderr",
     "output_type": "stream",
     "text": [
      "Training:  76%|███████▌  | 190/250 [01:37<00:28,  2.11Epochs/s]"
     ]
    },
    {
     "name": "stdout",
     "output_type": "stream",
     "text": [
      "0.45379186320949244\n",
      "0.45393052515951365\n"
     ]
    },
    {
     "name": "stderr",
     "output_type": "stream",
     "text": [
      "Training:  76%|███████▋  | 191/250 [01:37<00:31,  1.88Epochs/s]"
     ]
    },
    {
     "name": "stdout",
     "output_type": "stream",
     "text": [
      "TEST LOSS: 0.5097106695175171\n"
     ]
    },
    {
     "name": "stderr",
     "output_type": "stream",
     "text": [
      "Training:  77%|███████▋  | 192/250 [01:38<00:27,  2.08Epochs/s]"
     ]
    },
    {
     "name": "stdout",
     "output_type": "stream",
     "text": [
      "0.45334815979003906\n",
      "0.4546544624341501\n"
     ]
    },
    {
     "name": "stderr",
     "output_type": "stream",
     "text": [
      "Training:  77%|███████▋  | 193/250 [01:38<00:30,  1.88Epochs/s]"
     ]
    },
    {
     "name": "stdout",
     "output_type": "stream",
     "text": [
      "TEST LOSS: 0.504378616809845\n"
     ]
    },
    {
     "name": "stderr",
     "output_type": "stream",
     "text": [
      "Training:  78%|███████▊  | 194/250 [01:39<00:26,  2.10Epochs/s]"
     ]
    },
    {
     "name": "stdout",
     "output_type": "stream",
     "text": [
      "0.45315650454512585\n",
      "0.45345103257411234\n"
     ]
    },
    {
     "name": "stderr",
     "output_type": "stream",
     "text": [
      "Training:  78%|███████▊  | 195/250 [01:39<00:28,  1.90Epochs/s]"
     ]
    },
    {
     "name": "stdout",
     "output_type": "stream",
     "text": [
      "TEST LOSS: 0.5120619535446167\n"
     ]
    },
    {
     "name": "stderr",
     "output_type": "stream",
     "text": [
      "Training:  78%|███████▊  | 196/250 [01:40<00:25,  2.13Epochs/s]"
     ]
    },
    {
     "name": "stdout",
     "output_type": "stream",
     "text": [
      "0.4530143147116309\n",
      "0.4544461170832316\n"
     ]
    },
    {
     "name": "stderr",
     "output_type": "stream",
     "text": [
      "Training:  79%|███████▉  | 197/250 [01:40<00:28,  1.88Epochs/s]"
     ]
    },
    {
     "name": "stdout",
     "output_type": "stream",
     "text": [
      "TEST LOSS: 0.5063291788101196\n"
     ]
    },
    {
     "name": "stderr",
     "output_type": "stream",
     "text": [
      "Training:  79%|███████▉  | 198/250 [01:41<00:24,  2.09Epochs/s]"
     ]
    },
    {
     "name": "stdout",
     "output_type": "stream",
     "text": [
      "0.4520810324329514\n",
      "0.4538960682379233\n"
     ]
    },
    {
     "name": "stderr",
     "output_type": "stream",
     "text": [
      "Training:  80%|███████▉  | 199/250 [01:41<00:27,  1.87Epochs/s]"
     ]
    },
    {
     "name": "stdout",
     "output_type": "stream",
     "text": [
      "TEST LOSS: 0.5111713409423828\n"
     ]
    },
    {
     "name": "stderr",
     "output_type": "stream",
     "text": [
      "Training:  80%|████████  | 200/250 [01:42<00:24,  2.07Epochs/s]"
     ]
    },
    {
     "name": "stdout",
     "output_type": "stream",
     "text": [
      "0.45499649160617106\n",
      "0.4525904591019089\n"
     ]
    },
    {
     "name": "stderr",
     "output_type": "stream",
     "text": [
      "Training:  80%|████████  | 201/250 [01:42<00:26,  1.84Epochs/s]"
     ]
    },
    {
     "name": "stdout",
     "output_type": "stream",
     "text": [
      "TEST LOSS: 0.5019553303718567\n"
     ]
    },
    {
     "name": "stderr",
     "output_type": "stream",
     "text": [
      "Training:  81%|████████  | 202/250 [01:43<00:23,  2.07Epochs/s]"
     ]
    },
    {
     "name": "stdout",
     "output_type": "stream",
     "text": [
      "0.4546039300458925\n",
      "0.4528904008167284\n"
     ]
    },
    {
     "name": "stderr",
     "output_type": "stream",
     "text": [
      "Training:  81%|████████  | 203/250 [01:43<00:25,  1.85Epochs/s]"
     ]
    },
    {
     "name": "stdout",
     "output_type": "stream",
     "text": [
      "TEST LOSS: 0.5098618268966675\n"
     ]
    },
    {
     "name": "stderr",
     "output_type": "stream",
     "text": [
      "Training:  82%|████████▏ | 204/250 [01:44<00:22,  2.07Epochs/s]"
     ]
    },
    {
     "name": "stdout",
     "output_type": "stream",
     "text": [
      "0.45506548851325707\n",
      "0.4522705464749723\n"
     ]
    },
    {
     "name": "stderr",
     "output_type": "stream",
     "text": [
      "Training:  82%|████████▏ | 205/250 [01:45<00:24,  1.84Epochs/s]"
     ]
    },
    {
     "name": "stdout",
     "output_type": "stream",
     "text": [
      "TEST LOSS: 0.5051778554916382\n"
     ]
    },
    {
     "name": "stderr",
     "output_type": "stream",
     "text": [
      "Training:  82%|████████▏ | 206/250 [01:45<00:21,  2.08Epochs/s]"
     ]
    },
    {
     "name": "stdout",
     "output_type": "stream",
     "text": [
      "0.4585684623804178\n",
      "0.45537324659190737\n"
     ]
    },
    {
     "name": "stderr",
     "output_type": "stream",
     "text": [
      "Training:  83%|████████▎ | 207/250 [01:46<00:23,  1.86Epochs/s]"
     ]
    },
    {
     "name": "stdout",
     "output_type": "stream",
     "text": [
      "TEST LOSS: 0.5064978003501892\n"
     ]
    },
    {
     "name": "stderr",
     "output_type": "stream",
     "text": [
      "Training:  83%|████████▎ | 208/250 [01:46<00:20,  2.09Epochs/s]"
     ]
    },
    {
     "name": "stdout",
     "output_type": "stream",
     "text": [
      "0.45247356902371655\n",
      "0.45261752229553087\n"
     ]
    },
    {
     "name": "stderr",
     "output_type": "stream",
     "text": [
      "Training:  84%|████████▎ | 209/250 [01:46<00:21,  1.90Epochs/s]"
     ]
    },
    {
     "name": "stdout",
     "output_type": "stream",
     "text": [
      "TEST LOSS: 0.5078023672103882\n"
     ]
    },
    {
     "name": "stderr",
     "output_type": "stream",
     "text": [
      "Training:  84%|████████▍ | 210/250 [01:47<00:18,  2.11Epochs/s]"
     ]
    },
    {
     "name": "stdout",
     "output_type": "stream",
     "text": [
      "0.45390355264818344\n",
      "0.45178600108704053\n"
     ]
    },
    {
     "name": "stderr",
     "output_type": "stream",
     "text": [
      "Training:  84%|████████▍ | 211/250 [01:48<00:20,  1.88Epochs/s]"
     ]
    },
    {
     "name": "stdout",
     "output_type": "stream",
     "text": [
      "TEST LOSS: 0.49786144495010376\n"
     ]
    },
    {
     "name": "stderr",
     "output_type": "stream",
     "text": [
      "Training:  85%|████████▍ | 212/250 [01:48<00:17,  2.12Epochs/s]"
     ]
    },
    {
     "name": "stdout",
     "output_type": "stream",
     "text": [
      "0.4542834978919845\n",
      "0.4512922908808734\n"
     ]
    },
    {
     "name": "stderr",
     "output_type": "stream",
     "text": [
      "Training:  85%|████████▌ | 213/250 [01:48<00:19,  1.90Epochs/s]"
     ]
    },
    {
     "name": "stdout",
     "output_type": "stream",
     "text": [
      "TEST LOSS: 0.5050515532493591\n"
     ]
    },
    {
     "name": "stderr",
     "output_type": "stream",
     "text": [
      "Training:  86%|████████▌ | 214/250 [01:49<00:17,  2.10Epochs/s]"
     ]
    },
    {
     "name": "stdout",
     "output_type": "stream",
     "text": [
      "0.4531156742894972\n",
      "0.4516944418082366\n"
     ]
    },
    {
     "name": "stderr",
     "output_type": "stream",
     "text": [
      "Training:  86%|████████▌ | 215/250 [01:50<00:18,  1.89Epochs/s]"
     ]
    },
    {
     "name": "stdout",
     "output_type": "stream",
     "text": [
      "TEST LOSS: 0.5051407814025879\n"
     ]
    },
    {
     "name": "stderr",
     "output_type": "stream",
     "text": [
      "Training:  86%|████████▋ | 216/250 [01:50<00:16,  2.10Epochs/s]"
     ]
    },
    {
     "name": "stdout",
     "output_type": "stream",
     "text": [
      "0.45540620722212233\n",
      "0.4528776380392882\n"
     ]
    },
    {
     "name": "stderr",
     "output_type": "stream",
     "text": [
      "Training:  87%|████████▋ | 217/250 [01:51<00:17,  1.84Epochs/s]"
     ]
    },
    {
     "name": "stdout",
     "output_type": "stream",
     "text": [
      "TEST LOSS: 0.5033865571022034\n"
     ]
    },
    {
     "name": "stderr",
     "output_type": "stream",
     "text": [
      "Training:  87%|████████▋ | 218/250 [01:51<00:15,  2.07Epochs/s]"
     ]
    },
    {
     "name": "stdout",
     "output_type": "stream",
     "text": [
      "0.4514114271413099\n",
      "0.4521511701850204\n"
     ]
    },
    {
     "name": "stderr",
     "output_type": "stream",
     "text": [
      "Training:  88%|████████▊ | 219/250 [01:52<00:16,  1.87Epochs/s]"
     ]
    },
    {
     "name": "stdout",
     "output_type": "stream",
     "text": [
      "TEST LOSS: 0.5039654970169067\n"
     ]
    },
    {
     "name": "stderr",
     "output_type": "stream",
     "text": [
      "Training:  88%|████████▊ | 220/250 [01:52<00:14,  2.07Epochs/s]"
     ]
    },
    {
     "name": "stdout",
     "output_type": "stream",
     "text": [
      "0.4523979548264194\n",
      "0.4513606590193671\n"
     ]
    },
    {
     "name": "stderr",
     "output_type": "stream",
     "text": [
      "Training:  88%|████████▊ | 221/250 [01:53<00:15,  1.84Epochs/s]"
     ]
    },
    {
     "name": "stdout",
     "output_type": "stream",
     "text": [
      "TEST LOSS: 0.5052785873413086\n"
     ]
    },
    {
     "name": "stderr",
     "output_type": "stream",
     "text": [
      "Training:  89%|████████▉ | 222/250 [01:53<00:13,  2.05Epochs/s]"
     ]
    },
    {
     "name": "stdout",
     "output_type": "stream",
     "text": [
      "0.4520754934968175\n",
      "0.4507923362491367\n"
     ]
    },
    {
     "name": "stderr",
     "output_type": "stream",
     "text": [
      "Training:  89%|████████▉ | 223/250 [01:54<00:14,  1.85Epochs/s]"
     ]
    },
    {
     "name": "stdout",
     "output_type": "stream",
     "text": [
      "TEST LOSS: 0.501089870929718\n"
     ]
    },
    {
     "name": "stderr",
     "output_type": "stream",
     "text": [
      "Training:  90%|████████▉ | 224/250 [01:54<00:12,  2.07Epochs/s]"
     ]
    },
    {
     "name": "stdout",
     "output_type": "stream",
     "text": [
      "0.4518918902487368\n",
      "0.45600827615540307\n"
     ]
    },
    {
     "name": "stderr",
     "output_type": "stream",
     "text": [
      "Training:  90%|█████████ | 225/250 [01:55<00:13,  1.85Epochs/s]"
     ]
    },
    {
     "name": "stdout",
     "output_type": "stream",
     "text": [
      "TEST LOSS: 0.5182456374168396\n"
     ]
    },
    {
     "name": "stderr",
     "output_type": "stream",
     "text": [
      "Training:  90%|█████████ | 226/250 [01:55<00:11,  2.09Epochs/s]"
     ]
    },
    {
     "name": "stdout",
     "output_type": "stream",
     "text": [
      "0.45156093331070635\n",
      "0.45165173678348464\n"
     ]
    },
    {
     "name": "stderr",
     "output_type": "stream",
     "text": [
      "Training:  91%|█████████ | 227/250 [01:56<00:12,  1.87Epochs/s]"
     ]
    },
    {
     "name": "stdout",
     "output_type": "stream",
     "text": [
      "TEST LOSS: 0.5096137523651123\n"
     ]
    },
    {
     "name": "stderr",
     "output_type": "stream",
     "text": [
      "Training:  91%|█████████ | 228/250 [01:56<00:10,  2.09Epochs/s]"
     ]
    },
    {
     "name": "stdout",
     "output_type": "stream",
     "text": [
      "0.4516644456365087\n",
      "0.45107375233023017\n"
     ]
    },
    {
     "name": "stderr",
     "output_type": "stream",
     "text": [
      "Training:  92%|█████████▏| 229/250 [01:57<00:11,  1.88Epochs/s]"
     ]
    },
    {
     "name": "stdout",
     "output_type": "stream",
     "text": [
      "TEST LOSS: 0.5056334733963013\n"
     ]
    },
    {
     "name": "stderr",
     "output_type": "stream",
     "text": [
      "Training:  92%|█████████▏| 230/250 [01:57<00:09,  2.10Epochs/s]"
     ]
    },
    {
     "name": "stdout",
     "output_type": "stream",
     "text": [
      "0.45210355750142456\n",
      "0.45331037104935257\n"
     ]
    },
    {
     "name": "stderr",
     "output_type": "stream",
     "text": [
      "Training:  92%|█████████▏| 231/250 [01:58<00:10,  1.88Epochs/s]"
     ]
    },
    {
     "name": "stdout",
     "output_type": "stream",
     "text": [
      "TEST LOSS: 0.5011031627655029\n"
     ]
    },
    {
     "name": "stderr",
     "output_type": "stream",
     "text": [
      "Training:  93%|█████████▎| 232/250 [01:58<00:08,  2.10Epochs/s]"
     ]
    },
    {
     "name": "stdout",
     "output_type": "stream",
     "text": [
      "0.45051538836848626\n",
      "0.45024516158275774\n"
     ]
    },
    {
     "name": "stderr",
     "output_type": "stream",
     "text": [
      "Training:  93%|█████████▎| 233/250 [01:59<00:09,  1.88Epochs/s]"
     ]
    },
    {
     "name": "stdout",
     "output_type": "stream",
     "text": [
      "TEST LOSS: 0.5023869872093201\n"
     ]
    },
    {
     "name": "stderr",
     "output_type": "stream",
     "text": [
      "Training:  94%|█████████▎| 234/250 [01:59<00:07,  2.11Epochs/s]"
     ]
    },
    {
     "name": "stdout",
     "output_type": "stream",
     "text": [
      "0.45095663403605557\n",
      "0.4517135485872492\n"
     ]
    },
    {
     "name": "stderr",
     "output_type": "stream",
     "text": [
      "Training:  94%|█████████▍| 235/250 [02:00<00:07,  1.92Epochs/s]"
     ]
    },
    {
     "name": "stdout",
     "output_type": "stream",
     "text": [
      "TEST LOSS: 0.5086119771003723\n"
     ]
    },
    {
     "name": "stderr",
     "output_type": "stream",
     "text": [
      "Training:  94%|█████████▍| 236/250 [02:00<00:06,  2.14Epochs/s]"
     ]
    },
    {
     "name": "stdout",
     "output_type": "stream",
     "text": [
      "0.4493772736540786\n",
      "0.45416689080161016\n"
     ]
    },
    {
     "name": "stderr",
     "output_type": "stream",
     "text": [
      "Training:  95%|█████████▍| 237/250 [02:01<00:06,  1.88Epochs/s]"
     ]
    },
    {
     "name": "stdout",
     "output_type": "stream",
     "text": [
      "TEST LOSS: 0.4941765367984772\n"
     ]
    },
    {
     "name": "stderr",
     "output_type": "stream",
     "text": [
      "Training:  95%|█████████▌| 238/250 [02:01<00:05,  2.10Epochs/s]"
     ]
    },
    {
     "name": "stdout",
     "output_type": "stream",
     "text": [
      "0.45454996387969265\n",
      "0.44985122240341463\n"
     ]
    },
    {
     "name": "stderr",
     "output_type": "stream",
     "text": [
      "Training:  96%|█████████▌| 239/250 [02:02<00:05,  1.90Epochs/s]"
     ]
    },
    {
     "name": "stdout",
     "output_type": "stream",
     "text": [
      "TEST LOSS: 0.5074430704116821\n"
     ]
    },
    {
     "name": "stderr",
     "output_type": "stream",
     "text": [
      "Training:  96%|█████████▌| 240/250 [02:02<00:04,  2.10Epochs/s]"
     ]
    },
    {
     "name": "stdout",
     "output_type": "stream",
     "text": [
      "0.45011881584519736\n",
      "0.4533894070096918\n"
     ]
    },
    {
     "name": "stderr",
     "output_type": "stream",
     "text": [
      "Training:  96%|█████████▋| 241/250 [02:03<00:04,  1.88Epochs/s]"
     ]
    },
    {
     "name": "stdout",
     "output_type": "stream",
     "text": [
      "TEST LOSS: 0.4984000027179718\n"
     ]
    },
    {
     "name": "stderr",
     "output_type": "stream",
     "text": [
      "Training:  97%|█████████▋| 242/250 [02:03<00:03,  2.09Epochs/s]"
     ]
    },
    {
     "name": "stdout",
     "output_type": "stream",
     "text": [
      "0.45103529525232744\n",
      "0.44922733629072037\n"
     ]
    },
    {
     "name": "stderr",
     "output_type": "stream",
     "text": [
      "Training:  97%|█████████▋| 243/250 [02:04<00:03,  1.87Epochs/s]"
     ]
    },
    {
     "name": "stdout",
     "output_type": "stream",
     "text": [
      "TEST LOSS: 0.5031991004943848\n"
     ]
    },
    {
     "name": "stderr",
     "output_type": "stream",
     "text": [
      "Training:  98%|█████████▊| 244/250 [02:04<00:02,  2.09Epochs/s]"
     ]
    },
    {
     "name": "stdout",
     "output_type": "stream",
     "text": [
      "0.44917706916998096\n",
      "0.4529167349274094\n"
     ]
    },
    {
     "name": "stderr",
     "output_type": "stream",
     "text": [
      "Training:  98%|█████████▊| 245/250 [02:05<00:02,  1.86Epochs/s]"
     ]
    },
    {
     "name": "stdout",
     "output_type": "stream",
     "text": [
      "TEST LOSS: 0.5009669065475464\n"
     ]
    },
    {
     "name": "stderr",
     "output_type": "stream",
     "text": [
      "Training:  98%|█████████▊| 246/250 [02:05<00:01,  2.09Epochs/s]"
     ]
    },
    {
     "name": "stdout",
     "output_type": "stream",
     "text": [
      "0.45042912004230257\n",
      "0.4495072445353946\n"
     ]
    },
    {
     "name": "stderr",
     "output_type": "stream",
     "text": [
      "Training:  99%|█████████▉| 247/250 [02:06<00:01,  1.85Epochs/s]"
     ]
    },
    {
     "name": "stdout",
     "output_type": "stream",
     "text": [
      "TEST LOSS: 0.5052677392959595\n"
     ]
    },
    {
     "name": "stderr",
     "output_type": "stream",
     "text": [
      "Training:  99%|█████████▉| 248/250 [02:06<00:00,  2.04Epochs/s]"
     ]
    },
    {
     "name": "stdout",
     "output_type": "stream",
     "text": [
      "0.44894181446986153\n",
      "0.4492890861657289\n"
     ]
    },
    {
     "name": "stderr",
     "output_type": "stream",
     "text": [
      "Training: 100%|█████████▉| 249/250 [02:07<00:00,  1.85Epochs/s]"
     ]
    },
    {
     "name": "stdout",
     "output_type": "stream",
     "text": [
      "TEST LOSS: 0.5227000713348389\n"
     ]
    },
    {
     "name": "stderr",
     "output_type": "stream",
     "text": [
      "Training: 100%|██████████| 250/250 [02:07<00:00,  1.96Epochs/s]"
     ]
    },
    {
     "name": "stdout",
     "output_type": "stream",
     "text": [
      "0.45520720127466563\n"
     ]
    },
    {
     "name": "stderr",
     "output_type": "stream",
     "text": [
      "\n"
     ]
    }
   ],
   "source": [
    "args = {\n",
    "    'processor':         'NN',\n",
    "    'head':              'meta',\n",
    "    'num_layers':        5,\n",
    "    'input_dim':         23,\n",
    "    'batch_size':        10,\n",
    "    'hidden_dim':        18,\n",
    "    'output_dim':        3,\n",
    "    'dropout':           0,\n",
    "    'epochs':            250,\n",
    "    'opt':               'adam',\n",
    "    'opt_scheduler':     'none',\n",
    "    'opt_restart':       0,\n",
    "    'weight_decay':      5e-3,\n",
    "    'lr':                0.0005,\n",
    "    'device':            device\n",
    "}\n",
    "\n",
    "_, _, META_NN, _ = train(train_loader, test_loader, args)"
   ]
  },
  {
   "cell_type": "code",
   "execution_count": 112,
   "metadata": {},
   "outputs": [
    {
     "name": "stdout",
     "output_type": "stream",
     "text": [
      "-- Competitive ratios --\n",
      "GNN: 0.9753\n",
      "Greedy: 0.9968\n",
      "\n",
      "\n",
      "-- Competitive ratios --\n",
      "GNN: 0.9476\n",
      "Greedy: 0.9968\n",
      "\n",
      "\n",
      "-- Competitive ratios --\n",
      "GNN: 0.9753\n",
      "Greedy: 0.9968\n"
     ]
    }
   ],
   "source": [
    "seed = np.random.randint(0, 50000)\n",
    "(m, n) = (6, 16)\n",
    "config = er_config\n",
    "\n",
    "rng = np.random.default_rng(seed)\n",
    "eval_instances = ig.sample_instances(m, n, 100, rng, **config)\n",
    "\n",
    "rng = np.random.default_rng(seed)\n",
    "ratios1 = evaluate_model(\n",
    "    meta_model=_,\n",
    "    meta_model_type=None,\n",
    "    base_models=[selector1, selector2, selector3],\n",
    "    instances=eval_instances,\n",
    "    batch_size=50,\n",
    "    rng=rng,\n",
    "    num_realizations=5\n",
    ")\n",
    "\n",
    "pp_output(ratios1, _, show_log=False)\n",
    "print()\n",
    "print()\n",
    "\n",
    "rng = np.random.default_rng(seed)\n",
    "\n",
    "ratios2 = evaluate_model(\n",
    "    meta_model=None,\n",
    "    meta_model_type=None,\n",
    "    base_models=[selector1],\n",
    "    instances=eval_instances,\n",
    "    batch_size=50,\n",
    "    rng=rng,\n",
    "    num_realizations=5\n",
    ")\n",
    "\n",
    "pp_output(ratios2, _, show_log=False)\n",
    "\n",
    "print()\n",
    "print()\n",
    "\n",
    "rng = np.random.default_rng(seed)\n",
    "\n",
    "ratios = evaluate_model(\n",
    "    meta_model=None,\n",
    "    meta_model_type=None,\n",
    "    base_models=[selector2],\n",
    "    instances=eval_instances,\n",
    "    batch_size=50,\n",
    "    rng=rng,\n",
    "    num_realizations=5\n",
    ")\n",
    "\n",
    "pp_output(ratios, _, show_log=False)"
   ]
  },
  {
   "cell_type": "code",
   "execution_count": 113,
   "metadata": {},
   "outputs": [
    {
     "name": "stdout",
     "output_type": "stream",
     "text": [
      "[0.25, 0.5, 0.75, 1.0, 1.25, 1.5, 1.75, 2.0, 2.25, 2.5, 2.75, 3.0, 3.25, 3.5, 3.75]\n",
      "{'graph_type': 'ER', 'p': 0.75, 'weighted': True} (4, 16)\n",
      "{'graph_type': 'ER', 'p': 0.75, 'weighted': True} (8, 16)\n",
      "{'graph_type': 'ER', 'p': 0.75, 'weighted': True} (12, 16)\n",
      "{'graph_type': 'ER', 'p': 0.75, 'weighted': True} (16, 16)\n",
      "{'graph_type': 'ER', 'p': 0.75, 'weighted': True} (20, 16)\n",
      "{'graph_type': 'ER', 'p': 0.75, 'weighted': True} (24, 16)\n",
      "{'graph_type': 'ER', 'p': 0.75, 'weighted': True} (28, 16)\n",
      "{'graph_type': 'ER', 'p': 0.75, 'weighted': True} (32, 16)\n",
      "{'graph_type': 'ER', 'p': 0.75, 'weighted': True} (36, 16)\n",
      "{'graph_type': 'ER', 'p': 0.75, 'weighted': True} (40, 16)\n",
      "{'graph_type': 'ER', 'p': 0.75, 'weighted': True} (44, 16)\n",
      "{'graph_type': 'ER', 'p': 0.75, 'weighted': True} (48, 16)\n",
      "{'graph_type': 'ER', 'p': 0.75, 'weighted': True} (52, 16)\n",
      "{'graph_type': 'ER', 'p': 0.75, 'weighted': True} (56, 16)\n",
      "{'graph_type': 'ER', 'p': 0.75, 'weighted': True} (60, 16)\n",
      "{'graph_type': 'BA', 'ba_param': 4, 'weighted': True} (4, 16)\n",
      "{'graph_type': 'BA', 'ba_param': 4, 'weighted': True} (8, 16)\n",
      "{'graph_type': 'BA', 'ba_param': 4, 'weighted': True} (12, 16)\n",
      "{'graph_type': 'BA', 'ba_param': 4, 'weighted': True} (16, 16)\n",
      "{'graph_type': 'BA', 'ba_param': 4, 'weighted': True} (20, 16)\n",
      "{'graph_type': 'BA', 'ba_param': 4, 'weighted': True} (24, 16)\n",
      "{'graph_type': 'BA', 'ba_param': 4, 'weighted': True} (28, 16)\n",
      "{'graph_type': 'BA', 'ba_param': 4, 'weighted': True} (32, 16)\n",
      "{'graph_type': 'BA', 'ba_param': 4, 'weighted': True} (36, 16)\n",
      "{'graph_type': 'BA', 'ba_param': 4, 'weighted': True} (40, 16)\n",
      "{'graph_type': 'BA', 'ba_param': 4, 'weighted': True} (44, 16)\n",
      "{'graph_type': 'BA', 'ba_param': 4, 'weighted': True} (48, 16)\n",
      "{'graph_type': 'BA', 'ba_param': 4, 'weighted': True} (52, 16)\n",
      "{'graph_type': 'BA', 'ba_param': 4, 'weighted': True} (56, 16)\n",
      "{'graph_type': 'BA', 'ba_param': 4, 'weighted': True} (60, 16)\n",
      "{'graph_type': 'GEOM', 'threshold': 0.2, 'scaling': 0.7071067811865475} (4, 16)\n",
      "{'graph_type': 'GEOM', 'threshold': 0.2, 'scaling': 0.7071067811865475} (8, 16)\n",
      "{'graph_type': 'GEOM', 'threshold': 0.2, 'scaling': 0.7071067811865475} (12, 16)\n",
      "{'graph_type': 'GEOM', 'threshold': 0.2, 'scaling': 0.7071067811865475} (16, 16)\n",
      "{'graph_type': 'GEOM', 'threshold': 0.2, 'scaling': 0.7071067811865475} (20, 16)\n",
      "{'graph_type': 'GEOM', 'threshold': 0.2, 'scaling': 0.7071067811865475} (24, 16)\n",
      "{'graph_type': 'GEOM', 'threshold': 0.2, 'scaling': 0.7071067811865475} (28, 16)\n",
      "{'graph_type': 'GEOM', 'threshold': 0.2, 'scaling': 0.7071067811865475} (32, 16)\n",
      "{'graph_type': 'GEOM', 'threshold': 0.2, 'scaling': 0.7071067811865475} (36, 16)\n",
      "{'graph_type': 'GEOM', 'threshold': 0.2, 'scaling': 0.7071067811865475} (40, 16)\n",
      "{'graph_type': 'GEOM', 'threshold': 0.2, 'scaling': 0.7071067811865475} (44, 16)\n",
      "{'graph_type': 'GEOM', 'threshold': 0.2, 'scaling': 0.7071067811865475} (48, 16)\n",
      "{'graph_type': 'GEOM', 'threshold': 0.2, 'scaling': 0.7071067811865475} (52, 16)\n",
      "{'graph_type': 'GEOM', 'threshold': 0.2, 'scaling': 0.7071067811865475} (56, 16)\n",
      "{'graph_type': 'GEOM', 'threshold': 0.2, 'scaling': 0.7071067811865475} (60, 16)\n"
     ]
    }
   ],
   "source": [
    "num_trials = 50\n",
    "node_configs = [(x, 16) for x in np.arange(4, 64, 4)]\n",
    "# of nodes [20 -> 80]\n",
    "# of nodes in batch [10,000 -> 40,000]\n",
    "batch_size = 500 #[int(min(32, x + y)) for (x, y) in node_configs]\n",
    "graph_configs = [\n",
    "    # {\n",
    "    #     'graph_type': 'GM'\n",
    "    # },\n",
    "    {\n",
    "        'graph_type': 'ER',\n",
    "        'p': 0.75,\n",
    "        'weighted': True\n",
    "    },\n",
    "    {\n",
    "        'graph_type': 'BA',\n",
    "        'ba_param': 4,\n",
    "        'weighted': True\n",
    "    },\n",
    "    {\n",
    "        'graph_type': 'GEOM',\n",
    "        'threshold': 0.2,\n",
    "        'scaling': 1 / np.sqrt(2),\n",
    "    }\n",
    "]\n",
    "\n",
    "ratios = [x/y for (x,y) in node_configs]\n",
    "print(ratios)\n",
    "data = {config['graph_type']: [] for config in graph_configs}\n",
    "for graph_config in graph_configs:\n",
    "    for i, node_config in enumerate(node_configs):\n",
    "        print(graph_config, node_config)\n",
    "        seed = np.random.randint(0, 500000)\n",
    "        rng = np.random.default_rng(seed)\n",
    "        instances = ig.sample_instances(*node_config, num_trials, rng, **graph_config)\n",
    "\n",
    "        rng = np.random.default_rng(seed)\n",
    "        (meta_learned_ratios, _) = evaluate_model(\n",
    "            meta_model=_,\n",
    "            meta_model_type=None,\n",
    "            base_models=[selector1, selector2, selector3],\n",
    "            instances=instances,\n",
    "            batch_size=batch_size,\n",
    "            rng=rng,\n",
    "            num_realizations=5\n",
    "        )\n",
    "\n",
    "        rng = np.random.default_rng(seed)\n",
    "        gnn1_learned_ratios, greedy_ratios = evaluate_model(\n",
    "            meta_model=None,\n",
    "            meta_model_type=None,\n",
    "            base_models=[selector1],\n",
    "            instances=instances,\n",
    "            batch_size=batch_size,\n",
    "            rng=rng,\n",
    "            num_realizations=5\n",
    "        )\n",
    "\n",
    "        rng = np.random.default_rng(seed)\n",
    "        gnn2_learned_ratios, _ = evaluate_model(\n",
    "            meta_model=None,\n",
    "            meta_model_type=None,\n",
    "            base_models=[selector2],\n",
    "            instances=instances,\n",
    "            batch_size=batch_size,\n",
    "            rng=rng,\n",
    "            num_realizations=5\n",
    "        )\n",
    "\n",
    "        data[graph_config['graph_type']].append(np.array(\n",
    "            [\n",
    "                meta_learned_ratios,\n",
    "                gnn1_learned_ratios,\n",
    "                gnn2_learned_ratios,\n",
    "                greedy_ratios\n",
    "            ]\n",
    "        ))"
   ]
  },
  {
   "cell_type": "code",
   "execution_count": 114,
   "metadata": {},
   "outputs": [
    {
     "name": "stdout",
     "output_type": "stream",
     "text": [
      "[[0.9478848  0.98665519 0.98242088 0.96333497 0.94074417 0.9910612\n",
      "  0.98726692 0.98273734 0.98790528 0.9636787  1.         0.9895482\n",
      "  0.97875118 0.92297601 1.         0.98513329 0.9844189  0.99054274\n",
      "  0.98268816 0.97809726 1.         0.99194772 0.95766006 0.96838187\n",
      "  0.99039418 0.9993871  1.         0.96319427 0.94824772 1.\n",
      "  0.97403427 1.         0.99805171 0.91436787 0.95323266 0.97740786\n",
      "  1.         0.96549938 0.98623732 0.98102122 0.98346077 0.97092435\n",
      "  1.         0.99557303 0.97837062 0.98624106 0.9854076  0.98734592\n",
      "  0.98432698 0.9876861 ]\n",
      " [0.9478848  0.98665519 0.895376   0.88393056 0.87327562 0.9840136\n",
      "  0.95552372 0.98071836 0.89584897 0.83191213 0.91300778 0.93832729\n",
      "  0.93794234 0.91447607 0.87163625 0.93129119 0.9816591  0.91769264\n",
      "  0.93860436 0.89821844 0.99324699 0.91387432 0.92368589 0.99378506\n",
      "  0.87951741 0.94164152 0.99409894 0.96118383 0.94078823 1.\n",
      "  0.95169812 0.88483615 0.92106824 0.79051302 0.95244469 0.98244554\n",
      "  0.95854181 0.90737598 0.99896308 0.92277198 0.76542691 0.96171606\n",
      "  0.9527121  1.         0.97837062 0.99676831 0.94462287 0.97422832\n",
      "  0.94004566 0.9876861 ]\n",
      " [0.9478848  0.98665519 0.98242088 0.96333497 0.94074417 0.9910612\n",
      "  0.98726692 0.98273734 0.98790528 0.9636787  1.         0.9895482\n",
      "  0.97875118 0.92297601 1.         0.98513329 0.9844189  0.99054274\n",
      "  0.98268816 0.97809726 1.         0.99194772 0.95766006 0.96838187\n",
      "  0.99039418 0.9993871  1.         0.96319427 0.94824772 1.\n",
      "  0.97403427 1.         0.99805171 0.91436787 0.95323266 0.97740786\n",
      "  1.         0.96549938 0.98623732 0.98102122 0.98346077 0.97092435\n",
      "  1.         0.99557303 0.97837062 0.98624106 0.9854076  0.98734592\n",
      "  0.98432698 0.9876861 ]\n",
      " [0.98920854 0.99483362 1.         1.         1.         1.\n",
      "  1.         1.         0.97443353 1.         1.         1.\n",
      "  0.98691111 0.98290093 1.         1.         1.         1.\n",
      "  1.         1.         1.         1.         1.         1.\n",
      "  1.         1.         1.         0.99829313 0.99144217 1.\n",
      "  0.9943032  1.         1.         1.         0.99509456 1.\n",
      "  1.         1.         1.         0.9941075  1.         1.\n",
      "  1.         1.         1.         1.         1.         0.91147779\n",
      "  0.94276969 1.        ]]\n",
      "[[0.9884673  0.98247061 0.9813894  0.98271706 0.96653246 0.97651118\n",
      "  0.99728847 0.95977915 0.90715897 0.96652555 0.98893542 0.99732997\n",
      "  0.99209191 0.96277682 0.86331955 0.95216936 0.97814497 0.99274123\n",
      "  0.96524763 0.95092946 0.99653982 0.97881181 0.97958727 0.99670077\n",
      "  0.99387523 0.99954057 0.98210841 0.97315771 0.97765139 0.97671788\n",
      "  0.97774823 0.95083581 0.9657675  0.99018336 0.95766442 0.97554257\n",
      "  0.98786272 0.97864777 0.95991859 0.99928034 0.98901365 0.99643046\n",
      "  0.97586602 0.98599314 0.98726119 0.96988367 0.98465128 0.96950616\n",
      "  0.99993599 0.97389119]\n",
      " [0.98616024 0.92926914 0.95152589 0.9423288  0.9055741  0.97516166\n",
      "  0.93752474 0.83923255 0.87426542 0.92162292 0.96116461 0.8847493\n",
      "  0.92197601 0.88718809 0.89596645 0.94039005 0.97891253 0.95675838\n",
      "  0.95918342 0.9322647  0.97410901 0.99093617 0.98594745 0.96516103\n",
      "  0.97856264 0.85141177 0.9697128  0.91618029 0.94636912 0.94046928\n",
      "  0.94464244 0.89911115 0.87709413 0.9584522  0.8927922  0.84786861\n",
      "  0.86359185 0.92295972 0.96853968 0.99912696 0.98278787 0.91388122\n",
      "  0.94210539 0.94239413 0.9871549  0.9494549  0.97764645 0.94319462\n",
      "  0.87033165 0.94684027]\n",
      " [0.9884673  0.98247061 0.9813894  0.98271706 0.96653246 0.97651118\n",
      "  0.99728847 0.95977915 0.90715897 0.96652555 0.98893542 0.99732997\n",
      "  0.99209191 0.96277682 0.86331955 0.95216936 0.97814497 0.99274123\n",
      "  0.96524763 0.95092946 0.99653982 0.97881181 0.97958727 0.99670077\n",
      "  0.99387523 0.99954057 0.98210841 0.97315771 0.97765139 0.97671788\n",
      "  0.97774823 0.95083581 0.9657675  0.99018336 0.95766442 0.97554257\n",
      "  0.98786272 0.97864777 0.95991859 0.99928034 0.98901365 0.99643046\n",
      "  0.97586602 0.98599314 0.98726119 0.96988367 0.98465128 0.96950616\n",
      "  0.99993599 0.97389119]\n",
      " [0.99929163 0.99266032 0.98620924 1.         1.         0.99274778\n",
      "  0.9370797  0.98343086 0.9859936  1.         0.98654903 0.95865638\n",
      "  0.9980495  0.99542298 0.97653458 1.         1.         0.99857546\n",
      "  1.         0.98825531 1.         0.99163276 0.99735761 0.99287084\n",
      "  0.99373174 0.98439245 1.         0.99562746 1.         0.9823165\n",
      "  0.97525278 0.99953576 1.         0.99445572 0.98806741 1.\n",
      "  1.         1.         0.98043251 1.         0.97646948 0.98719044\n",
      "  0.98014692 1.         0.98883634 0.97583712 0.99733697 1.\n",
      "  0.94963329 0.99441654]]\n",
      "[[0.97996342 0.98620884 0.93974627 0.97525324 0.98039087 0.95928953\n",
      "  0.94473034 0.96570782 0.96150712 0.97515851 0.98304769 0.95946337\n",
      "  0.9692825  0.97314438 0.99220321 0.93262728 0.98817306 0.98761296\n",
      "  0.98243541 0.97257103 0.97247499 0.97778522 0.96638527 0.97081262\n",
      "  0.96207422 0.97635585 0.97403315 0.97262699 0.97322116 0.98760597\n",
      "  0.98307379 0.99196911 0.9827865  0.96637624 0.97390217 0.96464275\n",
      "  0.99267605 0.97087984 0.97296529 0.96973325 0.95661212 0.97914912\n",
      "  0.97057458 0.96940036 0.98636153 0.97173486 0.97932683 0.97571429\n",
      "  0.99136944 0.98215679]\n",
      " [0.97869422 0.97899371 0.89429408 0.95331848 0.96037826 0.93507317\n",
      "  0.94701455 0.95365377 0.91508942 0.95196466 0.90195104 0.88209246\n",
      "  0.9362516  0.96822925 0.96586569 0.93243751 0.969753   0.95450269\n",
      "  0.9571059  0.97638446 0.96390459 0.94253846 0.95018536 0.95411019\n",
      "  0.92351207 0.96197582 0.95143394 0.92927591 0.96141359 0.90212585\n",
      "  0.9544833  0.96966681 0.95052425 0.94738118 0.93162429 0.92132432\n",
      "  0.94772677 0.93027964 0.97004534 0.94023926 0.9446455  0.93674201\n",
      "  0.94914949 0.96503663 0.93615456 0.88754057 0.89273194 0.91810012\n",
      "  0.95210388 0.96946194]\n",
      " [0.97996342 0.98620884 0.93974627 0.97525324 0.98039087 0.95928953\n",
      "  0.94473034 0.96570782 0.96150712 0.97515851 0.98304769 0.95946337\n",
      "  0.9692825  0.97314438 0.99220321 0.93262728 0.98817306 0.98761296\n",
      "  0.98243541 0.97257103 0.97247499 0.97778522 0.96638527 0.97081262\n",
      "  0.96207422 0.97635585 0.97403315 0.97262699 0.97322116 0.98760597\n",
      "  0.98307379 0.99196911 0.9827865  0.96637624 0.97390217 0.96464275\n",
      "  0.99267605 0.97087984 0.97296529 0.96973325 0.95661212 0.97914912\n",
      "  0.97057458 0.96940036 0.98636153 0.97173486 0.97932683 0.97571429\n",
      "  0.99136944 0.98215679]\n",
      " [0.99381497 0.99370919 0.95463773 0.9728234  0.96996913 0.99221403\n",
      "  0.98127126 0.96411142 0.94806405 0.98500641 0.96798051 0.90963596\n",
      "  0.98278911 0.97768988 0.98299893 0.98669995 0.98160015 0.98426056\n",
      "  0.96699293 0.98278713 0.98737009 0.99401756 0.99838661 0.97311879\n",
      "  0.97511063 0.9641909  0.99083392 0.98413566 0.99863652 0.98236019\n",
      "  0.96004267 0.97321451 0.98107101 0.98256079 0.97975369 0.97202849\n",
      "  0.98571507 0.98907391 0.99893776 0.98117247 0.97063818 0.96906597\n",
      "  0.98277959 0.98278745 0.97822801 0.98478489 0.98738856 0.97340258\n",
      "  1.         0.93390961]]\n",
      "[[0.97405522 0.96287859 0.97347715 0.97130242 0.97878335 0.97280717\n",
      "  0.96714353 0.98566826 0.97526436 0.98687066 0.97366974 0.98238698\n",
      "  0.9698303  0.97983204 0.98924608 0.9674014  0.98974135 0.99556826\n",
      "  0.97857125 0.96555416 0.9746204  0.98239749 0.97982253 0.97666299\n",
      "  0.98672275 0.98102544 0.98367055 0.96846975 0.96613651 0.96777969\n",
      "  0.96708004 0.98423846 0.98590293 0.95492987 0.95586491 0.98640594\n",
      "  0.96121442 0.98109335 0.95563991 0.98705705 0.95297643 0.98864875\n",
      "  0.98608146 0.97588673 0.97027763 0.97764951 0.96704488 0.95333564\n",
      "  0.95708048 0.95823999]\n",
      " [0.93807782 0.96619103 0.97691434 0.96742854 0.97595242 0.98525539\n",
      "  0.95732576 0.9873226  0.96103272 0.96207502 0.96943336 0.91926687\n",
      "  0.89435056 0.94739635 0.96696954 0.95428368 0.97538273 0.96133929\n",
      "  0.96634471 0.91653058 0.93321915 0.96317599 0.982473   0.97757307\n",
      "  0.92814888 0.95347228 0.96937565 0.94473425 0.94091721 0.96728306\n",
      "  0.95261802 0.96328524 0.9680597  0.9010039  0.953283   0.91334386\n",
      "  0.88307463 0.97023734 0.94635256 0.97423503 0.95863586 0.97150111\n",
      "  0.98017868 0.97370024 0.94662394 0.96895778 0.93624375 0.95448016\n",
      "  0.89230981 0.94596999]\n",
      " [0.97405522 0.96287859 0.97347715 0.97130242 0.97878335 0.97280717\n",
      "  0.96714353 0.98566826 0.97526436 0.98687066 0.97366974 0.98238698\n",
      "  0.9698303  0.97983204 0.98924608 0.9674014  0.98974135 0.99556826\n",
      "  0.97857125 0.96555416 0.9746204  0.98239749 0.97982253 0.97666299\n",
      "  0.98672275 0.98102544 0.98367055 0.96846975 0.96613651 0.96777969\n",
      "  0.96708004 0.98423846 0.98590293 0.95492987 0.95586491 0.98640594\n",
      "  0.96121442 0.98109335 0.95563991 0.98705705 0.95297643 0.98864875\n",
      "  0.98608146 0.97588673 0.97027763 0.97764951 0.96704488 0.95333564\n",
      "  0.95708048 0.95823999]\n",
      " [0.97141468 0.95228546 0.97943782 0.964293   0.95929116 0.93324004\n",
      "  0.98010498 0.9496554  0.98145485 0.96131678 0.90590944 0.99990661\n",
      "  0.95850413 0.94683986 0.96582795 0.92609139 0.9831218  0.96762021\n",
      "  0.94763762 0.96895437 0.95470725 0.98564077 0.96818521 0.98692657\n",
      "  0.98422982 0.96504707 0.97420446 0.97765065 0.94130559 0.97882754\n",
      "  0.94905605 0.98643688 0.95810741 0.94310774 0.91535042 0.97234524\n",
      "  0.92145072 0.90770407 0.95994007 0.96822823 0.94517752 0.9921278\n",
      "  0.98716406 0.95801577 0.949874   0.9867417  0.9818305  0.90957648\n",
      "  0.9391703  0.97261972]]\n",
      "[[0.96610416 0.94513627 0.98645116 0.93923569 0.97491067 0.95093781\n",
      "  0.95484899 0.96400408 0.97094005 0.95245149 0.96474561 0.95674815\n",
      "  0.95026177 0.96878814 0.9662415  0.97620305 0.98481477 0.94015981\n",
      "  0.96954698 0.96343999 0.9858118  0.95804802 0.97424509 0.94076011\n",
      "  0.95687024 0.97359705 0.96814946 0.96105837 0.967451   0.96055677\n",
      "  0.9653674  0.94896572 0.92223575 0.9666888  0.93637855 0.95913041\n",
      "  0.92916352 0.98292584 0.94928578 0.94768137 0.96990192 0.94826458\n",
      "  0.95199332 0.95038525 0.95697287 0.9784829  0.96616597 0.96482407\n",
      "  0.95436969 0.97974429]\n",
      " [0.90460052 0.92361978 0.95109553 0.94357224 0.9158947  0.96565473\n",
      "  0.93189928 0.93706775 0.88610015 0.88522531 0.90532453 0.90208659\n",
      "  0.95532326 0.92537218 0.94227106 0.9370655  0.96751485 0.9167624\n",
      "  0.95558027 0.96339943 0.93101385 0.92286563 0.96640386 0.91510078\n",
      "  0.90478991 0.94684071 0.96546167 0.95319402 0.93875428 0.98000093\n",
      "  0.89011005 0.95319284 0.90220379 0.92731909 0.86466157 0.95277824\n",
      "  0.91554654 0.87251319 0.97924286 0.94744174 0.96638428 0.95547451\n",
      "  0.90639312 0.95671201 0.97724563 0.94205573 0.97967961 0.93090005\n",
      "  0.93970898 0.91481278]\n",
      " [0.96610416 0.94513627 0.98645116 0.93923569 0.97491067 0.95093781\n",
      "  0.95484899 0.97369269 0.97094005 0.95245149 0.96474561 0.95674815\n",
      "  0.93986828 0.96878814 0.9662415  0.97620305 0.97534113 0.94740346\n",
      "  0.96954698 0.96343999 0.9858118  0.95804802 0.97424509 0.94076011\n",
      "  0.95687024 0.97359705 0.98015267 0.96105837 0.967451   0.96055677\n",
      "  0.9653674  0.94896572 0.92223575 0.9666888  0.93637855 0.95913041\n",
      "  0.92916352 0.98292584 0.94928578 0.94768137 0.96990192 0.94826458\n",
      "  0.95199332 0.95038525 0.95697287 0.97331456 0.96616597 0.96482407\n",
      "  0.95436969 0.97974429]\n",
      " [0.93292762 0.94431941 0.94633229 0.89441837 0.9112861  0.96992732\n",
      "  0.90455678 0.95058689 0.95249476 0.91245342 0.98067317 0.98877116\n",
      "  0.89189607 0.93388289 0.94383295 0.95957702 0.93982068 0.91902873\n",
      "  0.91407143 0.96145555 0.92998049 0.92960365 0.98552518 0.88599139\n",
      "  0.9724203  0.90650371 0.95756281 0.92897448 0.93023737 0.96513652\n",
      "  0.94566733 0.95216573 0.89847239 0.91999422 0.9265512  0.953569\n",
      "  0.93326659 0.95513399 0.94399854 0.9298901  0.93246967 0.94916771\n",
      "  0.93886965 0.90846481 0.95779743 0.94498017 0.91209907 0.92897682\n",
      "  0.93632501 0.94734057]]\n",
      "[[0.92340509 0.93295644 0.96891683 0.94723593 0.93204825 0.93884352\n",
      "  0.94355717 0.94377434 0.92370581 0.97241856 0.91695384 0.9482929\n",
      "  0.97162879 0.94114371 0.9547118  0.9253369  0.94517873 0.95804003\n",
      "  0.94726068 0.9354683  0.95906423 0.94042679 0.94666974 0.95259262\n",
      "  0.9185492  0.96153118 0.97882512 0.93694849 0.92597066 0.93455453\n",
      "  0.92286249 0.96385719 0.94108979 0.93388465 0.94184341 0.95562963\n",
      "  0.97506812 0.94545836 0.92243866 0.95087621 0.94573806 0.90155994\n",
      "  0.94418269 0.9619693  0.96484541 0.88573424 0.94736835 0.97132509\n",
      "  0.96038666 0.95585961]\n",
      " [0.94928999 0.96550922 0.97087432 0.94324601 0.96297409 0.91847135\n",
      "  0.9212111  0.94077186 0.91387821 0.96816576 0.96125703 0.9556073\n",
      "  0.96318217 0.94298918 0.95318222 0.97137001 0.97138123 0.96782278\n",
      "  0.9135159  0.94325164 0.95906423 0.92518722 0.97427335 0.92271816\n",
      "  0.95403226 0.95523983 0.97798605 0.90345946 0.92608168 0.92229506\n",
      "  0.88159635 0.9721347  0.93685953 0.94580399 0.94477719 0.94673115\n",
      "  0.97506812 0.96353845 0.90483449 0.96360826 0.95559251 0.90633877\n",
      "  0.96297738 0.95101696 0.93711261 0.87415614 0.93519576 0.9828922\n",
      "  0.96397324 0.95585961]\n",
      " [0.94398919 0.90251458 0.96192038 0.95192103 0.94122821 0.92382671\n",
      "  0.96181917 0.94094222 0.91113007 0.96621174 0.91695384 0.97416537\n",
      "  0.96545371 0.9396356  0.94930109 0.9253369  0.93213952 0.95563218\n",
      "  0.93502757 0.92231943 0.94184857 0.94504998 0.93178434 0.93957587\n",
      "  0.90765782 0.94735353 0.97882512 0.95418488 0.91788968 0.92573622\n",
      "  0.92286249 0.96547275 0.92917807 0.96239211 0.95124771 0.93079146\n",
      "  0.94888714 0.93604736 0.90927273 0.9282932  0.93825252 0.91069922\n",
      "  0.92949143 0.96478082 0.96872565 0.91949222 0.94736835 0.94019721\n",
      "  0.95690234 0.96432357]\n",
      " [0.85730083 0.85692533 0.94511887 0.90254181 0.87517656 0.87406365\n",
      "  0.86820778 0.89781939 0.86766229 0.96126883 0.87375137 0.90131198\n",
      "  0.87836178 0.887245   0.88677052 0.87144806 0.90257815 0.9450805\n",
      "  0.88424566 0.89898479 0.92690458 0.95100328 0.88976686 0.90374907\n",
      "  0.87560085 0.89673748 0.96268561 0.92137668 0.86072473 0.90660111\n",
      "  0.90569107 0.91706908 0.89306869 0.92749364 0.89143666 0.91134732\n",
      "  0.91354746 0.90898266 0.88050298 0.91471351 0.89986432 0.91537348\n",
      "  0.82228541 0.94723586 0.93712475 0.91008628 0.92823901 0.95602176\n",
      "  0.85404677 0.92165638]]\n",
      "[[0.9464631  0.95184111 0.95142664 0.96242731 0.93701272 0.97988443\n",
      "  0.94905652 0.92592458 0.93757025 0.94310334 0.93887872 0.93261165\n",
      "  0.95466372 0.95418307 0.95319712 0.98652599 0.96827565 0.96383015\n",
      "  0.92646495 0.96700754 0.91213456 0.95779111 0.92598021 0.934233\n",
      "  0.95390194 0.95547687 0.94806866 0.96019945 0.95097445 0.95292989\n",
      "  0.93477758 0.91551415 0.97679452 0.93132456 0.94758569 0.94542477\n",
      "  0.95188567 0.95914075 0.9481968  0.96717261 0.93890202 0.9712209\n",
      "  0.93018264 0.94336175 0.92603883 0.97893898 0.98919322 0.96043844\n",
      "  0.94142417 0.98044076]\n",
      " [0.96143927 0.95184111 0.95361601 0.96242731 0.94365116 0.97887086\n",
      "  0.96277761 0.95391943 0.93455449 0.94310334 0.93887872 0.93062636\n",
      "  0.95466372 0.96191971 0.95319712 0.98652599 0.96945519 0.96383015\n",
      "  0.93128328 0.95661339 0.94987603 0.96082347 0.93804824 0.93741996\n",
      "  0.95390194 0.95134821 0.94806866 0.96551624 0.95097445 0.95142007\n",
      "  0.89776569 0.95431505 0.97679452 0.9465993  0.94758569 0.96407877\n",
      "  0.95188567 0.95667041 0.97257925 0.9723749  0.96646306 0.96790943\n",
      "  0.97308948 0.97195925 0.93038658 0.97893898 0.98919322 0.96043844\n",
      "  0.94142417 0.98044076]\n",
      " [0.9027269  0.92406012 0.92364892 0.91093623 0.92288725 0.94021905\n",
      "  0.94346916 0.9173769  0.93498091 0.92515465 0.93188498 0.95459107\n",
      "  0.93646179 0.91456094 0.91809943 0.95513342 0.90185772 0.92509416\n",
      "  0.92266178 0.93607912 0.89449808 0.90821626 0.89352809 0.91187413\n",
      "  0.94547452 0.91118496 0.93413033 0.91579432 0.92852779 0.94140519\n",
      "  0.9081447  0.89216799 0.94970311 0.92017685 0.92300958 0.93631296\n",
      "  0.93090485 0.93645584 0.92939134 0.97173275 0.91655958 0.93227865\n",
      "  0.89847683 0.93446    0.92521496 0.91235457 0.90542325 0.91554963\n",
      "  0.92543389 0.95584979]\n",
      " [0.85722946 0.83892942 0.89461702 0.89840607 0.85096252 0.89390698\n",
      "  0.93970229 0.88740229 0.83475526 0.87003528 0.86708874 0.90440885\n",
      "  0.89577744 0.89580022 0.88473962 0.92722173 0.85289007 0.87200039\n",
      "  0.84905744 0.87396207 0.78658972 0.88445519 0.88333541 0.86452318\n",
      "  0.8945905  0.89234329 0.86508405 0.86200195 0.88022158 0.8901825\n",
      "  0.85288622 0.87522967 0.91788337 0.88235354 0.85993045 0.8671225\n",
      "  0.88883653 0.9133907  0.85814357 0.86736776 0.89978728 0.89531892\n",
      "  0.90690063 0.90403451 0.84956711 0.87440141 0.88652686 0.90738488\n",
      "  0.8898424  0.84471478]]\n",
      "[[0.95645572 0.97036989 0.95855083 0.96496417 0.97169919 0.96097003\n",
      "  0.95833265 0.97073501 0.95844895 0.91540526 0.96093648 0.94860102\n",
      "  0.96301677 0.94905359 0.95605067 0.94515176 0.95600448 0.96798859\n",
      "  0.96129768 0.9719974  0.95311922 0.9515587  0.96789063 0.95636144\n",
      "  0.95925536 0.95018655 0.93927552 0.95740667 0.96134556 0.97863923\n",
      "  0.96027131 0.97724508 0.95431018 0.96758885 0.96640188 0.94934089\n",
      "  0.96196352 0.97098679 0.95643818 0.95271569 0.95327821 0.96355747\n",
      "  0.95892922 0.95133972 0.94305347 0.97556787 0.95959409 0.96354339\n",
      "  0.96442611 0.95719028]\n",
      " [0.95645572 0.97597178 0.95855083 0.96496417 0.97883061 0.96097003\n",
      "  0.95833265 0.97073501 0.95844895 0.93606317 0.96093648 0.95092505\n",
      "  0.96301677 0.95203639 0.95605067 0.96422964 0.96332276 0.96798859\n",
      "  0.96129768 0.9719974  0.95995918 0.9515587  0.96789063 0.95636144\n",
      "  0.9598247  0.98208912 0.94158287 0.96131665 0.96756794 0.97863923\n",
      "  0.96027131 0.97724508 0.95637822 0.96758885 0.96646674 0.95264044\n",
      "  0.96278706 0.97098679 0.95643818 0.95925525 0.95519628 0.96355747\n",
      "  0.95892922 0.95319293 0.95828126 0.97556787 0.9716046  0.96354339\n",
      "  0.9715256  0.95719028]\n",
      " [0.93782349 0.92613339 0.90180908 0.92583157 0.9178016  0.91590565\n",
      "  0.92840531 0.91484907 0.92858559 0.89850623 0.9220788  0.89440564\n",
      "  0.92520219 0.90587254 0.94027277 0.90798996 0.9157657  0.93208592\n",
      "  0.92132354 0.93154924 0.93233025 0.94367206 0.92292067 0.93446459\n",
      "  0.92794049 0.91350871 0.92605993 0.89989491 0.93423848 0.94343974\n",
      "  0.91981131 0.94094144 0.94176842 0.93225837 0.93080141 0.91030837\n",
      "  0.93144378 0.92192691 0.92005145 0.90910484 0.89765647 0.91916752\n",
      "  0.92517152 0.87776132 0.91536795 0.93687479 0.90425876 0.92888001\n",
      "  0.90834663 0.88996211]\n",
      " [0.88632391 0.87926875 0.89278528 0.86992657 0.86074696 0.8608622\n",
      "  0.87629998 0.88465517 0.83865538 0.87404818 0.88714648 0.87088241\n",
      "  0.85089151 0.86234529 0.93526833 0.85896227 0.86375156 0.81993821\n",
      "  0.87867402 0.8552411  0.85900959 0.88330665 0.92339937 0.84691257\n",
      "  0.8468627  0.87615664 0.87518248 0.8557112  0.87151157 0.90427765\n",
      "  0.89607134 0.92894974 0.90385256 0.90242886 0.81436339 0.86659796\n",
      "  0.85606677 0.90667436 0.89536601 0.86003272 0.8601285  0.90273244\n",
      "  0.8631211  0.807504   0.84090763 0.84208762 0.81815827 0.85713607\n",
      "  0.90344594 0.8490356 ]]\n",
      "[[0.96480566 0.95415736 0.97281913 0.95991968 0.96196125 0.96751272\n",
      "  0.95773245 0.94266309 0.94626425 0.94034481 0.97015254 0.97082696\n",
      "  0.94828473 0.96165066 0.96797932 0.9449097  0.95547722 0.9336086\n",
      "  0.96292534 0.94317877 0.96479514 0.96733918 0.9507723  0.96306494\n",
      "  0.9477508  0.9526415  0.93472451 0.96483375 0.95190813 0.96403361\n",
      "  0.96080792 0.96779247 0.9711688  0.95945811 0.93376401 0.95133916\n",
      "  0.94993456 0.95144319 0.96549588 0.96549147 0.97788738 0.97375581\n",
      "  0.96137903 0.95798185 0.96650092 0.95480805 0.9530169  0.96007964\n",
      "  0.95038573 0.96962747]\n",
      " [0.96663624 0.95415736 0.97281913 0.95991968 0.96549179 0.9737599\n",
      "  0.96950793 0.94638704 0.95097573 0.94669931 0.97614075 0.97082696\n",
      "  0.95557786 0.96165066 0.97312206 0.94868768 0.95869193 0.95325024\n",
      "  0.96292534 0.95648643 0.96479514 0.96733918 0.9507723  0.96863591\n",
      "  0.9477508  0.9526415  0.93472451 0.96862264 0.95190813 0.96403361\n",
      "  0.96080792 0.96779247 0.97524399 0.96189257 0.93376401 0.95133916\n",
      "  0.95745683 0.9635868  0.96549588 0.96549147 0.97788738 0.97743116\n",
      "  0.96423955 0.96403343 0.96650092 0.96955504 0.9530169  0.96007964\n",
      "  0.95285116 0.96962747]\n",
      " [0.92650671 0.91550797 0.93248943 0.92102339 0.90378697 0.93854753\n",
      "  0.91906483 0.89543157 0.91328694 0.8893067  0.93377917 0.89239325\n",
      "  0.90971551 0.9215626  0.94353054 0.91890982 0.92499089 0.90387642\n",
      "  0.92649414 0.90142122 0.8869436  0.92972092 0.94022237 0.93390228\n",
      "  0.88734185 0.91545461 0.87897816 0.88037968 0.9214442  0.92620499\n",
      "  0.92866645 0.92646516 0.91825465 0.92792822 0.90054089 0.91696081\n",
      "  0.93600762 0.91884266 0.91498048 0.93287876 0.94735391 0.91972344\n",
      "  0.91557066 0.90608145 0.92538089 0.92547107 0.92967372 0.93315715\n",
      "  0.91386911 0.9314981 ]\n",
      " [0.8730944  0.89700533 0.90901652 0.89385069 0.87173894 0.8522337\n",
      "  0.87706617 0.83981015 0.90708122 0.83987527 0.86521311 0.83857257\n",
      "  0.87680357 0.87747298 0.88261192 0.8390592  0.87402759 0.8506607\n",
      "  0.90386129 0.85574177 0.87538432 0.8784557  0.89862814 0.89121806\n",
      "  0.82664636 0.86112806 0.83327388 0.83365338 0.83350581 0.85052972\n",
      "  0.91792601 0.90169003 0.85879197 0.90190702 0.85501694 0.84436272\n",
      "  0.83113267 0.86795779 0.81262902 0.86604311 0.87090242 0.84763761\n",
      "  0.82194107 0.84228338 0.88403261 0.80058921 0.87378748 0.85313658\n",
      "  0.8621132  0.88314648]]\n",
      "[[0.9615417  0.94860547 0.96792098 0.9636567  0.97434968 0.95416994\n",
      "  0.97455734 0.95333942 0.92824828 0.96694832 0.9621381  0.95595646\n",
      "  0.95109758 0.9671259  0.9467177  0.94562512 0.92845865 0.95889406\n",
      "  0.95495208 0.96477365 0.96084496 0.95687852 0.9340239  0.97141036\n",
      "  0.94137445 0.95842816 0.96883632 0.93757463 0.94159068 0.95908941\n",
      "  0.97349591 0.95128327 0.96233583 0.96445434 0.95642051 0.969017\n",
      "  0.94708694 0.9387664  0.9644754  0.95105434 0.95394195 0.94874754\n",
      "  0.94078498 0.95391486 0.95166444 0.95511618 0.95161313 0.96255987\n",
      "  0.95881678 0.93626873]\n",
      " [0.9615417  0.9509037  0.96792098 0.9636567  0.97434968 0.95416994\n",
      "  0.97455734 0.95601019 0.93817037 0.96694832 0.9621381  0.96462794\n",
      "  0.95109758 0.97099106 0.96253904 0.95013487 0.92845865 0.95889406\n",
      "  0.95495208 0.96477365 0.96084496 0.95017328 0.9340239  0.97141036\n",
      "  0.94534231 0.96237967 0.96883632 0.93757463 0.95222599 0.95908941\n",
      "  0.97349591 0.95776429 0.96233583 0.96445434 0.95642051 0.969017\n",
      "  0.94708694 0.94329921 0.9644754  0.95867792 0.96496143 0.95568062\n",
      "  0.94078498 0.95391486 0.95166444 0.95775577 0.95161313 0.97497515\n",
      "  0.96192027 0.95035263]\n",
      " [0.91926984 0.89765361 0.90960619 0.91545632 0.93177817 0.90364732\n",
      "  0.89493151 0.90049401 0.84561    0.91561457 0.89558933 0.91449459\n",
      "  0.88469409 0.93891797 0.88421155 0.87819295 0.88675269 0.87631946\n",
      "  0.87939236 0.89391328 0.9044721  0.91897796 0.88131782 0.92698289\n",
      "  0.91335464 0.89414991 0.91882379 0.89352492 0.90060078 0.9234209\n",
      "  0.92709614 0.88348434 0.91425687 0.93284704 0.8918252  0.87688083\n",
      "  0.87850195 0.91847304 0.87820102 0.88325276 0.93217674 0.87907003\n",
      "  0.88418778 0.90853043 0.89516222 0.91119939 0.90490801 0.929126\n",
      "  0.89337528 0.87323696]\n",
      " [0.84123226 0.83715873 0.85780257 0.8506739  0.82525217 0.85762251\n",
      "  0.81297394 0.8438299  0.78846089 0.87657944 0.82863678 0.89067635\n",
      "  0.84883219 0.84129752 0.8272232  0.84695368 0.80232979 0.81867289\n",
      "  0.8604075  0.85657237 0.85296539 0.88867275 0.83516097 0.87332765\n",
      "  0.88541488 0.8325477  0.847653   0.80628644 0.87124261 0.86932244\n",
      "  0.89403167 0.83882584 0.89529984 0.92898298 0.84232478 0.84543239\n",
      "  0.87924905 0.89594803 0.78840964 0.84111534 0.84748699 0.80958613\n",
      "  0.842444   0.82749294 0.80842458 0.88908026 0.83521239 0.79719206\n",
      "  0.81701506 0.83690394]]\n",
      "[[0.96886003 0.96230293 0.95974663 0.9537257  0.94283502 0.95193835\n",
      "  0.94377826 0.95998928 0.96518613 0.9577795  0.95725997 0.9695327\n",
      "  0.97636485 0.96067394 0.94780622 0.95603868 0.94726512 0.96216498\n",
      "  0.96745711 0.97435949 0.94792607 0.94742095 0.95373427 0.94759113\n",
      "  0.95613324 0.95053973 0.93601526 0.94119665 0.92482835 0.95940232\n",
      "  0.93223109 0.94007091 0.95380049 0.96054578 0.9507653  0.97698622\n",
      "  0.97251583 0.95169267 0.95512678 0.96306859 0.96959112 0.96421147\n",
      "  0.94938361 0.96213309 0.96683756 0.95383762 0.9723358  0.96782732\n",
      "  0.95601523 0.96911934]\n",
      " [0.97731848 0.96391258 0.97038364 0.9537257  0.94283502 0.95528702\n",
      "  0.96000162 0.96076249 0.96518613 0.96022248 0.95966486 0.9695327\n",
      "  0.97636485 0.9598079  0.94780622 0.95603868 0.96188697 0.96216498\n",
      "  0.96023324 0.97620919 0.94792607 0.96424016 0.95396936 0.94759113\n",
      "  0.95613324 0.95563131 0.95300216 0.96003532 0.94399408 0.95937781\n",
      "  0.96085485 0.94007091 0.95875663 0.96279995 0.9532608  0.97902767\n",
      "  0.97251583 0.95169267 0.96491996 0.96306859 0.96959112 0.96421147\n",
      "  0.9589996  0.96213309 0.97280393 0.95383762 0.9723358  0.96782732\n",
      "  0.96181641 0.96911934]\n",
      " [0.91312466 0.89319184 0.88032823 0.9053781  0.90789036 0.92511438\n",
      "  0.89215228 0.91069875 0.91989895 0.89269693 0.90086929 0.91704858\n",
      "  0.91242435 0.90333814 0.90995398 0.94061506 0.92820801 0.92130635\n",
      "  0.92422223 0.93004933 0.90038115 0.89911772 0.8963499  0.88898594\n",
      "  0.90224464 0.89358541 0.91392411 0.90845496 0.88504647 0.89423586\n",
      "  0.89393725 0.86784479 0.89379367 0.89513039 0.89484283 0.90805377\n",
      "  0.90907199 0.92253412 0.88539312 0.90101952 0.90676734 0.90198531\n",
      "  0.86756033 0.90524086 0.92527996 0.87028972 0.93056169 0.90268981\n",
      "  0.91576906 0.93331853]\n",
      " [0.80738115 0.8371525  0.81534185 0.87016246 0.84200711 0.89867291\n",
      "  0.83833312 0.84460277 0.82170629 0.89442496 0.84552826 0.89757128\n",
      "  0.83420998 0.83353949 0.83929929 0.88253569 0.87012293 0.83756493\n",
      "  0.84758875 0.876587   0.887029   0.87190814 0.88698995 0.82134892\n",
      "  0.81341974 0.83690966 0.86409324 0.80044926 0.8166444  0.86549093\n",
      "  0.7788033  0.82383324 0.83181502 0.84739368 0.82973727 0.82221357\n",
      "  0.86087713 0.88323546 0.83553086 0.91420378 0.88972139 0.84226868\n",
      "  0.85768896 0.90459063 0.86364058 0.78861953 0.89087326 0.89078693\n",
      "  0.8756756  0.87802178]]\n",
      "[[0.95606707 0.95221281 0.9657348  0.94413914 0.93629649 0.95232138\n",
      "  0.92269782 0.956201   0.94758704 0.94877579 0.94502014 0.95536009\n",
      "  0.95533562 0.963035   0.96669765 0.94786999 0.95679146 0.94480839\n",
      "  0.9754918  0.94476659 0.97708159 0.95655453 0.96632504 0.95763216\n",
      "  0.91818287 0.95722304 0.95745152 0.95950265 0.94887788 0.95566294\n",
      "  0.96495044 0.95493959 0.94736396 0.95082743 0.95901315 0.96795402\n",
      "  0.97098789 0.96154136 0.96223645 0.94138852 0.93708298 0.94868285\n",
      "  0.96488495 0.95111719 0.9346122  0.94837189 0.95548726 0.96531425\n",
      "  0.94835909 0.95409067]\n",
      " [0.95606707 0.95221281 0.9657348  0.95323811 0.93629649 0.95232138\n",
      "  0.94303715 0.956201   0.95172653 0.95937048 0.93961698 0.95536009\n",
      "  0.95533562 0.96659823 0.96669765 0.94786999 0.95967053 0.94480839\n",
      "  0.9754918  0.94536909 0.97708159 0.95655453 0.96632504 0.9599829\n",
      "  0.94203625 0.95948801 0.95745152 0.95950265 0.94887788 0.95566294\n",
      "  0.9672998  0.96107225 0.95857139 0.95082743 0.95901315 0.96795402\n",
      "  0.97098789 0.96154136 0.96706159 0.94138852 0.93904608 0.94797884\n",
      "  0.96984803 0.95699365 0.9542395  0.96536179 0.94611704 0.96531425\n",
      "  0.94835909 0.95601248]\n",
      " [0.92536479 0.88636481 0.8750918  0.89890273 0.88995705 0.8864895\n",
      "  0.87265994 0.89224788 0.88560666 0.91008784 0.9154705  0.91127728\n",
      "  0.87706134 0.92464615 0.90029708 0.89256074 0.91477058 0.89197691\n",
      "  0.9346502  0.88435666 0.93757227 0.90560148 0.93892172 0.90126783\n",
      "  0.89745049 0.8913526  0.91442099 0.9263963  0.89675992 0.8530657\n",
      "  0.8889954  0.89440055 0.90348164 0.89300438 0.88829413 0.91027109\n",
      "  0.92563318 0.89479778 0.92197691 0.92128299 0.88943303 0.92168867\n",
      "  0.92422708 0.89863075 0.86738416 0.87503336 0.92095926 0.91070364\n",
      "  0.92677455 0.89090518]\n",
      " [0.85926868 0.84546759 0.82327096 0.82357781 0.8636281  0.8104883\n",
      "  0.82077566 0.8065785  0.8016965  0.85437397 0.88319105 0.81226796\n",
      "  0.84389978 0.89009561 0.8150178  0.82125254 0.85985393 0.78205323\n",
      "  0.8854266  0.84067835 0.86660558 0.82467646 0.88302159 0.81644401\n",
      "  0.85021427 0.84913616 0.88273724 0.88948621 0.88242272 0.82092137\n",
      "  0.84725197 0.88133247 0.83437451 0.81115445 0.78675376 0.81377076\n",
      "  0.89544827 0.84687963 0.88628944 0.85353536 0.82758819 0.87727757\n",
      "  0.84586291 0.82152523 0.85201467 0.85306352 0.86310809 0.88917123\n",
      "  0.86127185 0.78896446]]\n",
      "[[0.96240735 0.97087504 0.94820986 0.95604712 0.95749685 0.96141825\n",
      "  0.96547287 0.9667919  0.95688704 0.96797944 0.96212678 0.93246486\n",
      "  0.94855854 0.95357243 0.94730396 0.95206772 0.95275483 0.93947412\n",
      "  0.96268467 0.94885259 0.94638957 0.96400237 0.96560462 0.96165934\n",
      "  0.9386053  0.95738163 0.95609432 0.95885555 0.97172287 0.95064278\n",
      "  0.95927079 0.94515123 0.96786894 0.95259135 0.95887951 0.96369985\n",
      "  0.95456829 0.9289138  0.97043217 0.95328584 0.96668177 0.95408541\n",
      "  0.97159885 0.96742343 0.94896001 0.95211132 0.94743523 0.96268966\n",
      "  0.93963083 0.96967687]\n",
      " [0.96586363 0.97581591 0.94820986 0.95773544 0.95749685 0.96141825\n",
      "  0.97042738 0.97126962 0.95835165 0.96797944 0.96533445 0.95416172\n",
      "  0.96128908 0.95911873 0.94730396 0.95654649 0.94899396 0.96046666\n",
      "  0.96268467 0.9541283  0.94763295 0.97373746 0.96560462 0.96646992\n",
      "  0.94853383 0.94948464 0.95609432 0.96457364 0.97172287 0.9549139\n",
      "  0.95894465 0.94515123 0.96786894 0.95259135 0.95887951 0.96705235\n",
      "  0.95456829 0.94206627 0.97043217 0.95328584 0.96668177 0.96331579\n",
      "  0.97159885 0.96971086 0.95650102 0.95480445 0.95094316 0.96268966\n",
      "  0.93963083 0.97195665]\n",
      " [0.87280731 0.92444108 0.88880139 0.93452784 0.89969926 0.91561285\n",
      "  0.90291419 0.91607908 0.89782591 0.90171826 0.905015   0.87297802\n",
      "  0.9319688  0.86042541 0.90533765 0.90190592 0.90483748 0.9005456\n",
      "  0.88245928 0.90851102 0.91456257 0.8736909  0.89571663 0.90029681\n",
      "  0.88919429 0.88110401 0.8936285  0.91420129 0.90017096 0.9060491\n",
      "  0.90446388 0.88015834 0.93596151 0.92553245 0.87404815 0.9139291\n",
      "  0.89580292 0.8862035  0.92584406 0.85758146 0.91438928 0.89850641\n",
      "  0.89281864 0.8987202  0.87175697 0.92424038 0.87861138 0.89477617\n",
      "  0.88349092 0.90742785]\n",
      " [0.78870206 0.88757046 0.87071523 0.90494558 0.83772315 0.84281761\n",
      "  0.89718538 0.83484472 0.84711675 0.87548184 0.86431529 0.83017868\n",
      "  0.85165561 0.82908005 0.83574057 0.82991445 0.84557336 0.82155086\n",
      "  0.83432367 0.85909635 0.8558455  0.77586463 0.81990246 0.77968041\n",
      "  0.82182564 0.84811348 0.86110741 0.8636961  0.8988109  0.776015\n",
      "  0.88187981 0.8398076  0.86148389 0.82053658 0.87656405 0.88570694\n",
      "  0.82929804 0.81126027 0.87793231 0.73704048 0.89860847 0.79729301\n",
      "  0.84932606 0.81472778 0.76114534 0.88401602 0.81868077 0.8769975\n",
      "  0.8530097  0.88653619]]\n",
      "[[0.97369574 0.97138986 0.95969237 0.94306879 0.96132972 0.94239995\n",
      "  0.95457813 0.96048937 0.97393931 0.94882367 0.94234897 0.9433268\n",
      "  0.95802212 0.95688021 0.95332604 0.95969884 0.95999255 0.95288101\n",
      "  0.95617673 0.95140048 0.957813   0.95060355 0.9531056  0.96166974\n",
      "  0.94471773 0.94405862 0.95027726 0.96631487 0.95709936 0.95497388\n",
      "  0.95410614 0.93549153 0.95618952 0.95066987 0.95960638 0.95689035\n",
      "  0.95802288 0.95161093 0.94198799 0.93497117 0.96261661 0.9628865\n",
      "  0.96000359 0.95127262 0.94113973 0.9332409  0.95967309 0.96201937\n",
      "  0.95547293 0.95600274]\n",
      " [0.97705657 0.97380282 0.95969237 0.94306879 0.96132972 0.95199847\n",
      "  0.95179463 0.97113191 0.97769403 0.9605471  0.95541861 0.9433268\n",
      "  0.96548878 0.94882486 0.95332604 0.96171175 0.97487079 0.95701406\n",
      "  0.957039   0.96931882 0.957813   0.95793631 0.96359039 0.96339762\n",
      "  0.94665238 0.96261745 0.95217262 0.96631487 0.95709936 0.95497388\n",
      "  0.95410614 0.93549153 0.95618952 0.95066987 0.96449546 0.95689035\n",
      "  0.95802288 0.95212412 0.94327258 0.95342001 0.96261661 0.9628865\n",
      "  0.96000359 0.95639034 0.94881098 0.95330647 0.96301422 0.96698922\n",
      "  0.95618715 0.95996623]\n",
      " [0.94092792 0.94034757 0.90325715 0.88989194 0.91712625 0.87394608\n",
      "  0.87790253 0.88254506 0.92939654 0.88309322 0.90869718 0.88484459\n",
      "  0.8897149  0.92976848 0.91889829 0.88306012 0.89627108 0.90263748\n",
      "  0.92346709 0.87543727 0.89107031 0.91334676 0.90581923 0.90721014\n",
      "  0.8768969  0.9075777  0.88083594 0.88215323 0.9000878  0.89786353\n",
      "  0.88183147 0.87402359 0.93856691 0.88666052 0.8731798  0.91170392\n",
      "  0.91258614 0.87222123 0.89946629 0.89208235 0.90294985 0.9130506\n",
      "  0.90284421 0.88246007 0.89915933 0.87623383 0.92701208 0.89734621\n",
      "  0.91186554 0.8716138 ]\n",
      " [0.82137328 0.84646433 0.85519187 0.83748643 0.84572622 0.7999134\n",
      "  0.80212221 0.7925061  0.83235823 0.84058412 0.8484784  0.84163716\n",
      "  0.82669686 0.88151898 0.84572992 0.82362572 0.79726027 0.86513771\n",
      "  0.9100714  0.82266906 0.79635836 0.8503319  0.83062291 0.86056833\n",
      "  0.80584978 0.8290831  0.84486015 0.81642559 0.87226403 0.79792068\n",
      "  0.81859883 0.82171855 0.84270061 0.84196082 0.87428969 0.8570504\n",
      "  0.83371298 0.82272395 0.82014604 0.83605892 0.86325065 0.85902396\n",
      "  0.80156638 0.86404447 0.83791894 0.82538761 0.86504976 0.84986528\n",
      "  0.83601866 0.78139826]]\n",
      "[[0.95147052 0.93315328 0.94489561 0.96329112 0.92138674 0.96098586\n",
      "  0.96813284 0.95709701 0.96642975 0.96860714 0.9564869  0.96671835\n",
      "  0.95568075 0.96141798 0.94980829 0.94046408 0.95348515 0.9637289\n",
      "  0.94793665 0.9585509  0.94805984 0.96052652 0.96997277 0.95054204\n",
      "  0.93969138 0.96799461 0.95252658 0.95248448 0.95690563 0.94376155\n",
      "  0.96300276 0.94847366 0.93632175 0.96710082 0.95902354 0.95256258\n",
      "  0.94684586 0.9569212  0.95972146 0.95309041 0.94314985 0.95473996\n",
      "  0.9535247  0.96128792 0.95633211 0.95290121 0.94323217 0.95182901\n",
      "  0.95905674 0.94472088]\n",
      " [0.95147052 0.93893513 0.96042986 0.96784808 0.95672715 0.9636541\n",
      "  0.96813284 0.95709701 0.96846961 0.96860714 0.95818525 0.96671835\n",
      "  0.95825429 0.97149068 0.95918869 0.95667482 0.95874416 0.9637289\n",
      "  0.94793665 0.9585509  0.95029469 0.96236521 0.96997277 0.95054204\n",
      "  0.93969138 0.97058322 0.95252658 0.95248448 0.95690563 0.95502466\n",
      "  0.96300276 0.95065446 0.9462537  0.96710082 0.96091632 0.95256258\n",
      "  0.95010496 0.9569212  0.95972146 0.95903485 0.94314985 0.95730447\n",
      "  0.96065989 0.96128792 0.9589413  0.96024549 0.94323217 0.95843849\n",
      "  0.97218472 0.94992604]\n",
      " [0.88291236 0.90216705 0.88922072 0.90857611 0.84796703 0.88012491\n",
      "  0.92350324 0.89590028 0.90367019 0.90987294 0.91621075 0.87349135\n",
      "  0.88444845 0.89184689 0.90197526 0.90870467 0.90139107 0.88319814\n",
      "  0.90786679 0.93335516 0.92291411 0.90284836 0.93547499 0.88617381\n",
      "  0.92625152 0.9068629  0.89925883 0.9074582  0.87639242 0.89976607\n",
      "  0.90033978 0.87977279 0.88375879 0.92820639 0.91073535 0.89837834\n",
      "  0.8946207  0.90761097 0.91556274 0.8669048  0.92101977 0.91422456\n",
      "  0.91282929 0.91163465 0.88499856 0.89777477 0.89252307 0.90597352\n",
      "  0.91103466 0.88834481]\n",
      " [0.83751157 0.83212249 0.87025348 0.8239113  0.76322456 0.81528819\n",
      "  0.86560635 0.85059061 0.80975436 0.83002536 0.85129117 0.77675927\n",
      "  0.80095782 0.79880052 0.81543443 0.86875934 0.87710063 0.78081135\n",
      "  0.81520116 0.84967265 0.79590427 0.83681607 0.90409575 0.82728212\n",
      "  0.88007575 0.85603772 0.83338675 0.86418869 0.81516273 0.83526943\n",
      "  0.77769517 0.84463054 0.81987385 0.83918224 0.87177991 0.8207244\n",
      "  0.83406449 0.83319475 0.82411541 0.82793523 0.88798096 0.85079201\n",
      "  0.86907048 0.89803423 0.81918302 0.84773881 0.82596635 0.81192543\n",
      "  0.84878992 0.85587694]]\n",
      "ER\n"
     ]
    },
    {
     "data": {
      "image/png": "[encoded data removed]",
      "text/plain": [
       "<Figure size 576x432 with 1 Axes>"
      ]
     },
     "metadata": {
      "needs_background": "light"
     },
     "output_type": "display_data"
    },
    {
     "name": "stdout",
     "output_type": "stream",
     "text": [
      "[[1.         1.         1.         1.         1.         1.\n",
      "  1.         0.96207354 1.         0.96342048 1.         1.\n",
      "  0.99801708 1.         1.         0.97469079 1.         1.\n",
      "  0.92091613 0.98536371 1.         1.         0.9993348  0.97987589\n",
      "  0.95659183 0.97784418 1.         1.         1.         1.\n",
      "  1.         1.         0.90943565 0.999585   1.         0.99455197\n",
      "  1.         1.         0.9913685  0.99453639 1.         0.99993831\n",
      "  1.         0.95322166 1.         0.99853715 0.96539668 1.\n",
      "  0.88534838 0.99077693]\n",
      " [1.         0.99823129 1.         1.         0.93884706 1.\n",
      "  0.99465584 0.98014748 0.96414271 0.8854193  0.94764016 1.\n",
      "  0.9834868  0.92591744 1.         0.97576836 1.         0.86053882\n",
      "  0.92091613 0.98536371 1.         0.95881863 0.99899412 0.97987589\n",
      "  0.92493005 0.83564573 0.9954526  0.95505986 0.95971438 0.97737077\n",
      "  0.99849668 0.98336045 0.89059647 0.99917    0.94695111 0.94428514\n",
      "  0.99944423 1.         0.9913685  0.97736598 1.         0.99993831\n",
      "  1.         0.96101715 0.88423757 0.71992554 0.90234827 1.\n",
      "  0.83911333 0.97211921]\n",
      " [1.         1.         1.         1.         1.         1.\n",
      "  1.         0.96207354 1.         0.96342048 1.         1.\n",
      "  0.99801708 1.         1.         0.97469079 1.         1.\n",
      "  0.92091613 0.98536371 1.         1.         0.9993348  0.97987589\n",
      "  0.95659183 0.97784418 1.         1.         1.         1.\n",
      "  1.         1.         0.90943565 0.999585   1.         0.99455197\n",
      "  1.         1.         0.9913685  0.99453639 1.         0.99993831\n",
      "  1.         0.95322166 1.         0.99853715 0.96539668 1.\n",
      "  0.88534838 0.99077693]\n",
      " [1.         1.         1.         0.79604217 0.94231266 1.\n",
      "  1.         0.98192606 1.         0.93744582 1.         1.\n",
      "  0.99000707 0.96130019 1.         0.97159928 1.         0.96286898\n",
      "  0.97022276 1.         1.         1.         1.         1.\n",
      "  1.         1.         1.         0.994727   1.         1.\n",
      "  1.         1.         0.88383791 1.         1.         0.93182756\n",
      "  1.         0.94654016 0.9913685  1.         1.         0.87734426\n",
      "  1.         1.         1.         1.         1.         1.\n",
      "  0.97708016 1.        ]]\n",
      "[[0.95346932 0.98684812 0.9708821  0.99909059 0.99207975 0.99723216\n",
      "  0.95233573 1.         0.97440905 0.99146506 0.94999188 0.95942373\n",
      "  0.98323066 0.99332288 0.9712547  0.96209622 0.99265333 0.97375701\n",
      "  0.96392127 0.98838887 1.         0.88505628 1.         1.\n",
      "  1.         0.97325863 1.         0.99078339 0.99568703 0.99311049\n",
      "  0.97613559 0.97596384 0.98471645 0.96520097 0.99398899 1.\n",
      "  0.96118292 0.98190991 0.97005862 0.9681399  0.97792541 1.\n",
      "  0.97210004 0.96464162 0.98366095 0.99601301 0.97916969 0.99431552\n",
      "  0.99642289 0.99850171]\n",
      " [0.89481247 0.9834316  0.9521304  0.887016   0.88356432 0.8960243\n",
      "  0.99073608 0.97928398 0.88421299 0.91758358 0.83501222 0.83825287\n",
      "  0.98279134 0.97269776 0.92655393 0.94140831 0.98718211 0.92254112\n",
      "  0.82267122 0.89706468 0.86168316 0.84838627 0.90619529 0.96253361\n",
      "  0.99051389 0.94624026 0.88126983 0.83496744 0.92426055 0.89196144\n",
      "  0.97613559 0.97603545 0.98182699 0.90314088 0.99189133 0.97896271\n",
      "  0.91080193 0.86522652 0.93545747 0.94148739 0.90586254 0.8970551\n",
      "  0.92375189 0.8442705  0.99110737 0.99789851 0.83861178 0.97972018\n",
      "  0.88637588 0.94974349]\n",
      " [0.95346932 0.98684812 0.9708821  0.99909059 0.99207975 0.99723216\n",
      "  0.95233573 1.         0.97440905 0.99146506 0.94999188 0.95942373\n",
      "  0.98323066 0.99332288 0.9712547  0.96209622 0.99265333 0.97375701\n",
      "  0.96392127 0.98838887 1.         0.88505628 1.         1.\n",
      "  1.         0.97325863 1.         0.99078339 0.99568703 0.99311049\n",
      "  0.97613559 0.97596384 0.98471645 0.96520097 0.99398899 1.\n",
      "  0.96118292 0.98190991 0.97005862 0.9681399  0.97792541 1.\n",
      "  0.97210004 0.96464162 0.98366095 0.99601301 0.97916969 0.99431552\n",
      "  0.99642289 0.99850171]\n",
      " [0.99459702 1.         0.97921889 1.         0.93522536 0.95186984\n",
      "  0.84254147 1.         1.         0.99146506 0.98444078 0.86374285\n",
      "  0.91010398 0.99332288 1.         0.91886309 0.92845007 0.9250464\n",
      "  0.98093741 1.         1.         0.96182436 1.         0.90031815\n",
      "  1.         0.97232882 0.99905072 0.95487799 0.97928055 0.97450609\n",
      "  0.8983229  1.         0.99648685 0.94987119 1.         0.95891137\n",
      "  0.91991213 0.99731216 0.97462344 0.94749448 1.         0.8910011\n",
      "  0.91920946 1.         0.82193431 1.         0.96263239 0.87638147\n",
      "  0.9418926  0.90747549]]\n",
      "[[0.95179953 0.98972872 0.97178897 0.98098356 0.97742838 0.9777923\n",
      "  0.95374645 0.98047043 0.9655969  0.96372353 0.93978621 0.97135993\n",
      "  0.9825059  0.9781909  0.97829477 0.96041647 0.96166764 0.96425808\n",
      "  0.93490633 0.93552249 0.9882038  0.93392357 0.94620911 1.\n",
      "  0.95873647 0.95943085 0.957467   0.96106747 0.94958769 0.92935574\n",
      "  0.99796588 0.92601308 0.93883285 0.94589139 0.97398368 0.98793386\n",
      "  0.96497382 0.99568904 0.97268231 0.9882874  0.86673564 0.88959204\n",
      "  0.94902932 0.9557961  0.9627797  0.97202858 0.92833588 0.95337224\n",
      "  0.94766889 0.9891892 ]\n",
      " [0.94338587 0.77696083 0.91451048 0.91719355 0.95420626 0.95679298\n",
      "  0.90037633 0.97371159 0.94006972 0.9360059  0.87294441 0.96417322\n",
      "  0.96761668 0.95709454 0.8787886  0.89313073 0.92156063 0.93406683\n",
      "  0.97490269 0.83087157 0.93988941 0.90169809 0.93070727 0.94085646\n",
      "  0.92625724 0.92812153 0.88037121 0.91381878 0.91488111 0.9680959\n",
      "  0.97297728 0.9238683  0.88126069 0.95425799 0.85788356 0.96920465\n",
      "  0.96364271 0.9744932  0.91436451 0.93124139 0.80515599 0.81956381\n",
      "  0.91685996 0.90629147 0.97785164 0.93967938 0.88085259 0.95087517\n",
      "  0.95887238 0.97396704]\n",
      " [0.95179953 0.98972872 0.97178897 0.98098356 0.97742838 0.9777923\n",
      "  0.95374645 0.98047043 0.9655969  0.96372353 0.93978621 0.97135993\n",
      "  0.9825059  0.9781909  0.97829477 0.96041647 0.96166764 0.96425808\n",
      "  0.93490633 0.93552249 0.9882038  0.93392357 0.94620911 1.\n",
      "  0.95873647 0.95943085 0.957467   0.96106747 0.94958769 0.92935574\n",
      "  0.99796588 0.92601308 0.93883285 0.94589139 0.97398368 0.98793386\n",
      "  0.96497382 0.99568904 0.97268231 0.9882874  0.86673564 0.88959204\n",
      "  0.94902932 0.9557961  0.9627797  0.97202858 0.92833588 0.95337224\n",
      "  0.94766889 0.9891892 ]\n",
      " [0.85457779 0.9357664  0.83815171 0.92740936 0.99960487 0.97586794\n",
      "  0.90038831 0.93876792 0.96695489 0.95768933 0.91551036 0.95585694\n",
      "  0.98382399 0.90843061 0.89601177 0.9812456  0.92275106 0.85297712\n",
      "  0.79426204 0.90561097 0.98348786 0.90749081 0.93862004 0.94708155\n",
      "  0.89216707 0.97601796 0.93485331 0.89009788 0.91076372 0.93861856\n",
      "  0.95182358 0.89821345 0.97853794 0.85570339 0.82127579 0.97699645\n",
      "  0.9179331  0.99712405 1.         1.         0.94502549 0.87360448\n",
      "  0.95749205 0.95597281 0.88759501 0.96737296 0.91743118 0.96040549\n",
      "  0.96397112 0.94656178]]\n",
      "[[0.90089125 0.93237    0.95538338 0.93977661 0.98822762 0.95964906\n",
      "  0.96537867 0.91153076 0.991586   0.87943495 0.94946798 0.93910441\n",
      "  0.91452777 0.94742506 0.93563298 0.95970776 0.95138637 0.90507594\n",
      "  0.96333153 0.96580043 0.98223719 0.90455165 0.92629601 0.9014457\n",
      "  0.97158718 0.96292525 0.91931974 0.93365321 0.9243636  0.93087781\n",
      "  0.9569462  0.919794   0.95295998 0.96439418 0.99638507 0.91216161\n",
      "  0.93983741 0.96606821 0.93541962 0.91375328 0.91302623 0.98562789\n",
      "  0.92112105 0.93875235 0.9453033  0.92865486 0.96760033 0.9719122\n",
      "  0.95793911 0.98091983]\n",
      " [0.93042849 0.90470725 0.91965943 0.91713247 0.93963489 0.86617419\n",
      "  0.983107   0.95274771 0.93193485 0.88616487 0.86773739 0.83502343\n",
      "  0.93885458 0.90287511 0.94042629 0.96220314 0.92666632 0.88884613\n",
      "  0.90284026 0.87001505 0.92822375 0.88772019 0.94766575 0.85212553\n",
      "  0.96022909 0.92606508 0.91953138 0.83769235 0.9002458  0.90818206\n",
      "  0.95617034 0.88337389 0.92985069 0.94410891 0.94977421 0.91271099\n",
      "  0.97270947 0.91711649 0.95270172 0.89274199 0.87996964 0.96966991\n",
      "  0.87766465 0.86383473 0.9184025  0.94114518 0.95693448 0.9540634\n",
      "  0.94364012 0.99060732]\n",
      " [0.90089125 0.93237    0.95538338 0.93977661 0.98822762 0.95964906\n",
      "  0.96537867 0.91153076 0.991586   0.87943495 0.94946798 0.93910441\n",
      "  0.91452777 0.94742506 0.93563298 0.95970776 0.95138637 0.90507594\n",
      "  0.96333153 0.96580043 0.98223719 0.90455165 0.92629601 0.9014457\n",
      "  0.97158718 0.96292525 0.91931974 0.93365321 0.9243636  0.93087781\n",
      "  0.9569462  0.919794   0.95295998 0.96439418 0.99638507 0.91216161\n",
      "  0.93983741 0.96606821 0.93541962 0.91375328 0.91302623 0.98562789\n",
      "  0.92112105 0.93875235 0.9453033  0.92865486 0.96760033 0.9719122\n",
      "  0.95793911 0.98091983]\n",
      " [0.82930568 0.90307893 0.86703213 0.90298595 0.90181795 0.82226461\n",
      "  0.90670349 0.92283676 0.9527123  0.9153577  0.85026108 0.88752327\n",
      "  0.78880642 0.88481076 0.85398544 0.88721281 0.92798064 0.91304117\n",
      "  0.91614667 0.93374392 0.83722061 0.85046618 0.87260159 0.94228953\n",
      "  0.93221271 0.87096062 0.88130245 0.91675682 0.7755579  0.9264178\n",
      "  0.81144507 0.95180711 0.90055747 0.92763779 0.90686453 0.90390252\n",
      "  0.91879715 0.85724102 0.91617971 0.87367129 0.87783898 0.91002723\n",
      "  0.86736072 0.80300845 0.85042939 0.87357185 0.94051995 0.89281834\n",
      "  0.89770579 0.98180516]]\n",
      "[[0.92920767 0.93614547 0.92332192 0.95208271 0.94058166 0.93555554\n",
      "  0.97865118 0.90911238 0.95358642 0.91553385 0.96088603 0.94771737\n",
      "  0.92830431 0.91030423 0.96629554 0.91970455 0.95070154 0.95473298\n",
      "  0.92087071 0.89149461 0.8964105  0.92836969 0.92875163 0.95511307\n",
      "  0.97054523 0.92359382 0.92732447 0.89605846 0.97845048 0.95122795\n",
      "  0.93318244 0.97467955 0.89964668 0.9440468  0.97746755 0.93158185\n",
      "  0.92256982 0.96154681 0.91935078 0.93737356 0.91277783 0.94661373\n",
      "  0.92413069 0.90469237 0.98032776 0.96287843 0.88268261 0.89329445\n",
      "  0.91765438 0.90851794]\n",
      " [0.93092092 0.95347649 0.927132   0.97363058 0.87452445 0.95916406\n",
      "  0.96207971 0.93580946 0.94855895 0.9281279  0.9648927  0.98734693\n",
      "  0.90482808 0.90592753 0.95710501 0.94862788 0.93136164 0.97372556\n",
      "  0.95659933 0.86705664 0.91454977 0.8672808  0.92140503 0.9595071\n",
      "  0.96871455 0.93301436 0.94835974 0.94331377 0.97081523 0.94941739\n",
      "  0.91769771 0.93977829 0.85112612 0.94888306 0.97740426 0.94053775\n",
      "  0.92636039 0.94686223 0.93144102 0.94156702 0.90262695 0.94418233\n",
      "  0.87802739 0.97467074 0.93722473 0.94750909 0.92743924 0.91147155\n",
      "  0.97781768 0.88357177]\n",
      " [0.92920767 0.93614547 0.92332192 0.95208271 0.94058166 0.93555554\n",
      "  0.97865118 0.90911238 0.95358642 0.91553385 0.96088603 0.94771737\n",
      "  0.92830431 0.91030423 0.96629554 0.91970455 0.95070154 0.95473298\n",
      "  0.92087071 0.89149461 0.8964105  0.92836969 0.92875163 0.95511307\n",
      "  0.97054523 0.92359382 0.92732447 0.89605846 0.97845048 0.95122795\n",
      "  0.93318244 0.97467955 0.89964668 0.9440468  0.97746755 0.93158185\n",
      "  0.92256982 0.96154681 0.91935078 0.93737356 0.91277783 0.94661373\n",
      "  0.92413069 0.90469237 0.98032776 0.96287843 0.88268261 0.89329445\n",
      "  0.91765438 0.90851794]\n",
      " [0.88619866 0.78972574 0.79637377 0.82176747 0.84492709 0.79645042\n",
      "  0.91458883 0.84495439 0.90563908 0.83828085 0.87541074 0.75720117\n",
      "  0.87177123 0.86669015 0.78290288 0.87028703 0.84762997 0.77312522\n",
      "  0.92852584 0.77062131 0.83989918 0.79676214 0.9282761  0.9294297\n",
      "  0.92281747 0.7006313  0.79863453 0.77867648 0.95030826 0.78148057\n",
      "  0.85473732 0.85607819 0.84493293 0.91542257 0.85082687 0.92093378\n",
      "  0.79541471 0.95881438 0.8616714  0.84073519 0.8376868  0.89574489\n",
      "  0.88679103 0.82526746 0.87726152 0.87201958 0.76514451 0.71522078\n",
      "  0.79878703 0.85876158]]\n",
      "[[0.93634242 0.94219047 0.8681384  0.93598015 0.95532034 0.84631369\n",
      "  0.916393   0.9621083  0.94264623 0.89664818 0.89762642 0.87692726\n",
      "  0.91053386 0.94242971 0.9212057  0.96124479 0.92826434 0.84599687\n",
      "  0.93041565 0.93338793 0.90306323 0.90564774 0.91633184 0.93628945\n",
      "  0.94830221 0.92725928 0.89134375 0.90466132 0.92094366 0.92414068\n",
      "  0.93306981 0.88436791 0.88379858 0.90808202 0.94086808 0.90819542\n",
      "  0.91630983 0.94161133 0.93419383 0.94535137 0.91475895 0.92555049\n",
      "  0.90227881 0.94346668 0.96885928 0.90489128 0.91587592 0.94490077\n",
      "  0.89154363 0.88273063]\n",
      " [0.98528276 0.94682159 0.89421493 0.90812619 0.94190649 0.92056486\n",
      "  0.91801558 0.93899313 0.95421026 0.92534348 0.9145713  0.94584805\n",
      "  0.93298531 0.8890901  0.92317728 0.94261029 0.93792208 0.92621932\n",
      "  0.94403669 0.9224127  0.95727558 0.948311   0.94483274 0.93098296\n",
      "  0.98388549 0.9407307  0.82448085 0.9189683  0.94210687 0.90206047\n",
      "  0.92429047 0.92660901 0.88073571 0.91825072 0.93863946 0.9758748\n",
      "  0.98930878 0.93951988 0.95704724 0.98147701 0.96131979 0.9256316\n",
      "  0.94326558 0.93472145 0.9519173  0.90591423 0.95382461 0.90757099\n",
      "  0.94666221 0.89724352]\n",
      " [0.93824022 0.92135669 0.86874576 0.94681617 0.95532034 0.84631369\n",
      "  0.90779429 0.93852119 0.92697319 0.90124564 0.89762642 0.8692363\n",
      "  0.91053386 0.92680821 0.92767285 0.91699942 0.91780677 0.83855998\n",
      "  0.92567038 0.94338177 0.884172   0.89837557 0.91633184 0.93628945\n",
      "  0.94887821 0.91106432 0.91208791 0.90466132 0.89964781 0.92403752\n",
      "  0.9267874  0.88436791 0.90023317 0.91663865 0.94321716 0.91292245\n",
      "  0.91630983 0.95152787 0.92446403 0.89382817 0.91475895 0.92555049\n",
      "  0.89511747 0.94692245 0.96680405 0.92058662 0.90270055 0.91635001\n",
      "  0.89166544 0.89072712]\n",
      " [0.81520826 0.78642664 0.81894413 0.87718057 0.81711233 0.82861431\n",
      "  0.7336738  0.84870148 0.82750098 0.84150795 0.77196876 0.6729207\n",
      "  0.85082606 0.77400518 0.85094666 0.83708755 0.87021081 0.74127922\n",
      "  0.82198796 0.85632453 0.74535846 0.81492549 0.79839578 0.83333427\n",
      "  0.88079138 0.80891637 0.8331284  0.86034616 0.85412989 0.77109708\n",
      "  0.83029185 0.75523341 0.82094864 0.77767327 0.90630802 0.80935132\n",
      "  0.76254751 0.80787467 0.85006373 0.78144895 0.78060822 0.8273528\n",
      "  0.78036158 0.93084367 0.87221072 0.86603649 0.82582016 0.75650959\n",
      "  0.76596682 0.75943971]]\n",
      "[[0.91577454 0.95043035 0.95915097 0.91577125 0.9184746  0.93648595\n",
      "  0.91973526 0.95305573 0.97058438 0.91050806 0.93311691 0.93015152\n",
      "  0.94401656 0.95425257 0.94278475 0.9161055  0.93633274 0.93377153\n",
      "  0.95464566 0.93119729 0.90974242 0.89695669 0.92171546 0.97832505\n",
      "  0.87591909 0.96876803 0.9178262  0.95753895 0.93470065 0.93018402\n",
      "  0.97183126 0.90693911 0.94016489 0.86152407 0.94741153 0.92802456\n",
      "  0.92872975 0.93702683 0.95661075 0.96496778 0.9669614  0.95366049\n",
      "  0.9443154  0.96847833 0.96790271 0.95231593 0.95756194 0.93895546\n",
      "  0.96653869 0.93972748]\n",
      " [0.91577454 0.95043035 0.95915097 0.91577125 0.89124651 0.93648595\n",
      "  0.94258471 0.95786753 0.97058438 0.90575632 0.98302677 0.93274436\n",
      "  0.94401656 0.95188086 0.95052518 0.96913559 0.93633274 0.95099539\n",
      "  0.96816955 0.8690667  0.92972458 0.9394061  0.92083764 0.97447467\n",
      "  0.91997043 0.97907012 0.94598728 0.95753895 0.9453011  0.92355727\n",
      "  0.96350554 0.87066821 0.93172457 0.88695807 0.95407721 0.92802456\n",
      "  0.96284342 0.95805703 0.98148994 0.971088   0.96196796 0.9554148\n",
      "  0.9443154  0.96847833 0.96790271 0.94994957 0.95824457 0.94110683\n",
      "  0.98525477 0.98585911]\n",
      " [0.93444834 0.92295976 0.94728279 0.90422767 0.91418108 0.91959226\n",
      "  0.91005357 0.82300452 0.94314689 0.93546455 0.87954797 0.85049811\n",
      "  0.9267581  0.93177936 0.91140048 0.87369396 0.89355365 0.93413919\n",
      "  0.93868285 0.91972007 0.91631502 0.86781786 0.91041684 0.90717407\n",
      "  0.87591909 0.89423005 0.89993818 0.9214889  0.86617477 0.9364935\n",
      "  0.92352923 0.8892118  0.91232676 0.82940631 0.9231947  0.91447742\n",
      "  0.91947861 0.94167673 0.9487469  0.951822   0.9616393  0.95638795\n",
      "  0.90019823 0.94292506 0.89458467 0.93030105 0.9406137  0.93286938\n",
      "  0.9055869  0.91533602]\n",
      " [0.81798207 0.87881092 0.8326403  0.73953834 0.76988157 0.84509262\n",
      "  0.81008358 0.63445493 0.88504992 0.81943516 0.57891536 0.70566512\n",
      "  0.811526   0.76807099 0.74066205 0.79990252 0.81261763 0.81025969\n",
      "  0.91259489 0.83800217 0.80268813 0.75780355 0.67860332 0.80457684\n",
      "  0.8249281  0.79490898 0.72531851 0.77347636 0.74481679 0.60896538\n",
      "  0.8370029  0.74693882 0.82682799 0.83657048 0.81151574 0.75341563\n",
      "  0.78353071 0.80032586 0.79976485 0.85211941 0.87106872 0.80984467\n",
      "  0.68780854 0.81104758 0.75698195 0.85231997 0.75256986 0.82406119\n",
      "  0.87587309 0.78379971]]\n",
      "[[0.93758815 0.95625923 0.95690262 0.94388005 0.92134907 0.90687942\n",
      "  0.93560413 0.94838432 0.87659968 0.95714592 0.94511514 0.95365594\n",
      "  0.90538637 0.9297901  0.95901074 0.94784911 0.93606006 0.92714822\n",
      "  0.9679029  0.8843719  0.91994798 0.95920593 0.90090194 0.91997419\n",
      "  0.95019586 0.96385445 0.96867548 0.9280203  0.89562616 0.94482395\n",
      "  0.98717428 0.95491952 0.94338038 0.93415138 0.92873261 0.97391278\n",
      "  0.97948901 0.97121027 0.93321387 0.96216566 0.96273758 0.95192484\n",
      "  0.90927643 0.97076729 0.90798226 0.96053399 0.92205771 0.96285008\n",
      "  0.91761961 0.92946607]\n",
      " [0.93912357 0.95625923 0.96522858 0.96832703 0.93709951 0.91609285\n",
      "  0.93560413 0.92252627 0.88362431 0.95714592 0.94768471 0.94472317\n",
      "  0.91920286 0.9297901  0.97040927 0.94784911 0.94333924 0.93060645\n",
      "  0.9679029  0.8843719  0.91994798 0.95920593 0.89097434 0.92183957\n",
      "  0.94422725 0.96901381 0.96867548 0.93306562 0.89898165 0.93176742\n",
      "  0.98717428 0.95029594 0.95722838 0.93045853 0.94297251 0.97391278\n",
      "  0.97966755 0.96190981 0.94567584 0.96603806 0.96273758 0.96579619\n",
      "  0.92872443 0.97467866 0.87337025 0.96053399 0.92205771 0.96285008\n",
      "  0.9393287  0.92801166]\n",
      " [0.94033723 0.93179969 0.89721369 0.90971052 0.86901358 0.84778364\n",
      "  0.89484807 0.91120008 0.84238203 0.89277757 0.93709376 0.8775571\n",
      "  0.92066997 0.87869024 0.9033162  0.90691145 0.83617278 0.87580237\n",
      "  0.83945401 0.88702882 0.84759081 0.94573026 0.88324664 0.86841786\n",
      "  0.91217799 0.94734929 0.94228862 0.92835311 0.80872781 0.89119787\n",
      "  0.96393235 0.9104661  0.91276586 0.92233043 0.91782438 0.92259403\n",
      "  0.9634287  0.93532395 0.87670455 0.88286841 0.93213905 0.92811193\n",
      "  0.88968999 0.94201528 0.90889017 0.90099094 0.86863746 0.91141888\n",
      "  0.91016132 0.92331614]\n",
      " [0.8448375  0.78646311 0.68822222 0.7984476  0.80869887 0.68190859\n",
      "  0.80072825 0.79309676 0.73921598 0.77397082 0.86758602 0.78269841\n",
      "  0.78465562 0.78131506 0.79340615 0.74513604 0.62722366 0.76023681\n",
      "  0.73979626 0.82817481 0.74477163 0.73626337 0.72061399 0.72657071\n",
      "  0.73743568 0.85029961 0.81348966 0.78442412 0.73244681 0.72859647\n",
      "  0.83756591 0.8431797  0.8025533  0.75624304 0.7882458  0.82524823\n",
      "  0.94099158 0.77446689 0.79613744 0.73637287 0.79809125 0.77330131\n",
      "  0.78303655 0.80054743 0.79943243 0.82629984 0.71068938 0.80365735\n",
      "  0.75947477 0.73216763]]\n",
      "[[0.95587651 0.95277283 0.92865539 0.96967899 0.92011395 0.96180392\n",
      "  0.93376966 0.96312781 0.96454461 0.97661603 0.92300187 0.95752441\n",
      "  0.9141268  0.96133646 0.93411269 0.94443173 0.9544157  0.9645867\n",
      "  0.94537037 0.91420018 0.94966592 0.96122394 0.97491469 0.92355751\n",
      "  0.93870881 0.94997847 0.95748531 0.92732678 0.9239412  0.95234448\n",
      "  0.96203369 0.95046413 0.92125029 0.94269952 0.94590072 0.95490145\n",
      "  0.98050852 0.94459858 0.97254603 0.97697458 0.96848739 0.93292432\n",
      "  0.93307036 0.93790952 0.95335094 0.93129079 0.9307022  0.97045517\n",
      "  0.92291662 0.95102529]\n",
      " [0.96097343 0.95277283 0.92865539 0.96967899 0.92011395 0.95070434\n",
      "  0.91273127 0.96312781 0.96454461 0.96896135 0.93527352 0.95752441\n",
      "  0.9141268  0.96133646 0.93411269 0.94574675 0.9544157  0.96591092\n",
      "  0.94537037 0.91420018 0.94966592 0.96122394 0.97491469 0.92355751\n",
      "  0.93870881 0.94984964 0.97187493 0.92732678 0.9239412  0.95234448\n",
      "  0.96524834 0.9632093  0.92125029 0.93485136 0.9558273  0.95490145\n",
      "  0.98050852 0.94459858 0.97254603 0.97697458 0.96848739 0.93004697\n",
      "  0.93517888 0.93790952 0.95335094 0.94172431 0.9307022  0.97045517\n",
      "  0.9271527  0.95102529]\n",
      " [0.89973966 0.94564851 0.91475409 0.89674258 0.88924259 0.91342589\n",
      "  0.9113385  0.92178843 0.88764602 0.88735316 0.87821553 0.85808919\n",
      "  0.91881026 0.90280539 0.90112112 0.89656702 0.95095318 0.9412842\n",
      "  0.87713912 0.84592702 0.91474461 0.9367633  0.88559907 0.90122386\n",
      "  0.89011202 0.91728459 0.88179139 0.8823807  0.86172991 0.91549441\n",
      "  0.93680549 0.88279427 0.8683488  0.80759227 0.91698265 0.92269667\n",
      "  0.95211169 0.92507717 0.89927301 0.93566718 0.92094846 0.90289599\n",
      "  0.87789889 0.88389017 0.90427588 0.86461126 0.87852949 0.85657299\n",
      "  0.86086313 0.94031944]\n",
      " [0.8078449  0.84880397 0.83489388 0.75602002 0.69930369 0.69967902\n",
      "  0.79100531 0.77567916 0.77042891 0.82002358 0.7835488  0.63957544\n",
      "  0.78458166 0.88028233 0.79195585 0.70508798 0.8077297  0.7032558\n",
      "  0.73250388 0.7653868  0.8180724  0.82031506 0.67305055 0.86408123\n",
      "  0.7603206  0.71648519 0.7619442  0.66517732 0.76815515 0.73149386\n",
      "  0.67432711 0.71951684 0.77970478 0.7477411  0.73034358 0.7572093\n",
      "  0.6910322  0.75736689 0.84910903 0.8235131  0.71436902 0.73577164\n",
      "  0.78655901 0.73967196 0.80408535 0.63073553 0.6951402  0.62123009\n",
      "  0.68208404 0.79697064]]\n",
      "[[0.93879931 0.92601589 0.92976965 0.92741126 0.9752433  0.96802264\n",
      "  0.96709195 0.92386491 0.92208846 0.92847425 0.91495085 0.92990543\n",
      "  0.9600992  0.94812097 0.94727487 0.93711476 0.96926929 0.96179218\n",
      "  0.9527903  0.95432984 0.96697565 0.98062684 0.96974257 0.93893804\n",
      "  0.94159979 0.9164311  0.94861031 0.9575825  0.94445303 0.95369282\n",
      "  0.95759824 0.94429174 0.96986887 0.96305258 0.94398003 0.97218411\n",
      "  0.97281168 0.9776835  0.961577   0.87698466 0.91482811 0.94518412\n",
      "  0.95285959 0.96606226 0.9466227  0.96069771 0.93690074 0.94581868\n",
      "  0.97075085 0.92514826]\n",
      " [0.94276154 0.92601589 0.92976965 0.92741126 0.9752433  0.97355586\n",
      "  0.96709195 0.92386491 0.92208846 0.92847425 0.91495085 0.92990543\n",
      "  0.9600992  0.94812097 0.94727487 0.93688949 0.96926929 0.96179218\n",
      "  0.96017291 0.95432984 0.96697565 0.98062684 0.96974257 0.9428908\n",
      "  0.94159979 0.9164311  0.94861031 0.9575825  0.94445303 0.95369282\n",
      "  0.95759824 0.94429174 0.96986887 0.96305258 0.92798058 0.96102195\n",
      "  0.97281168 0.9776835  0.96116886 0.88634672 0.89284389 0.94866779\n",
      "  0.95285959 0.96606226 0.9466227  0.96069771 0.9409927  0.94581868\n",
      "  0.97075085 0.92514826]\n",
      " [0.89417157 0.86414051 0.89415947 0.88243469 0.86192086 0.95065118\n",
      "  0.92813715 0.88311686 0.90929171 0.91012936 0.84851992 0.93892359\n",
      "  0.90613035 0.82839644 0.89085409 0.91166801 0.9352864  0.93150363\n",
      "  0.93725339 0.8949104  0.85462916 0.93523061 0.89716598 0.88930628\n",
      "  0.88749663 0.8794629  0.86943898 0.92673062 0.88231343 0.91351987\n",
      "  0.93978261 0.87793258 0.92600137 0.8420469  0.8999338  0.91572789\n",
      "  0.87632447 0.95780363 0.92197306 0.85357011 0.90856798 0.90932758\n",
      "  0.91871678 0.88657399 0.91764389 0.89329457 0.92421986 0.89608874\n",
      "  0.92856468 0.90193935]\n",
      " [0.79554008 0.70904809 0.7186923  0.82813239 0.69978449 0.72073563\n",
      "  0.74744937 0.69402046 0.73684397 0.78573211 0.78734358 0.83357017\n",
      "  0.81349928 0.71525356 0.73363356 0.83107922 0.79954514 0.80850624\n",
      "  0.83835585 0.77352789 0.71816575 0.74298137 0.71534843 0.66167391\n",
      "  0.7640991  0.7713242  0.73822002 0.74957796 0.67995542 0.74187564\n",
      "  0.82863679 0.73844692 0.82775247 0.72989654 0.77541127 0.63694915\n",
      "  0.7429527  0.77359851 0.84823299 0.74192082 0.86341274 0.81483479\n",
      "  0.71308951 0.74117531 0.8282625  0.6996081  0.69677656 0.71826332\n",
      "  0.82903028 0.65257692]]\n",
      "[[0.94195386 0.96838886 0.94741306 0.93617813 0.96020977 0.93769045\n",
      "  0.95204043 0.95916715 0.96414335 0.94434404 0.97715447 0.9772915\n",
      "  0.94380123 0.95522289 0.90613392 0.96982542 0.95630757 0.94864872\n",
      "  0.95564812 0.94950203 0.94656041 0.94924665 0.9457295  0.92749688\n",
      "  0.94631041 0.94911895 0.97255286 0.97068493 0.95925352 0.939129\n",
      "  0.93540104 0.96080053 0.96193115 0.94331874 0.94187709 0.95649459\n",
      "  0.95237392 0.96949682 0.94854021 0.97205364 0.97488103 0.95956435\n",
      "  0.9575621  0.91740152 0.9481891  0.96678511 0.97207953 0.95044971\n",
      "  0.97241081 0.94825989]\n",
      " [0.94195386 0.96838886 0.94741306 0.92809532 0.96020977 0.93769045\n",
      "  0.95204043 0.95916715 0.96414335 0.94434404 0.97715447 0.9772915\n",
      "  0.94380123 0.95522289 0.90613392 0.96982542 0.95630757 0.94864872\n",
      "  0.95564812 0.94950203 0.94656041 0.94924665 0.9457295  0.92749688\n",
      "  0.94631041 0.94911895 0.97255286 0.97068493 0.95925352 0.939129\n",
      "  0.93540104 0.96080053 0.96193115 0.93983703 0.94187709 0.95649459\n",
      "  0.95237392 0.96949682 0.94854021 0.97205364 0.97488103 0.95956435\n",
      "  0.96257646 0.91735845 0.9481891  0.96678511 0.97207953 0.95044971\n",
      "  0.97241081 0.94825989]\n",
      " [0.90281104 0.93101481 0.91383357 0.87312098 0.92797932 0.93051454\n",
      "  0.874917   0.89102431 0.90273197 0.86661959 0.86004951 0.91692926\n",
      "  0.90273588 0.85014437 0.86506388 0.84670971 0.92250435 0.86339948\n",
      "  0.92036442 0.89609514 0.89394161 0.9268071  0.91114136 0.91508715\n",
      "  0.88199717 0.86195877 0.92496835 0.92429605 0.88074144 0.88972576\n",
      "  0.88130405 0.90462096 0.91515722 0.90247659 0.893162   0.87318923\n",
      "  0.90854861 0.86476883 0.88646077 0.92484166 0.87093792 0.90402459\n",
      "  0.92333406 0.87849013 0.89239631 0.9152727  0.90367763 0.92570433\n",
      "  0.92144207 0.93118633]\n",
      " [0.8207945  0.81180603 0.75766848 0.82393112 0.67787113 0.82157548\n",
      "  0.70031819 0.70187786 0.80967579 0.77122848 0.76220662 0.76779369\n",
      "  0.63235502 0.66294114 0.79457464 0.68096741 0.84100398 0.75003897\n",
      "  0.76847459 0.74823863 0.75748795 0.8440602  0.68355985 0.66688808\n",
      "  0.83817838 0.79520935 0.76956299 0.71446935 0.74764441 0.70926075\n",
      "  0.70049108 0.71386236 0.7417319  0.73886436 0.8111728  0.78115544\n",
      "  0.720148   0.72986751 0.68518174 0.7344007  0.69417079 0.83055436\n",
      "  0.79171315 0.67802203 0.75850533 0.76471625 0.76643566 0.84337555\n",
      "  0.7068963  0.83609822]]\n",
      "[[0.97944424 0.93578007 0.96087636 0.94495982 0.95380536 0.91434514\n",
      "  0.96220697 0.9499679  0.95041209 0.95487083 0.96575863 0.9741522\n",
      "  0.94481841 0.96352638 0.96395318 0.96750223 0.94734877 0.95910923\n",
      "  0.95809735 0.93136319 0.93169747 0.9456254  0.97156908 0.95969494\n",
      "  0.93836216 0.96624954 0.94743266 0.94220272 0.95852333 0.92811079\n",
      "  0.93889731 0.93298758 0.94215326 0.90936099 0.95535642 0.93955422\n",
      "  0.94844833 0.93705952 0.93888027 0.93582855 0.93026718 0.97789473\n",
      "  0.91800358 0.92738256 0.97283432 0.93597901 0.9766793  0.93455332\n",
      "  0.96175537 0.96538984]\n",
      " [0.97944424 0.93578007 0.96087636 0.94495982 0.95380536 0.91434514\n",
      "  0.96220697 0.9499679  0.95041209 0.95487083 0.96575863 0.9741522\n",
      "  0.94481841 0.96352638 0.96395318 0.96750223 0.94734877 0.95910923\n",
      "  0.96248666 0.93566402 0.93562931 0.9456254  0.97399849 0.95969494\n",
      "  0.93836216 0.96624954 0.94743266 0.94220272 0.95852333 0.92811079\n",
      "  0.93889731 0.93298758 0.94215326 0.90936099 0.95535642 0.93955422\n",
      "  0.96304763 0.93705952 0.93888027 0.93582855 0.93026718 0.97789473\n",
      "  0.91800358 0.92738256 0.97283432 0.93597901 0.9766793  0.93455332\n",
      "  0.96175537 0.96538984]\n",
      " [0.92816967 0.87102834 0.90695791 0.88903869 0.88474327 0.81119031\n",
      "  0.89805573 0.91924621 0.84953959 0.90773141 0.89778723 0.91611276\n",
      "  0.90692887 0.86867676 0.87986535 0.88889575 0.91319057 0.9028847\n",
      "  0.88200878 0.85568544 0.86907872 0.89628889 0.88331233 0.89588389\n",
      "  0.88391358 0.90588729 0.88161798 0.86293897 0.91638398 0.88964761\n",
      "  0.88481745 0.89208291 0.88168324 0.86544708 0.86462019 0.87742152\n",
      "  0.89167078 0.89410375 0.89272265 0.88992037 0.89565103 0.89964067\n",
      "  0.87046255 0.85942437 0.95358284 0.85622077 0.9339034  0.82751405\n",
      "  0.88372618 0.91923897]\n",
      " [0.75685368 0.70316043 0.72574185 0.76497474 0.6848803  0.74377715\n",
      "  0.7995715  0.77201855 0.70862129 0.77542936 0.70754031 0.76158318\n",
      "  0.67852323 0.78437711 0.73448556 0.6658328  0.78974152 0.71718036\n",
      "  0.68493009 0.70565118 0.72450632 0.58689513 0.77097231 0.81183555\n",
      "  0.75519453 0.76126885 0.65308458 0.70060799 0.80849325 0.74368659\n",
      "  0.75881159 0.76824707 0.80927204 0.72043857 0.68961344 0.69362105\n",
      "  0.69940312 0.68101816 0.70733362 0.71449848 0.73795161 0.76477451\n",
      "  0.69719023 0.67451041 0.82596186 0.7342453  0.70969651 0.66086779\n",
      "  0.71289292 0.76457938]]\n",
      "[[0.94716414 0.94002774 0.93347157 0.94299228 0.94016421 0.94854435\n",
      "  0.95274844 0.96009028 0.93594642 0.96616951 0.90216136 0.95492778\n",
      "  0.93087296 0.95473049 0.93811416 0.9064903  0.93667241 0.94378369\n",
      "  0.92730216 0.93390522 0.95777654 0.95621967 0.93167772 0.95797186\n",
      "  0.96026957 0.96151873 0.92033313 0.9590142  0.94676193 0.97647175\n",
      "  0.96430226 0.9725425  0.92237719 0.97506636 0.95788989 0.96961281\n",
      "  0.94487399 0.96110771 0.95743718 0.92501957 0.95252832 0.95205979\n",
      "  0.95136967 0.9683098  0.93742745 0.95696    0.95425284 0.96955189\n",
      "  0.93268575 0.97050695]\n",
      " [0.94716414 0.94002774 0.93347157 0.94299228 0.94016421 0.94854435\n",
      "  0.95274844 0.96009028 0.93594642 0.96616951 0.90216136 0.95492778\n",
      "  0.93087296 0.95473049 0.93811416 0.9064903  0.93667241 0.94378369\n",
      "  0.92730216 0.93390522 0.95777654 0.95621967 0.93167772 0.95797186\n",
      "  0.96026957 0.96151873 0.92033313 0.9590142  0.94676193 0.97647175\n",
      "  0.96430226 0.9725425  0.92237719 0.97506636 0.95788989 0.96961281\n",
      "  0.94487399 0.96110771 0.95743718 0.93011868 0.95252832 0.95205979\n",
      "  0.95136967 0.9683098  0.93742745 0.95696    0.95425284 0.96955189\n",
      "  0.93268575 0.97050695]\n",
      " [0.90079294 0.8927028  0.88854479 0.8466755  0.88317555 0.86208786\n",
      "  0.8780363  0.89020378 0.84969574 0.91811123 0.87553181 0.88103119\n",
      "  0.84482107 0.89193931 0.91189297 0.86157698 0.91885465 0.8845973\n",
      "  0.85346884 0.88057742 0.89123269 0.88898261 0.91469876 0.88738631\n",
      "  0.9526448  0.867274   0.87240887 0.87632931 0.91005106 0.92816545\n",
      "  0.89755949 0.87770574 0.86604013 0.95121428 0.88402592 0.8660945\n",
      "  0.86827056 0.91610904 0.91334605 0.88216893 0.89083911 0.84996121\n",
      "  0.89691455 0.90385319 0.8674832  0.86532071 0.88192728 0.91121188\n",
      "  0.92501286 0.89334564]\n",
      " [0.72849337 0.76497093 0.72600516 0.72878766 0.69997579 0.73099091\n",
      "  0.78148135 0.71262731 0.69813957 0.67496488 0.69442655 0.81685161\n",
      "  0.65308047 0.76329087 0.80743577 0.75709534 0.79978434 0.73328758\n",
      "  0.75027612 0.76091648 0.81108477 0.74656258 0.78178967 0.61746743\n",
      "  0.88280687 0.73102559 0.6388934  0.72565428 0.72975402 0.78132513\n",
      "  0.7299481  0.74667558 0.82598102 0.82630975 0.71550357 0.75773427\n",
      "  0.71261884 0.70783489 0.76604198 0.70652079 0.77687688 0.71623098\n",
      "  0.63428014 0.78854949 0.78134805 0.73371059 0.77792227 0.85578835\n",
      "  0.80849458 0.69163306]]\n",
      "[[0.93452856 0.95447862 0.95576142 0.9580979  0.92848461 0.96455878\n",
      "  0.96609883 0.95520124 0.9443278  0.97125468 0.96324789 0.94047454\n",
      "  0.95616974 0.95047491 0.96954534 0.92625696 0.92676511 0.95370505\n",
      "  0.96832927 0.92250678 0.95200228 0.93545969 0.92952213 0.96519376\n",
      "  0.96188097 0.95592326 0.93887111 0.95157982 0.96267417 0.96208103\n",
      "  0.95798922 0.92828499 0.93528136 0.94156864 0.95189139 0.96820569\n",
      "  0.93998432 0.93723115 0.94455763 0.91154018 0.96466102 0.93387472\n",
      "  0.94907855 0.94247184 0.96899167 0.94650403 0.97398909 0.93338384\n",
      "  0.938244   0.95330477]\n",
      " [0.93452856 0.95447862 0.95576142 0.9580979  0.92848461 0.96455878\n",
      "  0.96609883 0.95520124 0.9443278  0.97125468 0.96324789 0.94047454\n",
      "  0.95616974 0.95047491 0.96954534 0.92625696 0.92676511 0.95370505\n",
      "  0.96832927 0.92250678 0.95200228 0.93248347 0.92952213 0.96519376\n",
      "  0.96188097 0.95592326 0.93887111 0.95157982 0.96267417 0.96208103\n",
      "  0.95798922 0.92828499 0.93528136 0.94156864 0.95189139 0.96820569\n",
      "  0.93998432 0.93723115 0.94455763 0.91154018 0.96466102 0.9325909\n",
      "  0.94907855 0.94247184 0.96899167 0.93971991 0.97398909 0.93338384\n",
      "  0.938244   0.95330477]\n",
      " [0.83455021 0.87640891 0.89524477 0.89012424 0.87617841 0.87879792\n",
      "  0.90048311 0.85659545 0.831163   0.89696871 0.88337176 0.8633564\n",
      "  0.87183779 0.86749093 0.91982995 0.91602654 0.91995866 0.89115887\n",
      "  0.86545128 0.87411121 0.91063403 0.87338248 0.88438873 0.90044636\n",
      "  0.9082855  0.89047354 0.88046645 0.89647445 0.89775876 0.90714772\n",
      "  0.90161851 0.86609518 0.86449551 0.90739013 0.81531206 0.91804378\n",
      "  0.90211947 0.85552393 0.90097303 0.87317476 0.90626615 0.91721635\n",
      "  0.8934508  0.81615616 0.89118191 0.85358791 0.88038189 0.8698686\n",
      "  0.90110589 0.83651023]\n",
      " [0.66632497 0.74494247 0.71408335 0.79079845 0.76451618 0.82777233\n",
      "  0.72316029 0.74912637 0.58036208 0.6801182  0.73489174 0.68139091\n",
      "  0.74172204 0.78049613 0.76279315 0.7993584  0.75457842 0.72605993\n",
      "  0.73295544 0.72053347 0.64738209 0.67341723 0.67550352 0.69947631\n",
      "  0.72637007 0.75398892 0.70692483 0.74166306 0.68640038 0.71610552\n",
      "  0.67382904 0.73790227 0.68919382 0.80234023 0.62168594 0.74567961\n",
      "  0.7691504  0.73306432 0.58379984 0.75081422 0.75233605 0.74568181\n",
      "  0.73946932 0.7066323  0.7532473  0.73402318 0.77291792 0.77079539\n",
      "  0.78658784 0.68895665]]\n",
      "[[0.93753778 0.95030686 0.92576731 0.96107975 0.95333518 0.94100838\n",
      "  0.95472865 0.94432592 0.97077437 0.94919123 0.95477284 0.93928137\n",
      "  0.96399933 0.94144199 0.94903264 0.9379095  0.9233509  0.94107412\n",
      "  0.94001462 0.9324524  0.92268334 0.94134006 0.97392915 0.95074198\n",
      "  0.95180041 0.95298307 0.93826494 0.97332546 0.93584569 0.97167407\n",
      "  0.95689086 0.95114231 0.94335238 0.9651588  0.95089579 0.93895282\n",
      "  0.96324763 0.95444777 0.95896284 0.95831086 0.97744178 0.91361317\n",
      "  0.95644563 0.93594313 0.94824358 0.95588838 0.96469111 0.95958953\n",
      "  0.95601867 0.91882561]\n",
      " [0.93753778 0.95030686 0.92576731 0.96107975 0.95333518 0.94100838\n",
      "  0.95472865 0.94432592 0.97077437 0.94919123 0.95477284 0.93928137\n",
      "  0.96399933 0.94144199 0.94903264 0.9379095  0.9233509  0.95410671\n",
      "  0.94001462 0.9324524  0.92268334 0.94134006 0.97392915 0.95074198\n",
      "  0.95180041 0.95298307 0.93826494 0.97332546 0.93584569 0.97167407\n",
      "  0.95689086 0.95114231 0.94335238 0.97064523 0.95089579 0.93895282\n",
      "  0.96324763 0.95444777 0.96238241 0.95831086 0.97744178 0.91361317\n",
      "  0.95644563 0.93594313 0.94824358 0.95588838 0.96469111 0.95958953\n",
      "  0.95601867 0.91882561]\n",
      " [0.82902229 0.89497092 0.86826508 0.89309473 0.90546651 0.86940729\n",
      "  0.88688277 0.89225125 0.90164258 0.90439376 0.88725567 0.89203986\n",
      "  0.9319495  0.90921429 0.91254035 0.87621647 0.8985301  0.86927056\n",
      "  0.86747993 0.86638534 0.84482085 0.87045386 0.93337103 0.87906381\n",
      "  0.91782038 0.88225252 0.84893454 0.85084338 0.90391791 0.89313641\n",
      "  0.89837206 0.89816207 0.88730574 0.91161684 0.86106928 0.8751248\n",
      "  0.94168175 0.87763688 0.90163338 0.88632335 0.88666514 0.8631981\n",
      "  0.86593893 0.86996766 0.87670057 0.87390453 0.91266537 0.88240791\n",
      "  0.9160129  0.88977678]\n",
      " [0.72690015 0.69746967 0.60307399 0.723438   0.7832659  0.78986896\n",
      "  0.65785402 0.73452747 0.75236034 0.66937868 0.78733957 0.693198\n",
      "  0.64650702 0.72073394 0.70875602 0.73969338 0.61547715 0.73948063\n",
      "  0.68050115 0.70746049 0.70704662 0.72752607 0.78581468 0.70329848\n",
      "  0.78299367 0.67374629 0.72942746 0.68230222 0.69597634 0.74284463\n",
      "  0.82181317 0.72744565 0.78560183 0.74002487 0.70129537 0.77506456\n",
      "  0.59822829 0.75693897 0.77272328 0.69764712 0.71416235 0.69850534\n",
      "  0.72588282 0.76134984 0.65355486 0.69430435 0.8282615  0.76338612\n",
      "  0.7483992  0.7657171 ]]\n",
      "BA\n"
     ]
    },
    {
     "data": {
      "image/png": "[encoded data removed]",
      "text/plain": [
       "<Figure size 576x432 with 1 Axes>"
      ]
     },
     "metadata": {
      "needs_background": "light"
     },
     "output_type": "display_data"
    },
    {
     "name": "stdout",
     "output_type": "stream",
     "text": [
      "[[0.99573337 1.         1.         0.99618045 0.98613739 1.\n",
      "  0.97779119 0.9796997  0.98028365 0.99544568 0.95782402 0.9661535\n",
      "  1.         0.99156292 0.99892545 0.98761171 0.96990984 0.89428893\n",
      "  0.95339632 0.99544815 0.98712352 1.         1.         0.99276392\n",
      "  0.98156727 0.99619175 0.98188447 0.97654713 0.98161796 0.99335375\n",
      "  0.99815307 0.9887576  1.         0.99451719 1.         1.\n",
      "  0.97414533 0.99666934 1.         0.99834337 0.98563542 0.99970824\n",
      "  0.97472722 0.9157106  1.         0.94296965 0.9911298  0.99489438\n",
      "  0.99728468 0.99377998]\n",
      " [0.96503337 0.93539176 0.99699895 0.9771574  0.91690044 0.99364826\n",
      "  0.7176674  0.96720793 0.76287692 0.99671405 0.95995622 0.96236352\n",
      "  0.98790456 0.91746836 0.96770803 0.94474628 0.97553804 0.9005061\n",
      "  0.95019669 0.84612741 0.95498639 0.86537629 0.90735139 0.99538179\n",
      "  0.98274401 0.97229404 0.73069273 0.76888281 0.9883719  0.99600074\n",
      "  0.99815307 0.940646   0.81739522 0.9719091  0.95755127 0.80069448\n",
      "  0.78107514 0.98692654 1.         0.99998148 0.95183358 0.89979907\n",
      "  0.88254005 0.99768416 0.98877379 0.84342205 0.93795704 0.96002921\n",
      "  0.9004928  0.78347493]\n",
      " [0.99573337 1.         1.         0.99618045 0.98613739 1.\n",
      "  0.97779119 0.9796997  0.98028365 0.99544568 0.95782402 0.9661535\n",
      "  1.         0.99156292 0.99892545 0.98761171 0.96990984 0.89428893\n",
      "  0.95339632 0.99544815 0.98712352 1.         1.         0.99276392\n",
      "  0.98156727 0.99619175 0.98188447 0.97654713 0.98161796 0.99335375\n",
      "  0.99815307 0.9887576  1.         0.99451719 1.         1.\n",
      "  0.97414533 0.99666934 1.         0.99834337 0.98563542 0.99970824\n",
      "  0.97472722 0.9157106  1.         0.94296965 0.9911298  0.99489438\n",
      "  0.99728468 0.99377998]\n",
      " [0.99824526 1.         1.         0.94823534 0.98827956 0.98941527\n",
      "  0.99544464 0.9796997  0.9332258  0.9792442  1.         1.\n",
      "  1.         0.97676592 1.         1.         0.98475962 0.99996648\n",
      "  0.98670464 1.         0.9980141  1.         0.99054682 0.9898295\n",
      "  0.99992937 1.         0.97063257 1.         1.         0.99385654\n",
      "  1.         0.99913062 0.99287318 0.99201974 1.         1.\n",
      "  0.99964657 1.         0.98999207 0.99998148 0.99972484 0.99727097\n",
      "  1.         0.99962535 1.         1.         0.99342577 1.\n",
      "  0.99759803 0.99993548]]\n",
      "[[0.97061968 0.98373911 0.98621844 0.96015722 0.98896218 0.96779913\n",
      "  0.97313345 0.98319102 0.98684658 0.986242   0.98792388 0.9798376\n",
      "  0.98649668 0.9957026  0.96541312 0.97184232 0.98330726 0.99539932\n",
      "  0.96162545 0.98724176 0.94787722 0.97792499 0.99785629 0.96729565\n",
      "  0.98813487 0.99598621 0.97347771 0.99128029 0.99029725 0.9925122\n",
      "  0.98541959 0.99015497 0.98060017 0.94796967 0.99315954 0.98373309\n",
      "  0.99094255 0.98897119 0.99945295 0.97898407 0.98035833 0.98834824\n",
      "  0.98823986 0.97681145 0.97277694 0.97041296 0.89944944 0.99027376\n",
      "  0.99283011 0.9654762 ]\n",
      " [0.92772512 0.89705654 0.98381461 0.86256676 0.84794541 0.88771883\n",
      "  0.92461557 0.94760126 0.89657938 0.91070719 0.96810695 0.90721656\n",
      "  0.90078644 0.95653334 0.88015711 0.94738216 0.88324133 0.89793239\n",
      "  0.94054654 0.95103619 0.89740688 0.89683836 0.88294455 0.92096855\n",
      "  0.9455495  0.97455254 0.92759725 0.87818322 0.9294686  0.95123317\n",
      "  0.87731662 0.9657381  0.97358094 0.92680824 0.98082672 0.81993943\n",
      "  0.91339726 0.82273834 0.91433675 0.86265475 0.89285676 0.93850728\n",
      "  0.98754918 0.90968024 0.9462262  0.95894165 0.83215822 0.87674162\n",
      "  0.93338823 0.93447859]\n",
      " [0.97061968 0.98373911 0.98621844 0.96015722 0.98896218 0.96779913\n",
      "  0.97313345 0.98319102 0.98684658 0.986242   0.98792388 0.9798376\n",
      "  0.98649668 0.9957026  0.96541312 0.97184232 0.98330726 0.99539932\n",
      "  0.96162545 0.98724176 0.94787722 0.97792499 0.99785629 0.96729565\n",
      "  0.98813487 0.99598621 0.97347771 0.99128029 0.99029725 0.9925122\n",
      "  0.98541959 0.99015497 0.98060017 0.94796967 0.99315954 0.98373309\n",
      "  0.99094255 0.98897119 0.99945295 0.97898407 0.98035833 0.98834824\n",
      "  0.98823986 0.97681145 0.97277694 0.97041296 0.89944944 0.99027376\n",
      "  0.99283011 0.9654762 ]\n",
      " [0.98303518 0.99615194 0.99127871 0.99340752 0.99820367 0.98993634\n",
      "  0.96732184 0.99268247 0.99930303 0.99960474 0.99824522 0.99107868\n",
      "  0.99779782 0.99609229 0.99032452 0.98946864 0.97469343 0.99366204\n",
      "  0.96576917 0.98678335 0.98737972 0.91082251 0.99421753 0.98249363\n",
      "  0.99324079 0.98972714 0.99054892 0.98985226 0.97260285 0.99317656\n",
      "  0.97501811 0.99874484 0.98860371 0.96243701 0.99702605 0.99400017\n",
      "  0.99807786 0.99027441 0.99904328 0.9599613  0.96333319 0.98001072\n",
      "  0.9944579  0.98477679 0.98586773 0.99352845 0.96066065 0.99336612\n",
      "  0.99418966 0.9881317 ]]\n",
      "[[0.98122807 0.98495782 0.95983779 0.98164588 0.99358207 0.98523457\n",
      "  0.98257915 0.98323619 0.99031751 0.97793479 0.99242518 0.98756385\n",
      "  0.97417491 0.98938036 0.98861839 0.95604099 0.98053103 0.98528803\n",
      "  0.95433408 0.97444838 0.9803382  0.98732171 0.97997983 0.98823437\n",
      "  0.99376358 0.96487248 0.98654727 0.97526308 0.96962671 0.99644892\n",
      "  0.96406146 0.99413823 0.97827563 0.99003391 0.96446495 0.95702118\n",
      "  0.98288503 0.98254827 0.98832192 0.98484552 0.9961373  0.97873885\n",
      "  0.99053472 0.98062957 0.98542287 0.98820092 0.99296617 0.98614483\n",
      "  0.9885054  0.97482913]\n",
      " [0.91905855 0.92244158 0.8501836  0.88655821 0.92981738 0.85415144\n",
      "  0.95119958 0.92098173 0.9473112  0.90478121 0.94261912 0.94562122\n",
      "  0.87740249 0.89039851 0.92290629 0.91008166 0.9837824  0.83985889\n",
      "  0.88209633 0.8675128  0.91307483 0.96056818 0.9153302  0.89244141\n",
      "  0.95608269 0.9518378  0.92349008 0.95001364 0.92843254 0.9857963\n",
      "  0.90455311 0.94643349 0.89596548 0.96419955 0.89086301 0.95255188\n",
      "  0.90029989 0.8535515  0.94009258 0.9386811  0.97320583 0.82293308\n",
      "  0.87655713 0.86693194 0.90302265 0.93537852 0.92992265 0.78855889\n",
      "  0.95599515 0.95919124]\n",
      " [0.98122807 0.98495782 0.95983779 0.98164588 0.99358207 0.98523457\n",
      "  0.98257915 0.98323619 0.99031751 0.97793479 0.99242518 0.98756385\n",
      "  0.97417491 0.98938036 0.98861839 0.95604099 0.98053103 0.98528803\n",
      "  0.95433408 0.97444838 0.9803382  0.98732171 0.97997983 0.98823437\n",
      "  0.99376358 0.96487248 0.98654727 0.97526308 0.96962671 0.99644892\n",
      "  0.96406146 0.99413823 0.97827563 0.99003391 0.96446495 0.95702118\n",
      "  0.98288503 0.98254827 0.98832192 0.98484552 0.9961373  0.97873885\n",
      "  0.99053472 0.98062957 0.98542287 0.98820092 0.99296617 0.98614483\n",
      "  0.9885054  0.97482913]\n",
      " [0.95649246 0.98547327 0.96552916 0.98107323 0.98818529 0.98794992\n",
      "  0.98850216 0.99315553 0.99345818 0.99236425 0.97618353 0.98704378\n",
      "  0.99064525 0.98910107 0.96924514 0.96446665 0.99242493 0.97917003\n",
      "  0.9432003  0.95443925 0.97090402 0.98670142 0.97230718 0.98970203\n",
      "  0.96952093 0.92819598 0.98905757 0.98136312 0.9712231  0.97204878\n",
      "  0.93586893 0.96929218 0.98040638 0.9878381  0.93134446 0.97304061\n",
      "  0.98035514 0.98733108 0.97397355 0.98105902 0.99027638 0.99179457\n",
      "  0.99512294 0.97880098 0.98404015 0.96842896 0.94991157 0.99432348\n",
      "  0.98397277 0.96443345]]\n",
      "[[0.96671592 0.97771781 0.983883   0.97259469 0.98886908 0.98592859\n",
      "  0.95164995 0.9897395  0.98645656 0.98280523 0.98009761 0.96010621\n",
      "  0.9831233  0.9829831  0.99042495 0.98379714 0.96955443 0.97457111\n",
      "  0.98234173 0.98267007 0.97350941 0.97528681 0.98216696 0.97558586\n",
      "  0.97320052 0.97970468 0.98831621 0.97136266 0.97363272 0.97539528\n",
      "  0.97750828 0.98570504 0.97553481 0.97858437 0.9556965  0.9841544\n",
      "  0.95847742 0.98552604 0.97774642 0.9705463  0.9774683  0.97892135\n",
      "  0.97841852 0.96260194 0.98619289 0.95311921 0.98442369 0.9757257\n",
      "  0.97839886 0.9719421 ]\n",
      " [0.8664434  0.92830701 0.94521798 0.9397457  0.83000611 0.92695216\n",
      "  0.86262397 0.9847495  0.91285314 0.91164771 0.94613153 0.85338246\n",
      "  0.94040991 0.95853756 0.98220505 0.8128833  0.89440303 0.96002378\n",
      "  0.90548437 0.97715456 0.90868269 0.91343359 0.92560633 0.98979067\n",
      "  0.87142497 0.92481508 0.96008985 0.86290914 0.84804693 0.93448647\n",
      "  0.90123075 0.88076654 0.84576584 0.94034427 0.82738017 0.94664184\n",
      "  0.90897544 0.90646801 0.97258867 0.95636707 0.96542273 0.93292147\n",
      "  0.97089605 0.9310364  0.90938658 0.83962621 0.93280692 0.78730479\n",
      "  0.85902159 0.91529672]\n",
      " [0.96671592 0.97771781 0.983883   0.97259469 0.98886908 0.98592859\n",
      "  0.95164995 0.9897395  0.98645656 0.98280523 0.98009761 0.96010621\n",
      "  0.9831233  0.9829831  0.99042495 0.98379714 0.96955443 0.97457111\n",
      "  0.98234173 0.98267007 0.97350941 0.97528681 0.98216696 0.97558586\n",
      "  0.97320052 0.97970468 0.98831621 0.97136266 0.97363272 0.97539528\n",
      "  0.97750828 0.98570504 0.97553481 0.97858437 0.9556965  0.9841544\n",
      "  0.95847742 0.98552604 0.97774642 0.9705463  0.9774683  0.97892135\n",
      "  0.97841852 0.96260194 0.98619289 0.95311921 0.98442369 0.9757257\n",
      "  0.97839886 0.9719421 ]\n",
      " [0.95369096 0.97426917 0.96120745 0.9698029  0.97625016 0.9747901\n",
      "  0.96186874 0.97954946 0.98833343 0.96360679 0.96674366 0.96967845\n",
      "  0.97569866 0.90138998 0.99165619 0.96860061 0.97153419 0.96808648\n",
      "  0.98144479 0.98622116 0.94503502 0.94334335 0.94444042 0.97287434\n",
      "  0.95773758 0.97949199 0.96392698 0.96367267 0.93488351 0.94591061\n",
      "  0.97940977 0.98369919 0.96701857 0.96998581 0.96617791 0.97380186\n",
      "  0.9794883  0.98430963 0.97477686 0.99267976 0.9701675  0.97065939\n",
      "  0.90810278 0.97594195 0.97403159 0.96024795 0.95923356 0.97117202\n",
      "  0.95957506 0.97023704]]\n",
      "[[0.90299905 0.95801715 0.97641312 0.95450588 0.98189731 0.95265655\n",
      "  0.92018866 0.95151426 0.9783592  0.95580626 0.96445432 0.97837025\n",
      "  0.9469642  0.97718303 0.96580362 0.96259453 0.95429356 0.9481982\n",
      "  0.95604164 0.9559625  0.97763186 0.96407434 0.95225953 0.97099559\n",
      "  0.97145035 0.97803568 0.97779916 0.97651332 0.97088791 0.94208078\n",
      "  0.96460541 0.96260165 0.9723221  0.9794609  0.97998557 0.91872057\n",
      "  0.97738757 0.97027273 0.97450299 0.95710625 0.98142913 0.97973345\n",
      "  0.94844657 0.9745281  0.96931873 0.97821453 0.94588962 0.9616872\n",
      "  0.96202117 0.96022041]\n",
      " [0.91398562 0.93976659 0.9282872  0.94546042 0.90358403 0.80737691\n",
      "  0.86080587 0.85519029 0.92440972 0.86671577 0.85738683 0.92073983\n",
      "  0.90648919 0.87554128 0.94913929 0.9548676  0.83598488 0.76833902\n",
      "  0.95087837 0.88758091 0.8760927  0.88244412 0.91227507 0.90352643\n",
      "  0.96314358 0.97985086 0.85245511 0.89402357 0.92368715 0.88749699\n",
      "  0.75370273 0.92571565 0.9013107  0.82468668 0.93961936 0.92851261\n",
      "  0.93708361 0.95725348 0.89438673 0.93704053 0.88919733 0.95134714\n",
      "  0.92791718 0.95130375 0.93648563 0.86135667 0.94873106 0.92297344\n",
      "  0.94380421 0.91773553]\n",
      " [0.92840379 0.95801715 0.97641312 0.95450588 0.98189731 0.95265655\n",
      "  0.92018866 0.97065883 0.9783592  0.95580626 0.96445432 0.97837025\n",
      "  0.97503336 0.97718303 0.96580362 0.96259453 0.95429356 0.9481982\n",
      "  0.9597586  0.9559625  0.97763186 0.96407434 0.95225953 0.98256776\n",
      "  0.97145035 0.97803568 0.97997818 0.97651332 0.97088791 0.98028747\n",
      "  0.96460541 0.9605891  0.9723221  0.9794609  0.97998557 0.91872057\n",
      "  0.97738757 0.97027273 0.97450299 0.95710625 0.98294152 0.98043268\n",
      "  0.94968058 0.9745281  0.96931873 0.98275112 0.94464465 0.9616872\n",
      "  0.96202117 0.95672786]\n",
      " [0.92514381 0.96298985 0.97214695 0.95928013 0.95231211 0.92368625\n",
      "  0.93032982 0.96478622 0.96923504 0.93710541 0.95100491 0.93261823\n",
      "  0.95852    0.96020693 0.9471468  0.93637114 0.91894809 0.93484821\n",
      "  0.93124937 0.94100626 0.94740146 0.96178494 0.94622431 0.96044582\n",
      "  0.9380616  0.96115857 0.96910253 0.9675421  0.97979928 0.94207215\n",
      "  0.95612194 0.96405384 0.96036418 0.97750044 0.96585292 0.89288938\n",
      "  0.96530197 0.95186592 0.96937048 0.93587315 0.96547746 0.97580598\n",
      "  0.93831349 0.95847071 0.95655212 0.93989273 0.9389557  0.93399224\n",
      "  0.95535333 0.9510585 ]]\n",
      "[[0.91394657 0.9606723  0.96818473 0.96209526 0.95368753 0.91382072\n",
      "  0.96226273 0.91688943 0.86306421 0.95574784 0.9384547  0.93587294\n",
      "  0.94997405 0.89656689 0.97024851 0.95627312 0.9482845  0.97181392\n",
      "  0.9370114  0.92068312 0.95918761 0.86985162 0.94406425 0.92732781\n",
      "  0.9111237  0.9399331  0.94009936 0.94779578 0.9162754  0.94307432\n",
      "  0.94571649 0.96278003 0.97057494 0.83137743 0.94460666 0.91770819\n",
      "  0.97676993 0.92758303 0.88566602 0.91885854 0.92453941 0.9162037\n",
      "  0.95425753 0.94677821 0.95330381 0.93623608 0.90544574 0.96556492\n",
      "  0.94156169 0.94677683]\n",
      " [0.8747143  0.95227429 0.96866763 0.95974351 0.96350814 0.91485006\n",
      "  0.95765898 0.87059525 0.87395358 0.97919388 0.88736265 0.94548672\n",
      "  0.95613084 0.88624342 0.9592082  0.8993964  0.95635071 0.96287544\n",
      "  0.82706717 0.90851086 0.94746626 0.84966256 0.93999707 0.91953637\n",
      "  0.90918399 0.9152002  0.92840955 0.96511371 0.95269327 0.92578785\n",
      "  0.94326957 0.9663459  0.90589459 0.83137743 0.95084733 0.9009762\n",
      "  0.97884978 0.92374734 0.92956938 0.9793424  0.86731655 0.92827594\n",
      "  0.94872279 0.94444894 0.91000161 0.94121801 0.90679856 0.97600159\n",
      "  0.94312602 0.93687159]\n",
      " [0.92995695 0.94855515 0.95627478 0.93094537 0.90603184 0.92259973\n",
      "  0.94693923 0.95793652 0.96853113 0.95574784 0.94073143 0.94102538\n",
      "  0.93801106 0.94388238 0.96427206 0.92917811 0.93759869 0.9576679\n",
      "  0.92423197 0.89642237 0.94270572 0.94571443 0.96160969 0.94170586\n",
      "  0.91761051 0.95040734 0.91360215 0.93437982 0.9162754  0.93687711\n",
      "  0.93201021 0.94183105 0.95537412 0.90436497 0.93455891 0.95879225\n",
      "  0.97320145 0.9217564  0.88783095 0.91158265 0.92851861 0.92048874\n",
      "  0.94676706 0.94677821 0.95578644 0.93214461 0.95507077 0.93991181\n",
      "  0.95518548 0.94025319]\n",
      " [0.93315105 0.9208001  0.94006477 0.89270642 0.88972791 0.89913241\n",
      "  0.91072323 0.93924665 0.93285632 0.92767259 0.93149835 0.89687446\n",
      "  0.91584436 0.93958706 0.95608278 0.91188396 0.91390666 0.93768491\n",
      "  0.92100282 0.86867988 0.93119263 0.89977005 0.94635972 0.92929483\n",
      "  0.90636902 0.90525304 0.91796274 0.9178147  0.9073447  0.92038597\n",
      "  0.93080883 0.9388423  0.93252365 0.90817454 0.91263824 0.89629468\n",
      "  0.95434338 0.89751541 0.89809343 0.91044959 0.92727668 0.88206235\n",
      "  0.92838921 0.92606065 0.93999704 0.91271402 0.93373706 0.89186689\n",
      "  0.92339462 0.91494207]]\n",
      "[[0.96246693 0.96712455 0.96138079 0.97663267 0.95371951 0.91286513\n",
      "  0.95060167 0.93629412 0.9547545  0.96813523 0.97437675 0.9602166\n",
      "  0.97357139 0.93549144 0.96671663 0.90506178 0.97293295 0.91446245\n",
      "  0.95812038 0.93178424 0.92351909 0.97707085 0.96415605 0.96346032\n",
      "  0.97206191 0.9248247  0.93505556 0.93851807 0.94311308 0.95461832\n",
      "  0.93899797 0.96560287 0.94702778 0.93041507 0.96530538 0.9380339\n",
      "  0.95334303 0.89544606 0.95151277 0.92586072 0.95438303 0.96800243\n",
      "  0.92503755 0.91526337 0.95520014 0.92600999 0.9658372  0.9604719\n",
      "  0.90305863 0.92490137]\n",
      " [0.96487065 0.97145426 0.97712977 0.98083599 0.95660307 0.89933786\n",
      "  0.95475119 0.9262215  0.95560608 0.96813523 0.97437675 0.94941834\n",
      "  0.97831116 0.93588575 0.96246175 0.87803406 0.97293295 0.91043017\n",
      "  0.96361017 0.93178424 0.92351909 0.96993754 0.96252012 0.96804548\n",
      "  0.97206191 0.95470328 0.95722803 0.96923139 0.94377908 0.94762977\n",
      "  0.91418524 0.97027865 0.94368836 0.9251244  0.97434744 0.90226932\n",
      "  0.93608569 0.89555737 0.94723898 0.91064912 0.96739746 0.96800243\n",
      "  0.91810174 0.96084587 0.95817213 0.91395915 0.9658372  0.96616288\n",
      "  0.90305863 0.92490137]\n",
      " [0.88792903 0.92495888 0.93326971 0.9005326  0.9175271  0.86371439\n",
      "  0.89949164 0.91321053 0.89671722 0.92956629 0.94753967 0.92644759\n",
      "  0.94077203 0.92627121 0.90471937 0.90767332 0.94244532 0.87941471\n",
      "  0.89341212 0.90358952 0.92723778 0.91073879 0.86536628 0.9372767\n",
      "  0.87765276 0.92616267 0.93668959 0.936341   0.90584565 0.91610738\n",
      "  0.90762828 0.91885094 0.93939605 0.90565926 0.9042005  0.93482641\n",
      "  0.91700515 0.90730727 0.91067739 0.89542048 0.91248873 0.92933331\n",
      "  0.89929343 0.86997474 0.9353516  0.87914978 0.91501734 0.91150935\n",
      "  0.85082712 0.92350453]\n",
      " [0.86250545 0.83367295 0.92289606 0.8846278  0.88113966 0.8535528\n",
      "  0.90793762 0.89294433 0.86247994 0.90495841 0.91870638 0.92396861\n",
      "  0.92020735 0.91372611 0.8785768  0.89396485 0.94706662 0.83076295\n",
      "  0.89681678 0.88257924 0.91576499 0.89780785 0.84382585 0.92882347\n",
      "  0.84802388 0.87885371 0.91227448 0.92500081 0.88067137 0.89103614\n",
      "  0.9052802  0.90349567 0.90042532 0.90704119 0.87773317 0.882292\n",
      "  0.91224534 0.91017237 0.89661076 0.88428276 0.86867477 0.92157073\n",
      "  0.87657054 0.84428962 0.90940282 0.84830223 0.86785367 0.90713724\n",
      "  0.85249834 0.86634193]]\n",
      "[[0.93067367 0.95132404 0.94334965 0.92116319 0.97047971 0.93776056\n",
      "  0.96105307 0.92040357 0.9502315  0.8977094  0.94564788 0.97968812\n",
      "  0.94030175 0.96775837 0.96051133 0.95991453 0.97321519 0.96815946\n",
      "  0.95195078 0.94925899 0.97461111 0.95925141 0.94560906 0.93105695\n",
      "  0.93906121 0.9405197  0.97411354 0.95300373 0.94190036 0.9303548\n",
      "  0.87707032 0.96252532 0.95395788 0.92247706 0.93883521 0.93806604\n",
      "  0.93039602 0.92609587 0.96827452 0.9475026  0.9504468  0.96264938\n",
      "  0.9674652  0.95474321 0.95875382 0.94832024 0.94652772 0.94019754\n",
      "  0.95547541 0.97224015]\n",
      " [0.94084996 0.95091941 0.95232126 0.97087434 0.97047971 0.93776056\n",
      "  0.9740456  0.9536002  0.96778226 0.95399412 0.96891292 0.98367693\n",
      "  0.95533992 0.96775837 0.96051133 0.95387207 0.97321519 0.96712198\n",
      "  0.94582203 0.95202103 0.97321247 0.95799304 0.9241159  0.92487138\n",
      "  0.93958172 0.9394962  0.97411354 0.95396033 0.95879878 0.94122469\n",
      "  0.8521264  0.96809229 0.95353604 0.92048601 0.92864199 0.94768543\n",
      "  0.93001193 0.93841523 0.97515716 0.96052984 0.9504468  0.96264938\n",
      "  0.9493641  0.95474321 0.95101041 0.96643706 0.96025624 0.9578197\n",
      "  0.957608   0.97620066]\n",
      " [0.88734033 0.87588992 0.89174755 0.8635458  0.88866674 0.88683308\n",
      "  0.89104503 0.89642502 0.88983349 0.8813676  0.88757821 0.84672875\n",
      "  0.89857304 0.88326701 0.91230799 0.87433206 0.89085925 0.88192102\n",
      "  0.87163043 0.89081904 0.87064506 0.89233295 0.87021447 0.81929533\n",
      "  0.91313299 0.86451623 0.84619001 0.85449709 0.88061804 0.86688178\n",
      "  0.88948032 0.92084835 0.85604209 0.89236394 0.90430842 0.89766838\n",
      "  0.87163213 0.90071091 0.88309491 0.89430033 0.90662633 0.9058018\n",
      "  0.87314008 0.85581035 0.86090211 0.87165099 0.89708848 0.87590444\n",
      "  0.83970218 0.89312761]\n",
      " [0.87961356 0.86268328 0.86652049 0.83156623 0.87688704 0.8773362\n",
      "  0.86142657 0.88845426 0.87803499 0.87284951 0.85763827 0.81441329\n",
      "  0.88045388 0.85487375 0.90668277 0.8660867  0.85272876 0.87351747\n",
      "  0.84446614 0.89150636 0.88918093 0.88905779 0.86351327 0.8003051\n",
      "  0.88017986 0.85260804 0.83071692 0.83678635 0.84237512 0.85618993\n",
      "  0.83043565 0.91808139 0.83170032 0.88988183 0.8990941  0.87167487\n",
      "  0.84665238 0.85699452 0.87227482 0.89715358 0.88169828 0.87228031\n",
      "  0.84564587 0.83324929 0.84910809 0.85207869 0.87971312 0.86390012\n",
      "  0.82097357 0.84451788]]\n",
      "[[0.94711934 0.949258   0.94517302 0.91877785 0.9384092  0.95403614\n",
      "  0.9559454  0.93678026 0.96463005 0.91506513 0.96543767 0.9550172\n",
      "  0.95783934 0.94009802 0.96533954 0.96820557 0.94124022 0.94578118\n",
      "  0.93681421 0.95718966 0.93271803 0.94212781 0.95524467 0.90668391\n",
      "  0.93863858 0.96224025 0.95401615 0.95907057 0.9506402  0.95609767\n",
      "  0.95263696 0.95141168 0.96825795 0.95112165 0.95965983 0.93029711\n",
      "  0.96033877 0.97447543 0.95748918 0.94419658 0.96701025 0.90455362\n",
      "  0.96034455 0.93984087 0.96398364 0.9529805  0.92243271 0.92547101\n",
      "  0.91769007 0.94407939]\n",
      " [0.95360478 0.949258   0.94556954 0.93598515 0.94164286 0.95403614\n",
      "  0.94273429 0.97077964 0.96611317 0.91506513 0.96543767 0.96661064\n",
      "  0.95783934 0.94676527 0.96533954 0.96820557 0.94124022 0.9497167\n",
      "  0.93681421 0.95837429 0.94685833 0.94212781 0.96264638 0.92113715\n",
      "  0.95513929 0.96610951 0.96720913 0.95913241 0.9757298  0.96225794\n",
      "  0.9505705  0.95141168 0.96825795 0.95126561 0.95965983 0.92816133\n",
      "  0.96033877 0.97499878 0.95748918 0.95548026 0.96701025 0.90895365\n",
      "  0.96034455 0.95204914 0.96721037 0.9529805  0.92243271 0.92211075\n",
      "  0.94601597 0.94407939]\n",
      " [0.8600621  0.90701804 0.8584981  0.85916766 0.88405792 0.89332909\n",
      "  0.80104631 0.81284708 0.83049784 0.78497911 0.82561801 0.86638277\n",
      "  0.8432324  0.88857694 0.88115554 0.86538133 0.86702626 0.85082828\n",
      "  0.86901887 0.85027627 0.88946008 0.8929572  0.88853951 0.8716998\n",
      "  0.84059801 0.89077209 0.93129723 0.88138697 0.88430479 0.89390559\n",
      "  0.87930284 0.91098152 0.88040928 0.78336555 0.85996034 0.86386937\n",
      "  0.87966844 0.8972728  0.87286811 0.90860673 0.85759577 0.85014672\n",
      "  0.85606164 0.84237109 0.87326441 0.89786599 0.861021   0.86028656\n",
      "  0.83662222 0.89281917]\n",
      " [0.84515755 0.89474429 0.83969135 0.8567598  0.8622333  0.86642629\n",
      "  0.7791394  0.76102993 0.82079269 0.73835211 0.78009401 0.84885572\n",
      "  0.79517626 0.85229305 0.86672054 0.85599918 0.86096618 0.82855399\n",
      "  0.87143972 0.85405815 0.86527486 0.8570074  0.88099279 0.83716386\n",
      "  0.80098293 0.86724688 0.91291953 0.8318554  0.8254809  0.87015238\n",
      "  0.86692774 0.88852178 0.8648278  0.74226186 0.84573822 0.85931843\n",
      "  0.85933837 0.89279839 0.85876946 0.86947511 0.82887969 0.80897697\n",
      "  0.83274624 0.81995915 0.84195251 0.88101624 0.84574618 0.84913807\n",
      "  0.80972806 0.88483714]]\n",
      "[[0.95968087 0.94906223 0.93535227 0.94238074 0.93605197 0.94762037\n",
      "  0.93642059 0.95791216 0.95411454 0.95122561 0.91067073 0.93842805\n",
      "  0.94912878 0.9327932  0.94223393 0.96056483 0.9255934  0.95027323\n",
      "  0.95362529 0.91924682 0.92847519 0.91652576 0.9346887  0.97090944\n",
      "  0.90980928 0.9493555  0.9527767  0.94210459 0.95549583 0.94968944\n",
      "  0.9596278  0.94220598 0.93250542 0.95338259 0.94651902 0.9212401\n",
      "  0.94766391 0.94513048 0.90809965 0.9460386  0.96097656 0.93971428\n",
      "  0.95456514 0.94549111 0.93839374 0.95927942 0.94840401 0.92597116\n",
      "  0.94588536 0.90413929]\n",
      " [0.95968087 0.94906223 0.94141601 0.94238074 0.93605197 0.94940485\n",
      "  0.93642059 0.95791216 0.95411454 0.95122561 0.93789408 0.96833169\n",
      "  0.95590335 0.94828588 0.94223393 0.96261527 0.95269829 0.95027323\n",
      "  0.96383495 0.91924682 0.93530097 0.94877394 0.93030138 0.97090944\n",
      "  0.94440336 0.9493555  0.95210709 0.9411175  0.95549583 0.94968944\n",
      "  0.96021698 0.92870553 0.93250542 0.95338259 0.94651902 0.93236301\n",
      "  0.96697338 0.94513048 0.95965913 0.9463185  0.96536905 0.94151784\n",
      "  0.95456514 0.95515618 0.93839374 0.96093812 0.96292633 0.92597116\n",
      "  0.94680403 0.88755708]\n",
      " [0.81938984 0.8761491  0.91690478 0.86309778 0.84716631 0.82354475\n",
      "  0.86441736 0.88667082 0.84624302 0.77972846 0.84529209 0.84708828\n",
      "  0.83977108 0.84474452 0.86836372 0.91334248 0.85139276 0.86547095\n",
      "  0.86355563 0.8802958  0.84866791 0.86382252 0.78519019 0.82648132\n",
      "  0.79612959 0.87211    0.87815925 0.8774329  0.87505774 0.87886287\n",
      "  0.81886694 0.85451115 0.8489745  0.88572654 0.8706049  0.88496511\n",
      "  0.82221697 0.86751116 0.81384395 0.89415279 0.88315616 0.84551074\n",
      "  0.86987014 0.80910708 0.84134468 0.85919974 0.86554974 0.81784142\n",
      "  0.82077489 0.79231009]\n",
      " [0.78589484 0.86560886 0.89477025 0.83279429 0.83455836 0.82803807\n",
      "  0.83825681 0.88646941 0.82107034 0.75704021 0.81220994 0.8356311\n",
      "  0.81055146 0.8249571  0.84576848 0.89098918 0.83783191 0.86333573\n",
      "  0.83115897 0.85311896 0.82465365 0.84480142 0.76373244 0.781143\n",
      "  0.80394618 0.85587888 0.84015428 0.84420406 0.86517613 0.85009641\n",
      "  0.77957178 0.79430514 0.8363973  0.85736446 0.85316815 0.85651775\n",
      "  0.78994905 0.83048229 0.80536095 0.8874209  0.85200902 0.81183692\n",
      "  0.85270245 0.78456095 0.81497505 0.84156217 0.85130396 0.80254157\n",
      "  0.79641928 0.74542933]]\n",
      "[[0.94338635 0.92374724 0.97155445 0.93101692 0.96151533 0.93149643\n",
      "  0.92093831 0.92354918 0.95665823 0.94918534 0.93701109 0.94195812\n",
      "  0.9279161  0.94601948 0.96295276 0.91808099 0.9060929  0.94385697\n",
      "  0.94430599 0.91720651 0.93224778 0.92928657 0.92982469 0.89515689\n",
      "  0.94161955 0.92552115 0.95825886 0.95592174 0.92320202 0.96381787\n",
      "  0.93387495 0.94023523 0.93417425 0.92354163 0.90853308 0.88820908\n",
      "  0.94477784 0.91512938 0.94617264 0.92614898 0.92421578 0.93599771\n",
      "  0.94349518 0.97004997 0.88861291 0.93472084 0.94668975 0.89709592\n",
      "  0.92241422 0.94623348]\n",
      " [0.94726462 0.92374724 0.97155445 0.94434628 0.96151533 0.93149643\n",
      "  0.92093831 0.93863394 0.96280981 0.95592614 0.94607939 0.96559718\n",
      "  0.93846597 0.94601948 0.96295276 0.94959153 0.91505083 0.94806607\n",
      "  0.94430599 0.91296155 0.95052852 0.95056    0.96317171 0.90211535\n",
      "  0.94443571 0.94177793 0.95932983 0.95592174 0.92320202 0.96381787\n",
      "  0.93387495 0.9449335  0.96440903 0.93648763 0.92292436 0.92087719\n",
      "  0.96187286 0.92067572 0.95635375 0.93006406 0.92421578 0.96256457\n",
      "  0.94349518 0.97023322 0.94334592 0.93738948 0.95871963 0.91499031\n",
      "  0.94124342 0.95732316]\n",
      " [0.8390628  0.85130255 0.83725793 0.82471138 0.86147165 0.78787545\n",
      "  0.81844375 0.82906344 0.84708736 0.88299042 0.87952686 0.84223141\n",
      "  0.82590094 0.83180918 0.88911032 0.81922787 0.8303269  0.88286752\n",
      "  0.85551699 0.80805239 0.84776295 0.7855196  0.84152459 0.84080257\n",
      "  0.83981235 0.81106099 0.882089   0.88865846 0.81564907 0.87329837\n",
      "  0.82894411 0.82524837 0.86913337 0.8315449  0.81655684 0.85864759\n",
      "  0.87350178 0.8399386  0.83855037 0.77803895 0.78773154 0.88673144\n",
      "  0.86332059 0.83128635 0.83481747 0.88097538 0.85640112 0.85026517\n",
      "  0.88264111 0.87237492]\n",
      " [0.82747508 0.84217228 0.81348789 0.8059526  0.82256966 0.76130587\n",
      "  0.80546701 0.82068528 0.80951908 0.87116719 0.85667776 0.79484921\n",
      "  0.78983183 0.80727241 0.87262801 0.79454809 0.80074557 0.87427618\n",
      "  0.84958087 0.77242209 0.83168489 0.77665732 0.82294531 0.82407629\n",
      "  0.82483596 0.78830705 0.86703993 0.83256053 0.80060011 0.82708689\n",
      "  0.81953254 0.8113923  0.8371121  0.81488446 0.806074   0.8595096\n",
      "  0.87613566 0.82302881 0.81477324 0.76789659 0.75772198 0.86394158\n",
      "  0.85269635 0.79766857 0.81714465 0.85599872 0.84118235 0.83736297\n",
      "  0.87805024 0.84139483]]\n",
      "[[0.91091334 0.91873346 0.92213347 0.8876518  0.94300846 0.91735096\n",
      "  0.91536495 0.91244222 0.93708815 0.94439013 0.92745924 0.95003331\n",
      "  0.93695301 0.91566277 0.93948079 0.96449737 0.9178782  0.95739664\n",
      "  0.94183699 0.91628212 0.94524784 0.94673057 0.95540561 0.94867065\n",
      "  0.94396214 0.91729401 0.89524337 0.91693418 0.92735997 0.94169311\n",
      "  0.94666462 0.93516417 0.94229712 0.93621314 0.95192978 0.95127214\n",
      "  0.90999673 0.90695622 0.93373855 0.94019622 0.92827355 0.94045544\n",
      "  0.91841348 0.93590572 0.93558932 0.91382153 0.90552208 0.91141201\n",
      "  0.92848419 0.92376328]\n",
      " [0.91091334 0.93342726 0.92883309 0.95458745 0.95712082 0.91735096\n",
      "  0.95541825 0.94516413 0.93816518 0.94439013 0.93480886 0.95680324\n",
      "  0.94767834 0.91566277 0.94946359 0.96449737 0.94817636 0.95739664\n",
      "  0.94183699 0.92607649 0.95072317 0.94673057 0.95540561 0.94867065\n",
      "  0.94396214 0.91729401 0.91527817 0.91693418 0.92945574 0.94649655\n",
      "  0.94666462 0.94207641 0.95152882 0.94377574 0.95192978 0.9559645\n",
      "  0.94376858 0.92075763 0.93373855 0.94019622 0.94204745 0.94375204\n",
      "  0.93142466 0.95348856 0.93558932 0.92321431 0.92549426 0.92977673\n",
      "  0.93772108 0.92376328]\n",
      " [0.8568677  0.85231143 0.85805118 0.81245015 0.78579626 0.79142191\n",
      "  0.85625462 0.825159   0.78853691 0.83237094 0.81546171 0.8722218\n",
      "  0.85586086 0.84360468 0.84016137 0.88818422 0.83929582 0.84468781\n",
      "  0.83253178 0.85902769 0.86503859 0.88755585 0.85032862 0.84923956\n",
      "  0.81626961 0.87191235 0.80554825 0.81459348 0.78338728 0.82882973\n",
      "  0.85736857 0.76999638 0.80031311 0.82176756 0.86417695 0.85381036\n",
      "  0.78680572 0.82323985 0.85362667 0.84576005 0.81572466 0.84934486\n",
      "  0.80856315 0.87815542 0.84245383 0.85246758 0.76031054 0.85184426\n",
      "  0.86168685 0.84427873]\n",
      " [0.82677945 0.81303621 0.84594168 0.78912865 0.76669648 0.77488985\n",
      "  0.84307815 0.77675459 0.75651789 0.78971938 0.79381871 0.83614155\n",
      "  0.83227466 0.83747863 0.81798841 0.88222862 0.79087084 0.83753014\n",
      "  0.80490163 0.82282013 0.84575595 0.88006817 0.84707296 0.82943842\n",
      "  0.78878049 0.83794096 0.7995596  0.78460623 0.74675259 0.77394811\n",
      "  0.83056195 0.7515251  0.77766254 0.79879256 0.83271842 0.79835755\n",
      "  0.7247193  0.7811025  0.83813257 0.817975   0.7995826  0.81929088\n",
      "  0.80729403 0.85086406 0.82680877 0.84440275 0.77962839 0.84560991\n",
      "  0.83403197 0.80799626]]\n",
      "[[0.91462289 0.92574635 0.9274168  0.89429926 0.89481068 0.92955482\n",
      "  0.9513376  0.91368667 0.90374052 0.92826026 0.95634943 0.92848323\n",
      "  0.91829323 0.9112406  0.9253412  0.9002265  0.92624882 0.94502537\n",
      "  0.91990834 0.92492607 0.91483867 0.93473733 0.92300731 0.90439438\n",
      "  0.93882104 0.92652509 0.93480129 0.94977486 0.95667981 0.90057572\n",
      "  0.91767697 0.93164078 0.93101522 0.92504246 0.93001248 0.87536584\n",
      "  0.91641966 0.92392081 0.90625207 0.90383648 0.92101389 0.92245651\n",
      "  0.93243664 0.91891815 0.93900973 0.91253757 0.93887296 0.90587749\n",
      "  0.9435529  0.88827526]\n",
      " [0.91864028 0.95555373 0.92868682 0.92337519 0.90838802 0.94940484\n",
      "  0.96233592 0.92648663 0.94316713 0.93170678 0.95634943 0.93419978\n",
      "  0.9300479  0.94059583 0.93728786 0.9357243  0.948617   0.94910825\n",
      "  0.9456668  0.93809874 0.94428711 0.94114809 0.93187119 0.92121191\n",
      "  0.93882104 0.95146052 0.93480129 0.9515422  0.96052474 0.93095972\n",
      "  0.91767697 0.93164078 0.93553709 0.93031583 0.93001248 0.91474954\n",
      "  0.92599024 0.92825513 0.94791622 0.91463103 0.92101389 0.93015078\n",
      "  0.94299143 0.95044809 0.93900973 0.92574896 0.93887296 0.91255077\n",
      "  0.95446457 0.94749521]\n",
      " [0.86780435 0.88746785 0.82479566 0.7947809  0.83340456 0.83430098\n",
      "  0.84430759 0.84369322 0.84142128 0.81796119 0.84204792 0.82359329\n",
      "  0.78929195 0.80299853 0.84784083 0.83244359 0.81637627 0.87877642\n",
      "  0.7913527  0.85814046 0.81126167 0.81222997 0.85887632 0.81503194\n",
      "  0.82014069 0.85456831 0.81834283 0.85903066 0.89568963 0.79003059\n",
      "  0.86616065 0.83397044 0.81880716 0.84957201 0.89307793 0.80924239\n",
      "  0.85792061 0.86663963 0.82515822 0.82277047 0.85863808 0.81697921\n",
      "  0.8568965  0.75425298 0.78964564 0.82500332 0.85693372 0.85275591\n",
      "  0.85746213 0.83842583]\n",
      " [0.8180581  0.85422808 0.7900263  0.77451509 0.77805111 0.80413273\n",
      "  0.8341639  0.83230502 0.82571711 0.80152417 0.83564301 0.7963529\n",
      "  0.79412512 0.77506673 0.84616174 0.80442548 0.80268577 0.84145971\n",
      "  0.75926011 0.82239963 0.7943788  0.79673175 0.84284081 0.76900231\n",
      "  0.79222603 0.85243866 0.79957011 0.85400956 0.90172503 0.76981241\n",
      "  0.84842704 0.79396931 0.78017564 0.81060444 0.88349027 0.79688546\n",
      "  0.84720653 0.84950115 0.80223163 0.8153403  0.80466912 0.8056476\n",
      "  0.83978858 0.74289355 0.77734058 0.82423089 0.83677261 0.82463899\n",
      "  0.83520812 0.82686961]]\n",
      "[[0.89988283 0.92822376 0.89665077 0.92138218 0.91076292 0.92237535\n",
      "  0.94457524 0.93340555 0.91329586 0.94903659 0.93076239 0.91322628\n",
      "  0.92555946 0.936782   0.94100434 0.9545779  0.9379365  0.90867644\n",
      "  0.91031268 0.921001   0.92263528 0.934877   0.93027295 0.94123602\n",
      "  0.92021394 0.92712894 0.9305361  0.92810092 0.92587318 0.9179695\n",
      "  0.93180433 0.9330972  0.94207699 0.92915103 0.93788696 0.9102943\n",
      "  0.90364894 0.919158   0.93168684 0.9130982  0.9488982  0.9211995\n",
      "  0.9342916  0.918474   0.94149095 0.92769542 0.94723271 0.95024492\n",
      "  0.92557266 0.93724917]\n",
      " [0.90019263 0.93621209 0.92886746 0.9448692  0.93369202 0.92237535\n",
      "  0.94457524 0.94267973 0.94612116 0.94903659 0.93909721 0.94530246\n",
      "  0.95028563 0.94911589 0.94674056 0.9545779  0.9379365  0.92012295\n",
      "  0.92251452 0.921001   0.94676912 0.934877   0.94479466 0.94485599\n",
      "  0.92302811 0.92712894 0.93816599 0.93678932 0.92587318 0.9282705\n",
      "  0.93180433 0.93743683 0.9628757  0.94085504 0.93788696 0.91285758\n",
      "  0.90364894 0.93009592 0.93168684 0.91427594 0.95208423 0.9211995\n",
      "  0.9342916  0.918474   0.94787526 0.95127756 0.94723271 0.95024492\n",
      "  0.9437398  0.94063208]\n",
      " [0.77123598 0.78834638 0.82565987 0.85727566 0.80851029 0.81147115\n",
      "  0.8450673  0.8220287  0.79447411 0.86385457 0.83024384 0.80007234\n",
      "  0.86327994 0.795367   0.86470071 0.84958478 0.88500238 0.84922549\n",
      "  0.79135766 0.83989484 0.82510788 0.8424137  0.82541326 0.82813274\n",
      "  0.82739527 0.83879278 0.82669742 0.8579162  0.85583089 0.8142576\n",
      "  0.82594077 0.80816969 0.81729151 0.76240685 0.86581662 0.75501742\n",
      "  0.83123212 0.85648329 0.87297554 0.83459752 0.87612462 0.81281326\n",
      "  0.82153234 0.84199474 0.79265267 0.77199711 0.87829066 0.86614389\n",
      "  0.79769268 0.79922997]\n",
      " [0.74031769 0.79078155 0.78475291 0.84161432 0.76324699 0.81545617\n",
      "  0.81011152 0.75502643 0.76624875 0.85520836 0.81429856 0.77059088\n",
      "  0.8482966  0.79040887 0.81526133 0.83644381 0.873324   0.83766839\n",
      "  0.74430143 0.82292448 0.81360056 0.82886677 0.79681279 0.81518569\n",
      "  0.79779071 0.81414617 0.80777911 0.791812   0.83127781 0.78171527\n",
      "  0.81220792 0.76441464 0.77669051 0.73284899 0.83835195 0.68922874\n",
      "  0.79635207 0.84679316 0.85292917 0.81776307 0.8561031  0.79435356\n",
      "  0.77148735 0.80041206 0.77636412 0.75854804 0.8501903  0.8432131\n",
      "  0.77855129 0.78851265]]\n",
      "[[0.93221214 0.93564456 0.88074659 0.92831854 0.9042628  0.95032458\n",
      "  0.91310416 0.89642938 0.90731917 0.89963627 0.93511646 0.90092216\n",
      "  0.91735928 0.89019575 0.93326195 0.9192523  0.90822012 0.92564057\n",
      "  0.93449522 0.94505046 0.93639777 0.96764954 0.92015333 0.92947065\n",
      "  0.94745761 0.94043013 0.91806716 0.91282619 0.92815241 0.91692663\n",
      "  0.89527572 0.91130704 0.93659443 0.93102387 0.90705091 0.91114085\n",
      "  0.92155653 0.85051985 0.92172628 0.93159181 0.9300979  0.94119313\n",
      "  0.9456404  0.90154522 0.89095908 0.94044899 0.8523934  0.92880105\n",
      "  0.92603745 0.87389947]\n",
      " [0.93221214 0.9527907  0.9083078  0.93154992 0.94313437 0.95225257\n",
      "  0.9323195  0.91426435 0.91871647 0.92389782 0.93511646 0.92812743\n",
      "  0.92198595 0.92743037 0.94660081 0.92282744 0.92710659 0.95103695\n",
      "  0.93921956 0.95966894 0.93639777 0.96764954 0.92015333 0.94354029\n",
      "  0.9528732  0.94853911 0.92826084 0.92626804 0.93734897 0.92293414\n",
      "  0.91332133 0.93643892 0.93659443 0.94145837 0.908491   0.91905862\n",
      "  0.92155653 0.92599235 0.92666942 0.94014658 0.9300979  0.94698824\n",
      "  0.96182082 0.93438582 0.91415052 0.94882747 0.91761514 0.93608237\n",
      "  0.92603745 0.88629204]\n",
      " [0.82409224 0.83798963 0.79167078 0.82828131 0.78762374 0.8206147\n",
      "  0.83705304 0.81962942 0.7207385  0.79321403 0.87534874 0.83858576\n",
      "  0.83684705 0.85456848 0.86061981 0.80350661 0.81144992 0.82987714\n",
      "  0.75461545 0.81324228 0.87448521 0.85500799 0.84335727 0.84559496\n",
      "  0.84571145 0.82836102 0.80212036 0.84719854 0.86477945 0.84986988\n",
      "  0.78900758 0.84486076 0.84993822 0.8558277  0.81334273 0.85895503\n",
      "  0.81607814 0.78980852 0.82133178 0.81330352 0.84744564 0.86118826\n",
      "  0.86785687 0.8141468  0.77730053 0.81719443 0.76554918 0.84406582\n",
      "  0.85066882 0.78112895]\n",
      " [0.81804367 0.82349218 0.78071729 0.80976876 0.76711416 0.79952379\n",
      "  0.81687165 0.81318179 0.69128953 0.77737831 0.8593103  0.76906877\n",
      "  0.79388844 0.84051878 0.85016886 0.78390572 0.79612052 0.7806378\n",
      "  0.71676826 0.78350872 0.85054116 0.83437933 0.82569382 0.83257376\n",
      "  0.81689111 0.82065184 0.774907   0.82442012 0.83697435 0.82584561\n",
      "  0.77507696 0.80266899 0.83561739 0.83726215 0.78429949 0.8258465\n",
      "  0.80135705 0.76489022 0.79724442 0.80600788 0.8107769  0.80749541\n",
      "  0.84324295 0.79208601 0.73219588 0.75252106 0.73379142 0.82410205\n",
      "  0.80284888 0.7544182 ]]\n",
      "GEOM\n"
     ]
    },
    {
     "data": {
      "image/png": "[encoded data removed]",
      "text/plain": [
       "<Figure size 576x432 with 1 Axes>"
      ]
     },
     "metadata": {
      "needs_background": "light"
     },
     "output_type": "display_data"
    }
   ],
   "source": [
    "import matplotlib.pyplot as plt\n",
    "ratios = [x/y for (x,y) in node_configs]\n",
    "for graph_type, comp_ratios in data.items():\n",
    "    greedy_avg_ratios = []\n",
    "    meta_avg_ratios = []\n",
    "    gnn1_avg_ratios = []\n",
    "    gnn2_avg_ratios = []\n",
    "    max_avg_ratios = []\n",
    "\n",
    "    for trial_ratios in comp_ratios:\n",
    "        meta_avg_ratios.append(np.array(trial_ratios[0]).mean())\n",
    "        gnn1_avg_ratios.append(np.array(trial_ratios[1]).mean())\n",
    "        gnn2_avg_ratios.append(np.array(trial_ratios[2]).mean())\n",
    "        greedy_avg_ratios.append(np.array(trial_ratios[3]).mean())\n",
    "        max_avg_ratios.append(np.array(np.max(trial_ratios[1:, :], axis=0)).mean())\n",
    "        print(trial_ratios)\n",
    "\n",
    "    print(graph_type)\n",
    "    fig = plt.figure(figsize=(8,6))\n",
    "    plt.title(graph_type)\n",
    "    plt.plot(ratios, gnn1_avg_ratios, label='GNN1')\n",
    "    plt.plot(ratios, gnn2_avg_ratios, label='GNN2')\n",
    "    plt.plot(ratios, greedy_avg_ratios, label='Greedy')\n",
    "    plt.plot(ratios, max_avg_ratios, label='MAX')\n",
    "    plt.plot(ratios, meta_avg_ratios, label='META')\n",
    "    plt.xlabel('# online / # offline')\n",
    "    plt.ylabel('Average competitive ratio')\n",
    "    plt.legend()\n",
    "    plt.show()\n"
   ]
  },
  {
   "cell_type": "code",
   "execution_count": null,
   "metadata": {},
   "outputs": [],
   "source": []
  },
  {
   "cell_type": "code",
   "execution_count": null,
   "metadata": {},
   "outputs": [],
   "source": [
    "comp = np.vstack([gnn1_learned_ratios, gnn2_learned_ratios, greedy_ratios]).T\n",
    "comp[:10]"
   ]
  },
  {
   "cell_type": "code",
   "execution_count": null,
   "metadata": {},
   "outputs": [],
   "source": [
    "print(np.max(comp[:2, :], axis=1).mean())\n",
    "print(comp.mean(axis=0))"
   ]
  },
  {
   "cell_type": "code",
   "execution_count": null,
   "metadata": {},
   "outputs": [],
   "source": [
    "index1 = np.argmax(comp[:, 0] - comp[:, 1])\n",
    "index2 = np.argmax(comp[:, 1] - comp[:, 0])"
   ]
  },
  {
   "cell_type": "code",
   "execution_count": null,
   "metadata": {},
   "outputs": [],
   "source": [
    "tc._featurize(instances[index1])"
   ]
  },
  {
   "cell_type": "code",
   "execution_count": null,
   "metadata": {},
   "outputs": [],
   "source": [
    "tc._featurize(instances[index2])"
   ]
  },
  {
   "cell_type": "code",
   "execution_count": null,
   "metadata": {},
   "outputs": [],
   "source": [
    "GNN2_features = []\n",
    "GNN1_features = []\n",
    "for i, boolean in enumerate(comp[:, 1] > comp[:, 0]):\n",
    "    if boolean:\n",
    "        GNN2_features.append(tc._featurize(instances[i]))\n",
    "    else:\n",
    "        GNN1_features.append(tc._featurize(instances[i]))\n",
    "\n",
    "out1 = np.vstack(GNN1_features)\n",
    "out2 = np.vstack(GNN2_features)\n"
   ]
  },
  {
   "cell_type": "code",
   "execution_count": null,
   "metadata": {},
   "outputs": [],
   "source": [
    "out1.mean(axis=0)"
   ]
  },
  {
   "cell_type": "code",
   "execution_count": null,
   "metadata": {},
   "outputs": [],
   "source": [
    "out2.mean(axis=0)"
   ]
  }
 ],
 "metadata": {
  "kernelspec": {
   "display_name": "Python 3",
   "language": "python",
   "name": "python3"
  },
  "language_info": {
   "codemirror_mode": {
    "name": "ipython",
    "version": 3
   },
   "file_extension": ".py",
   "mimetype": "text/x-python",
   "name": "python",
   "nbconvert_exporter": "python",
   "pygments_lexer": "ipython3",
   "version": "3.10.6"
  },
  "orig_nbformat": 4
 },
 "nbformat": 4,
 "nbformat_minor": 2
}
