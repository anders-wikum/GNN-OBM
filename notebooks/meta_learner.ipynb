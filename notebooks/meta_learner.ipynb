{
 "cells": [
  {
   "cell_type": "code",
   "execution_count": 3,
   "metadata": {},
   "outputs": [],
   "source": [
    "import torch\n",
    "import numpy as np\n",
    "import os\n",
    "os.chdir('..')\n",
    "\n",
    "import torch_converter as tc\n",
    "import instance_generator as ig\n",
    "from torch_geometric.loader import DataLoader\n",
    "from gnn_library.util import train, save, load\n",
    "from util import NumpyDataset, Dataset\n",
    "from evaluate import evaluate_model, pp_output\n",
    "\n",
    "%load_ext autoreload\n",
    "%autoreload 2"
   ]
  },
  {
   "cell_type": "code",
   "execution_count": 4,
   "metadata": {},
   "outputs": [
    {
     "name": "stdout",
     "output_type": "stream",
     "text": [
      "PyTorch has version 2.0.0+cu117\n",
      "Using device: cuda:2\n"
     ]
    }
   ],
   "source": [
    "device = torch.device('cuda:2' if torch.cuda.is_available() else 'cpu')\n",
    "print(\"PyTorch has version {}\".format(torch.__version__))\n",
    "print('Using device:', device)"
   ]
  },
  {
   "cell_type": "code",
   "execution_count": 5,
   "metadata": {},
   "outputs": [],
   "source": [
    "GNN1, args1 = load('GNN1', device)\n",
    "GNN2, args2 = load('GNN2', device)"
   ]
  },
  {
   "cell_type": "markdown",
   "metadata": {},
   "source": [
    "### I. Meta GNN training/evaluation"
   ]
  },
  {
   "cell_type": "code",
   "execution_count": 8,
   "metadata": {},
   "outputs": [],
   "source": [
    "args = {\n",
    "    'processor':         'GENConv',\n",
    "    'head':              'meta',\n",
    "    'num_layers':        2,\n",
    "    'num_mlp_layers':    2,\n",
    "    'aggr':              'max',\n",
    "    'batch_size':        32,\n",
    "    'node_feature_dim':  4,\n",
    "    'edge_feature_dim':  1,\n",
    "    'graph_feature_dim': 2,\n",
    "    'hidden_dim':        64,\n",
    "    'output_dim':        1,\n",
    "    'dropout':           0.35,\n",
    "    'epochs':            25,\n",
    "    'opt':               'adam',\n",
    "    'opt_scheduler':     'none',\n",
    "    'opt_restart':       0,\n",
    "    'weight_decay':      5e-3,\n",
    "    'lr':                0.0001,\n",
    "    'device':            device\n",
    "}\n",
    "\n",
    "train_num = 50; test_num = 10\n",
    "\n",
    "er_config = {\n",
    "    'graph_type': 'ER',\n",
    "    'p': 1,\n",
    "    'weighted': True\n",
    "}\n",
    "ba_config = {\n",
    "    'graph_type': 'BA',\n",
    "    'ba_param': 4,\n",
    "    'weighted': False\n",
    "}\n",
    "geom_config = {\n",
    "    'graph_type': 'GEOM',\n",
    "    'threshold': 0.2,\n",
    "    'scaling': 1 / np.sqrt(2)\n",
    "}\n",
    "\n",
    "rng = np.random.default_rng()\n",
    "\n",
    "train_instances = [\n",
    "    *ig.sample_instances(6, 10, train_num, rng, **er_config),\n",
    "    *ig.sample_instances(6, 10, train_num, rng, **ba_config),\n",
    "    *ig.sample_instances(6, 10, train_num, rng, **geom_config),\n",
    "    *ig.sample_instances(8, 8, train_num, rng, **er_config),\n",
    "    *ig.sample_instances(8, 8, train_num, rng, **ba_config),\n",
    "    *ig.sample_instances(8, 8, train_num, rng, **geom_config),\n",
    "    *ig.sample_instances(10, 6, train_num, rng, **er_config),\n",
    "    *ig.sample_instances(10, 6, train_num, rng, **ba_config),\n",
    "    *ig.sample_instances(10, 6, train_num, rng, **geom_config)\n",
    "]\n",
    "\n",
    "\n",
    "test_instances = [\n",
    "    *ig.sample_instances(6, 10, test_num, rng, **er_config),\n",
    "    *ig.sample_instances(6, 10, test_num, rng, **ba_config),\n",
    "    *ig.sample_instances(6, 10, test_num, rng, **geom_config),\n",
    "    *ig.sample_instances(8, 8, test_num, rng, **er_config),\n",
    "    *ig.sample_instances(8, 8, test_num, rng, **ba_config),\n",
    "    *ig.sample_instances(8, 8, test_num, rng, **geom_config),\n",
    "    *ig.sample_instances(10, 6, test_num, rng, **er_config),\n",
    "    *ig.sample_instances(10, 6, test_num, rng, **ba_config),\n",
    "    *ig.sample_instances(10, 6, test_num, rng, **geom_config)\n",
    "]\n",
    "\n",
    "kwargs={'models': [GNN1, GNN2], 'device': device}\n",
    "train_data = Dataset(tc._instances_to_gnn_train_samples(train_instances, args['head'], **kwargs))\n",
    "test_data = Dataset(tc._instances_to_gnn_train_samples(test_instances, args['head'], **kwargs))\n",
    "\n",
    "train_loader = DataLoader(\n",
    "    train_data,\n",
    "    batch_size=args['batch_size'],\n",
    "    shuffle=True,\n",
    "    num_workers=4\n",
    ")\n",
    "\n",
    "test_loader = DataLoader(\n",
    "    test_data,\n",
    "    batch_size=args['batch_size'],\n",
    "    shuffle=True,\n",
    "    num_workers=4\n",
    ")"
   ]
  },
  {
   "cell_type": "code",
   "execution_count": 9,
   "metadata": {},
   "outputs": [
    {
     "name": "stderr",
     "output_type": "stream",
     "text": [
      "Training:   0%|          | 0/25 [00:00<?, ?Epochs/s]"
     ]
    },
    {
     "name": "stdout",
     "output_type": "stream",
     "text": [
      "0.4251044006539572\n"
     ]
    },
    {
     "name": "stderr",
     "output_type": "stream",
     "text": [
      "Training:   4%|▍         | 1/25 [00:03<01:35,  3.96s/Epochs]"
     ]
    },
    {
     "name": "stdout",
     "output_type": "stream",
     "text": [
      "TEST LOSS: 0.2754508852958679\n"
     ]
    },
    {
     "name": "stderr",
     "output_type": "stream",
     "text": [
      "Training:   8%|▊         | 2/25 [00:07<01:18,  3.42s/Epochs]"
     ]
    },
    {
     "name": "stdout",
     "output_type": "stream",
     "text": [
      "0.30538397504264725\n",
      "0.29252645685207734\n"
     ]
    },
    {
     "name": "stderr",
     "output_type": "stream",
     "text": [
      "Training:  12%|█▏        | 3/25 [00:11<01:28,  4.03s/Epochs]"
     ]
    },
    {
     "name": "stdout",
     "output_type": "stream",
     "text": [
      "TEST LOSS: 0.25221389532089233\n"
     ]
    },
    {
     "name": "stderr",
     "output_type": "stream",
     "text": [
      "Training:  16%|█▌        | 4/25 [00:14<01:13,  3.49s/Epochs]"
     ]
    },
    {
     "name": "stdout",
     "output_type": "stream",
     "text": [
      "0.281899751155369\n",
      "0.27427149071782\n"
     ]
    },
    {
     "name": "stderr",
     "output_type": "stream",
     "text": [
      "Training:  20%|██        | 5/25 [00:17<01:09,  3.46s/Epochs]"
     ]
    },
    {
     "name": "stdout",
     "output_type": "stream",
     "text": [
      "TEST LOSS: 0.2371561974287033\n"
     ]
    },
    {
     "name": "stderr",
     "output_type": "stream",
     "text": [
      "Training:  24%|██▍       | 6/25 [00:20<01:01,  3.21s/Epochs]"
     ]
    },
    {
     "name": "stdout",
     "output_type": "stream",
     "text": [
      "0.2735231701988185\n",
      "0.26528490392416254\n"
     ]
    },
    {
     "name": "stderr",
     "output_type": "stream",
     "text": [
      "Training:  28%|██▊       | 7/25 [00:23<00:58,  3.24s/Epochs]"
     ]
    },
    {
     "name": "stdout",
     "output_type": "stream",
     "text": [
      "TEST LOSS: 0.23222728073596954\n"
     ]
    },
    {
     "name": "stderr",
     "output_type": "stream",
     "text": [
      "Training:  32%|███▏      | 8/25 [00:26<00:52,  3.08s/Epochs]"
     ]
    },
    {
     "name": "stdout",
     "output_type": "stream",
     "text": [
      "0.26807585269120454\n",
      "0.26478365214062916\n"
     ]
    },
    {
     "name": "stderr",
     "output_type": "stream",
     "text": [
      "Training:  36%|███▌      | 9/25 [00:29<00:50,  3.17s/Epochs]"
     ]
    },
    {
     "name": "stdout",
     "output_type": "stream",
     "text": [
      "TEST LOSS: 0.23579274117946625\n"
     ]
    },
    {
     "name": "stderr",
     "output_type": "stream",
     "text": [
      "Training:  40%|████      | 10/25 [00:32<00:44,  2.98s/Epochs]"
     ]
    },
    {
     "name": "stdout",
     "output_type": "stream",
     "text": [
      "0.26676924547912906\n",
      "0.26565293122555816\n"
     ]
    },
    {
     "name": "stderr",
     "output_type": "stream",
     "text": [
      "Training:  44%|████▍     | 11/25 [00:35<00:43,  3.10s/Epochs]"
     ]
    },
    {
     "name": "stdout",
     "output_type": "stream",
     "text": [
      "TEST LOSS: 0.2211281806230545\n"
     ]
    },
    {
     "name": "stderr",
     "output_type": "stream",
     "text": [
      "Training:  48%|████▊     | 12/25 [00:38<00:39,  3.02s/Epochs]"
     ]
    },
    {
     "name": "stdout",
     "output_type": "stream",
     "text": [
      "0.2600991751202858\n",
      "0.2666263163089752\n"
     ]
    },
    {
     "name": "stderr",
     "output_type": "stream",
     "text": [
      "Training:  52%|█████▏    | 13/25 [00:42<00:38,  3.19s/Epochs]"
     ]
    },
    {
     "name": "stdout",
     "output_type": "stream",
     "text": [
      "TEST LOSS: 0.2252323478460312\n"
     ]
    },
    {
     "name": "stderr",
     "output_type": "stream",
     "text": [
      "Training:  56%|█████▌    | 14/25 [00:44<00:33,  3.03s/Epochs]"
     ]
    },
    {
     "name": "stdout",
     "output_type": "stream",
     "text": [
      "0.26166285305015813\n",
      "0.26001604074848694\n"
     ]
    },
    {
     "name": "stderr",
     "output_type": "stream",
     "text": [
      "Training:  60%|██████    | 15/25 [00:48<00:31,  3.13s/Epochs]"
     ]
    },
    {
     "name": "stdout",
     "output_type": "stream",
     "text": [
      "TEST LOSS: 0.2273768186569214\n"
     ]
    },
    {
     "name": "stderr",
     "output_type": "stream",
     "text": [
      "Training:  64%|██████▍   | 16/25 [00:50<00:26,  2.97s/Epochs]"
     ]
    },
    {
     "name": "stdout",
     "output_type": "stream",
     "text": [
      "0.2592369959265824\n",
      "0.25855962106317926\n"
     ]
    },
    {
     "name": "stderr",
     "output_type": "stream",
     "text": [
      "Training:  68%|██████▊   | 17/25 [00:54<00:25,  3.18s/Epochs]"
     ]
    },
    {
     "name": "stdout",
     "output_type": "stream",
     "text": [
      "TEST LOSS: 0.22159679234027863\n"
     ]
    },
    {
     "name": "stderr",
     "output_type": "stream",
     "text": [
      "Training:  72%|███████▏  | 18/25 [00:57<00:21,  3.06s/Epochs]"
     ]
    },
    {
     "name": "stdout",
     "output_type": "stream",
     "text": [
      "0.26181231008225553\n",
      "0.2540067446028854\n"
     ]
    },
    {
     "name": "stderr",
     "output_type": "stream",
     "text": [
      "Training:  76%|███████▌  | 19/25 [01:00<00:18,  3.16s/Epochs]"
     ]
    },
    {
     "name": "stdout",
     "output_type": "stream",
     "text": [
      "TEST LOSS: 0.23038426041603088\n"
     ]
    },
    {
     "name": "stderr",
     "output_type": "stream",
     "text": [
      "Training:  80%|████████  | 20/25 [01:03<00:14,  2.97s/Epochs]"
     ]
    },
    {
     "name": "stdout",
     "output_type": "stream",
     "text": [
      "0.25729269863282195\n",
      "0.25621949325405036\n"
     ]
    },
    {
     "name": "stderr",
     "output_type": "stream",
     "text": [
      "Training:  84%|████████▍ | 21/25 [01:06<00:12,  3.04s/Epochs]"
     ]
    },
    {
     "name": "stdout",
     "output_type": "stream",
     "text": [
      "TEST LOSS: 0.21860650181770325\n"
     ]
    },
    {
     "name": "stderr",
     "output_type": "stream",
     "text": [
      "Training:  88%|████████▊ | 22/25 [01:09<00:08,  2.90s/Epochs]"
     ]
    },
    {
     "name": "stdout",
     "output_type": "stream",
     "text": [
      "0.2568627093414035\n",
      "0.2581256513256038\n"
     ]
    },
    {
     "name": "stderr",
     "output_type": "stream",
     "text": [
      "Training:  92%|█████████▏| 23/25 [01:12<00:05,  2.99s/Epochs]"
     ]
    },
    {
     "name": "stdout",
     "output_type": "stream",
     "text": [
      "TEST LOSS: 0.22108285129070282\n"
     ]
    },
    {
     "name": "stderr",
     "output_type": "stream",
     "text": [
      "Training:  96%|█████████▌| 24/25 [01:14<00:02,  2.90s/Epochs]"
     ]
    },
    {
     "name": "stdout",
     "output_type": "stream",
     "text": [
      "0.24895487071559894\n",
      "0.2524373590669396\n"
     ]
    },
    {
     "name": "stderr",
     "output_type": "stream",
     "text": [
      "Training: 100%|██████████| 25/25 [01:18<00:00,  3.13s/Epochs]"
     ]
    },
    {
     "name": "stdout",
     "output_type": "stream",
     "text": [
      "TEST LOSS: 0.21863102912902832\n"
     ]
    },
    {
     "name": "stderr",
     "output_type": "stream",
     "text": [
      "\n"
     ]
    }
   ],
   "source": [
    "_, _, META_GNN, _ = train(train_loader, test_loader, args)"
   ]
  },
  {
   "cell_type": "code",
   "execution_count": 14,
   "metadata": {},
   "outputs": [
    {
     "name": "stdout",
     "output_type": "stream",
     "text": [
      "-- Competitive ratios --\n",
      "GNN: 0.9764\n",
      "Greedy: 0.995\n",
      "\n",
      "\n",
      "-- Competitive ratios --\n",
      "GNN: 0.9537\n",
      "Greedy: 0.995\n",
      "\n",
      "\n",
      "-- Competitive ratios --\n",
      "GNN: 0.9764\n",
      "Greedy: 0.995\n"
     ]
    }
   ],
   "source": [
    "seed = 0\n",
    "(m, n) = (8, 16)\n",
    "config = er_config\n",
    "\n",
    "rng = np.random.default_rng(seed)\n",
    "eval_instances = ig.sample_instances(m, n, 100, rng, **config)\n",
    "\n",
    "ratios1 = evaluate_model(\n",
    "    classify_model=META_GNN,\n",
    "    eval_models=[GNN1, GNN2],\n",
    "    device=device,\n",
    "    instances=eval_instances,\n",
    "    batch_size=50,\n",
    "    rng=rng,\n",
    "    num_realizations=10\n",
    ")\n",
    "\n",
    "pp_output(ratios1, _, show_log=False)\n",
    "print()\n",
    "print()\n",
    "\n",
    "rng = np.random.default_rng(seed)\n",
    "eval_instances = ig.sample_instances(m, n, 100, rng, **config)\n",
    "\n",
    "ratios2 = evaluate_model(\n",
    "    classify_model=None,\n",
    "    eval_models=[GNN1],\n",
    "    device=device,\n",
    "    instances=eval_instances,\n",
    "    batch_size=50,\n",
    "    rng=rng,\n",
    "    num_realizations=10\n",
    ")\n",
    "\n",
    "pp_output(ratios2, _, show_log=False)\n",
    "\n",
    "print()\n",
    "print()\n",
    "\n",
    "rng = np.random.default_rng(seed)\n",
    "eval_instances = ig.sample_instances(m, n, 100, rng, **config)\n",
    "\n",
    "ratios = evaluate_model(\n",
    "    classify_model=None,\n",
    "    eval_models=[GNN2],\n",
    "    device=device,\n",
    "    instances=eval_instances,\n",
    "    batch_size=50,\n",
    "    rng=rng,\n",
    "    num_realizations=10\n",
    ")\n",
    "\n",
    "pp_output(ratios, _, show_log=False)"
   ]
  },
  {
   "cell_type": "markdown",
   "metadata": {},
   "source": [
    "### II. Meta NN training"
   ]
  },
  {
   "cell_type": "code",
   "execution_count": 26,
   "metadata": {},
   "outputs": [],
   "source": [
    "train_num = 50; test_num = 10\n",
    "\n",
    "er_config = {\n",
    "    'graph_type': 'ER',\n",
    "    'p': 1,\n",
    "    'weighted': True\n",
    "}\n",
    "ba_config = {\n",
    "    'graph_type': 'BA',\n",
    "    'ba_param': 4,\n",
    "    'weighted': False\n",
    "}\n",
    "geom_config = {\n",
    "    'graph_type': 'GEOM',\n",
    "    'threshold': 0.2,\n",
    "    'scaling': 1 / np.sqrt(2)\n",
    "}\n",
    "\n",
    "args = {\n",
    "    'processor':         'NN',\n",
    "    'head':              'meta',\n",
    "    'num_layers':        5,\n",
    "    'input_dim':         17,\n",
    "    'batch_size':        4,\n",
    "    'hidden_dim':        16,\n",
    "    'output_dim':        3,\n",
    "    'dropout':           0,\n",
    "    'epochs':            50,\n",
    "    'opt':               'adam',\n",
    "    'opt_scheduler':     'none',\n",
    "    'opt_restart':       0,\n",
    "    'weight_decay':      5e-3,\n",
    "    'lr':                0.0001,\n",
    "    'device':            device\n",
    "}\n",
    "\n",
    "\n",
    "rng = np.random.default_rng()\n",
    "\n",
    "train_instances = [\n",
    "    *ig.sample_instances(6, 10, train_num, rng, **er_config),\n",
    "    *ig.sample_instances(6, 10, train_num, rng, **ba_config),\n",
    "    *ig.sample_instances(6, 10, train_num, rng, **geom_config),\n",
    "    *ig.sample_instances(8, 8, train_num, rng, **er_config),\n",
    "    *ig.sample_instances(8, 8, train_num, rng, **ba_config),\n",
    "    *ig.sample_instances(8, 8, train_num, rng, **geom_config),\n",
    "    *ig.sample_instances(10, 6, train_num, rng, **er_config),\n",
    "    *ig.sample_instances(10, 6, train_num, rng, **ba_config),\n",
    "    *ig.sample_instances(10, 6, train_num, rng, **geom_config)\n",
    "]\n",
    "\n",
    "\n",
    "test_instances = [\n",
    "    *ig.sample_instances(6, 10, test_num, rng, **er_config),\n",
    "    *ig.sample_instances(6, 10, test_num, rng, **ba_config),\n",
    "    *ig.sample_instances(6, 10, test_num, rng, **geom_config),\n",
    "    *ig.sample_instances(8, 8, test_num, rng, **er_config),\n",
    "    *ig.sample_instances(8, 8, test_num, rng, **ba_config),\n",
    "    *ig.sample_instances(8, 8, test_num, rng, **geom_config),\n",
    "    *ig.sample_instances(10, 6, test_num, rng, **er_config),\n",
    "    *ig.sample_instances(10, 6, test_num, rng, **ba_config),\n",
    "    *ig.sample_instances(10, 6, test_num, rng, **geom_config)\n",
    "]\n",
    "\n",
    "kwargs={'models': [GNN1, GNN2], 'device': device}\n",
    "train_dataset = NumpyDataset(\n",
    "    tc._instances_to_nn_samples(\n",
    "        instances=train_instances,\n",
    "        models=[GNN1, GNN2],\n",
    "        args=args,\n",
    "        batch_size=100,\n",
    "        rng=rng\n",
    "    )\n",
    ")\n",
    "\n",
    "test_dataset = NumpyDataset(\n",
    "   tc._instances_to_nn_samples(\n",
    "        instances=test_instances,\n",
    "        models=[GNN1, GNN2],\n",
    "        args=args,\n",
    "        batch_size=100,\n",
    "        rng=rng\n",
    "    )\n",
    ")\n",
    "\n",
    "\n",
    "train_loader = DataLoader(\n",
    "    train_dataset,\n",
    "    batch_size=args['batch_size'],\n",
    "    shuffle=True,\n",
    "    num_workers=4\n",
    ")\n",
    "\n",
    "test_loader = DataLoader(\n",
    "    test_dataset,\n",
    "    batch_size=args['batch_size'],\n",
    "    shuffle=True,\n",
    "    num_workers=4\n",
    ")"
   ]
  },
  {
   "cell_type": "code",
   "execution_count": 28,
   "metadata": {},
   "outputs": [
    {
     "name": "stderr",
     "output_type": "stream",
     "text": [
      "Training:   0%|          | 0/50 [00:00<?, ?Epochs/s]"
     ]
    },
    {
     "name": "stdout",
     "output_type": "stream",
     "text": [
      "0.6681415383021037\n"
     ]
    },
    {
     "name": "stderr",
     "output_type": "stream",
     "text": [
      "Training:   2%|▏         | 1/50 [00:01<00:52,  1.07s/Epochs]"
     ]
    },
    {
     "name": "stdout",
     "output_type": "stream",
     "text": [
      "TEST LOSS: 0.6495861411094666\n"
     ]
    },
    {
     "name": "stderr",
     "output_type": "stream",
     "text": [
      "Training:   4%|▍         | 2/50 [00:01<00:41,  1.16Epochs/s]"
     ]
    },
    {
     "name": "stdout",
     "output_type": "stream",
     "text": [
      "0.627047778500451\n",
      "0.5991690598593817\n"
     ]
    },
    {
     "name": "stderr",
     "output_type": "stream",
     "text": [
      "Training:   6%|▌         | 3/50 [00:02<00:44,  1.05Epochs/s]"
     ]
    },
    {
     "name": "stdout",
     "output_type": "stream",
     "text": [
      "TEST LOSS: 0.604001522064209\n"
     ]
    },
    {
     "name": "stderr",
     "output_type": "stream",
     "text": [
      "Training:   8%|▊         | 4/50 [00:03<00:41,  1.11Epochs/s]"
     ]
    },
    {
     "name": "stdout",
     "output_type": "stream",
     "text": [
      "0.5891773664951324\n",
      "0.574743733935886\n"
     ]
    },
    {
     "name": "stderr",
     "output_type": "stream",
     "text": [
      "Training:  10%|█         | 5/50 [00:04<00:42,  1.07Epochs/s]"
     ]
    },
    {
     "name": "stdout",
     "output_type": "stream",
     "text": [
      "TEST LOSS: 0.565726637840271\n"
     ]
    },
    {
     "name": "stderr",
     "output_type": "stream",
     "text": [
      "Training:  12%|█▏        | 6/50 [00:05<00:38,  1.13Epochs/s]"
     ]
    },
    {
     "name": "stdout",
     "output_type": "stream",
     "text": [
      "0.536023996869723\n",
      "0.4921372880869442\n"
     ]
    },
    {
     "name": "stderr",
     "output_type": "stream",
     "text": [
      "Training:  14%|█▍        | 7/50 [00:06<00:41,  1.03Epochs/s]"
     ]
    },
    {
     "name": "stdout",
     "output_type": "stream",
     "text": [
      "TEST LOSS: 0.45715048909187317\n"
     ]
    },
    {
     "name": "stderr",
     "output_type": "stream",
     "text": [
      "Training:  16%|█▌        | 8/50 [00:07<00:39,  1.07Epochs/s]"
     ]
    },
    {
     "name": "stdout",
     "output_type": "stream",
     "text": [
      "0.47346887681219313\n",
      "0.465134133166737\n"
     ]
    },
    {
     "name": "stderr",
     "output_type": "stream",
     "text": [
      "Training:  18%|█▊        | 9/50 [00:08<00:39,  1.03Epochs/s]"
     ]
    },
    {
     "name": "stdout",
     "output_type": "stream",
     "text": [
      "TEST LOSS: 0.4261339008808136\n"
     ]
    },
    {
     "name": "stderr",
     "output_type": "stream",
     "text": [
      "Training:  20%|██        | 10/50 [00:09<00:36,  1.10Epochs/s]"
     ]
    },
    {
     "name": "stdout",
     "output_type": "stream",
     "text": [
      "0.4535149387187428\n",
      "0.4481741734345754\n"
     ]
    },
    {
     "name": "stderr",
     "output_type": "stream",
     "text": [
      "Training:  22%|██▏       | 11/50 [00:10<00:37,  1.04Epochs/s]"
     ]
    },
    {
     "name": "stdout",
     "output_type": "stream",
     "text": [
      "TEST LOSS: 0.40810269117355347\n"
     ]
    },
    {
     "name": "stderr",
     "output_type": "stream",
     "text": [
      "Training:  24%|██▍       | 12/50 [00:11<00:33,  1.12Epochs/s]"
     ]
    },
    {
     "name": "stdout",
     "output_type": "stream",
     "text": [
      "0.44045468939675225\n",
      "0.43607665982511307\n"
     ]
    },
    {
     "name": "stderr",
     "output_type": "stream",
     "text": [
      "Training:  26%|██▌       | 13/50 [00:12<00:35,  1.05Epochs/s]"
     ]
    },
    {
     "name": "stdout",
     "output_type": "stream",
     "text": [
      "TEST LOSS: 0.3998669683933258\n"
     ]
    },
    {
     "name": "stderr",
     "output_type": "stream",
     "text": [
      "Training:  28%|██▊       | 14/50 [00:12<00:32,  1.11Epochs/s]"
     ]
    },
    {
     "name": "stdout",
     "output_type": "stream",
     "text": [
      "0.4295238575670454\n",
      "0.42960567030641766\n"
     ]
    },
    {
     "name": "stderr",
     "output_type": "stream",
     "text": [
      "Training:  30%|███       | 15/50 [00:14<00:33,  1.06Epochs/s]"
     ]
    },
    {
     "name": "stdout",
     "output_type": "stream",
     "text": [
      "TEST LOSS: 0.39452582597732544\n"
     ]
    },
    {
     "name": "stderr",
     "output_type": "stream",
     "text": [
      "Training:  32%|███▏      | 16/50 [00:14<00:30,  1.13Epochs/s]"
     ]
    },
    {
     "name": "stdout",
     "output_type": "stream",
     "text": [
      "0.42713136818673875\n",
      "0.423244014746613\n"
     ]
    },
    {
     "name": "stderr",
     "output_type": "stream",
     "text": [
      "Training:  34%|███▍      | 17/50 [00:15<00:31,  1.05Epochs/s]"
     ]
    },
    {
     "name": "stdout",
     "output_type": "stream",
     "text": [
      "TEST LOSS: 0.38385647535324097\n"
     ]
    },
    {
     "name": "stderr",
     "output_type": "stream",
     "text": [
      "Training:  36%|███▌      | 18/50 [00:16<00:27,  1.15Epochs/s]"
     ]
    },
    {
     "name": "stdout",
     "output_type": "stream",
     "text": [
      "0.42160974532365797\n",
      "0.4200232190721565\n"
     ]
    },
    {
     "name": "stderr",
     "output_type": "stream",
     "text": [
      "Training:  38%|███▊      | 19/50 [00:17<00:28,  1.09Epochs/s]"
     ]
    },
    {
     "name": "stdout",
     "output_type": "stream",
     "text": [
      "TEST LOSS: 0.37977227568626404\n"
     ]
    },
    {
     "name": "stderr",
     "output_type": "stream",
     "text": [
      "Training:  40%|████      | 20/50 [00:18<00:25,  1.18Epochs/s]"
     ]
    },
    {
     "name": "stdout",
     "output_type": "stream",
     "text": [
      "0.41893848578135173\n",
      "0.4169432520866394\n"
     ]
    },
    {
     "name": "stderr",
     "output_type": "stream",
     "text": [
      "Training:  42%|████▏     | 21/50 [00:19<00:27,  1.07Epochs/s]"
     ]
    },
    {
     "name": "stdout",
     "output_type": "stream",
     "text": [
      "TEST LOSS: 0.378502756357193\n"
     ]
    },
    {
     "name": "stderr",
     "output_type": "stream",
     "text": [
      "Training:  44%|████▍     | 22/50 [00:20<00:25,  1.11Epochs/s]"
     ]
    },
    {
     "name": "stdout",
     "output_type": "stream",
     "text": [
      "0.4178573919667138\n",
      "0.4162311668528451\n"
     ]
    },
    {
     "name": "stderr",
     "output_type": "stream",
     "text": [
      "Training:  46%|████▌     | 23/50 [00:21<00:25,  1.06Epochs/s]"
     ]
    },
    {
     "name": "stdout",
     "output_type": "stream",
     "text": [
      "TEST LOSS: 0.3717554807662964\n"
     ]
    },
    {
     "name": "stderr",
     "output_type": "stream",
     "text": [
      "Training:  48%|████▊     | 24/50 [00:22<00:23,  1.11Epochs/s]"
     ]
    },
    {
     "name": "stdout",
     "output_type": "stream",
     "text": [
      "0.4165358610285653\n",
      "0.4133659404185083\n"
     ]
    },
    {
     "name": "stderr",
     "output_type": "stream",
     "text": [
      "Training:  50%|█████     | 25/50 [00:23<00:24,  1.03Epochs/s]"
     ]
    },
    {
     "name": "stdout",
     "output_type": "stream",
     "text": [
      "TEST LOSS: 0.3698005676269531\n"
     ]
    },
    {
     "name": "stderr",
     "output_type": "stream",
     "text": [
      "Training:  52%|█████▏    | 26/50 [00:23<00:21,  1.10Epochs/s]"
     ]
    },
    {
     "name": "stdout",
     "output_type": "stream",
     "text": [
      "0.41276609357860355\n",
      "0.41299812151326076\n"
     ]
    },
    {
     "name": "stderr",
     "output_type": "stream",
     "text": [
      "Training:  54%|█████▍    | 27/50 [00:24<00:21,  1.09Epochs/s]"
     ]
    },
    {
     "name": "stdout",
     "output_type": "stream",
     "text": [
      "TEST LOSS: 0.3789067566394806\n"
     ]
    },
    {
     "name": "stderr",
     "output_type": "stream",
     "text": [
      "Training:  56%|█████▌    | 28/50 [00:25<00:18,  1.17Epochs/s]"
     ]
    },
    {
     "name": "stdout",
     "output_type": "stream",
     "text": [
      "0.41409631735748714\n",
      "0.4130646104282803\n"
     ]
    },
    {
     "name": "stderr",
     "output_type": "stream",
     "text": [
      "Training:  58%|█████▊    | 29/50 [00:26<00:18,  1.13Epochs/s]"
     ]
    },
    {
     "name": "stdout",
     "output_type": "stream",
     "text": [
      "TEST LOSS: 0.37064260244369507\n"
     ]
    },
    {
     "name": "stderr",
     "output_type": "stream",
     "text": [
      "Training:  60%|██████    | 30/50 [00:27<00:16,  1.19Epochs/s]"
     ]
    },
    {
     "name": "stdout",
     "output_type": "stream",
     "text": [
      "0.4129056367609236\n",
      "0.4135983371403482\n"
     ]
    },
    {
     "name": "stderr",
     "output_type": "stream",
     "text": [
      "Training:  62%|██████▏   | 31/50 [00:28<00:17,  1.11Epochs/s]"
     ]
    },
    {
     "name": "stdout",
     "output_type": "stream",
     "text": [
      "TEST LOSS: 0.36879998445510864\n"
     ]
    },
    {
     "name": "stderr",
     "output_type": "stream",
     "text": [
      "Training:  64%|██████▍   | 32/50 [00:29<00:15,  1.19Epochs/s]"
     ]
    },
    {
     "name": "stdout",
     "output_type": "stream",
     "text": [
      "0.41453288237253827\n",
      "0.41524323297871485\n"
     ]
    },
    {
     "name": "stderr",
     "output_type": "stream",
     "text": [
      "Training:  66%|██████▌   | 33/50 [00:30<00:15,  1.11Epochs/s]"
     ]
    },
    {
     "name": "stdout",
     "output_type": "stream",
     "text": [
      "TEST LOSS: 0.36929136514663696\n"
     ]
    },
    {
     "name": "stderr",
     "output_type": "stream",
     "text": [
      "Training:  68%|██████▊   | 34/50 [00:30<00:13,  1.16Epochs/s]"
     ]
    },
    {
     "name": "stdout",
     "output_type": "stream",
     "text": [
      "0.4110600235727098\n",
      "0.41528208865059746\n"
     ]
    },
    {
     "name": "stderr",
     "output_type": "stream",
     "text": [
      "Training:  70%|███████   | 35/50 [00:31<00:13,  1.08Epochs/s]"
     ]
    },
    {
     "name": "stdout",
     "output_type": "stream",
     "text": [
      "TEST LOSS: 0.36737972497940063\n"
     ]
    },
    {
     "name": "stderr",
     "output_type": "stream",
     "text": [
      "Training:  72%|███████▏  | 36/50 [00:32<00:12,  1.15Epochs/s]"
     ]
    },
    {
     "name": "stdout",
     "output_type": "stream",
     "text": [
      "0.41410251140594484\n",
      "0.4130436262488365\n"
     ]
    },
    {
     "name": "stderr",
     "output_type": "stream",
     "text": [
      "Training:  74%|███████▍  | 37/50 [00:33<00:12,  1.06Epochs/s]"
     ]
    },
    {
     "name": "stdout",
     "output_type": "stream",
     "text": [
      "TEST LOSS: 0.3710487484931946\n"
     ]
    },
    {
     "name": "stderr",
     "output_type": "stream",
     "text": [
      "Training:  76%|███████▌  | 38/50 [00:34<00:10,  1.15Epochs/s]"
     ]
    },
    {
     "name": "stdout",
     "output_type": "stream",
     "text": [
      "0.4136360298924976\n",
      "0.4115907392899195\n"
     ]
    },
    {
     "name": "stderr",
     "output_type": "stream",
     "text": [
      "Training:  78%|███████▊  | 39/50 [00:35<00:10,  1.04Epochs/s]"
     ]
    },
    {
     "name": "stdout",
     "output_type": "stream",
     "text": [
      "TEST LOSS: 0.3678775727748871\n"
     ]
    },
    {
     "name": "stderr",
     "output_type": "stream",
     "text": [
      "Training:  80%|████████  | 40/50 [00:36<00:09,  1.10Epochs/s]"
     ]
    },
    {
     "name": "stdout",
     "output_type": "stream",
     "text": [
      "0.4131659575137827\n",
      "0.41154858820968204\n"
     ]
    },
    {
     "name": "stderr",
     "output_type": "stream",
     "text": [
      "Training:  82%|████████▏ | 41/50 [00:37<00:08,  1.02Epochs/s]"
     ]
    },
    {
     "name": "stdout",
     "output_type": "stream",
     "text": [
      "TEST LOSS: 0.36927443742752075\n"
     ]
    },
    {
     "name": "stderr",
     "output_type": "stream",
     "text": [
      "Training:  84%|████████▍ | 42/50 [00:38<00:07,  1.12Epochs/s]"
     ]
    },
    {
     "name": "stdout",
     "output_type": "stream",
     "text": [
      "0.4114813390705321\n",
      "0.41030313664012485\n"
     ]
    },
    {
     "name": "stderr",
     "output_type": "stream",
     "text": [
      "Training:  86%|████████▌ | 43/50 [00:39<00:06,  1.02Epochs/s]"
     ]
    },
    {
     "name": "stdout",
     "output_type": "stream",
     "text": [
      "TEST LOSS: 0.36417651176452637\n"
     ]
    },
    {
     "name": "stderr",
     "output_type": "stream",
     "text": [
      "Training:  88%|████████▊ | 44/50 [00:40<00:05,  1.06Epochs/s]"
     ]
    },
    {
     "name": "stdout",
     "output_type": "stream",
     "text": [
      "0.4145666652255588\n",
      "0.4126334725485908\n"
     ]
    },
    {
     "name": "stderr",
     "output_type": "stream",
     "text": [
      "Training:  90%|█████████ | 45/50 [00:41<00:05,  1.02s/Epochs]"
     ]
    },
    {
     "name": "stdout",
     "output_type": "stream",
     "text": [
      "TEST LOSS: 0.3639625310897827\n"
     ]
    },
    {
     "name": "stderr",
     "output_type": "stream",
     "text": [
      "Training:  92%|█████████▏| 46/50 [00:42<00:03,  1.04Epochs/s]"
     ]
    },
    {
     "name": "stdout",
     "output_type": "stream",
     "text": [
      "0.4120071276691225\n",
      "0.4108945569727156\n"
     ]
    },
    {
     "name": "stderr",
     "output_type": "stream",
     "text": [
      "Training:  94%|█████████▍| 47/50 [00:43<00:03,  1.01s/Epochs]"
     ]
    },
    {
     "name": "stdout",
     "output_type": "stream",
     "text": [
      "TEST LOSS: 0.36161190271377563\n"
     ]
    },
    {
     "name": "stderr",
     "output_type": "stream",
     "text": [
      "Training:  96%|█████████▌| 48/50 [00:44<00:01,  1.04Epochs/s]"
     ]
    },
    {
     "name": "stdout",
     "output_type": "stream",
     "text": [
      "0.41152503922581674\n",
      "0.4097717440128326\n"
     ]
    },
    {
     "name": "stderr",
     "output_type": "stream",
     "text": [
      "Training:  98%|█████████▊| 49/50 [00:45<00:01,  1.02s/Epochs]"
     ]
    },
    {
     "name": "stdout",
     "output_type": "stream",
     "text": [
      "TEST LOSS: 0.3612804412841797\n"
     ]
    },
    {
     "name": "stderr",
     "output_type": "stream",
     "text": [
      "Training: 100%|██████████| 50/50 [00:46<00:00,  1.08Epochs/s]"
     ]
    },
    {
     "name": "stdout",
     "output_type": "stream",
     "text": [
      "0.40972086653113365\n"
     ]
    },
    {
     "name": "stderr",
     "output_type": "stream",
     "text": [
      "\n"
     ]
    }
   ],
   "source": [
    "args = {\n",
    "    'processor':         'NN',\n",
    "    'head':              'meta',\n",
    "    'num_layers':        5,\n",
    "    'input_dim':         23,\n",
    "    'batch_size':        10,\n",
    "    'hidden_dim':        18,\n",
    "    'output_dim':        3,\n",
    "    'dropout':           0,\n",
    "    'epochs':            50,\n",
    "    'opt':               'adam',\n",
    "    'opt_scheduler':     'none',\n",
    "    'opt_restart':       0,\n",
    "    'weight_decay':      5e-3,\n",
    "    'lr':                0.0005,\n",
    "    'device':            device\n",
    "}\n",
    "\n",
    "_, _, META_NN, _ = train(train_loader, test_loader, args)"
   ]
  },
  {
   "cell_type": "code",
   "execution_count": 31,
   "metadata": {},
   "outputs": [
    {
     "name": "stdout",
     "output_type": "stream",
     "text": [
      "-- Competitive ratios --\n",
      "GNN: 0.9567\n",
      "Greedy: 0.9215\n",
      "\n",
      "\n",
      "-- Competitive ratios --\n",
      "GNN: 0.9562\n",
      "Greedy: 0.9215\n",
      "\n",
      "\n",
      "-- Competitive ratios --\n",
      "GNN: 0.9498\n",
      "Greedy: 0.9215\n"
     ]
    }
   ],
   "source": [
    "seed = 0\n",
    "(m, n) = (24, 16)\n",
    "config = er_config\n",
    "\n",
    "rng = np.random.default_rng(seed)\n",
    "eval_instances = ig.sample_instances(m, n, 100, rng, **config)\n",
    "\n",
    "ratios1 = evaluate_model(\n",
    "    classify_model=META_NN,\n",
    "    eval_models=[GNN1, GNN2],\n",
    "    device=device,\n",
    "    instances=eval_instances,\n",
    "    batch_size=50,\n",
    "    rng=rng,\n",
    "    num_realizations=10\n",
    ")\n",
    "\n",
    "pp_output(ratios1, _, show_log=False)\n",
    "print()\n",
    "print()\n",
    "\n",
    "rng = np.random.default_rng(seed)\n",
    "eval_instances = ig.sample_instances(m, n, 100, rng, **config)\n",
    "\n",
    "ratios2 = evaluate_model(\n",
    "    classify_model=None,\n",
    "    eval_models=[GNN1],\n",
    "    device=device,\n",
    "    instances=eval_instances,\n",
    "    batch_size=50,\n",
    "    rng=rng,\n",
    "    num_realizations=10\n",
    ")\n",
    "\n",
    "pp_output(ratios2, _, show_log=False)\n",
    "\n",
    "print()\n",
    "print()\n",
    "\n",
    "rng = np.random.default_rng(seed)\n",
    "eval_instances = ig.sample_instances(m, n, 100, rng, **config)\n",
    "\n",
    "ratios = evaluate_model(\n",
    "    classify_model=None,\n",
    "    eval_models=[GNN2],\n",
    "    device=device,\n",
    "    instances=eval_instances,\n",
    "    batch_size=50,\n",
    "    rng=rng,\n",
    "    num_realizations=10\n",
    ")\n",
    "\n",
    "pp_output(ratios, _, show_log=False)"
   ]
  },
  {
   "cell_type": "code",
   "execution_count": 23,
   "metadata": {},
   "outputs": [
    {
     "name": "stdout",
     "output_type": "stream",
     "text": [
      "[0.25, 0.375, 0.5, 0.625, 0.75, 0.875, 1.0, 1.125, 1.25, 1.375, 1.5, 1.625, 1.75, 1.875, 2.0, 2.125, 2.25, 2.375, 2.5, 2.625, 2.75, 2.875, 3.0, 3.125, 3.25, 3.375, 3.5, 3.625, 3.75, 3.875]\n"
     ]
    }
   ],
   "source": [
    "num_trials = 500\n",
    "node_configs = [(x, 16) for x in np.arange(4, 64, 2)]\n",
    "# of nodes [20 -> 80]\n",
    "# of nodes in batch [10,000 -> 40,000]\n",
    "batch_size = 500 #[int(min(32, x + y)) for (x, y) in node_configs]\n",
    "graph_configs = [\n",
    "    # {\n",
    "    #     'graph_type': 'GM'\n",
    "    # },\n",
    "    {\n",
    "        'graph_type': 'ER',\n",
    "        'p': 0.75,\n",
    "        'weighted': True\n",
    "    },\n",
    "    {\n",
    "        'graph_type': 'BA',\n",
    "        'ba_param': 4,\n",
    "        'weighted': True\n",
    "    },\n",
    "    {\n",
    "        'graph_type': 'GEOM',\n",
    "        'threshold': 0.2,\n",
    "        'scaling': 1 / np.sqrt(2),\n",
    "    }\n",
    "]\n",
    "\n",
    "ratios = [x/y for (x,y) in node_configs]\n",
    "print(ratios)\n",
    "data = {config['graph_type']: [] for config in graph_configs}\n",
    "for graph_config in graph_configs:\n",
    "    for i, node_config in enumerate(node_configs):\n",
    "        seed = np.random.randint(0, 500000)\n",
    "        rng = np.random.default_rng(seed)\n",
    "        instances = ig.sample_instances(*node_config, num_trials, rng, **graph_config)\n",
    "\n",
    "        rng = np.random.default_rng(seed)\n",
    "        (meta_learned_ratios, _) = evaluate_model(\n",
    "            classify_model=META_GNN,\n",
    "            eval_models=[GNN1, GNN2],\n",
    "            device=device,\n",
    "            instances=instances,\n",
    "            batch_size=batch_size,\n",
    "            rng=rng,\n",
    "            num_realizations=5\n",
    "        )\n",
    "\n",
    "        rng = np.random.default_rng(seed)\n",
    "        gnn1_learned_ratios, greedy_ratios = evaluate_model(\n",
    "            classify_model=None,\n",
    "            eval_models=[GNN1],\n",
    "            device=device,\n",
    "            instances=instances,\n",
    "            batch_size=batch_size,\n",
    "            rng=rng,\n",
    "            num_realizations=5\n",
    "            )\n",
    "\n",
    "        rng = np.random.default_rng(seed)\n",
    "        gnn2_learned_ratios, _ = evaluate_model(\n",
    "            classify_model=None,\n",
    "            eval_models=[GNN2],\n",
    "            device=device,\n",
    "            instances=instances,\n",
    "            batch_size=batch_size,\n",
    "            rng=rng,\n",
    "            num_realizations=5\n",
    "            )\n",
    "\n",
    "        data[graph_config['graph_type']].append(np.array(\n",
    "            [\n",
    "                meta_learned_ratios,\n",
    "                gnn1_learned_ratios,\n",
    "                gnn2_learned_ratios,\n",
    "                greedy_ratios\n",
    "            ]\n",
    "        ))"
   ]
  },
  {
   "cell_type": "code",
   "execution_count": 24,
   "metadata": {},
   "outputs": [
    {
     "name": "stdout",
     "output_type": "stream",
     "text": [
      "ER\n"
     ]
    },
    {
     "data": {
      "image/png": "[encoded data removed]",
      "text/plain": [
       "<Figure size 576x432 with 1 Axes>"
      ]
     },
     "metadata": {
      "needs_background": "light"
     },
     "output_type": "display_data"
    },
    {
     "name": "stdout",
     "output_type": "stream",
     "text": [
      "BA\n"
     ]
    },
    {
     "data": {
      "image/png": "[encoded data removed]",
      "text/plain": [
       "<Figure size 576x432 with 1 Axes>"
      ]
     },
     "metadata": {
      "needs_background": "light"
     },
     "output_type": "display_data"
    },
    {
     "name": "stdout",
     "output_type": "stream",
     "text": [
      "GEOM\n"
     ]
    },
    {
     "data": {
      "image/png": "[encoded data removed]",
      "text/plain": [
       "<Figure size 576x432 with 1 Axes>"
      ]
     },
     "metadata": {
      "needs_background": "light"
     },
     "output_type": "display_data"
    }
   ],
   "source": [
    "import matplotlib.pyplot as plt\n",
    "for graph_type, comp_ratios in data.items():\n",
    "    greedy_avg_ratios = []\n",
    "    meta_avg_ratios = []\n",
    "    gnn1_avg_ratios = []\n",
    "    gnn2_avg_ratios = []\n",
    "    max_avg_ratios = []\n",
    "\n",
    "    for trial_ratios in comp_ratios:\n",
    "        meta_avg_ratios.append(np.array(trial_ratios[0]).mean())\n",
    "        gnn1_avg_ratios.append(np.array(trial_ratios[1]).mean())\n",
    "        gnn2_avg_ratios.append(np.array(trial_ratios[2]).mean())\n",
    "        greedy_avg_ratios.append(np.array(trial_ratios[3]).mean())\n",
    "        max_avg_ratios.append(np.array(np.max(trial_ratios[:, 1:], axis=0)).mean())\n",
    "\n",
    "    print(graph_type)\n",
    "    fig = plt.figure(figsize=(8,6))\n",
    "    plt.title(graph_type)\n",
    "    plt.plot(ratios, gnn1_avg_ratios, label='GNN1')\n",
    "    plt.plot(ratios, gnn2_avg_ratios, label='GNN2')\n",
    "    plt.plot(ratios, greedy_avg_ratios, label='Greedy')\n",
    "    plt.plot(ratios, max_avg_ratios, label='MAX')\n",
    "    plt.plot(ratios, meta_avg_ratios, label='META')\n",
    "    plt.xlabel('# online / # offline')\n",
    "    plt.ylabel('Average competitive ratio')\n",
    "    plt.legend()\n",
    "    plt.show()\n"
   ]
  },
  {
   "cell_type": "code",
   "execution_count": 30,
   "metadata": {},
   "outputs": [
    {
     "data": {
      "text/plain": [
       "array([[0.96383927, 0.90464023, 0.90173902],\n",
       "       [0.91961679, 0.96354857, 0.92220144],\n",
       "       [0.95997723, 0.96548942, 0.92763127],\n",
       "       [0.98775632, 0.9753434 , 0.91434085],\n",
       "       [0.96692595, 0.94772535, 0.95888952],\n",
       "       [0.97780104, 0.99435723, 0.98664144],\n",
       "       [0.96231671, 0.98449421, 0.88154904],\n",
       "       [0.88609351, 0.90669204, 0.95826781],\n",
       "       [0.96736736, 0.93306944, 0.90712054],\n",
       "       [0.97132846, 0.93086561, 0.95612888]])"
      ]
     },
     "execution_count": 30,
     "metadata": {},
     "output_type": "execute_result"
    }
   ],
   "source": [
    "comp = np.vstack([gnn1_learned_ratios, gnn2_learned_ratios, greedy_ratios]).T\n",
    "comp[:10]"
   ]
  },
  {
   "cell_type": "code",
   "execution_count": 32,
   "metadata": {},
   "outputs": [
    {
     "name": "stdout",
     "output_type": "stream",
     "text": [
      "0.9636939203369084\n",
      "[0.95816812 0.9499581  0.92323475]\n"
     ]
    }
   ],
   "source": [
    "print(np.max(comp[:2, :], axis=1).mean())\n",
    "print(comp.mean(axis=0))"
   ]
  },
  {
   "cell_type": "code",
   "execution_count": 29,
   "metadata": {},
   "outputs": [],
   "source": [
    "index1 = np.argmax(comp[:, 0] - comp[:, 1])\n",
    "index2 = np.argmax(comp[:, 1] - comp[:, 0])"
   ]
  },
  {
   "cell_type": "code",
   "execution_count": 30,
   "metadata": {},
   "outputs": [
    {
     "data": {
      "text/plain": [
       "array([1.        , 0.71468068, 1.        , 0.0625    , 0.0625    ,\n",
       "       0.0625    , 0.0625    , 0.0625    , 1.        , 1.        ,\n",
       "       1.        , 1.        , 1.        , 0.        , 0.32779048,\n",
       "       0.        , 0.32779048, 0.        , 0.32779048, 0.        ,\n",
       "       0.32779048, 0.        , 0.32779048])"
      ]
     },
     "execution_count": 30,
     "metadata": {},
     "output_type": "execute_result"
    }
   ],
   "source": [
    "tc._featurize(instances[index1])"
   ]
  },
  {
   "cell_type": "code",
   "execution_count": 31,
   "metadata": {},
   "outputs": [
    {
     "data": {
      "text/plain": [
       "array([1.        , 0.73644835, 1.        , 0.0625    , 0.0625    ,\n",
       "       0.0625    , 0.0625    , 0.0625    , 1.        , 1.        ,\n",
       "       1.        , 1.        , 1.        , 0.        , 0.24872903,\n",
       "       0.        , 0.24872903, 0.        , 0.24872903, 0.        ,\n",
       "       0.24872903, 0.        , 0.24872903])"
      ]
     },
     "execution_count": 31,
     "metadata": {},
     "output_type": "execute_result"
    }
   ],
   "source": [
    "tc._featurize(instances[index2])"
   ]
  },
  {
   "cell_type": "code",
   "execution_count": 32,
   "metadata": {},
   "outputs": [],
   "source": [
    "GNN2_features = []\n",
    "GNN1_features = []\n",
    "for i, boolean in enumerate(comp[:, 1] > comp[:, 0]):\n",
    "    if boolean:\n",
    "        GNN2_features.append(tc._featurize(instances[i]))\n",
    "    else:\n",
    "        GNN1_features.append(tc._featurize(instances[i]))\n",
    "\n",
    "out1 = np.vstack(GNN1_features)\n",
    "out2 = np.vstack(GNN2_features)\n"
   ]
  },
  {
   "cell_type": "code",
   "execution_count": 33,
   "metadata": {},
   "outputs": [
    {
     "data": {
      "text/plain": [
       "array([1.        , 0.74946301, 1.        , 0.0625    , 0.0625    ,\n",
       "       0.0625    , 0.0625    , 0.0625    , 1.        , 1.        ,\n",
       "       1.        , 1.        , 1.        , 0.        , 0.27431988,\n",
       "       0.        , 0.27431988, 0.        , 0.27431988, 0.        ,\n",
       "       0.27431988, 0.        , 0.27431988])"
      ]
     },
     "execution_count": 33,
     "metadata": {},
     "output_type": "execute_result"
    }
   ],
   "source": [
    "out1.mean(axis=0)"
   ]
  },
  {
   "cell_type": "code",
   "execution_count": 34,
   "metadata": {},
   "outputs": [
    {
     "data": {
      "text/plain": [
       "array([1.        , 0.73912844, 1.        , 0.0625    , 0.0625    ,\n",
       "       0.0625    , 0.0625    , 0.0625    , 1.        , 1.        ,\n",
       "       1.        , 1.        , 1.        , 0.        , 0.22597329,\n",
       "       0.        , 0.22597329, 0.        , 0.22597329, 0.        ,\n",
       "       0.22597329, 0.        , 0.22597329])"
      ]
     },
     "execution_count": 34,
     "metadata": {},
     "output_type": "execute_result"
    }
   ],
   "source": [
    "out2.mean(axis=0)"
   ]
  }
 ],
 "metadata": {
  "kernelspec": {
   "display_name": "Python 3",
   "language": "python",
   "name": "python3"
  },
  "language_info": {
   "codemirror_mode": {
    "name": "ipython",
    "version": 3
   },
   "file_extension": ".py",
   "mimetype": "text/x-python",
   "name": "python",
   "nbconvert_exporter": "python",
   "pygments_lexer": "ipython3",
   "version": "3.10.6"
  },
  "orig_nbformat": 4
 },
 "nbformat": 4,
 "nbformat_minor": 2
}
