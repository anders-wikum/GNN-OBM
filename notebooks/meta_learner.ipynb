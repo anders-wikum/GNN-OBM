{
 "cells": [
  {
   "cell_type": "code",
   "execution_count": 1,
   "metadata": {},
   "outputs": [],
   "source": [
    "import torch\n",
    "import numpy as np\n",
    "import os\n",
    "os.chdir('..')\n",
    "\n",
    "import torch_converter as tc\n",
    "import instance_generator as ig\n",
    "from torch_geometric.loader import DataLoader\n",
    "from gnn_library.util import train, save, load\n",
    "from util import NumpyDataset, Dataset\n",
    "from evaluate import evaluate_model, pp_output\n",
    "import evaluate as ev\n",
    "from gnn_library.OBM_greedy import OBM_Greedy\n",
    "#import evaluate as ev\n",
    "\n",
    "%load_ext autoreload\n",
    "%autoreload 2"
   ]
  },
  {
   "cell_type": "code",
   "execution_count": 2,
   "metadata": {},
   "outputs": [
    {
     "name": "stdout",
     "output_type": "stream",
     "text": [
      "PyTorch has version 2.0.0+cu117\n",
      "Using device: cuda:2\n"
     ]
    }
   ],
   "source": [
    "device = torch.device('cuda:2' if torch.cuda.is_available() else 'cpu')\n",
    "print(\"PyTorch has version {}\".format(torch.__version__))\n",
    "print('Using device:', device)"
   ]
  },
  {
   "cell_type": "code",
   "execution_count": 3,
   "metadata": {},
   "outputs": [],
   "source": [
    "GNN1, args1 = load('GNN1', device)\n",
    "GNN2, args2 = load('GNN2', device)\n",
    "GREEDY = OBM_Greedy()"
   ]
  },
  {
   "cell_type": "code",
   "execution_count": 22,
   "metadata": {},
   "outputs": [],
   "source": [
    "er_config = {\n",
    "    'graph_type': 'ER',\n",
    "    'p': 1,\n",
    "    'weighted': True\n",
    "}\n",
    "ba_config = {\n",
    "    'graph_type': 'BA',\n",
    "    'ba_param': 4,\n",
    "    'weighted': False\n",
    "}\n",
    "geom_config = {\n",
    "    'graph_type': 'GEOM',\n",
    "    'threshold': 0.2,\n",
    "    'scaling': 1 / np.sqrt(2)\n",
    "}\n",
    "\n",
    "avg_ratios = []\n",
    "epsilons = [0, 0.05, 0.1, 0.15, 0.2, 0.25, 0.3, 0.35, 0.4, 0.45, 0.5]\n",
    "for epsilon in epsilons:\n",
    "    rng = np.random.default_rng()\n",
    "\n",
    "    instances = [\n",
    "        # *ig.sample_instances(6, 10, 100, rng, **er_config),\n",
    "        # *ig.sample_instances(6, 10, 100, rng, **ba_config),\n",
    "        # # *ig.sample_instances(6, 10, 100, rng, **geom_config),\n",
    "        # *ig.sample_instances(8, 8, 100, rng, **er_config),\n",
    "        # *ig.sample_instances(8, 8, 100, rng, **ba_config),\n",
    "        # *ig.sample_instances(8, 8, 100, rng, **geom_config),\n",
    "        *ig.sample_instances(10, 6, 100, rng, **er_config),\n",
    "        *ig.sample_instances(10, 6, 100, rng, **ba_config),\n",
    "        *ig.sample_instances(10, 6, 100, rng, **geom_config)\n",
    "    ]\n",
    "\n",
    "    ratios = ev.evaluate_shakey_opt(\n",
    "        epsilon=epsilon,\n",
    "        base_models=[GNN1, GNN2, GREEDY],\n",
    "        instances=instances,\n",
    "        batch_size=50,\n",
    "        rng=rng,\n",
    "        num_realizations=10\n",
    "    )\n",
    "\n",
    "    avg_ratios.append(np.mean(ratios[0]).round(4))\n",
    "\n",
    "    "
   ]
  },
  {
   "cell_type": "code",
   "execution_count": 23,
   "metadata": {},
   "outputs": [
    {
     "data": {
      "text/plain": [
       "Text(0.5, 1.0, '(m, n) = (10, 6)')"
      ]
     },
     "execution_count": 23,
     "metadata": {},
     "output_type": "execute_result"
    },
    {
     "data": {
      "image/png": "[encoded data removed]",
      "text/plain": [
       "<Figure size 576x432 with 1 Axes>"
      ]
     },
     "metadata": {
      "needs_background": "light"
     },
     "output_type": "display_data"
    }
   ],
   "source": [
    "import matplotlib.pyplot as plt\n",
    "fig = plt.figure(figsize=(8, 6))\n",
    "plt.plot(epsilons, avg_ratios)\n",
    "plt.xlabel('Error rate')\n",
    "plt.ylabel('Average competitive ratio')\n",
    "plt.title('(m, n) = (10, 6)')"
   ]
  },
  {
   "cell_type": "markdown",
   "metadata": {},
   "source": [
    "### I. Meta GNN training/evaluation"
   ]
  },
  {
   "cell_type": "code",
   "execution_count": 50,
   "metadata": {},
   "outputs": [],
   "source": [
    "args = {\n",
    "    'processor':         'TEST',\n",
    "    'head':              'meta',\n",
    "    'num_layers':        2,\n",
    "    'num_mlp_layers':    2,\n",
    "    'aggr':              'max',\n",
    "    'batch_size':        12,\n",
    "    'node_feature_dim':  4,\n",
    "    'edge_feature_dim':  1,\n",
    "    'graph_feature_dim': 2,\n",
    "    'hidden_dim':        64,\n",
    "    'output_dim':        3,\n",
    "    'dropout':           0.25,\n",
    "    'epochs':            25,\n",
    "    'opt':               'adam',\n",
    "    'opt_scheduler':     'none',\n",
    "    'opt_restart':       0,\n",
    "    'weight_decay':      5e-3,\n",
    "    'lr':                0.0001,\n",
    "    'device':            device\n",
    "}\n",
    "\n",
    "train_num = 25; test_num = 5\n",
    "\n",
    "er_config = {\n",
    "    'graph_type': 'ER',\n",
    "    'p': 1,\n",
    "    'weighted': True\n",
    "}\n",
    "ba_config = {\n",
    "    'graph_type': 'BA',\n",
    "    'ba_param': 4,\n",
    "    'weighted': False\n",
    "}\n",
    "geom_config = {\n",
    "    'graph_type': 'GEOM',\n",
    "    'threshold': 0.2,\n",
    "    'scaling': 1 / np.sqrt(2)\n",
    "}\n",
    "\n",
    "rng = np.random.default_rng()\n",
    "\n",
    "train_instances = [\n",
    "    *ig.sample_instances(6, 10, train_num, rng, **er_config),\n",
    "    *ig.sample_instances(6, 10, train_num, rng, **ba_config),\n",
    "    *ig.sample_instances(6, 10, train_num, rng, **geom_config),\n",
    "    *ig.sample_instances(8, 8, train_num, rng, **er_config),\n",
    "    *ig.sample_instances(8, 8, train_num, rng, **ba_config),\n",
    "    *ig.sample_instances(8, 8, train_num, rng, **geom_config),\n",
    "    *ig.sample_instances(10, 6, train_num, rng, **er_config),\n",
    "    *ig.sample_instances(10, 6, train_num, rng, **ba_config),\n",
    "    *ig.sample_instances(10, 6, train_num, rng, **geom_config)\n",
    "]\n",
    "\n",
    "\n",
    "test_instances = [\n",
    "    *ig.sample_instances(6, 10, test_num, rng, **er_config),\n",
    "    *ig.sample_instances(6, 10, test_num, rng, **ba_config),\n",
    "    *ig.sample_instances(6, 10, test_num, rng, **geom_config),\n",
    "    *ig.sample_instances(8, 8, test_num, rng, **er_config),\n",
    "    *ig.sample_instances(8, 8, test_num, rng, **ba_config),\n",
    "    *ig.sample_instances(8, 8, test_num, rng, **geom_config),\n",
    "    *ig.sample_instances(10, 6, test_num, rng, **er_config),\n",
    "    *ig.sample_instances(10, 6, test_num, rng, **ba_config),\n",
    "    *ig.sample_instances(10, 6, test_num, rng, **geom_config)\n",
    "]\n",
    "\n",
    "train_data = Dataset(\n",
    "    tc._instances_to_train_samples(\n",
    "        instances=train_instances,\n",
    "        head=args['head'],\n",
    "        meta_model_type='gnn',\n",
    "        base_models=[GNN1, GREEDY, GNN2]\n",
    "    )\n",
    ")\n",
    "\n",
    "test_data = Dataset(\n",
    "    tc._instances_to_train_samples(\n",
    "        instances=test_instances,\n",
    "        head=args['head'],\n",
    "        meta_model_type='gnn',\n",
    "        base_models=[GNN1, GREEDY, GNN2]\n",
    "    )\n",
    ")\n",
    "\n",
    "train_loader = DataLoader(\n",
    "    train_data,\n",
    "    batch_size=args['batch_size'],\n",
    "    shuffle=True,\n",
    "    num_workers=4\n",
    ")\n",
    "\n",
    "test_loader = DataLoader(\n",
    "    test_data,\n",
    "    batch_size=args['batch_size'],\n",
    "    shuffle=True,\n",
    "    num_workers=4\n",
    ")"
   ]
  },
  {
   "cell_type": "code",
   "execution_count": 57,
   "metadata": {},
   "outputs": [],
   "source": [
    "args = {\n",
    "    'processor':         'TEST',\n",
    "    'head':              'meta',\n",
    "    'num_layers':        2,\n",
    "    'aggr':              'max',\n",
    "    'batch_size':        12,\n",
    "    'node_feature_dim':  4,\n",
    "    'edge_feature_dim':  1,\n",
    "    'graph_feature_dim': 2,\n",
    "    'hidden_dim':        1,\n",
    "    'output_dim':        3,\n",
    "    'dropout':           0,\n",
    "    'epochs':            50,\n",
    "    'opt':               'adam',\n",
    "    'opt_scheduler':     'none',\n",
    "    'opt_restart':       0,\n",
    "    'weight_decay':      5e-3,\n",
    "    'lr':                0.01,\n",
    "    'device':            device\n",
    "}"
   ]
  },
  {
   "cell_type": "code",
   "execution_count": 58,
   "metadata": {},
   "outputs": [
    {
     "name": "stdout",
     "output_type": "stream",
     "text": [
      "tensor([613., 512., 525.])\n"
     ]
    }
   ],
   "source": [
    "sum = torch.zeros(3)\n",
    "for data in train_data:\n",
    "    sum += data.hint\n",
    "\n",
    "print(sum)"
   ]
  },
  {
   "cell_type": "code",
   "execution_count": 59,
   "metadata": {},
   "outputs": [
    {
     "name": "stderr",
     "output_type": "stream",
     "text": [
      "Training:   0%|          | 0/50 [00:00<?, ?Epochs/s]"
     ]
    },
    {
     "name": "stdout",
     "output_type": "stream",
     "text": [
      "1.1000177166678689\n"
     ]
    },
    {
     "name": "stderr",
     "output_type": "stream",
     "text": [
      "Training:   2%|▏         | 1/50 [00:03<03:08,  3.84s/Epochs]"
     ]
    },
    {
     "name": "stdout",
     "output_type": "stream",
     "text": [
      "TEST ACCURACY: 0.41566264629364014\n",
      "TEST LOSS: 1.0826165676116943\n"
     ]
    },
    {
     "name": "stderr",
     "output_type": "stream",
     "text": [
      "Training:   4%|▍         | 2/50 [00:06<02:43,  3.40s/Epochs]"
     ]
    },
    {
     "name": "stdout",
     "output_type": "stream",
     "text": [
      "1.0922668795152144\n",
      "1.0894093764911998\n"
     ]
    },
    {
     "name": "stderr",
     "output_type": "stream",
     "text": [
      "Training:   6%|▌         | 3/50 [00:11<02:58,  3.80s/Epochs]"
     ]
    },
    {
     "name": "stdout",
     "output_type": "stream",
     "text": [
      "TEST ACCURACY: 0.3765060007572174\n",
      "TEST LOSS: 1.0916435718536377\n"
     ]
    },
    {
     "name": "stderr",
     "output_type": "stream",
     "text": [
      "Training:   8%|▊         | 4/50 [00:14<02:39,  3.46s/Epochs]"
     ]
    },
    {
     "name": "stdout",
     "output_type": "stream",
     "text": [
      "1.090281869281422\n",
      "1.0899225052920254\n"
     ]
    },
    {
     "name": "stderr",
     "output_type": "stream",
     "text": [
      "Training:  10%|█         | 5/50 [00:17<02:39,  3.54s/Epochs]"
     ]
    },
    {
     "name": "stdout",
     "output_type": "stream",
     "text": [
      "TEST ACCURACY: 0.3885542154312134\n",
      "TEST LOSS: 1.0819172859191895\n"
     ]
    },
    {
     "name": "stderr",
     "output_type": "stream",
     "text": [
      "Training:  12%|█▏        | 6/50 [00:20<02:28,  3.37s/Epochs]"
     ]
    },
    {
     "name": "stdout",
     "output_type": "stream",
     "text": [
      "1.0901329209587791\n",
      "1.0896850343184037\n"
     ]
    },
    {
     "name": "stderr",
     "output_type": "stream",
     "text": [
      "Training:  14%|█▍        | 7/50 [00:24<02:30,  3.49s/Epochs]"
     ]
    },
    {
     "name": "stdout",
     "output_type": "stream",
     "text": [
      "TEST ACCURACY: 0.3825300931930542\n",
      "TEST LOSS: 1.0804014205932617\n"
     ]
    },
    {
     "name": "stderr",
     "output_type": "stream",
     "text": [
      "Training:  16%|█▌        | 8/50 [00:27<02:19,  3.33s/Epochs]"
     ]
    },
    {
     "name": "stdout",
     "output_type": "stream",
     "text": [
      "1.0895981333472513\n",
      "1.0901567615162242\n"
     ]
    },
    {
     "name": "stderr",
     "output_type": "stream",
     "text": [
      "Training:  18%|█▊        | 9/50 [00:31<02:22,  3.48s/Epochs]"
     ]
    },
    {
     "name": "stdout",
     "output_type": "stream",
     "text": [
      "TEST ACCURACY: 0.3885542154312134\n",
      "TEST LOSS: 1.0806037187576294\n"
     ]
    },
    {
     "name": "stderr",
     "output_type": "stream",
     "text": [
      "Training:  18%|█▊        | 9/50 [00:33<02:30,  3.68s/Epochs]\n"
     ]
    },
    {
     "ename": "KeyboardInterrupt",
     "evalue": "",
     "output_type": "error",
     "traceback": [
      "\u001b[0;31m---------------------------------------------------------------------------\u001b[0m",
      "\u001b[0;31mKeyboardInterrupt\u001b[0m                         Traceback (most recent call last)",
      "\u001b[1;32m/home/wikum/GNN-OBM/notebooks/meta_learner.ipynb Cell 10\u001b[0m line \u001b[0;36m<cell line: 1>\u001b[0;34m()\u001b[0m\n\u001b[0;32m----> <a href='vscode-notebook-cell://ssh-remote%2Bsoal-7.stanford.edu/home/wikum/GNN-OBM/notebooks/meta_learner.ipynb#X11sdnNjb2RlLXJlbW90ZQ%3D%3D?line=0'>1</a>\u001b[0m _, _, META_GNN, _ \u001b[39m=\u001b[39m train(train_loader, test_loader, args)\n",
      "File \u001b[0;32m~/GNN-OBM/gnn_library/util.py:119\u001b[0m, in \u001b[0;36mtrain\u001b[0;34m(train_loader, test_loader, args)\u001b[0m\n\u001b[1;32m    116\u001b[0m loss_fn \u001b[39m=\u001b[39m _get_loss(args)\n\u001b[1;32m    117\u001b[0m _, opt \u001b[39m=\u001b[39m build_optimizer(args, model\u001b[39m.\u001b[39mparameters())\n\u001b[0;32m--> 119\u001b[0m \u001b[39mreturn\u001b[39;00m _train(\n\u001b[1;32m    120\u001b[0m     model\u001b[39m=\u001b[39;49mmodel,\n\u001b[1;32m    121\u001b[0m     loss_fn\u001b[39m=\u001b[39;49mloss_fn,\n\u001b[1;32m    122\u001b[0m     train_loader\u001b[39m=\u001b[39;49mtrain_loader,\n\u001b[1;32m    123\u001b[0m     test_loader\u001b[39m=\u001b[39;49mtest_loader,\n\u001b[1;32m    124\u001b[0m     epochs\u001b[39m=\u001b[39;49margs\u001b[39m.\u001b[39;49mepochs,\n\u001b[1;32m    125\u001b[0m     opt\u001b[39m=\u001b[39;49mopt,\n\u001b[1;32m    126\u001b[0m     device\u001b[39m=\u001b[39;49margs\u001b[39m.\u001b[39;49mdevice\n\u001b[1;32m    127\u001b[0m )\n",
      "File \u001b[0;32m~/GNN-OBM/gnn_library/util.py:164\u001b[0m, in \u001b[0;36m_train\u001b[0;34m(model, loss_fn, train_loader, test_loader, epochs, opt, device)\u001b[0m\n\u001b[1;32m    161\u001b[0m total_loss \u001b[39m=\u001b[39m \u001b[39m0\u001b[39m\n\u001b[1;32m    162\u001b[0m model\u001b[39m.\u001b[39mtrain()\n\u001b[0;32m--> 164\u001b[0m \u001b[39mfor\u001b[39;00m batch \u001b[39min\u001b[39;00m train_loader:\n\u001b[1;32m    165\u001b[0m     \u001b[39mif\u001b[39;00m \u001b[39mtype\u001b[39m(batch) \u001b[39mis\u001b[39;00m \u001b[39mlist\u001b[39m:\n\u001b[1;32m    166\u001b[0m         batch \u001b[39m=\u001b[39m (batch[\u001b[39m0\u001b[39m]\u001b[39m.\u001b[39mto(device), batch[\u001b[39m1\u001b[39m]\u001b[39m.\u001b[39mto(device))\n",
      "File \u001b[0;32m~/.local/lib/python3.10/site-packages/torch/utils/data/dataloader.py:634\u001b[0m, in \u001b[0;36m_BaseDataLoaderIter.__next__\u001b[0;34m(self)\u001b[0m\n\u001b[1;32m    631\u001b[0m \u001b[39mif\u001b[39;00m \u001b[39mself\u001b[39m\u001b[39m.\u001b[39m_sampler_iter \u001b[39mis\u001b[39;00m \u001b[39mNone\u001b[39;00m:\n\u001b[1;32m    632\u001b[0m     \u001b[39m# TODO(https://github.com/pytorch/pytorch/issues/76750)\u001b[39;00m\n\u001b[1;32m    633\u001b[0m     \u001b[39mself\u001b[39m\u001b[39m.\u001b[39m_reset()  \u001b[39m# type: ignore[call-arg]\u001b[39;00m\n\u001b[0;32m--> 634\u001b[0m data \u001b[39m=\u001b[39m \u001b[39mself\u001b[39;49m\u001b[39m.\u001b[39;49m_next_data()\n\u001b[1;32m    635\u001b[0m \u001b[39mself\u001b[39m\u001b[39m.\u001b[39m_num_yielded \u001b[39m+\u001b[39m\u001b[39m=\u001b[39m \u001b[39m1\u001b[39m\n\u001b[1;32m    636\u001b[0m \u001b[39mif\u001b[39;00m \u001b[39mself\u001b[39m\u001b[39m.\u001b[39m_dataset_kind \u001b[39m==\u001b[39m _DatasetKind\u001b[39m.\u001b[39mIterable \u001b[39mand\u001b[39;00m \\\n\u001b[1;32m    637\u001b[0m         \u001b[39mself\u001b[39m\u001b[39m.\u001b[39m_IterableDataset_len_called \u001b[39mis\u001b[39;00m \u001b[39mnot\u001b[39;00m \u001b[39mNone\u001b[39;00m \u001b[39mand\u001b[39;00m \\\n\u001b[1;32m    638\u001b[0m         \u001b[39mself\u001b[39m\u001b[39m.\u001b[39m_num_yielded \u001b[39m>\u001b[39m \u001b[39mself\u001b[39m\u001b[39m.\u001b[39m_IterableDataset_len_called:\n",
      "File \u001b[0;32m~/.local/lib/python3.10/site-packages/torch/utils/data/dataloader.py:1329\u001b[0m, in \u001b[0;36m_MultiProcessingDataLoaderIter._next_data\u001b[0;34m(self)\u001b[0m\n\u001b[1;32m   1326\u001b[0m     \u001b[39mreturn\u001b[39;00m \u001b[39mself\u001b[39m\u001b[39m.\u001b[39m_process_data(data)\n\u001b[1;32m   1328\u001b[0m \u001b[39massert\u001b[39;00m \u001b[39mnot\u001b[39;00m \u001b[39mself\u001b[39m\u001b[39m.\u001b[39m_shutdown \u001b[39mand\u001b[39;00m \u001b[39mself\u001b[39m\u001b[39m.\u001b[39m_tasks_outstanding \u001b[39m>\u001b[39m \u001b[39m0\u001b[39m\n\u001b[0;32m-> 1329\u001b[0m idx, data \u001b[39m=\u001b[39m \u001b[39mself\u001b[39;49m\u001b[39m.\u001b[39;49m_get_data()\n\u001b[1;32m   1330\u001b[0m \u001b[39mself\u001b[39m\u001b[39m.\u001b[39m_tasks_outstanding \u001b[39m-\u001b[39m\u001b[39m=\u001b[39m \u001b[39m1\u001b[39m\n\u001b[1;32m   1331\u001b[0m \u001b[39mif\u001b[39;00m \u001b[39mself\u001b[39m\u001b[39m.\u001b[39m_dataset_kind \u001b[39m==\u001b[39m _DatasetKind\u001b[39m.\u001b[39mIterable:\n\u001b[1;32m   1332\u001b[0m     \u001b[39m# Check for _IterableDatasetStopIteration\u001b[39;00m\n",
      "File \u001b[0;32m~/.local/lib/python3.10/site-packages/torch/utils/data/dataloader.py:1295\u001b[0m, in \u001b[0;36m_MultiProcessingDataLoaderIter._get_data\u001b[0;34m(self)\u001b[0m\n\u001b[1;32m   1291\u001b[0m     \u001b[39m# In this case, `self._data_queue` is a `queue.Queue`,. But we don't\u001b[39;00m\n\u001b[1;32m   1292\u001b[0m     \u001b[39m# need to call `.task_done()` because we don't use `.join()`.\u001b[39;00m\n\u001b[1;32m   1293\u001b[0m \u001b[39melse\u001b[39;00m:\n\u001b[1;32m   1294\u001b[0m     \u001b[39mwhile\u001b[39;00m \u001b[39mTrue\u001b[39;00m:\n\u001b[0;32m-> 1295\u001b[0m         success, data \u001b[39m=\u001b[39m \u001b[39mself\u001b[39;49m\u001b[39m.\u001b[39;49m_try_get_data()\n\u001b[1;32m   1296\u001b[0m         \u001b[39mif\u001b[39;00m success:\n\u001b[1;32m   1297\u001b[0m             \u001b[39mreturn\u001b[39;00m data\n",
      "File \u001b[0;32m~/.local/lib/python3.10/site-packages/torch/utils/data/dataloader.py:1133\u001b[0m, in \u001b[0;36m_MultiProcessingDataLoaderIter._try_get_data\u001b[0;34m(self, timeout)\u001b[0m\n\u001b[1;32m   1120\u001b[0m \u001b[39mdef\u001b[39;00m \u001b[39m_try_get_data\u001b[39m(\u001b[39mself\u001b[39m, timeout\u001b[39m=\u001b[39m_utils\u001b[39m.\u001b[39mMP_STATUS_CHECK_INTERVAL):\n\u001b[1;32m   1121\u001b[0m     \u001b[39m# Tries to fetch data from `self._data_queue` once for a given timeout.\u001b[39;00m\n\u001b[1;32m   1122\u001b[0m     \u001b[39m# This can also be used as inner loop of fetching without timeout, with\u001b[39;00m\n\u001b[0;32m   (...)\u001b[0m\n\u001b[1;32m   1130\u001b[0m     \u001b[39m# Returns a 2-tuple:\u001b[39;00m\n\u001b[1;32m   1131\u001b[0m     \u001b[39m#   (bool: whether successfully get data, any: data if successful else None)\u001b[39;00m\n\u001b[1;32m   1132\u001b[0m     \u001b[39mtry\u001b[39;00m:\n\u001b[0;32m-> 1133\u001b[0m         data \u001b[39m=\u001b[39m \u001b[39mself\u001b[39;49m\u001b[39m.\u001b[39;49m_data_queue\u001b[39m.\u001b[39;49mget(timeout\u001b[39m=\u001b[39;49mtimeout)\n\u001b[1;32m   1134\u001b[0m         \u001b[39mreturn\u001b[39;00m (\u001b[39mTrue\u001b[39;00m, data)\n\u001b[1;32m   1135\u001b[0m     \u001b[39mexcept\u001b[39;00m \u001b[39mException\u001b[39;00m \u001b[39mas\u001b[39;00m e:\n\u001b[1;32m   1136\u001b[0m         \u001b[39m# At timeout and error, we manually check whether any worker has\u001b[39;00m\n\u001b[1;32m   1137\u001b[0m         \u001b[39m# failed. Note that this is the only mechanism for Windows to detect\u001b[39;00m\n\u001b[1;32m   1138\u001b[0m         \u001b[39m# worker failures.\u001b[39;00m\n",
      "File \u001b[0;32m/usr/lib/python3.10/multiprocessing/queues.py:122\u001b[0m, in \u001b[0;36mQueue.get\u001b[0;34m(self, block, timeout)\u001b[0m\n\u001b[1;32m    120\u001b[0m         \u001b[39mself\u001b[39m\u001b[39m.\u001b[39m_rlock\u001b[39m.\u001b[39mrelease()\n\u001b[1;32m    121\u001b[0m \u001b[39m# unserialize the data after having released the lock\u001b[39;00m\n\u001b[0;32m--> 122\u001b[0m \u001b[39mreturn\u001b[39;00m _ForkingPickler\u001b[39m.\u001b[39;49mloads(res)\n",
      "File \u001b[0;32m~/.local/lib/python3.10/site-packages/torch/multiprocessing/reductions.py:307\u001b[0m, in \u001b[0;36mrebuild_storage_fd\u001b[0;34m(cls, df, size)\u001b[0m\n\u001b[1;32m    306\u001b[0m \u001b[39mdef\u001b[39;00m \u001b[39mrebuild_storage_fd\u001b[39m(\u001b[39mcls\u001b[39m, df, size):\n\u001b[0;32m--> 307\u001b[0m     fd \u001b[39m=\u001b[39m df\u001b[39m.\u001b[39;49mdetach()\n\u001b[1;32m    308\u001b[0m     \u001b[39mtry\u001b[39;00m:\n\u001b[1;32m    309\u001b[0m         storage \u001b[39m=\u001b[39m storage_from_cache(\u001b[39mcls\u001b[39m, fd_id(fd))\n",
      "File \u001b[0;32m/usr/lib/python3.10/multiprocessing/resource_sharer.py:57\u001b[0m, in \u001b[0;36mDupFd.detach\u001b[0;34m(self)\u001b[0m\n\u001b[1;32m     55\u001b[0m \u001b[39mdef\u001b[39;00m \u001b[39mdetach\u001b[39m(\u001b[39mself\u001b[39m):\n\u001b[1;32m     56\u001b[0m     \u001b[39m'''Get the fd.  This should only be called once.'''\u001b[39;00m\n\u001b[0;32m---> 57\u001b[0m     \u001b[39mwith\u001b[39;00m _resource_sharer\u001b[39m.\u001b[39;49mget_connection(\u001b[39mself\u001b[39;49m\u001b[39m.\u001b[39;49m_id) \u001b[39mas\u001b[39;00m conn:\n\u001b[1;32m     58\u001b[0m         \u001b[39mreturn\u001b[39;00m reduction\u001b[39m.\u001b[39mrecv_handle(conn)\n",
      "File \u001b[0;32m/usr/lib/python3.10/multiprocessing/resource_sharer.py:86\u001b[0m, in \u001b[0;36m_ResourceSharer.get_connection\u001b[0;34m(ident)\u001b[0m\n\u001b[1;32m     84\u001b[0m \u001b[39mfrom\u001b[39;00m \u001b[39m.\u001b[39;00m\u001b[39mconnection\u001b[39;00m \u001b[39mimport\u001b[39;00m Client\n\u001b[1;32m     85\u001b[0m address, key \u001b[39m=\u001b[39m ident\n\u001b[0;32m---> 86\u001b[0m c \u001b[39m=\u001b[39m Client(address, authkey\u001b[39m=\u001b[39;49mprocess\u001b[39m.\u001b[39;49mcurrent_process()\u001b[39m.\u001b[39;49mauthkey)\n\u001b[1;32m     87\u001b[0m c\u001b[39m.\u001b[39msend((key, os\u001b[39m.\u001b[39mgetpid()))\n\u001b[1;32m     88\u001b[0m \u001b[39mreturn\u001b[39;00m c\n",
      "File \u001b[0;32m/usr/lib/python3.10/multiprocessing/connection.py:509\u001b[0m, in \u001b[0;36mClient\u001b[0;34m(address, family, authkey)\u001b[0m\n\u001b[1;32m    507\u001b[0m \u001b[39mif\u001b[39;00m authkey \u001b[39mis\u001b[39;00m \u001b[39mnot\u001b[39;00m \u001b[39mNone\u001b[39;00m:\n\u001b[1;32m    508\u001b[0m     answer_challenge(c, authkey)\n\u001b[0;32m--> 509\u001b[0m     deliver_challenge(c, authkey)\n\u001b[1;32m    511\u001b[0m \u001b[39mreturn\u001b[39;00m c\n",
      "File \u001b[0;32m/usr/lib/python3.10/multiprocessing/connection.py:740\u001b[0m, in \u001b[0;36mdeliver_challenge\u001b[0;34m(connection, authkey)\u001b[0m\n\u001b[1;32m    738\u001b[0m connection\u001b[39m.\u001b[39msend_bytes(CHALLENGE \u001b[39m+\u001b[39m message)\n\u001b[1;32m    739\u001b[0m digest \u001b[39m=\u001b[39m hmac\u001b[39m.\u001b[39mnew(authkey, message, \u001b[39m'\u001b[39m\u001b[39mmd5\u001b[39m\u001b[39m'\u001b[39m)\u001b[39m.\u001b[39mdigest()\n\u001b[0;32m--> 740\u001b[0m response \u001b[39m=\u001b[39m connection\u001b[39m.\u001b[39;49mrecv_bytes(\u001b[39m256\u001b[39;49m)        \u001b[39m# reject large message\u001b[39;00m\n\u001b[1;32m    741\u001b[0m \u001b[39mif\u001b[39;00m response \u001b[39m==\u001b[39m digest:\n\u001b[1;32m    742\u001b[0m     connection\u001b[39m.\u001b[39msend_bytes(WELCOME)\n",
      "File \u001b[0;32m/usr/lib/python3.10/multiprocessing/connection.py:216\u001b[0m, in \u001b[0;36m_ConnectionBase.recv_bytes\u001b[0;34m(self, maxlength)\u001b[0m\n\u001b[1;32m    214\u001b[0m \u001b[39mif\u001b[39;00m maxlength \u001b[39mis\u001b[39;00m \u001b[39mnot\u001b[39;00m \u001b[39mNone\u001b[39;00m \u001b[39mand\u001b[39;00m maxlength \u001b[39m<\u001b[39m \u001b[39m0\u001b[39m:\n\u001b[1;32m    215\u001b[0m     \u001b[39mraise\u001b[39;00m \u001b[39mValueError\u001b[39;00m(\u001b[39m\"\u001b[39m\u001b[39mnegative maxlength\u001b[39m\u001b[39m\"\u001b[39m)\n\u001b[0;32m--> 216\u001b[0m buf \u001b[39m=\u001b[39m \u001b[39mself\u001b[39;49m\u001b[39m.\u001b[39;49m_recv_bytes(maxlength)\n\u001b[1;32m    217\u001b[0m \u001b[39mif\u001b[39;00m buf \u001b[39mis\u001b[39;00m \u001b[39mNone\u001b[39;00m:\n\u001b[1;32m    218\u001b[0m     \u001b[39mself\u001b[39m\u001b[39m.\u001b[39m_bad_message_length()\n",
      "File \u001b[0;32m/usr/lib/python3.10/multiprocessing/connection.py:414\u001b[0m, in \u001b[0;36mConnection._recv_bytes\u001b[0;34m(self, maxsize)\u001b[0m\n\u001b[1;32m    413\u001b[0m \u001b[39mdef\u001b[39;00m \u001b[39m_recv_bytes\u001b[39m(\u001b[39mself\u001b[39m, maxsize\u001b[39m=\u001b[39m\u001b[39mNone\u001b[39;00m):\n\u001b[0;32m--> 414\u001b[0m     buf \u001b[39m=\u001b[39m \u001b[39mself\u001b[39;49m\u001b[39m.\u001b[39;49m_recv(\u001b[39m4\u001b[39;49m)\n\u001b[1;32m    415\u001b[0m     size, \u001b[39m=\u001b[39m struct\u001b[39m.\u001b[39munpack(\u001b[39m\"\u001b[39m\u001b[39m!i\u001b[39m\u001b[39m\"\u001b[39m, buf\u001b[39m.\u001b[39mgetvalue())\n\u001b[1;32m    416\u001b[0m     \u001b[39mif\u001b[39;00m size \u001b[39m==\u001b[39m \u001b[39m-\u001b[39m\u001b[39m1\u001b[39m:\n",
      "File \u001b[0;32m/usr/lib/python3.10/multiprocessing/connection.py:379\u001b[0m, in \u001b[0;36mConnection._recv\u001b[0;34m(self, size, read)\u001b[0m\n\u001b[1;32m    377\u001b[0m remaining \u001b[39m=\u001b[39m size\n\u001b[1;32m    378\u001b[0m \u001b[39mwhile\u001b[39;00m remaining \u001b[39m>\u001b[39m \u001b[39m0\u001b[39m:\n\u001b[0;32m--> 379\u001b[0m     chunk \u001b[39m=\u001b[39m read(handle, remaining)\n\u001b[1;32m    380\u001b[0m     n \u001b[39m=\u001b[39m \u001b[39mlen\u001b[39m(chunk)\n\u001b[1;32m    381\u001b[0m     \u001b[39mif\u001b[39;00m n \u001b[39m==\u001b[39m \u001b[39m0\u001b[39m:\n",
      "\u001b[0;31mKeyboardInterrupt\u001b[0m: "
     ]
    }
   ],
   "source": [
    "_, _, META_GNN, _ = train(train_loader, test_loader, args)"
   ]
  },
  {
   "cell_type": "code",
   "execution_count": 73,
   "metadata": {},
   "outputs": [
    {
     "name": "stdout",
     "output_type": "stream",
     "text": [
      "(array([0]), array([6000]))\n",
      "(array([0]), array([6000]))\n",
      "(array([0]), array([1200]))\n",
      "(array([0]), array([1200]))\n"
     ]
    }
   ],
   "source": [
    "args = {\n",
    "    'processor':         'TEST2',\n",
    "    'head':              'meta',\n",
    "    'num_layers':        1,\n",
    "    'num_mlp_layers':    2,\n",
    "    'aggr':              'max',\n",
    "    'batch_size':        12,\n",
    "    'node_feature_dim':  4,\n",
    "    'edge_feature_dim':  1,\n",
    "    'graph_feature_dim': 2,\n",
    "    'hidden_dim':        1,\n",
    "    'output_dim':        2,\n",
    "    'head_mlp_dim':      5,\n",
    "    'dropout':           0.25,\n",
    "    'epochs':            200,\n",
    "    'opt':               'adam',\n",
    "    'opt_scheduler':     'none',\n",
    "    'opt_restart':       0,\n",
    "    'weight_decay':      5e-3,\n",
    "    'lr':                0.0001,\n",
    "    'device':            device\n",
    "}\n",
    "\n",
    "train_num = 100; test_num = 20\n",
    "\n",
    "er_config = {\n",
    "    'graph_type': 'ER',\n",
    "    'p': 1,\n",
    "    'weighted': True\n",
    "}\n",
    "ba_config = {\n",
    "    'graph_type': 'BA',\n",
    "    'ba_param': 4,\n",
    "    'weighted': False\n",
    "}\n",
    "geom_config = {\n",
    "    'graph_type': 'GEOM',\n",
    "    'threshold': 0.2,\n",
    "    'scaling': 1 / np.sqrt(2)\n",
    "}\n",
    "\n",
    "rng = np.random.default_rng()\n",
    "\n",
    "train_instances = [\n",
    "    *ig.sample_instances(6, 10, train_num, rng, **er_config),\n",
    "    *ig.sample_instances(6, 10, train_num, rng, **ba_config),\n",
    "    *ig.sample_instances(6, 10, 2*train_num, rng, **geom_config),\n",
    "    *ig.sample_instances(8, 8, train_num, rng, **er_config),\n",
    "    *ig.sample_instances(8, 8, train_num, rng, **ba_config),\n",
    "    *ig.sample_instances(8, 8, 2*train_num, rng, **geom_config),\n",
    "    *ig.sample_instances(10, 6, train_num, rng, **er_config),\n",
    "    *ig.sample_instances(10, 6, train_num, rng, **ba_config),\n",
    "    *ig.sample_instances(10, 6, 2*train_num, rng, **geom_config)\n",
    "]\n",
    "\n",
    "\n",
    "test_instances = [\n",
    "    *ig.sample_instances(6, 10, test_num, rng, **er_config),\n",
    "    *ig.sample_instances(6, 10, test_num, rng, **ba_config),\n",
    "    *ig.sample_instances(6, 10, 2*test_num, rng, **geom_config),\n",
    "    *ig.sample_instances(8, 8, test_num, rng, **er_config),\n",
    "    *ig.sample_instances(8, 8, test_num, rng, **ba_config),\n",
    "    *ig.sample_instances(8, 8, 2*test_num, rng, **geom_config),\n",
    "    *ig.sample_instances(10, 6, test_num, rng, **er_config),\n",
    "    *ig.sample_instances(10, 6, test_num, rng, **ba_config),\n",
    "    *ig.sample_instances(10, 6, 2*test_num, rng, **geom_config)\n",
    "]\n",
    "\n",
    "train_data = Dataset(\n",
    "    tc._instances_to_gnn_samples(\n",
    "        instances=train_instances,\n",
    "        head='classification',\n",
    "        base_models=[GNN1, GNN2],\n",
    "        batch_size=args['batch_size']\n",
    "    )\n",
    ")\n",
    "\n",
    "test_data = Dataset(\n",
    "    tc._instances_to_gnn_samples(\n",
    "        instances=test_instances,\n",
    "        head='classification',\n",
    "        base_models=[GNN1, GNN2],\n",
    "        batch_size=args['batch_size']\n",
    "    )\n",
    ")\n",
    "\n",
    "train_loader = DataLoader(\n",
    "    train_data,\n",
    "    batch_size=args['batch_size'],\n",
    "    shuffle=True,\n",
    "    num_workers=4\n",
    ")\n",
    "\n",
    "test_loader = DataLoader(\n",
    "    test_data,\n",
    "    batch_size=args['batch_size'],\n",
    "    shuffle=True,\n",
    "    num_workers=4\n",
    ")"
   ]
  },
  {
   "cell_type": "code",
   "execution_count": 74,
   "metadata": {},
   "outputs": [
    {
     "name": "stdout",
     "output_type": "stream",
     "text": [
      "tensor([298., 628.])\n"
     ]
    }
   ],
   "source": [
    "sum = torch.zeros(2)\n",
    "for data in train_data:\n",
    "    sum += data.hint\n",
    "\n",
    "print(sum)"
   ]
  },
  {
   "cell_type": "code",
   "execution_count": 80,
   "metadata": {},
   "outputs": [],
   "source": [
    "args = {\n",
    "    'processor':         'TEST2',\n",
    "    'head':              'meta',\n",
    "    'num_layers':        4,\n",
    "    'num_mlp_layers':    2,\n",
    "    'aggr':              'max',\n",
    "    'batch_size':        12,\n",
    "    'node_feature_dim':  4,\n",
    "    'edge_feature_dim':  1,\n",
    "    'graph_feature_dim': 2,\n",
    "    'hidden_dim':        8,\n",
    "    'output_dim':        2,\n",
    "    'head_mlp_dim':      8,\n",
    "    'dropout':           0,\n",
    "    'epochs':            35,\n",
    "    'opt':               'adam',\n",
    "    'opt_scheduler':     'none',\n",
    "    'opt_restart':       0,\n",
    "    'weight_decay':      5e-3,\n",
    "    'lr':                0.001,\n",
    "    'device':            device\n",
    "}"
   ]
  },
  {
   "cell_type": "code",
   "execution_count": 81,
   "metadata": {},
   "outputs": [
    {
     "name": "stderr",
     "output_type": "stream",
     "text": [
      "Training:   0%|          | 0/35 [00:00<?, ?Epochs/s]"
     ]
    },
    {
     "name": "stdout",
     "output_type": "stream",
     "text": [
      "0.6280477820668313\n"
     ]
    },
    {
     "name": "stderr",
     "output_type": "stream",
     "text": [
      "Training:   3%|▎         | 1/35 [00:04<02:19,  4.10s/Epochs]"
     ]
    },
    {
     "name": "stdout",
     "output_type": "stream",
     "text": [
      "TEST ACCURACY: 0.6631579399108887\n",
      "TEST LOSS: 0.6328222751617432\n"
     ]
    },
    {
     "name": "stderr",
     "output_type": "stream",
     "text": [
      "Training:   6%|▌         | 2/35 [00:06<01:51,  3.39s/Epochs]"
     ]
    },
    {
     "name": "stdout",
     "output_type": "stream",
     "text": [
      "0.620007052663593\n",
      "0.6199378206456969\n"
     ]
    },
    {
     "name": "stderr",
     "output_type": "stream",
     "text": [
      "Training:   9%|▊         | 3/35 [00:10<01:52,  3.52s/Epochs]"
     ]
    },
    {
     "name": "stdout",
     "output_type": "stream",
     "text": [
      "TEST ACCURACY: 0.6631579399108887\n",
      "TEST LOSS: 0.6211866736412048\n"
     ]
    },
    {
     "name": "stderr",
     "output_type": "stream",
     "text": [
      "Training:  11%|█▏        | 4/35 [00:13<01:42,  3.31s/Epochs]"
     ]
    },
    {
     "name": "stdout",
     "output_type": "stream",
     "text": [
      "0.6127055101338009\n",
      "0.6083035010755963\n"
     ]
    },
    {
     "name": "stderr",
     "output_type": "stream",
     "text": [
      "Training:  14%|█▍        | 5/35 [00:17<01:41,  3.39s/Epochs]"
     ]
    },
    {
     "name": "stdout",
     "output_type": "stream",
     "text": [
      "TEST ACCURACY: 0.6631579399108887\n",
      "TEST LOSS: 0.6018067598342896\n"
     ]
    },
    {
     "name": "stderr",
     "output_type": "stream",
     "text": [
      "Training:  17%|█▋        | 6/35 [00:20<01:33,  3.24s/Epochs]"
     ]
    },
    {
     "name": "stdout",
     "output_type": "stream",
     "text": [
      "0.5990420655864361\n",
      "0.6117751258495817\n"
     ]
    },
    {
     "name": "stderr",
     "output_type": "stream",
     "text": [
      "Training:  20%|██        | 7/35 [00:24<01:41,  3.62s/Epochs]"
     ]
    },
    {
     "name": "stdout",
     "output_type": "stream",
     "text": [
      "TEST ACCURACY: 0.6631579399108887\n",
      "TEST LOSS: 0.6089125275611877\n"
     ]
    },
    {
     "name": "stderr",
     "output_type": "stream",
     "text": [
      "Training:  23%|██▎       | 8/35 [00:27<01:31,  3.39s/Epochs]"
     ]
    },
    {
     "name": "stdout",
     "output_type": "stream",
     "text": [
      "0.5981066145855716\n",
      "0.5990909672710345\n"
     ]
    },
    {
     "name": "stderr",
     "output_type": "stream",
     "text": [
      "Training:  26%|██▌       | 9/35 [00:31<01:32,  3.54s/Epochs]"
     ]
    },
    {
     "name": "stdout",
     "output_type": "stream",
     "text": [
      "TEST ACCURACY: 0.6631579399108887\n",
      "TEST LOSS: 0.5993701815605164\n"
     ]
    },
    {
     "name": "stderr",
     "output_type": "stream",
     "text": [
      "Training:  29%|██▊       | 10/35 [00:34<01:24,  3.37s/Epochs]"
     ]
    },
    {
     "name": "stdout",
     "output_type": "stream",
     "text": [
      "0.5944673585067815\n",
      "0.585797459466411\n"
     ]
    },
    {
     "name": "stderr",
     "output_type": "stream",
     "text": [
      "Training:  31%|███▏      | 11/35 [00:38<01:24,  3.51s/Epochs]"
     ]
    },
    {
     "name": "stdout",
     "output_type": "stream",
     "text": [
      "TEST ACCURACY: 0.6631579399108887\n",
      "TEST LOSS: 0.5924893617630005\n"
     ]
    },
    {
     "name": "stderr",
     "output_type": "stream",
     "text": [
      "Training:  34%|███▍      | 12/35 [00:41<01:16,  3.33s/Epochs]"
     ]
    },
    {
     "name": "stdout",
     "output_type": "stream",
     "text": [
      "0.5932636874412099\n",
      "0.5856616956626365\n"
     ]
    },
    {
     "name": "stderr",
     "output_type": "stream",
     "text": [
      "Training:  37%|███▋      | 13/35 [00:44<01:15,  3.42s/Epochs]"
     ]
    },
    {
     "name": "stdout",
     "output_type": "stream",
     "text": [
      "TEST ACCURACY: 0.7842105627059937\n",
      "TEST LOSS: 0.5798739194869995\n"
     ]
    },
    {
     "name": "stderr",
     "output_type": "stream",
     "text": [
      "Training:  40%|████      | 14/35 [00:47<01:08,  3.27s/Epochs]"
     ]
    },
    {
     "name": "stdout",
     "output_type": "stream",
     "text": [
      "0.5807307783522307\n",
      "0.5809493290167905\n"
     ]
    },
    {
     "name": "stderr",
     "output_type": "stream",
     "text": [
      "Training:  43%|████▎     | 15/35 [00:51<01:07,  3.38s/Epochs]"
     ]
    },
    {
     "name": "stdout",
     "output_type": "stream",
     "text": [
      "TEST ACCURACY: 0.7157894968986511\n",
      "TEST LOSS: 0.5761176347732544\n"
     ]
    },
    {
     "name": "stderr",
     "output_type": "stream",
     "text": [
      "Training:  46%|████▌     | 16/35 [00:54<01:02,  3.27s/Epochs]"
     ]
    },
    {
     "name": "stdout",
     "output_type": "stream",
     "text": [
      "0.581927933008058\n",
      "0.5764675374036217\n"
     ]
    },
    {
     "name": "stderr",
     "output_type": "stream",
     "text": [
      "Training:  49%|████▊     | 17/35 [00:57<01:01,  3.40s/Epochs]"
     ]
    },
    {
     "name": "stdout",
     "output_type": "stream",
     "text": [
      "TEST ACCURACY: 0.800000011920929\n",
      "TEST LOSS: 0.5641400814056396\n"
     ]
    },
    {
     "name": "stderr",
     "output_type": "stream",
     "text": [
      "Training:  51%|█████▏    | 18/35 [01:00<00:55,  3.26s/Epochs]"
     ]
    },
    {
     "name": "stdout",
     "output_type": "stream",
     "text": [
      "0.5738199433034233\n",
      "0.5707430766159206\n"
     ]
    },
    {
     "name": "stderr",
     "output_type": "stream",
     "text": [
      "Training:  54%|█████▍    | 19/35 [01:04<00:54,  3.41s/Epochs]"
     ]
    },
    {
     "name": "stdout",
     "output_type": "stream",
     "text": [
      "TEST ACCURACY: 0.800000011920929\n",
      "TEST LOSS: 0.5604206323623657\n"
     ]
    },
    {
     "name": "stderr",
     "output_type": "stream",
     "text": [
      "Training:  57%|█████▋    | 20/35 [01:07<00:49,  3.29s/Epochs]"
     ]
    },
    {
     "name": "stdout",
     "output_type": "stream",
     "text": [
      "0.5662402338780801\n",
      "0.5634322736742172\n"
     ]
    },
    {
     "name": "stderr",
     "output_type": "stream",
     "text": [
      "Training:  60%|██████    | 21/35 [01:11<00:47,  3.40s/Epochs]"
     ]
    },
    {
     "name": "stdout",
     "output_type": "stream",
     "text": [
      "TEST ACCURACY: 0.800000011920929\n",
      "TEST LOSS: 0.5542197823524475\n"
     ]
    },
    {
     "name": "stderr",
     "output_type": "stream",
     "text": [
      "Training:  63%|██████▎   | 22/35 [01:14<00:42,  3.24s/Epochs]"
     ]
    },
    {
     "name": "stdout",
     "output_type": "stream",
     "text": [
      "0.5635021301891582\n",
      "0.5610134342834192\n"
     ]
    },
    {
     "name": "stderr",
     "output_type": "stream",
     "text": [
      "Training:  66%|██████▌   | 23/35 [01:18<00:41,  3.43s/Epochs]"
     ]
    },
    {
     "name": "stdout",
     "output_type": "stream",
     "text": [
      "TEST ACCURACY: 0.800000011920929\n",
      "TEST LOSS: 0.5523189902305603\n"
     ]
    },
    {
     "name": "stderr",
     "output_type": "stream",
     "text": [
      "Training:  69%|██████▊   | 24/35 [01:21<00:36,  3.34s/Epochs]"
     ]
    },
    {
     "name": "stdout",
     "output_type": "stream",
     "text": [
      "0.5659515943305796\n",
      "0.5606510528477943\n"
     ]
    },
    {
     "name": "stderr",
     "output_type": "stream",
     "text": [
      "Training:  71%|███████▏  | 25/35 [01:24<00:34,  3.44s/Epochs]"
     ]
    },
    {
     "name": "stdout",
     "output_type": "stream",
     "text": [
      "TEST ACCURACY: 0.7842105627059937\n",
      "TEST LOSS: 0.5467612743377686\n"
     ]
    },
    {
     "name": "stderr",
     "output_type": "stream",
     "text": [
      "Training:  74%|███████▍  | 26/35 [01:27<00:29,  3.25s/Epochs]"
     ]
    },
    {
     "name": "stdout",
     "output_type": "stream",
     "text": [
      "0.5567057704307605\n",
      "0.5586885094127696\n"
     ]
    },
    {
     "name": "stderr",
     "output_type": "stream",
     "text": [
      "Training:  77%|███████▋  | 27/35 [01:31<00:26,  3.37s/Epochs]"
     ]
    },
    {
     "name": "stdout",
     "output_type": "stream",
     "text": [
      "TEST ACCURACY: 0.800000011920929\n",
      "TEST LOSS: 0.5436000823974609\n"
     ]
    },
    {
     "name": "stderr",
     "output_type": "stream",
     "text": [
      "Training:  80%|████████  | 28/35 [01:34<00:23,  3.36s/Epochs]"
     ]
    },
    {
     "name": "stdout",
     "output_type": "stream",
     "text": [
      "0.5606223608711111\n",
      "0.5617649091757657\n"
     ]
    },
    {
     "name": "stderr",
     "output_type": "stream",
     "text": [
      "Training:  83%|████████▎ | 29/35 [01:38<00:21,  3.57s/Epochs]"
     ]
    },
    {
     "name": "stdout",
     "output_type": "stream",
     "text": [
      "TEST ACCURACY: 0.800000011920929\n",
      "TEST LOSS: 0.5436303615570068\n"
     ]
    },
    {
     "name": "stderr",
     "output_type": "stream",
     "text": [
      "Training:  86%|████████▌ | 30/35 [01:41<00:17,  3.47s/Epochs]"
     ]
    },
    {
     "name": "stdout",
     "output_type": "stream",
     "text": [
      "0.5570484102415987\n",
      "0.5572179944674861\n"
     ]
    },
    {
     "name": "stderr",
     "output_type": "stream",
     "text": [
      "Training:  89%|████████▊ | 31/35 [01:45<00:14,  3.61s/Epochs]"
     ]
    },
    {
     "name": "stdout",
     "output_type": "stream",
     "text": [
      "TEST ACCURACY: 0.800000011920929\n",
      "TEST LOSS: 0.5417323112487793\n"
     ]
    },
    {
     "name": "stderr",
     "output_type": "stream",
     "text": [
      "Training:  91%|█████████▏| 32/35 [01:48<00:10,  3.38s/Epochs]"
     ]
    },
    {
     "name": "stdout",
     "output_type": "stream",
     "text": [
      "0.5560084921881138\n",
      "0.5542724262560933\n"
     ]
    },
    {
     "name": "stderr",
     "output_type": "stream",
     "text": [
      "Training:  94%|█████████▍| 33/35 [01:52<00:07,  3.65s/Epochs]"
     ]
    },
    {
     "name": "stdout",
     "output_type": "stream",
     "text": [
      "TEST ACCURACY: 0.800000011920929\n",
      "TEST LOSS: 0.5363842844963074\n"
     ]
    },
    {
     "name": "stderr",
     "output_type": "stream",
     "text": [
      "Training:  97%|█████████▋| 34/35 [01:56<00:03,  3.54s/Epochs]"
     ]
    },
    {
     "name": "stdout",
     "output_type": "stream",
     "text": [
      "0.5526281344195422\n",
      "0.5577086878389313\n"
     ]
    },
    {
     "name": "stderr",
     "output_type": "stream",
     "text": [
      "Training: 100%|██████████| 35/35 [02:00<00:00,  3.44s/Epochs]"
     ]
    },
    {
     "name": "stdout",
     "output_type": "stream",
     "text": [
      "TEST ACCURACY: 0.800000011920929\n",
      "TEST LOSS: 0.5395378470420837\n"
     ]
    },
    {
     "name": "stderr",
     "output_type": "stream",
     "text": [
      "\n"
     ]
    }
   ],
   "source": [
    "_, _, META_GNN, _ = train(train_loader, test_loader, args)"
   ]
  },
  {
   "cell_type": "code",
   "execution_count": 18,
   "metadata": {},
   "outputs": [],
   "source": [
    "save(META_GNN, args, 'META_GNN')"
   ]
  },
  {
   "cell_type": "code",
   "execution_count": 77,
   "metadata": {},
   "outputs": [
    {
     "name": "stdout",
     "output_type": "stream",
     "text": [
      "(array([0]), array([100]))\n",
      "-- Competitive ratios --\n",
      "GNN: 0.9568\n",
      "Greedy: 0.921\n",
      "\n",
      "\n",
      "(array([0]), array([100]))\n",
      "-- Competitive ratios --\n",
      "GNN: 0.9568\n",
      "Greedy: 0.921\n",
      "\n",
      "\n",
      "(array([0]), array([100]))\n",
      "-- Competitive ratios --\n",
      "GNN: 0.9506\n",
      "Greedy: 0.921\n"
     ]
    }
   ],
   "source": [
    "seed = np.random.randint(0, 500000)\n",
    "(m, n) = (24, 16)\n",
    "config = er_config\n",
    "\n",
    "rng = np.random.default_rng(seed)\n",
    "eval_instances = ig.sample_instances(m, n, 100, rng, **config)\n",
    "\n",
    "rng = np.random.default_rng(seed)\n",
    "ratios1 = evaluate_model(\n",
    "    meta_model=META_GNN,\n",
    "    meta_model_type='gnn',\n",
    "    base_models=[GNN1, GNN2],\n",
    "    instances=eval_instances,\n",
    "    batch_size=500,\n",
    "    rng=rng,\n",
    "    num_realizations=1\n",
    ")\n",
    "\n",
    "pp_output(ratios1, _, show_log=False)\n",
    "print()\n",
    "print()\n",
    "\n",
    "rng = np.random.default_rng(seed)\n",
    "\n",
    "ratios2 = evaluate_model(\n",
    "    meta_model=None,\n",
    "    meta_model_type=None,\n",
    "    base_models=[GNN1],\n",
    "    instances=eval_instances,\n",
    "    batch_size=500,\n",
    "    rng=rng,\n",
    "    num_realizations=1\n",
    ")\n",
    "\n",
    "pp_output(ratios2, _, show_log=False)\n",
    "\n",
    "print()\n",
    "print()\n",
    "\n",
    "rng = np.random.default_rng(seed)\n",
    "\n",
    "ratios = evaluate_model(\n",
    "    meta_model=None,\n",
    "    meta_model_type=None,\n",
    "    base_models=[GNN2],\n",
    "    instances=eval_instances,\n",
    "    batch_size=500,\n",
    "    rng=rng,\n",
    "    num_realizations=1\n",
    ")\n",
    "\n",
    "pp_output(ratios, _, show_log=False)"
   ]
  },
  {
   "cell_type": "markdown",
   "metadata": {},
   "source": [
    "### II. Meta NN training"
   ]
  },
  {
   "cell_type": "code",
   "execution_count": null,
   "metadata": {},
   "outputs": [],
   "source": [
    "train_num = 200; test_num = 40\n",
    "\n",
    "er_config = {\n",
    "    'graph_type': 'ER',\n",
    "    'p': 1,\n",
    "    'weighted': True\n",
    "}\n",
    "ba_config = {\n",
    "    'graph_type': 'BA',\n",
    "    'ba_param': 4,\n",
    "    'weighted': False\n",
    "}\n",
    "geom_config = {\n",
    "    'graph_type': 'GEOM',\n",
    "    'threshold': 0.2,\n",
    "    'scaling': 1 / np.sqrt(2)\n",
    "}\n",
    "\n",
    "args = {\n",
    "    'processor':         'NN',\n",
    "    'head':              'meta',\n",
    "    'num_layers':        5,\n",
    "    'input_dim':         17,\n",
    "    'batch_size':        4,\n",
    "    'hidden_dim':        16,\n",
    "    'output_dim':        2,\n",
    "    'dropout':           0,\n",
    "    'epochs':            50,\n",
    "    'opt':               'adam',\n",
    "    'opt_scheduler':     'none',\n",
    "    'opt_restart':       0,\n",
    "    'weight_decay':      5e-3,\n",
    "    'lr':                0.0001,\n",
    "    'device':            device\n",
    "}\n",
    "\n",
    "\n",
    "rng = np.random.default_rng()\n",
    "\n",
    "train_instances = [\n",
    "    *ig.sample_instances(6, 10, train_num, rng, **er_config),\n",
    "    *ig.sample_instances(6, 10, train_num, rng, **ba_config),\n",
    "    *ig.sample_instances(6, 10, train_num, rng, **geom_config),\n",
    "    *ig.sample_instances(8, 8, train_num, rng, **er_config),\n",
    "    *ig.sample_instances(8, 8, train_num, rng, **ba_config),\n",
    "    *ig.sample_instances(8, 8, train_num, rng, **geom_config),\n",
    "    *ig.sample_instances(10, 6, train_num, rng, **er_config),\n",
    "    *ig.sample_instances(10, 6, train_num, rng, **ba_config),\n",
    "    *ig.sample_instances(10, 6, train_num, rng, **geom_config)\n",
    "]\n",
    "\n",
    "\n",
    "test_instances = [\n",
    "    *ig.sample_instances(6, 10, test_num, rng, **er_config),\n",
    "    *ig.sample_instances(6, 10, test_num, rng, **ba_config),\n",
    "    *ig.sample_instances(6, 10, test_num, rng, **geom_config),\n",
    "    *ig.sample_instances(8, 8, test_num, rng, **er_config),\n",
    "    *ig.sample_instances(8, 8, test_num, rng, **ba_config),\n",
    "    *ig.sample_instances(8, 8, test_num, rng, **geom_config),\n",
    "    *ig.sample_instances(10, 6, test_num, rng, **er_config),\n",
    "    *ig.sample_instances(10, 6, test_num, rng, **ba_config),\n",
    "    *ig.sample_instances(10, 6, test_num, rng, **geom_config)\n",
    "]\n",
    "\n",
    "train_data = NumpyDataset(\n",
    "    tc._instances_to_train_samples(\n",
    "        instances=train_instances,\n",
    "        head=args['head'],\n",
    "        meta_model_type='nn',\n",
    "        base_models=[GNN1, GNN2, GREEDY]\n",
    "    )\n",
    ")\n",
    "\n",
    "test_data = NumpyDataset(\n",
    "    tc._instances_to_train_samples(\n",
    "        instances=test_instances,\n",
    "        head=args['head'],\n",
    "        meta_model_type='nn',\n",
    "        base_models=[GNN1, GNN2, GREEDY]\n",
    "    )\n",
    ")\n",
    "\n",
    "train_loader = DataLoader(\n",
    "    train_data,\n",
    "    batch_size=args['batch_size'],\n",
    "    shuffle=True,\n",
    "    num_workers=4\n",
    ")\n",
    "\n",
    "test_loader = DataLoader(\n",
    "    test_data,\n",
    "    batch_size=args['batch_size'],\n",
    "    shuffle=True,\n",
    "    num_workers=4\n",
    ")"
   ]
  },
  {
   "cell_type": "code",
   "execution_count": null,
   "metadata": {},
   "outputs": [],
   "source": [
    "ex = test_data[0]\n",
    "example = (ex[0].to('cuda:2'), ex[1].to('cuda:2')) "
   ]
  },
  {
   "cell_type": "code",
   "execution_count": null,
   "metadata": {},
   "outputs": [],
   "source": [
    "args = {\n",
    "    'processor':         'NN',\n",
    "    'head':              'meta',\n",
    "    'num_layers':        2,\n",
    "    'input_dim':         23,\n",
    "    'batch_size':        10,\n",
    "    'hidden_dim':        8,\n",
    "    'output_dim':        3,\n",
    "    'dropout':           0,\n",
    "    'epochs':            100,\n",
    "    'opt':               'adam',\n",
    "    'opt_scheduler':     'none',\n",
    "    'opt_restart':       0,\n",
    "    'weight_decay':      5e-3,\n",
    "    'lr':                0.001,\n",
    "    'device':            device\n",
    "}\n",
    "\n",
    "_, _, META_NN, _ = train(train_loader, test_loader, args)"
   ]
  },
  {
   "cell_type": "code",
   "execution_count": 10,
   "metadata": {},
   "outputs": [
    {
     "ename": "NameError",
     "evalue": "name 'META_NN' is not defined",
     "output_type": "error",
     "traceback": [
      "\u001b[0;31m---------------------------------------------------------------------------\u001b[0m",
      "\u001b[0;31mNameError\u001b[0m                                 Traceback (most recent call last)",
      "\u001b[1;32m/home/wikum/GNN-OBM/notebooks/meta_learner.ipynb Cell 18\u001b[0m line \u001b[0;36m<cell line: 9>\u001b[0;34m()\u001b[0m\n\u001b[1;32m      <a href='vscode-notebook-cell://ssh-remote%2Bsoal-7.stanford.edu/home/wikum/GNN-OBM/notebooks/meta_learner.ipynb#X16sdnNjb2RlLXJlbW90ZQ%3D%3D?line=5'>6</a>\u001b[0m eval_instances \u001b[39m=\u001b[39m ig\u001b[39m.\u001b[39msample_instances(m, n, \u001b[39m10\u001b[39m, rng, \u001b[39m*\u001b[39m\u001b[39m*\u001b[39mconfig)\n\u001b[1;32m      <a href='vscode-notebook-cell://ssh-remote%2Bsoal-7.stanford.edu/home/wikum/GNN-OBM/notebooks/meta_learner.ipynb#X16sdnNjb2RlLXJlbW90ZQ%3D%3D?line=7'>8</a>\u001b[0m rng \u001b[39m=\u001b[39m np\u001b[39m.\u001b[39mrandom\u001b[39m.\u001b[39mdefault_rng(seed)\n\u001b[1;32m      <a href='vscode-notebook-cell://ssh-remote%2Bsoal-7.stanford.edu/home/wikum/GNN-OBM/notebooks/meta_learner.ipynb#X16sdnNjb2RlLXJlbW90ZQ%3D%3D?line=8'>9</a>\u001b[0m ratios1 \u001b[39m=\u001b[39m evaluate_model(\n\u001b[0;32m---> <a href='vscode-notebook-cell://ssh-remote%2Bsoal-7.stanford.edu/home/wikum/GNN-OBM/notebooks/meta_learner.ipynb#X16sdnNjb2RlLXJlbW90ZQ%3D%3D?line=9'>10</a>\u001b[0m     meta_model\u001b[39m=\u001b[39mMETA_NN,\n\u001b[1;32m     <a href='vscode-notebook-cell://ssh-remote%2Bsoal-7.stanford.edu/home/wikum/GNN-OBM/notebooks/meta_learner.ipynb#X16sdnNjb2RlLXJlbW90ZQ%3D%3D?line=10'>11</a>\u001b[0m     meta_model_type\u001b[39m=\u001b[39m\u001b[39m'\u001b[39m\u001b[39mnn\u001b[39m\u001b[39m'\u001b[39m,\n\u001b[1;32m     <a href='vscode-notebook-cell://ssh-remote%2Bsoal-7.stanford.edu/home/wikum/GNN-OBM/notebooks/meta_learner.ipynb#X16sdnNjb2RlLXJlbW90ZQ%3D%3D?line=11'>12</a>\u001b[0m     base_models\u001b[39m=\u001b[39m[GNN1, GNN2, GREEDY],\n\u001b[1;32m     <a href='vscode-notebook-cell://ssh-remote%2Bsoal-7.stanford.edu/home/wikum/GNN-OBM/notebooks/meta_learner.ipynb#X16sdnNjb2RlLXJlbW90ZQ%3D%3D?line=12'>13</a>\u001b[0m     instances\u001b[39m=\u001b[39meval_instances,\n\u001b[1;32m     <a href='vscode-notebook-cell://ssh-remote%2Bsoal-7.stanford.edu/home/wikum/GNN-OBM/notebooks/meta_learner.ipynb#X16sdnNjb2RlLXJlbW90ZQ%3D%3D?line=13'>14</a>\u001b[0m     batch_size\u001b[39m=\u001b[39m\u001b[39m50\u001b[39m,\n\u001b[1;32m     <a href='vscode-notebook-cell://ssh-remote%2Bsoal-7.stanford.edu/home/wikum/GNN-OBM/notebooks/meta_learner.ipynb#X16sdnNjb2RlLXJlbW90ZQ%3D%3D?line=14'>15</a>\u001b[0m     rng\u001b[39m=\u001b[39mrng,\n\u001b[1;32m     <a href='vscode-notebook-cell://ssh-remote%2Bsoal-7.stanford.edu/home/wikum/GNN-OBM/notebooks/meta_learner.ipynb#X16sdnNjb2RlLXJlbW90ZQ%3D%3D?line=15'>16</a>\u001b[0m     num_realizations\u001b[39m=\u001b[39m\u001b[39m5\u001b[39m\n\u001b[1;32m     <a href='vscode-notebook-cell://ssh-remote%2Bsoal-7.stanford.edu/home/wikum/GNN-OBM/notebooks/meta_learner.ipynb#X16sdnNjb2RlLXJlbW90ZQ%3D%3D?line=16'>17</a>\u001b[0m )\n\u001b[1;32m     <a href='vscode-notebook-cell://ssh-remote%2Bsoal-7.stanford.edu/home/wikum/GNN-OBM/notebooks/meta_learner.ipynb#X16sdnNjb2RlLXJlbW90ZQ%3D%3D?line=18'>19</a>\u001b[0m pp_output(ratios1, _, show_log\u001b[39m=\u001b[39m\u001b[39mFalse\u001b[39;00m)\n\u001b[1;32m     <a href='vscode-notebook-cell://ssh-remote%2Bsoal-7.stanford.edu/home/wikum/GNN-OBM/notebooks/meta_learner.ipynb#X16sdnNjb2RlLXJlbW90ZQ%3D%3D?line=19'>20</a>\u001b[0m \u001b[39mprint\u001b[39m()\n",
      "\u001b[0;31mNameError\u001b[0m: name 'META_NN' is not defined"
     ]
    }
   ],
   "source": [
    "seed = np.random.randint(0, 50000)\n",
    "(m, n) = (8, 16)\n",
    "config = er_config\n",
    "\n",
    "rng = np.random.default_rng(seed)\n",
    "eval_instances = ig.sample_instances(m, n, 10, rng, **config)\n",
    "\n",
    "rng = np.random.default_rng(seed)\n",
    "ratios1 = evaluate_model(\n",
    "    meta_model=META_NN,\n",
    "    meta_model_type='nn',\n",
    "    base_models=[GNN1, GNN2, GREEDY],\n",
    "    instances=eval_instances,\n",
    "    batch_size=50,\n",
    "    rng=rng,\n",
    "    num_realizations=5\n",
    ")\n",
    "\n",
    "pp_output(ratios1, _, show_log=False)\n",
    "print()\n",
    "print()\n",
    "\n",
    "rng = np.random.default_rng(seed)\n",
    "\n",
    "ratios2 = evaluate_model(\n",
    "    meta_model=None,\n",
    "    meta_model_type=None,\n",
    "    base_models=[GNN1],\n",
    "    instances=eval_instances,\n",
    "    batch_size=50,\n",
    "    rng=rng,\n",
    "    num_realizations=5\n",
    ")\n",
    "\n",
    "pp_output(ratios2, _, show_log=False)\n",
    "\n",
    "print()\n",
    "print()\n",
    "\n",
    "rng = np.random.default_rng(seed)\n",
    "\n",
    "ratios = evaluate_model(\n",
    "    meta_model=None,\n",
    "    meta_model_type=None,\n",
    "    base_models=[GNN2],\n",
    "    instances=eval_instances,\n",
    "    batch_size=50,\n",
    "    rng=rng,\n",
    "    num_realizations=5\n",
    ")\n",
    "\n",
    "pp_output(ratios, _, show_log=False)"
   ]
  },
  {
   "cell_type": "code",
   "execution_count": null,
   "metadata": {},
   "outputs": [],
   "source": [
    "torch.tensor([1,2]) + 3"
   ]
  },
  {
   "cell_type": "code",
   "execution_count": 82,
   "metadata": {},
   "outputs": [
    {
     "name": "stdout",
     "output_type": "stream",
     "text": [
      "[0.25, 0.5, 0.75, 1.0, 1.25, 1.5, 1.75, 2.0, 2.25, 2.5, 2.75, 3.0, 3.25, 3.5, 3.75]\n",
      "{'graph_type': 'ER', 'p': 0.75, 'weighted': True} (4, 16)\n",
      "(array([1]), array([125]))\n",
      "(array([0]), array([125]))\n",
      "(array([0]), array([125]))\n",
      "{'graph_type': 'ER', 'p': 0.75, 'weighted': True} (8, 16)\n",
      "(array([1]), array([125]))\n",
      "(array([0]), array([125]))\n",
      "(array([0]), array([125]))\n",
      "{'graph_type': 'ER', 'p': 0.75, 'weighted': True} (12, 16)\n",
      "(array([1]), array([125]))\n",
      "(array([0]), array([125]))\n",
      "(array([0]), array([125]))\n",
      "{'graph_type': 'ER', 'p': 0.75, 'weighted': True} (16, 16)\n",
      "(array([1]), array([125]))\n",
      "(array([0]), array([125]))\n",
      "(array([0]), array([125]))\n",
      "{'graph_type': 'ER', 'p': 0.75, 'weighted': True} (20, 16)\n",
      "(array([1]), array([125]))\n",
      "(array([0]), array([125]))\n",
      "(array([0]), array([125]))\n",
      "{'graph_type': 'ER', 'p': 0.75, 'weighted': True} (24, 16)\n",
      "(array([0, 1]), array([114,  11]))\n",
      "(array([0]), array([125]))\n",
      "(array([0]), array([125]))\n",
      "{'graph_type': 'ER', 'p': 0.75, 'weighted': True} (28, 16)\n",
      "(array([0]), array([125]))\n",
      "(array([0]), array([125]))\n",
      "(array([0]), array([125]))\n",
      "{'graph_type': 'ER', 'p': 0.75, 'weighted': True} (32, 16)\n",
      "(array([0]), array([125]))\n",
      "(array([0]), array([125]))\n",
      "(array([0]), array([125]))\n",
      "{'graph_type': 'ER', 'p': 0.75, 'weighted': True} (36, 16)\n",
      "(array([0]), array([125]))\n",
      "(array([0]), array([125]))\n",
      "(array([0]), array([125]))\n",
      "{'graph_type': 'ER', 'p': 0.75, 'weighted': True} (40, 16)\n",
      "(array([0]), array([125]))\n",
      "(array([0]), array([125]))\n",
      "(array([0]), array([125]))\n",
      "{'graph_type': 'ER', 'p': 0.75, 'weighted': True} (44, 16)\n",
      "(array([0]), array([125]))\n",
      "(array([0]), array([125]))\n",
      "(array([0]), array([125]))\n",
      "{'graph_type': 'ER', 'p': 0.75, 'weighted': True} (48, 16)\n",
      "(array([0]), array([125]))\n",
      "(array([0]), array([125]))\n",
      "(array([0]), array([125]))\n",
      "{'graph_type': 'ER', 'p': 0.75, 'weighted': True} (52, 16)\n",
      "(array([0]), array([125]))\n",
      "(array([0]), array([125]))\n",
      "(array([0]), array([125]))\n",
      "{'graph_type': 'ER', 'p': 0.75, 'weighted': True} (56, 16)\n",
      "(array([0]), array([125]))\n",
      "(array([0]), array([125]))\n",
      "(array([0]), array([125]))\n",
      "{'graph_type': 'ER', 'p': 0.75, 'weighted': True} (60, 16)\n",
      "(array([0]), array([125]))\n",
      "(array([0]), array([125]))\n",
      "(array([0]), array([125]))\n",
      "{'graph_type': 'BA', 'ba_param': 4, 'weighted': True} (4, 16)\n",
      "(array([1]), array([125]))\n",
      "(array([0]), array([125]))\n",
      "(array([0]), array([125]))\n",
      "{'graph_type': 'BA', 'ba_param': 4, 'weighted': True} (8, 16)\n",
      "(array([1]), array([125]))\n",
      "(array([0]), array([125]))\n",
      "(array([0]), array([125]))\n",
      "{'graph_type': 'BA', 'ba_param': 4, 'weighted': True} (12, 16)\n",
      "(array([1]), array([125]))\n",
      "(array([0]), array([125]))\n",
      "(array([0]), array([125]))\n",
      "{'graph_type': 'BA', 'ba_param': 4, 'weighted': True} (16, 16)\n",
      "(array([1]), array([125]))\n",
      "(array([0]), array([125]))\n",
      "(array([0]), array([125]))\n",
      "{'graph_type': 'BA', 'ba_param': 4, 'weighted': True} (20, 16)\n",
      "(array([0, 1]), array([  4, 121]))\n",
      "(array([0]), array([125]))\n",
      "(array([0]), array([125]))\n",
      "{'graph_type': 'BA', 'ba_param': 4, 'weighted': True} (24, 16)\n",
      "(array([0, 1]), array([49, 76]))\n",
      "(array([0]), array([125]))\n",
      "(array([0]), array([125]))\n",
      "{'graph_type': 'BA', 'ba_param': 4, 'weighted': True} (28, 16)\n",
      "(array([0]), array([125]))\n",
      "(array([0]), array([125]))\n",
      "(array([0]), array([125]))\n",
      "{'graph_type': 'BA', 'ba_param': 4, 'weighted': True} (32, 16)\n",
      "(array([0]), array([125]))\n",
      "(array([0]), array([125]))\n",
      "(array([0]), array([125]))\n",
      "{'graph_type': 'BA', 'ba_param': 4, 'weighted': True} (36, 16)\n",
      "(array([0]), array([125]))\n",
      "(array([0]), array([125]))\n",
      "(array([0]), array([125]))\n",
      "{'graph_type': 'BA', 'ba_param': 4, 'weighted': True} (40, 16)\n",
      "(array([0]), array([125]))\n",
      "(array([0]), array([125]))\n",
      "(array([0]), array([125]))\n",
      "{'graph_type': 'BA', 'ba_param': 4, 'weighted': True} (44, 16)\n",
      "(array([0]), array([125]))\n",
      "(array([0]), array([125]))\n",
      "(array([0]), array([125]))\n",
      "{'graph_type': 'BA', 'ba_param': 4, 'weighted': True} (48, 16)\n",
      "(array([0]), array([125]))\n",
      "(array([0]), array([125]))\n",
      "(array([0]), array([125]))\n",
      "{'graph_type': 'BA', 'ba_param': 4, 'weighted': True} (52, 16)\n",
      "(array([0]), array([125]))\n",
      "(array([0]), array([125]))\n",
      "(array([0]), array([125]))\n",
      "{'graph_type': 'BA', 'ba_param': 4, 'weighted': True} (56, 16)\n",
      "(array([0]), array([125]))\n",
      "(array([0]), array([125]))\n",
      "(array([0]), array([125]))\n",
      "{'graph_type': 'BA', 'ba_param': 4, 'weighted': True} (60, 16)\n",
      "(array([0]), array([125]))\n",
      "(array([0]), array([125]))\n",
      "(array([0]), array([125]))\n",
      "{'graph_type': 'GEOM', 'threshold': 0.2, 'scaling': 0.7071067811865475} (4, 16)\n",
      "(array([1]), array([125]))\n",
      "(array([0]), array([125]))\n",
      "(array([0]), array([125]))\n",
      "{'graph_type': 'GEOM', 'threshold': 0.2, 'scaling': 0.7071067811865475} (8, 16)\n",
      "(array([1]), array([125]))\n",
      "(array([0]), array([125]))\n",
      "(array([0]), array([125]))\n",
      "{'graph_type': 'GEOM', 'threshold': 0.2, 'scaling': 0.7071067811865475} (12, 16)\n",
      "(array([1]), array([125]))\n",
      "(array([0]), array([125]))\n",
      "(array([0]), array([125]))\n",
      "{'graph_type': 'GEOM', 'threshold': 0.2, 'scaling': 0.7071067811865475} (16, 16)\n",
      "(array([1]), array([125]))\n",
      "(array([0]), array([125]))\n",
      "(array([0]), array([125]))\n",
      "{'graph_type': 'GEOM', 'threshold': 0.2, 'scaling': 0.7071067811865475} (20, 16)\n",
      "(array([0, 1]), array([  1, 124]))\n",
      "(array([0]), array([125]))\n",
      "(array([0]), array([125]))\n",
      "{'graph_type': 'GEOM', 'threshold': 0.2, 'scaling': 0.7071067811865475} (24, 16)\n",
      "(array([0, 1]), array([123,   2]))\n",
      "(array([0]), array([125]))\n",
      "(array([0]), array([125]))\n",
      "{'graph_type': 'GEOM', 'threshold': 0.2, 'scaling': 0.7071067811865475} (28, 16)\n",
      "(array([0]), array([125]))\n",
      "(array([0]), array([125]))\n",
      "(array([0]), array([125]))\n",
      "{'graph_type': 'GEOM', 'threshold': 0.2, 'scaling': 0.7071067811865475} (32, 16)\n",
      "(array([0]), array([125]))\n",
      "(array([0]), array([125]))\n",
      "(array([0]), array([125]))\n",
      "{'graph_type': 'GEOM', 'threshold': 0.2, 'scaling': 0.7071067811865475} (36, 16)\n",
      "(array([0]), array([125]))\n",
      "(array([0]), array([125]))\n",
      "(array([0]), array([125]))\n",
      "{'graph_type': 'GEOM', 'threshold': 0.2, 'scaling': 0.7071067811865475} (40, 16)\n",
      "(array([0]), array([125]))\n",
      "(array([0]), array([125]))\n",
      "(array([0]), array([125]))\n",
      "{'graph_type': 'GEOM', 'threshold': 0.2, 'scaling': 0.7071067811865475} (44, 16)\n",
      "(array([0]), array([125]))\n",
      "(array([0]), array([125]))\n",
      "(array([0]), array([125]))\n",
      "{'graph_type': 'GEOM', 'threshold': 0.2, 'scaling': 0.7071067811865475} (48, 16)\n",
      "(array([0]), array([125]))\n",
      "(array([0]), array([125]))\n",
      "(array([0]), array([125]))\n",
      "{'graph_type': 'GEOM', 'threshold': 0.2, 'scaling': 0.7071067811865475} (52, 16)\n",
      "(array([0]), array([125]))\n",
      "(array([0]), array([125]))\n",
      "(array([0]), array([125]))\n",
      "{'graph_type': 'GEOM', 'threshold': 0.2, 'scaling': 0.7071067811865475} (56, 16)\n",
      "(array([0]), array([125]))\n",
      "(array([0]), array([125]))\n",
      "(array([0]), array([125]))\n",
      "{'graph_type': 'GEOM', 'threshold': 0.2, 'scaling': 0.7071067811865475} (60, 16)\n",
      "(array([0]), array([125]))\n",
      "(array([0]), array([125]))\n",
      "(array([0]), array([125]))\n"
     ]
    }
   ],
   "source": [
    "num_trials = 25\n",
    "node_configs = [(x, 16) for x in np.arange(4, 64, 4)]\n",
    "# of nodes [20 -> 80]\n",
    "# of nodes in batch [10,000 -> 40,000]\n",
    "batch_size = 500 #[int(min(32, x + y)) for (x, y) in node_configs]\n",
    "graph_configs = [\n",
    "    # {\n",
    "    #     'graph_type': 'GM'\n",
    "    # },\n",
    "    {\n",
    "        'graph_type': 'ER',\n",
    "        'p': 0.75,\n",
    "        'weighted': True\n",
    "    },\n",
    "    {\n",
    "        'graph_type': 'BA',\n",
    "        'ba_param': 4,\n",
    "        'weighted': True\n",
    "    },\n",
    "    {\n",
    "        'graph_type': 'GEOM',\n",
    "        'threshold': 0.2,\n",
    "        'scaling': 1 / np.sqrt(2),\n",
    "    }\n",
    "]\n",
    "\n",
    "ratios = [x/y for (x,y) in node_configs]\n",
    "print(ratios)\n",
    "data = {config['graph_type']: [] for config in graph_configs}\n",
    "for graph_config in graph_configs:\n",
    "    for i, node_config in enumerate(node_configs):\n",
    "        print(graph_config, node_config)\n",
    "        seed = np.random.randint(0, 500000)\n",
    "        rng = np.random.default_rng(seed)\n",
    "        instances = ig.sample_instances(*node_config, num_trials, rng, **graph_config)\n",
    "\n",
    "        rng = np.random.default_rng(seed)\n",
    "        (meta_learned_ratios, _) = evaluate_model(\n",
    "            meta_model=META_GNN,\n",
    "            meta_model_type='gnn',\n",
    "            base_models=[GNN1, GNN2, GREEDY],\n",
    "            instances=instances,\n",
    "            batch_size=batch_size,\n",
    "            rng=rng,\n",
    "            num_realizations=5\n",
    "        )\n",
    "\n",
    "        rng = np.random.default_rng(seed)\n",
    "        gnn1_learned_ratios, greedy_ratios = evaluate_model(\n",
    "            meta_model=None,\n",
    "            meta_model_type=None,\n",
    "            base_models=[GNN1],\n",
    "            instances=instances,\n",
    "            batch_size=batch_size,\n",
    "            rng=rng,\n",
    "            num_realizations=5\n",
    "        )\n",
    "\n",
    "        rng = np.random.default_rng(seed)\n",
    "        gnn2_learned_ratios, _ = evaluate_model(\n",
    "            meta_model=None,\n",
    "            meta_model_type=None,\n",
    "            base_models=[GNN2],\n",
    "            instances=instances,\n",
    "            batch_size=batch_size,\n",
    "            rng=rng,\n",
    "            num_realizations=5\n",
    "        )\n",
    "\n",
    "\n",
    "        data[graph_config['graph_type']].append(np.array(\n",
    "            [\n",
    "                meta_learned_ratios,\n",
    "                gnn1_learned_ratios,\n",
    "                gnn2_learned_ratios,\n",
    "                greedy_ratios\n",
    "            ]\n",
    "        ))"
   ]
  },
  {
   "cell_type": "code",
   "execution_count": 83,
   "metadata": {},
   "outputs": [
    {
     "name": "stdout",
     "output_type": "stream",
     "text": [
      "ER\n"
     ]
    },
    {
     "data": {
      "image/png": "[encoded data removed]",
      "text/plain": [
       "<Figure size 576x432 with 1 Axes>"
      ]
     },
     "metadata": {
      "needs_background": "light"
     },
     "output_type": "display_data"
    },
    {
     "name": "stdout",
     "output_type": "stream",
     "text": [
      "BA\n"
     ]
    },
    {
     "data": {
      "image/png": "[encoded data removed]",
      "text/plain": [
       "<Figure size 576x432 with 1 Axes>"
      ]
     },
     "metadata": {
      "needs_background": "light"
     },
     "output_type": "display_data"
    },
    {
     "name": "stdout",
     "output_type": "stream",
     "text": [
      "GEOM\n"
     ]
    },
    {
     "data": {
      "image/png": "[encoded data removed]",
      "text/plain": [
       "<Figure size 576x432 with 1 Axes>"
      ]
     },
     "metadata": {
      "needs_background": "light"
     },
     "output_type": "display_data"
    }
   ],
   "source": [
    "import matplotlib.pyplot as plt\n",
    "ratios = [x/y for (x,y) in node_configs]\n",
    "for graph_type, comp_ratios in data.items():\n",
    "    greedy_avg_ratios = []\n",
    "    meta_avg_ratios = []\n",
    "    gnn1_avg_ratios = []\n",
    "    gnn2_avg_ratios = []\n",
    "    gnn3_avg_ratios = []\n",
    "    max_avg_ratios = []\n",
    "\n",
    "    for trial_ratios in comp_ratios:\n",
    "        meta_avg_ratios.append(np.array(trial_ratios[0]).mean())\n",
    "        gnn1_avg_ratios.append(np.array(trial_ratios[1]).mean())\n",
    "        gnn2_avg_ratios.append(np.array(trial_ratios[2]).mean())\n",
    "        #gnn3_avg_ratios.append(np.array(trial_ratios[3]).mean())\n",
    "        greedy_avg_ratios.append(np.array(trial_ratios[3]).mean())\n",
    "        max_avg_ratios.append(np.array(np.max(trial_ratios[1:3, :], axis=0)).mean())\n",
    "\n",
    "    print(graph_type)\n",
    "    fig = plt.figure(figsize=(8,6))\n",
    "    plt.title(graph_type)\n",
    "    plt.plot(ratios, gnn1_avg_ratios, label='GNN1')\n",
    "    plt.plot(ratios, gnn2_avg_ratios, label='GNN2')\n",
    "    #plt.plot(ratios, gnn3_avg_ratios, label='GNN3')\n",
    "    plt.plot(ratios, greedy_avg_ratios, label='Greedy')\n",
    "    plt.plot(ratios, max_avg_ratios, label='MAX')\n",
    "    plt.plot(ratios, meta_avg_ratios, label='META')\n",
    "    plt.xlabel('# online / # offline')\n",
    "    plt.ylabel('Average competitive ratio')\n",
    "    plt.legend()\n",
    "    plt.show()\n"
   ]
  },
  {
   "cell_type": "code",
   "execution_count": null,
   "metadata": {},
   "outputs": [],
   "source": []
  },
  {
   "cell_type": "code",
   "execution_count": null,
   "metadata": {},
   "outputs": [],
   "source": [
    "comp = np.vstack([gnn1_learned_ratios, gnn2_learned_ratios, greedy_ratios]).T\n",
    "comp[:10]"
   ]
  },
  {
   "cell_type": "code",
   "execution_count": null,
   "metadata": {},
   "outputs": [],
   "source": [
    "print(np.max(comp[:2, :], axis=1).mean())\n",
    "print(comp.mean(axis=0))"
   ]
  },
  {
   "cell_type": "code",
   "execution_count": null,
   "metadata": {},
   "outputs": [],
   "source": [
    "index1 = np.argmax(comp[:, 0] - comp[:, 1])\n",
    "index2 = np.argmax(comp[:, 1] - comp[:, 0])"
   ]
  },
  {
   "cell_type": "code",
   "execution_count": null,
   "metadata": {},
   "outputs": [],
   "source": [
    "tc._featurize(instances[index1])"
   ]
  },
  {
   "cell_type": "code",
   "execution_count": null,
   "metadata": {},
   "outputs": [],
   "source": [
    "tc._featurize(instances[index2])"
   ]
  },
  {
   "cell_type": "code",
   "execution_count": null,
   "metadata": {},
   "outputs": [],
   "source": [
    "GNN2_features = []\n",
    "GNN1_features = []\n",
    "for i, boolean in enumerate(comp[:, 1] > comp[:, 0]):\n",
    "    if boolean:\n",
    "        GNN2_features.append(tc._featurize(instances[i]))\n",
    "    else:\n",
    "        GNN1_features.append(tc._featurize(instances[i]))\n",
    "\n",
    "out1 = np.vstack(GNN1_features)\n",
    "out2 = np.vstack(GNN2_features)\n"
   ]
  },
  {
   "cell_type": "code",
   "execution_count": null,
   "metadata": {},
   "outputs": [],
   "source": [
    "out1.mean(axis=0)"
   ]
  },
  {
   "cell_type": "code",
   "execution_count": null,
   "metadata": {},
   "outputs": [],
   "source": [
    "out2.mean(axis=0)"
   ]
  }
 ],
 "metadata": {
  "kernelspec": {
   "display_name": "Python 3",
   "language": "python",
   "name": "python3"
  },
  "language_info": {
   "codemirror_mode": {
    "name": "ipython",
    "version": 3
   },
   "file_extension": ".py",
   "mimetype": "text/x-python",
   "name": "python",
   "nbconvert_exporter": "python",
   "pygments_lexer": "ipython3",
   "version": "3.10.6"
  },
  "orig_nbformat": 4
 },
 "nbformat": 4,
 "nbformat_minor": 2
}
