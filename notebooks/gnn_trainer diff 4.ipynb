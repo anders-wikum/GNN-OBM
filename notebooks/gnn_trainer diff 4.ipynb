{
 "cells": [
  {
   "cell_type": "code",
   "execution_count": 1,
   "metadata": {},
   "outputs": [],
   "source": [
    "import os\n",
    "os.chdir('..')"
   ]
  },
  {
   "cell_type": "code",
   "execution_count": 2,
   "metadata": {},
   "outputs": [],
   "source": [
    "import torch\n",
    "import numpy as np\n",
    "from torch_geometric.loader import DataLoader\n",
    "from gnn_library.util import train, save, load\n",
    "from evaluate import evaluate_model, pp_output\n",
    "import instance_generator as ig\n",
    "import torch_converter as tc\n",
    "import evaluate as ev\n",
    "import osmnx as ox\n",
    "from util import Dataset\n",
    "from gnn_library.OBM_greedy import OBM_Greedy\n",
    "from gnn_library.util import train, gen_train_input\n",
    "\n",
    "%load_ext autoreload\n",
    "%autoreload 2"
   ]
  },
  {
   "cell_type": "code",
   "execution_count": 3,
   "metadata": {},
   "outputs": [
    {
     "name": "stdout",
     "output_type": "stream",
     "text": [
      "PyTorch has version 1.12.0+cu102\n",
      "Using device: cuda:5\n"
     ]
    }
   ],
   "source": [
    "device = torch.device('cuda:5' if torch.cuda.is_available() else 'cpu')\n",
    "print(\"PyTorch has version {}\".format(torch.__version__))\n",
    "print('Using device:', device)"
   ]
  },
  {
   "cell_type": "code",
   "execution_count": 4,
   "metadata": {},
   "outputs": [],
   "source": [
    "# Hyperparam optimized for 6,10\n",
    "\n",
    "# args = {\n",
    "#     'processor':         'GENConv',\n",
    "#     'head':              'regression',     \n",
    "#     'num_layers':        5,\n",
    "#     'num_mlp_layers':    5,\n",
    "#     'aggr':              'max',\n",
    "#     'batch_size':        2,\n",
    "#     'node_feature_dim':  5,\n",
    "#     'edge_feature_dim':  1,\n",
    "#     'graph_feature_dim': 2,\n",
    "#     'hidden_dim':        128,\n",
    "#     'output_dim':        1,\n",
    "#     'dropout':           0.0115,\n",
    "#     'epochs':            32,\n",
    "#     'opt':               'adagrad',\n",
    "#     'opt_scheduler':     'none',\n",
    "#     'opt_restart':       0,\n",
    "#     'weight_decay':      5e-3,\n",
    "#     'lr':                0.0083,\n",
    "#     'device':            device,\n",
    "#     'noise':             0 # Set to 0 to not train on noisy features\n",
    "# }\n",
    "\n",
    "# Hyperparam optimized for 10,6\n",
    "\n",
    "args = {\n",
    "    'processor':         'GENConv',\n",
    "    'head':              'regression',     \n",
    "    'num_layers':        3,\n",
    "    'num_mlp_layers':    3,\n",
    "    'aggr':              'max',\n",
    "    'batch_size':        8,\n",
    "    'node_feature_dim':  5,\n",
    "    'edge_feature_dim':  1,\n",
    "    'graph_feature_dim': 2,\n",
    "    'hidden_dim':        32,\n",
    "    'output_dim':        1,\n",
    "    'dropout':           0.0306,\n",
    "    'epochs':            20,\n",
    "    'opt':               'adagrad',\n",
    "    'opt_scheduler':     'none',\n",
    "    'opt_restart':       0,\n",
    "    'weight_decay':      5e-3,\n",
    "    'lr':                0.0121,\n",
    "    'device':            device,\n",
    "    'noise':             0 # Set to 0 to not train on noisy features\n",
    "}"
   ]
  },
  {
   "cell_type": "code",
   "execution_count": 5,
   "metadata": {},
   "outputs": [
    {
     "name": "stdout",
     "output_type": "stream",
     "text": [
      "Generating the dataset\n",
      "Starting training\n"
     ]
    },
    {
     "name": "stderr",
     "output_type": "stream",
     "text": [
      "Training:   0%|          | 0/20 [00:00<?, ?Epochs/s]/home/alexhay/.local/lib/python3.10/site-packages/torch_geometric/utils/scatter.py:93: UserWarning: The usage of `scatter(reduce='max')` can be accelerated via the 'torch-scatter' package, but it was not found\n",
      "  warnings.warn(f\"The usage of `scatter(reduce='{reduce}')` \"\n"
     ]
    },
    {
     "name": "stdout",
     "output_type": "stream",
     "text": [
      "TRAINING LOSS: 0.026000683537916843\n"
     ]
    },
    {
     "name": "stderr",
     "output_type": "stream",
     "text": [
      "Training:   5%|▌         | 1/20 [00:12<03:57, 12.48s/Epochs]"
     ]
    },
    {
     "name": "stdout",
     "output_type": "stream",
     "text": [
      "TEST LOSS: 0.010768545791506767\n",
      "TEST ACCURACY: 0.9167987704277039\n"
     ]
    },
    {
     "name": "stderr",
     "output_type": "stream",
     "text": [
      "Training:  10%|█         | 2/20 [00:21<03:05, 10.28s/Epochs]"
     ]
    },
    {
     "name": "stdout",
     "output_type": "stream",
     "text": [
      "TRAINING LOSS: 0.015378896183658551\n"
     ]
    },
    {
     "name": "stderr",
     "output_type": "stream",
     "text": [
      "Training:  15%|█▌        | 3/20 [00:30<02:44,  9.69s/Epochs]"
     ]
    },
    {
     "name": "stdout",
     "output_type": "stream",
     "text": [
      "TRAINING LOSS: 0.012671737576685313\n"
     ]
    },
    {
     "name": "stderr",
     "output_type": "stream",
     "text": [
      "Training:  20%|██        | 4/20 [00:38<02:25,  9.12s/Epochs]"
     ]
    },
    {
     "name": "stdout",
     "output_type": "stream",
     "text": [
      "TRAINING LOSS: 0.011998757235454145\n",
      "TRAINING LOSS: 0.011001591529217453\n"
     ]
    },
    {
     "name": "stderr",
     "output_type": "stream",
     "text": [
      "Training:  25%|██▌       | 5/20 [00:50<02:31, 10.13s/Epochs]"
     ]
    },
    {
     "name": "stdout",
     "output_type": "stream",
     "text": [
      "TEST LOSS: 0.008884353563189507\n",
      "TEST ACCURACY: 0.9358161687850952\n"
     ]
    },
    {
     "name": "stderr",
     "output_type": "stream",
     "text": [
      "Training:  30%|███       | 6/20 [00:58<02:12,  9.47s/Epochs]"
     ]
    },
    {
     "name": "stdout",
     "output_type": "stream",
     "text": [
      "TRAINING LOSS: 0.010842455811620896\n"
     ]
    },
    {
     "name": "stderr",
     "output_type": "stream",
     "text": [
      "Training:  35%|███▌      | 7/20 [01:07<01:59,  9.18s/Epochs]"
     ]
    },
    {
     "name": "stdout",
     "output_type": "stream",
     "text": [
      "TRAINING LOSS: 0.010372288308560918\n"
     ]
    },
    {
     "name": "stderr",
     "output_type": "stream",
     "text": [
      "Training:  40%|████      | 8/20 [01:15<01:47,  8.95s/Epochs]"
     ]
    },
    {
     "name": "stdout",
     "output_type": "stream",
     "text": [
      "TRAINING LOSS: 0.010210699840065311\n",
      "TRAINING LOSS: 0.010028450645429388\n"
     ]
    },
    {
     "name": "stderr",
     "output_type": "stream",
     "text": [
      "Training:  45%|████▌     | 9/20 [01:27<01:49,  9.96s/Epochs]"
     ]
    },
    {
     "name": "stdout",
     "output_type": "stream",
     "text": [
      "TEST LOSS: 0.010341278277337551\n",
      "TEST ACCURACY: 0.9207607507705688\n"
     ]
    },
    {
     "name": "stderr",
     "output_type": "stream",
     "text": [
      "Training:  50%|█████     | 10/20 [01:35<01:33,  9.40s/Epochs]"
     ]
    },
    {
     "name": "stdout",
     "output_type": "stream",
     "text": [
      "TRAINING LOSS: 0.009492125464321982\n"
     ]
    },
    {
     "name": "stderr",
     "output_type": "stream",
     "text": [
      "Training:  55%|█████▌    | 11/20 [01:44<01:22,  9.18s/Epochs]"
     ]
    },
    {
     "name": "stdout",
     "output_type": "stream",
     "text": [
      "TRAINING LOSS: 0.009816970591046898\n"
     ]
    },
    {
     "name": "stderr",
     "output_type": "stream",
     "text": [
      "Training:  60%|██████    | 12/20 [01:53<01:11,  8.98s/Epochs]"
     ]
    },
    {
     "name": "stdout",
     "output_type": "stream",
     "text": [
      "TRAINING LOSS: 0.009344181093640495\n",
      "TRAINING LOSS: 0.009916076080359826\n"
     ]
    },
    {
     "name": "stderr",
     "output_type": "stream",
     "text": [
      "Training:  65%|██████▌   | 13/20 [02:05<01:09,  9.97s/Epochs]"
     ]
    },
    {
     "name": "stdout",
     "output_type": "stream",
     "text": [
      "TEST LOSS: 0.05113357678055763\n",
      "TEST ACCURACY: 0.7884311079978943\n"
     ]
    },
    {
     "name": "stderr",
     "output_type": "stream",
     "text": [
      "Training:  70%|███████   | 14/20 [02:13<00:57,  9.55s/Epochs]"
     ]
    },
    {
     "name": "stdout",
     "output_type": "stream",
     "text": [
      "TRAINING LOSS: 0.009103840660816133\n"
     ]
    },
    {
     "name": "stderr",
     "output_type": "stream",
     "text": [
      "Training:  75%|███████▌  | 15/20 [02:21<00:45,  9.09s/Epochs]"
     ]
    },
    {
     "name": "stdout",
     "output_type": "stream",
     "text": [
      "TRAINING LOSS: 0.009241295492777005\n"
     ]
    },
    {
     "name": "stderr",
     "output_type": "stream",
     "text": [
      "Training:  80%|████████  | 16/20 [02:30<00:35,  8.94s/Epochs]"
     ]
    },
    {
     "name": "stdout",
     "output_type": "stream",
     "text": [
      "TRAINING LOSS: 0.00925377308944794\n",
      "TRAINING LOSS: 0.008917660290295398\n"
     ]
    },
    {
     "name": "stderr",
     "output_type": "stream",
     "text": [
      "Training:  85%|████████▌ | 17/20 [02:42<00:29,  9.85s/Epochs]"
     ]
    },
    {
     "name": "stdout",
     "output_type": "stream",
     "text": [
      "TEST LOSS: 0.022699499502778053\n",
      "TEST ACCURACY: 0.8827258348464966\n"
     ]
    },
    {
     "name": "stderr",
     "output_type": "stream",
     "text": [
      "Training:  90%|█████████ | 18/20 [02:50<00:18,  9.39s/Epochs]"
     ]
    },
    {
     "name": "stdout",
     "output_type": "stream",
     "text": [
      "TRAINING LOSS: 0.009081464195298252\n"
     ]
    },
    {
     "name": "stderr",
     "output_type": "stream",
     "text": [
      "Training:  95%|█████████▌| 19/20 [02:59<00:09,  9.27s/Epochs]"
     ]
    },
    {
     "name": "stdout",
     "output_type": "stream",
     "text": [
      "TRAINING LOSS: 0.008962528206169641\n"
     ]
    },
    {
     "name": "stderr",
     "output_type": "stream",
     "text": [
      "Training: 100%|██████████| 20/20 [03:08<00:00,  9.43s/Epochs]"
     ]
    },
    {
     "name": "stdout",
     "output_type": "stream",
     "text": [
      "TRAINING LOSS: 0.009043220491318804\n"
     ]
    },
    {
     "name": "stderr",
     "output_type": "stream",
     "text": [
      "\n"
     ]
    }
   ],
   "source": [
    "from params import BASE_MODEL_TRAIN_CONFIG\n",
    "train_config = BASE_MODEL_TRAIN_CONFIG\n",
    "### TODO REMOVE ###\n",
    "# train_config['train_num'] = 1000\n",
    "# train_config['val_num'] = 200\n",
    "train_config['regimes'] = [(7,4)]\n",
    "### END REMOVE ###\n",
    "print(\"Generating the dataset\")\n",
    "train_loader, val_loader = gen_train_input(train_config, args, seed=0)\n",
    "print(\"Starting training\")\n",
    "_, _, _, GNN, _ = train(train_loader, val_loader, args)"
   ]
  },
  {
   "cell_type": "code",
   "execution_count": 6,
   "metadata": {},
   "outputs": [],
   "source": [
    "save(GNN, args, 'GNN_exp_diff_7_4')"
   ]
  },
  {
   "cell_type": "code",
   "execution_count": null,
   "metadata": {},
   "outputs": [],
   "source": []
  }
 ],
 "metadata": {
  "kernelspec": {
   "display_name": "local",
   "language": "python",
   "name": "python3"
  },
  "language_info": {
   "codemirror_mode": {
    "name": "ipython",
    "version": 3
   },
   "file_extension": ".py",
   "mimetype": "text/x-python",
   "name": "python",
   "nbconvert_exporter": "python",
   "pygments_lexer": "ipython3",
   "version": "3.10.12"
  },
  "orig_nbformat": 4
 },
 "nbformat": 4,
 "nbformat_minor": 2
}
