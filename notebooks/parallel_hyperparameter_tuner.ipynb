{
 "cells": [
  {
   "cell_type": "code",
   "execution_count": 1,
   "metadata": {},
   "outputs": [],
   "source": [
    "import torch\n",
    "import numpy as np\n",
    "\n",
    "import os\n",
    "os.chdir('..')\n",
    "from torch_geometric.loader import DataLoader\n",
    "from gnn_library.util import train, save, load\n",
    "from evaluate import evaluate_model, pp_output\n",
    "import instance_generator as ig\n",
    "import torch_converter as tc\n",
    "import evaluate as ev\n",
    "import osmnx as ox\n",
    "from util import Dataset\n",
    "\n",
    "%load_ext autoreload\n",
    "%autoreload 2"
   ]
  },
  {
   "cell_type": "code",
   "execution_count": 2,
   "metadata": {},
   "outputs": [
    {
     "name": "stdout",
     "output_type": "stream",
     "text": [
      "PyTorch has version 1.12.0+cu102\n",
      "Using device: cuda:0\n"
     ]
    }
   ],
   "source": [
    "device = torch.device('cuda:0' if torch.cuda.is_available() else 'cpu')\n",
    "print(\"PyTorch has version {}\".format(torch.__version__))\n",
    "print('Using device:', device)"
   ]
  },
  {
   "cell_type": "code",
   "execution_count": 3,
   "metadata": {},
   "outputs": [],
   "source": [
    "def define_model(trial):\n",
    "    args = {\n",
    "        'processor':         'GENConv',\n",
    "        'head':              'regression',\n",
    "        'num_layers':        trial.suggest_int(\"num_layers{}\", 1, 6),\n",
    "        'num_mlp_layers':    trial.suggest_int(\"num_mlp_layers{}\", 1, 5), # TODO set to larger\n",
    "        'aggr':              'max',\n",
    "        'batch_size':        2**trial.suggest_int(\"log_batch_size\", 1, 6), \n",
    "        'node_feature_dim':  5,\n",
    "        'edge_feature_dim':  1,\n",
    "        'graph_feature_dim': 2,\n",
    "        'hidden_dim':        2**trial.suggest_int(\"hidden_dim\", 1, 7), # TODO set to 128\n",
    "        'output_dim':        1,\n",
    "        'dropout':           trial.suggest_float(\"dropout\", 0, 0.5),\n",
    "        'epochs':            2**trial.suggest_int(\"epochs\", 2, 8), # TODO set to larger\n",
    "        'opt':               trial.suggest_categorical(\"optimizer\", [\"adam\", \"adagrad\"]),\n",
    "        'opt_scheduler':     'none',\n",
    "        'opt_restart':       0,\n",
    "        'weight_decay':      5e-3, # TODO possibly modify\n",
    "        'lr':                trial.suggest_float(\"lr\", 1e-5, 1e-1, log=True),\n",
    "        'device':            device,\n",
    "        'noise':             0\n",
    "    }\n",
    "    return args"
   ]
  },
  {
   "cell_type": "code",
   "execution_count": 4,
   "metadata": {},
   "outputs": [],
   "source": [
    "def objective(trial):\n",
    "\targs = define_model(trial)\n",
    "\ttrain_num = 200; test_num = 100\n",
    "\n",
    "\ter_config = {\n",
    "\t'graph_type': 'ER',\n",
    "\t'p': 0.75,\n",
    "\t'weighted': True\n",
    "\t}\n",
    "\tba_config = {\n",
    "\t'graph_type': 'BA',\n",
    "\t'ba_param': 4,\n",
    "\t'weighted': True\n",
    "\t}\n",
    "\tgeom_config = {\n",
    "\t'graph_type': 'GEOM',\n",
    "\t'threshold': 0.2,\n",
    "\t'scaling': 1 / np.sqrt(2)\n",
    "\t}\n",
    "\n",
    "\trng = np.random.default_rng()\n",
    "\n",
    "\n",
    "\ttrain_instances = [\n",
    "\t\t*ig.sample_instances(6, 10, train_num, rng, args, **er_config),\n",
    "\t\t*ig.sample_instances(6, 10, train_num, rng, args, **ba_config),\n",
    "\t\t*ig.sample_instances(6, 10, train_num, rng, args, **geom_config),\n",
    "\t]\n",
    "\n",
    "\ttest_instances = [\n",
    "\t\t*ig.sample_instances(6, 10, test_num, rng, args, **er_config),\n",
    "\t\t*ig.sample_instances(6, 10, test_num, rng, args, **ba_config),\n",
    "\t\t*ig.sample_instances(6, 10, test_num, rng, args, **geom_config),\n",
    "\t]\n",
    "\n",
    "\n",
    "\ttrain_data = Dataset(tc._instances_to_train_samples(train_instances, args['head']))\n",
    "\ttest_data = Dataset(tc._instances_to_train_samples(test_instances, args['head']))\n",
    "\n",
    "\ttrain_loader = DataLoader(\n",
    "\ttrain_data,\n",
    "\tbatch_size=args['batch_size'],\n",
    "\tshuffle=True,\n",
    "\tnum_workers=4\n",
    "\t)\n",
    "\n",
    "\ttest_loader = DataLoader(\n",
    "\ttest_data,\n",
    "\tbatch_size=args['batch_size'],\n",
    "\tshuffle=True,\n",
    "\tnum_workers=4\n",
    "\t)\n",
    "\n",
    "\t### Training\n",
    "\n",
    "\t_, _, test_accuracies, GNN, _ = train(train_loader, test_loader, args, trial)\n",
    "\tmodel_accuracy = test_accuracies[-1]\n",
    "\t# if model_accuracy > best_model[1]:\n",
    "\t# \tprint(\"FOUND A NEW BEST MODEL\")\n",
    "\t# \tbest_model = (GNN, model_accuracy)\n",
    "\treturn model_accuracy"
   ]
  },
  {
   "cell_type": "code",
   "execution_count": 5,
   "metadata": {},
   "outputs": [
    {
     "name": "stderr",
     "output_type": "stream",
     "text": [
      "[I 2024-01-25 12:14:43,414] Using an existing study with name 'parallel-hyperparam-study' instead of creating a new one.\n",
      "Training:   0%|          | 0/32 [00:00<?, ?Epochs/s]/home/alexhay/.local/lib/python3.10/site-packages/torch_geometric/utils/scatter.py:93: UserWarning: The usage of `scatter(reduce='max')` can be accelerated via the 'torch-scatter' package, but it was not found\n",
      "  warnings.warn(f\"The usage of `scatter(reduce='{reduce}')` \"\n",
      "Training: 100%|██████████| 32/32 [06:26<00:00, 12.08s/Epochs]\n",
      "[I 2024-01-25 12:21:40,585] Trial 1 finished with value: 0.8790412545204163 and parameters: {'num_layers{}': 2, 'num_mlp_layers{}': 3, 'log_batch_size': 3, 'hidden_dim': 6, 'dropout': 0.20257456973961374, 'epochs': 5, 'optimizer': 'adam', 'lr': 0.0016191987041381775}. Best is trial 1 with value: 0.8790412545204163.\n",
      "Training: 100%|██████████| 32/32 [33:48<00:00, 63.38s/Epochs]\n",
      "[I 2024-01-25 12:55:54,111] Trial 2 finished with value: 0.32180702686309814 and parameters: {'num_layers{}': 6, 'num_mlp_layers{}': 1, 'log_batch_size': 1, 'hidden_dim': 2, 'dropout': 0.44111511529180214, 'epochs': 5, 'optimizer': 'adagrad', 'lr': 8.916340748101224e-05}. Best is trial 1 with value: 0.8790412545204163.\n",
      "Training: 100%|██████████| 128/128 [52:46<00:00, 24.74s/Epochs]\n",
      "[I 2024-01-25 13:49:06,830] Trial 3 finished with value: 0.15423163771629333 and parameters: {'num_layers{}': 3, 'num_mlp_layers{}': 2, 'log_batch_size': 2, 'hidden_dim': 1, 'dropout': 0.4495861198208861, 'epochs': 7, 'optimizer': 'adagrad', 'lr': 0.00020598855181510527}. Best is trial 1 with value: 0.8790412545204163.\n",
      "Training: 100%|██████████| 32/32 [01:28<00:00,  2.78s/Epochs]\n",
      "[I 2024-01-25 13:51:01,430] Trial 4 finished with value: 0.7559755444526672 and parameters: {'num_layers{}': 5, 'num_mlp_layers{}': 5, 'log_batch_size': 6, 'hidden_dim': 5, 'dropout': 0.11590439988128975, 'epochs': 5, 'optimizer': 'adam', 'lr': 1.7769932513103037e-05}. Best is trial 1 with value: 0.8790412545204163.\n",
      "Training: 100%|██████████| 8/8 [00:17<00:00,  2.17s/Epochs]\n",
      "[I 2024-01-25 13:51:43,395] Trial 5 finished with value: 0.8710394501686096 and parameters: {'num_layers{}': 2, 'num_mlp_layers{}': 5, 'log_batch_size': 6, 'hidden_dim': 6, 'dropout': 0.06996156008155796, 'epochs': 3, 'optimizer': 'adagrad', 'lr': 0.06508363982941204}. Best is trial 1 with value: 0.8790412545204163.\n",
      "Training:   0%|          | 0/16 [00:05<?, ?Epochs/s]\n",
      "[I 2024-01-25 13:52:12,398] Trial 6 pruned. \n",
      "Training: 100%|██████████| 64/64 [02:25<00:00,  2.27s/Epochs]\n",
      "[I 2024-01-25 13:55:02,626] Trial 7 finished with value: 0.8945313096046448 and parameters: {'num_layers{}': 1, 'num_mlp_layers{}': 1, 'log_batch_size': 6, 'hidden_dim': 3, 'dropout': 0.39435424313705797, 'epochs': 6, 'optimizer': 'adam', 'lr': 0.006633119775271212}. Best is trial 7 with value: 0.8945313096046448.\n",
      "Training: 100%|██████████| 64/64 [27:22<00:00, 25.66s/Epochs]\n",
      "[I 2024-01-25 14:22:49,146] Trial 8 finished with value: 0.9035136699676514 and parameters: {'num_layers{}': 3, 'num_mlp_layers{}': 2, 'log_batch_size': 2, 'hidden_dim': 6, 'dropout': 0.28340001610997445, 'epochs': 6, 'optimizer': 'adam', 'lr': 3.0179886227396105e-05}. Best is trial 8 with value: 0.9035136699676514.\n",
      "Training: 100%|██████████| 8/8 [05:13<00:00, 39.14s/Epochs]\n",
      "[I 2024-01-25 14:28:28,383] Trial 9 finished with value: 0.8853006958961487 and parameters: {'num_layers{}': 1, 'num_mlp_layers{}': 4, 'log_batch_size': 1, 'hidden_dim': 7, 'dropout': 0.0975674336262044, 'epochs': 3, 'optimizer': 'adagrad', 'lr': 0.0008247561802450593}. Best is trial 8 with value: 0.9035136699676514.\n",
      "Training:   0%|          | 0/4 [00:20<?, ?Epochs/s]\n",
      "[I 2024-01-25 14:29:12,934] Trial 10 pruned. \n",
      "Training:   2%|▏         | 4/256 [00:40<42:39, 10.16s/Epochs]\n",
      "[I 2024-01-25 14:30:17,898] Trial 11 pruned. \n",
      "Training: 100%|██████████| 64/64 [06:14<00:00,  5.85s/Epochs]\n",
      "[I 2024-01-25 14:36:55,403] Trial 12 finished with value: 0.9008356928825378 and parameters: {'num_layers{}': 1, 'num_mlp_layers{}': 1, 'log_batch_size': 4, 'hidden_dim': 4, 'dropout': 0.322348961775593, 'epochs': 6, 'optimizer': 'adam', 'lr': 0.006964422970705712}. Best is trial 8 with value: 0.9035136699676514.\n",
      "Training:  12%|█▎        | 16/128 [02:02<14:16,  7.65s/Epochs]\n",
      "[I 2024-01-25 14:39:21,147] Trial 13 pruned. \n",
      "Training:  56%|█████▋    | 36/64 [14:13<11:04, 23.72s/Epochs]\n",
      "[I 2024-01-25 14:53:58,020] Trial 14 pruned. \n",
      "Training:  25%|██▌       | 32/128 [11:20<34:02, 21.28s/Epochs]\n",
      "[I 2024-01-25 15:05:43,770] Trial 15 pruned. \n",
      "Training:  25%|██▌       | 16/64 [02:02<06:08,  7.68s/Epochs]\n",
      "[I 2024-01-25 15:08:12,085] Trial 16 pruned. \n",
      "Training:   0%|          | 0/256 [00:19<?, ?Epochs/s]\n",
      "[I 2024-01-25 15:08:55,848] Trial 17 pruned. \n",
      "Training:   0%|          | 0/16 [00:04<?, ?Epochs/s]\n",
      "[I 2024-01-25 15:09:25,801] Trial 18 pruned. \n",
      "Training:   0%|          | 0/64 [00:05<?, ?Epochs/s]\n",
      "[I 2024-01-25 15:09:58,113] Trial 19 pruned. \n",
      "Training:  75%|███████▌  | 12/16 [04:35<01:31, 22.96s/Epochs]\n",
      "[I 2024-01-25 15:15:00,200] Trial 20 pruned. \n",
      "Training:  12%|█▎        | 16/128 [17:11<2:00:23, 64.50s/Epochs]\n",
      "[I 2024-01-25 15:32:37,487] Trial 21 pruned. \n",
      "Training:   0%|          | 0/64 [00:02<?, ?Epochs/s]\n",
      "[I 2024-01-25 15:33:04,767] Trial 22 pruned. \n",
      "Training:  12%|█▎        | 4/32 [00:18<02:12,  4.72s/Epochs]\n",
      "[I 2024-01-25 15:33:47,837] Trial 23 pruned. \n",
      "Training:  50%|█████     | 32/64 [03:13<03:13,  6.06s/Epochs]\n",
      "[I 2024-01-25 15:37:26,077] Trial 24 pruned. \n",
      "Training:   0%|          | 0/128 [00:16<?, ?Epochs/s]\n",
      "[I 2024-01-25 15:38:06,519] Trial 25 pruned. \n",
      "Training:  62%|██████▎   | 40/64 [01:21<00:49,  2.05s/Epochs]\n",
      "[I 2024-01-25 15:39:54,226] Trial 26 pruned. \n",
      "Training:  12%|█▎        | 4/32 [00:19<02:13,  4.78s/Epochs]\n",
      "[I 2024-01-25 15:40:41,810] Trial 27 pruned. \n",
      "Training:   6%|▋         | 16/256 [05:51<1:27:53, 21.97s/Epochs]\n",
      "[I 2024-01-25 15:46:57,998] Trial 28 pruned. \n",
      "Training:   0%|          | 0/64 [00:08<?, ?Epochs/s]\n",
      "[I 2024-01-25 15:47:31,267] Trial 29 pruned. \n",
      "Training:  12%|█▎        | 4/32 [01:09<08:07, 17.42s/Epochs]\n",
      "[I 2024-01-25 15:49:07,125] Trial 30 pruned. \n",
      "Training: 100%|██████████| 128/128 [1:38:39<00:00, 46.24s/Epochs]\n",
      "[I 2024-01-25 17:28:10,726] Trial 31 finished with value: 0.9041783213615417 and parameters: {'num_layers{}': 2, 'num_mlp_layers{}': 3, 'log_batch_size': 1, 'hidden_dim': 4, 'dropout': 0.2240320265134565, 'epochs': 7, 'optimizer': 'adam', 'lr': 0.00046723277337950956}. Best is trial 31 with value: 0.9041783213615417.\n",
      "Training:   0%|          | 0/128 [00:57<?, ?Epochs/s]\n",
      "[I 2024-01-25 17:29:31,967] Trial 32 pruned. \n",
      "Training:   0%|          | 0/128 [00:52<?, ?Epochs/s]\n",
      "[I 2024-01-25 17:30:49,995] Trial 33 pruned. \n",
      "Training:   0%|          | 0/64 [01:02<?, ?Epochs/s]\n",
      "[I 2024-01-25 17:32:19,654] Trial 34 pruned. \n",
      "Training: 100%|██████████| 256/256 [1:36:55<00:00, 22.72s/Epochs]\n",
      "[I 2024-01-25 19:09:40,880] Trial 35 finished with value: 0.909699022769928 and parameters: {'num_layers{}': 2, 'num_mlp_layers{}': 1, 'log_batch_size': 2, 'hidden_dim': 4, 'dropout': 0.2674146882456495, 'epochs': 8, 'optimizer': 'adagrad', 'lr': 0.006979582856398389}. Best is trial 35 with value: 0.909699022769928.\n",
      "Training:   0%|          | 0/256 [00:27<?, ?Epochs/s]\n",
      "[I 2024-01-25 19:10:33,005] Trial 36 pruned. \n",
      "Training:  52%|█████▏    | 132/256 [50:33<47:29, 22.98s/Epochs]  \n",
      "[I 2024-01-25 20:01:30,646] Trial 37 pruned. \n",
      "Training:   0%|          | 0/128 [00:15<?, ?Epochs/s]\n",
      "[I 2024-01-25 20:02:11,685] Trial 38 pruned. \n",
      "Training:   0%|          | 0/256 [00:57<?, ?Epochs/s]\n",
      "[I 2024-01-25 20:03:33,479] Trial 39 pruned. \n",
      "Training:   0%|          | 0/128 [00:33<?, ?Epochs/s]\n",
      "[I 2024-01-25 20:04:30,905] Trial 40 pruned. \n",
      "Training:   0%|          | 0/256 [00:15<?, ?Epochs/s]\n",
      "[I 2024-01-25 20:05:10,040] Trial 41 pruned. \n",
      "Training:  25%|██▌       | 16/64 [11:36<34:49, 43.53s/Epochs]\n",
      "[I 2024-01-25 20:17:11,890] Trial 42 pruned. \n",
      "Training:   0%|          | 0/32 [00:03<?, ?Epochs/s]\n",
      "[I 2024-01-25 20:17:39,394] Trial 43 pruned. \n",
      "Training:   0%|          | 0/128 [00:26<?, ?Epochs/s]\n",
      "[I 2024-01-25 20:18:31,151] Trial 44 pruned. \n",
      "Training:   0%|          | 0/64 [00:56<?, ?Epochs/s]\n",
      "[I 2024-01-25 20:19:54,080] Trial 45 pruned. \n",
      "Training:   0%|          | 0/128 [00:29<?, ?Epochs/s]\n",
      "[I 2024-01-25 20:20:47,221] Trial 46 pruned. \n",
      "Training:   0%|          | 0/4 [00:07<?, ?Epochs/s]\n",
      "[I 2024-01-25 20:21:20,328] Trial 47 pruned. \n",
      "Training:   0%|          | 0/32 [00:16<?, ?Epochs/s]\n",
      "[I 2024-01-25 20:22:01,329] Trial 48 pruned. \n",
      "Training:   0%|          | 0/8 [00:05<?, ?Epochs/s]\n",
      "[I 2024-01-25 20:22:32,317] Trial 49 pruned. \n",
      "Training:   0%|          | 0/64 [00:03<?, ?Epochs/s]\n",
      "[I 2024-01-25 20:23:01,680] Trial 50 pruned. \n",
      "Training:  12%|█▎        | 16/128 [03:02<21:15, 11.39s/Epochs]\n",
      "[I 2024-01-25 20:26:27,288] Trial 51 pruned. \n",
      "Training: 100%|██████████| 8/8 [05:19<00:00, 39.94s/Epochs]\n",
      "[I 2024-01-25 20:32:10,751] Trial 52 finished with value: 0.8857302069664001 and parameters: {'num_layers{}': 1, 'num_mlp_layers{}': 4, 'log_batch_size': 1, 'hidden_dim': 7, 'dropout': 0.07675943549665115, 'epochs': 3, 'optimizer': 'adagrad', 'lr': 0.0009935580765518136}. Best is trial 35 with value: 0.909699022769928.\n",
      "Training:   0%|          | 0/8 [00:52<?, ?Epochs/s]\n",
      "[I 2024-01-25 20:33:28,603] Trial 53 pruned. \n",
      "Training:   0%|          | 0/8 [01:06<?, ?Epochs/s]\n",
      "[I 2024-01-25 20:35:01,332] Trial 54 pruned. \n",
      "Training: 100%|██████████| 16/16 [05:23<00:00, 20.22s/Epochs]\n",
      "[I 2024-01-25 20:40:49,173] Trial 55 finished with value: 0.8979364633560181 and parameters: {'num_layers{}': 1, 'num_mlp_layers{}': 5, 'log_batch_size': 2, 'hidden_dim': 7, 'dropout': 0.0976133033166521, 'epochs': 4, 'optimizer': 'adagrad', 'lr': 0.015557121367719601}. Best is trial 35 with value: 0.909699022769928.\n",
      "Training:   0%|          | 0/32 [00:32<?, ?Epochs/s]\n",
      "[I 2024-01-25 20:41:45,354] Trial 56 pruned. \n",
      "Training:   0%|          | 0/64 [00:29<?, ?Epochs/s]\n",
      "[I 2024-01-25 20:42:40,333] Trial 57 pruned. \n",
      "Training:   0%|          | 0/16 [00:34<?, ?Epochs/s]\n",
      "[I 2024-01-25 20:43:37,993] Trial 58 pruned. \n",
      "Training: 100%|██████████| 16/16 [06:06<00:00, 22.94s/Epochs]\n",
      "[I 2024-01-25 20:50:09,590] Trial 59 finished with value: 0.8976640105247498 and parameters: {'num_layers{}': 2, 'num_mlp_layers{}': 1, 'log_batch_size': 2, 'hidden_dim': 6, 'dropout': 0.10970651331523416, 'epochs': 4, 'optimizer': 'adagrad', 'lr': 0.010353264222300302}. Best is trial 35 with value: 0.909699022769928.\n",
      "Training:   0%|          | 0/16 [00:08<?, ?Epochs/s]\n",
      "[I 2024-01-25 20:50:46,238] Trial 60 pruned. \n",
      "Training: 100%|██████████| 16/16 [06:53<00:00, 25.83s/Epochs]\n",
      "[I 2024-01-25 20:58:05,071] Trial 61 finished with value: 0.9187082648277283 and parameters: {'num_layers{}': 3, 'num_mlp_layers{}': 2, 'log_batch_size': 2, 'hidden_dim': 7, 'dropout': 0.0355622613265469, 'epochs': 4, 'optimizer': 'adagrad', 'lr': 0.010529157165200883}. Best is trial 61 with value: 0.9187082648277283.\n",
      "Training: 100%|██████████| 16/16 [06:45<00:00, 25.33s/Epochs]\n",
      "[I 2024-01-25 21:05:16,427] Trial 62 finished with value: 0.9220055937767029 and parameters: {'num_layers{}': 3, 'num_mlp_layers{}': 3, 'log_batch_size': 2, 'hidden_dim': 7, 'dropout': 0.04107881907934019, 'epochs': 4, 'optimizer': 'adagrad', 'lr': 0.010306402044455541}. Best is trial 62 with value: 0.9220055937767029.\n",
      "Training:   0%|          | 0/16 [00:30<?, ?Epochs/s]\n",
      "[I 2024-01-25 21:06:10,820] Trial 63 pruned. \n",
      "Training:   0%|          | 0/16 [00:33<?, ?Epochs/s]\n",
      "[I 2024-01-25 21:07:10,359] Trial 64 pruned. \n",
      "Training:   0%|          | 0/16 [00:17<?, ?Epochs/s]\n",
      "[I 2024-01-25 21:07:53,644] Trial 65 pruned. \n",
      "Training: 100%|██████████| 32/32 [14:48<00:00, 27.77s/Epochs]\n",
      "[I 2024-01-25 21:23:06,465] Trial 66 finished with value: 0.8947075605392456 and parameters: {'num_layers{}': 4, 'num_mlp_layers{}': 3, 'log_batch_size': 2, 'hidden_dim': 7, 'dropout': 0.08745472210518643, 'epochs': 5, 'optimizer': 'adagrad', 'lr': 0.002205493679627255}. Best is trial 62 with value: 0.9220055937767029.\n",
      "Training: 100%|██████████| 8/8 [01:43<00:00, 12.89s/Epochs]\n",
      "[I 2024-01-25 21:25:14,000] Trial 67 finished with value: 0.9120756983757019 and parameters: {'num_layers{}': 3, 'num_mlp_layers{}': 2, 'log_batch_size': 3, 'hidden_dim': 7, 'dropout': 0.04155856543076781, 'epochs': 3, 'optimizer': 'adagrad', 'lr': 0.004489538257234915}. Best is trial 62 with value: 0.9220055937767029.\n",
      "Training: 100%|██████████| 4/4 [00:26<00:00,  6.71s/Epochs]\n",
      "[I 2024-01-25 21:26:05,084] Trial 68 finished with value: 0.8935933113098145 and parameters: {'num_layers{}': 3, 'num_mlp_layers{}': 2, 'log_batch_size': 4, 'hidden_dim': 7, 'dropout': 0.04203311037154834, 'epochs': 2, 'optimizer': 'adagrad', 'lr': 0.004030789503888981}. Best is trial 62 with value: 0.9220055937767029.\n",
      "Training:   0%|          | 0/8 [00:16<?, ?Epochs/s]\n",
      "[I 2024-01-25 21:26:44,778] Trial 69 pruned. \n",
      "Training:   0%|          | 0/256 [00:15<?, ?Epochs/s]\n",
      "[I 2024-01-25 21:27:25,279] Trial 70 pruned. \n",
      "Training: 100%|██████████| 8/8 [00:58<00:00,  7.37s/Epochs]\n",
      "[I 2024-01-25 21:28:48,899] Trial 71 finished with value: 0.8935340046882629 and parameters: {'num_layers{}': 4, 'num_mlp_layers{}': 2, 'log_batch_size': 4, 'hidden_dim': 7, 'dropout': 0.05234113249431338, 'epochs': 3, 'optimizer': 'adagrad', 'lr': 0.008122535456714266}. Best is trial 62 with value: 0.9220055937767029.\n",
      "Training: 100%|██████████| 16/16 [06:47<00:00, 25.46s/Epochs]\n",
      "[I 2024-01-25 21:35:59,165] Trial 72 finished with value: 0.8067929148674011 and parameters: {'num_layers{}': 3, 'num_mlp_layers{}': 3, 'log_batch_size': 2, 'hidden_dim': 7, 'dropout': 0.08511845572530832, 'epochs': 4, 'optimizer': 'adagrad', 'lr': 0.01471210876603172}. Best is trial 62 with value: 0.9220055937767029.\n",
      "Training: 100%|██████████| 32/32 [15:42<00:00, 29.44s/Epochs]\n",
      "[I 2024-01-25 21:52:05,233] Trial 73 finished with value: 0.9071189761161804 and parameters: {'num_layers{}': 5, 'num_mlp_layers{}': 3, 'log_batch_size': 2, 'hidden_dim': 7, 'dropout': 0.027312834526806273, 'epochs': 5, 'optimizer': 'adagrad', 'lr': 0.004479291567828789}. Best is trial 62 with value: 0.9220055937767029.\n",
      "Training:   0%|          | 0/32 [00:36<?, ?Epochs/s]\n",
      "[I 2024-01-25 21:53:05,767] Trial 74 pruned. \n",
      "Training: 100%|██████████| 32/32 [07:53<00:00, 14.78s/Epochs]\n",
      "[I 2024-01-25 22:01:24,723] Trial 75 finished with value: 0.8943269848823547 and parameters: {'num_layers{}': 5, 'num_mlp_layers{}': 3, 'log_batch_size': 3, 'hidden_dim': 7, 'dropout': 0.0024247376891933584, 'epochs': 5, 'optimizer': 'adagrad', 'lr': 0.004198066476783143}. Best is trial 62 with value: 0.9220055937767029.\n",
      "Training:   0%|          | 0/32 [00:39<?, ?Epochs/s]\n",
      "[I 2024-01-25 22:02:28,634] Trial 76 pruned. \n",
      "Training:   0%|          | 0/64 [01:01<?, ?Epochs/s]\n",
      "[I 2024-01-25 22:03:55,302] Trial 77 pruned. \n",
      "Training:   0%|          | 0/4 [00:17<?, ?Epochs/s]\n",
      "[I 2024-01-25 22:04:37,768] Trial 78 pruned. \n",
      "Training:   0%|          | 0/128 [01:02<?, ?Epochs/s]\n",
      "[I 2024-01-25 22:06:03,241] Trial 79 pruned. \n",
      "Training:   0%|          | 0/256 [00:29<?, ?Epochs/s]\n",
      "[I 2024-01-25 22:06:56,407] Trial 80 pruned. \n",
      "Training:   0%|          | 0/64 [00:09<?, ?Epochs/s]\n",
      "[I 2024-01-25 22:07:29,349] Trial 81 pruned. \n",
      "Training: 100%|██████████| 16/16 [06:18<00:00, 23.63s/Epochs]\n",
      "[I 2024-01-25 22:14:11,647] Trial 82 finished with value: 0.9293267130851746 and parameters: {'num_layers{}': 2, 'num_mlp_layers{}': 4, 'log_batch_size': 2, 'hidden_dim': 7, 'dropout': 0.018783865254217595, 'epochs': 4, 'optimizer': 'adagrad', 'lr': 0.0050634963642787025}. Best is trial 82 with value: 0.9293267130851746.\n",
      "Training:   0%|          | 0/16 [00:29<?, ?Epochs/s]\n",
      "[I 2024-01-25 22:15:06,997] Trial 83 pruned. \n",
      "Training:   0%|          | 0/8 [00:32<?, ?Epochs/s]\n",
      "[I 2024-01-25 22:16:04,966] Trial 84 pruned. \n",
      "Training:   0%|          | 0/16 [00:29<?, ?Epochs/s]\n",
      "[I 2024-01-25 22:16:59,743] Trial 85 pruned. \n",
      "Training:   0%|          | 0/32 [01:00<?, ?Epochs/s]\n",
      "[I 2024-01-25 22:18:25,860] Trial 86 pruned. \n",
      "Training:   0%|          | 0/8 [00:38<?, ?Epochs/s]\n",
      "[I 2024-01-25 22:19:28,076] Trial 87 pruned. \n",
      "Training:   0%|          | 0/128 [00:17<?, ?Epochs/s]\n",
      "[I 2024-01-25 22:20:11,960] Trial 88 pruned. \n",
      "Training:   0%|          | 0/16 [00:30<?, ?Epochs/s]\n",
      "[I 2024-01-25 22:21:08,468] Trial 89 pruned. \n",
      "Training:   0%|          | 0/32 [00:32<?, ?Epochs/s]\n",
      "[I 2024-01-25 22:22:06,163] Trial 90 pruned. \n",
      "Training:   0%|          | 0/128 [00:56<?, ?Epochs/s]\n",
      "[I 2024-01-25 22:23:26,397] Trial 91 pruned. \n",
      "Training: 100%|██████████| 16/16 [05:23<00:00, 20.20s/Epochs]\n",
      "[I 2024-01-25 22:29:16,010] Trial 92 finished with value: 0.9098497629165649 and parameters: {'num_layers{}': 1, 'num_mlp_layers{}': 5, 'log_batch_size': 2, 'hidden_dim': 7, 'dropout': 0.03116259107134759, 'epochs': 4, 'optimizer': 'adagrad', 'lr': 0.020667427132904738}. Best is trial 82 with value: 0.9293267130851746.\n",
      "Training: 100%|██████████| 16/16 [05:24<00:00, 20.29s/Epochs]\n",
      "[I 2024-01-25 22:35:05,804] Trial 93 finished with value: 0.9132369160652161 and parameters: {'num_layers{}': 1, 'num_mlp_layers{}': 5, 'log_batch_size': 2, 'hidden_dim': 7, 'dropout': 0.27174498056766405, 'epochs': 4, 'optimizer': 'adagrad', 'lr': 0.02129035839743305}. Best is trial 82 with value: 0.9293267130851746.\n",
      "Training:   0%|          | 0/16 [00:27<?, ?Epochs/s]\n",
      "[I 2024-01-25 22:35:59,261] Trial 94 pruned. \n",
      "Training:   0%|          | 0/16 [00:29<?, ?Epochs/s]\n",
      "[I 2024-01-25 22:36:52,934] Trial 95 pruned. \n",
      "Training: 100%|██████████| 16/16 [06:45<00:00, 25.35s/Epochs]\n",
      "[I 2024-01-25 22:44:04,599] Trial 96 finished with value: 0.902615487575531 and parameters: {'num_layers{}': 3, 'num_mlp_layers{}': 5, 'log_batch_size': 2, 'hidden_dim': 7, 'dropout': 0.23690046985975866, 'epochs': 4, 'optimizer': 'adagrad', 'lr': 0.02075519740800404}. Best is trial 82 with value: 0.9293267130851746.\n",
      "Training: 100%|██████████| 16/16 [06:01<00:00, 22.60s/Epochs]\n",
      "[I 2024-01-25 22:50:31,544] Trial 97 finished with value: 0.9075208902359009 and parameters: {'num_layers{}': 2, 'num_mlp_layers{}': 5, 'log_batch_size': 2, 'hidden_dim': 7, 'dropout': 0.2745994265125533, 'epochs': 4, 'optimizer': 'adagrad', 'lr': 0.004971434207588028}. Best is trial 82 with value: 0.9293267130851746.\n",
      "Training:   0%|          | 0/8 [00:29<?, ?Epochs/s]\n",
      "[I 2024-01-25 22:51:25,439] Trial 98 pruned. \n",
      "Training:   0%|          | 0/16 [00:27<?, ?Epochs/s]\n",
      "[I 2024-01-25 22:52:18,756] Trial 99 pruned. \n",
      "Training: 100%|██████████| 16/16 [10:36<00:00, 39.80s/Epochs]\n",
      "[I 2024-01-25 23:03:19,279] Trial 100 finished with value: 0.8990519046783447 and parameters: {'num_layers{}': 1, 'num_mlp_layers{}': 5, 'log_batch_size': 1, 'hidden_dim': 7, 'dropout': 0.256972887822875, 'epochs': 4, 'optimizer': 'adagrad', 'lr': 0.006327237799833785}. Best is trial 82 with value: 0.9293267130851746.\n",
      "Training:   0%|          | 0/16 [00:27<?, ?Epochs/s]\n",
      "[I 2024-01-25 23:04:14,089] Trial 101 pruned. \n",
      "Training:   0%|          | 0/16 [00:30<?, ?Epochs/s]\n",
      "[I 2024-01-25 23:05:11,088] Trial 102 pruned. \n",
      "Training:   0%|          | 0/16 [00:26<?, ?Epochs/s]\n",
      "[I 2024-01-25 23:06:03,193] Trial 103 pruned. \n",
      "Training:   0%|          | 0/16 [00:28<?, ?Epochs/s]\n",
      "[I 2024-01-25 23:06:55,221] Trial 104 pruned. \n",
      "Training: 100%|██████████| 8/8 [03:27<00:00, 25.99s/Epochs]\n",
      "[I 2024-01-25 23:10:48,641] Trial 105 finished with value: 0.9017857313156128 and parameters: {'num_layers{}': 3, 'num_mlp_layers{}': 4, 'log_batch_size': 2, 'hidden_dim': 7, 'dropout': 0.2832708240736002, 'epochs': 3, 'optimizer': 'adagrad', 'lr': 0.018520995197665268}. Best is trial 82 with value: 0.9293267130851746.\n",
      "Training:   0%|          | 0/32 [00:15<?, ?Epochs/s]\n",
      "[I 2024-01-25 23:11:29,655] Trial 106 pruned. \n",
      "Training:   0%|          | 0/32 [00:31<?, ?Epochs/s]\n",
      "[I 2024-01-25 23:12:25,773] Trial 107 pruned. \n",
      "Training:   0%|          | 0/256 [00:26<?, ?Epochs/s]\n",
      "[I 2024-01-25 23:13:16,531] Trial 108 pruned. \n",
      "Training:   0%|          | 0/16 [00:39<?, ?Epochs/s]\n",
      "[I 2024-01-25 23:14:19,879] Trial 109 pruned. \n",
      "Training:   0%|          | 0/8 [00:15<?, ?Epochs/s]\n",
      "[I 2024-01-25 23:14:58,848] Trial 110 pruned. \n",
      "Training:   0%|          | 0/16 [00:27<?, ?Epochs/s]\n",
      "[I 2024-01-25 23:15:49,703] Trial 111 pruned. \n",
      "Training:   0%|          | 0/16 [00:31<?, ?Epochs/s]\n",
      "[I 2024-01-25 23:16:46,774] Trial 112 pruned. \n",
      "Training:   0%|          | 0/16 [00:31<?, ?Epochs/s]\n",
      "[I 2024-01-25 23:17:42,900] Trial 113 pruned. \n",
      "Training:   0%|          | 0/16 [00:32<?, ?Epochs/s]\n",
      "[I 2024-01-25 23:18:41,647] Trial 114 pruned. \n",
      "Training: 100%|██████████| 16/16 [15:25<00:00, 57.86s/Epochs]\n",
      "[I 2024-01-25 23:34:32,370] Trial 115 finished with value: 0.9091416001319885 and parameters: {'num_layers{}': 5, 'num_mlp_layers{}': 5, 'log_batch_size': 1, 'hidden_dim': 7, 'dropout': 0.021536798128841336, 'epochs': 4, 'optimizer': 'adagrad', 'lr': 0.010414438127570922}. Best is trial 82 with value: 0.9293267130851746.\n",
      "Training: 100%|██████████| 8/8 [07:51<00:00, 58.96s/Epochs]\n",
      "[I 2024-01-25 23:42:50,759] Trial 116 finished with value: 0.3359287977218628 and parameters: {'num_layers{}': 5, 'num_mlp_layers{}': 5, 'log_batch_size': 1, 'hidden_dim': 7, 'dropout': 0.024325869083748335, 'epochs': 3, 'optimizer': 'adagrad', 'lr': 0.010611910339315305}. Best is trial 82 with value: 0.9293267130851746.\n",
      "Training: 100%|██████████| 32/32 [31:10<00:00, 58.44s/Epochs]\n",
      "[I 2024-01-26 00:14:26,544] Trial 117 finished with value: 0.9089385271072388 and parameters: {'num_layers{}': 5, 'num_mlp_layers{}': 5, 'log_batch_size': 1, 'hidden_dim': 7, 'dropout': 0.07945118543821342, 'epochs': 5, 'optimizer': 'adagrad', 'lr': 0.0054894958063687865}. Best is trial 82 with value: 0.9293267130851746.\n",
      "Training:   0%|          | 0/32 [01:09<?, ?Epochs/s]\n",
      "[I 2024-01-26 00:16:03,119] Trial 118 pruned. \n",
      "Training: 100%|██████████| 32/32 [31:30<00:00, 59.09s/Epochs]\n",
      "[I 2024-01-26 00:47:59,662] Trial 119 finished with value: 0.907623827457428 and parameters: {'num_layers{}': 5, 'num_mlp_layers{}': 5, 'log_batch_size': 1, 'hidden_dim': 7, 'dropout': 0.09390646128883491, 'epochs': 5, 'optimizer': 'adagrad', 'lr': 0.007979613358453916}. Best is trial 82 with value: 0.9293267130851746.\n",
      "Training:  12%|█▎        | 4/32 [05:03<35:21, 75.75s/Epochs]\n",
      "[I 2024-01-26 00:53:27,085] Trial 120 pruned. \n",
      "Training: 100%|██████████| 32/32 [31:15<00:00, 58.62s/Epochs]\n",
      "[I 2024-01-26 01:25:07,737] Trial 121 finished with value: 0.9170379042625427 and parameters: {'num_layers{}': 5, 'num_mlp_layers{}': 5, 'log_batch_size': 1, 'hidden_dim': 7, 'dropout': 0.051256685516150945, 'epochs': 5, 'optimizer': 'adagrad', 'lr': 0.003347618857088595}. Best is trial 82 with value: 0.9293267130851746.\n",
      "Training:   0%|          | 0/32 [01:10<?, ?Epochs/s]\n",
      "[I 2024-01-26 01:26:43,858] Trial 122 pruned. \n",
      "Training:   0%|          | 0/32 [01:12<?, ?Epochs/s]\n",
      "[I 2024-01-26 01:28:19,948] Trial 123 pruned. \n",
      "Training:   0%|          | 0/32 [01:08<?, ?Epochs/s]\n",
      "[I 2024-01-26 01:29:52,913] Trial 124 pruned. \n",
      "Training:  12%|█▎        | 4/32 [05:04<35:32, 76.14s/Epochs]\n",
      "[I 2024-01-26 01:35:23,349] Trial 125 pruned. \n",
      "Training: 100%|██████████| 32/32 [31:28<00:00, 59.03s/Epochs]\n",
      "[I 2024-01-26 02:07:16,775] Trial 126 finished with value: 0.931476354598999 and parameters: {'num_layers{}': 5, 'num_mlp_layers{}': 5, 'log_batch_size': 1, 'hidden_dim': 7, 'dropout': 0.011515647431820777, 'epochs': 5, 'optimizer': 'adagrad', 'lr': 0.008364774737721301}. Best is trial 126 with value: 0.931476354598999.\n",
      "Training:   0%|          | 0/32 [01:11<?, ?Epochs/s]\n",
      "[I 2024-01-26 02:08:52,333] Trial 127 pruned. \n",
      "Training:   0%|          | 0/16 [01:18<?, ?Epochs/s]\n",
      "[I 2024-01-26 02:10:35,796] Trial 128 pruned. \n",
      "Training:   0%|          | 0/16 [01:11<?, ?Epochs/s]\n",
      "[I 2024-01-26 02:12:11,785] Trial 129 pruned. \n",
      "Training:   0%|          | 0/32 [01:13<?, ?Epochs/s]\n",
      "[I 2024-01-26 02:13:48,578] Trial 130 pruned. \n",
      "Training: 100%|██████████| 16/16 [15:30<00:00, 58.14s/Epochs]\n",
      "[I 2024-01-26 02:29:43,005] Trial 131 finished with value: 0.9147632718086243 and parameters: {'num_layers{}': 5, 'num_mlp_layers{}': 5, 'log_batch_size': 1, 'hidden_dim': 7, 'dropout': 0.0012413833399211455, 'epochs': 4, 'optimizer': 'adagrad', 'lr': 0.01052672565286705}. Best is trial 126 with value: 0.931476354598999.\n",
      "Training:   0%|          | 0/16 [01:10<?, ?Epochs/s]\n",
      "[I 2024-01-26 02:31:18,305] Trial 132 pruned. \n",
      "Training:   0%|          | 0/16 [01:13<?, ?Epochs/s]\n",
      "[I 2024-01-26 02:32:57,661] Trial 133 pruned. \n",
      "Training:   0%|          | 0/16 [01:11<?, ?Epochs/s]\n",
      "[I 2024-01-26 02:34:34,625] Trial 134 pruned. \n",
      "Training:  25%|██▌       | 4/16 [05:10<15:30, 77.57s/Epochs]\n",
      "[I 2024-01-26 02:40:10,642] Trial 135 pruned. \n",
      "Training:   0%|          | 0/32 [01:10<?, ?Epochs/s]\n",
      "[I 2024-01-26 02:41:46,334] Trial 136 pruned. \n",
      "Training:  25%|██▌       | 4/16 [04:37<13:51, 69.26s/Epochs]\n",
      "[I 2024-01-26 02:46:47,330] Trial 137 pruned. \n",
      "Training:   0%|          | 0/16 [01:17<?, ?Epochs/s]\n",
      "[I 2024-01-26 02:48:28,973] Trial 138 pruned. \n",
      "Training: 100%|██████████| 32/32 [28:38<00:00, 53.71s/Epochs]\n",
      "[I 2024-01-26 03:17:32,226] Trial 139 finished with value: 0.9181970357894897 and parameters: {'num_layers{}': 4, 'num_mlp_layers{}': 5, 'log_batch_size': 1, 'hidden_dim': 7, 'dropout': 0.018541889738187253, 'epochs': 5, 'optimizer': 'adagrad', 'lr': 0.006661361999139277}. Best is trial 126 with value: 0.931476354598999.\n",
      "Training: 100%|██████████| 32/32 [28:36<00:00, 53.63s/Epochs]\n",
      "[I 2024-01-26 03:46:32,865] Trial 140 finished with value: 0.9254313111305237 and parameters: {'num_layers{}': 4, 'num_mlp_layers{}': 5, 'log_batch_size': 1, 'hidden_dim': 7, 'dropout': 0.0226123132492902, 'epochs': 5, 'optimizer': 'adagrad', 'lr': 0.016187915575489445}. Best is trial 126 with value: 0.931476354598999.\n",
      "Training:   0%|          | 0/32 [01:06<?, ?Epochs/s]\n",
      "[I 2024-01-26 03:48:06,755] Trial 141 pruned. \n",
      "Training: 100%|██████████| 32/32 [28:31<00:00, 53.47s/Epochs]\n",
      "[I 2024-01-26 04:17:04,115] Trial 142 finished with value: 0.9281337261199951 and parameters: {'num_layers{}': 4, 'num_mlp_layers{}': 5, 'log_batch_size': 1, 'hidden_dim': 7, 'dropout': 0.03133528792890621, 'epochs': 5, 'optimizer': 'adagrad', 'lr': 0.009710654452064222}. Best is trial 126 with value: 0.931476354598999.\n",
      "Training:   0%|          | 0/32 [01:05<?, ?Epochs/s]\n",
      "[I 2024-01-26 04:18:35,344] Trial 143 pruned. \n",
      "Training:   0%|          | 0/32 [01:04<?, ?Epochs/s]\n",
      "[I 2024-01-26 04:20:03,810] Trial 144 pruned. \n",
      "Training:   0%|          | 0/32 [01:08<?, ?Epochs/s]\n",
      "[I 2024-01-26 04:21:37,255] Trial 145 pruned. \n",
      "Training:   0%|          | 0/32 [01:03<?, ?Epochs/s]\n",
      "[I 2024-01-26 04:23:06,997] Trial 146 pruned. \n",
      "Training: 100%|██████████| 32/32 [28:32<00:00, 53.50s/Epochs]\n",
      "[I 2024-01-26 04:52:02,424] Trial 147 finished with value: 0.8953229784965515 and parameters: {'num_layers{}': 4, 'num_mlp_layers{}': 5, 'log_batch_size': 1, 'hidden_dim': 7, 'dropout': 0.05344828936954493, 'epochs': 5, 'optimizer': 'adagrad', 'lr': 0.009368739475269231}. Best is trial 126 with value: 0.931476354598999.\n",
      "Training: 100%|██████████| 4/4 [03:37<00:00, 54.33s/Epochs]\n",
      "[I 2024-01-26 04:56:04,845] Trial 148 finished with value: 0.8969933390617371 and parameters: {'num_layers{}': 4, 'num_mlp_layers{}': 5, 'log_batch_size': 1, 'hidden_dim': 7, 'dropout': 0.0024698814924506048, 'epochs': 2, 'optimizer': 'adagrad', 'lr': 0.023904170426981074}. Best is trial 126 with value: 0.931476354598999.\n"
     ]
    },
    {
     "name": "stdout",
     "output_type": "stream",
     "text": [
      "Study statistics: \n",
      "  Number of finished trials:  149\n",
      "  Number of pruned trials:  106\n",
      "  Number of complete trials:  42\n",
      "Best trial:\n",
      "  Value:  0.931476354598999\n",
      "  Params: \n",
      "    num_layers{}: 5\n",
      "    num_mlp_layers{}: 5\n",
      "    log_batch_size: 1\n",
      "    hidden_dim: 7\n",
      "    dropout: 0.011515647431820777\n",
      "    epochs: 5\n",
      "    optimizer: adagrad\n",
      "    lr: 0.008364774737721301\n"
     ]
    }
   ],
   "source": [
    "import optuna\n",
    "from optuna.trial import TrialState\n",
    "\n",
    "study = optuna.create_study(study_name='parallel-hyperparam-study', direction='maximize', storage='sqlite:///parallel_hyperparam.db', load_if_exists=True)\n",
    "study.optimize(objective, n_trials=1000, timeout=60000)\n",
    "\n",
    "pruned_trials = study.get_trials(deepcopy=False, states=[TrialState.PRUNED])\n",
    "complete_trials = study.get_trials(deepcopy=False, states=[TrialState.COMPLETE])\n",
    "\n",
    "print(\"Study statistics: \")\n",
    "print(\"  Number of finished trials: \", len(study.trials))\n",
    "print(\"  Number of pruned trials: \", len(pruned_trials))\n",
    "print(\"  Number of complete trials: \", len(complete_trials))\n",
    "\n",
    "print(\"Best trial:\")\n",
    "trial = study.best_trial\n",
    "\n",
    "print(\"  Value: \", trial.value)\n",
    "\n",
    "print(\"  Params: \")\n",
    "for key, value in trial.params.items():\n",
    "\tprint(\"    {}: {}\".format(key, value))\n"
   ]
  },
  {
   "cell_type": "code",
   "execution_count": null,
   "metadata": {},
   "outputs": [],
   "source": [
    "save(best_model[0], study.best_trial, 'parallel_base_learner_GNN1')"
   ]
  },
  {
   "cell_type": "code",
   "execution_count": 5,
   "metadata": {},
   "outputs": [],
   "source": [
    "# save(GNN, args, 'GNN3')"
   ]
  },
  {
   "cell_type": "code",
   "execution_count": 4,
   "metadata": {},
   "outputs": [],
   "source": [
    "GNN, args = load('GNN1', device)"
   ]
  },
  {
   "cell_type": "markdown",
   "metadata": {},
   "source": [
    "# Pivot to feature-generated graphs"
   ]
  },
  {
   "cell_type": "code",
   "execution_count": 4,
   "metadata": {},
   "outputs": [],
   "source": [
    "def get_location_graph(city):\n",
    "\tlocation_graph = ox.graph_from_place(city, network_type=\"drive\")\n",
    "\tlocation_graph = ox.speed.add_edge_speeds(location_graph)\n",
    "\tlocation_graph = ox.speed.add_edge_travel_times(location_graph)\n",
    "\treturn {'location_graph': location_graph, 'city': city}"
   ]
  },
  {
   "cell_type": "code",
   "execution_count": 8,
   "metadata": {},
   "outputs": [],
   "source": [
    "piedmont = get_location_graph(\"Piedmont, California, USA\")\n",
    "# san_francisco = get_location_graph(\"San Francisco, California, USA\")\n",
    "founex = get_location_graph(\"Founex, Switzerland\")\n",
    "carmel = get_location_graph(\"Carmel, Indiana, USA\")\n",
    "geneva = get_location_graph(\"Geneva, Switzerland\")"
   ]
  },
  {
   "cell_type": "code",
   "execution_count": 31,
   "metadata": {},
   "outputs": [],
   "source": [
    "args = {\n",
    "    'processor':         'GENConv',\n",
    "    'head':              'regression',\n",
    "    'num_layers':        2,\n",
    "    'num_mlp_layers':    2,\n",
    "    'aggr':              'max',\n",
    "    'batch_size':        32,\n",
    "    'node_feature_dim':  4,\n",
    "    'edge_feature_dim':  1,\n",
    "    'graph_feature_dim': 2,\n",
    "    'hidden_dim':        64,\n",
    "    'output_dim':        1,\n",
    "    'dropout':           0.35,\n",
    "    'epochs':            50,\n",
    "    'opt':               'adam',\n",
    "    'opt_scheduler':     'none',\n",
    "    'opt_restart':       0,\n",
    "    'weight_decay':      5e-3,\n",
    "    'lr':                0.0001,\n",
    "    'device':            device\n",
    "}\n",
    "\n",
    "train_num = 100; test_num = 30\n",
    "\n",
    "er_config = {\n",
    "    'graph_type': 'ER',\n",
    "    'p': 0.75,\n",
    "    'weighted': True\n",
    "}\n",
    "ba_config = {\n",
    "    'graph_type': 'BA',\n",
    "    'ba_param': 2,\n",
    "    'weighted': True\n",
    "}\n",
    "feat_config = {\n",
    "    'graph_type': 'FEAT',\n",
    "    'q': 0.85,\n",
    "    'weighted': True\n",
    "}\n",
    "osmnx_config = {\n",
    "    'graph_type': 'OSMNX',\n",
    "    'location_graph': piedmont['location_graph']\n",
    "}\n",
    "# osmnx_config_2 = {\n",
    "#     'graph_type': 'OSMNX',\n",
    "#     'location_graph': san_francisco['location_graph']\n",
    "# }\n",
    "\n",
    "# ox.plot_graph(piedmont['location_graph'])\n",
    "# ox.plot_graph(san_francisco['location_graph'])\n",
    "\n",
    "# part_config = {\n",
    "# \t'graph_type': 'PART',\n",
    "#     'p': 0.5,\n",
    "#     'size': 4,\n",
    "#     'eps': 0.1\n",
    "# },\n",
    "# part_config = {\n",
    "# \t'graph_type': 'PART',\n",
    "#     'p': 0.5,\n",
    "#     'size': 3,\n",
    "#     'eps': 0.3\n",
    "# }\n",
    "\n",
    "rng = np.random.default_rng()\n",
    "\n",
    "\n",
    "train_instances = [\n",
    "        *ig.sample_instances(8, 8, train_num, rng, **er_config),\n",
    "        *ig.sample_instances(8, 8, train_num, rng, **ba_config),\n",
    "        *ig.sample_instances(8, 8, train_num, rng, **feat_config),\n",
    "        *ig.sample_instances(8, 8, train_num, rng, **osmnx_config),\n",
    "        # *ig.sample_instances(8, 8, train_num, rng, **osmnx_config_2),\n",
    "        # *ig.sample_instances(8, 8, train_num, rng, **feat_config),\n",
    "        # *ig.sample_instances(8, 8, train_num, rng, **part_config),\n",
    "    ]\n",
    "\n",
    "test_instances = [\n",
    "        *ig.sample_instances(8, 8, test_num, rng, **er_config),\n",
    "        *ig.sample_instances(8, 8, test_num, rng, **ba_config),\n",
    "        *ig.sample_instances(8, 8, train_num, rng, **feat_config),\n",
    "        *ig.sample_instances(8, 8, train_num, rng, **osmnx_config),\n",
    "        # *ig.sample_instances(8, 8, train_num, rng, **osmnx_config_2),\n",
    "        # *ig.sample_instances(8, 8, train_num, rng, **feat_config),\n",
    "        # *ig.sample_instances(8, 8, train_num, rng, **part_config),\n",
    "    ]\n",
    "\n",
    "\n",
    "train_data = Dataset(tc._instances_to_train_samples(train_instances, args['head']))\n",
    "test_data = Dataset(tc._instances_to_train_samples(test_instances, args['head']))\n",
    "\n",
    "train_loader = DataLoader(\n",
    "    train_data,\n",
    "    batch_size=args['batch_size'],\n",
    "    shuffle=True,\n",
    "    num_workers=4\n",
    ")\n",
    "\n",
    "test_loader = DataLoader(\n",
    "    test_data,\n",
    "    batch_size=args['batch_size'],\n",
    "    shuffle=True,\n",
    "    num_workers=4\n",
    ")"
   ]
  },
  {
   "cell_type": "code",
   "execution_count": 32,
   "metadata": {},
   "outputs": [
    {
     "name": "stderr",
     "output_type": "stream",
     "text": [
      "Training:   0%|          | 0/50 [00:00<?, ?Epochs/s]"
     ]
    },
    {
     "name": "stdout",
     "output_type": "stream",
     "text": [
      "49.106903511831696\n"
     ]
    },
    {
     "name": "stderr",
     "output_type": "stream",
     "text": [
      "Training:   2%|▏         | 1/50 [00:07<06:20,  7.77s/Epochs]"
     ]
    },
    {
     "name": "stdout",
     "output_type": "stream",
     "text": [
      "TEST ACCURACY: 0.0\n",
      "TEST LOSS: 30.454212188720703\n"
     ]
    },
    {
     "name": "stderr",
     "output_type": "stream",
     "text": [
      "Training:   4%|▍         | 2/50 [00:12<04:49,  6.04s/Epochs]"
     ]
    },
    {
     "name": "stdout",
     "output_type": "stream",
     "text": [
      "50.58574105236018\n",
      "49.71131266371112\n"
     ]
    },
    {
     "name": "stderr",
     "output_type": "stream",
     "text": [
      "Training:   6%|▌         | 3/50 [00:20<05:24,  6.90s/Epochs]"
     ]
    },
    {
     "name": "stdout",
     "output_type": "stream",
     "text": [
      "TEST ACCURACY: 0.0\n",
      "TEST LOSS: 28.536415100097656\n"
     ]
    },
    {
     "name": "stderr",
     "output_type": "stream",
     "text": [
      "Training:   8%|▊         | 4/50 [00:25<04:43,  6.15s/Epochs]"
     ]
    },
    {
     "name": "stdout",
     "output_type": "stream",
     "text": [
      "50.395805121448554\n",
      "48.16656526672506\n"
     ]
    },
    {
     "name": "stderr",
     "output_type": "stream",
     "text": [
      "Training:  10%|█         | 5/50 [00:33<05:06,  6.81s/Epochs]"
     ]
    },
    {
     "name": "stdout",
     "output_type": "stream",
     "text": [
      "TEST ACCURACY: 0.0\n",
      "TEST LOSS: 26.773653030395508\n"
     ]
    },
    {
     "name": "stderr",
     "output_type": "stream",
     "text": [
      "Training:  12%|█▏        | 6/50 [00:38<04:30,  6.14s/Epochs]"
     ]
    },
    {
     "name": "stdout",
     "output_type": "stream",
     "text": [
      "47.57358171311494\n",
      "45.52464294326639\n"
     ]
    },
    {
     "name": "stderr",
     "output_type": "stream",
     "text": [
      "Training:  14%|█▍        | 7/50 [00:45<04:41,  6.54s/Epochs]"
     ]
    },
    {
     "name": "stdout",
     "output_type": "stream",
     "text": [
      "TEST ACCURACY: 0.0\n",
      "TEST LOSS: 26.396894454956055\n"
     ]
    },
    {
     "name": "stderr",
     "output_type": "stream",
     "text": [
      "Training:  16%|█▌        | 8/50 [00:50<04:12,  6.02s/Epochs]"
     ]
    },
    {
     "name": "stdout",
     "output_type": "stream",
     "text": [
      "46.53729570789872\n",
      "49.42635243638654\n"
     ]
    },
    {
     "name": "stderr",
     "output_type": "stream",
     "text": [
      "Training:  18%|█▊        | 9/50 [00:58<04:28,  6.56s/Epochs]"
     ]
    },
    {
     "name": "stdout",
     "output_type": "stream",
     "text": [
      "TEST ACCURACY: 0.0\n",
      "TEST LOSS: 24.67470932006836\n"
     ]
    },
    {
     "name": "stderr",
     "output_type": "stream",
     "text": [
      "Training:  20%|██        | 10/50 [01:03<04:02,  6.07s/Epochs]"
     ]
    },
    {
     "name": "stdout",
     "output_type": "stream",
     "text": [
      "47.79879299235121\n",
      "44.9593545633833\n"
     ]
    },
    {
     "name": "stderr",
     "output_type": "stream",
     "text": [
      "Training:  22%|██▏       | 11/50 [01:10<04:14,  6.54s/Epochs]"
     ]
    },
    {
     "name": "stdout",
     "output_type": "stream",
     "text": [
      "TEST ACCURACY: 0.0\n",
      "TEST LOSS: 25.050689697265625\n"
     ]
    },
    {
     "name": "stderr",
     "output_type": "stream",
     "text": [
      "Training:  24%|██▍       | 12/50 [01:15<03:50,  6.06s/Epochs]"
     ]
    },
    {
     "name": "stdout",
     "output_type": "stream",
     "text": [
      "47.46595388510517\n",
      "47.41107727344905\n"
     ]
    },
    {
     "name": "stderr",
     "output_type": "stream",
     "text": [
      "Training:  26%|██▌       | 13/50 [01:23<04:00,  6.49s/Epochs]"
     ]
    },
    {
     "name": "stdout",
     "output_type": "stream",
     "text": [
      "TEST ACCURACY: 0.0\n",
      "TEST LOSS: 22.553268432617188\n"
     ]
    },
    {
     "name": "stderr",
     "output_type": "stream",
     "text": [
      "Training:  28%|██▊       | 14/50 [01:28<03:37,  6.03s/Epochs]"
     ]
    },
    {
     "name": "stdout",
     "output_type": "stream",
     "text": [
      "45.991975688399556\n",
      "42.864472754915184\n"
     ]
    },
    {
     "name": "stderr",
     "output_type": "stream",
     "text": [
      "Training:  30%|███       | 15/50 [01:36<03:48,  6.54s/Epochs]"
     ]
    },
    {
     "name": "stdout",
     "output_type": "stream",
     "text": [
      "TEST ACCURACY: 0.0\n",
      "TEST LOSS: 21.422317504882812\n"
     ]
    },
    {
     "name": "stderr",
     "output_type": "stream",
     "text": [
      "Training:  32%|███▏      | 16/50 [01:40<03:23,  5.97s/Epochs]"
     ]
    },
    {
     "name": "stdout",
     "output_type": "stream",
     "text": [
      "44.39781870262645\n",
      "45.712507039052305\n"
     ]
    },
    {
     "name": "stderr",
     "output_type": "stream",
     "text": [
      "Training:  34%|███▍      | 17/50 [01:48<03:32,  6.43s/Epochs]"
     ]
    },
    {
     "name": "stdout",
     "output_type": "stream",
     "text": [
      "TEST ACCURACY: 0.0\n",
      "TEST LOSS: 21.82000732421875\n"
     ]
    },
    {
     "name": "stderr",
     "output_type": "stream",
     "text": [
      "Training:  36%|███▌      | 18/50 [01:53<03:12,  6.02s/Epochs]"
     ]
    },
    {
     "name": "stdout",
     "output_type": "stream",
     "text": [
      "46.59528014174131\n",
      "44.27297433634785\n"
     ]
    },
    {
     "name": "stderr",
     "output_type": "stream",
     "text": [
      "Training:  38%|███▊      | 19/50 [02:00<03:20,  6.47s/Epochs]"
     ]
    },
    {
     "name": "stdout",
     "output_type": "stream",
     "text": [
      "TEST ACCURACY: 0.0\n",
      "TEST LOSS: 20.133201599121094\n"
     ]
    },
    {
     "name": "stderr",
     "output_type": "stream",
     "text": [
      "Training:  40%|████      | 20/50 [02:05<03:00,  6.02s/Epochs]"
     ]
    },
    {
     "name": "stdout",
     "output_type": "stream",
     "text": [
      "43.628333289311314\n",
      "42.08484000678374\n"
     ]
    },
    {
     "name": "stderr",
     "output_type": "stream",
     "text": [
      "Training:  42%|████▏     | 21/50 [02:13<03:08,  6.51s/Epochs]"
     ]
    },
    {
     "name": "stdout",
     "output_type": "stream",
     "text": [
      "TEST ACCURACY: 0.0\n",
      "TEST LOSS: 18.195068359375\n"
     ]
    },
    {
     "name": "stderr",
     "output_type": "stream",
     "text": [
      "Training:  44%|████▍     | 22/50 [02:17<02:45,  5.93s/Epochs]"
     ]
    },
    {
     "name": "stdout",
     "output_type": "stream",
     "text": [
      "41.4525077665632\n",
      "43.43435348319116\n"
     ]
    },
    {
     "name": "stderr",
     "output_type": "stream",
     "text": [
      "Training:  46%|████▌     | 23/50 [02:25<02:51,  6.35s/Epochs]"
     ]
    },
    {
     "name": "stdout",
     "output_type": "stream",
     "text": [
      "TEST ACCURACY: 0.0\n",
      "TEST LOSS: 17.225929260253906\n"
     ]
    },
    {
     "name": "stderr",
     "output_type": "stream",
     "text": [
      "Training:  48%|████▊     | 24/50 [02:30<02:33,  5.91s/Epochs]"
     ]
    },
    {
     "name": "stdout",
     "output_type": "stream",
     "text": [
      "41.18080467010213\n",
      "40.63400520164276\n"
     ]
    },
    {
     "name": "stderr",
     "output_type": "stream",
     "text": [
      "Training:  50%|█████     | 25/50 [02:37<02:39,  6.40s/Epochs]"
     ]
    },
    {
     "name": "stdout",
     "output_type": "stream",
     "text": [
      "TEST ACCURACY: 0.0\n",
      "TEST LOSS: 21.04060935974121\n"
     ]
    },
    {
     "name": "stderr",
     "output_type": "stream",
     "text": [
      "Training:  52%|█████▏    | 26/50 [02:42<02:19,  5.83s/Epochs]"
     ]
    },
    {
     "name": "stdout",
     "output_type": "stream",
     "text": [
      "40.35510210956369\n",
      "40.64163245980985\n"
     ]
    },
    {
     "name": "stderr",
     "output_type": "stream",
     "text": [
      "Training:  54%|█████▍    | 27/50 [02:49<02:25,  6.34s/Epochs]"
     ]
    },
    {
     "name": "stdout",
     "output_type": "stream",
     "text": [
      "TEST ACCURACY: 0.0\n",
      "TEST LOSS: 17.116933822631836\n"
     ]
    },
    {
     "name": "stderr",
     "output_type": "stream",
     "text": [
      "Training:  56%|█████▌    | 28/50 [02:54<02:09,  5.90s/Epochs]"
     ]
    },
    {
     "name": "stdout",
     "output_type": "stream",
     "text": [
      "40.49823658542098\n",
      "40.32126688605157\n"
     ]
    },
    {
     "name": "stderr",
     "output_type": "stream",
     "text": [
      "Training:  58%|█████▊    | 29/50 [03:02<02:16,  6.48s/Epochs]"
     ]
    },
    {
     "name": "stdout",
     "output_type": "stream",
     "text": [
      "TEST ACCURACY: 0.0\n",
      "TEST LOSS: 15.147028923034668\n"
     ]
    },
    {
     "name": "stderr",
     "output_type": "stream",
     "text": [
      "Training:  60%|██████    | 30/50 [03:07<02:02,  6.10s/Epochs]"
     ]
    },
    {
     "name": "stdout",
     "output_type": "stream",
     "text": [
      "41.688233496407484\n",
      "38.75253979874549\n"
     ]
    },
    {
     "name": "stderr",
     "output_type": "stream",
     "text": [
      "Training:  62%|██████▏   | 31/50 [03:15<02:04,  6.54s/Epochs]"
     ]
    },
    {
     "name": "stdout",
     "output_type": "stream",
     "text": [
      "TEST ACCURACY: 0.0\n",
      "TEST LOSS: 16.327695846557617\n"
     ]
    },
    {
     "name": "stderr",
     "output_type": "stream",
     "text": [
      "Training:  64%|██████▍   | 32/50 [03:20<01:48,  6.02s/Epochs]"
     ]
    },
    {
     "name": "stdout",
     "output_type": "stream",
     "text": [
      "39.11284236872308\n",
      "39.39152059844721\n"
     ]
    },
    {
     "name": "stderr",
     "output_type": "stream",
     "text": [
      "Training:  66%|██████▌   | 33/50 [03:27<01:50,  6.47s/Epochs]"
     ]
    },
    {
     "name": "stdout",
     "output_type": "stream",
     "text": [
      "TEST ACCURACY: 0.0\n",
      "TEST LOSS: 13.122635841369629\n"
     ]
    },
    {
     "name": "stderr",
     "output_type": "stream",
     "text": [
      "Training:  68%|██████▊   | 34/50 [03:32<01:34,  5.92s/Epochs]"
     ]
    },
    {
     "name": "stdout",
     "output_type": "stream",
     "text": [
      "35.03061410079493\n",
      "39.4217336247569\n"
     ]
    },
    {
     "name": "stderr",
     "output_type": "stream",
     "text": [
      "Training:  70%|███████   | 35/50 [03:39<01:35,  6.35s/Epochs]"
     ]
    },
    {
     "name": "stdout",
     "output_type": "stream",
     "text": [
      "TEST ACCURACY: 0.0\n",
      "TEST LOSS: 12.350340843200684\n"
     ]
    },
    {
     "name": "stderr",
     "output_type": "stream",
     "text": [
      "Training:  72%|███████▏  | 36/50 [03:44<01:22,  5.88s/Epochs]"
     ]
    },
    {
     "name": "stdout",
     "output_type": "stream",
     "text": [
      "37.58326076650174\n",
      "36.11739979289403\n"
     ]
    },
    {
     "name": "stderr",
     "output_type": "stream",
     "text": [
      "Training:  74%|███████▍  | 37/50 [03:52<01:23,  6.46s/Epochs]"
     ]
    },
    {
     "name": "stdout",
     "output_type": "stream",
     "text": [
      "TEST ACCURACY: 0.0\n",
      "TEST LOSS: 12.730376243591309\n"
     ]
    },
    {
     "name": "stderr",
     "output_type": "stream",
     "text": [
      "Training:  76%|███████▌  | 38/50 [03:57<01:12,  6.02s/Epochs]"
     ]
    },
    {
     "name": "stdout",
     "output_type": "stream",
     "text": [
      "37.48876111396005\n",
      "35.98195260076879\n"
     ]
    },
    {
     "name": "stderr",
     "output_type": "stream",
     "text": [
      "Training:  78%|███████▊  | 39/50 [04:04<01:11,  6.47s/Epochs]"
     ]
    },
    {
     "name": "stdout",
     "output_type": "stream",
     "text": [
      "TEST ACCURACY: 0.0\n",
      "TEST LOSS: 11.356830596923828\n"
     ]
    },
    {
     "name": "stderr",
     "output_type": "stream",
     "text": [
      "Training:  80%|████████  | 40/50 [04:09<00:59,  5.92s/Epochs]"
     ]
    },
    {
     "name": "stdout",
     "output_type": "stream",
     "text": [
      "34.61535904995749\n",
      "40.50164809293836\n"
     ]
    },
    {
     "name": "stderr",
     "output_type": "stream",
     "text": [
      "Training:  82%|████████▏ | 41/50 [04:16<00:57,  6.44s/Epochs]"
     ]
    },
    {
     "name": "stdout",
     "output_type": "stream",
     "text": [
      "TEST ACCURACY: 0.0\n",
      "TEST LOSS: 11.237894058227539\n"
     ]
    },
    {
     "name": "stderr",
     "output_type": "stream",
     "text": [
      "Training:  84%|████████▍ | 42/50 [04:21<00:47,  5.97s/Epochs]"
     ]
    },
    {
     "name": "stdout",
     "output_type": "stream",
     "text": [
      "36.236447702835655\n",
      "34.09373296051382\n"
     ]
    },
    {
     "name": "stderr",
     "output_type": "stream",
     "text": [
      "Training:  86%|████████▌ | 43/50 [04:30<00:47,  6.81s/Epochs]"
     ]
    },
    {
     "name": "stdout",
     "output_type": "stream",
     "text": [
      "TEST ACCURACY: 0.0\n",
      "TEST LOSS: 12.657241821289062\n"
     ]
    },
    {
     "name": "stderr",
     "output_type": "stream",
     "text": [
      "Training:  88%|████████▊ | 44/50 [04:35<00:37,  6.25s/Epochs]"
     ]
    },
    {
     "name": "stdout",
     "output_type": "stream",
     "text": [
      "34.06951147418156\n",
      "31.772064428552287\n"
     ]
    },
    {
     "name": "stderr",
     "output_type": "stream",
     "text": [
      "Training:  90%|█████████ | 45/50 [04:43<00:33,  6.71s/Epochs]"
     ]
    },
    {
     "name": "stdout",
     "output_type": "stream",
     "text": [
      "TEST ACCURACY: 0.0\n",
      "TEST LOSS: 10.170735359191895\n"
     ]
    },
    {
     "name": "stderr",
     "output_type": "stream",
     "text": [
      "Training:  92%|█████████▏| 46/50 [04:48<00:24,  6.16s/Epochs]"
     ]
    },
    {
     "name": "stdout",
     "output_type": "stream",
     "text": [
      "37.63345767558178\n",
      "33.37477687918137\n"
     ]
    },
    {
     "name": "stderr",
     "output_type": "stream",
     "text": [
      "Training:  94%|█████████▍| 47/50 [04:55<00:19,  6.58s/Epochs]"
     ]
    },
    {
     "name": "stdout",
     "output_type": "stream",
     "text": [
      "TEST ACCURACY: 0.0\n",
      "TEST LOSS: 9.780745506286621\n"
     ]
    },
    {
     "name": "stderr",
     "output_type": "stream",
     "text": [
      "Training:  96%|█████████▌| 48/50 [05:00<00:12,  6.06s/Epochs]"
     ]
    },
    {
     "name": "stdout",
     "output_type": "stream",
     "text": [
      "30.565709700216757\n",
      "30.314167617280905\n"
     ]
    },
    {
     "name": "stderr",
     "output_type": "stream",
     "text": [
      "Training:  98%|█████████▊| 49/50 [05:08<00:06,  6.48s/Epochs]"
     ]
    },
    {
     "name": "stdout",
     "output_type": "stream",
     "text": [
      "TEST ACCURACY: 0.0\n",
      "TEST LOSS: 8.354435920715332\n"
     ]
    },
    {
     "name": "stderr",
     "output_type": "stream",
     "text": [
      "Training: 100%|██████████| 50/50 [05:12<00:00,  6.25s/Epochs]"
     ]
    },
    {
     "name": "stdout",
     "output_type": "stream",
     "text": [
      "29.35175694782043\n"
     ]
    },
    {
     "name": "stderr",
     "output_type": "stream",
     "text": [
      "\n"
     ]
    }
   ],
   "source": [
    "_, _, _, GNN, _ = train(train_loader, test_loader, args)"
   ]
  },
  {
   "cell_type": "markdown",
   "metadata": {},
   "source": [
    "## Set up the threshold greedy value\n",
    "The instance set used to determine the threshold should be the same as the training set for the base models. Here we reduce the number of instances to make the evaluation faster.\n",
    "\n",
    "For the moment, the instance set is the evaluation set since they are too different and would disadvantage threshold greedy."
   ]
  },
  {
   "cell_type": "code",
   "execution_count": 25,
   "metadata": {},
   "outputs": [
    {
     "name": "stderr",
     "output_type": "stream",
     "text": [
      "100%|██████████| 2/2 [00:12<00:00,  6.25s/it]"
     ]
    },
    {
     "name": "stdout",
     "output_type": "stream",
     "text": [
      "Best threshold value: 0.0 achieves CR: 0.9146754475262843\n"
     ]
    },
    {
     "name": "stderr",
     "output_type": "stream",
     "text": [
      "\n"
     ]
    }
   ],
   "source": [
    "from gnn_library.OBM_threshold_greedy import OBM_Threshold_Greedy\n",
    "from tqdm import tqdm\n",
    "seed = np.random.randint(0, 500000)\n",
    "rng = np.random.default_rng(seed)\n",
    "\n",
    "\n",
    "thresholds = np.linspace(0, 1, 101)\n",
    "thresholds = np.linspace(0, 1, 2) # TODO remove\n",
    "#TODO max value in threshold should be max value observable in graphs (is not the case for osmnx graphs for the moment)\n",
    "thresholded_greedy_models = {threshold: OBM_Threshold_Greedy(threshold) for threshold in thresholds}\n",
    "\n",
    "osmnx_config1 = {\n",
    "    'graph_type': 'OSMNX',\n",
    "    'location_graph': piedmont['location_graph']\n",
    "}\n",
    "osmnx_config2 = {\n",
    "    'graph_type': 'OSMNX',\n",
    "    'location_graph': geneva['location_graph']\n",
    "}\n",
    "osmnx_config3 = {\n",
    "    'graph_type': 'OSMNX',\n",
    "    'location_graph': carmel['location_graph']\n",
    "}\n",
    "\n",
    "train_num = 10\n",
    "train_instances = [\n",
    "        *ig.sample_instances(8, 8, train_num, rng, **osmnx_config1),\n",
    "        *ig.sample_instances(8, 8, train_num, rng, **osmnx_config2),\n",
    "        *ig.sample_instances(8, 8, train_num, rng, **osmnx_config3),\n",
    "]\n",
    "\n",
    "# train_instances = [\n",
    "#         *ig.sample_instances(8, 8, train_num, rng, **er_config),\n",
    "#         *ig.sample_instances(8, 8, train_num, rng, **ba_config),\n",
    "#         *ig.sample_instances(8, 8, train_num, rng, **feat_config),\n",
    "#         *ig.sample_instances(8, 8, train_num, rng, **osmnx_config),\n",
    "# ]\n",
    "\n",
    "\n",
    "greedy_ratios = {}\n",
    "for threshold, model in tqdm(thresholded_greedy_models.items()): \n",
    "    rng = np.random.default_rng(seed)\n",
    "    ratio = ev.evaluate_model(\n",
    "        meta_model=None,\n",
    "        meta_model_type=None,\n",
    "        base_models=[model],\n",
    "        instances=train_instances,\n",
    "        batch_size=50,\n",
    "        rng=rng,\n",
    "        num_realizations=5\n",
    "    )\n",
    "    greedy_ratios[threshold] = np.mean(ratio[0])\n",
    "    \n",
    "\n",
    "max_threshold = max(greedy_ratios, key = greedy_ratios.get)\n",
    "print(f\"Best threshold value: {max_threshold} achieves CR: {greedy_ratios[max_threshold]}\")\n",
    "THRESHOLD_MODEL = thresholded_greedy_models[max_threshold]"
   ]
  },
  {
   "cell_type": "code",
   "execution_count": 26,
   "metadata": {},
   "outputs": [
    {
     "name": "stdout",
     "output_type": "stream",
     "text": [
      "{0.0: 0.9146754475262843, 1.0: 0.8810199370175859}\n"
     ]
    }
   ],
   "source": [
    "print(greedy_ratios)"
   ]
  },
  {
   "cell_type": "markdown",
   "metadata": {},
   "source": [
    "## Evaluation"
   ]
  },
  {
   "cell_type": "code",
   "execution_count": 23,
   "metadata": {},
   "outputs": [
    {
     "name": "stdout",
     "output_type": "stream",
     "text": [
      "-- Competitive ratios --\n",
      "GNN: 0.8371\n",
      "Greedy: 0.8441\n",
      "LP-rounding: 0.9389\n",
      "Thresholded greedy: 0.8402\n"
     ]
    }
   ],
   "source": [
    "seed = np.random.randint(0, 500000)\n",
    "(m, n) = (32, 16)\n",
    "# config = {\n",
    "#     'graph_type': 'FEAT',\n",
    "#     'q': 0.85,\n",
    "#     'weighted': True\n",
    "# }\n",
    "# config = {\n",
    "#     'graph_type': 'OSMNX',\n",
    "#     'location_graph': piedmont['location_graph']\n",
    "# }\n",
    "# config = {\n",
    "# \t'graph_type': 'PART',\n",
    "#     'p': 0.5,\n",
    "#     'size': 4,\n",
    "#     'eps': 0.1\n",
    "# }\n",
    "\n",
    "rng = np.random.default_rng(seed)\n",
    "# eval_instances = ig.sample_instances(m, n, 100, rng, **config)\n",
    "eval_num = 25\n",
    "eval_instances = [\n",
    "        *ig.sample_instances(m, n, eval_num, rng, **er_config),\n",
    "        *ig.sample_instances(m, n, eval_num, rng, **ba_config),\n",
    "        *ig.sample_instances(m, n, eval_num, rng, **feat_config),\n",
    "        *ig.sample_instances(m, n, eval_num, rng, **osmnx_config),\n",
    "]\n",
    "\n",
    "ratios = ev.evaluate_model(\n",
    "    meta_model=None,\n",
    "    meta_model_type=None,\n",
    "    base_models=[GNN],\n",
    "    instances=eval_instances,\n",
    "    batch_size=50,\n",
    "    rng=rng,\n",
    "    num_realizations=5\n",
    ")\n",
    "\n",
    "\n",
    "ratios2 = ev.evaluate_model(\n",
    "    meta_model=None,\n",
    "    meta_model_type=None,\n",
    "    base_models=[THRESHOLD_MODEL],\n",
    "    instances=eval_instances,\n",
    "    batch_size=50,\n",
    "    rng=rng,\n",
    "    num_realizations=5\n",
    ")\n",
    "\n",
    "pp_output(ratios, _, show_log=False)\n",
    "print(f\"Thresholded greedy: {np.mean(ratios2[0]).round(4)}\")\n"
   ]
  },
  {
   "cell_type": "code",
   "execution_count": 27,
   "metadata": {},
   "outputs": [
    {
     "name": "stdout",
     "output_type": "stream",
     "text": [
      "[0.25, 0.75, 1.25, 1.75, 2.25, 2.75, 3.25, 3.75]\n",
      "{'graph_type': 'FEAT', 'q': 0.75, 'weighted': True} (4, 16)\n"
     ]
    },
    {
     "name": "stdout",
     "output_type": "stream",
     "text": [
      "{'graph_type': 'FEAT', 'q': 0.75, 'weighted': True} (12, 16)\n",
      "{'graph_type': 'FEAT', 'q': 0.75, 'weighted': True} (20, 16)\n",
      "{'graph_type': 'FEAT', 'q': 0.75, 'weighted': True} (28, 16)\n",
      "{'graph_type': 'FEAT', 'q': 0.75, 'weighted': True} (36, 16)\n",
      "{'graph_type': 'FEAT', 'q': 0.75, 'weighted': True} (44, 16)\n",
      "{'graph_type': 'FEAT', 'q': 0.75, 'weighted': True} (52, 16)\n",
      "{'graph_type': 'FEAT', 'q': 0.75, 'weighted': True} (60, 16)\n"
     ]
    }
   ],
   "source": [
    "num_trials = 40\n",
    "node_configs = [(x, 16) for x in np.arange(4, 64, 8)]\n",
    "# of nodes [20 -> 80]\n",
    "# of nodes in batch [10,000 -> 40,000]\n",
    "batch_size = 500 #[int(min(32, x + y)) for (x, y) in node_configs]\n",
    "graph_configs = [\n",
    "    # {\n",
    "    #     'graph_type': 'GM'\n",
    "    # },\n",
    "    # {\n",
    "    #     'graph_type': 'ER',\n",
    "    #     'p': 0.75,\n",
    "    #     'weighted': False\n",
    "    # },\n",
    "    # {\n",
    "    #     'graph_type': 'BA',\n",
    "    #     'ba_param': 4,\n",
    "    #     'weighted': False\n",
    "    # },\n",
    "    {\n",
    "        'graph_type': 'FEAT',\n",
    "        'q': 0.75,\n",
    "        'weighted': True\n",
    "    },\n",
    "    # {\n",
    "    #     'graph_type': 'FEAT',\n",
    "    #     'q': 0.9,\n",
    "    #     'weighted': True\n",
    "    # },\n",
    "    # {\n",
    "    #     'graph_type': 'FEAT',\n",
    "    #     'q': 0.95,\n",
    "    #     'weighted': True\n",
    "    # },\n",
    "\n",
    "    # {\n",
    "    #     'graph_type': 'PART',\n",
    "    #     'p': 0.5,\n",
    "    #     'size': 4,\n",
    "    #     'eps': 0.1\n",
    "    # },\n",
    "    # {\n",
    "    #     'graph_type': 'PART',\n",
    "    #     'p': 0.5,\n",
    "    #     'size': 3,\n",
    "    #     'eps': 0.3\n",
    "    # }\n",
    "]\n",
    "\n",
    "ratios = [x/y for (x,y) in node_configs]\n",
    "print(ratios)\n",
    "\n",
    "data = {config['q']: [] for config in graph_configs}\n",
    "for graph_config in graph_configs:\n",
    "    for i, node_config in enumerate(node_configs):\n",
    "        print(graph_config, node_config)\n",
    "        seed = np.random.randint(0, 500000)\n",
    "        rng = np.random.default_rng(seed)\n",
    "        instances = ig.sample_instances(*node_config, num_trials, rng, **graph_config)\n",
    "\n",
    "\n",
    "        rng = np.random.default_rng(seed)\n",
    "        gnn_learned_ratios, greedy_ratios, lp_match_ratios = evaluate_model(\n",
    "            meta_model=None,\n",
    "            meta_model_type=None,\n",
    "            base_models=[GNN],\n",
    "            instances=instances,\n",
    "            batch_size=batch_size,\n",
    "            rng=rng,\n",
    "            num_realizations=5\n",
    "        )\n",
    "\n",
    "\n",
    "        data[graph_config['q']].append(np.array(\n",
    "            [\n",
    "                gnn_learned_ratios,\n",
    "                greedy_ratios,\n",
    "                lp_match_ratios\n",
    "            ]\n",
    "        ))"
   ]
  },
  {
   "cell_type": "code",
   "execution_count": 33,
   "metadata": {},
   "outputs": [
    {
     "name": "stdout",
     "output_type": "stream",
     "text": [
      "[0.25, 0.75, 1.25, 1.75, 2.25, 2.75, 3.25, 3.75]\n",
      "(4, 16) {'graph_type': 'OSMNX', 'location_graph': <networkx.classes.multidigraph.MultiDiGraph object at 0x7fdec395be80>, 'city': 'Piedmont, California, USA'}\n"
     ]
    },
    {
     "name": "stderr",
     "output_type": "stream",
     "text": [
      "/tmp/ipykernel_2158288/946936367.py:102: VisibleDeprecationWarning: Creating an ndarray from ragged nested sequences (which is a list-or-tuple of lists-or-tuples-or ndarrays with different lengths or shapes) is deprecated. If you meant to do this, you must specify 'dtype=object' when creating the ndarray.\n",
      "  data[graph_config['city']].append(np.array(\n"
     ]
    },
    {
     "name": "stdout",
     "output_type": "stream",
     "text": [
      "(12, 16) {'graph_type': 'OSMNX', 'location_graph': <networkx.classes.multidigraph.MultiDiGraph object at 0x7fdec395be80>, 'city': 'Piedmont, California, USA'}\n",
      "(20, 16) {'graph_type': 'OSMNX', 'location_graph': <networkx.classes.multidigraph.MultiDiGraph object at 0x7fdec395be80>, 'city': 'Piedmont, California, USA'}\n",
      "(28, 16) {'graph_type': 'OSMNX', 'location_graph': <networkx.classes.multidigraph.MultiDiGraph object at 0x7fdec395be80>, 'city': 'Piedmont, California, USA'}\n",
      "(36, 16) {'graph_type': 'OSMNX', 'location_graph': <networkx.classes.multidigraph.MultiDiGraph object at 0x7fdec395be80>, 'city': 'Piedmont, California, USA'}\n",
      "(44, 16) {'graph_type': 'OSMNX', 'location_graph': <networkx.classes.multidigraph.MultiDiGraph object at 0x7fdec395be80>, 'city': 'Piedmont, California, USA'}\n",
      "(52, 16) {'graph_type': 'OSMNX', 'location_graph': <networkx.classes.multidigraph.MultiDiGraph object at 0x7fdec395be80>, 'city': 'Piedmont, California, USA'}\n",
      "(60, 16) {'graph_type': 'OSMNX', 'location_graph': <networkx.classes.multidigraph.MultiDiGraph object at 0x7fdec395be80>, 'city': 'Piedmont, California, USA'}\n"
     ]
    }
   ],
   "source": [
    "num_trials = 30\n",
    "node_configs = [(x, 16) for x in np.arange(4, 64, 8)]\n",
    "# of nodes [20 -> 80]\n",
    "# of nodes in batch [10,000 -> 40,000]\n",
    "batch_size = 500 #[int(min(32, x + y)) for (x, y) in node_configs]\n",
    "\n",
    "\n",
    "\n",
    "\n",
    "graph_configs = [\n",
    "    # {\n",
    "    # 'graph_type': 'FEAT',\n",
    "    # 'q': 0.5\n",
    "    # },\n",
    "    {\n",
    "        'graph_type': 'OSMNX',\n",
    "        'location_graph': piedmont['location_graph'],\n",
    "        'city': piedmont['city']\n",
    "    },\n",
    "    # {\n",
    "    #     'graph_type': 'OSMNX',\n",
    "    #     'location_graph': carmel['location_graph'],\n",
    "    #     'city': carmel['city']\n",
    "    # },\n",
    "    # {\n",
    "    #     'graph_type': 'OSMNX',\n",
    "    #     'location_graph': geneva['location_graph'],\n",
    "    #     'city': geneva['city']\n",
    "    # },\n",
    "    # {\n",
    "    #     'graph_type': 'OSMNX',\n",
    "    #     'location_graph': founex['location_graph'],\n",
    "    #     'city': founex['city']\n",
    "    # },\n",
    "    # {\n",
    "    # 'graph_type': 'FEAT',\n",
    "    # 'q': 0.75,\n",
    "    # 'weighted': True\n",
    "    # },\n",
    "    # {\n",
    "    # 'graph_type': 'FEAT',\n",
    "    # 'q': 0.9,\n",
    "    # 'weighted': True\n",
    "    # },\n",
    "    # {\n",
    "    # 'graph_type': 'FEAT',\n",
    "    # 'q': 0.95,\n",
    "    # 'weighted': True\n",
    "    # },\n",
    "    # {\n",
    "    # 'graph_type': 'FEAT',\n",
    "    # 'q': 0.99\n",
    "    # }\n",
    "    # {\n",
    "    #     'graph_type': 'PART',\n",
    "    #     'p': 0.5,\n",
    "    #     'size': 4,\n",
    "    #     'eps': 0.1\n",
    "    # },\n",
    "    # {\n",
    "    #     'graph_type': 'PART',\n",
    "    #     'p': 0.5,\n",
    "    #     'size': 3,\n",
    "    #     'eps': 0.3\n",
    "    # }\n",
    "]\n",
    "\n",
    "ratios = [x/y for (x,y) in node_configs]\n",
    "print(ratios)\n",
    "\n",
    "data = {config['city']: [] for config in graph_configs}\n",
    "for graph_config in graph_configs:\n",
    "    for i, node_config in enumerate(node_configs):\n",
    "        print(node_config, graph_config)\n",
    "        seed = np.random.randint(0, 500000)\n",
    "        rng = np.random.default_rng(seed)\n",
    "        instances = ig.sample_instances(*node_config, num_trials, rng, **graph_config)\n",
    "\n",
    "\n",
    "        rng = np.random.default_rng(seed)\n",
    "        gnn_learned_ratios, greedy_ratios, lp_match_ratios = evaluate_model(\n",
    "            meta_model=None,\n",
    "            meta_model_type=None,\n",
    "            base_models=[GNN],\n",
    "            instances=instances,\n",
    "            batch_size=batch_size,\n",
    "            rng=rng,\n",
    "            num_realizations=5\n",
    "        )\n",
    "        thresholded_greedy_ratios = [0]\n",
    "\n",
    "        # thresholded_greedy_ratios, greedy_ratios, lp_match_ratios = evaluate_model(\n",
    "        #     meta_model=None,\n",
    "        #     meta_model_type=None,\n",
    "        #     base_models=[THRESHOLD_MODEL],\n",
    "        #     instances=instances,\n",
    "        #     batch_size=batch_size,\n",
    "        #     rng=rng,\n",
    "        #     num_realizations=5\n",
    "        # )\n",
    "\n",
    "        data[graph_config['city']].append(np.array(\n",
    "            [\n",
    "                gnn_learned_ratios,\n",
    "                thresholded_greedy_ratios,\n",
    "                greedy_ratios,\n",
    "                lp_match_ratios\n",
    "            ]\n",
    "        ))"
   ]
  },
  {
   "cell_type": "code",
   "execution_count": 34,
   "metadata": {},
   "outputs": [
    {
     "name": "stdout",
     "output_type": "stream",
     "text": [
      "[0.25, 0.75, 1.25, 1.75, 2.25, 2.75, 3.25, 3.75]\n"
     ]
    },
    {
     "data": {
      "image/png": "[encoded data removed]",
      "text/plain": [
       "<Figure size 576x432 with 1 Axes>"
      ]
     },
     "metadata": {
      "needs_background": "light"
     },
     "output_type": "display_data"
    }
   ],
   "source": [
    "import matplotlib.pyplot as plt\n",
    "ratios = [x/y for (x,y) in node_configs]\n",
    "print(ratios)\n",
    "for city, comp_ratios in data.items():\n",
    "    greedy_avg_ratios = []\n",
    "    thresholded_greedy_avg_ratios = []\n",
    "    gnn_avg_ratios = []\n",
    "    lp_match_avg_ratios = []\n",
    "\n",
    "\n",
    "    for trial_ratios in comp_ratios:\n",
    "        gnn_avg_ratios.append(np.array(trial_ratios[0]).mean())\n",
    "        thresholded_greedy_avg_ratios.append(np.array(trial_ratios[1]).mean())\n",
    "        greedy_avg_ratios.append(np.array(trial_ratios[2]).mean())\n",
    "        lp_match_avg_ratios.append(np.array(trial_ratios[3]).mean())\n",
    "        \n",
    "\n",
    "    title = f\"OSMNX_discard_{city}\"\n",
    "    fig = plt.figure(figsize=(8,6))\n",
    "    plt.title(title)\n",
    "    plt.plot(ratios, gnn_avg_ratios, label='GNN')\n",
    "    plt.plot(ratios, thresholded_greedy_avg_ratios, label='Thresholded Greedy')\n",
    "    plt.plot(ratios, greedy_avg_ratios, label='Greedy')\n",
    "    plt.plot(ratios, lp_match_avg_ratios, label='LP ROUNDING')\n",
    "    plt.xlabel('# online / # offline')\n",
    "    plt.ylabel('Average competitive ratio')\n",
    "    plt.legend()\n",
    "    plt.savefig(f\"data/{title}.png\")\n",
    "    plt.show()\n",
    "\n"
   ]
  },
  {
   "cell_type": "code",
   "execution_count": 28,
   "metadata": {},
   "outputs": [
    {
     "name": "stdout",
     "output_type": "stream",
     "text": [
      "FEAT_only_ratings_0.75\n"
     ]
    },
    {
     "data": {
      "image/png": "[encoded data removed]",
      "text/plain": [
       "<Figure size 576x432 with 1 Axes>"
      ]
     },
     "metadata": {
      "needs_background": "light"
     },
     "output_type": "display_data"
    }
   ],
   "source": [
    "import matplotlib.pyplot as plt\n",
    "ratios = [x/y for (x,y) in node_configs]\n",
    "for q, comp_ratios in data.items():\n",
    "    greedy_avg_ratios = []\n",
    "    gnn_avg_ratios = []\n",
    "    lp_match_avg_ratios = []\n",
    "\n",
    "\n",
    "    for trial_ratios in comp_ratios:\n",
    "        gnn_avg_ratios.append(np.array(trial_ratios[0]).mean())\n",
    "        greedy_avg_ratios.append(np.array(trial_ratios[1]).mean())\n",
    "        lp_match_avg_ratios.append(np.array(trial_ratios[2]).mean())\n",
    "\n",
    "    # title = f\"PART_size_{size}\"\n",
    "    title = f\"FEAT_only_ratings_{q}\"\n",
    "    print(title)\n",
    "    fig = plt.figure(figsize=(8,6))\n",
    "    plt.title(title)\n",
    "    plt.plot(ratios, gnn_avg_ratios, label='GNN')\n",
    "    plt.plot(ratios, greedy_avg_ratios, label='Greedy')\n",
    "    plt.plot(ratios, lp_match_avg_ratios, label='LP ROUNDING')\n",
    "    plt.xlabel('# online / # offline')\n",
    "    plt.ylabel('Average competitive ratio')\n",
    "    plt.legend()\n",
    "    # plt.savefig(f\"data/{title}.png\")\n",
    "    plt.show()\n"
   ]
  },
  {
   "cell_type": "code",
   "execution_count": null,
   "metadata": {},
   "outputs": [],
   "source": []
  }
 ],
 "metadata": {
  "kernelspec": {
   "display_name": "clrs",
   "language": "python",
   "name": "python3"
  },
  "language_info": {
   "codemirror_mode": {
    "name": "ipython",
    "version": 3
   },
   "file_extension": ".py",
   "mimetype": "text/x-python",
   "name": "python",
   "nbconvert_exporter": "python",
   "pygments_lexer": "ipython3",
   "version": "3.10.12"
  }
 },
 "nbformat": 4,
 "nbformat_minor": 2
}
