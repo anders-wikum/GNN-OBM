{
 "cells": [
  {
   "cell_type": "code",
   "execution_count": 1,
   "metadata": {},
   "outputs": [],
   "source": [
    "import os\n",
    "os.chdir('..')"
   ]
  },
  {
   "cell_type": "code",
   "execution_count": 27,
   "metadata": {},
   "outputs": [
    {
     "name": "stdout",
     "output_type": "stream",
     "text": [
      "The autoreload extension is already loaded. To reload it, use:\n",
      "  %reload_ext autoreload\n"
     ]
    }
   ],
   "source": [
    "import torch\n",
    "import pickle\n",
    "import numpy as np\n",
    "\n",
    "from gnn_library.util import load\n",
    "from evaluate import evaluate_model\n",
    "from instance_generator import sample_instances\n",
    "from params import *\n",
    "from util import _box_plots, graph_config_to_string\n",
    "\n",
    "%load_ext autoreload\n",
    "%autoreload 2"
   ]
  },
  {
   "cell_type": "code",
   "execution_count": 3,
   "metadata": {},
   "outputs": [
    {
     "name": "stdout",
     "output_type": "stream",
     "text": [
      "PyTorch has version 2.0.0+cu117\n",
      "Using device: cuda:2\n"
     ]
    }
   ],
   "source": [
    "device = torch.device('cuda:2' if torch.cuda.is_available() else 'cpu')\n",
    "print(\"PyTorch has version {}\".format(torch.__version__))\n",
    "print('Using device:', device)\n",
    "\n",
    "GNN, args = load('GNN2_hyperparam_tuned', device)"
   ]
  },
  {
   "cell_type": "code",
   "execution_count": null,
   "metadata": {},
   "outputs": [],
   "source": [
    "# Hyperparam optimized for 10,6\n",
    "\n",
    "# args = {\n",
    "#     'processor':         'GENConv',\n",
    "#     'head':              'regression',     \n",
    "#     'num_layers':        3,\n",
    "#     'num_mlp_layers':    3,\n",
    "#     'aggr':              'max',\n",
    "#     'batch_size':        8,\n",
    "#     'node_feature_dim':  5,\n",
    "#     'edge_feature_dim':  1,\n",
    "#     'graph_feature_dim': 2,\n",
    "#     'hidden_dim':        32,\n",
    "#     'output_dim':        1,\n",
    "#     'dropout':           0.0306,\n",
    "#     'epochs':            64,\n",
    "#     'opt':               'adagrad',\n",
    "#     'opt_scheduler':     'none',\n",
    "#     'opt_restart':       0,\n",
    "#     'weight_decay':      5e-3,\n",
    "#     'lr':                0.0121,\n",
    "#     'device':            device,\n",
    "#     'noise':             0 # Set to 0 to not train on noisy features\n",
    "# }\n",
    "\n",
    "# train_loader, val_loader = gen_train_input(BASE_MODEL_TRAIN_CONFIG, args, seed=0)\n",
    "# _, _, _, GNN, _ = train(train_loader, val_loader, args)"
   ]
  },
  {
   "cell_type": "markdown",
   "metadata": {},
   "source": [
    "## Box plot baseline evaluation"
   ]
  },
  {
   "cell_type": "code",
   "execution_count": 32,
   "metadata": {},
   "outputs": [
    {
     "name": "stdout",
     "output_type": "stream",
     "text": [
      "(30, 10) {'graph_type': 'ER', 'p': 0.5, 'weighted': True}\n",
      "(30, 10) {'graph_type': 'GEOM', 'q': 0.25, 'd': 2, 'weighted': True}\n",
      "(30, 10) {'graph_type': 'OSMNX', 'location': 'Fremont, California, USA'}\n",
      "(30, 10) {'graph_type': 'GM'}\n"
     ]
    }
   ],
   "source": [
    "rng = np.random.default_rng(seed=0)\n",
    "num_trials = 2#40\n",
    "batch_size = 500\n",
    "node_configs = EXPERIMENT_BASE_TESTING_REGIMES\n",
    "graph_configs = MAIN_TESTING_GRAPH_CONFIGS\n",
    "baselines_kwargs = {\n",
    "    'greedy': {},\n",
    "    'greedy_t': {'threshold': 0.35},\n",
    "    'lp_rounding': {}\n",
    "}\n",
    "\n",
    "data = {node_config: {} for node_config in node_configs}\n",
    "\n",
    "for node_config in node_configs:\n",
    "    for graph_config in graph_configs:\n",
    "            print(node_config, graph_config)\n",
    "            instances = sample_instances(\n",
    "                *node_config,\n",
    "                num_trials,\n",
    "                rng,\n",
    "                args.__dict__,\n",
    "                **graph_config\n",
    "            )\n",
    "\n",
    "            cr_ratios, _ = evaluate_model(\n",
    "                meta_model=None,\n",
    "                meta_model_type=None,\n",
    "                base_models=[GNN],\n",
    "                instances=instances,\n",
    "                batch_size=batch_size,\n",
    "                rng=rng,\n",
    "                num_realizations=5,\n",
    "                baselines=['greedy', 'greedy_t', 'lp_rounding'],\n",
    "                **baselines_kwargs\n",
    "            )\n",
    "\n",
    "            data[node_config][str(graph_config)] = cr_ratios\n"
   ]
  },
  {
   "cell_type": "code",
   "execution_count": 33,
   "metadata": {},
   "outputs": [],
   "source": [
    "results = {}\n",
    "for graph_type, val in data[EXPERIMENT_BASE_TESTING_REGIMES[0]].items():\n",
    "\tresults[graph_type] = val"
   ]
  },
  {
   "cell_type": "code",
   "execution_count": 34,
   "metadata": {},
   "outputs": [
    {
     "data": {
      "image/png": "[encoded data removed]",
      "text/plain": [
       "<Figure size 864x216 with 5 Axes>"
      ]
     },
     "metadata": {
      "needs_background": "light"
     },
     "output_type": "display_data"
    }
   ],
   "source": [
    "from util import _box_plots\n",
    "_box_plots(results, lambda graph_type: f\"GNN2_classify_{graph_type} {node_config[1]}x{node_config[0]}\")"
   ]
  }
 ],
 "metadata": {
  "kernelspec": {
   "display_name": "clrs",
   "language": "python",
   "name": "python3"
  },
  "language_info": {
   "codemirror_mode": {
    "name": "ipython",
    "version": 3
   },
   "file_extension": ".py",
   "mimetype": "text/x-python",
   "name": "python",
   "nbconvert_exporter": "python",
   "pygments_lexer": "ipython3",
   "version": "3.10.12"
  }
 },
 "nbformat": 4,
 "nbformat_minor": 2
}
