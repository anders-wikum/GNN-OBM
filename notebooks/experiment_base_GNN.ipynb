{
 "cells": [
  {
   "cell_type": "code",
   "execution_count": null,
   "metadata": {},
   "outputs": [],
   "source": [
    "import torch\n",
    "import numpy as np\n",
    "\n",
    "import os\n",
    "os.chdir('..')\n",
    "from torch_geometric.loader import DataLoader\n",
    "from gnn_library.util import train, save, load\n",
    "from evaluate import evaluate_model, pp_output\n",
    "import instance_generator as ig\n",
    "import torch_converter as tc\n",
    "import evaluate as ev\n",
    "import osmnx as ox\n",
    "from util import Dataset\n",
    "from gnn_library.OBM_threshold_greedy import OBM_Threshold_Greedy\n",
    "\n",
    "%load_ext autoreload\n",
    "%autoreload 2"
   ]
  },
  {
   "cell_type": "code",
   "execution_count": null,
   "metadata": {},
   "outputs": [],
   "source": [
    "device = torch.device('cuda:2' if torch.cuda.is_available() else 'cpu')\n",
    "print(\"PyTorch has version {}\".format(torch.__version__))\n",
    "print('Using device:', device)"
   ]
  },
  {
   "cell_type": "code",
   "execution_count": null,
   "metadata": {},
   "outputs": [],
   "source": [
    "# Hyperparam optimized for 10,6\n",
    "\n",
    "args = {\n",
    "    'processor':         'GENConv',\n",
    "    'head':              'regression',     \n",
    "    'num_layers':        3,\n",
    "    'num_mlp_layers':    3,\n",
    "    'aggr':              'max',\n",
    "    'batch_size':        8,\n",
    "    'node_feature_dim':  5,\n",
    "    'edge_feature_dim':  1,\n",
    "    'graph_feature_dim': 2,\n",
    "    'hidden_dim':        32,\n",
    "    'output_dim':        1,\n",
    "    'dropout':           0.0306,\n",
    "    'epochs':            20,\n",
    "    'opt':               'adagrad',\n",
    "    'opt_scheduler':     'none',\n",
    "    'opt_restart':       0,\n",
    "    'weight_decay':      5e-3,\n",
    "    'lr':                0.0121,\n",
    "    'device':            device,\n",
    "    'noise':             0.5 # Set to 0 to not train on noisy features\n",
    "}"
   ]
  },
  {
   "cell_type": "code",
   "execution_count": null,
   "metadata": {},
   "outputs": [],
   "source": [
    "train_num = 200; test_num = 100\n",
    "node_config = (30,10)\n",
    "\n",
    "er_config = {\n",
    "    'graph_type': 'ER',\n",
    "    'p': 0.75,\n",
    "    'weighted': True\n",
    "}\n",
    "ba_config = {\n",
    "    'graph_type': 'BA',\n",
    "    'ba_param': 2,\n",
    "    'weighted': True\n",
    "}\n",
    "geom_config = {\n",
    "        'graph_type': 'GEOM',\n",
    "        'q': 0.15,\n",
    "        'd': 2,\n",
    "        'weighted': True\n",
    "}\n",
    "\n",
    "rng = np.random.default_rng(10)\n",
    "\n",
    "train_instances = [\n",
    "        *ig.sample_instances(*node_config, train_num, rng, args, **er_config),\n",
    "        *ig.sample_instances(*node_config, train_num, rng, args, **ba_config),\n",
    "        *ig.sample_instances(*node_config, train_num, rng, args, **geom_config),\n",
    "    ]\n",
    "\n",
    "test_instances = [\n",
    "        *ig.sample_instances(*node_config, test_num, rng, args, **er_config),\n",
    "        *ig.sample_instances(*node_config, test_num, rng, args, **ba_config),\n",
    "        *ig.sample_instances(*node_config, test_num, rng, args, **geom_config),\n",
    "    ]\n",
    "\n",
    "train_data = Dataset(tc._instances_to_train_samples(train_instances, args['head']))\n",
    "test_data = Dataset(tc._instances_to_train_samples(test_instances, args['head']))\n",
    "\n",
    "train_loader = DataLoader(\n",
    "    train_data,\n",
    "    batch_size=args['batch_size'],\n",
    "    shuffle=True,\n",
    "    num_workers=4\n",
    ")\n",
    "\n",
    "test_loader = DataLoader(\n",
    "    test_data,\n",
    "    batch_size=args['batch_size'],\n",
    "    shuffle=True,\n",
    "    num_workers=4\n",
    ")"
   ]
  },
  {
   "cell_type": "code",
   "execution_count": null,
   "metadata": {},
   "outputs": [],
   "source": [
    "_, _, _, GNN, _ = train(train_loader, test_loader, args)"
   ]
  },
  {
   "cell_type": "code",
   "execution_count": null,
   "metadata": {},
   "outputs": [],
   "source": [
    "save(GNN, args, 'GNN2')"
   ]
  },
  {
   "cell_type": "code",
   "execution_count": null,
   "metadata": {},
   "outputs": [],
   "source": [
    "GNN, args = load('GNN2', device)"
   ]
  },
  {
   "cell_type": "markdown",
   "metadata": {},
   "source": [
    "## Box plot baseline evaluation"
   ]
  },
  {
   "cell_type": "code",
   "execution_count": null,
   "metadata": {},
   "outputs": [],
   "source": [
    "import gnn_library.util as util\n",
    "num_trials = 40\n",
    "threshold = 0.35\n",
    "batch_size = 500\n",
    "\n",
    "models = [(\"GNN\", GNN)]\n",
    "t_greedy = OBM_Threshold_Greedy(threshold) \n",
    "\n",
    "rng = np.random.default_rng()\n",
    "\n",
    "node_configs = util.node_configs_gnn1\n",
    "graph_configs = util.graph_configs_standard\n",
    "\n",
    "data = {node_config: {} for node_config in node_configs}\n",
    "\n",
    "\n",
    "for node_config in node_configs:\n",
    "    for graph_config in graph_configs:\n",
    "            print(graph_config)\n",
    "            instances = ig.sample_instances(*node_config, num_trials, rng, args, **graph_config)\n",
    "\n",
    "            for model_name, model in models:\n",
    "                cr_ratios, _ = evaluate_model(\n",
    "                    meta_model=None,\n",
    "                    meta_model_type=None,\n",
    "                    base_models=[model],\n",
    "                    instances=instances,\n",
    "                    batch_size=batch_size,\n",
    "                    rng=rng,\n",
    "                    num_realizations=5,\n",
    "                    baselines=['greedy', 'lp_rounding'],\n",
    "                )\n",
    "\n",
    "                data[node_config][graph_config['graph_type']] = cr_ratios\n",
    "\n",
    "                t_greedy_ratio, _ = evaluate_model(\n",
    "                    meta_model=None,\n",
    "                    meta_model_type=None,\n",
    "                    base_models=[t_greedy],\n",
    "                    instances=instances,\n",
    "                    batch_size=batch_size,\n",
    "                    rng=rng,\n",
    "                    num_realizations=5,\n",
    "                )\n",
    "\n",
    "                # Threshold greedy is considered as a model here\n",
    "                data[node_config][graph_config['graph_type']]['threshold_greedy'] = t_greedy_ratio['learned']\n"
   ]
  },
  {
   "cell_type": "code",
   "execution_count": null,
   "metadata": {},
   "outputs": [],
   "source": [
    "filtered_data = {}\n",
    "for graph_type, val in data[util.node_configs_gnn[0]].items():\n",
    "\tif dict(graph_type) in util.graph_configs_main:\n",
    "\t\tfiltered_data[graph_type] = val"
   ]
  },
  {
   "cell_type": "code",
   "execution_count": null,
   "metadata": {},
   "outputs": [],
   "source": [
    "from util import _box_plots\n",
    "_box_plots(filtered_data, lambda graph_type: f\"GNN2_classify_{graph_type} {node_config[1]}x{node_config[0]}\")"
   ]
  }
 ],
 "metadata": {
  "kernelspec": {
   "display_name": "clrs",
   "language": "python",
   "name": "python3"
  },
  "language_info": {
   "codemirror_mode": {
    "name": "ipython",
    "version": 3
   },
   "file_extension": ".py",
   "mimetype": "text/x-python",
   "name": "python",
   "nbconvert_exporter": "python",
   "pygments_lexer": "ipython3",
   "version": "3.10.12"
  }
 },
 "nbformat": 4,
 "nbformat_minor": 2
}
