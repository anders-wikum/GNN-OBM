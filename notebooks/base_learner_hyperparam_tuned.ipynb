{
 "cells": [
  {
   "cell_type": "code",
   "execution_count": null,
   "metadata": {},
   "outputs": [
    {
     "ename": "",
     "evalue": "",
     "output_type": "error",
     "traceback": [
      "\u001b[1;31mFailed to start the Kernel. \n",
      "\u001b[1;31mUnable to start Kernel 'local (Python 3.10.12)' due to a timeout waiting for the ports to get used. \n",
      "\u001b[1;31mView Jupyter <a href='command:jupyter.viewOutput'>log</a> for further details."
     ]
    }
   ],
   "source": [
    "import torch\n",
    "import numpy as np\n",
    "\n",
    "import os\n",
    "os.chdir('..')\n",
    "from torch_geometric.loader import DataLoader\n",
    "from gnn_library.util import train, save, load\n",
    "from evaluate import evaluate_model, pp_output\n",
    "import instance_generator as ig\n",
    "import torch_converter as tc\n",
    "import evaluate as ev\n",
    "import osmnx as ox\n",
    "from util import Dataset\n",
    "\n",
    "%load_ext autoreload\n",
    "%autoreload 2"
   ]
  },
  {
   "cell_type": "code",
   "execution_count": 2,
   "metadata": {},
   "outputs": [
    {
     "name": "stdout",
     "output_type": "stream",
     "text": [
      "PyTorch has version 1.12.0+cu102\n",
      "Using device: cuda:0\n"
     ]
    }
   ],
   "source": [
    "device = torch.device('cuda:0' if torch.cuda.is_available() else 'cpu')\n",
    "print(\"PyTorch has version {}\".format(torch.__version__))\n",
    "print('Using device:', device)"
   ]
  },
  {
   "cell_type": "code",
   "execution_count": 3,
   "metadata": {},
   "outputs": [],
   "source": [
    "def define_model(trial):\n",
    "    args = {\n",
    "        'processor':         'GENConv',\n",
    "        'head':              'regression',\n",
    "        'num_layers':        trial.suggest_int(\"num_layers{}\", 1, 6),\n",
    "        'num_mlp_layers':    trial.suggest_int(\"num_mlp_layers{}\", 2, 5), # TODO set to larger\n",
    "        'aggr':              'max',\n",
    "        'batch_size':        2**trial.suggest_int(\"log_batch_size\", 1, 6), \n",
    "        'node_feature_dim':  4,\n",
    "        'edge_feature_dim':  1,\n",
    "        'graph_feature_dim': 2,\n",
    "        'hidden_dim':        2**trial.suggest_int(\"hidden_dim\", 1, 7), # TODO set to 128\n",
    "        'output_dim':        1,\n",
    "        'dropout':           trial.suggest_float(\"dropout\", 0, 0.5),\n",
    "        'epochs':            trial.suggest_int(\"epochs\", 5, 100), # TODO set to larger\n",
    "        'opt':               trial.suggest_categorical(\"optimizer\", [\"adam\", \"adagrad\"]),\n",
    "        'opt_scheduler':     'none',\n",
    "        'opt_restart':       0,\n",
    "        'weight_decay':      5e-3, # TODO possibly modify\n",
    "        'lr':                trial.suggest_float(\"lr\", 1e-5, 1e-1, log=True),\n",
    "        'device':            device\n",
    "    }\n",
    "    return args"
   ]
  },
  {
   "cell_type": "code",
   "execution_count": 4,
   "metadata": {},
   "outputs": [],
   "source": [
    "def objective(trial):\n",
    "\targs = define_model(trial)\n",
    "\ttrain_num = 100; test_num = 30\n",
    "\n",
    "\ter_config = {\n",
    "\t'graph_type': 'ER',\n",
    "\t'p': 1,\n",
    "\t'weighted': True\n",
    "\t}\n",
    "\tba_config = {\n",
    "\t'graph_type': 'BA',\n",
    "\t'ba_param': 2,\n",
    "\t'weighted': True\n",
    "\t}\n",
    "\tgeom_config = {\n",
    "\t'graph_type': 'GEOM',\n",
    "\t'threshold': 0.2,\n",
    "\t'scaling': 1 / np.sqrt(2)\n",
    "\t}\n",
    "\n",
    "\trng = np.random.default_rng()\n",
    "\n",
    "\n",
    "\ttrain_instances = [\n",
    "\t\t*ig.sample_instances(9, 7, train_num, rng, **er_config),\n",
    "\t\t*ig.sample_instances(9, 7, train_num, rng, **ba_config),\n",
    "\t\t*ig.sample_instances(9, 7, train_num, rng, **geom_config),\n",
    "\t]\n",
    "\n",
    "\ttest_instances = [\n",
    "\t\t*ig.sample_instances(9, 7, test_num, rng, **er_config),\n",
    "\t\t*ig.sample_instances(9, 7, test_num, rng, **ba_config),\n",
    "\t\t*ig.sample_instances(9, 7, test_num, rng, **geom_config),\n",
    "\t]\n",
    "\n",
    "\n",
    "\ttrain_data = Dataset(tc._instances_to_train_samples(train_instances, args['head']))\n",
    "\ttest_data = Dataset(tc._instances_to_train_samples(test_instances, args['head']))\n",
    "\n",
    "\ttrain_loader = DataLoader(\n",
    "\ttrain_data,\n",
    "\tbatch_size=args['batch_size'],\n",
    "\tshuffle=True,\n",
    "\tnum_workers=4\n",
    "\t)\n",
    "\n",
    "\ttest_loader = DataLoader(\n",
    "\ttest_data,\n",
    "\tbatch_size=args['batch_size'],\n",
    "\tshuffle=True,\n",
    "\tnum_workers=4\n",
    "\t)\n",
    "\n",
    "\t### Training\n",
    "\n",
    "\t_, _, test_accuracies, GNN, _ = train(train_loader, test_loader, args, trial)\n",
    "\treturn test_accuracies[-1]"
   ]
  },
  {
   "cell_type": "code",
   "execution_count": 5,
   "metadata": {},
   "outputs": [
    {
     "name": "stderr",
     "output_type": "stream",
     "text": [
      "[I 2024-01-13 09:15:15,609] A new study created in memory with name: no-name-1db4720c-fd92-4f21-96ea-12bb553392af\n",
      "Training:   0%|          | 0/51 [00:00<?, ?Epochs/s]/home/alexhay/.local/lib/python3.10/site-packages/torch_geometric/utils/scatter.py:93: UserWarning: The usage of `scatter(reduce='max')` can be accelerated via the 'torch-scatter' package, but it was not found\n",
      "  warnings.warn(f\"The usage of `scatter(reduce='{reduce}')` \"\n",
      "Training: 100%|██████████| 51/51 [02:24<00:00,  2.84s/Epochs]\n",
      "[I 2024-01-13 09:17:50,509] Trial 0 finished with value: 0.6881720423698425 and parameters: {'num_layers{}': 3, 'num_mlp_layers{}': 3, 'log_batch_size': 5, 'hidden_dim': 12, 'dropout': 0.4734006881921554, 'epochs': 51, 'optimizer': 'rmsprop', 'lr': 4.023110050071799e-05}. Best is trial 0 with value: 0.6881720423698425.\n",
      "Training: 100%|██████████| 29/29 [00:58<00:00,  2.02s/Epochs]\n",
      "[I 2024-01-13 09:18:55,463] Trial 1 finished with value: 0.8659638166427612 and parameters: {'num_layers{}': 4, 'num_mlp_layers{}': 3, 'log_batch_size': 6, 'hidden_dim': 20, 'dropout': 0.05547570651232242, 'epochs': 29, 'optimizer': 'sgd', 'lr': 0.007323990710908852}. Best is trial 1 with value: 0.8659638166427612.\n",
      "Training: 100%|██████████| 92/92 [02:30<00:00,  1.64s/Epochs]\n",
      "[I 2024-01-13 09:21:32,524] Trial 2 finished with value: 0.8765243291854858 and parameters: {'num_layers{}': 2, 'num_mlp_layers{}': 2, 'log_batch_size': 6, 'hidden_dim': 44, 'dropout': 0.39678530690563873, 'epochs': 92, 'optimizer': 'sgd', 'lr': 0.0018747862561094395}. Best is trial 2 with value: 0.8765243291854858.\n",
      "Training: 100%|██████████| 59/59 [13:54<00:00, 14.14s/Epochs]\n",
      "[I 2024-01-13 09:35:33,466] Trial 3 finished with value: 0.4899536073207855 and parameters: {'num_layers{}': 2, 'num_mlp_layers{}': 3, 'log_batch_size': 2, 'hidden_dim': 29, 'dropout': 0.49513518875508844, 'epochs': 59, 'optimizer': 'adagrad', 'lr': 7.665212347752094e-05}. Best is trial 2 with value: 0.8765243291854858.\n",
      "Training: 100%|██████████| 12/12 [00:22<00:00,  1.87s/Epochs]\n",
      "[I 2024-01-13 09:36:01,659] Trial 4 finished with value: 0.8465116024017334 and parameters: {'num_layers{}': 5, 'num_mlp_layers{}': 4, 'log_batch_size': 6, 'hidden_dim': 59, 'dropout': 0.018709906105669416, 'epochs': 12, 'optimizer': 'sgd', 'lr': 0.00727930119771755}. Best is trial 2 with value: 0.8765243291854858.\n",
      "Training:   0%|          | 0/21 [00:02<?, ?Epochs/s]\n",
      "[I 2024-01-13 09:36:09,562] Trial 5 pruned. \n",
      "Training:   0%|          | 0/31 [00:02<?, ?Epochs/s]\n",
      "[I 2024-01-13 09:36:18,025] Trial 6 pruned. \n",
      "Training:   5%|▌         | 4/77 [01:21<24:56, 20.50s/Epochs]\n",
      "[I 2024-01-13 09:37:45,219] Trial 7 pruned. \n",
      "Training:   0%|          | 0/75 [00:02<?, ?Epochs/s]\n",
      "[I 2024-01-13 09:37:53,919] Trial 8 pruned. \n",
      "Training:  74%|███████▍  | 64/86 [28:45<09:53, 26.96s/Epochs]\n",
      "[I 2024-01-13 10:06:45,333] Trial 9 pruned. \n",
      "Training:  60%|██████    | 60/100 [03:51<02:34,  3.86s/Epochs]\n",
      "[I 2024-01-13 10:10:42,133] Trial 10 pruned. \n",
      "Training:   0%|          | 0/40 [00:06<?, ?Epochs/s]\n",
      "[I 2024-01-13 10:10:54,657] Trial 11 pruned. \n",
      "Training:   0%|          | 0/7 [00:03<?, ?Epochs/s]\n",
      "[I 2024-01-13 10:11:04,144] Trial 12 pruned. \n",
      "Training: 100%|██████████| 55/55 [02:02<00:00,  2.23s/Epochs]\n",
      "[I 2024-01-13 10:13:12,537] Trial 13 finished with value: 0.868300199508667 and parameters: {'num_layers{}': 1, 'num_mlp_layers{}': 2, 'log_batch_size': 5, 'hidden_dim': 15, 'dropout': 0.18984754930109946, 'epochs': 55, 'optimizer': 'sgd', 'lr': 0.049292363738013184}. Best is trial 2 with value: 0.8765243291854858.\n",
      "Training:   0%|          | 0/61 [00:02<?, ?Epochs/s]\n",
      "[I 2024-01-13 10:13:21,312] Trial 14 pruned. \n",
      "Training:   8%|▊         | 8/95 [01:00<10:55,  7.53s/Epochs]\n",
      "[I 2024-01-13 10:14:27,247] Trial 15 pruned. \n",
      "Training:   0%|          | 0/72 [00:03<?, ?Epochs/s]\n",
      "[I 2024-01-13 10:14:35,863] Trial 16 pruned. \n",
      "Training: 100%|██████████| 44/44 [02:48<00:00,  3.83s/Epochs]\n",
      "[I 2024-01-13 10:17:29,746] Trial 17 finished with value: 0.8449848294258118 and parameters: {'num_layers{}': 1, 'num_mlp_layers{}': 2, 'log_batch_size': 4, 'hidden_dim': 37, 'dropout': 0.29263591642926934, 'epochs': 44, 'optimizer': 'adam', 'lr': 0.00043725719992969127}. Best is trial 2 with value: 0.8765243291854858.\n",
      "Training:   9%|▉         | 8/85 [00:26<04:11,  3.27s/Epochs]\n",
      "[I 2024-01-13 10:18:01,737] Trial 18 pruned. \n",
      "Training:   6%|▌         | 4/65 [00:39<09:58,  9.82s/Epochs]\n",
      "[I 2024-01-13 10:18:47,341] Trial 19 pruned. \n",
      "Training:   9%|▉         | 8/86 [00:34<05:32,  4.26s/Epochs]\n",
      "[I 2024-01-13 10:19:27,249] Trial 20 pruned. \n",
      "Training: 100%|██████████| 27/27 [00:47<00:00,  1.74s/Epochs]\n",
      "[I 2024-01-13 10:20:20,086] Trial 21 finished with value: 0.8602484464645386 and parameters: {'num_layers{}': 4, 'num_mlp_layers{}': 3, 'log_batch_size': 6, 'hidden_dim': 19, 'dropout': 0.014571134308052403, 'epochs': 27, 'optimizer': 'sgd', 'lr': 0.01985496425011042}. Best is trial 2 with value: 0.8765243291854858.\n",
      "Training:   0%|          | 0/39 [00:02<?, ?Epochs/s]\n",
      "[I 2024-01-13 10:20:27,821] Trial 22 pruned. \n",
      "Training: 100%|██████████| 51/51 [02:14<00:00,  2.63s/Epochs]\n",
      "[I 2024-01-13 10:22:47,887] Trial 23 finished with value: 0.8660435676574707 and parameters: {'num_layers{}': 3, 'num_mlp_layers{}': 4, 'log_batch_size': 5, 'hidden_dim': 31, 'dropout': 0.09873842714359549, 'epochs': 51, 'optimizer': 'sgd', 'lr': 0.00338251317117934}. Best is trial 2 with value: 0.8765243291854858.\n",
      "Training:   8%|▊         | 4/51 [00:14<02:45,  3.52s/Epochs]\n",
      "[I 2024-01-13 10:23:08,408] Trial 24 pruned. \n",
      "Training:  75%|███████▌  | 52/69 [02:13<00:43,  2.57s/Epochs]\n",
      "[I 2024-01-13 10:25:28,433] Trial 25 pruned. \n",
      "Training:  17%|█▋        | 8/47 [00:42<03:29,  5.37s/Epochs]\n",
      "[I 2024-01-13 10:26:17,414] Trial 26 pruned. \n",
      "Training: 100%|██████████| 61/61 [08:09<00:00,  8.02s/Epochs]\n",
      "[I 2024-01-13 10:34:33,168] Trial 27 finished with value: 0.8930232524871826 and parameters: {'num_layers{}': 2, 'num_mlp_layers{}': 2, 'log_batch_size': 3, 'hidden_dim': 26, 'dropout': 0.1547240493884824, 'epochs': 61, 'optimizer': 'adam', 'lr': 0.00030606732410619325}. Best is trial 27 with value: 0.8930232524871826.\n",
      "Training:  20%|██        | 12/59 [01:35<06:12,  7.93s/Epochs]\n",
      "[I 2024-01-13 10:36:14,372] Trial 28 pruned. \n",
      "Training:   0%|          | 0/96 [00:17<?, ?Epochs/s]\n",
      "[I 2024-01-13 10:36:38,417] Trial 29 pruned. \n",
      "Training:   5%|▌         | 4/78 [00:35<11:04,  8.98s/Epochs]\n",
      "[I 2024-01-13 10:37:20,115] Trial 30 pruned. \n",
      "Training:   7%|▋         | 4/56 [00:14<03:10,  3.66s/Epochs]\n",
      "[I 2024-01-13 10:37:40,916] Trial 31 pruned. \n",
      "Training:   8%|▊         | 4/49 [00:13<02:31,  3.37s/Epochs]\n",
      "[I 2024-01-13 10:38:00,662] Trial 32 pruned. \n",
      "Training:  11%|█▏        | 4/35 [00:24<03:10,  6.14s/Epochs]\n",
      "[I 2024-01-13 10:38:31,522] Trial 33 pruned. \n",
      "Training:   0%|          | 0/55 [00:02<?, ?Epochs/s]\n",
      "[I 2024-01-13 10:38:39,376] Trial 34 pruned. \n",
      "Training:   0%|          | 0/63 [00:02<?, ?Epochs/s]\n",
      "[I 2024-01-13 10:38:47,243] Trial 35 pruned. \n",
      "Training:   0%|          | 0/69 [00:34<?, ?Epochs/s]\n",
      "[I 2024-01-13 10:39:27,353] Trial 36 pruned. \n",
      "Training:   5%|▍         | 4/81 [01:13<23:34, 18.38s/Epochs]\n",
      "[I 2024-01-13 10:40:46,606] Trial 37 pruned. \n",
      "Training:  22%|██▏       | 4/18 [00:08<00:29,  2.08s/Epochs]\n",
      "[I 2024-01-13 10:41:00,508] Trial 38 pruned. \n",
      "Training:   0%|          | 0/43 [00:09<?, ?Epochs/s]\n",
      "[I 2024-01-13 10:41:15,531] Trial 39 pruned. \n",
      "Training:   8%|▊         | 4/53 [01:32<18:54, 23.15s/Epochs]\n",
      "[I 2024-01-13 10:42:53,594] Trial 40 pruned. \n",
      "Training:   0%|          | 0/27 [00:02<?, ?Epochs/s]\n",
      "[I 2024-01-13 10:43:01,755] Trial 41 pruned. \n",
      "Training:   0%|          | 0/16 [00:02<?, ?Epochs/s]\n",
      "[I 2024-01-13 10:43:09,878] Trial 42 pruned. \n",
      "Training:   0%|          | 0/32 [00:02<?, ?Epochs/s]\n",
      "[I 2024-01-13 10:43:17,981] Trial 43 pruned. \n",
      "Training:  57%|█████▋    | 4/7 [00:15<00:11,  3.78s/Epochs]\n",
      "[I 2024-01-13 10:43:38,880] Trial 44 pruned. \n",
      "Training:   0%|          | 0/65 [00:02<?, ?Epochs/s]\n",
      "[I 2024-01-13 10:43:46,915] Trial 45 pruned. \n",
      "Training:   0%|          | 0/23 [00:04<?, ?Epochs/s]\n",
      "[I 2024-01-13 10:43:56,834] Trial 46 pruned. \n",
      "Training:   4%|▍         | 4/91 [00:21<07:43,  5.33s/Epochs]\n",
      "[I 2024-01-13 10:44:23,974] Trial 47 pruned. \n",
      "Training:   0%|          | 0/37 [00:03<?, ?Epochs/s]\n",
      "[I 2024-01-13 10:44:33,132] Trial 48 pruned. \n",
      "Training: 100%|██████████| 44/44 [04:48<00:00,  6.55s/Epochs]\n",
      "[I 2024-01-13 10:49:26,928] Trial 49 finished with value: 0.8690292835235596 and parameters: {'num_layers{}': 1, 'num_mlp_layers{}': 2, 'log_batch_size': 3, 'hidden_dim': 40, 'dropout': 0.06994624470404011, 'epochs': 44, 'optimizer': 'sgd', 'lr': 0.00022606767569961536}. Best is trial 27 with value: 0.8930232524871826.\n",
      "Training:   0%|          | 0/46 [00:08<?, ?Epochs/s]\n",
      "[I 2024-01-13 10:49:40,669] Trial 50 pruned. \n",
      "Training:  10%|▉         | 4/42 [00:34<05:28,  8.65s/Epochs]\n",
      "[I 2024-01-13 10:50:21,092] Trial 51 pruned. \n",
      "Training:   7%|▋         | 4/56 [00:34<07:34,  8.73s/Epochs]\n",
      "[I 2024-01-13 10:51:01,888] Trial 52 pruned. \n",
      "Training:   8%|▊         | 4/50 [00:21<04:05,  5.33s/Epochs]\n",
      "[I 2024-01-13 10:51:29,581] Trial 53 pruned. \n",
      "Training:  38%|███▊      | 12/32 [02:46<04:37, 13.87s/Epochs]\n",
      "[I 2024-01-13 10:54:22,149] Trial 54 pruned. \n",
      "Training:  88%|████████▊ | 52/59 [01:31<00:12,  1.76s/Epochs]\n",
      "[I 2024-01-13 10:55:59,872] Trial 55 pruned. \n",
      "Training:   0%|          | 0/39 [00:04<?, ?Epochs/s]\n",
      "[I 2024-01-13 10:56:10,728] Trial 56 pruned. \n",
      "Training:   0%|          | 0/25 [00:09<?, ?Epochs/s]\n",
      "[I 2024-01-13 10:56:26,671] Trial 57 pruned. \n",
      "Training:   0%|          | 0/12 [00:03<?, ?Epochs/s]\n",
      "[I 2024-01-13 10:56:36,277] Trial 58 pruned. \n",
      "Training:   6%|▌         | 4/68 [00:22<05:58,  5.61s/Epochs]\n",
      "[I 2024-01-13 10:57:04,635] Trial 59 pruned. \n",
      "Training:   5%|▌         | 4/75 [00:08<02:29,  2.10s/Epochs]\n",
      "[I 2024-01-13 10:57:19,206] Trial 60 pruned. \n",
      "Training:   0%|          | 0/34 [00:02<?, ?Epochs/s]\n",
      "[I 2024-01-13 10:57:27,653] Trial 61 pruned. \n",
      "Training:   0%|          | 0/29 [00:02<?, ?Epochs/s]\n",
      "[I 2024-01-13 10:57:36,266] Trial 62 pruned. \n",
      "Training:   0%|          | 0/21 [00:02<?, ?Epochs/s]\n",
      "[I 2024-01-13 10:57:44,708] Trial 63 pruned. \n",
      "Training:   0%|          | 0/47 [00:03<?, ?Epochs/s]\n",
      "[I 2024-01-13 10:57:54,339] Trial 64 pruned. \n",
      "Training:   0%|          | 0/61 [00:02<?, ?Epochs/s]\n",
      "[I 2024-01-13 10:58:02,506] Trial 65 pruned. \n",
      "Training: 100%|██████████| 90/90 [04:24<00:00,  2.94s/Epochs]\n",
      "[I 2024-01-13 11:02:33,732] Trial 66 finished with value: 0.8802395462989807 and parameters: {'num_layers{}': 4, 'num_mlp_layers{}': 2, 'log_batch_size': 5, 'hidden_dim': 55, 'dropout': 0.040475674033228895, 'epochs': 90, 'optimizer': 'sgd', 'lr': 0.0256128976309297}. Best is trial 27 with value: 0.8930232524871826.\n",
      "Training:   4%|▍         | 4/93 [00:13<05:03,  3.41s/Epochs]\n",
      "[I 2024-01-13 11:02:53,210] Trial 67 pruned. \n",
      "Training:  27%|██▋       | 24/88 [01:02<02:47,  2.62s/Epochs]\n",
      "[I 2024-01-13 11:04:02,182] Trial 68 pruned. \n",
      "Training: 100%|██████████| 82/82 [11:25<00:00,  8.35s/Epochs]\n",
      "[I 2024-01-13 11:15:33,268] Trial 69 finished with value: 0.4716692268848419 and parameters: {'num_layers{}': 3, 'num_mlp_layers{}': 2, 'log_batch_size': 3, 'hidden_dim': 59, 'dropout': 0.07805015999160961, 'epochs': 82, 'optimizer': 'adagrad', 'lr': 0.0041811564050157}. Best is trial 27 with value: 0.8930232524871826.\n",
      "Training:   0%|          | 0/96 [00:04<?, ?Epochs/s]\n",
      "[I 2024-01-13 11:15:44,187] Trial 70 pruned. \n",
      "Training:   0%|          | 0/54 [00:03<?, ?Epochs/s]\n",
      "[I 2024-01-13 11:15:53,147] Trial 71 pruned. \n",
      "Training:   0%|          | 0/99 [00:02<?, ?Epochs/s]\n",
      "[I 2024-01-13 11:16:01,199] Trial 72 pruned. \n",
      "Training:   0%|          | 0/72 [00:03<?, ?Epochs/s]\n",
      "[I 2024-01-13 11:16:09,952] Trial 73 pruned. \n",
      "Training:   0%|          | 0/90 [00:02<?, ?Epochs/s]\n",
      "[I 2024-01-13 11:16:18,390] Trial 74 pruned. \n",
      "Training:   0%|          | 0/83 [00:10<?, ?Epochs/s]\n",
      "[I 2024-01-13 11:16:34,942] Trial 75 pruned. \n",
      "Training:   0%|          | 0/45 [00:02<?, ?Epochs/s]\n",
      "[I 2024-01-13 11:16:43,294] Trial 76 pruned. \n",
      "Training:  28%|██▊       | 8/29 [01:51<04:53, 13.99s/Epochs]\n",
      "[I 2024-01-13 11:18:41,127] Trial 77 pruned. \n",
      "Training:   0%|          | 0/36 [00:03<?, ?Epochs/s]\n",
      "[I 2024-01-13 11:18:50,675] Trial 78 pruned. \n",
      "Training:  78%|███████▊  | 32/41 [02:38<00:44,  4.94s/Epochs]\n",
      "[I 2024-01-13 11:21:34,817] Trial 79 pruned. \n",
      "Training:   0%|          | 0/52 [00:02<?, ?Epochs/s]\n",
      "[I 2024-01-13 11:21:43,164] Trial 80 pruned. \n",
      "Training:   0%|          | 0/14 [00:02<?, ?Epochs/s]\n",
      "[I 2024-01-13 11:21:51,967] Trial 81 pruned. \n",
      "Training:   0%|          | 0/6 [00:02<?, ?Epochs/s]\n",
      "[I 2024-01-13 11:22:00,115] Trial 82 pruned. \n",
      "Training:   0%|          | 0/10 [00:02<?, ?Epochs/s]\n",
      "[I 2024-01-13 11:22:08,476] Trial 83 pruned. \n",
      "Training:   0%|          | 0/49 [00:11<?, ?Epochs/s]\n",
      "[I 2024-01-13 11:22:25,250] Trial 84 pruned. \n",
      "Training:  24%|██▎       | 4/17 [00:12<00:39,  3.08s/Epochs]\n",
      "[I 2024-01-13 11:22:43,555] Trial 85 pruned. \n",
      "Training:  10%|█         | 8/79 [00:14<02:12,  1.86s/Epochs]\n",
      "[I 2024-01-13 11:23:04,317] Trial 86 pruned. \n",
      "Training:   0%|          | 0/58 [00:04<?, ?Epochs/s]\n",
      "[I 2024-01-13 11:23:14,748] Trial 87 pruned. \n",
      "Training:   0%|          | 0/25 [00:02<?, ?Epochs/s]\n",
      "[I 2024-01-13 11:23:22,429] Trial 88 pruned. \n",
      "Training:  20%|██        | 4/20 [00:36<02:25,  9.10s/Epochs]\n",
      "[I 2024-01-13 11:24:04,320] Trial 89 pruned. \n",
      "Training:   0%|          | 0/63 [00:02<?, ?Epochs/s]\n",
      "[I 2024-01-13 11:24:12,833] Trial 90 pruned. \n",
      "Training:   0%|          | 0/43 [00:04<?, ?Epochs/s]\n",
      "[I 2024-01-13 11:24:23,525] Trial 91 pruned. \n",
      "Training:  11%|█         | 4/38 [00:12<01:44,  3.07s/Epochs]\n",
      "[I 2024-01-13 11:24:41,862] Trial 92 pruned. \n",
      "Training:   8%|▊         | 4/52 [00:35<07:01,  8.79s/Epochs]\n",
      "[I 2024-01-13 11:25:22,857] Trial 93 pruned. \n",
      "Training:   0%|          | 0/57 [00:04<?, ?Epochs/s]\n",
      "[I 2024-01-13 11:25:33,893] Trial 94 pruned. \n",
      "Training:   0%|          | 0/45 [00:02<?, ?Epochs/s]\n",
      "[I 2024-01-13 11:25:41,631] Trial 95 pruned. \n",
      "Training:   0%|          | 0/33 [00:03<?, ?Epochs/s]\n",
      "[I 2024-01-13 11:25:50,458] Trial 96 pruned. \n",
      "Training:  24%|██▍       | 12/50 [01:26<04:33,  7.21s/Epochs]\n",
      "[I 2024-01-13 11:27:22,731] Trial 97 pruned. \n",
      "Training:   0%|          | 0/10 [00:03<?, ?Epochs/s]\n",
      "[I 2024-01-13 11:27:32,396] Trial 98 pruned. \n",
      "Training:   0%|          | 0/48 [00:02<?, ?Epochs/s]\n",
      "[I 2024-01-13 11:27:40,466] Trial 99 pruned. \n",
      "Training:   7%|▋         | 4/54 [00:41<08:41, 10.44s/Epochs]\n",
      "[I 2024-01-13 11:28:28,015] Trial 100 pruned. \n",
      "Training:   0%|          | 0/44 [00:03<?, ?Epochs/s]\n",
      "[I 2024-01-13 11:28:37,339] Trial 101 pruned. \n",
      "Training:   0%|          | 0/40 [00:03<?, ?Epochs/s]\n",
      "[I 2024-01-13 11:28:46,212] Trial 102 pruned. \n",
      "Training:   0%|          | 0/60 [00:37<?, ?Epochs/s]\n",
      "[I 2024-01-13 11:29:29,758] Trial 103 pruned. \n",
      "Training:   0%|          | 0/47 [00:05<?, ?Epochs/s]\n",
      "[I 2024-01-13 11:29:40,915] Trial 104 pruned. \n",
      "Training:   0%|          | 0/85 [00:03<?, ?Epochs/s]\n",
      "[I 2024-01-13 11:29:50,511] Trial 105 pruned. \n",
      "Training:   0%|          | 0/64 [00:02<?, ?Epochs/s]\n",
      "[I 2024-01-13 11:29:59,540] Trial 106 pruned. \n",
      "Training:   0%|          | 0/29 [00:02<?, ?Epochs/s]\n",
      "[I 2024-01-13 11:30:08,056] Trial 107 pruned. \n",
      "Training:   0%|          | 0/99 [00:05<?, ?Epochs/s]\n",
      "[I 2024-01-13 11:30:19,216] Trial 108 pruned. \n",
      "Training:   0%|          | 0/94 [00:03<?, ?Epochs/s]\n",
      "[I 2024-01-13 11:30:28,204] Trial 109 pruned. \n",
      "Training:   0%|          | 0/55 [00:02<?, ?Epochs/s]\n",
      "[I 2024-01-13 11:30:36,460] Trial 110 pruned. \n",
      "Training:   0%|          | 0/68 [00:32<?, ?Epochs/s]\n",
      "[I 2024-01-13 11:31:14,133] Trial 111 pruned. \n",
      "Training:   0%|          | 0/62 [00:16<?, ?Epochs/s]\n",
      "[I 2024-01-13 11:31:36,290] Trial 112 pruned. \n",
      "Training:   0%|          | 0/66 [00:16<?, ?Epochs/s]\n",
      "[I 2024-01-13 11:31:58,462] Trial 113 pruned. \n",
      "Training:   0%|          | 0/52 [00:15<?, ?Epochs/s]\n",
      "[I 2024-01-13 11:32:19,647] Trial 114 pruned. \n",
      "Training:   8%|▊         | 4/50 [00:23<04:35,  5.98s/Epochs]\n",
      "[I 2024-01-13 11:32:49,394] Trial 115 pruned. \n",
      "Training:   0%|          | 0/57 [00:02<?, ?Epochs/s]\n",
      "[I 2024-01-13 11:32:57,160] Trial 116 pruned. \n",
      "Training:   0%|          | 0/88 [00:16<?, ?Epochs/s]\n",
      "[I 2024-01-13 11:33:19,909] Trial 117 pruned. \n",
      "Training:   0%|          | 0/71 [00:03<?, ?Epochs/s]\n",
      "[I 2024-01-13 11:33:29,272] Trial 118 pruned. \n",
      "Training:   0%|          | 0/36 [00:02<?, ?Epochs/s]\n",
      "[I 2024-01-13 11:33:37,671] Trial 119 pruned. \n",
      "Training:   0%|          | 0/19 [00:03<?, ?Epochs/s]\n",
      "[I 2024-01-13 11:33:47,082] Trial 120 pruned. \n",
      "Training:   0%|          | 0/91 [00:09<?, ?Epochs/s]\n",
      "[I 2024-01-13 11:34:02,404] Trial 121 pruned. \n",
      "Training: 100%|██████████| 88/88 [12:31<00:00,  8.54s/Epochs]\n",
      "[I 2024-01-13 11:46:39,583] Trial 122 finished with value: 0.8956385850906372 and parameters: {'num_layers{}': 3, 'num_mlp_layers{}': 2, 'log_batch_size': 3, 'hidden_dim': 60, 'dropout': 0.040095102711993236, 'epochs': 88, 'optimizer': 'adagrad', 'lr': 0.0035231987529062113}. Best is trial 122 with value: 0.8956385850906372.\n",
      "Training: 100%|██████████| 88/88 [12:14<00:00,  8.35s/Epochs]\n",
      "[I 2024-01-13 11:59:00,889] Trial 123 finished with value: 0.8684210181236267 and parameters: {'num_layers{}': 3, 'num_mlp_layers{}': 2, 'log_batch_size': 3, 'hidden_dim': 61, 'dropout': 0.33422001400772916, 'epochs': 88, 'optimizer': 'adagrad', 'lr': 0.00818300891373942}. Best is trial 122 with value: 0.8956385850906372.\n",
      "Training:   5%|▍         | 4/88 [00:43<15:18, 10.93s/Epochs]\n",
      "[I 2024-01-13 11:59:50,681] Trial 124 pruned. \n",
      "Training:  80%|████████  | 60/75 [08:22<02:05,  8.37s/Epochs]\n",
      "[I 2024-01-13 12:08:18,533] Trial 125 pruned. \n",
      "Training:  62%|██████▎   | 60/96 [08:25<05:03,  8.43s/Epochs]\n",
      "[I 2024-01-13 12:16:50,139] Trial 126 pruned. \n",
      "Training:   0%|          | 0/90 [00:09<?, ?Epochs/s]\n",
      "[I 2024-01-13 12:17:05,765] Trial 127 pruned. \n",
      "Training:   5%|▍         | 4/86 [00:41<14:17, 10.46s/Epochs]\n",
      "[I 2024-01-13 12:17:53,610] Trial 128 pruned. \n",
      "Training:   0%|          | 0/23 [00:10<?, ?Epochs/s]\n",
      "[I 2024-01-13 12:18:10,520] Trial 129 pruned. \n",
      "Training:   0%|          | 0/81 [00:08<?, ?Epochs/s]\n",
      "[I 2024-01-13 12:18:24,734] Trial 130 pruned. \n",
      "Training:   0%|          | 0/92 [00:02<?, ?Epochs/s]\n",
      "[I 2024-01-13 12:18:32,624] Trial 131 pruned. \n",
      "Training:   0%|          | 0/14 [00:05<?, ?Epochs/s]\n",
      "[I 2024-01-13 12:18:43,964] Trial 132 pruned. \n",
      "Training:   5%|▍         | 4/84 [01:05<21:59, 16.49s/Epochs]\n",
      "[I 2024-01-13 12:19:55,595] Trial 133 pruned. \n",
      "Training:   0%|          | 0/42 [00:02<?, ?Epochs/s]\n",
      "[I 2024-01-13 12:20:04,178] Trial 134 pruned. \n",
      "Training:   0%|          | 0/59 [00:12<?, ?Epochs/s]\n",
      "[I 2024-01-13 12:20:22,632] Trial 135 pruned. \n",
      "Training:   0%|          | 0/55 [00:03<?, ?Epochs/s]\n",
      "[I 2024-01-13 12:20:32,218] Trial 136 pruned. \n",
      "Training:   0%|          | 0/53 [00:02<?, ?Epochs/s]\n",
      "[I 2024-01-13 12:20:40,371] Trial 137 pruned. \n",
      "Training:   5%|▍         | 4/88 [00:25<08:48,  6.29s/Epochs]\n",
      "[I 2024-01-13 12:21:11,273] Trial 138 pruned. \n",
      "Training:  26%|██▌       | 8/31 [03:47<10:54, 28.47s/Epochs]\n",
      "[I 2024-01-13 12:25:05,092] Trial 139 pruned. \n",
      "Training:   0%|          | 0/48 [00:09<?, ?Epochs/s]\n",
      "[I 2024-01-13 12:25:20,247] Trial 140 pruned. \n",
      "Training:   5%|▍         | 4/82 [00:44<14:23, 11.07s/Epochs]\n",
      "[I 2024-01-13 12:26:10,558] Trial 141 pruned. \n",
      "Training:   0%|          | 0/93 [00:10<?, ?Epochs/s]\n",
      "[I 2024-01-13 12:26:26,630] Trial 142 pruned. \n",
      "Training:   0%|          | 0/89 [00:10<?, ?Epochs/s]\n",
      "[I 2024-01-13 12:26:43,003] Trial 143 pruned. \n",
      "Training:   4%|▍         | 4/98 [00:47<18:47, 12.00s/Epochs]\n",
      "[I 2024-01-13 12:27:36,978] Trial 144 pruned. \n",
      "Training:  14%|█▍        | 12/86 [01:47<11:00,  8.92s/Epochs]\n",
      "[I 2024-01-13 12:29:30,331] Trial 145 pruned. \n",
      "Training:   0%|          | 0/94 [00:02<?, ?Epochs/s]\n",
      "[I 2024-01-13 12:29:38,741] Trial 146 pruned. \n",
      "Training:   0%|          | 0/51 [00:03<?, ?Epochs/s]\n",
      "[I 2024-01-13 12:29:48,068] Trial 147 pruned. \n",
      "Training:  13%|█▎        | 8/60 [01:21<08:48, 10.17s/Epochs]\n",
      "[I 2024-01-13 12:31:15,456] Trial 148 pruned. \n",
      "Training:   5%|▌         | 4/79 [00:08<02:48,  2.24s/Epochs]\n",
      "[I 2024-01-13 12:31:30,905] Trial 149 pruned. \n",
      "Training:   0%|          | 0/46 [00:06<?, ?Epochs/s]\n",
      "[I 2024-01-13 12:31:44,049] Trial 150 pruned. \n",
      "Training:   0%|          | 0/86 [00:31<?, ?Epochs/s]\n",
      "[I 2024-01-13 12:32:21,452] Trial 151 pruned. \n",
      "Training:   0%|          | 0/83 [00:16<?, ?Epochs/s]\n",
      "[I 2024-01-13 12:32:44,742] Trial 152 pruned. \n",
      "Training:   4%|▍         | 4/91 [02:19<50:42, 34.97s/Epochs]\n",
      "[I 2024-01-13 12:35:10,805] Trial 153 pruned. \n",
      "Training: 100%|██████████| 5/5 [01:12<00:00, 14.42s/Epochs]\n",
      "[I 2024-01-13 12:36:28,885] Trial 154 finished with value: 0.8712120652198792 and parameters: {'num_layers{}': 2, 'num_mlp_layers{}': 3, 'log_batch_size': 2, 'hidden_dim': 45, 'dropout': 0.12191418934928498, 'epochs': 5, 'optimizer': 'sgd', 'lr': 0.0033359230411065272}. Best is trial 122 with value: 0.8956385850906372.\n",
      "Training:  27%|██▋       | 4/15 [01:12<03:20, 18.20s/Epochs]\n",
      "[I 2024-01-13 12:37:47,513] Trial 155 pruned. \n",
      "Training: 100%|██████████| 8/8 [02:02<00:00, 15.32s/Epochs]\n",
      "[I 2024-01-13 12:39:56,350] Trial 156 finished with value: 0.8590908646583557 and parameters: {'num_layers{}': 3, 'num_mlp_layers{}': 4, 'log_batch_size': 2, 'hidden_dim': 44, 'dropout': 0.12694527573571723, 'epochs': 8, 'optimizer': 'sgd', 'lr': 0.0037253865537508375}. Best is trial 122 with value: 0.8956385850906372.\n",
      "Training:   0%|          | 0/5 [00:15<?, ?Epochs/s]\n",
      "[I 2024-01-13 12:40:17,621] Trial 157 pruned. \n",
      "Training:   0%|          | 0/7 [00:17<?, ?Epochs/s]\n",
      "[I 2024-01-13 12:40:41,133] Trial 158 pruned. \n",
      "Training: 100%|██████████| 8/8 [02:13<00:00, 16.71s/Epochs]\n",
      "[I 2024-01-13 12:43:01,325] Trial 159 finished with value: 0.8686708807945251 and parameters: {'num_layers{}': 4, 'num_mlp_layers{}': 4, 'log_batch_size': 2, 'hidden_dim': 43, 'dropout': 0.12429676075386438, 'epochs': 8, 'optimizer': 'sgd', 'lr': 0.0027446229551055853}. Best is trial 122 with value: 0.8956385850906372.\n",
      "Training: 100%|██████████| 10/10 [02:53<00:00, 17.31s/Epochs]\n",
      "[I 2024-01-13 12:46:00,597] Trial 160 finished with value: 0.862500011920929 and parameters: {'num_layers{}': 4, 'num_mlp_layers{}': 4, 'log_batch_size': 2, 'hidden_dim': 43, 'dropout': 0.14778800429136119, 'epochs': 10, 'optimizer': 'sgd', 'lr': 0.002639706116265875}. Best is trial 122 with value: 0.8956385850906372.\n",
      "Training: 100%|██████████| 9/9 [02:35<00:00, 17.26s/Epochs]\n",
      "[I 2024-01-13 12:48:41,667] Trial 161 finished with value: 0.8266870975494385 and parameters: {'num_layers{}': 4, 'num_mlp_layers{}': 4, 'log_batch_size': 2, 'hidden_dim': 44, 'dropout': 0.16241870102263006, 'epochs': 9, 'optimizer': 'sgd', 'lr': 0.00259387903587691}. Best is trial 122 with value: 0.8956385850906372.\n",
      "Training:   0%|          | 0/9 [00:20<?, ?Epochs/s]\n",
      "[I 2024-01-13 12:49:07,954] Trial 162 pruned. \n",
      "Training:   0%|          | 0/12 [00:19<?, ?Epochs/s]\n",
      "[I 2024-01-13 12:49:33,952] Trial 163 pruned. \n",
      "Training: 100%|██████████| 12/12 [03:28<00:00, 17.34s/Epochs]\n",
      "[I 2024-01-13 12:53:07,845] Trial 164 finished with value: 0.8508371710777283 and parameters: {'num_layers{}': 4, 'num_mlp_layers{}': 4, 'log_batch_size': 2, 'hidden_dim': 44, 'dropout': 0.16600440394316346, 'epochs': 12, 'optimizer': 'sgd', 'lr': 0.00274571040414861}. Best is trial 122 with value: 0.8956385850906372.\n",
      "Training:   0%|          | 0/11 [00:19<?, ?Epochs/s]\n",
      "[I 2024-01-13 12:53:33,946] Trial 165 pruned. \n",
      "Training: 100%|██████████| 7/7 [02:01<00:00, 17.42s/Epochs]\n",
      "[I 2024-01-13 12:55:41,836] Trial 166 finished with value: 0.8524096012115479 and parameters: {'num_layers{}': 4, 'num_mlp_layers{}': 4, 'log_batch_size': 2, 'hidden_dim': 43, 'dropout': 0.12605370042375347, 'epochs': 7, 'optimizer': 'sgd', 'lr': 0.0034049060925365553}. Best is trial 122 with value: 0.8956385850906372.\n",
      "Training:   0%|          | 0/5 [00:20<?, ?Epochs/s]\n",
      "[I 2024-01-13 12:56:07,959] Trial 167 pruned. \n",
      "Training:  50%|█████     | 4/8 [01:32<01:32, 23.24s/Epochs]\n",
      "[I 2024-01-13 12:57:46,925] Trial 168 pruned. \n",
      "Training:   0%|          | 0/13 [00:20<?, ?Epochs/s]\n",
      "[I 2024-01-13 12:58:13,402] Trial 169 pruned. \n",
      "Training:   0%|          | 0/8 [00:19<?, ?Epochs/s]\n",
      "[I 2024-01-13 12:58:38,786] Trial 170 pruned. \n",
      "Training:   0%|          | 0/7 [00:28<?, ?Epochs/s]\n",
      "[I 2024-01-13 12:59:13,022] Trial 171 pruned. \n",
      "Training:   0%|          | 0/11 [00:20<?, ?Epochs/s]\n",
      "[I 2024-01-13 12:59:41,297] Trial 172 pruned. \n",
      "Training: 100%|██████████| 5/5 [01:27<00:00, 17.50s/Epochs]\n",
      "[I 2024-01-13 13:01:14,821] Trial 173 finished with value: 0.863636314868927 and parameters: {'num_layers{}': 4, 'num_mlp_layers{}': 4, 'log_batch_size': 2, 'hidden_dim': 44, 'dropout': 0.19248461053501864, 'epochs': 5, 'optimizer': 'sgd', 'lr': 0.0021409253002063152}. Best is trial 122 with value: 0.8956385850906372.\n",
      "Training:   0%|          | 0/17 [00:19<?, ?Epochs/s]\n",
      "[I 2024-01-13 13:01:40,335] Trial 174 pruned. \n",
      "Training:   0%|          | 0/5 [00:20<?, ?Epochs/s]\n",
      "[I 2024-01-13 13:02:06,648] Trial 175 pruned. \n",
      "Training:   0%|          | 0/10 [00:18<?, ?Epochs/s]\n",
      "[I 2024-01-13 13:02:31,288] Trial 176 pruned. \n",
      "Training:   0%|          | 0/7 [00:19<?, ?Epochs/s]\n",
      "[I 2024-01-13 13:02:56,389] Trial 177 pruned. \n",
      "Training:   0%|          | 0/13 [00:19<?, ?Epochs/s]\n",
      "[I 2024-01-13 13:03:22,131] Trial 178 pruned. \n",
      "Training:   0%|          | 0/9 [00:19<?, ?Epochs/s]\n",
      "[I 2024-01-13 13:03:47,795] Trial 179 pruned. \n",
      "Training:   0%|          | 0/16 [00:20<?, ?Epochs/s]\n",
      "[I 2024-01-13 13:04:14,344] Trial 180 pruned. \n",
      "Training:   0%|          | 0/6 [00:18<?, ?Epochs/s]\n",
      "[I 2024-01-13 13:04:39,068] Trial 181 pruned. \n",
      "Training:   0%|          | 0/11 [00:20<?, ?Epochs/s]\n",
      "[I 2024-01-13 13:05:05,272] Trial 182 pruned. \n",
      "Training: 100%|██████████| 5/5 [01:29<00:00, 17.81s/Epochs]\n",
      "[I 2024-01-13 13:06:40,672] Trial 183 finished with value: 0.8655332326889038 and parameters: {'num_layers{}': 4, 'num_mlp_layers{}': 4, 'log_batch_size': 2, 'hidden_dim': 46, 'dropout': 0.13126025498514243, 'epochs': 5, 'optimizer': 'sgd', 'lr': 0.0024651242772255654}. Best is trial 122 with value: 0.8956385850906372.\n",
      "Training:   0%|          | 0/5 [00:19<?, ?Epochs/s]\n",
      "[I 2024-01-13 13:07:06,382] Trial 184 pruned. \n",
      "Training: 100%|██████████| 8/8 [02:13<00:00, 16.63s/Epochs]\n",
      "[I 2024-01-13 13:09:25,101] Trial 185 finished with value: 0.8623853325843811 and parameters: {'num_layers{}': 4, 'num_mlp_layers{}': 4, 'log_batch_size': 2, 'hidden_dim': 46, 'dropout': 0.12856838758330444, 'epochs': 8, 'optimizer': 'sgd', 'lr': 0.0023860820983737175}. Best is trial 122 with value: 0.8956385850906372.\n",
      "Training:  50%|█████     | 4/8 [01:28<01:28, 22.10s/Epochs]\n",
      "[I 2024-01-13 13:10:59,558] Trial 186 pruned. \n",
      "Training:   0%|          | 0/7 [00:20<?, ?Epochs/s]\n",
      "[I 2024-01-13 13:11:25,516] Trial 187 pruned. \n",
      "Training:   0%|          | 0/5 [00:19<?, ?Epochs/s]\n",
      "[I 2024-01-13 13:11:51,420] Trial 188 pruned. \n",
      "Training:  44%|████▍     | 4/9 [01:29<01:51, 22.39s/Epochs]\n",
      "[I 2024-01-13 13:13:26,788] Trial 189 pruned. \n",
      "Training:   0%|          | 0/12 [00:19<?, ?Epochs/s]\n",
      "[I 2024-01-13 13:13:52,792] Trial 190 pruned. \n",
      "Training:   0%|          | 0/10 [00:21<?, ?Epochs/s]\n",
      "[I 2024-01-13 13:14:20,425] Trial 191 pruned. \n",
      "Training:  18%|█▊        | 4/22 [01:29<06:41, 22.29s/Epochs]\n",
      "[I 2024-01-13 13:15:55,603] Trial 192 pruned. \n",
      "Training:   0%|          | 0/14 [00:20<?, ?Epochs/s]\n",
      "[I 2024-01-13 13:16:21,886] Trial 193 pruned. \n",
      "Training:   0%|          | 0/8 [00:02<?, ?Epochs/s]\n",
      "[I 2024-01-13 13:16:30,112] Trial 194 pruned. \n",
      "Training:   0%|          | 0/7 [00:19<?, ?Epochs/s]\n",
      "[I 2024-01-13 13:16:56,137] Trial 195 pruned. \n",
      "Training:   0%|          | 0/5 [00:19<?, ?Epochs/s]\n",
      "[I 2024-01-13 13:17:22,281] Trial 196 pruned. \n",
      "Training:   0%|          | 0/11 [00:02<?, ?Epochs/s]\n",
      "[I 2024-01-13 13:17:31,119] Trial 197 pruned. \n",
      "Training: 100%|██████████| 9/9 [02:40<00:00, 17.84s/Epochs]\n",
      "[I 2024-01-13 13:20:17,686] Trial 198 finished with value: 0.8773584365844727 and parameters: {'num_layers{}': 4, 'num_mlp_layers{}': 4, 'log_batch_size': 2, 'hidden_dim': 45, 'dropout': 0.13033255554112635, 'epochs': 9, 'optimizer': 'sgd', 'lr': 0.0046077152788732536}. Best is trial 122 with value: 0.8956385850906372.\n",
      "Training:   0%|          | 0/9 [00:20<?, ?Epochs/s]\n",
      "[I 2024-01-13 13:20:44,649] Trial 199 pruned. \n",
      "Training:  57%|█████▋    | 4/7 [01:30<01:07, 22.65s/Epochs]\n",
      "[I 2024-01-13 13:22:22,305] Trial 200 pruned. \n",
      "Training:   0%|          | 0/13 [00:19<?, ?Epochs/s]\n",
      "[I 2024-01-13 13:22:48,609] Trial 201 pruned. \n",
      "Training:  16%|█▌        | 4/25 [01:32<08:04, 23.05s/Epochs]\n",
      "[I 2024-01-13 13:24:27,319] Trial 202 pruned. \n",
      "Training:   0%|          | 0/9 [00:20<?, ?Epochs/s]\n",
      "[I 2024-01-13 13:24:54,238] Trial 203 pruned. \n",
      "Training:   0%|          | 0/11 [00:02<?, ?Epochs/s]\n",
      "[I 2024-01-13 13:25:03,037] Trial 204 pruned. \n",
      "Training:  80%|████████  | 4/5 [01:28<00:22, 22.15s/Epochs]\n",
      "[I 2024-01-13 13:26:37,497] Trial 205 pruned. \n",
      "Training:  21%|██        | 4/19 [01:20<05:02, 20.13s/Epochs]\n",
      "[I 2024-01-13 13:28:04,098] Trial 206 pruned. \n",
      "Training:   0%|          | 0/15 [00:02<?, ?Epochs/s]\n",
      "[I 2024-01-13 13:28:12,678] Trial 207 pruned. \n",
      "Training:   0%|          | 0/7 [00:19<?, ?Epochs/s]\n",
      "[I 2024-01-13 13:28:38,442] Trial 208 pruned. \n",
      "Training:   0%|          | 0/10 [00:11<?, ?Epochs/s]\n",
      "[I 2024-01-13 13:28:55,714] Trial 209 pruned. \n",
      "Training:   0%|          | 0/12 [00:19<?, ?Epochs/s]\n",
      "[I 2024-01-13 13:29:21,621] Trial 210 pruned. \n",
      "Training:   0%|          | 0/40 [00:02<?, ?Epochs/s]\n",
      "[I 2024-01-13 13:29:30,903] Trial 211 pruned. \n",
      "Training:   0%|          | 0/37 [00:08<?, ?Epochs/s]\n",
      "[I 2024-01-13 13:29:45,472] Trial 212 pruned. \n",
      "Training:  57%|█████▋    | 4/7 [00:08<00:06,  2.15s/Epochs]\n",
      "[I 2024-01-13 13:30:00,451] Trial 213 pruned. \n",
      "Training:   0%|          | 0/5 [00:18<?, ?Epochs/s]\n",
      "[I 2024-01-13 13:30:24,737] Trial 214 pruned. \n",
      "Training:   0%|          | 0/34 [00:06<?, ?Epochs/s]\n",
      "[I 2024-01-13 13:30:37,890] Trial 215 pruned. \n",
      "Training:  13%|█▎        | 4/31 [01:20<09:00, 20.01s/Epochs]\n",
      "[I 2024-01-13 13:32:03,849] Trial 216 pruned. \n",
      "Training:   0%|          | 0/89 [00:02<?, ?Epochs/s]\n",
      "[I 2024-01-13 13:32:12,552] Trial 217 pruned. \n",
      "Training:   0%|          | 0/27 [00:10<?, ?Epochs/s]\n",
      "[I 2024-01-13 13:32:29,119] Trial 218 pruned. \n",
      "Training: 100%|██████████| 9/9 [02:00<00:00, 13.44s/Epochs]\n",
      "[I 2024-01-13 13:34:36,206] Trial 219 finished with value: 0.8639876246452332 and parameters: {'num_layers{}': 1, 'num_mlp_layers{}': 2, 'log_batch_size': 2, 'hidden_dim': 43, 'dropout': 0.1205524134346698, 'epochs': 9, 'optimizer': 'sgd', 'lr': 0.0002829717012367279}. Best is trial 122 with value: 0.8956385850906372.\n",
      "Training:   0%|          | 0/10 [00:14<?, ?Epochs/s]\n",
      "[I 2024-01-13 13:34:57,207] Trial 220 pruned. \n",
      "Training:  50%|█████     | 4/8 [01:06<01:06, 16.66s/Epochs]\n",
      "[I 2024-01-13 13:36:09,619] Trial 221 pruned. \n",
      "Training:   0%|          | 0/44 [00:14<?, ?Epochs/s]\n",
      "[I 2024-01-13 13:36:30,688] Trial 222 pruned. \n",
      "Training:  57%|█████▋    | 4/7 [01:06<00:49, 16.56s/Epochs]\n",
      "[I 2024-01-13 13:37:42,986] Trial 223 pruned. \n",
      "Training:   0%|          | 0/9 [00:15<?, ?Epochs/s]\n",
      "[I 2024-01-13 13:38:04,390] Trial 224 pruned. \n",
      "Training:   0%|          | 0/12 [00:03<?, ?Epochs/s]\n",
      "[I 2024-01-13 13:38:14,099] Trial 225 pruned. \n",
      "Training:   4%|▍         | 4/93 [01:05<24:11, 16.31s/Epochs]\n",
      "[I 2024-01-13 13:39:25,663] Trial 226 pruned. \n",
      "Training:   0%|          | 0/5 [00:19<?, ?Epochs/s]\n",
      "[I 2024-01-13 13:39:51,201] Trial 227 pruned. \n",
      "Training:   0%|          | 0/14 [00:02<?, ?Epochs/s]\n",
      "[I 2024-01-13 13:39:59,500] Trial 228 pruned. \n",
      "Training:   0%|          | 0/91 [00:11<?, ?Epochs/s]\n",
      "[I 2024-01-13 13:40:16,949] Trial 229 pruned. \n",
      "Training:  44%|████▍     | 4/9 [01:05<01:22, 16.50s/Epochs]\n",
      "[I 2024-01-13 13:41:28,926] Trial 230 pruned. \n",
      "Training:   0%|          | 0/7 [00:19<?, ?Epochs/s]\n",
      "[I 2024-01-13 13:41:54,785] Trial 231 pruned. \n",
      "Training:   0%|          | 0/10 [00:19<?, ?Epochs/s]\n",
      "[I 2024-01-13 13:42:19,765] Trial 232 pruned. \n",
      "Training:   0%|          | 0/8 [00:20<?, ?Epochs/s]\n",
      "[I 2024-01-13 13:42:46,102] Trial 233 pruned. \n",
      "Training:   0%|          | 0/11 [00:19<?, ?Epochs/s]\n",
      "[I 2024-01-13 13:43:11,211] Trial 234 pruned. \n",
      "Training:  67%|██████▋   | 4/6 [01:30<00:45, 22.56s/Epochs]\n",
      "[I 2024-01-13 13:44:47,611] Trial 235 pruned. \n",
      "Training:   0%|          | 0/9 [00:03<?, ?Epochs/s]\n",
      "[I 2024-01-13 13:44:57,487] Trial 236 pruned. \n",
      "Training:   0%|          | 0/56 [00:19<?, ?Epochs/s]\n",
      "[I 2024-01-13 13:45:23,612] Trial 237 pruned. \n",
      "Training:   0%|          | 0/95 [00:02<?, ?Epochs/s]\n",
      "[I 2024-01-13 13:45:32,018] Trial 238 pruned. \n",
      "Training:   0%|          | 0/87 [00:06<?, ?Epochs/s]\n",
      "[I 2024-01-13 13:45:44,118] Trial 239 pruned. \n",
      "Training:   0%|          | 0/13 [00:16<?, ?Epochs/s]\n",
      "[I 2024-01-13 13:46:07,101] Trial 240 pruned. \n",
      "Training:   0%|          | 0/53 [00:03<?, ?Epochs/s]\n",
      "[I 2024-01-13 13:46:16,440] Trial 241 pruned. \n",
      "Training:   0%|          | 0/46 [00:03<?, ?Epochs/s]\n",
      "[I 2024-01-13 13:46:26,209] Trial 242 pruned. \n",
      "Training:   0%|          | 0/51 [00:03<?, ?Epochs/s]\n",
      "[I 2024-01-13 13:46:35,815] Trial 243 pruned. \n",
      "Training:   0%|          | 0/49 [00:03<?, ?Epochs/s]\n",
      "[I 2024-01-13 13:46:45,427] Trial 244 pruned. \n",
      "Training:   0%|          | 0/48 [00:09<?, ?Epochs/s]\n",
      "[I 2024-01-13 13:47:01,218] Trial 245 pruned. \n",
      "Training:   0%|          | 0/5 [00:20<?, ?Epochs/s]\n",
      "[I 2024-01-13 13:47:28,140] Trial 246 pruned. \n",
      "Training:   0%|          | 0/7 [00:03<?, ?Epochs/s]\n",
      "[I 2024-01-13 13:47:37,672] Trial 247 pruned. \n",
      "Training:   0%|          | 0/41 [00:19<?, ?Epochs/s]\n",
      "[I 2024-01-13 13:48:02,992] Trial 248 pruned. \n",
      "Training:   0%|          | 0/9 [00:02<?, ?Epochs/s]\n",
      "[I 2024-01-13 13:48:11,381] Trial 249 pruned. \n",
      "Training:   0%|          | 0/54 [00:19<?, ?Epochs/s]\n",
      "[I 2024-01-13 13:48:36,541] Trial 250 pruned. \n",
      "Training:   0%|          | 0/38 [00:10<?, ?Epochs/s]\n",
      "[I 2024-01-13 13:48:52,618] Trial 251 pruned. \n",
      "Training:   5%|▌         | 4/76 [01:13<22:01, 18.35s/Epochs]\n",
      "[I 2024-01-13 13:50:12,198] Trial 252 pruned. \n",
      "Training:   0%|          | 0/58 [00:19<?, ?Epochs/s]\n",
      "[I 2024-01-13 13:50:37,844] Trial 253 pruned. \n",
      "Training:  33%|███▎      | 4/12 [00:28<00:56,  7.02s/Epochs]\n",
      "[I 2024-01-13 13:51:12,412] Trial 254 pruned. \n",
      "Training:   0%|          | 0/90 [00:02<?, ?Epochs/s]\n",
      "[I 2024-01-13 13:51:20,377] Trial 255 pruned. \n",
      "Training:   0%|          | 0/17 [00:03<?, ?Epochs/s]\n",
      "[I 2024-01-13 13:51:29,701] Trial 256 pruned. \n",
      "Training:   0%|          | 0/7 [00:09<?, ?Epochs/s]\n",
      "[I 2024-01-13 13:51:44,874] Trial 257 pruned. \n",
      "Training:   0%|          | 0/10 [00:20<?, ?Epochs/s]\n",
      "[I 2024-01-13 13:52:12,068] Trial 258 pruned. \n",
      "Training:  14%|█▍        | 4/28 [01:12<07:17, 18.21s/Epochs]\n",
      "[I 2024-01-13 13:53:30,954] Trial 259 pruned. \n",
      "Training:   0%|          | 0/51 [00:03<?, ?Epochs/s]\n",
      "[I 2024-01-13 13:53:40,236] Trial 260 pruned. \n",
      "Training:   0%|          | 0/5 [00:02<?, ?Epochs/s]\n",
      "[I 2024-01-13 13:53:48,807] Trial 261 pruned. \n",
      "Training:   6%|▌         | 4/66 [01:14<19:09, 18.54s/Epochs]\n",
      "[I 2024-01-13 13:55:08,804] Trial 262 pruned. \n",
      "Training:   0%|          | 0/43 [00:19<?, ?Epochs/s]\n",
      "[I 2024-01-13 13:55:34,922] Trial 263 pruned. \n",
      "Training:   0%|          | 0/9 [00:13<?, ?Epochs/s]\n",
      "[I 2024-01-13 13:55:53,840] Trial 264 pruned. \n",
      "Training:  85%|████████▍ | 60/71 [33:19<06:06, 33.33s/Epochs]\n",
      "[I 2024-01-13 14:29:19,708] Trial 265 pruned. \n",
      "Training:   0%|          | 0/11 [00:02<?, ?Epochs/s]\n",
      "[I 2024-01-13 14:29:27,732] Trial 266 pruned. \n",
      "Training:   0%|          | 0/7 [00:14<?, ?Epochs/s]\n",
      "[I 2024-01-13 14:29:48,408] Trial 267 pruned. \n",
      "Training:   4%|▍         | 4/92 [01:18<28:40, 19.55s/Epochs]\n",
      "[I 2024-01-13 14:31:12,427] Trial 268 pruned. \n",
      "Training: 100%|██████████| 14/14 [01:06<00:00,  4.74s/Epochs]\n",
      "[I 2024-01-13 14:32:24,675] Trial 269 finished with value: 0.8734755516052246 and parameters: {'num_layers{}': 4, 'num_mlp_layers{}': 2, 'log_batch_size': 4, 'hidden_dim': 45, 'dropout': 0.02959900848596754, 'epochs': 14, 'optimizer': 'sgd', 'lr': 0.0027537266946520964}. Best is trial 122 with value: 0.8956385850906372.\n",
      "Training:   0%|          | 0/12 [00:05<?, ?Epochs/s]\n",
      "[I 2024-01-13 14:32:36,465] Trial 270 pruned. \n",
      "Training:   0%|          | 0/16 [00:06<?, ?Epochs/s]\n",
      "[I 2024-01-13 14:32:48,491] Trial 271 pruned. \n",
      "Training:   0%|          | 0/14 [00:06<?, ?Epochs/s]\n",
      "[I 2024-01-13 14:33:00,740] Trial 272 pruned. \n",
      "Training:  50%|█████     | 4/8 [00:44<00:44, 11.04s/Epochs]\n",
      "[I 2024-01-13 14:33:51,081] Trial 273 pruned. \n",
      "Training:   0%|          | 0/9 [00:18<?, ?Epochs/s]\n",
      "[I 2024-01-13 14:34:15,550] Trial 274 pruned. \n",
      "Training:   0%|          | 0/11 [00:09<?, ?Epochs/s]\n",
      "[I 2024-01-13 14:34:36,793] Trial 275 pruned. \n",
      "Training:  67%|██████▋   | 4/6 [01:23<00:41, 20.91s/Epochs]\n",
      "[I 2024-01-13 14:36:13,179] Trial 276 pruned. \n",
      "Training:   4%|▍         | 4/97 [01:23<32:24, 20.91s/Epochs]\n",
      "[I 2024-01-13 14:37:42,992] Trial 277 pruned. \n",
      "Training:   0%|          | 0/13 [00:10<?, ?Epochs/s]\n",
      "[I 2024-01-13 14:37:59,447] Trial 278 pruned. \n",
      "Training:   0%|          | 0/5 [00:02<?, ?Epochs/s]\n",
      "[I 2024-01-13 14:38:07,257] Trial 279 pruned. \n",
      "Training:   0%|          | 0/24 [00:20<?, ?Epochs/s]\n",
      "[I 2024-01-13 14:38:33,699] Trial 280 pruned. \n",
      "Training:   0%|          | 0/21 [00:10<?, ?Epochs/s]\n",
      "[I 2024-01-13 14:38:49,685] Trial 281 pruned. \n",
      "Training:   0%|          | 0/35 [00:18<?, ?Epochs/s]\n",
      "[I 2024-01-13 14:39:14,451] Trial 282 pruned. \n",
      "Training:   0%|          | 0/8 [00:02<?, ?Epochs/s]\n",
      "[I 2024-01-13 14:39:22,213] Trial 283 pruned. \n",
      "Training:   0%|          | 0/62 [00:05<?, ?Epochs/s]\n",
      "[I 2024-01-13 14:39:33,295] Trial 284 pruned. \n",
      "Training:   0%|          | 0/10 [00:18<?, ?Epochs/s]\n",
      "[I 2024-01-13 14:39:57,745] Trial 285 pruned. \n",
      "Training:  27%|██▋       | 4/15 [01:23<03:50, 20.99s/Epochs]\n",
      "[I 2024-01-13 14:41:27,708] Trial 286 pruned. \n",
      "Training:   0%|          | 0/7 [00:02<?, ?Epochs/s]\n",
      "[I 2024-01-13 14:41:35,322] Trial 287 pruned. \n",
      "Training:  40%|████      | 4/10 [01:24<02:06, 21.14s/Epochs]\n",
      "[I 2024-01-13 14:43:05,968] Trial 288 pruned. \n",
      "Training:   0%|          | 0/87 [00:09<?, ?Epochs/s]\n",
      "[I 2024-01-13 14:43:21,534] Trial 289 pruned. \n",
      "Training:   0%|          | 0/89 [00:19<?, ?Epochs/s]\n",
      "[I 2024-01-13 14:43:46,654] Trial 290 pruned. \n",
      "Training:   0%|          | 0/13 [00:02<?, ?Epochs/s]\n",
      "[I 2024-01-13 14:43:54,757] Trial 291 pruned. \n",
      "Training:  22%|██▏       | 4/18 [01:11<04:08, 17.78s/Epochs]\n",
      "[I 2024-01-13 14:45:11,566] Trial 292 pruned. \n",
      "Training:   0%|          | 0/5 [00:07<?, ?Epochs/s]\n",
      "[I 2024-01-13 14:45:25,217] Trial 293 pruned. \n",
      "Training:   0%|          | 0/30 [00:19<?, ?Epochs/s]\n",
      "[I 2024-01-13 14:45:49,867] Trial 294 pruned. \n",
      "Training:   0%|          | 0/11 [00:05<?, ?Epochs/s]\n",
      "[I 2024-01-13 14:46:01,157] Trial 295 pruned. \n",
      "Training:  50%|█████     | 4/8 [01:06<01:06, 16.71s/Epochs]\n",
      "[I 2024-01-13 14:47:13,390] Trial 296 pruned. \n",
      "Training:   0%|          | 0/7 [00:18<?, ?Epochs/s]\n",
      "[I 2024-01-13 14:47:37,413] Trial 297 pruned. \n",
      "Training:   0%|          | 0/84 [00:10<?, ?Epochs/s]\n",
      "[I 2024-01-13 14:47:53,726] Trial 298 pruned. \n",
      "Training:   0%|          | 0/10 [00:02<?, ?Epochs/s]\n",
      "[I 2024-01-13 14:48:01,708] Trial 299 pruned. \n",
      "Training:  12%|█▏        | 4/33 [01:10<08:30, 17.60s/Epochs]\n",
      "[I 2024-01-13 14:49:17,541] Trial 300 pruned. \n",
      "Training:  15%|█▌        | 4/26 [01:25<07:49, 21.36s/Epochs]\n",
      "[I 2024-01-13 14:50:48,802] Trial 301 pruned. \n",
      "Training: 100%|██████████| 93/93 [26:34<00:00, 17.14s/Epochs]\n",
      "[I 2024-01-13 15:17:28,633] Trial 302 finished with value: 0.8871473073959351 and parameters: {'num_layers{}': 4, 'num_mlp_layers{}': 2, 'log_batch_size': 2, 'hidden_dim': 45, 'dropout': 0.02559939945828732, 'epochs': 93, 'optimizer': 'sgd', 'lr': 0.0018799506346524014}. Best is trial 122 with value: 0.8956385850906372.\n",
      "Training:   0%|          | 0/92 [00:04<?, ?Epochs/s]\n",
      "[I 2024-01-13 15:17:38,747] Trial 303 pruned. \n",
      "Training:   0%|          | 0/90 [00:02<?, ?Epochs/s]\n",
      "[I 2024-01-13 15:17:46,941] Trial 304 pruned. \n",
      "Training:   4%|▍         | 4/94 [00:45<17:03, 11.37s/Epochs]\n",
      "[I 2024-01-13 15:18:38,389] Trial 305 pruned. \n",
      "Training:   0%|          | 0/39 [00:20<?, ?Epochs/s]\n",
      "[I 2024-01-13 15:19:05,844] Trial 306 pruned. \n",
      "Training:   0%|          | 0/96 [00:20<?, ?Epochs/s]\n",
      "[I 2024-01-13 15:19:32,940] Trial 307 pruned. \n",
      "Training:   0%|          | 0/91 [00:03<?, ?Epochs/s]\n",
      "[I 2024-01-13 15:19:42,532] Trial 308 pruned. \n",
      "Training:   0%|          | 0/93 [00:15<?, ?Epochs/s]\n",
      "[I 2024-01-13 15:20:04,813] Trial 309 pruned. \n",
      "Training:   0%|          | 0/45 [00:02<?, ?Epochs/s]\n",
      "[I 2024-01-13 15:20:13,427] Trial 310 pruned. \n",
      "Training:   0%|          | 0/5 [00:10<?, ?Epochs/s]\n",
      "[I 2024-01-13 15:20:30,179] Trial 311 pruned. \n",
      "Training:   0%|          | 0/95 [00:20<?, ?Epochs/s]\n",
      "[I 2024-01-13 15:20:57,723] Trial 312 pruned. \n",
      "Training:   0%|          | 0/57 [00:06<?, ?Epochs/s]\n",
      "[I 2024-01-13 15:21:10,620] Trial 313 pruned. \n",
      "Training:   0%|          | 0/87 [00:03<?, ?Epochs/s]\n",
      "[I 2024-01-13 15:21:20,868] Trial 314 pruned. \n",
      "Training:  27%|██▋       | 4/15 [01:15<03:27, 18.83s/Epochs]\n",
      "[I 2024-01-13 15:22:43,143] Trial 315 pruned. \n",
      "Training:   0%|          | 0/7 [00:34<?, ?Epochs/s]\n",
      "[I 2024-01-13 15:23:24,457] Trial 316 pruned. \n",
      "Training:   0%|          | 0/89 [00:02<?, ?Epochs/s]\n",
      "[I 2024-01-13 15:23:33,030] Trial 317 pruned. \n",
      "Training:  31%|███       | 4/13 [01:27<03:17, 21.98s/Epochs]\n",
      "[I 2024-01-13 15:25:07,208] Trial 318 pruned. \n",
      "Training:   0%|          | 0/73 [00:09<?, ?Epochs/s]\n",
      "[I 2024-01-13 15:25:22,468] Trial 319 pruned. \n",
      "Training:   7%|▋         | 4/60 [01:08<16:00, 17.15s/Epochs]\n",
      "[I 2024-01-13 15:26:36,986] Trial 320 pruned. \n",
      "Training: 100%|██████████| 47/47 [07:07<00:00,  9.10s/Epochs]\n",
      "[I 2024-01-13 15:33:50,628] Trial 321 finished with value: 0.8622848391532898 and parameters: {'num_layers{}': 4, 'num_mlp_layers{}': 2, 'log_batch_size': 3, 'hidden_dim': 43, 'dropout': 0.0017875691309763037, 'epochs': 47, 'optimizer': 'sgd', 'lr': 0.004169454661993556}. Best is trial 122 with value: 0.8956385850906372.\n",
      "Training:   8%|▊         | 4/50 [00:44<08:34, 11.19s/Epochs]\n",
      "[I 2024-01-13 15:34:41,319] Trial 322 pruned. \n",
      "Training: 100%|██████████| 48/48 [06:57<00:00,  8.69s/Epochs]\n",
      "[I 2024-01-13 15:41:44,170] Trial 323 finished with value: 0.8052959442138672 and parameters: {'num_layers{}': 4, 'num_mlp_layers{}': 4, 'log_batch_size': 3, 'hidden_dim': 43, 'dropout': 0.011362228378569914, 'epochs': 48, 'optimizer': 'sgd', 'lr': 0.004965978955321045}. Best is trial 122 with value: 0.8956385850906372.\n",
      "Training: 100%|██████████| 99/99 [14:29<00:00,  8.79s/Epochs]\n",
      "[I 2024-01-13 15:56:19,968] Trial 324 finished with value: 0.8746223449707031 and parameters: {'num_layers{}': 4, 'num_mlp_layers{}': 2, 'log_batch_size': 3, 'hidden_dim': 44, 'dropout': 0.004784439299821109, 'epochs': 99, 'optimizer': 'sgd', 'lr': 0.003738670748059803}. Best is trial 122 with value: 0.8956385850906372.\n",
      "Training: 100%|██████████| 96/96 [13:57<00:00,  8.72s/Epochs]\n",
      "[I 2024-01-13 16:10:23,145] Trial 325 finished with value: 0.852986216545105 and parameters: {'num_layers{}': 4, 'num_mlp_layers{}': 2, 'log_batch_size': 3, 'hidden_dim': 44, 'dropout': 0.0009480833393182358, 'epochs': 96, 'optimizer': 'sgd', 'lr': 0.003647993147006785}. Best is trial 122 with value: 0.8956385850906372.\n",
      "Training: 100%|██████████| 99/99 [14:46<00:00,  8.96s/Epochs]\n",
      "[I 2024-01-13 16:25:16,089] Trial 326 finished with value: 0.8348624110221863 and parameters: {'num_layers{}': 4, 'num_mlp_layers{}': 2, 'log_batch_size': 3, 'hidden_dim': 51, 'dropout': 0.010216982254388288, 'epochs': 99, 'optimizer': 'sgd', 'lr': 0.004084911297441301}. Best is trial 122 with value: 0.8956385850906372.\n",
      "Training: 100%|██████████| 47/47 [07:14<00:00,  9.24s/Epochs]\n",
      "[I 2024-01-13 16:32:36,732] Trial 327 finished with value: 0.8669725060462952 and parameters: {'num_layers{}': 4, 'num_mlp_layers{}': 2, 'log_batch_size': 3, 'hidden_dim': 44, 'dropout': 0.002595564052796746, 'epochs': 47, 'optimizer': 'sgd', 'lr': 0.0036180357119602446}. Best is trial 122 with value: 0.8956385850906372.\n",
      "Training:   0%|          | 0/100 [00:10<?, ?Epochs/s]\n",
      "[I 2024-01-13 16:32:54,378] Trial 328 pruned. \n",
      "Training:   0%|          | 0/98 [00:11<?, ?Epochs/s]\n",
      "[I 2024-01-13 16:33:12,033] Trial 329 pruned. \n",
      "Training:   0%|          | 0/46 [00:10<?, ?Epochs/s]\n",
      "[I 2024-01-13 16:33:28,841] Trial 330 pruned. \n",
      "Training: 100%|██████████| 97/97 [14:53<00:00,  9.22s/Epochs]\n",
      "[I 2024-01-13 16:48:29,834] Trial 331 finished with value: 0.851739764213562 and parameters: {'num_layers{}': 4, 'num_mlp_layers{}': 2, 'log_batch_size': 3, 'hidden_dim': 47, 'dropout': 0.0026281744653848123, 'epochs': 97, 'optimizer': 'sgd', 'lr': 0.0032354655690876623}. Best is trial 122 with value: 0.8956385850906372.\n",
      "Training:   0%|          | 0/100 [00:10<?, ?Epochs/s]\n",
      "[I 2024-01-13 16:48:47,251] Trial 332 pruned. \n",
      "Training: 100%|██████████| 97/97 [14:49<00:00,  9.17s/Epochs]\n",
      "[I 2024-01-13 17:03:43,908] Trial 333 finished with value: 0.8520801663398743 and parameters: {'num_layers{}': 4, 'num_mlp_layers{}': 2, 'log_batch_size': 3, 'hidden_dim': 49, 'dropout': 0.0013299578979801493, 'epochs': 97, 'optimizer': 'adagrad', 'lr': 0.004329006460061675}. Best is trial 122 with value: 0.8956385850906372.\n",
      "Training:   0%|          | 0/48 [00:09<?, ?Epochs/s]\n",
      "[I 2024-01-13 17:03:59,861] Trial 334 pruned. \n",
      "Training:   4%|▍         | 4/95 [00:44<16:50, 11.11s/Epochs]\n",
      "[I 2024-01-13 17:04:50,230] Trial 335 pruned. \n",
      "Training:   0%|          | 0/94 [00:11<?, ?Epochs/s]\n",
      "[I 2024-01-13 17:05:07,115] Trial 336 pruned. \n",
      "Training: 100%|██████████| 53/53 [07:40<00:00,  8.69s/Epochs]\n",
      "[I 2024-01-13 17:12:53,693] Trial 337 finished with value: 0.884437620639801 and parameters: {'num_layers{}': 4, 'num_mlp_layers{}': 2, 'log_batch_size': 3, 'hidden_dim': 44, 'dropout': 0.010094976270954015, 'epochs': 53, 'optimizer': 'sgd', 'lr': 0.002245090167301033}. Best is trial 122 with value: 0.8956385850906372.\n",
      "Training:   0%|          | 0/47 [00:10<?, ?Epochs/s]\n",
      "[I 2024-01-13 17:13:09,494] Trial 338 pruned. \n",
      "Training:   0%|          | 0/55 [00:10<?, ?Epochs/s]\n",
      "[I 2024-01-13 17:13:26,017] Trial 339 pruned. \n",
      "Training: 100%|██████████| 49/49 [07:19<00:00,  8.96s/Epochs]\n",
      "[I 2024-01-13 17:20:50,972] Trial 340 finished with value: 0.8890625238418579 and parameters: {'num_layers{}': 4, 'num_mlp_layers{}': 2, 'log_batch_size': 3, 'hidden_dim': 42, 'dropout': 0.08982925307623943, 'epochs': 49, 'optimizer': 'sgd', 'lr': 0.002262559530466488}. Best is trial 122 with value: 0.8956385850906372.\n",
      "Training:   0%|          | 0/53 [00:10<?, ?Epochs/s]\n",
      "[I 2024-01-13 17:21:07,692] Trial 341 pruned. \n",
      "Training:   8%|▊         | 4/52 [00:47<09:32, 11.92s/Epochs]\n",
      "[I 2024-01-13 17:22:01,454] Trial 342 pruned. \n",
      "Training:   0%|          | 0/52 [00:10<?, ?Epochs/s]\n",
      "[I 2024-01-13 17:22:18,544] Trial 343 pruned. \n",
      "Training:   0%|          | 0/49 [00:10<?, ?Epochs/s]\n",
      "[I 2024-01-13 17:22:35,093] Trial 344 pruned. \n",
      "Training:   0%|          | 0/50 [00:11<?, ?Epochs/s]\n",
      "[I 2024-01-13 17:22:52,347] Trial 345 pruned. \n",
      "Training:   0%|          | 0/50 [00:10<?, ?Epochs/s]\n",
      "[I 2024-01-13 17:23:08,838] Trial 346 pruned. \n",
      "Training:   0%|          | 0/45 [00:10<?, ?Epochs/s]\n",
      "[I 2024-01-13 17:23:25,442] Trial 347 pruned. \n",
      "Training:   0%|          | 0/47 [00:10<?, ?Epochs/s]\n",
      "[I 2024-01-13 17:23:41,907] Trial 348 pruned. \n",
      "Training:   0%|          | 0/55 [00:10<?, ?Epochs/s]\n",
      "[I 2024-01-13 17:23:58,001] Trial 349 pruned. \n",
      "Training:   0%|          | 0/52 [00:10<?, ?Epochs/s]\n",
      "[I 2024-01-13 17:24:14,762] Trial 350 pruned. \n",
      "Training:   0%|          | 0/42 [00:10<?, ?Epochs/s]\n",
      "[I 2024-01-13 17:24:30,713] Trial 351 pruned. \n",
      "Training: 100%|██████████| 43/43 [06:15<00:00,  8.74s/Epochs]\n",
      "[I 2024-01-13 17:30:52,310] Trial 352 finished with value: 0.8967136144638062 and parameters: {'num_layers{}': 4, 'num_mlp_layers{}': 2, 'log_batch_size': 3, 'hidden_dim': 53, 'dropout': 0.04213737338790596, 'epochs': 43, 'optimizer': 'sgd', 'lr': 0.002120570804021556}. Best is trial 352 with value: 0.8967136144638062.\n",
      "Training:   0%|          | 0/44 [00:10<?, ?Epochs/s]\n",
      "[I 2024-01-13 17:31:08,519] Trial 353 pruned. \n",
      "Training:   0%|          | 0/43 [00:10<?, ?Epochs/s]\n",
      "[I 2024-01-13 17:31:24,765] Trial 354 pruned. \n",
      "Training:   0%|          | 0/50 [00:10<?, ?Epochs/s]\n",
      "[I 2024-01-13 17:31:41,069] Trial 355 pruned. \n",
      "Training:   0%|          | 0/46 [00:08<?, ?Epochs/s]\n",
      "[I 2024-01-13 17:31:56,117] Trial 356 pruned. \n",
      "Training: 100%|██████████| 85/85 [12:59<00:00,  9.17s/Epochs]\n",
      "[I 2024-01-13 17:45:01,053] Trial 357 finished with value: 0.8850932121276855 and parameters: {'num_layers{}': 4, 'num_mlp_layers{}': 2, 'log_batch_size': 3, 'hidden_dim': 55, 'dropout': 0.03444546865957629, 'epochs': 85, 'optimizer': 'sgd', 'lr': 0.002269842815607784}. Best is trial 352 with value: 0.8967136144638062.\n",
      "Training:   0%|          | 0/91 [00:10<?, ?Epochs/s]\n",
      "[I 2024-01-13 17:45:18,305] Trial 358 pruned. \n",
      "Training: 100%|██████████| 83/83 [12:54<00:00,  9.33s/Epochs]\n",
      "[I 2024-01-13 17:58:19,504] Trial 359 finished with value: 0.9007633328437805 and parameters: {'num_layers{}': 4, 'num_mlp_layers{}': 2, 'log_batch_size': 3, 'hidden_dim': 55, 'dropout': 0.037959697173705884, 'epochs': 83, 'optimizer': 'adagrad', 'lr': 0.0020921984053898913}. Best is trial 359 with value: 0.9007633328437805.\n",
      "Training:   0%|          | 0/88 [00:11<?, ?Epochs/s]\n",
      "[I 2024-01-13 17:58:37,093] Trial 360 pruned. \n",
      "Training:   0%|          | 0/83 [00:11<?, ?Epochs/s]\n",
      "[I 2024-01-13 17:58:55,027] Trial 361 pruned. \n",
      "Training:   5%|▍         | 4/87 [00:39<13:41,  9.89s/Epochs]\n",
      "[I 2024-01-13 17:59:41,013] Trial 362 pruned. \n",
      "Training: 100%|██████████| 80/80 [12:03<00:00,  9.04s/Epochs]\n",
      "[I 2024-01-13 18:11:50,895] Trial 363 finished with value: 0.9181102514266968 and parameters: {'num_layers{}': 4, 'num_mlp_layers{}': 2, 'log_batch_size': 3, 'hidden_dim': 58, 'dropout': 0.06566594164473301, 'epochs': 80, 'optimizer': 'adagrad', 'lr': 0.0022434305890468857}. Best is trial 363 with value: 0.9181102514266968.\n",
      "Training:   0%|          | 0/80 [00:11<?, ?Epochs/s]\n",
      "[I 2024-01-13 18:12:08,735] Trial 364 pruned. \n",
      "Training:   0%|          | 0/85 [00:10<?, ?Epochs/s]\n",
      "[I 2024-01-13 18:12:26,133] Trial 365 pruned. \n",
      "Training:   5%|▍         | 4/85 [00:47<16:08, 11.95s/Epochs]\n",
      "[I 2024-01-13 18:13:20,461] Trial 366 pruned. \n",
      "Training:   0%|          | 0/82 [00:09<?, ?Epochs/s]\n",
      "[I 2024-01-13 18:13:36,235] Trial 367 pruned. \n",
      "Training:   0%|          | 0/84 [00:10<?, ?Epochs/s]\n",
      "[I 2024-01-13 18:13:53,295] Trial 368 pruned. \n",
      "Training:   0%|          | 0/81 [00:10<?, ?Epochs/s]\n",
      "[I 2024-01-13 18:14:10,442] Trial 369 pruned. \n",
      "Training:   5%|▍         | 4/86 [00:48<16:42, 12.23s/Epochs]\n",
      "[I 2024-01-13 18:15:05,733] Trial 370 pruned. \n",
      "Training:   0%|          | 0/77 [00:11<?, ?Epochs/s]\n",
      "[I 2024-01-13 18:15:23,303] Trial 371 pruned. \n",
      "Training:   0%|          | 0/89 [00:11<?, ?Epochs/s]\n",
      "[I 2024-01-13 18:15:40,778] Trial 372 pruned. \n",
      "Training:   0%|          | 0/92 [00:10<?, ?Epochs/s]\n",
      "[I 2024-01-13 18:15:57,846] Trial 373 pruned. \n",
      "Training:   5%|▍         | 4/88 [00:47<16:31, 11.81s/Epochs]\n",
      "[I 2024-01-13 18:16:51,709] Trial 374 pruned. \n",
      "Training:   0%|          | 0/79 [00:10<?, ?Epochs/s]\n",
      "[I 2024-01-13 18:17:08,675] Trial 375 pruned. \n",
      "Training:   5%|▍         | 4/86 [00:13<04:45,  3.49s/Epochs]\n",
      "[I 2024-01-13 18:17:28,866] Trial 376 pruned. \n",
      "Training:   0%|          | 0/83 [00:10<?, ?Epochs/s]\n",
      "[I 2024-01-13 18:17:45,665] Trial 377 pruned. \n",
      "Training:   0%|          | 0/85 [00:08<?, ?Epochs/s]\n",
      "[I 2024-01-13 18:18:00,703] Trial 378 pruned. \n",
      "Training:   0%|          | 0/89 [00:11<?, ?Epochs/s]\n",
      "[I 2024-01-13 18:18:18,332] Trial 379 pruned. \n",
      "Training:   0%|          | 0/93 [00:10<?, ?Epochs/s]\n",
      "[I 2024-01-13 18:18:35,161] Trial 380 pruned. \n",
      "Training:   0%|          | 0/54 [00:03<?, ?Epochs/s]\n",
      "[I 2024-01-13 18:18:45,634] Trial 381 pruned. \n",
      "Training:   7%|▋         | 4/56 [00:35<07:42,  8.90s/Epochs]\n",
      "[I 2024-01-13 18:19:27,430] Trial 382 pruned. \n",
      "Training:   0%|          | 0/87 [00:10<?, ?Epochs/s]\n",
      "[I 2024-01-13 18:19:44,456] Trial 383 pruned. \n",
      "Training:   0%|          | 0/91 [00:10<?, ?Epochs/s]\n",
      "[I 2024-01-13 18:20:01,992] Trial 384 pruned. \n",
      "Training:   0%|          | 0/41 [00:10<?, ?Epochs/s]\n",
      "[I 2024-01-13 18:20:18,870] Trial 385 pruned. \n",
      "Training:   0%|          | 0/84 [00:10<?, ?Epochs/s]\n",
      "[I 2024-01-13 18:20:35,907] Trial 386 pruned. \n",
      "Training:   0%|          | 0/90 [00:03<?, ?Epochs/s]\n",
      "[I 2024-01-13 18:20:45,557] Trial 387 pruned. \n",
      "Training:   0%|          | 0/53 [00:07<?, ?Epochs/s]\n",
      "[I 2024-01-13 18:20:59,960] Trial 388 pruned. \n",
      "Training:   8%|▊         | 4/49 [00:39<07:20,  9.78s/Epochs]\n",
      "[I 2024-01-13 18:21:45,176] Trial 389 pruned. \n",
      "Training:   0%|          | 0/58 [00:41<?, ?Epochs/s]\n",
      "[I 2024-01-13 18:22:33,265] Trial 390 pruned. \n",
      "Training:   0%|          | 0/65 [00:10<?, ?Epochs/s]\n",
      "[I 2024-01-13 18:22:49,915] Trial 391 pruned. \n",
      "Training:   0%|          | 0/51 [00:03<?, ?Epochs/s]\n",
      "[I 2024-01-13 18:23:00,105] Trial 392 pruned. \n",
      "Training:   0%|          | 0/88 [00:10<?, ?Epochs/s]\n",
      "[I 2024-01-13 18:23:16,875] Trial 393 pruned. \n",
      "Training:   9%|▉         | 4/45 [00:46<07:57, 11.65s/Epochs]\n",
      "[I 2024-01-13 18:24:09,683] Trial 394 pruned. \n",
      "Training:   0%|          | 0/80 [00:09<?, ?Epochs/s]\n",
      "[I 2024-01-13 18:24:25,954] Trial 395 pruned. \n",
      "Training:   0%|          | 0/48 [00:09<?, ?Epochs/s]\n",
      "[I 2024-01-13 18:24:41,173] Trial 396 pruned. \n",
      "Training:   0%|          | 0/93 [00:10<?, ?Epochs/s]\n",
      "[I 2024-01-13 18:24:58,984] Trial 397 pruned. \n",
      "Training:   0%|          | 0/83 [00:03<?, ?Epochs/s]\n",
      "[I 2024-01-13 18:25:09,050] Trial 398 pruned. \n",
      "Training:   5%|▍         | 4/86 [00:35<12:09,  8.90s/Epochs]\n",
      "[I 2024-01-13 18:25:50,671] Trial 399 pruned. \n",
      "Training:   0%|          | 0/90 [00:05<?, ?Epochs/s]\n",
      "[I 2024-01-13 18:26:02,694] Trial 400 pruned. \n",
      "Training:   0%|          | 0/53 [00:10<?, ?Epochs/s]\n",
      "[I 2024-01-13 18:26:19,355] Trial 401 pruned. \n",
      "Training:   0%|          | 0/68 [00:09<?, ?Epochs/s]\n",
      "[I 2024-01-13 18:26:35,426] Trial 402 pruned. \n",
      "Training:   0%|          | 0/44 [00:03<?, ?Epochs/s]\n",
      "[I 2024-01-13 18:26:45,198] Trial 403 pruned. \n",
      "Training:   0%|          | 0/5 [00:08<?, ?Epochs/s]\n",
      "[I 2024-01-13 18:26:59,812] Trial 404 pruned. \n",
      "Training:   0%|          | 0/81 [00:10<?, ?Epochs/s]\n",
      "[I 2024-01-13 18:27:16,556] Trial 405 pruned. \n",
      "Training:   0%|          | 0/91 [00:09<?, ?Epochs/s]\n",
      "[I 2024-01-13 18:27:31,942] Trial 406 pruned. \n",
      "Training:   0%|          | 0/94 [00:06<?, ?Epochs/s]\n",
      "[I 2024-01-13 18:27:44,154] Trial 407 pruned. \n",
      "Training:   0%|          | 0/62 [00:10<?, ?Epochs/s]\n",
      "[I 2024-01-13 18:28:00,841] Trial 408 pruned. \n",
      "Training:   0%|          | 0/49 [00:10<?, ?Epochs/s]\n",
      "[I 2024-01-13 18:28:17,552] Trial 409 pruned. \n",
      "Training:   0%|          | 0/74 [00:03<?, ?Epochs/s]\n",
      "[I 2024-01-13 18:28:27,090] Trial 410 pruned. \n",
      "Training:   5%|▍         | 4/88 [00:44<15:31, 11.09s/Epochs]\n",
      "[I 2024-01-13 18:29:17,538] Trial 411 pruned. \n",
      "Training:   0%|          | 0/51 [00:08<?, ?Epochs/s]\n",
      "[I 2024-01-13 18:29:32,560] Trial 412 pruned. \n",
      "Training:   0%|          | 0/70 [00:08<?, ?Epochs/s]\n",
      "[I 2024-01-13 18:29:47,212] Trial 413 pruned. \n",
      "Training:   0%|          | 0/85 [00:10<?, ?Epochs/s]\n",
      "[I 2024-01-13 18:30:03,304] Trial 414 pruned. \n",
      "Training:   0%|          | 0/55 [00:10<?, ?Epochs/s]\n",
      "[I 2024-01-13 18:30:20,113] Trial 415 pruned. \n",
      "Training:   0%|          | 0/47 [00:05<?, ?Epochs/s]\n",
      "[I 2024-01-13 18:30:31,927] Trial 416 pruned. \n",
      "Training:   0%|          | 0/37 [00:10<?, ?Epochs/s]\n",
      "[I 2024-01-13 18:30:48,687] Trial 417 pruned. \n",
      "Training:   0%|          | 0/41 [00:03<?, ?Epochs/s]\n",
      "[I 2024-01-13 18:30:57,714] Trial 418 pruned. \n",
      "Training:   0%|          | 0/20 [00:10<?, ?Epochs/s]\n",
      "[I 2024-01-13 18:31:13,899] Trial 419 pruned. \n",
      "Training:   0%|          | 0/23 [00:08<?, ?Epochs/s]\n",
      "[I 2024-01-13 18:31:27,885] Trial 420 pruned. \n",
      "Training:   0%|          | 0/89 [00:10<?, ?Epochs/s]\n",
      "[I 2024-01-13 18:31:43,654] Trial 421 pruned. \n",
      "Training:   0%|          | 0/86 [00:06<?, ?Epochs/s]\n",
      "[I 2024-01-13 18:31:55,245] Trial 422 pruned. \n",
      "Training:   0%|          | 0/92 [00:03<?, ?Epochs/s]\n",
      "[I 2024-01-13 18:32:04,076] Trial 423 pruned. \n",
      "Training:   0%|          | 0/43 [00:10<?, ?Epochs/s]\n",
      "[I 2024-01-13 18:32:19,924] Trial 424 pruned. \n",
      "Training:   0%|          | 0/6 [00:35<?, ?Epochs/s]\n",
      "[I 2024-01-13 18:33:01,014] Trial 425 pruned. \n",
      "Training:   0%|          | 0/98 [00:10<?, ?Epochs/s]\n",
      "[I 2024-01-13 18:33:17,051] Trial 426 pruned. \n",
      "Training:   0%|          | 0/50 [00:14<?, ?Epochs/s]\n",
      "[I 2024-01-13 18:33:37,549] Trial 427 pruned. \n",
      "Training:   0%|          | 0/83 [00:09<?, ?Epochs/s]\n",
      "[I 2024-01-13 18:33:53,091] Trial 428 pruned. \n",
      "Training:   0%|          | 0/46 [00:19<?, ?Epochs/s]\n",
      "[I 2024-01-13 18:34:18,474] Trial 429 pruned. \n",
      "Training:   0%|          | 0/54 [00:10<?, ?Epochs/s]\n",
      "[I 2024-01-13 18:34:34,758] Trial 430 pruned. \n",
      "Training:   0%|          | 0/5 [00:03<?, ?Epochs/s]\n",
      "[I 2024-01-13 18:34:44,205] Trial 431 pruned. \n",
      "Training:   0%|          | 0/57 [00:09<?, ?Epochs/s]\n",
      "[I 2024-01-13 18:34:59,815] Trial 432 pruned. \n",
      "Training:   0%|          | 0/78 [00:18<?, ?Epochs/s]\n",
      "[I 2024-01-13 18:35:23,957] Trial 433 pruned. \n",
      "Training:   0%|          | 0/96 [00:07<?, ?Epochs/s]\n",
      "[I 2024-01-13 18:35:37,576] Trial 434 pruned. \n",
      "Training:   4%|▍         | 4/90 [00:38<13:50,  9.66s/Epochs]\n",
      "[I 2024-01-13 18:36:21,823] Trial 435 pruned. \n",
      "Training:   0%|          | 0/88 [00:19<?, ?Epochs/s]\n",
      "[I 2024-01-13 18:36:47,234] Trial 436 pruned. \n",
      "Training:   0%|          | 0/52 [00:03<?, ?Epochs/s]\n",
      "[I 2024-01-13 18:36:56,747] Trial 437 pruned. \n",
      "Training:   0%|          | 0/94 [00:19<?, ?Epochs/s]\n",
      "[I 2024-01-13 18:37:22,040] Trial 438 pruned. \n",
      "Training:   0%|          | 0/48 [00:08<?, ?Epochs/s]\n",
      "[I 2024-01-13 18:37:36,370] Trial 439 pruned. \n",
      "Training:   7%|▋         | 4/60 [00:43<10:13, 10.96s/Epochs]\n",
      "[I 2024-01-13 18:38:26,054] Trial 440 pruned. \n",
      "Training:   0%|          | 0/5 [00:05<?, ?Epochs/s]\n",
      "[I 2024-01-13 18:38:37,654] Trial 441 pruned. \n",
      "Training:   0%|          | 0/87 [00:10<?, ?Epochs/s]\n",
      "[I 2024-01-13 18:38:53,809] Trial 442 pruned. \n",
      "Training:   0%|          | 0/92 [00:02<?, ?Epochs/s]\n",
      "[I 2024-01-13 18:39:02,145] Trial 443 pruned. \n",
      "Training:   0%|          | 0/100 [00:15<?, ?Epochs/s]\n",
      "[I 2024-01-13 18:39:23,243] Trial 444 pruned. \n",
      "Training:   0%|          | 0/7 [00:10<?, ?Epochs/s]\n",
      "[I 2024-01-13 18:39:39,051] Trial 445 pruned. \n",
      "Training:   0%|          | 0/39 [00:18<?, ?Epochs/s]\n",
      "[I 2024-01-13 18:40:03,096] Trial 446 pruned. \n",
      "Training:   0%|          | 0/28 [00:04<?, ?Epochs/s]\n",
      "[I 2024-01-13 18:40:14,075] Trial 447 pruned. \n",
      "Training:   0%|          | 0/35 [00:10<?, ?Epochs/s]\n",
      "[I 2024-01-13 18:40:30,910] Trial 448 pruned. \n",
      "Training:   0%|          | 0/82 [00:19<?, ?Epochs/s]\n",
      "[I 2024-01-13 18:40:56,434] Trial 449 pruned. \n",
      "Training:   0%|          | 0/85 [00:09<?, ?Epochs/s]\n",
      "[I 2024-01-13 18:41:12,219] Trial 450 pruned. \n",
      "Training:   0%|          | 0/50 [00:03<?, ?Epochs/s]\n",
      "[I 2024-01-13 18:41:21,631] Trial 451 pruned. \n",
      "Training:   0%|          | 0/5 [00:08<?, ?Epochs/s]\n",
      "[I 2024-01-13 18:41:35,759] Trial 452 pruned. \n",
      "Training:   0%|          | 0/45 [00:02<?, ?Epochs/s]\n",
      "[I 2024-01-13 18:41:44,252] Trial 453 pruned. \n",
      "Training:   0%|          | 0/90 [00:10<?, ?Epochs/s]\n",
      "[I 2024-01-13 18:42:00,371] Trial 454 pruned. \n",
      "Training:   0%|          | 0/7 [00:19<?, ?Epochs/s]\n",
      "[I 2024-01-13 18:42:26,179] Trial 455 pruned. \n",
      "Training:   0%|          | 0/52 [00:10<?, ?Epochs/s]\n",
      "[I 2024-01-13 18:42:42,235] Trial 456 pruned. \n",
      "Training:   9%|▉         | 4/43 [01:26<13:58, 21.51s/Epochs]\n",
      "[I 2024-01-13 18:44:14,315] Trial 457 pruned. \n",
      "Training:   0%|          | 0/31 [00:09<?, ?Epochs/s]\n",
      "[I 2024-01-13 18:44:29,645] Trial 458 pruned. \n",
      "Training:   0%|          | 0/48 [00:17<?, ?Epochs/s]\n",
      "[I 2024-01-13 18:44:53,251] Trial 459 pruned. \n",
      "Training:   0%|          | 0/64 [00:07<?, ?Epochs/s]\n",
      "[I 2024-01-13 18:45:06,721] Trial 460 pruned. \n",
      "Training:   0%|          | 0/84 [00:37<?, ?Epochs/s]\n",
      "[I 2024-01-13 18:45:50,835] Trial 461 pruned. \n",
      "Training:   0%|          | 0/9 [00:03<?, ?Epochs/s]\n",
      "[I 2024-01-13 18:46:00,349] Trial 462 pruned. \n",
      "Training:   0%|          | 0/56 [00:05<?, ?Epochs/s]\n",
      "[I 2024-01-13 18:46:11,809] Trial 463 pruned. \n",
      "Training:   0%|          | 0/95 [00:10<?, ?Epochs/s]\n",
      "[I 2024-01-13 18:46:28,365] Trial 464 pruned. \n",
      "Training:   5%|▍         | 4/87 [01:11<24:42, 17.86s/Epochs]\n",
      "[I 2024-01-13 18:47:52,347] Trial 465 pruned. \n",
      "Training:   0%|          | 0/54 [00:02<?, ?Epochs/s]\n",
      "[I 2024-01-13 18:48:00,858] Trial 466 pruned. \n",
      "Training:   0%|          | 0/92 [00:10<?, ?Epochs/s]\n",
      "[I 2024-01-13 18:48:17,568] Trial 467 pruned. \n",
      "Training:   0%|          | 0/8 [00:03<?, ?Epochs/s]\n",
      "[I 2024-01-13 18:48:26,913] Trial 468 pruned. \n",
      "Training:   0%|          | 0/46 [00:10<?, ?Epochs/s]\n",
      "[I 2024-01-13 18:48:42,844] Trial 469 pruned. \n",
      "Training:   0%|          | 0/58 [00:18<?, ?Epochs/s]\n",
      "[I 2024-01-13 18:49:06,910] Trial 470 pruned. \n",
      "Training:   0%|          | 0/81 [00:11<?, ?Epochs/s]\n",
      "[I 2024-01-13 18:49:23,712] Trial 471 pruned. \n",
      "Training:   0%|          | 0/89 [00:10<?, ?Epochs/s]\n",
      "[I 2024-01-13 18:49:39,665] Trial 472 pruned. \n",
      "Training:   8%|▊         | 4/50 [01:19<15:17, 19.96s/Epochs]\n",
      "[I 2024-01-13 18:51:05,341] Trial 473 pruned. \n",
      "Training:   0%|          | 0/67 [00:02<?, ?Epochs/s]\n",
      "[I 2024-01-13 18:51:13,159] Trial 474 pruned. \n",
      "Training:   0%|          | 0/5 [00:10<?, ?Epochs/s]\n",
      "[I 2024-01-13 18:51:28,805] Trial 475 pruned. \n",
      "Training:   0%|          | 0/7 [00:10<?, ?Epochs/s]\n",
      "[I 2024-01-13 18:51:45,026] Trial 476 pruned. \n",
      "Training:  61%|██████    | 60/98 [14:11<08:59, 14.20s/Epochs]\n",
      "[I 2024-01-13 19:06:02,436] Trial 477 pruned. \n",
      "Training:   0%|          | 0/86 [00:03<?, ?Epochs/s]\n",
      "[I 2024-01-13 19:06:12,502] Trial 478 pruned. \n",
      "Training:   0%|          | 0/90 [00:10<?, ?Epochs/s]\n",
      "[I 2024-01-13 19:06:29,399] Trial 479 pruned. \n",
      "Training:  79%|███████▉  | 60/76 [17:20<04:37, 17.35s/Epochs]\n",
      "[I 2024-01-13 19:23:56,365] Trial 480 pruned. \n",
      "Training:   8%|▊         | 4/48 [00:34<06:16,  8.56s/Epochs]\n",
      "[I 2024-01-13 19:24:36,299] Trial 481 pruned. \n",
      "Training:   0%|          | 0/93 [00:10<?, ?Epochs/s]\n",
      "[I 2024-01-13 19:24:52,626] Trial 482 pruned. \n",
      "Training: 100%|██████████| 10/10 [01:32<00:00,  9.29s/Epochs]\n",
      "[I 2024-01-13 19:26:31,430] Trial 483 finished with value: 0.8615384697914124 and parameters: {'num_layers{}': 4, 'num_mlp_layers{}': 4, 'log_batch_size': 3, 'hidden_dim': 46, 'dropout': 0.11338322362012626, 'epochs': 10, 'optimizer': 'adagrad', 'lr': 0.0072763529545478755}. Best is trial 363 with value: 0.9181102514266968.\n",
      "Training: 100%|██████████| 42/42 [11:07<00:00, 15.89s/Epochs]\n",
      "[I 2024-01-13 19:37:44,500] Trial 484 finished with value: 0.9071207046508789 and parameters: {'num_layers{}': 3, 'num_mlp_layers{}': 2, 'log_batch_size': 2, 'hidden_dim': 43, 'dropout': 0.018443905526205496, 'epochs': 42, 'optimizer': 'sgd', 'lr': 0.003107583585571047}. Best is trial 363 with value: 0.9181102514266968.\n",
      "Training:   0%|          | 0/42 [00:19<?, ?Epochs/s]\n",
      "[I 2024-01-13 19:38:09,774] Trial 485 pruned. \n",
      "Training:   0%|          | 0/40 [00:06<?, ?Epochs/s]\n",
      "[I 2024-01-13 19:38:21,974] Trial 486 pruned. \n",
      "Training:   0%|          | 0/38 [00:02<?, ?Epochs/s]\n",
      "[I 2024-01-13 19:38:30,337] Trial 487 pruned. \n",
      "Training:   0%|          | 0/43 [00:03<?, ?Epochs/s]\n",
      "[I 2024-01-13 19:38:39,966] Trial 488 pruned. \n",
      "Training:   0%|          | 0/44 [00:09<?, ?Epochs/s]\n",
      "[I 2024-01-13 19:38:56,569] Trial 489 pruned. \n",
      "Training:   0%|          | 0/40 [00:18<?, ?Epochs/s]\n",
      "[I 2024-01-13 19:39:21,012] Trial 490 pruned. \n",
      "Training:   0%|          | 0/33 [00:09<?, ?Epochs/s]\n",
      "[I 2024-01-13 19:39:36,920] Trial 491 pruned. \n",
      "Training:   0%|          | 0/45 [00:18<?, ?Epochs/s]\n",
      "[I 2024-01-13 19:40:01,116] Trial 492 pruned. \n",
      "Training:   0%|          | 0/41 [00:09<?, ?Epochs/s]\n",
      "[I 2024-01-13 19:40:16,706] Trial 493 pruned. \n",
      "Training:   0%|          | 0/47 [00:02<?, ?Epochs/s]\n",
      "[I 2024-01-13 19:40:25,364] Trial 494 pruned. \n",
      "Training: 100%|██████████| 52/52 [07:03<00:00,  8.15s/Epochs]\n",
      "[I 2024-01-13 19:47:34,900] Trial 495 finished with value: 0.8929110169410706 and parameters: {'num_layers{}': 3, 'num_mlp_layers{}': 2, 'log_batch_size': 3, 'hidden_dim': 51, 'dropout': 0.02601193184385723, 'epochs': 52, 'optimizer': 'sgd', 'lr': 0.0038860620944900937}. Best is trial 363 with value: 0.9181102514266968.\n",
      "Training:   8%|▊         | 4/51 [00:40<07:51, 10.04s/Epochs]\n",
      "[I 2024-01-13 19:48:21,037] Trial 496 pruned. \n",
      "Training:   0%|          | 0/53 [00:09<?, ?Epochs/s]\n",
      "[I 2024-01-13 19:48:35,656] Trial 497 pruned. \n",
      "Training:   7%|▋         | 4/55 [00:41<08:50, 10.40s/Epochs]\n",
      "[I 2024-01-13 19:49:23,032] Trial 498 pruned. \n",
      "Training:   0%|          | 0/51 [00:10<?, ?Epochs/s]\n",
      "[I 2024-01-13 19:49:38,838] Trial 499 pruned. \n"
     ]
    },
    {
     "name": "stdout",
     "output_type": "stream",
     "text": [
      "Study statistics: \n",
      "  Number of finished trials:  500\n",
      "  Number of pruned trials:  454\n",
      "  Number of complete trials:  46\n",
      "Best trial:\n",
      "  Value:  0.9181102514266968\n",
      "  Params: \n",
      "    num_layers{}: 4\n",
      "    num_mlp_layers{}: 2\n",
      "    log_batch_size: 3\n",
      "    hidden_dim: 58\n",
      "    dropout: 0.06566594164473301\n",
      "    epochs: 80\n",
      "    optimizer: adagrad\n",
      "    lr: 0.0022434305890468857\n"
     ]
    }
   ],
   "source": [
    "import optuna\n",
    "from optuna.trial import TrialState\n",
    "\n",
    "study = optuna.create_study(direction=\"maximize\")\n",
    "study.optimize(objective, n_trials=500, timeout=60000)\n",
    "\n",
    "pruned_trials = study.get_trials(deepcopy=False, states=[TrialState.PRUNED])\n",
    "complete_trials = study.get_trials(deepcopy=False, states=[TrialState.COMPLETE])\n",
    "\n",
    "print(\"Study statistics: \")\n",
    "print(\"  Number of finished trials: \", len(study.trials))\n",
    "print(\"  Number of pruned trials: \", len(pruned_trials))\n",
    "print(\"  Number of complete trials: \", len(complete_trials))\n",
    "\n",
    "print(\"Best trial:\")\n",
    "trial = study.best_trial\n",
    "\n",
    "print(\"  Value: \", trial.value)\n",
    "\n",
    "print(\"  Params: \")\n",
    "for key, value in trial.params.items():\n",
    "\tprint(\"    {}: {}\".format(key, value))\n"
   ]
  },
  {
   "cell_type": "code",
   "execution_count": 5,
   "metadata": {},
   "outputs": [],
   "source": [
    "# save(GNN, args, 'GNN3')"
   ]
  },
  {
   "cell_type": "code",
   "execution_count": 4,
   "metadata": {},
   "outputs": [],
   "source": [
    "GNN, args = load('GNN1', device)"
   ]
  },
  {
   "cell_type": "markdown",
   "metadata": {},
   "source": [
    "# Pivot to feature-generated graphs"
   ]
  },
  {
   "cell_type": "code",
   "execution_count": 4,
   "metadata": {},
   "outputs": [],
   "source": [
    "def get_location_graph(city):\n",
    "\tlocation_graph = ox.graph_from_place(city, network_type=\"drive\")\n",
    "\tlocation_graph = ox.speed.add_edge_speeds(location_graph)\n",
    "\tlocation_graph = ox.speed.add_edge_travel_times(location_graph)\n",
    "\treturn {'location_graph': location_graph, 'city': city}"
   ]
  },
  {
   "cell_type": "code",
   "execution_count": 8,
   "metadata": {},
   "outputs": [],
   "source": [
    "piedmont = get_location_graph(\"Piedmont, California, USA\")\n",
    "# san_francisco = get_location_graph(\"San Francisco, California, USA\")\n",
    "founex = get_location_graph(\"Founex, Switzerland\")\n",
    "carmel = get_location_graph(\"Carmel, Indiana, USA\")\n",
    "geneva = get_location_graph(\"Geneva, Switzerland\")"
   ]
  },
  {
   "cell_type": "code",
   "execution_count": 31,
   "metadata": {},
   "outputs": [],
   "source": [
    "args = {\n",
    "    'processor':         'GENConv',\n",
    "    'head':              'regression',\n",
    "    'num_layers':        2,\n",
    "    'num_mlp_layers':    2,\n",
    "    'aggr':              'max',\n",
    "    'batch_size':        32,\n",
    "    'node_feature_dim':  4,\n",
    "    'edge_feature_dim':  1,\n",
    "    'graph_feature_dim': 2,\n",
    "    'hidden_dim':        64,\n",
    "    'output_dim':        1,\n",
    "    'dropout':           0.35,\n",
    "    'epochs':            50,\n",
    "    'opt':               'adam',\n",
    "    'opt_scheduler':     'none',\n",
    "    'opt_restart':       0,\n",
    "    'weight_decay':      5e-3,\n",
    "    'lr':                0.0001,\n",
    "    'device':            device\n",
    "}\n",
    "\n",
    "train_num = 100; test_num = 30\n",
    "\n",
    "er_config = {\n",
    "    'graph_type': 'ER',\n",
    "    'p': 0.75,\n",
    "    'weighted': True\n",
    "}\n",
    "ba_config = {\n",
    "    'graph_type': 'BA',\n",
    "    'ba_param': 2,\n",
    "    'weighted': True\n",
    "}\n",
    "feat_config = {\n",
    "    'graph_type': 'FEAT',\n",
    "    'q': 0.85,\n",
    "    'weighted': True\n",
    "}\n",
    "osmnx_config = {\n",
    "    'graph_type': 'OSMNX',\n",
    "    'location_graph': piedmont['location_graph']\n",
    "}\n",
    "# osmnx_config_2 = {\n",
    "#     'graph_type': 'OSMNX',\n",
    "#     'location_graph': san_francisco['location_graph']\n",
    "# }\n",
    "\n",
    "# ox.plot_graph(piedmont['location_graph'])\n",
    "# ox.plot_graph(san_francisco['location_graph'])\n",
    "\n",
    "# part_config = {\n",
    "# \t'graph_type': 'PART',\n",
    "#     'p': 0.5,\n",
    "#     'size': 4,\n",
    "#     'eps': 0.1\n",
    "# },\n",
    "# part_config = {\n",
    "# \t'graph_type': 'PART',\n",
    "#     'p': 0.5,\n",
    "#     'size': 3,\n",
    "#     'eps': 0.3\n",
    "# }\n",
    "\n",
    "rng = np.random.default_rng()\n",
    "\n",
    "\n",
    "train_instances = [\n",
    "        *ig.sample_instances(8, 8, train_num, rng, **er_config),\n",
    "        *ig.sample_instances(8, 8, train_num, rng, **ba_config),\n",
    "        *ig.sample_instances(8, 8, train_num, rng, **feat_config),\n",
    "        *ig.sample_instances(8, 8, train_num, rng, **osmnx_config),\n",
    "        # *ig.sample_instances(8, 8, train_num, rng, **osmnx_config_2),\n",
    "        # *ig.sample_instances(8, 8, train_num, rng, **feat_config),\n",
    "        # *ig.sample_instances(8, 8, train_num, rng, **part_config),\n",
    "    ]\n",
    "\n",
    "test_instances = [\n",
    "        *ig.sample_instances(8, 8, test_num, rng, **er_config),\n",
    "        *ig.sample_instances(8, 8, test_num, rng, **ba_config),\n",
    "        *ig.sample_instances(8, 8, train_num, rng, **feat_config),\n",
    "        *ig.sample_instances(8, 8, train_num, rng, **osmnx_config),\n",
    "        # *ig.sample_instances(8, 8, train_num, rng, **osmnx_config_2),\n",
    "        # *ig.sample_instances(8, 8, train_num, rng, **feat_config),\n",
    "        # *ig.sample_instances(8, 8, train_num, rng, **part_config),\n",
    "    ]\n",
    "\n",
    "\n",
    "train_data = Dataset(tc._instances_to_train_samples(train_instances, args['head']))\n",
    "test_data = Dataset(tc._instances_to_train_samples(test_instances, args['head']))\n",
    "\n",
    "train_loader = DataLoader(\n",
    "    train_data,\n",
    "    batch_size=args['batch_size'],\n",
    "    shuffle=True,\n",
    "    num_workers=4\n",
    ")\n",
    "\n",
    "test_loader = DataLoader(\n",
    "    test_data,\n",
    "    batch_size=args['batch_size'],\n",
    "    shuffle=True,\n",
    "    num_workers=4\n",
    ")"
   ]
  },
  {
   "cell_type": "code",
   "execution_count": 32,
   "metadata": {},
   "outputs": [
    {
     "name": "stderr",
     "output_type": "stream",
     "text": [
      "Training:   0%|          | 0/50 [00:00<?, ?Epochs/s]"
     ]
    },
    {
     "name": "stdout",
     "output_type": "stream",
     "text": [
      "49.106903511831696\n"
     ]
    },
    {
     "name": "stderr",
     "output_type": "stream",
     "text": [
      "Training:   2%|▏         | 1/50 [00:07<06:20,  7.77s/Epochs]"
     ]
    },
    {
     "name": "stdout",
     "output_type": "stream",
     "text": [
      "TEST ACCURACY: 0.0\n",
      "TEST LOSS: 30.454212188720703\n"
     ]
    },
    {
     "name": "stderr",
     "output_type": "stream",
     "text": [
      "Training:   4%|▍         | 2/50 [00:12<04:49,  6.04s/Epochs]"
     ]
    },
    {
     "name": "stdout",
     "output_type": "stream",
     "text": [
      "50.58574105236018\n",
      "49.71131266371112\n"
     ]
    },
    {
     "name": "stderr",
     "output_type": "stream",
     "text": [
      "Training:   6%|▌         | 3/50 [00:20<05:24,  6.90s/Epochs]"
     ]
    },
    {
     "name": "stdout",
     "output_type": "stream",
     "text": [
      "TEST ACCURACY: 0.0\n",
      "TEST LOSS: 28.536415100097656\n"
     ]
    },
    {
     "name": "stderr",
     "output_type": "stream",
     "text": [
      "Training:   8%|▊         | 4/50 [00:25<04:43,  6.15s/Epochs]"
     ]
    },
    {
     "name": "stdout",
     "output_type": "stream",
     "text": [
      "50.395805121448554\n",
      "48.16656526672506\n"
     ]
    },
    {
     "name": "stderr",
     "output_type": "stream",
     "text": [
      "Training:  10%|█         | 5/50 [00:33<05:06,  6.81s/Epochs]"
     ]
    },
    {
     "name": "stdout",
     "output_type": "stream",
     "text": [
      "TEST ACCURACY: 0.0\n",
      "TEST LOSS: 26.773653030395508\n"
     ]
    },
    {
     "name": "stderr",
     "output_type": "stream",
     "text": [
      "Training:  12%|█▏        | 6/50 [00:38<04:30,  6.14s/Epochs]"
     ]
    },
    {
     "name": "stdout",
     "output_type": "stream",
     "text": [
      "47.57358171311494\n",
      "45.52464294326639\n"
     ]
    },
    {
     "name": "stderr",
     "output_type": "stream",
     "text": [
      "Training:  14%|█▍        | 7/50 [00:45<04:41,  6.54s/Epochs]"
     ]
    },
    {
     "name": "stdout",
     "output_type": "stream",
     "text": [
      "TEST ACCURACY: 0.0\n",
      "TEST LOSS: 26.396894454956055\n"
     ]
    },
    {
     "name": "stderr",
     "output_type": "stream",
     "text": [
      "Training:  16%|█▌        | 8/50 [00:50<04:12,  6.02s/Epochs]"
     ]
    },
    {
     "name": "stdout",
     "output_type": "stream",
     "text": [
      "46.53729570789872\n",
      "49.42635243638654\n"
     ]
    },
    {
     "name": "stderr",
     "output_type": "stream",
     "text": [
      "Training:  18%|█▊        | 9/50 [00:58<04:28,  6.56s/Epochs]"
     ]
    },
    {
     "name": "stdout",
     "output_type": "stream",
     "text": [
      "TEST ACCURACY: 0.0\n",
      "TEST LOSS: 24.67470932006836\n"
     ]
    },
    {
     "name": "stderr",
     "output_type": "stream",
     "text": [
      "Training:  20%|██        | 10/50 [01:03<04:02,  6.07s/Epochs]"
     ]
    },
    {
     "name": "stdout",
     "output_type": "stream",
     "text": [
      "47.79879299235121\n",
      "44.9593545633833\n"
     ]
    },
    {
     "name": "stderr",
     "output_type": "stream",
     "text": [
      "Training:  22%|██▏       | 11/50 [01:10<04:14,  6.54s/Epochs]"
     ]
    },
    {
     "name": "stdout",
     "output_type": "stream",
     "text": [
      "TEST ACCURACY: 0.0\n",
      "TEST LOSS: 25.050689697265625\n"
     ]
    },
    {
     "name": "stderr",
     "output_type": "stream",
     "text": [
      "Training:  24%|██▍       | 12/50 [01:15<03:50,  6.06s/Epochs]"
     ]
    },
    {
     "name": "stdout",
     "output_type": "stream",
     "text": [
      "47.46595388510517\n",
      "47.41107727344905\n"
     ]
    },
    {
     "name": "stderr",
     "output_type": "stream",
     "text": [
      "Training:  26%|██▌       | 13/50 [01:23<04:00,  6.49s/Epochs]"
     ]
    },
    {
     "name": "stdout",
     "output_type": "stream",
     "text": [
      "TEST ACCURACY: 0.0\n",
      "TEST LOSS: 22.553268432617188\n"
     ]
    },
    {
     "name": "stderr",
     "output_type": "stream",
     "text": [
      "Training:  28%|██▊       | 14/50 [01:28<03:37,  6.03s/Epochs]"
     ]
    },
    {
     "name": "stdout",
     "output_type": "stream",
     "text": [
      "45.991975688399556\n",
      "42.864472754915184\n"
     ]
    },
    {
     "name": "stderr",
     "output_type": "stream",
     "text": [
      "Training:  30%|███       | 15/50 [01:36<03:48,  6.54s/Epochs]"
     ]
    },
    {
     "name": "stdout",
     "output_type": "stream",
     "text": [
      "TEST ACCURACY: 0.0\n",
      "TEST LOSS: 21.422317504882812\n"
     ]
    },
    {
     "name": "stderr",
     "output_type": "stream",
     "text": [
      "Training:  32%|███▏      | 16/50 [01:40<03:23,  5.97s/Epochs]"
     ]
    },
    {
     "name": "stdout",
     "output_type": "stream",
     "text": [
      "44.39781870262645\n",
      "45.712507039052305\n"
     ]
    },
    {
     "name": "stderr",
     "output_type": "stream",
     "text": [
      "Training:  34%|███▍      | 17/50 [01:48<03:32,  6.43s/Epochs]"
     ]
    },
    {
     "name": "stdout",
     "output_type": "stream",
     "text": [
      "TEST ACCURACY: 0.0\n",
      "TEST LOSS: 21.82000732421875\n"
     ]
    },
    {
     "name": "stderr",
     "output_type": "stream",
     "text": [
      "Training:  36%|███▌      | 18/50 [01:53<03:12,  6.02s/Epochs]"
     ]
    },
    {
     "name": "stdout",
     "output_type": "stream",
     "text": [
      "46.59528014174131\n",
      "44.27297433634785\n"
     ]
    },
    {
     "name": "stderr",
     "output_type": "stream",
     "text": [
      "Training:  38%|███▊      | 19/50 [02:00<03:20,  6.47s/Epochs]"
     ]
    },
    {
     "name": "stdout",
     "output_type": "stream",
     "text": [
      "TEST ACCURACY: 0.0\n",
      "TEST LOSS: 20.133201599121094\n"
     ]
    },
    {
     "name": "stderr",
     "output_type": "stream",
     "text": [
      "Training:  40%|████      | 20/50 [02:05<03:00,  6.02s/Epochs]"
     ]
    },
    {
     "name": "stdout",
     "output_type": "stream",
     "text": [
      "43.628333289311314\n",
      "42.08484000678374\n"
     ]
    },
    {
     "name": "stderr",
     "output_type": "stream",
     "text": [
      "Training:  42%|████▏     | 21/50 [02:13<03:08,  6.51s/Epochs]"
     ]
    },
    {
     "name": "stdout",
     "output_type": "stream",
     "text": [
      "TEST ACCURACY: 0.0\n",
      "TEST LOSS: 18.195068359375\n"
     ]
    },
    {
     "name": "stderr",
     "output_type": "stream",
     "text": [
      "Training:  44%|████▍     | 22/50 [02:17<02:45,  5.93s/Epochs]"
     ]
    },
    {
     "name": "stdout",
     "output_type": "stream",
     "text": [
      "41.4525077665632\n",
      "43.43435348319116\n"
     ]
    },
    {
     "name": "stderr",
     "output_type": "stream",
     "text": [
      "Training:  46%|████▌     | 23/50 [02:25<02:51,  6.35s/Epochs]"
     ]
    },
    {
     "name": "stdout",
     "output_type": "stream",
     "text": [
      "TEST ACCURACY: 0.0\n",
      "TEST LOSS: 17.225929260253906\n"
     ]
    },
    {
     "name": "stderr",
     "output_type": "stream",
     "text": [
      "Training:  48%|████▊     | 24/50 [02:30<02:33,  5.91s/Epochs]"
     ]
    },
    {
     "name": "stdout",
     "output_type": "stream",
     "text": [
      "41.18080467010213\n",
      "40.63400520164276\n"
     ]
    },
    {
     "name": "stderr",
     "output_type": "stream",
     "text": [
      "Training:  50%|█████     | 25/50 [02:37<02:39,  6.40s/Epochs]"
     ]
    },
    {
     "name": "stdout",
     "output_type": "stream",
     "text": [
      "TEST ACCURACY: 0.0\n",
      "TEST LOSS: 21.04060935974121\n"
     ]
    },
    {
     "name": "stderr",
     "output_type": "stream",
     "text": [
      "Training:  52%|█████▏    | 26/50 [02:42<02:19,  5.83s/Epochs]"
     ]
    },
    {
     "name": "stdout",
     "output_type": "stream",
     "text": [
      "40.35510210956369\n",
      "40.64163245980985\n"
     ]
    },
    {
     "name": "stderr",
     "output_type": "stream",
     "text": [
      "Training:  54%|█████▍    | 27/50 [02:49<02:25,  6.34s/Epochs]"
     ]
    },
    {
     "name": "stdout",
     "output_type": "stream",
     "text": [
      "TEST ACCURACY: 0.0\n",
      "TEST LOSS: 17.116933822631836\n"
     ]
    },
    {
     "name": "stderr",
     "output_type": "stream",
     "text": [
      "Training:  56%|█████▌    | 28/50 [02:54<02:09,  5.90s/Epochs]"
     ]
    },
    {
     "name": "stdout",
     "output_type": "stream",
     "text": [
      "40.49823658542098\n",
      "40.32126688605157\n"
     ]
    },
    {
     "name": "stderr",
     "output_type": "stream",
     "text": [
      "Training:  58%|█████▊    | 29/50 [03:02<02:16,  6.48s/Epochs]"
     ]
    },
    {
     "name": "stdout",
     "output_type": "stream",
     "text": [
      "TEST ACCURACY: 0.0\n",
      "TEST LOSS: 15.147028923034668\n"
     ]
    },
    {
     "name": "stderr",
     "output_type": "stream",
     "text": [
      "Training:  60%|██████    | 30/50 [03:07<02:02,  6.10s/Epochs]"
     ]
    },
    {
     "name": "stdout",
     "output_type": "stream",
     "text": [
      "41.688233496407484\n",
      "38.75253979874549\n"
     ]
    },
    {
     "name": "stderr",
     "output_type": "stream",
     "text": [
      "Training:  62%|██████▏   | 31/50 [03:15<02:04,  6.54s/Epochs]"
     ]
    },
    {
     "name": "stdout",
     "output_type": "stream",
     "text": [
      "TEST ACCURACY: 0.0\n",
      "TEST LOSS: 16.327695846557617\n"
     ]
    },
    {
     "name": "stderr",
     "output_type": "stream",
     "text": [
      "Training:  64%|██████▍   | 32/50 [03:20<01:48,  6.02s/Epochs]"
     ]
    },
    {
     "name": "stdout",
     "output_type": "stream",
     "text": [
      "39.11284236872308\n",
      "39.39152059844721\n"
     ]
    },
    {
     "name": "stderr",
     "output_type": "stream",
     "text": [
      "Training:  66%|██████▌   | 33/50 [03:27<01:50,  6.47s/Epochs]"
     ]
    },
    {
     "name": "stdout",
     "output_type": "stream",
     "text": [
      "TEST ACCURACY: 0.0\n",
      "TEST LOSS: 13.122635841369629\n"
     ]
    },
    {
     "name": "stderr",
     "output_type": "stream",
     "text": [
      "Training:  68%|██████▊   | 34/50 [03:32<01:34,  5.92s/Epochs]"
     ]
    },
    {
     "name": "stdout",
     "output_type": "stream",
     "text": [
      "35.03061410079493\n",
      "39.4217336247569\n"
     ]
    },
    {
     "name": "stderr",
     "output_type": "stream",
     "text": [
      "Training:  70%|███████   | 35/50 [03:39<01:35,  6.35s/Epochs]"
     ]
    },
    {
     "name": "stdout",
     "output_type": "stream",
     "text": [
      "TEST ACCURACY: 0.0\n",
      "TEST LOSS: 12.350340843200684\n"
     ]
    },
    {
     "name": "stderr",
     "output_type": "stream",
     "text": [
      "Training:  72%|███████▏  | 36/50 [03:44<01:22,  5.88s/Epochs]"
     ]
    },
    {
     "name": "stdout",
     "output_type": "stream",
     "text": [
      "37.58326076650174\n",
      "36.11739979289403\n"
     ]
    },
    {
     "name": "stderr",
     "output_type": "stream",
     "text": [
      "Training:  74%|███████▍  | 37/50 [03:52<01:23,  6.46s/Epochs]"
     ]
    },
    {
     "name": "stdout",
     "output_type": "stream",
     "text": [
      "TEST ACCURACY: 0.0\n",
      "TEST LOSS: 12.730376243591309\n"
     ]
    },
    {
     "name": "stderr",
     "output_type": "stream",
     "text": [
      "Training:  76%|███████▌  | 38/50 [03:57<01:12,  6.02s/Epochs]"
     ]
    },
    {
     "name": "stdout",
     "output_type": "stream",
     "text": [
      "37.48876111396005\n",
      "35.98195260076879\n"
     ]
    },
    {
     "name": "stderr",
     "output_type": "stream",
     "text": [
      "Training:  78%|███████▊  | 39/50 [04:04<01:11,  6.47s/Epochs]"
     ]
    },
    {
     "name": "stdout",
     "output_type": "stream",
     "text": [
      "TEST ACCURACY: 0.0\n",
      "TEST LOSS: 11.356830596923828\n"
     ]
    },
    {
     "name": "stderr",
     "output_type": "stream",
     "text": [
      "Training:  80%|████████  | 40/50 [04:09<00:59,  5.92s/Epochs]"
     ]
    },
    {
     "name": "stdout",
     "output_type": "stream",
     "text": [
      "34.61535904995749\n",
      "40.50164809293836\n"
     ]
    },
    {
     "name": "stderr",
     "output_type": "stream",
     "text": [
      "Training:  82%|████████▏ | 41/50 [04:16<00:57,  6.44s/Epochs]"
     ]
    },
    {
     "name": "stdout",
     "output_type": "stream",
     "text": [
      "TEST ACCURACY: 0.0\n",
      "TEST LOSS: 11.237894058227539\n"
     ]
    },
    {
     "name": "stderr",
     "output_type": "stream",
     "text": [
      "Training:  84%|████████▍ | 42/50 [04:21<00:47,  5.97s/Epochs]"
     ]
    },
    {
     "name": "stdout",
     "output_type": "stream",
     "text": [
      "36.236447702835655\n",
      "34.09373296051382\n"
     ]
    },
    {
     "name": "stderr",
     "output_type": "stream",
     "text": [
      "Training:  86%|████████▌ | 43/50 [04:30<00:47,  6.81s/Epochs]"
     ]
    },
    {
     "name": "stdout",
     "output_type": "stream",
     "text": [
      "TEST ACCURACY: 0.0\n",
      "TEST LOSS: 12.657241821289062\n"
     ]
    },
    {
     "name": "stderr",
     "output_type": "stream",
     "text": [
      "Training:  88%|████████▊ | 44/50 [04:35<00:37,  6.25s/Epochs]"
     ]
    },
    {
     "name": "stdout",
     "output_type": "stream",
     "text": [
      "34.06951147418156\n",
      "31.772064428552287\n"
     ]
    },
    {
     "name": "stderr",
     "output_type": "stream",
     "text": [
      "Training:  90%|█████████ | 45/50 [04:43<00:33,  6.71s/Epochs]"
     ]
    },
    {
     "name": "stdout",
     "output_type": "stream",
     "text": [
      "TEST ACCURACY: 0.0\n",
      "TEST LOSS: 10.170735359191895\n"
     ]
    },
    {
     "name": "stderr",
     "output_type": "stream",
     "text": [
      "Training:  92%|█████████▏| 46/50 [04:48<00:24,  6.16s/Epochs]"
     ]
    },
    {
     "name": "stdout",
     "output_type": "stream",
     "text": [
      "37.63345767558178\n",
      "33.37477687918137\n"
     ]
    },
    {
     "name": "stderr",
     "output_type": "stream",
     "text": [
      "Training:  94%|█████████▍| 47/50 [04:55<00:19,  6.58s/Epochs]"
     ]
    },
    {
     "name": "stdout",
     "output_type": "stream",
     "text": [
      "TEST ACCURACY: 0.0\n",
      "TEST LOSS: 9.780745506286621\n"
     ]
    },
    {
     "name": "stderr",
     "output_type": "stream",
     "text": [
      "Training:  96%|█████████▌| 48/50 [05:00<00:12,  6.06s/Epochs]"
     ]
    },
    {
     "name": "stdout",
     "output_type": "stream",
     "text": [
      "30.565709700216757\n",
      "30.314167617280905\n"
     ]
    },
    {
     "name": "stderr",
     "output_type": "stream",
     "text": [
      "Training:  98%|█████████▊| 49/50 [05:08<00:06,  6.48s/Epochs]"
     ]
    },
    {
     "name": "stdout",
     "output_type": "stream",
     "text": [
      "TEST ACCURACY: 0.0\n",
      "TEST LOSS: 8.354435920715332\n"
     ]
    },
    {
     "name": "stderr",
     "output_type": "stream",
     "text": [
      "Training: 100%|██████████| 50/50 [05:12<00:00,  6.25s/Epochs]"
     ]
    },
    {
     "name": "stdout",
     "output_type": "stream",
     "text": [
      "29.35175694782043\n"
     ]
    },
    {
     "name": "stderr",
     "output_type": "stream",
     "text": [
      "\n"
     ]
    }
   ],
   "source": [
    "_, _, _, GNN, _ = train(train_loader, test_loader, args)"
   ]
  },
  {
   "cell_type": "markdown",
   "metadata": {},
   "source": [
    "## Set up the threshold greedy value\n",
    "The instance set used to determine the threshold should be the same as the training set for the base models. Here we reduce the number of instances to make the evaluation faster.\n",
    "\n",
    "For the moment, the instance set is the evaluation set since they are too different and would disadvantage threshold greedy."
   ]
  },
  {
   "cell_type": "code",
   "execution_count": 25,
   "metadata": {},
   "outputs": [
    {
     "name": "stderr",
     "output_type": "stream",
     "text": [
      "100%|██████████| 2/2 [00:12<00:00,  6.25s/it]"
     ]
    },
    {
     "name": "stdout",
     "output_type": "stream",
     "text": [
      "Best threshold value: 0.0 achieves CR: 0.9146754475262843\n"
     ]
    },
    {
     "name": "stderr",
     "output_type": "stream",
     "text": [
      "\n"
     ]
    }
   ],
   "source": [
    "from gnn_library.OBM_threshold_greedy import OBM_Threshold_Greedy\n",
    "from tqdm import tqdm\n",
    "seed = np.random.randint(0, 500000)\n",
    "rng = np.random.default_rng(seed)\n",
    "\n",
    "\n",
    "thresholds = np.linspace(0, 1, 101)\n",
    "thresholds = np.linspace(0, 1, 2) # TODO remove\n",
    "#TODO max value in threshold should be max value observable in graphs (is not the case for osmnx graphs for the moment)\n",
    "thresholded_greedy_models = {threshold: OBM_Threshold_Greedy(threshold) for threshold in thresholds}\n",
    "\n",
    "osmnx_config1 = {\n",
    "    'graph_type': 'OSMNX',\n",
    "    'location_graph': piedmont['location_graph']\n",
    "}\n",
    "osmnx_config2 = {\n",
    "    'graph_type': 'OSMNX',\n",
    "    'location_graph': geneva['location_graph']\n",
    "}\n",
    "osmnx_config3 = {\n",
    "    'graph_type': 'OSMNX',\n",
    "    'location_graph': carmel['location_graph']\n",
    "}\n",
    "\n",
    "train_num = 10\n",
    "train_instances = [\n",
    "        *ig.sample_instances(8, 8, train_num, rng, **osmnx_config1),\n",
    "        *ig.sample_instances(8, 8, train_num, rng, **osmnx_config2),\n",
    "        *ig.sample_instances(8, 8, train_num, rng, **osmnx_config3),\n",
    "]\n",
    "\n",
    "# train_instances = [\n",
    "#         *ig.sample_instances(8, 8, train_num, rng, **er_config),\n",
    "#         *ig.sample_instances(8, 8, train_num, rng, **ba_config),\n",
    "#         *ig.sample_instances(8, 8, train_num, rng, **feat_config),\n",
    "#         *ig.sample_instances(8, 8, train_num, rng, **osmnx_config),\n",
    "# ]\n",
    "\n",
    "\n",
    "greedy_ratios = {}\n",
    "for threshold, model in tqdm(thresholded_greedy_models.items()): \n",
    "    rng = np.random.default_rng(seed)\n",
    "    ratio = ev.evaluate_model(\n",
    "        meta_model=None,\n",
    "        meta_model_type=None,\n",
    "        base_models=[model],\n",
    "        instances=train_instances,\n",
    "        batch_size=50,\n",
    "        rng=rng,\n",
    "        num_realizations=5\n",
    "    )\n",
    "    greedy_ratios[threshold] = np.mean(ratio[0])\n",
    "    \n",
    "\n",
    "max_threshold = max(greedy_ratios, key = greedy_ratios.get)\n",
    "print(f\"Best threshold value: {max_threshold} achieves CR: {greedy_ratios[max_threshold]}\")\n",
    "THRESHOLD_MODEL = thresholded_greedy_models[max_threshold]"
   ]
  },
  {
   "cell_type": "code",
   "execution_count": 26,
   "metadata": {},
   "outputs": [
    {
     "name": "stdout",
     "output_type": "stream",
     "text": [
      "{0.0: 0.9146754475262843, 1.0: 0.8810199370175859}\n"
     ]
    }
   ],
   "source": [
    "print(greedy_ratios)"
   ]
  },
  {
   "cell_type": "markdown",
   "metadata": {},
   "source": [
    "## Evaluation"
   ]
  },
  {
   "cell_type": "code",
   "execution_count": 23,
   "metadata": {},
   "outputs": [
    {
     "name": "stdout",
     "output_type": "stream",
     "text": [
      "-- Competitive ratios --\n",
      "GNN: 0.8371\n",
      "Greedy: 0.8441\n",
      "LP-rounding: 0.9389\n",
      "Thresholded greedy: 0.8402\n"
     ]
    }
   ],
   "source": [
    "seed = np.random.randint(0, 500000)\n",
    "(m, n) = (32, 16)\n",
    "# config = {\n",
    "#     'graph_type': 'FEAT',\n",
    "#     'q': 0.85,\n",
    "#     'weighted': True\n",
    "# }\n",
    "# config = {\n",
    "#     'graph_type': 'OSMNX',\n",
    "#     'location_graph': piedmont['location_graph']\n",
    "# }\n",
    "# config = {\n",
    "# \t'graph_type': 'PART',\n",
    "#     'p': 0.5,\n",
    "#     'size': 4,\n",
    "#     'eps': 0.1\n",
    "# }\n",
    "\n",
    "rng = np.random.default_rng(seed)\n",
    "# eval_instances = ig.sample_instances(m, n, 100, rng, **config)\n",
    "eval_num = 25\n",
    "eval_instances = [\n",
    "        *ig.sample_instances(m, n, eval_num, rng, **er_config),\n",
    "        *ig.sample_instances(m, n, eval_num, rng, **ba_config),\n",
    "        *ig.sample_instances(m, n, eval_num, rng, **feat_config),\n",
    "        *ig.sample_instances(m, n, eval_num, rng, **osmnx_config),\n",
    "]\n",
    "\n",
    "ratios = ev.evaluate_model(\n",
    "    meta_model=None,\n",
    "    meta_model_type=None,\n",
    "    base_models=[GNN],\n",
    "    instances=eval_instances,\n",
    "    batch_size=50,\n",
    "    rng=rng,\n",
    "    num_realizations=5\n",
    ")\n",
    "\n",
    "\n",
    "ratios2 = ev.evaluate_model(\n",
    "    meta_model=None,\n",
    "    meta_model_type=None,\n",
    "    base_models=[THRESHOLD_MODEL],\n",
    "    instances=eval_instances,\n",
    "    batch_size=50,\n",
    "    rng=rng,\n",
    "    num_realizations=5\n",
    ")\n",
    "\n",
    "pp_output(ratios, _, show_log=False)\n",
    "print(f\"Thresholded greedy: {np.mean(ratios2[0]).round(4)}\")\n"
   ]
  },
  {
   "cell_type": "code",
   "execution_count": 27,
   "metadata": {},
   "outputs": [
    {
     "name": "stdout",
     "output_type": "stream",
     "text": [
      "[0.25, 0.75, 1.25, 1.75, 2.25, 2.75, 3.25, 3.75]\n",
      "{'graph_type': 'FEAT', 'q': 0.75, 'weighted': True} (4, 16)\n"
     ]
    },
    {
     "name": "stdout",
     "output_type": "stream",
     "text": [
      "{'graph_type': 'FEAT', 'q': 0.75, 'weighted': True} (12, 16)\n",
      "{'graph_type': 'FEAT', 'q': 0.75, 'weighted': True} (20, 16)\n",
      "{'graph_type': 'FEAT', 'q': 0.75, 'weighted': True} (28, 16)\n",
      "{'graph_type': 'FEAT', 'q': 0.75, 'weighted': True} (36, 16)\n",
      "{'graph_type': 'FEAT', 'q': 0.75, 'weighted': True} (44, 16)\n",
      "{'graph_type': 'FEAT', 'q': 0.75, 'weighted': True} (52, 16)\n",
      "{'graph_type': 'FEAT', 'q': 0.75, 'weighted': True} (60, 16)\n"
     ]
    }
   ],
   "source": [
    "num_trials = 40\n",
    "node_configs = [(x, 16) for x in np.arange(4, 64, 8)]\n",
    "# of nodes [20 -> 80]\n",
    "# of nodes in batch [10,000 -> 40,000]\n",
    "batch_size = 500 #[int(min(32, x + y)) for (x, y) in node_configs]\n",
    "graph_configs = [\n",
    "    # {\n",
    "    #     'graph_type': 'GM'\n",
    "    # },\n",
    "    # {\n",
    "    #     'graph_type': 'ER',\n",
    "    #     'p': 0.75,\n",
    "    #     'weighted': False\n",
    "    # },\n",
    "    # {\n",
    "    #     'graph_type': 'BA',\n",
    "    #     'ba_param': 4,\n",
    "    #     'weighted': False\n",
    "    # },\n",
    "    {\n",
    "        'graph_type': 'FEAT',\n",
    "        'q': 0.75,\n",
    "        'weighted': True\n",
    "    },\n",
    "    # {\n",
    "    #     'graph_type': 'FEAT',\n",
    "    #     'q': 0.9,\n",
    "    #     'weighted': True\n",
    "    # },\n",
    "    # {\n",
    "    #     'graph_type': 'FEAT',\n",
    "    #     'q': 0.95,\n",
    "    #     'weighted': True\n",
    "    # },\n",
    "\n",
    "    # {\n",
    "    #     'graph_type': 'PART',\n",
    "    #     'p': 0.5,\n",
    "    #     'size': 4,\n",
    "    #     'eps': 0.1\n",
    "    # },\n",
    "    # {\n",
    "    #     'graph_type': 'PART',\n",
    "    #     'p': 0.5,\n",
    "    #     'size': 3,\n",
    "    #     'eps': 0.3\n",
    "    # }\n",
    "]\n",
    "\n",
    "ratios = [x/y for (x,y) in node_configs]\n",
    "print(ratios)\n",
    "\n",
    "data = {config['q']: [] for config in graph_configs}\n",
    "for graph_config in graph_configs:\n",
    "    for i, node_config in enumerate(node_configs):\n",
    "        print(graph_config, node_config)\n",
    "        seed = np.random.randint(0, 500000)\n",
    "        rng = np.random.default_rng(seed)\n",
    "        instances = ig.sample_instances(*node_config, num_trials, rng, **graph_config)\n",
    "\n",
    "\n",
    "        rng = np.random.default_rng(seed)\n",
    "        gnn_learned_ratios, greedy_ratios, lp_match_ratios = evaluate_model(\n",
    "            meta_model=None,\n",
    "            meta_model_type=None,\n",
    "            base_models=[GNN],\n",
    "            instances=instances,\n",
    "            batch_size=batch_size,\n",
    "            rng=rng,\n",
    "            num_realizations=5\n",
    "        )\n",
    "\n",
    "\n",
    "        data[graph_config['q']].append(np.array(\n",
    "            [\n",
    "                gnn_learned_ratios,\n",
    "                greedy_ratios,\n",
    "                lp_match_ratios\n",
    "            ]\n",
    "        ))"
   ]
  },
  {
   "cell_type": "code",
   "execution_count": 33,
   "metadata": {},
   "outputs": [
    {
     "name": "stdout",
     "output_type": "stream",
     "text": [
      "[0.25, 0.75, 1.25, 1.75, 2.25, 2.75, 3.25, 3.75]\n",
      "(4, 16) {'graph_type': 'OSMNX', 'location_graph': <networkx.classes.multidigraph.MultiDiGraph object at 0x7fdec395be80>, 'city': 'Piedmont, California, USA'}\n"
     ]
    },
    {
     "name": "stderr",
     "output_type": "stream",
     "text": [
      "/tmp/ipykernel_2158288/946936367.py:102: VisibleDeprecationWarning: Creating an ndarray from ragged nested sequences (which is a list-or-tuple of lists-or-tuples-or ndarrays with different lengths or shapes) is deprecated. If you meant to do this, you must specify 'dtype=object' when creating the ndarray.\n",
      "  data[graph_config['city']].append(np.array(\n"
     ]
    },
    {
     "name": "stdout",
     "output_type": "stream",
     "text": [
      "(12, 16) {'graph_type': 'OSMNX', 'location_graph': <networkx.classes.multidigraph.MultiDiGraph object at 0x7fdec395be80>, 'city': 'Piedmont, California, USA'}\n",
      "(20, 16) {'graph_type': 'OSMNX', 'location_graph': <networkx.classes.multidigraph.MultiDiGraph object at 0x7fdec395be80>, 'city': 'Piedmont, California, USA'}\n",
      "(28, 16) {'graph_type': 'OSMNX', 'location_graph': <networkx.classes.multidigraph.MultiDiGraph object at 0x7fdec395be80>, 'city': 'Piedmont, California, USA'}\n",
      "(36, 16) {'graph_type': 'OSMNX', 'location_graph': <networkx.classes.multidigraph.MultiDiGraph object at 0x7fdec395be80>, 'city': 'Piedmont, California, USA'}\n",
      "(44, 16) {'graph_type': 'OSMNX', 'location_graph': <networkx.classes.multidigraph.MultiDiGraph object at 0x7fdec395be80>, 'city': 'Piedmont, California, USA'}\n",
      "(52, 16) {'graph_type': 'OSMNX', 'location_graph': <networkx.classes.multidigraph.MultiDiGraph object at 0x7fdec395be80>, 'city': 'Piedmont, California, USA'}\n",
      "(60, 16) {'graph_type': 'OSMNX', 'location_graph': <networkx.classes.multidigraph.MultiDiGraph object at 0x7fdec395be80>, 'city': 'Piedmont, California, USA'}\n"
     ]
    }
   ],
   "source": [
    "num_trials = 30\n",
    "node_configs = [(x, 16) for x in np.arange(4, 64, 8)]\n",
    "# of nodes [20 -> 80]\n",
    "# of nodes in batch [10,000 -> 40,000]\n",
    "batch_size = 500 #[int(min(32, x + y)) for (x, y) in node_configs]\n",
    "\n",
    "\n",
    "\n",
    "\n",
    "graph_configs = [\n",
    "    # {\n",
    "    # 'graph_type': 'FEAT',\n",
    "    # 'q': 0.5\n",
    "    # },\n",
    "    {\n",
    "        'graph_type': 'OSMNX',\n",
    "        'location_graph': piedmont['location_graph'],\n",
    "        'city': piedmont['city']\n",
    "    },\n",
    "    # {\n",
    "    #     'graph_type': 'OSMNX',\n",
    "    #     'location_graph': carmel['location_graph'],\n",
    "    #     'city': carmel['city']\n",
    "    # },\n",
    "    # {\n",
    "    #     'graph_type': 'OSMNX',\n",
    "    #     'location_graph': geneva['location_graph'],\n",
    "    #     'city': geneva['city']\n",
    "    # },\n",
    "    # {\n",
    "    #     'graph_type': 'OSMNX',\n",
    "    #     'location_graph': founex['location_graph'],\n",
    "    #     'city': founex['city']\n",
    "    # },\n",
    "    # {\n",
    "    # 'graph_type': 'FEAT',\n",
    "    # 'q': 0.75,\n",
    "    # 'weighted': True\n",
    "    # },\n",
    "    # {\n",
    "    # 'graph_type': 'FEAT',\n",
    "    # 'q': 0.9,\n",
    "    # 'weighted': True\n",
    "    # },\n",
    "    # {\n",
    "    # 'graph_type': 'FEAT',\n",
    "    # 'q': 0.95,\n",
    "    # 'weighted': True\n",
    "    # },\n",
    "    # {\n",
    "    # 'graph_type': 'FEAT',\n",
    "    # 'q': 0.99\n",
    "    # }\n",
    "    # {\n",
    "    #     'graph_type': 'PART',\n",
    "    #     'p': 0.5,\n",
    "    #     'size': 4,\n",
    "    #     'eps': 0.1\n",
    "    # },\n",
    "    # {\n",
    "    #     'graph_type': 'PART',\n",
    "    #     'p': 0.5,\n",
    "    #     'size': 3,\n",
    "    #     'eps': 0.3\n",
    "    # }\n",
    "]\n",
    "\n",
    "ratios = [x/y for (x,y) in node_configs]\n",
    "print(ratios)\n",
    "\n",
    "data = {config['city']: [] for config in graph_configs}\n",
    "for graph_config in graph_configs:\n",
    "    for i, node_config in enumerate(node_configs):\n",
    "        print(node_config, graph_config)\n",
    "        seed = np.random.randint(0, 500000)\n",
    "        rng = np.random.default_rng(seed)\n",
    "        instances = ig.sample_instances(*node_config, num_trials, rng, **graph_config)\n",
    "\n",
    "\n",
    "        rng = np.random.default_rng(seed)\n",
    "        gnn_learned_ratios, greedy_ratios, lp_match_ratios = evaluate_model(\n",
    "            meta_model=None,\n",
    "            meta_model_type=None,\n",
    "            base_models=[GNN],\n",
    "            instances=instances,\n",
    "            batch_size=batch_size,\n",
    "            rng=rng,\n",
    "            num_realizations=5\n",
    "        )\n",
    "        thresholded_greedy_ratios = [0]\n",
    "\n",
    "        # thresholded_greedy_ratios, greedy_ratios, lp_match_ratios = evaluate_model(\n",
    "        #     meta_model=None,\n",
    "        #     meta_model_type=None,\n",
    "        #     base_models=[THRESHOLD_MODEL],\n",
    "        #     instances=instances,\n",
    "        #     batch_size=batch_size,\n",
    "        #     rng=rng,\n",
    "        #     num_realizations=5\n",
    "        # )\n",
    "\n",
    "        data[graph_config['city']].append(np.array(\n",
    "            [\n",
    "                gnn_learned_ratios,\n",
    "                thresholded_greedy_ratios,\n",
    "                greedy_ratios,\n",
    "                lp_match_ratios\n",
    "            ]\n",
    "        ))"
   ]
  },
  {
   "cell_type": "code",
   "execution_count": 34,
   "metadata": {},
   "outputs": [
    {
     "name": "stdout",
     "output_type": "stream",
     "text": [
      "[0.25, 0.75, 1.25, 1.75, 2.25, 2.75, 3.25, 3.75]\n"
     ]
    },
    {
     "data": {
      "image/png": "[encoded data removed]",
      "text/plain": [
       "<Figure size 576x432 with 1 Axes>"
      ]
     },
     "metadata": {
      "needs_background": "light"
     },
     "output_type": "display_data"
    }
   ],
   "source": [
    "import matplotlib.pyplot as plt\n",
    "ratios = [x/y for (x,y) in node_configs]\n",
    "print(ratios)\n",
    "for city, comp_ratios in data.items():\n",
    "    greedy_avg_ratios = []\n",
    "    thresholded_greedy_avg_ratios = []\n",
    "    gnn_avg_ratios = []\n",
    "    lp_match_avg_ratios = []\n",
    "\n",
    "\n",
    "    for trial_ratios in comp_ratios:\n",
    "        gnn_avg_ratios.append(np.array(trial_ratios[0]).mean())\n",
    "        thresholded_greedy_avg_ratios.append(np.array(trial_ratios[1]).mean())\n",
    "        greedy_avg_ratios.append(np.array(trial_ratios[2]).mean())\n",
    "        lp_match_avg_ratios.append(np.array(trial_ratios[3]).mean())\n",
    "        \n",
    "\n",
    "    title = f\"OSMNX_discard_{city}\"\n",
    "    fig = plt.figure(figsize=(8,6))\n",
    "    plt.title(title)\n",
    "    plt.plot(ratios, gnn_avg_ratios, label='GNN')\n",
    "    plt.plot(ratios, thresholded_greedy_avg_ratios, label='Thresholded Greedy')\n",
    "    plt.plot(ratios, greedy_avg_ratios, label='Greedy')\n",
    "    plt.plot(ratios, lp_match_avg_ratios, label='LP ROUNDING')\n",
    "    plt.xlabel('# online / # offline')\n",
    "    plt.ylabel('Average competitive ratio')\n",
    "    plt.legend()\n",
    "    plt.savefig(f\"data/{title}.png\")\n",
    "    plt.show()\n",
    "\n"
   ]
  },
  {
   "cell_type": "code",
   "execution_count": 28,
   "metadata": {},
   "outputs": [
    {
     "name": "stdout",
     "output_type": "stream",
     "text": [
      "FEAT_only_ratings_0.75\n"
     ]
    },
    {
     "data": {
      "image/png": "[encoded data removed]",
      "text/plain": [
       "<Figure size 576x432 with 1 Axes>"
      ]
     },
     "metadata": {
      "needs_background": "light"
     },
     "output_type": "display_data"
    }
   ],
   "source": [
    "import matplotlib.pyplot as plt\n",
    "ratios = [x/y for (x,y) in node_configs]\n",
    "for q, comp_ratios in data.items():\n",
    "    greedy_avg_ratios = []\n",
    "    gnn_avg_ratios = []\n",
    "    lp_match_avg_ratios = []\n",
    "\n",
    "\n",
    "    for trial_ratios in comp_ratios:\n",
    "        gnn_avg_ratios.append(np.array(trial_ratios[0]).mean())\n",
    "        greedy_avg_ratios.append(np.array(trial_ratios[1]).mean())\n",
    "        lp_match_avg_ratios.append(np.array(trial_ratios[2]).mean())\n",
    "\n",
    "    # title = f\"PART_size_{size}\"\n",
    "    title = f\"FEAT_only_ratings_{q}\"\n",
    "    print(title)\n",
    "    fig = plt.figure(figsize=(8,6))\n",
    "    plt.title(title)\n",
    "    plt.plot(ratios, gnn_avg_ratios, label='GNN')\n",
    "    plt.plot(ratios, greedy_avg_ratios, label='Greedy')\n",
    "    plt.plot(ratios, lp_match_avg_ratios, label='LP ROUNDING')\n",
    "    plt.xlabel('# online / # offline')\n",
    "    plt.ylabel('Average competitive ratio')\n",
    "    plt.legend()\n",
    "    # plt.savefig(f\"data/{title}.png\")\n",
    "    plt.show()\n"
   ]
  },
  {
   "cell_type": "code",
   "execution_count": null,
   "metadata": {},
   "outputs": [],
   "source": []
  }
 ],
 "metadata": {
  "kernelspec": {
   "display_name": "clrs",
   "language": "python",
   "name": "python3"
  },
  "language_info": {
   "codemirror_mode": {
    "name": "ipython",
    "version": 3
   },
   "file_extension": ".py",
   "mimetype": "text/x-python",
   "name": "python",
   "nbconvert_exporter": "python",
   "pygments_lexer": "ipython3",
   "version": "3.10.12"
  }
 },
 "nbformat": 4,
 "nbformat_minor": 2
}
