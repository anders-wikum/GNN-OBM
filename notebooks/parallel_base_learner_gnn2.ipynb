{
 "cells": [
  {
   "cell_type": "code",
   "execution_count": 1,
   "metadata": {},
   "outputs": [],
   "source": [
    "import torch\n",
    "import numpy as np\n",
    "\n",
    "import os\n",
    "os.chdir('..')\n",
    "from torch_geometric.loader import DataLoader\n",
    "from gnn_library.util import train, save, load\n",
    "from evaluate import evaluate_model, pp_output\n",
    "import instance_generator as ig\n",
    "import torch_converter as tc\n",
    "import evaluate as ev\n",
    "import osmnx as ox\n",
    "from util import Dataset\n",
    "from gnn_library.OBM_threshold_greedy import OBM_Threshold_Greedy\n",
    "\n",
    "%load_ext autoreload\n",
    "%autoreload 2"
   ]
  },
  {
   "cell_type": "code",
   "execution_count": 22,
   "metadata": {},
   "outputs": [
    {
     "name": "stdout",
     "output_type": "stream",
     "text": [
      "PyTorch has version 1.12.0+cu102\n",
      "Using device: cuda:0\n"
     ]
    }
   ],
   "source": [
    "device = torch.device('cuda:0' if torch.cuda.is_available() else 'cpu')\n",
    "print(\"PyTorch has version {}\".format(torch.__version__))\n",
    "print('Using device:', device)"
   ]
  },
  {
   "cell_type": "code",
   "execution_count": 23,
   "metadata": {},
   "outputs": [],
   "source": [
    "args = {\n",
    "    'processor':         'GENConv',\n",
    "    'head':              'regression',\n",
    "    'num_layers':        2,\n",
    "    'num_mlp_layers':    2,\n",
    "    'aggr':              'max',\n",
    "    'batch_size':        32,\n",
    "    'node_feature_dim':  5,\n",
    "    'edge_feature_dim':  1,\n",
    "    'graph_feature_dim': 2,\n",
    "    'hidden_dim':        64,\n",
    "    'output_dim':        1,\n",
    "    'dropout':           0.35,\n",
    "    'epochs':            25,\n",
    "    'opt':               'adam',\n",
    "    'opt_scheduler':     'none',\n",
    "    'opt_restart':       0,\n",
    "    'weight_decay':      5e-3,\n",
    "    'lr':                0.0001,\n",
    "    'device':            device,\n",
    "    'noise':             0 # Set to 0 to not train on noisy features\n",
    "}\n",
    "\n",
    "# Hyperparameter optimized for 9/7\n",
    "\n",
    "# args = {\n",
    "#     'processor':         'GENConv',\n",
    "#     'head':              'regression',     \n",
    "#     'num_layers':        4,\n",
    "#     'num_mlp_layers':    2,\n",
    "#     'aggr':              'max',\n",
    "#     'batch_size':        8,\n",
    "#     'node_feature_dim':  5,\n",
    "#     'edge_feature_dim':  1,\n",
    "#     'graph_feature_dim': 2,\n",
    "#     'hidden_dim':        58,\n",
    "#     'output_dim':        1,\n",
    "#     'dropout':           0.066,\n",
    "#     'epochs':            80,\n",
    "#     'opt':               'adagrad',\n",
    "#     'opt_scheduler':     'none',\n",
    "#     'opt_restart':       0,\n",
    "#     'weight_decay':      5e-3,\n",
    "#     'lr':                0.0022434,\n",
    "#     'device':            device,\n",
    "#     'noise':             0 # Set to 0 to not train on noisy features\n",
    "# }\n",
    "\n",
    "# Hyperparam optimized for 6,10\n",
    "\n",
    "args = {\n",
    "    'processor':         'GENConv',\n",
    "    'head':              'regression',     \n",
    "    'num_layers':        5,\n",
    "    'num_mlp_layers':    5,\n",
    "    'aggr':              'max',\n",
    "    'batch_size':        2,\n",
    "    'node_feature_dim':  5,\n",
    "    'edge_feature_dim':  1,\n",
    "    'graph_feature_dim': 2,\n",
    "    'hidden_dim':        128,\n",
    "    'output_dim':        1,\n",
    "    'dropout':           0.0115,\n",
    "    'epochs':            32,\n",
    "    'opt':               'adagrad',\n",
    "    'opt_scheduler':     'none',\n",
    "    'opt_restart':       0,\n",
    "    'weight_decay':      5e-3,\n",
    "    'lr':                0.0083,\n",
    "    'device':            device,\n",
    "    'noise':             0 # Set to 0 to not train on noisy features\n",
    "}\n",
    "\n",
    "# Hyperparam optimized for 10,6\n",
    "\n",
    "args = {\n",
    "    'processor':         'GENConv',\n",
    "    'head':              'regression',     \n",
    "    'num_layers':        3,\n",
    "    'num_mlp_layers':    3,\n",
    "    'aggr':              'max',\n",
    "    'batch_size':        8,\n",
    "    'node_feature_dim':  5,\n",
    "    'edge_feature_dim':  1,\n",
    "    'graph_feature_dim': 2,\n",
    "    'hidden_dim':        32,\n",
    "    'output_dim':        1,\n",
    "    'dropout':           0.0306,\n",
    "    'epochs':            64,\n",
    "    'opt':               'adagrad',\n",
    "    'opt_scheduler':     'none',\n",
    "    'opt_restart':       0,\n",
    "    'weight_decay':      5e-3,\n",
    "    'lr':                0.0121,\n",
    "    'device':            device,\n",
    "    'noise':             0 # Set to 0 to not train on noisy features\n",
    "}"
   ]
  },
  {
   "cell_type": "code",
   "execution_count": 21,
   "metadata": {},
   "outputs": [],
   "source": [
    "train_num = 200; test_num = 100\n",
    "node_config = (10,6)\n",
    "\n",
    "er_config = {\n",
    "    'graph_type': 'ER',\n",
    "    'p': 0.75,\n",
    "    'weighted': True\n",
    "}\n",
    "ba_config = {\n",
    "    'graph_type': 'BA',\n",
    "    'ba_param': 4,\n",
    "    'weighted': True\n",
    "}\n",
    "geom_config = {\n",
    "    'graph_type': 'GEOM',\n",
    "    'q': 0.25,\n",
    "    'd': 2,\n",
    "    'weighted': True\n",
    "}\n",
    "\n",
    "rng = np.random.default_rng()\n",
    "\n",
    "\n",
    "train_instances = [\n",
    "        *ig.sample_instances(*node_config, train_num, rng, args, **er_config),\n",
    "        *ig.sample_instances(*node_config, train_num, rng, args, **ba_config),\n",
    "        *ig.sample_instances(*node_config, train_num, rng, args, **geom_config),\n",
    "    ]\n",
    "\n",
    "test_instances = [\n",
    "        *ig.sample_instances(*node_config, test_num, rng, args, **er_config),\n",
    "        *ig.sample_instances(*node_config, test_num, rng, args, **ba_config),\n",
    "        *ig.sample_instances(*node_config, test_num, rng, args, **geom_config),\n",
    "    ]\n",
    "\n",
    "\n",
    "train_data = Dataset(tc._instances_to_train_samples(train_instances, args['head']))\n",
    "test_data = Dataset(tc._instances_to_train_samples(test_instances, args['head']))\n",
    "\n",
    "train_loader = DataLoader(\n",
    "    train_data,\n",
    "    batch_size=args['batch_size'],\n",
    "    shuffle=True,\n",
    "    num_workers=4\n",
    ")\n",
    "\n",
    "test_loader = DataLoader(\n",
    "    test_data,\n",
    "    batch_size=args['batch_size'],\n",
    "    shuffle=True,\n",
    "    num_workers=4\n",
    ")"
   ]
  },
  {
   "cell_type": "code",
   "execution_count": 22,
   "metadata": {},
   "outputs": [
    {
     "name": "stderr",
     "output_type": "stream",
     "text": [
      "Training:   0%|          | 0/64 [00:00<?, ?Epochs/s]/home/alexhay/.local/lib/python3.10/site-packages/torch_geometric/utils/scatter.py:93: UserWarning: The usage of `scatter(reduce='max')` can be accelerated via the 'torch-scatter' package, but it was not found\n",
      "  warnings.warn(f\"The usage of `scatter(reduce='{reduce}')` \"\n"
     ]
    },
    {
     "name": "stdout",
     "output_type": "stream",
     "text": [
      "TRAINING LOSS: 0.03216764100088879\n"
     ]
    },
    {
     "name": "stderr",
     "output_type": "stream",
     "text": [
      "Training:   2%|▏         | 1/64 [00:23<24:37, 23.46s/Epochs]"
     ]
    },
    {
     "name": "stdout",
     "output_type": "stream",
     "text": [
      "TEST LOSS: 0.01455609779804945\n",
      "TEST ACCURACY: 0.8974359035491943\n"
     ]
    },
    {
     "name": "stderr",
     "output_type": "stream",
     "text": [
      "Training:   3%|▎         | 2/64 [00:40<20:13, 19.57s/Epochs]"
     ]
    },
    {
     "name": "stdout",
     "output_type": "stream",
     "text": [
      "TRAINING LOSS: 0.018142962133289118\n"
     ]
    },
    {
     "name": "stderr",
     "output_type": "stream",
     "text": [
      "Training:   5%|▍         | 3/64 [00:57<18:45, 18.44s/Epochs]"
     ]
    },
    {
     "name": "stdout",
     "output_type": "stream",
     "text": [
      "TRAINING LOSS: 0.016536819550372964\n"
     ]
    },
    {
     "name": "stderr",
     "output_type": "stream",
     "text": [
      "Training:   6%|▋         | 4/64 [01:14<17:50, 17.84s/Epochs]"
     ]
    },
    {
     "name": "stdout",
     "output_type": "stream",
     "text": [
      "TRAINING LOSS: 0.015344425928623917\n",
      "TRAINING LOSS: 0.015233540981227093\n"
     ]
    },
    {
     "name": "stderr",
     "output_type": "stream",
     "text": [
      "Training:   8%|▊         | 5/64 [01:38<19:43, 20.07s/Epochs]"
     ]
    },
    {
     "name": "stdout",
     "output_type": "stream",
     "text": [
      "TEST LOSS: 0.01709643006324768\n",
      "TEST ACCURACY: 0.9003944993019104\n"
     ]
    },
    {
     "name": "stderr",
     "output_type": "stream",
     "text": [
      "Training:   9%|▉         | 6/64 [01:55<18:22, 19.00s/Epochs]"
     ]
    },
    {
     "name": "stdout",
     "output_type": "stream",
     "text": [
      "TRAINING LOSS: 0.014382488927292911\n"
     ]
    },
    {
     "name": "stderr",
     "output_type": "stream",
     "text": [
      "Training:  11%|█         | 7/64 [02:12<17:30, 18.42s/Epochs]"
     ]
    },
    {
     "name": "stdout",
     "output_type": "stream",
     "text": [
      "TRAINING LOSS: 0.013756659103996143\n"
     ]
    },
    {
     "name": "stderr",
     "output_type": "stream",
     "text": [
      "Training:  12%|█▎        | 8/64 [02:29<16:46, 17.98s/Epochs]"
     ]
    },
    {
     "name": "stdout",
     "output_type": "stream",
     "text": [
      "TRAINING LOSS: 0.013859007639050227\n",
      "TRAINING LOSS: 0.013194921573695213\n"
     ]
    },
    {
     "name": "stderr",
     "output_type": "stream",
     "text": [
      "Training:  14%|█▍        | 9/64 [02:52<18:01, 19.66s/Epochs]"
     ]
    },
    {
     "name": "stdout",
     "output_type": "stream",
     "text": [
      "TEST LOSS: 0.015891214832663536\n",
      "TEST ACCURACY: 0.8969427943229675\n"
     ]
    },
    {
     "name": "stderr",
     "output_type": "stream",
     "text": [
      "Training:  16%|█▌        | 10/64 [03:09<16:47, 18.66s/Epochs]"
     ]
    },
    {
     "name": "stdout",
     "output_type": "stream",
     "text": [
      "TRAINING LOSS: 0.013230944684857063\n"
     ]
    },
    {
     "name": "stderr",
     "output_type": "stream",
     "text": [
      "Training:  17%|█▋        | 11/64 [03:26<15:58, 18.08s/Epochs]"
     ]
    },
    {
     "name": "stdout",
     "output_type": "stream",
     "text": [
      "TRAINING LOSS: 0.012974280179116494\n"
     ]
    },
    {
     "name": "stderr",
     "output_type": "stream",
     "text": [
      "Training:  19%|█▉        | 12/64 [03:42<15:16, 17.63s/Epochs]"
     ]
    },
    {
     "name": "stdout",
     "output_type": "stream",
     "text": [
      "TRAINING LOSS: 0.013012339891326118\n",
      "TRAINING LOSS: 0.012982169686875199\n"
     ]
    },
    {
     "name": "stderr",
     "output_type": "stream",
     "text": [
      "Training:  20%|██        | 13/64 [04:06<16:33, 19.48s/Epochs]"
     ]
    },
    {
     "name": "stdout",
     "output_type": "stream",
     "text": [
      "TEST LOSS: 0.012565651908516884\n",
      "TEST ACCURACY: 0.9038461446762085\n"
     ]
    },
    {
     "name": "stderr",
     "output_type": "stream",
     "text": [
      "Training:  22%|██▏       | 14/64 [04:23<15:34, 18.69s/Epochs]"
     ]
    },
    {
     "name": "stdout",
     "output_type": "stream",
     "text": [
      "TRAINING LOSS: 0.012385881506136254\n"
     ]
    },
    {
     "name": "stderr",
     "output_type": "stream",
     "text": [
      "Training:  23%|██▎       | 15/64 [04:40<14:47, 18.12s/Epochs]"
     ]
    },
    {
     "name": "stdout",
     "output_type": "stream",
     "text": [
      "TRAINING LOSS: 0.012147981235493347\n"
     ]
    },
    {
     "name": "stderr",
     "output_type": "stream",
     "text": [
      "Training:  25%|██▌       | 16/64 [04:56<14:11, 17.75s/Epochs]"
     ]
    },
    {
     "name": "stdout",
     "output_type": "stream",
     "text": [
      "TRAINING LOSS: 0.012114186927850752\n",
      "TRAINING LOSS: 0.012165346990641477\n"
     ]
    },
    {
     "name": "stderr",
     "output_type": "stream",
     "text": [
      "Training:  27%|██▋       | 17/64 [05:20<15:21, 19.61s/Epochs]"
     ]
    },
    {
     "name": "stdout",
     "output_type": "stream",
     "text": [
      "TEST LOSS: 0.011176448315382004\n",
      "TEST ACCURACY: 0.9053254723548889\n"
     ]
    },
    {
     "name": "stderr",
     "output_type": "stream",
     "text": [
      "Training:  28%|██▊       | 18/64 [05:38<14:28, 18.88s/Epochs]"
     ]
    },
    {
     "name": "stdout",
     "output_type": "stream",
     "text": [
      "TRAINING LOSS: 0.011952758117541028\n"
     ]
    },
    {
     "name": "stderr",
     "output_type": "stream",
     "text": [
      "Training:  30%|██▉       | 19/64 [05:55<13:45, 18.34s/Epochs]"
     ]
    },
    {
     "name": "stdout",
     "output_type": "stream",
     "text": [
      "TRAINING LOSS: 0.012037403329416798\n"
     ]
    },
    {
     "name": "stderr",
     "output_type": "stream",
     "text": [
      "Training:  31%|███▏      | 20/64 [06:11<13:05, 17.85s/Epochs]"
     ]
    },
    {
     "name": "stdout",
     "output_type": "stream",
     "text": [
      "TRAINING LOSS: 0.011457288855257297\n",
      "TRAINING LOSS: 0.011867890741248902\n"
     ]
    },
    {
     "name": "stderr",
     "output_type": "stream",
     "text": [
      "Training:  33%|███▎      | 21/64 [06:35<14:06, 19.68s/Epochs]"
     ]
    },
    {
     "name": "stdout",
     "output_type": "stream",
     "text": [
      "TEST LOSS: 0.012202654965221882\n",
      "TEST ACCURACY: 0.9137080907821655\n"
     ]
    },
    {
     "name": "stderr",
     "output_type": "stream",
     "text": [
      "Training:  34%|███▍      | 22/64 [06:53<13:18, 19.01s/Epochs]"
     ]
    },
    {
     "name": "stdout",
     "output_type": "stream",
     "text": [
      "TRAINING LOSS: 0.01186709345540011\n"
     ]
    },
    {
     "name": "stderr",
     "output_type": "stream",
     "text": [
      "Training:  36%|███▌      | 23/64 [07:10<12:35, 18.43s/Epochs]"
     ]
    },
    {
     "name": "stdout",
     "output_type": "stream",
     "text": [
      "TRAINING LOSS: 0.011801527328582528\n"
     ]
    },
    {
     "name": "stderr",
     "output_type": "stream",
     "text": [
      "Training:  38%|███▊      | 24/64 [07:27<12:03, 18.08s/Epochs]"
     ]
    },
    {
     "name": "stdout",
     "output_type": "stream",
     "text": [
      "TRAINING LOSS: 0.011177653772239693\n",
      "TRAINING LOSS: 0.01123773350889086\n"
     ]
    },
    {
     "name": "stderr",
     "output_type": "stream",
     "text": [
      "Training:  39%|███▉      | 25/64 [07:52<13:00, 20.01s/Epochs]"
     ]
    },
    {
     "name": "stdout",
     "output_type": "stream",
     "text": [
      "TEST LOSS: 0.009376714937388897\n",
      "TEST ACCURACY: 0.9137080907821655\n"
     ]
    },
    {
     "name": "stderr",
     "output_type": "stream",
     "text": [
      "Training:  41%|████      | 26/64 [08:09<12:07, 19.14s/Epochs]"
     ]
    },
    {
     "name": "stdout",
     "output_type": "stream",
     "text": [
      "TRAINING LOSS: 0.011347830139385345\n"
     ]
    },
    {
     "name": "stderr",
     "output_type": "stream",
     "text": [
      "Training:  42%|████▏     | 27/64 [08:26<11:25, 18.53s/Epochs]"
     ]
    },
    {
     "name": "stdout",
     "output_type": "stream",
     "text": [
      "TRAINING LOSS: 0.01106344146812484\n"
     ]
    },
    {
     "name": "stderr",
     "output_type": "stream",
     "text": [
      "Training:  44%|████▍     | 28/64 [08:43<10:54, 18.19s/Epochs]"
     ]
    },
    {
     "name": "stdout",
     "output_type": "stream",
     "text": [
      "TRAINING LOSS: 0.011184583159000526\n",
      "TRAINING LOSS: 0.010960140737042327\n"
     ]
    },
    {
     "name": "stderr",
     "output_type": "stream",
     "text": [
      "Training:  45%|████▌     | 29/64 [09:07<11:40, 20.00s/Epochs]"
     ]
    },
    {
     "name": "stdout",
     "output_type": "stream",
     "text": [
      "TEST LOSS: 0.011051524430513382\n",
      "TEST ACCURACY: 0.9102564454078674\n"
     ]
    },
    {
     "name": "stderr",
     "output_type": "stream",
     "text": [
      "Training:  47%|████▋     | 30/64 [09:25<10:57, 19.33s/Epochs]"
     ]
    },
    {
     "name": "stdout",
     "output_type": "stream",
     "text": [
      "TRAINING LOSS: 0.011154542834200563\n"
     ]
    },
    {
     "name": "stderr",
     "output_type": "stream",
     "text": [
      "Training:  48%|████▊     | 31/64 [09:42<10:11, 18.53s/Epochs]"
     ]
    },
    {
     "name": "stdout",
     "output_type": "stream",
     "text": [
      "TRAINING LOSS: 0.010848695179849458\n"
     ]
    },
    {
     "name": "stderr",
     "output_type": "stream",
     "text": [
      "Training:  50%|█████     | 32/64 [09:59<09:40, 18.15s/Epochs]"
     ]
    },
    {
     "name": "stdout",
     "output_type": "stream",
     "text": [
      "TRAINING LOSS: 0.01101204984650273\n",
      "TRAINING LOSS: 0.010692113793068066\n"
     ]
    },
    {
     "name": "stderr",
     "output_type": "stream",
     "text": [
      "Training:  52%|█████▏    | 33/64 [10:23<10:20, 20.01s/Epochs]"
     ]
    },
    {
     "name": "stdout",
     "output_type": "stream",
     "text": [
      "TEST LOSS: 0.016236433759331703\n",
      "TEST ACCURACY: 0.9028599858283997\n"
     ]
    },
    {
     "name": "stderr",
     "output_type": "stream",
     "text": [
      "Training:  53%|█████▎    | 34/64 [10:41<09:34, 19.15s/Epochs]"
     ]
    },
    {
     "name": "stdout",
     "output_type": "stream",
     "text": [
      "TRAINING LOSS: 0.01112199358678849\n"
     ]
    },
    {
     "name": "stderr",
     "output_type": "stream",
     "text": [
      "Training:  55%|█████▍    | 35/64 [10:58<09:00, 18.64s/Epochs]"
     ]
    },
    {
     "name": "stdout",
     "output_type": "stream",
     "text": [
      "TRAINING LOSS: 0.01069591820019535\n"
     ]
    },
    {
     "name": "stderr",
     "output_type": "stream",
     "text": [
      "Training:  56%|█████▋    | 36/64 [11:15<08:30, 18.23s/Epochs]"
     ]
    },
    {
     "name": "stdout",
     "output_type": "stream",
     "text": [
      "TRAINING LOSS: 0.010768865094819875\n",
      "TRAINING LOSS: 0.010989487807825667\n"
     ]
    },
    {
     "name": "stderr",
     "output_type": "stream",
     "text": [
      "Training:  58%|█████▊    | 37/64 [11:40<09:01, 20.04s/Epochs]"
     ]
    },
    {
     "name": "stdout",
     "output_type": "stream",
     "text": [
      "TEST LOSS: 0.00920663308352232\n",
      "TEST ACCURACY: 0.918639063835144\n"
     ]
    },
    {
     "name": "stderr",
     "output_type": "stream",
     "text": [
      "Training:  59%|█████▉    | 38/64 [11:57<08:21, 19.30s/Epochs]"
     ]
    },
    {
     "name": "stdout",
     "output_type": "stream",
     "text": [
      "TRAINING LOSS: 0.010680981191695103\n"
     ]
    },
    {
     "name": "stderr",
     "output_type": "stream",
     "text": [
      "Training:  61%|██████    | 39/64 [12:15<07:47, 18.71s/Epochs]"
     ]
    },
    {
     "name": "stdout",
     "output_type": "stream",
     "text": [
      "TRAINING LOSS: 0.010771455854618446\n"
     ]
    },
    {
     "name": "stderr",
     "output_type": "stream",
     "text": [
      "Training:  62%|██████▎   | 40/64 [12:32<07:18, 18.25s/Epochs]"
     ]
    },
    {
     "name": "stdout",
     "output_type": "stream",
     "text": [
      "TRAINING LOSS: 0.010665037028914096\n",
      "TRAINING LOSS: 0.010625254277842701\n"
     ]
    },
    {
     "name": "stderr",
     "output_type": "stream",
     "text": [
      "Training:  64%|██████▍   | 41/64 [12:56<07:41, 20.08s/Epochs]"
     ]
    },
    {
     "name": "stdout",
     "output_type": "stream",
     "text": [
      "TEST LOSS: 0.01140876580029726\n",
      "TEST ACCURACY: 0.9053254723548889\n"
     ]
    },
    {
     "name": "stderr",
     "output_type": "stream",
     "text": [
      "Training:  66%|██████▌   | 42/64 [13:13<07:03, 19.26s/Epochs]"
     ]
    },
    {
     "name": "stdout",
     "output_type": "stream",
     "text": [
      "TRAINING LOSS: 0.010380822948596996\n"
     ]
    },
    {
     "name": "stderr",
     "output_type": "stream",
     "text": [
      "Training:  67%|██████▋   | 43/64 [13:31<06:33, 18.73s/Epochs]"
     ]
    },
    {
     "name": "stdout",
     "output_type": "stream",
     "text": [
      "TRAINING LOSS: 0.010914346167723545\n"
     ]
    },
    {
     "name": "stderr",
     "output_type": "stream",
     "text": [
      "Training:  69%|██████▉   | 44/64 [13:49<06:09, 18.47s/Epochs]"
     ]
    },
    {
     "name": "stdout",
     "output_type": "stream",
     "text": [
      "TRAINING LOSS: 0.010497428218199057\n",
      "TRAINING LOSS: 0.010262478783648603\n"
     ]
    },
    {
     "name": "stderr",
     "output_type": "stream",
     "text": [
      "Training:  70%|███████   | 45/64 [14:14<06:28, 20.44s/Epochs]"
     ]
    },
    {
     "name": "stdout",
     "output_type": "stream",
     "text": [
      "TEST LOSS: 0.01059815101325512\n",
      "TEST ACCURACY: 0.908777117729187\n"
     ]
    },
    {
     "name": "stderr",
     "output_type": "stream",
     "text": [
      "Training:  72%|███████▏  | 46/64 [14:31<05:49, 19.39s/Epochs]"
     ]
    },
    {
     "name": "stdout",
     "output_type": "stream",
     "text": [
      "TRAINING LOSS: 0.01041703161665235\n"
     ]
    },
    {
     "name": "stderr",
     "output_type": "stream",
     "text": [
      "Training:  73%|███████▎  | 47/64 [14:48<05:19, 18.82s/Epochs]"
     ]
    },
    {
     "name": "stdout",
     "output_type": "stream",
     "text": [
      "TRAINING LOSS: 0.010347358861756677\n"
     ]
    },
    {
     "name": "stderr",
     "output_type": "stream",
     "text": [
      "Training:  75%|███████▌  | 48/64 [15:06<04:53, 18.37s/Epochs]"
     ]
    },
    {
     "name": "stdout",
     "output_type": "stream",
     "text": [
      "TRAINING LOSS: 0.01023442524045467\n",
      "TRAINING LOSS: 0.010455685716154543\n"
     ]
    },
    {
     "name": "stderr",
     "output_type": "stream",
     "text": [
      "Training:  77%|███████▋  | 49/64 [15:30<05:02, 20.17s/Epochs]"
     ]
    },
    {
     "name": "stdout",
     "output_type": "stream",
     "text": [
      "TEST LOSS: 0.010449191555380821\n",
      "TEST ACCURACY: 0.908777117729187\n"
     ]
    },
    {
     "name": "stderr",
     "output_type": "stream",
     "text": [
      "Training:  78%|███████▊  | 50/64 [15:47<04:30, 19.30s/Epochs]"
     ]
    },
    {
     "name": "stdout",
     "output_type": "stream",
     "text": [
      "TRAINING LOSS: 0.010403857082725674\n"
     ]
    },
    {
     "name": "stderr",
     "output_type": "stream",
     "text": [
      "Training:  80%|███████▉  | 51/64 [16:05<04:03, 18.72s/Epochs]"
     ]
    },
    {
     "name": "stdout",
     "output_type": "stream",
     "text": [
      "TRAINING LOSS: 0.01017893855029352\n"
     ]
    },
    {
     "name": "stderr",
     "output_type": "stream",
     "text": [
      "Training:  81%|████████▏ | 52/64 [16:22<03:41, 18.45s/Epochs]"
     ]
    },
    {
     "name": "stdout",
     "output_type": "stream",
     "text": [
      "TRAINING LOSS: 0.010522302585101598\n",
      "TRAINING LOSS: 0.010023658838853443\n"
     ]
    },
    {
     "name": "stderr",
     "output_type": "stream",
     "text": [
      "Training:  83%|████████▎ | 53/64 [16:48<03:47, 20.66s/Epochs]"
     ]
    },
    {
     "name": "stdout",
     "output_type": "stream",
     "text": [
      "TEST LOSS: 0.011058488860726357\n",
      "TEST ACCURACY: 0.9151873588562012\n"
     ]
    },
    {
     "name": "stderr",
     "output_type": "stream",
     "text": [
      "Training:  84%|████████▍ | 54/64 [17:06<03:17, 19.70s/Epochs]"
     ]
    },
    {
     "name": "stdout",
     "output_type": "stream",
     "text": [
      "TRAINING LOSS: 0.010281075426272854\n"
     ]
    },
    {
     "name": "stderr",
     "output_type": "stream",
     "text": [
      "Training:  86%|████████▌ | 55/64 [17:23<02:51, 19.00s/Epochs]"
     ]
    },
    {
     "name": "stdout",
     "output_type": "stream",
     "text": [
      "TRAINING LOSS: 0.010191856688359332\n"
     ]
    },
    {
     "name": "stderr",
     "output_type": "stream",
     "text": [
      "Training:  88%|████████▊ | 56/64 [17:41<02:28, 18.56s/Epochs]"
     ]
    },
    {
     "name": "stdout",
     "output_type": "stream",
     "text": [
      "TRAINING LOSS: 0.010221019618755205\n",
      "TRAINING LOSS: 0.010217668755386489\n"
     ]
    },
    {
     "name": "stderr",
     "output_type": "stream",
     "text": [
      "Training:  89%|████████▉ | 57/64 [18:06<02:24, 20.61s/Epochs]"
     ]
    },
    {
     "name": "stdout",
     "output_type": "stream",
     "text": [
      "TEST LOSS: 0.010816583409905434\n",
      "TEST ACCURACY: 0.9181459546089172\n"
     ]
    },
    {
     "name": "stderr",
     "output_type": "stream",
     "text": [
      "Training:  91%|█████████ | 58/64 [18:23<01:56, 19.49s/Epochs]"
     ]
    },
    {
     "name": "stdout",
     "output_type": "stream",
     "text": [
      "TRAINING LOSS: 0.010062068589054663\n"
     ]
    },
    {
     "name": "stderr",
     "output_type": "stream",
     "text": [
      "Training:  92%|█████████▏| 59/64 [18:40<01:33, 18.69s/Epochs]"
     ]
    },
    {
     "name": "stdout",
     "output_type": "stream",
     "text": [
      "TRAINING LOSS: 0.009929440269056069\n"
     ]
    },
    {
     "name": "stderr",
     "output_type": "stream",
     "text": [
      "Training:  94%|█████████▍| 60/64 [18:56<01:12, 18.08s/Epochs]"
     ]
    },
    {
     "name": "stdout",
     "output_type": "stream",
     "text": [
      "TRAINING LOSS: 0.010182858900191164\n",
      "TRAINING LOSS: 0.010349988489516272\n"
     ]
    },
    {
     "name": "stderr",
     "output_type": "stream",
     "text": [
      "Training:  95%|█████████▌| 61/64 [19:20<00:59, 19.89s/Epochs]"
     ]
    },
    {
     "name": "stdout",
     "output_type": "stream",
     "text": [
      "TEST LOSS: 0.011190847493708134\n",
      "TEST ACCURACY: 0.9092702269554138\n"
     ]
    },
    {
     "name": "stderr",
     "output_type": "stream",
     "text": [
      "Training:  97%|█████████▋| 62/64 [19:38<00:38, 19.06s/Epochs]"
     ]
    },
    {
     "name": "stdout",
     "output_type": "stream",
     "text": [
      "TRAINING LOSS: 0.010023406659839756\n"
     ]
    },
    {
     "name": "stderr",
     "output_type": "stream",
     "text": [
      "Training:  98%|█████████▊| 63/64 [19:54<00:18, 18.36s/Epochs]"
     ]
    },
    {
     "name": "stdout",
     "output_type": "stream",
     "text": [
      "TRAINING LOSS: 0.010177172276589895\n"
     ]
    },
    {
     "name": "stderr",
     "output_type": "stream",
     "text": [
      "Training: 100%|██████████| 64/64 [20:11<00:00, 18.93s/Epochs]"
     ]
    },
    {
     "name": "stdout",
     "output_type": "stream",
     "text": [
      "TRAINING LOSS: 0.010133509131885706\n"
     ]
    },
    {
     "name": "stderr",
     "output_type": "stream",
     "text": [
      "\n"
     ]
    }
   ],
   "source": [
    "_, _, _, GNN, _ = train(train_loader, test_loader, args)"
   ]
  },
  {
   "cell_type": "code",
   "execution_count": 23,
   "metadata": {},
   "outputs": [],
   "source": [
    "save(GNN, args, 'GNN2_regression_hyperparam_tuned')"
   ]
  },
  {
   "cell_type": "code",
   "execution_count": null,
   "metadata": {},
   "outputs": [],
   "source": [
    "# GNN, args = load('GNN2', device)"
   ]
  },
  {
   "cell_type": "code",
   "execution_count": null,
   "metadata": {},
   "outputs": [],
   "source": [
    "from gnn_library.OBM_greedy import OBM_Greedy\n",
    "from gnn_library.OBM_threshold_greedy import OBM_Threshold_Greedy\n",
    "\n",
    "thresholds = np.linspace(0, 1, 101)\n",
    "thresholded_greedy_models = [(threshold, OBM_Threshold_Greedy(threshold)) for threshold in thresholds]\n",
    "\n",
    "seed = np.random.randint(0, 500000)\n",
    "(m, n) = (8, 16)\n",
    "config = er_config\n",
    "\n",
    "rng = np.random.default_rng(seed)\n",
    "eval_instances = ig.sample_instances(m, n, 10, rng, **config)\n",
    "\n",
    "ratios2 = evaluate_model(\n",
    "    meta_model=None,\n",
    "    meta_model_type=None,\n",
    "    base_models=[GNN],\n",
    "    instances=eval_instances,\n",
    "    batch_size=50,\n",
    "    rng=rng,\n",
    "    num_realizations=5\n",
    ")\n",
    "\n",
    "greedy_ratios = {}\n",
    "for threshold, model in thresholded_greedy_models: \n",
    "    ratio = evaluate_model(\n",
    "        meta_model=None,\n",
    "        meta_model_type=None,\n",
    "        base_models=[model],\n",
    "        instances=eval_instances,\n",
    "        batch_size=50,\n",
    "        rng=rng,\n",
    "        num_realizations=5\n",
    "    )\n",
    "    greedy_ratios[threshold] = np.mean(ratio[0])\n",
    "pp_output(ratios2, _, show_log=False)\n",
    "print(greedy_ratios)"
   ]
  },
  {
   "cell_type": "code",
   "execution_count": null,
   "metadata": {},
   "outputs": [],
   "source": [
    "max_threshold = max(greedy_ratios, key = greedy_ratios.get)\n",
    "print(max_threshold, greedy_ratios[max_threshold])"
   ]
  },
  {
   "cell_type": "markdown",
   "metadata": {},
   "source": [
    "# Pivot to feature-generated graphs"
   ]
  },
  {
   "cell_type": "code",
   "execution_count": null,
   "metadata": {},
   "outputs": [],
   "source": [
    "def get_location_graph(city):\n",
    "\tlocation_graph = ox.graph_from_place(city, network_type=\"drive\")\n",
    "\tlocation_graph = ox.speed.add_edge_speeds(location_graph)\n",
    "\tlocation_graph = ox.speed.add_edge_travel_times(location_graph)\n",
    "\treturn {'location_graph': location_graph, 'city': city}"
   ]
  },
  {
   "cell_type": "code",
   "execution_count": null,
   "metadata": {},
   "outputs": [],
   "source": [
    "piedmont = get_location_graph(\"Piedmont, California, USA\")\n",
    "# san_francisco = get_location_graph(\"San Francisco, California, USA\")\n",
    "founex = get_location_graph(\"Founex, Switzerland\")\n",
    "carmel = get_location_graph(\"Carmel, Indiana, USA\")\n",
    "geneva = get_location_graph(\"Geneva, Switzerland\")"
   ]
  },
  {
   "cell_type": "code",
   "execution_count": null,
   "metadata": {},
   "outputs": [],
   "source": [
    "args = {\n",
    "    'processor':         'GENConv',\n",
    "    'head':              'regression',\n",
    "    'num_layers':        2,\n",
    "    'num_mlp_layers':    2,\n",
    "    'aggr':              'max',\n",
    "    'batch_size':        32,\n",
    "    'node_feature_dim':  4,\n",
    "    'edge_feature_dim':  1,\n",
    "    'graph_feature_dim': 2,\n",
    "    'hidden_dim':        64,\n",
    "    'output_dim':        1,\n",
    "    'dropout':           0.35,\n",
    "    'epochs':            25,\n",
    "    'opt':               'adam',\n",
    "    'opt_scheduler':     'none',\n",
    "    'opt_restart':       0,\n",
    "    'weight_decay':      5e-3,\n",
    "    'lr':                0.0001,\n",
    "    'device':            device\n",
    "}\n",
    "\n",
    "train_num = 100; test_num = 30\n",
    "\n",
    "er_config = {\n",
    "    'graph_type': 'ER',\n",
    "    'p': 0.75,\n",
    "    'weighted': True\n",
    "}\n",
    "ba_config = {\n",
    "    'graph_type': 'BA',\n",
    "    'ba_param': 2,\n",
    "    'weighted': True\n",
    "}\n",
    "feat_config = {\n",
    "    'graph_type': 'FEAT',\n",
    "    'q': 0.85,\n",
    "    'weighted': True\n",
    "}\n",
    "# osmnx_config = {\n",
    "#     'graph_type': 'OSMNX',\n",
    "#     'location_graph': piedmont['location_graph']\n",
    "# }\n",
    "# osmnx_config_2 = {\n",
    "#     'graph_type': 'OSMNX',\n",
    "#     'location_graph': san_francisco['location_graph']\n",
    "# }\n",
    "\n",
    "# ox.plot_graph(piedmont['location_graph'])\n",
    "# ox.plot_graph(san_francisco['location_graph'])\n",
    "\n",
    "# part_config = {\n",
    "# \t'graph_type': 'PART',\n",
    "#     'p': 0.5,\n",
    "#     'size': 4,\n",
    "#     'eps': 0.1\n",
    "# },\n",
    "# part_config = {\n",
    "# \t'graph_type': 'PART',\n",
    "#     'p': 0.5,\n",
    "#     'size': 3,\n",
    "#     'eps': 0.3\n",
    "# }\n",
    "\n",
    "rng = np.random.default_rng()\n",
    "\n",
    "\n",
    "train_instances = [\n",
    "        *ig.sample_instances(8, 8, train_num, rng, **er_config),\n",
    "        *ig.sample_instances(8, 8, train_num, rng, **ba_config),\n",
    "        *ig.sample_instances(8, 8, train_num, rng, **feat_config),\n",
    "        # *ig.sample_instances(8, 8, train_num, rng, **osmnx_config),\n",
    "        # *ig.sample_instances(8, 8, train_num, rng, **osmnx_config_2),\n",
    "        # *ig.sample_instances(8, 8, train_num, rng, **feat_config),\n",
    "        # *ig.sample_instances(8, 8, train_num, rng, **part_config),\n",
    "    ]\n",
    "\n",
    "test_instances = [\n",
    "        *ig.sample_instances(8, 8, test_num, rng, **er_config),\n",
    "        *ig.sample_instances(8, 8, test_num, rng, **ba_config),\n",
    "        *ig.sample_instances(8, 8, train_num, rng, **feat_config),\n",
    "        # *ig.sample_instances(8, 8, train_num, rng, **osmnx_config),\n",
    "        # *ig.sample_instances(8, 8, train_num, rng, **osmnx_config_2),\n",
    "        # *ig.sample_instances(8, 8, train_num, rng, **feat_config),\n",
    "        # *ig.sample_instances(8, 8, train_num, rng, **part_config),\n",
    "    ]\n",
    "\n",
    "\n",
    "train_data = Dataset(tc._instances_to_train_samples(train_instances, args['head']))\n",
    "test_data = Dataset(tc._instances_to_train_samples(test_instances, args['head']))\n",
    "\n",
    "train_loader = DataLoader(\n",
    "    train_data,\n",
    "    batch_size=args['batch_size'],\n",
    "    shuffle=True,\n",
    "    num_workers=4\n",
    ")\n",
    "\n",
    "test_loader = DataLoader(\n",
    "    test_data,\n",
    "    batch_size=args['batch_size'],\n",
    "    shuffle=True,\n",
    "    num_workers=4\n",
    ")"
   ]
  },
  {
   "cell_type": "code",
   "execution_count": null,
   "metadata": {},
   "outputs": [],
   "source": [
    "_, _, _, GNN, _ = train(train_loader, test_loader, args)"
   ]
  },
  {
   "cell_type": "markdown",
   "metadata": {},
   "source": [
    "## Set up the threshold greedy value\n",
    "The instance set used to determine the threshold should be the same as the training set for the base models. Here we reduce the number of instances to make the evaluation faster.\n",
    "\n",
    "For the moment, the instance set is the evaluation set since they are too different and would disadvantage threshold greedy."
   ]
  },
  {
   "cell_type": "code",
   "execution_count": 13,
   "metadata": {},
   "outputs": [],
   "source": [
    "seed = np.random.randint(0, 500000)\n",
    "rng = np.random.default_rng(seed)\n",
    "\n",
    "\n",
    "thresholds = np.linspace(0, 1, 101)\n",
    "thresholded_greedy_models = {threshold: OBM_Threshold_Greedy(threshold) for threshold in thresholds}\n",
    "\n",
    "node_configs = util.node_configs_gnn2\n",
    "graph_configs = util.graph_configs_standard\n",
    "train_num = 5\n",
    "train_instances = [\n",
    "        ig.sample_instances(node_config[0], node_config[1], train_num, rng, args, **graph_config)\n",
    "        for graph_config in graph_configs\n",
    "        for node_config in node_configs\n",
    "]\n",
    "\n",
    "# flat map the train instances\n",
    "train_instances = [instance for instances in train_instances for instance in instances]\n"
   ]
  },
  {
   "cell_type": "code",
   "execution_count": 14,
   "metadata": {},
   "outputs": [
    {
     "name": "stderr",
     "output_type": "stream",
     "text": [
      "  0%|          | 0/101 [00:00<?, ?it/s]/usr/local/lib/python3.10/dist-packages/numpy/core/fromnumeric.py:3432: RuntimeWarning: Mean of empty slice.\n",
      "  return _methods._mean(a, axis=axis, dtype=dtype,\n",
      "/usr/local/lib/python3.10/dist-packages/numpy/core/_methods.py:190: RuntimeWarning: invalid value encountered in double_scalars\n",
      "  ret = ret.dtype.type(ret / rcount)\n",
      "100%|██████████| 101/101 [24:03<00:00, 14.29s/it]"
     ]
    },
    {
     "name": "stdout",
     "output_type": "stream",
     "text": [
      "Best threshold value: 0.35000000000000003 achieves CR: 0.2798586880504665\n"
     ]
    },
    {
     "name": "stderr",
     "output_type": "stream",
     "text": [
      "\n"
     ]
    }
   ],
   "source": [
    "from tqdm import tqdm\n",
    "import gnn_library.util as util\n",
    "\n",
    "greedy_ratios = {}\n",
    "for threshold, model in tqdm(thresholded_greedy_models.items()): \n",
    "    rng = np.random.default_rng(seed)\n",
    "    ratio, _ = ev.evaluate_model(\n",
    "        meta_model=None,\n",
    "        meta_model_type=None,\n",
    "        base_models=[model],\n",
    "        instances=train_instances,\n",
    "        batch_size=50,\n",
    "        rng=rng,\n",
    "        num_realizations=5\n",
    "    )\n",
    "    greedy_ratios[threshold] = np.mean(ratio['learned'])\n",
    "    \n",
    "\n",
    "max_threshold = max(greedy_ratios, key = greedy_ratios.get)\n",
    "print(f\"Best threshold value: {max_threshold} achieves CR: {greedy_ratios[max_threshold]}\")\n",
    "THRESHOLD_MODEL = thresholded_greedy_models[max_threshold]"
   ]
  },
  {
   "cell_type": "code",
   "execution_count": 16,
   "metadata": {},
   "outputs": [
    {
     "name": "stdout",
     "output_type": "stream",
     "text": [
      "{0.0: 0.991188005856922, 0.01: 0.991188005856922, 0.02: 0.991188005856922, 0.03: 0.991188005856922, 0.04: 0.991188005856922, 0.05: 0.991188005856922, 0.06: 0.991188005856922, 0.07: 0.991188005856922, 0.08: 0.991188005856922, 0.09: 0.991188005856922, 0.1: 0.991188005856922, 0.11: 0.991188005856922, 0.12: 0.991188005856922, 0.13: 0.991188005856922, 0.14: 0.991188005856922, 0.15: 0.991188005856922, 0.16: 0.991188005856922, 0.17: 0.991188005856922, 0.18: 0.991188005856922, 0.19: 0.991188005856922, 0.2: 0.991188005856922, 0.21: 0.991188005856922, 0.22: 0.991188005856922, 0.23: 0.991188005856922, 0.24: 0.991188005856922, 0.25: 0.9902019295044397, 0.26: 0.9902019295044397, 0.27: 0.9902019295044397, 0.28: 0.9902019295044397, 0.29: 0.9902019295044397, 0.3: 0.9902019295044397, 0.31: 0.9902019295044397, 0.32: 0.9902019295044397, 0.33: 0.9902019295044397, 0.34: 0.9902019295044397, 0.35000000000000003: 0.9902019295044397, 0.36: 0.9902019295044397, 0.37: 0.9902019295044397, 0.38: 0.9843320526626002, 0.39: 0.9843320526626002, 0.4: 0.9843320526626002, 0.41000000000000003: 0.9843320526626002, 0.42: 0.9843320526626002, 0.43: 0.9843320526626002, 0.44: 0.9843320526626002, 0.45: 0.9843320526626002, 0.46: 0.9843320526626002, 0.47000000000000003: 0.9843320526626002, 0.48: 0.9843320526626002, 0.49: 0.9843320526626002, 0.5: 0.9843320526626002, 0.51: 0.9843320526626002, 0.52: 0.9843320526626002, 0.53: 0.9843320526626002, 0.54: 0.979407312358734, 0.55: 0.979407312358734, 0.56: 0.979407312358734, 0.5700000000000001: 0.979407312358734, 0.58: 0.9734972553262986, 0.59: 0.9734972553262986, 0.6: 0.9707233178603174, 0.61: 0.9707233178603174, 0.62: 0.9676675166779131, 0.63: 0.9676675166779131, 0.64: 0.9676675166779131, 0.65: 0.9676675166779131, 0.66: 0.9617583187059224, 0.67: 0.9617583187059224, 0.68: 0.9617583187059224, 0.6900000000000001: 0.9617583187059224, 0.7000000000000001: 0.9429772336544191, 0.71: 0.9429772336544191, 0.72: 0.9429772336544191, 0.73: 0.9132090907880122, 0.74: 0.9132090907880122, 0.75: 0.9132090907880122, 0.76: 0.9057725702260783, 0.77: 0.9020783975943706, 0.78: 0.9020783975943706, 0.79: 0.8791015038485144, 0.8: 0.8791015038485144, 0.81: 0.8583653281443541, 0.8200000000000001: 0.8583653281443541, 0.8300000000000001: 0.853483085754162, 0.84: 0.831583286795548, 0.85: 0.8242552510840838, 0.86: 0.8158680470715142, 0.87: 0.8158680470715142, 0.88: 0.7915186446478388, 0.89: 0.7634139147463666, 0.9: 0.7527738342621577, 0.91: 0.7173243331561661, 0.92: 0.7173243331561661, 0.93: 0.7139044132628289, 0.9400000000000001: 0.6817667716926843, 0.9500000000000001: 0.6297126048856235, 0.96: 0.6137721359416153, 0.97: 0.5844409766467589, 0.98: 0.4887017839169906, 0.99: 0.4150992656041641, 1.0: 0.4}\n"
     ]
    }
   ],
   "source": [
    "print(greedy_ratios)"
   ]
  },
  {
   "cell_type": "markdown",
   "metadata": {},
   "source": [
    "## Evaluation"
   ]
  },
  {
   "cell_type": "code",
   "execution_count": null,
   "metadata": {},
   "outputs": [],
   "source": [
    "seed = np.random.randint(0, 500000)\n",
    "(m, n) = (32, 16)\n",
    "# config = {\n",
    "#     'graph_type': 'FEAT',\n",
    "#     'q': 0.85,\n",
    "#     'weighted': True\n",
    "# }\n",
    "# config = {\n",
    "#     'graph_type': 'OSMNX',\n",
    "#     'location_graph': piedmont['location_graph']\n",
    "# }\n",
    "# config = {\n",
    "# \t'graph_type': 'PART',\n",
    "#     'p': 0.5,\n",
    "#     'size': 4,\n",
    "#     'eps': 0.1\n",
    "# }\n",
    "\n",
    "rng = np.random.default_rng(seed)\n",
    "# eval_instances = ig.sample_instances(m, n, 100, rng, **config)\n",
    "eval_num = 25\n",
    "eval_instances = [\n",
    "        *ig.sample_instances(m, n, eval_num, rng, **er_config),\n",
    "        *ig.sample_instances(m, n, eval_num, rng, **ba_config),\n",
    "        *ig.sample_instances(m, n, eval_num, rng, **feat_config),\n",
    "        *ig.sample_instances(m, n, eval_num, rng, **osmnx_config),\n",
    "]\n",
    "\n",
    "ratios = ev.evaluate_model(\n",
    "    meta_model=None,\n",
    "    meta_model_type=None,\n",
    "    base_models=[GNN],\n",
    "    instances=eval_instances,\n",
    "    batch_size=50,\n",
    "    rng=rng,\n",
    "    num_realizations=5\n",
    ")\n",
    "\n",
    "\n",
    "ratios2 = ev.evaluate_model(\n",
    "    meta_model=None,\n",
    "    meta_model_type=None,\n",
    "    base_models=[THRESHOLD_MODEL],\n",
    "    instances=eval_instances,\n",
    "    batch_size=50,\n",
    "    rng=rng,\n",
    "    num_realizations=5\n",
    ")\n",
    "\n",
    "pp_output(ratios, _, show_log=False)\n",
    "print(f\"Thresholded greedy: {np.mean(ratios2[0]).round(4)}\")\n"
   ]
  },
  {
   "cell_type": "markdown",
   "metadata": {},
   "source": [
    "## Box plot baseline evaluation"
   ]
  },
  {
   "cell_type": "code",
   "execution_count": 10,
   "metadata": {},
   "outputs": [],
   "source": [
    "GNN, args = load('GNN2_hyperparam_tuned', device)\n",
    "GNN_classify, _ = load('GNN2_classification_hyperparam_tuned', device)"
   ]
  },
  {
   "cell_type": "code",
   "execution_count": 25,
   "metadata": {},
   "outputs": [
    {
     "name": "stdout",
     "output_type": "stream",
     "text": [
      "{'graph_type': 'ER', 'p': 0.25, 'weighted': True}\n"
     ]
    },
    {
     "name": "stderr",
     "output_type": "stream",
     "text": [
      "/usr/local/lib/python3.10/dist-packages/numpy/core/fromnumeric.py:3432: RuntimeWarning: Mean of empty slice.\n",
      "  return _methods._mean(a, axis=axis, dtype=dtype,\n",
      "/usr/local/lib/python3.10/dist-packages/numpy/core/_methods.py:190: RuntimeWarning: invalid value encountered in double_scalars\n",
      "  ret = ret.dtype.type(ret / rcount)\n"
     ]
    },
    {
     "name": "stdout",
     "output_type": "stream",
     "text": [
      "{'graph_type': 'ER', 'p': 0.5, 'weighted': True}\n"
     ]
    },
    {
     "name": "stderr",
     "output_type": "stream",
     "text": [
      "/home/alexhay/GNN-OBM/algorithms.py:257: RuntimeWarning: invalid value encountered in divide\n",
      "  proposal_probs = x / denom_matrix\n"
     ]
    },
    {
     "name": "stdout",
     "output_type": "stream",
     "text": [
      "{'graph_type': 'ER', 'p': 0.75, 'weighted': True}\n",
      "{'graph_type': 'BA', 'ba_param': 4, 'weighted': True}\n",
      "{'graph_type': 'BA', 'ba_param': 6, 'weighted': True}\n",
      "{'graph_type': 'BA', 'ba_param': 8, 'weighted': True}\n",
      "{'graph_type': 'GEOM', 'q': 0.15, 'd': 2, 'weighted': True}\n",
      "{'graph_type': 'GEOM', 'q': 0.25, 'd': 2, 'weighted': True}\n",
      "{'graph_type': 'GEOM', 'q': 0.5, 'd': 2, 'weighted': True}\n",
      "{'graph_type': 'OSMNX', 'location': 'Piedmont, California, USA'}\n",
      "{'graph_type': 'OSMNX', 'location': 'Fremont, California, USA'}\n",
      "{'graph_type': 'GM'}\n"
     ]
    },
    {
     "name": "stderr",
     "output_type": "stream",
     "text": [
      "/usr/local/lib/python3.10/dist-packages/numpy/core/fromnumeric.py:3432: RuntimeWarning: Mean of empty slice.\n",
      "  return _methods._mean(a, axis=axis, dtype=dtype,\n",
      "/usr/local/lib/python3.10/dist-packages/numpy/core/_methods.py:190: RuntimeWarning: invalid value encountered in double_scalars\n",
      "  ret = ret.dtype.type(ret / rcount)\n"
     ]
    }
   ],
   "source": [
    "import gnn_library.util as util\n",
    "import pickle\n",
    "\n",
    "num_trials = 100\n",
    "threshold = 0.35 # TODO set up value\n",
    "batch_size = 500 #[int(min(32, x + y)) for (x, y) in node_configs]\n",
    "\n",
    "models = [(\"GNN\", GNN)]\n",
    "t_greedy = OBM_Threshold_Greedy(threshold) \n",
    "\n",
    "node_configs = util.node_configs_gnn\n",
    "graph_configs = util.graph_configs_standard\n",
    "\n",
    "data = {node_config: {} for node_config in node_configs}\n",
    "\n",
    "for node_config in node_configs:\n",
    "    for graph_config in graph_configs:\n",
    "            print(graph_config)\n",
    "            seed = np.random.randint(0, 500000)\n",
    "            rng = np.random.default_rng(seed)\n",
    "            instances = ig.sample_instances(*node_config, num_trials, rng, args, **graph_config)\n",
    "\n",
    "\n",
    "            rng = np.random.default_rng(seed)\n",
    "\n",
    "            for model_name, model in models:\n",
    "                cr_ratios, _ = evaluate_model(\n",
    "                    meta_model=None,\n",
    "                    meta_model_type=None,\n",
    "                    base_models=[model],\n",
    "                    instances=instances,\n",
    "                    batch_size=batch_size,\n",
    "                    rng=rng,\n",
    "                    num_realizations=5,\n",
    "                    baselines=['greedy', 'lp_rounding'],\n",
    "                )\n",
    "\n",
    "                data[node_config][frozenset(graph_config.items())] = cr_ratios\n",
    "\n",
    "                t_greedy_ratio, _ = evaluate_model(\n",
    "                    meta_model=None,\n",
    "                    meta_model_type=None,\n",
    "                    base_models=[t_greedy],\n",
    "                    instances=instances,\n",
    "                    batch_size=batch_size,\n",
    "                    rng=rng,\n",
    "                    num_realizations=5,\n",
    "                )\n",
    "\n",
    "                # Threshold greedy is considered as a model here\n",
    "                data[node_config][frozenset(graph_config.items())]['threshold_greedy'] = t_greedy_ratio['learned']\n",
    "\n",
    "                classify_ratio, _ = evaluate_model(\n",
    "                    meta_model=None,\n",
    "                    meta_model_type=None,\n",
    "                    base_models=[GNN_classify],\n",
    "                    instances=instances,\n",
    "                    batch_size=batch_size,\n",
    "                    rng=rng,\n",
    "                    num_realizations=5,\n",
    "                )\n",
    "\n",
    "                # Threshold greedy is considered as a model here\n",
    "                data[node_config][frozenset(graph_config.items())]['classify'] = classify_ratio['learned']\n",
    "                \n",
    "                with open(f\"saved_runs/temp_classify/box_plot_regress_classify_eval_gnn2_base.pickle\", 'wb') as handle:\n",
    "                    pickle.dump(data, handle, protocol=pickle.HIGHEST_PROTOCOL)\n"
   ]
  },
  {
   "cell_type": "code",
   "execution_count": 26,
   "metadata": {},
   "outputs": [],
   "source": [
    "import pickle\n",
    "\n",
    "with open(f\"saved_runs/box_plot_regression_eval_gnn2_base.pickle\", 'wb') as handle:\n",
    "    pickle.dump(data, handle, protocol=pickle.HIGHEST_PROTOCOL)"
   ]
  },
  {
   "cell_type": "code",
   "execution_count": 5,
   "metadata": {},
   "outputs": [],
   "source": [
    "import pickle\n",
    "import gnn_library.util as util\n",
    "with open(f'saved_runs/box_plot_regression_eval_gnn2_base.pickle', 'rb') as handle:\n",
    "    data_copy = pickle.load(handle)"
   ]
  },
  {
   "cell_type": "code",
   "execution_count": 6,
   "metadata": {},
   "outputs": [
    {
     "name": "stdout",
     "output_type": "stream",
     "text": [
      "dict_keys([frozenset({('graph_type', 'ER'), ('weighted', True), ('p', 0.5)}), frozenset({('d', 2), ('graph_type', 'GEOM'), ('weighted', True), ('q', 0.25)}), frozenset({('graph_type', 'OSMNX'), ('location', 'Fremont, California, USA')}), frozenset({('graph_type', 'GM')})])\n"
     ]
    }
   ],
   "source": [
    "filtered_data = {}\n",
    "for graph_type, val in data_copy[util.node_configs_gnn[0]].items():\n",
    "\tif dict(graph_type) in util.graph_configs_main:\n",
    "\t\tfiltered_data[graph_type] = val\n",
    "print(filtered_data.keys())"
   ]
  },
  {
   "cell_type": "code",
   "execution_count": 19,
   "metadata": {},
   "outputs": [
    {
     "data": {
      "image/png": "[encoded data removed]",
      "text/plain": [
       "<Figure size 864x216 with 5 Axes>"
      ]
     },
     "metadata": {
      "needs_background": "light"
     },
     "output_type": "display_data"
    }
   ],
   "source": [
    "from util import _box_plots\n",
    "_box_plots(filtered_data, lambda graph_type: f\"GNN2_classify_{graph_type} {node_config[1]}x{node_config[0]}\")"
   ]
  },
  {
   "cell_type": "markdown",
   "metadata": {},
   "source": [
    "### Baseline ER/BA/GEOM evaluation"
   ]
  },
  {
   "cell_type": "code",
   "execution_count": 24,
   "metadata": {},
   "outputs": [],
   "source": [
    "GNN1, args = load(\"GNN1_hyperparam_tuned\", device)\n",
    "GNN2, _ = load(\"GNN2_regression_hyperparam_tuned\", device)\n",
    "args = args.__dict__"
   ]
  },
  {
   "cell_type": "code",
   "execution_count": 34,
   "metadata": {},
   "outputs": [
    {
     "name": "stdout",
     "output_type": "stream",
     "text": [
      "[0.5, 0.75, 1.0, 1.25, 1.5, 1.75, 2.0, 2.25, 2.5, 2.75, 3.0, 3.25, 3.5, 3.75, 4.0]\n",
      "{'graph_type': 'ER', 'p': 0.75, 'weighted': True} (8, 16)\n"
     ]
    },
    {
     "name": "stderr",
     "output_type": "stream",
     "text": [
      "/usr/local/lib/python3.10/dist-packages/numpy/core/fromnumeric.py:3432: RuntimeWarning: Mean of empty slice.\n",
      "  return _methods._mean(a, axis=axis, dtype=dtype,\n",
      "/usr/local/lib/python3.10/dist-packages/numpy/core/_methods.py:190: RuntimeWarning: invalid value encountered in double_scalars\n",
      "  ret = ret.dtype.type(ret / rcount)\n"
     ]
    },
    {
     "name": "stdout",
     "output_type": "stream",
     "text": [
      "{'GNN1': array([1.        , 1.        , 1.        , 0.9935445 , 1.        ,\n",
      "       0.98954762, 0.94722625, 0.98970714, 0.99901968, 1.        ,\n",
      "       0.99244456, 0.98381396, 0.99272661, 0.98992065, 0.99652307,\n",
      "       1.        , 0.97812211, 0.99267467, 0.99789134, 1.        ,\n",
      "       1.        , 0.98542265, 0.99281464, 0.99610756, 0.98281964,\n",
      "       0.99882653, 0.98424541, 1.        , 0.9830664 , 0.99064163,\n",
      "       0.9807594 , 0.9993503 , 0.99985967, 0.98050466, 0.98991873,\n",
      "       0.9996859 , 1.        , 0.98664614, 0.9998382 , 0.99258103,\n",
      "       0.99534306, 1.        , 0.98284249, 0.99720087, 0.97980065,\n",
      "       0.99132787, 0.99298425, 0.98844096, 0.95681234, 0.97878369]), 'GNN2': array([0.98453208, 0.99564218, 0.9833222 , 0.98699829, 1.        ,\n",
      "       0.98496943, 0.95479224, 0.95086543, 0.95879837, 0.98306121,\n",
      "       0.96003596, 0.95631233, 0.99967184, 0.99515042, 0.98440117,\n",
      "       0.96409056, 0.96964819, 0.96993413, 0.95412847, 0.98538027,\n",
      "       0.9839148 , 0.97522329, 0.9699205 , 0.99551127, 0.99677058,\n",
      "       0.99977119, 0.9993654 , 0.99504679, 0.98615898, 0.97863461,\n",
      "       0.97225823, 0.98990234, 0.99364201, 0.97182661, 0.95153219,\n",
      "       0.97077   , 0.97355077, 1.        , 0.99595228, 0.97262653,\n",
      "       0.96770298, 0.99054225, 0.99813948, 0.98210858, 0.98018885,\n",
      "       0.99569021, 0.99130005, 0.96559436, 0.97441955, 1.        ])}\n",
      "{'graph_type': 'ER', 'p': 0.75, 'weighted': True} (12, 16)\n",
      "{'GNN1': array([0.96574176, 0.99161576, 0.97901768, 0.98616393, 0.95261753,\n",
      "       0.98905376, 0.9941415 , 0.95885698, 0.98479141, 0.98844822,\n",
      "       0.99780331, 0.99594898, 0.99502534, 0.99543768, 0.99487944,\n",
      "       0.97864729, 0.98987255, 0.99417733, 0.97153954, 0.99100168,\n",
      "       0.98279946, 0.99328734, 0.97142647, 0.99643121, 0.96244757,\n",
      "       0.92695693, 0.98379994, 0.98622647, 0.9792923 , 0.98357508,\n",
      "       0.98720485, 0.9907512 , 0.9701328 , 0.97722413, 0.98378507,\n",
      "       0.99364288, 0.96922591, 0.96814631, 0.99829847, 0.98639869,\n",
      "       0.99506396, 0.9803205 , 0.99332701, 0.98242646, 1.        ,\n",
      "       0.98000235, 0.97751723, 0.98054975, 0.99837599, 0.99648316]), 'GNN2': array([0.96280537, 0.96577507, 0.98413395, 0.99396968, 0.98484654,\n",
      "       0.96696337, 0.98765677, 0.99132808, 0.97835402, 0.97706848,\n",
      "       0.91895922, 0.949926  , 0.99520496, 0.99327545, 0.97112116,\n",
      "       0.95979498, 0.95945821, 0.97107706, 0.95365368, 0.942355  ,\n",
      "       0.9329191 , 0.97876625, 0.96274633, 0.98886129, 0.95150563,\n",
      "       0.96595329, 0.968186  , 0.97738899, 0.95263096, 0.98403048,\n",
      "       0.98417152, 0.93495582, 0.9859378 , 0.95999257, 0.96462919,\n",
      "       0.97299387, 0.94594063, 0.95182748, 0.96676153, 0.98818866,\n",
      "       0.96827001, 0.94941629, 0.98313706, 0.98757699, 0.96841538,\n",
      "       0.94948906, 0.98016664, 0.98102503, 0.98436212, 0.97996908])}\n",
      "{'graph_type': 'ER', 'p': 0.75, 'weighted': True} (16, 16)\n",
      "{'GNN1': array([0.98619222, 0.98565226, 0.98688772, 0.9847381 , 0.9910823 ,\n",
      "       0.9895758 , 0.93890358, 0.99176523, 0.99453896, 0.98860967,\n",
      "       0.97810408, 0.98299276, 0.97905734, 0.98948237, 0.98220648,\n",
      "       0.99122457, 0.98325409, 0.99610151, 0.98206078, 0.98018998,\n",
      "       0.98907889, 0.98696808, 0.98178467, 0.9929806 , 0.99158681,\n",
      "       0.99568285, 0.99024216, 0.98207926, 0.97313743, 0.98386858,\n",
      "       0.98010092, 0.98067348, 0.98508361, 0.98730253, 0.9773196 ,\n",
      "       0.98902276, 0.9966646 , 0.99124288, 0.99676358, 0.97832189,\n",
      "       0.98193845, 0.99504815, 0.99275888, 0.97653613, 0.96866638,\n",
      "       0.98741935, 0.98196913, 0.98291994, 0.99702221, 0.98109995]), 'GNN2': array([0.96834517, 0.94913622, 0.93692755, 0.97449091, 0.98880275,\n",
      "       0.95084985, 0.96187503, 0.99820201, 0.98905367, 0.97566722,\n",
      "       0.98115901, 0.98224097, 0.97182439, 0.97420346, 0.98413874,\n",
      "       0.97940555, 0.97097555, 0.97801192, 0.95616598, 0.97615467,\n",
      "       0.97701722, 0.97196816, 0.95335107, 0.99214879, 0.9790302 ,\n",
      "       0.97539462, 0.95594611, 0.96751283, 0.9796345 , 0.95814809,\n",
      "       0.95671431, 0.93469502, 0.96814408, 0.97890973, 0.9557375 ,\n",
      "       0.99041219, 0.98254861, 0.97630304, 0.98441455, 0.94258082,\n",
      "       0.96585688, 0.98118893, 0.9605969 , 0.97798337, 0.98922676,\n",
      "       0.99125714, 0.96213539, 0.95888007, 0.97460277, 0.98031496])}\n",
      "{'graph_type': 'ER', 'p': 0.75, 'weighted': True} (20, 16)\n",
      "{'GNN1': array([0.98204182, 0.97521209, 0.97430463, 0.968243  , 0.98385736,\n",
      "       0.98463811, 0.98577786, 0.98916063, 0.98383106, 0.99578253,\n",
      "       0.98596786, 0.97646917, 0.98104035, 0.97109169, 0.96668704,\n",
      "       0.98102762, 0.98341767, 0.9821931 , 0.96757261, 0.97706509,\n",
      "       0.97480305, 0.96070832, 0.97263521, 0.98970143, 0.99839886,\n",
      "       0.98345372, 0.97964711, 0.98994589, 0.98754019, 0.97455857,\n",
      "       0.9806605 , 0.96708851, 0.97332674, 0.99097195, 0.98478328,\n",
      "       0.98743082, 0.97047501, 0.97877032, 0.96927429, 0.97803116,\n",
      "       0.97648781, 0.98786596, 0.97052842, 0.97262487, 0.98833576,\n",
      "       0.97833738, 0.98548977, 0.97108733, 0.97469542, 0.98079547]), 'GNN2': array([0.91847742, 0.94999511, 0.97518521, 0.97194701, 0.97661396,\n",
      "       0.98999057, 0.96835362, 0.96545888, 0.96508815, 0.98448099,\n",
      "       0.96132453, 0.94358297, 0.97011313, 0.98968007, 0.94283377,\n",
      "       0.96511957, 0.96912369, 0.97542009, 0.95112916, 0.96438314,\n",
      "       0.97730783, 0.97353864, 0.97078564, 0.97953043, 0.99982838,\n",
      "       0.952057  , 0.9699558 , 0.96911265, 0.97027896, 0.96383633,\n",
      "       0.96967421, 0.96021861, 0.96013985, 0.98362386, 0.96379999,\n",
      "       0.97364499, 0.99629839, 0.97172801, 0.96848582, 0.97311623,\n",
      "       0.9666836 , 0.99245103, 0.96156151, 0.97963792, 0.97590795,\n",
      "       0.98486869, 0.97843473, 0.97077404, 0.9844758 , 0.97510764])}\n",
      "{'graph_type': 'ER', 'p': 0.75, 'weighted': True} (24, 16)\n",
      "{'GNN1': array([0.95591441, 0.97722093, 0.97909655, 0.93421976, 0.98102042,\n",
      "       0.97667258, 0.97122185, 0.9717714 , 0.99387306, 0.98236374,\n",
      "       0.97506571, 0.98134564, 0.96266488, 0.95199234, 0.98040306,\n",
      "       0.96933131, 0.9804663 , 0.96571152, 0.97442732, 0.97731432,\n",
      "       0.96613522, 0.97803327, 0.97683166, 0.96059533, 0.93154072,\n",
      "       0.98039451, 0.97160582, 0.97876508, 0.98886527, 0.97111172,\n",
      "       0.96219524, 0.97009385, 0.97677172, 0.97390213, 0.96789182,\n",
      "       0.9739836 , 0.98901131, 0.95440653, 0.96289301, 0.9404206 ,\n",
      "       0.98866535, 0.98083785, 0.98100931, 0.92534444, 0.9612342 ,\n",
      "       0.98873684, 0.99529373, 0.98356734, 0.96885614, 0.97737518]), 'GNN2': array([0.95384901, 0.97022003, 0.9763365 , 0.95148486, 0.98543815,\n",
      "       0.96906382, 0.9611779 , 0.97138008, 0.96903527, 0.99621043,\n",
      "       0.9676821 , 0.96967607, 0.97025879, 0.96082352, 0.97655302,\n",
      "       0.97072136, 0.97419118, 0.97427559, 0.94607723, 0.96403538,\n",
      "       0.98059386, 0.9684212 , 0.98180395, 0.94585024, 0.97222137,\n",
      "       0.96356611, 0.96312623, 0.98023779, 0.98301777, 0.94986609,\n",
      "       0.94376004, 0.97598727, 0.96470594, 0.97860926, 0.96439282,\n",
      "       0.97629756, 0.96401312, 0.95666307, 0.97444771, 0.94873768,\n",
      "       0.97326797, 0.9858055 , 0.94636338, 0.96833666, 0.93364729,\n",
      "       0.9609843 , 0.97607309, 0.98165901, 0.97967698, 0.97288509])}\n",
      "{'graph_type': 'ER', 'p': 0.75, 'weighted': True} (28, 16)\n",
      "{'GNN1': array([0.96006518, 0.96830947, 0.94022073, 0.92942364, 0.97980573,\n",
      "       0.97517099, 0.93841269, 0.95336182, 0.98401569, 0.94992308,\n",
      "       0.95358186, 0.95557663, 0.97353807, 0.91240223, 0.93637448,\n",
      "       0.96383869, 0.98237262, 0.97330062, 0.96436769, 0.95467835,\n",
      "       0.938573  , 0.9221702 , 0.97385231, 0.93424248, 0.95129253,\n",
      "       0.9494441 , 0.98414724, 0.93044007, 0.93371141, 0.96094323,\n",
      "       0.96092013, 0.95975555, 0.91740387, 0.92959158, 0.93783345,\n",
      "       0.97394947, 0.97392988, 0.95553525, 0.9580321 , 0.97552324,\n",
      "       0.94580159, 0.97822279, 0.98994524, 0.95400561, 0.96747164,\n",
      "       0.93312986, 0.9638867 , 0.95408059, 0.95188332, 0.94036376]), 'GNN2': array([0.96290124, 0.96344803, 0.9521682 , 0.98452324, 0.96607109,\n",
      "       0.9595313 , 0.97164816, 0.93845911, 0.98338751, 0.94982286,\n",
      "       0.95141889, 0.96400246, 0.96913075, 0.96009939, 0.96238533,\n",
      "       0.93345222, 0.98552697, 0.97719886, 0.95554645, 0.97202614,\n",
      "       0.96337484, 0.96627061, 0.95628739, 0.95973101, 0.97323164,\n",
      "       0.96733625, 0.96256117, 0.97252913, 0.94997932, 0.97028345,\n",
      "       0.9549278 , 0.94645326, 0.96566837, 0.92694333, 0.96293985,\n",
      "       0.95613515, 0.97148199, 0.9613915 , 0.96735487, 0.97075583,\n",
      "       0.9581307 , 0.94958117, 0.95782011, 0.96191347, 0.94260899,\n",
      "       0.95295892, 0.9670853 , 0.96343777, 0.97234965, 0.9683389 ])}\n",
      "{'graph_type': 'ER', 'p': 0.75, 'weighted': True} (32, 16)\n",
      "{'GNN1': array([0.94058385, 0.96227898, 0.97118586, 0.93641078, 0.90693513,\n",
      "       0.94304851, 0.91040894, 0.93743059, 0.90789989, 0.92030005,\n",
      "       0.9437738 , 0.90315988, 0.93789897, 0.93613221, 0.91264093,\n",
      "       0.93517757, 0.95825782, 0.89931889, 0.93077477, 0.97169204,\n",
      "       0.89522999, 0.94154484, 0.93297242, 0.945618  , 0.89643834,\n",
      "       0.92927084, 0.95921246, 0.95057177, 0.95756198, 0.91721855,\n",
      "       0.89203771, 0.90471794, 0.93434756, 0.97820479, 0.9540343 ,\n",
      "       0.93987066, 0.93167417, 0.88925298, 0.92781043, 0.93714648,\n",
      "       0.96512814, 0.93793189, 0.94753992, 0.93278738, 0.94151754,\n",
      "       0.91056462, 0.93142961, 0.93918736, 0.90165602, 0.96928233]), 'GNN2': array([0.94349924, 0.97499033, 0.93614926, 0.93472149, 0.9204411 ,\n",
      "       0.92743009, 0.96055461, 0.93254336, 0.94921507, 0.96275759,\n",
      "       0.94347145, 0.96098723, 0.94715876, 0.93776749, 0.96931269,\n",
      "       0.95385062, 0.93548162, 0.94579455, 0.96338263, 0.97042933,\n",
      "       0.94273456, 0.97132727, 0.96950144, 0.95541367, 0.95843953,\n",
      "       0.93352197, 0.96316148, 0.95673646, 0.94228689, 0.9337238 ,\n",
      "       0.92429106, 0.95161504, 0.93074044, 0.96645133, 0.89140801,\n",
      "       0.91669912, 0.94790328, 0.92900121, 0.92506974, 0.94755007,\n",
      "       0.930531  , 0.96595057, 0.96739574, 0.94458431, 0.9608825 ,\n",
      "       0.96361451, 0.94983033, 0.93718415, 0.9594922 , 0.95159167])}\n",
      "{'graph_type': 'ER', 'p': 0.75, 'weighted': True} (36, 16)\n",
      "{'GNN1': array([0.86320324, 0.94688553, 0.91331409, 0.91014527, 0.87681478,\n",
      "       0.93915047, 0.88484862, 0.92215352, 0.90350573, 0.9290546 ,\n",
      "       0.94655286, 0.94416159, 0.91506584, 0.92781828, 0.84711062,\n",
      "       0.9277542 , 0.91033965, 0.92326011, 0.93349684, 0.92380556,\n",
      "       0.87979669, 0.95828528, 0.88803562, 0.95356507, 0.89569342,\n",
      "       0.9464375 , 0.91434981, 0.95920841, 0.8537845 , 0.91041401,\n",
      "       0.91868399, 0.91954812, 0.90892772, 0.90805989, 0.87053902,\n",
      "       0.93716756, 0.89541196, 0.98167269, 0.87675778, 0.94985334,\n",
      "       0.93639393, 0.94650036, 0.92323352, 0.95157834, 0.9135433 ,\n",
      "       0.9342553 , 0.91703179, 0.95501477, 0.93155398, 0.90773477]), 'GNN2': array([0.93901247, 0.97688669, 0.93476921, 0.94824916, 0.91953836,\n",
      "       0.95875872, 0.91848595, 0.93640015, 0.94373299, 0.94478317,\n",
      "       0.9587908 , 0.94513711, 0.95717288, 0.97073117, 0.93516072,\n",
      "       0.95927814, 0.94748828, 0.92713422, 0.93956525, 0.94210378,\n",
      "       0.92880155, 0.95783587, 0.92973623, 0.94388021, 0.95334532,\n",
      "       0.9260219 , 0.9562266 , 0.96432248, 0.95911477, 0.9468124 ,\n",
      "       0.95731954, 0.92841307, 0.9109173 , 0.94767997, 0.95687774,\n",
      "       0.9290657 , 0.90475966, 0.96915015, 0.93338631, 0.97240794,\n",
      "       0.95045246, 0.96984114, 0.95602079, 0.94243343, 0.97039667,\n",
      "       0.95406637, 0.95031427, 0.94258669, 0.96344344, 0.93215793])}\n",
      "{'graph_type': 'ER', 'p': 0.75, 'weighted': True} (40, 16)\n",
      "{'GNN1': array([0.85831794, 0.8852877 , 0.89551491, 0.92932294, 0.9139893 ,\n",
      "       0.90907731, 0.92076398, 0.89920537, 0.88383882, 0.91955416,\n",
      "       0.90225115, 0.93307431, 0.8530107 , 0.94191313, 0.94360774,\n",
      "       0.87541954, 0.88667985, 0.88221352, 0.87140966, 0.8564571 ,\n",
      "       0.87171147, 0.90760175, 0.90897946, 0.88994461, 0.91574617,\n",
      "       0.90907445, 0.88670844, 0.89820407, 0.85276757, 0.90276475,\n",
      "       0.91964501, 0.9153604 , 0.89752632, 0.89708044, 0.89480423,\n",
      "       0.89590562, 0.91710181, 0.89411587, 0.91776347, 0.82853984,\n",
      "       0.92657544, 0.91199869, 0.90126696, 0.92335404, 0.90294185,\n",
      "       0.91343084, 0.8922129 , 0.88557454, 0.87916112, 0.87480784]), 'GNN2': array([0.96431668, 0.93028796, 0.91596934, 0.95947421, 0.95825016,\n",
      "       0.95353836, 0.94488699, 0.92952036, 0.92150958, 0.96310932,\n",
      "       0.92034349, 0.93366624, 0.91719289, 0.94340394, 0.96122096,\n",
      "       0.94032353, 0.95934898, 0.92231727, 0.91043164, 0.93532263,\n",
      "       0.92398293, 0.91690433, 0.95248212, 0.94339607, 0.9401581 ,\n",
      "       0.94492038, 0.92427099, 0.94590626, 0.92738174, 0.94211429,\n",
      "       0.95333647, 0.95554867, 0.95183773, 0.931149  , 0.92747844,\n",
      "       0.93591765, 0.93673912, 0.93928093, 0.95837241, 0.93120321,\n",
      "       0.9630193 , 0.90789061, 0.93400397, 0.95545548, 0.94183018,\n",
      "       0.92004262, 0.94177842, 0.95554092, 0.91682299, 0.92872891])}\n",
      "{'graph_type': 'ER', 'p': 0.75, 'weighted': True} (44, 16)\n",
      "{'GNN1': array([0.8700416 , 0.91769   , 0.88848871, 0.87776307, 0.86855645,\n",
      "       0.89688184, 0.8288335 , 0.91788555, 0.91919168, 0.91149884,\n",
      "       0.90141695, 0.90962   , 0.92744818, 0.88349918, 0.84824109,\n",
      "       0.8936099 , 0.87617367, 0.84240247, 0.86617441, 0.87145191,\n",
      "       0.9167739 , 0.89832254, 0.86568555, 0.85483582, 0.89048852,\n",
      "       0.95586814, 0.88629326, 0.91388105, 0.85696749, 0.92128338,\n",
      "       0.90988288, 0.90905736, 0.93690835, 0.89202365, 0.86914739,\n",
      "       0.88825293, 0.82538809, 0.87857237, 0.90166512, 0.9132687 ,\n",
      "       0.89455497, 0.89604414, 0.88053202, 0.88271703, 0.92609478,\n",
      "       0.88390181, 0.86778506, 0.8889709 , 0.88605539, 0.85557417]), 'GNN2': array([0.95730156, 0.93488557, 0.94348618, 0.94862586, 0.94362303,\n",
      "       0.95193618, 0.93714061, 0.9515693 , 0.95581628, 0.95936875,\n",
      "       0.95606827, 0.94691451, 0.94838003, 0.94935302, 0.94175956,\n",
      "       0.93695846, 0.93726556, 0.95189834, 0.94186389, 0.91255759,\n",
      "       0.95842459, 0.95734117, 0.9419356 , 0.92707323, 0.94420109,\n",
      "       0.95222579, 0.94982602, 0.91439773, 0.92759624, 0.90591581,\n",
      "       0.95262448, 0.9260957 , 0.95818798, 0.94751367, 0.94059859,\n",
      "       0.95912214, 0.92868157, 0.92146633, 0.89228872, 0.92693776,\n",
      "       0.93342368, 0.9275008 , 0.93249396, 0.94423653, 0.92390615,\n",
      "       0.92167988, 0.94045781, 0.96365629, 0.95139987, 0.92995788])}\n",
      "{'graph_type': 'ER', 'p': 0.75, 'weighted': True} (48, 16)\n",
      "{'GNN1': array([0.88549539, 0.86806072, 0.91965065, 0.89335321, 0.86816174,\n",
      "       0.87436624, 0.8880401 , 0.88323589, 0.84069868, 0.84439159,\n",
      "       0.90103796, 0.89014034, 0.88423073, 0.85905755, 0.87897921,\n",
      "       0.90192102, 0.85995335, 0.88296435, 0.89161718, 0.84958931,\n",
      "       0.83887163, 0.92244722, 0.85075598, 0.8374751 , 0.88934042,\n",
      "       0.88592804, 0.86892844, 0.89331074, 0.86754316, 0.92294766,\n",
      "       0.86934427, 0.90523757, 0.87940833, 0.84920314, 0.90756655,\n",
      "       0.89685874, 0.87989417, 0.87099059, 0.90343981, 0.8595172 ,\n",
      "       0.8679155 , 0.90269031, 0.87294954, 0.87807042, 0.85310631,\n",
      "       0.89979079, 0.85958515, 0.89928413, 0.85208124, 0.87845151]), 'GNN2': array([0.95886188, 0.94782587, 0.93517435, 0.94658205, 0.94235224,\n",
      "       0.90357634, 0.96534599, 0.92415753, 0.93113117, 0.94191784,\n",
      "       0.96195764, 0.93398279, 0.92610883, 0.93862351, 0.95289903,\n",
      "       0.95537007, 0.94087102, 0.92842719, 0.91408555, 0.93376863,\n",
      "       0.91952742, 0.94323449, 0.90881645, 0.93942724, 0.94335733,\n",
      "       0.92089913, 0.94340193, 0.93848602, 0.91036999, 0.94435841,\n",
      "       0.94576357, 0.95640355, 0.94078765, 0.92669782, 0.93786895,\n",
      "       0.92963334, 0.93081923, 0.90907708, 0.93617302, 0.91306673,\n",
      "       0.94148966, 0.94400306, 0.96212587, 0.90790075, 0.92105687,\n",
      "       0.92489983, 0.9361201 , 0.91642513, 0.91980422, 0.93981041])}\n",
      "{'graph_type': 'ER', 'p': 0.75, 'weighted': True} (52, 16)\n",
      "{'GNN1': array([0.90742126, 0.87423917, 0.89219187, 0.87751117, 0.8509707 ,\n",
      "       0.87237504, 0.87231178, 0.86805786, 0.87161616, 0.85731597,\n",
      "       0.86140325, 0.87628697, 0.82690956, 0.86419419, 0.88524554,\n",
      "       0.82932275, 0.85470057, 0.83534138, 0.85689962, 0.88268851,\n",
      "       0.8693217 , 0.91149951, 0.90602461, 0.8741373 , 0.87720188,\n",
      "       0.85703918, 0.90066185, 0.89298369, 0.85834194, 0.86120918,\n",
      "       0.845044  , 0.84411397, 0.8855273 , 0.84431045, 0.87735886,\n",
      "       0.84745608, 0.86383559, 0.89483906, 0.83948866, 0.85942635,\n",
      "       0.8344758 , 0.85072433, 0.83087068, 0.84108705, 0.8710231 ,\n",
      "       0.8928807 , 0.88491498, 0.85982945, 0.86877733, 0.85222486]), 'GNN2': array([0.91768468, 0.9280217 , 0.93269444, 0.9604343 , 0.94615687,\n",
      "       0.94567625, 0.94992696, 0.901629  , 0.92186602, 0.9241592 ,\n",
      "       0.94548299, 0.93418593, 0.92979296, 0.93181835, 0.94994134,\n",
      "       0.92909046, 0.94296058, 0.91771689, 0.94181856, 0.92873476,\n",
      "       0.94534899, 0.93407375, 0.9361287 , 0.94101938, 0.95290527,\n",
      "       0.93422288, 0.93502822, 0.92752788, 0.92699731, 0.95343131,\n",
      "       0.93451615, 0.91003636, 0.95101724, 0.91993032, 0.90929371,\n",
      "       0.89859379, 0.93430026, 0.93256381, 0.92264489, 0.91205287,\n",
      "       0.9348231 , 0.94293613, 0.92669471, 0.95584978, 0.93802317,\n",
      "       0.94062823, 0.93393902, 0.92215865, 0.9356045 , 0.93460471])}\n",
      "{'graph_type': 'ER', 'p': 0.75, 'weighted': True} (56, 16)\n",
      "{'GNN1': array([0.87203612, 0.83648413, 0.90878908, 0.85046877, 0.90126821,\n",
      "       0.8852338 , 0.86004266, 0.82038781, 0.88103732, 0.89511846,\n",
      "       0.87001338, 0.83379008, 0.87264704, 0.88741571, 0.91391559,\n",
      "       0.85499648, 0.85802408, 0.87286087, 0.8686167 , 0.88873944,\n",
      "       0.87576658, 0.88337402, 0.87159549, 0.89711425, 0.84645483,\n",
      "       0.86241087, 0.86200707, 0.8790644 , 0.88506471, 0.85116932,\n",
      "       0.88181809, 0.84818868, 0.86143003, 0.86832393, 0.86519483,\n",
      "       0.84336246, 0.89984121, 0.84062135, 0.88549629, 0.84589194,\n",
      "       0.8347981 , 0.89322009, 0.86968568, 0.84202304, 0.88553238,\n",
      "       0.86173378, 0.87243716, 0.89709094, 0.87654095, 0.87865042]), 'GNN2': array([0.93386815, 0.94123232, 0.9522651 , 0.92161255, 0.93324111,\n",
      "       0.92693858, 0.94887741, 0.92723193, 0.93478632, 0.9360721 ,\n",
      "       0.94543994, 0.91948262, 0.95592413, 0.92791096, 0.93535276,\n",
      "       0.93228971, 0.91716709, 0.90794718, 0.92485429, 0.93945272,\n",
      "       0.95251021, 0.93653672, 0.91745347, 0.94757109, 0.92674084,\n",
      "       0.94958902, 0.92784158, 0.93323521, 0.92625608, 0.93714109,\n",
      "       0.94147051, 0.94986025, 0.9263249 , 0.9249574 , 0.93487616,\n",
      "       0.94338832, 0.93228973, 0.93159017, 0.93786798, 0.87169088,\n",
      "       0.93257577, 0.95199239, 0.90786184, 0.92596172, 0.93372882,\n",
      "       0.93305198, 0.95579716, 0.93051717, 0.91503304, 0.92791515])}\n",
      "{'graph_type': 'ER', 'p': 0.75, 'weighted': True} (60, 16)\n",
      "{'GNN1': array([0.83485627, 0.85885006, 0.82322198, 0.87250722, 0.8458569 ,\n",
      "       0.84396236, 0.83902013, 0.86852546, 0.86007032, 0.82166802,\n",
      "       0.84772098, 0.90205261, 0.89039458, 0.84833739, 0.87902839,\n",
      "       0.87226505, 0.87785887, 0.82867974, 0.83673975, 0.86961856,\n",
      "       0.84859288, 0.84119246, 0.84191562, 0.89651773, 0.82799192,\n",
      "       0.88417697, 0.82495882, 0.81769588, 0.86103487, 0.851562  ,\n",
      "       0.81330124, 0.8766179 , 0.86453247, 0.85553731, 0.83480546,\n",
      "       0.86034659, 0.85935637, 0.85084218, 0.84836224, 0.86864378,\n",
      "       0.87850581, 0.86028248, 0.85063011, 0.87365056, 0.85107607,\n",
      "       0.81001665, 0.85933516, 0.85430159, 0.81685084, 0.88818844]), 'GNN2': array([0.94245308, 0.92819721, 0.9089598 , 0.93479952, 0.91948759,\n",
      "       0.92073646, 0.92333922, 0.92882583, 0.92664682, 0.93506159,\n",
      "       0.93281357, 0.95555014, 0.92687774, 0.91087495, 0.94259977,\n",
      "       0.91254079, 0.93236173, 0.9370099 , 0.94152298, 0.93020585,\n",
      "       0.93006602, 0.92539285, 0.92349262, 0.94772842, 0.93147654,\n",
      "       0.9257349 , 0.92224145, 0.8994144 , 0.92928771, 0.91573702,\n",
      "       0.90083239, 0.93678416, 0.94481811, 0.94043772, 0.91749363,\n",
      "       0.9280894 , 0.93350073, 0.92841273, 0.92841472, 0.93495693,\n",
      "       0.91694099, 0.93020514, 0.90567784, 0.93559721, 0.92796631,\n",
      "       0.93118574, 0.90813985, 0.92863416, 0.9284196 , 0.94648932])}\n",
      "{'graph_type': 'ER', 'p': 0.75, 'weighted': True} (64, 16)\n",
      "{'GNN1': array([0.80400458, 0.86609937, 0.85293936, 0.81102695, 0.87304032,\n",
      "       0.84418697, 0.88940341, 0.84634921, 0.87282754, 0.88442768,\n",
      "       0.83976716, 0.81900638, 0.84174044, 0.87600816, 0.87354461,\n",
      "       0.87646373, 0.88355285, 0.85010865, 0.78616006, 0.84417461,\n",
      "       0.84404475, 0.83087924, 0.83529179, 0.85570123, 0.86985199,\n",
      "       0.8793032 , 0.85364936, 0.86007346, 0.85122754, 0.81851107,\n",
      "       0.87052744, 0.83342454, 0.86935613, 0.85177763, 0.89905999,\n",
      "       0.84200119, 0.8522648 , 0.82644161, 0.84265996, 0.86906536,\n",
      "       0.83406522, 0.76426918, 0.86666588, 0.86414263, 0.89903116,\n",
      "       0.84636712, 0.83945307, 0.89673983, 0.90851581, 0.8744934 ]), 'GNN2': array([0.92694504, 0.91553866, 0.93643315, 0.91680562, 0.93534932,\n",
      "       0.91520426, 0.94091649, 0.92296336, 0.90855377, 0.93885708,\n",
      "       0.92160042, 0.91005446, 0.94017471, 0.94367612, 0.94030479,\n",
      "       0.93501695, 0.92955277, 0.95152226, 0.90174944, 0.89749611,\n",
      "       0.89357184, 0.89428424, 0.93999705, 0.94157349, 0.95105363,\n",
      "       0.90719334, 0.9269291 , 0.92402113, 0.92726271, 0.91949308,\n",
      "       0.90278639, 0.95137455, 0.90531814, 0.90784091, 0.94147784,\n",
      "       0.92585937, 0.94224369, 0.9502965 , 0.92794139, 0.93737123,\n",
      "       0.92989798, 0.88933061, 0.93831242, 0.94698768, 0.96416468,\n",
      "       0.91317002, 0.91085554, 0.93856807, 0.93263101, 0.93433541])}\n"
     ]
    }
   ],
   "source": [
    "num_trials = 50\n",
    "node_configs = [(x, 16) for x in np.arange(8, 65, 4)]\n",
    "# of nodes [20 -> 80]\n",
    "# of nodes in batch [10,000 -> 40,000]\n",
    "batch_size = 500 #[int(min(32, x + y)) for (x, y) in node_configs]\n",
    "\n",
    "models = [(\"GNN1\", GNN1), (\"GNN2\", GNN2)]\n",
    "\n",
    "graph_configs = [\n",
    "    {\n",
    "        'graph_type': 'ER',\n",
    "        'p': 0.75,\n",
    "        'weighted': True\n",
    "    },\n",
    "    # {\n",
    "    #     'graph_type': 'BA',\n",
    "    #     'ba_param': 4,\n",
    "    #     'weighted': True\n",
    "    # },\n",
    "    # {\n",
    "    #     'graph_type': 'GEOM',\n",
    "    #     'threshold': 0.2,\n",
    "    #     'scaling': 1 / np.sqrt(2),\n",
    "    #     'weighted': True\n",
    "    # }\n",
    "]\n",
    "\n",
    "ratios = [x/y for (x,y) in node_configs]\n",
    "print(ratios)\n",
    "\n",
    "data = {frozenset(config.items()): [] for config in graph_configs}\n",
    "for graph_config in graph_configs:\n",
    "    for i, node_config in enumerate(node_configs):\n",
    "        print(graph_config, node_config)\n",
    "        seed = np.random.randint(0, 500000)\n",
    "        rng = np.random.default_rng(seed)\n",
    "        instances = ig.sample_instances(*node_config, num_trials, rng, args, **graph_config)\n",
    "\n",
    "\n",
    "        rng = np.random.default_rng(seed)\n",
    "\n",
    "        baselines = []\n",
    "        cr_ratios = {}\n",
    "        for model_name, model in models:\n",
    "            model_ratios, _ = evaluate_model(\n",
    "                meta_model=None,\n",
    "                meta_model_type=None,\n",
    "                base_models=[model],\n",
    "                instances=instances,\n",
    "                batch_size=batch_size,\n",
    "                rng=rng,\n",
    "                num_realizations=5,\n",
    "                baselines=baselines\n",
    "            )\n",
    "\n",
    "            cr_ratios[model_name] = model_ratios.pop(\"learned\")\n",
    "        print(cr_ratios)\n",
    "\n",
    "        data[frozenset(graph_config.items())].append(cr_ratios)"
   ]
  },
  {
   "cell_type": "code",
   "execution_count": 35,
   "metadata": {},
   "outputs": [],
   "source": [
    "import pickle\n",
    "with open(f\"saved_runs/bad_regimes.pickle\", 'wb') as handle:\n",
    "\tpickle.dump(data, handle, protocol=pickle.HIGHEST_PROTOCOL)"
   ]
  },
  {
   "cell_type": "code",
   "execution_count": 36,
   "metadata": {},
   "outputs": [
    {
     "name": "stdout",
     "output_type": "stream",
     "text": [
      "15\n",
      "15\n"
     ]
    }
   ],
   "source": [
    "import pickle\n",
    "# with open(f\"saved_runs/bad_regimes.pickle\", 'rb') as handle:\n",
    "#     data_copy = pickle.load(handle)\n",
    "\n",
    "node_configs = [(x, 16) for x in np.arange(8, 65, 4)]\n",
    "ratios = [x/y for (x,y) in node_configs]\n",
    "print(len(ratios))\n",
    "print(len(list(data.values())[0]))"
   ]
  },
  {
   "cell_type": "code",
   "execution_count": 39,
   "metadata": {},
   "outputs": [
    {
     "name": "stdout",
     "output_type": "stream",
     "text": [
      "['GNN1', 'GNN2']\n"
     ]
    },
    {
     "data": {
      "image/png": "[encoded data removed]",
      "text/plain": [
       "<Figure size 864x864 with 2 Axes>"
      ]
     },
     "metadata": {
      "needs_background": "light"
     },
     "output_type": "display_data"
    }
   ],
   "source": [
    "from util import _plot_approx_ratios_single\n",
    "_plot_approx_ratios_single(ratios, data, lambda graph_type: graph_type, confidence = 0.95)"
   ]
  },
  {
   "cell_type": "code",
   "execution_count": null,
   "metadata": {},
   "outputs": [],
   "source": [
    "import matplotlib.pyplot as plt\n",
    "\n",
    "ratios = [x/y for (x,y) in node_configs]\n",
    "\n",
    "for graph_type, comp_ratios in data.items():\n",
    "    aggregated_ratios = {}\n",
    "\n",
    "    for trial_ratios in comp_ratios:\n",
    "        for model, ratio_values in trial_ratios.items():\n",
    "            current_ratios = aggregated_ratios.get(model, [])\n",
    "            current_ratios.append(np.array(ratio_values).mean())\n",
    "            aggregated_ratios[model] = current_ratios\n",
    "\n",
    "    fig = plt.figure(figsize=(8,6))\n",
    "    for model, model_ratios in aggregated_ratios.items():\n",
    "        plt.plot(ratios, model_ratios, label=model)\n",
    "\n",
    "    title = f\"{graph_type}\"\n",
    "    plt.title(title)\n",
    "    plt.xlabel('# online / # offline')\n",
    "    plt.ylabel('Average competitive ratio')\n",
    "    plt.legend()\n",
    "    plt.savefig(f\"data/17_01_2024_{title}_no_probabilities.png\")\n",
    "    plt.show()\n"
   ]
  },
  {
   "cell_type": "markdown",
   "metadata": {},
   "source": [
    "## Noise experiments"
   ]
  },
  {
   "cell_type": "code",
   "execution_count": 4,
   "metadata": {},
   "outputs": [],
   "source": [
    "def create_noise_robust_models(noise_values):\n",
    "    models = []\n",
    "    for noise_value in noise_values:\n",
    "        print(f\"Training model for noise {noise_value}\")\n",
    "        args = {\n",
    "        'processor':         'GENConv',\n",
    "        'head':              'regression',\n",
    "        'num_layers':        2,\n",
    "        'num_mlp_layers':    2,\n",
    "        'aggr':              'max',\n",
    "        'batch_size':        32,\n",
    "        'node_feature_dim':  5,\n",
    "        'edge_feature_dim':  1,\n",
    "        'graph_feature_dim': 2,\n",
    "        'hidden_dim':        64,\n",
    "        'output_dim':        1,\n",
    "        'dropout':           0.35,\n",
    "        'epochs':            25,\n",
    "        'opt':               'adam',\n",
    "        'opt_scheduler':     'none',\n",
    "        'opt_restart':       0,\n",
    "        'weight_decay':      5e-3,\n",
    "        'lr':                0.0001,\n",
    "        'device':            device,\n",
    "        'noise':             noise_value # Set to 0 to not train on noisy features\n",
    "        }\n",
    "\n",
    "        train_num = 100; test_num = 30\n",
    "\n",
    "        er_config = {\n",
    "            'graph_type': 'ER',\n",
    "            'p': 0.75,\n",
    "            'weighted': True\n",
    "        }\n",
    "        ba_config = {\n",
    "            'graph_type': 'BA',\n",
    "            'ba_param': 2,\n",
    "            'weighted': True\n",
    "        }\n",
    "        geom_config = {\n",
    "            'graph_type': 'GEOM',\n",
    "            'threshold': 0.2,\n",
    "            'scaling': 1 / np.sqrt(2)\n",
    "        }\n",
    "\n",
    "        rng = np.random.default_rng()\n",
    "\n",
    "\n",
    "        train_instances = [\n",
    "                *ig.sample_instances(9, 7, train_num, rng, args, **er_config),\n",
    "                *ig.sample_instances(9, 7, train_num, rng, args, **ba_config),\n",
    "                *ig.sample_instances(9, 7, train_num, rng, args, **geom_config),\n",
    "            ]\n",
    "\n",
    "        test_instances = [\n",
    "                *ig.sample_instances(9, 7, test_num, rng, args, **er_config),\n",
    "                *ig.sample_instances(9, 7, test_num, rng, args, **ba_config),\n",
    "                *ig.sample_instances(9, 7, test_num, rng, args, **geom_config),\n",
    "            ]\n",
    "\n",
    "\n",
    "        train_data = Dataset(tc._instances_to_train_samples(train_instances, args['head']))\n",
    "        test_data = Dataset(tc._instances_to_train_samples(test_instances, args['head']))\n",
    "\n",
    "        train_loader = DataLoader(\n",
    "            train_data,\n",
    "            batch_size=args['batch_size'],\n",
    "            shuffle=True,\n",
    "            num_workers=4\n",
    "        )\n",
    "\n",
    "        test_loader = DataLoader(\n",
    "            test_data,\n",
    "            batch_size=args['batch_size'],\n",
    "            shuffle=True,\n",
    "            num_workers=4\n",
    "        )\n",
    "\n",
    "\n",
    "        _, _, _, GNN, _ = train(train_loader, test_loader, args)\n",
    "        models.append((f\"GNN_{args['noise']}\", GNN))\n",
    "    return models"
   ]
  },
  {
   "cell_type": "code",
   "execution_count": 30,
   "metadata": {},
   "outputs": [],
   "source": [
    "noise_values = np.linspace(0,5,20)\n",
    "# models = create_noise_robust_models(noise_values)\n",
    "models = [GNN] * len(noise_values) # TODO change this"
   ]
  },
  {
   "cell_type": "code",
   "execution_count": 31,
   "metadata": {},
   "outputs": [
    {
     "name": "stdout",
     "output_type": "stream",
     "text": [
      "[1.0, 1.0, 1.0, 1.0, 1.0, 1.0, 1.0, 1.0, 1.0]\n",
      "Evaluating model for noise 0.0\n",
      "Evaluating model for noise 0.2631578947368421\n"
     ]
    },
    {
     "name": "stderr",
     "output_type": "stream",
     "text": [
      "/home/alexhay/GNN-OBM/algorithms.py:258: RuntimeWarning: invalid value encountered in divide\n",
      "  proposal_probs = x / denom_matrix\n"
     ]
    },
    {
     "name": "stdout",
     "output_type": "stream",
     "text": [
      "Evaluating model for noise 0.5263157894736842\n",
      "Evaluating model for noise 0.7894736842105263\n",
      "Evaluating model for noise 1.0526315789473684\n",
      "Evaluating model for noise 1.3157894736842104\n",
      "Evaluating model for noise 1.5789473684210527\n",
      "Evaluating model for noise 1.8421052631578947\n",
      "Evaluating model for noise 2.1052631578947367\n",
      "Evaluating model for noise 2.3684210526315788\n",
      "Evaluating model for noise 2.631578947368421\n",
      "Evaluating model for noise 2.894736842105263\n",
      "Evaluating model for noise 3.1578947368421053\n",
      "Evaluating model for noise 3.4210526315789473\n",
      "Evaluating model for noise 3.6842105263157894\n",
      "Evaluating model for noise 3.9473684210526314\n",
      "Evaluating model for noise 4.2105263157894735\n",
      "Evaluating model for noise 4.473684210526316\n",
      "Evaluating model for noise 4.7368421052631575\n",
      "Evaluating model for noise 5.0\n",
      "Evaluating model for noise 0.0\n",
      "Evaluating model for noise 0.2631578947368421\n",
      "Evaluating model for noise 0.5263157894736842\n",
      "Evaluating model for noise 0.7894736842105263\n",
      "Evaluating model for noise 1.0526315789473684\n",
      "Evaluating model for noise 1.3157894736842104\n",
      "Evaluating model for noise 1.5789473684210527\n",
      "Evaluating model for noise 1.8421052631578947\n",
      "Evaluating model for noise 2.1052631578947367\n",
      "Evaluating model for noise 2.3684210526315788\n",
      "Evaluating model for noise 2.631578947368421\n",
      "Evaluating model for noise 2.894736842105263\n",
      "Evaluating model for noise 3.1578947368421053\n",
      "Evaluating model for noise 3.4210526315789473\n",
      "Evaluating model for noise 3.6842105263157894\n",
      "Evaluating model for noise 3.9473684210526314\n",
      "Evaluating model for noise 4.2105263157894735\n",
      "Evaluating model for noise 4.473684210526316\n",
      "Evaluating model for noise 4.7368421052631575\n",
      "Evaluating model for noise 5.0\n"
     ]
    }
   ],
   "source": [
    "num_trials = 80\n",
    "batch_size = 500 #[int(min(32, x + y)) for (x, y) in node_configs]\n",
    "node_config = (9,7)\n",
    "graph_configs = [\n",
    "    {\n",
    "        'graph_type': 'ER',\n",
    "        'p': 0.75,\n",
    "        'weighted': True\n",
    "    },\n",
    "    {\n",
    "        'graph_type': 'BA',\n",
    "        'ba_param': 4,\n",
    "        'weighted': True\n",
    "    },\n",
    "    # {\n",
    "    #     'graph_type': 'GEOM',\n",
    "    #     'threshold': 0.2,\n",
    "    #     'scaling': 1 / np.sqrt(2),\n",
    "    #     'weighted': True\n",
    "    # }\n",
    "]\n",
    "\n",
    "ratios = [x/y for (x,y) in node_configs]\n",
    "print(ratios)\n",
    "\n",
    "data = {config['graph_type']: [] for config in graph_configs}\n",
    "for graph_config in graph_configs:\n",
    "    for noise_value, model in zip(noise_values, models):\n",
    "        print(f\"Evaluating model for noise {noise_value}\")\n",
    "\n",
    "        seed = np.random.randint(0, 500000)\n",
    "        rng = np.random.default_rng(seed)\n",
    "\n",
    "        args['noise'] = noise_value\n",
    "        instances = ig.sample_instances(*node_config, num_trials, rng, args, **graph_config)\n",
    "\n",
    "        cr_ratios, _ = evaluate_model(\n",
    "            meta_model=None,\n",
    "            meta_model_type=None,\n",
    "            base_models=[model],\n",
    "            instances=instances,\n",
    "            batch_size=batch_size,\n",
    "            rng=rng,\n",
    "            num_realizations=5,\n",
    "            baselines=['greedy', 'lp_rounding']\n",
    "        )\n",
    "\n",
    "        data[graph_config['graph_type']].append(cr_ratios)"
   ]
  },
  {
   "cell_type": "code",
   "execution_count": 33,
   "metadata": {},
   "outputs": [
    {
     "data": {
      "image/png": "[encoded data removed]",
      "text/plain": [
       "<Figure size 576x432 with 1 Axes>"
      ]
     },
     "metadata": {
      "needs_background": "light"
     },
     "output_type": "display_data"
    },
    {
     "data": {
      "image/png": "[encoded data removed]",
      "text/plain": [
       "<Figure size 576x432 with 1 Axes>"
      ]
     },
     "metadata": {
      "needs_background": "light"
     },
     "output_type": "display_data"
    }
   ],
   "source": [
    "from util import _plot_approx_ratios\n",
    "_plot_approx_ratios(noise_values, data, lambda graph_type: f\"noisy {graph_type}\", x_axis_name=\"noise level\", confidence = 0.95)"
   ]
  },
  {
   "cell_type": "markdown",
   "metadata": {},
   "source": [
    "## FEAT graph evaluation"
   ]
  },
  {
   "cell_type": "code",
   "execution_count": null,
   "metadata": {},
   "outputs": [],
   "source": [
    "num_trials = 40\n",
    "node_configs = [(x, 16) for x in np.arange(4, 64, 8)]\n",
    "# of nodes [20 -> 80]\n",
    "# of nodes in batch [10,000 -> 40,000]\n",
    "batch_size = 500 #[int(min(32, x + y)) for (x, y) in node_configs]\n",
    "graph_configs = [\n",
    "    {\n",
    "        'graph_type': 'FEAT',\n",
    "        'q': 0.75,\n",
    "        'weighted': True\n",
    "    },\n",
    "    # {\n",
    "    #     'graph_type': 'FEAT',\n",
    "    #     'q': 0.9,\n",
    "    #     'weighted': True\n",
    "    # },\n",
    "    # {\n",
    "    #     'graph_type': 'FEAT',\n",
    "    #     'q': 0.95,\n",
    "    #     'weighted': True\n",
    "    # },\n",
    "    # {\n",
    "    #     'graph_type': 'PART',\n",
    "    #     'p': 0.5,\n",
    "    #     'size': 4,\n",
    "    #     'eps': 0.1\n",
    "    # },\n",
    "    # {\n",
    "    #     'graph_type': 'PART',\n",
    "    #     'p': 0.5,\n",
    "    #     'size': 3,\n",
    "    #     'eps': 0.3\n",
    "    # }\n",
    "]\n",
    "\n",
    "ratios = [x/y for (x,y) in node_configs]\n",
    "print(ratios)\n",
    "\n",
    "data = {config['q']: [] for config in graph_configs}\n",
    "for graph_config in graph_configs:\n",
    "    for i, node_config in enumerate(node_configs):\n",
    "        print(graph_config, node_config)\n",
    "        seed = np.random.randint(0, 500000)\n",
    "        rng = np.random.default_rng(seed)\n",
    "        instances = ig.sample_instances(*node_config, num_trials, rng, **graph_config)\n",
    "\n",
    "\n",
    "        rng = np.random.default_rng(seed)\n",
    "        gnn_learned_ratios, greedy_ratios, lp_match_ratios = evaluate_model(\n",
    "            meta_model=None,\n",
    "            meta_model_type=None,\n",
    "            base_models=[GNN],\n",
    "            instances=instances,\n",
    "            batch_size=batch_size,\n",
    "            rng=rng,\n",
    "            num_realizations=5\n",
    "        )\n",
    "        ratios = evaluate_model(\n",
    "            meta_model=None,\n",
    "            meta_model_type=None,\n",
    "            base_models=[GNN],\n",
    "            instances=instances,\n",
    "            batch_size=batch_size,\n",
    "            rng=rng,\n",
    "            num_realizations=5\n",
    "        )\n",
    "\n",
    "\n",
    "        data[graph_config['q']].append(np.array(\n",
    "            [\n",
    "                gnn_learned_ratios,\n",
    "                greedy_ratios,\n",
    "                lp_match_ratios\n",
    "            ]\n",
    "        ))"
   ]
  },
  {
   "cell_type": "code",
   "execution_count": null,
   "metadata": {},
   "outputs": [],
   "source": [
    "import matplotlib.pyplot as plt\n",
    "ratios = [x/y for (x,y) in node_configs]\n",
    "for q, comp_ratios in data.items():\n",
    "    greedy_avg_ratios = []\n",
    "    gnn_avg_ratios = []\n",
    "    lp_match_avg_ratios = []\n",
    "\n",
    "\n",
    "    for trial_ratios in comp_ratios:\n",
    "        gnn_avg_ratios.append(np.array(trial_ratios[0]).mean())\n",
    "        greedy_avg_ratios.append(np.array(trial_ratios[1]).mean())\n",
    "        lp_match_avg_ratios.append(np.array(trial_ratios[2]).mean())\n",
    "\n",
    "    # title = f\"PART_size_{size}\"\n",
    "    title = f\"FEAT_only_ratings_{q}\"\n",
    "    print(title)\n",
    "    fig = plt.figure(figsize=(8,6))\n",
    "    plt.title(title)\n",
    "    plt.plot(ratios, gnn_avg_ratios, label='GNN')\n",
    "    plt.plot(ratios, greedy_avg_ratios, label='Greedy')\n",
    "    plt.plot(ratios, lp_match_avg_ratios, label='LP ROUNDING')\n",
    "    plt.xlabel('# online / # offline')\n",
    "    plt.ylabel('Average competitive ratio')\n",
    "    plt.legend()\n",
    "    # plt.savefig(f\"data/{title}.png\")\n",
    "    plt.show()\n"
   ]
  },
  {
   "cell_type": "markdown",
   "metadata": {},
   "source": [
    "## OSMNX evaluation"
   ]
  },
  {
   "cell_type": "code",
   "execution_count": null,
   "metadata": {},
   "outputs": [],
   "source": [
    "num_trials = 30\n",
    "node_configs = [(x, 16) for x in np.arange(4, 64, 8)]\n",
    "# of nodes [20 -> 80]\n",
    "# of nodes in batch [10,000 -> 40,000]\n",
    "batch_size = 500 #[int(min(32, x + y)) for (x, y) in node_configs]\n",
    "\n",
    "graph_configs = [\n",
    "    {\n",
    "        'graph_type': 'OSMNX',\n",
    "        'location_graph': piedmont['location_graph'],\n",
    "        'city': piedmont['city']\n",
    "    },\n",
    "    # {\n",
    "    #     'graph_type': 'OSMNX',\n",
    "    #     'location_graph': carmel['location_graph'],\n",
    "    #     'city': carmel['city']\n",
    "    # },\n",
    "    # {\n",
    "    #     'graph_type': 'OSMNX',\n",
    "    #     'location_graph': geneva['location_graph'],\n",
    "    #     'city': geneva['city']\n",
    "    # },\n",
    "    # {\n",
    "    #     'graph_type': 'OSMNX',\n",
    "    #     'location_graph': founex['location_graph'],\n",
    "    #     'city': founex['city']\n",
    "    # },\n",
    "]\n",
    "\n",
    "ratios = [x/y for (x,y) in node_configs]\n",
    "print(ratios)\n",
    "\n",
    "data = {config['city']: [] for config in graph_configs}\n",
    "for graph_config in graph_configs:\n",
    "    for i, node_config in enumerate(node_configs):\n",
    "        print(node_config, graph_config)\n",
    "        seed = np.random.randint(0, 500000)\n",
    "        rng = np.random.default_rng(seed)\n",
    "        instances = ig.sample_instances(*node_config, num_trials, rng, **graph_config)\n",
    "\n",
    "\n",
    "        rng = np.random.default_rng(seed)\n",
    "        gnn_learned_ratios, greedy_ratios, lp_match_ratios = evaluate_model(\n",
    "            meta_model=None,\n",
    "            meta_model_type=None,\n",
    "            base_models=[GNN],\n",
    "            instances=instances,\n",
    "            batch_size=batch_size,\n",
    "            rng=rng,\n",
    "            num_realizations=5\n",
    "        )\n",
    "        thresholded_greedy_ratios = [0]\n",
    "\n",
    "        data[graph_config['city']].append(np.array(\n",
    "            [\n",
    "                gnn_learned_ratios,\n",
    "                thresholded_greedy_ratios,\n",
    "                greedy_ratios,\n",
    "                lp_match_ratios\n",
    "            ]\n",
    "        ))"
   ]
  },
  {
   "cell_type": "code",
   "execution_count": null,
   "metadata": {},
   "outputs": [],
   "source": [
    "import matplotlib.pyplot as plt\n",
    "ratios = [x/y for (x,y) in node_configs]\n",
    "print(ratios)\n",
    "for city, comp_ratios in data.items():\n",
    "    greedy_avg_ratios = []\n",
    "    thresholded_greedy_avg_ratios = []\n",
    "    gnn_avg_ratios = []\n",
    "    lp_match_avg_ratios = []\n",
    "\n",
    "\n",
    "    for trial_ratios in comp_ratios:\n",
    "        gnn_avg_ratios.append(np.array(trial_ratios[0]).mean())\n",
    "        thresholded_greedy_avg_ratios.append(np.array(trial_ratios[1]).mean())\n",
    "        greedy_avg_ratios.append(np.array(trial_ratios[2]).mean())\n",
    "        lp_match_avg_ratios.append(np.array(trial_ratios[3]).mean())\n",
    "        \n",
    "\n",
    "    title = f\"OSMNX_discard_{city}\"\n",
    "    fig = plt.figure(figsize=(8,6))\n",
    "    plt.title(title)\n",
    "    plt.plot(ratios, gnn_avg_ratios, label='GNN')\n",
    "    plt.plot(ratios, thresholded_greedy_avg_ratios, label='Thresholded Greedy')\n",
    "    plt.plot(ratios, greedy_avg_ratios, label='Greedy')\n",
    "    plt.plot(ratios, lp_match_avg_ratios, label='LP ROUNDING')\n",
    "    plt.xlabel('# online / # offline')\n",
    "    plt.ylabel('Average competitive ratio')\n",
    "    plt.legend()\n",
    "    plt.savefig(f\"data/{title}.png\")\n",
    "    plt.show()\n",
    "\n"
   ]
  },
  {
   "cell_type": "markdown",
   "metadata": {},
   "source": [
    "## Graph transferability"
   ]
  },
  {
   "cell_type": "code",
   "execution_count": 20,
   "metadata": {},
   "outputs": [
    {
     "name": "stdout",
     "output_type": "stream",
     "text": [
      "[4, 8, 12, 16, 20, 24, 28, 32, 36]\n",
      "(4, 4) {'graph_type': 'FEAT', 'q': 0.75, 'weighted': True}\n"
     ]
    },
    {
     "name": "stderr",
     "output_type": "stream",
     "text": [
      "/home/alexhay/GNN-OBM/evaluate.py:365: RuntimeWarning: Mean of empty slice\n",
      "  name: np.nanmean(ratio_matrix, axis=1)\n"
     ]
    },
    {
     "name": "stdout",
     "output_type": "stream",
     "text": [
      "(8, 8) {'graph_type': 'FEAT', 'q': 0.75, 'weighted': True}\n",
      "(12, 12) {'graph_type': 'FEAT', 'q': 0.75, 'weighted': True}\n",
      "(16, 16) {'graph_type': 'FEAT', 'q': 0.75, 'weighted': True}\n",
      "(20, 20) {'graph_type': 'FEAT', 'q': 0.75, 'weighted': True}\n",
      "(24, 24) {'graph_type': 'FEAT', 'q': 0.75, 'weighted': True}\n",
      "(28, 28) {'graph_type': 'FEAT', 'q': 0.75, 'weighted': True}\n",
      "(32, 32) {'graph_type': 'FEAT', 'q': 0.75, 'weighted': True}\n",
      "(36, 36) {'graph_type': 'FEAT', 'q': 0.75, 'weighted': True}\n"
     ]
    }
   ],
   "source": [
    "num_trials = 100\n",
    "node_configs = [(x, x) for x in np.arange(4, 40, 4)]\n",
    "batch_size = 500 #[int(min(32, x + y)) for (x, y) in node_configs]\n",
    "\n",
    "\n",
    "graph_configs = [\n",
    "    {\n",
    "    'graph_type': 'FEAT',\n",
    "    'q': 0.75,\n",
    "    'weighted': True\n",
    "    },\n",
    "]\n",
    "\n",
    "sizes = [x+y for (x,y) in node_configs]\n",
    "print(sizes)\n",
    "\n",
    "data = {config['q']: [] for config in graph_configs}\n",
    "for graph_config in graph_configs:\n",
    "    for i, node_config in enumerate(node_configs):\n",
    "        print(node_config, graph_config)\n",
    "        seed = np.random.randint(0, 500000)\n",
    "        rng = np.random.default_rng(seed)\n",
    "        instances = ig.sample_instances(*node_config, num_trials, rng, args, **graph_config)\n",
    "\n",
    "\n",
    "        rng = np.random.default_rng(seed)\n",
    "\n",
    "        cr_ratios, _ = evaluate_model(\n",
    "            meta_model=None,\n",
    "            meta_model_type=None,\n",
    "            base_models=[GNN],\n",
    "            instances=instances,\n",
    "            batch_size=batch_size,\n",
    "            rng=rng,\n",
    "            num_realizations=5,\n",
    "            baselines=['greedy', 'lp_rounding']\n",
    "        )\n",
    "\n",
    "        data[graph_config['q']].append(cr_ratios)"
   ]
  },
  {
   "cell_type": "code",
   "execution_count": 23,
   "metadata": {},
   "outputs": [
    {
     "data": {
      "image/png": "[encoded data removed]",
      "text/plain": [
       "<Figure size 576x432 with 1 Axes>"
      ]
     },
     "metadata": {
      "needs_background": "light"
     },
     "output_type": "display_data"
    }
   ],
   "source": [
    "from util import _plot_approx_ratios\n",
    "\n",
    "_plot_approx_ratios(sizes, data, lambda graph_type: f\"Generalization to node size for ratio {node_config[1]/node_config[0]}\", x_axis_name= \"Total number of nodes\", confidence = 0.95)"
   ]
  },
  {
   "cell_type": "code",
   "execution_count": null,
   "metadata": {},
   "outputs": [],
   "source": [
    "import matplotlib.pyplot as plt\n",
    "\n",
    "sizes = [x for (x,_) in node_configs]\n",
    "\n",
    "aggregated_ratios = {}\n",
    "for q, comp_ratios in data.items():\n",
    "    for trial_ratios in comp_ratios:\n",
    "        for model, ratio_values in trial_ratios.items():\n",
    "            current_ratios = aggregated_ratios.get(model, [])\n",
    "            current_ratios.append(np.array(ratio_values).mean())\n",
    "            aggregated_ratios[model] = current_ratios\n",
    "\n",
    "fig = plt.figure(figsize=(8,6))\n",
    "for model, ratios in aggregated_ratios.items():\n",
    "    plt.plot(sizes, ratios, label=model)\n",
    "\n",
    "title = f\"16_01_2024_graph_transferability_{q}\"\n",
    "plt.title(\"Graph transferability NxN ratio - trained on 8x8\")\n",
    "plt.xlabel('Number of online nodes')\n",
    "plt.ylabel('Average competitive ratio')\n",
    "plt.legend()\n",
    "plt.savefig(f\"data/{title}.png\")\n",
    "plt.show()\n"
   ]
  }
 ],
 "metadata": {
  "kernelspec": {
   "display_name": "clrs",
   "language": "python",
   "name": "python3"
  },
  "language_info": {
   "codemirror_mode": {
    "name": "ipython",
    "version": 3
   },
   "file_extension": ".py",
   "mimetype": "text/x-python",
   "name": "python",
   "nbconvert_exporter": "python",
   "pygments_lexer": "ipython3",
   "version": "3.10.12"
  }
 },
 "nbformat": 4,
 "nbformat_minor": 2
}
