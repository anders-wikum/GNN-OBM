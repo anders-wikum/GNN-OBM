{
 "cells": [
  {
   "cell_type": "code",
   "execution_count": null,
   "metadata": {},
   "outputs": [],
   "source": [
    "import os\n",
    "os.chdir('..')"
   ]
  },
  {
   "cell_type": "code",
   "execution_count": null,
   "metadata": {},
   "outputs": [],
   "source": [
    "import numpy as np\n",
    "import pickle\n",
    "import torch\n",
    "\n",
    "from gnn_library.util import train, save, load, gen_train_input\n",
    "from gnn_library.train import train_base_model\n",
    "from evaluate import evaluate_model\n",
    "from instance_generator import sample_instances\n",
    "from util import _plot_approx_ratios_all\n",
    "from params import TRAIN_CONFIGS, TEST_CONFIGS, REGIMES\n",
    "\n",
    "%load_ext autoreload\n",
    "%autoreload 2"
   ]
  },
  {
   "cell_type": "code",
   "execution_count": null,
   "metadata": {},
   "outputs": [],
   "source": [
    "device = torch.device('cuda' if torch.cuda.is_available() else 'cpu')\n",
    "print(\"PyTorch has version {}\".format(torch.__version__))\n",
    "print('Using device:', device)"
   ]
  },
  {
   "cell_type": "markdown",
   "metadata": {},
   "source": [
    "## Noise robustness experiment"
   ]
  },
  {
   "cell_type": "markdown",
   "metadata": {},
   "source": [
    "#### Train GNNs on each noise level"
   ]
  },
  {
   "cell_type": "code",
   "execution_count": null,
   "metadata": {},
   "outputs": [],
   "source": [
    "def create_noise_robust_models(noise_values):\n",
    "    models = []\n",
    "    for noise_value in noise_values:\n",
    "        print(f\"Training model for noise {noise_value}\")\n",
    "        args = {\n",
    "            'processor':         'GENConv',\n",
    "            'head':              'regression',     \n",
    "            'num_layers':        3,\n",
    "            'num_mlp_layers':    3,\n",
    "            'aggr':              'max',\n",
    "            'batch_size':        8,\n",
    "            'node_feature_dim':  5,\n",
    "            'edge_feature_dim':  1,\n",
    "            'graph_feature_dim': 2,\n",
    "            'hidden_dim':        32,\n",
    "            'output_dim':        1,\n",
    "            'dropout':           0.0306,\n",
    "            'epochs':            2, # 64\n",
    "            'opt':               'adagrad',\n",
    "            'opt_scheduler':     'none',\n",
    "            'opt_restart':       0,\n",
    "            'weight_decay':      5e-3,\n",
    "            'lr':                0.0121,\n",
    "            'device':            device,\n",
    "            'noise':             noise_value\n",
    "        }\n",
    "\n",
    "        GNN = train_base_model(\n",
    "            regime_key='NOISE',\n",
    "            train_config=TRAIN_CONFIGS['NOISE'],\n",
    "            name=f'GNN_noise_{noise_value}',\n",
    "            args=args\n",
    "        )\n",
    "        models.append((f\"GNN_{args['noise']}\", GNN))\n",
    "\n",
    "    return models"
   ]
  },
  {
   "cell_type": "code",
   "execution_count": null,
   "metadata": {},
   "outputs": [],
   "source": [
    "# If the models have already been trained, use get_models\n",
    "def get_models(noise_values):\n",
    "\tmodels = []\n",
    "\tfor noise_value in noise_values:\n",
    "\t\tGNN, args = load(f\"GNN_noise_{noise_value}\", device)\n",
    "\t\tmodels.append((f\"GNN_{args.noise}\", GNN))\n",
    "\treturn models"
   ]
  },
  {
   "cell_type": "code",
   "execution_count": null,
   "metadata": {},
   "outputs": [],
   "source": [
    "NOISE_VALUES = np.linspace(0, 1, 21) \n",
    "models = create_noise_robust_models(NOISE_VALUES)\n",
    "\n",
    "# If the models have already been trained, use get_models\n",
    "# models = get_models(noise_values)"
   ]
  },
  {
   "cell_type": "markdown",
   "metadata": {},
   "source": [
    "#### Evaluate CRs for all graph configurations and noise levels"
   ]
  },
  {
   "cell_type": "code",
   "execution_count": null,
   "metadata": {},
   "outputs": [],
   "source": [
    "\n",
    "rng = np.random.default_rng(seed=0)\n",
    "num_trials = 100\n",
    "batch_size = 500\n",
    "graph_configs = TEST_CONFIGS['ALL']\n",
    "node_configs = REGIMES['BASE_TEST']\n",
    "baselines_kwargs = {\n",
    "    'greedy': {},\n",
    "    'greedy_t': {'threshold': 0.35},\n",
    "    'lp_rounding': {}\n",
    "}\n",
    "\n",
    "data = [{node_config:[] for node_config in node_configs} for _ in range(len(graph_configs))]\n",
    "\n",
    "for data_index, graph_config in enumerate(graph_configs):\n",
    "    print(f\"current graph {graph_config}\")\n",
    "\n",
    "    for node_config in node_configs:\n",
    "        for noise_value, model in zip(NOISE_VALUES, models):\n",
    "            print(f\"Evaluating model for noise {noise_value}\")\n",
    "\n",
    "            instances = sample_instances(\n",
    "                *node_config, \n",
    "                num_trials,\n",
    "                rng,\n",
    "                {'noise': noise_value},\n",
    "                **graph_config\n",
    "            )\n",
    "\n",
    "            cr_ratios, _ = evaluate_model(\n",
    "                meta_model=None,\n",
    "                meta_model_type=None,\n",
    "                base_models=[model[1]],\n",
    "                instances=instances,\n",
    "                batch_size=batch_size,\n",
    "                rng=rng,\n",
    "                num_realizations=5,\n",
    "                baselines=['greedy', 'greedy_t', 'lp_rounding'],\n",
    "                **baselines_kwargs\n",
    "            )\n",
    "\n",
    "            data[data_index][node_config].append(cr_ratios)\n",
    "\n",
    "with open(f\"experiment_output/noise.pickle\", 'wb') as handle:\n",
    "    pickle.dump(data, handle, protocol=pickle.HIGHEST_PROTOCOL)"
   ]
  },
  {
   "cell_type": "markdown",
   "metadata": {},
   "source": [
    "#### Generate noise generalization plots"
   ]
  },
  {
   "cell_type": "code",
   "execution_count": null,
   "metadata": {},
   "outputs": [],
   "source": [
    "\n",
    "with open(f\"experiment_output/noise.pickle\", 'rb') as handle:\n",
    "    data_copy = pickle.load(handle)\n",
    "\n",
    "filtered_data = {\n",
    "    frozenset(g.items()): d[node_configs[0]] \n",
    "    for d,g in zip(data_copy, graph_configs)\n",
    "}\n",
    "\n",
    "_plot_approx_ratios_all(\n",
    "    NOISE_VALUES,\n",
    "    filtered_data,\n",
    "    lambda graph_type: f\"noise {graph_config} {node_config[1]}x{node_config[0]}\",\n",
    "    x_axis_name = \"Noise standard deviation $\\\\rho$\",\n",
    "    confidence = 0.95\n",
    ")"
   ]
  }
 ],
 "metadata": {
  "kernelspec": {
   "display_name": "clrs",
   "language": "python",
   "name": "python3"
  },
  "language_info": {
   "codemirror_mode": {
    "name": "ipython",
    "version": 3
   },
   "file_extension": ".py",
   "mimetype": "text/x-python",
   "name": "python",
   "nbconvert_exporter": "python",
   "pygments_lexer": "ipython3",
   "version": "3.10.12"
  }
 },
 "nbformat": 4,
 "nbformat_minor": 2
}
