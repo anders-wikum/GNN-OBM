{
 "cells": [
  {
   "cell_type": "code",
   "execution_count": null,
   "metadata": {},
   "outputs": [],
   "source": [
    "import os\n",
    "os.chdir('..')"
   ]
  },
  {
   "cell_type": "code",
   "execution_count": null,
   "metadata": {},
   "outputs": [],
   "source": [
    "import torch\n",
    "import numpy as np\n",
    "from gnn_library.util import load\n",
    "from evaluate import evaluate_model\n",
    "from instance_generator import sample_instances\n",
    "from params import *\n",
    "from util import _box_plots\n",
    "\n",
    "%load_ext autoreload\n",
    "%autoreload 2"
   ]
  },
  {
   "cell_type": "code",
   "execution_count": null,
   "metadata": {},
   "outputs": [],
   "source": [
    "device = torch.device('cuda' if torch.cuda.is_available() else 'cpu')\n",
    "print(\"PyTorch has version {}\".format(torch.__version__))\n",
    "print('Using device:', device)\n",
    "\n",
    "GNN, args = load('GNN2_hyperparam_tuned', device)"
   ]
  },
  {
   "cell_type": "markdown",
   "metadata": {},
   "source": [
    "## Box plot baseline evaluation"
   ]
  },
  {
   "cell_type": "markdown",
   "metadata": {},
   "source": [
    "#### Evaluate CRs on all graph configurations"
   ]
  },
  {
   "cell_type": "code",
   "execution_count": null,
   "metadata": {},
   "outputs": [],
   "source": [
    "rng = np.random.default_rng(seed=0)\n",
    "num_trials = 40\n",
    "batch_size = 500\n",
    "node_configs = EXPERIMENT_LARGE_TESTING_REGIMES\n",
    "graph_configs = MAIN_TESTING_GRAPH_CONFIGS\n",
    "baselines_kwargs = {\n",
    "    'greedy': {},\n",
    "    'greedy_t': {'threshold': 0.35},\n",
    "    'lp_rounding': {}\n",
    "}\n",
    "\n",
    "data = {node_config: {} for node_config in node_configs}\n",
    "\n",
    "for node_config in node_configs:\n",
    "    for graph_config in graph_configs:\n",
    "            print(node_config, graph_config)\n",
    "            instances = sample_instances(\n",
    "                *node_config,\n",
    "                num_trials,\n",
    "                rng,\n",
    "                args.__dict__,\n",
    "                **graph_config\n",
    "            )\n",
    "\n",
    "            cr_ratios, _ = evaluate_model(\n",
    "                meta_model=None,\n",
    "                meta_model_type=None,\n",
    "                base_models=[GNN],\n",
    "                instances=instances,\n",
    "                batch_size=batch_size,\n",
    "                rng=rng,\n",
    "                num_realizations=5,\n",
    "                baselines=['greedy', 'greedy_t', 'lp_rounding'],\n",
    "                **baselines_kwargs\n",
    "            )\n",
    "\n",
    "            data[node_config][str(graph_config)] = cr_ratios\n"
   ]
  },
  {
   "cell_type": "markdown",
   "metadata": {},
   "source": [
    "#### Generate box plots"
   ]
  },
  {
   "cell_type": "code",
   "execution_count": null,
   "metadata": {},
   "outputs": [],
   "source": [
    "results = {}\n",
    "for graph_type, val in data[EXPERIMENT_LARGE_TESTING_REGIMES[0]].items():\n",
    "\tresults[graph_type] = val\n",
    "\n",
    "_box_plots(results, lambda graph_type: f\"GNN2_classify_{graph_type} {node_config[1]}x{node_config[0]}\")"
   ]
  },
  {
   "cell_type": "code",
   "execution_count": null,
   "metadata": {},
   "outputs": [],
   "source": []
  }
 ],
 "metadata": {
  "kernelspec": {
   "display_name": "clrs",
   "language": "python",
   "name": "python3"
  },
  "language_info": {
   "codemirror_mode": {
    "name": "ipython",
    "version": 3
   },
   "file_extension": ".py",
   "mimetype": "text/x-python",
   "name": "python",
   "nbconvert_exporter": "python",
   "pygments_lexer": "ipython3",
   "version": "3.10.12"
  }
 },
 "nbformat": 4,
 "nbformat_minor": 2
}
