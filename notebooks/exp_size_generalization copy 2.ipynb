{
 "cells": [
  {
   "cell_type": "code",
   "execution_count": 1,
   "metadata": {},
   "outputs": [],
   "source": [
    "import os\n",
    "os.chdir('..')"
   ]
  },
  {
   "cell_type": "code",
   "execution_count": 2,
   "metadata": {},
   "outputs": [],
   "source": [
    "import torch\n",
    "import pickle\n",
    "import numpy as np\n",
    "\n",
    "from gnn_library.util import load\n",
    "from evaluate import evaluate_model\n",
    "from instance_generator import sample_instances\n",
    "from params import *\n",
    "from util import _plot_approx_ratios_all\n",
    "\n",
    "%load_ext autoreload\n",
    "%autoreload 2"
   ]
  },
  {
   "cell_type": "code",
   "execution_count": 3,
   "metadata": {},
   "outputs": [
    {
     "name": "stdout",
     "output_type": "stream",
     "text": [
      "PyTorch has version 1.12.0+cu102\n",
      "Using device: cuda:2\n"
     ]
    }
   ],
   "source": [
    "device = torch.device('cuda:2' if torch.cuda.is_available() else 'cpu')\n",
    "print(\"PyTorch has version {}\".format(torch.__version__))\n",
    "print('Using device:', device)\n",
    "\n",
    "GNN, args = load('GNN_exp_diff_15_9', device)"
   ]
  },
  {
   "cell_type": "markdown",
   "metadata": {},
   "source": [
    "## Size generalization experiment"
   ]
  },
  {
   "cell_type": "markdown",
   "metadata": {},
   "source": [
    "#### Evaluate CRs for all graph configurations across different graph sizes"
   ]
  },
  {
   "cell_type": "code",
   "execution_count": 4,
   "metadata": {},
   "outputs": [],
   "source": [
    "from params import EXPERIMENT_SIZE_GENERALIZATION_REGIMES\n",
    "\n",
    "rng = np.random.default_rng(seed=0)\n",
    "# num_trials = 150\n",
    "num_trials = 30\n",
    "batch_size = 500\n",
    "# graph_configs = ALL_TESTING_GRAPH_CONFIGS\n",
    "graph_configs = MAIN_TESTING_GRAPH_CONFIGS\n",
    "\n",
    "node_configs = EXPERIMENT_SIZE_GENERALIZATION_REGIMES\n",
    "sizes = [x+y for (x,y) in node_configs]\n",
    "baselines_kwargs = {\n",
    "    'greedy': {},\n",
    "    'greedy_t': {'threshold': 0.35},\n",
    "    'lp_rounding': {},\n",
    "    'naor_lp_rounding': {}\n",
    "}\n",
    "\n",
    "data = [[] for _ in range(len(graph_configs))]\n",
    "\n",
    "##### REMOVE #####\n",
    "# graph_configs = MAIN_TESTING_GRAPH_CONFIGS[2:]\n",
    "\n",
    "# with open(f\"experiments/transferability_gnn2.pickle\", 'rb') as handle:\n",
    "#     data = pickle.load(handle)\n",
    "#####  END   #####\n",
    "\n",
    "\n",
    "\n",
    "# for data_index, graph_config in enumerate(graph_configs):\n",
    "#     for i, node_config in enumerate(node_configs):\n",
    "#         print(node_config, graph_config)\n",
    "        \n",
    "#         instances = sample_instances(\n",
    "#             *node_config,\n",
    "#             num_trials,\n",
    "#             rng,\n",
    "#             args.__dict__,\n",
    "#             **graph_config\n",
    "#         )\n",
    "\n",
    "#         cr_ratios, _ = evaluate_model(\n",
    "#             meta_model=None,\n",
    "#             meta_model_type=None,\n",
    "#             base_models=[GNN],\n",
    "#             instances=instances,\n",
    "#             batch_size=batch_size,\n",
    "#             rng=rng,\n",
    "#             num_realizations=5,\n",
    "#             # baselines=['greedy', 'greedy_t', 'lp_rounding', 'naor_lp_rounding'],\n",
    "#             baselines=[],\n",
    "#             **baselines_kwargs\n",
    "#         )\n",
    "\n",
    "#         data[data_index].append(cr_ratios)\n",
    "    \n",
    "\n",
    "#         with open(f\"experiments/transferability_gnn2_4.pickle\", 'wb') as handle:\n",
    "#             pickle.dump(data, handle, protocol=pickle.HIGHEST_PROTOCOL)\n",
    "#         with torch.no_grad():\n",
    "#             torch.cuda.empty_cache()"
   ]
  },
  {
   "cell_type": "markdown",
   "metadata": {},
   "source": [
    "#### Generate size generalization plots"
   ]
  },
  {
   "cell_type": "code",
   "execution_count": 5,
   "metadata": {},
   "outputs": [
    {
     "ename": "IndexError",
     "evalue": "list index out of range",
     "output_type": "error",
     "traceback": [
      "\u001b[0;31m---------------------------------------------------------------------------\u001b[0m",
      "\u001b[0;31mIndexError\u001b[0m                                Traceback (most recent call last)",
      "\u001b[1;32m/home/alexhay/GNN-OBM/notebooks/exp_size_generalization copy 2.ipynb Cell 8\u001b[0m in \u001b[0;36m<cell line: 7>\u001b[0;34m()\u001b[0m\n\u001b[1;32m      <a href='vscode-notebook-cell://ssh-remote%2B7b22686f73744e616d65223a22736f616c2d372e7374616e666f72642e656475222c2275736572223a22616c6578686179227d/home/alexhay/GNN-OBM/notebooks/exp_size_generalization%20copy%202.ipynb#X10sdnNjb2RlLXJlbW90ZQ%3D%3D?line=3'>4</a>\u001b[0m     results \u001b[39m=\u001b[39m pickle\u001b[39m.\u001b[39mload(handle)\n\u001b[1;32m      <a href='vscode-notebook-cell://ssh-remote%2B7b22686f73744e616d65223a22736f616c2d372e7374616e666f72642e656475222c2275736572223a22616c6578686179227d/home/alexhay/GNN-OBM/notebooks/exp_size_generalization%20copy%202.ipynb#X10sdnNjb2RlLXJlbW90ZQ%3D%3D?line=5'>6</a>\u001b[0m filtered_results \u001b[39m=\u001b[39m {\u001b[39mfrozenset\u001b[39m(g\u001b[39m.\u001b[39mitems()): data \u001b[39mfor\u001b[39;00m g, data \u001b[39min\u001b[39;00m \u001b[39mzip\u001b[39m(graph_configs, results)}\n\u001b[0;32m----> <a href='vscode-notebook-cell://ssh-remote%2B7b22686f73744e616d65223a22736f616c2d372e7374616e666f72642e656475222c2275736572223a22616c6578686179227d/home/alexhay/GNN-OBM/notebooks/exp_size_generalization%20copy%202.ipynb#X10sdnNjb2RlLXJlbW90ZQ%3D%3D?line=6'>7</a>\u001b[0m _plot_approx_ratios(sizes, filtered_results, x_axis_name\u001b[39m=\u001b[39;49m \u001b[39m\"\u001b[39;49m\u001b[39mTotal number of nodes $N$\u001b[39;49m\u001b[39m\"\u001b[39;49m, confidence \u001b[39m=\u001b[39;49m \u001b[39m0.95\u001b[39;49m)\n",
      "File \u001b[0;32m~/GNN-OBM/util.py:260\u001b[0m, in \u001b[0;36m_plot_approx_ratios\u001b[0;34m(ratios, data, naming_function, x_axis_name, confidence)\u001b[0m\n\u001b[1;32m    256\u001b[0m     i \u001b[39m+\u001b[39m\u001b[39m=\u001b[39m \u001b[39m1\u001b[39m\n\u001b[1;32m    258\u001b[0m order \u001b[39m=\u001b[39m [\u001b[39m0\u001b[39m, \u001b[39m1\u001b[39m, \u001b[39m3\u001b[39m, \u001b[39m2\u001b[39m]\n\u001b[1;32m    259\u001b[0m fig\u001b[39m.\u001b[39mlegend(\n\u001b[0;32m--> 260\u001b[0m     [handles[idx] \u001b[39mfor\u001b[39;00m idx \u001b[39min\u001b[39;00m order],\n\u001b[1;32m    261\u001b[0m     [labels[idx] \u001b[39mfor\u001b[39;00m idx \u001b[39min\u001b[39;00m order],\n\u001b[1;32m    262\u001b[0m     bbox_to_anchor\u001b[39m=\u001b[39m(\u001b[39m1.08\u001b[39m, \u001b[39m0.25\u001b[39m),\n\u001b[1;32m    263\u001b[0m     loc\u001b[39m=\u001b[39m\u001b[39m'\u001b[39m\u001b[39mlower right\u001b[39m\u001b[39m'\u001b[39m,\n\u001b[1;32m    264\u001b[0m     fontsize\u001b[39m=\u001b[39m\u001b[39m15\u001b[39m\n\u001b[1;32m    265\u001b[0m )\n\u001b[1;32m    266\u001b[0m plt\u001b[39m.\u001b[39mtick_params(labelcolor\u001b[39m=\u001b[39m\u001b[39m'\u001b[39m\u001b[39mnone\u001b[39m\u001b[39m'\u001b[39m, which\u001b[39m=\u001b[39m\u001b[39m'\u001b[39m\u001b[39mboth\u001b[39m\u001b[39m'\u001b[39m, top\u001b[39m=\u001b[39m\u001b[39mFalse\u001b[39;00m, bottom\u001b[39m=\u001b[39m\u001b[39mFalse\u001b[39;00m, left\u001b[39m=\u001b[39m\u001b[39mFalse\u001b[39;00m, right\u001b[39m=\u001b[39m\u001b[39mFalse\u001b[39;00m)\n\u001b[1;32m    267\u001b[0m plt\u001b[39m.\u001b[39mxlabel(x_axis_name, fontsize \u001b[39m=\u001b[39m fontsize2 \u001b[39m-\u001b[39m \u001b[39m2\u001b[39m, labelpad\u001b[39m=\u001b[39m\u001b[39m15\u001b[39m)\n",
      "File \u001b[0;32m~/GNN-OBM/util.py:260\u001b[0m, in \u001b[0;36m<listcomp>\u001b[0;34m(.0)\u001b[0m\n\u001b[1;32m    256\u001b[0m     i \u001b[39m+\u001b[39m\u001b[39m=\u001b[39m \u001b[39m1\u001b[39m\n\u001b[1;32m    258\u001b[0m order \u001b[39m=\u001b[39m [\u001b[39m0\u001b[39m, \u001b[39m1\u001b[39m, \u001b[39m3\u001b[39m, \u001b[39m2\u001b[39m]\n\u001b[1;32m    259\u001b[0m fig\u001b[39m.\u001b[39mlegend(\n\u001b[0;32m--> 260\u001b[0m     [handles[idx] \u001b[39mfor\u001b[39;00m idx \u001b[39min\u001b[39;00m order],\n\u001b[1;32m    261\u001b[0m     [labels[idx] \u001b[39mfor\u001b[39;00m idx \u001b[39min\u001b[39;00m order],\n\u001b[1;32m    262\u001b[0m     bbox_to_anchor\u001b[39m=\u001b[39m(\u001b[39m1.08\u001b[39m, \u001b[39m0.25\u001b[39m),\n\u001b[1;32m    263\u001b[0m     loc\u001b[39m=\u001b[39m\u001b[39m'\u001b[39m\u001b[39mlower right\u001b[39m\u001b[39m'\u001b[39m,\n\u001b[1;32m    264\u001b[0m     fontsize\u001b[39m=\u001b[39m\u001b[39m15\u001b[39m\n\u001b[1;32m    265\u001b[0m )\n\u001b[1;32m    266\u001b[0m plt\u001b[39m.\u001b[39mtick_params(labelcolor\u001b[39m=\u001b[39m\u001b[39m'\u001b[39m\u001b[39mnone\u001b[39m\u001b[39m'\u001b[39m, which\u001b[39m=\u001b[39m\u001b[39m'\u001b[39m\u001b[39mboth\u001b[39m\u001b[39m'\u001b[39m, top\u001b[39m=\u001b[39m\u001b[39mFalse\u001b[39;00m, bottom\u001b[39m=\u001b[39m\u001b[39mFalse\u001b[39;00m, left\u001b[39m=\u001b[39m\u001b[39mFalse\u001b[39;00m, right\u001b[39m=\u001b[39m\u001b[39mFalse\u001b[39;00m)\n\u001b[1;32m    267\u001b[0m plt\u001b[39m.\u001b[39mxlabel(x_axis_name, fontsize \u001b[39m=\u001b[39m fontsize2 \u001b[39m-\u001b[39m \u001b[39m2\u001b[39m, labelpad\u001b[39m=\u001b[39m\u001b[39m15\u001b[39m)\n",
      "\u001b[0;31mIndexError\u001b[0m: list index out of range"
     ]
    },
    {
     "data": {
      "image/png": "[encoded data removed]",
      "text/plain": [
       "<Figure size 864x216 with 5 Axes>"
      ]
     },
     "metadata": {
      "needs_background": "light"
     },
     "output_type": "display_data"
    }
   ],
   "source": [
    "from util import _plot_approx_ratios\n",
    "\n",
    "with open(f\"experiments/transferability_gnn2_4.pickle\", 'rb') as handle:\n",
    "    results = pickle.load(handle)\n",
    "\n",
    "filtered_results = {frozenset(g.items()): data for g, data in zip(graph_configs, results)}\n",
    "_plot_approx_ratios(sizes, filtered_results, x_axis_name= \"Total number of nodes $N$\", confidence = 0.95)"
   ]
  }
 ],
 "metadata": {
  "kernelspec": {
   "display_name": "clrs",
   "language": "python",
   "name": "python3"
  },
  "language_info": {
   "codemirror_mode": {
    "name": "ipython",
    "version": 3
   },
   "file_extension": ".py",
   "mimetype": "text/x-python",
   "name": "python",
   "nbconvert_exporter": "python",
   "pygments_lexer": "ipython3",
   "version": "3.10.12"
  }
 },
 "nbformat": 4,
 "nbformat_minor": 2
}
