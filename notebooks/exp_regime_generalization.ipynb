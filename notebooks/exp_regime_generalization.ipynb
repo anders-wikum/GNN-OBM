{
 "cells": [
  {
   "cell_type": "code",
   "execution_count": 1,
   "metadata": {},
   "outputs": [],
   "source": [
    "import os\n",
    "os.chdir('..')"
   ]
  },
  {
   "cell_type": "code",
   "execution_count": 2,
   "metadata": {},
   "outputs": [
    {
     "name": "stdout",
     "output_type": "stream",
     "text": [
      "PyTorch has version 2.0.0+cu117\n",
      "Using device: cuda:7\n"
     ]
    }
   ],
   "source": [
    "import torch\n",
    "import numpy as np\n",
    "\n",
    "from instance_generator import sample_instances\n",
    "from gnn_library.util import train, save, load, gen_train_input\n",
    "from evaluate import evaluate_model\n",
    "from params import *\n",
    "from util import upload_meta_experiment, load_meta_experiments, \\\n",
    "    graph_config_to_string, _plot_meta_ratios\n",
    "\n",
    "%load_ext autoreload\n",
    "%autoreload 2\n",
    "\n",
    "device = torch.device('cuda:7' if torch.cuda.is_available() else 'cpu')\n",
    "print(\"PyTorch has version {}\".format(torch.__version__))\n",
    "print('Using device:', device)"
   ]
  },
  {
   "cell_type": "markdown",
   "metadata": {},
   "source": [
    "## Train meta-GNN"
   ]
  },
  {
   "cell_type": "code",
   "execution_count": 3,
   "metadata": {},
   "outputs": [],
   "source": [
    "GNN1, args1 = load('GNN1_hyperparam_tuned', device)\n",
    "GNN2, args2 = load('GNN2_hyperparam_tuned', device)"
   ]
  },
  {
   "cell_type": "code",
   "execution_count": null,
   "metadata": {},
   "outputs": [],
   "source": [
    "args = {\n",
    "    'processor':         'DeeperGCN',\n",
    "    'head':              'meta',\n",
    "    'num_layers':        4,\n",
    "    'num_mlp_layers':    2,\n",
    "    'aggr':              'max',\n",
    "    'batch_size':        6,\n",
    "    'node_feature_dim':  7,\n",
    "    'edge_feature_dim':  1,\n",
    "    'graph_feature_dim': 2,\n",
    "    'hidden_dim':        8,\n",
    "    'output_dim':        2,\n",
    "    'head_mlp_dim':      8,\n",
    "    'dropout':           0,\n",
    "    'epochs':            35,\n",
    "    'opt':               'adam',\n",
    "    'opt_scheduler':     'none',\n",
    "    'opt_restart':       0,\n",
    "    'weight_decay':      5e-3,\n",
    "    'lr':                0.001,\n",
    "    'device':            device\n",
    "}\n",
    "\n",
    "train_loader, val_loader = gen_train_input(META_TRAIN_CONFIG, args, seed=0, base_models=[GNN1, GNN2])\n",
    "_, _, _, META_GNN, _ = train(train_loader, val_loader, args)\n",
    "save(META_GNN, args, 'META_GNN')\n"
   ]
  },
  {
   "cell_type": "markdown",
   "metadata": {},
   "source": [
    "## Regime generalization experiment"
   ]
  },
  {
   "cell_type": "markdown",
   "metadata": {},
   "source": [
    "#### Compute meta-GNN CRs over all graph configurations and node ratio regimes"
   ]
  },
  {
   "cell_type": "code",
   "execution_count": 4,
   "metadata": {},
   "outputs": [],
   "source": [
    "META_GNN, args = load('META_GNN', device)"
   ]
  },
  {
   "cell_type": "code",
   "execution_count": 11,
   "metadata": {},
   "outputs": [
    {
     "name": "stdout",
     "output_type": "stream",
     "text": [
      "{'graph_type': 'ER', 'p': 0.5, 'weighted': True} (30, 10)\n",
      "Set parameter TokenServer to value \"soal-nas.stanford.edu\"\n",
      "Set parameter TokenServer to value \"soal-nas.stanford.edu\"\n",
      "Set parameter TokenServer to value \"soal-nas.stanford.edu\"\n",
      "Set parameter TokenServer to value \"soal-nas.stanford.edu\"\n",
      "Set parameter TokenServer to value \"soal-nas.stanford.edu\"\n",
      "Set parameter TokenServer to value \"soal-nas.stanford.edu\"\n",
      "Set parameter TokenServer to value \"soal-nas.stanford.edu\"\n",
      "Set parameter TokenServer to value \"soal-nas.stanford.edu\"\n",
      "Set parameter TokenServer to value \"soal-nas.stanford.edu\"\n",
      "Set parameter TokenServer to value \"soal-nas.stanford.edu\"\n",
      "Set parameter TokenServer to value \"soal-nas.stanford.edu\"\n",
      "Set parameter TokenServer to value \"soal-nas.stanford.edu\"\n",
      "Set parameter TokenServer to value \"soal-nas.stanford.edu\"\n",
      "Set parameter TokenServer to value \"soal-nas.stanford.edu\"\n",
      "Set parameter TokenServer to value \"soal-nas.stanford.edu\"\n",
      "Set parameter TokenServer to value \"soal-nas.stanford.edu\"\n",
      "Set parameter TokenServer to value \"soal-nas.stanford.edu\"\n",
      "Set parameter TokenServer to value \"soal-nas.stanford.edu\"\n",
      "Set parameter TokenServer to value \"soal-nas.stanford.edu\"\n",
      "Set parameter TokenServer to value \"soal-nas.stanford.edu\"\n",
      "Set parameter TokenServer to value \"soal-nas.stanford.edu\"\n",
      "Set parameter TokenServer to value \"soal-nas.stanford.edu\"\n",
      "Set parameter TokenServer to value \"soal-nas.stanford.edu\"\n",
      "Set parameter TokenServer to value \"soal-nas.stanford.edu\"\n",
      "Set parameter TokenServer to value \"soal-nas.stanford.edu\"\n",
      "Set parameter TokenServer to value \"soal-nas.stanford.edu\"\n",
      "Set parameter TokenServer to value \"soal-nas.stanford.edu\"\n",
      "Set parameter TokenServer to value \"soal-nas.stanford.edu\"\n",
      "Set parameter TokenServer to value \"soal-nas.stanford.edu\"\n",
      "Set parameter TokenServer to value \"soal-nas.stanford.edu\"\n",
      "Set parameter TokenServer to value \"soal-nas.stanford.edu\"\n",
      "Set parameter TokenServer to value \"soal-nas.stanford.edu\"\n",
      "Set parameter TokenServer to value \"soal-nas.stanford.edu\"\n",
      "Set parameter TokenServer to value \"soal-nas.stanford.edu\"\n",
      "Set parameter TokenServer to value \"soal-nas.stanford.edu\"\n",
      "Set parameter TokenServer to value \"soal-nas.stanford.edu\"\n",
      "Set parameter TokenServer to value \"soal-nas.stanford.edu\"\n",
      "Set parameter TokenServer to value \"soal-nas.stanford.edu\"\n",
      "Set parameter TokenServer to value \"soal-nas.stanford.edu\"\n",
      "Set parameter TokenServer to value \"soal-nas.stanford.edu\"\n",
      "Set parameter TokenServer to value \"soal-nas.stanford.edu\"\n",
      "Set parameter TokenServer to value \"soal-nas.stanford.edu\"\n",
      "Set parameter TokenServer to value \"soal-nas.stanford.edu\"\n",
      "Set parameter TokenServer to value \"soal-nas.stanford.edu\"\n",
      "Set parameter TokenServer to value \"soal-nas.stanford.edu\"\n",
      "Set parameter TokenServer to value \"soal-nas.stanford.edu\"\n",
      "Set parameter TokenServer to value \"soal-nas.stanford.edu\"\n",
      "Set parameter TokenServer to value \"soal-nas.stanford.edu\"\n",
      "Set parameter TokenServer to value \"soal-nas.stanford.edu\"\n",
      "Set parameter TokenServer to value \"soal-nas.stanford.edu\"\n",
      "Generation time: 0.3561024321243167\n",
      "GNN time: 4.3256409503519535\n",
      "        Model assignment time: 2.4292543986812234\n",
      "        State update time: {'init': 0.0045214202255010605, 'gnn state update': 0.9422435965389013, 'state only': 0.015236751176416874, 'pyg only': 1.8324510585516691, 'state update': 0.9275605054572225, 'total': 1.8959421180188656}\n",
      "Baseline times: {'lp_solve': 2.402595281600952, 'greedy': 0.02097174059599638, 'greedy_t': 0.017777410335838795, 'lp_rounding': 0.08436122816056013, 'naor_lp_rounding': 0.16517701465636492}\n",
      "Total time: 7.386211418546736\n"
     ]
    }
   ],
   "source": [
    "seed = 0\n",
    "rng = np.random.default_rng(seed)\n",
    "num_trials = 50#100\n",
    "batch_size = 100\n",
    "graph_configs = ALL_TESTING_GRAPH_CONFIGS[1:2]\n",
    "node_configs = [(30, 10)] #EXPERIMENT_META_REGIMES[:2]\n",
    "baselines_kwargs = {\n",
    "    'greedy': {},\n",
    "    'greedy_t': {'threshold': 0.35},\n",
    "    'lp_rounding': {'rng': rng},\n",
    "    'naor_lp_rounding': {'rng': rng}\n",
    "}\n",
    "\n",
    "regimes = [x/y for (x,y) in node_configs]\n",
    "\n",
    "def _init_data():\n",
    "    return {\n",
    "        \"num_trials\": num_trials,\n",
    "        \"meta_gnn\": [],\n",
    "        \"greedy\": [],\n",
    "        \"greedy_t\": [],\n",
    "        \"lp_rounding\": [],\n",
    "        \"naor_lp_rounding\": [],\n",
    "        \"meta_threshold\": []\n",
    "    }\n",
    "\n",
    "for graph_config in graph_configs:\n",
    "    data = _init_data()\n",
    "    graph_str = graph_config_to_string(graph_config)\n",
    "\n",
    "    for i, node_config in enumerate(node_configs):\n",
    "        print(graph_config, node_config)\n",
    "        instances = sample_instances(\n",
    "            *node_config,\n",
    "            num_trials,\n",
    "            rng,\n",
    "            args.__dict__,\n",
    "            **graph_config\n",
    "        )\n",
    "\n",
    "        rng = np.random.default_rng(seed)\n",
    "        crs, _ = evaluate_model(\n",
    "            meta_model=None,\n",
    "            meta_model_type='gnn',\n",
    "            base_models=[GNN2],\n",
    "            instances=instances,\n",
    "            batch_size=batch_size,\n",
    "            rng=rng,\n",
    "            num_realizations=5,\n",
    "            baselines=['greedy', 'greedy_t', 'lp_rounding', 'naor_lp_rounding'],\n",
    "            **baselines_kwargs\n",
    "        )\n",
    "        \n",
    "        # rng = np.random.default_rng(seed)\n",
    "        # threshold_crs, _ = evaluate_model(\n",
    "        #     meta_model=None,\n",
    "        #     meta_model_type='threshold',\n",
    "        #     base_models=[GNN1, GNN2],\n",
    "        #     instances=instances,\n",
    "        #     batch_size=batch_size,\n",
    "        #     rng=rng,\n",
    "        #     num_realizations=5\n",
    "        # )\n",
    "\n",
    "        data['meta_gnn'].append(crs['learned'])\n",
    "        data['greedy'].append(crs['greedy'])\n",
    "        data['greedy_t'].append(crs['greedy_t'])\n",
    "        data['lp_rounding'].append(crs['lp_rounding'])\n",
    "        data['naor_lp_rounding'].append(crs['naor_lp_rounding'])\n",
    "        # data['meta_threshold'].append(threshold_crs['learned'])\n",
    "    \n",
    "    upload_meta_experiment(graph_str, data)"
   ]
  },
  {
   "cell_type": "code",
   "execution_count": 12,
   "metadata": {},
   "outputs": [
    {
     "name": "stdout",
     "output_type": "stream",
     "text": [
      "meta_gnn 0.9279833390197161\n",
      "greedy 0.828318822255999\n",
      "greedy_t 0.8758674597095005\n",
      "lp_rounding 0.9287539827432307\n",
      "naor_lp_rounding 0.9179439771209859\n"
     ]
    }
   ],
   "source": [
    "for key in data.keys():\n",
    "    if key != 'num_trials' and key != 'meta_threshold':\n",
    "        print(key, np.mean(data[key]))"
   ]
  },
  {
   "cell_type": "markdown",
   "metadata": {},
   "source": [
    "#### Generate regime generalization plots"
   ]
  },
  {
   "cell_type": "code",
   "execution_count": 12,
   "metadata": {},
   "outputs": [
    {
     "ename": "KeyError",
     "evalue": "'meta_gnn'",
     "output_type": "error",
     "traceback": [
      "\u001b[0;31m---------------------------------------------------------------------------\u001b[0m",
      "\u001b[0;31mKeyError\u001b[0m                                  Traceback (most recent call last)",
      "Input \u001b[0;32mIn [12]\u001b[0m, in \u001b[0;36m<cell line: 2>\u001b[0;34m()\u001b[0m\n\u001b[1;32m      1\u001b[0m results \u001b[38;5;241m=\u001b[39m load_meta_experiments(ALL_TESTING_GRAPH_CONFIGS)\n\u001b[0;32m----> 2\u001b[0m \u001b[43m_plot_meta_ratios\u001b[49m\u001b[43m(\u001b[49m\n\u001b[1;32m      3\u001b[0m \u001b[43m    \u001b[49m\u001b[43mregimes\u001b[49m\u001b[43m,\u001b[49m\n\u001b[1;32m      4\u001b[0m \u001b[43m    \u001b[49m\u001b[43mresults\u001b[49m\u001b[43m,\u001b[49m\n\u001b[1;32m      5\u001b[0m \u001b[43m    \u001b[49m\u001b[43m[\u001b[49m\u001b[38;5;124;43m'\u001b[39;49m\u001b[38;5;124;43mmeta_gnn\u001b[39;49m\u001b[38;5;124;43m'\u001b[39;49m\u001b[43m,\u001b[49m\u001b[43m \u001b[49m\u001b[38;5;124;43m'\u001b[39;49m\u001b[38;5;124;43mgreedy\u001b[39;49m\u001b[38;5;124;43m'\u001b[39;49m\u001b[43m,\u001b[49m\u001b[43m \u001b[49m\u001b[38;5;124;43m'\u001b[39;49m\u001b[38;5;124;43mgreedy_t\u001b[39;49m\u001b[38;5;124;43m'\u001b[39;49m\u001b[43m,\u001b[49m\u001b[43m \u001b[49m\u001b[38;5;124;43m'\u001b[39;49m\u001b[38;5;124;43mlp_rounding\u001b[39;49m\u001b[38;5;124;43m'\u001b[39;49m\u001b[43m,\u001b[49m\u001b[43m \u001b[49m\u001b[38;5;124;43m'\u001b[39;49m\u001b[38;5;124;43mnaor_lp_rounding\u001b[39;49m\u001b[38;5;124;43m'\u001b[39;49m\u001b[43m]\u001b[49m\u001b[43m,\u001b[49m\n\u001b[1;32m      6\u001b[0m \u001b[43m    \u001b[49m\u001b[38;5;28;43;01mlambda\u001b[39;49;00m\u001b[43m \u001b[49m\u001b[43mgraph_type\u001b[49m\u001b[43m:\u001b[49m\u001b[43m \u001b[49m\u001b[43mgraph_type\u001b[49m\u001b[43m,\u001b[49m\n\u001b[1;32m      7\u001b[0m \u001b[43m    \u001b[49m\u001b[43mconfidence\u001b[49m\u001b[43m \u001b[49m\u001b[38;5;241;43m=\u001b[39;49m\u001b[43m \u001b[49m\u001b[38;5;241;43m0.95\u001b[39;49m\n\u001b[1;32m      8\u001b[0m \u001b[43m)\u001b[49m\n",
      "File \u001b[0;32m~/GNN-OBM/util.py:508\u001b[0m, in \u001b[0;36m_plot_meta_ratios\u001b[0;34m(ratios, data, models, naming_function, x_axis_name, confidence)\u001b[0m\n\u001b[1;32m    506\u001b[0m ci_lbs \u001b[38;5;241m=\u001b[39m [val[\u001b[38;5;241m1\u001b[39m] \u001b[38;5;28;01mfor\u001b[39;00m val \u001b[38;5;129;01min\u001b[39;00m model_ratios]\n\u001b[1;32m    507\u001b[0m ci_ubs \u001b[38;5;241m=\u001b[39m [val[\u001b[38;5;241m2\u001b[39m] \u001b[38;5;28;01mfor\u001b[39;00m val \u001b[38;5;129;01min\u001b[39;00m model_ratios]\n\u001b[0;32m--> 508\u001b[0m ax[i, j]\u001b[38;5;241m.\u001b[39mplot(ratios, competitive_ratios, label\u001b[38;5;241m=\u001b[39m\u001b[43mlabel_map\u001b[49m\u001b[43m[\u001b[49m\u001b[43mmodel\u001b[49m\u001b[43m]\u001b[49m, color\u001b[38;5;241m=\u001b[39mcolor_map[model])\n\u001b[1;32m    509\u001b[0m ax[i, j]\u001b[38;5;241m.\u001b[39mfill_between(ratios, ci_lbs, ci_ubs, alpha \u001b[38;5;241m=\u001b[39m \u001b[38;5;241m0.2\u001b[39m, color\u001b[38;5;241m=\u001b[39mcolor_map[model])\n\u001b[1;32m    510\u001b[0m ax[i, j]\u001b[38;5;241m.\u001b[39mgrid(visible\u001b[38;5;241m=\u001b[39m\u001b[38;5;28;01mTrue\u001b[39;00m, which\u001b[38;5;241m=\u001b[39m\u001b[38;5;124m'\u001b[39m\u001b[38;5;124mboth\u001b[39m\u001b[38;5;124m'\u001b[39m, axis\u001b[38;5;241m=\u001b[39m\u001b[38;5;124m'\u001b[39m\u001b[38;5;124mboth\u001b[39m\u001b[38;5;124m'\u001b[39m)\n",
      "\u001b[0;31mKeyError\u001b[0m: 'meta_gnn'"
     ]
    },
    {
     "data": {
      "image/png": "[encoded data removed]",
      "text/plain": [
       "<Figure size 864x1152 with 13 Axes>"
      ]
     },
     "metadata": {
      "needs_background": "light"
     },
     "output_type": "display_data"
    }
   ],
   "source": [
    "results = load_meta_experiments(ALL_TESTING_GRAPH_CONFIGS)\n",
    "_plot_meta_ratios(\n",
    "    regimes,\n",
    "    results,\n",
    "    ['meta_gnn', 'greedy', 'greedy_t', 'lp_rounding', 'naor_lp_rounding'],\n",
    "    lambda graph_type: graph_type,\n",
    "    confidence = 0.95\n",
    ")"
   ]
  },
  {
   "cell_type": "markdown",
   "metadata": {},
   "source": []
  },
  {
   "cell_type": "code",
   "execution_count": null,
   "metadata": {},
   "outputs": [],
   "source": [
    "data = load_meta_experiments(graph_configs)"
   ]
  }
 ],
 "metadata": {
  "kernelspec": {
   "display_name": "Python 3",
   "language": "python",
   "name": "python3"
  },
  "language_info": {
   "codemirror_mode": {
    "name": "ipython",
    "version": 3
   },
   "file_extension": ".py",
   "mimetype": "text/x-python",
   "name": "python",
   "nbconvert_exporter": "python",
   "pygments_lexer": "ipython3",
   "version": "3.10.12"
  },
  "orig_nbformat": 4
 },
 "nbformat": 4,
 "nbformat_minor": 2
}
