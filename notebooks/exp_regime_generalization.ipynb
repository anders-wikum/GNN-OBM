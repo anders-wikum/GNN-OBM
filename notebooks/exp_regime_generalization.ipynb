{
 "cells": [
  {
   "cell_type": "code",
   "execution_count": null,
   "metadata": {},
   "outputs": [],
   "source": [
    "import os\n",
    "os.chdir('..')"
   ]
  },
  {
   "cell_type": "code",
   "execution_count": null,
   "metadata": {},
   "outputs": [],
   "source": [
    "import torch\n",
    "import numpy as np\n",
    "\n",
    "from instance_generator import sample_instances\n",
    "from gnn_library.util import load\n",
    "from gnn_library.train import train_meta_model\n",
    "from evaluate import evaluate_model\n",
    "from params import TEST_CONFIGS, REGIMES\n",
    "from util import upload_meta_experiment, load_meta_experiments, \\\n",
    "    graph_config_to_string, _plot_meta_ratios, _plot_meta_ratios_main\n",
    "\n",
    "%load_ext autoreload\n",
    "%autoreload 2\n",
    "\n",
    "device = torch.device('cuda:7' if torch.cuda.is_available() else 'cpu')\n",
    "print(\"PyTorch has version {}\".format(torch.__version__))\n",
    "print('Using device:', device)"
   ]
  },
  {
   "cell_type": "markdown",
   "metadata": {},
   "source": [
    "## Train meta-GNN"
   ]
  },
  {
   "cell_type": "code",
   "execution_count": null,
   "metadata": {},
   "outputs": [],
   "source": [
    "GNN1, args1 = load('GNN_large_6_10', device)\n",
    "GNN2, args2 = load('GNN_large_10_6', device)\n",
    "\n",
    "args = {\n",
    "    'processor':         'DeeperGCN',\n",
    "    'head':              'meta',\n",
    "    'num_layers':        4,\n",
    "    'num_mlp_layers':    2,\n",
    "    'aggr':              'max',\n",
    "    'batch_size':        6,\n",
    "    'node_feature_dim':  7,\n",
    "    'edge_feature_dim':  1,\n",
    "    'graph_feature_dim': 2,\n",
    "    'hidden_dim':        8,\n",
    "    'output_dim':        2,\n",
    "    'head_mlp_dim':      8,\n",
    "    'dropout':           0,\n",
    "    'epochs':            35,\n",
    "    'opt':               'adam',\n",
    "    'opt_scheduler':     'none',\n",
    "    'opt_restart':       0,\n",
    "    'weight_decay':      5e-3,\n",
    "    'lr':                0.001,\n",
    "    'device':            device\n",
    "}\n",
    "\n",
    "_ = train_meta_model(\n",
    "    base_models=[GNN1, GNN2],\n",
    "    name='META_GNN_TEST',\n",
    "    args=args\n",
    ")"
   ]
  },
  {
   "cell_type": "markdown",
   "metadata": {},
   "source": [
    "## Regime generalization experiment"
   ]
  },
  {
   "cell_type": "markdown",
   "metadata": {},
   "source": [
    "#### Compute meta-GNN CRs over all graph configurations and node ratio regimes"
   ]
  },
  {
   "cell_type": "code",
   "execution_count": null,
   "metadata": {},
   "outputs": [],
   "source": [
    "META_GNN, args = load('META_GNN_TEST', device)"
   ]
  },
  {
   "cell_type": "code",
   "execution_count": null,
   "metadata": {},
   "outputs": [],
   "source": [
    "seed = 0\n",
    "rng = np.random.default_rng(seed)\n",
    "num_trials = 50\n",
    "batch_size = 100\n",
    "graph_configs = TEST_CONFIGS['ALL']\n",
    "node_configs = REGIMES['REGIME_GENERALIZATION']\n",
    "baselines_kwargs = {\n",
    "    'greedy': {},\n",
    "    'greedy_t': {'threshold': 0.35},\n",
    "    'lp_rounding': {'rng': rng},\n",
    "    'naor_lp_rounding': {'rng': rng},\n",
    "    'pollner_lp_rounding': {'rng': rng}\n",
    "}\n",
    "\n",
    "regimes = [x/y for (x,y) in node_configs]\n",
    "\n",
    "def _init_data():\n",
    "    return {\n",
    "        \"num_trials\": num_trials,\n",
    "        \"meta_gnn\": [],\n",
    "        \"greedy\": [],\n",
    "        \"greedy_t\": [],\n",
    "        \"lp_rounding\": [],\n",
    "        \"naor_lp_rounding\": [],\n",
    "        \"pollner_lp_rounding\": [],\n",
    "        \"meta_threshold\": []\n",
    "    }\n",
    "\n",
    "for graph_config in graph_configs:\n",
    "    data = _init_data()\n",
    "    graph_str = graph_config_to_string(graph_config)\n",
    "\n",
    "    for i, node_config in enumerate(node_configs):\n",
    "        print(graph_config, node_config)\n",
    "        instances = sample_instances(\n",
    "            *node_config,\n",
    "            num_trials,\n",
    "            rng,\n",
    "            args.__dict__,\n",
    "            **graph_config\n",
    "        )\n",
    "\n",
    "        rng = np.random.default_rng(seed)\n",
    "        crs, _ = evaluate_model(\n",
    "            meta_model=META_GNN,\n",
    "            meta_model_type='gnn',\n",
    "            base_models=[GNN1, GNN2],\n",
    "            instances=instances,\n",
    "            batch_size=batch_size,\n",
    "            rng=rng,\n",
    "            num_realizations=5,\n",
    "            baselines=[],\n",
    "            **baselines_kwargs\n",
    "        )\n",
    "\n",
    "        data['meta_gnn'].append(crs['learned'])\n",
    "        data['greedy'].append(crs['greedy'])\n",
    "        data['greedy_t'].append(crs['greedy_t'])\n",
    "        data['lp_rounding'].append(crs['lp_rounding'])\n",
    "\n",
    "    upload_meta_experiment(graph_str, data)"
   ]
  },
  {
   "cell_type": "markdown",
   "metadata": {},
   "source": [
    "#### Generate regime generalization plots"
   ]
  },
  {
   "cell_type": "code",
   "execution_count": null,
   "metadata": {},
   "outputs": [],
   "source": [
    "\n",
    "results = load_meta_experiments(graph_configs)\n",
    "_plot_meta_ratios(\n",
    "    regimes,\n",
    "    results,\n",
    "    ['meta_gnn', 'meta_threshold'],\n",
    "    lambda graph_type: graph_type,\n",
    "    confidence = 0.95\n",
    ")"
   ]
  }
 ],
 "metadata": {
  "kernelspec": {
   "display_name": "Python 3",
   "language": "python",
   "name": "python3"
  },
  "language_info": {
   "codemirror_mode": {
    "name": "ipython",
    "version": 3
   },
   "file_extension": ".py",
   "mimetype": "text/x-python",
   "name": "python",
   "nbconvert_exporter": "python",
   "pygments_lexer": "ipython3",
   "version": "3.10.12"
  },
  "orig_nbformat": 4
 },
 "nbformat": 4,
 "nbformat_minor": 2
}
