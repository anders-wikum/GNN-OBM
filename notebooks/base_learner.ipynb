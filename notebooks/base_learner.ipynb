{
 "cells": [
  {
   "cell_type": "code",
   "execution_count": 1,
   "metadata": {},
   "outputs": [],
   "source": [
    "import torch\n",
    "import numpy as np\n",
    "\n",
    "import os\n",
    "os.chdir('..')\n",
    "from torch_geometric.loader import DataLoader\n",
    "from gnn_library.util import train, save, load\n",
    "from evaluate import evaluate_model, pp_output\n",
    "import instance_generator as ig\n",
    "import torch_converter as tc\n",
    "import evaluate as ev\n",
    "import osmnx as ox\n",
    "from util import Dataset\n",
    "\n",
    "%load_ext autoreload\n",
    "%autoreload 2"
   ]
  },
  {
   "cell_type": "code",
   "execution_count": 2,
   "metadata": {},
   "outputs": [
    {
     "name": "stdout",
     "output_type": "stream",
     "text": [
      "PyTorch has version 1.12.0+cu102\n",
      "Using device: cuda:0\n"
     ]
    }
   ],
   "source": [
    "device = torch.device('cuda:0' if torch.cuda.is_available() else 'cpu')\n",
    "print(\"PyTorch has version {}\".format(torch.__version__))\n",
    "print('Using device:', device)"
   ]
  },
  {
   "cell_type": "code",
   "execution_count": 3,
   "metadata": {},
   "outputs": [],
   "source": [
    "args = {\n",
    "    'processor':         'GENConv',\n",
    "    'head':              'regression',\n",
    "    'num_layers':        2,\n",
    "    'num_mlp_layers':    2,\n",
    "    'aggr':              'max',\n",
    "    'batch_size':        32,\n",
    "    'node_feature_dim':  4,\n",
    "    'edge_feature_dim':  1,\n",
    "    'graph_feature_dim': 2,\n",
    "    'hidden_dim':        64,\n",
    "    'output_dim':        1,\n",
    "    'dropout':           0.35,\n",
    "    'epochs':            25,\n",
    "    'opt':               'adam',\n",
    "    'opt_scheduler':     'none',\n",
    "    'opt_restart':       0,\n",
    "    'weight_decay':      5e-3,\n",
    "    'lr':                0.0001,\n",
    "    'device':            device\n",
    "}\n",
    "\n",
    "train_num = 100; test_num = 30\n",
    "\n",
    "er_config = {\n",
    "    'graph_type': 'ER',\n",
    "    'p': 1,\n",
    "    'weighted': True\n",
    "}\n",
    "ba_config = {\n",
    "    'graph_type': 'BA',\n",
    "    'ba_param': 2,\n",
    "    'weighted': True\n",
    "}\n",
    "geom_config = {\n",
    "    'graph_type': 'GEOM',\n",
    "    'threshold': 0.2,\n",
    "    'scaling': 1 / np.sqrt(2)\n",
    "}\n",
    "\n",
    "rng = np.random.default_rng()\n",
    "\n",
    "\n",
    "train_instances = [\n",
    "        *ig.sample_instances(9, 7, train_num, rng, **er_config),\n",
    "        *ig.sample_instances(9, 7, train_num, rng, **ba_config),\n",
    "        *ig.sample_instances(9, 7, train_num, rng, **geom_config),\n",
    "    ]\n",
    "\n",
    "test_instances = [\n",
    "        *ig.sample_instances(9, 7, test_num, rng, **er_config),\n",
    "        *ig.sample_instances(9, 7, test_num, rng, **ba_config),\n",
    "        *ig.sample_instances(9, 7, test_num, rng, **geom_config),\n",
    "    ]\n",
    "\n",
    "\n",
    "train_data = Dataset(tc._instances_to_train_samples(train_instances, args['head']))\n",
    "test_data = Dataset(tc._instances_to_train_samples(test_instances, args['head']))\n",
    "\n",
    "train_loader = DataLoader(\n",
    "    train_data,\n",
    "    batch_size=args['batch_size'],\n",
    "    shuffle=True,\n",
    "    num_workers=4\n",
    ")\n",
    "\n",
    "test_loader = DataLoader(\n",
    "    test_data,\n",
    "    batch_size=args['batch_size'],\n",
    "    shuffle=True,\n",
    "    num_workers=4\n",
    ")"
   ]
  },
  {
   "cell_type": "code",
   "execution_count": 4,
   "metadata": {},
   "outputs": [
    {
     "name": "stderr",
     "output_type": "stream",
     "text": [
      "Training:   0%|          | 0/25 [00:00<?, ?Epochs/s]/home/alexhay/.local/lib/python3.10/site-packages/torch_geometric/utils/scatter.py:93: UserWarning: The usage of `scatter(reduce='max')` can be accelerated via the 'torch-scatter' package, but it was not found\n",
      "  warnings.warn(f\"The usage of `scatter(reduce='{reduce}')` \"\n"
     ]
    },
    {
     "name": "stdout",
     "output_type": "stream",
     "text": [
      "0.09270249410456553\n"
     ]
    },
    {
     "name": "stderr",
     "output_type": "stream",
     "text": [
      "Training:   4%|▍         | 1/25 [00:03<01:28,  3.67s/Epochs]"
     ]
    },
    {
     "name": "stdout",
     "output_type": "stream",
     "text": [
      "TEST ACCURACY: 0.0\n",
      "TEST LOSS: 0.04022132605314255\n"
     ]
    },
    {
     "name": "stderr",
     "output_type": "stream",
     "text": [
      "Training:   8%|▊         | 2/25 [00:06<01:07,  2.95s/Epochs]"
     ]
    },
    {
     "name": "stdout",
     "output_type": "stream",
     "text": [
      "0.05023890139415628\n",
      "0.03616150247782107\n"
     ]
    },
    {
     "name": "stderr",
     "output_type": "stream",
     "text": [
      "Training:  12%|█▏        | 3/25 [00:09<01:10,  3.21s/Epochs]"
     ]
    },
    {
     "name": "stdout",
     "output_type": "stream",
     "text": [
      "TEST ACCURACY: 0.0\n",
      "TEST LOSS: 0.01895955763757229\n"
     ]
    },
    {
     "name": "stderr",
     "output_type": "stream",
     "text": [
      "Training:  16%|█▌        | 4/25 [00:12<01:01,  2.92s/Epochs]"
     ]
    },
    {
     "name": "stdout",
     "output_type": "stream",
     "text": [
      "0.03035742822434088\n",
      "0.026108446229165305\n"
     ]
    },
    {
     "name": "stderr",
     "output_type": "stream",
     "text": [
      "Training:  20%|██        | 5/25 [00:15<01:01,  3.09s/Epochs]"
     ]
    },
    {
     "name": "stdout",
     "output_type": "stream",
     "text": [
      "TEST ACCURACY: 0.0\n",
      "TEST LOSS: 0.014448091387748718\n"
     ]
    },
    {
     "name": "stderr",
     "output_type": "stream",
     "text": [
      "Training:  24%|██▍       | 6/25 [00:17<00:54,  2.85s/Epochs]"
     ]
    },
    {
     "name": "stdout",
     "output_type": "stream",
     "text": [
      "0.023623614405738624\n",
      "0.021102841385031698\n"
     ]
    },
    {
     "name": "stderr",
     "output_type": "stream",
     "text": [
      "Training:  28%|██▊       | 7/25 [00:21<00:54,  3.03s/Epochs]"
     ]
    },
    {
     "name": "stdout",
     "output_type": "stream",
     "text": [
      "TEST ACCURACY: 0.0\n",
      "TEST LOSS: 0.01310906745493412\n"
     ]
    },
    {
     "name": "stderr",
     "output_type": "stream",
     "text": [
      "Training:  32%|███▏      | 8/25 [00:23<00:48,  2.88s/Epochs]"
     ]
    },
    {
     "name": "stdout",
     "output_type": "stream",
     "text": [
      "0.020244684367338953\n",
      "0.019413553730324815\n"
     ]
    },
    {
     "name": "stderr",
     "output_type": "stream",
     "text": [
      "Training:  36%|███▌      | 9/25 [00:27<00:47,  2.98s/Epochs]"
     ]
    },
    {
     "name": "stdout",
     "output_type": "stream",
     "text": [
      "TEST ACCURACY: 0.0\n",
      "TEST LOSS: 0.012362548150122166\n"
     ]
    },
    {
     "name": "stderr",
     "output_type": "stream",
     "text": [
      "Training:  40%|████      | 10/25 [00:29<00:42,  2.81s/Epochs]"
     ]
    },
    {
     "name": "stdout",
     "output_type": "stream",
     "text": [
      "0.018031863427916267\n",
      "0.017561818224473162\n"
     ]
    },
    {
     "name": "stderr",
     "output_type": "stream",
     "text": [
      "Training:  44%|████▍     | 11/25 [00:32<00:42,  3.02s/Epochs]"
     ]
    },
    {
     "name": "stdout",
     "output_type": "stream",
     "text": [
      "TEST ACCURACY: 0.0\n",
      "TEST LOSS: 0.011288085952401161\n"
     ]
    },
    {
     "name": "stderr",
     "output_type": "stream",
     "text": [
      "Training:  48%|████▊     | 12/25 [00:35<00:36,  2.79s/Epochs]"
     ]
    },
    {
     "name": "stdout",
     "output_type": "stream",
     "text": [
      "0.016861126830791683\n",
      "0.015494288844371172\n"
     ]
    },
    {
     "name": "stderr",
     "output_type": "stream",
     "text": [
      "Training:  52%|█████▏    | 13/25 [00:38<00:35,  2.96s/Epochs]"
     ]
    },
    {
     "name": "stdout",
     "output_type": "stream",
     "text": [
      "TEST ACCURACY: 0.0\n",
      "TEST LOSS: 0.010873080231249332\n"
     ]
    },
    {
     "name": "stderr",
     "output_type": "stream",
     "text": [
      "Training:  56%|█████▌    | 14/25 [00:41<00:31,  2.84s/Epochs]"
     ]
    },
    {
     "name": "stdout",
     "output_type": "stream",
     "text": [
      "0.015649402543153466\n",
      "0.015253651732227005\n"
     ]
    },
    {
     "name": "stderr",
     "output_type": "stream",
     "text": [
      "Training:  60%|██████    | 15/25 [00:44<00:29,  2.96s/Epochs]"
     ]
    },
    {
     "name": "stdout",
     "output_type": "stream",
     "text": [
      "TEST ACCURACY: 0.0\n",
      "TEST LOSS: 0.010572009719908237\n"
     ]
    },
    {
     "name": "stderr",
     "output_type": "stream",
     "text": [
      "Training:  64%|██████▍   | 16/25 [00:46<00:24,  2.75s/Epochs]"
     ]
    },
    {
     "name": "stdout",
     "output_type": "stream",
     "text": [
      "0.014764449444552642\n",
      "0.014781551558259661\n"
     ]
    },
    {
     "name": "stderr",
     "output_type": "stream",
     "text": [
      "Training:  68%|██████▊   | 17/25 [00:50<00:23,  3.00s/Epochs]"
     ]
    },
    {
     "name": "stdout",
     "output_type": "stream",
     "text": [
      "TEST ACCURACY: 0.0\n",
      "TEST LOSS: 0.009678961709141731\n"
     ]
    },
    {
     "name": "stderr",
     "output_type": "stream",
     "text": [
      "Training:  72%|███████▏  | 18/25 [00:52<00:19,  2.85s/Epochs]"
     ]
    },
    {
     "name": "stdout",
     "output_type": "stream",
     "text": [
      "0.013736731978052617\n",
      "0.013455699530447894\n"
     ]
    },
    {
     "name": "stderr",
     "output_type": "stream",
     "text": [
      "Training:  76%|███████▌  | 19/25 [00:56<00:18,  3.05s/Epochs]"
     ]
    },
    {
     "name": "stdout",
     "output_type": "stream",
     "text": [
      "TEST ACCURACY: 0.0\n",
      "TEST LOSS: 0.009148688055574894\n"
     ]
    },
    {
     "name": "stderr",
     "output_type": "stream",
     "text": [
      "Training:  80%|████████  | 20/25 [00:58<00:14,  2.88s/Epochs]"
     ]
    },
    {
     "name": "stdout",
     "output_type": "stream",
     "text": [
      "0.013203536010181057\n",
      "0.013185927541071042\n"
     ]
    },
    {
     "name": "stderr",
     "output_type": "stream",
     "text": [
      "Training:  84%|████████▍ | 21/25 [01:02<00:12,  3.04s/Epochs]"
     ]
    },
    {
     "name": "stdout",
     "output_type": "stream",
     "text": [
      "TEST ACCURACY: 0.0\n",
      "TEST LOSS: 0.011066797189414501\n"
     ]
    },
    {
     "name": "stderr",
     "output_type": "stream",
     "text": [
      "Training:  88%|████████▊ | 22/25 [01:04<00:08,  2.87s/Epochs]"
     ]
    },
    {
     "name": "stdout",
     "output_type": "stream",
     "text": [
      "0.012840224013533089\n",
      "0.012498346974095088\n"
     ]
    },
    {
     "name": "stderr",
     "output_type": "stream",
     "text": [
      "Training:  92%|█████████▏| 23/25 [01:08<00:06,  3.03s/Epochs]"
     ]
    },
    {
     "name": "stdout",
     "output_type": "stream",
     "text": [
      "TEST ACCURACY: 0.0\n",
      "TEST LOSS: 0.009984132833778858\n"
     ]
    },
    {
     "name": "stderr",
     "output_type": "stream",
     "text": [
      "Training:  96%|█████████▌| 24/25 [01:10<00:02,  2.91s/Epochs]"
     ]
    },
    {
     "name": "stdout",
     "output_type": "stream",
     "text": [
      "0.01266662621518768\n",
      "0.012334264575970234\n"
     ]
    },
    {
     "name": "stderr",
     "output_type": "stream",
     "text": [
      "Training: 100%|██████████| 25/25 [01:14<00:00,  2.97s/Epochs]"
     ]
    },
    {
     "name": "stdout",
     "output_type": "stream",
     "text": [
      "TEST ACCURACY: 0.0\n",
      "TEST LOSS: 0.013666024431586266\n"
     ]
    },
    {
     "name": "stderr",
     "output_type": "stream",
     "text": [
      "\n"
     ]
    }
   ],
   "source": [
    "_, _, GNN, _ = train(train_loader, test_loader, args)"
   ]
  },
  {
   "cell_type": "code",
   "execution_count": 5,
   "metadata": {},
   "outputs": [],
   "source": [
    "# save(GNN, args, 'GNN3')"
   ]
  },
  {
   "cell_type": "code",
   "execution_count": 4,
   "metadata": {},
   "outputs": [],
   "source": [
    "GNN, args = load('GNN1', device)"
   ]
  },
  {
   "cell_type": "code",
   "execution_count": 29,
   "metadata": {},
   "outputs": [
    {
     "name": "stdout",
     "output_type": "stream",
     "text": [
      "-- Competitive ratios --\n",
      "GNN: 0.9636\n",
      "Greedy: 0.9885\n",
      "{0.0: 0.9898615618042509, 0.01: 0.9907709910901383, 0.02: 0.9887539926092364, 0.03: 0.9891676274354246, 0.04: 0.9898586878263498, 0.05: 0.990938270845992, 0.06: 0.9904176017204994, 0.07: 0.9899765849853635, 0.08: 0.9880349758723668, 0.09: 0.9879952614274231, 0.1: 0.989681245203079, 0.11: 0.9886036346015852, 0.12: 0.9871217923277287, 0.13: 0.9863221537454058, 0.14: 0.9888654934960949, 0.15: 0.9879433296107477, 0.16: 0.9875422404926317, 0.17: 0.9880758650369629, 0.18: 0.9880700809976964, 0.19: 0.9879087193599798, 0.2: 0.9874323341644633, 0.21: 0.9893074144673001, 0.22: 0.9890345277309092, 0.23: 0.9898226249117947, 0.24: 0.987906312586011, 0.25: 0.9886948340759419, 0.26: 0.9902531917477507, 0.27: 0.9893946399312814, 0.28: 0.9889402699855628, 0.29: 0.9884096584256516, 0.3: 0.9877675846833188, 0.31: 0.9889775818624698, 0.32: 0.9886088165977333, 0.33: 0.9910454797711672, 0.34: 0.989234042940331, 0.35000000000000003: 0.9882749581778839, 0.36: 0.9872144602138923, 0.37: 0.9889388230423493, 0.38: 0.9889819741162637, 0.39: 0.9891457846447633, 0.4: 0.9891667212251537, 0.41000000000000003: 0.9882854270337076, 0.42: 0.9897432250028559, 0.43: 0.9897142333601228, 0.44: 0.9899572066234283, 0.45: 0.9908503444464085, 0.46: 0.9885904237923429, 0.47000000000000003: 0.9885412401484543, 0.48: 0.9888770437872945, 0.49: 0.99007356778611, 0.5: 0.9871867130075154, 0.51: 0.9895988111860132, 0.52: 0.9892207013051527, 0.53: 0.987521938517733, 0.54: 0.989476506646152, 0.55: 0.9891529155846459, 0.56: 0.9896298255013847, 0.5700000000000001: 0.9886741307738056, 0.58: 0.989165556164824, 0.59: 0.988552864433913, 0.6: 0.9879590683715371, 0.61: 0.9878737228140126, 0.62: 0.9893678405730663, 0.63: 0.9894659548855408, 0.64: 0.9883090620117668, 0.65: 0.9892976938861363, 0.66: 0.9862188505461758, 0.67: 0.988297671663706, 0.68: 0.9882740525288556, 0.6900000000000001: 0.9895985058317777, 0.7000000000000001: 0.9888477963963803, 0.71: 0.9900839022718152, 0.72: 0.9881103900189532, 0.73: 0.9890919167299825, 0.74: 0.9896183986903921, 0.75: 0.9884862926051614, 0.76: 0.9885039164559982, 0.77: 0.961586477600106, 0.78: 0.9501860762142424, 0.79: 0.9570352943457052, 0.8: 0.9414786173603475, 0.81: 0.9367242325248023, 0.8200000000000001: 0.9381025494841608, 0.8300000000000001: 0.9056497246342123, 0.84: 0.9095280483532427, 0.85: 0.8970977779594881, 0.86: 0.8866708935777158, 0.87: 0.839993131503992, 0.88: 0.8262302042801275, 0.89: 0.7857089624468874, 0.9: 0.7652359870578549, 0.91: 0.7329893372188412, 0.92: 0.6661236358058427, 0.93: 0.6163478487980398, 0.9400000000000001: 0.5957182686298872, 0.9500000000000001: 0.47889913871463685, 0.96: 0.44175644296409666, 0.97: 0.4086908763982966, 0.98: 0.26494911154122597, 0.99: 0.18622731530808895, 1.0: 0.0}\n"
     ]
    }
   ],
   "source": [
    "from gnn_library.OBM_greedy import OBM_Greedy\n",
    "from gnn_library.OBM_threshold_greedy import OBM_Threshold_Greedy\n",
    "\n",
    "thresholds = np.linspace(0, 1, 101)\n",
    "thresholded_greedy_models = [(threshold, OBM_Threshold_Greedy(threshold)) for threshold in thresholds]\n",
    "\n",
    "seed = np.random.randint(0, 500000)\n",
    "(m, n) = (8, 16)\n",
    "config = er_config\n",
    "\n",
    "rng = np.random.default_rng(seed)\n",
    "eval_instances = ig.sample_instances(m, n, 10, rng, **config)\n",
    "\n",
    "ratios2 = evaluate_model(\n",
    "    meta_model=None,\n",
    "    meta_model_type=None,\n",
    "    base_models=[GNN],\n",
    "    instances=eval_instances,\n",
    "    batch_size=50,\n",
    "    rng=rng,\n",
    "    num_realizations=5\n",
    ")\n",
    "\n",
    "greedy_ratios = {}\n",
    "for threshold, model in thresholded_greedy_models: \n",
    "    ratio = evaluate_model(\n",
    "        meta_model=None,\n",
    "        meta_model_type=None,\n",
    "        base_models=[model],\n",
    "        instances=eval_instances,\n",
    "        batch_size=50,\n",
    "        rng=rng,\n",
    "        num_realizations=5\n",
    "    )\n",
    "    greedy_ratios[threshold] = np.mean(ratio[0])\n",
    "pp_output(ratios2, _, show_log=False)\n",
    "print(greedy_ratios)"
   ]
  },
  {
   "cell_type": "code",
   "execution_count": 30,
   "metadata": {},
   "outputs": [
    {
     "name": "stdout",
     "output_type": "stream",
     "text": [
      "0.33 0.9910454797711672\n"
     ]
    }
   ],
   "source": [
    "max_threshold = max(greedy_ratios, key = greedy_ratios.get)\n",
    "print(max_threshold, greedy_ratios[max_threshold])"
   ]
  },
  {
   "cell_type": "markdown",
   "metadata": {},
   "source": [
    "# Pivot to feature-generated graphs"
   ]
  },
  {
   "cell_type": "code",
   "execution_count": 7,
   "metadata": {},
   "outputs": [],
   "source": [
    "def get_location_graph(city):\n",
    "\tlocation_graph = ox.graph_from_place(city, network_type=\"drive\")\n",
    "\tlocation_graph = ox.speed.add_edge_speeds(location_graph)\n",
    "\tlocation_graph = ox.speed.add_edge_travel_times(location_graph)\n",
    "\treturn {'location_graph': location_graph, 'city': city}"
   ]
  },
  {
   "cell_type": "code",
   "execution_count": 33,
   "metadata": {},
   "outputs": [],
   "source": [
    "piedmont = get_location_graph(\"Piedmont, California, USA\")\n",
    "# san_francisco = get_location_graph(\"San Francisco, California, USA\")\n",
    "# founex = get_location_graph(\"Founex, Switzerland\")\n",
    "carmel = get_location_graph(\"Carmel, Indiana, USA\")\n",
    "geneva = get_location_graph(\"Geneva, Switzerland\")"
   ]
  },
  {
   "cell_type": "code",
   "execution_count": 34,
   "metadata": {},
   "outputs": [],
   "source": [
    "args = {\n",
    "    'processor':         'GENConv',\n",
    "    'head':              'regression',\n",
    "    'num_layers':        2,\n",
    "    'num_mlp_layers':    2,\n",
    "    'aggr':              'max',\n",
    "    'batch_size':        32,\n",
    "    'node_feature_dim':  4,\n",
    "    'edge_feature_dim':  1,\n",
    "    'graph_feature_dim': 2,\n",
    "    'hidden_dim':        64,\n",
    "    'output_dim':        1,\n",
    "    'dropout':           0.35,\n",
    "    'epochs':            25,\n",
    "    'opt':               'adam',\n",
    "    'opt_scheduler':     'none',\n",
    "    'opt_restart':       0,\n",
    "    'weight_decay':      5e-3,\n",
    "    'lr':                0.0001,\n",
    "    'device':            device\n",
    "}\n",
    "\n",
    "train_num = 100; test_num = 30\n",
    "\n",
    "er_config = {\n",
    "    'graph_type': 'ER',\n",
    "    'p': 1,\n",
    "    'weighted': True\n",
    "}\n",
    "ba_config = {\n",
    "    'graph_type': 'BA',\n",
    "    'ba_param': 2,\n",
    "    'weighted': True\n",
    "}\n",
    "feat_config = {\n",
    "    'graph_type': 'FEAT',\n",
    "    'q': 0.85,\n",
    "    'weighted': True\n",
    "}\n",
    "osmnx_config = {\n",
    "    'graph_type': 'OSMNX',\n",
    "    'location_graph': piedmont['location_graph']\n",
    "}\n",
    "# osmnx_config_2 = {\n",
    "#     'graph_type': 'OSMNX',\n",
    "#     'location_graph': san_francisco['location_graph']\n",
    "# }\n",
    "\n",
    "# ox.plot_graph(piedmont['location_graph'])\n",
    "# ox.plot_graph(san_francisco['location_graph'])\n",
    "\n",
    "# part_config = {\n",
    "# \t'graph_type': 'PART',\n",
    "#     'p': 0.5,\n",
    "#     'size': 4,\n",
    "#     'eps': 0.1\n",
    "# },\n",
    "# part_config = {\n",
    "# \t'graph_type': 'PART',\n",
    "#     'p': 0.5,\n",
    "#     'size': 3,\n",
    "#     'eps': 0.3\n",
    "# }\n",
    "\n",
    "rng = np.random.default_rng()\n",
    "\n",
    "\n",
    "train_instances = [\n",
    "        *ig.sample_instances(8, 8, train_num, rng, **er_config),\n",
    "        *ig.sample_instances(8, 8, train_num, rng, **ba_config),\n",
    "        *ig.sample_instances(8, 8, train_num, rng, **feat_config),\n",
    "        *ig.sample_instances(8, 8, train_num, rng, **osmnx_config),\n",
    "        # *ig.sample_instances(8, 8, train_num, rng, **osmnx_config_2),\n",
    "        # *ig.sample_instances(8, 8, train_num, rng, **feat_config),\n",
    "        # *ig.sample_instances(8, 8, train_num, rng, **part_config),\n",
    "    ]\n",
    "\n",
    "test_instances = [\n",
    "        *ig.sample_instances(8, 8, test_num, rng, **er_config),\n",
    "        *ig.sample_instances(8, 8, test_num, rng, **ba_config),\n",
    "        *ig.sample_instances(8, 8, train_num, rng, **feat_config),\n",
    "        # *ig.sample_instances(8, 8, train_num, rng, **osmnx_config),\n",
    "        # *ig.sample_instances(8, 8, train_num, rng, **osmnx_config_2),\n",
    "        # *ig.sample_instances(8, 8, train_num, rng, **feat_config),\n",
    "        # *ig.sample_instances(8, 8, train_num, rng, **part_config),\n",
    "    ]\n",
    "\n",
    "\n",
    "train_data = Dataset(tc._instances_to_train_samples(train_instances, args['head']))\n",
    "test_data = Dataset(tc._instances_to_train_samples(test_instances, args['head']))\n",
    "\n",
    "train_loader = DataLoader(\n",
    "    train_data,\n",
    "    batch_size=args['batch_size'],\n",
    "    shuffle=True,\n",
    "    num_workers=4\n",
    ")\n",
    "\n",
    "test_loader = DataLoader(\n",
    "    test_data,\n",
    "    batch_size=args['batch_size'],\n",
    "    shuffle=True,\n",
    "    num_workers=4\n",
    ")"
   ]
  },
  {
   "cell_type": "code",
   "execution_count": 35,
   "metadata": {},
   "outputs": [
    {
     "name": "stderr",
     "output_type": "stream",
     "text": [
      "Training:   0%|          | 0/25 [00:00<?, ?Epochs/s]/home/alexhay/.local/lib/python3.10/site-packages/torch_geometric/utils/scatter.py:93: UserWarning: The usage of `scatter(reduce='max')` can be accelerated via the 'torch-scatter' package, but it was not found\n",
      "  warnings.warn(f\"The usage of `scatter(reduce='{reduce}')` \"\n"
     ]
    },
    {
     "name": "stdout",
     "output_type": "stream",
     "text": [
      "26.36245046865779\n"
     ]
    },
    {
     "name": "stderr",
     "output_type": "stream",
     "text": [
      "Training:   4%|▍         | 1/25 [00:03<01:32,  3.86s/Epochs]"
     ]
    },
    {
     "name": "stdout",
     "output_type": "stream",
     "text": [
      "TEST ACCURACY: 0.0\n",
      "TEST LOSS: 0.18171346187591553\n"
     ]
    },
    {
     "name": "stderr",
     "output_type": "stream",
     "text": [
      "Training:   8%|▊         | 2/25 [00:06<01:18,  3.40s/Epochs]"
     ]
    },
    {
     "name": "stdout",
     "output_type": "stream",
     "text": [
      "26.78013809762996\n",
      "24.972991708163846\n"
     ]
    },
    {
     "name": "stderr",
     "output_type": "stream",
     "text": [
      "Training:  12%|█▏        | 3/25 [00:10<01:19,  3.62s/Epochs]"
     ]
    },
    {
     "name": "stdout",
     "output_type": "stream",
     "text": [
      "TEST ACCURACY: 0.0\n",
      "TEST LOSS: 0.1109461635351181\n"
     ]
    },
    {
     "name": "stderr",
     "output_type": "stream",
     "text": [
      "Training:  16%|█▌        | 4/25 [00:13<01:10,  3.34s/Epochs]"
     ]
    },
    {
     "name": "stdout",
     "output_type": "stream",
     "text": [
      "24.834637763859977\n",
      "23.44915997677142\n"
     ]
    },
    {
     "name": "stderr",
     "output_type": "stream",
     "text": [
      "Training:  20%|██        | 5/25 [00:17<01:11,  3.59s/Epochs]"
     ]
    },
    {
     "name": "stdout",
     "output_type": "stream",
     "text": [
      "TEST ACCURACY: 0.0\n",
      "TEST LOSS: 0.09458737075328827\n"
     ]
    },
    {
     "name": "stderr",
     "output_type": "stream",
     "text": [
      "Training:  24%|██▍       | 6/25 [00:20<01:04,  3.42s/Epochs]"
     ]
    },
    {
     "name": "stdout",
     "output_type": "stream",
     "text": [
      "22.793510686841636\n",
      "22.64736294075656\n"
     ]
    },
    {
     "name": "stderr",
     "output_type": "stream",
     "text": [
      "Training:  28%|██▊       | 7/25 [00:25<01:05,  3.66s/Epochs]"
     ]
    },
    {
     "name": "stdout",
     "output_type": "stream",
     "text": [
      "TEST ACCURACY: 0.0\n",
      "TEST LOSS: 0.09537141025066376\n"
     ]
    },
    {
     "name": "stderr",
     "output_type": "stream",
     "text": [
      "Training:  32%|███▏      | 8/25 [00:28<00:58,  3.45s/Epochs]"
     ]
    },
    {
     "name": "stdout",
     "output_type": "stream",
     "text": [
      "21.53817344232332\n",
      "19.419015210694887\n"
     ]
    },
    {
     "name": "stderr",
     "output_type": "stream",
     "text": [
      "Training:  36%|███▌      | 9/25 [00:32<00:59,  3.70s/Epochs]"
     ]
    },
    {
     "name": "stdout",
     "output_type": "stream",
     "text": [
      "TEST ACCURACY: 0.0\n",
      "TEST LOSS: 0.09537086635828018\n"
     ]
    },
    {
     "name": "stderr",
     "output_type": "stream",
     "text": [
      "Training:  40%|████      | 10/25 [00:35<00:52,  3.52s/Epochs]"
     ]
    },
    {
     "name": "stdout",
     "output_type": "stream",
     "text": [
      "19.517864223462105\n",
      "19.064407544803306\n"
     ]
    },
    {
     "name": "stderr",
     "output_type": "stream",
     "text": [
      "Training:  44%|████▍     | 11/25 [00:39<00:50,  3.61s/Epochs]"
     ]
    },
    {
     "name": "stdout",
     "output_type": "stream",
     "text": [
      "TEST ACCURACY: 0.0\n",
      "TEST LOSS: 0.09808940440416336\n"
     ]
    },
    {
     "name": "stderr",
     "output_type": "stream",
     "text": [
      "Training:  48%|████▊     | 12/25 [00:42<00:44,  3.41s/Epochs]"
     ]
    },
    {
     "name": "stdout",
     "output_type": "stream",
     "text": [
      "16.702460377156232\n",
      "15.046609583761642\n"
     ]
    },
    {
     "name": "stderr",
     "output_type": "stream",
     "text": [
      "Training:  52%|█████▏    | 13/25 [00:46<00:42,  3.58s/Epochs]"
     ]
    },
    {
     "name": "stdout",
     "output_type": "stream",
     "text": [
      "TEST ACCURACY: 0.0\n",
      "TEST LOSS: 0.08836336433887482\n"
     ]
    },
    {
     "name": "stderr",
     "output_type": "stream",
     "text": [
      "Training:  56%|█████▌    | 14/25 [00:49<00:37,  3.43s/Epochs]"
     ]
    },
    {
     "name": "stdout",
     "output_type": "stream",
     "text": [
      "16.30151928660205\n",
      "15.540373362804965\n"
     ]
    },
    {
     "name": "stderr",
     "output_type": "stream",
     "text": [
      "Training:  60%|██████    | 15/25 [00:53<00:35,  3.60s/Epochs]"
     ]
    },
    {
     "name": "stdout",
     "output_type": "stream",
     "text": [
      "TEST ACCURACY: 0.0\n",
      "TEST LOSS: 0.08701109886169434\n"
     ]
    },
    {
     "name": "stderr",
     "output_type": "stream",
     "text": [
      "Training:  64%|██████▍   | 16/25 [00:56<00:30,  3.40s/Epochs]"
     ]
    },
    {
     "name": "stdout",
     "output_type": "stream",
     "text": [
      "12.54254299309683\n",
      "14.534582973615418\n"
     ]
    },
    {
     "name": "stderr",
     "output_type": "stream",
     "text": [
      "Training:  68%|██████▊   | 17/25 [00:59<00:28,  3.50s/Epochs]"
     ]
    },
    {
     "name": "stdout",
     "output_type": "stream",
     "text": [
      "TEST ACCURACY: 0.0\n",
      "TEST LOSS: 0.08755672723054886\n"
     ]
    },
    {
     "name": "stderr",
     "output_type": "stream",
     "text": [
      "Training:  72%|███████▏  | 18/25 [01:02<00:23,  3.31s/Epochs]"
     ]
    },
    {
     "name": "stdout",
     "output_type": "stream",
     "text": [
      "12.983817981462824\n",
      "11.202350237485392\n"
     ]
    },
    {
     "name": "stderr",
     "output_type": "stream",
     "text": [
      "Training:  76%|███████▌  | 19/25 [01:06<00:20,  3.50s/Epochs]"
     ]
    },
    {
     "name": "stdout",
     "output_type": "stream",
     "text": [
      "TEST ACCURACY: 0.0\n",
      "TEST LOSS: 0.08882056176662445\n"
     ]
    },
    {
     "name": "stderr",
     "output_type": "stream",
     "text": [
      "Training:  80%|████████  | 20/25 [01:09<00:16,  3.35s/Epochs]"
     ]
    },
    {
     "name": "stdout",
     "output_type": "stream",
     "text": [
      "13.796406085272535\n",
      "12.18659459150835\n"
     ]
    },
    {
     "name": "stderr",
     "output_type": "stream",
     "text": [
      "Training:  84%|████████▍ | 21/25 [01:13<00:14,  3.58s/Epochs]"
     ]
    },
    {
     "name": "stdout",
     "output_type": "stream",
     "text": [
      "TEST ACCURACY: 0.0\n",
      "TEST LOSS: 0.09839580208063126\n"
     ]
    },
    {
     "name": "stderr",
     "output_type": "stream",
     "text": [
      "Training:  88%|████████▊ | 22/25 [01:16<00:10,  3.38s/Epochs]"
     ]
    },
    {
     "name": "stdout",
     "output_type": "stream",
     "text": [
      "10.736406355845828\n",
      "9.613575307391706\n"
     ]
    },
    {
     "name": "stderr",
     "output_type": "stream",
     "text": [
      "Training:  92%|█████████▏| 23/25 [01:21<00:07,  3.66s/Epochs]"
     ]
    },
    {
     "name": "stdout",
     "output_type": "stream",
     "text": [
      "TEST ACCURACY: 0.0\n",
      "TEST LOSS: 0.08202522248029709\n"
     ]
    },
    {
     "name": "stderr",
     "output_type": "stream",
     "text": [
      "Training:  96%|█████████▌| 24/25 [01:23<00:03,  3.45s/Epochs]"
     ]
    },
    {
     "name": "stdout",
     "output_type": "stream",
     "text": [
      "11.800981897706963\n",
      "8.528481125875158\n"
     ]
    },
    {
     "name": "stderr",
     "output_type": "stream",
     "text": [
      "Training: 100%|██████████| 25/25 [01:27<00:00,  3.51s/Epochs]"
     ]
    },
    {
     "name": "stdout",
     "output_type": "stream",
     "text": [
      "TEST ACCURACY: 0.0\n",
      "TEST LOSS: 0.0799504891037941\n"
     ]
    },
    {
     "name": "stderr",
     "output_type": "stream",
     "text": [
      "\n"
     ]
    }
   ],
   "source": [
    "_, _, GNN, _ = train(train_loader, test_loader, args)"
   ]
  },
  {
   "cell_type": "markdown",
   "metadata": {},
   "source": [
    "## Set up the threshold greedy value\n",
    "The instance set used to determine the threshold should be the same as the training set for the base models. Here we reduce the number of instances to make the evaluation faster.\n",
    "\n",
    "For the moment, the instance set is the evaluation set since they are too different and would disadvantage threshold greedy."
   ]
  },
  {
   "cell_type": "code",
   "execution_count": 73,
   "metadata": {},
   "outputs": [
    {
     "name": "stderr",
     "output_type": "stream",
     "text": [
      "100%|██████████| 101/101 [02:37<00:00,  1.56s/it]"
     ]
    },
    {
     "name": "stdout",
     "output_type": "stream",
     "text": [
      "Best threshold value: 0.0 achieves CR: 0.8645662671829395\n"
     ]
    },
    {
     "name": "stderr",
     "output_type": "stream",
     "text": [
      "\n"
     ]
    }
   ],
   "source": [
    "from tqdm import tqdm\n",
    "seed = np.random.randint(0, 500000)\n",
    "rng = np.random.default_rng(seed)\n",
    "\n",
    "\n",
    "thresholds = np.linspace(0, 1, 101)\n",
    "#TODO max value in threshold should be max value observable in graphs (is not the case for osmnx graphs for the moment)\n",
    "thresholded_greedy_models = {threshold: OBM_Threshold_Greedy(threshold) for threshold in thresholds}\n",
    "\n",
    "osmnx_config1 = {\n",
    "    'graph_type': 'OSMNX',\n",
    "    'location_graph': piedmont['location_graph']\n",
    "}\n",
    "osmnx_config2 = {\n",
    "    'graph_type': 'OSMNX',\n",
    "    'location_graph': geneva['location_graph']\n",
    "}\n",
    "osmnx_config3 = {\n",
    "    'graph_type': 'OSMNX',\n",
    "    'location_graph': carmel['location_graph']\n",
    "}\n",
    "\n",
    "train_num = 10\n",
    "train_instances = [\n",
    "        *ig.sample_instances(8, 8, train_num, rng, **osmnx_config1),\n",
    "        *ig.sample_instances(8, 8, train_num, rng, **osmnx_config2),\n",
    "        *ig.sample_instances(8, 8, train_num, rng, **osmnx_config3),\n",
    "]\n",
    "\n",
    "# train_instances = [\n",
    "#         *ig.sample_instances(8, 8, train_num, rng, **er_config),\n",
    "#         *ig.sample_instances(8, 8, train_num, rng, **ba_config),\n",
    "#         *ig.sample_instances(8, 8, train_num, rng, **feat_config),\n",
    "#         *ig.sample_instances(8, 8, train_num, rng, **osmnx_config),\n",
    "# ]\n",
    "\n",
    "\n",
    "greedy_ratios = {}\n",
    "for threshold, model in tqdm(thresholded_greedy_models.items()): \n",
    "    rng = np.random.default_rng(seed)\n",
    "    ratio = ev.evaluate_model(\n",
    "        meta_model=None,\n",
    "        meta_model_type=None,\n",
    "        base_models=[model],\n",
    "        instances=train_instances,\n",
    "        batch_size=50,\n",
    "        rng=rng,\n",
    "        num_realizations=5\n",
    "    )\n",
    "    greedy_ratios[threshold] = np.mean(ratio[0])\n",
    "    \n",
    "\n",
    "max_threshold = max(greedy_ratios, key = greedy_ratios.get)\n",
    "print(f\"Best threshold value: {max_threshold} achieves CR: {greedy_ratios[max_threshold]}\")\n",
    "THRESHOLD_MODEL = thresholded_greedy_models[max_threshold]"
   ]
  },
  {
   "cell_type": "code",
   "execution_count": 68,
   "metadata": {},
   "outputs": [
    {
     "name": "stdout",
     "output_type": "stream",
     "text": [
      "{0.0: 0.8547974821890133, 0.01: 0.8491949417460171, 0.02: 0.8490800453345699, 0.03: 0.8586296980097892, 0.04: 0.8601979868702185, 0.05: 0.8530345227634285, 0.06: 0.8433517994766935, 0.07: 0.8455081071594329, 0.08: 0.8550036958786289, 0.09: 0.8667237837014751, 0.1: 0.8570145658354275, 0.11: 0.8645321197847786, 0.12: 0.8472479172846933, 0.13: 0.8539869854199047, 0.14: 0.8441594970157272, 0.15: 0.8623104023807532, 0.16: 0.8489430822575272, 0.17: 0.8540152834675172, 0.18: 0.8521569526459702, 0.19: 0.84193113171306, 0.2: 0.8401888216372944, 0.21: 0.8567685136103742, 0.22: 0.8528488283873125, 0.23: 0.8635897570505383, 0.24: 0.861469650676488, 0.25: 0.8589468721608017, 0.26: 0.8472143676530135, 0.27: 0.8570897542441344, 0.28: 0.8625095132278946, 0.29: 0.843024730161767, 0.3: 0.8532862706036773, 0.31: 0.8447365797659401, 0.32: 0.848551242272335, 0.33: 0.8432903785767947, 0.34: 0.8636290710672369, 0.35000000000000003: 0.8422966222702438, 0.36: 0.8601692575096457, 0.37: 0.8458496764821762, 0.38: 0.857047410530189, 0.39: 0.8405809043314758, 0.4: 0.8558191551747859, 0.41000000000000003: 0.8445469227151164, 0.42: 0.8461631708736252, 0.43: 0.8405226058377608, 0.44: 0.8556009245907004, 0.45: 0.8510357353471504, 0.46: 0.8448977772723539, 0.47000000000000003: 0.8457046204852362, 0.48: 0.8648442053384578, 0.49: 0.8560039859996416, 0.5: 0.8546379055845379, 0.51: 0.8531900049285742, 0.52: 0.8354860280613697, 0.53: 0.8557647144581942, 0.54: 0.8358002869832217, 0.55: 0.8513293506262593, 0.56: 0.8435864265322206, 0.5700000000000001: 0.8513466803289104, 0.58: 0.8642873538354705, 0.59: 0.8466168675570482, 0.6: 0.8537466099932146, 0.61: 0.8474771822902026, 0.62: 0.8274747932674927, 0.63: 0.8404654425653949, 0.64: 0.854537240825692, 0.65: 0.8422888458521409, 0.66: 0.8407797240564155, 0.67: 0.8477701998508903, 0.68: 0.8436073775096268, 0.6900000000000001: 0.838338162927986, 0.7000000000000001: 0.840263938085476, 0.71: 0.8332026028902356, 0.72: 0.8331639368771244, 0.73: 0.8521930460671141, 0.74: 0.8397363178422044, 0.75: 0.8250968043349824, 0.76: 0.8292408216413943, 0.77: 0.8455720641575957, 0.78: 0.8340586786956321, 0.79: 0.8382131500005253, 0.8: 0.8265067974543704, 0.81: 0.8343739813758222, 0.8200000000000001: 0.8491304009248053, 0.8300000000000001: 0.8372199038824839, 0.84: 0.8265026168584897, 0.85: 0.8477519911797008, 0.86: 0.8371452319925513, 0.87: 0.8334909273738969, 0.88: 0.8380523201181629, 0.89: 0.8354017779768385, 0.9: 0.8446371383158938, 0.91: 0.844009666439606, 0.92: 0.842680304126212, 0.93: 0.8365082173182253, 0.9400000000000001: 0.8382776851933812, 0.9500000000000001: 0.8306012439328064, 0.96: 0.8501924422347243, 0.97: 0.8257832178127605, 0.98: 0.8392622942181772, 0.99: 0.841437440320951, 1.0: 0.822731992456993}\n"
     ]
    }
   ],
   "source": [
    "print(greedy_ratios)"
   ]
  },
  {
   "cell_type": "code",
   "execution_count": null,
   "metadata": {},
   "outputs": [
    {
     "name": "stdout",
     "output_type": "stream",
     "text": [
      "-- Competitive ratios --\n",
      "GNN: 0.8272\n",
      "Greedy: 0.7817\n"
     ]
    }
   ],
   "source": [
    "seed = np.random.randint(0, 500000)\n",
    "(m, n) = (32, 16)\n",
    "# config = {\n",
    "#     'graph_type': 'FEAT',\n",
    "#     'q': 0.85,\n",
    "#     'weighted': True\n",
    "# }\n",
    "# config = {\n",
    "#     'graph_type': 'OSMNX',\n",
    "#     'location_graph': piedmont['location_graph']\n",
    "# }\n",
    "# config = {\n",
    "# \t'graph_type': 'PART',\n",
    "#     'p': 0.5,\n",
    "#     'size': 4,\n",
    "#     'eps': 0.1\n",
    "# }\n",
    "\n",
    "rng = np.random.default_rng(seed)\n",
    "# eval_instances = ig.sample_instances(m, n, 100, rng, **config)\n",
    "eval_num = 25\n",
    "eval_instances = [\n",
    "        *ig.sample_instances(m, n, eval_num, rng, **er_config),\n",
    "        *ig.sample_instances(m, n, eval_num, rng, **ba_config),\n",
    "        *ig.sample_instances(m, n, eval_num, rng, **feat_config),\n",
    "        *ig.sample_instances(m, n, eval_num, rng, **osmnx_config),\n",
    "]\n",
    "\n",
    "ratios2 = ev.evaluate_model(\n",
    "    meta_model=None,\n",
    "    meta_model_type=None,\n",
    "    base_models=[GNN],\n",
    "    instances=eval_instances,\n",
    "    batch_size=50,\n",
    "    rng=rng,\n",
    "    num_realizations=5\n",
    ")\n",
    "\n",
    "pp_output(ratios2, _, show_log=False)"
   ]
  },
  {
   "cell_type": "code",
   "execution_count": 15,
   "metadata": {},
   "outputs": [
    {
     "name": "stdout",
     "output_type": "stream",
     "text": [
      "[0.25, 0.5, 0.75, 1.0, 1.25, 1.5, 1.75, 2.0, 2.25, 2.5, 2.75, 3.0, 3.25, 3.5, 3.75]\n",
      "{'graph_type': 'PART', 'p': 0.5, 'size': 4, 'eps': 0.1} (4, 16)\n"
     ]
    },
    {
     "ename": "ValueError",
     "evalue": "Did not provide required attributes for PART graph type: {'k'}",
     "output_type": "error",
     "traceback": [
      "\u001b[0;31m---------------------------------------------------------------------------\u001b[0m",
      "\u001b[0;31mValueError\u001b[0m                                Traceback (most recent call last)",
      "\u001b[1;32m/home/alexhay/GNN-OBM/notebooks/base_learner.ipynb Cell 14\u001b[0m in \u001b[0;36m<cell line: 54>\u001b[0;34m()\u001b[0m\n\u001b[1;32m     <a href='vscode-notebook-cell://ssh-remote%2B7b22686f73744e616d65223a22736f616c2d372e7374616e666f72642e656475222c2275736572223a22616c6578686179227d/home/alexhay/GNN-OBM/notebooks/base_learner.ipynb#X16sdnNjb2RlLXJlbW90ZQ%3D%3D?line=56'>57</a>\u001b[0m seed \u001b[39m=\u001b[39m np\u001b[39m.\u001b[39mrandom\u001b[39m.\u001b[39mrandint(\u001b[39m0\u001b[39m, \u001b[39m500000\u001b[39m)\n\u001b[1;32m     <a href='vscode-notebook-cell://ssh-remote%2B7b22686f73744e616d65223a22736f616c2d372e7374616e666f72642e656475222c2275736572223a22616c6578686179227d/home/alexhay/GNN-OBM/notebooks/base_learner.ipynb#X16sdnNjb2RlLXJlbW90ZQ%3D%3D?line=57'>58</a>\u001b[0m rng \u001b[39m=\u001b[39m np\u001b[39m.\u001b[39mrandom\u001b[39m.\u001b[39mdefault_rng(seed)\n\u001b[0;32m---> <a href='vscode-notebook-cell://ssh-remote%2B7b22686f73744e616d65223a22736f616c2d372e7374616e666f72642e656475222c2275736572223a22616c6578686179227d/home/alexhay/GNN-OBM/notebooks/base_learner.ipynb#X16sdnNjb2RlLXJlbW90ZQ%3D%3D?line=58'>59</a>\u001b[0m instances \u001b[39m=\u001b[39m ig\u001b[39m.\u001b[39;49msample_instances(\u001b[39m*\u001b[39;49mnode_config, num_trials, rng, \u001b[39m*\u001b[39;49m\u001b[39m*\u001b[39;49mgraph_config)\n\u001b[1;32m     <a href='vscode-notebook-cell://ssh-remote%2B7b22686f73744e616d65223a22736f616c2d372e7374616e666f72642e656475222c2275736572223a22616c6578686179227d/home/alexhay/GNN-OBM/notebooks/base_learner.ipynb#X16sdnNjb2RlLXJlbW90ZQ%3D%3D?line=61'>62</a>\u001b[0m rng \u001b[39m=\u001b[39m np\u001b[39m.\u001b[39mrandom\u001b[39m.\u001b[39mdefault_rng(seed)\n\u001b[1;32m     <a href='vscode-notebook-cell://ssh-remote%2B7b22686f73744e616d65223a22736f616c2d372e7374616e666f72642e656475222c2275736572223a22616c6578686179227d/home/alexhay/GNN-OBM/notebooks/base_learner.ipynb#X16sdnNjb2RlLXJlbW90ZQ%3D%3D?line=62'>63</a>\u001b[0m gnn_learned_ratios, greedy_ratios \u001b[39m=\u001b[39m evaluate_model(\n\u001b[1;32m     <a href='vscode-notebook-cell://ssh-remote%2B7b22686f73744e616d65223a22736f616c2d372e7374616e666f72642e656475222c2275736572223a22616c6578686179227d/home/alexhay/GNN-OBM/notebooks/base_learner.ipynb#X16sdnNjb2RlLXJlbW90ZQ%3D%3D?line=63'>64</a>\u001b[0m     meta_model\u001b[39m=\u001b[39m\u001b[39mNone\u001b[39;00m,\n\u001b[1;32m     <a href='vscode-notebook-cell://ssh-remote%2B7b22686f73744e616d65223a22736f616c2d372e7374616e666f72642e656475222c2275736572223a22616c6578686179227d/home/alexhay/GNN-OBM/notebooks/base_learner.ipynb#X16sdnNjb2RlLXJlbW90ZQ%3D%3D?line=64'>65</a>\u001b[0m     meta_model_type\u001b[39m=\u001b[39m\u001b[39mNone\u001b[39;00m,\n\u001b[0;32m   (...)\u001b[0m\n\u001b[1;32m     <a href='vscode-notebook-cell://ssh-remote%2B7b22686f73744e616d65223a22736f616c2d372e7374616e666f72642e656475222c2275736572223a22616c6578686179227d/home/alexhay/GNN-OBM/notebooks/base_learner.ipynb#X16sdnNjb2RlLXJlbW90ZQ%3D%3D?line=69'>70</a>\u001b[0m     num_realizations\u001b[39m=\u001b[39m\u001b[39m5\u001b[39m\n\u001b[1;32m     <a href='vscode-notebook-cell://ssh-remote%2B7b22686f73744e616d65223a22736f616c2d372e7374616e666f72642e656475222c2275736572223a22616c6578686179227d/home/alexhay/GNN-OBM/notebooks/base_learner.ipynb#X16sdnNjb2RlLXJlbW90ZQ%3D%3D?line=70'>71</a>\u001b[0m )\n",
      "File \u001b[0;32m~/GNN-OBM/instance_generator.py:337\u001b[0m, in \u001b[0;36msample_instances\u001b[0;34m(m, n, num, rng, **kwargs)\u001b[0m\n\u001b[1;32m    329\u001b[0m \u001b[39mdef\u001b[39;00m \u001b[39msample_instances\u001b[39m(\n\u001b[1;32m    330\u001b[0m     m: \u001b[39mint\u001b[39m,\n\u001b[1;32m    331\u001b[0m     n: \u001b[39mint\u001b[39m,\n\u001b[0;32m   (...)\u001b[0m\n\u001b[1;32m    334\u001b[0m     \u001b[39m*\u001b[39m\u001b[39m*\u001b[39mkwargs\n\u001b[1;32m    335\u001b[0m ) \u001b[39m-\u001b[39m\u001b[39m>\u001b[39m Tuple[List[_Instance], _Array]:\n\u001b[0;32m--> 337\u001b[0m     As \u001b[39m=\u001b[39m _sample_bipartite_graphs(m, n, num, rng, \u001b[39m*\u001b[39;49m\u001b[39m*\u001b[39;49mkwargs)\n\u001b[1;32m    338\u001b[0m     ps \u001b[39m=\u001b[39m _sample_probs(m, num, rng)\n\u001b[1;32m    339\u001b[0m     instances \u001b[39m=\u001b[39m [\n\u001b[1;32m    340\u001b[0m         (As[i], ps[:, i])\n\u001b[1;32m    341\u001b[0m         \u001b[39mfor\u001b[39;00m i \u001b[39min\u001b[39;00m \u001b[39mrange\u001b[39m(\u001b[39mlen\u001b[39m(As))\n\u001b[1;32m    342\u001b[0m     ]\n",
      "File \u001b[0;32m~/GNN-OBM/instance_generator.py:312\u001b[0m, in \u001b[0;36m_sample_bipartite_graphs\u001b[0;34m(m, n, num, rng, **kwargs)\u001b[0m\n\u001b[1;32m    304\u001b[0m \u001b[39mdef\u001b[39;00m \u001b[39m_sample_bipartite_graphs\u001b[39m(\n\u001b[1;32m    305\u001b[0m     m: \u001b[39mint\u001b[39m,\n\u001b[1;32m    306\u001b[0m     n: \u001b[39mint\u001b[39m,\n\u001b[0;32m   (...)\u001b[0m\n\u001b[1;32m    309\u001b[0m     \u001b[39m*\u001b[39m\u001b[39m*\u001b[39mkwargs\n\u001b[1;32m    310\u001b[0m ) \u001b[39m-\u001b[39m\u001b[39m>\u001b[39m List[_Array]:\n\u001b[0;32m--> 312\u001b[0m     \u001b[39mreturn\u001b[39;00m [\n\u001b[1;32m    313\u001b[0m         _sample_bipartite_graph(m, n, rng, \u001b[39m*\u001b[39m\u001b[39m*\u001b[39mkwargs)\n\u001b[1;32m    314\u001b[0m         \u001b[39mfor\u001b[39;00m _ \u001b[39min\u001b[39;00m \u001b[39mrange\u001b[39m(num)\n\u001b[1;32m    315\u001b[0m     ]\n",
      "File \u001b[0;32m~/GNN-OBM/instance_generator.py:313\u001b[0m, in \u001b[0;36m<listcomp>\u001b[0;34m(.0)\u001b[0m\n\u001b[1;32m    304\u001b[0m \u001b[39mdef\u001b[39;00m \u001b[39m_sample_bipartite_graphs\u001b[39m(\n\u001b[1;32m    305\u001b[0m     m: \u001b[39mint\u001b[39m,\n\u001b[1;32m    306\u001b[0m     n: \u001b[39mint\u001b[39m,\n\u001b[0;32m   (...)\u001b[0m\n\u001b[1;32m    309\u001b[0m     \u001b[39m*\u001b[39m\u001b[39m*\u001b[39mkwargs\n\u001b[1;32m    310\u001b[0m ) \u001b[39m-\u001b[39m\u001b[39m>\u001b[39m List[_Array]:\n\u001b[1;32m    312\u001b[0m     \u001b[39mreturn\u001b[39;00m [\n\u001b[0;32m--> 313\u001b[0m         _sample_bipartite_graph(m, n, rng, \u001b[39m*\u001b[39;49m\u001b[39m*\u001b[39;49mkwargs)\n\u001b[1;32m    314\u001b[0m         \u001b[39mfor\u001b[39;00m _ \u001b[39min\u001b[39;00m \u001b[39mrange\u001b[39m(num)\n\u001b[1;32m    315\u001b[0m     ]\n",
      "File \u001b[0;32m~/GNN-OBM/instance_generator.py:296\u001b[0m, in \u001b[0;36m_sample_bipartite_graph\u001b[0;34m(m, n, rng, **kwargs)\u001b[0m\n\u001b[1;32m    293\u001b[0m missing_names \u001b[39m=\u001b[39m SAMPLER_SPECS[graph_type]\u001b[39m.\u001b[39mdifference(provided_names)\n\u001b[1;32m    295\u001b[0m \u001b[39mif\u001b[39;00m \u001b[39mlen\u001b[39m(missing_names) \u001b[39m>\u001b[39m \u001b[39m0\u001b[39m:\n\u001b[0;32m--> 296\u001b[0m     \u001b[39mraise\u001b[39;00m \u001b[39mValueError\u001b[39;00m(\n\u001b[1;32m    297\u001b[0m         \u001b[39m'\u001b[39m\u001b[39mDid not provide required attributes for \u001b[39m\u001b[39m'\u001b[39m\n\u001b[1;32m    298\u001b[0m         \u001b[39mf\u001b[39m\u001b[39m'\u001b[39m\u001b[39m{\u001b[39;00mgraph_type\u001b[39m}\u001b[39;00m\u001b[39m graph type: \u001b[39m\u001b[39m{\u001b[39;00mmissing_names\u001b[39m}\u001b[39;00m\u001b[39m'\u001b[39m\n\u001b[1;32m    299\u001b[0m     )\n\u001b[1;32m    301\u001b[0m \u001b[39mreturn\u001b[39;00m SAMPLER_ROUTER[graph_type](m, n, rng, \u001b[39m*\u001b[39m\u001b[39m*\u001b[39mkwargs)\n",
      "\u001b[0;31mValueError\u001b[0m: Did not provide required attributes for PART graph type: {'k'}"
     ]
    }
   ],
   "source": [
    "num_trials = 40\n",
    "node_configs = [(x, 16) for x in np.arange(4, 64, 4)]\n",
    "# of nodes [20 -> 80]\n",
    "# of nodes in batch [10,000 -> 40,000]\n",
    "batch_size = 500 #[int(min(32, x + y)) for (x, y) in node_configs]\n",
    "graph_configs = [\n",
    "    # {\n",
    "    #     'graph_type': 'GM'\n",
    "    # },\n",
    "    # {\n",
    "    #     'graph_type': 'ER',\n",
    "    #     'p': 0.75,\n",
    "    #     'weighted': False\n",
    "    # },\n",
    "    # {\n",
    "    #     'graph_type': 'BA',\n",
    "    #     'ba_param': 4,\n",
    "    #     'weighted': False\n",
    "    # },\n",
    "    {\n",
    "        'graph_type': 'FEAT',\n",
    "        'q': 0.75,\n",
    "        'weighted': True\n",
    "    },\n",
    "    {\n",
    "        'graph_type': 'FEAT',\n",
    "        'q': 0.9,\n",
    "        'weighted': True\n",
    "    },\n",
    "    {\n",
    "        'graph_type': 'FEAT',\n",
    "        'q': 0.95,\n",
    "        'weighted': True\n",
    "    },\n",
    "\n",
    "    # {\n",
    "    #     'graph_type': 'PART',\n",
    "    #     'p': 0.5,\n",
    "    #     'size': 4,\n",
    "    #     'eps': 0.1\n",
    "    # },\n",
    "    # {\n",
    "    #     'graph_type': 'PART',\n",
    "    #     'p': 0.5,\n",
    "    #     'size': 3,\n",
    "    #     'eps': 0.3\n",
    "    # }\n",
    "]\n",
    "\n",
    "ratios = [x/y for (x,y) in node_configs]\n",
    "print(ratios)\n",
    "\n",
    "data = {config['q']: [] for config in graph_configs}\n",
    "for graph_config in graph_configs:\n",
    "    for i, node_config in enumerate(node_configs):\n",
    "        print(graph_config, node_config)\n",
    "        seed = np.random.randint(0, 500000)\n",
    "        rng = np.random.default_rng(seed)\n",
    "        instances = ig.sample_instances(*node_config, num_trials, rng, **graph_config)\n",
    "\n",
    "\n",
    "        rng = np.random.default_rng(seed)\n",
    "        gnn_learned_ratios, greedy_ratios = evaluate_model(\n",
    "            meta_model=None,\n",
    "            meta_model_type=None,\n",
    "            base_models=[GNN],\n",
    "            instances=instances,\n",
    "            batch_size=batch_size,\n",
    "            rng=rng,\n",
    "            num_realizations=5\n",
    "        )\n",
    "\n",
    "\n",
    "        data[graph_config['q']].append(np.array(\n",
    "            [\n",
    "                gnn_learned_ratios,\n",
    "                greedy_ratios\n",
    "            ]\n",
    "        ))"
   ]
  },
  {
   "cell_type": "code",
   "execution_count": 69,
   "metadata": {},
   "outputs": [
    {
     "name": "stdout",
     "output_type": "stream",
     "text": [
      "[0.25, 0.5, 0.75, 1.0, 1.25, 1.5, 1.75, 2.0, 2.25, 2.5, 2.75, 3.0, 3.25, 3.5, 3.75]\n",
      "(4, 16) {'graph_type': 'OSMNX', 'location_graph': <networkx.classes.multidigraph.MultiDiGraph object at 0x7fd133efc5b0>, 'city': 'Geneva, Switzerland'}\n",
      "(8, 16) {'graph_type': 'OSMNX', 'location_graph': <networkx.classes.multidigraph.MultiDiGraph object at 0x7fd133efc5b0>, 'city': 'Geneva, Switzerland'}\n",
      "(12, 16) {'graph_type': 'OSMNX', 'location_graph': <networkx.classes.multidigraph.MultiDiGraph object at 0x7fd133efc5b0>, 'city': 'Geneva, Switzerland'}\n",
      "(16, 16) {'graph_type': 'OSMNX', 'location_graph': <networkx.classes.multidigraph.MultiDiGraph object at 0x7fd133efc5b0>, 'city': 'Geneva, Switzerland'}\n",
      "(20, 16) {'graph_type': 'OSMNX', 'location_graph': <networkx.classes.multidigraph.MultiDiGraph object at 0x7fd133efc5b0>, 'city': 'Geneva, Switzerland'}\n",
      "(24, 16) {'graph_type': 'OSMNX', 'location_graph': <networkx.classes.multidigraph.MultiDiGraph object at 0x7fd133efc5b0>, 'city': 'Geneva, Switzerland'}\n",
      "(28, 16) {'graph_type': 'OSMNX', 'location_graph': <networkx.classes.multidigraph.MultiDiGraph object at 0x7fd133efc5b0>, 'city': 'Geneva, Switzerland'}\n",
      "(32, 16) {'graph_type': 'OSMNX', 'location_graph': <networkx.classes.multidigraph.MultiDiGraph object at 0x7fd133efc5b0>, 'city': 'Geneva, Switzerland'}\n",
      "(36, 16) {'graph_type': 'OSMNX', 'location_graph': <networkx.classes.multidigraph.MultiDiGraph object at 0x7fd133efc5b0>, 'city': 'Geneva, Switzerland'}\n",
      "(40, 16) {'graph_type': 'OSMNX', 'location_graph': <networkx.classes.multidigraph.MultiDiGraph object at 0x7fd133efc5b0>, 'city': 'Geneva, Switzerland'}\n",
      "(44, 16) {'graph_type': 'OSMNX', 'location_graph': <networkx.classes.multidigraph.MultiDiGraph object at 0x7fd133efc5b0>, 'city': 'Geneva, Switzerland'}\n",
      "(48, 16) {'graph_type': 'OSMNX', 'location_graph': <networkx.classes.multidigraph.MultiDiGraph object at 0x7fd133efc5b0>, 'city': 'Geneva, Switzerland'}\n",
      "(52, 16) {'graph_type': 'OSMNX', 'location_graph': <networkx.classes.multidigraph.MultiDiGraph object at 0x7fd133efc5b0>, 'city': 'Geneva, Switzerland'}\n",
      "(56, 16) {'graph_type': 'OSMNX', 'location_graph': <networkx.classes.multidigraph.MultiDiGraph object at 0x7fd133efc5b0>, 'city': 'Geneva, Switzerland'}\n",
      "(60, 16) {'graph_type': 'OSMNX', 'location_graph': <networkx.classes.multidigraph.MultiDiGraph object at 0x7fd133efc5b0>, 'city': 'Geneva, Switzerland'}\n"
     ]
    }
   ],
   "source": [
    "num_trials = 1\n",
    "node_configs = [(x, 16) for x in np.arange(4, 64, 4)]\n",
    "# of nodes [20 -> 80]\n",
    "# of nodes in batch [10,000 -> 40,000]\n",
    "batch_size = 500 #[int(min(32, x + y)) for (x, y) in node_configs]\n",
    "\n",
    "\n",
    "\n",
    "\n",
    "graph_configs = [\n",
    "    # {\n",
    "    # 'graph_type': 'FEAT',\n",
    "    # 'q': 0.5\n",
    "    # },\n",
    "    # {\n",
    "    #     'graph_type': 'OSMNX',\n",
    "    #     'location_graph': piedmont['location_graph'],\n",
    "    #     'city': piedmont['city']\n",
    "    # },\n",
    "    # {\n",
    "    #     'graph_type': 'OSMNX',\n",
    "    #     'location_graph': carmel['location_graph'],\n",
    "    #     'city': carmel['city']\n",
    "    # },\n",
    "    {\n",
    "        'graph_type': 'OSMNX',\n",
    "        'location_graph': geneva['location_graph'],\n",
    "        'city': geneva['city']\n",
    "    },\n",
    "    # {\n",
    "    # 'graph_type': 'FEAT',\n",
    "    # 'q': 0.75,\n",
    "    # 'weighted': True\n",
    "    # },\n",
    "    # {\n",
    "    # 'graph_type': 'FEAT',\n",
    "    # 'q': 0.9,\n",
    "    # 'weighted': True\n",
    "    # },\n",
    "    # {\n",
    "    # 'graph_type': 'FEAT',\n",
    "    # 'q': 0.95,\n",
    "    # 'weighted': True\n",
    "    # },\n",
    "    # {\n",
    "    # 'graph_type': 'FEAT',\n",
    "    # 'q': 0.99\n",
    "    # }\n",
    "    # {\n",
    "    #     'graph_type': 'PART',\n",
    "    #     'p': 0.5,\n",
    "    #     'size': 4,\n",
    "    #     'eps': 0.1\n",
    "    # },\n",
    "    # {\n",
    "    #     'graph_type': 'PART',\n",
    "    #     'p': 0.5,\n",
    "    #     'size': 3,\n",
    "    #     'eps': 0.3\n",
    "    # }\n",
    "]\n",
    "\n",
    "ratios = [x/y for (x,y) in node_configs]\n",
    "print(ratios)\n",
    "\n",
    "data = {config['city']: [] for config in graph_configs}\n",
    "for graph_config in graph_configs:\n",
    "    for i, node_config in enumerate(node_configs):\n",
    "        print(node_config, graph_config)\n",
    "        seed = np.random.randint(0, 500000)\n",
    "        rng = np.random.default_rng(seed)\n",
    "        instances = ig.sample_instances(*node_config, num_trials, rng, **graph_config)\n",
    "\n",
    "\n",
    "        rng = np.random.default_rng(seed)\n",
    "        gnn_learned_ratios, greedy_ratios = evaluate_model(\n",
    "            meta_model=None,\n",
    "            meta_model_type=None,\n",
    "            base_models=[GNN],\n",
    "            instances=instances,\n",
    "            batch_size=batch_size,\n",
    "            rng=rng,\n",
    "            num_realizations=5\n",
    "        )\n",
    "\n",
    "        thresholded_greedy_ratios, greedy_ratios = evaluate_model(\n",
    "            meta_model=None,\n",
    "            meta_model_type=None,\n",
    "            base_models=[THRESHOLD_MODEL],\n",
    "            instances=instances,\n",
    "            batch_size=batch_size,\n",
    "            rng=rng,\n",
    "            num_realizations=5\n",
    "        )\n",
    "\n",
    "        data[graph_config['city']].append(np.array(\n",
    "            [\n",
    "                gnn_learned_ratios,\n",
    "                thresholded_greedy_ratios,\n",
    "                greedy_ratios\n",
    "            ]\n",
    "        ))"
   ]
  },
  {
   "cell_type": "code",
   "execution_count": 70,
   "metadata": {},
   "outputs": [
    {
     "data": {
      "image/png": "[encoded data removed]",
      "text/plain": [
       "<Figure size 576x432 with 1 Axes>"
      ]
     },
     "metadata": {
      "needs_background": "light"
     },
     "output_type": "display_data"
    }
   ],
   "source": [
    "import matplotlib.pyplot as plt\n",
    "ratios = [x/y for (x,y) in node_configs]\n",
    "for city, comp_ratios in data.items():\n",
    "    greedy_avg_ratios = []\n",
    "    thresholded_greedy_avg_ratios = []\n",
    "    gnn_avg_ratios = []\n",
    "\n",
    "\n",
    "    for trial_ratios in comp_ratios:\n",
    "        gnn_avg_ratios.append(np.array(trial_ratios[0]).mean())\n",
    "        thresholded_greedy_avg_ratios.append(np.array(trial_ratios[1]).mean())\n",
    "        greedy_avg_ratios.append(np.array(trial_ratios[2]).mean())\n",
    "\n",
    "    title = f\"OSMNX_{city}\"\n",
    "    fig = plt.figure(figsize=(8,6))\n",
    "    plt.title(title)\n",
    "    plt.plot(ratios, gnn_avg_ratios, label='GNN')\n",
    "    plt.plot(ratios, thresholded_greedy_avg_ratios, label='Thresholded Greedy')\n",
    "    plt.plot(ratios, greedy_avg_ratios, label='Greedy')\n",
    "    plt.xlabel('# online / # offline')\n",
    "    plt.ylabel('Average competitive ratio')\n",
    "    plt.legend()\n",
    "    plt.savefig(f\"data/{title}.png\")\n",
    "    plt.show()\n"
   ]
  },
  {
   "cell_type": "code",
   "execution_count": 9,
   "metadata": {},
   "outputs": [
    {
     "name": "stdout",
     "output_type": "stream",
     "text": [
      "FEAT_only_ratings_0.75\n"
     ]
    },
    {
     "data": {
      "image/png": "[encoded data removed]",
      "text/plain": [
       "<Figure size 576x432 with 1 Axes>"
      ]
     },
     "metadata": {
      "needs_background": "light"
     },
     "output_type": "display_data"
    },
    {
     "name": "stdout",
     "output_type": "stream",
     "text": [
      "FEAT_only_ratings_0.9\n"
     ]
    },
    {
     "data": {
      "image/png": "[encoded data removed]",
      "text/plain": [
       "<Figure size 576x432 with 1 Axes>"
      ]
     },
     "metadata": {
      "needs_background": "light"
     },
     "output_type": "display_data"
    },
    {
     "name": "stdout",
     "output_type": "stream",
     "text": [
      "FEAT_only_ratings_0.95\n"
     ]
    },
    {
     "data": {
      "image/png": "[encoded data removed]",
      "text/plain": [
       "<Figure size 576x432 with 1 Axes>"
      ]
     },
     "metadata": {
      "needs_background": "light"
     },
     "output_type": "display_data"
    }
   ],
   "source": [
    "import matplotlib.pyplot as plt\n",
    "ratios = [x/y for (x,y) in node_configs]\n",
    "for q, comp_ratios in data.items():\n",
    "    greedy_avg_ratios = []\n",
    "    gnn_avg_ratios = []\n",
    "\n",
    "\n",
    "    for trial_ratios in comp_ratios:\n",
    "        gnn_avg_ratios.append(np.array(trial_ratios[0]).mean())\n",
    "        greedy_avg_ratios.append(np.array(trial_ratios[1]).mean())\n",
    "\n",
    "    # title = f\"PART_size_{size}\"\n",
    "    title = f\"FEAT_only_ratings_{q}\"\n",
    "    print(title)\n",
    "    fig = plt.figure(figsize=(8,6))\n",
    "    plt.title(title)\n",
    "    plt.plot(ratios, gnn_avg_ratios, label='GNN')\n",
    "    plt.plot(ratios, greedy_avg_ratios, label='Greedy')\n",
    "    plt.xlabel('# online / # offline')\n",
    "    plt.ylabel('Average competitive ratio')\n",
    "    plt.legend()\n",
    "    plt.savefig(f\"data/{title}.png\")\n",
    "    plt.show()\n"
   ]
  },
  {
   "cell_type": "code",
   "execution_count": null,
   "metadata": {},
   "outputs": [],
   "source": []
  }
 ],
 "metadata": {
  "kernelspec": {
   "display_name": "clrs",
   "language": "python",
   "name": "python3"
  },
  "language_info": {
   "codemirror_mode": {
    "name": "ipython",
    "version": 3
   },
   "file_extension": ".py",
   "mimetype": "text/x-python",
   "name": "python",
   "nbconvert_exporter": "python",
   "pygments_lexer": "ipython3",
   "version": "3.10.12"
  }
 },
 "nbformat": 4,
 "nbformat_minor": 2
}
