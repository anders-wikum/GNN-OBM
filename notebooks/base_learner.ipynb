{
 "cells": [
  {
   "cell_type": "code",
   "execution_count": 1,
   "metadata": {},
   "outputs": [],
   "source": [
    "import torch\n",
    "import numpy as np\n",
    "\n",
    "import os\n",
    "os.chdir('..')\n",
    "from torch_geometric.loader import DataLoader\n",
    "from gnn_library.util import train, save, load\n",
    "from evaluate import evaluate_model, pp_output\n",
    "import instance_generator as ig\n",
    "import torch_converter as tc\n",
    "import evaluate as ev\n",
    "from util import Dataset\n",
    "\n",
    "%load_ext autoreload\n",
    "%autoreload 2"
   ]
  },
  {
   "cell_type": "code",
   "execution_count": 2,
   "metadata": {},
   "outputs": [
    {
     "name": "stdout",
     "output_type": "stream",
     "text": [
      "PyTorch has version 2.0.0+cu117\n",
      "Using device: cuda:0\n"
     ]
    }
   ],
   "source": [
    "device = torch.device('cuda:0' if torch.cuda.is_available() else 'cpu')\n",
    "print(\"PyTorch has version {}\".format(torch.__version__))\n",
    "print('Using device:', device)"
   ]
  },
  {
   "cell_type": "code",
   "execution_count": 13,
   "metadata": {},
   "outputs": [
    {
     "ename": "KeyboardInterrupt",
     "evalue": "",
     "output_type": "error",
     "traceback": [
      "\u001b[0;31m---------------------------------------------------------------------------\u001b[0m",
      "\u001b[0;31mKeyboardInterrupt\u001b[0m                         Traceback (most recent call last)",
      "\u001b[1;32m/home/wikum/GNN-OBM/notebooks/base_learner.ipynb Cell 3\u001b[0m line \u001b[0;36m<cell line: 57>\u001b[0;34m()\u001b[0m\n\u001b[1;32m     <a href='vscode-notebook-cell://ssh-remote%2Bsoal-7.stanford.edu/home/wikum/GNN-OBM/notebooks/base_learner.ipynb#W3sdnNjb2RlLXJlbW90ZQ%3D%3D?line=43'>44</a>\u001b[0m train_instances \u001b[39m=\u001b[39m [\n\u001b[1;32m     <a href='vscode-notebook-cell://ssh-remote%2Bsoal-7.stanford.edu/home/wikum/GNN-OBM/notebooks/base_learner.ipynb#W3sdnNjb2RlLXJlbW90ZQ%3D%3D?line=44'>45</a>\u001b[0m         \u001b[39m*\u001b[39mig\u001b[39m.\u001b[39msample_instances(\u001b[39m9\u001b[39m, \u001b[39m7\u001b[39m, train_num, rng, \u001b[39m*\u001b[39m\u001b[39m*\u001b[39mer_config),\n\u001b[1;32m     <a href='vscode-notebook-cell://ssh-remote%2Bsoal-7.stanford.edu/home/wikum/GNN-OBM/notebooks/base_learner.ipynb#W3sdnNjb2RlLXJlbW90ZQ%3D%3D?line=45'>46</a>\u001b[0m         \u001b[39m*\u001b[39mig\u001b[39m.\u001b[39msample_instances(\u001b[39m9\u001b[39m, \u001b[39m7\u001b[39m, train_num, rng, \u001b[39m*\u001b[39m\u001b[39m*\u001b[39mba_config),\n\u001b[1;32m     <a href='vscode-notebook-cell://ssh-remote%2Bsoal-7.stanford.edu/home/wikum/GNN-OBM/notebooks/base_learner.ipynb#W3sdnNjb2RlLXJlbW90ZQ%3D%3D?line=46'>47</a>\u001b[0m         \u001b[39m*\u001b[39mig\u001b[39m.\u001b[39msample_instances(\u001b[39m9\u001b[39m, \u001b[39m7\u001b[39m, train_num, rng, \u001b[39m*\u001b[39m\u001b[39m*\u001b[39mgeom_config),\n\u001b[1;32m     <a href='vscode-notebook-cell://ssh-remote%2Bsoal-7.stanford.edu/home/wikum/GNN-OBM/notebooks/base_learner.ipynb#W3sdnNjb2RlLXJlbW90ZQ%3D%3D?line=47'>48</a>\u001b[0m     ]\n\u001b[1;32m     <a href='vscode-notebook-cell://ssh-remote%2Bsoal-7.stanford.edu/home/wikum/GNN-OBM/notebooks/base_learner.ipynb#W3sdnNjb2RlLXJlbW90ZQ%3D%3D?line=49'>50</a>\u001b[0m test_instances \u001b[39m=\u001b[39m [\n\u001b[1;32m     <a href='vscode-notebook-cell://ssh-remote%2Bsoal-7.stanford.edu/home/wikum/GNN-OBM/notebooks/base_learner.ipynb#W3sdnNjb2RlLXJlbW90ZQ%3D%3D?line=50'>51</a>\u001b[0m         \u001b[39m*\u001b[39mig\u001b[39m.\u001b[39msample_instances(\u001b[39m9\u001b[39m, \u001b[39m7\u001b[39m, test_num, rng, \u001b[39m*\u001b[39m\u001b[39m*\u001b[39mer_config),\n\u001b[1;32m     <a href='vscode-notebook-cell://ssh-remote%2Bsoal-7.stanford.edu/home/wikum/GNN-OBM/notebooks/base_learner.ipynb#W3sdnNjb2RlLXJlbW90ZQ%3D%3D?line=51'>52</a>\u001b[0m         \u001b[39m*\u001b[39mig\u001b[39m.\u001b[39msample_instances(\u001b[39m9\u001b[39m, \u001b[39m7\u001b[39m, test_num, rng, \u001b[39m*\u001b[39m\u001b[39m*\u001b[39mba_config),\n\u001b[1;32m     <a href='vscode-notebook-cell://ssh-remote%2Bsoal-7.stanford.edu/home/wikum/GNN-OBM/notebooks/base_learner.ipynb#W3sdnNjb2RlLXJlbW90ZQ%3D%3D?line=52'>53</a>\u001b[0m         \u001b[39m*\u001b[39mig\u001b[39m.\u001b[39msample_instances(\u001b[39m9\u001b[39m, \u001b[39m7\u001b[39m, test_num, rng, \u001b[39m*\u001b[39m\u001b[39m*\u001b[39mgeom_config),\n\u001b[1;32m     <a href='vscode-notebook-cell://ssh-remote%2Bsoal-7.stanford.edu/home/wikum/GNN-OBM/notebooks/base_learner.ipynb#W3sdnNjb2RlLXJlbW90ZQ%3D%3D?line=53'>54</a>\u001b[0m     ]\n\u001b[0;32m---> <a href='vscode-notebook-cell://ssh-remote%2Bsoal-7.stanford.edu/home/wikum/GNN-OBM/notebooks/base_learner.ipynb#W3sdnNjb2RlLXJlbW90ZQ%3D%3D?line=56'>57</a>\u001b[0m train_data \u001b[39m=\u001b[39m Dataset(tc\u001b[39m.\u001b[39;49m_instances_to_train_samples(train_instances, args[\u001b[39m'\u001b[39;49m\u001b[39mhead\u001b[39;49m\u001b[39m'\u001b[39;49m]))\n\u001b[1;32m     <a href='vscode-notebook-cell://ssh-remote%2Bsoal-7.stanford.edu/home/wikum/GNN-OBM/notebooks/base_learner.ipynb#W3sdnNjb2RlLXJlbW90ZQ%3D%3D?line=57'>58</a>\u001b[0m test_data \u001b[39m=\u001b[39m Dataset(tc\u001b[39m.\u001b[39m_instances_to_train_samples(test_instances, args[\u001b[39m'\u001b[39m\u001b[39mhead\u001b[39m\u001b[39m'\u001b[39m]))\n\u001b[1;32m     <a href='vscode-notebook-cell://ssh-remote%2Bsoal-7.stanford.edu/home/wikum/GNN-OBM/notebooks/base_learner.ipynb#W3sdnNjb2RlLXJlbW90ZQ%3D%3D?line=59'>60</a>\u001b[0m train_loader \u001b[39m=\u001b[39m DataLoader(\n\u001b[1;32m     <a href='vscode-notebook-cell://ssh-remote%2Bsoal-7.stanford.edu/home/wikum/GNN-OBM/notebooks/base_learner.ipynb#W3sdnNjb2RlLXJlbW90ZQ%3D%3D?line=60'>61</a>\u001b[0m     train_data,\n\u001b[1;32m     <a href='vscode-notebook-cell://ssh-remote%2Bsoal-7.stanford.edu/home/wikum/GNN-OBM/notebooks/base_learner.ipynb#W3sdnNjb2RlLXJlbW90ZQ%3D%3D?line=61'>62</a>\u001b[0m     batch_size\u001b[39m=\u001b[39margs[\u001b[39m'\u001b[39m\u001b[39mbatch_size\u001b[39m\u001b[39m'\u001b[39m],\n\u001b[1;32m     <a href='vscode-notebook-cell://ssh-remote%2Bsoal-7.stanford.edu/home/wikum/GNN-OBM/notebooks/base_learner.ipynb#W3sdnNjb2RlLXJlbW90ZQ%3D%3D?line=62'>63</a>\u001b[0m     shuffle\u001b[39m=\u001b[39m\u001b[39mTrue\u001b[39;00m,\n\u001b[1;32m     <a href='vscode-notebook-cell://ssh-remote%2Bsoal-7.stanford.edu/home/wikum/GNN-OBM/notebooks/base_learner.ipynb#W3sdnNjb2RlLXJlbW90ZQ%3D%3D?line=63'>64</a>\u001b[0m     num_workers\u001b[39m=\u001b[39m\u001b[39m4\u001b[39m\n\u001b[1;32m     <a href='vscode-notebook-cell://ssh-remote%2Bsoal-7.stanford.edu/home/wikum/GNN-OBM/notebooks/base_learner.ipynb#W3sdnNjb2RlLXJlbW90ZQ%3D%3D?line=64'>65</a>\u001b[0m )\n",
      "File \u001b[0;32m~/GNN-OBM/torch_converter.py:482\u001b[0m, in \u001b[0;36m_instances_to_train_samples\u001b[0;34m(instances, head, meta_model_type, base_models)\u001b[0m\n\u001b[1;32m    479\u001b[0m \u001b[39mfor\u001b[39;00m instance \u001b[39min\u001b[39;00m instances:\n\u001b[1;32m    480\u001b[0m     cache \u001b[39m=\u001b[39m cache_stochastic_opt(\u001b[39m*\u001b[39minstance)\n\u001b[1;32m    481\u001b[0m     samples\u001b[39m.\u001b[39mextend(\n\u001b[0;32m--> 482\u001b[0m         _instance_to_sample_path(\n\u001b[1;32m    483\u001b[0m             instance,\n\u001b[1;32m    484\u001b[0m             label_fn,\n\u001b[1;32m    485\u001b[0m             cache,\n\u001b[1;32m    486\u001b[0m             rng,\n\u001b[1;32m    487\u001b[0m             meta_model_type,\n\u001b[1;32m    488\u001b[0m             base_models\n\u001b[1;32m    489\u001b[0m         )\n\u001b[1;32m    490\u001b[0m     )\n\u001b[1;32m    491\u001b[0m \u001b[39mreturn\u001b[39;00m samples\n",
      "File \u001b[0;32m~/GNN-OBM/torch_converter.py:444\u001b[0m, in \u001b[0;36m_instance_to_sample_path\u001b[0;34m(instance, label_fn, cache, rng, meta_net_type, base_models)\u001b[0m\n\u001b[1;32m    440\u001b[0m offline_nodes \u001b[39m=\u001b[39m diff(offline_nodes, choice)\n\u001b[1;32m    442\u001b[0m \u001b[39mif\u001b[39;00m t \u001b[39m<\u001b[39m m \u001b[39m-\u001b[39m \u001b[39m1\u001b[39m \u001b[39mand\u001b[39;00m \u001b[39mlen\u001b[39m(offline_nodes) \u001b[39m>\u001b[39m \u001b[39m0\u001b[39m:\n\u001b[1;32m    443\u001b[0m     \u001b[39m# Update the pyg graph for the base models\u001b[39;00m\n\u001b[0;32m--> 444\u001b[0m     SAMPLE_UPDATE_FUNCS[\u001b[39m'\u001b[39;49m\u001b[39mgnn\u001b[39;49m\u001b[39m'\u001b[39;49m](\n\u001b[1;32m    445\u001b[0m         pyg_graph,\n\u001b[1;32m    446\u001b[0m         instance,\n\u001b[1;32m    447\u001b[0m         choice,\n\u001b[1;32m    448\u001b[0m         t \u001b[39m+\u001b[39;49m \u001b[39m1\u001b[39;49m,\n\u001b[1;32m    449\u001b[0m         offline_nodes,\n\u001b[1;32m    450\u001b[0m         base_models\n\u001b[1;32m    451\u001b[0m \n\u001b[1;32m    452\u001b[0m     )\n\u001b[1;32m    454\u001b[0m     \u001b[39mif\u001b[39;00m meta_net_type \u001b[39m!=\u001b[39m \u001b[39m'\u001b[39m\u001b[39mgnn\u001b[39m\u001b[39m'\u001b[39m:\n\u001b[1;32m    455\u001b[0m         SAMPLE_UPDATE_FUNCS[meta_net_type](\n\u001b[1;32m    456\u001b[0m             sample_data,\n\u001b[1;32m    457\u001b[0m             instance,\n\u001b[0;32m   (...)\u001b[0m\n\u001b[1;32m    462\u001b[0m \n\u001b[1;32m    463\u001b[0m         )\n",
      "File \u001b[0;32m~/GNN-OBM/torch_converter.py:194\u001b[0m, in \u001b[0;36mupdate_pyg\u001b[0;34m(data, instance, choice, t, offline_nodes, base_models)\u001b[0m\n\u001b[1;32m    192\u001b[0m _update_edges()\n\u001b[1;32m    193\u001b[0m _update_graph_features()\n\u001b[0;32m--> 194\u001b[0m _update_neighbors()\n\u001b[1;32m    196\u001b[0m \u001b[39mif\u001b[39;00m base_models \u001b[39mis\u001b[39;00m \u001b[39mnot\u001b[39;00m \u001b[39mNone\u001b[39;00m:\n\u001b[1;32m    197\u001b[0m     _add_new_predictions()\n",
      "File \u001b[0;32m~/GNN-OBM/torch_converter.py:177\u001b[0m, in \u001b[0;36mupdate_pyg.<locals>._update_neighbors\u001b[0;34m()\u001b[0m\n\u001b[1;32m    176\u001b[0m \u001b[39mdef\u001b[39;00m \u001b[39m_update_neighbors\u001b[39m():\n\u001b[0;32m--> 177\u001b[0m     data\u001b[39m.\u001b[39mneighbors \u001b[39m=\u001b[39m _neighbor_encoder(A, offline_nodes, t)\n",
      "File \u001b[0;32m~/GNN-OBM/torch_converter.py:32\u001b[0m, in \u001b[0;36m_neighbor_encoder\u001b[0;34m(A, offline_nodes, t)\u001b[0m\n\u001b[1;32m     30\u001b[0m m, n \u001b[39m=\u001b[39m A\u001b[39m.\u001b[39mshape\n\u001b[1;32m     31\u001b[0m N_t \u001b[39m=\u001b[39m _neighbors(A, offline_nodes, t)\n\u001b[0;32m---> 32\u001b[0m \u001b[39mreturn\u001b[39;00m torch\u001b[39m.\u001b[39mtensor([\u001b[39m*\u001b[39m[u \u001b[39min\u001b[39;00m N_t \u001b[39mfor\u001b[39;00m u \u001b[39min\u001b[39;00m np\u001b[39m.\u001b[39marange(n \u001b[39m+\u001b[39m m)], \u001b[39mTrue\u001b[39;00m])\n",
      "File \u001b[0;32m~/GNN-OBM/torch_converter.py:32\u001b[0m, in \u001b[0;36m<listcomp>\u001b[0;34m(.0)\u001b[0m\n\u001b[1;32m     30\u001b[0m m, n \u001b[39m=\u001b[39m A\u001b[39m.\u001b[39mshape\n\u001b[1;32m     31\u001b[0m N_t \u001b[39m=\u001b[39m _neighbors(A, offline_nodes, t)\n\u001b[0;32m---> 32\u001b[0m \u001b[39mreturn\u001b[39;00m torch\u001b[39m.\u001b[39mtensor([\u001b[39m*\u001b[39m[u \u001b[39min\u001b[39;00m N_t \u001b[39mfor\u001b[39;00m u \u001b[39min\u001b[39;00m np\u001b[39m.\u001b[39marange(n \u001b[39m+\u001b[39m m)], \u001b[39mTrue\u001b[39;00m])\n",
      "\u001b[0;31mKeyboardInterrupt\u001b[0m: "
     ]
    }
   ],
   "source": [
    "args = {\n",
    "    'processor':         'GENConv',\n",
    "    'head':              'regression',\n",
    "    'num_layers':        2,\n",
    "    'num_mlp_layers':    2,\n",
    "    'aggr':              'max',\n",
    "    'batch_size':        32,\n",
    "    'node_feature_dim':  4,\n",
    "    'edge_feature_dim':  1,\n",
    "    'graph_feature_dim': 2,\n",
    "    'hidden_dim':        64,\n",
    "    'output_dim':        1,\n",
    "    'dropout':           0.35,\n",
    "    'epochs':            25,\n",
    "    'opt':               'adam',\n",
    "    'opt_scheduler':     'none',\n",
    "    'opt_restart':       0,\n",
    "    'weight_decay':      5e-3,\n",
    "    'lr':                0.0001,\n",
    "    'device':            device\n",
    "}\n",
    "\n",
    "train_num = 100; test_num = 30\n",
    "\n",
    "er_config = {\n",
    "    'graph_type': 'ER',\n",
    "    'p': 1,\n",
    "    'weighted': True\n",
    "}\n",
    "ba_config = {\n",
    "    'graph_type': 'BA',\n",
    "    'ba_param': 2,\n",
    "    'weighted': True\n",
    "}\n",
    "geom_config = {\n",
    "    'graph_type': 'GEOM',\n",
    "    'threshold': 0.2,\n",
    "    'scaling': 1 / np.sqrt(2)\n",
    "}\n",
    "\n",
    "rng = np.random.default_rng()\n",
    "\n",
    "\n",
    "train_instances = [\n",
    "        *ig.sample_instances(9, 7, train_num, rng, **er_config),\n",
    "        *ig.sample_instances(9, 7, train_num, rng, **ba_config),\n",
    "        *ig.sample_instances(9, 7, train_num, rng, **geom_config),\n",
    "    ]\n",
    "\n",
    "test_instances = [\n",
    "        *ig.sample_instances(9, 7, test_num, rng, **er_config),\n",
    "        *ig.sample_instances(9, 7, test_num, rng, **ba_config),\n",
    "        *ig.sample_instances(9, 7, test_num, rng, **geom_config),\n",
    "    ]\n",
    "\n",
    "\n",
    "train_data = Dataset(tc._instances_to_train_samples(train_instances, args['head']))\n",
    "test_data = Dataset(tc._instances_to_train_samples(test_instances, args['head']))\n",
    "\n",
    "train_loader = DataLoader(\n",
    "    train_data,\n",
    "    batch_size=args['batch_size'],\n",
    "    shuffle=True,\n",
    "    num_workers=4\n",
    ")\n",
    "\n",
    "test_loader = DataLoader(\n",
    "    test_data,\n",
    "    batch_size=args['batch_size'],\n",
    "    shuffle=True,\n",
    "    num_workers=4\n",
    ")"
   ]
  },
  {
   "cell_type": "code",
   "execution_count": 7,
   "metadata": {},
   "outputs": [
    {
     "name": "stderr",
     "output_type": "stream",
     "text": [
      "Training:   0%|          | 0/25 [00:00<?, ?Epochs/s]"
     ]
    },
    {
     "name": "stdout",
     "output_type": "stream",
     "text": [
      "0.10291066506606346\n"
     ]
    },
    {
     "name": "stderr",
     "output_type": "stream",
     "text": [
      "Training:   4%|▍         | 1/25 [00:02<01:05,  2.75s/Epochs]"
     ]
    },
    {
     "name": "stdout",
     "output_type": "stream",
     "text": [
      "TEST LOSS: 0.06727086007595062\n"
     ]
    },
    {
     "name": "stderr",
     "output_type": "stream",
     "text": [
      "Training:   8%|▊         | 2/25 [00:04<00:53,  2.34s/Epochs]"
     ]
    },
    {
     "name": "stdout",
     "output_type": "stream",
     "text": [
      "0.0639278085572676\n",
      "0.04505072483092988\n"
     ]
    },
    {
     "name": "stderr",
     "output_type": "stream",
     "text": [
      "Training:  12%|█▏        | 3/25 [00:07<00:56,  2.55s/Epochs]"
     ]
    },
    {
     "name": "stdout",
     "output_type": "stream",
     "text": [
      "TEST LOSS: 0.03116420842707157\n"
     ]
    },
    {
     "name": "stderr",
     "output_type": "stream",
     "text": [
      "Training:  16%|█▌        | 4/25 [00:09<00:48,  2.29s/Epochs]"
     ]
    },
    {
     "name": "stdout",
     "output_type": "stream",
     "text": [
      "0.03660079889135872\n",
      "0.03242848244834279\n"
     ]
    },
    {
     "name": "stderr",
     "output_type": "stream",
     "text": [
      "Training:  20%|██        | 5/25 [00:11<00:47,  2.36s/Epochs]"
     ]
    },
    {
     "name": "stdout",
     "output_type": "stream",
     "text": [
      "TEST LOSS: 0.024624736979603767\n"
     ]
    },
    {
     "name": "stderr",
     "output_type": "stream",
     "text": [
      "Training:  24%|██▍       | 6/25 [00:13<00:41,  2.19s/Epochs]"
     ]
    },
    {
     "name": "stdout",
     "output_type": "stream",
     "text": [
      "0.029672764421951388\n",
      "0.02628691123884558\n"
     ]
    },
    {
     "name": "stderr",
     "output_type": "stream",
     "text": [
      "Training:  28%|██▊       | 7/25 [00:16<00:41,  2.29s/Epochs]"
     ]
    },
    {
     "name": "stdout",
     "output_type": "stream",
     "text": [
      "TEST LOSS: 0.021705593913793564\n"
     ]
    },
    {
     "name": "stderr",
     "output_type": "stream",
     "text": [
      "Training:  32%|███▏      | 8/25 [00:18<00:36,  2.17s/Epochs]"
     ]
    },
    {
     "name": "stdout",
     "output_type": "stream",
     "text": [
      "0.025080816877101335\n",
      "0.022262447272486652\n"
     ]
    },
    {
     "name": "stderr",
     "output_type": "stream",
     "text": [
      "Training:  36%|███▌      | 9/25 [00:20<00:36,  2.31s/Epochs]"
     ]
    },
    {
     "name": "stdout",
     "output_type": "stream",
     "text": [
      "TEST LOSS: 0.016465285792946815\n"
     ]
    },
    {
     "name": "stderr",
     "output_type": "stream",
     "text": [
      "Training:  40%|████      | 10/25 [00:22<00:32,  2.13s/Epochs]"
     ]
    },
    {
     "name": "stdout",
     "output_type": "stream",
     "text": [
      "0.02086506172309856\n",
      "0.019566667544693665\n"
     ]
    },
    {
     "name": "stderr",
     "output_type": "stream",
     "text": [
      "Training:  44%|████▍     | 11/25 [00:25<00:32,  2.29s/Epochs]"
     ]
    },
    {
     "name": "stdout",
     "output_type": "stream",
     "text": [
      "TEST LOSS: 0.015860730782151222\n"
     ]
    },
    {
     "name": "stderr",
     "output_type": "stream",
     "text": [
      "Training:  48%|████▊     | 12/25 [00:27<00:29,  2.25s/Epochs]"
     ]
    },
    {
     "name": "stdout",
     "output_type": "stream",
     "text": [
      "0.01898238259678627\n",
      "0.017794555082345592\n"
     ]
    },
    {
     "name": "stderr",
     "output_type": "stream",
     "text": [
      "Training:  52%|█████▏    | 13/25 [00:30<00:28,  2.38s/Epochs]"
     ]
    },
    {
     "name": "stdout",
     "output_type": "stream",
     "text": [
      "TEST LOSS: 0.013727412559092045\n"
     ]
    },
    {
     "name": "stderr",
     "output_type": "stream",
     "text": [
      "Training:  56%|█████▌    | 14/25 [00:31<00:24,  2.19s/Epochs]"
     ]
    },
    {
     "name": "stdout",
     "output_type": "stream",
     "text": [
      "0.016856952022303157\n",
      "0.016472969990168434\n"
     ]
    },
    {
     "name": "stderr",
     "output_type": "stream",
     "text": [
      "Training:  60%|██████    | 15/25 [00:34<00:23,  2.36s/Epochs]"
     ]
    },
    {
     "name": "stdout",
     "output_type": "stream",
     "text": [
      "TEST LOSS: 0.013300866819918156\n"
     ]
    },
    {
     "name": "stderr",
     "output_type": "stream",
     "text": [
      "Training:  64%|██████▍   | 16/25 [00:36<00:20,  2.30s/Epochs]"
     ]
    },
    {
     "name": "stdout",
     "output_type": "stream",
     "text": [
      "0.015285684607773629\n",
      "0.015309341834840196\n"
     ]
    },
    {
     "name": "stderr",
     "output_type": "stream",
     "text": [
      "Training:  68%|██████▊   | 17/25 [00:39<00:19,  2.44s/Epochs]"
     ]
    },
    {
     "name": "stdout",
     "output_type": "stream",
     "text": [
      "TEST LOSS: 0.011798766441643238\n"
     ]
    },
    {
     "name": "stderr",
     "output_type": "stream",
     "text": [
      "Training:  72%|███████▏  | 18/25 [00:41<00:15,  2.26s/Epochs]"
     ]
    },
    {
     "name": "stdout",
     "output_type": "stream",
     "text": [
      "0.014936636793959006\n",
      "0.014485554334422559\n"
     ]
    },
    {
     "name": "stderr",
     "output_type": "stream",
     "text": [
      "Training:  76%|███████▌  | 19/25 [00:43<00:14,  2.36s/Epochs]"
     ]
    },
    {
     "name": "stdout",
     "output_type": "stream",
     "text": [
      "TEST LOSS: 0.011897599324584007\n"
     ]
    },
    {
     "name": "stderr",
     "output_type": "stream",
     "text": [
      "Training:  80%|████████  | 20/25 [00:45<00:11,  2.22s/Epochs]"
     ]
    },
    {
     "name": "stdout",
     "output_type": "stream",
     "text": [
      "0.013873385055170905\n",
      "0.014044516210776365\n"
     ]
    },
    {
     "name": "stderr",
     "output_type": "stream",
     "text": [
      "Training:  84%|████████▍ | 21/25 [00:48<00:09,  2.32s/Epochs]"
     ]
    },
    {
     "name": "stdout",
     "output_type": "stream",
     "text": [
      "TEST LOSS: 0.010904124937951565\n"
     ]
    },
    {
     "name": "stderr",
     "output_type": "stream",
     "text": [
      "Training:  88%|████████▊ | 22/25 [00:50<00:06,  2.21s/Epochs]"
     ]
    },
    {
     "name": "stdout",
     "output_type": "stream",
     "text": [
      "0.013700027833997215\n",
      "0.01332170740029764\n"
     ]
    },
    {
     "name": "stderr",
     "output_type": "stream",
     "text": [
      "Training:  92%|█████████▏| 23/25 [00:52<00:04,  2.31s/Epochs]"
     ]
    },
    {
     "name": "stdout",
     "output_type": "stream",
     "text": [
      "TEST LOSS: 0.01019977405667305\n"
     ]
    },
    {
     "name": "stderr",
     "output_type": "stream",
     "text": [
      "Training:  96%|█████████▌| 24/25 [00:54<00:02,  2.16s/Epochs]"
     ]
    },
    {
     "name": "stdout",
     "output_type": "stream",
     "text": [
      "0.012718850244957152\n",
      "0.012588007239188022\n"
     ]
    },
    {
     "name": "stderr",
     "output_type": "stream",
     "text": [
      "Training: 100%|██████████| 25/25 [00:57<00:00,  2.30s/Epochs]"
     ]
    },
    {
     "name": "stdout",
     "output_type": "stream",
     "text": [
      "TEST LOSS: 0.00998975895345211\n"
     ]
    },
    {
     "name": "stderr",
     "output_type": "stream",
     "text": [
      "\n"
     ]
    }
   ],
   "source": [
    "_, _, GNN, _ = train(train_loader, test_loader, args)"
   ]
  },
  {
   "cell_type": "code",
   "execution_count": 12,
   "metadata": {},
   "outputs": [],
   "source": [
    "save(GNN, args, 'GNN3')"
   ]
  },
  {
   "cell_type": "code",
   "execution_count": null,
   "metadata": {},
   "outputs": [],
   "source": [
    "GNN, args = load('test_GNN', device)"
   ]
  },
  {
   "cell_type": "code",
   "execution_count": 11,
   "metadata": {},
   "outputs": [
    {
     "name": "stdout",
     "output_type": "stream",
     "text": [
      "(array([0]), array([50]))\n",
      "-- Competitive ratios --\n",
      "GNN: 0.944\n",
      "Greedy: 0.9943\n"
     ]
    }
   ],
   "source": [
    "seed = np.random.randint(0, 500000)\n",
    "(m, n) = (8, 16)\n",
    "config = er_config\n",
    "\n",
    "rng = np.random.default_rng(seed)\n",
    "eval_instances = ig.sample_instances(m, n, 10, rng, **config)\n",
    "\n",
    "ratios2 = evaluate_model(\n",
    "    meta_model=None,\n",
    "    meta_model_type=None,\n",
    "    base_models=[GNN],\n",
    "    instances=eval_instances,\n",
    "    batch_size=50,\n",
    "    rng=rng,\n",
    "    num_realizations=5\n",
    ")\n",
    "\n",
    "pp_output(ratios2, _, show_log=False)"
   ]
  },
  {
   "cell_type": "markdown",
   "metadata": {},
   "source": [
    "# Pivot to feature-generated graphs"
   ]
  },
  {
   "cell_type": "code",
   "execution_count": 36,
   "metadata": {},
   "outputs": [],
   "source": [
    "args = {\n",
    "    'processor':         'GENConv',\n",
    "    'head':              'regression',\n",
    "    'num_layers':        2,\n",
    "    'num_mlp_layers':    2,\n",
    "    'aggr':              'max',\n",
    "    'batch_size':        32,\n",
    "    'node_feature_dim':  4,\n",
    "    'edge_feature_dim':  1,\n",
    "    'graph_feature_dim': 2,\n",
    "    'hidden_dim':        64,\n",
    "    'output_dim':        1,\n",
    "    'dropout':           0.35,\n",
    "    'epochs':            25,\n",
    "    'opt':               'adam',\n",
    "    'opt_scheduler':     'none',\n",
    "    'opt_restart':       0,\n",
    "    'weight_decay':      5e-3,\n",
    "    'lr':                0.0001,\n",
    "    'device':            device\n",
    "}\n",
    "\n",
    "train_num = 100; test_num = 30\n",
    "\n",
    "er_config = {\n",
    "    'graph_type': 'ER',\n",
    "    'p': 1,\n",
    "    'weighted': False\n",
    "}\n",
    "ba_config = {\n",
    "    'graph_type': 'BA',\n",
    "    'ba_param': 2,\n",
    "    'weighted': False\n",
    "}\n",
    "feat_config = {\n",
    "    'graph_type': 'FEAT',\n",
    "    'q': 0.2\n",
    "}\n",
    "\n",
    "rng = np.random.default_rng()\n",
    "\n",
    "\n",
    "train_instances = [\n",
    "        *ig.sample_instances(8, 8, train_num, rng, **er_config),\n",
    "        *ig.sample_instances(8, 8, train_num, rng, **ba_config),\n",
    "        *ig.sample_instances(8, 8, train_num, rng, **feat_config),\n",
    "    ]\n",
    "\n",
    "test_instances = [\n",
    "        *ig.sample_instances(8, 8, test_num, rng, **er_config),\n",
    "        *ig.sample_instances(8, 8, test_num, rng, **ba_config),\n",
    "        *ig.sample_instances(8, 8, test_num, rng, **feat_config),\n",
    "    ]\n",
    "\n",
    "\n",
    "train_data = Dataset(tc._instances_to_train_samples(train_instances, args['head']))\n",
    "test_data = Dataset(tc._instances_to_train_samples(test_instances, args['head']))\n",
    "\n",
    "train_loader = DataLoader(\n",
    "    train_data,\n",
    "    batch_size=args['batch_size'],\n",
    "    shuffle=True,\n",
    "    num_workers=4\n",
    ")\n",
    "\n",
    "test_loader = DataLoader(\n",
    "    test_data,\n",
    "    batch_size=args['batch_size'],\n",
    "    shuffle=True,\n",
    "    num_workers=4\n",
    ")"
   ]
  },
  {
   "cell_type": "code",
   "execution_count": 37,
   "metadata": {},
   "outputs": [
    {
     "name": "stderr",
     "output_type": "stream",
     "text": [
      "Training:   0%|          | 0/25 [00:00<?, ?Epochs/s]"
     ]
    },
    {
     "name": "stdout",
     "output_type": "stream",
     "text": [
      "0.17175870046178887\n"
     ]
    },
    {
     "name": "stderr",
     "output_type": "stream",
     "text": [
      "Training:   4%|▍         | 1/25 [00:02<01:11,  2.99s/Epochs]"
     ]
    },
    {
     "name": "stdout",
     "output_type": "stream",
     "text": [
      "TEST ACCURACY: 0.0\n",
      "TEST LOSS: 0.11428944766521454\n"
     ]
    },
    {
     "name": "stderr",
     "output_type": "stream",
     "text": [
      "Training:   8%|▊         | 2/25 [00:05<00:59,  2.58s/Epochs]"
     ]
    },
    {
     "name": "stdout",
     "output_type": "stream",
     "text": [
      "0.09360097265559426\n",
      "0.07740642366258003\n"
     ]
    },
    {
     "name": "stderr",
     "output_type": "stream",
     "text": [
      "Training:  12%|█▏        | 3/25 [00:07<00:58,  2.64s/Epochs]"
     ]
    },
    {
     "name": "stdout",
     "output_type": "stream",
     "text": [
      "TEST ACCURACY: 0.0\n",
      "TEST LOSS: 0.052912287414073944\n"
     ]
    },
    {
     "name": "stderr",
     "output_type": "stream",
     "text": [
      "Training:  16%|█▌        | 4/25 [00:09<00:49,  2.37s/Epochs]"
     ]
    },
    {
     "name": "stdout",
     "output_type": "stream",
     "text": [
      "0.06968462177275614\n",
      "0.06379828871210914\n"
     ]
    },
    {
     "name": "stderr",
     "output_type": "stream",
     "text": [
      "Training:  20%|██        | 5/25 [00:12<00:51,  2.56s/Epochs]"
     ]
    },
    {
     "name": "stdout",
     "output_type": "stream",
     "text": [
      "TEST ACCURACY: 0.0\n",
      "TEST LOSS: 0.04365994781255722\n"
     ]
    },
    {
     "name": "stderr",
     "output_type": "stream",
     "text": [
      "Training:  24%|██▍       | 6/25 [00:15<00:46,  2.44s/Epochs]"
     ]
    },
    {
     "name": "stdout",
     "output_type": "stream",
     "text": [
      "0.059852354034525136\n",
      "0.05507338277715021\n"
     ]
    },
    {
     "name": "stderr",
     "output_type": "stream",
     "text": [
      "Training:  28%|██▊       | 7/25 [00:17<00:46,  2.60s/Epochs]"
     ]
    },
    {
     "name": "stdout",
     "output_type": "stream",
     "text": [
      "TEST ACCURACY: 0.0\n",
      "TEST LOSS: 0.044129643589258194\n"
     ]
    },
    {
     "name": "stderr",
     "output_type": "stream",
     "text": [
      "Training:  32%|███▏      | 8/25 [00:20<00:41,  2.44s/Epochs]"
     ]
    },
    {
     "name": "stdout",
     "output_type": "stream",
     "text": [
      "0.05085472112780447\n",
      "0.048089986709468256\n"
     ]
    },
    {
     "name": "stderr",
     "output_type": "stream",
     "text": [
      "Training:  36%|███▌      | 9/25 [00:22<00:41,  2.57s/Epochs]"
     ]
    },
    {
     "name": "stdout",
     "output_type": "stream",
     "text": [
      "TEST ACCURACY: 0.0\n",
      "TEST LOSS: 0.04804784804582596\n"
     ]
    },
    {
     "name": "stderr",
     "output_type": "stream",
     "text": [
      "Training:  40%|████      | 10/25 [00:24<00:35,  2.37s/Epochs]"
     ]
    },
    {
     "name": "stdout",
     "output_type": "stream",
     "text": [
      "0.04559403195066238\n",
      "0.04320193055942689\n"
     ]
    },
    {
     "name": "stderr",
     "output_type": "stream",
     "text": [
      "Training:  44%|████▍     | 11/25 [00:27<00:35,  2.55s/Epochs]"
     ]
    },
    {
     "name": "stdout",
     "output_type": "stream",
     "text": [
      "TEST ACCURACY: 0.0\n",
      "TEST LOSS: 0.040975864976644516\n"
     ]
    },
    {
     "name": "stderr",
     "output_type": "stream",
     "text": [
      "Training:  48%|████▊     | 12/25 [00:29<00:30,  2.38s/Epochs]"
     ]
    },
    {
     "name": "stdout",
     "output_type": "stream",
     "text": [
      "0.040197930719161355\n",
      "0.037645031443893605\n"
     ]
    },
    {
     "name": "stderr",
     "output_type": "stream",
     "text": [
      "Training:  52%|█████▏    | 13/25 [00:32<00:30,  2.50s/Epochs]"
     ]
    },
    {
     "name": "stdout",
     "output_type": "stream",
     "text": [
      "TEST ACCURACY: 0.0\n",
      "TEST LOSS: 0.038384873420000076\n"
     ]
    },
    {
     "name": "stderr",
     "output_type": "stream",
     "text": [
      "Training:  56%|█████▌    | 14/25 [00:34<00:25,  2.35s/Epochs]"
     ]
    },
    {
     "name": "stdout",
     "output_type": "stream",
     "text": [
      "0.03616045028324573\n",
      "0.03350288820721864\n"
     ]
    },
    {
     "name": "stderr",
     "output_type": "stream",
     "text": [
      "Training:  60%|██████    | 15/25 [00:37<00:25,  2.52s/Epochs]"
     ]
    },
    {
     "name": "stdout",
     "output_type": "stream",
     "text": [
      "TEST ACCURACY: 0.0\n",
      "TEST LOSS: 0.03599034249782562\n"
     ]
    },
    {
     "name": "stderr",
     "output_type": "stream",
     "text": [
      "Training:  64%|██████▍   | 16/25 [00:39<00:21,  2.36s/Epochs]"
     ]
    },
    {
     "name": "stdout",
     "output_type": "stream",
     "text": [
      "0.03163399933376239\n",
      "0.02935673163788976\n"
     ]
    },
    {
     "name": "stderr",
     "output_type": "stream",
     "text": [
      "Training:  68%|██████▊   | 17/25 [00:42<00:19,  2.45s/Epochs]"
     ]
    },
    {
     "name": "stdout",
     "output_type": "stream",
     "text": [
      "TEST ACCURACY: 0.0\n",
      "TEST LOSS: 0.0372585766017437\n"
     ]
    },
    {
     "name": "stderr",
     "output_type": "stream",
     "text": [
      "Training:  72%|███████▏  | 18/25 [00:44<00:16,  2.34s/Epochs]"
     ]
    },
    {
     "name": "stdout",
     "output_type": "stream",
     "text": [
      "0.028432987947302715\n",
      "0.026963800668581343\n"
     ]
    },
    {
     "name": "stderr",
     "output_type": "stream",
     "text": [
      "Training:  76%|███████▌  | 19/25 [00:47<00:14,  2.49s/Epochs]"
     ]
    },
    {
     "name": "stdout",
     "output_type": "stream",
     "text": [
      "TEST ACCURACY: 0.0\n",
      "TEST LOSS: 0.028823303058743477\n"
     ]
    },
    {
     "name": "stderr",
     "output_type": "stream",
     "text": [
      "Training:  80%|████████  | 20/25 [00:49<00:12,  2.42s/Epochs]"
     ]
    },
    {
     "name": "stdout",
     "output_type": "stream",
     "text": [
      "0.026067933652191483\n",
      "0.025025737577956647\n"
     ]
    },
    {
     "name": "stderr",
     "output_type": "stream",
     "text": [
      "Training:  84%|████████▍ | 21/25 [00:52<00:10,  2.54s/Epochs]"
     ]
    },
    {
     "name": "stdout",
     "output_type": "stream",
     "text": [
      "TEST ACCURACY: 0.0\n",
      "TEST LOSS: 0.026728786528110504\n"
     ]
    },
    {
     "name": "stderr",
     "output_type": "stream",
     "text": [
      "Training:  88%|████████▊ | 22/25 [00:54<00:07,  2.42s/Epochs]"
     ]
    },
    {
     "name": "stdout",
     "output_type": "stream",
     "text": [
      "0.024283085591651186\n",
      "0.022332200693050575\n"
     ]
    },
    {
     "name": "stderr",
     "output_type": "stream",
     "text": [
      "Training:  92%|█████████▏| 23/25 [00:57<00:05,  2.57s/Epochs]"
     ]
    },
    {
     "name": "stdout",
     "output_type": "stream",
     "text": [
      "TEST ACCURACY: 0.0\n",
      "TEST LOSS: 0.023690104484558105\n"
     ]
    },
    {
     "name": "stderr",
     "output_type": "stream",
     "text": [
      "Training:  96%|█████████▌| 24/25 [00:59<00:02,  2.44s/Epochs]"
     ]
    },
    {
     "name": "stdout",
     "output_type": "stream",
     "text": [
      "0.022134539679035732\n",
      "0.021566722459782837\n"
     ]
    },
    {
     "name": "stderr",
     "output_type": "stream",
     "text": [
      "Training: 100%|██████████| 25/25 [01:02<00:00,  2.50s/Epochs]"
     ]
    },
    {
     "name": "stdout",
     "output_type": "stream",
     "text": [
      "TEST ACCURACY: 0.0\n",
      "TEST LOSS: 0.023204753175377846\n"
     ]
    },
    {
     "name": "stderr",
     "output_type": "stream",
     "text": [
      "\n"
     ]
    }
   ],
   "source": [
    "_, _, GNN, _ = train(train_loader, test_loader, args)"
   ]
  },
  {
   "cell_type": "code",
   "execution_count": 38,
   "metadata": {},
   "outputs": [
    {
     "name": "stdout",
     "output_type": "stream",
     "text": [
      "-- Competitive ratios --\n",
      "GNN: 0.9769\n",
      "Greedy: 0.8998\n"
     ]
    }
   ],
   "source": [
    "seed = np.random.randint(0, 500000)\n",
    "(m, n) = (32, 16)\n",
    "config = {\n",
    "    'graph_type': 'FEAT',\n",
    "    'q': 0.75\n",
    "}\n",
    "\n",
    "rng = np.random.default_rng(seed)\n",
    "eval_instances = ig.sample_instances(m, n, 100, rng, **config)\n",
    "\n",
    "ratios2 = ev.evaluate_model(\n",
    "    meta_model=None,\n",
    "    meta_model_type=None,\n",
    "    base_models=[GNN],\n",
    "    instances=eval_instances,\n",
    "    batch_size=50,\n",
    "    rng=rng,\n",
    "    num_realizations=5\n",
    ")\n",
    "\n",
    "pp_output(ratios2, _, show_log=False)"
   ]
  },
  {
   "cell_type": "code",
   "execution_count": 39,
   "metadata": {},
   "outputs": [
    {
     "name": "stdout",
     "output_type": "stream",
     "text": [
      "[0.25, 0.5, 0.75, 1.0, 1.25, 1.5, 1.75, 2.0, 2.25, 2.5, 2.75, 3.0, 3.25, 3.5, 3.75]\n",
      "{'graph_type': 'ER', 'p': 0.75, 'weighted': False} (4, 16)\n",
      "{'graph_type': 'ER', 'p': 0.75, 'weighted': False} (8, 16)\n",
      "{'graph_type': 'ER', 'p': 0.75, 'weighted': False} (12, 16)\n",
      "{'graph_type': 'ER', 'p': 0.75, 'weighted': False} (16, 16)\n",
      "{'graph_type': 'ER', 'p': 0.75, 'weighted': False} (20, 16)\n",
      "{'graph_type': 'ER', 'p': 0.75, 'weighted': False} (24, 16)\n",
      "{'graph_type': 'ER', 'p': 0.75, 'weighted': False} (28, 16)\n",
      "{'graph_type': 'ER', 'p': 0.75, 'weighted': False} (32, 16)\n",
      "{'graph_type': 'ER', 'p': 0.75, 'weighted': False} (36, 16)\n",
      "{'graph_type': 'ER', 'p': 0.75, 'weighted': False} (40, 16)\n",
      "{'graph_type': 'ER', 'p': 0.75, 'weighted': False} (44, 16)\n",
      "{'graph_type': 'ER', 'p': 0.75, 'weighted': False} (48, 16)\n",
      "{'graph_type': 'ER', 'p': 0.75, 'weighted': False} (52, 16)\n",
      "{'graph_type': 'ER', 'p': 0.75, 'weighted': False} (56, 16)\n",
      "{'graph_type': 'ER', 'p': 0.75, 'weighted': False} (60, 16)\n",
      "{'graph_type': 'BA', 'ba_param': 4, 'weighted': False} (4, 16)\n",
      "{'graph_type': 'BA', 'ba_param': 4, 'weighted': False} (8, 16)\n",
      "{'graph_type': 'BA', 'ba_param': 4, 'weighted': False} (12, 16)\n",
      "{'graph_type': 'BA', 'ba_param': 4, 'weighted': False} (16, 16)\n",
      "{'graph_type': 'BA', 'ba_param': 4, 'weighted': False} (20, 16)\n",
      "{'graph_type': 'BA', 'ba_param': 4, 'weighted': False} (24, 16)\n",
      "{'graph_type': 'BA', 'ba_param': 4, 'weighted': False} (28, 16)\n",
      "{'graph_type': 'BA', 'ba_param': 4, 'weighted': False} (32, 16)\n",
      "{'graph_type': 'BA', 'ba_param': 4, 'weighted': False} (36, 16)\n",
      "{'graph_type': 'BA', 'ba_param': 4, 'weighted': False} (40, 16)\n",
      "{'graph_type': 'BA', 'ba_param': 4, 'weighted': False} (44, 16)\n",
      "{'graph_type': 'BA', 'ba_param': 4, 'weighted': False} (48, 16)\n",
      "{'graph_type': 'BA', 'ba_param': 4, 'weighted': False} (52, 16)\n",
      "{'graph_type': 'BA', 'ba_param': 4, 'weighted': False} (56, 16)\n",
      "{'graph_type': 'BA', 'ba_param': 4, 'weighted': False} (60, 16)\n",
      "{'graph_type': 'FEAT', 'q': 0.75} (4, 16)\n"
     ]
    },
    {
     "name": "stderr",
     "output_type": "stream",
     "text": [
      "/home/wikum/GNN-OBM/evaluate.py:324: RuntimeWarning: Mean of empty slice\n",
      "  np.nanmean(learned_ratios, axis=1),\n",
      "/home/wikum/GNN-OBM/evaluate.py:325: RuntimeWarning: Mean of empty slice\n",
      "  np.nanmean(greedy_ratios, axis=1),\n"
     ]
    },
    {
     "name": "stdout",
     "output_type": "stream",
     "text": [
      "{'graph_type': 'FEAT', 'q': 0.75} (8, 16)\n",
      "{'graph_type': 'FEAT', 'q': 0.75} (12, 16)\n",
      "{'graph_type': 'FEAT', 'q': 0.75} (16, 16)\n",
      "{'graph_type': 'FEAT', 'q': 0.75} (20, 16)\n",
      "{'graph_type': 'FEAT', 'q': 0.75} (24, 16)\n",
      "{'graph_type': 'FEAT', 'q': 0.75} (28, 16)\n",
      "{'graph_type': 'FEAT', 'q': 0.75} (32, 16)\n",
      "{'graph_type': 'FEAT', 'q': 0.75} (36, 16)\n",
      "{'graph_type': 'FEAT', 'q': 0.75} (40, 16)\n",
      "{'graph_type': 'FEAT', 'q': 0.75} (44, 16)\n",
      "{'graph_type': 'FEAT', 'q': 0.75} (48, 16)\n",
      "{'graph_type': 'FEAT', 'q': 0.75} (52, 16)\n",
      "{'graph_type': 'FEAT', 'q': 0.75} (56, 16)\n",
      "{'graph_type': 'FEAT', 'q': 0.75} (60, 16)\n"
     ]
    }
   ],
   "source": [
    "num_trials = 50\n",
    "node_configs = [(x, 16) for x in np.arange(4, 64, 4)]\n",
    "# of nodes [20 -> 80]\n",
    "# of nodes in batch [10,000 -> 40,000]\n",
    "batch_size = 500 #[int(min(32, x + y)) for (x, y) in node_configs]\n",
    "graph_configs = [\n",
    "    # {\n",
    "    #     'graph_type': 'GM'\n",
    "    # },\n",
    "    {\n",
    "        'graph_type': 'ER',\n",
    "        'p': 0.75,\n",
    "        'weighted': False\n",
    "    },\n",
    "    {\n",
    "        'graph_type': 'BA',\n",
    "        'ba_param': 4,\n",
    "        'weighted': False\n",
    "    },\n",
    "    {\n",
    "    'graph_type': 'FEAT',\n",
    "    'q': 0.75\n",
    "    }\n",
    "]\n",
    "\n",
    "ratios = [x/y for (x,y) in node_configs]\n",
    "print(ratios)\n",
    "data = {config['graph_type']: [] for config in graph_configs}\n",
    "for graph_config in graph_configs:\n",
    "    for i, node_config in enumerate(node_configs):\n",
    "        print(graph_config, node_config)\n",
    "        seed = np.random.randint(0, 500000)\n",
    "        rng = np.random.default_rng(seed)\n",
    "        instances = ig.sample_instances(*node_config, num_trials, rng, **graph_config)\n",
    "\n",
    "\n",
    "        rng = np.random.default_rng(seed)\n",
    "        gnn_learned_ratios, greedy_ratios = evaluate_model(\n",
    "            meta_model=None,\n",
    "            meta_model_type=None,\n",
    "            base_models=[GNN],\n",
    "            instances=instances,\n",
    "            batch_size=batch_size,\n",
    "            rng=rng,\n",
    "            num_realizations=5\n",
    "        )\n",
    "\n",
    "\n",
    "        data[graph_config['graph_type']].append(np.array(\n",
    "            [\n",
    "                gnn_learned_ratios,\n",
    "                greedy_ratios\n",
    "            ]\n",
    "        ))"
   ]
  },
  {
   "cell_type": "code",
   "execution_count": 40,
   "metadata": {},
   "outputs": [
    {
     "name": "stdout",
     "output_type": "stream",
     "text": [
      "ER\n"
     ]
    },
    {
     "data": {
      "image/png": "[encoded data removed]",
      "text/plain": [
       "<Figure size 576x432 with 1 Axes>"
      ]
     },
     "metadata": {
      "needs_background": "light"
     },
     "output_type": "display_data"
    },
    {
     "name": "stdout",
     "output_type": "stream",
     "text": [
      "BA\n"
     ]
    },
    {
     "data": {
      "image/png": "[encoded data removed]",
      "text/plain": [
       "<Figure size 576x432 with 1 Axes>"
      ]
     },
     "metadata": {
      "needs_background": "light"
     },
     "output_type": "display_data"
    },
    {
     "name": "stdout",
     "output_type": "stream",
     "text": [
      "FEAT\n"
     ]
    },
    {
     "data": {
      "image/png": "[encoded data removed]",
      "text/plain": [
       "<Figure size 576x432 with 1 Axes>"
      ]
     },
     "metadata": {
      "needs_background": "light"
     },
     "output_type": "display_data"
    }
   ],
   "source": [
    "import matplotlib.pyplot as plt\n",
    "ratios = [x/y for (x,y) in node_configs]\n",
    "for graph_type, comp_ratios in data.items():\n",
    "    greedy_avg_ratios = []\n",
    "    gnn_avg_ratios = []\n",
    "\n",
    "\n",
    "    for trial_ratios in comp_ratios:\n",
    "        gnn_avg_ratios.append(np.array(trial_ratios[0]).mean())\n",
    "        greedy_avg_ratios.append(np.array(trial_ratios[1]).mean())\n",
    "\n",
    "    print(graph_type)\n",
    "    fig = plt.figure(figsize=(8,6))\n",
    "    plt.title(graph_type)\n",
    "    plt.plot(ratios, gnn_avg_ratios, label='GNN')\n",
    "    plt.plot(ratios, greedy_avg_ratios, label='Greedy')\n",
    "    plt.xlabel('# online / # offline')\n",
    "    plt.ylabel('Average competitive ratio')\n",
    "    plt.legend()\n",
    "    plt.show()\n"
   ]
  },
  {
   "cell_type": "code",
   "execution_count": null,
   "metadata": {},
   "outputs": [],
   "source": []
  }
 ],
 "metadata": {
  "kernelspec": {
   "display_name": "clrs",
   "language": "python",
   "name": "python3"
  },
  "language_info": {
   "codemirror_mode": {
    "name": "ipython",
    "version": 3
   },
   "file_extension": ".py",
   "mimetype": "text/x-python",
   "name": "python",
   "nbconvert_exporter": "python",
   "pygments_lexer": "ipython3",
   "version": "3.10.12"
  }
 },
 "nbformat": 4,
 "nbformat_minor": 2
}
