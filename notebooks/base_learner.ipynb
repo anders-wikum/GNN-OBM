{
 "cells": [
  {
   "cell_type": "code",
   "execution_count": 1,
   "metadata": {},
   "outputs": [],
   "source": [
    "import torch\n",
    "import numpy as np\n",
    "\n",
    "import os\n",
    "os.chdir('..')\n",
    "from torch_geometric.loader import DataLoader\n",
    "from gnn_library.util import train, save, load\n",
    "from evaluate import evaluate_model, pp_output\n",
    "import instance_generator as ig\n",
    "import torch_converter as tc\n",
    "import evaluate as ev\n",
    "import osmnx as ox\n",
    "from util import Dataset\n",
    "\n",
    "%load_ext autoreload\n",
    "%autoreload 2"
   ]
  },
  {
   "cell_type": "code",
   "execution_count": 2,
   "metadata": {},
   "outputs": [
    {
     "name": "stdout",
     "output_type": "stream",
     "text": [
      "PyTorch has version 1.12.0+cu102\n",
      "Using device: cuda:0\n"
     ]
    }
   ],
   "source": [
    "device = torch.device('cuda:0' if torch.cuda.is_available() else 'cpu')\n",
    "print(\"PyTorch has version {}\".format(torch.__version__))\n",
    "print('Using device:', device)"
   ]
  },
  {
   "cell_type": "code",
   "execution_count": 3,
   "metadata": {},
   "outputs": [],
   "source": [
    "args = {\n",
    "    'processor':         'GENConv',\n",
    "    'head':              'regression',\n",
    "    'num_layers':        2,\n",
    "    'num_mlp_layers':    2,\n",
    "    'aggr':              'max',\n",
    "    'batch_size':        32,\n",
    "    'node_feature_dim':  4,\n",
    "    'edge_feature_dim':  1,\n",
    "    'graph_feature_dim': 2,\n",
    "    'hidden_dim':        64,\n",
    "    'output_dim':        1,\n",
    "    'dropout':           0.35,\n",
    "    'epochs':            25,\n",
    "    'opt':               'adam',\n",
    "    'opt_scheduler':     'none',\n",
    "    'opt_restart':       0,\n",
    "    'weight_decay':      5e-3,\n",
    "    'lr':                0.0001,\n",
    "    'device':            device\n",
    "}\n",
    "\n",
    "train_num = 100; test_num = 30\n",
    "\n",
    "er_config = {\n",
    "    'graph_type': 'ER',\n",
    "    'p': 1,\n",
    "    'weighted': True\n",
    "}\n",
    "ba_config = {\n",
    "    'graph_type': 'BA',\n",
    "    'ba_param': 2,\n",
    "    'weighted': True\n",
    "}\n",
    "geom_config = {\n",
    "    'graph_type': 'GEOM',\n",
    "    'threshold': 0.2,\n",
    "    'scaling': 1 / np.sqrt(2)\n",
    "}\n",
    "\n",
    "rng = np.random.default_rng()\n",
    "\n",
    "\n",
    "train_instances = [\n",
    "        *ig.sample_instances(9, 7, train_num, rng, **er_config),\n",
    "        *ig.sample_instances(9, 7, train_num, rng, **ba_config),\n",
    "        *ig.sample_instances(9, 7, train_num, rng, **geom_config),\n",
    "    ]\n",
    "\n",
    "test_instances = [\n",
    "        *ig.sample_instances(9, 7, test_num, rng, **er_config),\n",
    "        *ig.sample_instances(9, 7, test_num, rng, **ba_config),\n",
    "        *ig.sample_instances(9, 7, test_num, rng, **geom_config),\n",
    "    ]\n",
    "\n",
    "\n",
    "train_data = Dataset(tc._instances_to_train_samples(train_instances, args['head']))\n",
    "test_data = Dataset(tc._instances_to_train_samples(test_instances, args['head']))\n",
    "\n",
    "train_loader = DataLoader(\n",
    "    train_data,\n",
    "    batch_size=args['batch_size'],\n",
    "    shuffle=True,\n",
    "    num_workers=4\n",
    ")\n",
    "\n",
    "test_loader = DataLoader(\n",
    "    test_data,\n",
    "    batch_size=args['batch_size'],\n",
    "    shuffle=True,\n",
    "    num_workers=4\n",
    ")"
   ]
  },
  {
   "cell_type": "code",
   "execution_count": 4,
   "metadata": {},
   "outputs": [
    {
     "name": "stderr",
     "output_type": "stream",
     "text": [
      "Training:   0%|          | 0/25 [00:00<?, ?Epochs/s]/home/alexhay/.local/lib/python3.10/site-packages/torch_geometric/utils/scatter.py:93: UserWarning: The usage of `scatter(reduce='max')` can be accelerated via the 'torch-scatter' package, but it was not found\n",
      "  warnings.warn(f\"The usage of `scatter(reduce='{reduce}')` \"\n"
     ]
    },
    {
     "name": "stdout",
     "output_type": "stream",
     "text": [
      "0.09270249410456553\n"
     ]
    },
    {
     "name": "stderr",
     "output_type": "stream",
     "text": [
      "Training:   4%|▍         | 1/25 [00:03<01:28,  3.67s/Epochs]"
     ]
    },
    {
     "name": "stdout",
     "output_type": "stream",
     "text": [
      "TEST ACCURACY: 0.0\n",
      "TEST LOSS: 0.04022132605314255\n"
     ]
    },
    {
     "name": "stderr",
     "output_type": "stream",
     "text": [
      "Training:   8%|▊         | 2/25 [00:06<01:07,  2.95s/Epochs]"
     ]
    },
    {
     "name": "stdout",
     "output_type": "stream",
     "text": [
      "0.05023890139415628\n",
      "0.03616150247782107\n"
     ]
    },
    {
     "name": "stderr",
     "output_type": "stream",
     "text": [
      "Training:  12%|█▏        | 3/25 [00:09<01:10,  3.21s/Epochs]"
     ]
    },
    {
     "name": "stdout",
     "output_type": "stream",
     "text": [
      "TEST ACCURACY: 0.0\n",
      "TEST LOSS: 0.01895955763757229\n"
     ]
    },
    {
     "name": "stderr",
     "output_type": "stream",
     "text": [
      "Training:  16%|█▌        | 4/25 [00:12<01:01,  2.92s/Epochs]"
     ]
    },
    {
     "name": "stdout",
     "output_type": "stream",
     "text": [
      "0.03035742822434088\n",
      "0.026108446229165305\n"
     ]
    },
    {
     "name": "stderr",
     "output_type": "stream",
     "text": [
      "Training:  20%|██        | 5/25 [00:15<01:01,  3.09s/Epochs]"
     ]
    },
    {
     "name": "stdout",
     "output_type": "stream",
     "text": [
      "TEST ACCURACY: 0.0\n",
      "TEST LOSS: 0.014448091387748718\n"
     ]
    },
    {
     "name": "stderr",
     "output_type": "stream",
     "text": [
      "Training:  24%|██▍       | 6/25 [00:17<00:54,  2.85s/Epochs]"
     ]
    },
    {
     "name": "stdout",
     "output_type": "stream",
     "text": [
      "0.023623614405738624\n",
      "0.021102841385031698\n"
     ]
    },
    {
     "name": "stderr",
     "output_type": "stream",
     "text": [
      "Training:  28%|██▊       | 7/25 [00:21<00:54,  3.03s/Epochs]"
     ]
    },
    {
     "name": "stdout",
     "output_type": "stream",
     "text": [
      "TEST ACCURACY: 0.0\n",
      "TEST LOSS: 0.01310906745493412\n"
     ]
    },
    {
     "name": "stderr",
     "output_type": "stream",
     "text": [
      "Training:  32%|███▏      | 8/25 [00:23<00:48,  2.88s/Epochs]"
     ]
    },
    {
     "name": "stdout",
     "output_type": "stream",
     "text": [
      "0.020244684367338953\n",
      "0.019413553730324815\n"
     ]
    },
    {
     "name": "stderr",
     "output_type": "stream",
     "text": [
      "Training:  36%|███▌      | 9/25 [00:27<00:47,  2.98s/Epochs]"
     ]
    },
    {
     "name": "stdout",
     "output_type": "stream",
     "text": [
      "TEST ACCURACY: 0.0\n",
      "TEST LOSS: 0.012362548150122166\n"
     ]
    },
    {
     "name": "stderr",
     "output_type": "stream",
     "text": [
      "Training:  40%|████      | 10/25 [00:29<00:42,  2.81s/Epochs]"
     ]
    },
    {
     "name": "stdout",
     "output_type": "stream",
     "text": [
      "0.018031863427916267\n",
      "0.017561818224473162\n"
     ]
    },
    {
     "name": "stderr",
     "output_type": "stream",
     "text": [
      "Training:  44%|████▍     | 11/25 [00:32<00:42,  3.02s/Epochs]"
     ]
    },
    {
     "name": "stdout",
     "output_type": "stream",
     "text": [
      "TEST ACCURACY: 0.0\n",
      "TEST LOSS: 0.011288085952401161\n"
     ]
    },
    {
     "name": "stderr",
     "output_type": "stream",
     "text": [
      "Training:  48%|████▊     | 12/25 [00:35<00:36,  2.79s/Epochs]"
     ]
    },
    {
     "name": "stdout",
     "output_type": "stream",
     "text": [
      "0.016861126830791683\n",
      "0.015494288844371172\n"
     ]
    },
    {
     "name": "stderr",
     "output_type": "stream",
     "text": [
      "Training:  52%|█████▏    | 13/25 [00:38<00:35,  2.96s/Epochs]"
     ]
    },
    {
     "name": "stdout",
     "output_type": "stream",
     "text": [
      "TEST ACCURACY: 0.0\n",
      "TEST LOSS: 0.010873080231249332\n"
     ]
    },
    {
     "name": "stderr",
     "output_type": "stream",
     "text": [
      "Training:  56%|█████▌    | 14/25 [00:41<00:31,  2.84s/Epochs]"
     ]
    },
    {
     "name": "stdout",
     "output_type": "stream",
     "text": [
      "0.015649402543153466\n",
      "0.015253651732227005\n"
     ]
    },
    {
     "name": "stderr",
     "output_type": "stream",
     "text": [
      "Training:  60%|██████    | 15/25 [00:44<00:29,  2.96s/Epochs]"
     ]
    },
    {
     "name": "stdout",
     "output_type": "stream",
     "text": [
      "TEST ACCURACY: 0.0\n",
      "TEST LOSS: 0.010572009719908237\n"
     ]
    },
    {
     "name": "stderr",
     "output_type": "stream",
     "text": [
      "Training:  64%|██████▍   | 16/25 [00:46<00:24,  2.75s/Epochs]"
     ]
    },
    {
     "name": "stdout",
     "output_type": "stream",
     "text": [
      "0.014764449444552642\n",
      "0.014781551558259661\n"
     ]
    },
    {
     "name": "stderr",
     "output_type": "stream",
     "text": [
      "Training:  68%|██████▊   | 17/25 [00:50<00:23,  3.00s/Epochs]"
     ]
    },
    {
     "name": "stdout",
     "output_type": "stream",
     "text": [
      "TEST ACCURACY: 0.0\n",
      "TEST LOSS: 0.009678961709141731\n"
     ]
    },
    {
     "name": "stderr",
     "output_type": "stream",
     "text": [
      "Training:  72%|███████▏  | 18/25 [00:52<00:19,  2.85s/Epochs]"
     ]
    },
    {
     "name": "stdout",
     "output_type": "stream",
     "text": [
      "0.013736731978052617\n",
      "0.013455699530447894\n"
     ]
    },
    {
     "name": "stderr",
     "output_type": "stream",
     "text": [
      "Training:  76%|███████▌  | 19/25 [00:56<00:18,  3.05s/Epochs]"
     ]
    },
    {
     "name": "stdout",
     "output_type": "stream",
     "text": [
      "TEST ACCURACY: 0.0\n",
      "TEST LOSS: 0.009148688055574894\n"
     ]
    },
    {
     "name": "stderr",
     "output_type": "stream",
     "text": [
      "Training:  80%|████████  | 20/25 [00:58<00:14,  2.88s/Epochs]"
     ]
    },
    {
     "name": "stdout",
     "output_type": "stream",
     "text": [
      "0.013203536010181057\n",
      "0.013185927541071042\n"
     ]
    },
    {
     "name": "stderr",
     "output_type": "stream",
     "text": [
      "Training:  84%|████████▍ | 21/25 [01:02<00:12,  3.04s/Epochs]"
     ]
    },
    {
     "name": "stdout",
     "output_type": "stream",
     "text": [
      "TEST ACCURACY: 0.0\n",
      "TEST LOSS: 0.011066797189414501\n"
     ]
    },
    {
     "name": "stderr",
     "output_type": "stream",
     "text": [
      "Training:  88%|████████▊ | 22/25 [01:04<00:08,  2.87s/Epochs]"
     ]
    },
    {
     "name": "stdout",
     "output_type": "stream",
     "text": [
      "0.012840224013533089\n",
      "0.012498346974095088\n"
     ]
    },
    {
     "name": "stderr",
     "output_type": "stream",
     "text": [
      "Training:  92%|█████████▏| 23/25 [01:08<00:06,  3.03s/Epochs]"
     ]
    },
    {
     "name": "stdout",
     "output_type": "stream",
     "text": [
      "TEST ACCURACY: 0.0\n",
      "TEST LOSS: 0.009984132833778858\n"
     ]
    },
    {
     "name": "stderr",
     "output_type": "stream",
     "text": [
      "Training:  96%|█████████▌| 24/25 [01:10<00:02,  2.91s/Epochs]"
     ]
    },
    {
     "name": "stdout",
     "output_type": "stream",
     "text": [
      "0.01266662621518768\n",
      "0.012334264575970234\n"
     ]
    },
    {
     "name": "stderr",
     "output_type": "stream",
     "text": [
      "Training: 100%|██████████| 25/25 [01:14<00:00,  2.97s/Epochs]"
     ]
    },
    {
     "name": "stdout",
     "output_type": "stream",
     "text": [
      "TEST ACCURACY: 0.0\n",
      "TEST LOSS: 0.013666024431586266\n"
     ]
    },
    {
     "name": "stderr",
     "output_type": "stream",
     "text": [
      "\n"
     ]
    }
   ],
   "source": [
    "_, _, GNN, _ = train(train_loader, test_loader, args)"
   ]
  },
  {
   "cell_type": "code",
   "execution_count": 5,
   "metadata": {},
   "outputs": [],
   "source": [
    "# save(GNN, args, 'GNN3')"
   ]
  },
  {
   "cell_type": "code",
   "execution_count": 4,
   "metadata": {},
   "outputs": [],
   "source": [
    "GNN, args = load('GNN1', device)"
   ]
  },
  {
   "cell_type": "code",
   "execution_count": 29,
   "metadata": {},
   "outputs": [
    {
     "name": "stdout",
     "output_type": "stream",
     "text": [
      "-- Competitive ratios --\n",
      "GNN: 0.9636\n",
      "Greedy: 0.9885\n",
      "{0.0: 0.9898615618042509, 0.01: 0.9907709910901383, 0.02: 0.9887539926092364, 0.03: 0.9891676274354246, 0.04: 0.9898586878263498, 0.05: 0.990938270845992, 0.06: 0.9904176017204994, 0.07: 0.9899765849853635, 0.08: 0.9880349758723668, 0.09: 0.9879952614274231, 0.1: 0.989681245203079, 0.11: 0.9886036346015852, 0.12: 0.9871217923277287, 0.13: 0.9863221537454058, 0.14: 0.9888654934960949, 0.15: 0.9879433296107477, 0.16: 0.9875422404926317, 0.17: 0.9880758650369629, 0.18: 0.9880700809976964, 0.19: 0.9879087193599798, 0.2: 0.9874323341644633, 0.21: 0.9893074144673001, 0.22: 0.9890345277309092, 0.23: 0.9898226249117947, 0.24: 0.987906312586011, 0.25: 0.9886948340759419, 0.26: 0.9902531917477507, 0.27: 0.9893946399312814, 0.28: 0.9889402699855628, 0.29: 0.9884096584256516, 0.3: 0.9877675846833188, 0.31: 0.9889775818624698, 0.32: 0.9886088165977333, 0.33: 0.9910454797711672, 0.34: 0.989234042940331, 0.35000000000000003: 0.9882749581778839, 0.36: 0.9872144602138923, 0.37: 0.9889388230423493, 0.38: 0.9889819741162637, 0.39: 0.9891457846447633, 0.4: 0.9891667212251537, 0.41000000000000003: 0.9882854270337076, 0.42: 0.9897432250028559, 0.43: 0.9897142333601228, 0.44: 0.9899572066234283, 0.45: 0.9908503444464085, 0.46: 0.9885904237923429, 0.47000000000000003: 0.9885412401484543, 0.48: 0.9888770437872945, 0.49: 0.99007356778611, 0.5: 0.9871867130075154, 0.51: 0.9895988111860132, 0.52: 0.9892207013051527, 0.53: 0.987521938517733, 0.54: 0.989476506646152, 0.55: 0.9891529155846459, 0.56: 0.9896298255013847, 0.5700000000000001: 0.9886741307738056, 0.58: 0.989165556164824, 0.59: 0.988552864433913, 0.6: 0.9879590683715371, 0.61: 0.9878737228140126, 0.62: 0.9893678405730663, 0.63: 0.9894659548855408, 0.64: 0.9883090620117668, 0.65: 0.9892976938861363, 0.66: 0.9862188505461758, 0.67: 0.988297671663706, 0.68: 0.9882740525288556, 0.6900000000000001: 0.9895985058317777, 0.7000000000000001: 0.9888477963963803, 0.71: 0.9900839022718152, 0.72: 0.9881103900189532, 0.73: 0.9890919167299825, 0.74: 0.9896183986903921, 0.75: 0.9884862926051614, 0.76: 0.9885039164559982, 0.77: 0.961586477600106, 0.78: 0.9501860762142424, 0.79: 0.9570352943457052, 0.8: 0.9414786173603475, 0.81: 0.9367242325248023, 0.8200000000000001: 0.9381025494841608, 0.8300000000000001: 0.9056497246342123, 0.84: 0.9095280483532427, 0.85: 0.8970977779594881, 0.86: 0.8866708935777158, 0.87: 0.839993131503992, 0.88: 0.8262302042801275, 0.89: 0.7857089624468874, 0.9: 0.7652359870578549, 0.91: 0.7329893372188412, 0.92: 0.6661236358058427, 0.93: 0.6163478487980398, 0.9400000000000001: 0.5957182686298872, 0.9500000000000001: 0.47889913871463685, 0.96: 0.44175644296409666, 0.97: 0.4086908763982966, 0.98: 0.26494911154122597, 0.99: 0.18622731530808895, 1.0: 0.0}\n"
     ]
    }
   ],
   "source": [
    "from gnn_library.OBM_greedy import OBM_Greedy\n",
    "from gnn_library.OBM_threshold_greedy import OBM_Threshold_Greedy\n",
    "\n",
    "thresholds = np.linspace(0, 1, 101)\n",
    "thresholded_greedy_models = [(threshold, OBM_Threshold_Greedy(threshold)) for threshold in thresholds]\n",
    "\n",
    "seed = np.random.randint(0, 500000)\n",
    "(m, n) = (8, 16)\n",
    "config = er_config\n",
    "\n",
    "rng = np.random.default_rng(seed)\n",
    "eval_instances = ig.sample_instances(m, n, 10, rng, **config)\n",
    "\n",
    "ratios2 = evaluate_model(\n",
    "    meta_model=None,\n",
    "    meta_model_type=None,\n",
    "    base_models=[GNN],\n",
    "    instances=eval_instances,\n",
    "    batch_size=50,\n",
    "    rng=rng,\n",
    "    num_realizations=5\n",
    ")\n",
    "\n",
    "greedy_ratios = {}\n",
    "for threshold, model in thresholded_greedy_models: \n",
    "    ratio = evaluate_model(\n",
    "        meta_model=None,\n",
    "        meta_model_type=None,\n",
    "        base_models=[model],\n",
    "        instances=eval_instances,\n",
    "        batch_size=50,\n",
    "        rng=rng,\n",
    "        num_realizations=5\n",
    "    )\n",
    "    greedy_ratios[threshold] = np.mean(ratio[0])\n",
    "pp_output(ratios2, _, show_log=False)\n",
    "print(greedy_ratios)"
   ]
  },
  {
   "cell_type": "code",
   "execution_count": 30,
   "metadata": {},
   "outputs": [
    {
     "name": "stdout",
     "output_type": "stream",
     "text": [
      "0.33 0.9910454797711672\n"
     ]
    }
   ],
   "source": [
    "max_threshold = max(greedy_ratios, key = greedy_ratios.get)\n",
    "print(max_threshold, greedy_ratios[max_threshold])"
   ]
  },
  {
   "cell_type": "markdown",
   "metadata": {},
   "source": [
    "# Pivot to feature-generated graphs"
   ]
  },
  {
   "cell_type": "code",
   "execution_count": 4,
   "metadata": {},
   "outputs": [],
   "source": [
    "def get_location_graph(city):\n",
    "\tlocation_graph = ox.graph_from_place(city, network_type=\"drive\")\n",
    "\tlocation_graph = ox.speed.add_edge_speeds(location_graph)\n",
    "\tlocation_graph = ox.speed.add_edge_travel_times(location_graph)\n",
    "\treturn {'location_graph': location_graph, 'city': city}"
   ]
  },
  {
   "cell_type": "code",
   "execution_count": 8,
   "metadata": {},
   "outputs": [],
   "source": [
    "piedmont = get_location_graph(\"Piedmont, California, USA\")\n",
    "# san_francisco = get_location_graph(\"San Francisco, California, USA\")\n",
    "founex = get_location_graph(\"Founex, Switzerland\")\n",
    "carmel = get_location_graph(\"Carmel, Indiana, USA\")\n",
    "geneva = get_location_graph(\"Geneva, Switzerland\")"
   ]
  },
  {
   "cell_type": "code",
   "execution_count": 6,
   "metadata": {},
   "outputs": [],
   "source": [
    "args = {\n",
    "    'processor':         'GENConv',\n",
    "    'head':              'regression',\n",
    "    'num_layers':        2,\n",
    "    'num_mlp_layers':    2,\n",
    "    'aggr':              'max',\n",
    "    'batch_size':        32,\n",
    "    'node_feature_dim':  4,\n",
    "    'edge_feature_dim':  1,\n",
    "    'graph_feature_dim': 2,\n",
    "    'hidden_dim':        64,\n",
    "    'output_dim':        1,\n",
    "    'dropout':           0.35,\n",
    "    'epochs':            25,\n",
    "    'opt':               'adam',\n",
    "    'opt_scheduler':     'none',\n",
    "    'opt_restart':       0,\n",
    "    'weight_decay':      5e-3,\n",
    "    'lr':                0.0001,\n",
    "    'device':            device\n",
    "}\n",
    "\n",
    "train_num = 100; test_num = 30\n",
    "\n",
    "er_config = {\n",
    "    'graph_type': 'ER',\n",
    "    'p': 1,\n",
    "    'weighted': True\n",
    "}\n",
    "ba_config = {\n",
    "    'graph_type': 'BA',\n",
    "    'ba_param': 2,\n",
    "    'weighted': True\n",
    "}\n",
    "feat_config = {\n",
    "    'graph_type': 'FEAT',\n",
    "    'q': 0.85,\n",
    "    'weighted': True\n",
    "}\n",
    "osmnx_config = {\n",
    "    'graph_type': 'OSMNX',\n",
    "    'location_graph': piedmont['location_graph']\n",
    "}\n",
    "# osmnx_config_2 = {\n",
    "#     'graph_type': 'OSMNX',\n",
    "#     'location_graph': san_francisco['location_graph']\n",
    "# }\n",
    "\n",
    "# ox.plot_graph(piedmont['location_graph'])\n",
    "# ox.plot_graph(san_francisco['location_graph'])\n",
    "\n",
    "# part_config = {\n",
    "# \t'graph_type': 'PART',\n",
    "#     'p': 0.5,\n",
    "#     'size': 4,\n",
    "#     'eps': 0.1\n",
    "# },\n",
    "# part_config = {\n",
    "# \t'graph_type': 'PART',\n",
    "#     'p': 0.5,\n",
    "#     'size': 3,\n",
    "#     'eps': 0.3\n",
    "# }\n",
    "\n",
    "rng = np.random.default_rng()\n",
    "\n",
    "\n",
    "train_instances = [\n",
    "        *ig.sample_instances(8, 8, train_num, rng, **er_config),\n",
    "        *ig.sample_instances(8, 8, train_num, rng, **ba_config),\n",
    "        *ig.sample_instances(8, 8, train_num, rng, **feat_config),\n",
    "        *ig.sample_instances(8, 8, train_num, rng, **osmnx_config),\n",
    "        # *ig.sample_instances(8, 8, train_num, rng, **osmnx_config_2),\n",
    "        # *ig.sample_instances(8, 8, train_num, rng, **feat_config),\n",
    "        # *ig.sample_instances(8, 8, train_num, rng, **part_config),\n",
    "    ]\n",
    "\n",
    "test_instances = [\n",
    "        *ig.sample_instances(8, 8, test_num, rng, **er_config),\n",
    "        *ig.sample_instances(8, 8, test_num, rng, **ba_config),\n",
    "        *ig.sample_instances(8, 8, train_num, rng, **feat_config),\n",
    "        *ig.sample_instances(8, 8, train_num, rng, **osmnx_config),\n",
    "        # *ig.sample_instances(8, 8, train_num, rng, **osmnx_config_2),\n",
    "        # *ig.sample_instances(8, 8, train_num, rng, **feat_config),\n",
    "        # *ig.sample_instances(8, 8, train_num, rng, **part_config),\n",
    "    ]\n",
    "\n",
    "\n",
    "train_data = Dataset(tc._instances_to_train_samples(train_instances, args['head']))\n",
    "test_data = Dataset(tc._instances_to_train_samples(test_instances, args['head']))\n",
    "\n",
    "train_loader = DataLoader(\n",
    "    train_data,\n",
    "    batch_size=args['batch_size'],\n",
    "    shuffle=True,\n",
    "    num_workers=4\n",
    ")\n",
    "\n",
    "test_loader = DataLoader(\n",
    "    test_data,\n",
    "    batch_size=args['batch_size'],\n",
    "    shuffle=True,\n",
    "    num_workers=4\n",
    ")"
   ]
  },
  {
   "cell_type": "code",
   "execution_count": 7,
   "metadata": {},
   "outputs": [
    {
     "name": "stderr",
     "output_type": "stream",
     "text": [
      "Training:   0%|          | 0/25 [00:00<?, ?Epochs/s]/home/alexhay/.local/lib/python3.10/site-packages/torch_geometric/utils/scatter.py:93: UserWarning: The usage of `scatter(reduce='max')` can be accelerated via the 'torch-scatter' package, but it was not found\n",
      "  warnings.warn(f\"The usage of `scatter(reduce='{reduce}')` \"\n"
     ]
    },
    {
     "name": "stdout",
     "output_type": "stream",
     "text": [
      "67.21850687526839\n"
     ]
    },
    {
     "name": "stderr",
     "output_type": "stream",
     "text": [
      "Training:   4%|▍         | 1/25 [00:09<03:37,  9.08s/Epochs]"
     ]
    },
    {
     "name": "stdout",
     "output_type": "stream",
     "text": [
      "TEST ACCURACY: 0.0\n",
      "TEST LOSS: 66.75878143310547\n"
     ]
    },
    {
     "name": "stderr",
     "output_type": "stream",
     "text": [
      "Training:   8%|▊         | 2/25 [00:14<02:37,  6.83s/Epochs]"
     ]
    },
    {
     "name": "stdout",
     "output_type": "stream",
     "text": [
      "63.310256598754165\n",
      "62.37302981923965\n"
     ]
    },
    {
     "name": "stderr",
     "output_type": "stream",
     "text": [
      "Training:  12%|█▏        | 3/25 [00:22<02:42,  7.39s/Epochs]"
     ]
    },
    {
     "name": "stdout",
     "output_type": "stream",
     "text": [
      "TEST ACCURACY: 0.0\n",
      "TEST LOSS: 65.02804565429688\n"
     ]
    },
    {
     "name": "stderr",
     "output_type": "stream",
     "text": [
      "Training:  16%|█▌        | 4/25 [00:27<02:17,  6.55s/Epochs]"
     ]
    },
    {
     "name": "stdout",
     "output_type": "stream",
     "text": [
      "60.61611939522335\n",
      "62.84931703344114\n"
     ]
    },
    {
     "name": "stderr",
     "output_type": "stream",
     "text": [
      "Training:  20%|██        | 5/25 [00:36<02:24,  7.24s/Epochs]"
     ]
    },
    {
     "name": "stdout",
     "output_type": "stream",
     "text": [
      "TEST ACCURACY: 0.0\n",
      "TEST LOSS: 59.506526947021484\n"
     ]
    },
    {
     "name": "stderr",
     "output_type": "stream",
     "text": [
      "Training:  24%|██▍       | 6/25 [00:41<02:04,  6.54s/Epochs]"
     ]
    },
    {
     "name": "stdout",
     "output_type": "stream",
     "text": [
      "59.844293753686884\n",
      "56.678374915820754\n"
     ]
    },
    {
     "name": "stderr",
     "output_type": "stream",
     "text": [
      "Training:  28%|██▊       | 7/25 [00:49<02:05,  7.00s/Epochs]"
     ]
    },
    {
     "name": "stdout",
     "output_type": "stream",
     "text": [
      "TEST ACCURACY: 0.0\n",
      "TEST LOSS: 59.25712585449219\n"
     ]
    },
    {
     "name": "stderr",
     "output_type": "stream",
     "text": [
      "Training:  32%|███▏      | 8/25 [00:54<01:48,  6.39s/Epochs]"
     ]
    },
    {
     "name": "stdout",
     "output_type": "stream",
     "text": [
      "58.30201186476446\n",
      "55.673129292023035\n"
     ]
    },
    {
     "name": "stderr",
     "output_type": "stream",
     "text": [
      "Training:  36%|███▌      | 9/25 [01:02<01:49,  6.82s/Epochs]"
     ]
    },
    {
     "name": "stdout",
     "output_type": "stream",
     "text": [
      "TEST ACCURACY: 0.0\n",
      "TEST LOSS: 51.850059509277344\n"
     ]
    },
    {
     "name": "stderr",
     "output_type": "stream",
     "text": [
      "Training:  40%|████      | 10/25 [01:07<01:34,  6.27s/Epochs]"
     ]
    },
    {
     "name": "stdout",
     "output_type": "stream",
     "text": [
      "56.540013791009414\n",
      "54.819624702736235\n"
     ]
    },
    {
     "name": "stderr",
     "output_type": "stream",
     "text": [
      "Training:  44%|████▍     | 11/25 [01:15<01:36,  6.89s/Epochs]"
     ]
    },
    {
     "name": "stdout",
     "output_type": "stream",
     "text": [
      "TEST ACCURACY: 0.0\n",
      "TEST LOSS: 59.464393615722656\n"
     ]
    },
    {
     "name": "stderr",
     "output_type": "stream",
     "text": [
      "Training:  48%|████▊     | 12/25 [01:20<01:21,  6.30s/Epochs]"
     ]
    },
    {
     "name": "stdout",
     "output_type": "stream",
     "text": [
      "56.5904537605879\n",
      "55.58917078776769\n"
     ]
    },
    {
     "name": "stderr",
     "output_type": "stream",
     "text": [
      "Training:  52%|█████▏    | 13/25 [01:27<01:20,  6.69s/Epochs]"
     ]
    },
    {
     "name": "stdout",
     "output_type": "stream",
     "text": [
      "TEST ACCURACY: 0.0\n",
      "TEST LOSS: 57.06647872924805\n"
     ]
    },
    {
     "name": "stderr",
     "output_type": "stream",
     "text": [
      "Training:  56%|█████▌    | 14/25 [01:32<01:07,  6.16s/Epochs]"
     ]
    },
    {
     "name": "stdout",
     "output_type": "stream",
     "text": [
      "56.11624862683729\n",
      "53.994485816655015\n"
     ]
    },
    {
     "name": "stderr",
     "output_type": "stream",
     "text": [
      "Training:  60%|██████    | 15/25 [01:40<01:06,  6.60s/Epochs]"
     ]
    },
    {
     "name": "stdout",
     "output_type": "stream",
     "text": [
      "TEST ACCURACY: 0.0\n",
      "TEST LOSS: 57.74656295776367\n"
     ]
    },
    {
     "name": "stderr",
     "output_type": "stream",
     "text": [
      "Training:  64%|██████▍   | 16/25 [01:45<00:54,  6.06s/Epochs]"
     ]
    },
    {
     "name": "stdout",
     "output_type": "stream",
     "text": [
      "50.488001926376775\n",
      "52.03285601076015\n"
     ]
    },
    {
     "name": "stderr",
     "output_type": "stream",
     "text": [
      "Training:  68%|██████▊   | 17/25 [01:53<00:52,  6.62s/Epochs]"
     ]
    },
    {
     "name": "stdout",
     "output_type": "stream",
     "text": [
      "TEST ACCURACY: 0.0\n",
      "TEST LOSS: 53.22785186767578\n"
     ]
    },
    {
     "name": "stderr",
     "output_type": "stream",
     "text": [
      "Training:  72%|███████▏  | 18/25 [01:58<00:42,  6.10s/Epochs]"
     ]
    },
    {
     "name": "stdout",
     "output_type": "stream",
     "text": [
      "50.739156125789634\n",
      "49.78068624964685\n"
     ]
    },
    {
     "name": "stderr",
     "output_type": "stream",
     "text": [
      "Training:  76%|███████▌  | 19/25 [02:05<00:39,  6.62s/Epochs]"
     ]
    },
    {
     "name": "stdout",
     "output_type": "stream",
     "text": [
      "TEST ACCURACY: 0.0\n",
      "TEST LOSS: 47.85764694213867\n"
     ]
    },
    {
     "name": "stderr",
     "output_type": "stream",
     "text": [
      "Training:  80%|████████  | 20/25 [02:10<00:30,  6.11s/Epochs]"
     ]
    },
    {
     "name": "stdout",
     "output_type": "stream",
     "text": [
      "49.623031099366386\n",
      "47.938681736802685\n"
     ]
    },
    {
     "name": "stderr",
     "output_type": "stream",
     "text": [
      "Training:  84%|████████▍ | 21/25 [02:18<00:26,  6.65s/Epochs]"
     ]
    },
    {
     "name": "stdout",
     "output_type": "stream",
     "text": [
      "TEST ACCURACY: 0.0\n",
      "TEST LOSS: 45.53363037109375\n"
     ]
    },
    {
     "name": "stderr",
     "output_type": "stream",
     "text": [
      "Training:  88%|████████▊ | 22/25 [02:23<00:18,  6.10s/Epochs]"
     ]
    },
    {
     "name": "stdout",
     "output_type": "stream",
     "text": [
      "47.43521692161406\n",
      "49.48835485868246\n"
     ]
    },
    {
     "name": "stderr",
     "output_type": "stream",
     "text": [
      "Training:  92%|█████████▏| 23/25 [02:31<00:13,  6.63s/Epochs]"
     ]
    },
    {
     "name": "stdout",
     "output_type": "stream",
     "text": [
      "TEST ACCURACY: 0.0\n",
      "TEST LOSS: 47.473880767822266\n"
     ]
    },
    {
     "name": "stderr",
     "output_type": "stream",
     "text": [
      "Training:  96%|█████████▌| 24/25 [02:36<00:06,  6.20s/Epochs]"
     ]
    },
    {
     "name": "stdout",
     "output_type": "stream",
     "text": [
      "50.70284325233738\n",
      "47.717176400116784\n"
     ]
    },
    {
     "name": "stderr",
     "output_type": "stream",
     "text": [
      "Training: 100%|██████████| 25/25 [02:44<00:00,  6.59s/Epochs]"
     ]
    },
    {
     "name": "stdout",
     "output_type": "stream",
     "text": [
      "TEST ACCURACY: 0.0\n",
      "TEST LOSS: 51.11994552612305\n"
     ]
    },
    {
     "name": "stderr",
     "output_type": "stream",
     "text": [
      "\n"
     ]
    }
   ],
   "source": [
    "_, _, GNN, _ = train(train_loader, test_loader, args)"
   ]
  },
  {
   "cell_type": "markdown",
   "metadata": {},
   "source": [
    "## Set up the threshold greedy value\n",
    "The instance set used to determine the threshold should be the same as the training set for the base models. Here we reduce the number of instances to make the evaluation faster.\n",
    "\n",
    "For the moment, the instance set is the evaluation set since they are too different and would disadvantage threshold greedy."
   ]
  },
  {
   "cell_type": "code",
   "execution_count": 9,
   "metadata": {},
   "outputs": [
    {
     "name": "stderr",
     "output_type": "stream",
     "text": [
      "  0%|          | 0/2 [00:00<?, ?it/s]"
     ]
    },
    {
     "name": "stdout",
     "output_type": "stream",
     "text": [
      "Set parameter TokenServer to value \"soal-nas.stanford.edu\"\n"
     ]
    },
    {
     "name": "stderr",
     "output_type": "stream",
     "text": [
      "100%|██████████| 2/2 [00:12<00:00,  6.32s/it]"
     ]
    },
    {
     "name": "stdout",
     "output_type": "stream",
     "text": [
      "Best threshold value: 0.0 achieves CR: 0.8930191215011637\n"
     ]
    },
    {
     "name": "stderr",
     "output_type": "stream",
     "text": [
      "\n"
     ]
    }
   ],
   "source": [
    "from gnn_library.OBM_threshold_greedy import OBM_Threshold_Greedy\n",
    "from tqdm import tqdm\n",
    "seed = np.random.randint(0, 500000)\n",
    "rng = np.random.default_rng(seed)\n",
    "\n",
    "\n",
    "thresholds = np.linspace(0, 1, 101)\n",
    "thresholds = np.linspace(0, 1, 2) # TODO remove\n",
    "#TODO max value in threshold should be max value observable in graphs (is not the case for osmnx graphs for the moment)\n",
    "thresholded_greedy_models = {threshold: OBM_Threshold_Greedy(threshold) for threshold in thresholds}\n",
    "\n",
    "osmnx_config1 = {\n",
    "    'graph_type': 'OSMNX',\n",
    "    'location_graph': piedmont['location_graph']\n",
    "}\n",
    "osmnx_config2 = {\n",
    "    'graph_type': 'OSMNX',\n",
    "    'location_graph': geneva['location_graph']\n",
    "}\n",
    "osmnx_config3 = {\n",
    "    'graph_type': 'OSMNX',\n",
    "    'location_graph': carmel['location_graph']\n",
    "}\n",
    "\n",
    "train_num = 10\n",
    "train_instances = [\n",
    "        *ig.sample_instances(8, 8, train_num, rng, **osmnx_config1),\n",
    "        *ig.sample_instances(8, 8, train_num, rng, **osmnx_config2),\n",
    "        *ig.sample_instances(8, 8, train_num, rng, **osmnx_config3),\n",
    "]\n",
    "\n",
    "# train_instances = [\n",
    "#         *ig.sample_instances(8, 8, train_num, rng, **er_config),\n",
    "#         *ig.sample_instances(8, 8, train_num, rng, **ba_config),\n",
    "#         *ig.sample_instances(8, 8, train_num, rng, **feat_config),\n",
    "#         *ig.sample_instances(8, 8, train_num, rng, **osmnx_config),\n",
    "# ]\n",
    "\n",
    "\n",
    "greedy_ratios = {}\n",
    "for threshold, model in tqdm(thresholded_greedy_models.items()): \n",
    "    rng = np.random.default_rng(seed)\n",
    "    ratio = ev.evaluate_model(\n",
    "        meta_model=None,\n",
    "        meta_model_type=None,\n",
    "        base_models=[model],\n",
    "        instances=train_instances,\n",
    "        batch_size=50,\n",
    "        rng=rng,\n",
    "        num_realizations=5\n",
    "    )\n",
    "    greedy_ratios[threshold] = np.mean(ratio[0])\n",
    "    \n",
    "\n",
    "max_threshold = max(greedy_ratios, key = greedy_ratios.get)\n",
    "print(f\"Best threshold value: {max_threshold} achieves CR: {greedy_ratios[max_threshold]}\")\n",
    "THRESHOLD_MODEL = thresholded_greedy_models[max_threshold]"
   ]
  },
  {
   "cell_type": "code",
   "execution_count": 10,
   "metadata": {},
   "outputs": [
    {
     "name": "stdout",
     "output_type": "stream",
     "text": [
      "{0.0: 0.8930191215011637, 1.0: 0.8134945632327552}\n"
     ]
    }
   ],
   "source": [
    "print(greedy_ratios)"
   ]
  },
  {
   "cell_type": "markdown",
   "metadata": {},
   "source": [
    "## Evaluation"
   ]
  },
  {
   "cell_type": "code",
   "execution_count": 23,
   "metadata": {},
   "outputs": [
    {
     "name": "stdout",
     "output_type": "stream",
     "text": [
      "-- Competitive ratios --\n",
      "GNN: 0.8371\n",
      "Greedy: 0.8441\n",
      "LP-rounding: 0.9389\n",
      "Thresholded greedy: 0.8402\n"
     ]
    }
   ],
   "source": [
    "seed = np.random.randint(0, 500000)\n",
    "(m, n) = (32, 16)\n",
    "# config = {\n",
    "#     'graph_type': 'FEAT',\n",
    "#     'q': 0.85,\n",
    "#     'weighted': True\n",
    "# }\n",
    "# config = {\n",
    "#     'graph_type': 'OSMNX',\n",
    "#     'location_graph': piedmont['location_graph']\n",
    "# }\n",
    "# config = {\n",
    "# \t'graph_type': 'PART',\n",
    "#     'p': 0.5,\n",
    "#     'size': 4,\n",
    "#     'eps': 0.1\n",
    "# }\n",
    "\n",
    "rng = np.random.default_rng(seed)\n",
    "# eval_instances = ig.sample_instances(m, n, 100, rng, **config)\n",
    "eval_num = 25\n",
    "eval_instances = [\n",
    "        *ig.sample_instances(m, n, eval_num, rng, **er_config),\n",
    "        *ig.sample_instances(m, n, eval_num, rng, **ba_config),\n",
    "        *ig.sample_instances(m, n, eval_num, rng, **feat_config),\n",
    "        *ig.sample_instances(m, n, eval_num, rng, **osmnx_config),\n",
    "]\n",
    "\n",
    "ratios = ev.evaluate_model(\n",
    "    meta_model=None,\n",
    "    meta_model_type=None,\n",
    "    base_models=[GNN],\n",
    "    instances=eval_instances,\n",
    "    batch_size=50,\n",
    "    rng=rng,\n",
    "    num_realizations=5\n",
    ")\n",
    "\n",
    "\n",
    "ratios2 = ev.evaluate_model(\n",
    "    meta_model=None,\n",
    "    meta_model_type=None,\n",
    "    base_models=[THRESHOLD_MODEL],\n",
    "    instances=eval_instances,\n",
    "    batch_size=50,\n",
    "    rng=rng,\n",
    "    num_realizations=5\n",
    ")\n",
    "\n",
    "pp_output(ratios, _, show_log=False)\n",
    "print(f\"Thresholded greedy: {np.mean(ratios2[0]).round(4)}\")\n"
   ]
  },
  {
   "cell_type": "code",
   "execution_count": 10,
   "metadata": {},
   "outputs": [
    {
     "name": "stdout",
     "output_type": "stream",
     "text": [
      "[0.25, 0.5, 0.75, 1.0, 1.25, 1.5, 1.75, 2.0, 2.25, 2.5, 2.75, 3.0, 3.25, 3.5, 3.75]\n",
      "{'graph_type': 'FEAT', 'q': 0.75, 'weighted': True} (4, 16)\n",
      "{'graph_type': 'FEAT', 'q': 0.75, 'weighted': True} (8, 16)\n",
      "{'graph_type': 'FEAT', 'q': 0.75, 'weighted': True} (12, 16)\n",
      "{'graph_type': 'FEAT', 'q': 0.75, 'weighted': True} (16, 16)\n"
     ]
    },
    {
     "name": "stderr",
     "output_type": "stream",
     "text": [
      "/home/alexhay/GNN-OBM/algorithms.py:255: RuntimeWarning: invalid value encountered in divide\n",
      "  proposal_probs = x / denom_matrix\n"
     ]
    },
    {
     "name": "stdout",
     "output_type": "stream",
     "text": [
      "{'graph_type': 'FEAT', 'q': 0.75, 'weighted': True} (20, 16)\n",
      "{'graph_type': 'FEAT', 'q': 0.75, 'weighted': True} (24, 16)\n",
      "{'graph_type': 'FEAT', 'q': 0.75, 'weighted': True} (28, 16)\n",
      "{'graph_type': 'FEAT', 'q': 0.75, 'weighted': True} (32, 16)\n",
      "{'graph_type': 'FEAT', 'q': 0.75, 'weighted': True} (36, 16)\n",
      "{'graph_type': 'FEAT', 'q': 0.75, 'weighted': True} (40, 16)\n",
      "{'graph_type': 'FEAT', 'q': 0.75, 'weighted': True} (44, 16)\n",
      "{'graph_type': 'FEAT', 'q': 0.75, 'weighted': True} (48, 16)\n",
      "{'graph_type': 'FEAT', 'q': 0.75, 'weighted': True} (52, 16)\n",
      "{'graph_type': 'FEAT', 'q': 0.75, 'weighted': True} (56, 16)\n"
     ]
    },
    {
     "ename": "KeyboardInterrupt",
     "evalue": "",
     "output_type": "error",
     "traceback": [
      "\u001b[0;31m---------------------------------------------------------------------------\u001b[0m",
      "\u001b[0;31mKeyboardInterrupt\u001b[0m                         Traceback (most recent call last)",
      "\u001b[1;32m/home/alexhay/GNN-OBM/notebooks/base_learner.ipynb Cell 19\u001b[0m in \u001b[0;36m<cell line: 54>\u001b[0;34m()\u001b[0m\n\u001b[1;32m     <a href='vscode-notebook-cell://ssh-remote%2B7b22686f73744e616d65223a22736f616c2d372e7374616e666f72642e656475222c2275736572223a22616c6578686179227d/home/alexhay/GNN-OBM/notebooks/base_learner.ipynb#X24sdnNjb2RlLXJlbW90ZQ%3D%3D?line=58'>59</a>\u001b[0m instances \u001b[39m=\u001b[39m ig\u001b[39m.\u001b[39msample_instances(\u001b[39m*\u001b[39mnode_config, num_trials, rng, \u001b[39m*\u001b[39m\u001b[39m*\u001b[39mgraph_config)\n\u001b[1;32m     <a href='vscode-notebook-cell://ssh-remote%2B7b22686f73744e616d65223a22736f616c2d372e7374616e666f72642e656475222c2275736572223a22616c6578686179227d/home/alexhay/GNN-OBM/notebooks/base_learner.ipynb#X24sdnNjb2RlLXJlbW90ZQ%3D%3D?line=61'>62</a>\u001b[0m rng \u001b[39m=\u001b[39m np\u001b[39m.\u001b[39mrandom\u001b[39m.\u001b[39mdefault_rng(seed)\n\u001b[0;32m---> <a href='vscode-notebook-cell://ssh-remote%2B7b22686f73744e616d65223a22736f616c2d372e7374616e666f72642e656475222c2275736572223a22616c6578686179227d/home/alexhay/GNN-OBM/notebooks/base_learner.ipynb#X24sdnNjb2RlLXJlbW90ZQ%3D%3D?line=62'>63</a>\u001b[0m gnn_learned_ratios, greedy_ratios, lp_match_ratios \u001b[39m=\u001b[39m evaluate_model(\n\u001b[1;32m     <a href='vscode-notebook-cell://ssh-remote%2B7b22686f73744e616d65223a22736f616c2d372e7374616e666f72642e656475222c2275736572223a22616c6578686179227d/home/alexhay/GNN-OBM/notebooks/base_learner.ipynb#X24sdnNjb2RlLXJlbW90ZQ%3D%3D?line=63'>64</a>\u001b[0m     meta_model\u001b[39m=\u001b[39;49m\u001b[39mNone\u001b[39;49;00m,\n\u001b[1;32m     <a href='vscode-notebook-cell://ssh-remote%2B7b22686f73744e616d65223a22736f616c2d372e7374616e666f72642e656475222c2275736572223a22616c6578686179227d/home/alexhay/GNN-OBM/notebooks/base_learner.ipynb#X24sdnNjb2RlLXJlbW90ZQ%3D%3D?line=64'>65</a>\u001b[0m     meta_model_type\u001b[39m=\u001b[39;49m\u001b[39mNone\u001b[39;49;00m,\n\u001b[1;32m     <a href='vscode-notebook-cell://ssh-remote%2B7b22686f73744e616d65223a22736f616c2d372e7374616e666f72642e656475222c2275736572223a22616c6578686179227d/home/alexhay/GNN-OBM/notebooks/base_learner.ipynb#X24sdnNjb2RlLXJlbW90ZQ%3D%3D?line=65'>66</a>\u001b[0m     base_models\u001b[39m=\u001b[39;49m[GNN],\n\u001b[1;32m     <a href='vscode-notebook-cell://ssh-remote%2B7b22686f73744e616d65223a22736f616c2d372e7374616e666f72642e656475222c2275736572223a22616c6578686179227d/home/alexhay/GNN-OBM/notebooks/base_learner.ipynb#X24sdnNjb2RlLXJlbW90ZQ%3D%3D?line=66'>67</a>\u001b[0m     instances\u001b[39m=\u001b[39;49minstances,\n\u001b[1;32m     <a href='vscode-notebook-cell://ssh-remote%2B7b22686f73744e616d65223a22736f616c2d372e7374616e666f72642e656475222c2275736572223a22616c6578686179227d/home/alexhay/GNN-OBM/notebooks/base_learner.ipynb#X24sdnNjb2RlLXJlbW90ZQ%3D%3D?line=67'>68</a>\u001b[0m     batch_size\u001b[39m=\u001b[39;49mbatch_size,\n\u001b[1;32m     <a href='vscode-notebook-cell://ssh-remote%2B7b22686f73744e616d65223a22736f616c2d372e7374616e666f72642e656475222c2275736572223a22616c6578686179227d/home/alexhay/GNN-OBM/notebooks/base_learner.ipynb#X24sdnNjb2RlLXJlbW90ZQ%3D%3D?line=68'>69</a>\u001b[0m     rng\u001b[39m=\u001b[39;49mrng,\n\u001b[1;32m     <a href='vscode-notebook-cell://ssh-remote%2B7b22686f73744e616d65223a22736f616c2d372e7374616e666f72642e656475222c2275736572223a22616c6578686179227d/home/alexhay/GNN-OBM/notebooks/base_learner.ipynb#X24sdnNjb2RlLXJlbW90ZQ%3D%3D?line=69'>70</a>\u001b[0m     num_realizations\u001b[39m=\u001b[39;49m\u001b[39m5\u001b[39;49m\n\u001b[1;32m     <a href='vscode-notebook-cell://ssh-remote%2B7b22686f73744e616d65223a22736f616c2d372e7374616e666f72642e656475222c2275736572223a22616c6578686179227d/home/alexhay/GNN-OBM/notebooks/base_learner.ipynb#X24sdnNjb2RlLXJlbW90ZQ%3D%3D?line=70'>71</a>\u001b[0m )\n\u001b[1;32m     <a href='vscode-notebook-cell://ssh-remote%2B7b22686f73744e616d65223a22736f616c2d372e7374616e666f72642e656475222c2275736572223a22616c6578686179227d/home/alexhay/GNN-OBM/notebooks/base_learner.ipynb#X24sdnNjb2RlLXJlbW90ZQ%3D%3D?line=73'>74</a>\u001b[0m data[graph_config[\u001b[39m'\u001b[39m\u001b[39mq\u001b[39m\u001b[39m'\u001b[39m]]\u001b[39m.\u001b[39mappend(np\u001b[39m.\u001b[39marray(\n\u001b[1;32m     <a href='vscode-notebook-cell://ssh-remote%2B7b22686f73744e616d65223a22736f616c2d372e7374616e666f72642e656475222c2275736572223a22616c6578686179227d/home/alexhay/GNN-OBM/notebooks/base_learner.ipynb#X24sdnNjb2RlLXJlbW90ZQ%3D%3D?line=74'>75</a>\u001b[0m     [\n\u001b[1;32m     <a href='vscode-notebook-cell://ssh-remote%2B7b22686f73744e616d65223a22736f616c2d372e7374616e666f72642e656475222c2275736572223a22616c6578686179227d/home/alexhay/GNN-OBM/notebooks/base_learner.ipynb#X24sdnNjb2RlLXJlbW90ZQ%3D%3D?line=75'>76</a>\u001b[0m         gnn_learned_ratios,\n\u001b[0;32m   (...)\u001b[0m\n\u001b[1;32m     <a href='vscode-notebook-cell://ssh-remote%2B7b22686f73744e616d65223a22736f616c2d372e7374616e666f72642e656475222c2275736572223a22616c6578686179227d/home/alexhay/GNN-OBM/notebooks/base_learner.ipynb#X24sdnNjb2RlLXJlbW90ZQ%3D%3D?line=78'>79</a>\u001b[0m     ]\n\u001b[1;32m     <a href='vscode-notebook-cell://ssh-remote%2B7b22686f73744e616d65223a22736f616c2d372e7374616e666f72642e656475222c2275736572223a22616c6578686179227d/home/alexhay/GNN-OBM/notebooks/base_learner.ipynb#X24sdnNjb2RlLXJlbW90ZQ%3D%3D?line=79'>80</a>\u001b[0m ))\n",
      "File \u001b[0;32m~/GNN-OBM/evaluate.py:463\u001b[0m, in \u001b[0;36mevaluate_model\u001b[0;34m(meta_model, meta_model_type, base_models, instances, batch_size, rng, num_realizations)\u001b[0m\n\u001b[1;32m    454\u001b[0m     choices \u001b[39m=\u001b[39m _compute_avg_predictions(\n\u001b[1;32m    455\u001b[0m         base_models,\n\u001b[1;32m    456\u001b[0m         arrival_indices,\n\u001b[1;32m    457\u001b[0m         parallel_state,\n\u001b[1;32m    458\u001b[0m         batch_size\n\u001b[1;32m    459\u001b[0m     )\n\u001b[1;32m    461\u001b[0m     parallel_state\u001b[39m.\u001b[39mupdate(t, choices, non_arrival_indices, arrival_indices)\n\u001b[0;32m--> 463\u001b[0m learned_ratios, greedy_ratios, lp_match_ratios \u001b[39m=\u001b[39m parallel_state\u001b[39m.\u001b[39;49mcompute_competitive_ratios()\n\u001b[1;32m    464\u001b[0m \u001b[39mreturn\u001b[39;00m (learned_ratios, greedy_ratios, lp_match_ratios)\n",
      "File \u001b[0;32m~/GNN-OBM/evaluate.py:315\u001b[0m, in \u001b[0;36mParallelExecutionState.compute_competitive_ratios\u001b[0;34m(self)\u001b[0m\n\u001b[1;32m    311\u001b[0m     learned_ratios[i, j] \u001b[39m=\u001b[39m real_state\u001b[39m.\u001b[39mvalue \u001b[39m/\u001b[39m OPT\n\u001b[1;32m    312\u001b[0m     greedy_ratios[i, j] \u001b[39m=\u001b[39m \\\n\u001b[1;32m    313\u001b[0m         dp\u001b[39m.\u001b[39mgreedy(A, real_state\u001b[39m.\u001b[39mcoin_flips, \u001b[39m0\u001b[39m)[\u001b[39m1\u001b[39m] \u001b[39m/\u001b[39m OPT\n\u001b[1;32m    314\u001b[0m     lp_match_ratios[i, j] \u001b[39m=\u001b[39m \\\n\u001b[0;32m--> 315\u001b[0m         dp\u001b[39m.\u001b[39;49mlp_approx(A, p, coin_flips)[\u001b[39m1\u001b[39m] \u001b[39m/\u001b[39m OPT\n\u001b[1;32m    316\u001b[0m \u001b[39melse\u001b[39;00m:\n\u001b[1;32m    317\u001b[0m     learned_ratios[i, j] \u001b[39m=\u001b[39m np\u001b[39m.\u001b[39mnan\n",
      "File \u001b[0;32m~/GNN-OBM/algorithms.py:302\u001b[0m, in \u001b[0;36mlp_approx\u001b[0;34m(A, p, coin_flips)\u001b[0m\n\u001b[1;32m    301\u001b[0m \u001b[39mdef\u001b[39;00m \u001b[39mlp_approx\u001b[39m(A: _Array, p: _Array, coin_flips: _Array):\n\u001b[0;32m--> 302\u001b[0m     x, _ \u001b[39m=\u001b[39m lp_match(A, p, verbose\u001b[39m=\u001b[39;49m\u001b[39mFalse\u001b[39;49;00m)\n\u001b[1;32m    304\u001b[0m     \u001b[39mreturn\u001b[39;00m online_lp_rounding(x, A, p, coin_flips)\n",
      "File \u001b[0;32m~/GNN-OBM/algorithms.py:240\u001b[0m, in \u001b[0;36mlp_match\u001b[0;34m(A, p, verbose)\u001b[0m\n\u001b[1;32m    238\u001b[0m model \u001b[39m=\u001b[39m gp\u001b[39m.\u001b[39mModel(\u001b[39m'\u001b[39m\u001b[39mLP-MATCH\u001b[39m\u001b[39m'\u001b[39m)\n\u001b[1;32m    239\u001b[0m x \u001b[39m=\u001b[39m _build_variables(model, indices)\n\u001b[0;32m--> 240\u001b[0m _build_constraints(model, x, p, online_nodes, offline_nodes, indices)\n\u001b[1;32m    241\u001b[0m _build_objective(model, x, A, indices)\n\u001b[1;32m    243\u001b[0m \u001b[39mif\u001b[39;00m \u001b[39mnot\u001b[39;00m verbose:\n",
      "File \u001b[0;32m~/GNN-OBM/algorithms.py:181\u001b[0m, in \u001b[0;36m_build_constraints\u001b[0;34m(model, x, p, online_nodes, offline_nodes, indices)\u001b[0m\n\u001b[1;32m    163\u001b[0m model\u001b[39m.\u001b[39maddConstrs(\n\u001b[1;32m    164\u001b[0m     (\n\u001b[1;32m    165\u001b[0m         gp\u001b[39m.\u001b[39mquicksum(x[(i, t)] \u001b[39mfor\u001b[39;00m t \u001b[39min\u001b[39;00m online_nodes)\n\u001b[0;32m   (...)\u001b[0m\n\u001b[1;32m    169\u001b[0m     name\u001b[39m=\u001b[39m\u001b[39m\"\u001b[39m\u001b[39moffline_matching\u001b[39m\u001b[39m\"\u001b[39m\n\u001b[1;32m    170\u001b[0m )\n\u001b[1;32m    172\u001b[0m model\u001b[39m.\u001b[39maddConstrs(\n\u001b[1;32m    173\u001b[0m     (\n\u001b[1;32m    174\u001b[0m         gp\u001b[39m.\u001b[39mquicksum(x[(i, t)] \u001b[39mfor\u001b[39;00m i \u001b[39min\u001b[39;00m offline_nodes)\n\u001b[0;32m   (...)\u001b[0m\n\u001b[1;32m    178\u001b[0m     name\u001b[39m=\u001b[39m\u001b[39m\"\u001b[39m\u001b[39monline_matching\u001b[39m\u001b[39m\"\u001b[39m\n\u001b[1;32m    179\u001b[0m )\n\u001b[0;32m--> 181\u001b[0m model\u001b[39m.\u001b[39;49maddConstrs(\n\u001b[1;32m    182\u001b[0m     (\n\u001b[1;32m    183\u001b[0m         x[(i, t)] \u001b[39m-\u001b[39;49m \n\u001b[1;32m    184\u001b[0m         p[t] \u001b[39m*\u001b[39;49m (\u001b[39m1\u001b[39;49m \u001b[39m-\u001b[39;49m gp\u001b[39m.\u001b[39;49mquicksum(x[i, s] \u001b[39mfor\u001b[39;49;00m s \u001b[39min\u001b[39;49;00m online_nodes[:t])) \n\u001b[1;32m    185\u001b[0m         \u001b[39m<\u001b[39;49m\u001b[39m=\u001b[39;49m \u001b[39m0\u001b[39;49m\n\u001b[1;32m    186\u001b[0m         \u001b[39mfor\u001b[39;49;00m (i, t) \u001b[39min\u001b[39;49;00m indices\n\u001b[1;32m    187\u001b[0m     ),\n\u001b[1;32m    188\u001b[0m     name\u001b[39m=\u001b[39;49m\u001b[39m\"\u001b[39;49m\u001b[39monline_knowledge\u001b[39;49m\u001b[39m\"\u001b[39;49m\n\u001b[1;32m    189\u001b[0m )\n",
      "File \u001b[0;32msrc/gurobipy/model.pxi:3747\u001b[0m, in \u001b[0;36mgurobipy.Model.addConstrs\u001b[0;34m()\u001b[0m\n",
      "File \u001b[0;32m~/GNN-OBM/algorithms.py:182\u001b[0m, in \u001b[0;36m<genexpr>\u001b[0;34m(.0)\u001b[0m\n\u001b[1;32m    163\u001b[0m model\u001b[39m.\u001b[39maddConstrs(\n\u001b[1;32m    164\u001b[0m     (\n\u001b[1;32m    165\u001b[0m         gp\u001b[39m.\u001b[39mquicksum(x[(i, t)] \u001b[39mfor\u001b[39;00m t \u001b[39min\u001b[39;00m online_nodes)\n\u001b[0;32m   (...)\u001b[0m\n\u001b[1;32m    169\u001b[0m     name\u001b[39m=\u001b[39m\u001b[39m\"\u001b[39m\u001b[39moffline_matching\u001b[39m\u001b[39m\"\u001b[39m\n\u001b[1;32m    170\u001b[0m )\n\u001b[1;32m    172\u001b[0m model\u001b[39m.\u001b[39maddConstrs(\n\u001b[1;32m    173\u001b[0m     (\n\u001b[1;32m    174\u001b[0m         gp\u001b[39m.\u001b[39mquicksum(x[(i, t)] \u001b[39mfor\u001b[39;00m i \u001b[39min\u001b[39;00m offline_nodes)\n\u001b[0;32m   (...)\u001b[0m\n\u001b[1;32m    178\u001b[0m     name\u001b[39m=\u001b[39m\u001b[39m\"\u001b[39m\u001b[39monline_matching\u001b[39m\u001b[39m\"\u001b[39m\n\u001b[1;32m    179\u001b[0m )\n\u001b[1;32m    181\u001b[0m model\u001b[39m.\u001b[39maddConstrs(\n\u001b[0;32m--> 182\u001b[0m     (\n\u001b[1;32m    183\u001b[0m         x[(i, t)] \u001b[39m-\u001b[39m \n\u001b[1;32m    184\u001b[0m         p[t] \u001b[39m*\u001b[39m (\u001b[39m1\u001b[39m \u001b[39m-\u001b[39m gp\u001b[39m.\u001b[39mquicksum(x[i, s] \u001b[39mfor\u001b[39;00m s \u001b[39min\u001b[39;00m online_nodes[:t])) \n\u001b[1;32m    185\u001b[0m         \u001b[39m<\u001b[39m\u001b[39m=\u001b[39m \u001b[39m0\u001b[39m\n\u001b[1;32m    186\u001b[0m         \u001b[39mfor\u001b[39;00m (i, t) \u001b[39min\u001b[39;00m indices\n\u001b[1;32m    187\u001b[0m     ),\n\u001b[1;32m    188\u001b[0m     name\u001b[39m=\u001b[39m\u001b[39m\"\u001b[39m\u001b[39monline_knowledge\u001b[39m\u001b[39m\"\u001b[39m\n\u001b[1;32m    189\u001b[0m )\n",
      "\u001b[0;31mKeyboardInterrupt\u001b[0m: "
     ]
    }
   ],
   "source": [
    "num_trials = 40\n",
    "node_configs = [(x, 16) for x in np.arange(4, 64, 4)]\n",
    "# of nodes [20 -> 80]\n",
    "# of nodes in batch [10,000 -> 40,000]\n",
    "batch_size = 500 #[int(min(32, x + y)) for (x, y) in node_configs]\n",
    "graph_configs = [\n",
    "    # {\n",
    "    #     'graph_type': 'GM'\n",
    "    # },\n",
    "    # {\n",
    "    #     'graph_type': 'ER',\n",
    "    #     'p': 0.75,\n",
    "    #     'weighted': False\n",
    "    # },\n",
    "    # {\n",
    "    #     'graph_type': 'BA',\n",
    "    #     'ba_param': 4,\n",
    "    #     'weighted': False\n",
    "    # },\n",
    "    {\n",
    "        'graph_type': 'FEAT',\n",
    "        'q': 0.75,\n",
    "        'weighted': True\n",
    "    },\n",
    "    {\n",
    "        'graph_type': 'FEAT',\n",
    "        'q': 0.9,\n",
    "        'weighted': True\n",
    "    },\n",
    "    {\n",
    "        'graph_type': 'FEAT',\n",
    "        'q': 0.95,\n",
    "        'weighted': True\n",
    "    },\n",
    "\n",
    "    # {\n",
    "    #     'graph_type': 'PART',\n",
    "    #     'p': 0.5,\n",
    "    #     'size': 4,\n",
    "    #     'eps': 0.1\n",
    "    # },\n",
    "    # {\n",
    "    #     'graph_type': 'PART',\n",
    "    #     'p': 0.5,\n",
    "    #     'size': 3,\n",
    "    #     'eps': 0.3\n",
    "    # }\n",
    "]\n",
    "\n",
    "ratios = [x/y for (x,y) in node_configs]\n",
    "print(ratios)\n",
    "\n",
    "data = {config['q']: [] for config in graph_configs}\n",
    "for graph_config in graph_configs:\n",
    "    for i, node_config in enumerate(node_configs):\n",
    "        print(graph_config, node_config)\n",
    "        seed = np.random.randint(0, 500000)\n",
    "        rng = np.random.default_rng(seed)\n",
    "        instances = ig.sample_instances(*node_config, num_trials, rng, **graph_config)\n",
    "\n",
    "\n",
    "        rng = np.random.default_rng(seed)\n",
    "        gnn_learned_ratios, greedy_ratios, lp_match_ratios = evaluate_model(\n",
    "            meta_model=None,\n",
    "            meta_model_type=None,\n",
    "            base_models=[GNN],\n",
    "            instances=instances,\n",
    "            batch_size=batch_size,\n",
    "            rng=rng,\n",
    "            num_realizations=5\n",
    "        )\n",
    "\n",
    "\n",
    "        data[graph_config['q']].append(np.array(\n",
    "            [\n",
    "                gnn_learned_ratios,\n",
    "                greedy_ratios,\n",
    "                lp_match_ratios\n",
    "            ]\n",
    "        ))"
   ]
  },
  {
   "cell_type": "code",
   "execution_count": 12,
   "metadata": {},
   "outputs": [
    {
     "name": "stdout",
     "output_type": "stream",
     "text": [
      "[0.25, 0.75, 1.25, 1.75, 2.25, 2.75, 3.25, 3.75]\n",
      "(4, 16) {'graph_type': 'OSMNX', 'location_graph': <networkx.classes.multidigraph.MultiDiGraph object at 0x7fdec395b490>, 'city': 'Founex, Switzerland'}\n"
     ]
    },
    {
     "name": "stderr",
     "output_type": "stream",
     "text": [
      "/tmp/ipykernel_2158288/1678089274.py:102: VisibleDeprecationWarning: Creating an ndarray from ragged nested sequences (which is a list-or-tuple of lists-or-tuples-or ndarrays with different lengths or shapes) is deprecated. If you meant to do this, you must specify 'dtype=object' when creating the ndarray.\n",
      "  data[graph_config['city']].append(np.array(\n"
     ]
    },
    {
     "name": "stdout",
     "output_type": "stream",
     "text": [
      "(12, 16) {'graph_type': 'OSMNX', 'location_graph': <networkx.classes.multidigraph.MultiDiGraph object at 0x7fdec395b490>, 'city': 'Founex, Switzerland'}\n",
      "(20, 16) {'graph_type': 'OSMNX', 'location_graph': <networkx.classes.multidigraph.MultiDiGraph object at 0x7fdec395b490>, 'city': 'Founex, Switzerland'}\n"
     ]
    },
    {
     "name": "stderr",
     "output_type": "stream",
     "text": [
      "/home/alexhay/GNN-OBM/algorithms.py:255: RuntimeWarning: invalid value encountered in divide\n",
      "  proposal_probs = x / denom_matrix\n"
     ]
    },
    {
     "name": "stdout",
     "output_type": "stream",
     "text": [
      "(28, 16) {'graph_type': 'OSMNX', 'location_graph': <networkx.classes.multidigraph.MultiDiGraph object at 0x7fdec395b490>, 'city': 'Founex, Switzerland'}\n",
      "(36, 16) {'graph_type': 'OSMNX', 'location_graph': <networkx.classes.multidigraph.MultiDiGraph object at 0x7fdec395b490>, 'city': 'Founex, Switzerland'}\n",
      "(44, 16) {'graph_type': 'OSMNX', 'location_graph': <networkx.classes.multidigraph.MultiDiGraph object at 0x7fdec395b490>, 'city': 'Founex, Switzerland'}\n",
      "(52, 16) {'graph_type': 'OSMNX', 'location_graph': <networkx.classes.multidigraph.MultiDiGraph object at 0x7fdec395b490>, 'city': 'Founex, Switzerland'}\n",
      "(60, 16) {'graph_type': 'OSMNX', 'location_graph': <networkx.classes.multidigraph.MultiDiGraph object at 0x7fdec395b490>, 'city': 'Founex, Switzerland'}\n"
     ]
    }
   ],
   "source": [
    "num_trials = 40\n",
    "node_configs = [(x, 16) for x in np.arange(4, 64, 8)]\n",
    "# of nodes [20 -> 80]\n",
    "# of nodes in batch [10,000 -> 40,000]\n",
    "batch_size = 500 #[int(min(32, x + y)) for (x, y) in node_configs]\n",
    "\n",
    "\n",
    "\n",
    "\n",
    "graph_configs = [\n",
    "    # {\n",
    "    # 'graph_type': 'FEAT',\n",
    "    # 'q': 0.5\n",
    "    # },\n",
    "    # {\n",
    "    #     'graph_type': 'OSMNX',\n",
    "    #     'location_graph': piedmont['location_graph'],\n",
    "    #     'city': piedmont['city']\n",
    "    # },\n",
    "    # {\n",
    "    #     'graph_type': 'OSMNX',\n",
    "    #     'location_graph': carmel['location_graph'],\n",
    "    #     'city': carmel['city']\n",
    "    # },\n",
    "    # {\n",
    "    #     'graph_type': 'OSMNX',\n",
    "    #     'location_graph': geneva['location_graph'],\n",
    "    #     'city': geneva['city']\n",
    "    # },\n",
    "    # {\n",
    "    #     'graph_type': 'OSMNX',\n",
    "    #     'location_graph': founex['location_graph'],\n",
    "    #     'city': founex['city']\n",
    "    # },\n",
    "    # {\n",
    "    # 'graph_type': 'FEAT',\n",
    "    # 'q': 0.75,\n",
    "    # 'weighted': True\n",
    "    # },\n",
    "    # {\n",
    "    # 'graph_type': 'FEAT',\n",
    "    # 'q': 0.9,\n",
    "    # 'weighted': True\n",
    "    # },\n",
    "    # {\n",
    "    # 'graph_type': 'FEAT',\n",
    "    # 'q': 0.95,\n",
    "    # 'weighted': True\n",
    "    # },\n",
    "    # {\n",
    "    # 'graph_type': 'FEAT',\n",
    "    # 'q': 0.99\n",
    "    # }\n",
    "    # {\n",
    "    #     'graph_type': 'PART',\n",
    "    #     'p': 0.5,\n",
    "    #     'size': 4,\n",
    "    #     'eps': 0.1\n",
    "    # },\n",
    "    # {\n",
    "    #     'graph_type': 'PART',\n",
    "    #     'p': 0.5,\n",
    "    #     'size': 3,\n",
    "    #     'eps': 0.3\n",
    "    # }\n",
    "]\n",
    "\n",
    "ratios = [x/y for (x,y) in node_configs]\n",
    "print(ratios)\n",
    "\n",
    "data = {config['city']: [] for config in graph_configs}\n",
    "for graph_config in graph_configs:\n",
    "    for i, node_config in enumerate(node_configs):\n",
    "        print(node_config, graph_config)\n",
    "        seed = np.random.randint(0, 500000)\n",
    "        rng = np.random.default_rng(seed)\n",
    "        instances = ig.sample_instances(*node_config, num_trials, rng, **graph_config)\n",
    "\n",
    "\n",
    "        rng = np.random.default_rng(seed)\n",
    "        gnn_learned_ratios, greedy_ratios, lp_match_ratios = evaluate_model(\n",
    "            meta_model=None,\n",
    "            meta_model_type=None,\n",
    "            base_models=[GNN],\n",
    "            instances=instances,\n",
    "            batch_size=batch_size,\n",
    "            rng=rng,\n",
    "            num_realizations=5\n",
    "        )\n",
    "        thresholded_greedy_ratios = [0]\n",
    "\n",
    "        # thresholded_greedy_ratios, greedy_ratios, lp_match_ratios = evaluate_model(\n",
    "        #     meta_model=None,\n",
    "        #     meta_model_type=None,\n",
    "        #     base_models=[THRESHOLD_MODEL],\n",
    "        #     instances=instances,\n",
    "        #     batch_size=batch_size,\n",
    "        #     rng=rng,\n",
    "        #     num_realizations=5\n",
    "        # )\n",
    "\n",
    "        data[graph_config['city']].append(np.array(\n",
    "            [\n",
    "                gnn_learned_ratios,\n",
    "                thresholded_greedy_ratios,\n",
    "                greedy_ratios,\n",
    "                lp_match_ratios\n",
    "            ]\n",
    "        ))"
   ]
  },
  {
   "cell_type": "code",
   "execution_count": 13,
   "metadata": {},
   "outputs": [
    {
     "name": "stdout",
     "output_type": "stream",
     "text": [
      "[0.25, 0.75, 1.25, 1.75, 2.25, 2.75, 3.25, 3.75]\n"
     ]
    },
    {
     "data": {
      "image/png": "[encoded data removed]",
      "text/plain": [
       "<Figure size 576x432 with 1 Axes>"
      ]
     },
     "metadata": {
      "needs_background": "light"
     },
     "output_type": "display_data"
    }
   ],
   "source": [
    "import matplotlib.pyplot as plt\n",
    "ratios = [x/y for (x,y) in node_configs]\n",
    "print(ratios)\n",
    "for city, comp_ratios in data.items():\n",
    "    greedy_avg_ratios = []\n",
    "    thresholded_greedy_avg_ratios = []\n",
    "    gnn_avg_ratios = []\n",
    "    lp_match_avg_ratios = []\n",
    "\n",
    "\n",
    "    for trial_ratios in comp_ratios:\n",
    "        gnn_avg_ratios.append(np.array(trial_ratios[0]).mean())\n",
    "        thresholded_greedy_avg_ratios.append(np.array(trial_ratios[1]).mean())\n",
    "        greedy_avg_ratios.append(np.array(trial_ratios[2]).mean())\n",
    "        lp_match_avg_ratios.append(np.array(trial_ratios[3]).mean())\n",
    "        \n",
    "\n",
    "    title = f\"OSMNX_discard_{city}\"\n",
    "    fig = plt.figure(figsize=(8,6))\n",
    "    plt.title(title)\n",
    "    plt.plot(ratios, gnn_avg_ratios, label='GNN')\n",
    "    plt.plot(ratios, thresholded_greedy_avg_ratios, label='Thresholded Greedy')\n",
    "    plt.plot(ratios, greedy_avg_ratios, label='Greedy')\n",
    "    plt.plot(ratios, lp_match_avg_ratios, label='LP ROUNDING')\n",
    "    plt.xlabel('# online / # offline')\n",
    "    plt.ylabel('Average competitive ratio')\n",
    "    plt.legend()\n",
    "    plt.savefig(f\"data/{title}.png\")\n",
    "    plt.show()\n",
    "\n"
   ]
  },
  {
   "cell_type": "code",
   "execution_count": 9,
   "metadata": {},
   "outputs": [
    {
     "name": "stdout",
     "output_type": "stream",
     "text": [
      "FEAT_only_ratings_0.75\n"
     ]
    },
    {
     "data": {
      "image/png": "[encoded data removed]",
      "text/plain": [
       "<Figure size 576x432 with 1 Axes>"
      ]
     },
     "metadata": {
      "needs_background": "light"
     },
     "output_type": "display_data"
    },
    {
     "name": "stdout",
     "output_type": "stream",
     "text": [
      "FEAT_only_ratings_0.9\n"
     ]
    },
    {
     "data": {
      "image/png": "[encoded data removed]",
      "text/plain": [
       "<Figure size 576x432 with 1 Axes>"
      ]
     },
     "metadata": {
      "needs_background": "light"
     },
     "output_type": "display_data"
    },
    {
     "name": "stdout",
     "output_type": "stream",
     "text": [
      "FEAT_only_ratings_0.95\n"
     ]
    },
    {
     "data": {
      "image/png": "[encoded data removed]",
      "text/plain": [
       "<Figure size 576x432 with 1 Axes>"
      ]
     },
     "metadata": {
      "needs_background": "light"
     },
     "output_type": "display_data"
    }
   ],
   "source": [
    "import matplotlib.pyplot as plt\n",
    "ratios = [x/y for (x,y) in node_configs]\n",
    "for q, comp_ratios in data.items():\n",
    "    greedy_avg_ratios = []\n",
    "    gnn_avg_ratios = []\n",
    "\n",
    "\n",
    "    for trial_ratios in comp_ratios:\n",
    "        gnn_avg_ratios.append(np.array(trial_ratios[0]).mean())\n",
    "        greedy_avg_ratios.append(np.array(trial_ratios[1]).mean())\n",
    "\n",
    "    # title = f\"PART_size_{size}\"\n",
    "    title = f\"FEAT_only_ratings_{q}\"\n",
    "    print(title)\n",
    "    fig = plt.figure(figsize=(8,6))\n",
    "    plt.title(title)\n",
    "    plt.plot(ratios, gnn_avg_ratios, label='GNN')\n",
    "    plt.plot(ratios, greedy_avg_ratios, label='Greedy')\n",
    "    plt.xlabel('# online / # offline')\n",
    "    plt.ylabel('Average competitive ratio')\n",
    "    plt.legend()\n",
    "    plt.savefig(f\"data/{title}.png\")\n",
    "    plt.show()\n"
   ]
  },
  {
   "cell_type": "code",
   "execution_count": null,
   "metadata": {},
   "outputs": [],
   "source": []
  }
 ],
 "metadata": {
  "kernelspec": {
   "display_name": "clrs",
   "language": "python",
   "name": "python3"
  },
  "language_info": {
   "codemirror_mode": {
    "name": "ipython",
    "version": 3
   },
   "file_extension": ".py",
   "mimetype": "text/x-python",
   "name": "python",
   "nbconvert_exporter": "python",
   "pygments_lexer": "ipython3",
   "version": "3.10.12"
  }
 },
 "nbformat": 4,
 "nbformat_minor": 2
}
