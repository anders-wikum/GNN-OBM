{
    "cells": [
        {
            "cell_type": "code",
            "execution_count": 1,
            "metadata": {},
            "outputs": [],
            "source": [
                "import os\n",
                "os.chdir('..')"
            ]
        },
        {
            "cell_type": "code",
            "execution_count": null,
            "metadata": {},
            "outputs": [],
            "source": [
                "import torch\n",
                "import numpy as np\n",
                "from torch_geometric.loader import DataLoader\n",
                "from gnn_library.util import train, save, load\n",
                "from evaluate import evaluate_model, pp_output\n",
                "import instance_generator as ig\n",
                "import torch_converter as tc\n",
                "import evaluate as ev\n",
                "from util import Dataset\n",
                "from params import NODE_FEATURE_DIM\n",
                "\n",
                "%load_ext autoreload\n",
                "%autoreload 2"
            ]
        },
        {
            "cell_type": "code",
            "execution_count": 2,
            "metadata": {},
            "outputs": [
                {
                    "name": "stdout",
                    "output_type": "stream",
                    "text": [
                        "PyTorch has version 2.0.0+cu117\n",
                        "Using device: cuda:2\n"
                    ]
                }
            ],
            "source": [
                "device = torch.device('cuda:2' if torch.cuda.is_available() else 'cpu')\n",
                "print(\"PyTorch has version {}\".format(torch.__version__))\n",
                "print('Using device:', device)"
            ]
        },
        {
            "cell_type": "code",
            "execution_count": null,
            "metadata": {},
            "outputs": [],
            "source": [
                "args = {\n",
                "    'processor':         'GENConv',\n",
                "    'head':              'classification',\n",
                "    'num_layers':        2,\n",
                "    'num_mlp_layers':    2,\n",
                "    'aggr':              'max',\n",
                "    'batch_size':        32,\n",
                "    'node_feature_dim':  4,\n",
                "    'edge_feature_dim':  1,\n",
                "    'graph_feature_dim': 2,\n",
                "    'hidden_dim':        64,\n",
                "    'output_dim':        1,\n",
                "    'dropout':           0.35,\n",
                "    'epochs':            25,\n",
                "    'opt':               'adam',\n",
                "    'opt_scheduler':     'none',\n",
                "    'opt_restart':       0,\n",
                "    'weight_decay':      5e-3,\n",
                "    'lr':                0.0001,\n",
                "    'device':            device\n",
                "}\n",
                "\n",
                "train_num = 100; test_num = 30\n",
                "\n",
                "er_config = {\n",
                "    'graph_type': 'ER',\n",
                "    'p': 1,\n",
                "    'weighted': True\n",
                "}\n",
                "ba_config = {\n",
                "    'graph_type': 'BA',\n",
                "    'ba_param': 2,\n",
                "    'weighted': True\n",
                "}\n",
                "geom_config = {\n",
                "    'graph_type': 'GEOM',\n",
                "    'threshold': 0.2,\n",
                "    'scaling': 1 / np.sqrt(2)\n",
                "}\n",
                "\n",
                "rng = np.random.default_rng()\n",
                "\n",
                "\n",
                "train_instances = [\n",
                "        *ig.sample_instances(9, 7, train_num, rng, **er_config),\n",
                "        *ig.sample_instances(9, 7, train_num, rng, **ba_config),\n",
                "        *ig.sample_instances(9, 7, train_num, rng, **geom_config),\n",
                "    ]\n",
                "\n",
                "test_instances = [\n",
                "        *ig.sample_instances(9, 7, test_num, rng, **er_config),\n",
                "        *ig.sample_instances(9, 7, test_num, rng, **ba_config),\n",
                "        *ig.sample_instances(9, 7, test_num, rng, **geom_config),\n",
                "    ]\n",
                "\n",
                "\n",
                "train_data = Dataset(tc._instances_to_train_samples(train_instances, args['head']))\n",
                "test_data = Dataset(tc._instances_to_train_samples(test_instances, args['head']))\n",
                "\n",
                "train_loader = DataLoader(\n",
                "    train_data,\n",
                "    batch_size=args['batch_size'],\n",
                "    shuffle=True,\n",
                "    num_workers=4\n",
                ")\n",
                "\n",
                "test_loader = DataLoader(\n",
                "    test_data,\n",
                "    batch_size=args['batch_size'],\n",
                "    shuffle=True,\n",
                "    num_workers=4\n",
                ")"
            ]
        },
        {
            "cell_type": "code",
            "execution_count": null,
            "metadata": {},
            "outputs": [],
            "source": [
                "_, _, _, GNN, _ = train(train_loader, test_loader, args)"
            ]
        },
        {
            "cell_type": "code",
            "execution_count": null,
            "metadata": {},
            "outputs": [],
            "source": [
                "# save(GNN, args, 'GNN3')"
            ]
        },
        {
            "cell_type": "code",
            "execution_count": 3,
            "metadata": {},
            "outputs": [],
            "source": [
                "GNN, args = load('GNN1', device)"
            ]
        },
        {
            "cell_type": "code",
            "execution_count": null,
            "metadata": {},
            "outputs": [],
            "source": [
                "from gnn_library.OBM_greedy import OBM_Greedy\n",
                "from gnn_library.OBM_threshold_greedy import OBM_Threshold_Greedy\n",
                "\n",
                "thresholds = np.linspace(0, 1, 101)\n",
                "thresholded_greedy_models = [(threshold, OBM_Threshold_Greedy(threshold)) for threshold in thresholds]\n",
                "\n",
                "seed = np.random.randint(0, 500000)\n",
                "(m, n) = (8, 16)\n",
                "config = er_config\n",
                "\n",
                "rng = np.random.default_rng(seed)\n",
                "eval_instances = ig.sample_instances(m, n, 10, rng, **config)\n",
                "\n",
                "ratios2 = evaluate_model(\n",
                "    meta_model=None,\n",
                "    meta_model_type=None,\n",
                "    base_models=[GNN],\n",
                "    instances=eval_instances,\n",
                "    batch_size=50,\n",
                "    rng=rng,\n",
                "    num_realizations=5\n",
                ")\n",
                "\n",
                "greedy_ratios = {}\n",
                "for threshold, model in thresholded_greedy_models: \n",
                "    ratio = evaluate_model(\n",
                "        meta_model=None,\n",
                "        meta_model_type=None,\n",
                "        base_models=[model],\n",
                "        instances=eval_instances,\n",
                "        batch_size=50,\n",
                "        rng=rng,\n",
                "        num_realizations=5\n",
                "    )\n",
                "    greedy_ratios[threshold] = np.mean(ratio[0])\n",
                "pp_output(ratios2, _, show_log=False)\n",
                "print(greedy_ratios)"
            ]
        },
        {
            "cell_type": "code",
            "execution_count": null,
            "metadata": {},
            "outputs": [],
            "source": [
                "max_threshold = max(greedy_ratios, key = greedy_ratios.get)\n",
                "print(max_threshold, greedy_ratios[max_threshold])"
            ]
        },
        {
            "cell_type": "markdown",
            "metadata": {},
            "source": [
                "# Pivot to feature-generated graphs"
            ]
        },
        {
            "cell_type": "code",
            "execution_count": null,
            "metadata": {},
            "outputs": [],
            "source": [
                "# import pickle\n",
                "# def get_location_info(city):\n",
                "# \tintersections = ox.graph_from_place(city, network_type=\"drive\").nodes\n",
                "# \twith open(f\"data/OSMNX_{city}_travel_times.pickle\", \"rb\") as handle:\n",
                "# \t\tdrive_times = pickle.load(handle)\n",
                "\n",
                "# \treturn {\n",
                "# \t\t'intersections': intersections, \n",
                "# \t\t'drive_times': drive_times,\n",
                "# \t\t'city': city\n",
                "# \t}"
            ]
        },
        {
            "cell_type": "code",
            "execution_count": null,
            "metadata": {},
            "outputs": [],
            "source": [
                "# locations = [\n",
                "#     \"Piedmont, California, USA\",\n",
                "#     \"Carmel, Indiana, USA\",\n",
                "#     \"Geneva, Switzerland\",\n",
                "#     \"Founex, Switzerland\"\n",
                "# ]\n",
                "\n",
                "# for location in locations:\n",
                "    "
            ]
        },
        {
            "cell_type": "code",
            "execution_count": null,
            "metadata": {},
            "outputs": [],
            "source": [
                "# piedmont = get_location_info(\"Piedmont, California, USA\")\n",
                "# founex = get_location_info(\"Founex, Switzerland\")\n",
                "# carmel = get_location_info(\"Carmel, Indiana, USA\")\n",
                "# geneva = get_location_info(\"Geneva, Switzerland\")"
            ]
        },
        {
            "cell_type": "code",
            "execution_count": 6,
            "metadata": {},
            "outputs": [],
            "source": [
                "#TODO PUT BACK TO REGRESSION\n",
                "#!!!!!!!!!!!!!!!!!!!!!!!!!!!\n",
                "args = {\n",
                "    'processor':         'TEST2',\n",
                "    'head':              'regression',\n",
                "    'num_layers':        4,\n",
                "    'num_mlp_layers':    2,\n",
                "    'aggr':              'max',\n",
                "    'batch_size':        32,\n",
                "    'node_feature_dim':  NODE_FEATURE_DIM,\n",
                "    'edge_feature_dim':  1,\n",
                "    'graph_feature_dim': 2,\n",
                "    'hidden_dim':        64,\n",
                "    'output_dim':        1,\n",
                "    'dropout':           0,\n",
                "    'epochs':            50,\n",
                "    'opt':               'adam',\n",
                "    'opt_scheduler':     'none',\n",
                "    'opt_restart':       0,\n",
                "    'weight_decay':      5e-3,\n",
                "    'lr':                0.0001,\n",
                "    'device':            device\n",
                "}\n",
                "\n",
                "train_num = 100; test_num = 30\n",
                "\n",
                "er_config = {\n",
                "    'graph_type': 'ER',\n",
                "    'p': 0.75,\n",
                "    'weighted': True\n",
                "}\n",
                "ba_config = {\n",
                "    'graph_type': 'BA',\n",
                "    'ba_param': 4,\n",
                "    'weighted': True\n",
                "}\n",
                "feat_config = {\n",
                "    'graph_type': 'FEAT',\n",
                "    'q': 0.85,\n",
                "    'weighted': True\n",
                "}\n",
                "osmnx_config = {\n",
                "    'graph_type': 'OSMNX',\n",
                "    'location': \"Piedmont, California, USA\"\n",
                "}\n",
                "# osmnx_config_2 = {\n",
                "#     'graph_type': 'OSMNX',\n",
                "#     'location_graph': san_francisco['location_graph']\n",
                "# }\n",
                "\n",
                "# ox.plot_graph(piedmont['location_graph'])\n",
                "# ox.plot_graph(san_francisco['location_graph'])\n",
                "\n",
                "# part_config = {\n",
                "# \t'graph_type': 'PART',\n",
                "#     'p': 0.5,\n",
                "#     'size': 4,\n",
                "#     'eps': 0.1\n",
                "# },\n",
                "# part_config = {\n",
                "# \t'graph_type': 'PART',\n",
                "#     'p': 0.5,\n",
                "#     'size': 3,\n",
                "#     'eps': 0.3\n",
                "# }\n",
                "\n",
                "rng = np.random.default_rng()\n",
                "\n",
                "\n",
                "train_instances = [\n",
                "        *ig.sample_instances(10, 6, train_num, rng, **er_config),\n",
                "        *ig.sample_instances(10, 6, train_num, rng, **ba_config),\n",
                "        *ig.sample_instances(10, 6, train_num, rng, **feat_config),\n",
                "        *ig.sample_instances(10, 6, train_num, rng, **osmnx_config),\n",
                "        # *ig.sample_instances(8, 8, train_num, rng, **osmnx_config_2),\n",
                "        # *ig.sample_instances(8, 8, train_num, rng, **feat_config),\n",
                "        # *ig.sample_instances(8, 8, train_num, rng, **part_config),\n",
                "    ]\n",
                "\n",
                "test_instances = [\n",
                "        *ig.sample_instances(10, 6, test_num, rng, **er_config),\n",
                "        *ig.sample_instances(10, 6, test_num, rng, **ba_config),\n",
                "        *ig.sample_instances(10, 6, train_num, rng, **feat_config),\n",
                "        *ig.sample_instances(10, 6, train_num, rng, **osmnx_config),\n",
                "        # *ig.sample_instances(8, 8, train_num, rng, **osmnx_config_2),\n",
                "        # *ig.sample_instances(8, 8, train_num, rng, **feat_config),\n",
                "        # *ig.sample_instances(8, 8, train_num, rng, **part_config),\n",
                "    ]\n",
                "\n",
                "\n",
                "train_data = Dataset(tc._instances_to_train_samples(train_instances, args['head']))\n",
                "test_data = Dataset(tc._instances_to_train_samples(test_instances, args['head']))\n",
                "\n",
                "train_loader = DataLoader(\n",
                "    train_data,\n",
                "    batch_size=args['batch_size'],\n",
                "    shuffle=True,\n",
                "    num_workers=4\n",
                ")\n",
                "\n",
                "test_loader = DataLoader(\n",
                "    test_data,\n",
                "    batch_size=args['batch_size'],\n",
                "    shuffle=True,\n",
                "    num_workers=4\n",
                ")"
            ]
        },
        {
            "cell_type": "code",
            "execution_count": 7,
            "metadata": {},
            "outputs": [
                {
                    "name": "stderr",
                    "output_type": "stream",
                    "text": [
                        "Training:   0%|          | 0/50 [00:00<?, ?Epochs/s]"
                    ]
                },
                {
                    "name": "stdout",
                    "output_type": "stream",
                    "text": [
                        "TRAINING LOSS: 0.10309388669926876\n"
                    ]
                },
                {
                    "name": "stderr",
                    "output_type": "stream",
                    "text": [
                        "Training:   2%|▏         | 1/50 [00:05<04:35,  5.63s/Epochs]"
                    ]
                },
                {
                    "name": "stdout",
                    "output_type": "stream",
                    "text": [
                        "TEST LOSS: 0.06592486053705215\n",
                        "TEST ACCURACY: 0.6056860089302063\n"
                    ]
                },
                {
                    "name": "stderr",
                    "output_type": "stream",
                    "text": [
                        "Training:   4%|▍         | 2/50 [00:09<03:43,  4.66s/Epochs]"
                    ]
                },
                {
                    "name": "stdout",
                    "output_type": "stream",
                    "text": [
                        "TRAINING LOSS: 0.05057746350008485\n"
                    ]
                },
                {
                    "name": "stderr",
                    "output_type": "stream",
                    "text": [
                        "Training:   6%|▌         | 3/50 [00:13<03:27,  4.42s/Epochs]"
                    ]
                },
                {
                    "name": "stdout",
                    "output_type": "stream",
                    "text": [
                        "TRAINING LOSS: 0.028487674736148657\n"
                    ]
                },
                {
                    "name": "stderr",
                    "output_type": "stream",
                    "text": [
                        "Training:   8%|▊         | 4/50 [00:17<03:18,  4.32s/Epochs]"
                    ]
                },
                {
                    "name": "stdout",
                    "output_type": "stream",
                    "text": [
                        "TRAINING LOSS: 0.022587386800826174\n",
                        "TRAINING LOSS: 0.020149952173511246\n"
                    ]
                },
                {
                    "name": "stderr",
                    "output_type": "stream",
                    "text": [
                        "Training:  10%|█         | 5/50 [00:23<03:35,  4.79s/Epochs]"
                    ]
                },
                {
                    "name": "stdout",
                    "output_type": "stream",
                    "text": [
                        "TEST LOSS: 0.013196410611271858\n",
                        "TEST ACCURACY: 0.8479604125022888\n"
                    ]
                },
                {
                    "name": "stderr",
                    "output_type": "stream",
                    "text": [
                        "Training:  12%|█▏        | 6/50 [00:26<03:08,  4.29s/Epochs]"
                    ]
                },
                {
                    "name": "stdout",
                    "output_type": "stream",
                    "text": [
                        "TRAINING LOSS: 0.018624515199645676\n"
                    ]
                },
                {
                    "name": "stderr",
                    "output_type": "stream",
                    "text": [
                        "Training:  14%|█▍        | 7/50 [00:30<02:56,  4.11s/Epochs]"
                    ]
                },
                {
                    "name": "stdout",
                    "output_type": "stream",
                    "text": [
                        "TRAINING LOSS: 0.016540161931443517\n"
                    ]
                },
                {
                    "name": "stderr",
                    "output_type": "stream",
                    "text": [
                        "Training:  16%|█▌        | 8/50 [00:34<02:45,  3.94s/Epochs]"
                    ]
                },
                {
                    "name": "stdout",
                    "output_type": "stream",
                    "text": [
                        "TRAINING LOSS: 0.01726100658351045\n",
                        "TRAINING LOSS: 0.014564656223364513\n"
                    ]
                },
                {
                    "name": "stderr",
                    "output_type": "stream",
                    "text": [
                        "Training:  18%|█▊        | 9/50 [00:39<02:54,  4.27s/Epochs]"
                    ]
                },
                {
                    "name": "stdout",
                    "output_type": "stream",
                    "text": [
                        "TEST LOSS: 0.010151214897632599\n",
                        "TEST ACCURACY: 0.8510506749153137\n"
                    ]
                },
                {
                    "name": "stderr",
                    "output_type": "stream",
                    "text": [
                        "Training:  20%|██        | 10/50 [00:42<02:38,  3.96s/Epochs]"
                    ]
                },
                {
                    "name": "stdout",
                    "output_type": "stream",
                    "text": [
                        "TRAINING LOSS: 0.017506889961353873\n"
                    ]
                },
                {
                    "name": "stderr",
                    "output_type": "stream",
                    "text": [
                        "Training:  22%|██▏       | 11/50 [00:45<02:23,  3.68s/Epochs]"
                    ]
                },
                {
                    "name": "stdout",
                    "output_type": "stream",
                    "text": [
                        "TRAINING LOSS: 0.015294806846738129\n"
                    ]
                },
                {
                    "name": "stderr",
                    "output_type": "stream",
                    "text": [
                        "Training:  24%|██▍       | 12/50 [00:48<02:13,  3.53s/Epochs]"
                    ]
                },
                {
                    "name": "stdout",
                    "output_type": "stream",
                    "text": [
                        "TRAINING LOSS: 0.013499853775723155\n",
                        "TRAINING LOSS: 0.013053861256101801\n"
                    ]
                },
                {
                    "name": "stderr",
                    "output_type": "stream",
                    "text": [
                        "Training:  26%|██▌       | 13/50 [00:53<02:25,  3.95s/Epochs]"
                    ]
                },
                {
                    "name": "stdout",
                    "output_type": "stream",
                    "text": [
                        "TEST LOSS: 0.009761665016412735\n",
                        "TEST ACCURACY: 0.8590852618217468\n"
                    ]
                },
                {
                    "name": "stderr",
                    "output_type": "stream",
                    "text": [
                        "Training:  28%|██▊       | 14/50 [00:56<02:14,  3.75s/Epochs]"
                    ]
                },
                {
                    "name": "stdout",
                    "output_type": "stream",
                    "text": [
                        "TRAINING LOSS: 0.013840268267968237\n"
                    ]
                },
                {
                    "name": "stderr",
                    "output_type": "stream",
                    "text": [
                        "Training:  30%|███       | 15/50 [01:00<02:05,  3.57s/Epochs]"
                    ]
                },
                {
                    "name": "stdout",
                    "output_type": "stream",
                    "text": [
                        "TRAINING LOSS: 0.01263889324064683\n"
                    ]
                },
                {
                    "name": "stderr",
                    "output_type": "stream",
                    "text": [
                        "Training:  32%|███▏      | 16/50 [01:03<02:00,  3.54s/Epochs]"
                    ]
                },
                {
                    "name": "stdout",
                    "output_type": "stream",
                    "text": [
                        "TRAINING LOSS: 0.012919600605074374\n",
                        "TRAINING LOSS: 0.013433635540868561\n"
                    ]
                },
                {
                    "name": "stderr",
                    "output_type": "stream",
                    "text": [
                        "Training:  34%|███▍      | 17/50 [01:08<02:13,  4.03s/Epochs]"
                    ]
                },
                {
                    "name": "stdout",
                    "output_type": "stream",
                    "text": [
                        "TEST LOSS: 0.008530928753316402\n",
                        "TEST ACCURACY: 0.8479604125022888\n"
                    ]
                },
                {
                    "name": "stderr",
                    "output_type": "stream",
                    "text": [
                        "Training:  36%|███▌      | 18/50 [01:12<02:08,  4.01s/Epochs]"
                    ]
                },
                {
                    "name": "stdout",
                    "output_type": "stream",
                    "text": [
                        "TRAINING LOSS: 0.01333756443138128\n"
                    ]
                },
                {
                    "name": "stderr",
                    "output_type": "stream",
                    "text": [
                        "Training:  38%|███▊      | 19/50 [01:16<02:01,  3.92s/Epochs]"
                    ]
                },
                {
                    "name": "stdout",
                    "output_type": "stream",
                    "text": [
                        "TRAINING LOSS: 0.012366460712767076\n"
                    ]
                },
                {
                    "name": "stderr",
                    "output_type": "stream",
                    "text": [
                        "Training:  40%|████      | 20/50 [01:20<01:55,  3.86s/Epochs]"
                    ]
                },
                {
                    "name": "stdout",
                    "output_type": "stream",
                    "text": [
                        "TRAINING LOSS: 0.015821599272163926\n",
                        "TRAINING LOSS: 0.011518976221290918\n"
                    ]
                },
                {
                    "name": "stderr",
                    "output_type": "stream",
                    "text": [
                        "Training:  42%|████▏     | 21/50 [01:24<02:01,  4.19s/Epochs]"
                    ]
                },
                {
                    "name": "stdout",
                    "output_type": "stream",
                    "text": [
                        "TEST LOSS: 0.008038012310862541\n",
                        "TEST ACCURACY: 0.8584672212600708\n"
                    ]
                },
                {
                    "name": "stderr",
                    "output_type": "stream",
                    "text": [
                        "Training:  44%|████▍     | 22/50 [01:28<01:50,  3.94s/Epochs]"
                    ]
                },
                {
                    "name": "stdout",
                    "output_type": "stream",
                    "text": [
                        "TRAINING LOSS: 0.012282203768169239\n"
                    ]
                },
                {
                    "name": "stderr",
                    "output_type": "stream",
                    "text": [
                        "Training:  46%|████▌     | 23/50 [01:32<01:44,  3.86s/Epochs]"
                    ]
                },
                {
                    "name": "stdout",
                    "output_type": "stream",
                    "text": [
                        "TRAINING LOSS: 0.011703023081888806\n"
                    ]
                },
                {
                    "name": "stderr",
                    "output_type": "stream",
                    "text": [
                        "Training:  48%|████▊     | 24/50 [01:36<01:44,  4.02s/Epochs]"
                    ]
                },
                {
                    "name": "stdout",
                    "output_type": "stream",
                    "text": [
                        "TRAINING LOSS: 0.012514807249797068\n",
                        "TRAINING LOSS: 0.012572379937204876\n"
                    ]
                },
                {
                    "name": "stderr",
                    "output_type": "stream",
                    "text": [
                        "Training:  50%|█████     | 25/50 [01:41<01:49,  4.36s/Epochs]"
                    ]
                },
                {
                    "name": "stdout",
                    "output_type": "stream",
                    "text": [
                        "TEST LOSS: 0.00881124660372734\n",
                        "TEST ACCURACY: 0.8491965532302856\n"
                    ]
                },
                {
                    "name": "stderr",
                    "output_type": "stream",
                    "text": [
                        "Training:  52%|█████▏    | 26/50 [01:45<01:40,  4.20s/Epochs]"
                    ]
                },
                {
                    "name": "stdout",
                    "output_type": "stream",
                    "text": [
                        "TRAINING LOSS: 0.011271505709111557\n"
                    ]
                },
                {
                    "name": "stderr",
                    "output_type": "stream",
                    "text": [
                        "Training:  54%|█████▍    | 27/50 [01:48<01:30,  3.94s/Epochs]"
                    ]
                },
                {
                    "name": "stdout",
                    "output_type": "stream",
                    "text": [
                        "TRAINING LOSS: 0.012723899165431317\n"
                    ]
                },
                {
                    "name": "stderr",
                    "output_type": "stream",
                    "text": [
                        "Training:  56%|█████▌    | 28/50 [01:52<01:23,  3.80s/Epochs]"
                    ]
                },
                {
                    "name": "stdout",
                    "output_type": "stream",
                    "text": [
                        "TRAINING LOSS: 0.013258754364420021\n",
                        "TRAINING LOSS: 0.012035265648382826\n"
                    ]
                },
                {
                    "name": "stderr",
                    "output_type": "stream",
                    "text": [
                        "Training:  58%|█████▊    | 29/50 [01:57<01:30,  4.30s/Epochs]"
                    ]
                },
                {
                    "name": "stdout",
                    "output_type": "stream",
                    "text": [
                        "TEST LOSS: 0.007906962186098099\n",
                        "TEST ACCURACY: 0.8584672212600708\n"
                    ]
                },
                {
                    "name": "stderr",
                    "output_type": "stream",
                    "text": [
                        "Training:  60%|██████    | 30/50 [02:00<01:19,  3.96s/Epochs]"
                    ]
                },
                {
                    "name": "stdout",
                    "output_type": "stream",
                    "text": [
                        "TRAINING LOSS: 0.012458163497884653\n"
                    ]
                },
                {
                    "name": "stderr",
                    "output_type": "stream",
                    "text": [
                        "Training:  62%|██████▏   | 31/50 [02:03<01:10,  3.70s/Epochs]"
                    ]
                },
                {
                    "name": "stdout",
                    "output_type": "stream",
                    "text": [
                        "TRAINING LOSS: 0.011459998305834123\n"
                    ]
                },
                {
                    "name": "stderr",
                    "output_type": "stream",
                    "text": [
                        "Training:  64%|██████▍   | 32/50 [02:08<01:09,  3.86s/Epochs]"
                    ]
                },
                {
                    "name": "stdout",
                    "output_type": "stream",
                    "text": [
                        "TRAINING LOSS: 0.012240188560066739\n",
                        "TRAINING LOSS: 0.011590002693063381\n"
                    ]
                },
                {
                    "name": "stderr",
                    "output_type": "stream",
                    "text": [
                        "Training:  66%|██████▌   | 33/50 [02:14<01:16,  4.52s/Epochs]"
                    ]
                },
                {
                    "name": "stdout",
                    "output_type": "stream",
                    "text": [
                        "TEST LOSS: 0.008894450962543488\n",
                        "TEST ACCURACY: 0.8578491806983948\n"
                    ]
                },
                {
                    "name": "stderr",
                    "output_type": "stream",
                    "text": [
                        "Training:  68%|██████▊   | 34/50 [02:18<01:10,  4.42s/Epochs]"
                    ]
                },
                {
                    "name": "stdout",
                    "output_type": "stream",
                    "text": [
                        "TRAINING LOSS: 0.010805388654514735\n"
                    ]
                },
                {
                    "name": "stderr",
                    "output_type": "stream",
                    "text": [
                        "Training:  70%|███████   | 35/50 [02:22<01:03,  4.27s/Epochs]"
                    ]
                },
                {
                    "name": "stdout",
                    "output_type": "stream",
                    "text": [
                        "TRAINING LOSS: 0.011851995351534445\n"
                    ]
                },
                {
                    "name": "stderr",
                    "output_type": "stream",
                    "text": [
                        "Training:  72%|███████▏  | 36/50 [02:26<00:58,  4.21s/Epochs]"
                    ]
                },
                {
                    "name": "stdout",
                    "output_type": "stream",
                    "text": [
                        "TRAINING LOSS: 0.01274316786990805\n",
                        "TRAINING LOSS: 0.012365074641863476\n"
                    ]
                },
                {
                    "name": "stderr",
                    "output_type": "stream",
                    "text": [
                        "Training:  74%|███████▍  | 37/50 [02:31<00:58,  4.52s/Epochs]"
                    ]
                },
                {
                    "name": "stdout",
                    "output_type": "stream",
                    "text": [
                        "TEST LOSS: 0.007925642654299736\n",
                        "TEST ACCURACY: 0.8609394431114197\n"
                    ]
                },
                {
                    "name": "stderr",
                    "output_type": "stream",
                    "text": [
                        "Training:  76%|███████▌  | 38/50 [02:35<00:53,  4.43s/Epochs]"
                    ]
                },
                {
                    "name": "stdout",
                    "output_type": "stream",
                    "text": [
                        "TRAINING LOSS: 0.011915808222225302\n"
                    ]
                },
                {
                    "name": "stderr",
                    "output_type": "stream",
                    "text": [
                        "Training:  78%|███████▊  | 39/50 [02:38<00:44,  4.02s/Epochs]"
                    ]
                },
                {
                    "name": "stdout",
                    "output_type": "stream",
                    "text": [
                        "TRAINING LOSS: 0.010791536843469554\n"
                    ]
                },
                {
                    "name": "stderr",
                    "output_type": "stream",
                    "text": [
                        "Training:  80%|████████  | 40/50 [02:42<00:38,  3.86s/Epochs]"
                    ]
                },
                {
                    "name": "stdout",
                    "output_type": "stream",
                    "text": [
                        "TRAINING LOSS: 0.011828932269873506\n",
                        "TRAINING LOSS: 0.011307783016574703\n"
                    ]
                },
                {
                    "name": "stderr",
                    "output_type": "stream",
                    "text": [
                        "Training:  82%|████████▏ | 41/50 [02:48<00:40,  4.45s/Epochs]"
                    ]
                },
                {
                    "name": "stdout",
                    "output_type": "stream",
                    "text": [
                        "TEST LOSS: 0.008945396170020103\n",
                        "TEST ACCURACY: 0.8541408777236938\n"
                    ]
                },
                {
                    "name": "stderr",
                    "output_type": "stream",
                    "text": [
                        "Training:  84%|████████▍ | 42/50 [02:51<00:33,  4.17s/Epochs]"
                    ]
                },
                {
                    "name": "stdout",
                    "output_type": "stream",
                    "text": [
                        "TRAINING LOSS: 0.013098477225269373\n"
                    ]
                },
                {
                    "name": "stderr",
                    "output_type": "stream",
                    "text": [
                        "Training:  86%|████████▌ | 43/50 [02:55<00:28,  4.14s/Epochs]"
                    ]
                },
                {
                    "name": "stdout",
                    "output_type": "stream",
                    "text": [
                        "TRAINING LOSS: 0.010588338669553632\n"
                    ]
                },
                {
                    "name": "stderr",
                    "output_type": "stream",
                    "text": [
                        "Training:  88%|████████▊ | 44/50 [02:59<00:24,  4.14s/Epochs]"
                    ]
                },
                {
                    "name": "stdout",
                    "output_type": "stream",
                    "text": [
                        "TRAINING LOSS: 0.011013732189514283\n",
                        "TRAINING LOSS: 0.011615366281286338\n"
                    ]
                },
                {
                    "name": "stderr",
                    "output_type": "stream",
                    "text": [
                        "Training:  90%|█████████ | 45/50 [03:05<00:22,  4.46s/Epochs]"
                    ]
                },
                {
                    "name": "stdout",
                    "output_type": "stream",
                    "text": [
                        "TEST LOSS: 0.007850009948015213\n",
                        "TEST ACCURACY: 0.8597033023834229\n"
                    ]
                },
                {
                    "name": "stderr",
                    "output_type": "stream",
                    "text": [
                        "Training:  92%|█████████▏| 46/50 [03:09<00:17,  4.41s/Epochs]"
                    ]
                },
                {
                    "name": "stdout",
                    "output_type": "stream",
                    "text": [
                        "TRAINING LOSS: 0.01039976666488805\n"
                    ]
                },
                {
                    "name": "stderr",
                    "output_type": "stream",
                    "text": [
                        "Training:  94%|█████████▍| 47/50 [03:13<00:12,  4.18s/Epochs]"
                    ]
                },
                {
                    "name": "stdout",
                    "output_type": "stream",
                    "text": [
                        "TRAINING LOSS: 0.012764011920082695\n"
                    ]
                },
                {
                    "name": "stderr",
                    "output_type": "stream",
                    "text": [
                        "Training:  96%|█████████▌| 48/50 [03:16<00:07,  3.88s/Epochs]"
                    ]
                },
                {
                    "name": "stdout",
                    "output_type": "stream",
                    "text": [
                        "TRAINING LOSS: 0.011924972574075626\n",
                        "TRAINING LOSS: 0.010807163371406133\n"
                    ]
                },
                {
                    "name": "stderr",
                    "output_type": "stream",
                    "text": [
                        "Training:  98%|█████████▊| 49/50 [03:20<00:04,  4.11s/Epochs]"
                    ]
                },
                {
                    "name": "stdout",
                    "output_type": "stream",
                    "text": [
                        "TEST LOSS: 0.00746019696816802\n",
                        "TEST ACCURACY: 0.8578491806983948\n"
                    ]
                },
                {
                    "name": "stderr",
                    "output_type": "stream",
                    "text": [
                        "Training: 100%|██████████| 50/50 [03:24<00:00,  4.08s/Epochs]"
                    ]
                },
                {
                    "name": "stdout",
                    "output_type": "stream",
                    "text": [
                        "TRAINING LOSS: 0.010368226084209939\n"
                    ]
                },
                {
                    "name": "stderr",
                    "output_type": "stream",
                    "text": [
                        "\n"
                    ]
                }
            ],
            "source": [
                "_, _, _, GNN, _ = train(train_loader, test_loader, args)"
            ]
        },
        {
            "cell_type": "markdown",
            "metadata": {},
            "source": [
                "## Set up the threshold greedy value\n",
                "The instance set used to determine the threshold should be the same as the training set for the base models. Here we reduce the number of instances to make the evaluation faster.\n",
                "\n",
                "For the moment, the instance set is the evaluation set since they are too different and would disadvantage threshold greedy."
            ]
        },
        {
            "cell_type": "code",
            "execution_count": null,
            "metadata": {},
            "outputs": [],
            "source": [
                "from gnn_library.OBM_threshold_greedy import OBM_Threshold_Greedy\n",
                "from tqdm import tqdm\n",
                "seed = np.random.randint(0, 500000)\n",
                "rng = np.random.default_rng(seed)\n",
                "\n",
                "\n",
                "thresholds = np.linspace(0, 1, 101)\n",
                "thresholds = np.linspace(0, 1, 2) # TODO remove\n",
                "#TODO max value in threshold should be max value observable in graphs (is not the case for osmnx graphs for the moment)\n",
                "thresholded_greedy_models = {threshold: OBM_Threshold_Greedy(threshold) for threshold in thresholds}\n",
                "\n",
                "osmnx_config1 = {\n",
                "    'graph_type': 'OSMNX',\n",
                "    'location': piedmont['location_graph']\n",
                "}\n",
                "osmnx_config2 = {\n",
                "    'graph_type': 'OSMNX',\n",
                "    'location_graph': geneva['location_graph']\n",
                "}\n",
                "osmnx_config3 = {\n",
                "    'graph_type': 'OSMNX',\n",
                "    'location_graph': carmel['location_graph']\n",
                "}\n",
                "\n",
                "train_num = 10\n",
                "train_instances = [\n",
                "        *ig.sample_instances(9, 7, train_num, rng, **osmnx_config1),\n",
                "        *ig.sample_instances(9, 7, train_num, rng, **osmnx_config2),\n",
                "        *ig.sample_instances(9, 7, train_num, rng, **osmnx_config3),\n",
                "]\n",
                "\n",
                "# train_instances = [\n",
                "#         *ig.sample_instances(8, 8, train_num, rng, **er_config),\n",
                "#         *ig.sample_instances(8, 8, train_num, rng, **ba_config),\n",
                "#         *ig.sample_instances(8, 8, train_num, rng, **feat_config),\n",
                "#         *ig.sample_instances(8, 8, train_num, rng, **osmnx_config),\n",
                "# ]\n",
                "\n",
                "\n",
                "greedy_ratios = {}\n",
                "for threshold, model in tqdm(thresholded_greedy_models.items()): \n",
                "    rng = np.random.default_rng(seed)\n",
                "    ratio = ev.evaluate_model(\n",
                "        meta_model=None,\n",
                "        meta_model_type=None,\n",
                "        base_models=[model],\n",
                "        instances=train_instances,\n",
                "        batch_size=50,\n",
                "        rng=rng,\n",
                "        num_realizations=5\n",
                "    )\n",
                "    greedy_ratios[threshold] = np.mean(ratio[0])\n",
                "    \n",
                "\n",
                "max_threshold = max(greedy_ratios, key = greedy_ratios.get)\n",
                "print(f\"Best threshold value: {max_threshold} achieves CR: {greedy_ratios[max_threshold]}\")\n",
                "THRESHOLD_MODEL = thresholded_greedy_models[max_threshold]"
            ]
        },
        {
            "cell_type": "code",
            "execution_count": null,
            "metadata": {},
            "outputs": [],
            "source": [
                "print(greedy_ratios)"
            ]
        },
        {
            "cell_type": "markdown",
            "metadata": {},
            "source": [
                "## Evaluation"
            ]
        },
        {
            "cell_type": "code",
            "execution_count": 18,
            "metadata": {},
            "outputs": [
                {
                    "name": "stdout",
                    "output_type": "stream",
                    "text": [
                        "-- Competitive ratios --\n",
                        "learned: 0.925\n",
                        "greedy: 0.8465\n",
                        "lp_rounding: 0.9064\n"
                    ]
                }
            ],
            "source": [
                "seed = np.random.randint(0, 500000)\n",
                "(m, n) = (48, 16)\n",
                "# config = {\n",
                "#     'graph_type': 'FEAT',\n",
                "#     'q': 0.85,\n",
                "#     'weighted': True\n",
                "# }\n",
                "# config = {\n",
                "#     'graph_type': 'OSMNX',\n",
                "#     'location_graph': piedmont['location_graph']\n",
                "# }\n",
                "# config = {\n",
                "# \t'graph_type': 'PART',\n",
                "#     'p': 0.5,\n",
                "#     'size': 4,\n",
                "#     'eps': 0.1\n",
                "# }\n",
                "\n",
                "osmnx_config = {\n",
                "    'graph_type': 'OSMNX',\n",
                "    'location': \"Piedmont, California, USA\",\n",
                "    'noise': 1\n",
                "}\n",
                "\n",
                "gm_config = {\n",
                "    'graph_type': 'GM',\n",
                "    'noise': 0\n",
                "}\n",
                "\n",
                "rng = np.random.default_rng(seed)\n",
                "# eval_instances = ig.sample_instances(m, n, 100, rng, **config)\n",
                "eval_num = 50\n",
                "eval_instances = [\n",
                "        # *ig.sample_instances(m, n, eval_num, rng, **er_config),\n",
                "        # *ig.sample_instances(m, n, eval_num, rng, **ba_config),\n",
                "        # *ig.sample_instances(m, n, eval_num, rng, **feat_config),\n",
                "        # *ig.sample_instances(m, n, eval_num, rng, **osmnx_config),\n",
                "        *ig.sample_instances(m, n, eval_num, rng, **gm_config),\n",
                "]\n",
                "\n",
                "ratios, _ = ev.evaluate_model(\n",
                "    meta_model=None,\n",
                "    meta_model_type=None,\n",
                "    base_models=[GNN],\n",
                "    instances=eval_instances,\n",
                "    batch_size=500,\n",
                "    rng=rng,\n",
                "    num_realizations=5,\n",
                "    baselines=['greedy', 'lp_rounding']\n",
                ")\n",
                "\n",
                "\n",
                "# ratios2 = ev.evaluate_model(\n",
                "#     meta_model=None,\n",
                "#     meta_model_type=None,\n",
                "#     base_models=[THRESHOLD_MODEL],\n",
                "#     instances=eval_instances,\n",
                "#     batch_size=50,\n",
                "#     rng=rng,\n",
                "#     num_realizations=5\n",
                "# )\n",
                "\n",
                "pp_output(ratios)\n",
                "#print(f\"Thresholded greedy: {np.mean(ratios2[0]).round(4)}\")\n"
            ]
        },
        {
            "cell_type": "code",
            "execution_count": null,
            "metadata": {},
            "outputs": [],
            "source": [
                "num_trials = 10\n",
                "node_configs = [(x, 16) for x in np.arange(4, 40, 8)]\n",
                "# of nodes [20 -> 80]\n",
                "# of nodes in batch [10,000 -> 40,000]\n",
                "batch_size = 500 #[int(min(32, x + y)) for (x, y) in node_configs]\n",
                "graph_configs = [\n",
                "    # {\n",
                "    #     'graph_type': 'GM'\n",
                "    # },\n",
                "    # {\n",
                "    #     'graph_type': 'ER',\n",
                "    #     'p': 0.75,\n",
                "    #     'weighted': False\n",
                "    # },\n",
                "    # {\n",
                "    #     'graph_type': 'BA',\n",
                "    #     'ba_param': 4,\n",
                "    #     'weighted': False\n",
                "    # },\n",
                "    {\n",
                "        'graph_type': 'FEAT',\n",
                "        'q': 0.75,\n",
                "        'weighted': True\n",
                "    },\n",
                "    # {\n",
                "    #     'graph_type': 'FEAT',\n",
                "    #     'q': 0.9,\n",
                "    #     'weighted': True\n",
                "    # },\n",
                "    # {\n",
                "    #     'graph_type': 'FEAT',\n",
                "    #     'q': 0.95,\n",
                "    #     'weighted': True\n",
                "    # },\n",
                "\n",
                "    # {\n",
                "    #     'graph_type': 'PART',\n",
                "    #     'p': 0.5,\n",
                "    #     'size': 4,\n",
                "    #     'eps': 0.1\n",
                "    # },\n",
                "    # {\n",
                "    #     'graph_type': 'PART',\n",
                "    #     'p': 0.5,\n",
                "    #     'size': 3,\n",
                "    #     'eps': 0.3\n",
                "    # }\n",
                "]\n",
                "\n",
                "ratios = [x/y for (x,y) in node_configs]\n",
                "print(ratios)\n",
                "\n",
                "data = {config['q']: [] for config in graph_configs}\n",
                "for graph_config in graph_configs:\n",
                "    for i, node_config in enumerate(node_configs):\n",
                "        print(graph_config['location_info']['city'], node_config)\n",
                "        seed = np.random.randint(0, 500000)\n",
                "        rng = np.random.default_rng(seed)\n",
                "        instances = ig.sample_instances(*node_config, num_trials, rng, **graph_config)\n",
                "\n",
                "\n",
                "        rng = np.random.default_rng(seed)\n",
                "        gnn_learned_ratios, greedy_ratios, lp_match_ratios = evaluate_model(\n",
                "            meta_model=None,\n",
                "            meta_model_type=None,\n",
                "            base_models=[GNN],\n",
                "            instances=instances,\n",
                "            batch_size=batch_size,\n",
                "            rng=rng,\n",
                "            num_realizations=5\n",
                "        )\n",
                "        ratios = evaluate_model(\n",
                "            meta_model=None,\n",
                "            meta_model_type=None,\n",
                "            base_models=[GNN],\n",
                "            instances=instances,\n",
                "            batch_size=batch_size,\n",
                "            rng=rng,\n",
                "            num_realizations=5\n",
                "        )\n",
                "\n",
                "\n",
                "        data[graph_config['q']].append(np.array(\n",
                "            [\n",
                "                gnn_learned_ratios,\n",
                "                greedy_ratios,\n",
                "                lp_match_ratios\n",
                "            ]\n",
                "        ))"
            ]
        },
        {
            "cell_type": "code",
            "execution_count": 24,
            "metadata": {},
            "outputs": [
                {
                    "name": "stdout",
                    "output_type": "stream",
                    "text": [
                        "[0.25, 0.5, 0.75, 1.0, 1.25, 1.5, 1.75, 2.0, 2.25, 2.5, 2.75, 3.0, 3.25, 3.5, 3.75]\n",
                        "(4, 16) GM\n"
                    ]
                },
                {
                    "name": "stderr",
                    "output_type": "stream",
                    "text": [
                        "/home/wikum/GNN-OBM/evaluate.py:366: RuntimeWarning: Mean of empty slice\n",
                        "  name: np.nanmean(ratio_matrix, axis=1)\n"
                    ]
                },
                {
                    "name": "stdout",
                    "output_type": "stream",
                    "text": [
                        "(8, 16) GM\n",
                        "(12, 16) GM\n",
                        "(16, 16) GM\n",
                        "(20, 16) GM\n",
                        "(24, 16) GM\n",
                        "(28, 16) GM\n",
                        "(32, 16) GM\n",
                        "(36, 16) GM\n",
                        "(40, 16) GM\n",
                        "(44, 16) GM\n",
                        "(48, 16) GM\n",
                        "(52, 16) GM\n",
                        "(56, 16) GM\n",
                        "(60, 16) GM\n"
                    ]
                },
                {
                    "name": "stderr",
                    "output_type": "stream",
                    "text": [
                        "/home/wikum/GNN-OBM/algorithms.py:258: RuntimeWarning: invalid value encountered in divide\n",
                        "  proposal_probs = x / denom_matrix\n"
                    ]
                }
            ],
            "source": [
                "num_trials = 250\n",
                "node_configs = [(x, 16) for x in np.arange(4, 64, 4)]\n",
                "# of nodes [20 -> 80]\n",
                "# of nodes in batch [10,000 -> 40,000]\n",
                "batch_size = 500 \n",
                "\n",
                "\n",
                "\n",
                "graph_configs = [\n",
                "    # {\n",
                "    # 'graph_type': 'FEAT',\n",
                "    # 'q': 0.5\n",
                "    # },\n",
                "    # {\n",
                "    #     'graph_type': 'OSMNX',\n",
                "    #     'location': \"Piedmont, California, USA\"\n",
                "    # },\n",
                "    # {\n",
                "    #     'graph_type': 'OSMNX',\n",
                "    #     'location': \"Carmel, Indiana, USA\"\n",
                "    # },\n",
                "    # {\n",
                "    #     'graph_type': 'OSMNX',\n",
                "    #     'location': \"Geneva, Switzerland\"\n",
                "    # },\n",
                "    # {\n",
                "    #     'graph_type': 'OSMNX',\n",
                "    #     'location': \"Founex, Switzerland\"\n",
                "    # },\n",
                "    # {\n",
                "    # 'graph_type': 'FEAT',\n",
                "    # 'q': 0.75,\n",
                "    # 'weighted': True\n",
                "    # },\n",
                "    # {\n",
                "    # 'graph_type': 'FEAT',\n",
                "    # 'q': 0.9,\n",
                "    # 'weighted': True\n",
                "    # },\n",
                "    # {\n",
                "    # 'graph_type': 'FEAT',\n",
                "    # 'q': 0.95,\n",
                "    # 'weighted': True\n",
                "    # },\n",
                "    # {\n",
                "    # 'graph_type': 'FEAT',\n",
                "    # 'q': 0.99\n",
                "    # }\n",
                "    # {\n",
                "    #     'graph_type': 'PART',\n",
                "    #     'p': 0.5,\n",
                "    #     'size': 4,\n",
                "    #     'eps': 0.1\n",
                "    # },\n",
                "    # {\n",
                "    #     'graph_type': 'PART',\n",
                "    #     'p': 0.5,\n",
                "    #     'size': 3,\n",
                "    #     'eps': 0.3\n",
                "    # }\n",
                "    {\n",
                "        'graph_type': 'GM',\n",
                "        'noise': 0\n",
                "    }\n",
                "]\n",
                "\n",
                "ratios = [x/y for (x,y) in node_configs]\n",
                "print(ratios)\n",
                "\n",
                "data = {config['graph_type']: [] for config in graph_configs}\n",
                "for graph_config in graph_configs:\n",
                "    for i, node_config in enumerate(node_configs):\n",
                "        print(node_config, graph_config['graph_type'])\n",
                "        seed = np.random.randint(0, 500000)\n",
                "        rng = np.random.default_rng(seed)\n",
                "        instances = ig.sample_instances(*node_config, num_trials, rng, **graph_config)\n",
                "\n",
                "\n",
                "        rng = np.random.default_rng(seed)\n",
                "        ratios, _ = evaluate_model(\n",
                "            meta_model=None,\n",
                "            meta_model_type=None,\n",
                "            base_models=[GNN],\n",
                "            instances=instances,\n",
                "            batch_size=batch_size,\n",
                "            rng=rng,\n",
                "            num_realizations=5,\n",
                "            baselines=['greedy', 'lp_rounding']\n",
                "        )\n",
                "        thresholded_greedy_ratios = [0]\n",
                "\n",
                "        # thresholded_greedy_ratios, greedy_ratios, lp_match_ratios = evaluate_model(\n",
                "        #     meta_model=None,\n",
                "        #     meta_model_type=None,\n",
                "        #     base_models=[THRESHOLD_MODEL],\n",
                "        #     instances=instances,\n",
                "        #     batch_size=batch_size,\n",
                "        #     rng=rng,\n",
                "        #     num_realizations=5\n",
                "        # )\n",
                "\n",
                "        data[graph_config['graph_type']].append(np.array(\n",
                "            [\n",
                "                ratios[\"learned\"],\n",
                "                #thresholded_greedy_ratios,\n",
                "                ratios[\"greedy\"],\n",
                "                ratios[\"lp_rounding\"]\n",
                "            ]\n",
                "        ))"
            ]
        },
        {
            "cell_type": "code",
            "execution_count": 38,
            "metadata": {},
            "outputs": [
                {
                    "data": {
                        "text/plain": [
                            "(250,)"
                        ]
                    },
                    "execution_count": 38,
                    "metadata": {},
                    "output_type": "execute_result"
                }
            ],
            "source": [
                "data['GM'][0][0, :].shape"
            ]
        },
        {
            "cell_type": "code",
            "execution_count": 40,
            "metadata": {},
            "outputs": [],
            "source": [
                "def _plot_ratios(ratios, data, naming_function = lambda graph_type: graph_type, confidence = 0.99):\n",
                "    import scipy.stats as st\n",
                "    import matplotlib.pyplot as plt\n",
                "\n",
                "    models =  [\"GNN\", \"greedy\", \"lp_approx\"]\n",
                "    for graph_type, ratios_by_regime in data.items():\n",
                "        aggregated_ratios = {model: [] for model in models}\n",
                "\n",
                "        for regime_ratios in ratios_by_regime:\n",
                "            for i, model in enumerate(models):\n",
                "                raw_values = regime_ratios[i, :]\n",
                "                raw_mean = np.mean(raw_values)\n",
                "                ci_lowerbound, ci_upperbound = st.norm.interval(\n",
                "                    alpha=confidence, \n",
                "                    loc=raw_mean, \n",
                "                    scale=st.sem(raw_values)\n",
                "                )\n",
                "                aggregated_ratios[model].append((raw_mean, ci_lowerbound, ci_upperbound))\n",
                "\n",
                "\n",
                "        fig = plt.figure(figsize=(8,6))\n",
                "        for model, model_ratios in aggregated_ratios.items():\n",
                "            competitive_ratios = [val[0] for val in model_ratios]\n",
                "            ci_lowerbounds = [val[1] for val in model_ratios]\n",
                "            ci_upperbounds = [val[2] for val in model_ratios]\n",
                "            plt.plot(ratios, competitive_ratios, label=model)\n",
                "            plt.fill_between(ratios, ci_lowerbounds, ci_upperbounds, alpha = 0.2)\n",
                "\n",
                "        title = f\"{naming_function(graph_type)}\"\n",
                "        plt.title(title, fontsize = 18)\n",
                "        plt.xlabel('# online / # offline', fontsize = 15)\n",
                "        plt.ylabel('Average competitive ratio', fontsize = 15)\n",
                "        plt.legend()\n",
                "        plt.savefig(f\"data/{title.replace(' ', '_')}.png\")\n",
                "        plt.show()\n"
            ]
        },
        {
            "cell_type": "code",
            "execution_count": 41,
            "metadata": {},
            "outputs": [
                {
                    "data": {
                        "image/png": "[encoded data removed]",
                        "text/plain": [
                            "<Figure size 576x432 with 1 Axes>"
                        ]
                    },
                    "metadata": {
                        "needs_background": "light"
                    },
                    "output_type": "display_data"
                }
            ],
            "source": [
                "_plot_ratios(ratios, data, lambda x: \"GM\", confidence=0.95)"
            ]
        },
        {
            "cell_type": "code",
            "execution_count": null,
            "metadata": {},
            "outputs": [],
            "source": [
                "for graph_config in graph_configs:\n",
                "    for i, node_config in enumerate(node_configs):\n",
                "        for models in [\"learned\", \"greedy\", \"lp_rounding\"]:\n",
                "            data[graph_config['graph_type']][]"
            ]
        },
        {
            "cell_type": "code",
            "execution_count": 25,
            "metadata": {},
            "outputs": [
                {
                    "name": "stdout",
                    "output_type": "stream",
                    "text": [
                        "[0.25, 0.5, 0.75, 1.0, 1.25, 1.5, 1.75, 2.0, 2.25, 2.5, 2.75, 3.0, 3.25, 3.5, 3.75]\n"
                    ]
                },
                {
                    "data": {
                        "image/png": "[encoded data removed]",
                        "text/plain": [
                            "<Figure size 576x432 with 1 Axes>"
                        ]
                    },
                    "metadata": {
                        "needs_background": "light"
                    },
                    "output_type": "display_data"
                }
            ],
            "source": [
                "import matplotlib.pyplot as plt\n",
                "ratios = [x/y for (x,y) in node_configs]\n",
                "print(ratios)\n",
                "for city, comp_ratios in data.items():\n",
                "    greedy_avg_ratios = []\n",
                "    thresholded_greedy_avg_ratios = []\n",
                "    gnn_avg_ratios = []\n",
                "    lp_match_avg_ratios = []\n",
                "\n",
                "\n",
                "    for trial_ratios in comp_ratios:\n",
                "        gnn_avg_ratios.append(np.array(trial_ratios[0]).mean())\n",
                "        #thresholded_greedy_avg_ratios.append(np.array(trial_ratios[1]).mean())\n",
                "        greedy_avg_ratios.append(np.array(trial_ratios[1]).mean())\n",
                "        lp_match_avg_ratios.append(np.array(trial_ratios[2]).mean())\n",
                "        \n",
                "\n",
                "    title = f\"OSMNX_discard_{city}\"\n",
                "    fig = plt.figure(figsize=(8,6))\n",
                "    plt.title(title)\n",
                "    plt.plot(ratios, gnn_avg_ratios, label='GNN')\n",
                "    #plt.plot(ratios, thresholded_greedy_avg_ratios, label='Thresholded Greedy')\n",
                "    plt.plot(ratios, greedy_avg_ratios, label='Greedy')\n",
                "    plt.plot(ratios, lp_match_avg_ratios, label='LP ROUNDING')\n",
                "    plt.xlabel('# online / # offline')\n",
                "    plt.ylabel('Average competitive ratio')\n",
                "    plt.legend()\n",
                "    #plt.savefig(f\"data/{title}.png\")\n",
                "    plt.show()\n",
                "\n"
            ]
        },
        {
            "cell_type": "code",
            "execution_count": 26,
            "metadata": {},
            "outputs": [
                {
                    "ename": "AttributeError",
                    "evalue": "'numpy.ndarray' object has no attribute 'items'",
                    "output_type": "error",
                    "traceback": [
                        "\u001b[0;31m---------------------------------------------------------------------------\u001b[0m",
                        "\u001b[0;31mAttributeError\u001b[0m                            Traceback (most recent call last)",
                        "Input \u001b[0;32mIn [26]\u001b[0m, in \u001b[0;36m<cell line: 2>\u001b[0;34m()\u001b[0m\n\u001b[1;32m      1\u001b[0m \u001b[38;5;28;01mfrom\u001b[39;00m \u001b[38;5;21;01mutil\u001b[39;00m \u001b[38;5;28;01mimport\u001b[39;00m _plot_approx_ratios\n\u001b[0;32m----> 2\u001b[0m \u001b[43m_plot_approx_ratios\u001b[49m\u001b[43m(\u001b[49m\u001b[43mratios\u001b[49m\u001b[43m,\u001b[49m\u001b[43m \u001b[49m\u001b[43mdata\u001b[49m\u001b[43m,\u001b[49m\u001b[43m \u001b[49m\u001b[38;5;28;43;01mlambda\u001b[39;49;00m\u001b[43m \u001b[49m\u001b[43mgraph_type\u001b[49m\u001b[43m:\u001b[49m\u001b[43m \u001b[49m\u001b[38;5;124;43m\"\u001b[39;49m\u001b[38;5;124;43mGM\u001b[39;49m\u001b[38;5;124;43m\"\u001b[39;49m\u001b[43m,\u001b[49m\u001b[43m \u001b[49m\u001b[43mconfidence\u001b[49m\u001b[38;5;241;43m=\u001b[39;49m\u001b[38;5;241;43m0.95\u001b[39;49m\u001b[43m)\u001b[49m\n",
                        "File \u001b[0;32m~/GNN-OBM/util.py:166\u001b[0m, in \u001b[0;36m_plot_approx_ratios\u001b[0;34m(ratios, data, naming_function, confidence)\u001b[0m\n\u001b[1;32m    163\u001b[0m aggregated_ratios \u001b[38;5;241m=\u001b[39m {}\n\u001b[1;32m    165\u001b[0m \u001b[38;5;28;01mfor\u001b[39;00m trial_ratios \u001b[38;5;129;01min\u001b[39;00m comp_ratios:\n\u001b[0;32m--> 166\u001b[0m     \u001b[38;5;28;01mfor\u001b[39;00m model, ratio_values \u001b[38;5;129;01min\u001b[39;00m \u001b[43mtrial_ratios\u001b[49m\u001b[38;5;241;43m.\u001b[39;49m\u001b[43mitems\u001b[49m():\n\u001b[1;32m    167\u001b[0m         current_ratios \u001b[38;5;241m=\u001b[39m aggregated_ratios\u001b[38;5;241m.\u001b[39mget(model, [])\n\u001b[1;32m    169\u001b[0m         \u001b[38;5;66;03m# Compute the confidence interval for the competitive ratios\u001b[39;00m\n",
                        "\u001b[0;31mAttributeError\u001b[0m: 'numpy.ndarray' object has no attribute 'items'"
                    ]
                }
            ],
            "source": [
                "from util import _plot_approx_ratios\n",
                "_plot_approx_ratios(ratios, data, lambda graph_type: \"GM\", confidence=0.95)"
            ]
        },
        {
            "cell_type": "code",
            "execution_count": 33,
            "metadata": {},
            "outputs": [
                {
                    "data": {
                        "text/plain": [
                            "15"
                        ]
                    },
                    "execution_count": 33,
                    "metadata": {},
                    "output_type": "execute_result"
                }
            ],
            "source": [
                "len(data['GM'])"
            ]
        },
        {
            "cell_type": "code",
            "execution_count": null,
            "metadata": {},
            "outputs": [],
            "source": [
                "\n",
                "import scipy.stats as st \n",
                "\n",
                "def _plot_approx_ratios(ratios, data, naming_function = lambda graph_type: graph_type, confidence = 0.99):\n",
                "\n",
                "    for graph_type, graph_ratios in data.items():\n",
                "        aggregated_ratios = {}\n",
                "\n",
                "        for trial_ratios in comp_ratios:\n",
                "            for model, ratio_values in trial_ratios.items():\n",
                "                current_ratios = aggregated_ratios.get(model, [])\n",
                "                \n",
                "                # Compute the confidence interval for the competitive ratios\n",
                "                ci_lowerbound, ci_upperbound = st.norm.interval(alpha=confidence, \n",
                "                                loc=np.mean(ratio_values), \n",
                "                                scale=st.sem(ratio_values)) \n",
                "                current_ratios.append((np.array(ratio_values).mean(), ci_lowerbound, ci_upperbound))\n",
                "                aggregated_ratios[model] = current_ratios\n",
                "\n",
                "        fig = plt.figure(figsize=(8,6))\n",
                "        for model, model_ratios in aggregated_ratios.items():\n",
                "            competitive_ratios = [val[0] for val in model_ratios]\n",
                "            ci_lowerbounds = [val[1] for val in model_ratios]\n",
                "            ci_upperbounds = [val[2] for val in model_ratios]\n",
                "            plt.plot(ratios, competitive_ratios, label=model)\n",
                "            plt.fill_between(ratios, ci_lowerbounds, ci_upperbounds, alpha = 0.2)\n",
                "\n",
                "        title = f\"{naming_function(graph_type)}\"\n",
                "        plt.title(title, fontsize = 18)\n",
                "        plt.xlabel('# online / # offline', fontsize = 15)\n",
                "        plt.ylabel('Average competitive ratio', fontsize = 15)\n",
                "        plt.legend()\n",
                "        plt.savefig(f\"data/{title.replace(' ', '_')}.png\")\n",
                "        plt.show()\n"
            ]
        },
        {
            "cell_type": "code",
            "execution_count": null,
            "metadata": {},
            "outputs": [],
            "source": [
                "import matplotlib.pyplot as plt\n",
                "ratios = [x/y for (x,y) in node_configs]\n",
                "for q, comp_ratios in data.items():\n",
                "    greedy_avg_ratios = []\n",
                "    gnn_avg_ratios = []\n",
                "    lp_match_avg_ratios = []\n",
                "\n",
                "\n",
                "    for trial_ratios in comp_ratios:\n",
                "        gnn_avg_ratios.append(np.array(trial_ratios[0]).mean())\n",
                "        greedy_avg_ratios.append(np.array(trial_ratios[1]).mean())\n",
                "        lp_match_avg_ratios.append(np.array(trial_ratios[2]).mean())\n",
                "\n",
                "    # title = f\"PART_size_{size}\"\n",
                "    title = f\"FEAT_only_ratings_{q}\"\n",
                "    print(title)\n",
                "    fig = plt.figure(figsize=(8,6))\n",
                "    plt.title(title)\n",
                "    plt.plot(ratios, gnn_avg_ratios, label='GNN')\n",
                "    plt.plot(ratios, greedy_avg_ratios, label='Greedy')\n",
                "    plt.plot(ratios, lp_match_avg_ratios, label='LP ROUNDING')\n",
                "    plt.xlabel('# online / # offline')\n",
                "    plt.ylabel('Average competitive ratio')\n",
                "    plt.legend()\n",
                "    # plt.savefig(f\"data/{title}.png\")\n",
                "    plt.show()\n"
            ]
        },
        {
            "cell_type": "markdown",
            "metadata": {},
            "source": [
                "## Graph transferability"
            ]
        },
        {
            "cell_type": "code",
            "execution_count": 25,
            "metadata": {},
            "outputs": [
                {
                    "name": "stdout",
                    "output_type": "stream",
                    "text": [
                        "[4, 8, 12, 16, 20, 24, 28, 32, 36]\n",
                        "(4, 4) {'graph_type': 'FEAT', 'q': 0.75, 'weighted': True}\n",
                        "Set parameter TokenServer to value \"soal-nas.stanford.edu\"\n",
                        "(8, 8) {'graph_type': 'FEAT', 'q': 0.75, 'weighted': True}\n",
                        "(12, 12) {'graph_type': 'FEAT', 'q': 0.75, 'weighted': True}\n",
                        "(16, 16) {'graph_type': 'FEAT', 'q': 0.75, 'weighted': True}\n",
                        "(20, 20) {'graph_type': 'FEAT', 'q': 0.75, 'weighted': True}\n",
                        "(24, 24) {'graph_type': 'FEAT', 'q': 0.75, 'weighted': True}\n",
                        "(28, 28) {'graph_type': 'FEAT', 'q': 0.75, 'weighted': True}\n",
                        "(32, 32) {'graph_type': 'FEAT', 'q': 0.75, 'weighted': True}\n",
                        "(36, 36) {'graph_type': 'FEAT', 'q': 0.75, 'weighted': True}\n"
                    ]
                }
            ],
            "source": [
                "num_trials = 40\n",
                "node_configs = [(x, x) for x in np.arange(4, 40, 4)]\n",
                "batch_size = 500 #[int(min(32, x + y)) for (x, y) in node_configs]\n",
                "\n",
                "\n",
                "graph_configs = [\n",
                "    {\n",
                "    'graph_type': 'FEAT',\n",
                "    'q': 0.75,\n",
                "    'weighted': True\n",
                "    },\n",
                "]\n",
                "\n",
                "sizes = [x for (x,_) in node_configs]\n",
                "print(sizes)\n",
                "\n",
                "data = {config['q']: [] for config in graph_configs}\n",
                "for graph_config in graph_configs:\n",
                "    for i, node_config in enumerate(node_configs):\n",
                "        print(node_config, graph_config)\n",
                "        seed = np.random.randint(0, 500000)\n",
                "        rng = np.random.default_rng(seed)\n",
                "        instances = ig.sample_instances(*node_config, num_trials, rng, **graph_config)\n",
                "\n",
                "\n",
                "        rng = np.random.default_rng(seed)\n",
                "\n",
                "        cr_ratios = evaluate_model(\n",
                "            meta_model=None,\n",
                "            meta_model_type=None,\n",
                "            base_models=[GNN],\n",
                "            instances=instances,\n",
                "            batch_size=batch_size,\n",
                "            rng=rng,\n",
                "            num_realizations=5,\n",
                "            baselines=['greedy', 'lp_rounding']\n",
                "        )\n",
                "\n",
                "        thresholded_greedy_ratios = [0]\n",
                "\n",
                "        data[graph_config['q']].append(cr_ratios)"
            ]
        },
        {
            "cell_type": "code",
            "execution_count": 26,
            "metadata": {},
            "outputs": [
                {
                    "data": {
                        "image/png": "[encoded data removed]",
                        "text/plain": [
                            "<Figure size 576x432 with 1 Axes>"
                        ]
                    },
                    "metadata": {
                        "needs_background": "light"
                    },
                    "output_type": "display_data"
                }
            ],
            "source": [
                "import matplotlib.pyplot as plt\n",
                "\n",
                "sizes = [x for (x,_) in node_configs]\n",
                "\n",
                "aggregated_ratios = {}\n",
                "for q, comp_ratios in data.items():\n",
                "    for trial_ratios in comp_ratios:\n",
                "        for model, ratio_values in trial_ratios.items():\n",
                "            current_ratios = aggregated_ratios.get(model, [])\n",
                "            current_ratios.append(np.array(ratio_values).mean())\n",
                "            aggregated_ratios[model] = current_ratios\n",
                "\n",
                "fig = plt.figure(figsize=(8,6))\n",
                "for model, ratios in aggregated_ratios.items():\n",
                "    plt.plot(sizes, ratios, label=model)\n",
                "\n",
                "title = f\"FEAT_only_ratings_{q}\"\n",
                "plt.title(title)\n",
                "plt.xlabel('Number of online nodes')\n",
                "plt.ylabel('Average competitive ratio')\n",
                "plt.legend()\n",
                "# plt.savefig(f\"data/{title}.png\")\n",
                "plt.show()\n"
            ]
        },
        {
            "cell_type": "code",
            "execution_count": null,
            "metadata": {},
            "outputs": [],
            "source": []
        }
    ],
    "metadata": {
        "kernelspec": {
            "display_name": "clrs",
            "language": "python",
            "name": "python3"
        },
        "language_info": {
            "codemirror_mode": {
                "name": "ipython",
                "version": 3
            },
            "file_extension": ".py",
            "mimetype": "text/x-python",
            "name": "python",
            "nbconvert_exporter": "python",
            "pygments_lexer": "ipython3",
            "version": "3.10.12"
        }
    },
    "nbformat": 4,
    "nbformat_minor": 2
}
