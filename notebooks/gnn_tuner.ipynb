{
 "cells": [
  {
   "cell_type": "code",
   "execution_count": null,
   "metadata": {},
   "outputs": [],
   "source": [
    "import os\n",
    "os.chdir('..')"
   ]
  },
  {
   "cell_type": "code",
   "execution_count": null,
   "metadata": {},
   "outputs": [],
   "source": [
    "import torch\n",
    "import optuna\n",
    "from optuna.trial import TrialState\n",
    "from gnn_library.util import train, gen_train_input\n",
    "from params import *\n",
    "\n",
    "%load_ext autoreload\n",
    "%autoreload 2"
   ]
  },
  {
   "cell_type": "code",
   "execution_count": null,
   "metadata": {},
   "outputs": [],
   "source": [
    "device = torch.device('cuda:2' if torch.cuda.is_available() else 'cpu')\n",
    "print(\"PyTorch has version {}\".format(torch.__version__))\n",
    "print('Using device:', device)"
   ]
  },
  {
   "cell_type": "markdown",
   "metadata": {},
   "source": [
    "## GNN hyperparameter tuning"
   ]
  },
  {
   "cell_type": "code",
   "execution_count": null,
   "metadata": {},
   "outputs": [],
   "source": [
    "def define_model(trial):\n",
    "    args = {\n",
    "        'processor':         'GENConv',\n",
    "        'head':              'regression',\n",
    "        'num_layers':        trial.suggest_int(\"num_layers{}\", 1, 6),\n",
    "        'num_mlp_layers':    trial.suggest_int(\"num_mlp_layers{}\", 1, 5),\n",
    "        'aggr':              'max',\n",
    "        'batch_size':        2**trial.suggest_int(\"log_batch_size\", 1, 6), \n",
    "        'node_feature_dim':  5,\n",
    "        'edge_feature_dim':  1,\n",
    "        'graph_feature_dim': 2,\n",
    "        'hidden_dim':        2**trial.suggest_int(\"hidden_dim\", 1, 7),\n",
    "        'output_dim':        1,\n",
    "        'dropout':           trial.suggest_float(\"dropout\", 0, 0.5),\n",
    "        'epochs':            2**trial.suggest_int(\"epochs\", 2, 8),\n",
    "        'opt':               trial.suggest_categorical(\"optimizer\", [\"adam\", \"adagrad\"]),\n",
    "        'opt_scheduler':     'none',\n",
    "        'opt_restart':       0,\n",
    "        'weight_decay':      5e-3,\n",
    "        'lr':                trial.suggest_float(\"lr\", 1e-5, 1e-1, log=True),\n",
    "        'device':            device,\n",
    "        'noise':             0\n",
    "    }\n",
    "    return args"
   ]
  },
  {
   "cell_type": "code",
   "execution_count": null,
   "metadata": {},
   "outputs": [],
   "source": [
    "def objective(trial):\n",
    "\targs = define_model(trial)\n",
    "\n",
    "\ttrain_loader, val_loader = gen_train_input(BASE_MODEL_TRAIN_CONFIG, args, seed=0)\n",
    "\n",
    "\t_, _, test_accuracies, _, _ = train(train_loader, val_loader, args, trial)\n",
    "\tmodel_accuracy = test_accuracies[-1]\n",
    "\t\n",
    "\treturn model_accuracy"
   ]
  },
  {
   "cell_type": "code",
   "execution_count": null,
   "metadata": {},
   "outputs": [],
   "source": [
    "\n",
    "study = optuna.create_study(\n",
    "\tstudy_name='hyperparam-study',\n",
    "\tdirection='maximize',\n",
    "\tstorage='sqlite:///hyperparam.db',\n",
    "\tload_if_exists=True\n",
    ")\n",
    "study.optimize(objective, n_trials=1000, timeout=60000)\n",
    "\n",
    "pruned_trials = study.get_trials(deepcopy=False, states=[TrialState.PRUNED])\n",
    "complete_trials = study.get_trials(deepcopy=False, states=[TrialState.COMPLETE])\n",
    "\n",
    "print(\"Study statistics: \")\n",
    "print(\"  Number of finished trials: \", len(study.trials))\n",
    "print(\"  Number of pruned trials: \", len(pruned_trials))\n",
    "print(\"  Number of complete trials: \", len(complete_trials))\n",
    "\n",
    "print(\"Best trial:\")\n",
    "trial = study.best_trial\n",
    "\n",
    "print(\"  Value: \", trial.value)\n",
    "\n",
    "print(\"  Params: \")\n",
    "for key, value in trial.params.items():\n",
    "\tprint(\"    {}: {}\".format(key, value))\n"
   ]
  }
 ],
 "metadata": {
  "kernelspec": {
   "display_name": "clrs",
   "language": "python",
   "name": "python3"
  },
  "language_info": {
   "codemirror_mode": {
    "name": "ipython",
    "version": 3
   },
   "file_extension": ".py",
   "mimetype": "text/x-python",
   "name": "python",
   "nbconvert_exporter": "python",
   "pygments_lexer": "ipython3",
   "version": "3.10.12"
  }
 },
 "nbformat": 4,
 "nbformat_minor": 2
}
