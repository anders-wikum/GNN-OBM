{
 "cells": [
  {
   "cell_type": "code",
   "execution_count": 1,
   "metadata": {},
   "outputs": [],
   "source": [
    "import torch\n",
    "import numpy as np\n",
    "\n",
    "import os\n",
    "os.chdir('..')\n",
    "from torch_geometric.loader import DataLoader\n",
    "from gnn_library.util import train, save, load\n",
    "from evaluate import evaluate_model, pp_output\n",
    "import instance_generator as ig\n",
    "import torch_converter as tc\n",
    "import evaluate as ev\n",
    "import osmnx as ox\n",
    "from util import Dataset\n",
    "from gnn_library.OBM_threshold_greedy import OBM_Threshold_Greedy\n",
    "\n",
    "import gnn_library.util as util\n",
    "import scipy.stats as st \n",
    "\n",
    "%load_ext autoreload\n",
    "%autoreload 2"
   ]
  },
  {
   "cell_type": "code",
   "execution_count": 22,
   "metadata": {},
   "outputs": [],
   "source": [
    "import pickle\n",
    "\n",
    "with open(f'saved_runs/box_plot_regression_eval_gnn2_base.pickle', 'rb') as handle:\n",
    "    data_copy = pickle.load(handle)"
   ]
  },
  {
   "cell_type": "code",
   "execution_count": 23,
   "metadata": {},
   "outputs": [],
   "source": [
    "node_configs = util.node_configs_gnn\n",
    "graph_configs = util.graph_configs_standard"
   ]
  },
  {
   "cell_type": "code",
   "execution_count": 45,
   "metadata": {},
   "outputs": [],
   "source": [
    "confidence = 0.95\n",
    "node_config = node_configs[0]\n",
    "aggregated = {graph_config: {} for graph_config in data_copy[node_config].keys()}\n",
    "for graph_config, comp_ratios in data_copy[node_config].items():\n",
    "\tfor model, ratio_values in comp_ratios.items():\n",
    "\t\tmean = np.mean(ratio_values)\n",
    "\t\t# print(mean)\n",
    "\t\tci_lowerbound, ci_upperbound = st.norm.interval(alpha=confidence, \n",
    "\t\t\t\tloc=np.mean(ratio_values), \n",
    "\t\t\t\tscale=st.sem(ratio_values)) \n",
    "\n",
    "\t\taggregated[graph_config][model] = (mean, ci_lowerbound, ci_upperbound)\n",
    "\t# assert False\n"
   ]
  },
  {
   "cell_type": "code",
   "execution_count": 47,
   "metadata": {},
   "outputs": [
    {
     "name": "stdout",
     "output_type": "stream",
     "text": [
      "\\textbf{0.932} & 0.812 & 0.875 & 0.91 \\\\\n",
      "\\textbf{0.927} & 0.826 & 0.874 & 0.897 \\\\\n",
      "\\textbf{0.933} & 0.847 & 0.883 & 0.903 \\\\\n",
      "\\textbf{0.929} & 0.788 & 0.847 & 0.91 \\\\\n",
      "\\textbf{0.93} & 0.824 & 0.866 & 0.909 \\\\\n",
      "\\textbf{0.933} & 0.851 & 0.88 & 0.894 \\\\\n",
      "\\textbf{0.971} & 0.936 & 0.934 & 0.932 \\\\\n",
      "\\textbf{0.951} & 0.924 & 0.919 & 0.911 \\\\\n",
      "\\textbf{0.932} & 0.916 & 0.912 & 0.9 \\\\\n",
      "\\textbf{0.935} & 0.875 & 0.892 & 0.888 \\\\\n",
      "\\textbf{0.933} & 0.856 & 0.885 & 0.892 \\\\\n",
      "\\textbf{0.947} & 0.884 & 0.812 & 0.932 \\\\\n"
     ]
    }
   ],
   "source": [
    "model_order = ['learned', 'greedy', 'threshold_greedy', 'lp_rounding']\n",
    "for graph_config, values in aggregated.items():\n",
    "\tmeans = [values[model][0] for model in model_order]\n",
    "\tmeans = [np.round(value, 3) for value in means]\n",
    "\tresult = \" & \".join(map(str, means))\n",
    "\n",
    "\t# Find the largest number in the list\n",
    "\tlargest_number = max(means)\n",
    "\n",
    "\t# Add '\\textbf{number}' around the largest number in the result string\n",
    "\tresult_with_bold = result.replace(str(largest_number), f'\\\\textbf{{{largest_number}}}')\n",
    "\tresult_with_bold += \" \\\\\\\\\"\n",
    "\tprint(result_with_bold)\n"
   ]
  }
 ],
 "metadata": {
  "kernelspec": {
   "display_name": "local",
   "language": "python",
   "name": "python3"
  },
  "language_info": {
   "codemirror_mode": {
    "name": "ipython",
    "version": 3
   },
   "file_extension": ".py",
   "mimetype": "text/x-python",
   "name": "python",
   "nbconvert_exporter": "python",
   "pygments_lexer": "ipython3",
   "version": "3.10.12"
  },
  "orig_nbformat": 4
 },
 "nbformat": 4,
 "nbformat_minor": 2
}
