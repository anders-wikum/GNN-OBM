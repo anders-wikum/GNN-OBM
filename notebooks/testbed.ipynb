{
 "cells": [
  {
   "cell_type": "code",
   "execution_count": 1,
   "metadata": {},
   "outputs": [],
   "source": [
    "import os\n",
    "os.chdir('..')"
   ]
  },
  {
   "cell_type": "code",
   "execution_count": 2,
   "metadata": {},
   "outputs": [],
   "source": [
    "import numpy as np\n",
    "from instance_generator import sample_instances\n",
    "import torch_converter as tc\n",
    "import torch\n",
    "%load_ext autoreload\n",
    "%autoreload 2"
   ]
  },
  {
   "cell_type": "code",
   "execution_count": 3,
   "metadata": {},
   "outputs": [],
   "source": [
    "kwargs = {\n",
    "    'graph_type': 'ER',\n",
    "    'p': 0.5,\n",
    "    'weighted': True\n",
    "}\n",
    "\n",
    "instances = sample_instances(m=3, n=2, num=3, rng=np.random.default_rng(), args={}, **kwargs)"
   ]
  },
  {
   "cell_type": "code",
   "execution_count": 48,
   "metadata": {},
   "outputs": [
    {
     "name": "stdout",
     "output_type": "stream",
     "text": [
      "tensor([[ True,  True,  True],\n",
      "        [ True, False, False],\n",
      "        [False, False, False],\n",
      "        [False, False, False],\n",
      "        [False, False, False],\n",
      "        [ True,  True,  True]])\n"
     ]
    }
   ],
   "source": [
    "neighbors = tc._neighbor_encoder(instances[0])\n",
    "print(neighbors)"
   ]
  },
  {
   "cell_type": "code",
   "execution_count": 44,
   "metadata": {},
   "outputs": [
    {
     "ename": "AttributeError",
     "evalue": "module 'torch_converter' has no attribute '_active_encoder'",
     "output_type": "error",
     "traceback": [
      "\u001b[0;31m---------------------------------------------------------------------------\u001b[0m",
      "\u001b[0;31mAttributeError\u001b[0m                            Traceback (most recent call last)",
      "Cell \u001b[0;32mIn[44], line 1\u001b[0m\n\u001b[0;32m----> 1\u001b[0m \u001b[43mtc\u001b[49m\u001b[38;5;241;43m.\u001b[39;49m\u001b[43m_active_encoder\u001b[49m(instances[\u001b[38;5;241m0\u001b[39m])\n",
      "\u001b[0;31mAttributeError\u001b[0m: module 'torch_converter' has no attribute '_active_encoder'"
     ]
    }
   ],
   "source": [
    "tc._active_encoder(instances[0])"
   ]
  },
  {
   "cell_type": "code",
   "execution_count": 60,
   "metadata": {},
   "outputs": [],
   "source": [
    "neighbors = torch.tensor([[ True,  True,  True],\n",
    "        [ True,  True,  True],\n",
    "        [False, False, False],\n",
    "        [False, False, True],\n",
    "        [False, False, False],\n",
    "        [ True,  True,  True],\n",
    "        [ True,  True,  True],\n",
    "        [ True,  True,  True],\n",
    "        [False, True, False],\n",
    "        [False, False, False],\n",
    "        [True, False, False],\n",
    "        [ True,  True,  True]])"
   ]
  },
  {
   "cell_type": "code",
   "execution_count": 9,
   "metadata": {},
   "outputs": [],
   "source": [
    "from torch_geometric.data import InMemoryDataset, Data\n",
    "from torch_geometric.loader import DataLoader\n",
    "from torch_converter import _instances_to_train_samples\n",
    "\n",
    "class MatchingData(Data):\n",
    "    def __cat_dim__(self, key, value, *args, **kwargs):\n",
    "        if key == 'neighbors':\n",
    "            return None\n",
    "        if key == 'm':\n",
    "            return None\n",
    "        else:\n",
    "            return super().__cat_dim__(key, value, *args, **kwargs)\n",
    "        \n",
    "\n",
    "instances = sample_instances(3, 2, 2, np.random.default_rng(), {}, **kwargs)\n",
    "data_ = [MatchingData(**data) for data in _instances_to_train_samples(instances, 'regression', None)]\n",
    "data = DataLoader(data_, batch_size=2)"
   ]
  },
  {
   "cell_type": "code",
   "execution_count": 10,
   "metadata": {},
   "outputs": [
    {
     "name": "stdout",
     "output_type": "stream",
     "text": [
      "MatchingDataBatch(x=[12, 5], edge_index=[2, 20], edge_attr=[20, 1], m=[2, 1], hint=[4], t=[2], neighbors=[2, 6, 3], n=[2], batch=[12], ptr=[3])\n",
      "MatchingDataBatch(x=[12, 5], edge_index=[2, 18], edge_attr=[18, 1], m=[2, 1], hint=[5], t=[2], neighbors=[2, 6, 3], n=[2], batch=[12], ptr=[3])\n"
     ]
    }
   ],
   "source": [
    "for dat in data:\n",
    "    print(dat)"
   ]
  },
  {
   "cell_type": "code",
   "execution_count": 8,
   "metadata": {},
   "outputs": [
    {
     "data": {
      "text/plain": [
       "[MatchingData(x=[6, 5], edge_index=[2, 10], edge_attr=[10, 1], m=[1], hint=[2], t=0, neighbors=[6, 3], n=[1]),\n",
       " MatchingData(x=[6, 5], edge_index=[2, 6], edge_attr=[6, 1], m=[1], hint=[2], t=1, neighbors=[6, 3], n=[1]),\n",
       " MatchingData(x=[6, 5], edge_index=[2, 14], edge_attr=[14, 1], m=[1], hint=[2], t=0, neighbors=[6, 3], n=[1]),\n",
       " MatchingData(x=[6, 5], edge_index=[2, 4], edge_attr=[4, 1], m=[1], hint=[2], t=2, neighbors=[6, 3], n=[1])]"
      ]
     },
     "execution_count": 8,
     "metadata": {},
     "output_type": "execute_result"
    }
   ],
   "source": [
    "data_"
   ]
  },
  {
   "cell_type": "code",
   "execution_count": 103,
   "metadata": {},
   "outputs": [
    {
     "name": "stderr",
     "output_type": "stream",
     "text": [
      "[autoreload of util failed: Traceback (most recent call last):\n",
      "  File \"/Users/wikum/miniconda3/envs/core/lib/python3.11/site-packages/IPython/extensions/autoreload.py\", line 276, in check\n",
      "    superreload(m, reload, self.old_objects)\n",
      "  File \"/Users/wikum/miniconda3/envs/core/lib/python3.11/site-packages/IPython/extensions/autoreload.py\", line 475, in superreload\n",
      "    module = reload(module)\n",
      "             ^^^^^^^^^^^^^^\n",
      "  File \"/Users/wikum/miniconda3/envs/core/lib/python3.11/importlib/__init__.py\", line 168, in reload\n",
      "    raise ModuleNotFoundError(f\"spec not found for the module {name!r}\", name=name)\n",
      "ModuleNotFoundError: spec not found for the module 'util'\n",
      "]\n"
     ]
    },
    {
     "data": {
      "text/plain": [
       "tensor([[ True,  True],\n",
       "        [ True,  True],\n",
       "        [False, False],\n",
       "        [ True, False],\n",
       "        [False,  True],\n",
       "        [ True,  True]])"
      ]
     },
     "execution_count": 103,
     "metadata": {},
     "output_type": "execute_result"
    }
   ],
   "source": [
    "test=neighbors.reshape(2, 6, 3)\n",
    "test[torch.arange(test.size(0)), :, index].T"
   ]
  },
  {
   "cell_type": "code",
   "execution_count": 82,
   "metadata": {},
   "outputs": [],
   "source": [
    "index = torch.tensor([2, 0])"
   ]
  },
  {
   "cell_type": "code",
   "execution_count": 102,
   "metadata": {},
   "outputs": [
    {
     "name": "stdout",
     "output_type": "stream",
     "text": [
      "tensor([[[2],\n",
      "         [2],\n",
      "         [2],\n",
      "         [2],\n",
      "         [2],\n",
      "         [2]],\n",
      "\n",
      "        [[0],\n",
      "         [0],\n",
      "         [0],\n",
      "         [0],\n",
      "         [0],\n",
      "         [0]]])\n"
     ]
    },
    {
     "data": {
      "text/plain": [
       "tensor([[ True,  True],\n",
       "        [ True,  True],\n",
       "        [False, False],\n",
       "        [ True, False],\n",
       "        [False,  True],\n",
       "        [ True,  True]])"
      ]
     },
     "execution_count": 102,
     "metadata": {},
     "output_type": "execute_result"
    }
   ],
   "source": [
    "indices = index.unsqueeze(1).unsqueeze(2)\n",
    "indices = torch.repeat_interleave(indices, 6, dim=1)\n",
    "print(indices)\n",
    "torch.gather(test, 2, indices).squeeze().T"
   ]
  },
  {
   "cell_type": "code",
   "execution_count": 57,
   "metadata": {},
   "outputs": [
    {
     "data": {
      "text/plain": [
       "tensor([[ True,  True],\n",
       "        [ True,  True],\n",
       "        [False, False],\n",
       "        [False, False],\n",
       "        [False, False],\n",
       "        [ True,  True],\n",
       "        [ True,  True],\n",
       "        [ True,  True],\n",
       "        [False, False],\n",
       "        [False, False],\n",
       "        [False, False],\n",
       "        [ True,  True]])"
      ]
     },
     "execution_count": 57,
     "metadata": {},
     "output_type": "execute_result"
    }
   ],
   "source": [
    "neighbors[:, index]"
   ]
  },
  {
   "cell_type": "code",
   "execution_count": 58,
   "metadata": {},
   "outputs": [
    {
     "data": {
      "text/plain": [
       "tensor([[ True,  True,  True],\n",
       "        [ True,  True,  True],\n",
       "        [False, False, False],\n",
       "        [False, False, False],\n",
       "        [False, False, False],\n",
       "        [ True,  True,  True],\n",
       "        [ True,  True,  True],\n",
       "        [ True,  True,  True],\n",
       "        [False, False, False],\n",
       "        [False, False, False],\n",
       "        [False, False, False],\n",
       "        [ True,  True,  True]])"
      ]
     },
     "execution_count": 58,
     "metadata": {},
     "output_type": "execute_result"
    }
   ],
   "source": [
    "neighbors"
   ]
  },
  {
   "cell_type": "code",
   "execution_count": null,
   "metadata": {},
   "outputs": [],
   "source": []
  }
 ],
 "metadata": {
  "kernelspec": {
   "display_name": "core",
   "language": "python",
   "name": "python3"
  },
  "language_info": {
   "codemirror_mode": {
    "name": "ipython",
    "version": 3
   },
   "file_extension": ".py",
   "mimetype": "text/x-python",
   "name": "python",
   "nbconvert_exporter": "python",
   "pygments_lexer": "ipython3",
   "version": "3.11.5"
  }
 },
 "nbformat": 4,
 "nbformat_minor": 2
}
