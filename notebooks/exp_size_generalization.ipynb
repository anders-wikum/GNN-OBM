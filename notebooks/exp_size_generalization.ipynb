{
 "cells": [
  {
   "cell_type": "code",
   "execution_count": null,
   "metadata": {},
   "outputs": [],
   "source": [
    "import os\n",
    "os.chdir('..')"
   ]
  },
  {
   "cell_type": "code",
   "execution_count": null,
   "metadata": {},
   "outputs": [],
   "source": [
    "import torch\n",
    "import pickle\n",
    "import numpy as np\n",
    "\n",
    "from gnn_library.util import load\n",
    "from evaluate import evaluate_model\n",
    "from instance_generator import sample_instances\n",
    "from params import REGIMES, TEST_CONFIGS\n",
    "from util import _plot_approx_ratios_all\n",
    "\n",
    "%load_ext autoreload\n",
    "%autoreload 2"
   ]
  },
  {
   "cell_type": "code",
   "execution_count": null,
   "metadata": {},
   "outputs": [],
   "source": [
    "device = torch.device('cuda:6' if torch.cuda.is_available() else 'cpu')\n",
    "print(\"PyTorch has version {}\".format(torch.__version__))\n",
    "print('Using device:', device)\n",
    "\n",
    "GNN, args = load('GNN_large_10_6', device)"
   ]
  },
  {
   "cell_type": "markdown",
   "metadata": {},
   "source": [
    "## Size generalization experiment"
   ]
  },
  {
   "cell_type": "markdown",
   "metadata": {},
   "source": [
    "#### Evaluate CRs for all graph configurations across different graph sizes"
   ]
  },
  {
   "cell_type": "code",
   "execution_count": null,
   "metadata": {},
   "outputs": [],
   "source": [
    "rng = np.random.default_rng(seed=0)\n",
    "num_trials = 150\n",
    "batch_size = 500\n",
    "graph_configs = TEST_CONFIGS['ALL']\n",
    "node_configs = REGIMES['SIZE_GENERALIZATION']\n",
    "\n",
    "sizes = [x+y for (x,y) in node_configs]\n",
    "baselines_kwargs = {\n",
    "    'greedy': {},\n",
    "    'greedy_t': {'threshold': 0.35},\n",
    "    'lp_rounding': {'rng': rng}\n",
    "}\n",
    "\n",
    "data = [[] for _ in range(len(graph_configs))]\n",
    "\n",
    "for i, node_config in enumerate(node_configs):\n",
    "    for data_index, graph_config in enumerate(graph_configs):\n",
    "        print(node_config, graph_config)\n",
    "        \n",
    "        instances = sample_instances(\n",
    "            *node_config,\n",
    "            num_trials,\n",
    "            rng,\n",
    "            args.__dict__,\n",
    "            **graph_config\n",
    "        )\n",
    "\n",
    "        cr_ratios, _ = evaluate_model(\n",
    "            meta_model=None,\n",
    "            meta_model_type=None,\n",
    "            base_models=[GNN],\n",
    "            instances=instances,\n",
    "            batch_size=batch_size,\n",
    "            rng=rng,\n",
    "            num_realizations=5,\n",
    "            baselines=['greedy', 'greedy_t', 'lp_rounding'],\n",
    "            **baselines_kwargs\n",
    "        )\n",
    "        data[data_index].append(cr_ratios)\n",
    "    \n",
    "\n",
    "        with open(f\"experiment_output/size_generalization_main1.pickle\", 'wb') as handle:\n",
    "            pickle.dump(data, handle, protocol=pickle.HIGHEST_PROTOCOL)\n",
    "\n",
    "        torch.cuda.empty_cache()"
   ]
  },
  {
   "cell_type": "markdown",
   "metadata": {},
   "source": [
    "#### Generate size generalization plots"
   ]
  },
  {
   "cell_type": "code",
   "execution_count": null,
   "metadata": {},
   "outputs": [],
   "source": [
    "\n",
    "with open(f\"experiment_output/size_generalization_main1.pickle\", 'rb') as handle:\n",
    "    results = pickle.load(handle)\n",
    "\n",
    "filtered_results = {frozenset(g.items()): data for g, data in zip(graph_configs, results)}\n",
    "_plot_approx_ratios_all(sizes, filtered_results, x_axis_name= \"Total number of nodes $N$\", confidence = 0.95)"
   ]
  }
 ],
 "metadata": {
  "kernelspec": {
   "display_name": "clrs",
   "language": "python",
   "name": "python3"
  },
  "language_info": {
   "codemirror_mode": {
    "name": "ipython",
    "version": 3
   },
   "file_extension": ".py",
   "mimetype": "text/x-python",
   "name": "python",
   "nbconvert_exporter": "python",
   "pygments_lexer": "ipython3",
   "version": "3.10.12"
  }
 },
 "nbformat": 4,
 "nbformat_minor": 2
}
