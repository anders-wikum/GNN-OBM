{
 "cells": [
  {
   "cell_type": "code",
   "execution_count": 1,
   "metadata": {},
   "outputs": [],
   "source": [
    "import torch\n",
    "import numpy as np\n",
    "\n",
    "import os\n",
    "os.chdir('..')\n",
    "from torch_geometric.loader import DataLoader\n",
    "from gnn_library.util import train, save, load\n",
    "from evaluate import evaluate_model, pp_output\n",
    "import instance_generator as ig\n",
    "import torch_converter as tc\n",
    "import evaluate as ev\n",
    "import osmnx as ox\n",
    "from util import Dataset\n",
    "from gnn_library.OBM_threshold_greedy import OBM_Threshold_Greedy\n",
    "\n",
    "%load_ext autoreload\n",
    "%autoreload 2"
   ]
  },
  {
   "cell_type": "code",
   "execution_count": 2,
   "metadata": {},
   "outputs": [
    {
     "name": "stdout",
     "output_type": "stream",
     "text": [
      "PyTorch has version 1.12.0+cu102\n",
      "Using device: cuda:7\n"
     ]
    }
   ],
   "source": [
    "device = torch.device('cuda:7' if torch.cuda.is_available() else 'cpu')\n",
    "print(\"PyTorch has version {}\".format(torch.__version__))\n",
    "print('Using device:', device)"
   ]
  },
  {
   "cell_type": "code",
   "execution_count": 3,
   "metadata": {},
   "outputs": [],
   "source": [
    "args = {\n",
    "    'processor':         'GENConv',\n",
    "    'head':              'regression',\n",
    "    'num_layers':        2,\n",
    "    'num_mlp_layers':    2,\n",
    "    'aggr':              'max',\n",
    "    'batch_size':        32,\n",
    "    'node_feature_dim':  5,\n",
    "    'edge_feature_dim':  1,\n",
    "    'graph_feature_dim': 2,\n",
    "    'hidden_dim':        64,\n",
    "    'output_dim':        1,\n",
    "    'dropout':           0.35,\n",
    "    'epochs':            25,\n",
    "    'opt':               'adam',\n",
    "    'opt_scheduler':     'none',\n",
    "    'opt_restart':       0,\n",
    "    'weight_decay':      5e-3,\n",
    "    'lr':                0.0001,\n",
    "    'device':            device,\n",
    "    'noise':             0 # Set to 0 to not train on noisy features\n",
    "}\n",
    "\n",
    "# Hyperparameter optimized for 9/7\n",
    "\n",
    "# args = {\n",
    "#     'processor':         'GENConv',\n",
    "#     'head':              'regression',     \n",
    "#     'num_layers':        4,\n",
    "#     'num_mlp_layers':    2,\n",
    "#     'aggr':              'max',\n",
    "#     'batch_size':        8,\n",
    "#     'node_feature_dim':  5,\n",
    "#     'edge_feature_dim':  1,\n",
    "#     'graph_feature_dim': 2,\n",
    "#     'hidden_dim':        58,\n",
    "#     'output_dim':        1,\n",
    "#     'dropout':           0.066,\n",
    "#     'epochs':            80,\n",
    "#     'opt':               'adagrad',\n",
    "#     'opt_scheduler':     'none',\n",
    "#     'opt_restart':       0,\n",
    "#     'weight_decay':      5e-3,\n",
    "#     'lr':                0.0022434,\n",
    "#     'device':            device,\n",
    "#     'noise':             0 # Set to 0 to not train on noisy features\n",
    "# }\n",
    "\n",
    "# Hyperparam optimized for 6,10\n",
    "\n",
    "args = {\n",
    "    'processor':         'GENConv',\n",
    "    'head':              'regression',     \n",
    "    'num_layers':        5,\n",
    "    'num_mlp_layers':    5,\n",
    "    'aggr':              'max',\n",
    "    'batch_size':        2,\n",
    "    'node_feature_dim':  5,\n",
    "    'edge_feature_dim':  1,\n",
    "    'graph_feature_dim': 2,\n",
    "    'hidden_dim':        128,\n",
    "    'output_dim':        1,\n",
    "    'dropout':           0.0115,\n",
    "    'epochs':            32,\n",
    "    'opt':               'adagrad',\n",
    "    'opt_scheduler':     'none',\n",
    "    'opt_restart':       0,\n",
    "    'weight_decay':      5e-3,\n",
    "    'lr':                0.0083,\n",
    "    'device':            device,\n",
    "    'noise':             0 # Set to 0 to not train on noisy features\n",
    "}\n",
    "\n",
    "# Hyperparam optimized for 10,6\n",
    "\n",
    "# args = {\n",
    "#     'processor':         'GENConv',\n",
    "#     'head':              'regression',     \n",
    "#     'num_layers':        3,\n",
    "#     'num_mlp_layers':    3,\n",
    "#     'aggr':              'max',\n",
    "#     'batch_size':        8,\n",
    "#     'node_feature_dim':  5,\n",
    "#     'edge_feature_dim':  1,\n",
    "#     'graph_feature_dim': 2,\n",
    "#     'hidden_dim':        32,\n",
    "#     'output_dim':        1,\n",
    "#     'dropout':           0.0306,\n",
    "#     'epochs':            64,\n",
    "#     'opt':               'adagrad',\n",
    "#     'opt_scheduler':     'none',\n",
    "#     'opt_restart':       0,\n",
    "#     'weight_decay':      5e-3,\n",
    "#     'lr':                0.0121,\n",
    "#     'device':            device,\n",
    "#     'noise':             0 # Set to 0 to not train on noisy features\n",
    "# }"
   ]
  },
  {
   "cell_type": "code",
   "execution_count": 31,
   "metadata": {},
   "outputs": [
    {
     "ename": "KeyboardInterrupt",
     "evalue": "",
     "output_type": "error",
     "traceback": [
      "\u001b[0;31m---------------------------------------------------------------------------\u001b[0m",
      "\u001b[0;31mKeyboardInterrupt\u001b[0m                         Traceback (most recent call last)",
      "\u001b[1;32m/home/alexhay/GNN-OBM/notebooks/base_learner.ipynb Cell 4\u001b[0m in \u001b[0;36m<cell line: 37>\u001b[0;34m()\u001b[0m\n\u001b[1;32m     <a href='vscode-notebook-cell://ssh-remote%2B7b22686f73744e616d65223a22736f616c2d372e7374616e666f72642e656475222c2275736572223a22616c6578686179227d/home/alexhay/GNN-OBM/notebooks/base_learner.ipynb#W3sdnNjb2RlLXJlbW90ZQ%3D%3D?line=31'>32</a>\u001b[0m node_configs \u001b[39m=\u001b[39m util\u001b[39m.\u001b[39mnode_configs_gnn1\n\u001b[1;32m     <a href='vscode-notebook-cell://ssh-remote%2B7b22686f73744e616d65223a22736f616c2d372e7374616e666f72642e656475222c2275736572223a22616c6578686179227d/home/alexhay/GNN-OBM/notebooks/base_learner.ipynb#W3sdnNjb2RlLXJlbW90ZQ%3D%3D?line=33'>34</a>\u001b[0m rng \u001b[39m=\u001b[39m np\u001b[39m.\u001b[39mrandom\u001b[39m.\u001b[39mdefault_rng()\n\u001b[0;32m---> <a href='vscode-notebook-cell://ssh-remote%2B7b22686f73744e616d65223a22736f616c2d372e7374616e666f72642e656475222c2275736572223a22616c6578686179227d/home/alexhay/GNN-OBM/notebooks/base_learner.ipynb#W3sdnNjb2RlLXJlbW90ZQ%3D%3D?line=36'>37</a>\u001b[0m train_instances \u001b[39m=\u001b[39m [\n\u001b[1;32m     <a href='vscode-notebook-cell://ssh-remote%2B7b22686f73744e616d65223a22736f616c2d372e7374616e666f72642e656475222c2275736572223a22616c6578686179227d/home/alexhay/GNN-OBM/notebooks/base_learner.ipynb#W3sdnNjb2RlLXJlbW90ZQ%3D%3D?line=37'>38</a>\u001b[0m         ig\u001b[39m.\u001b[39msample_instances(node_config[\u001b[39m0\u001b[39m], node_config[\u001b[39m1\u001b[39m], train_num, rng, args, \u001b[39m*\u001b[39m\u001b[39m*\u001b[39mgraph_config)\n\u001b[1;32m     <a href='vscode-notebook-cell://ssh-remote%2B7b22686f73744e616d65223a22736f616c2d372e7374616e666f72642e656475222c2275736572223a22616c6578686179227d/home/alexhay/GNN-OBM/notebooks/base_learner.ipynb#W3sdnNjb2RlLXJlbW90ZQ%3D%3D?line=38'>39</a>\u001b[0m         \u001b[39mfor\u001b[39;00m graph_config \u001b[39min\u001b[39;00m graph_configs\n\u001b[1;32m     <a href='vscode-notebook-cell://ssh-remote%2B7b22686f73744e616d65223a22736f616c2d372e7374616e666f72642e656475222c2275736572223a22616c6578686179227d/home/alexhay/GNN-OBM/notebooks/base_learner.ipynb#W3sdnNjb2RlLXJlbW90ZQ%3D%3D?line=39'>40</a>\u001b[0m         \u001b[39mfor\u001b[39;00m node_config \u001b[39min\u001b[39;00m node_configs\n\u001b[1;32m     <a href='vscode-notebook-cell://ssh-remote%2B7b22686f73744e616d65223a22736f616c2d372e7374616e666f72642e656475222c2275736572223a22616c6578686179227d/home/alexhay/GNN-OBM/notebooks/base_learner.ipynb#W3sdnNjb2RlLXJlbW90ZQ%3D%3D?line=40'>41</a>\u001b[0m ]\n\u001b[1;32m     <a href='vscode-notebook-cell://ssh-remote%2B7b22686f73744e616d65223a22736f616c2d372e7374616e666f72642e656475222c2275736572223a22616c6578686179227d/home/alexhay/GNN-OBM/notebooks/base_learner.ipynb#W3sdnNjb2RlLXJlbW90ZQ%3D%3D?line=41'>42</a>\u001b[0m test_instances \u001b[39m=\u001b[39m [\n\u001b[1;32m     <a href='vscode-notebook-cell://ssh-remote%2B7b22686f73744e616d65223a22736f616c2d372e7374616e666f72642e656475222c2275736572223a22616c6578686179227d/home/alexhay/GNN-OBM/notebooks/base_learner.ipynb#W3sdnNjb2RlLXJlbW90ZQ%3D%3D?line=42'>43</a>\u001b[0m         ig\u001b[39m.\u001b[39msample_instances(node_config[\u001b[39m0\u001b[39m], node_config[\u001b[39m1\u001b[39m], test_num, rng, args, \u001b[39m*\u001b[39m\u001b[39m*\u001b[39mgraph_config)\n\u001b[1;32m     <a href='vscode-notebook-cell://ssh-remote%2B7b22686f73744e616d65223a22736f616c2d372e7374616e666f72642e656475222c2275736572223a22616c6578686179227d/home/alexhay/GNN-OBM/notebooks/base_learner.ipynb#W3sdnNjb2RlLXJlbW90ZQ%3D%3D?line=43'>44</a>\u001b[0m         \u001b[39mfor\u001b[39;00m graph_config \u001b[39min\u001b[39;00m graph_configs\n\u001b[1;32m     <a href='vscode-notebook-cell://ssh-remote%2B7b22686f73744e616d65223a22736f616c2d372e7374616e666f72642e656475222c2275736572223a22616c6578686179227d/home/alexhay/GNN-OBM/notebooks/base_learner.ipynb#W3sdnNjb2RlLXJlbW90ZQ%3D%3D?line=44'>45</a>\u001b[0m         \u001b[39mfor\u001b[39;00m node_config \u001b[39min\u001b[39;00m node_configs\n\u001b[1;32m     <a href='vscode-notebook-cell://ssh-remote%2B7b22686f73744e616d65223a22736f616c2d372e7374616e666f72642e656475222c2275736572223a22616c6578686179227d/home/alexhay/GNN-OBM/notebooks/base_learner.ipynb#W3sdnNjb2RlLXJlbW90ZQ%3D%3D?line=45'>46</a>\u001b[0m ]\n\u001b[1;32m     <a href='vscode-notebook-cell://ssh-remote%2B7b22686f73744e616d65223a22736f616c2d372e7374616e666f72642e656475222c2275736572223a22616c6578686179227d/home/alexhay/GNN-OBM/notebooks/base_learner.ipynb#W3sdnNjb2RlLXJlbW90ZQ%3D%3D?line=46'>47</a>\u001b[0m \u001b[39m# flat map the instances\u001b[39;00m\n",
      "\u001b[1;32m/home/alexhay/GNN-OBM/notebooks/base_learner.ipynb Cell 4\u001b[0m in \u001b[0;36m<listcomp>\u001b[0;34m(.0)\u001b[0m\n\u001b[1;32m     <a href='vscode-notebook-cell://ssh-remote%2B7b22686f73744e616d65223a22736f616c2d372e7374616e666f72642e656475222c2275736572223a22616c6578686179227d/home/alexhay/GNN-OBM/notebooks/base_learner.ipynb#W3sdnNjb2RlLXJlbW90ZQ%3D%3D?line=31'>32</a>\u001b[0m node_configs \u001b[39m=\u001b[39m util\u001b[39m.\u001b[39mnode_configs_gnn1\n\u001b[1;32m     <a href='vscode-notebook-cell://ssh-remote%2B7b22686f73744e616d65223a22736f616c2d372e7374616e666f72642e656475222c2275736572223a22616c6578686179227d/home/alexhay/GNN-OBM/notebooks/base_learner.ipynb#W3sdnNjb2RlLXJlbW90ZQ%3D%3D?line=33'>34</a>\u001b[0m rng \u001b[39m=\u001b[39m np\u001b[39m.\u001b[39mrandom\u001b[39m.\u001b[39mdefault_rng()\n\u001b[1;32m     <a href='vscode-notebook-cell://ssh-remote%2B7b22686f73744e616d65223a22736f616c2d372e7374616e666f72642e656475222c2275736572223a22616c6578686179227d/home/alexhay/GNN-OBM/notebooks/base_learner.ipynb#W3sdnNjb2RlLXJlbW90ZQ%3D%3D?line=36'>37</a>\u001b[0m train_instances \u001b[39m=\u001b[39m [\n\u001b[0;32m---> <a href='vscode-notebook-cell://ssh-remote%2B7b22686f73744e616d65223a22736f616c2d372e7374616e666f72642e656475222c2275736572223a22616c6578686179227d/home/alexhay/GNN-OBM/notebooks/base_learner.ipynb#W3sdnNjb2RlLXJlbW90ZQ%3D%3D?line=37'>38</a>\u001b[0m         ig\u001b[39m.\u001b[39;49msample_instances(node_config[\u001b[39m0\u001b[39;49m], node_config[\u001b[39m1\u001b[39;49m], train_num, rng, args, \u001b[39m*\u001b[39;49m\u001b[39m*\u001b[39;49mgraph_config)\n\u001b[1;32m     <a href='vscode-notebook-cell://ssh-remote%2B7b22686f73744e616d65223a22736f616c2d372e7374616e666f72642e656475222c2275736572223a22616c6578686179227d/home/alexhay/GNN-OBM/notebooks/base_learner.ipynb#W3sdnNjb2RlLXJlbW90ZQ%3D%3D?line=38'>39</a>\u001b[0m         \u001b[39mfor\u001b[39;00m graph_config \u001b[39min\u001b[39;00m graph_configs\n\u001b[1;32m     <a href='vscode-notebook-cell://ssh-remote%2B7b22686f73744e616d65223a22736f616c2d372e7374616e666f72642e656475222c2275736572223a22616c6578686179227d/home/alexhay/GNN-OBM/notebooks/base_learner.ipynb#W3sdnNjb2RlLXJlbW90ZQ%3D%3D?line=39'>40</a>\u001b[0m         \u001b[39mfor\u001b[39;00m node_config \u001b[39min\u001b[39;00m node_configs\n\u001b[1;32m     <a href='vscode-notebook-cell://ssh-remote%2B7b22686f73744e616d65223a22736f616c2d372e7374616e666f72642e656475222c2275736572223a22616c6578686179227d/home/alexhay/GNN-OBM/notebooks/base_learner.ipynb#W3sdnNjb2RlLXJlbW90ZQ%3D%3D?line=40'>41</a>\u001b[0m ]\n\u001b[1;32m     <a href='vscode-notebook-cell://ssh-remote%2B7b22686f73744e616d65223a22736f616c2d372e7374616e666f72642e656475222c2275736572223a22616c6578686179227d/home/alexhay/GNN-OBM/notebooks/base_learner.ipynb#W3sdnNjb2RlLXJlbW90ZQ%3D%3D?line=41'>42</a>\u001b[0m test_instances \u001b[39m=\u001b[39m [\n\u001b[1;32m     <a href='vscode-notebook-cell://ssh-remote%2B7b22686f73744e616d65223a22736f616c2d372e7374616e666f72642e656475222c2275736572223a22616c6578686179227d/home/alexhay/GNN-OBM/notebooks/base_learner.ipynb#W3sdnNjb2RlLXJlbW90ZQ%3D%3D?line=42'>43</a>\u001b[0m         ig\u001b[39m.\u001b[39msample_instances(node_config[\u001b[39m0\u001b[39m], node_config[\u001b[39m1\u001b[39m], test_num, rng, args, \u001b[39m*\u001b[39m\u001b[39m*\u001b[39mgraph_config)\n\u001b[1;32m     <a href='vscode-notebook-cell://ssh-remote%2B7b22686f73744e616d65223a22736f616c2d372e7374616e666f72642e656475222c2275736572223a22616c6578686179227d/home/alexhay/GNN-OBM/notebooks/base_learner.ipynb#W3sdnNjb2RlLXJlbW90ZQ%3D%3D?line=43'>44</a>\u001b[0m         \u001b[39mfor\u001b[39;00m graph_config \u001b[39min\u001b[39;00m graph_configs\n\u001b[1;32m     <a href='vscode-notebook-cell://ssh-remote%2B7b22686f73744e616d65223a22736f616c2d372e7374616e666f72642e656475222c2275736572223a22616c6578686179227d/home/alexhay/GNN-OBM/notebooks/base_learner.ipynb#W3sdnNjb2RlLXJlbW90ZQ%3D%3D?line=44'>45</a>\u001b[0m         \u001b[39mfor\u001b[39;00m node_config \u001b[39min\u001b[39;00m node_configs\n\u001b[1;32m     <a href='vscode-notebook-cell://ssh-remote%2B7b22686f73744e616d65223a22736f616c2d372e7374616e666f72642e656475222c2275736572223a22616c6578686179227d/home/alexhay/GNN-OBM/notebooks/base_learner.ipynb#W3sdnNjb2RlLXJlbW90ZQ%3D%3D?line=45'>46</a>\u001b[0m ]\n\u001b[1;32m     <a href='vscode-notebook-cell://ssh-remote%2B7b22686f73744e616d65223a22736f616c2d372e7374616e666f72642e656475222c2275736572223a22616c6578686179227d/home/alexhay/GNN-OBM/notebooks/base_learner.ipynb#W3sdnNjb2RlLXJlbW90ZQ%3D%3D?line=46'>47</a>\u001b[0m \u001b[39m# flat map the instances\u001b[39;00m\n",
      "File \u001b[0;32m~/GNN-OBM/instance_generator.py:327\u001b[0m, in \u001b[0;36msample_instances\u001b[0;34m(m, n, num, rng, args, **kwargs)\u001b[0m\n\u001b[1;32m    318\u001b[0m \u001b[39mdef\u001b[39;00m \u001b[39msample_instances\u001b[39m(\n\u001b[1;32m    319\u001b[0m     m: \u001b[39mint\u001b[39m,\n\u001b[1;32m    320\u001b[0m     n: \u001b[39mint\u001b[39m,\n\u001b[0;32m   (...)\u001b[0m\n\u001b[1;32m    324\u001b[0m     \u001b[39m*\u001b[39m\u001b[39m*\u001b[39mkwargs\n\u001b[1;32m    325\u001b[0m ) \u001b[39m-\u001b[39m\u001b[39m>\u001b[39m Tuple[List[_Instance], _Array]:\n\u001b[1;32m    326\u001b[0m     noise_std \u001b[39m=\u001b[39m kwargs\u001b[39m.\u001b[39mget(\u001b[39m'\u001b[39m\u001b[39mnoise\u001b[39m\u001b[39m'\u001b[39m, \u001b[39m0\u001b[39m)\n\u001b[0;32m--> 327\u001b[0m     As \u001b[39m=\u001b[39m _sample_bipartite_graphs(m, n, num, rng, \u001b[39m*\u001b[39;49m\u001b[39m*\u001b[39;49mkwargs)\n\u001b[1;32m    328\u001b[0m     noisy_As \u001b[39m=\u001b[39m [_add_noise_to_vector(A, rng, noise_std) \u001b[39mfor\u001b[39;00m A \u001b[39min\u001b[39;00m As]\n\u001b[1;32m    329\u001b[0m     ps \u001b[39m=\u001b[39m _sample_probs(m, num, rng)\n",
      "File \u001b[0;32m~/GNN-OBM/instance_generator.py:292\u001b[0m, in \u001b[0;36m_sample_bipartite_graphs\u001b[0;34m(m, n, num, rng, **kwargs)\u001b[0m\n\u001b[1;32m    283\u001b[0m \u001b[39mdef\u001b[39;00m \u001b[39m_sample_bipartite_graphs\u001b[39m(\n\u001b[1;32m    284\u001b[0m     m: \u001b[39mint\u001b[39m,\n\u001b[1;32m    285\u001b[0m     n: \u001b[39mint\u001b[39m,\n\u001b[0;32m   (...)\u001b[0m\n\u001b[1;32m    288\u001b[0m     \u001b[39m*\u001b[39m\u001b[39m*\u001b[39mkwargs\n\u001b[1;32m    289\u001b[0m ) \u001b[39m-\u001b[39m\u001b[39m>\u001b[39m List[_Array]:\n\u001b[0;32m--> 292\u001b[0m     \u001b[39mreturn\u001b[39;00m [\n\u001b[1;32m    293\u001b[0m         _sample_bipartite_graph(m, n, rng, \u001b[39m*\u001b[39m\u001b[39m*\u001b[39mkwargs)\n\u001b[1;32m    294\u001b[0m         \u001b[39mfor\u001b[39;00m _ \u001b[39min\u001b[39;00m \u001b[39mrange\u001b[39m(num)\n\u001b[1;32m    295\u001b[0m     ]\n",
      "File \u001b[0;32m~/GNN-OBM/instance_generator.py:293\u001b[0m, in \u001b[0;36m<listcomp>\u001b[0;34m(.0)\u001b[0m\n\u001b[1;32m    283\u001b[0m \u001b[39mdef\u001b[39;00m \u001b[39m_sample_bipartite_graphs\u001b[39m(\n\u001b[1;32m    284\u001b[0m     m: \u001b[39mint\u001b[39m,\n\u001b[1;32m    285\u001b[0m     n: \u001b[39mint\u001b[39m,\n\u001b[0;32m   (...)\u001b[0m\n\u001b[1;32m    288\u001b[0m     \u001b[39m*\u001b[39m\u001b[39m*\u001b[39mkwargs\n\u001b[1;32m    289\u001b[0m ) \u001b[39m-\u001b[39m\u001b[39m>\u001b[39m List[_Array]:\n\u001b[1;32m    292\u001b[0m     \u001b[39mreturn\u001b[39;00m [\n\u001b[0;32m--> 293\u001b[0m         _sample_bipartite_graph(m, n, rng, \u001b[39m*\u001b[39;49m\u001b[39m*\u001b[39;49mkwargs)\n\u001b[1;32m    294\u001b[0m         \u001b[39mfor\u001b[39;00m _ \u001b[39min\u001b[39;00m \u001b[39mrange\u001b[39m(num)\n\u001b[1;32m    295\u001b[0m     ]\n",
      "File \u001b[0;32m~/GNN-OBM/instance_generator.py:249\u001b[0m, in \u001b[0;36m_sample_bipartite_graph\u001b[0;34m(m, n, rng, **kwargs)\u001b[0m\n\u001b[1;32m    243\u001b[0m \u001b[39mif\u001b[39;00m \u001b[39mlen\u001b[39m(missing_names) \u001b[39m>\u001b[39m \u001b[39m0\u001b[39m:\n\u001b[1;32m    244\u001b[0m     \u001b[39mraise\u001b[39;00m \u001b[39mValueError\u001b[39;00m(\n\u001b[1;32m    245\u001b[0m         \u001b[39m'\u001b[39m\u001b[39mDid not provide required attributes for \u001b[39m\u001b[39m'\u001b[39m\n\u001b[1;32m    246\u001b[0m         \u001b[39mf\u001b[39m\u001b[39m'\u001b[39m\u001b[39m{\u001b[39;00mgraph_type\u001b[39m}\u001b[39;00m\u001b[39m graph type: \u001b[39m\u001b[39m{\u001b[39;00mmissing_names\u001b[39m}\u001b[39;00m\u001b[39m'\u001b[39m\n\u001b[1;32m    247\u001b[0m     )\n\u001b[0;32m--> 249\u001b[0m batch_kwargs \u001b[39m=\u001b[39m _batch_kwargs(\u001b[39m*\u001b[39;49m\u001b[39m*\u001b[39;49mkwargs)\n\u001b[1;32m    251\u001b[0m \u001b[39mreturn\u001b[39;00m SAMPLER_ROUTER[graph_type](m, n, rng, \u001b[39m*\u001b[39m\u001b[39m*\u001b[39mbatch_kwargs)\n",
      "File \u001b[0;32m~/GNN-OBM/instance_generator.py:280\u001b[0m, in \u001b[0;36m_batch_kwargs\u001b[0;34m(**kwargs)\u001b[0m\n\u001b[1;32m    268\u001b[0m KWARGS_ROUTER \u001b[39m=\u001b[39m {\n\u001b[1;32m    269\u001b[0m     \u001b[39m'\u001b[39m\u001b[39mER\u001b[39m\u001b[39m'\u001b[39m: _indentity_batch_kwargs,\n\u001b[1;32m    270\u001b[0m     \u001b[39m'\u001b[39m\u001b[39mBA\u001b[39m\u001b[39m'\u001b[39m: _indentity_batch_kwargs,\n\u001b[0;32m   (...)\u001b[0m\n\u001b[1;32m    276\u001b[0m     \u001b[39m'\u001b[39m\u001b[39mOSMNX\u001b[39m\u001b[39m'\u001b[39m: _osmnx_batch_kwargs\n\u001b[1;32m    277\u001b[0m }\n\u001b[1;32m    279\u001b[0m graph_type \u001b[39m=\u001b[39m kwargs[\u001b[39m'\u001b[39m\u001b[39mgraph_type\u001b[39m\u001b[39m'\u001b[39m]\n\u001b[0;32m--> 280\u001b[0m \u001b[39mreturn\u001b[39;00m KWARGS_ROUTER[graph_type](\u001b[39m*\u001b[39;49m\u001b[39m*\u001b[39;49mkwargs)\n",
      "File \u001b[0;32m~/GNN-OBM/instance_generator.py:259\u001b[0m, in \u001b[0;36m_osmnx_batch_kwargs\u001b[0;34m(**kwargs)\u001b[0m\n\u001b[1;32m    257\u001b[0m \u001b[39mdef\u001b[39;00m \u001b[39m_osmnx_batch_kwargs\u001b[39m(\u001b[39m*\u001b[39m\u001b[39m*\u001b[39mkwargs) \u001b[39m-\u001b[39m\u001b[39m>\u001b[39m \u001b[39mdict\u001b[39m:\n\u001b[1;32m    258\u001b[0m     location \u001b[39m=\u001b[39m kwargs[\u001b[39m'\u001b[39m\u001b[39mlocation\u001b[39m\u001b[39m'\u001b[39m]\n\u001b[0;32m--> 259\u001b[0m     location_info \u001b[39m=\u001b[39m _load_osmnx(location)\n\u001b[1;32m    260\u001b[0m     \u001b[39mfor\u001b[39;00m key \u001b[39min\u001b[39;00m location_info\u001b[39m.\u001b[39mkeys():\n\u001b[1;32m    261\u001b[0m         kwargs[key] \u001b[39m=\u001b[39m location_info[key]\n",
      "File \u001b[0;32m~/GNN-OBM/util.py:120\u001b[0m, in \u001b[0;36m_load_osmnx\u001b[0;34m(location)\u001b[0m\n\u001b[1;32m    118\u001b[0m \u001b[39mdef\u001b[39;00m \u001b[39m_load_osmnx\u001b[39m(location: \u001b[39mstr\u001b[39m):\n\u001b[1;32m    119\u001b[0m     \u001b[39mwith\u001b[39;00m \u001b[39mopen\u001b[39m(\u001b[39mf\u001b[39m\u001b[39m\"\u001b[39m\u001b[39mdata/OSMNX_\u001b[39m\u001b[39m{\u001b[39;00mlocation\u001b[39m}\u001b[39;00m\u001b[39m_travel_times.pickle\u001b[39m\u001b[39m\"\u001b[39m, \u001b[39m\"\u001b[39m\u001b[39mrb\u001b[39m\u001b[39m\"\u001b[39m) \u001b[39mas\u001b[39;00m handle:\n\u001b[0;32m--> 120\u001b[0m         location_info \u001b[39m=\u001b[39m pickle\u001b[39m.\u001b[39;49mload(handle)\n\u001b[1;32m    121\u001b[0m     \u001b[39mreturn\u001b[39;00m location_info\n",
      "\u001b[0;31mKeyboardInterrupt\u001b[0m: "
     ]
    }
   ],
   "source": [
    "train_num = 200; test_num = 100\n",
    "node_config = (6,10)\n",
    "\n",
    "# er_config = {\n",
    "#     'graph_type': 'ER',\n",
    "#     'p': 0.75,\n",
    "#     'weighted': True\n",
    "# }\n",
    "# ba_config = {\n",
    "#     'graph_type': 'BA',\n",
    "#     'ba_param': 2,\n",
    "#     'weighted': True\n",
    "# }\n",
    "# geom_config = {\n",
    "#     'graph_type': 'GEOM',\n",
    "#     'threshold': 0.2,\n",
    "#     'scaling': 1 / np.sqrt(2)\n",
    "# }\n",
    "\n",
    "# train_instances = [\n",
    "#         *ig.sample_instances(*node_config, train_num, rng, args, **er_config),\n",
    "#         *ig.sample_instances(*node_config, train_num, rng, args, **ba_config),\n",
    "#         *ig.sample_instances(*node_config, train_num, rng, args, **geom_config),\n",
    "#     ]\n",
    "\n",
    "# test_instances = [\n",
    "#         *ig.sample_instances(*node_config, test_num, rng, args, **er_config),\n",
    "#         *ig.sample_instances(*node_config, test_num, rng, args, **ba_config),\n",
    "#         *ig.sample_instances(*node_config, test_num, rng, args, **geom_config),\n",
    "#     ]\n",
    "\n",
    "node_configs = util.node_configs_gnn1\n",
    "\n",
    "rng = np.random.default_rng()\n",
    "\n",
    "\n",
    "train_instances = [\n",
    "        ig.sample_instances(node_config[0], node_config[1], train_num, rng, args, **graph_config)\n",
    "        for graph_config in graph_configs\n",
    "        for node_config in node_configs\n",
    "]\n",
    "test_instances = [\n",
    "        ig.sample_instances(node_config[0], node_config[1], test_num, rng, args, **graph_config)\n",
    "        for graph_config in graph_configs\n",
    "        for node_config in node_configs\n",
    "]\n",
    "# flat map the instances\n",
    "train_instances = [instance for instances in train_instances for instance in instances]\n",
    "test_instances = [instance for instances in test_instances for instance in instances]\n",
    "\n",
    "train_data = Dataset(tc._instances_to_train_samples(train_instances, args['head']))\n",
    "test_data = Dataset(tc._instances_to_train_samples(test_instances, args['head']))\n",
    "\n",
    "train_loader = DataLoader(\n",
    "    train_data,\n",
    "    batch_size=args['batch_size'],\n",
    "    shuffle=True,\n",
    "    num_workers=4\n",
    ")\n",
    "\n",
    "test_loader = DataLoader(\n",
    "    test_data,\n",
    "    batch_size=args['batch_size'],\n",
    "    shuffle=True,\n",
    "    num_workers=4\n",
    ")"
   ]
  },
  {
   "cell_type": "code",
   "execution_count": 12,
   "metadata": {},
   "outputs": [
    {
     "name": "stderr",
     "output_type": "stream",
     "text": [
      "Training:   0%|          | 0/64 [00:00<?, ?Epochs/s]/home/alexhay/.local/lib/python3.10/site-packages/torch_geometric/utils/scatter.py:93: UserWarning: The usage of `scatter(reduce='max')` can be accelerated via the 'torch-scatter' package, but it was not found\n",
      "  warnings.warn(f\"The usage of `scatter(reduce='{reduce}')` \"\n"
     ]
    },
    {
     "name": "stdout",
     "output_type": "stream",
     "text": [
      "TRAINING LOSS: 0.028850805054291963\n"
     ]
    },
    {
     "name": "stderr",
     "output_type": "stream",
     "text": [
      "Training:   2%|▏         | 1/64 [00:18<19:09, 18.24s/Epochs]"
     ]
    },
    {
     "name": "stdout",
     "output_type": "stream",
     "text": [
      "TEST LOSS: 0.011462138034403324\n",
      "TEST ACCURACY: 0.8618913888931274\n"
     ]
    },
    {
     "name": "stderr",
     "output_type": "stream",
     "text": [
      "Training:   3%|▎         | 2/64 [00:31<15:31, 15.02s/Epochs]"
     ]
    },
    {
     "name": "stdout",
     "output_type": "stream",
     "text": [
      "TRAINING LOSS: 0.014420568845636205\n"
     ]
    },
    {
     "name": "stderr",
     "output_type": "stream",
     "text": [
      "Training:   5%|▍         | 3/64 [00:44<14:24, 14.18s/Epochs]"
     ]
    },
    {
     "name": "stdout",
     "output_type": "stream",
     "text": [
      "TRAINING LOSS: 0.01246313517299067\n"
     ]
    },
    {
     "name": "stderr",
     "output_type": "stream",
     "text": [
      "Training:   6%|▋         | 4/64 [00:57<13:53, 13.90s/Epochs]"
     ]
    },
    {
     "name": "stdout",
     "output_type": "stream",
     "text": [
      "TRAINING LOSS: 0.011122692774260066\n",
      "TRAINING LOSS: 0.01135940055338314\n"
     ]
    },
    {
     "name": "stderr",
     "output_type": "stream",
     "text": [
      "Training:   8%|▊         | 5/64 [01:17<15:50, 16.11s/Epochs]"
     ]
    },
    {
     "name": "stdout",
     "output_type": "stream",
     "text": [
      "TEST LOSS: 0.007629333063960075\n",
      "TEST ACCURACY: 0.8796816468238831\n"
     ]
    },
    {
     "name": "stderr",
     "output_type": "stream",
     "text": [
      "Training:   9%|▉         | 6/64 [01:31<14:45, 15.26s/Epochs]"
     ]
    },
    {
     "name": "stdout",
     "output_type": "stream",
     "text": [
      "TRAINING LOSS: 0.010886654084933518\n"
     ]
    },
    {
     "name": "stderr",
     "output_type": "stream",
     "text": [
      "Training:  11%|█         | 7/64 [01:44<13:49, 14.55s/Epochs]"
     ]
    },
    {
     "name": "stdout",
     "output_type": "stream",
     "text": [
      "TRAINING LOSS: 0.010118755225479968\n"
     ]
    },
    {
     "name": "stderr",
     "output_type": "stream",
     "text": [
      "Training:  12%|█▎        | 8/64 [01:58<13:26, 14.40s/Epochs]"
     ]
    },
    {
     "name": "stdout",
     "output_type": "stream",
     "text": [
      "TRAINING LOSS: 0.010081936899630517\n",
      "TRAINING LOSS: 0.010044732564482075\n"
     ]
    },
    {
     "name": "stderr",
     "output_type": "stream",
     "text": [
      "Training:  14%|█▍        | 9/64 [02:17<14:25, 15.74s/Epochs]"
     ]
    },
    {
     "name": "stdout",
     "output_type": "stream",
     "text": [
      "TEST LOSS: 0.01670609414577484\n",
      "TEST ACCURACY: 0.8501873016357422\n"
     ]
    },
    {
     "name": "stderr",
     "output_type": "stream",
     "text": [
      "Training:  16%|█▌        | 10/64 [02:30<13:36, 15.11s/Epochs]"
     ]
    },
    {
     "name": "stdout",
     "output_type": "stream",
     "text": [
      "TRAINING LOSS: 0.009795618658289628\n"
     ]
    },
    {
     "name": "stderr",
     "output_type": "stream",
     "text": [
      "Training:  17%|█▋        | 11/64 [02:43<12:47, 14.49s/Epochs]"
     ]
    },
    {
     "name": "stdout",
     "output_type": "stream",
     "text": [
      "TRAINING LOSS: 0.009336226979718911\n"
     ]
    },
    {
     "name": "stderr",
     "output_type": "stream",
     "text": [
      "Training:  19%|█▉        | 12/64 [02:56<12:01, 13.88s/Epochs]"
     ]
    },
    {
     "name": "stdout",
     "output_type": "stream",
     "text": [
      "TRAINING LOSS: 0.009306606078573936\n",
      "TRAINING LOSS: 0.009223970913363763\n"
     ]
    },
    {
     "name": "stderr",
     "output_type": "stream",
     "text": [
      "Training:  20%|██        | 13/64 [03:13<12:40, 14.92s/Epochs]"
     ]
    },
    {
     "name": "stdout",
     "output_type": "stream",
     "text": [
      "TEST LOSS: 0.012229776941239834\n",
      "TEST ACCURACY: 0.8857678174972534\n"
     ]
    },
    {
     "name": "stderr",
     "output_type": "stream",
     "text": [
      "Training:  22%|██▏       | 14/64 [03:26<11:59, 14.39s/Epochs]"
     ]
    },
    {
     "name": "stdout",
     "output_type": "stream",
     "text": [
      "TRAINING LOSS: 0.009120951138622796\n"
     ]
    },
    {
     "name": "stderr",
     "output_type": "stream",
     "text": [
      "Training:  23%|██▎       | 15/64 [03:41<11:43, 14.35s/Epochs]"
     ]
    },
    {
     "name": "stdout",
     "output_type": "stream",
     "text": [
      "TRAINING LOSS: 0.009107687854257623\n"
     ]
    },
    {
     "name": "stderr",
     "output_type": "stream",
     "text": [
      "Training:  25%|██▌       | 16/64 [03:53<11:06, 13.89s/Epochs]"
     ]
    },
    {
     "name": "stdout",
     "output_type": "stream",
     "text": [
      "TRAINING LOSS: 0.008690500047164906\n",
      "TRAINING LOSS: 0.008741241584308673\n"
     ]
    },
    {
     "name": "stderr",
     "output_type": "stream",
     "text": [
      "Training:  27%|██▋       | 17/64 [04:13<12:05, 15.44s/Epochs]"
     ]
    },
    {
     "name": "stdout",
     "output_type": "stream",
     "text": [
      "TEST LOSS: 0.00981796532869339\n",
      "TEST ACCURACY: 0.8773408532142639\n"
     ]
    },
    {
     "name": "stderr",
     "output_type": "stream",
     "text": [
      "Training:  28%|██▊       | 18/64 [04:25<11:14, 14.66s/Epochs]"
     ]
    },
    {
     "name": "stdout",
     "output_type": "stream",
     "text": [
      "TRAINING LOSS: 0.00872619575467724\n"
     ]
    },
    {
     "name": "stderr",
     "output_type": "stream",
     "text": [
      "Training:  30%|██▉       | 19/64 [04:38<10:34, 14.10s/Epochs]"
     ]
    },
    {
     "name": "stdout",
     "output_type": "stream",
     "text": [
      "TRAINING LOSS: 0.008494508219115153\n"
     ]
    },
    {
     "name": "stderr",
     "output_type": "stream",
     "text": [
      "Training:  31%|███▏      | 20/64 [04:51<10:07, 13.80s/Epochs]"
     ]
    },
    {
     "name": "stdout",
     "output_type": "stream",
     "text": [
      "TRAINING LOSS: 0.008807655271656856\n",
      "TRAINING LOSS: 0.008197312576571691\n"
     ]
    },
    {
     "name": "stderr",
     "output_type": "stream",
     "text": [
      "Training:  33%|███▎      | 21/64 [05:10<11:01, 15.38s/Epochs]"
     ]
    },
    {
     "name": "stdout",
     "output_type": "stream",
     "text": [
      "TEST LOSS: 0.008266539312899113\n",
      "TEST ACCURACY: 0.8834269642829895\n"
     ]
    },
    {
     "name": "stderr",
     "output_type": "stream",
     "text": [
      "Training:  34%|███▍      | 22/64 [05:24<10:20, 14.77s/Epochs]"
     ]
    },
    {
     "name": "stdout",
     "output_type": "stream",
     "text": [
      "TRAINING LOSS: 0.008350407883474008\n"
     ]
    },
    {
     "name": "stderr",
     "output_type": "stream",
     "text": [
      "Training:  36%|███▌      | 23/64 [05:37<09:48, 14.34s/Epochs]"
     ]
    },
    {
     "name": "stdout",
     "output_type": "stream",
     "text": [
      "TRAINING LOSS: 0.008047851634940489\n"
     ]
    },
    {
     "name": "stderr",
     "output_type": "stream",
     "text": [
      "Training:  38%|███▊      | 24/64 [05:50<09:21, 14.04s/Epochs]"
     ]
    },
    {
     "name": "stdout",
     "output_type": "stream",
     "text": [
      "TRAINING LOSS: 0.00837114258760124\n",
      "TRAINING LOSS: 0.00808062977050056\n"
     ]
    },
    {
     "name": "stderr",
     "output_type": "stream",
     "text": [
      "Training:  39%|███▉      | 25/64 [06:08<09:53, 15.21s/Epochs]"
     ]
    },
    {
     "name": "stdout",
     "output_type": "stream",
     "text": [
      "TEST LOSS: 0.007144153583794832\n",
      "TEST ACCURACY: 0.8852996230125427\n"
     ]
    },
    {
     "name": "stderr",
     "output_type": "stream",
     "text": [
      "Training:  41%|████      | 26/64 [06:21<09:14, 14.60s/Epochs]"
     ]
    },
    {
     "name": "stdout",
     "output_type": "stream",
     "text": [
      "TRAINING LOSS: 0.008150270580938345\n"
     ]
    },
    {
     "name": "stderr",
     "output_type": "stream",
     "text": [
      "Training:  42%|████▏     | 27/64 [06:36<09:02, 14.65s/Epochs]"
     ]
    },
    {
     "name": "stdout",
     "output_type": "stream",
     "text": [
      "TRAINING LOSS: 0.00820444961095135\n"
     ]
    },
    {
     "name": "stderr",
     "output_type": "stream",
     "text": [
      "Training:  44%|████▍     | 28/64 [06:50<08:41, 14.50s/Epochs]"
     ]
    },
    {
     "name": "stdout",
     "output_type": "stream",
     "text": [
      "TRAINING LOSS: 0.00823113216250412\n",
      "TRAINING LOSS: 0.007968295153907755\n"
     ]
    },
    {
     "name": "stderr",
     "output_type": "stream",
     "text": [
      "Training:  45%|████▌     | 29/64 [07:10<09:16, 15.91s/Epochs]"
     ]
    },
    {
     "name": "stdout",
     "output_type": "stream",
     "text": [
      "TEST LOSS: 0.0064885239116847515\n",
      "TEST ACCURACY: 0.8848314881324768\n"
     ]
    },
    {
     "name": "stderr",
     "output_type": "stream",
     "text": [
      "Training:  47%|████▋     | 30/64 [07:23<08:31, 15.05s/Epochs]"
     ]
    },
    {
     "name": "stdout",
     "output_type": "stream",
     "text": [
      "TRAINING LOSS: 0.007697750890589777\n"
     ]
    },
    {
     "name": "stderr",
     "output_type": "stream",
     "text": [
      "Training:  48%|████▊     | 31/64 [07:36<08:03, 14.64s/Epochs]"
     ]
    },
    {
     "name": "stdout",
     "output_type": "stream",
     "text": [
      "TRAINING LOSS: 0.008068742978597587\n"
     ]
    },
    {
     "name": "stderr",
     "output_type": "stream",
     "text": [
      "Training:  50%|█████     | 32/64 [07:50<07:34, 14.21s/Epochs]"
     ]
    },
    {
     "name": "stdout",
     "output_type": "stream",
     "text": [
      "TRAINING LOSS: 0.007868144922204109\n",
      "TRAINING LOSS: 0.007906124645030784\n"
     ]
    },
    {
     "name": "stderr",
     "output_type": "stream",
     "text": [
      "Training:  52%|█████▏    | 33/64 [08:08<08:04, 15.62s/Epochs]"
     ]
    },
    {
     "name": "stdout",
     "output_type": "stream",
     "text": [
      "TEST LOSS: 0.005923676770180464\n",
      "TEST ACCURACY: 0.891853928565979\n"
     ]
    },
    {
     "name": "stderr",
     "output_type": "stream",
     "text": [
      "Training:  53%|█████▎    | 34/64 [08:21<07:19, 14.66s/Epochs]"
     ]
    },
    {
     "name": "stdout",
     "output_type": "stream",
     "text": [
      "TRAINING LOSS: 0.007739094291952734\n"
     ]
    },
    {
     "name": "stderr",
     "output_type": "stream",
     "text": [
      "Training:  55%|█████▍    | 35/64 [08:34<06:52, 14.21s/Epochs]"
     ]
    },
    {
     "name": "stdout",
     "output_type": "stream",
     "text": [
      "TRAINING LOSS: 0.007811329378959211\n"
     ]
    },
    {
     "name": "stderr",
     "output_type": "stream",
     "text": [
      "Training:  56%|█████▋    | 36/64 [08:48<06:32, 14.01s/Epochs]"
     ]
    },
    {
     "name": "stdout",
     "output_type": "stream",
     "text": [
      "TRAINING LOSS: 0.007760728744055604\n",
      "TRAINING LOSS: 0.007853148598531002\n"
     ]
    },
    {
     "name": "stderr",
     "output_type": "stream",
     "text": [
      "Training:  58%|█████▊    | 37/64 [09:06<06:57, 15.46s/Epochs]"
     ]
    },
    {
     "name": "stdout",
     "output_type": "stream",
     "text": [
      "TEST LOSS: 0.007013262249529362\n",
      "TEST ACCURACY: 0.8857678174972534\n"
     ]
    },
    {
     "name": "stderr",
     "output_type": "stream",
     "text": [
      "Training:  59%|█████▉    | 38/64 [09:21<06:35, 15.19s/Epochs]"
     ]
    },
    {
     "name": "stdout",
     "output_type": "stream",
     "text": [
      "TRAINING LOSS: 0.007668244523696822\n"
     ]
    },
    {
     "name": "stderr",
     "output_type": "stream",
     "text": [
      "Training:  61%|██████    | 39/64 [09:34<06:05, 14.62s/Epochs]"
     ]
    },
    {
     "name": "stdout",
     "output_type": "stream",
     "text": [
      "TRAINING LOSS: 0.007799954215780574\n"
     ]
    },
    {
     "name": "stderr",
     "output_type": "stream",
     "text": [
      "Training:  62%|██████▎   | 40/64 [09:47<05:38, 14.09s/Epochs]"
     ]
    },
    {
     "name": "stdout",
     "output_type": "stream",
     "text": [
      "TRAINING LOSS: 0.007565395965241335\n",
      "TRAINING LOSS: 0.00755600389468234\n"
     ]
    },
    {
     "name": "stderr",
     "output_type": "stream",
     "text": [
      "Training:  64%|██████▍   | 41/64 [10:05<05:51, 15.30s/Epochs]"
     ]
    },
    {
     "name": "stdout",
     "output_type": "stream",
     "text": [
      "TEST LOSS: 0.008346356451511383\n",
      "TEST ACCURACY: 0.8951311111450195\n"
     ]
    },
    {
     "name": "stderr",
     "output_type": "stream",
     "text": [
      "Training:  66%|██████▌   | 42/64 [10:18<05:21, 14.63s/Epochs]"
     ]
    },
    {
     "name": "stdout",
     "output_type": "stream",
     "text": [
      "TRAINING LOSS: 0.007606427620519944\n"
     ]
    },
    {
     "name": "stderr",
     "output_type": "stream",
     "text": [
      "Training:  67%|██████▋   | 43/64 [10:31<04:58, 14.19s/Epochs]"
     ]
    },
    {
     "name": "stdout",
     "output_type": "stream",
     "text": [
      "TRAINING LOSS: 0.007263321965780185\n"
     ]
    },
    {
     "name": "stderr",
     "output_type": "stream",
     "text": [
      "Training:  69%|██████▉   | 44/64 [10:44<04:34, 13.71s/Epochs]"
     ]
    },
    {
     "name": "stdout",
     "output_type": "stream",
     "text": [
      "TRAINING LOSS: 0.007537683884508371\n",
      "TRAINING LOSS: 0.007670662055924724\n"
     ]
    },
    {
     "name": "stderr",
     "output_type": "stream",
     "text": [
      "Training:  70%|███████   | 45/64 [11:02<04:44, 14.97s/Epochs]"
     ]
    },
    {
     "name": "stdout",
     "output_type": "stream",
     "text": [
      "TEST LOSS: 0.00673783989623189\n",
      "TEST ACCURACY: 0.8857678174972534\n"
     ]
    },
    {
     "name": "stderr",
     "output_type": "stream",
     "text": [
      "Training:  72%|███████▏  | 46/64 [11:15<04:16, 14.27s/Epochs]"
     ]
    },
    {
     "name": "stdout",
     "output_type": "stream",
     "text": [
      "TRAINING LOSS: 0.007377504576629294\n"
     ]
    },
    {
     "name": "stderr",
     "output_type": "stream",
     "text": [
      "Training:  73%|███████▎  | 47/64 [11:28<03:56, 13.91s/Epochs]"
     ]
    },
    {
     "name": "stdout",
     "output_type": "stream",
     "text": [
      "TRAINING LOSS: 0.007441875148100451\n"
     ]
    },
    {
     "name": "stderr",
     "output_type": "stream",
     "text": [
      "Training:  75%|███████▌  | 48/64 [11:41<03:38, 13.67s/Epochs]"
     ]
    },
    {
     "name": "stdout",
     "output_type": "stream",
     "text": [
      "TRAINING LOSS: 0.0074695075839736865\n",
      "TRAINING LOSS: 0.007349478578115136\n"
     ]
    },
    {
     "name": "stderr",
     "output_type": "stream",
     "text": [
      "Training:  77%|███████▋  | 49/64 [11:59<03:43, 14.91s/Epochs]"
     ]
    },
    {
     "name": "stdout",
     "output_type": "stream",
     "text": [
      "TEST LOSS: 0.0068368748761713505\n",
      "TEST ACCURACY: 0.8932584524154663\n"
     ]
    },
    {
     "name": "stderr",
     "output_type": "stream",
     "text": [
      "Training:  78%|███████▊  | 50/64 [12:12<03:21, 14.38s/Epochs]"
     ]
    },
    {
     "name": "stdout",
     "output_type": "stream",
     "text": [
      "TRAINING LOSS: 0.007342615678952064\n"
     ]
    },
    {
     "name": "stderr",
     "output_type": "stream",
     "text": [
      "Training:  80%|███████▉  | 51/64 [12:26<03:04, 14.22s/Epochs]"
     ]
    },
    {
     "name": "stdout",
     "output_type": "stream",
     "text": [
      "TRAINING LOSS: 0.007318576085203543\n"
     ]
    },
    {
     "name": "stderr",
     "output_type": "stream",
     "text": [
      "Training:  81%|████████▏ | 52/64 [12:38<02:45, 13.79s/Epochs]"
     ]
    },
    {
     "name": "stdout",
     "output_type": "stream",
     "text": [
      "TRAINING LOSS: 0.0073549690732256\n",
      "TRAINING LOSS: 0.007461235700355026\n"
     ]
    },
    {
     "name": "stderr",
     "output_type": "stream",
     "text": [
      "Training:  83%|████████▎ | 53/64 [12:57<02:47, 15.25s/Epochs]"
     ]
    },
    {
     "name": "stdout",
     "output_type": "stream",
     "text": [
      "TEST LOSS: 0.006041478831321001\n",
      "TEST ACCURACY: 0.887172281742096\n"
     ]
    },
    {
     "name": "stderr",
     "output_type": "stream",
     "text": [
      "Training:  84%|████████▍ | 54/64 [13:10<02:25, 14.58s/Epochs]"
     ]
    },
    {
     "name": "stdout",
     "output_type": "stream",
     "text": [
      "TRAINING LOSS: 0.007329630756946356\n"
     ]
    },
    {
     "name": "stderr",
     "output_type": "stream",
     "text": [
      "Training:  86%|████████▌ | 55/64 [13:23<02:07, 14.17s/Epochs]"
     ]
    },
    {
     "name": "stdout",
     "output_type": "stream",
     "text": [
      "TRAINING LOSS: 0.007329738154714323\n"
     ]
    },
    {
     "name": "stderr",
     "output_type": "stream",
     "text": [
      "Training:  88%|████████▊ | 56/64 [13:36<01:51, 13.88s/Epochs]"
     ]
    },
    {
     "name": "stdout",
     "output_type": "stream",
     "text": [
      "TRAINING LOSS: 0.007212535845351792\n",
      "TRAINING LOSS: 0.007491398314180777\n"
     ]
    },
    {
     "name": "stderr",
     "output_type": "stream",
     "text": [
      "Training:  89%|████████▉ | 57/64 [13:54<01:43, 14.84s/Epochs]"
     ]
    },
    {
     "name": "stdout",
     "output_type": "stream",
     "text": [
      "TEST LOSS: 0.007619963958859444\n",
      "TEST ACCURACY: 0.8810861706733704\n"
     ]
    },
    {
     "name": "stderr",
     "output_type": "stream",
     "text": [
      "Training:  91%|█████████ | 58/64 [14:07<01:26, 14.35s/Epochs]"
     ]
    },
    {
     "name": "stdout",
     "output_type": "stream",
     "text": [
      "TRAINING LOSS: 0.007297848047512253\n"
     ]
    },
    {
     "name": "stderr",
     "output_type": "stream",
     "text": [
      "Training:  92%|█████████▏| 59/64 [14:21<01:11, 14.23s/Epochs]"
     ]
    },
    {
     "name": "stdout",
     "output_type": "stream",
     "text": [
      "TRAINING LOSS: 0.007153117302340182\n"
     ]
    },
    {
     "name": "stderr",
     "output_type": "stream",
     "text": [
      "Training:  94%|█████████▍| 60/64 [14:35<00:56, 14.21s/Epochs]"
     ]
    },
    {
     "name": "stdout",
     "output_type": "stream",
     "text": [
      "TRAINING LOSS: 0.007188520581802345\n",
      "TRAINING LOSS: 0.007242255450129418\n"
     ]
    },
    {
     "name": "stderr",
     "output_type": "stream",
     "text": [
      "Training:  95%|█████████▌| 61/64 [14:52<00:45, 15.04s/Epochs]"
     ]
    },
    {
     "name": "stdout",
     "output_type": "stream",
     "text": [
      "TEST LOSS: 0.0069217924028635025\n",
      "TEST ACCURACY: 0.8904494643211365\n"
     ]
    },
    {
     "name": "stderr",
     "output_type": "stream",
     "text": [
      "Training:  97%|█████████▋| 62/64 [15:04<00:28, 14.30s/Epochs]"
     ]
    },
    {
     "name": "stdout",
     "output_type": "stream",
     "text": [
      "TRAINING LOSS: 0.007271020632637275\n"
     ]
    },
    {
     "name": "stderr",
     "output_type": "stream",
     "text": [
      "Training:  98%|█████████▊| 63/64 [15:18<00:14, 14.19s/Epochs]"
     ]
    },
    {
     "name": "stdout",
     "output_type": "stream",
     "text": [
      "TRAINING LOSS: 0.00715948293578657\n"
     ]
    },
    {
     "name": "stderr",
     "output_type": "stream",
     "text": [
      "Training: 100%|██████████| 64/64 [15:31<00:00, 14.56s/Epochs]"
     ]
    },
    {
     "name": "stdout",
     "output_type": "stream",
     "text": [
      "TRAINING LOSS: 0.007299659005355299\n"
     ]
    },
    {
     "name": "stderr",
     "output_type": "stream",
     "text": [
      "\n"
     ]
    }
   ],
   "source": [
    "_, _, _, GNN, _ = train(train_loader, test_loader, args)"
   ]
  },
  {
   "cell_type": "code",
   "execution_count": 9,
   "metadata": {},
   "outputs": [],
   "source": [
    "save(GNN, args, 'GNN2_hyperparam_tuned')"
   ]
  },
  {
   "cell_type": "code",
   "execution_count": null,
   "metadata": {},
   "outputs": [],
   "source": [
    "# GNN, args = load('GNN2', device)"
   ]
  },
  {
   "cell_type": "code",
   "execution_count": null,
   "metadata": {},
   "outputs": [],
   "source": [
    "from gnn_library.OBM_greedy import OBM_Greedy\n",
    "from gnn_library.OBM_threshold_greedy import OBM_Threshold_Greedy\n",
    "\n",
    "thresholds = np.linspace(0, 1, 101)\n",
    "thresholded_greedy_models = [(threshold, OBM_Threshold_Greedy(threshold)) for threshold in thresholds]\n",
    "\n",
    "seed = np.random.randint(0, 500000)\n",
    "(m, n) = (8, 16)\n",
    "config = er_config\n",
    "\n",
    "rng = np.random.default_rng(seed)\n",
    "eval_instances = ig.sample_instances(m, n, 10, rng, **config)\n",
    "\n",
    "ratios2 = evaluate_model(\n",
    "    meta_model=None,\n",
    "    meta_model_type=None,\n",
    "    base_models=[GNN],\n",
    "    instances=eval_instances,\n",
    "    batch_size=50,\n",
    "    rng=rng,\n",
    "    num_realizations=5\n",
    ")\n",
    "\n",
    "greedy_ratios = {}\n",
    "for threshold, model in thresholded_greedy_models: \n",
    "    ratio = evaluate_model(\n",
    "        meta_model=None,\n",
    "        meta_model_type=None,\n",
    "        base_models=[model],\n",
    "        instances=eval_instances,\n",
    "        batch_size=50,\n",
    "        rng=rng,\n",
    "        num_realizations=5\n",
    "    )\n",
    "    greedy_ratios[threshold] = np.mean(ratio[0])\n",
    "pp_output(ratios2, _, show_log=False)\n",
    "print(greedy_ratios)"
   ]
  },
  {
   "cell_type": "code",
   "execution_count": null,
   "metadata": {},
   "outputs": [],
   "source": [
    "max_threshold = max(greedy_ratios, key = greedy_ratios.get)\n",
    "print(max_threshold, greedy_ratios[max_threshold])"
   ]
  },
  {
   "cell_type": "markdown",
   "metadata": {},
   "source": [
    "# Pivot to feature-generated graphs"
   ]
  },
  {
   "cell_type": "code",
   "execution_count": null,
   "metadata": {},
   "outputs": [],
   "source": [
    "def get_location_graph(city):\n",
    "\tlocation_graph = ox.graph_from_place(city, network_type=\"drive\")\n",
    "\tlocation_graph = ox.speed.add_edge_speeds(location_graph)\n",
    "\tlocation_graph = ox.speed.add_edge_travel_times(location_graph)\n",
    "\treturn {'location_graph': location_graph, 'city': city}"
   ]
  },
  {
   "cell_type": "code",
   "execution_count": null,
   "metadata": {},
   "outputs": [],
   "source": [
    "piedmont = get_location_graph(\"Piedmont, California, USA\")\n",
    "# san_francisco = get_location_graph(\"San Francisco, California, USA\")\n",
    "founex = get_location_graph(\"Founex, Switzerland\")\n",
    "carmel = get_location_graph(\"Carmel, Indiana, USA\")\n",
    "geneva = get_location_graph(\"Geneva, Switzerland\")"
   ]
  },
  {
   "cell_type": "code",
   "execution_count": null,
   "metadata": {},
   "outputs": [],
   "source": [
    "args = {\n",
    "    'processor':         'GENConv',\n",
    "    'head':              'regression',\n",
    "    'num_layers':        2,\n",
    "    'num_mlp_layers':    2,\n",
    "    'aggr':              'max',\n",
    "    'batch_size':        32,\n",
    "    'node_feature_dim':  4,\n",
    "    'edge_feature_dim':  1,\n",
    "    'graph_feature_dim': 2,\n",
    "    'hidden_dim':        64,\n",
    "    'output_dim':        1,\n",
    "    'dropout':           0.35,\n",
    "    'epochs':            25,\n",
    "    'opt':               'adam',\n",
    "    'opt_scheduler':     'none',\n",
    "    'opt_restart':       0,\n",
    "    'weight_decay':      5e-3,\n",
    "    'lr':                0.0001,\n",
    "    'device':            device\n",
    "}\n",
    "\n",
    "train_num = 100; test_num = 30\n",
    "\n",
    "er_config = {\n",
    "    'graph_type': 'ER',\n",
    "    'p': 0.75,\n",
    "    'weighted': True\n",
    "}\n",
    "ba_config = {\n",
    "    'graph_type': 'BA',\n",
    "    'ba_param': 2,\n",
    "    'weighted': True\n",
    "}\n",
    "feat_config = {\n",
    "    'graph_type': 'FEAT',\n",
    "    'q': 0.85,\n",
    "    'weighted': True\n",
    "}\n",
    "# osmnx_config = {\n",
    "#     'graph_type': 'OSMNX',\n",
    "#     'location_graph': piedmont['location_graph']\n",
    "# }\n",
    "# osmnx_config_2 = {\n",
    "#     'graph_type': 'OSMNX',\n",
    "#     'location_graph': san_francisco['location_graph']\n",
    "# }\n",
    "\n",
    "# ox.plot_graph(piedmont['location_graph'])\n",
    "# ox.plot_graph(san_francisco['location_graph'])\n",
    "\n",
    "# part_config = {\n",
    "# \t'graph_type': 'PART',\n",
    "#     'p': 0.5,\n",
    "#     'size': 4,\n",
    "#     'eps': 0.1\n",
    "# },\n",
    "# part_config = {\n",
    "# \t'graph_type': 'PART',\n",
    "#     'p': 0.5,\n",
    "#     'size': 3,\n",
    "#     'eps': 0.3\n",
    "# }\n",
    "\n",
    "rng = np.random.default_rng()\n",
    "\n",
    "\n",
    "train_instances = [\n",
    "        *ig.sample_instances(8, 8, train_num, rng, **er_config),\n",
    "        *ig.sample_instances(8, 8, train_num, rng, **ba_config),\n",
    "        *ig.sample_instances(8, 8, train_num, rng, **feat_config),\n",
    "        # *ig.sample_instances(8, 8, train_num, rng, **osmnx_config),\n",
    "        # *ig.sample_instances(8, 8, train_num, rng, **osmnx_config_2),\n",
    "        # *ig.sample_instances(8, 8, train_num, rng, **feat_config),\n",
    "        # *ig.sample_instances(8, 8, train_num, rng, **part_config),\n",
    "    ]\n",
    "\n",
    "test_instances = [\n",
    "        *ig.sample_instances(8, 8, test_num, rng, **er_config),\n",
    "        *ig.sample_instances(8, 8, test_num, rng, **ba_config),\n",
    "        *ig.sample_instances(8, 8, train_num, rng, **feat_config),\n",
    "        # *ig.sample_instances(8, 8, train_num, rng, **osmnx_config),\n",
    "        # *ig.sample_instances(8, 8, train_num, rng, **osmnx_config_2),\n",
    "        # *ig.sample_instances(8, 8, train_num, rng, **feat_config),\n",
    "        # *ig.sample_instances(8, 8, train_num, rng, **part_config),\n",
    "    ]\n",
    "\n",
    "\n",
    "train_data = Dataset(tc._instances_to_train_samples(train_instances, args['head']))\n",
    "test_data = Dataset(tc._instances_to_train_samples(test_instances, args['head']))\n",
    "\n",
    "train_loader = DataLoader(\n",
    "    train_data,\n",
    "    batch_size=args['batch_size'],\n",
    "    shuffle=True,\n",
    "    num_workers=4\n",
    ")\n",
    "\n",
    "test_loader = DataLoader(\n",
    "    test_data,\n",
    "    batch_size=args['batch_size'],\n",
    "    shuffle=True,\n",
    "    num_workers=4\n",
    ")"
   ]
  },
  {
   "cell_type": "code",
   "execution_count": null,
   "metadata": {},
   "outputs": [],
   "source": [
    "_, _, _, GNN, _ = train(train_loader, test_loader, args)"
   ]
  },
  {
   "cell_type": "markdown",
   "metadata": {},
   "source": [
    "## Set up the threshold greedy value\n",
    "The instance set used to determine the threshold should be the same as the training set for the base models. Here we reduce the number of instances to make the evaluation faster.\n",
    "\n",
    "For the moment, the instance set is the evaluation set since they are too different and would disadvantage threshold greedy."
   ]
  },
  {
   "cell_type": "code",
   "execution_count": 22,
   "metadata": {},
   "outputs": [
    {
     "name": "stderr",
     "output_type": "stream",
     "text": [
      "100%|██████████| 101/101 [29:33<00:00, 17.56s/it]"
     ]
    },
    {
     "name": "stdout",
     "output_type": "stream",
     "text": [
      "Best threshold value: 0.0 achieves CR: 0.05581373962215269\n"
     ]
    },
    {
     "name": "stderr",
     "output_type": "stream",
     "text": [
      "\n"
     ]
    }
   ],
   "source": [
    "from tqdm import tqdm\n",
    "import util\n",
    "seed = np.random.randint(0, 500000)\n",
    "rng = np.random.default_rng(seed)\n",
    "\n",
    "\n",
    "thresholds = np.linspace(0, 1, 101)\n",
    "thresholded_greedy_models = {threshold: OBM_Threshold_Greedy(threshold) for threshold in thresholds}\n",
    "\n",
    "# osmnx_config1 = {\n",
    "#     'graph_type': 'OSMNX',\n",
    "#     'location_graph': piedmont['location_graph']\n",
    "# }\n",
    "# osmnx_config2 = {\n",
    "#     'graph_type': 'OSMNX',\n",
    "#     'location_graph': geneva['location_graph']\n",
    "# }\n",
    "# osmnx_config3 = {\n",
    "#     'graph_type': 'OSMNX',\n",
    "#     'location_graph': carmel['location_graph']\n",
    "# }\n",
    "\n",
    "node_configs = util.node_configs_GNN1\n",
    "graph_configs = util.graph_configs_standard\n",
    "train_num = 5\n",
    "train_instances = [\n",
    "        ig.sample_instances(node_config[0], node_config[1], train_num, rng, args.__dict__, **graph_config)\n",
    "        for graph_config in graph_configs\n",
    "        for node_config in node_configs\n",
    "]\n",
    "\n",
    "# flat map the train instances\n",
    "train_instances = [instance for instances in train_instances for instance in instances]\n",
    "\n",
    "# train_instances = [\n",
    "#         *ig.sample_instances(8, 8, train_num, rng, **er_config),\n",
    "#         *ig.sample_instances(8, 8, train_num, rng, **ba_config),\n",
    "#         *ig.sample_instances(8, 8, train_num, rng, **feat_config),\n",
    "#         *ig.sample_instances(8, 8, train_num, rng, **osmnx_config),\n",
    "# ]\n",
    "\n",
    "\n",
    "greedy_ratios = {}\n",
    "for threshold, model in tqdm(thresholded_greedy_models.items()): \n",
    "    rng = np.random.default_rng(seed)\n",
    "    ratio, _ = ev.evaluate_model(\n",
    "        meta_model=None,\n",
    "        meta_model_type=None,\n",
    "        base_models=[model],\n",
    "        instances=train_instances,\n",
    "        batch_size=50,\n",
    "        rng=rng,\n",
    "        num_realizations=5\n",
    "    )\n",
    "    greedy_ratios[threshold] = np.mean(ratio['learned'])\n",
    "    \n",
    "\n",
    "max_threshold = max(greedy_ratios, key = greedy_ratios.get)\n",
    "print(f\"Best threshold value: {max_threshold} achieves CR: {greedy_ratios[max_threshold]}\")\n",
    "THRESHOLD_MODEL = thresholded_greedy_models[max_threshold]"
   ]
  },
  {
   "cell_type": "code",
   "execution_count": 16,
   "metadata": {},
   "outputs": [
    {
     "name": "stdout",
     "output_type": "stream",
     "text": [
      "{0.0: 0.991188005856922, 0.01: 0.991188005856922, 0.02: 0.991188005856922, 0.03: 0.991188005856922, 0.04: 0.991188005856922, 0.05: 0.991188005856922, 0.06: 0.991188005856922, 0.07: 0.991188005856922, 0.08: 0.991188005856922, 0.09: 0.991188005856922, 0.1: 0.991188005856922, 0.11: 0.991188005856922, 0.12: 0.991188005856922, 0.13: 0.991188005856922, 0.14: 0.991188005856922, 0.15: 0.991188005856922, 0.16: 0.991188005856922, 0.17: 0.991188005856922, 0.18: 0.991188005856922, 0.19: 0.991188005856922, 0.2: 0.991188005856922, 0.21: 0.991188005856922, 0.22: 0.991188005856922, 0.23: 0.991188005856922, 0.24: 0.991188005856922, 0.25: 0.9902019295044397, 0.26: 0.9902019295044397, 0.27: 0.9902019295044397, 0.28: 0.9902019295044397, 0.29: 0.9902019295044397, 0.3: 0.9902019295044397, 0.31: 0.9902019295044397, 0.32: 0.9902019295044397, 0.33: 0.9902019295044397, 0.34: 0.9902019295044397, 0.35000000000000003: 0.9902019295044397, 0.36: 0.9902019295044397, 0.37: 0.9902019295044397, 0.38: 0.9843320526626002, 0.39: 0.9843320526626002, 0.4: 0.9843320526626002, 0.41000000000000003: 0.9843320526626002, 0.42: 0.9843320526626002, 0.43: 0.9843320526626002, 0.44: 0.9843320526626002, 0.45: 0.9843320526626002, 0.46: 0.9843320526626002, 0.47000000000000003: 0.9843320526626002, 0.48: 0.9843320526626002, 0.49: 0.9843320526626002, 0.5: 0.9843320526626002, 0.51: 0.9843320526626002, 0.52: 0.9843320526626002, 0.53: 0.9843320526626002, 0.54: 0.979407312358734, 0.55: 0.979407312358734, 0.56: 0.979407312358734, 0.5700000000000001: 0.979407312358734, 0.58: 0.9734972553262986, 0.59: 0.9734972553262986, 0.6: 0.9707233178603174, 0.61: 0.9707233178603174, 0.62: 0.9676675166779131, 0.63: 0.9676675166779131, 0.64: 0.9676675166779131, 0.65: 0.9676675166779131, 0.66: 0.9617583187059224, 0.67: 0.9617583187059224, 0.68: 0.9617583187059224, 0.6900000000000001: 0.9617583187059224, 0.7000000000000001: 0.9429772336544191, 0.71: 0.9429772336544191, 0.72: 0.9429772336544191, 0.73: 0.9132090907880122, 0.74: 0.9132090907880122, 0.75: 0.9132090907880122, 0.76: 0.9057725702260783, 0.77: 0.9020783975943706, 0.78: 0.9020783975943706, 0.79: 0.8791015038485144, 0.8: 0.8791015038485144, 0.81: 0.8583653281443541, 0.8200000000000001: 0.8583653281443541, 0.8300000000000001: 0.853483085754162, 0.84: 0.831583286795548, 0.85: 0.8242552510840838, 0.86: 0.8158680470715142, 0.87: 0.8158680470715142, 0.88: 0.7915186446478388, 0.89: 0.7634139147463666, 0.9: 0.7527738342621577, 0.91: 0.7173243331561661, 0.92: 0.7173243331561661, 0.93: 0.7139044132628289, 0.9400000000000001: 0.6817667716926843, 0.9500000000000001: 0.6297126048856235, 0.96: 0.6137721359416153, 0.97: 0.5844409766467589, 0.98: 0.4887017839169906, 0.99: 0.4150992656041641, 1.0: 0.4}\n"
     ]
    }
   ],
   "source": [
    "print(greedy_ratios)"
   ]
  },
  {
   "cell_type": "markdown",
   "metadata": {},
   "source": [
    "## Evaluation"
   ]
  },
  {
   "cell_type": "code",
   "execution_count": null,
   "metadata": {},
   "outputs": [],
   "source": [
    "seed = np.random.randint(0, 500000)\n",
    "(m, n) = (32, 16)\n",
    "# config = {\n",
    "#     'graph_type': 'FEAT',\n",
    "#     'q': 0.85,\n",
    "#     'weighted': True\n",
    "# }\n",
    "# config = {\n",
    "#     'graph_type': 'OSMNX',\n",
    "#     'location_graph': piedmont['location_graph']\n",
    "# }\n",
    "# config = {\n",
    "# \t'graph_type': 'PART',\n",
    "#     'p': 0.5,\n",
    "#     'size': 4,\n",
    "#     'eps': 0.1\n",
    "# }\n",
    "\n",
    "rng = np.random.default_rng(seed)\n",
    "# eval_instances = ig.sample_instances(m, n, 100, rng, **config)\n",
    "eval_num = 25\n",
    "eval_instances = [\n",
    "        *ig.sample_instances(m, n, eval_num, rng, **er_config),\n",
    "        *ig.sample_instances(m, n, eval_num, rng, **ba_config),\n",
    "        *ig.sample_instances(m, n, eval_num, rng, **feat_config),\n",
    "        *ig.sample_instances(m, n, eval_num, rng, **osmnx_config),\n",
    "]\n",
    "\n",
    "ratios = ev.evaluate_model(\n",
    "    meta_model=None,\n",
    "    meta_model_type=None,\n",
    "    base_models=[GNN],\n",
    "    instances=eval_instances,\n",
    "    batch_size=50,\n",
    "    rng=rng,\n",
    "    num_realizations=5\n",
    ")\n",
    "\n",
    "\n",
    "ratios2 = ev.evaluate_model(\n",
    "    meta_model=None,\n",
    "    meta_model_type=None,\n",
    "    base_models=[THRESHOLD_MODEL],\n",
    "    instances=eval_instances,\n",
    "    batch_size=50,\n",
    "    rng=rng,\n",
    "    num_realizations=5\n",
    ")\n",
    "\n",
    "pp_output(ratios, _, show_log=False)\n",
    "print(f\"Thresholded greedy: {np.mean(ratios2[0]).round(4)}\")\n"
   ]
  },
  {
   "cell_type": "markdown",
   "metadata": {},
   "source": [
    "## Box plot baseline evaluation"
   ]
  },
  {
   "cell_type": "code",
   "execution_count": 4,
   "metadata": {},
   "outputs": [],
   "source": [
    "GNN, args = load('GNN1_hyperparam_tuned', device)"
   ]
  },
  {
   "cell_type": "code",
   "execution_count": 32,
   "metadata": {},
   "outputs": [
    {
     "name": "stdout",
     "output_type": "stream",
     "text": [
      "{'graph_type': 'ER', 'p': 0.5, 'weighted': True}\n"
     ]
    },
    {
     "name": "stderr",
     "output_type": "stream",
     "text": [
      "/usr/local/lib/python3.10/dist-packages/numpy/core/fromnumeric.py:3432: RuntimeWarning: Mean of empty slice.\n",
      "  return _methods._mean(a, axis=axis, dtype=dtype,\n",
      "/usr/local/lib/python3.10/dist-packages/numpy/core/_methods.py:190: RuntimeWarning: invalid value encountered in double_scalars\n",
      "  ret = ret.dtype.type(ret / rcount)\n"
     ]
    },
    {
     "name": "stdout",
     "output_type": "stream",
     "text": [
      "{'graph_type': 'ER', 'p': 0.75, 'weighted': True}\n",
      "{'graph_type': 'ER', 'p': 0.9, 'weighted': True}\n",
      "{'graph_type': 'BA', 'ba_param': 4, 'weighted': True}\n",
      "{'graph_type': 'BA', 'ba_param': 6, 'weighted': True}\n",
      "{'graph_type': 'BA', 'ba_param': 8, 'weighted': True}\n",
      "{'graph_type': 'GEOM', 'q': 0.15, 'd': 2, 'weighted': True}\n",
      "{'graph_type': 'GEOM', 'q': 0.25, 'd': 2, 'weighted': True}\n",
      "{'graph_type': 'GEOM', 'q': 0.5, 'd': 2, 'weighted': True}\n",
      "{'graph_type': 'OSMNX', 'location': 'Piedmont, California, USA'}\n",
      "{'graph_type': 'OSMNX', 'location': 'Fremont, California, USA'}\n",
      "{'graph_type': 'GM'}\n"
     ]
    },
    {
     "name": "stderr",
     "output_type": "stream",
     "text": [
      "/usr/local/lib/python3.10/dist-packages/numpy/core/fromnumeric.py:3432: RuntimeWarning: Mean of empty slice.\n",
      "  return _methods._mean(a, axis=axis, dtype=dtype,\n",
      "/usr/local/lib/python3.10/dist-packages/numpy/core/_methods.py:190: RuntimeWarning: invalid value encountered in double_scalars\n",
      "  ret = ret.dtype.type(ret / rcount)\n"
     ]
    },
    {
     "name": "stdout",
     "output_type": "stream",
     "text": [
      "{'graph_type': 'ER', 'p': 0.5, 'weighted': True}\n",
      "{'graph_type': 'ER', 'p': 0.75, 'weighted': True}\n",
      "{'graph_type': 'ER', 'p': 0.9, 'weighted': True}\n",
      "{'graph_type': 'BA', 'ba_param': 4, 'weighted': True}\n",
      "{'graph_type': 'BA', 'ba_param': 6, 'weighted': True}\n",
      "{'graph_type': 'BA', 'ba_param': 8, 'weighted': True}\n",
      "{'graph_type': 'GEOM', 'q': 0.15, 'd': 2, 'weighted': True}\n",
      "{'graph_type': 'GEOM', 'q': 0.25, 'd': 2, 'weighted': True}\n",
      "{'graph_type': 'GEOM', 'q': 0.5, 'd': 2, 'weighted': True}\n",
      "{'graph_type': 'OSMNX', 'location': 'Piedmont, California, USA'}\n",
      "{'graph_type': 'OSMNX', 'location': 'Fremont, California, USA'}\n",
      "{'graph_type': 'GM'}\n"
     ]
    },
    {
     "name": "stderr",
     "output_type": "stream",
     "text": [
      "/usr/local/lib/python3.10/dist-packages/numpy/core/fromnumeric.py:3432: RuntimeWarning: Mean of empty slice.\n",
      "  return _methods._mean(a, axis=axis, dtype=dtype,\n",
      "/usr/local/lib/python3.10/dist-packages/numpy/core/_methods.py:190: RuntimeWarning: invalid value encountered in double_scalars\n",
      "  ret = ret.dtype.type(ret / rcount)\n"
     ]
    }
   ],
   "source": [
    "import gnn_library.util as util\n",
    "num_trials = 40\n",
    "threshold = 0 # TODO set up value\n",
    "batch_size = 500 #[int(min(32, x + y)) for (x, y) in node_configs]\n",
    "\n",
    "models = [(\"GNN\", GNN)]\n",
    "t_greedy = OBM_Threshold_Greedy(threshold) \n",
    "\n",
    "node_configs = util.node_configs_gnn1\n",
    "graph_configs = util.graph_configs_standard\n",
    "\n",
    "data = {node_config: {} for node_config in node_configs}\n",
    "\n",
    "for node_config in node_configs:\n",
    "    for graph_config in graph_configs:\n",
    "            print(graph_config)\n",
    "            seed = np.random.randint(0, 500000)\n",
    "            rng = np.random.default_rng(seed)\n",
    "            instances = ig.sample_instances(*node_config, num_trials, rng, args, **graph_config)\n",
    "\n",
    "\n",
    "            rng = np.random.default_rng(seed)\n",
    "\n",
    "            for model_name, model in models:\n",
    "                cr_ratios, _ = evaluate_model(\n",
    "                    meta_model=None,\n",
    "                    meta_model_type=None,\n",
    "                    base_models=[model],\n",
    "                    instances=instances,\n",
    "                    batch_size=batch_size,\n",
    "                    rng=rng,\n",
    "                    num_realizations=5,\n",
    "                    baselines=['greedy', 'lp_rounding'],\n",
    "                )\n",
    "\n",
    "                data[node_config][graph_config['graph_type']] = cr_ratios\n",
    "\n",
    "                t_greedy_ratio, _ = evaluate_model(\n",
    "                    meta_model=None,\n",
    "                    meta_model_type=None,\n",
    "                    base_models=[t_greedy],\n",
    "                    instances=instances,\n",
    "                    batch_size=batch_size,\n",
    "                    rng=rng,\n",
    "                    num_realizations=5,\n",
    "                )\n",
    "\n",
    "                # Threshold greedy is considered as a model here\n",
    "                data[node_config][graph_config['graph_type']]['threshold_greedy'] = t_greedy_ratio['learned']\n"
   ]
  },
  {
   "cell_type": "code",
   "execution_count": 33,
   "metadata": {},
   "outputs": [],
   "source": [
    "import pickle\n",
    "\n",
    "with open(f\"saved_runs/box_plot_eval_gnn1_base_2.pickle\", 'wb') as handle:\n",
    "    pickle.dump(data, handle, protocol=pickle.HIGHEST_PROTOCOL)"
   ]
  },
  {
   "cell_type": "code",
   "execution_count": 34,
   "metadata": {},
   "outputs": [],
   "source": [
    "with open(f'saved_runs/box_plot_eval_gnn1_base_2.pickle', 'rb') as handle:\n",
    "    data_copy = pickle.load(handle)"
   ]
  },
  {
   "cell_type": "code",
   "execution_count": 36,
   "metadata": {},
   "outputs": [
    {
     "name": "stderr",
     "output_type": "stream",
     "text": [
      "/usr/local/lib/python3.10/dist-packages/IPython/core/interactiveshell.py:3398: FutureWarning: arrays to stack must be passed as a \"sequence\" type such as list or tuple. Support for non-sequence iterables such as generators is deprecated as of NumPy 1.16 and will raise an error in the future.\n",
      "  exec(code_obj, self.user_global_ns, self.user_ns)\n",
      "No artists with labels found to put in legend.  Note that artists whose label start with an underscore are ignored when legend() is called with no argument.\n"
     ]
    },
    {
     "name": "stdout",
     "output_type": "stream",
     "text": [
      "(40, 4)\n"
     ]
    },
    {
     "data": {
      "image/png": "[encoded data removed]",
      "text/plain": [
       "<Figure size 576x432 with 1 Axes>"
      ]
     },
     "metadata": {
      "needs_background": "light"
     },
     "output_type": "display_data"
    },
    {
     "name": "stderr",
     "output_type": "stream",
     "text": [
      "/usr/local/lib/python3.10/dist-packages/IPython/core/interactiveshell.py:3398: FutureWarning: arrays to stack must be passed as a \"sequence\" type such as list or tuple. Support for non-sequence iterables such as generators is deprecated as of NumPy 1.16 and will raise an error in the future.\n",
      "  exec(code_obj, self.user_global_ns, self.user_ns)\n",
      "No artists with labels found to put in legend.  Note that artists whose label start with an underscore are ignored when legend() is called with no argument.\n"
     ]
    },
    {
     "name": "stdout",
     "output_type": "stream",
     "text": [
      "(40, 4)\n"
     ]
    },
    {
     "data": {
      "image/png": "[encoded data removed]",
      "text/plain": [
       "<Figure size 576x432 with 1 Axes>"
      ]
     },
     "metadata": {
      "needs_background": "light"
     },
     "output_type": "display_data"
    },
    {
     "name": "stderr",
     "output_type": "stream",
     "text": [
      "/usr/local/lib/python3.10/dist-packages/IPython/core/interactiveshell.py:3398: FutureWarning: arrays to stack must be passed as a \"sequence\" type such as list or tuple. Support for non-sequence iterables such as generators is deprecated as of NumPy 1.16 and will raise an error in the future.\n",
      "  exec(code_obj, self.user_global_ns, self.user_ns)\n",
      "No artists with labels found to put in legend.  Note that artists whose label start with an underscore are ignored when legend() is called with no argument.\n"
     ]
    },
    {
     "name": "stdout",
     "output_type": "stream",
     "text": [
      "(40, 4)\n"
     ]
    },
    {
     "data": {
      "image/png": "[encoded data removed]",
      "text/plain": [
       "<Figure size 576x432 with 1 Axes>"
      ]
     },
     "metadata": {
      "needs_background": "light"
     },
     "output_type": "display_data"
    },
    {
     "name": "stderr",
     "output_type": "stream",
     "text": [
      "/usr/local/lib/python3.10/dist-packages/IPython/core/interactiveshell.py:3398: FutureWarning: arrays to stack must be passed as a \"sequence\" type such as list or tuple. Support for non-sequence iterables such as generators is deprecated as of NumPy 1.16 and will raise an error in the future.\n",
      "  exec(code_obj, self.user_global_ns, self.user_ns)\n",
      "No artists with labels found to put in legend.  Note that artists whose label start with an underscore are ignored when legend() is called with no argument.\n"
     ]
    },
    {
     "name": "stdout",
     "output_type": "stream",
     "text": [
      "(40, 4)\n"
     ]
    },
    {
     "data": {
      "image/png": "[encoded data removed]",
      "text/plain": [
       "<Figure size 576x432 with 1 Axes>"
      ]
     },
     "metadata": {
      "needs_background": "light"
     },
     "output_type": "display_data"
    },
    {
     "name": "stderr",
     "output_type": "stream",
     "text": [
      "/usr/local/lib/python3.10/dist-packages/IPython/core/interactiveshell.py:3398: FutureWarning: arrays to stack must be passed as a \"sequence\" type such as list or tuple. Support for non-sequence iterables such as generators is deprecated as of NumPy 1.16 and will raise an error in the future.\n",
      "  exec(code_obj, self.user_global_ns, self.user_ns)\n",
      "No artists with labels found to put in legend.  Note that artists whose label start with an underscore are ignored when legend() is called with no argument.\n"
     ]
    },
    {
     "name": "stdout",
     "output_type": "stream",
     "text": [
      "(40, 4)\n"
     ]
    },
    {
     "data": {
      "image/png": "[encoded data removed]",
      "text/plain": [
       "<Figure size 576x432 with 1 Axes>"
      ]
     },
     "metadata": {
      "needs_background": "light"
     },
     "output_type": "display_data"
    },
    {
     "name": "stderr",
     "output_type": "stream",
     "text": [
      "/usr/local/lib/python3.10/dist-packages/IPython/core/interactiveshell.py:3398: FutureWarning: arrays to stack must be passed as a \"sequence\" type such as list or tuple. Support for non-sequence iterables such as generators is deprecated as of NumPy 1.16 and will raise an error in the future.\n",
      "  exec(code_obj, self.user_global_ns, self.user_ns)\n",
      "No artists with labels found to put in legend.  Note that artists whose label start with an underscore are ignored when legend() is called with no argument.\n"
     ]
    },
    {
     "name": "stdout",
     "output_type": "stream",
     "text": [
      "(40, 4)\n"
     ]
    },
    {
     "data": {
      "image/png": "[encoded data removed]",
      "text/plain": [
       "<Figure size 576x432 with 1 Axes>"
      ]
     },
     "metadata": {
      "needs_background": "light"
     },
     "output_type": "display_data"
    },
    {
     "name": "stderr",
     "output_type": "stream",
     "text": [
      "/usr/local/lib/python3.10/dist-packages/IPython/core/interactiveshell.py:3398: FutureWarning: arrays to stack must be passed as a \"sequence\" type such as list or tuple. Support for non-sequence iterables such as generators is deprecated as of NumPy 1.16 and will raise an error in the future.\n",
      "  exec(code_obj, self.user_global_ns, self.user_ns)\n",
      "No artists with labels found to put in legend.  Note that artists whose label start with an underscore are ignored when legend() is called with no argument.\n"
     ]
    },
    {
     "name": "stdout",
     "output_type": "stream",
     "text": [
      "(40, 4)\n"
     ]
    },
    {
     "data": {
      "image/png": "[encoded data removed]",
      "text/plain": [
       "<Figure size 576x432 with 1 Axes>"
      ]
     },
     "metadata": {
      "needs_background": "light"
     },
     "output_type": "display_data"
    },
    {
     "name": "stderr",
     "output_type": "stream",
     "text": [
      "/usr/local/lib/python3.10/dist-packages/IPython/core/interactiveshell.py:3398: FutureWarning: arrays to stack must be passed as a \"sequence\" type such as list or tuple. Support for non-sequence iterables such as generators is deprecated as of NumPy 1.16 and will raise an error in the future.\n",
      "  exec(code_obj, self.user_global_ns, self.user_ns)\n",
      "No artists with labels found to put in legend.  Note that artists whose label start with an underscore are ignored when legend() is called with no argument.\n"
     ]
    },
    {
     "name": "stdout",
     "output_type": "stream",
     "text": [
      "(40, 4)\n"
     ]
    },
    {
     "data": {
      "image/png": "[encoded data removed]",
      "text/plain": [
       "<Figure size 576x432 with 1 Axes>"
      ]
     },
     "metadata": {
      "needs_background": "light"
     },
     "output_type": "display_data"
    },
    {
     "name": "stderr",
     "output_type": "stream",
     "text": [
      "/usr/local/lib/python3.10/dist-packages/IPython/core/interactiveshell.py:3398: FutureWarning: arrays to stack must be passed as a \"sequence\" type such as list or tuple. Support for non-sequence iterables such as generators is deprecated as of NumPy 1.16 and will raise an error in the future.\n",
      "  exec(code_obj, self.user_global_ns, self.user_ns)\n",
      "No artists with labels found to put in legend.  Note that artists whose label start with an underscore are ignored when legend() is called with no argument.\n"
     ]
    },
    {
     "name": "stdout",
     "output_type": "stream",
     "text": [
      "(40, 4)\n"
     ]
    },
    {
     "data": {
      "image/png": "[encoded data removed]",
      "text/plain": [
       "<Figure size 576x432 with 1 Axes>"
      ]
     },
     "metadata": {
      "needs_background": "light"
     },
     "output_type": "display_data"
    },
    {
     "name": "stderr",
     "output_type": "stream",
     "text": [
      "/usr/local/lib/python3.10/dist-packages/IPython/core/interactiveshell.py:3398: FutureWarning: arrays to stack must be passed as a \"sequence\" type such as list or tuple. Support for non-sequence iterables such as generators is deprecated as of NumPy 1.16 and will raise an error in the future.\n",
      "  exec(code_obj, self.user_global_ns, self.user_ns)\n",
      "No artists with labels found to put in legend.  Note that artists whose label start with an underscore are ignored when legend() is called with no argument.\n"
     ]
    },
    {
     "name": "stdout",
     "output_type": "stream",
     "text": [
      "(40, 4)\n"
     ]
    },
    {
     "data": {
      "image/png": "[encoded data removed]",
      "text/plain": [
       "<Figure size 576x432 with 1 Axes>"
      ]
     },
     "metadata": {
      "needs_background": "light"
     },
     "output_type": "display_data"
    }
   ],
   "source": [
    "from util import _box_plots\n",
    "for node_config in node_configs:\n",
    "\t_box_plots(data_copy[node_config], lambda graph_type: f\"GNN1_base_{graph_type} {node_config[1]}x{node_config[0]}\", colors = ['pink', 'lightblue', 'lightgreen'])"
   ]
  },
  {
   "cell_type": "markdown",
   "metadata": {},
   "source": [
    "### Baseline ER/BA/GEOM evaluation"
   ]
  },
  {
   "cell_type": "code",
   "execution_count": 7,
   "metadata": {},
   "outputs": [
    {
     "name": "stdout",
     "output_type": "stream",
     "text": [
      "[0.25, 0.75, 1.25, 1.75, 2.25]\n",
      "{'graph_type': 'ER', 'p': 0.75, 'weighted': True} (4, 16)\n"
     ]
    },
    {
     "ename": "AttributeError",
     "evalue": "'tuple' object has no attribute 'pop'",
     "output_type": "error",
     "traceback": [
      "\u001b[0;31m---------------------------------------------------------------------------\u001b[0m",
      "\u001b[0;31mAttributeError\u001b[0m                            Traceback (most recent call last)",
      "\u001b[1;32m/home/alexhay/GNN-OBM/notebooks/base_learner.ipynb Cell 25\u001b[0m in \u001b[0;36m<cell line: 32>\u001b[0;34m()\u001b[0m\n\u001b[1;32m     <a href='vscode-notebook-cell://ssh-remote%2B7b22686f73744e616d65223a22736f616c2d372e7374616e666f72642e656475222c2275736572223a22616c6578686179227d/home/alexhay/GNN-OBM/notebooks/base_learner.ipynb#X26sdnNjb2RlLXJlbW90ZQ%3D%3D?line=43'>44</a>\u001b[0m     cr_ratios \u001b[39m=\u001b[39m evaluate_model(\n\u001b[1;32m     <a href='vscode-notebook-cell://ssh-remote%2B7b22686f73744e616d65223a22736f616c2d372e7374616e666f72642e656475222c2275736572223a22616c6578686179227d/home/alexhay/GNN-OBM/notebooks/base_learner.ipynb#X26sdnNjb2RlLXJlbW90ZQ%3D%3D?line=44'>45</a>\u001b[0m         meta_model\u001b[39m=\u001b[39m\u001b[39mNone\u001b[39;00m,\n\u001b[1;32m     <a href='vscode-notebook-cell://ssh-remote%2B7b22686f73744e616d65223a22736f616c2d372e7374616e666f72642e656475222c2275736572223a22616c6578686179227d/home/alexhay/GNN-OBM/notebooks/base_learner.ipynb#X26sdnNjb2RlLXJlbW90ZQ%3D%3D?line=45'>46</a>\u001b[0m         meta_model_type\u001b[39m=\u001b[39m\u001b[39mNone\u001b[39;00m,\n\u001b[0;32m   (...)\u001b[0m\n\u001b[1;32m     <a href='vscode-notebook-cell://ssh-remote%2B7b22686f73744e616d65223a22736f616c2d372e7374616e666f72642e656475222c2275736572223a22616c6578686179227d/home/alexhay/GNN-OBM/notebooks/base_learner.ipynb#X26sdnNjb2RlLXJlbW90ZQ%3D%3D?line=52'>53</a>\u001b[0m         baselines\u001b[39m=\u001b[39mbaselines\n\u001b[1;32m     <a href='vscode-notebook-cell://ssh-remote%2B7b22686f73744e616d65223a22736f616c2d372e7374616e666f72642e656475222c2275736572223a22616c6578686179227d/home/alexhay/GNN-OBM/notebooks/base_learner.ipynb#X26sdnNjb2RlLXJlbW90ZQ%3D%3D?line=53'>54</a>\u001b[0m     )\n\u001b[1;32m     <a href='vscode-notebook-cell://ssh-remote%2B7b22686f73744e616d65223a22736f616c2d372e7374616e666f72642e656475222c2275736572223a22616c6578686179227d/home/alexhay/GNN-OBM/notebooks/base_learner.ipynb#X26sdnNjb2RlLXJlbW90ZQ%3D%3D?line=55'>56</a>\u001b[0m     baselines \u001b[39m=\u001b[39m []\n\u001b[0;32m---> <a href='vscode-notebook-cell://ssh-remote%2B7b22686f73744e616d65223a22736f616c2d372e7374616e666f72642e656475222c2275736572223a22616c6578686179227d/home/alexhay/GNN-OBM/notebooks/base_learner.ipynb#X26sdnNjb2RlLXJlbW90ZQ%3D%3D?line=57'>58</a>\u001b[0m     cr_ratios[model_name] \u001b[39m=\u001b[39m cr_ratios\u001b[39m.\u001b[39;49mpop(\u001b[39m\"\u001b[39m\u001b[39mlearned\u001b[39m\u001b[39m\"\u001b[39m)\n\u001b[1;32m     <a href='vscode-notebook-cell://ssh-remote%2B7b22686f73744e616d65223a22736f616c2d372e7374616e666f72642e656475222c2275736572223a22616c6578686179227d/home/alexhay/GNN-OBM/notebooks/base_learner.ipynb#X26sdnNjb2RlLXJlbW90ZQ%3D%3D?line=59'>60</a>\u001b[0m data[graph_config[\u001b[39m'\u001b[39m\u001b[39mgraph_type\u001b[39m\u001b[39m'\u001b[39m]]\u001b[39m.\u001b[39mappend(cr_ratios)\n",
      "\u001b[0;31mAttributeError\u001b[0m: 'tuple' object has no attribute 'pop'"
     ]
    }
   ],
   "source": [
    "num_trials = 40\n",
    "node_configs = [(x, 16) for x in np.arange(4, 40, 8)]\n",
    "# of nodes [20 -> 80]\n",
    "# of nodes in batch [10,000 -> 40,000]\n",
    "batch_size = 500 #[int(min(32, x + y)) for (x, y) in node_configs]\n",
    "\n",
    "models = [(\"GNN\", GNN)]\n",
    "\n",
    "graph_configs = [\n",
    "    {\n",
    "        'graph_type': 'ER',\n",
    "        'p': 0.75,\n",
    "        'weighted': True\n",
    "    },\n",
    "    {\n",
    "        'graph_type': 'BA',\n",
    "        'ba_param': 4,\n",
    "        'weighted': True\n",
    "    },\n",
    "    # {\n",
    "    #     'graph_type': 'GEOM',\n",
    "    #     'threshold': 0.2,\n",
    "    #     'scaling': 1 / np.sqrt(2),\n",
    "    #     'weighted': True\n",
    "    # }\n",
    "]\n",
    "\n",
    "ratios = [x/y for (x,y) in node_configs]\n",
    "print(ratios)\n",
    "\n",
    "data = {config['graph_type']: [] for config in graph_configs}\n",
    "for graph_config in graph_configs:\n",
    "    for i, node_config in enumerate(node_configs):\n",
    "        print(graph_config, node_config)\n",
    "        seed = np.random.randint(0, 500000)\n",
    "        rng = np.random.default_rng(seed)\n",
    "        instances = ig.sample_instances(*node_config, num_trials, rng, args, **graph_config)\n",
    "\n",
    "\n",
    "        rng = np.random.default_rng(seed)\n",
    "\n",
    "        baselines = ['greedy']\n",
    "        for model_name, model in models:\n",
    "            cr_ratios = evaluate_model(\n",
    "                meta_model=None,\n",
    "                meta_model_type=None,\n",
    "                base_models=[model],\n",
    "                instances=instances,\n",
    "                batch_size=batch_size,\n",
    "                rng=rng,\n",
    "                num_realizations=5,\n",
    "                # baselines=['greedy', 'lp_rounding']\n",
    "                baselines=baselines\n",
    "            )\n",
    "\n",
    "            baselines = []\n",
    "\n",
    "            cr_ratios[model_name] = cr_ratios.pop(\"learned\")\n",
    "\n",
    "        data[graph_config['graph_type']].append(cr_ratios)"
   ]
  },
  {
   "cell_type": "code",
   "execution_count": null,
   "metadata": {},
   "outputs": [],
   "source": [
    "from util import _plot_approx_ratios\n",
    "_plot_approx_ratios(ratios, data, lambda graph_type: graph_type, confidence = 0.95)"
   ]
  },
  {
   "cell_type": "code",
   "execution_count": null,
   "metadata": {},
   "outputs": [],
   "source": [
    "import matplotlib.pyplot as plt\n",
    "\n",
    "ratios = [x/y for (x,y) in node_configs]\n",
    "\n",
    "for graph_type, comp_ratios in data.items():\n",
    "    aggregated_ratios = {}\n",
    "\n",
    "    for trial_ratios in comp_ratios:\n",
    "        for model, ratio_values in trial_ratios.items():\n",
    "            current_ratios = aggregated_ratios.get(model, [])\n",
    "            current_ratios.append(np.array(ratio_values).mean())\n",
    "            aggregated_ratios[model] = current_ratios\n",
    "\n",
    "    fig = plt.figure(figsize=(8,6))\n",
    "    for model, model_ratios in aggregated_ratios.items():\n",
    "        plt.plot(ratios, model_ratios, label=model)\n",
    "\n",
    "    title = f\"{graph_type}\"\n",
    "    plt.title(title)\n",
    "    plt.xlabel('# online / # offline')\n",
    "    plt.ylabel('Average competitive ratio')\n",
    "    plt.legend()\n",
    "    plt.savefig(f\"data/17_01_2024_{title}_no_probabilities.png\")\n",
    "    plt.show()\n"
   ]
  },
  {
   "cell_type": "markdown",
   "metadata": {},
   "source": [
    "## Noise experiments"
   ]
  },
  {
   "cell_type": "code",
   "execution_count": 7,
   "metadata": {},
   "outputs": [],
   "source": [
    "def create_noise_robust_models(noise_values):\n",
    "    models = []\n",
    "    for noise_value in noise_values:\n",
    "        print(f\"Training model for noise {noise_value}\")\n",
    "        args = {\n",
    "            'processor':         'GENConv',\n",
    "            'head':              'regression',     \n",
    "            'num_layers':        3,\n",
    "            'num_mlp_layers':    3,\n",
    "            'aggr':              'max',\n",
    "            'batch_size':        8,\n",
    "            'node_feature_dim':  5,\n",
    "            'edge_feature_dim':  1,\n",
    "            'graph_feature_dim': 2,\n",
    "            'hidden_dim':        32,\n",
    "            'output_dim':        1,\n",
    "            'dropout':           0.0306,\n",
    "            'epochs':            10, #64,\n",
    "            'opt':               'adagrad',\n",
    "            'opt_scheduler':     'none',\n",
    "            'opt_restart':       0,\n",
    "            'weight_decay':      5e-3,\n",
    "            'lr':                0.0121,\n",
    "            'device':            device,\n",
    "            'noise':             noise_value # Set to 0 to not train on noisy features\n",
    "        }\n",
    "\n",
    "        train_num = 100; test_num = 30\n",
    "\n",
    "        er_config = {\n",
    "            'graph_type': 'ER',\n",
    "            'p': 0.75,\n",
    "            'weighted': True\n",
    "        }\n",
    "        ba_config = {\n",
    "            'graph_type': 'BA',\n",
    "            'ba_param': 4,\n",
    "            'weighted': True\n",
    "        }\n",
    "        geom_config = {\n",
    "            'graph_type': 'GEOM',\n",
    "            'q': 0.25,\n",
    "            'd': 2,\n",
    "            'weighted': True\n",
    "        }\n",
    "\n",
    "        rng = np.random.default_rng()\n",
    "\n",
    "        node_config = (10,6)\n",
    "\n",
    "        train_instances = [\n",
    "                *ig.sample_instances(*node_config, train_num, rng, args, **er_config),\n",
    "                *ig.sample_instances(*node_config, train_num, rng, args, **ba_config),\n",
    "                *ig.sample_instances(*node_config, train_num, rng, args, **geom_config),\n",
    "            ]\n",
    "\n",
    "        test_instances = [\n",
    "                *ig.sample_instances(*node_config, test_num, rng, args, **er_config),\n",
    "                *ig.sample_instances(*node_config, test_num, rng, args, **ba_config),\n",
    "                *ig.sample_instances(*node_config, test_num, rng, args, **geom_config),\n",
    "            ]\n",
    "\n",
    "\n",
    "        train_data = Dataset(tc._instances_to_train_samples(train_instances, args['head']))\n",
    "        test_data = Dataset(tc._instances_to_train_samples(test_instances, args['head']))\n",
    "\n",
    "        train_loader = DataLoader(\n",
    "            train_data,\n",
    "            batch_size=args['batch_size'],\n",
    "            shuffle=True,\n",
    "            num_workers=4\n",
    "        )\n",
    "\n",
    "        test_loader = DataLoader(\n",
    "            test_data,\n",
    "            batch_size=args['batch_size'],\n",
    "            shuffle=True,\n",
    "            num_workers=4\n",
    "        )\n",
    "\n",
    "\n",
    "        _, _, _, GNN, _ = train(train_loader, test_loader, args)\n",
    "\n",
    "        save(GNN, args, f'GNN_noise_{noise_value}')\n",
    "\n",
    "        models.append((f\"GNN_{args['noise']}\", GNN))\n",
    "    return models"
   ]
  },
  {
   "cell_type": "code",
   "execution_count": 4,
   "metadata": {},
   "outputs": [],
   "source": [
    "def get_models(noise_values):\n",
    "\tmodels = []\n",
    "\tfor noise_value in noise_values:\n",
    "\t\tGNN, _ = load(f\"GNN_noise_{noise_value}\", device)\n",
    "\t\tmodels.append((f\"GNN_{args['noise']}\", GNN))\n",
    "\treturn models"
   ]
  },
  {
   "cell_type": "code",
   "execution_count": 10,
   "metadata": {},
   "outputs": [],
   "source": [
    "# noise_values = np.linspace(0,3,20)\n",
    "# print(noise_values)\n",
    "# models = create_noise_robust_models(noise_values)\n",
    "noise_values = np.linspace(0,1,21)\n",
    "models = get_models(noise_values)\n",
    "# models = [GNN] * len(noise_values) # TODO change this"
   ]
  },
  {
   "cell_type": "code",
   "execution_count": 11,
   "metadata": {},
   "outputs": [
    {
     "name": "stdout",
     "output_type": "stream",
     "text": [
      "current graph {'graph_type': 'GEOM', 'q': 0.5, 'd': 2, 'weighted': True}\n",
      "Evaluating model for noise 0.0\n"
     ]
    },
    {
     "name": "stderr",
     "output_type": "stream",
     "text": [
      "/home/alexhay/GNN-OBM/algorithms.py:257: RuntimeWarning: invalid value encountered in divide\n",
      "  proposal_probs = x / denom_matrix\n",
      "/usr/local/lib/python3.10/dist-packages/numpy/core/fromnumeric.py:3432: RuntimeWarning: Mean of empty slice.\n",
      "  return _methods._mean(a, axis=axis, dtype=dtype,\n",
      "/usr/local/lib/python3.10/dist-packages/numpy/core/_methods.py:190: RuntimeWarning: invalid value encountered in double_scalars\n",
      "  ret = ret.dtype.type(ret / rcount)\n"
     ]
    },
    {
     "name": "stdout",
     "output_type": "stream",
     "text": [
      "Evaluating model for noise 0.05\n",
      "Evaluating model for noise 0.1\n",
      "Evaluating model for noise 0.15000000000000002\n",
      "Evaluating model for noise 0.2\n",
      "Evaluating model for noise 0.25\n",
      "Evaluating model for noise 0.30000000000000004\n",
      "Evaluating model for noise 0.35000000000000003\n",
      "Evaluating model for noise 0.4\n",
      "Evaluating model for noise 0.45\n",
      "Evaluating model for noise 0.5\n",
      "Evaluating model for noise 0.55\n",
      "Evaluating model for noise 0.6000000000000001\n",
      "Evaluating model for noise 0.65\n",
      "Evaluating model for noise 0.7000000000000001\n",
      "Evaluating model for noise 0.75\n",
      "Evaluating model for noise 0.8\n",
      "Evaluating model for noise 0.8500000000000001\n",
      "Evaluating model for noise 0.9\n",
      "Evaluating model for noise 0.9500000000000001\n",
      "Evaluating model for noise 1.0\n",
      "current graph {'graph_type': 'OSMNX', 'location': 'Piedmont, California, USA'}\n",
      "Evaluating model for noise 0.0\n",
      "Evaluating model for noise 0.05\n",
      "Evaluating model for noise 0.1\n",
      "Evaluating model for noise 0.15000000000000002\n",
      "Evaluating model for noise 0.2\n",
      "Evaluating model for noise 0.25\n",
      "Evaluating model for noise 0.30000000000000004\n",
      "Evaluating model for noise 0.35000000000000003\n",
      "Evaluating model for noise 0.4\n",
      "Evaluating model for noise 0.45\n",
      "Evaluating model for noise 0.5\n",
      "Evaluating model for noise 0.55\n",
      "Evaluating model for noise 0.6000000000000001\n",
      "Evaluating model for noise 0.65\n",
      "Evaluating model for noise 0.7000000000000001\n",
      "Evaluating model for noise 0.75\n",
      "Evaluating model for noise 0.8\n",
      "Evaluating model for noise 0.8500000000000001\n",
      "Evaluating model for noise 0.9\n",
      "Evaluating model for noise 0.9500000000000001\n",
      "Evaluating model for noise 1.0\n"
     ]
    }
   ],
   "source": [
    "import gnn_library.util as util\n",
    "import pickle\n",
    "\n",
    "num_trials = 100\n",
    "batch_size = 500 #[int(min(32, x + y)) for (x, y) in node_configs]\n",
    "node_configs = util.node_configs_gnn\n",
    "graph_configs = util.graph_config5\n",
    "\n",
    "threshold = 0.35 # TODO set up value\n",
    "t_greedy = OBM_Threshold_Greedy(threshold) \n",
    "\n",
    "data = [{node_config:[] for node_config in node_configs} for _ in range(len(graph_configs))]\n",
    "for data_index, graph_config in enumerate(graph_configs):\n",
    "    print(f\"current graph {graph_config}\")\n",
    "    for node_config in node_configs:\n",
    "        for noise_value, model in zip(noise_values, models):\n",
    "            print(f\"Evaluating model for noise {noise_value}\")\n",
    "\n",
    "            seed = np.random.randint(0, 500000)\n",
    "            rng = np.random.default_rng(seed)\n",
    "\n",
    "            args['noise'] = noise_value\n",
    "            instances = ig.sample_instances(*node_config, num_trials, rng, args, **graph_config)\n",
    "\n",
    "            cr_ratios, _ = evaluate_model(\n",
    "                meta_model=None,\n",
    "                meta_model_type=None,\n",
    "                base_models=[model[1]],\n",
    "                instances=instances,\n",
    "                batch_size=batch_size,\n",
    "                rng=rng,\n",
    "                num_realizations=5,\n",
    "                baselines=['greedy', 'lp_rounding']\n",
    "            )\n",
    "\n",
    "            t_greedy_ratio, _ = evaluate_model(\n",
    "                meta_model=None,\n",
    "                meta_model_type=None,\n",
    "                base_models=[t_greedy],\n",
    "                instances=instances,\n",
    "                batch_size=batch_size,\n",
    "                rng=rng,\n",
    "                num_realizations=5,\n",
    "            )\n",
    "\n",
    "            cr_ratios['threshold_greedy'] = t_greedy_ratio['learned']\n",
    "\n",
    "            data[data_index][node_config].append(cr_ratios)\n",
    "\n",
    "            with open(f\"saved_runs/temp_noise/noise5.pickle\", 'wb') as handle:\n",
    "                pickle.dump(data, handle, protocol=pickle.HIGHEST_PROTOCOL)"
   ]
  },
  {
   "cell_type": "code",
   "execution_count": 12,
   "metadata": {},
   "outputs": [],
   "source": [
    "import pickle\n",
    "\n",
    "with open(f\"saved_runs/noise_saved3_5.pickle\", 'wb') as handle:\n",
    "    pickle.dump(data, handle, protocol=pickle.HIGHEST_PROTOCOL)"
   ]
  },
  {
   "cell_type": "code",
   "execution_count": 8,
   "metadata": {},
   "outputs": [],
   "source": [
    "import pickle\n",
    "with open(f\"saved_runs/noise_saved3_5.pickle\", 'rb') as handle:\n",
    "    data_copy = pickle.load(handle)"
   ]
  },
  {
   "cell_type": "code",
   "execution_count": 9,
   "metadata": {},
   "outputs": [
    {
     "data": {
      "image/png": "[encoded data removed]",
      "text/plain": [
       "<Figure size 864x216 with 3 Axes>"
      ]
     },
     "metadata": {
      "needs_background": "light"
     },
     "output_type": "display_data"
    }
   ],
   "source": [
    "from util import _plot_approx_ratios\n",
    "filtered_data = {frozenset(g.items()):d[node_configs[0]] for d,g in zip(data, graph_configs)}\n",
    "\n",
    "_plot_approx_ratios(noise_values, filtered_data, lambda graph_type: f\"noise {graph_config} {node_config[1]}x{node_config[0]}\", confidence = 0.95)"
   ]
  },
  {
   "cell_type": "markdown",
   "metadata": {},
   "source": [
    "## FEAT graph evaluation"
   ]
  },
  {
   "cell_type": "code",
   "execution_count": null,
   "metadata": {},
   "outputs": [],
   "source": [
    "num_trials = 40\n",
    "node_configs = [(x, 16) for x in np.arange(4, 64, 8)]\n",
    "# of nodes [20 -> 80]\n",
    "# of nodes in batch [10,000 -> 40,000]\n",
    "batch_size = 500 #[int(min(32, x + y)) for (x, y) in node_configs]\n",
    "graph_configs = [\n",
    "    {\n",
    "        'graph_type': 'FEAT',\n",
    "        'q': 0.75,\n",
    "        'weighted': True\n",
    "    },\n",
    "    # {\n",
    "    #     'graph_type': 'FEAT',\n",
    "    #     'q': 0.9,\n",
    "    #     'weighted': True\n",
    "    # },\n",
    "    # {\n",
    "    #     'graph_type': 'FEAT',\n",
    "    #     'q': 0.95,\n",
    "    #     'weighted': True\n",
    "    # },\n",
    "    # {\n",
    "    #     'graph_type': 'PART',\n",
    "    #     'p': 0.5,\n",
    "    #     'size': 4,\n",
    "    #     'eps': 0.1\n",
    "    # },\n",
    "    # {\n",
    "    #     'graph_type': 'PART',\n",
    "    #     'p': 0.5,\n",
    "    #     'size': 3,\n",
    "    #     'eps': 0.3\n",
    "    # }\n",
    "]\n",
    "\n",
    "ratios = [x/y for (x,y) in node_configs]\n",
    "print(ratios)\n",
    "\n",
    "data = {config['q']: [] for config in graph_configs}\n",
    "for graph_config in graph_configs:\n",
    "    for i, node_config in enumerate(node_configs):\n",
    "        print(graph_config, node_config)\n",
    "        seed = np.random.randint(0, 500000)\n",
    "        rng = np.random.default_rng(seed)\n",
    "        instances = ig.sample_instances(*node_config, num_trials, rng, **graph_config)\n",
    "\n",
    "\n",
    "        rng = np.random.default_rng(seed)\n",
    "        gnn_learned_ratios, greedy_ratios, lp_match_ratios = evaluate_model(\n",
    "            meta_model=None,\n",
    "            meta_model_type=None,\n",
    "            base_models=[GNN],\n",
    "            instances=instances,\n",
    "            batch_size=batch_size,\n",
    "            rng=rng,\n",
    "            num_realizations=5\n",
    "        )\n",
    "        ratios = evaluate_model(\n",
    "            meta_model=None,\n",
    "            meta_model_type=None,\n",
    "            base_models=[GNN],\n",
    "            instances=instances,\n",
    "            batch_size=batch_size,\n",
    "            rng=rng,\n",
    "            num_realizations=5\n",
    "        )\n",
    "\n",
    "\n",
    "        data[graph_config['q']].append(np.array(\n",
    "            [\n",
    "                gnn_learned_ratios,\n",
    "                greedy_ratios,\n",
    "                lp_match_ratios\n",
    "            ]\n",
    "        ))"
   ]
  },
  {
   "cell_type": "code",
   "execution_count": null,
   "metadata": {},
   "outputs": [],
   "source": [
    "import matplotlib.pyplot as plt\n",
    "ratios = [x/y for (x,y) in node_configs]\n",
    "for q, comp_ratios in data.items():\n",
    "    greedy_avg_ratios = []\n",
    "    gnn_avg_ratios = []\n",
    "    lp_match_avg_ratios = []\n",
    "\n",
    "\n",
    "    for trial_ratios in comp_ratios:\n",
    "        gnn_avg_ratios.append(np.array(trial_ratios[0]).mean())\n",
    "        greedy_avg_ratios.append(np.array(trial_ratios[1]).mean())\n",
    "        lp_match_avg_ratios.append(np.array(trial_ratios[2]).mean())\n",
    "\n",
    "    # title = f\"PART_size_{size}\"\n",
    "    title = f\"FEAT_only_ratings_{q}\"\n",
    "    print(title)\n",
    "    fig = plt.figure(figsize=(8,6))\n",
    "    plt.title(title)\n",
    "    plt.plot(ratios, gnn_avg_ratios, label='GNN')\n",
    "    plt.plot(ratios, greedy_avg_ratios, label='Greedy')\n",
    "    plt.plot(ratios, lp_match_avg_ratios, label='LP ROUNDING')\n",
    "    plt.xlabel('# online / # offline')\n",
    "    plt.ylabel('Average competitive ratio')\n",
    "    plt.legend()\n",
    "    # plt.savefig(f\"data/{title}.png\")\n",
    "    plt.show()\n"
   ]
  },
  {
   "cell_type": "markdown",
   "metadata": {},
   "source": [
    "## OSMNX evaluation"
   ]
  },
  {
   "cell_type": "code",
   "execution_count": null,
   "metadata": {},
   "outputs": [],
   "source": [
    "num_trials = 30\n",
    "node_configs = [(x, 16) for x in np.arange(4, 64, 8)]\n",
    "# of nodes [20 -> 80]\n",
    "# of nodes in batch [10,000 -> 40,000]\n",
    "batch_size = 500 #[int(min(32, x + y)) for (x, y) in node_configs]\n",
    "\n",
    "graph_configs = [\n",
    "    {\n",
    "        'graph_type': 'OSMNX',\n",
    "        'location_graph': piedmont['location_graph'],\n",
    "        'city': piedmont['city']\n",
    "    },\n",
    "    # {\n",
    "    #     'graph_type': 'OSMNX',\n",
    "    #     'location_graph': carmel['location_graph'],\n",
    "    #     'city': carmel['city']\n",
    "    # },\n",
    "    # {\n",
    "    #     'graph_type': 'OSMNX',\n",
    "    #     'location_graph': geneva['location_graph'],\n",
    "    #     'city': geneva['city']\n",
    "    # },\n",
    "    # {\n",
    "    #     'graph_type': 'OSMNX',\n",
    "    #     'location_graph': founex['location_graph'],\n",
    "    #     'city': founex['city']\n",
    "    # },\n",
    "]\n",
    "\n",
    "ratios = [x/y for (x,y) in node_configs]\n",
    "print(ratios)\n",
    "\n",
    "data = {config['city']: [] for config in graph_configs}\n",
    "for graph_config in graph_configs:\n",
    "    for i, node_config in enumerate(node_configs):\n",
    "        print(node_config, graph_config)\n",
    "        seed = np.random.randint(0, 500000)\n",
    "        rng = np.random.default_rng(seed)\n",
    "        instances = ig.sample_instances(*node_config, num_trials, rng, **graph_config)\n",
    "\n",
    "\n",
    "        rng = np.random.default_rng(seed)\n",
    "        gnn_learned_ratios, greedy_ratios, lp_match_ratios = evaluate_model(\n",
    "            meta_model=None,\n",
    "            meta_model_type=None,\n",
    "            base_models=[GNN],\n",
    "            instances=instances,\n",
    "            batch_size=batch_size,\n",
    "            rng=rng,\n",
    "            num_realizations=5\n",
    "        )\n",
    "        thresholded_greedy_ratios = [0]\n",
    "\n",
    "        data[graph_config['city']].append(np.array(\n",
    "            [\n",
    "                gnn_learned_ratios,\n",
    "                thresholded_greedy_ratios,\n",
    "                greedy_ratios,\n",
    "                lp_match_ratios\n",
    "            ]\n",
    "        ))"
   ]
  },
  {
   "cell_type": "code",
   "execution_count": null,
   "metadata": {},
   "outputs": [],
   "source": [
    "import matplotlib.pyplot as plt\n",
    "ratios = [x/y for (x,y) in node_configs]\n",
    "print(ratios)\n",
    "for city, comp_ratios in data.items():\n",
    "    greedy_avg_ratios = []\n",
    "    thresholded_greedy_avg_ratios = []\n",
    "    gnn_avg_ratios = []\n",
    "    lp_match_avg_ratios = []\n",
    "\n",
    "\n",
    "    for trial_ratios in comp_ratios:\n",
    "        gnn_avg_ratios.append(np.array(trial_ratios[0]).mean())\n",
    "        thresholded_greedy_avg_ratios.append(np.array(trial_ratios[1]).mean())\n",
    "        greedy_avg_ratios.append(np.array(trial_ratios[2]).mean())\n",
    "        lp_match_avg_ratios.append(np.array(trial_ratios[3]).mean())\n",
    "        \n",
    "\n",
    "    title = f\"OSMNX_discard_{city}\"\n",
    "    fig = plt.figure(figsize=(8,6))\n",
    "    plt.title(title)\n",
    "    plt.plot(ratios, gnn_avg_ratios, label='GNN')\n",
    "    plt.plot(ratios, thresholded_greedy_avg_ratios, label='Thresholded Greedy')\n",
    "    plt.plot(ratios, greedy_avg_ratios, label='Greedy')\n",
    "    plt.plot(ratios, lp_match_avg_ratios, label='LP ROUNDING')\n",
    "    plt.xlabel('# online / # offline')\n",
    "    plt.ylabel('Average competitive ratio')\n",
    "    plt.legend()\n",
    "    plt.savefig(f\"data/{title}.png\")\n",
    "    plt.show()\n",
    "\n"
   ]
  },
  {
   "cell_type": "markdown",
   "metadata": {},
   "source": [
    "## Graph transferability"
   ]
  },
  {
   "cell_type": "code",
   "execution_count": 4,
   "metadata": {},
   "outputs": [],
   "source": [
    "GNN, args = load('GNN2_hyperparam_tuned', device)"
   ]
  },
  {
   "cell_type": "code",
   "execution_count": 8,
   "metadata": {},
   "outputs": [
    {
     "name": "stdout",
     "output_type": "stream",
     "text": [
      "[20, 28, 36, 44, 52, 60, 68, 76]\n",
      "(20, 10) {'graph_type': 'ER', 'p': 0.5, 'weighted': True}\n",
      "(28, 14) {'graph_type': 'ER', 'p': 0.5, 'weighted': True}\n",
      "(36, 18) {'graph_type': 'ER', 'p': 0.5, 'weighted': True}\n",
      "(44, 22) {'graph_type': 'ER', 'p': 0.5, 'weighted': True}\n"
     ]
    },
    {
     "name": "stderr",
     "output_type": "stream",
     "text": [
      "/home/alexhay/GNN-OBM/algorithms.py:257: RuntimeWarning: invalid value encountered in divide\n",
      "  proposal_probs = x / denom_matrix\n"
     ]
    },
    {
     "name": "stdout",
     "output_type": "stream",
     "text": [
      "(52, 26) {'graph_type': 'ER', 'p': 0.5, 'weighted': True}\n"
     ]
    }
   ],
   "source": [
    "import gnn_library.util as util\n",
    "num_trials = 40\n",
    "node_configs = [(2*x, x) for x in np.arange(10, 40, 4)]\n",
    "batch_size = 500 #[int(min(32, x + y)) for (x, y) in node_configs]\n",
    "\n",
    "\n",
    "threshold = 0.35 # TODO set up value\n",
    "t_greedy = OBM_Threshold_Greedy(threshold) \n",
    "\n",
    "\n",
    "graph_configs = util.graph_configs_standard\n",
    "\n",
    "sizes = [x for (x,y) in node_configs]\n",
    "print(sizes)\n",
    "\n",
    "data = [[] for _ in range(len(graph_configs))]\n",
    "for data_index, graph_config in enumerate(graph_configs):\n",
    "    for i, node_config in enumerate(node_configs):\n",
    "        print(node_config, graph_config)\n",
    "        seed = np.random.randint(0, 500000)\n",
    "        rng = np.random.default_rng(seed)\n",
    "        instances = ig.sample_instances(*node_config, num_trials, rng, args, **graph_config)\n",
    "\n",
    "\n",
    "        rng = np.random.default_rng(seed)\n",
    "\n",
    "        cr_ratios, _ = evaluate_model(\n",
    "            meta_model=None,\n",
    "            meta_model_type=None,\n",
    "            base_models=[GNN],\n",
    "            instances=instances,\n",
    "            batch_size=batch_size,\n",
    "            rng=rng,\n",
    "            num_realizations=5,\n",
    "            baselines=['greedy', 'lp_rounding']\n",
    "        )\n",
    "\n",
    "        t_greedy_ratio, _ = evaluate_model(\n",
    "            meta_model=None,\n",
    "            meta_model_type=None,\n",
    "            base_models=[t_greedy],\n",
    "            instances=instances,\n",
    "            batch_size=batch_size,\n",
    "            rng=rng,\n",
    "            num_realizations=5,\n",
    "        )\n",
    "\n",
    "        cr_ratios['threshold_greedy'] = t_greedy_ratio['learned']\n",
    "\n",
    "        data[data_index].append(cr_ratios)"
   ]
  },
  {
   "cell_type": "code",
   "execution_count": null,
   "metadata": {},
   "outputs": [],
   "source": [
    "import pickle\n",
    "\n",
    "with open(f\"saved_runs/transferability_gnn2.pickle\", 'wb') as handle:\n",
    "    pickle.dump(data, handle, protocol=pickle.HIGHEST_PROTOCOL)"
   ]
  },
  {
   "cell_type": "code",
   "execution_count": null,
   "metadata": {},
   "outputs": [],
   "source": [
    "\n",
    "with open(f'saved_runs/transferability_gnn2.pickle', 'rb') as handle:\n",
    "    data_copy = pickle.load(handle)"
   ]
  },
  {
   "cell_type": "code",
   "execution_count": 23,
   "metadata": {},
   "outputs": [
    {
     "data": {
      "image/png": "[encoded data removed]",
      "text/plain": [
       "<Figure size 576x432 with 1 Axes>"
      ]
     },
     "metadata": {
      "needs_background": "light"
     },
     "output_type": "display_data"
    }
   ],
   "source": [
    "from util import _plot_approx_ratios\n",
    "for graph_config, graph_data in data:\n",
    "\t_plot_approx_ratios(sizes, graph_data, lambda graph_type: f\"Generalization to node size for ratio {2}\", x_axis_name= \"Number of online nodes\", confidence = 0.95)"
   ]
  },
  {
   "cell_type": "code",
   "execution_count": null,
   "metadata": {},
   "outputs": [],
   "source": [
    "import matplotlib.pyplot as plt\n",
    "\n",
    "sizes = [x for (x,_) in node_configs]\n",
    "\n",
    "aggregated_ratios = {}\n",
    "for q, comp_ratios in data.items():\n",
    "    for trial_ratios in comp_ratios:\n",
    "        for model, ratio_values in trial_ratios.items():\n",
    "            current_ratios = aggregated_ratios.get(model, [])\n",
    "            current_ratios.append(np.array(ratio_values).mean())\n",
    "            aggregated_ratios[model] = current_ratios\n",
    "\n",
    "fig = plt.figure(figsize=(8,6))\n",
    "for model, ratios in aggregated_ratios.items():\n",
    "    plt.plot(sizes, ratios, label=model)\n",
    "\n",
    "title = f\"16_01_2024_graph_transferability_{q}\"\n",
    "plt.title(\"Graph transferability NxN ratio - trained on 8x8\")\n",
    "plt.xlabel('Number of online nodes')\n",
    "plt.ylabel('Average competitive ratio')\n",
    "plt.legend()\n",
    "plt.savefig(f\"data/{title}.png\")\n",
    "plt.show()\n"
   ]
  }
 ],
 "metadata": {
  "kernelspec": {
   "display_name": "clrs",
   "language": "python",
   "name": "python3"
  },
  "language_info": {
   "codemirror_mode": {
    "name": "ipython",
    "version": 3
   },
   "file_extension": ".py",
   "mimetype": "text/x-python",
   "name": "python",
   "nbconvert_exporter": "python",
   "pygments_lexer": "ipython3",
   "version": "3.10.12"
  }
 },
 "nbformat": 4,
 "nbformat_minor": 2
}
