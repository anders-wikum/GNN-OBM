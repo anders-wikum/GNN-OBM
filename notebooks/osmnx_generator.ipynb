{
    "cells": [
        {
            "cell_type": "code",
            "execution_count": null,
            "metadata": {},
            "outputs": [],
            "source": [
                "import matplotlib.pyplot as plt\n",
                "import networkx as nx\n",
                "import os\n",
                "import osmnx as ox\n",
                "import pickle\n",
                "\n",
                "os.chdir('..')"
            ]
        },
        {
            "cell_type": "code",
            "execution_count": null,
            "metadata": {},
            "outputs": [],
            "source": [
                "places = [\n",
                "    \"Piedmont, California, USA\",\n",
                "    \"Fremont, California, USA\",\n",
                "]\n",
                "\n",
                "for place in places:\n",
                "    G = ox.graph_from_place(place, network_type=\"drive\")\n",
                "    G = ox.speed.add_edge_speeds(G)\n",
                "    G = ox.speed.add_edge_travel_times(G)\n",
                "    print(f\"Now considering: {place}\")\n",
                "    fig, ax = ox.plot_graph(G)\n",
                "    plt.show()\n",
                "\n",
                "    intersections = G.nodes\n",
                "    path_lengths = dict(\n",
                "        nx.all_pairs_dijkstra_path_length(G, weight='travel_time')\n",
                "    )\n",
                "    city_dict = {\n",
                "        'intersections': intersections,\n",
                "        'drive_times': path_lengths\n",
                "    }\n",
                "\n",
                "    with open(f\"data/OSMNX_{place}_travel_times.pickle\", \"wb\") as handle:\n",
                "        pickle.dump(city_dict, handle, protocol=pickle.HIGHEST_PROTOCOL)"
            ]
        }
    ],
    "metadata": {
        "kernelspec": {
            "display_name": "local",
            "language": "python",
            "name": "python3"
        },
        "language_info": {
            "codemirror_mode": {
                "name": "ipython",
                "version": 3
            },
            "file_extension": ".py",
            "mimetype": "text/x-python",
            "name": "python",
            "nbconvert_exporter": "python",
            "pygments_lexer": "ipython3",
            "version": "3.10.12"
        },
        "orig_nbformat": 4
    },
    "nbformat": 4,
    "nbformat_minor": 2
}
