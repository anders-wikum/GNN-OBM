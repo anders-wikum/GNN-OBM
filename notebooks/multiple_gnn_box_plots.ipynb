{
 "cells": [
  {
   "cell_type": "code",
   "execution_count": 1,
   "metadata": {},
   "outputs": [],
   "source": [
    "import os\n",
    "os.chdir('..')"
   ]
  },
  {
   "cell_type": "code",
   "execution_count": 3,
   "metadata": {},
   "outputs": [],
   "source": [
    "import torch\n",
    "import numpy as np\n",
    "from gnn_library.util import load\n",
    "from evaluate import evaluate_model\n",
    "from instance_generator import sample_instances\n",
    "from params import *\n",
    "from util import _box_plots\n",
    "\n",
    "%load_ext autoreload\n",
    "%autoreload 2"
   ]
  },
  {
   "cell_type": "code",
   "execution_count": 7,
   "metadata": {},
   "outputs": [
    {
     "name": "stdout",
     "output_type": "stream",
     "text": [
      "PyTorch has version 1.12.0+cu102\n",
      "Using device: cuda:4\n"
     ]
    }
   ],
   "source": [
    "device = torch.device('cuda:4' if torch.cuda.is_available() else 'cpu')\n",
    "print(\"PyTorch has version {}\".format(torch.__version__))\n",
    "print('Using device:', device)\n",
    "\n",
    "models = {\n",
    "\t'GENConv': load('GNN_large_10_6', device),\n",
    "\t'DeeperGCN': load('other_GNN_deeperGCN', device),\n",
    "\t'GATv2Conv': load('other_GNN_Gatv2Conv', device),\n",
    "\t'GraphConv': load('other_GNN_GraphConv', device),\n",
    "\t'GCNConv': load('other_GNN_GCNConv', device),\n",
    "\n",
    "}\n",
    "_, args = load('GNN_large_10_6', device)"
   ]
  },
  {
   "cell_type": "markdown",
   "metadata": {},
   "source": [
    "## Box plot baseline evaluation"
   ]
  },
  {
   "cell_type": "markdown",
   "metadata": {},
   "source": [
    "#### Evaluate CRs on all graph configurations"
   ]
  },
  {
   "cell_type": "code",
   "execution_count": 23,
   "metadata": {},
   "outputs": [
    {
     "name": "stdout",
     "output_type": "stream",
     "text": [
      "(20, 10) {'graph_type': 'ER', 'p': 0.5, 'weighted': True}\n",
      "GENConv\n"
     ]
    },
    {
     "name": "stderr",
     "output_type": "stream",
     "text": [
      "/home/alexhay/GNN-OBM/torch_converter.py:17: UserWarning: To copy construct from a tensor, it is recommended to use sourceTensor.clone().detach() or sourceTensor.clone().detach().requires_grad_(True), rather than torch.tensor(sourceTensor).\n",
      "  return torch.tensor(mask)\n"
     ]
    },
    {
     "name": "stdout",
     "output_type": "stream",
     "text": [
      "DeeperGCN\n",
      "GATv2Conv\n",
      "GraphConv\n",
      "GCNConv\n",
      "(20, 10) {'graph_type': 'GEOM', 'q': 0.25, 'd': 2, 'weighted': True}\n",
      "GENConv\n",
      "DeeperGCN\n",
      "GATv2Conv\n",
      "GraphConv\n",
      "GCNConv\n"
     ]
    }
   ],
   "source": [
    "import pickle # TODO remove\n",
    "\n",
    "rng = np.random.default_rng()\n",
    "num_trials = 150\n",
    "batch_size = 500\n",
    "node_configs = [(20, 10)]\n",
    "graph_configs = MAIN_TESTING_GRAPH_CONFIGS\n",
    "baselines_kwargs = {\n",
    "    # 'greedy': {},\n",
    "    # 'greedy_t': {'threshold': 0.35},\n",
    "    # 'lp_rounding': {'rng': rng},\n",
    "    # 'naor_lp_rounding': {'rng': rng},\n",
    "    # 'pollner_lp_rounding': {'rng': rng}\n",
    "}\n",
    "\n",
    "data = {node_config: {str(graph_config): {} for graph_config in graph_configs} for node_config in node_configs}\n",
    "\n",
    "for node_config in node_configs:\n",
    "    for graph_config in graph_configs:\n",
    "            print(node_config, graph_config)\n",
    "            instances = sample_instances(\n",
    "                *node_config,\n",
    "                num_trials,\n",
    "                rng,\n",
    "                args.__dict__,\n",
    "                **graph_config\n",
    "            )\n",
    "            for model_name, (GNN, args) in models.items():\n",
    "                print(model_name)\n",
    "                cr_ratios, _ = evaluate_model(\n",
    "                    meta_model=None,\n",
    "                    meta_model_type=None,\n",
    "                    base_models=[GNN],\n",
    "                    instances=instances,\n",
    "                    batch_size=batch_size,\n",
    "                    rng=rng,\n",
    "                    num_realizations=20,\n",
    "                    baselines=[],\n",
    "                    **baselines_kwargs\n",
    "                )\n",
    "\n",
    "                data[node_config][str(graph_config)][model_name] = cr_ratios['learned']\n",
    "\n",
    "            with open(f\"experiments/box_plots_main.pickle\", 'wb') as handle:\n",
    "                pickle.dump(data, handle, protocol=pickle.HIGHEST_PROTOCOL)\n"
   ]
  },
  {
   "cell_type": "markdown",
   "metadata": {},
   "source": [
    "#### Generate box plots"
   ]
  },
  {
   "cell_type": "code",
   "execution_count": 22,
   "metadata": {},
   "outputs": [
    {
     "name": "stdout",
     "output_type": "stream",
     "text": [
      "{'graph_type': 'ER', 'p': 0.5, 'weighted': True} {'GENConv': [0.9185142997274282, 0.9611533413308649, 0.9536107226602752], 'DeeperGCN': [0.9300626850323509, 0.9652262500637667, 0.9331918649744531], 'GATv2Conv': [0.8137965287610752, 0.9426284375771763, 0.8998307498993322], 'GraphConv': [0.9172552202176719, 0.947313324888232, 0.9527292886297918], 'GCNConv': [0.8007285518810472, 0.8532359605495493, 0.8018080200872385]}\n",
      "{'graph_type': 'GEOM', 'q': 0.25, 'd': 2, 'weighted': True} {'GENConv': [0.9615918322509268, 0.9683274477698056, 0.9483649350284292], 'DeeperGCN': [0.9330317793186721, 0.9743678716166466, 0.9667679991734337], 'GATv2Conv': [0.948112707397452, 0.9594410352345524, 0.9558033611866007], 'GraphConv': [0.949227516996588, 0.9860343275194161, 0.9438872813267614], 'GCNConv': [0.927968033486972, 0.8485361635637215, 0.9503907321338971]}\n",
      "{'graph_type': 'OSMNX', 'location': 'Fremont, California, USA'} {'GENConv': [0.9739324021852557, 0.9581608701308868, 0.9641006883084315], 'DeeperGCN': [0.9750558276147029, 0.9542406137022222, 0.9399210593012782], 'GATv2Conv': [0.9491302423827855, 0.9467405100439297, 0.8766284755877658], 'GraphConv': [0.9722823353421575, 0.9444755259581494, 0.9264560130467097], 'GCNConv': [0.4778816789948272, 0.6660590821451895, 0.34831133005217074]}\n",
      "{'graph_type': 'GM'} {'GENConv': [0.9515812808046846, 0.9630160067941876, 0.9643711028502947], 'DeeperGCN': [0.9608572006778104, 0.9754112123880112, 0.9687494085354658], 'GATv2Conv': [0.9389383392218251, 0.9421824168148681, 0.949945140647039], 'GraphConv': [0.9386255103975463, 0.9507828056941179, 0.9711848416644475], 'GCNConv': [0.9475540591177, 0.9398839637123837, 0.9036174567321476]}\n"
     ]
    },
    {
     "data": {
      "image/png": "[encoded data removed]",
      "text/plain": [
       "<Figure size 864x216 with 5 Axes>"
      ]
     },
     "metadata": {
      "needs_background": "light"
     },
     "output_type": "display_data"
    }
   ],
   "source": [
    "results = {}\n",
    "for graph_type, val in data[node_configs[0]].items():\n",
    "\tresults[graph_type] = val\n",
    "\tprint(f\"{graph_type} {val}\")\n",
    "\n",
    "_box_plots(results, lambda graph_type: f\"GNN2_classify_{graph_type} {node_config[1]}x{node_config[0]}\")"
   ]
  },
  {
   "cell_type": "code",
   "execution_count": 30,
   "metadata": {},
   "outputs": [
    {
     "name": "stdout",
     "output_type": "stream",
     "text": [
      "learned\n",
      "0.9375406822946877\n",
      "0.020488721688707814\n",
      "0.9770632668156484\n",
      "0.8906075746635768\n",
      "\n",
      "greedy\n",
      "0.8832660468014378\n",
      "0.042111343516759936\n",
      "0.9695886660041662\n",
      "0.773918419580194\n",
      "\n",
      "greedy_t\n",
      "0.8943132303877158\n",
      "0.034755100745926415\n",
      "0.9634036702937727\n",
      "0.8235931314200542\n",
      "\n",
      "lp_rounding\n",
      "0.9160779507565222\n",
      "0.021609797545870682\n",
      "0.9605348860405354\n",
      "0.8639270548190373\n",
      "\n",
      "naor_lp_rounding\n",
      "0.9138430650193456\n",
      "0.021827750625309453\n",
      "0.9597701078420974\n",
      "0.859539364718328\n",
      "\n",
      "pollner_lp_rounding\n",
      "0.9200531820781406\n",
      "0.019780583620047858\n",
      "0.9602326865163937\n",
      "0.8708671887402302\n",
      "\n"
     ]
    }
   ],
   "source": [
    "for label in ['learned', 'greedy', 'greedy_t', 'lp_rounding', 'naor_lp_rounding', 'pollner_lp_rounding']:\n",
    "    print(label)\n",
    "    print(np.nanmean(results[\"{'graph_type': 'ER', 'p': 0.5, 'weighted': True}\"][label]))\n",
    "    print(np.nanstd(results[\"{'graph_type': 'ER', 'p': 0.5, 'weighted': True}\"][label]))\n",
    "    print(np.nanmax(results[\"{'graph_type': 'ER', 'p': 0.5, 'weighted': True}\"][label]))\n",
    "    print(np.nanmin(results[\"{'graph_type': 'ER', 'p': 0.5, 'weighted': True}\"][label]))\n",
    "    print()"
   ]
  }
 ],
 "metadata": {
  "kernelspec": {
   "display_name": "clrs",
   "language": "python",
   "name": "python3"
  },
  "language_info": {
   "codemirror_mode": {
    "name": "ipython",
    "version": 3
   },
   "file_extension": ".py",
   "mimetype": "text/x-python",
   "name": "python",
   "nbconvert_exporter": "python",
   "pygments_lexer": "ipython3",
   "version": "3.10.12"
  }
 },
 "nbformat": 4,
 "nbformat_minor": 2
}
