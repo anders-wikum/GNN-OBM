{
 "cells": [
  {
   "cell_type": "code",
   "execution_count": 1,
   "metadata": {},
   "outputs": [],
   "source": [
    "import os\n",
    "os.chdir('..')"
   ]
  },
  {
   "cell_type": "code",
   "execution_count": 2,
   "metadata": {},
   "outputs": [],
   "source": [
    "import torch\n",
    "import numpy as np\n",
    "from torch_geometric.loader import DataLoader\n",
    "from gnn_library.util import train, save, load\n",
    "from evaluate import evaluate_model, pp_output\n",
    "import instance_generator as ig\n",
    "import torch_converter as tc\n",
    "import evaluate as ev\n",
    "import osmnx as ox\n",
    "from util import Dataset\n",
    "from gnn_library.OBM_greedy import OBM_Greedy\n",
    "from gnn_library.util import train, gen_train_input\n",
    "\n",
    "%load_ext autoreload\n",
    "%autoreload 2"
   ]
  },
  {
   "cell_type": "code",
   "execution_count": 3,
   "metadata": {},
   "outputs": [
    {
     "name": "stdout",
     "output_type": "stream",
     "text": [
      "PyTorch has version 1.12.0+cu102\n",
      "Using device: cuda:2\n"
     ]
    }
   ],
   "source": [
    "device = torch.device('cuda:2' if torch.cuda.is_available() else 'cpu')\n",
    "print(\"PyTorch has version {}\".format(torch.__version__))\n",
    "print('Using device:', device)"
   ]
  },
  {
   "cell_type": "code",
   "execution_count": 4,
   "metadata": {},
   "outputs": [],
   "source": [
    "# Hyperparam optimized for 6,10\n",
    "\n",
    "# args = {\n",
    "#     'processor':         'GENConv',\n",
    "#     'head':              'regression',     \n",
    "#     'num_layers':        5,\n",
    "#     'num_mlp_layers':    5,\n",
    "#     'aggr':              'max',\n",
    "#     'batch_size':        2,\n",
    "#     'node_feature_dim':  5,\n",
    "#     'edge_feature_dim':  1,\n",
    "#     'graph_feature_dim': 2,\n",
    "#     'hidden_dim':        128,\n",
    "#     'output_dim':        1,\n",
    "#     'dropout':           0.0115,\n",
    "#     'epochs':            32,\n",
    "#     'opt':               'adagrad',\n",
    "#     'opt_scheduler':     'none',\n",
    "#     'opt_restart':       0,\n",
    "#     'weight_decay':      5e-3,\n",
    "#     'lr':                0.0083,\n",
    "#     'device':            device,\n",
    "#     'noise':             0 # Set to 0 to not train on noisy features\n",
    "# }\n",
    "\n",
    "# Hyperparam optimized for 10,6\n",
    "\n",
    "args = {\n",
    "    'processor':         'GENConv',\n",
    "    'head':              'regression',     \n",
    "    'num_layers':        3,\n",
    "    'num_mlp_layers':    3,\n",
    "    'aggr':              'max',\n",
    "    'batch_size':        8,\n",
    "    'node_feature_dim':  5,\n",
    "    'edge_feature_dim':  1,\n",
    "    'graph_feature_dim': 2,\n",
    "    'hidden_dim':        32,\n",
    "    'output_dim':        1,\n",
    "    'dropout':           0.0306,\n",
    "    'epochs':            20,\n",
    "    'opt':               'adagrad',\n",
    "    'opt_scheduler':     'none',\n",
    "    'opt_restart':       0,\n",
    "    'weight_decay':      5e-3,\n",
    "    'lr':                0.0121,\n",
    "    'device':            device,\n",
    "    'noise':             0 # Set to 0 to not train on noisy features\n",
    "}"
   ]
  },
  {
   "cell_type": "code",
   "execution_count": 5,
   "metadata": {},
   "outputs": [
    {
     "name": "stdout",
     "output_type": "stream",
     "text": [
      "Generating the dataset\n",
      "Starting training\n"
     ]
    },
    {
     "name": "stderr",
     "output_type": "stream",
     "text": [
      "Training:   0%|          | 0/20 [00:00<?, ?Epochs/s]/home/alexhay/.local/lib/python3.10/site-packages/torch_geometric/utils/scatter.py:93: UserWarning: The usage of `scatter(reduce='max')` can be accelerated via the 'torch-scatter' package, but it was not found\n",
      "  warnings.warn(f\"The usage of `scatter(reduce='{reduce}')` \"\n"
     ]
    },
    {
     "name": "stdout",
     "output_type": "stream",
     "text": [
      "TRAINING LOSS: 0.03536105517407836\n"
     ]
    },
    {
     "name": "stderr",
     "output_type": "stream",
     "text": [
      "Training:   5%|▌         | 1/20 [00:27<08:35, 27.15s/Epochs]"
     ]
    },
    {
     "name": "stdout",
     "output_type": "stream",
     "text": [
      "TEST LOSS: 0.04495621472597122\n",
      "TEST ACCURACY: 0.8199117183685303\n"
     ]
    },
    {
     "name": "stderr",
     "output_type": "stream",
     "text": [
      "Training:  10%|█         | 2/20 [00:46<06:48, 22.69s/Epochs]"
     ]
    },
    {
     "name": "stdout",
     "output_type": "stream",
     "text": [
      "TRAINING LOSS: 0.025874884999765074\n"
     ]
    },
    {
     "name": "stderr",
     "output_type": "stream",
     "text": [
      "Training:  15%|█▌        | 3/20 [01:06<06:04, 21.46s/Epochs]"
     ]
    },
    {
     "name": "stdout",
     "output_type": "stream",
     "text": [
      "TRAINING LOSS: 0.023465262454710676\n"
     ]
    },
    {
     "name": "stderr",
     "output_type": "stream",
     "text": [
      "Training:  20%|██        | 4/20 [01:26<05:30, 20.67s/Epochs]"
     ]
    },
    {
     "name": "stdout",
     "output_type": "stream",
     "text": [
      "TRAINING LOSS: 0.02198873930719761\n",
      "TRAINING LOSS: 0.021245525394148757\n"
     ]
    },
    {
     "name": "stderr",
     "output_type": "stream",
     "text": [
      "Training:  25%|██▌       | 5/20 [01:53<05:46, 23.12s/Epochs]"
     ]
    },
    {
     "name": "stdout",
     "output_type": "stream",
     "text": [
      "TEST LOSS: 0.03854375705122948\n",
      "TEST ACCURACY: 0.8508325219154358\n"
     ]
    },
    {
     "name": "stderr",
     "output_type": "stream",
     "text": [
      "Training:  30%|███       | 6/20 [02:13<05:08, 22.01s/Epochs]"
     ]
    },
    {
     "name": "stdout",
     "output_type": "stream",
     "text": [
      "TRAINING LOSS: 0.021051555670998146\n"
     ]
    },
    {
     "name": "stderr",
     "output_type": "stream",
     "text": [
      "Training:  35%|███▌      | 7/20 [02:33<04:38, 21.43s/Epochs]"
     ]
    },
    {
     "name": "stdout",
     "output_type": "stream",
     "text": [
      "TRAINING LOSS: 0.020325599680917218\n"
     ]
    },
    {
     "name": "stderr",
     "output_type": "stream",
     "text": [
      "Training:  40%|████      | 8/20 [02:53<04:09, 20.77s/Epochs]"
     ]
    },
    {
     "name": "stdout",
     "output_type": "stream",
     "text": [
      "TRAINING LOSS: 0.02014478806176862\n",
      "TRAINING LOSS: 0.019504622401021816\n"
     ]
    },
    {
     "name": "stderr",
     "output_type": "stream",
     "text": [
      "Training:  45%|████▌     | 9/20 [03:17<04:01, 21.98s/Epochs]"
     ]
    },
    {
     "name": "stdout",
     "output_type": "stream",
     "text": [
      "TEST LOSS: 0.01998794823884964\n",
      "TEST ACCURACY: 0.8824329376220703\n"
     ]
    },
    {
     "name": "stderr",
     "output_type": "stream",
     "text": [
      "Training:  50%|█████     | 10/20 [03:35<03:26, 20.65s/Epochs]"
     ]
    },
    {
     "name": "stdout",
     "output_type": "stream",
     "text": [
      "TRAINING LOSS: 0.019510425317059987\n"
     ]
    },
    {
     "name": "stderr",
     "output_type": "stream",
     "text": [
      "Training:  55%|█████▌    | 11/20 [03:53<02:58, 19.82s/Epochs]"
     ]
    },
    {
     "name": "stdout",
     "output_type": "stream",
     "text": [
      "TRAINING LOSS: 0.019366092513923606\n"
     ]
    },
    {
     "name": "stderr",
     "output_type": "stream",
     "text": [
      "Training:  60%|██████    | 12/20 [04:12<02:38, 19.76s/Epochs]"
     ]
    },
    {
     "name": "stdout",
     "output_type": "stream",
     "text": [
      "TRAINING LOSS: 0.01880800743819136\n",
      "TRAINING LOSS: 0.019236554678590888\n"
     ]
    },
    {
     "name": "stderr",
     "output_type": "stream",
     "text": [
      "Training:  65%|██████▌   | 13/20 [04:39<02:33, 21.95s/Epochs]"
     ]
    },
    {
     "name": "stdout",
     "output_type": "stream",
     "text": [
      "TEST LOSS: 0.021655624732375145\n",
      "TEST ACCURACY: 0.8797146081924438\n"
     ]
    },
    {
     "name": "stderr",
     "output_type": "stream",
     "text": [
      "Training:  70%|███████   | 14/20 [05:00<02:08, 21.40s/Epochs]"
     ]
    },
    {
     "name": "stdout",
     "output_type": "stream",
     "text": [
      "TRAINING LOSS: 0.01892087182897593\n"
     ]
    },
    {
     "name": "stderr",
     "output_type": "stream",
     "text": [
      "Training:  75%|███████▌  | 15/20 [05:20<01:44, 20.96s/Epochs]"
     ]
    },
    {
     "name": "stdout",
     "output_type": "stream",
     "text": [
      "TRAINING LOSS: 0.018643840635558857\n"
     ]
    },
    {
     "name": "stderr",
     "output_type": "stream",
     "text": [
      "Training:  80%|████████  | 16/20 [05:39<01:22, 20.51s/Epochs]"
     ]
    },
    {
     "name": "stdout",
     "output_type": "stream",
     "text": [
      "TRAINING LOSS: 0.01817864766869458\n",
      "TRAINING LOSS: 0.018830561624631505\n"
     ]
    },
    {
     "name": "stderr",
     "output_type": "stream",
     "text": [
      "Training:  85%|████████▌ | 17/20 [06:05<01:06, 22.30s/Epochs]"
     ]
    },
    {
     "name": "stdout",
     "output_type": "stream",
     "text": [
      "TEST LOSS: 0.021785492077469826\n",
      "TEST ACCURACY: 0.8824329376220703\n"
     ]
    },
    {
     "name": "stderr",
     "output_type": "stream",
     "text": [
      "Training:  90%|█████████ | 18/20 [06:25<00:42, 21.37s/Epochs]"
     ]
    },
    {
     "name": "stdout",
     "output_type": "stream",
     "text": [
      "TRAINING LOSS: 0.018485188762053965\n"
     ]
    },
    {
     "name": "stderr",
     "output_type": "stream",
     "text": [
      "Training:  95%|█████████▌| 19/20 [06:45<00:21, 21.06s/Epochs]"
     ]
    },
    {
     "name": "stdout",
     "output_type": "stream",
     "text": [
      "TRAINING LOSS: 0.01819217216598269\n"
     ]
    },
    {
     "name": "stderr",
     "output_type": "stream",
     "text": [
      "Training: 100%|██████████| 20/20 [07:04<00:00, 21.20s/Epochs]"
     ]
    },
    {
     "name": "stdout",
     "output_type": "stream",
     "text": [
      "TRAINING LOSS: 0.01776040608607756\n"
     ]
    },
    {
     "name": "stderr",
     "output_type": "stream",
     "text": [
      "\n"
     ]
    }
   ],
   "source": [
    "from params import BASE_MODEL_TRAIN_CONFIG\n",
    "train_config = BASE_MODEL_TRAIN_CONFIG\n",
    "### TODO REMOVE ###\n",
    "# train_config['train_num'] = 1000\n",
    "# train_config['val_num'] = 200\n",
    "train_config['regimes'] = [(15,9)]\n",
    "### END REMOVE ###\n",
    "print(\"Generating the dataset\")\n",
    "train_loader, val_loader = gen_train_input(train_config, args, seed=0)\n",
    "print(\"Starting training\")\n",
    "_, _, _, GNN, _ = train(train_loader, val_loader, args)"
   ]
  },
  {
   "cell_type": "code",
   "execution_count": 6,
   "metadata": {},
   "outputs": [],
   "source": [
    "save(GNN, args, 'GNN_exp_diff_15_9')"
   ]
  },
  {
   "cell_type": "code",
   "execution_count": null,
   "metadata": {},
   "outputs": [],
   "source": []
  }
 ],
 "metadata": {
  "kernelspec": {
   "display_name": "local",
   "language": "python",
   "name": "python3"
  },
  "language_info": {
   "codemirror_mode": {
    "name": "ipython",
    "version": 3
   },
   "file_extension": ".py",
   "mimetype": "text/x-python",
   "name": "python",
   "nbconvert_exporter": "python",
   "pygments_lexer": "ipython3",
   "version": "3.10.12"
  },
  "orig_nbformat": 4
 },
 "nbformat": 4,
 "nbformat_minor": 2
}
