{
 "cells": [
  {
   "cell_type": "code",
   "execution_count": 1,
   "metadata": {},
   "outputs": [],
   "source": [
    "import torch\n",
    "import numpy as np\n",
    "import os\n",
    "os.chdir('..')\n",
    "\n",
    "import torch_converter as tc\n",
    "import instance_generator as ig\n",
    "from torch_geometric.loader import DataLoader\n",
    "from gnn_library.util import train, save, load\n",
    "from util import Dataset\n",
    "from evaluate import evaluate_model, pp_output\n",
    "from gnn_library.OBM_greedy import OBM_Greedy\n",
    "\n",
    "%load_ext autoreload\n",
    "%autoreload 2"
   ]
  },
  {
   "cell_type": "code",
   "execution_count": 2,
   "metadata": {},
   "outputs": [
    {
     "name": "stdout",
     "output_type": "stream",
     "text": [
      "PyTorch has version 1.12.0+cu102\n",
      "Using device: cuda:2\n"
     ]
    }
   ],
   "source": [
    "device = torch.device('cuda:2' if torch.cuda.is_available() else 'cpu')\n",
    "print(\"PyTorch has version {}\".format(torch.__version__))\n",
    "print('Using device:', device)"
   ]
  },
  {
   "cell_type": "code",
   "execution_count": 3,
   "metadata": {},
   "outputs": [],
   "source": [
    "GNN1, args1 = load('GNN1', device)\n",
    "GNN2, args2 = load('GNN2', device)\n",
    "GREEDY = OBM_Greedy()"
   ]
  },
  {
   "cell_type": "markdown",
   "metadata": {},
   "source": [
    "### I. Meta GNN training/evaluation"
   ]
  },
  {
   "cell_type": "code",
   "execution_count": 4,
   "metadata": {},
   "outputs": [],
   "source": [
    "args = {\n",
    "    'processor':         'TEST1',\n",
    "    'head':              'meta',\n",
    "    'num_layers':        8,\n",
    "    'num_mlp_layers':    2,\n",
    "    'aggr':              'max',\n",
    "    'batch_size':        32,\n",
    "    'node_feature_dim':  4,\n",
    "    'edge_feature_dim':  1,\n",
    "    'graph_feature_dim': 2,\n",
    "    'hidden_dim':        64,\n",
    "    'output_dim':        3,\n",
    "    'head_mlp_dim':      4,\n",
    "    'dropout':           0.25,\n",
    "    'epochs':            200,\n",
    "    'opt':               'adam',\n",
    "    'opt_scheduler':     'none',\n",
    "    'opt_restart':       0,\n",
    "    'weight_decay':      5e-3,\n",
    "    'lr':                0.0001,\n",
    "    'device':            device\n",
    "}"
   ]
  },
  {
   "cell_type": "code",
   "execution_count": 7,
   "metadata": {},
   "outputs": [],
   "source": [
    "train_num = 50; test_num = 10\n",
    "\n",
    "er_config = {\n",
    "    'graph_type': 'ER',\n",
    "    'p': 1,\n",
    "    'weighted': True\n",
    "}\n",
    "ba_config = {\n",
    "    'graph_type': 'BA',\n",
    "    'ba_param': 4,\n",
    "    'weighted': False\n",
    "}\n",
    "geom_config = {\n",
    "    'graph_type': 'GEOM',\n",
    "    'threshold': 0.2,\n",
    "    'scaling': 1 / np.sqrt(2)\n",
    "}\n",
    "\n",
    "rng = np.random.default_rng()\n",
    "\n",
    "# train_instances = [\n",
    "#     *ig.sample_instances(6, 10, train_num, rng, **er_config),\n",
    "#     *ig.sample_instances(6, 10, train_num, rng, **ba_config),\n",
    "#     *ig.sample_instances(6, 10, train_num, rng, **geom_config),\n",
    "#     *ig.sample_instances(8, 8, train_num, rng, **er_config),\n",
    "#     *ig.sample_instances(8, 8, train_num, rng, **ba_config),\n",
    "#     *ig.sample_instances(8, 8, train_num, rng, **geom_config),\n",
    "#     *ig.sample_instances(10, 6, train_num, rng, **er_config),\n",
    "#     *ig.sample_instances(10, 6, train_num, rng, **ba_config),\n",
    "#     *ig.sample_instances(10, 6, train_num, rng, **geom_config)\n",
    "# ]\n",
    "\n",
    "\n",
    "# test_instances = [\n",
    "#     *ig.sample_instances(6, 10, test_num, rng, **er_config),\n",
    "#     *ig.sample_instances(6, 10, test_num, rng, **ba_config),\n",
    "#     *ig.sample_instances(6, 10, test_num, rng, **geom_config),\n",
    "#     *ig.sample_instances(8, 8, test_num, rng, **er_config),\n",
    "#     *ig.sample_instances(8, 8, test_num, rng, **ba_config),\n",
    "#     *ig.sample_instances(8, 8, test_num, rng, **geom_config),\n",
    "#     *ig.sample_instances(10, 6, test_num, rng, **er_config),\n",
    "#     *ig.sample_instances(10, 6, test_num, rng, **ba_config),\n",
    "#     *ig.sample_instances(10, 6, test_num, rng, **geom_config)\n",
    "# ]\n",
    "\n",
    "# train_data = Dataset(\n",
    "#     tc._instances_to_train_samples(\n",
    "#         instances=train_instances,\n",
    "#         head=args['head'],\n",
    "#         meta_model_type='gnn',\n",
    "#         base_models=[GNN1, GNN2, GREEDY]\n",
    "#     )\n",
    "# )\n",
    "\n",
    "# test_data = Dataset(\n",
    "#     tc._instances_to_train_samples(\n",
    "#         instances=test_instances,\n",
    "#         head=args['head'],\n",
    "#         meta_model_type='gnn',\n",
    "#         base_models=[GNN1, GNN2, GREEDY]\n",
    "#     )\n",
    "# )\n",
    "\n",
    "# train_loader = DataLoader(\n",
    "#     train_data,\n",
    "#     batch_size=args['batch_size'],\n",
    "#     shuffle=True,\n",
    "#     num_workers=4\n",
    "# )\n",
    "\n",
    "# test_loader = DataLoader(\n",
    "#     test_data,\n",
    "#     batch_size=args['batch_size'],\n",
    "#     shuffle=True,\n",
    "#     num_workers=4\n",
    "# )"
   ]
  },
  {
   "cell_type": "code",
   "execution_count": 21,
   "metadata": {},
   "outputs": [
    {
     "data": {
      "text/plain": [
       "0.6880177625953527"
      ]
     },
     "execution_count": 21,
     "metadata": {},
     "output_type": "execute_result"
    }
   ],
   "source": [
    "train_num = 2\n",
    "train_instances = [\n",
    "    *ig.sample_instances(6, 10, train_num, rng, **er_config),\n",
    "    *ig.sample_instances(6, 10, train_num, rng, **ba_config),\n",
    "    *ig.sample_instances(6, 10, train_num, rng, **geom_config),\n",
    "    *ig.sample_instances(8, 8, train_num, rng, **er_config),\n",
    "    *ig.sample_instances(8, 8, train_num, rng, **ba_config),\n",
    "    *ig.sample_instances(8, 8, train_num, rng, **geom_config),\n",
    "    *ig.sample_instances(10, 6, train_num, rng, **er_config),\n",
    "    *ig.sample_instances(10, 6, train_num, rng, **ba_config),\n",
    "    *ig.sample_instances(10, 6, train_num, rng, **geom_config)\n",
    "]\n",
    "\n",
    "tc._instances_to_faulty_stochastic_opt(\n",
    "\tinstances=train_instances,\n",
    "\thead=args['head'],\n",
    "\tpercent_faulty = 0,\n",
    "\tbase_models=[GNN1, GNN2, GREEDY]\n",
    ")"
   ]
  },
  {
   "cell_type": "code",
   "execution_count": 6,
   "metadata": {},
   "outputs": [
    {
     "name": "stdout",
     "output_type": "stream",
     "text": [
      "DataBatch(x=[544, 4], edge_index=[2, 2022], edge_attr=[2022, 1], graph_features=[64, 1], neighbors=[544], m=[32], n=[32], hint=[32, 3], batch=[544], ptr=[33])\n"
     ]
    }
   ],
   "source": [
    "for data in train_loader:\n",
    "    print(data)\n",
    "    break"
   ]
  },
  {
   "cell_type": "code",
   "execution_count": 11,
   "metadata": {},
   "outputs": [
    {
     "name": "stderr",
     "output_type": "stream",
     "text": [
      "Training:   0%|          | 0/200 [00:00<?, ?Epochs/s]"
     ]
    },
    {
     "name": "stdout",
     "output_type": "stream",
     "text": [
      "1.08126192740126\n"
     ]
    },
    {
     "name": "stderr",
     "output_type": "stream",
     "text": [
      "Training:   0%|          | 1/200 [00:01<04:28,  1.35s/Epochs]"
     ]
    },
    {
     "name": "stdout",
     "output_type": "stream",
     "text": [
      "TEST ACCURACY: 0.3125\n",
      "TEST LOSS: 1.084146499633789\n"
     ]
    },
    {
     "name": "stderr",
     "output_type": "stream",
     "text": [
      "Training:   1%|          | 2/200 [00:02<03:31,  1.07s/Epochs]"
     ]
    },
    {
     "name": "stdout",
     "output_type": "stream",
     "text": [
      "1.072359057674778\n",
      "1.0626739795188165\n"
     ]
    },
    {
     "name": "stderr",
     "output_type": "stream",
     "text": [
      "Training:   2%|▏         | 3/200 [00:03<03:51,  1.18s/Epochs]"
     ]
    },
    {
     "name": "stdout",
     "output_type": "stream",
     "text": [
      "TEST ACCURACY: 0.4000000059604645\n",
      "TEST LOSS: 1.0754673480987549\n"
     ]
    },
    {
     "name": "stderr",
     "output_type": "stream",
     "text": [
      "Training:   2%|▏         | 4/200 [00:04<03:23,  1.04s/Epochs]"
     ]
    },
    {
     "name": "stdout",
     "output_type": "stream",
     "text": [
      "1.0564009268197987\n",
      "1.0481729111182723\n"
     ]
    },
    {
     "name": "stderr",
     "output_type": "stream",
     "text": [
      "Training:   2%|▎         | 5/200 [00:05<03:38,  1.12s/Epochs]"
     ]
    },
    {
     "name": "stdout",
     "output_type": "stream",
     "text": [
      "TEST ACCURACY: 0.48750001192092896\n",
      "TEST LOSS: 1.0649726390838623\n"
     ]
    },
    {
     "name": "stderr",
     "output_type": "stream",
     "text": [
      "Training:   3%|▎         | 6/200 [00:06<03:20,  1.03s/Epochs]"
     ]
    },
    {
     "name": "stdout",
     "output_type": "stream",
     "text": [
      "1.0409663613483187\n",
      "1.0357666864289472\n"
     ]
    },
    {
     "name": "stderr",
     "output_type": "stream",
     "text": [
      "Training:   4%|▎         | 7/200 [00:07<03:35,  1.12s/Epochs]"
     ]
    },
    {
     "name": "stdout",
     "output_type": "stream",
     "text": [
      "TEST ACCURACY: 0.4749999940395355\n",
      "TEST LOSS: 1.0573829412460327\n"
     ]
    },
    {
     "name": "stderr",
     "output_type": "stream",
     "text": [
      "Training:   4%|▍         | 8/200 [00:08<03:17,  1.03s/Epochs]"
     ]
    },
    {
     "name": "stdout",
     "output_type": "stream",
     "text": [
      "1.0293413086941368\n",
      "1.0271095501418919\n"
     ]
    },
    {
     "name": "stderr",
     "output_type": "stream",
     "text": [
      "Training:   4%|▍         | 9/200 [00:09<03:30,  1.10s/Epochs]"
     ]
    },
    {
     "name": "stdout",
     "output_type": "stream",
     "text": [
      "TEST ACCURACY: 0.4749999940395355\n",
      "TEST LOSS: 1.0509735345840454\n"
     ]
    },
    {
     "name": "stderr",
     "output_type": "stream",
     "text": [
      "Training:   5%|▌         | 10/200 [00:10<03:15,  1.03s/Epochs]"
     ]
    },
    {
     "name": "stdout",
     "output_type": "stream",
     "text": [
      "1.0207536065347307\n",
      "1.0142259145377415\n"
     ]
    },
    {
     "name": "stderr",
     "output_type": "stream",
     "text": [
      "Training:   6%|▌         | 11/200 [00:11<03:26,  1.09s/Epochs]"
     ]
    },
    {
     "name": "stdout",
     "output_type": "stream",
     "text": [
      "TEST ACCURACY: 0.4749999940395355\n",
      "TEST LOSS: 1.0457314252853394\n"
     ]
    },
    {
     "name": "stderr",
     "output_type": "stream",
     "text": [
      "Training:   6%|▌         | 12/200 [00:12<03:11,  1.02s/Epochs]"
     ]
    },
    {
     "name": "stdout",
     "output_type": "stream",
     "text": [
      "1.0099435055685175\n",
      "0.9984630775583748\n"
     ]
    },
    {
     "name": "stderr",
     "output_type": "stream",
     "text": [
      "Training:   6%|▋         | 13/200 [00:14<03:24,  1.09s/Epochs]"
     ]
    },
    {
     "name": "stdout",
     "output_type": "stream",
     "text": [
      "TEST ACCURACY: 0.4749999940395355\n",
      "TEST LOSS: 1.0411626100540161\n"
     ]
    },
    {
     "name": "stderr",
     "output_type": "stream",
     "text": [
      "Training:   7%|▋         | 14/200 [00:14<03:12,  1.03s/Epochs]"
     ]
    },
    {
     "name": "stdout",
     "output_type": "stream",
     "text": [
      "0.9988099894695335\n",
      "0.98298528270378\n"
     ]
    },
    {
     "name": "stderr",
     "output_type": "stream",
     "text": [
      "Training:   8%|▊         | 15/200 [00:16<03:25,  1.11s/Epochs]"
     ]
    },
    {
     "name": "stdout",
     "output_type": "stream",
     "text": [
      "TEST ACCURACY: 0.4749999940395355\n",
      "TEST LOSS: 1.0386461019515991\n"
     ]
    },
    {
     "name": "stderr",
     "output_type": "stream",
     "text": [
      "Training:   8%|▊         | 16/200 [00:17<03:12,  1.04s/Epochs]"
     ]
    },
    {
     "name": "stdout",
     "output_type": "stream",
     "text": [
      "0.9825880880831351\n",
      "0.9748523557285192\n"
     ]
    },
    {
     "name": "stderr",
     "output_type": "stream",
     "text": [
      "Training:   8%|▊         | 17/200 [00:18<03:25,  1.12s/Epochs]"
     ]
    },
    {
     "name": "stdout",
     "output_type": "stream",
     "text": [
      "TEST ACCURACY: 0.4749999940395355\n",
      "TEST LOSS: 1.0372087955474854\n"
     ]
    },
    {
     "name": "stderr",
     "output_type": "stream",
     "text": [
      "Training:   9%|▉         | 18/200 [00:19<03:09,  1.04s/Epochs]"
     ]
    },
    {
     "name": "stdout",
     "output_type": "stream",
     "text": [
      "0.9666077445088331\n",
      "0.9611202859812497\n"
     ]
    },
    {
     "name": "stderr",
     "output_type": "stream",
     "text": [
      "Training:  10%|▉         | 19/200 [00:20<03:25,  1.14s/Epochs]"
     ]
    },
    {
     "name": "stdout",
     "output_type": "stream",
     "text": [
      "TEST ACCURACY: 0.4749999940395355\n",
      "TEST LOSS: 1.0338044166564941\n"
     ]
    },
    {
     "name": "stderr",
     "output_type": "stream",
     "text": [
      "Training:  10%|█         | 20/200 [00:21<03:07,  1.04s/Epochs]"
     ]
    },
    {
     "name": "stdout",
     "output_type": "stream",
     "text": [
      "0.9610822379093751\n",
      "0.9546183057108745\n"
     ]
    },
    {
     "name": "stderr",
     "output_type": "stream",
     "text": [
      "Training:  10%|█         | 21/200 [00:22<03:17,  1.10s/Epochs]"
     ]
    },
    {
     "name": "stdout",
     "output_type": "stream",
     "text": [
      "TEST ACCURACY: 0.4749999940395355\n",
      "TEST LOSS: 1.029708981513977\n"
     ]
    },
    {
     "name": "stderr",
     "output_type": "stream",
     "text": [
      "Training:  11%|█         | 22/200 [00:23<03:03,  1.03s/Epochs]"
     ]
    },
    {
     "name": "stdout",
     "output_type": "stream",
     "text": [
      "0.9390881319125273\n",
      "0.9310620222395477\n"
     ]
    },
    {
     "name": "stderr",
     "output_type": "stream",
     "text": [
      "Training:  12%|█▏        | 23/200 [00:24<03:15,  1.10s/Epochs]"
     ]
    },
    {
     "name": "stdout",
     "output_type": "stream",
     "text": [
      "TEST ACCURACY: 0.4749999940395355\n",
      "TEST LOSS: 1.0221279859542847\n"
     ]
    },
    {
     "name": "stderr",
     "output_type": "stream",
     "text": [
      "Training:  12%|█▏        | 24/200 [00:25<03:02,  1.04s/Epochs]"
     ]
    },
    {
     "name": "stdout",
     "output_type": "stream",
     "text": [
      "0.9265058783613084\n",
      "0.9218560204611591\n"
     ]
    },
    {
     "name": "stderr",
     "output_type": "stream",
     "text": [
      "Training:  12%|█▎        | 25/200 [00:27<03:15,  1.12s/Epochs]"
     ]
    },
    {
     "name": "stdout",
     "output_type": "stream",
     "text": [
      "TEST ACCURACY: 0.48750001192092896\n",
      "TEST LOSS: 1.0219718217849731\n"
     ]
    },
    {
     "name": "stderr",
     "output_type": "stream",
     "text": [
      "Training:  13%|█▎        | 26/200 [00:27<02:59,  1.03s/Epochs]"
     ]
    },
    {
     "name": "stdout",
     "output_type": "stream",
     "text": [
      "0.907432364955173\n",
      "0.903079168288001\n"
     ]
    },
    {
     "name": "stderr",
     "output_type": "stream",
     "text": [
      "Training:  14%|█▎        | 27/200 [00:29<03:10,  1.10s/Epochs]"
     ]
    },
    {
     "name": "stdout",
     "output_type": "stream",
     "text": [
      "TEST ACCURACY: 0.5\n",
      "TEST LOSS: 1.0124253034591675\n"
     ]
    },
    {
     "name": "stderr",
     "output_type": "stream",
     "text": [
      "Training:  14%|█▍        | 28/200 [00:30<02:55,  1.02s/Epochs]"
     ]
    },
    {
     "name": "stdout",
     "output_type": "stream",
     "text": [
      "0.9015458957640418\n",
      "0.8920358439231513\n"
     ]
    },
    {
     "name": "stderr",
     "output_type": "stream",
     "text": [
      "Training:  14%|█▍        | 29/200 [00:31<03:08,  1.10s/Epochs]"
     ]
    },
    {
     "name": "stdout",
     "output_type": "stream",
     "text": [
      "TEST ACCURACY: 0.512499988079071\n",
      "TEST LOSS: 1.0116597414016724\n"
     ]
    },
    {
     "name": "stderr",
     "output_type": "stream",
     "text": [
      "Training:  15%|█▌        | 30/200 [00:32<02:54,  1.03s/Epochs]"
     ]
    },
    {
     "name": "stdout",
     "output_type": "stream",
     "text": [
      "0.8813678188006964\n",
      "0.8931001390116367\n"
     ]
    },
    {
     "name": "stderr",
     "output_type": "stream",
     "text": [
      "Training:  16%|█▌        | 31/200 [00:33<03:06,  1.11s/Epochs]"
     ]
    },
    {
     "name": "stdout",
     "output_type": "stream",
     "text": [
      "TEST ACCURACY: 0.550000011920929\n",
      "TEST LOSS: 1.0032020807266235\n"
     ]
    },
    {
     "name": "stderr",
     "output_type": "stream",
     "text": [
      "Training:  16%|█▌        | 32/200 [00:34<02:49,  1.01s/Epochs]"
     ]
    },
    {
     "name": "stdout",
     "output_type": "stream",
     "text": [
      "0.8857859092405959\n",
      "0.8838327645925274\n"
     ]
    },
    {
     "name": "stderr",
     "output_type": "stream",
     "text": [
      "Training:  16%|█▋        | 33/200 [00:35<03:01,  1.09s/Epochs]"
     ]
    },
    {
     "name": "stdout",
     "output_type": "stream",
     "text": [
      "TEST ACCURACY: 0.550000011920929\n",
      "TEST LOSS: 1.0013353824615479\n"
     ]
    },
    {
     "name": "stderr",
     "output_type": "stream",
     "text": [
      "Training:  17%|█▋        | 34/200 [00:36<02:47,  1.01s/Epochs]"
     ]
    },
    {
     "name": "stdout",
     "output_type": "stream",
     "text": [
      "0.8673076741913349\n",
      "0.8670795449259538\n"
     ]
    },
    {
     "name": "stderr",
     "output_type": "stream",
     "text": [
      "Training:  18%|█▊        | 35/200 [00:37<03:02,  1.11s/Epochs]"
     ]
    },
    {
     "name": "stdout",
     "output_type": "stream",
     "text": [
      "TEST ACCURACY: 0.5\n",
      "TEST LOSS: 1.0053308010101318\n"
     ]
    },
    {
     "name": "stderr",
     "output_type": "stream",
     "text": [
      "Training:  18%|█▊        | 36/200 [00:38<02:53,  1.06s/Epochs]"
     ]
    },
    {
     "name": "stdout",
     "output_type": "stream",
     "text": [
      "0.8545358907482961\n",
      "0.8804315419408423\n"
     ]
    },
    {
     "name": "stderr",
     "output_type": "stream",
     "text": [
      "Training:  18%|█▊        | 37/200 [00:39<03:01,  1.12s/Epochs]"
     ]
    },
    {
     "name": "stdout",
     "output_type": "stream",
     "text": [
      "TEST ACCURACY: 0.5250000357627869\n",
      "TEST LOSS: 0.9969866871833801\n"
     ]
    },
    {
     "name": "stderr",
     "output_type": "stream",
     "text": [
      "Training:  19%|█▉        | 38/200 [00:40<02:47,  1.03s/Epochs]"
     ]
    },
    {
     "name": "stdout",
     "output_type": "stream",
     "text": [
      "0.8707279637249553\n",
      "0.8580337918035872\n"
     ]
    },
    {
     "name": "stderr",
     "output_type": "stream",
     "text": [
      "Training:  20%|█▉        | 39/200 [00:41<02:57,  1.10s/Epochs]"
     ]
    },
    {
     "name": "stdout",
     "output_type": "stream",
     "text": [
      "TEST ACCURACY: 0.5375000238418579\n",
      "TEST LOSS: 0.9977986216545105\n"
     ]
    },
    {
     "name": "stderr",
     "output_type": "stream",
     "text": [
      "Training:  20%|██        | 40/200 [00:42<02:43,  1.02s/Epochs]"
     ]
    },
    {
     "name": "stdout",
     "output_type": "stream",
     "text": [
      "0.8679422531431732\n",
      "0.8683212513408503\n"
     ]
    },
    {
     "name": "stderr",
     "output_type": "stream",
     "text": [
      "Training:  20%|██        | 41/200 [00:44<02:55,  1.10s/Epochs]"
     ]
    },
    {
     "name": "stdout",
     "output_type": "stream",
     "text": [
      "TEST ACCURACY: 0.5375000238418579\n",
      "TEST LOSS: 0.9885770082473755\n"
     ]
    },
    {
     "name": "stderr",
     "output_type": "stream",
     "text": [
      "Training:  21%|██        | 42/200 [00:44<02:41,  1.02s/Epochs]"
     ]
    },
    {
     "name": "stdout",
     "output_type": "stream",
     "text": [
      "0.8684558665323125\n",
      "0.8594072720350652\n"
     ]
    },
    {
     "name": "stderr",
     "output_type": "stream",
     "text": [
      "Training:  22%|██▏       | 43/200 [00:46<02:53,  1.10s/Epochs]"
     ]
    },
    {
     "name": "stdout",
     "output_type": "stream",
     "text": [
      "TEST ACCURACY: 0.5875000357627869\n",
      "TEST LOSS: 0.9806618094444275\n"
     ]
    },
    {
     "name": "stderr",
     "output_type": "stream",
     "text": [
      "Training:  22%|██▏       | 44/200 [00:47<02:40,  1.03s/Epochs]"
     ]
    },
    {
     "name": "stdout",
     "output_type": "stream",
     "text": [
      "0.8339152699362208\n",
      "0.8596864786834928\n"
     ]
    },
    {
     "name": "stderr",
     "output_type": "stream",
     "text": [
      "Training:  22%|██▎       | 45/200 [00:48<02:51,  1.11s/Epochs]"
     ]
    },
    {
     "name": "stdout",
     "output_type": "stream",
     "text": [
      "TEST ACCURACY: 0.5375000238418579\n",
      "TEST LOSS: 0.9813873171806335\n"
     ]
    },
    {
     "name": "stderr",
     "output_type": "stream",
     "text": [
      "Training:  23%|██▎       | 46/200 [00:49<02:40,  1.04s/Epochs]"
     ]
    },
    {
     "name": "stdout",
     "output_type": "stream",
     "text": [
      "0.8646183048589078\n",
      "0.8560438920586393\n"
     ]
    },
    {
     "name": "stderr",
     "output_type": "stream",
     "text": [
      "Training:  24%|██▎       | 47/200 [00:50<02:50,  1.11s/Epochs]"
     ]
    },
    {
     "name": "stdout",
     "output_type": "stream",
     "text": [
      "TEST ACCURACY: 0.574999988079071\n",
      "TEST LOSS: 0.9763578772544861\n"
     ]
    },
    {
     "name": "stderr",
     "output_type": "stream",
     "text": [
      "Training:  24%|██▍       | 48/200 [00:51<02:37,  1.04s/Epochs]"
     ]
    },
    {
     "name": "stdout",
     "output_type": "stream",
     "text": [
      "0.8456427400462185\n",
      "0.8454026626087622\n"
     ]
    },
    {
     "name": "stderr",
     "output_type": "stream",
     "text": [
      "Training:  24%|██▍       | 49/200 [00:52<02:47,  1.11s/Epochs]"
     ]
    },
    {
     "name": "stdout",
     "output_type": "stream",
     "text": [
      "TEST ACCURACY: 0.550000011920929\n",
      "TEST LOSS: 0.9711725115776062\n"
     ]
    },
    {
     "name": "stderr",
     "output_type": "stream",
     "text": [
      "Training:  25%|██▌       | 50/200 [00:53<02:34,  1.03s/Epochs]"
     ]
    },
    {
     "name": "stdout",
     "output_type": "stream",
     "text": [
      "0.8367478703858119\n",
      "0.8672468625937803\n"
     ]
    },
    {
     "name": "stderr",
     "output_type": "stream",
     "text": [
      "Training:  26%|██▌       | 51/200 [00:54<02:46,  1.12s/Epochs]"
     ]
    },
    {
     "name": "stdout",
     "output_type": "stream",
     "text": [
      "TEST ACCURACY: 0.5\n",
      "TEST LOSS: 0.9829375147819519\n"
     ]
    },
    {
     "name": "stderr",
     "output_type": "stream",
     "text": [
      "Training:  26%|██▌       | 52/200 [00:55<02:37,  1.06s/Epochs]"
     ]
    },
    {
     "name": "stdout",
     "output_type": "stream",
     "text": [
      "0.83882055437796\n",
      "0.8359260116587716\n"
     ]
    },
    {
     "name": "stderr",
     "output_type": "stream",
     "text": [
      "Training:  26%|██▋       | 53/200 [00:57<02:44,  1.12s/Epochs]"
     ]
    },
    {
     "name": "stdout",
     "output_type": "stream",
     "text": [
      "TEST ACCURACY: 0.5\n",
      "TEST LOSS: 0.9822754859924316\n"
     ]
    },
    {
     "name": "stderr",
     "output_type": "stream",
     "text": [
      "Training:  27%|██▋       | 54/200 [00:57<02:30,  1.03s/Epochs]"
     ]
    },
    {
     "name": "stdout",
     "output_type": "stream",
     "text": [
      "0.8301185987002302\n",
      "0.8178498295865891\n"
     ]
    },
    {
     "name": "stderr",
     "output_type": "stream",
     "text": [
      "Training:  28%|██▊       | 55/200 [00:59<02:40,  1.11s/Epochs]"
     ]
    },
    {
     "name": "stdout",
     "output_type": "stream",
     "text": [
      "TEST ACCURACY: 0.550000011920929\n",
      "TEST LOSS: 0.9760242700576782\n"
     ]
    },
    {
     "name": "stderr",
     "output_type": "stream",
     "text": [
      "Training:  28%|██▊       | 56/200 [00:59<02:27,  1.03s/Epochs]"
     ]
    },
    {
     "name": "stdout",
     "output_type": "stream",
     "text": [
      "0.8323985800518554\n",
      "0.8361246712980508\n"
     ]
    },
    {
     "name": "stderr",
     "output_type": "stream",
     "text": [
      "Training:  28%|██▊       | 57/200 [01:01<02:35,  1.08s/Epochs]"
     ]
    },
    {
     "name": "stdout",
     "output_type": "stream",
     "text": [
      "TEST ACCURACY: 0.5625\n",
      "TEST LOSS: 0.9735023379325867\n"
     ]
    },
    {
     "name": "stderr",
     "output_type": "stream",
     "text": [
      "Training:  29%|██▉       | 58/200 [01:02<02:23,  1.01s/Epochs]"
     ]
    },
    {
     "name": "stdout",
     "output_type": "stream",
     "text": [
      "0.8286064679933056\n",
      "0.8122524075891172\n"
     ]
    },
    {
     "name": "stderr",
     "output_type": "stream",
     "text": [
      "Training:  30%|██▉       | 59/200 [01:03<02:30,  1.07s/Epochs]"
     ]
    },
    {
     "name": "stdout",
     "output_type": "stream",
     "text": [
      "TEST ACCURACY: 0.5375000238418579\n",
      "TEST LOSS: 0.9698989987373352\n"
     ]
    },
    {
     "name": "stderr",
     "output_type": "stream",
     "text": [
      "Training:  30%|███       | 60/200 [01:04<02:21,  1.01s/Epochs]"
     ]
    },
    {
     "name": "stdout",
     "output_type": "stream",
     "text": [
      "0.8128275134887061\n",
      "0.8278397746033286\n"
     ]
    },
    {
     "name": "stderr",
     "output_type": "stream",
     "text": [
      "Training:  30%|███       | 61/200 [01:05<02:30,  1.08s/Epochs]"
     ]
    },
    {
     "name": "stdout",
     "output_type": "stream",
     "text": [
      "TEST ACCURACY: 0.5375000238418579\n",
      "TEST LOSS: 0.9767051935195923\n"
     ]
    },
    {
     "name": "stderr",
     "output_type": "stream",
     "text": [
      "Training:  31%|███       | 62/200 [01:06<02:18,  1.00s/Epochs]"
     ]
    },
    {
     "name": "stdout",
     "output_type": "stream",
     "text": [
      "0.8382684098056149\n",
      "0.8287375838472573\n"
     ]
    },
    {
     "name": "stderr",
     "output_type": "stream",
     "text": [
      "Training:  32%|███▏      | 63/200 [01:07<02:26,  1.07s/Epochs]"
     ]
    },
    {
     "name": "stdout",
     "output_type": "stream",
     "text": [
      "TEST ACCURACY: 0.5375000238418579\n",
      "TEST LOSS: 0.977246105670929\n"
     ]
    },
    {
     "name": "stderr",
     "output_type": "stream",
     "text": [
      "Training:  32%|███▏      | 64/200 [01:08<02:17,  1.01s/Epochs]"
     ]
    },
    {
     "name": "stdout",
     "output_type": "stream",
     "text": [
      "0.8313595115973348\n",
      "0.8293022095661744\n"
     ]
    },
    {
     "name": "stderr",
     "output_type": "stream",
     "text": [
      "Training:  32%|███▎      | 65/200 [01:09<02:28,  1.10s/Epochs]"
     ]
    },
    {
     "name": "stdout",
     "output_type": "stream",
     "text": [
      "TEST ACCURACY: 0.5875000357627869\n",
      "TEST LOSS: 0.9709517359733582\n"
     ]
    },
    {
     "name": "stderr",
     "output_type": "stream",
     "text": [
      "Training:  33%|███▎      | 66/200 [01:10<02:17,  1.03s/Epochs]"
     ]
    },
    {
     "name": "stdout",
     "output_type": "stream",
     "text": [
      "0.8265811275907501\n",
      "0.8358540635690135\n"
     ]
    },
    {
     "name": "stderr",
     "output_type": "stream",
     "text": [
      "Training:  34%|███▎      | 67/200 [01:11<02:26,  1.10s/Epochs]"
     ]
    },
    {
     "name": "stdout",
     "output_type": "stream",
     "text": [
      "TEST ACCURACY: 0.5875000357627869\n",
      "TEST LOSS: 0.9789382815361023\n"
     ]
    },
    {
     "name": "stderr",
     "output_type": "stream",
     "text": [
      "Training:  34%|███▍      | 68/200 [01:12<02:16,  1.03s/Epochs]"
     ]
    },
    {
     "name": "stdout",
     "output_type": "stream",
     "text": [
      "0.8413341276533386\n",
      "0.8148697784732913\n"
     ]
    },
    {
     "name": "stderr",
     "output_type": "stream",
     "text": [
      "Training:  34%|███▍      | 69/200 [01:13<02:26,  1.12s/Epochs]"
     ]
    },
    {
     "name": "stdout",
     "output_type": "stream",
     "text": [
      "TEST ACCURACY: 0.550000011920929\n",
      "TEST LOSS: 0.9656509757041931\n"
     ]
    },
    {
     "name": "stderr",
     "output_type": "stream",
     "text": [
      "Training:  35%|███▌      | 70/200 [01:14<02:19,  1.07s/Epochs]"
     ]
    },
    {
     "name": "stdout",
     "output_type": "stream",
     "text": [
      "0.8524453613566559\n",
      "0.8256108341454799\n"
     ]
    },
    {
     "name": "stderr",
     "output_type": "stream",
     "text": [
      "Training:  36%|███▌      | 71/200 [01:16<02:29,  1.16s/Epochs]"
     ]
    },
    {
     "name": "stdout",
     "output_type": "stream",
     "text": [
      "TEST ACCURACY: 0.5250000357627869\n",
      "TEST LOSS: 0.9704381823539734\n"
     ]
    },
    {
     "name": "stderr",
     "output_type": "stream",
     "text": [
      "Training:  36%|███▌      | 72/200 [01:16<02:13,  1.05s/Epochs]"
     ]
    },
    {
     "name": "stdout",
     "output_type": "stream",
     "text": [
      "0.8171912671126157\n",
      "0.8134844714254553\n"
     ]
    },
    {
     "name": "stderr",
     "output_type": "stream",
     "text": [
      "Training:  36%|███▋      | 73/200 [01:18<02:22,  1.12s/Epochs]"
     ]
    },
    {
     "name": "stdout",
     "output_type": "stream",
     "text": [
      "TEST ACCURACY: 0.574999988079071\n",
      "TEST LOSS: 0.9734007716178894\n"
     ]
    },
    {
     "name": "stderr",
     "output_type": "stream",
     "text": [
      "Training:  37%|███▋      | 74/200 [01:19<02:09,  1.03s/Epochs]"
     ]
    },
    {
     "name": "stdout",
     "output_type": "stream",
     "text": [
      "0.8045794709567549\n",
      "0.8444470333920951\n"
     ]
    },
    {
     "name": "stderr",
     "output_type": "stream",
     "text": [
      "Training:  38%|███▊      | 75/200 [01:20<02:16,  1.09s/Epochs]"
     ]
    },
    {
     "name": "stdout",
     "output_type": "stream",
     "text": [
      "TEST ACCURACY: 0.5375000238418579\n",
      "TEST LOSS: 0.9706697463989258\n"
     ]
    },
    {
     "name": "stderr",
     "output_type": "stream",
     "text": [
      "Training:  38%|███▊      | 76/200 [01:21<02:06,  1.02s/Epochs]"
     ]
    },
    {
     "name": "stdout",
     "output_type": "stream",
     "text": [
      "0.8293378896330202\n",
      "0.8368278500776212\n"
     ]
    },
    {
     "name": "stderr",
     "output_type": "stream",
     "text": [
      "Training:  38%|███▊      | 77/200 [01:22<02:16,  1.11s/Epochs]"
     ]
    },
    {
     "name": "stdout",
     "output_type": "stream",
     "text": [
      "TEST ACCURACY: 0.5375000238418579\n",
      "TEST LOSS: 0.9784826636314392\n"
     ]
    },
    {
     "name": "stderr",
     "output_type": "stream",
     "text": [
      "Training:  39%|███▉      | 78/200 [01:23<02:07,  1.04s/Epochs]"
     ]
    },
    {
     "name": "stdout",
     "output_type": "stream",
     "text": [
      "0.8129334735408054\n",
      "0.8046939366411965\n"
     ]
    },
    {
     "name": "stderr",
     "output_type": "stream",
     "text": [
      "Training:  40%|███▉      | 79/200 [01:24<02:17,  1.13s/Epochs]"
     ]
    },
    {
     "name": "stdout",
     "output_type": "stream",
     "text": [
      "TEST ACCURACY: 0.5375000238418579\n",
      "TEST LOSS: 0.9788885116577148\n"
     ]
    },
    {
     "name": "stderr",
     "output_type": "stream",
     "text": [
      "Training:  40%|████      | 80/200 [01:25<02:05,  1.04s/Epochs]"
     ]
    },
    {
     "name": "stdout",
     "output_type": "stream",
     "text": [
      "0.8115024196804396\n",
      "0.8152169359027513\n"
     ]
    },
    {
     "name": "stderr",
     "output_type": "stream",
     "text": [
      "Training:  40%|████      | 81/200 [01:26<02:14,  1.13s/Epochs]"
     ]
    },
    {
     "name": "stdout",
     "output_type": "stream",
     "text": [
      "TEST ACCURACY: 0.550000011920929\n",
      "TEST LOSS: 0.9704002737998962\n"
     ]
    },
    {
     "name": "stderr",
     "output_type": "stream",
     "text": [
      "Training:  41%|████      | 82/200 [01:27<02:04,  1.06s/Epochs]"
     ]
    },
    {
     "name": "stdout",
     "output_type": "stream",
     "text": [
      "0.7979125482884141\n",
      "0.7971280298074527\n"
     ]
    },
    {
     "name": "stderr",
     "output_type": "stream",
     "text": [
      "Training:  42%|████▏     | 83/200 [01:29<02:15,  1.16s/Epochs]"
     ]
    },
    {
     "name": "stdout",
     "output_type": "stream",
     "text": [
      "TEST ACCURACY: 0.5250000357627869\n",
      "TEST LOSS: 0.969823956489563\n"
     ]
    },
    {
     "name": "stderr",
     "output_type": "stream",
     "text": [
      "Training:  42%|████▏     | 84/200 [01:30<02:03,  1.07s/Epochs]"
     ]
    },
    {
     "name": "stdout",
     "output_type": "stream",
     "text": [
      "0.7971462878163832\n",
      "0.8044447570296206\n"
     ]
    },
    {
     "name": "stderr",
     "output_type": "stream",
     "text": [
      "Training:  42%|████▎     | 85/200 [01:31<02:14,  1.17s/Epochs]"
     ]
    },
    {
     "name": "stdout",
     "output_type": "stream",
     "text": [
      "TEST ACCURACY: 0.5375000238418579\n",
      "TEST LOSS: 0.9709030389785767\n"
     ]
    },
    {
     "name": "stderr",
     "output_type": "stream",
     "text": [
      "Training:  43%|████▎     | 86/200 [01:32<02:04,  1.10s/Epochs]"
     ]
    },
    {
     "name": "stdout",
     "output_type": "stream",
     "text": [
      "0.8031881710829167\n",
      "0.7902774095865498\n"
     ]
    },
    {
     "name": "stderr",
     "output_type": "stream",
     "text": [
      "Training:  44%|████▎     | 87/200 [01:33<02:14,  1.19s/Epochs]"
     ]
    },
    {
     "name": "stdout",
     "output_type": "stream",
     "text": [
      "TEST ACCURACY: 0.5625\n",
      "TEST LOSS: 0.9767339825630188\n"
     ]
    },
    {
     "name": "stderr",
     "output_type": "stream",
     "text": [
      "Training:  44%|████▍     | 88/200 [01:34<02:02,  1.09s/Epochs]"
     ]
    },
    {
     "name": "stdout",
     "output_type": "stream",
     "text": [
      "0.8155897154041934\n",
      "0.7964284560356775\n"
     ]
    },
    {
     "name": "stderr",
     "output_type": "stream",
     "text": [
      "Training:  44%|████▍     | 89/200 [01:36<02:11,  1.18s/Epochs]"
     ]
    },
    {
     "name": "stdout",
     "output_type": "stream",
     "text": [
      "TEST ACCURACY: 0.5250000357627869\n",
      "TEST LOSS: 1.0067356824874878\n"
     ]
    },
    {
     "name": "stderr",
     "output_type": "stream",
     "text": [
      "Training:  45%|████▌     | 90/200 [01:36<01:59,  1.08s/Epochs]"
     ]
    },
    {
     "name": "stdout",
     "output_type": "stream",
     "text": [
      "0.8030639561589735\n",
      "0.7951727753861129\n"
     ]
    },
    {
     "name": "stderr",
     "output_type": "stream",
     "text": [
      "Training:  46%|████▌     | 91/200 [01:38<02:07,  1.17s/Epochs]"
     ]
    },
    {
     "name": "stdout",
     "output_type": "stream",
     "text": [
      "TEST ACCURACY: 0.5625\n",
      "TEST LOSS: 0.969883382320404\n"
     ]
    },
    {
     "name": "stderr",
     "output_type": "stream",
     "text": [
      "Training:  46%|████▌     | 92/200 [01:39<01:56,  1.08s/Epochs]"
     ]
    },
    {
     "name": "stdout",
     "output_type": "stream",
     "text": [
      "0.8014783966574313\n",
      "0.8101628719934796\n"
     ]
    },
    {
     "name": "stderr",
     "output_type": "stream",
     "text": [
      "Training:  46%|████▋     | 93/200 [01:40<02:02,  1.14s/Epochs]"
     ]
    },
    {
     "name": "stdout",
     "output_type": "stream",
     "text": [
      "TEST ACCURACY: 0.6000000238418579\n",
      "TEST LOSS: 0.9509062170982361\n"
     ]
    },
    {
     "name": "stderr",
     "output_type": "stream",
     "text": [
      "Training:  47%|████▋     | 94/200 [01:41<01:52,  1.06s/Epochs]"
     ]
    },
    {
     "name": "stdout",
     "output_type": "stream",
     "text": [
      "0.8089382158091855\n",
      "0.8106176950594725\n"
     ]
    },
    {
     "name": "stderr",
     "output_type": "stream",
     "text": [
      "Training:  48%|████▊     | 95/200 [01:42<01:58,  1.12s/Epochs]"
     ]
    },
    {
     "name": "stdout",
     "output_type": "stream",
     "text": [
      "TEST ACCURACY: 0.5875000357627869\n",
      "TEST LOSS: 0.9800161719322205\n"
     ]
    },
    {
     "name": "stderr",
     "output_type": "stream",
     "text": [
      "Training:  48%|████▊     | 96/200 [01:43<01:48,  1.04s/Epochs]"
     ]
    },
    {
     "name": "stdout",
     "output_type": "stream",
     "text": [
      "0.8094630837440491\n",
      "0.7907649456959351\n"
     ]
    },
    {
     "name": "stderr",
     "output_type": "stream",
     "text": [
      "Training:  48%|████▊     | 97/200 [01:44<01:54,  1.11s/Epochs]"
     ]
    },
    {
     "name": "stdout",
     "output_type": "stream",
     "text": [
      "TEST ACCURACY: 0.5375000238418579\n",
      "TEST LOSS: 0.9729354977607727\n"
     ]
    },
    {
     "name": "stderr",
     "output_type": "stream",
     "text": [
      "Training:  49%|████▉     | 98/200 [01:45<01:45,  1.04s/Epochs]"
     ]
    },
    {
     "name": "stdout",
     "output_type": "stream",
     "text": [
      "0.7913845987201067\n",
      "0.8028634903833807\n"
     ]
    },
    {
     "name": "stderr",
     "output_type": "stream",
     "text": [
      "Training:  50%|████▉     | 99/200 [01:46<01:51,  1.11s/Epochs]"
     ]
    },
    {
     "name": "stdout",
     "output_type": "stream",
     "text": [
      "TEST ACCURACY: 0.574999988079071\n",
      "TEST LOSS: 0.9658409953117371\n"
     ]
    },
    {
     "name": "stderr",
     "output_type": "stream",
     "text": [
      "Training:  50%|█████     | 100/200 [01:47<01:41,  1.02s/Epochs]"
     ]
    },
    {
     "name": "stdout",
     "output_type": "stream",
     "text": [
      "0.7976752955497467\n",
      "0.8008889283499889\n"
     ]
    },
    {
     "name": "stderr",
     "output_type": "stream",
     "text": [
      "Training:  50%|█████     | 101/200 [01:48<01:48,  1.10s/Epochs]"
     ]
    },
    {
     "name": "stdout",
     "output_type": "stream",
     "text": [
      "TEST ACCURACY: 0.574999988079071\n",
      "TEST LOSS: 0.973704993724823\n"
     ]
    },
    {
     "name": "stderr",
     "output_type": "stream",
     "text": [
      "Training:  51%|█████     | 102/200 [01:49<01:40,  1.03s/Epochs]"
     ]
    },
    {
     "name": "stdout",
     "output_type": "stream",
     "text": [
      "0.795499765311582\n",
      "0.7986242787659663\n"
     ]
    },
    {
     "name": "stderr",
     "output_type": "stream",
     "text": [
      "Training:  52%|█████▏    | 103/200 [01:51<01:46,  1.10s/Epochs]"
     ]
    },
    {
     "name": "stdout",
     "output_type": "stream",
     "text": [
      "TEST ACCURACY: 0.6000000238418579\n",
      "TEST LOSS: 0.96954345703125\n"
     ]
    },
    {
     "name": "stderr",
     "output_type": "stream",
     "text": [
      "Training:  52%|█████▏    | 104/200 [01:51<01:38,  1.03s/Epochs]"
     ]
    },
    {
     "name": "stdout",
     "output_type": "stream",
     "text": [
      "0.7900771926314547\n",
      "0.7953397753826469\n"
     ]
    },
    {
     "name": "stderr",
     "output_type": "stream",
     "text": [
      "Training:  52%|█████▎    | 105/200 [01:53<01:44,  1.10s/Epochs]"
     ]
    },
    {
     "name": "stdout",
     "output_type": "stream",
     "text": [
      "TEST ACCURACY: 0.574999988079071\n",
      "TEST LOSS: 0.9727541208267212\n"
     ]
    },
    {
     "name": "stderr",
     "output_type": "stream",
     "text": [
      "Training:  53%|█████▎    | 106/200 [01:54<01:36,  1.02s/Epochs]"
     ]
    },
    {
     "name": "stdout",
     "output_type": "stream",
     "text": [
      "0.7916756290478059\n",
      "0.7949135214338012\n"
     ]
    },
    {
     "name": "stderr",
     "output_type": "stream",
     "text": [
      "Training:  54%|█████▎    | 107/200 [01:55<01:42,  1.10s/Epochs]"
     ]
    },
    {
     "name": "stdout",
     "output_type": "stream",
     "text": [
      "TEST ACCURACY: 0.5625\n",
      "TEST LOSS: 0.9758338928222656\n"
     ]
    },
    {
     "name": "stderr",
     "output_type": "stream",
     "text": [
      "Training:  54%|█████▍    | 108/200 [01:56<01:34,  1.02s/Epochs]"
     ]
    },
    {
     "name": "stdout",
     "output_type": "stream",
     "text": [
      "0.7878480236616161\n",
      "0.7978771566684226\n"
     ]
    },
    {
     "name": "stderr",
     "output_type": "stream",
     "text": [
      "Training:  55%|█████▍    | 109/200 [01:57<01:40,  1.10s/Epochs]"
     ]
    },
    {
     "name": "stdout",
     "output_type": "stream",
     "text": [
      "TEST ACCURACY: 0.5625\n",
      "TEST LOSS: 0.9773947596549988\n"
     ]
    },
    {
     "name": "stderr",
     "output_type": "stream",
     "text": [
      "Training:  55%|█████▌    | 110/200 [01:58<01:32,  1.03s/Epochs]"
     ]
    },
    {
     "name": "stdout",
     "output_type": "stream",
     "text": [
      "0.7699553210319244\n",
      "0.8037039399807473\n"
     ]
    },
    {
     "name": "stderr",
     "output_type": "stream",
     "text": [
      "Training:  56%|█████▌    | 111/200 [01:59<01:38,  1.11s/Epochs]"
     ]
    },
    {
     "name": "stdout",
     "output_type": "stream",
     "text": [
      "TEST ACCURACY: 0.5375000238418579\n",
      "TEST LOSS: 0.9838685989379883\n"
     ]
    },
    {
     "name": "stderr",
     "output_type": "stream",
     "text": [
      "Training:  56%|█████▌    | 112/200 [02:00<01:30,  1.03s/Epochs]"
     ]
    },
    {
     "name": "stdout",
     "output_type": "stream",
     "text": [
      "0.8088120195674103\n",
      "0.800091535430866\n"
     ]
    },
    {
     "name": "stderr",
     "output_type": "stream",
     "text": [
      "Training:  56%|█████▋    | 113/200 [02:01<01:36,  1.11s/Epochs]"
     ]
    },
    {
     "name": "stdout",
     "output_type": "stream",
     "text": [
      "TEST ACCURACY: 0.612500011920929\n",
      "TEST LOSS: 0.9791737794876099\n"
     ]
    },
    {
     "name": "stderr",
     "output_type": "stream",
     "text": [
      "Training:  57%|█████▋    | 114/200 [02:02<01:27,  1.02s/Epochs]"
     ]
    },
    {
     "name": "stdout",
     "output_type": "stream",
     "text": [
      "0.7962475064058383\n",
      "0.7990322136152485\n"
     ]
    },
    {
     "name": "stderr",
     "output_type": "stream",
     "text": [
      "Training:  57%|█████▊    | 115/200 [02:03<01:33,  1.11s/Epochs]"
     ]
    },
    {
     "name": "stdout",
     "output_type": "stream",
     "text": [
      "TEST ACCURACY: 0.550000011920929\n",
      "TEST LOSS: 0.9741314053535461\n"
     ]
    },
    {
     "name": "stderr",
     "output_type": "stream",
     "text": [
      "Training:  58%|█████▊    | 116/200 [02:04<01:24,  1.01s/Epochs]"
     ]
    },
    {
     "name": "stdout",
     "output_type": "stream",
     "text": [
      "0.7804636147874214\n",
      "0.7973144222824857\n"
     ]
    },
    {
     "name": "stderr",
     "output_type": "stream",
     "text": [
      "Training:  58%|█████▊    | 117/200 [02:05<01:30,  1.09s/Epochs]"
     ]
    },
    {
     "name": "stdout",
     "output_type": "stream",
     "text": [
      "TEST ACCURACY: 0.5625\n",
      "TEST LOSS: 0.9885544180870056\n"
     ]
    },
    {
     "name": "stderr",
     "output_type": "stream",
     "text": [
      "Training:  59%|█████▉    | 118/200 [02:06<01:23,  1.02s/Epochs]"
     ]
    },
    {
     "name": "stdout",
     "output_type": "stream",
     "text": [
      "0.7912685144641063\n",
      "0.7880631359990614\n"
     ]
    },
    {
     "name": "stderr",
     "output_type": "stream",
     "text": [
      "Training:  60%|█████▉    | 119/200 [02:07<01:27,  1.08s/Epochs]"
     ]
    },
    {
     "name": "stdout",
     "output_type": "stream",
     "text": [
      "TEST ACCURACY: 0.5625\n",
      "TEST LOSS: 0.9768876433372498\n"
     ]
    },
    {
     "name": "stderr",
     "output_type": "stream",
     "text": [
      "Training:  60%|██████    | 120/200 [02:08<01:20,  1.00s/Epochs]"
     ]
    },
    {
     "name": "stdout",
     "output_type": "stream",
     "text": [
      "0.7780245126449501\n",
      "0.8026956055633249\n"
     ]
    },
    {
     "name": "stderr",
     "output_type": "stream",
     "text": [
      "Training:  60%|██████    | 121/200 [02:10<01:25,  1.08s/Epochs]"
     ]
    },
    {
     "name": "stdout",
     "output_type": "stream",
     "text": [
      "TEST ACCURACY: 0.5875000357627869\n",
      "TEST LOSS: 0.9834622740745544\n"
     ]
    },
    {
     "name": "stderr",
     "output_type": "stream",
     "text": [
      "Training:  61%|██████    | 122/200 [02:10<01:18,  1.00s/Epochs]"
     ]
    },
    {
     "name": "stdout",
     "output_type": "stream",
     "text": [
      "0.7811560827279025\n",
      "0.7853376404730567\n"
     ]
    },
    {
     "name": "stderr",
     "output_type": "stream",
     "text": [
      "Training:  62%|██████▏   | 123/200 [02:12<01:20,  1.05s/Epochs]"
     ]
    },
    {
     "name": "stdout",
     "output_type": "stream",
     "text": [
      "TEST ACCURACY: 0.574999988079071\n",
      "TEST LOSS: 0.9747196435928345\n"
     ]
    },
    {
     "name": "stderr",
     "output_type": "stream",
     "text": [
      "Training:  62%|██████▏   | 124/200 [02:12<01:13,  1.03Epochs/s]"
     ]
    },
    {
     "name": "stdout",
     "output_type": "stream",
     "text": [
      "0.768573703528111\n",
      "0.7950465211907912\n"
     ]
    },
    {
     "name": "stderr",
     "output_type": "stream",
     "text": [
      "Training:  62%|██████▎   | 125/200 [02:14<01:19,  1.06s/Epochs]"
     ]
    },
    {
     "name": "stdout",
     "output_type": "stream",
     "text": [
      "TEST ACCURACY: 0.550000011920929\n",
      "TEST LOSS: 0.9700832366943359\n"
     ]
    },
    {
     "name": "stderr",
     "output_type": "stream",
     "text": [
      "Training:  63%|██████▎   | 126/200 [02:14<01:11,  1.04Epochs/s]"
     ]
    },
    {
     "name": "stdout",
     "output_type": "stream",
     "text": [
      "0.7614103550726027\n",
      "0.7737100738567658\n"
     ]
    },
    {
     "name": "stderr",
     "output_type": "stream",
     "text": [
      "Training:  64%|██████▎   | 127/200 [02:16<01:16,  1.05s/Epochs]"
     ]
    },
    {
     "name": "stdout",
     "output_type": "stream",
     "text": [
      "TEST ACCURACY: 0.6000000238418579\n",
      "TEST LOSS: 0.9675471186637878\n"
     ]
    },
    {
     "name": "stderr",
     "output_type": "stream",
     "text": [
      "Training:  64%|██████▍   | 128/200 [02:16<01:11,  1.01Epochs/s]"
     ]
    },
    {
     "name": "stdout",
     "output_type": "stream",
     "text": [
      "0.7794764570252056\n",
      "0.7698672398966105\n"
     ]
    },
    {
     "name": "stderr",
     "output_type": "stream",
     "text": [
      "Training:  64%|██████▍   | 129/200 [02:18<01:14,  1.06s/Epochs]"
     ]
    },
    {
     "name": "stdout",
     "output_type": "stream",
     "text": [
      "TEST ACCURACY: 0.5875000357627869\n",
      "TEST LOSS: 0.9725104570388794\n"
     ]
    },
    {
     "name": "stderr",
     "output_type": "stream",
     "text": [
      "Training:  65%|██████▌   | 130/200 [02:19<01:09,  1.01Epochs/s]"
     ]
    },
    {
     "name": "stdout",
     "output_type": "stream",
     "text": [
      "0.7878027878639771\n",
      "0.7813147656475078\n"
     ]
    },
    {
     "name": "stderr",
     "output_type": "stream",
     "text": [
      "Training:  66%|██████▌   | 131/200 [02:20<01:14,  1.09s/Epochs]"
     ]
    },
    {
     "name": "stdout",
     "output_type": "stream",
     "text": [
      "TEST ACCURACY: 0.5625\n",
      "TEST LOSS: 0.9651548266410828\n"
     ]
    },
    {
     "name": "stderr",
     "output_type": "stream",
     "text": [
      "Training:  66%|██████▌   | 132/200 [02:21<01:10,  1.04s/Epochs]"
     ]
    },
    {
     "name": "stdout",
     "output_type": "stream",
     "text": [
      "0.7922629068432753\n",
      "0.7721843326521052\n"
     ]
    },
    {
     "name": "stderr",
     "output_type": "stream",
     "text": [
      "Training:  66%|██████▋   | 133/200 [02:22<01:19,  1.18s/Epochs]"
     ]
    },
    {
     "name": "stdout",
     "output_type": "stream",
     "text": [
      "TEST ACCURACY: 0.637499988079071\n",
      "TEST LOSS: 0.9380617141723633\n"
     ]
    },
    {
     "name": "stderr",
     "output_type": "stream",
     "text": [
      "Training:  67%|██████▋   | 134/200 [02:23<01:10,  1.07s/Epochs]"
     ]
    },
    {
     "name": "stdout",
     "output_type": "stream",
     "text": [
      "0.7715363276301989\n",
      "0.7461271442865071\n"
     ]
    },
    {
     "name": "stderr",
     "output_type": "stream",
     "text": [
      "Training:  68%|██████▊   | 135/200 [02:24<01:12,  1.11s/Epochs]"
     ]
    },
    {
     "name": "stdout",
     "output_type": "stream",
     "text": [
      "TEST ACCURACY: 0.612500011920929\n",
      "TEST LOSS: 0.9449259638786316\n"
     ]
    },
    {
     "name": "stderr",
     "output_type": "stream",
     "text": [
      "Training:  68%|██████▊   | 136/200 [02:25<01:06,  1.04s/Epochs]"
     ]
    },
    {
     "name": "stdout",
     "output_type": "stream",
     "text": [
      "0.7755725317714617\n",
      "0.7732581222156408\n"
     ]
    },
    {
     "name": "stderr",
     "output_type": "stream",
     "text": [
      "Training:  68%|██████▊   | 137/200 [02:26<01:09,  1.10s/Epochs]"
     ]
    },
    {
     "name": "stdout",
     "output_type": "stream",
     "text": [
      "TEST ACCURACY: 0.5625\n",
      "TEST LOSS: 0.9398318529129028\n"
     ]
    },
    {
     "name": "stderr",
     "output_type": "stream",
     "text": [
      "Training:  69%|██████▉   | 138/200 [02:27<01:02,  1.01s/Epochs]"
     ]
    },
    {
     "name": "stdout",
     "output_type": "stream",
     "text": [
      "0.7664000619811695\n",
      "0.7763030248335524\n"
     ]
    },
    {
     "name": "stderr",
     "output_type": "stream",
     "text": [
      "Training:  70%|██████▉   | 139/200 [02:28<01:06,  1.09s/Epochs]"
     ]
    },
    {
     "name": "stdout",
     "output_type": "stream",
     "text": [
      "TEST ACCURACY: 0.5875000357627869\n",
      "TEST LOSS: 0.943623960018158\n"
     ]
    },
    {
     "name": "stderr",
     "output_type": "stream",
     "text": [
      "Training:  70%|███████   | 140/200 [02:29<01:00,  1.02s/Epochs]"
     ]
    },
    {
     "name": "stdout",
     "output_type": "stream",
     "text": [
      "0.7697948503031955\n",
      "0.7769541748672971\n"
     ]
    },
    {
     "name": "stderr",
     "output_type": "stream",
     "text": [
      "Training:  70%|███████   | 141/200 [02:31<01:04,  1.09s/Epochs]"
     ]
    },
    {
     "name": "stdout",
     "output_type": "stream",
     "text": [
      "TEST ACCURACY: 0.6000000238418579\n",
      "TEST LOSS: 0.9443535804748535\n"
     ]
    },
    {
     "name": "stderr",
     "output_type": "stream",
     "text": [
      "Training:  71%|███████   | 142/200 [02:31<00:57,  1.00Epochs/s]"
     ]
    },
    {
     "name": "stdout",
     "output_type": "stream",
     "text": [
      "0.7917077569419988\n",
      "0.7705636417436468\n"
     ]
    },
    {
     "name": "stderr",
     "output_type": "stream",
     "text": [
      "Training:  72%|███████▏  | 143/200 [02:33<01:00,  1.06s/Epochs]"
     ]
    },
    {
     "name": "stdout",
     "output_type": "stream",
     "text": [
      "TEST ACCURACY: 0.550000011920929\n",
      "TEST LOSS: 0.9722674489021301\n"
     ]
    },
    {
     "name": "stderr",
     "output_type": "stream",
     "text": [
      "Training:  72%|███████▏  | 144/200 [02:33<00:54,  1.02Epochs/s]"
     ]
    },
    {
     "name": "stdout",
     "output_type": "stream",
     "text": [
      "0.7704752965977317\n",
      "0.7803060453684376\n"
     ]
    },
    {
     "name": "stderr",
     "output_type": "stream",
     "text": [
      "Training:  72%|███████▎  | 145/200 [02:35<00:57,  1.04s/Epochs]"
     ]
    },
    {
     "name": "stdout",
     "output_type": "stream",
     "text": [
      "TEST ACCURACY: 0.574999988079071\n",
      "TEST LOSS: 0.970297634601593\n"
     ]
    },
    {
     "name": "stderr",
     "output_type": "stream",
     "text": [
      "Training:  73%|███████▎  | 146/200 [02:35<00:52,  1.03Epochs/s]"
     ]
    },
    {
     "name": "stdout",
     "output_type": "stream",
     "text": [
      "0.7691394721371976\n",
      "0.7731516995258279\n"
     ]
    },
    {
     "name": "stderr",
     "output_type": "stream",
     "text": [
      "Training:  74%|███████▎  | 147/200 [02:37<00:56,  1.07s/Epochs]"
     ]
    },
    {
     "name": "stdout",
     "output_type": "stream",
     "text": [
      "TEST ACCURACY: 0.6000000238418579\n",
      "TEST LOSS: 0.9657590985298157\n"
     ]
    },
    {
     "name": "stderr",
     "output_type": "stream",
     "text": [
      "Training:  74%|███████▍  | 148/200 [02:37<00:51,  1.02Epochs/s]"
     ]
    },
    {
     "name": "stdout",
     "output_type": "stream",
     "text": [
      "0.7675533382185938\n",
      "0.7770989864156517\n"
     ]
    },
    {
     "name": "stderr",
     "output_type": "stream",
     "text": [
      "Training:  74%|███████▍  | 149/200 [02:39<00:54,  1.07s/Epochs]"
     ]
    },
    {
     "name": "stdout",
     "output_type": "stream",
     "text": [
      "TEST ACCURACY: 0.6000000238418579\n",
      "TEST LOSS: 0.9578672647476196\n"
     ]
    },
    {
     "name": "stderr",
     "output_type": "stream",
     "text": [
      "Training:  75%|███████▌  | 150/200 [02:40<00:50,  1.00s/Epochs]"
     ]
    },
    {
     "name": "stdout",
     "output_type": "stream",
     "text": [
      "0.7686270062613025\n",
      "0.768657974754344\n"
     ]
    },
    {
     "name": "stderr",
     "output_type": "stream",
     "text": [
      "Training:  76%|███████▌  | 151/200 [02:41<00:52,  1.08s/Epochs]"
     ]
    },
    {
     "name": "stdout",
     "output_type": "stream",
     "text": [
      "TEST ACCURACY: 0.574999988079071\n",
      "TEST LOSS: 0.9523885846138\n"
     ]
    },
    {
     "name": "stderr",
     "output_type": "stream",
     "text": [
      "Training:  76%|███████▌  | 152/200 [02:42<00:48,  1.02s/Epochs]"
     ]
    },
    {
     "name": "stdout",
     "output_type": "stream",
     "text": [
      "0.7493737759352391\n",
      "0.7563052819706396\n"
     ]
    },
    {
     "name": "stderr",
     "output_type": "stream",
     "text": [
      "Training:  76%|███████▋  | 153/200 [02:43<00:50,  1.08s/Epochs]"
     ]
    },
    {
     "name": "stdout",
     "output_type": "stream",
     "text": [
      "TEST ACCURACY: 0.5625\n",
      "TEST LOSS: 0.9781578183174133\n"
     ]
    },
    {
     "name": "stderr",
     "output_type": "stream",
     "text": [
      "Training:  77%|███████▋  | 154/200 [02:44<00:47,  1.03s/Epochs]"
     ]
    },
    {
     "name": "stdout",
     "output_type": "stream",
     "text": [
      "0.7552280170105171\n",
      "0.7698932498115582\n"
     ]
    },
    {
     "name": "stderr",
     "output_type": "stream",
     "text": [
      "Training:  78%|███████▊  | 155/200 [02:45<00:48,  1.09s/Epochs]"
     ]
    },
    {
     "name": "stdout",
     "output_type": "stream",
     "text": [
      "TEST ACCURACY: 0.5875000357627869\n",
      "TEST LOSS: 0.964719295501709\n"
     ]
    },
    {
     "name": "stderr",
     "output_type": "stream",
     "text": [
      "Training:  78%|███████▊  | 156/200 [02:46<00:45,  1.02s/Epochs]"
     ]
    },
    {
     "name": "stdout",
     "output_type": "stream",
     "text": [
      "0.7764206010218803\n",
      "0.7510916060688093\n"
     ]
    },
    {
     "name": "stderr",
     "output_type": "stream",
     "text": [
      "Training:  78%|███████▊  | 157/200 [02:47<00:46,  1.09s/Epochs]"
     ]
    },
    {
     "name": "stdout",
     "output_type": "stream",
     "text": [
      "TEST ACCURACY: 0.550000011920929\n",
      "TEST LOSS: 0.9696311354637146\n"
     ]
    },
    {
     "name": "stderr",
     "output_type": "stream",
     "text": [
      "Training:  79%|███████▉  | 158/200 [02:48<00:42,  1.01s/Epochs]"
     ]
    },
    {
     "name": "stdout",
     "output_type": "stream",
     "text": [
      "0.7586753449281497\n",
      "0.7502127690988895\n"
     ]
    },
    {
     "name": "stderr",
     "output_type": "stream",
     "text": [
      "Training:  80%|███████▉  | 159/200 [02:49<00:43,  1.06s/Epochs]"
     ]
    },
    {
     "name": "stdout",
     "output_type": "stream",
     "text": [
      "TEST ACCURACY: 0.5875000357627869\n",
      "TEST LOSS: 0.9600881934165955\n"
     ]
    },
    {
     "name": "stderr",
     "output_type": "stream",
     "text": [
      "Training:  80%|████████  | 160/200 [02:50<00:39,  1.02Epochs/s]"
     ]
    },
    {
     "name": "stdout",
     "output_type": "stream",
     "text": [
      "0.7822160649827973\n",
      "0.7674202217289615\n"
     ]
    },
    {
     "name": "stderr",
     "output_type": "stream",
     "text": [
      "Training:  80%|████████  | 161/200 [02:51<00:41,  1.06s/Epochs]"
     ]
    },
    {
     "name": "stdout",
     "output_type": "stream",
     "text": [
      "TEST ACCURACY: 0.574999988079071\n",
      "TEST LOSS: 0.9600302577018738\n"
     ]
    },
    {
     "name": "stderr",
     "output_type": "stream",
     "text": [
      "Training:  81%|████████  | 162/200 [02:52<00:38,  1.01s/Epochs]"
     ]
    },
    {
     "name": "stdout",
     "output_type": "stream",
     "text": [
      "0.7716886919621285\n",
      "0.7579611757785659\n"
     ]
    },
    {
     "name": "stderr",
     "output_type": "stream",
     "text": [
      "Training:  82%|████████▏ | 163/200 [02:53<00:40,  1.09s/Epochs]"
     ]
    },
    {
     "name": "stdout",
     "output_type": "stream",
     "text": [
      "TEST ACCURACY: 0.5875000357627869\n",
      "TEST LOSS: 0.9644638895988464\n"
     ]
    },
    {
     "name": "stderr",
     "output_type": "stream",
     "text": [
      "Training:  82%|████████▏ | 164/200 [02:54<00:36,  1.02s/Epochs]"
     ]
    },
    {
     "name": "stdout",
     "output_type": "stream",
     "text": [
      "0.7690581350775637\n",
      "0.7587045006804849\n"
     ]
    },
    {
     "name": "stderr",
     "output_type": "stream",
     "text": [
      "Training:  82%|████████▎ | 165/200 [02:56<00:38,  1.10s/Epochs]"
     ]
    },
    {
     "name": "stdout",
     "output_type": "stream",
     "text": [
      "TEST ACCURACY: 0.625\n",
      "TEST LOSS: 0.9550257921218872\n"
     ]
    },
    {
     "name": "stderr",
     "output_type": "stream",
     "text": [
      "Training:  83%|████████▎ | 166/200 [02:56<00:34,  1.02s/Epochs]"
     ]
    },
    {
     "name": "stdout",
     "output_type": "stream",
     "text": [
      "0.7753756358352725\n",
      "0.7577965995941797\n"
     ]
    },
    {
     "name": "stderr",
     "output_type": "stream",
     "text": [
      "Training:  84%|████████▎ | 167/200 [02:58<00:36,  1.10s/Epochs]"
     ]
    },
    {
     "name": "stdout",
     "output_type": "stream",
     "text": [
      "TEST ACCURACY: 0.6000000238418579\n",
      "TEST LOSS: 0.9607605934143066\n"
     ]
    },
    {
     "name": "stderr",
     "output_type": "stream",
     "text": [
      "Training:  84%|████████▍ | 168/200 [02:59<00:32,  1.03s/Epochs]"
     ]
    },
    {
     "name": "stdout",
     "output_type": "stream",
     "text": [
      "0.7767879726814101\n",
      "0.7685076881643808\n"
     ]
    },
    {
     "name": "stderr",
     "output_type": "stream",
     "text": [
      "Training:  84%|████████▍ | 169/200 [03:00<00:33,  1.09s/Epochs]"
     ]
    },
    {
     "name": "stdout",
     "output_type": "stream",
     "text": [
      "TEST ACCURACY: 0.574999988079071\n",
      "TEST LOSS: 0.9619950652122498\n"
     ]
    },
    {
     "name": "stderr",
     "output_type": "stream",
     "text": [
      "Training:  85%|████████▌ | 170/200 [03:01<00:30,  1.03s/Epochs]"
     ]
    },
    {
     "name": "stdout",
     "output_type": "stream",
     "text": [
      "0.7699512552026236\n",
      "0.7530645473842146\n"
     ]
    },
    {
     "name": "stderr",
     "output_type": "stream",
     "text": [
      "Training:  86%|████████▌ | 171/200 [03:02<00:31,  1.10s/Epochs]"
     ]
    },
    {
     "name": "stdout",
     "output_type": "stream",
     "text": [
      "TEST ACCURACY: 0.574999988079071\n",
      "TEST LOSS: 0.9631710052490234\n"
     ]
    },
    {
     "name": "stderr",
     "output_type": "stream",
     "text": [
      "Training:  86%|████████▌ | 172/200 [03:03<00:28,  1.01s/Epochs]"
     ]
    },
    {
     "name": "stdout",
     "output_type": "stream",
     "text": [
      "0.752634965151631\n",
      "0.7516383215000755\n"
     ]
    },
    {
     "name": "stderr",
     "output_type": "stream",
     "text": [
      "Training:  86%|████████▋ | 173/200 [03:04<00:30,  1.11s/Epochs]"
     ]
    },
    {
     "name": "stdout",
     "output_type": "stream",
     "text": [
      "TEST ACCURACY: 0.5875000357627869\n",
      "TEST LOSS: 0.9592322707176208\n"
     ]
    },
    {
     "name": "stderr",
     "output_type": "stream",
     "text": [
      "Training:  87%|████████▋ | 174/200 [03:05<00:26,  1.04s/Epochs]"
     ]
    },
    {
     "name": "stdout",
     "output_type": "stream",
     "text": [
      "0.7630912352797067\n",
      "0.7681740345717137\n"
     ]
    },
    {
     "name": "stderr",
     "output_type": "stream",
     "text": [
      "Training:  88%|████████▊ | 175/200 [03:06<00:27,  1.10s/Epochs]"
     ]
    },
    {
     "name": "stdout",
     "output_type": "stream",
     "text": [
      "TEST ACCURACY: 0.6000000238418579\n",
      "TEST LOSS: 0.9712339639663696\n"
     ]
    },
    {
     "name": "stderr",
     "output_type": "stream",
     "text": [
      "Training:  88%|████████▊ | 176/200 [03:07<00:24,  1.03s/Epochs]"
     ]
    },
    {
     "name": "stdout",
     "output_type": "stream",
     "text": [
      "0.7576101105299022\n",
      "0.7411914834355383\n"
     ]
    },
    {
     "name": "stderr",
     "output_type": "stream",
     "text": [
      "Training:  88%|████████▊ | 177/200 [03:08<00:25,  1.11s/Epochs]"
     ]
    },
    {
     "name": "stdout",
     "output_type": "stream",
     "text": [
      "TEST ACCURACY: 0.5875000357627869\n",
      "TEST LOSS: 0.9719958305358887\n"
     ]
    },
    {
     "name": "stderr",
     "output_type": "stream",
     "text": [
      "Training:  89%|████████▉ | 178/200 [03:09<00:22,  1.04s/Epochs]"
     ]
    },
    {
     "name": "stdout",
     "output_type": "stream",
     "text": [
      "0.7572280381524992\n",
      "0.7511381161840338\n"
     ]
    },
    {
     "name": "stderr",
     "output_type": "stream",
     "text": [
      "Training:  90%|████████▉ | 179/200 [03:10<00:23,  1.10s/Epochs]"
     ]
    },
    {
     "name": "stdout",
     "output_type": "stream",
     "text": [
      "TEST ACCURACY: 0.625\n",
      "TEST LOSS: 0.9712895750999451\n"
     ]
    },
    {
     "name": "stderr",
     "output_type": "stream",
     "text": [
      "Training:  90%|█████████ | 180/200 [03:11<00:20,  1.01s/Epochs]"
     ]
    },
    {
     "name": "stdout",
     "output_type": "stream",
     "text": [
      "0.7617319744709786\n",
      "0.7507377189282235\n"
     ]
    },
    {
     "name": "stderr",
     "output_type": "stream",
     "text": [
      "Training:  90%|█████████ | 181/200 [03:12<00:20,  1.08s/Epochs]"
     ]
    },
    {
     "name": "stdout",
     "output_type": "stream",
     "text": [
      "TEST ACCURACY: 0.574999988079071\n",
      "TEST LOSS: 0.9747986197471619\n"
     ]
    },
    {
     "name": "stderr",
     "output_type": "stream",
     "text": [
      "Training:  91%|█████████ | 182/200 [03:13<00:17,  1.00Epochs/s]"
     ]
    },
    {
     "name": "stdout",
     "output_type": "stream",
     "text": [
      "0.7511331508364374\n",
      "0.7516824271210013\n"
     ]
    },
    {
     "name": "stderr",
     "output_type": "stream",
     "text": [
      "Training:  92%|█████████▏| 183/200 [03:15<00:18,  1.09s/Epochs]"
     ]
    },
    {
     "name": "stdout",
     "output_type": "stream",
     "text": [
      "TEST ACCURACY: 0.5375000238418579\n",
      "TEST LOSS: 0.9970579147338867\n"
     ]
    },
    {
     "name": "stderr",
     "output_type": "stream",
     "text": [
      "Training:  92%|█████████▏| 184/200 [03:15<00:16,  1.02s/Epochs]"
     ]
    },
    {
     "name": "stdout",
     "output_type": "stream",
     "text": [
      "0.758946337528176\n",
      "0.7718348856447806\n"
     ]
    },
    {
     "name": "stderr",
     "output_type": "stream",
     "text": [
      "Training:  92%|█████████▎| 185/200 [03:17<00:16,  1.11s/Epochs]"
     ]
    },
    {
     "name": "stdout",
     "output_type": "stream",
     "text": [
      "TEST ACCURACY: 0.5625\n",
      "TEST LOSS: 0.9739704132080078\n"
     ]
    },
    {
     "name": "stderr",
     "output_type": "stream",
     "text": [
      "Training:  93%|█████████▎| 186/200 [03:18<00:14,  1.04s/Epochs]"
     ]
    },
    {
     "name": "stdout",
     "output_type": "stream",
     "text": [
      "0.739504448759919\n",
      "0.7506956190613828\n"
     ]
    },
    {
     "name": "stderr",
     "output_type": "stream",
     "text": [
      "Training:  94%|█████████▎| 187/200 [03:19<00:14,  1.10s/Epochs]"
     ]
    },
    {
     "name": "stdout",
     "output_type": "stream",
     "text": [
      "TEST ACCURACY: 0.574999988079071\n",
      "TEST LOSS: 0.9759131669998169\n"
     ]
    },
    {
     "name": "stderr",
     "output_type": "stream",
     "text": [
      "Training:  94%|█████████▍| 188/200 [03:20<00:12,  1.00s/Epochs]"
     ]
    },
    {
     "name": "stdout",
     "output_type": "stream",
     "text": [
      "0.7472509783060597\n",
      "0.7388761864144386\n"
     ]
    },
    {
     "name": "stderr",
     "output_type": "stream",
     "text": [
      "Training:  94%|█████████▍| 189/200 [03:21<00:11,  1.06s/Epochs]"
     ]
    },
    {
     "name": "stdout",
     "output_type": "stream",
     "text": [
      "TEST ACCURACY: 0.6000000238418579\n",
      "TEST LOSS: 0.9756453633308411\n"
     ]
    },
    {
     "name": "stderr",
     "output_type": "stream",
     "text": [
      "Training:  95%|█████████▌| 190/200 [03:22<00:09,  1.02Epochs/s]"
     ]
    },
    {
     "name": "stdout",
     "output_type": "stream",
     "text": [
      "0.7508239437338388\n",
      "0.7468339873482976\n"
     ]
    },
    {
     "name": "stderr",
     "output_type": "stream",
     "text": [
      "Training:  96%|█████████▌| 191/200 [03:23<00:09,  1.08s/Epochs]"
     ]
    },
    {
     "name": "stdout",
     "output_type": "stream",
     "text": [
      "TEST ACCURACY: 0.5625\n",
      "TEST LOSS: 0.989202618598938\n"
     ]
    },
    {
     "name": "stderr",
     "output_type": "stream",
     "text": [
      "Training:  96%|█████████▌| 192/200 [03:24<00:07,  1.01Epochs/s]"
     ]
    },
    {
     "name": "stdout",
     "output_type": "stream",
     "text": [
      "0.740098966290746\n",
      "0.7464676887374836\n"
     ]
    },
    {
     "name": "stderr",
     "output_type": "stream",
     "text": [
      "Training:  96%|█████████▋| 193/200 [03:25<00:07,  1.09s/Epochs]"
     ]
    },
    {
     "name": "stdout",
     "output_type": "stream",
     "text": [
      "TEST ACCURACY: 0.5625\n",
      "TEST LOSS: 0.9902147650718689\n"
     ]
    },
    {
     "name": "stderr",
     "output_type": "stream",
     "text": [
      "Training:  97%|█████████▋| 194/200 [03:26<00:06,  1.00s/Epochs]"
     ]
    },
    {
     "name": "stdout",
     "output_type": "stream",
     "text": [
      "0.7508657407892708\n",
      "0.7406741851254514\n"
     ]
    },
    {
     "name": "stderr",
     "output_type": "stream",
     "text": [
      "Training:  98%|█████████▊| 195/200 [03:27<00:05,  1.08s/Epochs]"
     ]
    },
    {
     "name": "stdout",
     "output_type": "stream",
     "text": [
      "TEST ACCURACY: 0.612500011920929\n",
      "TEST LOSS: 0.9856851696968079\n"
     ]
    },
    {
     "name": "stderr",
     "output_type": "stream",
     "text": [
      "Training:  98%|█████████▊| 196/200 [03:28<00:04,  1.02s/Epochs]"
     ]
    },
    {
     "name": "stdout",
     "output_type": "stream",
     "text": [
      "0.7323333224761519\n",
      "0.7390834933502852\n"
     ]
    },
    {
     "name": "stderr",
     "output_type": "stream",
     "text": [
      "Training:  98%|█████████▊| 197/200 [03:29<00:03,  1.09s/Epochs]"
     ]
    },
    {
     "name": "stdout",
     "output_type": "stream",
     "text": [
      "TEST ACCURACY: 0.6000000238418579\n",
      "TEST LOSS: 0.9760732054710388\n"
     ]
    },
    {
     "name": "stderr",
     "output_type": "stream",
     "text": [
      "Training:  99%|█████████▉| 198/200 [03:30<00:02,  1.03s/Epochs]"
     ]
    },
    {
     "name": "stdout",
     "output_type": "stream",
     "text": [
      "0.7611516580357116\n",
      "0.7572592957528345\n"
     ]
    },
    {
     "name": "stderr",
     "output_type": "stream",
     "text": [
      "Training: 100%|█████████▉| 199/200 [03:31<00:01,  1.11s/Epochs]"
     ]
    },
    {
     "name": "stdout",
     "output_type": "stream",
     "text": [
      "TEST ACCURACY: 0.5875000357627869\n",
      "TEST LOSS: 0.9788104295730591\n"
     ]
    },
    {
     "name": "stderr",
     "output_type": "stream",
     "text": [
      "Training: 100%|██████████| 200/200 [03:32<00:00,  1.06s/Epochs]"
     ]
    },
    {
     "name": "stdout",
     "output_type": "stream",
     "text": [
      "0.7338722075781994\n"
     ]
    },
    {
     "name": "stderr",
     "output_type": "stream",
     "text": [
      "\n"
     ]
    }
   ],
   "source": [
    "_, _, META_GNN, _ = train(train_loader, test_loader, args)"
   ]
  },
  {
   "cell_type": "code",
   "execution_count": 13,
   "metadata": {},
   "outputs": [],
   "source": [
    "save(META_GNN, args, 'META_GNN')"
   ]
  },
  {
   "cell_type": "code",
   "execution_count": 13,
   "metadata": {},
   "outputs": [
    {
     "ename": "AttributeError",
     "evalue": "'objectview' object has no attribute 'node_feature_dim'",
     "output_type": "error",
     "traceback": [
      "\u001b[0;31m---------------------------------------------------------------------------\u001b[0m",
      "\u001b[0;31mAttributeError\u001b[0m                            Traceback (most recent call last)",
      "\u001b[1;32m/home/alexhay/GNN-OBM/notebooks/meta_learner.ipynb Cell 9\u001b[0m in \u001b[0;36m<cell line: 1>\u001b[0;34m()\u001b[0m\n\u001b[0;32m----> <a href='vscode-notebook-cell://ssh-remote%2Bsoal-7.stanford.edu/home/alexhay/GNN-OBM/notebooks/meta_learner.ipynb#Y535sdnNjb2RlLXJlbW90ZQ%3D%3D?line=0'>1</a>\u001b[0m META_GNN, args \u001b[39m=\u001b[39m load(\u001b[39m'\u001b[39;49m\u001b[39mMETA_GNN\u001b[39;49m\u001b[39m'\u001b[39;49m, args[\u001b[39m'\u001b[39;49m\u001b[39mdevice\u001b[39;49m\u001b[39m'\u001b[39;49m])\n",
      "File \u001b[0;32m~/GNN-OBM/gnn_library/util.py:248\u001b[0m, in \u001b[0;36mload\u001b[0;34m(name, device)\u001b[0m\n\u001b[1;32m    246\u001b[0m args[\u001b[39m'\u001b[39m\u001b[39mdevice\u001b[39m\u001b[39m'\u001b[39m] \u001b[39m=\u001b[39m device\n\u001b[1;32m    247\u001b[0m args \u001b[39m=\u001b[39m objectview(args)\n\u001b[0;32m--> 248\u001b[0m model \u001b[39m=\u001b[39m _get_model(args)\n\u001b[1;32m    249\u001b[0m model\u001b[39m.\u001b[39mload_state_dict(torch\u001b[39m.\u001b[39mload(path, map_location\u001b[39m=\u001b[39m\u001b[39m'\u001b[39m\u001b[39mcpu\u001b[39m\u001b[39m'\u001b[39m))\n\u001b[1;32m    250\u001b[0m model\u001b[39m.\u001b[39mto(device)\n",
      "File \u001b[0;32m~/GNN-OBM/gnn_library/util.py:126\u001b[0m, in \u001b[0;36m_get_model\u001b[0;34m(args)\u001b[0m\n\u001b[1;32m    125\u001b[0m \u001b[39mdef\u001b[39;00m \u001b[39m_get_model\u001b[39m(args: \u001b[39mdict\u001b[39m):\n\u001b[0;32m--> 126\u001b[0m     model \u001b[39m=\u001b[39m NETWORKS[args\u001b[39m.\u001b[39;49mprocessor](args)\n\u001b[1;32m    127\u001b[0m     \u001b[39mreturn\u001b[39;00m model\n",
      "File \u001b[0;32m~/GNN-OBM/gnn_library/OBM_GENConv.py:27\u001b[0m, in \u001b[0;36mOBM_GENConv.__init__\u001b[0;34m(self, args)\u001b[0m\n\u001b[1;32m     15\u001b[0m \u001b[39m\"\"\"\u001b[39;00m\n\u001b[1;32m     16\u001b[0m \u001b[39mInitializing the GNN\u001b[39;00m\n\u001b[1;32m     17\u001b[0m \u001b[39mArgs:\u001b[39;00m\n\u001b[0;32m   (...)\u001b[0m\n\u001b[1;32m     23\u001b[0m \u001b[39m        the number of layers, dropout, etc.\u001b[39;00m\n\u001b[1;32m     24\u001b[0m \u001b[39m\"\"\"\u001b[39;00m\n\u001b[1;32m     25\u001b[0m \u001b[39msuper\u001b[39m(OBM_GENConv, \u001b[39mself\u001b[39m)\u001b[39m.\u001b[39m\u001b[39m__init__\u001b[39m()\n\u001b[0;32m---> 27\u001b[0m input_dim \u001b[39m=\u001b[39m args\u001b[39m.\u001b[39;49mnode_feature_dim\n\u001b[1;32m     28\u001b[0m output_dim \u001b[39m=\u001b[39m args\u001b[39m.\u001b[39moutput_dim\n\u001b[1;32m     29\u001b[0m hidden_dim \u001b[39m=\u001b[39m args\u001b[39m.\u001b[39mhidden_dim\n",
      "\u001b[0;31mAttributeError\u001b[0m: 'objectview' object has no attribute 'node_feature_dim'"
     ]
    }
   ],
   "source": [
    "META_GNN, args = load('META_GNN', args['device'])"
   ]
  },
  {
   "cell_type": "code",
   "execution_count": 8,
   "metadata": {},
   "outputs": [
    {
     "name": "stdout",
     "output_type": "stream",
     "text": [
      "-- Competitive ratios --\n",
      "GNN: 0.9549\n",
      "Greedy: 0.9549\n",
      "\n",
      "\n",
      "-- Competitive ratios --\n",
      "GNN: 0.9609\n",
      "Greedy: 0.9549\n",
      "\n",
      "\n",
      "-- Competitive ratios --\n",
      "GNN: 0.9734\n",
      "Greedy: 0.9549\n",
      "\n",
      "\n",
      "Best achievable\n",
      "-- Competitive ratios --\n",
      "GNN: 0.9811\n",
      "Greedy: 0.9549\n",
      "0.9549 0.9609 0.9734 0.9549 0.9811\n"
     ]
    }
   ],
   "source": [
    "seed = 0\n",
    "(m, n) = (10, 6)\n",
    "num_samples = 20\n",
    "num_realizations = 5\n",
    "config = er_config\n",
    "\n",
    "rng = np.random.default_rng(seed)\n",
    "# eval_instances = ig.sample_instances(m, n, num_samples, rng, **config)\n",
    "eval_instances = [\n",
    "*ig.sample_instances(6, 10, train_num, rng, **er_config),\n",
    "*ig.sample_instances(6, 10, train_num, rng, **ba_config),\n",
    "*ig.sample_instances(6, 10, train_num, rng, **geom_config),\n",
    "*ig.sample_instances(8, 8, train_num, rng, **er_config),\n",
    "*ig.sample_instances(8, 8, train_num, rng, **ba_config),\n",
    "*ig.sample_instances(8, 8, train_num, rng, **geom_config),\n",
    "*ig.sample_instances(10, 6, train_num, rng, **er_config),\n",
    "*ig.sample_instances(10, 6, train_num, rng, **ba_config),\n",
    "*ig.sample_instances(10, 6, train_num, rng, **geom_config)\n",
    "]\n",
    "\n",
    "ratios1 = evaluate_model(\n",
    "    meta_model=META_GNN,\n",
    "    meta_model_type='gnn',\n",
    "    base_models=[GNN1, GNN2, GREEDY],\n",
    "    instances=eval_instances,\n",
    "    batch_size=50,\n",
    "    rng=rng,\n",
    "    num_realizations=10\n",
    ")\n",
    "\n",
    "pp_output(ratios1, _, show_log=False)\n",
    "print()\n",
    "print()\n",
    "\n",
    "rng = np.random.default_rng(seed)\n",
    "# eval_instances = ig.sample_instances(m, n, num_samples, rng, **config)\n",
    "eval_instances = [\n",
    "*ig.sample_instances(6, 10, train_num, rng, **er_config),\n",
    "*ig.sample_instances(6, 10, train_num, rng, **ba_config),\n",
    "*ig.sample_instances(6, 10, train_num, rng, **geom_config),\n",
    "*ig.sample_instances(8, 8, train_num, rng, **er_config),\n",
    "*ig.sample_instances(8, 8, train_num, rng, **ba_config),\n",
    "*ig.sample_instances(8, 8, train_num, rng, **geom_config),\n",
    "*ig.sample_instances(10, 6, train_num, rng, **er_config),\n",
    "*ig.sample_instances(10, 6, train_num, rng, **ba_config),\n",
    "*ig.sample_instances(10, 6, train_num, rng, **geom_config)\n",
    "]\n",
    "\n",
    "ratios2 = evaluate_model(\n",
    "    meta_model=None,\n",
    "    meta_model_type=None,\n",
    "    base_models=[GNN1],\n",
    "    instances=eval_instances,\n",
    "    batch_size=50,\n",
    "    rng=rng,\n",
    "    num_realizations=10\n",
    ")\n",
    "\n",
    "pp_output(ratios2, _, show_log=False)\n",
    "\n",
    "print()\n",
    "print()\n",
    "\n",
    "rng = np.random.default_rng(seed)\n",
    "# eval_instances = ig.sample_instances(m, n, num_samples, rng, **config)\n",
    "eval_instances = [\n",
    "*ig.sample_instances(6, 10, train_num, rng, **er_config),\n",
    "*ig.sample_instances(6, 10, train_num, rng, **ba_config),\n",
    "*ig.sample_instances(6, 10, train_num, rng, **geom_config),\n",
    "*ig.sample_instances(8, 8, train_num, rng, **er_config),\n",
    "*ig.sample_instances(8, 8, train_num, rng, **ba_config),\n",
    "*ig.sample_instances(8, 8, train_num, rng, **geom_config),\n",
    "*ig.sample_instances(10, 6, train_num, rng, **er_config),\n",
    "*ig.sample_instances(10, 6, train_num, rng, **ba_config),\n",
    "*ig.sample_instances(10, 6, train_num, rng, **geom_config)\n",
    "]\n",
    "\n",
    "ratios3 = evaluate_model(\n",
    "    meta_model=None,\n",
    "    meta_model_type=None,\n",
    "    base_models=[GNN2],\n",
    "    instances=eval_instances,\n",
    "    batch_size=50,\n",
    "    rng=rng,\n",
    "    num_realizations=10\n",
    ")\n",
    "\n",
    "pp_output(ratios3, _, show_log=False)\n",
    "\n",
    "print()\n",
    "print()\n",
    "\n",
    "# Best possible results\n",
    "all_ratios = np.stack([ratios1[0], ratios2[0], ratios3[0], ratios3[1]])\n",
    "# Set ratios as expected: (gnn, greedy)\n",
    "ratios4 = (np.max(all_ratios, axis = 0), ratios3[1])\n",
    "\n",
    "print(\"Best achievable\")\n",
    "pp_output(ratios4, _, show_log=False)\n",
    "\n",
    "# For documentation purposes\n",
    "print(np.mean(ratios1[0]).round(4), np.mean(ratios2[0]).round(4), np.mean(ratios3[0]).round(4), np.mean(ratios3[1]).round(4), np.mean(ratios4[0]).round(4))"
   ]
  },
  {
   "cell_type": "markdown",
   "metadata": {},
   "source": [
    "### II. Meta NN training"
   ]
  },
  {
   "cell_type": "code",
   "execution_count": null,
   "metadata": {},
   "outputs": [],
   "source": [
    "train_num = 50; test_num = 10\n",
    "\n",
    "er_config = {\n",
    "    'graph_type': 'ER',\n",
    "    'p': 1,\n",
    "    'weighted': True\n",
    "}\n",
    "ba_config = {\n",
    "    'graph_type': 'BA',\n",
    "    'ba_param': 4,\n",
    "    'weighted': False\n",
    "}\n",
    "geom_config = {\n",
    "    'graph_type': 'GEOM',\n",
    "    'threshold': 0.2,\n",
    "    'scaling': 1 / np.sqrt(2)\n",
    "}\n",
    "\n",
    "args = {\n",
    "    'processor':         'NN',\n",
    "    'head':              'meta',\n",
    "    'num_layers':        5,\n",
    "    'input_dim':         17,\n",
    "    'batch_size':        4,\n",
    "    'hidden_dim':        16,\n",
    "    'output_dim':        3,\n",
    "    'dropout':           0,\n",
    "    'epochs':            50,\n",
    "    'opt':               'adam',\n",
    "    'opt_scheduler':     'none',\n",
    "    'opt_restart':       0,\n",
    "    'weight_decay':      5e-3,\n",
    "    'lr':                0.0001,\n",
    "    'device':            device\n",
    "}\n"
   ]
  },
  {
   "cell_type": "code",
   "execution_count": 5,
   "metadata": {},
   "outputs": [],
   "source": [
    "train_dataset = Dataset(\n",
    "    tc._instances_to_meta_gnn_samples(\n",
    "        instances=train_instances,\n",
    "        models=[GNN1, GNN2],\n",
    "        args=args1,\n",
    "        batch_size=50,\n",
    "        rng=rng\n",
    "    )\n",
    ")\n",
    "\n",
    "test_dataset = Dataset(\n",
    "    tc._instances_to_meta_gnn_samples(\n",
    "        instances=test_instances,\n",
    "        models=[GNN1, GNN2],\n",
    "        args=args1,\n",
    "        batch_size=50,\n",
    "        rng=rng\n",
    "    )\n",
    ")\n",
    "\n",
    "\n",
    "args = {\n",
    "    'processor':         'NNConv',\n",
    "    'head':              'meta',\n",
    "    'num_layers':        2,\n",
    "    'num_mlp_layers':    2,\n",
    "    'aggr':              'mean',\n",
    "    'batch_size':        32,\n",
    "    'node_feature_dim':  4,\n",
    "    'edge_feature_dim':  1,\n",
    "    'graph_feature_dim': 17,\n",
    "    'hidden_dim':        64,\n",
    "    'output_dim':        3, \n",
    "    'dropout':           0.35,\n",
    "    'epochs':            200,\n",
    "    'opt':               'adam',\n",
    "    'opt_scheduler':     'none',\n",
    "    'opt_restart':       0,\n",
    "    'weight_decay':      5e-3,\n",
    "    'lr':                0.0001,\n",
    "    'device':            device\n",
    "}"
   ]
  },
  {
   "cell_type": "code",
   "execution_count": 6,
   "metadata": {},
   "outputs": [],
   "source": [
    "train_loader = DataLoader(\n",
    "    train_data,\n",
    "    batch_size=args['batch_size'],\n",
    "    shuffle=True,\n",
    "    num_workers=4\n",
    ")\n",
    "\n",
    "test_loader = DataLoader(\n",
    "    test_data,\n",
    "    batch_size=args['batch_size'],\n",
    "    shuffle=True,\n",
    "    num_workers=4\n",
    ")"
   ]
  },
  {
   "cell_type": "code",
   "execution_count": 7,
   "metadata": {},
   "outputs": [
    {
     "data": {
      "text/plain": [
       "Data(x=[17, 4], edge_index=[2, 132], edge_attr=[132, 1], graph_features=[17, 17], m=[1], n=[1], hint=[1, 3])"
      ]
     },
     "execution_count": 7,
     "metadata": {},
     "output_type": "execute_result"
    }
   ],
   "source": [
    "train_dataset[0]"
   ]
  },
  {
   "cell_type": "code",
   "execution_count": 8,
   "metadata": {},
   "outputs": [
    {
     "name": "stdout",
     "output_type": "stream",
     "text": [
      "DataBatch(x=[544, 4], edge_index=[2, 3690], edge_attr=[3690, 1], graph_features=[544, 17], m=[32], n=[32], hint=[32, 3], batch=[544], ptr=[33])\n"
     ]
    }
   ],
   "source": [
    "for data in train_loader:\n",
    "\tprint(data)\n",
    "\tbreak"
   ]
  },
  {
   "cell_type": "code",
   "execution_count": 9,
   "metadata": {},
   "outputs": [
    {
     "name": "stderr",
     "output_type": "stream",
     "text": [
      "Training:   0%|          | 0/200 [00:00<?, ?Epochs/s]"
     ]
    },
    {
     "name": "stdout",
     "output_type": "stream",
     "text": [
      "2.0324310912026298\n"
     ]
    },
    {
     "name": "stderr",
     "output_type": "stream",
     "text": [
      "Training:   0%|          | 1/200 [00:01<03:26,  1.04s/Epochs]"
     ]
    },
    {
     "name": "stdout",
     "output_type": "stream",
     "text": [
      "TEST LOSS: 1.8225891590118408\n"
     ]
    },
    {
     "name": "stderr",
     "output_type": "stream",
     "text": [
      "Training:   1%|          | 2/200 [00:01<02:47,  1.18Epochs/s]"
     ]
    },
    {
     "name": "stdout",
     "output_type": "stream",
     "text": [
      "1.7290324325031705\n",
      "1.498233162297143\n"
     ]
    },
    {
     "name": "stderr",
     "output_type": "stream",
     "text": [
      "Training:   2%|▏         | 3/200 [00:02<03:01,  1.08Epochs/s]"
     ]
    },
    {
     "name": "stdout",
     "output_type": "stream",
     "text": [
      "TEST LOSS: 1.3471252918243408\n"
     ]
    },
    {
     "name": "stderr",
     "output_type": "stream",
     "text": [
      "Training:   2%|▏         | 4/200 [00:03<02:37,  1.24Epochs/s]"
     ]
    },
    {
     "name": "stdout",
     "output_type": "stream",
     "text": [
      "1.3506188752916124\n",
      "1.2314100371466743\n"
     ]
    },
    {
     "name": "stderr",
     "output_type": "stream",
     "text": [
      "Training:   2%|▎         | 5/200 [00:04<02:49,  1.15Epochs/s]"
     ]
    },
    {
     "name": "stdout",
     "output_type": "stream",
     "text": [
      "TEST LOSS: 1.1145613193511963\n"
     ]
    },
    {
     "name": "stderr",
     "output_type": "stream",
     "text": [
      "Training:   3%|▎         | 6/200 [00:04<02:31,  1.28Epochs/s]"
     ]
    },
    {
     "name": "stdout",
     "output_type": "stream",
     "text": [
      "1.1602217859692043\n",
      "1.1095080672370063\n"
     ]
    },
    {
     "name": "stderr",
     "output_type": "stream",
     "text": [
      "Training:   4%|▎         | 7/200 [00:06<02:47,  1.15Epochs/s]"
     ]
    },
    {
     "name": "stdout",
     "output_type": "stream",
     "text": [
      "TEST LOSS: 1.019307255744934\n"
     ]
    },
    {
     "name": "stderr",
     "output_type": "stream",
     "text": [
      "Training:   4%|▍         | 8/200 [00:06<02:30,  1.27Epochs/s]"
     ]
    },
    {
     "name": "stdout",
     "output_type": "stream",
     "text": [
      "1.0942002252075407\n",
      "1.0535222529040442\n"
     ]
    },
    {
     "name": "stderr",
     "output_type": "stream",
     "text": [
      "Training:   4%|▍         | 9/200 [00:07<02:43,  1.17Epochs/s]"
     ]
    },
    {
     "name": "stdout",
     "output_type": "stream",
     "text": [
      "TEST LOSS: 0.9756686687469482\n"
     ]
    },
    {
     "name": "stderr",
     "output_type": "stream",
     "text": [
      "Training:   5%|▌         | 10/200 [00:08<02:26,  1.29Epochs/s]"
     ]
    },
    {
     "name": "stdout",
     "output_type": "stream",
     "text": [
      "1.0584904827011956\n",
      "1.026598946650823\n"
     ]
    },
    {
     "name": "stderr",
     "output_type": "stream",
     "text": [
      "Training:   6%|▌         | 11/200 [00:09<02:38,  1.19Epochs/s]"
     ]
    },
    {
     "name": "stdout",
     "output_type": "stream",
     "text": [
      "TEST LOSS: 0.9466058611869812\n"
     ]
    },
    {
     "name": "stderr",
     "output_type": "stream",
     "text": [
      "Training:   6%|▌         | 12/200 [00:09<02:25,  1.29Epochs/s]"
     ]
    },
    {
     "name": "stdout",
     "output_type": "stream",
     "text": [
      "0.9955277151531643\n",
      "1.0101572450002034\n"
     ]
    },
    {
     "name": "stderr",
     "output_type": "stream",
     "text": [
      "Training:   6%|▋         | 13/200 [00:10<02:34,  1.21Epochs/s]"
     ]
    },
    {
     "name": "stdout",
     "output_type": "stream",
     "text": [
      "TEST LOSS: 0.9250892996788025\n"
     ]
    },
    {
     "name": "stderr",
     "output_type": "stream",
     "text": [
      "Training:   7%|▋         | 14/200 [00:11<02:22,  1.31Epochs/s]"
     ]
    },
    {
     "name": "stdout",
     "output_type": "stream",
     "text": [
      "0.9993216355641683\n",
      "0.9711983970138762\n"
     ]
    },
    {
     "name": "stderr",
     "output_type": "stream",
     "text": [
      "Training:   8%|▊         | 15/200 [00:12<02:36,  1.18Epochs/s]"
     ]
    },
    {
     "name": "stdout",
     "output_type": "stream",
     "text": [
      "TEST LOSS: 0.9052820205688477\n"
     ]
    },
    {
     "name": "stderr",
     "output_type": "stream",
     "text": [
      "Training:   8%|▊         | 16/200 [00:13<02:22,  1.29Epochs/s]"
     ]
    },
    {
     "name": "stdout",
     "output_type": "stream",
     "text": [
      "0.9834038547674815\n",
      "0.9723133348756366\n"
     ]
    },
    {
     "name": "stderr",
     "output_type": "stream",
     "text": [
      "Training:   8%|▊         | 17/200 [00:14<02:31,  1.21Epochs/s]"
     ]
    },
    {
     "name": "stdout",
     "output_type": "stream",
     "text": [
      "TEST LOSS: 0.8886111974716187\n"
     ]
    },
    {
     "name": "stderr",
     "output_type": "stream",
     "text": [
      "Training:   9%|▉         | 18/200 [00:14<02:19,  1.30Epochs/s]"
     ]
    },
    {
     "name": "stdout",
     "output_type": "stream",
     "text": [
      "0.9556571907467313\n",
      "0.9390944054391649\n"
     ]
    },
    {
     "name": "stderr",
     "output_type": "stream",
     "text": [
      "Training:  10%|▉         | 19/200 [00:15<02:31,  1.20Epochs/s]"
     ]
    },
    {
     "name": "stdout",
     "output_type": "stream",
     "text": [
      "TEST LOSS: 0.8663413524627686\n"
     ]
    },
    {
     "name": "stderr",
     "output_type": "stream",
     "text": [
      "Training:  10%|█         | 20/200 [00:16<02:20,  1.28Epochs/s]"
     ]
    },
    {
     "name": "stdout",
     "output_type": "stream",
     "text": [
      "0.947742822435167\n",
      "0.9163136540518867\n"
     ]
    },
    {
     "name": "stderr",
     "output_type": "stream",
     "text": [
      "Training:  10%|█         | 21/200 [00:17<02:36,  1.15Epochs/s]"
     ]
    },
    {
     "name": "stdout",
     "output_type": "stream",
     "text": [
      "TEST LOSS: 0.8556865453720093\n"
     ]
    },
    {
     "name": "stderr",
     "output_type": "stream",
     "text": [
      "Training:  11%|█         | 22/200 [00:17<02:21,  1.26Epochs/s]"
     ]
    },
    {
     "name": "stdout",
     "output_type": "stream",
     "text": [
      "0.9144309543901019\n",
      "0.9032339225875007\n"
     ]
    },
    {
     "name": "stderr",
     "output_type": "stream",
     "text": [
      "Training:  12%|█▏        | 23/200 [00:19<02:33,  1.15Epochs/s]"
     ]
    },
    {
     "name": "stdout",
     "output_type": "stream",
     "text": [
      "TEST LOSS: 0.83742356300354\n"
     ]
    },
    {
     "name": "stderr",
     "output_type": "stream",
     "text": [
      "Training:  12%|█▏        | 24/200 [00:19<02:19,  1.27Epochs/s]"
     ]
    },
    {
     "name": "stdout",
     "output_type": "stream",
     "text": [
      "0.9133664766947428\n",
      "0.8660993128352695\n"
     ]
    },
    {
     "name": "stderr",
     "output_type": "stream",
     "text": [
      "Training:  12%|█▎        | 25/200 [00:20<02:28,  1.18Epochs/s]"
     ]
    },
    {
     "name": "stdout",
     "output_type": "stream",
     "text": [
      "TEST LOSS: 0.8204513788223267\n"
     ]
    },
    {
     "name": "stderr",
     "output_type": "stream",
     "text": [
      "Training:  13%|█▎        | 26/200 [00:21<02:17,  1.26Epochs/s]"
     ]
    },
    {
     "name": "stdout",
     "output_type": "stream",
     "text": [
      "0.8802540753947364\n",
      "0.8751074979040357\n"
     ]
    },
    {
     "name": "stderr",
     "output_type": "stream",
     "text": [
      "Training:  14%|█▎        | 27/200 [00:22<02:26,  1.18Epochs/s]"
     ]
    },
    {
     "name": "stdout",
     "output_type": "stream",
     "text": [
      "TEST LOSS: 0.8070353269577026\n"
     ]
    },
    {
     "name": "stderr",
     "output_type": "stream",
     "text": [
      "Training:  14%|█▍        | 28/200 [00:22<02:14,  1.28Epochs/s]"
     ]
    },
    {
     "name": "stdout",
     "output_type": "stream",
     "text": [
      "0.8753310553232829\n",
      "0.855205802652571\n"
     ]
    },
    {
     "name": "stderr",
     "output_type": "stream",
     "text": [
      "Training:  14%|█▍        | 29/200 [00:23<02:24,  1.18Epochs/s]"
     ]
    },
    {
     "name": "stdout",
     "output_type": "stream",
     "text": [
      "TEST LOSS: 0.7976023554801941\n"
     ]
    },
    {
     "name": "stderr",
     "output_type": "stream",
     "text": [
      "Training:  15%|█▌        | 30/200 [00:24<02:12,  1.28Epochs/s]"
     ]
    },
    {
     "name": "stdout",
     "output_type": "stream",
     "text": [
      "0.8473253570662604\n",
      "0.859205363591512\n"
     ]
    },
    {
     "name": "stderr",
     "output_type": "stream",
     "text": [
      "Training:  16%|█▌        | 31/200 [00:25<02:25,  1.16Epochs/s]"
     ]
    },
    {
     "name": "stdout",
     "output_type": "stream",
     "text": [
      "TEST LOSS: 0.7844741344451904\n"
     ]
    },
    {
     "name": "stderr",
     "output_type": "stream",
     "text": [
      "Training:  16%|█▌        | 32/200 [00:26<02:14,  1.25Epochs/s]"
     ]
    },
    {
     "name": "stdout",
     "output_type": "stream",
     "text": [
      "0.8517610604895486\n",
      "0.8310497991243998\n"
     ]
    },
    {
     "name": "stderr",
     "output_type": "stream",
     "text": [
      "Training:  16%|█▋        | 33/200 [00:27<02:23,  1.17Epochs/s]"
     ]
    },
    {
     "name": "stdout",
     "output_type": "stream",
     "text": [
      "TEST LOSS: 0.7761249542236328\n"
     ]
    },
    {
     "name": "stderr",
     "output_type": "stream",
     "text": [
      "Training:  17%|█▋        | 34/200 [00:27<02:11,  1.27Epochs/s]"
     ]
    },
    {
     "name": "stdout",
     "output_type": "stream",
     "text": [
      "0.8269246207343207\n",
      "0.8204222793049283\n"
     ]
    },
    {
     "name": "stderr",
     "output_type": "stream",
     "text": [
      "Training:  18%|█▊        | 35/200 [00:28<02:22,  1.16Epochs/s]"
     ]
    },
    {
     "name": "stdout",
     "output_type": "stream",
     "text": [
      "TEST LOSS: 0.7678924798965454\n"
     ]
    },
    {
     "name": "stderr",
     "output_type": "stream",
     "text": [
      "Training:  18%|█▊        | 36/200 [00:29<02:09,  1.26Epochs/s]"
     ]
    },
    {
     "name": "stdout",
     "output_type": "stream",
     "text": [
      "0.809894847340054\n",
      "0.8076997523837619\n"
     ]
    },
    {
     "name": "stderr",
     "output_type": "stream",
     "text": [
      "Training:  18%|█▊        | 37/200 [00:30<02:19,  1.17Epochs/s]"
     ]
    },
    {
     "name": "stdout",
     "output_type": "stream",
     "text": [
      "TEST LOSS: 0.7523545622825623\n"
     ]
    },
    {
     "name": "stderr",
     "output_type": "stream",
     "text": [
      "Training:  19%|█▉        | 38/200 [00:31<02:07,  1.27Epochs/s]"
     ]
    },
    {
     "name": "stdout",
     "output_type": "stream",
     "text": [
      "0.8044435667991638\n",
      "0.7996815045674642\n"
     ]
    },
    {
     "name": "stderr",
     "output_type": "stream",
     "text": [
      "Training:  20%|█▉        | 39/200 [00:32<02:14,  1.20Epochs/s]"
     ]
    },
    {
     "name": "stdout",
     "output_type": "stream",
     "text": [
      "TEST LOSS: 0.7448854446411133\n"
     ]
    },
    {
     "name": "stderr",
     "output_type": "stream",
     "text": [
      "Training:  20%|██        | 40/200 [00:32<02:06,  1.27Epochs/s]"
     ]
    },
    {
     "name": "stdout",
     "output_type": "stream",
     "text": [
      "0.7952126489745246\n",
      "0.804845470852322\n"
     ]
    },
    {
     "name": "stderr",
     "output_type": "stream",
     "text": [
      "Training:  20%|██        | 41/200 [00:33<02:14,  1.18Epochs/s]"
     ]
    },
    {
     "name": "stdout",
     "output_type": "stream",
     "text": [
      "TEST LOSS: 0.7412896156311035\n"
     ]
    },
    {
     "name": "stderr",
     "output_type": "stream",
     "text": [
      "Training:  21%|██        | 42/200 [00:34<02:05,  1.26Epochs/s]"
     ]
    },
    {
     "name": "stdout",
     "output_type": "stream",
     "text": [
      "0.7870997674597634\n",
      "0.7675375390052795\n"
     ]
    },
    {
     "name": "stderr",
     "output_type": "stream",
     "text": [
      "Training:  22%|██▏       | 43/200 [00:35<02:15,  1.16Epochs/s]"
     ]
    },
    {
     "name": "stdout",
     "output_type": "stream",
     "text": [
      "TEST LOSS: 0.7335778474807739\n"
     ]
    },
    {
     "name": "stderr",
     "output_type": "stream",
     "text": [
      "Training:  22%|██▏       | 44/200 [00:36<02:05,  1.24Epochs/s]"
     ]
    },
    {
     "name": "stdout",
     "output_type": "stream",
     "text": [
      "0.7985687867800395\n",
      "0.7529801278644138\n"
     ]
    },
    {
     "name": "stderr",
     "output_type": "stream",
     "text": [
      "Training:  22%|██▎       | 45/200 [00:37<02:14,  1.15Epochs/s]"
     ]
    },
    {
     "name": "stdout",
     "output_type": "stream",
     "text": [
      "TEST LOSS: 0.7233719229698181\n"
     ]
    },
    {
     "name": "stderr",
     "output_type": "stream",
     "text": [
      "Training:  23%|██▎       | 46/200 [00:37<02:07,  1.21Epochs/s]"
     ]
    },
    {
     "name": "stdout",
     "output_type": "stream",
     "text": [
      "0.7603368679682414\n",
      "0.771518755753835\n"
     ]
    },
    {
     "name": "stderr",
     "output_type": "stream",
     "text": [
      "Training:  24%|██▎       | 47/200 [00:38<02:11,  1.16Epochs/s]"
     ]
    },
    {
     "name": "stdout",
     "output_type": "stream",
     "text": [
      "TEST LOSS: 0.71925950050354\n"
     ]
    },
    {
     "name": "stderr",
     "output_type": "stream",
     "text": [
      "Training:  24%|██▍       | 48/200 [00:39<01:59,  1.27Epochs/s]"
     ]
    },
    {
     "name": "stdout",
     "output_type": "stream",
     "text": [
      "0.7571500009960599\n",
      "0.7519844886991712\n"
     ]
    },
    {
     "name": "stderr",
     "output_type": "stream",
     "text": [
      "Training:  24%|██▍       | 49/200 [00:40<02:06,  1.19Epochs/s]"
     ]
    },
    {
     "name": "stdout",
     "output_type": "stream",
     "text": [
      "TEST LOSS: 0.712177038192749\n"
     ]
    },
    {
     "name": "stderr",
     "output_type": "stream",
     "text": [
      "Training:  25%|██▌       | 50/200 [00:41<01:57,  1.27Epochs/s]"
     ]
    },
    {
     "name": "stdout",
     "output_type": "stream",
     "text": [
      "0.7318759353955587\n",
      "0.734808325237698\n"
     ]
    },
    {
     "name": "stderr",
     "output_type": "stream",
     "text": [
      "Training:  26%|██▌       | 51/200 [00:42<02:07,  1.17Epochs/s]"
     ]
    },
    {
     "name": "stdout",
     "output_type": "stream",
     "text": [
      "TEST LOSS: 0.7091017961502075\n"
     ]
    },
    {
     "name": "stderr",
     "output_type": "stream",
     "text": [
      "Training:  26%|██▌       | 52/200 [00:42<01:56,  1.27Epochs/s]"
     ]
    },
    {
     "name": "stdout",
     "output_type": "stream",
     "text": [
      "0.759477109114329\n",
      "0.7382265620761448\n"
     ]
    },
    {
     "name": "stderr",
     "output_type": "stream",
     "text": [
      "Training:  26%|██▋       | 53/200 [00:43<02:05,  1.17Epochs/s]"
     ]
    },
    {
     "name": "stdout",
     "output_type": "stream",
     "text": [
      "TEST LOSS: 0.7006106972694397\n"
     ]
    },
    {
     "name": "stderr",
     "output_type": "stream",
     "text": [
      "Training:  27%|██▋       | 54/200 [00:44<01:53,  1.28Epochs/s]"
     ]
    },
    {
     "name": "stdout",
     "output_type": "stream",
     "text": [
      "0.7481162497732374\n",
      "0.7338999202516344\n"
     ]
    },
    {
     "name": "stderr",
     "output_type": "stream",
     "text": [
      "Training:  28%|██▊       | 55/200 [00:45<02:01,  1.20Epochs/s]"
     ]
    },
    {
     "name": "stdout",
     "output_type": "stream",
     "text": [
      "TEST LOSS: 0.7003614902496338\n"
     ]
    },
    {
     "name": "stderr",
     "output_type": "stream",
     "text": [
      "Training:  28%|██▊       | 56/200 [00:45<01:51,  1.29Epochs/s]"
     ]
    },
    {
     "name": "stdout",
     "output_type": "stream",
     "text": [
      "0.7282279268900553\n",
      "0.7219690105650161\n"
     ]
    },
    {
     "name": "stderr",
     "output_type": "stream",
     "text": [
      "Training:  28%|██▊       | 57/200 [00:46<02:01,  1.18Epochs/s]"
     ]
    },
    {
     "name": "stdout",
     "output_type": "stream",
     "text": [
      "TEST LOSS: 0.6870224475860596\n"
     ]
    },
    {
     "name": "stderr",
     "output_type": "stream",
     "text": [
      "Training:  29%|██▉       | 58/200 [00:47<01:52,  1.27Epochs/s]"
     ]
    },
    {
     "name": "stdout",
     "output_type": "stream",
     "text": [
      "0.742788995107015\n",
      "0.7402121766408285\n"
     ]
    },
    {
     "name": "stderr",
     "output_type": "stream",
     "text": [
      "Training:  30%|██▉       | 59/200 [00:48<01:57,  1.20Epochs/s]"
     ]
    },
    {
     "name": "stdout",
     "output_type": "stream",
     "text": [
      "TEST LOSS: 0.6862307190895081\n"
     ]
    },
    {
     "name": "stderr",
     "output_type": "stream",
     "text": [
      "Training:  30%|███       | 60/200 [00:49<01:47,  1.30Epochs/s]"
     ]
    },
    {
     "name": "stdout",
     "output_type": "stream",
     "text": [
      "0.7274819856219822\n",
      "0.7051325033770667\n"
     ]
    },
    {
     "name": "stderr",
     "output_type": "stream",
     "text": [
      "Training:  30%|███       | 61/200 [00:50<01:55,  1.20Epochs/s]"
     ]
    },
    {
     "name": "stdout",
     "output_type": "stream",
     "text": [
      "TEST LOSS: 0.6814552545547485\n"
     ]
    },
    {
     "name": "stderr",
     "output_type": "stream",
     "text": [
      "Training:  31%|███       | 62/200 [00:50<01:45,  1.30Epochs/s]"
     ]
    },
    {
     "name": "stdout",
     "output_type": "stream",
     "text": [
      "0.7130647146701813\n",
      "0.7167499094539218\n"
     ]
    },
    {
     "name": "stderr",
     "output_type": "stream",
     "text": [
      "Training:  32%|███▏      | 63/200 [00:51<01:52,  1.22Epochs/s]"
     ]
    },
    {
     "name": "stdout",
     "output_type": "stream",
     "text": [
      "TEST LOSS: 0.6816146969795227\n"
     ]
    },
    {
     "name": "stderr",
     "output_type": "stream",
     "text": [
      "Training:  32%|███▏      | 64/200 [00:52<01:42,  1.32Epochs/s]"
     ]
    },
    {
     "name": "stdout",
     "output_type": "stream",
     "text": [
      "0.7084832705391778\n",
      "0.7287296838230557\n"
     ]
    },
    {
     "name": "stderr",
     "output_type": "stream",
     "text": [
      "Training:  32%|███▎      | 65/200 [00:53<01:49,  1.23Epochs/s]"
     ]
    },
    {
     "name": "stdout",
     "output_type": "stream",
     "text": [
      "TEST LOSS: 0.6776452660560608\n"
     ]
    },
    {
     "name": "stderr",
     "output_type": "stream",
     "text": [
      "Training:  33%|███▎      | 66/200 [00:53<01:42,  1.31Epochs/s]"
     ]
    },
    {
     "name": "stdout",
     "output_type": "stream",
     "text": [
      "0.7090702780087789\n",
      "0.7023569361368815\n"
     ]
    },
    {
     "name": "stderr",
     "output_type": "stream",
     "text": [
      "Training:  34%|███▎      | 67/200 [00:54<01:48,  1.23Epochs/s]"
     ]
    },
    {
     "name": "stdout",
     "output_type": "stream",
     "text": [
      "TEST LOSS: 0.6756472587585449\n"
     ]
    },
    {
     "name": "stderr",
     "output_type": "stream",
     "text": [
      "Training:  34%|███▍      | 68/200 [00:55<01:38,  1.34Epochs/s]"
     ]
    },
    {
     "name": "stdout",
     "output_type": "stream",
     "text": [
      "0.7156630500157675\n",
      "0.706457053290473\n"
     ]
    },
    {
     "name": "stderr",
     "output_type": "stream",
     "text": [
      "Training:  34%|███▍      | 69/200 [00:56<01:45,  1.24Epochs/s]"
     ]
    },
    {
     "name": "stdout",
     "output_type": "stream",
     "text": [
      "TEST LOSS: 0.6724386811256409\n"
     ]
    },
    {
     "name": "stderr",
     "output_type": "stream",
     "text": [
      "Training:  35%|███▌      | 70/200 [00:56<01:36,  1.35Epochs/s]"
     ]
    },
    {
     "name": "stdout",
     "output_type": "stream",
     "text": [
      "0.7022347405221727\n",
      "0.6937286021974352\n"
     ]
    },
    {
     "name": "stderr",
     "output_type": "stream",
     "text": [
      "Training:  36%|███▌      | 71/200 [00:57<01:43,  1.24Epochs/s]"
     ]
    },
    {
     "name": "stdout",
     "output_type": "stream",
     "text": [
      "TEST LOSS: 0.6729443073272705\n"
     ]
    },
    {
     "name": "stderr",
     "output_type": "stream",
     "text": [
      "Training:  36%|███▌      | 72/200 [00:58<01:44,  1.23Epochs/s]"
     ]
    },
    {
     "name": "stdout",
     "output_type": "stream",
     "text": [
      "0.7133979447682699\n",
      "0.6875950405332777\n"
     ]
    },
    {
     "name": "stderr",
     "output_type": "stream",
     "text": [
      "Training:  36%|███▋      | 73/200 [01:00<02:06,  1.01Epochs/s]"
     ]
    },
    {
     "name": "stdout",
     "output_type": "stream",
     "text": [
      "TEST LOSS: 0.6676324009895325\n"
     ]
    },
    {
     "name": "stderr",
     "output_type": "stream",
     "text": [
      "Training:  37%|███▋      | 74/200 [01:00<01:50,  1.14Epochs/s]"
     ]
    },
    {
     "name": "stdout",
     "output_type": "stream",
     "text": [
      "0.6856798328293694\n",
      "0.6999949020809597\n"
     ]
    },
    {
     "name": "stderr",
     "output_type": "stream",
     "text": [
      "Training:  38%|███▊      | 75/200 [01:01<01:52,  1.12Epochs/s]"
     ]
    },
    {
     "name": "stdout",
     "output_type": "stream",
     "text": [
      "TEST LOSS: 0.6601076126098633\n"
     ]
    },
    {
     "name": "stderr",
     "output_type": "stream",
     "text": [
      "Training:  38%|███▊      | 76/200 [01:02<01:40,  1.24Epochs/s]"
     ]
    },
    {
     "name": "stdout",
     "output_type": "stream",
     "text": [
      "0.7021947654088339\n",
      "0.7006310939788818\n"
     ]
    },
    {
     "name": "stderr",
     "output_type": "stream",
     "text": [
      "Training:  38%|███▊      | 77/200 [01:03<01:44,  1.17Epochs/s]"
     ]
    },
    {
     "name": "stdout",
     "output_type": "stream",
     "text": [
      "TEST LOSS: 0.6609053611755371\n"
     ]
    },
    {
     "name": "stderr",
     "output_type": "stream",
     "text": [
      "Training:  39%|███▉      | 78/200 [01:03<01:35,  1.27Epochs/s]"
     ]
    },
    {
     "name": "stdout",
     "output_type": "stream",
     "text": [
      "0.693491643667221\n",
      "0.6884045028686523\n"
     ]
    },
    {
     "name": "stderr",
     "output_type": "stream",
     "text": [
      "Training:  40%|███▉      | 79/200 [01:04<01:42,  1.18Epochs/s]"
     ]
    },
    {
     "name": "stdout",
     "output_type": "stream",
     "text": [
      "TEST LOSS: 0.6556000113487244\n"
     ]
    },
    {
     "name": "stderr",
     "output_type": "stream",
     "text": [
      "Training:  40%|████      | 80/200 [01:05<01:33,  1.28Epochs/s]"
     ]
    },
    {
     "name": "stdout",
     "output_type": "stream",
     "text": [
      "0.6807883485158285\n",
      "0.6871306329303317\n"
     ]
    },
    {
     "name": "stderr",
     "output_type": "stream",
     "text": [
      "Training:  40%|████      | 81/200 [01:06<01:44,  1.14Epochs/s]"
     ]
    },
    {
     "name": "stdout",
     "output_type": "stream",
     "text": [
      "TEST LOSS: 0.6533211469650269\n"
     ]
    },
    {
     "name": "stderr",
     "output_type": "stream",
     "text": [
      "Training:  41%|████      | 82/200 [01:07<01:33,  1.26Epochs/s]"
     ]
    },
    {
     "name": "stdout",
     "output_type": "stream",
     "text": [
      "0.6859956787692176\n",
      "0.6789847003089057\n"
     ]
    },
    {
     "name": "stderr",
     "output_type": "stream",
     "text": [
      "Training:  42%|████▏     | 83/200 [01:08<01:39,  1.18Epochs/s]"
     ]
    },
    {
     "name": "stdout",
     "output_type": "stream",
     "text": [
      "TEST LOSS: 0.6492891907691956\n"
     ]
    },
    {
     "name": "stderr",
     "output_type": "stream",
     "text": [
      "Training:  42%|████▏     | 84/200 [01:09<01:38,  1.17Epochs/s]"
     ]
    },
    {
     "name": "stdout",
     "output_type": "stream",
     "text": [
      "0.6814268154568143\n",
      "0.6692608552508884\n"
     ]
    },
    {
     "name": "stderr",
     "output_type": "stream",
     "text": [
      "Training:  42%|████▎     | 85/200 [01:10<01:56,  1.01s/Epochs]"
     ]
    },
    {
     "name": "stdout",
     "output_type": "stream",
     "text": [
      "TEST LOSS: 0.6461872458457947\n"
     ]
    },
    {
     "name": "stderr",
     "output_type": "stream",
     "text": [
      "Training:  43%|████▎     | 86/200 [01:11<01:54,  1.01s/Epochs]"
     ]
    },
    {
     "name": "stdout",
     "output_type": "stream",
     "text": [
      "0.662318573627207\n",
      "0.665699794822269\n"
     ]
    },
    {
     "name": "stderr",
     "output_type": "stream",
     "text": [
      "Training:  44%|████▎     | 87/200 [01:12<01:51,  1.01Epochs/s]"
     ]
    },
    {
     "name": "stdout",
     "output_type": "stream",
     "text": [
      "TEST LOSS: 0.6445385813713074\n"
     ]
    },
    {
     "name": "stderr",
     "output_type": "stream",
     "text": [
      "Training:  44%|████▍     | 88/200 [01:12<01:39,  1.13Epochs/s]"
     ]
    },
    {
     "name": "stdout",
     "output_type": "stream",
     "text": [
      "0.6732682832082113\n",
      "0.6763112092018128\n"
     ]
    },
    {
     "name": "stderr",
     "output_type": "stream",
     "text": [
      "Training:  44%|████▍     | 89/200 [01:13<01:42,  1.09Epochs/s]"
     ]
    },
    {
     "name": "stdout",
     "output_type": "stream",
     "text": [
      "TEST LOSS: 0.6390060782432556\n"
     ]
    },
    {
     "name": "stderr",
     "output_type": "stream",
     "text": [
      "Training:  45%|████▌     | 90/200 [01:14<01:31,  1.20Epochs/s]"
     ]
    },
    {
     "name": "stdout",
     "output_type": "stream",
     "text": [
      "0.6749169651667277\n",
      "0.6684261560440063\n"
     ]
    },
    {
     "name": "stderr",
     "output_type": "stream",
     "text": [
      "Training:  46%|████▌     | 91/200 [01:15<01:35,  1.14Epochs/s]"
     ]
    },
    {
     "name": "stdout",
     "output_type": "stream",
     "text": [
      "TEST LOSS: 0.6417140960693359\n"
     ]
    },
    {
     "name": "stderr",
     "output_type": "stream",
     "text": [
      "Training:  46%|████▌     | 92/200 [01:16<01:27,  1.24Epochs/s]"
     ]
    },
    {
     "name": "stdout",
     "output_type": "stream",
     "text": [
      "0.6632039304905467\n",
      "0.6713115361001757\n"
     ]
    },
    {
     "name": "stderr",
     "output_type": "stream",
     "text": [
      "Training:  46%|████▋     | 93/200 [01:17<01:31,  1.17Epochs/s]"
     ]
    },
    {
     "name": "stdout",
     "output_type": "stream",
     "text": [
      "TEST LOSS: 0.6366816163063049\n"
     ]
    },
    {
     "name": "stderr",
     "output_type": "stream",
     "text": [
      "Training:  47%|████▋     | 94/200 [01:17<01:23,  1.28Epochs/s]"
     ]
    },
    {
     "name": "stdout",
     "output_type": "stream",
     "text": [
      "0.6638181073135799\n",
      "0.6673211472564273\n"
     ]
    },
    {
     "name": "stderr",
     "output_type": "stream",
     "text": [
      "Training:  48%|████▊     | 95/200 [01:18<01:28,  1.19Epochs/s]"
     ]
    },
    {
     "name": "stdout",
     "output_type": "stream",
     "text": [
      "TEST LOSS: 0.6353970170021057\n"
     ]
    },
    {
     "name": "stderr",
     "output_type": "stream",
     "text": [
      "Training:  48%|████▊     | 96/200 [01:19<01:20,  1.29Epochs/s]"
     ]
    },
    {
     "name": "stdout",
     "output_type": "stream",
     "text": [
      "0.6566888078053792\n",
      "0.6748935410711501\n"
     ]
    },
    {
     "name": "stderr",
     "output_type": "stream",
     "text": [
      "Training:  48%|████▊     | 97/200 [01:20<01:25,  1.21Epochs/s]"
     ]
    },
    {
     "name": "stdout",
     "output_type": "stream",
     "text": [
      "TEST LOSS: 0.6362425088882446\n"
     ]
    },
    {
     "name": "stderr",
     "output_type": "stream",
     "text": [
      "Training:  49%|████▉     | 98/200 [01:21<01:18,  1.29Epochs/s]"
     ]
    },
    {
     "name": "stdout",
     "output_type": "stream",
     "text": [
      "0.6545014564196269\n",
      "0.6337580902708901\n"
     ]
    },
    {
     "name": "stderr",
     "output_type": "stream",
     "text": [
      "Training:  50%|████▉     | 99/200 [01:21<01:24,  1.20Epochs/s]"
     ]
    },
    {
     "name": "stdout",
     "output_type": "stream",
     "text": [
      "TEST LOSS: 0.628884494304657\n"
     ]
    },
    {
     "name": "stderr",
     "output_type": "stream",
     "text": [
      "Training:  50%|█████     | 100/200 [01:22<01:22,  1.21Epochs/s]"
     ]
    },
    {
     "name": "stdout",
     "output_type": "stream",
     "text": [
      "0.6848178670141432\n",
      "0.6653657134373983\n"
     ]
    },
    {
     "name": "stderr",
     "output_type": "stream",
     "text": [
      "Training:  50%|█████     | 101/200 [01:23<01:27,  1.13Epochs/s]"
     ]
    },
    {
     "name": "stdout",
     "output_type": "stream",
     "text": [
      "TEST LOSS: 0.6262285709381104\n"
     ]
    },
    {
     "name": "stderr",
     "output_type": "stream",
     "text": [
      "Training:  51%|█████     | 102/200 [01:24<01:19,  1.23Epochs/s]"
     ]
    },
    {
     "name": "stdout",
     "output_type": "stream",
     "text": [
      "0.6679674216111501\n",
      "0.6532203229268392\n"
     ]
    },
    {
     "name": "stderr",
     "output_type": "stream",
     "text": [
      "Training:  52%|█████▏    | 103/200 [01:25<01:23,  1.16Epochs/s]"
     ]
    },
    {
     "name": "stdout",
     "output_type": "stream",
     "text": [
      "TEST LOSS: 0.6258929967880249\n"
     ]
    },
    {
     "name": "stderr",
     "output_type": "stream",
     "text": [
      "Training:  52%|█████▏    | 104/200 [01:26<01:17,  1.24Epochs/s]"
     ]
    },
    {
     "name": "stdout",
     "output_type": "stream",
     "text": [
      "0.6631103028191461\n",
      "0.663754996723599\n"
     ]
    },
    {
     "name": "stderr",
     "output_type": "stream",
     "text": [
      "Training:  52%|█████▎    | 105/200 [01:27<01:20,  1.18Epochs/s]"
     ]
    },
    {
     "name": "stdout",
     "output_type": "stream",
     "text": [
      "TEST LOSS: 0.6328237056732178\n"
     ]
    },
    {
     "name": "stderr",
     "output_type": "stream",
     "text": [
      "Training:  53%|█████▎    | 106/200 [01:27<01:13,  1.28Epochs/s]"
     ]
    },
    {
     "name": "stdout",
     "output_type": "stream",
     "text": [
      "0.6791227626138263\n",
      "0.6490578977266948\n"
     ]
    },
    {
     "name": "stderr",
     "output_type": "stream",
     "text": [
      "Training:  54%|█████▎    | 107/200 [01:28<01:17,  1.20Epochs/s]"
     ]
    },
    {
     "name": "stdout",
     "output_type": "stream",
     "text": [
      "TEST LOSS: 0.6246291995048523\n"
     ]
    },
    {
     "name": "stderr",
     "output_type": "stream",
     "text": [
      "Training:  54%|█████▍    | 108/200 [01:29<01:11,  1.29Epochs/s]"
     ]
    },
    {
     "name": "stdout",
     "output_type": "stream",
     "text": [
      "0.6580624863836501\n",
      "0.6504717143376668\n"
     ]
    },
    {
     "name": "stderr",
     "output_type": "stream",
     "text": [
      "Training:  55%|█████▍    | 109/200 [01:30<01:14,  1.22Epochs/s]"
     ]
    },
    {
     "name": "stdout",
     "output_type": "stream",
     "text": [
      "TEST LOSS: 0.6233597993850708\n"
     ]
    },
    {
     "name": "stderr",
     "output_type": "stream",
     "text": [
      "Training:  55%|█████▌    | 110/200 [01:30<01:08,  1.32Epochs/s]"
     ]
    },
    {
     "name": "stdout",
     "output_type": "stream",
     "text": [
      "0.6402278237872654\n",
      "0.654564962387085\n"
     ]
    },
    {
     "name": "stderr",
     "output_type": "stream",
     "text": [
      "Training:  56%|█████▌    | 111/200 [01:31<01:12,  1.24Epochs/s]"
     ]
    },
    {
     "name": "stdout",
     "output_type": "stream",
     "text": [
      "TEST LOSS: 0.6223291158676147\n"
     ]
    },
    {
     "name": "stderr",
     "output_type": "stream",
     "text": [
      "Training:  56%|█████▌    | 112/200 [01:32<01:06,  1.31Epochs/s]"
     ]
    },
    {
     "name": "stdout",
     "output_type": "stream",
     "text": [
      "0.6537340327766207\n",
      "0.6594615655475192\n"
     ]
    },
    {
     "name": "stderr",
     "output_type": "stream",
     "text": [
      "Training:  56%|█████▋    | 113/200 [01:33<01:10,  1.23Epochs/s]"
     ]
    },
    {
     "name": "stdout",
     "output_type": "stream",
     "text": [
      "TEST LOSS: 0.6176124811172485\n"
     ]
    },
    {
     "name": "stderr",
     "output_type": "stream",
     "text": [
      "Training:  57%|█████▋    | 114/200 [01:33<01:05,  1.31Epochs/s]"
     ]
    },
    {
     "name": "stdout",
     "output_type": "stream",
     "text": [
      "0.652912139362759\n",
      "0.6387666613194678\n"
     ]
    },
    {
     "name": "stderr",
     "output_type": "stream",
     "text": [
      "Training:  57%|█████▊    | 115/200 [01:34<01:08,  1.24Epochs/s]"
     ]
    },
    {
     "name": "stdout",
     "output_type": "stream",
     "text": [
      "TEST LOSS: 0.6164940595626831\n"
     ]
    },
    {
     "name": "stderr",
     "output_type": "stream",
     "text": [
      "Training:  58%|█████▊    | 116/200 [01:35<01:02,  1.35Epochs/s]"
     ]
    },
    {
     "name": "stdout",
     "output_type": "stream",
     "text": [
      "0.648201481964853\n",
      "0.6420680774582757\n"
     ]
    },
    {
     "name": "stderr",
     "output_type": "stream",
     "text": [
      "Training:  58%|█████▊    | 117/200 [01:36<01:06,  1.25Epochs/s]"
     ]
    },
    {
     "name": "stdout",
     "output_type": "stream",
     "text": [
      "TEST LOSS: 0.6124256253242493\n"
     ]
    },
    {
     "name": "stderr",
     "output_type": "stream",
     "text": [
      "Training:  59%|█████▉    | 118/200 [01:37<01:01,  1.34Epochs/s]"
     ]
    },
    {
     "name": "stdout",
     "output_type": "stream",
     "text": [
      "0.6478745020098157\n",
      "0.6347687890794542\n"
     ]
    },
    {
     "name": "stderr",
     "output_type": "stream",
     "text": [
      "Training:  60%|█████▉    | 119/200 [01:38<01:08,  1.18Epochs/s]"
     ]
    },
    {
     "name": "stdout",
     "output_type": "stream",
     "text": [
      "TEST LOSS: 0.6134750247001648\n"
     ]
    },
    {
     "name": "stderr",
     "output_type": "stream",
     "text": [
      "Training:  60%|██████    | 120/200 [01:38<01:02,  1.29Epochs/s]"
     ]
    },
    {
     "name": "stdout",
     "output_type": "stream",
     "text": [
      "0.6581355444590251\n",
      "0.6483061779869927\n"
     ]
    },
    {
     "name": "stderr",
     "output_type": "stream",
     "text": [
      "Training:  60%|██████    | 121/200 [01:39<01:05,  1.21Epochs/s]"
     ]
    },
    {
     "name": "stdout",
     "output_type": "stream",
     "text": [
      "TEST LOSS: 0.6122726798057556\n"
     ]
    },
    {
     "name": "stderr",
     "output_type": "stream",
     "text": [
      "Training:  61%|██████    | 122/200 [01:40<00:59,  1.31Epochs/s]"
     ]
    },
    {
     "name": "stdout",
     "output_type": "stream",
     "text": [
      "0.6381573548581865\n",
      "0.6404026219579908\n"
     ]
    },
    {
     "name": "stderr",
     "output_type": "stream",
     "text": [
      "Training:  62%|██████▏   | 123/200 [01:41<01:03,  1.20Epochs/s]"
     ]
    },
    {
     "name": "stdout",
     "output_type": "stream",
     "text": [
      "TEST LOSS: 0.6135316491127014\n"
     ]
    },
    {
     "name": "stderr",
     "output_type": "stream",
     "text": [
      "Training:  62%|██████▏   | 124/200 [01:41<00:57,  1.32Epochs/s]"
     ]
    },
    {
     "name": "stdout",
     "output_type": "stream",
     "text": [
      "0.6505916346444024\n",
      "0.6346147138542599\n"
     ]
    },
    {
     "name": "stderr",
     "output_type": "stream",
     "text": [
      "Training:  62%|██████▎   | 125/200 [01:42<01:00,  1.23Epochs/s]"
     ]
    },
    {
     "name": "stdout",
     "output_type": "stream",
     "text": [
      "TEST LOSS: 0.6100766062736511\n"
     ]
    },
    {
     "name": "stderr",
     "output_type": "stream",
     "text": [
      "Training:  63%|██████▎   | 126/200 [01:43<00:55,  1.33Epochs/s]"
     ]
    },
    {
     "name": "stdout",
     "output_type": "stream",
     "text": [
      "0.6438839874002669\n",
      "0.6340231798754798\n"
     ]
    },
    {
     "name": "stderr",
     "output_type": "stream",
     "text": [
      "Training:  64%|██████▎   | 127/200 [01:44<00:58,  1.24Epochs/s]"
     ]
    },
    {
     "name": "stdout",
     "output_type": "stream",
     "text": [
      "TEST LOSS: 0.6085872650146484\n"
     ]
    },
    {
     "name": "stderr",
     "output_type": "stream",
     "text": [
      "Training:  64%|██████▍   | 128/200 [01:44<00:53,  1.34Epochs/s]"
     ]
    },
    {
     "name": "stdout",
     "output_type": "stream",
     "text": [
      "0.6221274714999728\n",
      "0.6391110422876146\n"
     ]
    },
    {
     "name": "stderr",
     "output_type": "stream",
     "text": [
      "Training:  64%|██████▍   | 129/200 [01:45<00:57,  1.23Epochs/s]"
     ]
    },
    {
     "name": "stdout",
     "output_type": "stream",
     "text": [
      "TEST LOSS: 0.6077967286109924\n"
     ]
    },
    {
     "name": "stderr",
     "output_type": "stream",
     "text": [
      "Training:  65%|██████▌   | 130/200 [01:46<00:53,  1.30Epochs/s]"
     ]
    },
    {
     "name": "stdout",
     "output_type": "stream",
     "text": [
      "0.6313497869173685\n",
      "0.6240052917268541\n"
     ]
    },
    {
     "name": "stderr",
     "output_type": "stream",
     "text": [
      "Training:  66%|██████▌   | 131/200 [01:47<00:57,  1.20Epochs/s]"
     ]
    },
    {
     "name": "stdout",
     "output_type": "stream",
     "text": [
      "TEST LOSS: 0.605702817440033\n"
     ]
    },
    {
     "name": "stderr",
     "output_type": "stream",
     "text": [
      "Training:  66%|██████▌   | 132/200 [01:48<00:52,  1.31Epochs/s]"
     ]
    },
    {
     "name": "stdout",
     "output_type": "stream",
     "text": [
      "0.6485995512538486\n",
      "0.648171630303065\n"
     ]
    },
    {
     "name": "stderr",
     "output_type": "stream",
     "text": [
      "Training:  66%|██████▋   | 133/200 [01:49<00:54,  1.22Epochs/s]"
     ]
    },
    {
     "name": "stdout",
     "output_type": "stream",
     "text": [
      "TEST LOSS: 0.6136358976364136\n"
     ]
    },
    {
     "name": "stderr",
     "output_type": "stream",
     "text": [
      "Training:  67%|██████▋   | 134/200 [01:49<00:51,  1.29Epochs/s]"
     ]
    },
    {
     "name": "stdout",
     "output_type": "stream",
     "text": [
      "0.6253666035334269\n",
      "0.641224216885037\n"
     ]
    },
    {
     "name": "stderr",
     "output_type": "stream",
     "text": [
      "Training:  68%|██████▊   | 135/200 [01:50<00:53,  1.21Epochs/s]"
     ]
    },
    {
     "name": "stdout",
     "output_type": "stream",
     "text": [
      "TEST LOSS: 0.6087307333946228\n"
     ]
    },
    {
     "name": "stderr",
     "output_type": "stream",
     "text": [
      "Training:  68%|██████▊   | 136/200 [01:51<00:48,  1.32Epochs/s]"
     ]
    },
    {
     "name": "stdout",
     "output_type": "stream",
     "text": [
      "0.6207551021046108\n",
      "0.6303363115257687\n"
     ]
    },
    {
     "name": "stderr",
     "output_type": "stream",
     "text": [
      "Training:  68%|██████▊   | 137/200 [01:52<00:54,  1.15Epochs/s]"
     ]
    },
    {
     "name": "stdout",
     "output_type": "stream",
     "text": [
      "TEST LOSS: 0.6082952618598938\n"
     ]
    },
    {
     "name": "stderr",
     "output_type": "stream",
     "text": [
      "Training:  69%|██████▉   | 138/200 [01:53<00:48,  1.27Epochs/s]"
     ]
    },
    {
     "name": "stdout",
     "output_type": "stream",
     "text": [
      "0.6221527836057875\n",
      "0.6319249043862025\n"
     ]
    },
    {
     "name": "stderr",
     "output_type": "stream",
     "text": [
      "Training:  70%|██████▉   | 139/200 [01:54<00:51,  1.19Epochs/s]"
     ]
    },
    {
     "name": "stdout",
     "output_type": "stream",
     "text": [
      "TEST LOSS: 0.6025208234786987\n"
     ]
    },
    {
     "name": "stderr",
     "output_type": "stream",
     "text": [
      "Training:  70%|███████   | 140/200 [01:54<00:46,  1.30Epochs/s]"
     ]
    },
    {
     "name": "stdout",
     "output_type": "stream",
     "text": [
      "0.626099398665958\n",
      "0.6254641762706968\n"
     ]
    },
    {
     "name": "stderr",
     "output_type": "stream",
     "text": [
      "Training:  70%|███████   | 141/200 [01:55<00:48,  1.22Epochs/s]"
     ]
    },
    {
     "name": "stdout",
     "output_type": "stream",
     "text": [
      "TEST LOSS: 0.6056001782417297\n"
     ]
    },
    {
     "name": "stderr",
     "output_type": "stream",
     "text": [
      "Training:  71%|███████   | 142/200 [01:56<00:43,  1.32Epochs/s]"
     ]
    },
    {
     "name": "stdout",
     "output_type": "stream",
     "text": [
      "0.6427808258268568\n",
      "0.6321042813195122\n"
     ]
    },
    {
     "name": "stderr",
     "output_type": "stream",
     "text": [
      "Training:  72%|███████▏  | 143/200 [01:57<00:46,  1.23Epochs/s]"
     ]
    },
    {
     "name": "stdout",
     "output_type": "stream",
     "text": [
      "TEST LOSS: 0.6029093861579895\n"
     ]
    },
    {
     "name": "stderr",
     "output_type": "stream",
     "text": [
      "Training:  72%|███████▏  | 144/200 [01:57<00:42,  1.33Epochs/s]"
     ]
    },
    {
     "name": "stdout",
     "output_type": "stream",
     "text": [
      "0.6360125568177964\n",
      "0.6351593771494097\n"
     ]
    },
    {
     "name": "stderr",
     "output_type": "stream",
     "text": [
      "Training:  72%|███████▎  | 145/200 [01:58<00:44,  1.23Epochs/s]"
     ]
    },
    {
     "name": "stdout",
     "output_type": "stream",
     "text": [
      "TEST LOSS: 0.6023116111755371\n"
     ]
    },
    {
     "name": "stderr",
     "output_type": "stream",
     "text": [
      "Training:  73%|███████▎  | 146/200 [01:59<00:40,  1.34Epochs/s]"
     ]
    },
    {
     "name": "stdout",
     "output_type": "stream",
     "text": [
      "0.6305117294523451\n",
      "0.6158053088188171\n"
     ]
    },
    {
     "name": "stderr",
     "output_type": "stream",
     "text": [
      "Training:  74%|███████▎  | 147/200 [02:00<00:43,  1.21Epochs/s]"
     ]
    },
    {
     "name": "stdout",
     "output_type": "stream",
     "text": [
      "TEST LOSS: 0.6001987457275391\n"
     ]
    },
    {
     "name": "stderr",
     "output_type": "stream",
     "text": [
      "Training:  74%|███████▍  | 148/200 [02:00<00:40,  1.29Epochs/s]"
     ]
    },
    {
     "name": "stdout",
     "output_type": "stream",
     "text": [
      "0.6266394503911337\n",
      "0.6383874943521288\n"
     ]
    },
    {
     "name": "stderr",
     "output_type": "stream",
     "text": [
      "Training:  74%|███████▍  | 149/200 [02:01<00:42,  1.20Epochs/s]"
     ]
    },
    {
     "name": "stdout",
     "output_type": "stream",
     "text": [
      "TEST LOSS: 0.5977093577384949\n"
     ]
    },
    {
     "name": "stderr",
     "output_type": "stream",
     "text": [
      "Training:  75%|███████▌  | 150/200 [02:02<00:39,  1.26Epochs/s]"
     ]
    },
    {
     "name": "stdout",
     "output_type": "stream",
     "text": [
      "0.6232010150286886\n",
      "0.6233887079026964\n"
     ]
    },
    {
     "name": "stderr",
     "output_type": "stream",
     "text": [
      "Training:  76%|███████▌  | 151/200 [02:03<00:41,  1.18Epochs/s]"
     ]
    },
    {
     "name": "stdout",
     "output_type": "stream",
     "text": [
      "TEST LOSS: 0.5992347598075867\n"
     ]
    },
    {
     "name": "stderr",
     "output_type": "stream",
     "text": [
      "Training:  76%|███████▌  | 152/200 [02:04<00:37,  1.28Epochs/s]"
     ]
    },
    {
     "name": "stdout",
     "output_type": "stream",
     "text": [
      "0.6161688884099324\n",
      "0.6170663911766476\n"
     ]
    },
    {
     "name": "stderr",
     "output_type": "stream",
     "text": [
      "Training:  76%|███████▋  | 153/200 [02:05<00:39,  1.19Epochs/s]"
     ]
    },
    {
     "name": "stdout",
     "output_type": "stream",
     "text": [
      "TEST LOSS: 0.5986567139625549\n"
     ]
    },
    {
     "name": "stderr",
     "output_type": "stream",
     "text": [
      "Training:  77%|███████▋  | 154/200 [02:05<00:35,  1.31Epochs/s]"
     ]
    },
    {
     "name": "stdout",
     "output_type": "stream",
     "text": [
      "0.6169259519047208\n",
      "0.613437343372239\n"
     ]
    },
    {
     "name": "stderr",
     "output_type": "stream",
     "text": [
      "Training:  78%|███████▊  | 155/200 [02:06<00:36,  1.22Epochs/s]"
     ]
    },
    {
     "name": "stdout",
     "output_type": "stream",
     "text": [
      "TEST LOSS: 0.5984341502189636\n"
     ]
    },
    {
     "name": "stderr",
     "output_type": "stream",
     "text": [
      "Training:  78%|███████▊  | 156/200 [02:07<00:33,  1.33Epochs/s]"
     ]
    },
    {
     "name": "stdout",
     "output_type": "stream",
     "text": [
      "0.6099190778202481\n",
      "0.6340179885758294\n"
     ]
    },
    {
     "name": "stderr",
     "output_type": "stream",
     "text": [
      "Training:  78%|███████▊  | 157/200 [02:08<00:35,  1.23Epochs/s]"
     ]
    },
    {
     "name": "stdout",
     "output_type": "stream",
     "text": [
      "TEST LOSS: 0.5999398231506348\n"
     ]
    },
    {
     "name": "stderr",
     "output_type": "stream",
     "text": [
      "Training:  79%|███████▉  | 158/200 [02:08<00:31,  1.33Epochs/s]"
     ]
    },
    {
     "name": "stdout",
     "output_type": "stream",
     "text": [
      "0.6321524663766225\n",
      "0.623167848057217\n"
     ]
    },
    {
     "name": "stderr",
     "output_type": "stream",
     "text": [
      "Training:  80%|███████▉  | 159/200 [02:09<00:32,  1.24Epochs/s]"
     ]
    },
    {
     "name": "stdout",
     "output_type": "stream",
     "text": [
      "TEST LOSS: 0.596278965473175\n"
     ]
    },
    {
     "name": "stderr",
     "output_type": "stream",
     "text": [
      "Training:  80%|████████  | 160/200 [02:10<00:30,  1.33Epochs/s]"
     ]
    },
    {
     "name": "stdout",
     "output_type": "stream",
     "text": [
      "0.6232999033398099\n",
      "0.620239534245597\n"
     ]
    },
    {
     "name": "stderr",
     "output_type": "stream",
     "text": [
      "Training:  80%|████████  | 161/200 [02:11<00:32,  1.21Epochs/s]"
     ]
    },
    {
     "name": "stdout",
     "output_type": "stream",
     "text": [
      "TEST LOSS: 0.5944139957427979\n"
     ]
    },
    {
     "name": "stderr",
     "output_type": "stream",
     "text": [
      "Training:  81%|████████  | 162/200 [02:12<00:29,  1.31Epochs/s]"
     ]
    },
    {
     "name": "stdout",
     "output_type": "stream",
     "text": [
      "0.6173137329684364\n",
      "0.6329254931873746\n"
     ]
    },
    {
     "name": "stderr",
     "output_type": "stream",
     "text": [
      "Training:  82%|████████▏ | 163/200 [02:12<00:30,  1.23Epochs/s]"
     ]
    },
    {
     "name": "stdout",
     "output_type": "stream",
     "text": [
      "TEST LOSS: 0.5961096286773682\n"
     ]
    },
    {
     "name": "stderr",
     "output_type": "stream",
     "text": [
      "Training:  82%|████████▏ | 164/200 [02:13<00:27,  1.32Epochs/s]"
     ]
    },
    {
     "name": "stdout",
     "output_type": "stream",
     "text": [
      "0.6250413626432418\n",
      "0.6137939349810282\n"
     ]
    },
    {
     "name": "stderr",
     "output_type": "stream",
     "text": [
      "Training:  82%|████████▎ | 165/200 [02:14<00:28,  1.21Epochs/s]"
     ]
    },
    {
     "name": "stdout",
     "output_type": "stream",
     "text": [
      "TEST LOSS: 0.5925971865653992\n"
     ]
    },
    {
     "name": "stderr",
     "output_type": "stream",
     "text": [
      "Training:  83%|████████▎ | 166/200 [02:15<00:25,  1.32Epochs/s]"
     ]
    },
    {
     "name": "stdout",
     "output_type": "stream",
     "text": [
      "0.6160276259316338\n",
      "0.6226590161853366\n"
     ]
    },
    {
     "name": "stderr",
     "output_type": "stream",
     "text": [
      "Training:  84%|████████▎ | 167/200 [02:16<00:27,  1.21Epochs/s]"
     ]
    },
    {
     "name": "stdout",
     "output_type": "stream",
     "text": [
      "TEST LOSS: 0.5941264033317566\n"
     ]
    },
    {
     "name": "stderr",
     "output_type": "stream",
     "text": [
      "Training:  84%|████████▍ | 168/200 [02:16<00:24,  1.32Epochs/s]"
     ]
    },
    {
     "name": "stdout",
     "output_type": "stream",
     "text": [
      "0.6113173087437948\n",
      "0.6244943438304795\n"
     ]
    },
    {
     "name": "stderr",
     "output_type": "stream",
     "text": [
      "Training:  84%|████████▍ | 169/200 [02:17<00:25,  1.23Epochs/s]"
     ]
    },
    {
     "name": "stdout",
     "output_type": "stream",
     "text": [
      "TEST LOSS: 0.5915220379829407\n"
     ]
    },
    {
     "name": "stderr",
     "output_type": "stream",
     "text": [
      "Training:  85%|████████▌ | 170/200 [02:18<00:22,  1.32Epochs/s]"
     ]
    },
    {
     "name": "stdout",
     "output_type": "stream",
     "text": [
      "0.6261032092240122\n",
      "0.6195468657215436\n"
     ]
    },
    {
     "name": "stderr",
     "output_type": "stream",
     "text": [
      "Training:  86%|████████▌ | 171/200 [02:19<00:23,  1.22Epochs/s]"
     ]
    },
    {
     "name": "stdout",
     "output_type": "stream",
     "text": [
      "TEST LOSS: 0.5927966237068176\n"
     ]
    },
    {
     "name": "stderr",
     "output_type": "stream",
     "text": [
      "Training:  86%|████████▌ | 172/200 [02:19<00:21,  1.33Epochs/s]"
     ]
    },
    {
     "name": "stdout",
     "output_type": "stream",
     "text": [
      "0.6089662080340915\n",
      "0.6088998654401965\n"
     ]
    },
    {
     "name": "stderr",
     "output_type": "stream",
     "text": [
      "Training:  86%|████████▋ | 173/200 [02:20<00:21,  1.23Epochs/s]"
     ]
    },
    {
     "name": "stdout",
     "output_type": "stream",
     "text": [
      "TEST LOSS: 0.5900543928146362\n"
     ]
    },
    {
     "name": "stderr",
     "output_type": "stream",
     "text": [
      "Training:  87%|████████▋ | 174/200 [02:21<00:19,  1.33Epochs/s]"
     ]
    },
    {
     "name": "stdout",
     "output_type": "stream",
     "text": [
      "0.615430421564314\n",
      "0.6129415735933516\n"
     ]
    },
    {
     "name": "stderr",
     "output_type": "stream",
     "text": [
      "Training:  88%|████████▊ | 175/200 [02:22<00:20,  1.23Epochs/s]"
     ]
    },
    {
     "name": "stdout",
     "output_type": "stream",
     "text": [
      "TEST LOSS: 0.5884629487991333\n"
     ]
    },
    {
     "name": "stderr",
     "output_type": "stream",
     "text": [
      "Training:  88%|████████▊ | 176/200 [02:23<00:18,  1.32Epochs/s]"
     ]
    },
    {
     "name": "stdout",
     "output_type": "stream",
     "text": [
      "0.6293242210812039\n",
      "0.6242662726508247\n"
     ]
    },
    {
     "name": "stderr",
     "output_type": "stream",
     "text": [
      "Training:  88%|████████▊ | 177/200 [02:24<00:19,  1.21Epochs/s]"
     ]
    },
    {
     "name": "stdout",
     "output_type": "stream",
     "text": [
      "TEST LOSS: 0.5964975357055664\n"
     ]
    },
    {
     "name": "stderr",
     "output_type": "stream",
     "text": [
      "Training:  89%|████████▉ | 178/200 [02:24<00:16,  1.32Epochs/s]"
     ]
    },
    {
     "name": "stdout",
     "output_type": "stream",
     "text": [
      "0.619216824637519\n",
      "0.6054726135730744\n"
     ]
    },
    {
     "name": "stderr",
     "output_type": "stream",
     "text": [
      "Training:  90%|████████▉ | 179/200 [02:25<00:16,  1.24Epochs/s]"
     ]
    },
    {
     "name": "stdout",
     "output_type": "stream",
     "text": [
      "TEST LOSS: 0.5983104705810547\n"
     ]
    },
    {
     "name": "stderr",
     "output_type": "stream",
     "text": [
      "Training:  90%|█████████ | 180/200 [02:26<00:14,  1.34Epochs/s]"
     ]
    },
    {
     "name": "stdout",
     "output_type": "stream",
     "text": [
      "0.6044514140817854\n",
      "0.6094471731450822\n"
     ]
    },
    {
     "name": "stderr",
     "output_type": "stream",
     "text": [
      "Training:  90%|█████████ | 181/200 [02:27<00:15,  1.24Epochs/s]"
     ]
    },
    {
     "name": "stdout",
     "output_type": "stream",
     "text": [
      "TEST LOSS: 0.5857696533203125\n"
     ]
    },
    {
     "name": "stderr",
     "output_type": "stream",
     "text": [
      "Training:  91%|█████████ | 182/200 [02:27<00:13,  1.34Epochs/s]"
     ]
    },
    {
     "name": "stdout",
     "output_type": "stream",
     "text": [
      "0.6183461909823947\n",
      "0.6173183759053548\n"
     ]
    },
    {
     "name": "stderr",
     "output_type": "stream",
     "text": [
      "Training:  92%|█████████▏| 183/200 [02:28<00:13,  1.22Epochs/s]"
     ]
    },
    {
     "name": "stdout",
     "output_type": "stream",
     "text": [
      "TEST LOSS: 0.5864658355712891\n"
     ]
    },
    {
     "name": "stderr",
     "output_type": "stream",
     "text": [
      "Training:  92%|█████████▏| 184/200 [02:29<00:12,  1.32Epochs/s]"
     ]
    },
    {
     "name": "stdout",
     "output_type": "stream",
     "text": [
      "0.6138527287377251\n",
      "0.6131014760335286\n"
     ]
    },
    {
     "name": "stderr",
     "output_type": "stream",
     "text": [
      "Training:  92%|█████████▎| 185/200 [02:30<00:12,  1.23Epochs/s]"
     ]
    },
    {
     "name": "stdout",
     "output_type": "stream",
     "text": [
      "TEST LOSS: 0.5856934785842896\n"
     ]
    },
    {
     "name": "stderr",
     "output_type": "stream",
     "text": [
      "Training:  93%|█████████▎| 186/200 [02:30<00:10,  1.33Epochs/s]"
     ]
    },
    {
     "name": "stdout",
     "output_type": "stream",
     "text": [
      "0.603447497288386\n",
      "0.6243797169791327\n"
     ]
    },
    {
     "name": "stderr",
     "output_type": "stream",
     "text": [
      "Training:  94%|█████████▎| 187/200 [02:31<00:10,  1.24Epochs/s]"
     ]
    },
    {
     "name": "stdout",
     "output_type": "stream",
     "text": [
      "TEST LOSS: 0.5871210098266602\n"
     ]
    },
    {
     "name": "stderr",
     "output_type": "stream",
     "text": [
      "Training:  94%|█████████▍| 188/200 [02:32<00:08,  1.35Epochs/s]"
     ]
    },
    {
     "name": "stdout",
     "output_type": "stream",
     "text": [
      "0.6168956605593363\n",
      "0.6015218410227033\n"
     ]
    },
    {
     "name": "stderr",
     "output_type": "stream",
     "text": [
      "Training:  94%|█████████▍| 189/200 [02:33<00:08,  1.26Epochs/s]"
     ]
    },
    {
     "name": "stdout",
     "output_type": "stream",
     "text": [
      "TEST LOSS: 0.5841017961502075\n"
     ]
    },
    {
     "name": "stderr",
     "output_type": "stream",
     "text": [
      "Training:  95%|█████████▌| 190/200 [02:33<00:07,  1.35Epochs/s]"
     ]
    },
    {
     "name": "stdout",
     "output_type": "stream",
     "text": [
      "0.6023350895775689\n",
      "0.6107942191097472\n"
     ]
    },
    {
     "name": "stderr",
     "output_type": "stream",
     "text": [
      "Training:  96%|█████████▌| 191/200 [02:34<00:07,  1.25Epochs/s]"
     ]
    },
    {
     "name": "stdout",
     "output_type": "stream",
     "text": [
      "TEST LOSS: 0.5857658386230469\n"
     ]
    },
    {
     "name": "stderr",
     "output_type": "stream",
     "text": [
      "Training:  96%|█████████▌| 192/200 [02:35<00:06,  1.33Epochs/s]"
     ]
    },
    {
     "name": "stdout",
     "output_type": "stream",
     "text": [
      "0.583861899640825\n",
      "0.6059418106079102\n"
     ]
    },
    {
     "name": "stderr",
     "output_type": "stream",
     "text": [
      "Training:  96%|█████████▋| 193/200 [02:36<00:05,  1.24Epochs/s]"
     ]
    },
    {
     "name": "stdout",
     "output_type": "stream",
     "text": [
      "TEST LOSS: 0.5877516865730286\n"
     ]
    },
    {
     "name": "stderr",
     "output_type": "stream",
     "text": [
      "Training:  97%|█████████▋| 194/200 [02:37<00:04,  1.34Epochs/s]"
     ]
    },
    {
     "name": "stdout",
     "output_type": "stream",
     "text": [
      "0.6149334323406219\n",
      "0.5930700680944655\n"
     ]
    },
    {
     "name": "stderr",
     "output_type": "stream",
     "text": [
      "Training:  98%|█████████▊| 195/200 [02:38<00:04,  1.25Epochs/s]"
     ]
    },
    {
     "name": "stdout",
     "output_type": "stream",
     "text": [
      "TEST LOSS: 0.5861991047859192\n"
     ]
    },
    {
     "name": "stderr",
     "output_type": "stream",
     "text": [
      "Training:  98%|█████████▊| 196/200 [02:38<00:03,  1.32Epochs/s]"
     ]
    },
    {
     "name": "stdout",
     "output_type": "stream",
     "text": [
      "0.6177178711361355\n",
      "0.6063826428519354\n"
     ]
    },
    {
     "name": "stderr",
     "output_type": "stream",
     "text": [
      "Training:  98%|█████████▊| 197/200 [02:39<00:02,  1.22Epochs/s]"
     ]
    },
    {
     "name": "stdout",
     "output_type": "stream",
     "text": [
      "TEST LOSS: 0.5838086605072021\n"
     ]
    },
    {
     "name": "stderr",
     "output_type": "stream",
     "text": [
      "Training:  99%|█████████▉| 198/200 [02:40<00:01,  1.27Epochs/s]"
     ]
    },
    {
     "name": "stdout",
     "output_type": "stream",
     "text": [
      "0.6056934669282701\n",
      "0.6023990825812022\n"
     ]
    },
    {
     "name": "stderr",
     "output_type": "stream",
     "text": [
      "Training: 100%|█████████▉| 199/200 [02:41<00:00,  1.17Epochs/s]"
     ]
    },
    {
     "name": "stdout",
     "output_type": "stream",
     "text": [
      "TEST LOSS: 0.586129903793335\n"
     ]
    },
    {
     "name": "stderr",
     "output_type": "stream",
     "text": [
      "Training: 100%|██████████| 200/200 [02:41<00:00,  1.23Epochs/s]"
     ]
    },
    {
     "name": "stdout",
     "output_type": "stream",
     "text": [
      "0.5894093687004514\n"
     ]
    },
    {
     "name": "stderr",
     "output_type": "stream",
     "text": [
      "\n"
     ]
    }
   ],
   "source": [
    "_, _, META_NN, _ = train(train_loader, test_loader, args)"
   ]
  },
  {
   "cell_type": "code",
   "execution_count": 11,
   "metadata": {},
   "outputs": [
    {
     "ename": "NameError",
     "evalue": "name 'META_NN' is not defined",
     "output_type": "error",
     "traceback": [
      "\u001b[0;31m---------------------------------------------------------------------------\u001b[0m",
      "\u001b[0;31mNameError\u001b[0m                                 Traceback (most recent call last)",
      "\u001b[1;32m/home/alexhay/GNN-OBM/notebooks/meta_learner.ipynb Cell 18\u001b[0m in \u001b[0;36m<cell line: 1>\u001b[0;34m()\u001b[0m\n\u001b[0;32m----> <a href='vscode-notebook-cell://ssh-remote%2Bsoal-7.stanford.edu/home/alexhay/GNN-OBM/notebooks/meta_learner.ipynb#X21sdnNjb2RlLXJlbW90ZQ%3D%3D?line=0'>1</a>\u001b[0m save(META_NN, args, \u001b[39m'\u001b[39m\u001b[39mMETA_NN\u001b[39m\u001b[39m'\u001b[39m)\n",
      "\u001b[0;31mNameError\u001b[0m: name 'META_NN' is not defined"
     ]
    }
   ],
   "source": [
    "save(META_NN, args, 'META_NN')"
   ]
  },
  {
   "cell_type": "code",
   "execution_count": null,
   "metadata": {},
   "outputs": [],
   "source": [
    "META_NN, args = load('META_NN')"
   ]
  },
  {
   "cell_type": "code",
   "execution_count": 28,
   "metadata": {},
   "outputs": [
    {
     "name": "stdout",
     "output_type": "stream",
     "text": [
      "-- Competitive ratios --\n",
      "GNN: 0.9584\n",
      "Greedy: 0.7673\n",
      "\n",
      "\n",
      "-- Competitive ratios --\n",
      "GNN: 0.9584\n",
      "Greedy: 0.7673\n",
      "\n",
      "\n",
      "-- Competitive ratios --\n",
      "GNN: 0.8657\n",
      "Greedy: 0.7673\n",
      "\n",
      "Best achievable\n",
      "-- Competitive ratios --\n",
      "GNN: 0.9584\n",
      "Greedy: 0.7673\n"
     ]
    }
   ],
   "source": [
    "import evaluate as ev\n",
    "seed = 0\n",
    "(m, n) = (24, 16)\n",
    "config = er_config\n",
    "\n",
    "\n",
    "rng = np.random.default_rng(seed)\n",
    "eval_instances = ig.sample_instances(m, n, 100, rng, **config)\n",
    "\n",
    "# eval_instances = [\n",
    "#     # *ig.sample_instances(6, 10, test_num, rng, **er_config),\n",
    "#     # *ig.sample_instances(6, 10, test_num, rng, **ba_config),\n",
    "#     # *ig.sample_instances(6, 10, test_num, rng, **geom_config),\n",
    "#     # *ig.sample_instances(8, 8, test_num, rng, **er_config),\n",
    "#     # *ig.sample_instances(8, 8, test_num, rng, **ba_config),\n",
    "#     # *ig.sample_instances(8, 8, test_num, rng, **geom_config),\n",
    "#     *ig.sample_instances(10, 6, test_num, rng, **er_config),\n",
    "#     *ig.sample_instances(10, 6, test_num, rng, **ba_config),\n",
    "#     *ig.sample_instances(10, 6, test_num, rng, **geom_config)\n",
    "# ]\n",
    "\n",
    "ratios1 = evaluate_model(\n",
    "    meta_model=META_NN,\n",
    "    meta_model_type='nn',\n",
    "    base_models=[GNN1, GNN2],\n",
    "    instances=eval_instances,\n",
    "    batch_size=50,\n",
    "    rng=rng,\n",
    "    num_realizations=10\n",
    ")\n",
    "\n",
    "pp_output(ratios1, _, show_log=False)\n",
    "print()\n",
    "print()\n",
    "\n",
    "rng = np.random.default_rng(seed)\n",
    "eval_instances = ig.sample_instances(m, n, 100, rng, **config)\n",
    "\n",
    "ratios2 = evaluate_model(\n",
    "    meta_model=None,\n",
    "    meta_model_type=None,\n",
    "    base_models=[GNN1],\n",
    "    instances=eval_instances,\n",
    "    batch_size=50,\n",
    "    rng=rng,\n",
    "    num_realizations=10\n",
    ")\n",
    "\n",
    "pp_output(ratios2, _, show_log=False)\n",
    "\n",
    "print()\n",
    "print()\n",
    "\n",
    "rng = np.random.default_rng(seed)\n",
    "eval_instances = ig.sample_instances(m, n, 100, rng, **config)\n",
    "\n",
    "ratios3 = evaluate_model(\n",
    "    classify_model=None,\n",
    "    eval_models=[GNN2],\n",
    "    device=device,\n",
    "    instances=eval_instances,\n",
    "    batch_size=50,\n",
    "    rng=rng,\n",
    "    num_realizations=10\n",
    ")\n",
    "\n",
    "pp_output(ratios3, _, show_log=False)\n",
    "\n",
    "print()\n",
    "\n",
    "# Best possible results\n",
    "all_ratios = np.stack([ratios1[0], ratios2[0], ratios3[0], ratios3[1]])\n",
    "# Set ratios as expected: (gnn, greedy)\n",
    "ratios4 = (np.max(all_ratios, axis = 0), ratios3[1])\n",
    "\n",
    "print(\"Best achievable\")\n",
    "pp_output(ratios4, _, show_log=False)"
   ]
  },
  {
   "cell_type": "code",
   "execution_count": 17,
   "metadata": {},
   "outputs": [
    {
     "data": {
      "text/plain": [
       "array([227, 124,  99])"
      ]
     },
     "execution_count": 17,
     "metadata": {},
     "output_type": "execute_result"
    }
   ],
   "source": [
    "# Evaluating how many times each model is best in the training data\n",
    "# 0: GNN1, 1: GNN2, 2: greedy\n",
    "all_results = np.stack([ratios2[0], ratios3[0], ratios3[1]])\n",
    "best_count = np.bincount(np.argmax(all_results, axis = 0))\n",
    "best_count"
   ]
  },
  {
   "cell_type": "code",
   "execution_count": 28,
   "metadata": {},
   "outputs": [
    {
     "name": "stdout",
     "output_type": "stream",
     "text": [
      "(3, 4500, 10)\n",
      "(3, 10)\n",
      "(450,)\n",
      "(450, 10)\n"
     ]
    },
    {
     "name": "stderr",
     "output_type": "stream",
     "text": [
      "/tmp/ipykernel_544325/821704249.py:47: DeprecationWarning: elementwise comparison failed; this will raise an error in the future.\n",
      "  where_equal = model_assignments == best_choices\n"
     ]
    },
    {
     "ename": "AttributeError",
     "evalue": "'bool' object has no attribute 'shape'",
     "output_type": "error",
     "traceback": [
      "\u001b[0;31m---------------------------------------------------------------------------\u001b[0m",
      "\u001b[0;31mAttributeError\u001b[0m                            Traceback (most recent call last)",
      "\u001b[1;32m/home/alexhay/GNN-OBM/notebooks/meta_learner.ipynb Cell 22\u001b[0m in \u001b[0;36m<cell line: 48>\u001b[0;34m()\u001b[0m\n\u001b[1;32m     <a href='vscode-notebook-cell://ssh-remote%2Bsoal-7.stanford.edu/home/alexhay/GNN-OBM/notebooks/meta_learner.ipynb#Y554sdnNjb2RlLXJlbW90ZQ%3D%3D?line=44'>45</a>\u001b[0m \u001b[39mprint\u001b[39m(ratios\u001b[39m.\u001b[39mshape)\n\u001b[1;32m     <a href='vscode-notebook-cell://ssh-remote%2Bsoal-7.stanford.edu/home/alexhay/GNN-OBM/notebooks/meta_learner.ipynb#Y554sdnNjb2RlLXJlbW90ZQ%3D%3D?line=46'>47</a>\u001b[0m where_equal \u001b[39m=\u001b[39m model_assignments \u001b[39m==\u001b[39m best_choices\n\u001b[0;32m---> <a href='vscode-notebook-cell://ssh-remote%2Bsoal-7.stanford.edu/home/alexhay/GNN-OBM/notebooks/meta_learner.ipynb#Y554sdnNjb2RlLXJlbW90ZQ%3D%3D?line=47'>48</a>\u001b[0m \u001b[39mprint\u001b[39m(\u001b[39mf\u001b[39m\u001b[39m\"\u001b[39m\u001b[39mTotal number of correct choices: \u001b[39m\u001b[39m{\u001b[39;00mnp\u001b[39m.\u001b[39msum(where_equal)\u001b[39m}\u001b[39;00m\u001b[39m / \u001b[39m\u001b[39m{\u001b[39;00mwhere_equal\u001b[39m.\u001b[39mshape[\u001b[39m0\u001b[39m]\u001b[39m}\u001b[39;00m\u001b[39m\"\u001b[39m)\n\u001b[1;32m     <a href='vscode-notebook-cell://ssh-remote%2Bsoal-7.stanford.edu/home/alexhay/GNN-OBM/notebooks/meta_learner.ipynb#Y554sdnNjb2RlLXJlbW90ZQ%3D%3D?line=48'>49</a>\u001b[0m \u001b[39mprint\u001b[39m()\n\u001b[1;32m     <a href='vscode-notebook-cell://ssh-remote%2Bsoal-7.stanford.edu/home/alexhay/GNN-OBM/notebooks/meta_learner.ipynb#Y554sdnNjb2RlLXJlbW90ZQ%3D%3D?line=50'>51</a>\u001b[0m \u001b[39m# # Detailed analysis\u001b[39;00m\n",
      "\u001b[0;31mAttributeError\u001b[0m: 'bool' object has no attribute 'shape'"
     ]
    }
   ],
   "source": [
    "# Analyzing what the model predicts\n",
    "rng = np.random.default_rng(seed)\n",
    "\n",
    "eval_instances = [\n",
    "*ig.sample_instances(6, 10, train_num, rng, **er_config),\n",
    "*ig.sample_instances(6, 10, train_num, rng, **ba_config),\n",
    "*ig.sample_instances(6, 10, train_num, rng, **geom_config),\n",
    "*ig.sample_instances(8, 8, train_num, rng, **er_config),\n",
    "*ig.sample_instances(8, 8, train_num, rng, **ba_config),\n",
    "*ig.sample_instances(8, 8, train_num, rng, **geom_config),\n",
    "*ig.sample_instances(10, 6, train_num, rng, **er_config),\n",
    "*ig.sample_instances(10, 6, train_num, rng, **ba_config),\n",
    "*ig.sample_instances(10, 6, train_num, rng, **geom_config)\n",
    "]\n",
    "\n",
    "\n",
    "# Recovering the cache to be able to evaluate the meta model's choices\n",
    "_, caches = tc._instances_to_train_samples(\n",
    "        instances=eval_instances,\n",
    "        head=args['head'],\n",
    "        meta_model_type='gnn',\n",
    "        base_models=[GNN1, GNN2, GREEDY],\n",
    "        debug = True\n",
    "    )\n",
    "\n",
    "\n",
    "ratios, greedy, model_assignments, ideal_assignments = evaluate_model(\n",
    "    meta_model=META_GNN,\n",
    "    meta_model_type='gnn',\n",
    "    base_models=[GNN1, GNN2, GREEDY],\n",
    "    instances=eval_instances,\n",
    "    batch_size=50,\n",
    "    rng=rng,\n",
    "    num_realizations=10,\n",
    "    caches=caches,\n",
    "    debug=True\n",
    ")\n",
    "print(model_assignments.shape)\n",
    "model_assignments = np.argmax(model_assignments, axis=1)\n",
    "\n",
    "all_results = np.stack([ratios2[0], ratios3[0]])\n",
    "best_choices = np.argmax(all_results, axis = 0)\n",
    "print(model_assignments.shape)\n",
    "print(best_choices.shape)\n",
    "print(ratios.shape)\n",
    "\n",
    "where_equal = model_assignments == best_choices\n",
    "print(f\"Total number of correct choices: {np.sum(where_equal)} / {where_equal.shape[0]}\")\n",
    "print()\n",
    "\n",
    "# # Detailed analysis\n",
    "for i in range(3):\n",
    "\twhere_equal = (model_assignments == best_choices)[best_choices == i]\n",
    "\tprint(f\"Number of correct choices for {i}: {np.sum(where_equal)} / {where_equal.shape[0]}\")"
   ]
  },
  {
   "cell_type": "code",
   "execution_count": null,
   "metadata": {},
   "outputs": [],
   "source": [
    "(m, n) = (11, 16)\n",
    "rng = np.random.default_rng(10)\n",
    "eval_instances = ig.sample_instances(m, n, 10, rng, **er_config)\n",
    "\n",
    "X = tc._instances_to_nn_eval(eval_instances).to('cuda:2')\n",
    "print(META_NN((X, None)))\n"
   ]
  },
  {
   "cell_type": "code",
   "execution_count": null,
   "metadata": {},
   "outputs": [],
   "source": [
    "rng = np.random.default_rng(10)\n",
    "eval_instances, eval_coin_flips = ig.sample_instances(32, 32, 10, rng, **ba_config)\n",
    "\n",
    "ratios1, log = evaluate_model(\n",
    "    model=GNN1,\n",
    "    args=args,\n",
    "    instances=eval_instances,\n",
    "    coin_flips=eval_coin_flips,\n",
    "    batch_size=50,\n",
    "    rng=rng\n",
    ")"
   ]
  },
  {
   "cell_type": "code",
   "execution_count": null,
   "metadata": {},
   "outputs": [],
   "source": [
    "rng = np.random.default_rng(10)\n",
    "eval_instances, eval_coin_flips = ig.sample_instances(32, 32, 10, rng, **ba_config)\n",
    "\n",
    "ratios2, log = evaluate_model(\n",
    "    model=GNN2,\n",
    "    args=args,\n",
    "    instances=eval_instances,\n",
    "    coin_flips=eval_coin_flips,\n",
    "    batch_size=50,\n",
    "    rng=rng\n",
    ")"
   ]
  },
  {
   "cell_type": "code",
   "execution_count": 12,
   "metadata": {},
   "outputs": [
    {
     "name": "stdout",
     "output_type": "stream",
     "text": [
      "[0.25, 0.5, 0.75, 1.0, 1.25, 1.5, 1.75, 2.0, 2.25, 2.5, 2.75, 3.0, 3.25, 3.5, 3.75]\n",
      "{'graph_type': 'ER', 'p': 0.75, 'weighted': True} (4, 16)\n",
      "{'graph_type': 'ER', 'p': 0.75, 'weighted': True} (8, 16)\n",
      "{'graph_type': 'ER', 'p': 0.75, 'weighted': True} (12, 16)\n",
      "{'graph_type': 'ER', 'p': 0.75, 'weighted': True} (16, 16)\n",
      "{'graph_type': 'ER', 'p': 0.75, 'weighted': True} (20, 16)\n",
      "{'graph_type': 'ER', 'p': 0.75, 'weighted': True} (24, 16)\n",
      "{'graph_type': 'ER', 'p': 0.75, 'weighted': True} (28, 16)\n",
      "{'graph_type': 'ER', 'p': 0.75, 'weighted': True} (32, 16)\n",
      "{'graph_type': 'ER', 'p': 0.75, 'weighted': True} (36, 16)\n",
      "{'graph_type': 'ER', 'p': 0.75, 'weighted': True} (40, 16)\n",
      "{'graph_type': 'ER', 'p': 0.75, 'weighted': True} (44, 16)\n",
      "{'graph_type': 'ER', 'p': 0.75, 'weighted': True} (48, 16)\n",
      "{'graph_type': 'ER', 'p': 0.75, 'weighted': True} (52, 16)\n",
      "{'graph_type': 'ER', 'p': 0.75, 'weighted': True} (56, 16)\n",
      "{'graph_type': 'ER', 'p': 0.75, 'weighted': True} (60, 16)\n",
      "{'graph_type': 'BA', 'ba_param': 4, 'weighted': True} (4, 16)\n",
      "{'graph_type': 'BA', 'ba_param': 4, 'weighted': True} (8, 16)\n",
      "{'graph_type': 'BA', 'ba_param': 4, 'weighted': True} (12, 16)\n",
      "{'graph_type': 'BA', 'ba_param': 4, 'weighted': True} (16, 16)\n",
      "{'graph_type': 'BA', 'ba_param': 4, 'weighted': True} (20, 16)\n",
      "{'graph_type': 'BA', 'ba_param': 4, 'weighted': True} (24, 16)\n",
      "{'graph_type': 'BA', 'ba_param': 4, 'weighted': True} (28, 16)\n",
      "{'graph_type': 'BA', 'ba_param': 4, 'weighted': True} (32, 16)\n",
      "{'graph_type': 'BA', 'ba_param': 4, 'weighted': True} (36, 16)\n",
      "{'graph_type': 'BA', 'ba_param': 4, 'weighted': True} (40, 16)\n",
      "{'graph_type': 'BA', 'ba_param': 4, 'weighted': True} (44, 16)\n",
      "{'graph_type': 'BA', 'ba_param': 4, 'weighted': True} (48, 16)\n",
      "{'graph_type': 'BA', 'ba_param': 4, 'weighted': True} (52, 16)\n",
      "{'graph_type': 'BA', 'ba_param': 4, 'weighted': True} (56, 16)\n",
      "{'graph_type': 'BA', 'ba_param': 4, 'weighted': True} (60, 16)\n",
      "{'graph_type': 'GEOM', 'threshold': 0.2, 'scaling': 0.7071067811865475} (4, 16)\n",
      "{'graph_type': 'GEOM', 'threshold': 0.2, 'scaling': 0.7071067811865475} (8, 16)\n",
      "{'graph_type': 'GEOM', 'threshold': 0.2, 'scaling': 0.7071067811865475} (12, 16)\n",
      "{'graph_type': 'GEOM', 'threshold': 0.2, 'scaling': 0.7071067811865475} (16, 16)\n",
      "{'graph_type': 'GEOM', 'threshold': 0.2, 'scaling': 0.7071067811865475} (20, 16)\n",
      "{'graph_type': 'GEOM', 'threshold': 0.2, 'scaling': 0.7071067811865475} (24, 16)\n",
      "{'graph_type': 'GEOM', 'threshold': 0.2, 'scaling': 0.7071067811865475} (28, 16)\n",
      "{'graph_type': 'GEOM', 'threshold': 0.2, 'scaling': 0.7071067811865475} (32, 16)\n",
      "{'graph_type': 'GEOM', 'threshold': 0.2, 'scaling': 0.7071067811865475} (36, 16)\n",
      "{'graph_type': 'GEOM', 'threshold': 0.2, 'scaling': 0.7071067811865475} (40, 16)\n",
      "{'graph_type': 'GEOM', 'threshold': 0.2, 'scaling': 0.7071067811865475} (44, 16)\n",
      "{'graph_type': 'GEOM', 'threshold': 0.2, 'scaling': 0.7071067811865475} (48, 16)\n",
      "{'graph_type': 'GEOM', 'threshold': 0.2, 'scaling': 0.7071067811865475} (52, 16)\n",
      "{'graph_type': 'GEOM', 'threshold': 0.2, 'scaling': 0.7071067811865475} (56, 16)\n",
      "{'graph_type': 'GEOM', 'threshold': 0.2, 'scaling': 0.7071067811865475} (60, 16)\n"
     ]
    }
   ],
   "source": [
    "num_trials = 10\n",
    "node_configs = [(x, 16) for x in np.arange(4, 64, 4)]\n",
    "# of nodes [20 -> 80]\n",
    "# of nodes in batch [10,000 -> 40,000]\n",
    "batch_size = 500 #[int(min(32, x + y)) for (x, y) in node_configs]\n",
    "graph_configs = [\n",
    "    # {\n",
    "    #     'graph_type': 'GM'\n",
    "    # },\n",
    "    {\n",
    "        'graph_type': 'ER',\n",
    "        'p': 0.75,\n",
    "        'weighted': True\n",
    "    },\n",
    "    {\n",
    "        'graph_type': 'BA',\n",
    "        'ba_param': 4,\n",
    "        'weighted': True\n",
    "    },\n",
    "    {\n",
    "        'graph_type': 'GEOM',\n",
    "        'threshold': 0.2,\n",
    "        'scaling': 1 / np.sqrt(2),\n",
    "    }\n",
    "]\n",
    "\n",
    "ratios = [x/y for (x,y) in node_configs]\n",
    "print(ratios)\n",
    "data = {config['graph_type']: [] for config in graph_configs}\n",
    "for graph_config in graph_configs:\n",
    "    for i, node_config in enumerate(node_configs):\n",
    "        print(graph_config, node_config)\n",
    "        seed = 2\n",
    "        #TODO put back normal seed\n",
    "        # seed = np.random.randint(0, 500000)\n",
    "        rng = np.random.default_rng(seed)\n",
    "        instances = ig.sample_instances(*node_config, num_trials, rng, **graph_config)\n",
    "\n",
    "        rng = np.random.default_rng(seed)\n",
    "        (meta_learned_ratios, _) = evaluate_model(\n",
    "            meta_model=META_GNN,\n",
    "            meta_model_type='gnn',\n",
    "            base_models=[GNN1, GNN2, GREEDY],\n",
    "            instances=instances,\n",
    "            batch_size=batch_size,\n",
    "            rng=rng,\n",
    "            num_realizations=5\n",
    "        )\n",
    "\n",
    "        rng = np.random.default_rng(seed)\n",
    "        gnn1_learned_ratios, greedy_ratios = evaluate_model(\n",
    "            meta_model=None,\n",
    "            meta_model_type=None,\n",
    "            base_models=[GNN1],\n",
    "            instances=instances,\n",
    "            batch_size=batch_size,\n",
    "            rng=rng,\n",
    "            num_realizations=5\n",
    "        )\n",
    "\n",
    "        rng = np.random.default_rng(seed)\n",
    "        gnn2_learned_ratios, _ = evaluate_model(\n",
    "            meta_model=None,\n",
    "            meta_model_type=None,\n",
    "            base_models=[GNN2],\n",
    "            instances=instances,\n",
    "            batch_size=batch_size,\n",
    "            rng=rng,\n",
    "            num_realizations=5\n",
    "        )\n",
    "\n",
    "        data[graph_config['graph_type']].append(np.array(\n",
    "            [\n",
    "                meta_learned_ratios,\n",
    "                gnn1_learned_ratios,\n",
    "                gnn2_learned_ratios,\n",
    "                greedy_ratios\n",
    "            ]\n",
    "        ))"
   ]
  },
  {
   "cell_type": "code",
   "execution_count": 13,
   "metadata": {},
   "outputs": [
    {
     "name": "stdout",
     "output_type": "stream",
     "text": [
      "ER\n"
     ]
    },
    {
     "data": {
      "image/png": "[encoded data removed]",
      "text/plain": [
       "<Figure size 576x432 with 1 Axes>"
      ]
     },
     "metadata": {
      "needs_background": "light"
     },
     "output_type": "display_data"
    },
    {
     "name": "stdout",
     "output_type": "stream",
     "text": [
      "BA\n"
     ]
    },
    {
     "data": {
      "image/png": "[encoded data removed]",
      "text/plain": [
       "<Figure size 576x432 with 1 Axes>"
      ]
     },
     "metadata": {
      "needs_background": "light"
     },
     "output_type": "display_data"
    },
    {
     "name": "stdout",
     "output_type": "stream",
     "text": [
      "GEOM\n"
     ]
    },
    {
     "data": {
      "image/png": "[encoded data removed]",
      "text/plain": [
       "<Figure size 576x432 with 1 Axes>"
      ]
     },
     "metadata": {
      "needs_background": "light"
     },
     "output_type": "display_data"
    }
   ],
   "source": [
    "import matplotlib.pyplot as plt\n",
    "ratios = [x/y for (x,y) in node_configs]\n",
    "for graph_type, comp_ratios in data.items():\n",
    "    greedy_avg_ratios = []\n",
    "    meta_avg_ratios = []\n",
    "    gnn1_avg_ratios = []\n",
    "    gnn2_avg_ratios = []\n",
    "    max_avg_ratios = []\n",
    "\n",
    "    for trial_ratios in comp_ratios:\n",
    "        meta_avg_ratios.append(np.array(trial_ratios[0]).mean())\n",
    "        gnn1_avg_ratios.append(np.array(trial_ratios[1]).mean())\n",
    "        gnn2_avg_ratios.append(np.array(trial_ratios[2]).mean())\n",
    "        greedy_avg_ratios.append(np.array(trial_ratios[3]).mean())\n",
    "        max_avg_ratios.append(np.array(np.max(trial_ratios[1:, :], axis=0)).mean())\n",
    "\n",
    "    print(graph_type)\n",
    "    fig = plt.figure(figsize=(8,6))\n",
    "    plt.title(graph_type)\n",
    "    plt.plot(ratios, gnn1_avg_ratios, label='GNN1')\n",
    "    plt.plot(ratios, gnn2_avg_ratios, label='GNN2')\n",
    "    plt.plot(ratios, greedy_avg_ratios, label='Greedy')\n",
    "    plt.plot(ratios, max_avg_ratios, label='MAX')\n",
    "    plt.plot(ratios, meta_avg_ratios, label='META')\n",
    "    plt.xlabel('# online / # offline')\n",
    "    plt.ylabel('Average competitive ratio')\n",
    "    plt.legend()\n",
    "    plt.show()\n"
   ]
  },
  {
   "cell_type": "code",
   "execution_count": null,
   "metadata": {},
   "outputs": [],
   "source": [
    "comp = np.vstack([gnn1_learned_ratios, gnn2_learned_ratios, greedy_ratios]).T\n",
    "comp[:10]"
   ]
  },
  {
   "cell_type": "code",
   "execution_count": null,
   "metadata": {},
   "outputs": [],
   "source": [
    "print(np.max(comp[:2, :], axis=1).mean())\n",
    "print(comp.mean(axis=0))"
   ]
  },
  {
   "cell_type": "code",
   "execution_count": null,
   "metadata": {},
   "outputs": [],
   "source": [
    "index1 = np.argmax(comp[:, 0] - comp[:, 1])\n",
    "index2 = np.argmax(comp[:, 1] - comp[:, 0])"
   ]
  },
  {
   "cell_type": "code",
   "execution_count": null,
   "metadata": {},
   "outputs": [],
   "source": [
    "tc._featurize(instances[index1])"
   ]
  },
  {
   "cell_type": "code",
   "execution_count": null,
   "metadata": {},
   "outputs": [],
   "source": [
    "tc._featurize(instances[index2])"
   ]
  },
  {
   "cell_type": "code",
   "execution_count": null,
   "metadata": {},
   "outputs": [],
   "source": [
    "GNN2_features = []\n",
    "GNN1_features = []\n",
    "for i, boolean in enumerate(comp[:, 1] > comp[:, 0]):\n",
    "    if boolean:\n",
    "        GNN2_features.append(tc._featurize(instances[i]))\n",
    "    else:\n",
    "        GNN1_features.append(tc._featurize(instances[i]))\n",
    "\n",
    "out1 = np.vstack(GNN1_features)\n",
    "out2 = np.vstack(GNN2_features)\n"
   ]
  },
  {
   "cell_type": "code",
   "execution_count": null,
   "metadata": {},
   "outputs": [],
   "source": [
    "out1.mean(axis=0)"
   ]
  },
  {
   "cell_type": "code",
   "execution_count": null,
   "metadata": {},
   "outputs": [],
   "source": [
    "out2.mean(axis=0)"
   ]
  }
 ],
 "metadata": {
  "kernelspec": {
   "display_name": "Python 3",
   "language": "python",
   "name": "python3"
  },
  "language_info": {
   "codemirror_mode": {
    "name": "ipython",
    "version": 3
   },
   "file_extension": ".py",
   "mimetype": "text/x-python",
   "name": "python",
   "nbconvert_exporter": "python",
   "pygments_lexer": "ipython3",
   "version": "3.10.6"
  },
  "orig_nbformat": 4
 },
 "nbformat": 4,
 "nbformat_minor": 2
}
