{
 "cells": [
  {
   "cell_type": "code",
   "execution_count": 1,
   "metadata": {},
   "outputs": [],
   "source": [
    "import os\n",
    "os.chdir('..')"
   ]
  },
  {
   "cell_type": "code",
   "execution_count": 2,
   "metadata": {},
   "outputs": [],
   "source": [
    "import torch\n",
    "import numpy as np\n",
    "from gnn_library.util import load\n",
    "from evaluate import evaluate_model\n",
    "from instance_generator import sample_instances\n",
    "from params import *\n",
    "from util import _box_plots\n",
    "\n",
    "%load_ext autoreload\n",
    "%autoreload 2"
   ]
  },
  {
   "cell_type": "code",
   "execution_count": 3,
   "metadata": {},
   "outputs": [
    {
     "name": "stdout",
     "output_type": "stream",
     "text": [
      "PyTorch has version 1.12.0+cu102\n",
      "Using device: cuda:4\n"
     ]
    }
   ],
   "source": [
    "device = torch.device('cuda:4' if torch.cuda.is_available() else 'cpu')\n",
    "print(\"PyTorch has version {}\".format(torch.__version__))\n",
    "print('Using device:', device)\n",
    "\n",
    "GNN, args = load('GNN_large_10_6', device)"
   ]
  },
  {
   "cell_type": "markdown",
   "metadata": {},
   "source": [
    "## Box plot baseline evaluation"
   ]
  },
  {
   "cell_type": "markdown",
   "metadata": {},
   "source": [
    "#### Evaluate CRs on all graph configurations"
   ]
  },
  {
   "cell_type": "code",
   "execution_count": 4,
   "metadata": {},
   "outputs": [],
   "source": [
    "import pickle # TODO remove\n",
    "\n",
    "rng = np.random.default_rng()\n",
    "num_trials = 150\n",
    "batch_size = 500\n",
    "node_configs = [(20, 10)]\n",
    "graph_configs = MAIN_TESTING_GRAPH_CONFIGS\n",
    "baselines_kwargs = {\n",
    "    'greedy': {},\n",
    "    'greedy_t': {'threshold': 0.35},\n",
    "    'lp_rounding': {'rng': rng},\n",
    "    'naor_lp_rounding': {'rng': rng},\n",
    "    'pollner_lp_rounding': {'rng': rng}\n",
    "}\n",
    "\n",
    "data = {node_config: {} for node_config in node_configs}\n",
    "\n",
    "# for node_config in node_configs:\n",
    "#     for graph_config in graph_configs:\n",
    "#             print(node_config, graph_config)\n",
    "#             instances = sample_instances(\n",
    "#                 *node_config,\n",
    "#                 num_trials,\n",
    "#                 rng,\n",
    "#                 args.__dict__,\n",
    "#                 **graph_config\n",
    "#             )\n",
    "\n",
    "#             cr_ratios, _ = evaluate_model(\n",
    "#                 meta_model=None,\n",
    "#                 meta_model_type=None,\n",
    "#                 base_models=[GNN],\n",
    "#                 instances=instances,\n",
    "#                 batch_size=batch_size,\n",
    "#                 rng=rng,\n",
    "#                 num_realizations=20,\n",
    "#                 baselines=['greedy', 'greedy_t', 'lp_rounding', 'naor_lp_rounding', 'pollner_lp_rounding'],\n",
    "#                 **baselines_kwargs\n",
    "#             )\n",
    "\n",
    "#             data[node_config][str(graph_config)] = cr_ratios\n",
    "\n",
    "#             with open(f\"experiments/box_plots_main.pickle\", 'wb') as handle:\n",
    "#                 pickle.dump(data, handle, protocol=pickle.HIGHEST_PROTOCOL)\n"
   ]
  },
  {
   "cell_type": "markdown",
   "metadata": {},
   "source": [
    "#### Generate box plots"
   ]
  },
  {
   "cell_type": "code",
   "execution_count": 13,
   "metadata": {},
   "outputs": [
    {
     "ename": "KeyError",
     "evalue": "'GENConv'",
     "output_type": "error",
     "traceback": [
      "\u001b[0;31m---------------------------------------------------------------------------\u001b[0m",
      "\u001b[0;31mKeyError\u001b[0m                                  Traceback (most recent call last)",
      "\u001b[1;32m/home/alexhay/GNN-OBM/notebooks/exp_box_plots.ipynb Cell 8\u001b[0m in \u001b[0;36m<cell line: 13>\u001b[0;34m()\u001b[0m\n\u001b[1;32m     <a href='vscode-notebook-cell://ssh-remote%2B7b22686f73744e616d65223a22736f616c2d372e7374616e666f72642e656475222c2275736572223a22616c6578686179227d/home/alexhay/GNN-OBM/notebooks/exp_box_plots.ipynb#X10sdnNjb2RlLXJlbW90ZQ%3D%3D?line=9'>10</a>\u001b[0m \t\u001b[39mif\u001b[39;00m graph_type \u001b[39min\u001b[39;00m str_graph_configs:\n\u001b[1;32m     <a href='vscode-notebook-cell://ssh-remote%2B7b22686f73744e616d65223a22736f616c2d372e7374616e666f72642e656475222c2275736572223a22616c6578686179227d/home/alexhay/GNN-OBM/notebooks/exp_box_plots.ipynb#X10sdnNjb2RlLXJlbW90ZQ%3D%3D?line=10'>11</a>\u001b[0m \t\tresults[graph_type] \u001b[39m=\u001b[39m val\n\u001b[0;32m---> <a href='vscode-notebook-cell://ssh-remote%2B7b22686f73744e616d65223a22736f616c2d372e7374616e666f72642e656475222c2275736572223a22616c6578686179227d/home/alexhay/GNN-OBM/notebooks/exp_box_plots.ipynb#X10sdnNjb2RlLXJlbW90ZQ%3D%3D?line=12'>13</a>\u001b[0m _box_plots(results, \u001b[39mlambda\u001b[39;49;00m graph_type: \u001b[39mf\u001b[39;49m\u001b[39m\"\u001b[39;49m\u001b[39mGNN2_classify_\u001b[39;49m\u001b[39m{\u001b[39;49;00mgraph_type\u001b[39m}\u001b[39;49;00m\u001b[39m \u001b[39;49m\u001b[39m{\u001b[39;49;00mnode_config[\u001b[39m1\u001b[39;49m]\u001b[39m}\u001b[39;49;00m\u001b[39mx\u001b[39;49m\u001b[39m{\u001b[39;49;00mnode_config[\u001b[39m0\u001b[39;49m]\u001b[39m}\u001b[39;49;00m\u001b[39m\"\u001b[39;49m)\n",
      "File \u001b[0;32m~/GNN-OBM/util.py:400\u001b[0m, in \u001b[0;36m_box_plots\u001b[0;34m(data, naming_function)\u001b[0m\n\u001b[1;32m    398\u001b[0m i \u001b[39m=\u001b[39m \u001b[39m0\u001b[39m\n\u001b[1;32m    399\u001b[0m \u001b[39mfor\u001b[39;00m graph_type, comp_ratios \u001b[39min\u001b[39;00m data\u001b[39m.\u001b[39mitems():\n\u001b[0;32m--> 400\u001b[0m     all_data \u001b[39m=\u001b[39m np\u001b[39m.\u001b[39mstack([comp_ratios[model] \u001b[39mfor\u001b[39;00m model \u001b[39min\u001b[39;00m model_order])\u001b[39m.\u001b[39mT\n\u001b[1;32m    402\u001b[0m     \u001b[39m# source: https://matplotlib.org/stable/gallery/statistics/boxplot_color.html#sphx-glr-gallery-statistics-boxplot-color-py\u001b[39;00m\n\u001b[1;32m    403\u001b[0m     \u001b[39m# rectangular box plot\u001b[39;00m\n\u001b[1;32m    404\u001b[0m     bplot \u001b[39m=\u001b[39m ax[i]\u001b[39m.\u001b[39mboxplot(all_data,\n\u001b[1;32m    405\u001b[0m                         vert\u001b[39m=\u001b[39m\u001b[39mTrue\u001b[39;00m,  \u001b[39m# vertical box alignment\u001b[39;00m\n\u001b[1;32m    406\u001b[0m                         patch_artist\u001b[39m=\u001b[39m\u001b[39mTrue\u001b[39;00m,  \u001b[39m# fill with color\u001b[39;00m\n\u001b[1;32m    407\u001b[0m                         showfliers\u001b[39m=\u001b[39m\u001b[39mFalse\u001b[39;00m,  \u001b[39m# fill with color\u001b[39;00m\n\u001b[1;32m    408\u001b[0m                         \u001b[39m# whis=0\u001b[39;00m\n\u001b[1;32m    409\u001b[0m                         )\n",
      "File \u001b[0;32m~/GNN-OBM/util.py:400\u001b[0m, in \u001b[0;36m<listcomp>\u001b[0;34m(.0)\u001b[0m\n\u001b[1;32m    398\u001b[0m i \u001b[39m=\u001b[39m \u001b[39m0\u001b[39m\n\u001b[1;32m    399\u001b[0m \u001b[39mfor\u001b[39;00m graph_type, comp_ratios \u001b[39min\u001b[39;00m data\u001b[39m.\u001b[39mitems():\n\u001b[0;32m--> 400\u001b[0m     all_data \u001b[39m=\u001b[39m np\u001b[39m.\u001b[39mstack([comp_ratios[model] \u001b[39mfor\u001b[39;00m model \u001b[39min\u001b[39;00m model_order])\u001b[39m.\u001b[39mT\n\u001b[1;32m    402\u001b[0m     \u001b[39m# source: https://matplotlib.org/stable/gallery/statistics/boxplot_color.html#sphx-glr-gallery-statistics-boxplot-color-py\u001b[39;00m\n\u001b[1;32m    403\u001b[0m     \u001b[39m# rectangular box plot\u001b[39;00m\n\u001b[1;32m    404\u001b[0m     bplot \u001b[39m=\u001b[39m ax[i]\u001b[39m.\u001b[39mboxplot(all_data,\n\u001b[1;32m    405\u001b[0m                         vert\u001b[39m=\u001b[39m\u001b[39mTrue\u001b[39;00m,  \u001b[39m# vertical box alignment\u001b[39;00m\n\u001b[1;32m    406\u001b[0m                         patch_artist\u001b[39m=\u001b[39m\u001b[39mTrue\u001b[39;00m,  \u001b[39m# fill with color\u001b[39;00m\n\u001b[1;32m    407\u001b[0m                         showfliers\u001b[39m=\u001b[39m\u001b[39mFalse\u001b[39;00m,  \u001b[39m# fill with color\u001b[39;00m\n\u001b[1;32m    408\u001b[0m                         \u001b[39m# whis=0\u001b[39;00m\n\u001b[1;32m    409\u001b[0m                         )\n",
      "\u001b[0;31mKeyError\u001b[0m: 'GENConv'"
     ]
    },
    {
     "data": {
      "image/png": "[encoded data removed]",
      "text/plain": [
       "<Figure size 432x216 with 5 Axes>"
      ]
     },
     "metadata": {
      "needs_background": "light"
     },
     "output_type": "display_data"
    }
   ],
   "source": [
    "with open(f\"experiments/box_plots_multiple_gnns_all.pickle\", 'rb') as handle:\n",
    "    data = pickle.load(handle)\n",
    "\n",
    "results = {}\n",
    "\n",
    "node_config = node_configs[0]\n",
    "\n",
    "str_graph_configs = {str(config) for config in MAIN_TESTING_GRAPH_CONFIGS}\n",
    "for graph_type, val in data[node_configs[0]].items():\n",
    "\tif graph_type in str_graph_configs:\n",
    "\t\tresults[graph_type] = val\n",
    "\n",
    "_box_plots(results, lambda graph_type: f\"GNN2_classify_{graph_type} {node_config[1]}x{node_config[0]}\")"
   ]
  },
  {
   "cell_type": "code",
   "execution_count": 26,
   "metadata": {},
   "outputs": [
    {
     "data": {
      "image/png": "[encoded data removed]",
      "text/plain": [
       "<Figure size 432x216 with 3 Axes>"
      ]
     },
     "metadata": {
      "needs_background": "light"
     },
     "output_type": "display_data"
    }
   ],
   "source": [
    "from params import SMALL_TESTING_GRAPH_CONFIGS\n",
    "with open(f\"experiments/box_plots_all.pickle\", 'rb') as handle:\n",
    "    data = pickle.load(handle)\n",
    "\n",
    "results = {}\n",
    "\n",
    "node_config = node_configs[0]\n",
    "\n",
    "str_graph_configs = {str(config) for config in SMALL_TESTING_GRAPH_CONFIGS}\n",
    "for graph_type, val in data[node_configs[0]].items():\n",
    "\tif graph_type in str_graph_configs:\n",
    "\t\tresults[graph_type] = val\n",
    "\n",
    "_box_plots(results, lambda graph_type: f\"GNN2_classify_{graph_type} {node_config[1]}x{node_config[0]}\")"
   ]
  },
  {
   "cell_type": "code",
   "execution_count": 41,
   "metadata": {},
   "outputs": [
    {
     "name": "stdout",
     "output_type": "stream",
     "text": [
      "{\"{'graph_type': 'ER', 'p': 0.25, 'weighted': True, 'weight_scaling': 1}\": '\\\\textbf{0.945} & 0.881 & 0.887 & 0.929', \"{'graph_type': 'ER', 'p': 0.5, 'weighted': True, 'weight_scaling': 1}\": '\\\\textbf{0.943} & 0.883 & 0.897 & 0.917', \"{'graph_type': 'ER', 'p': 0.75, 'weighted': True, 'weight_scaling': 1}\": '\\\\textbf{0.949} & 0.905 & 0.914 & 0.915', \"{'graph_type': 'BA', 'ba_param': 4, 'weighted': True, 'weight_scaling': 1}\": '\\\\textbf{0.937} & 0.857 & 0.875 & 0.921', \"{'graph_type': 'BA', 'ba_param': 6, 'weighted': True, 'weight_scaling': 1}\": '\\\\textbf{0.944} & 0.885 & 0.896 & 0.916', \"{'graph_type': 'BA', 'ba_param': 8, 'weighted': True, 'weight_scaling': 1}\": '\\\\textbf{0.955} & 0.911 & 0.922 & 0.921', \"{'graph_type': 'GEOM', 'q': 0.15, 'd': 2, 'weighted': True}\": '\\\\textbf{0.978} & 0.938 & 0.938 & 0.958', \"{'graph_type': 'GEOM', 'q': 0.25, 'd': 2, 'weighted': True}\": '\\\\textbf{0.961} & 0.922 & 0.922 & 0.939', \"{'graph_type': 'GEOM', 'q': 0.5, 'd': 2, 'weighted': True}\": '\\\\textbf{0.950} & 0.924 & 0.924 & 0.921', \"{'graph_type': 'OSMNX', 'location': 'Piedmont, California, USA'}\": '\\\\textbf{0.957} & 0.935 & 0.939 & 0.936', \"{'graph_type': 'OSMNX', 'location': 'Fremont, California, USA'}\": '\\\\textbf{0.957} & 0.929 & 0.933 & 0.930', \"{'graph_type': 'GM'}\": '0.951 & 0.929 & 0.802 & \\\\textbf{0.951}'}\n",
      "{'graph_type': 'ER', 'p': 0.25, 'weighted': True, 'weight_scaling': 1}\n",
      "\\textbf{0.945} & 0.881 & 0.887 & 0.929\n",
      "{'graph_type': 'ER', 'p': 0.5, 'weighted': True, 'weight_scaling': 1}\n",
      "\\textbf{0.943} & 0.883 & 0.897 & 0.917\n",
      "{'graph_type': 'ER', 'p': 0.75, 'weighted': True, 'weight_scaling': 1}\n",
      "\\textbf{0.949} & 0.905 & 0.914 & 0.915\n",
      "{'graph_type': 'BA', 'ba_param': 4, 'weighted': True, 'weight_scaling': 1}\n",
      "\\textbf{0.937} & 0.857 & 0.875 & 0.921\n",
      "{'graph_type': 'BA', 'ba_param': 6, 'weighted': True, 'weight_scaling': 1}\n",
      "\\textbf{0.944} & 0.885 & 0.896 & 0.916\n",
      "{'graph_type': 'BA', 'ba_param': 8, 'weighted': True, 'weight_scaling': 1}\n",
      "\\textbf{0.955} & 0.911 & 0.922 & 0.921\n",
      "{'graph_type': 'GEOM', 'q': 0.15, 'd': 2, 'weighted': True}\n",
      "\\textbf{0.978} & 0.938 & 0.938 & 0.958\n",
      "{'graph_type': 'GEOM', 'q': 0.25, 'd': 2, 'weighted': True}\n",
      "\\textbf{0.961} & 0.922 & 0.922 & 0.939\n",
      "{'graph_type': 'GEOM', 'q': 0.5, 'd': 2, 'weighted': True}\n",
      "\\textbf{0.950} & 0.924 & 0.924 & 0.921\n",
      "{'graph_type': 'OSMNX', 'location': 'Piedmont, California, USA'}\n",
      "\\textbf{0.957} & 0.935 & 0.939 & 0.936\n",
      "{'graph_type': 'OSMNX', 'location': 'Fremont, California, USA'}\n",
      "\\textbf{0.957} & 0.929 & 0.933 & 0.930\n",
      "{'graph_type': 'GM'}\n",
      "0.951 & 0.929 & 0.802 & \\textbf{0.951}\n"
     ]
    }
   ],
   "source": [
    "with open(f\"experiments/box_plots_all.pickle\", 'rb') as handle:\n",
    "    data = pickle.load(handle)\n",
    "\n",
    "results = {}\n",
    "\n",
    "node_config = node_configs[0]\n",
    "\n",
    "str_graph_configs = {str(config) for config in ALL_TESTING_GRAPH_CONFIGS}\n",
    "for graph_type, val in data[node_configs[0]].items():\n",
    "    if graph_type in str_graph_configs:\n",
    "        aggregated_val = {}\n",
    "        val.pop(\"naor_lp_rounding\")\n",
    "        val.pop(\"pollner_lp_rounding\")\n",
    "        for model, crs in val.items():\n",
    "            aggregated_val[model] = np.mean(crs)\n",
    "        max = np.max(list(aggregated_val.values()))\n",
    "        for model, cr in aggregated_val.items():\n",
    "            if np.isclose(cr,max):\n",
    "                aggregated_val[model] = '\\\\textbf{{{:.3f}}}'.format(round(np.mean(cr), 3))\n",
    "            else:            \n",
    "                aggregated_val[model] = '{:.3f}'.format(round(np.mean(cr), 3))\n",
    "\n",
    "        crs = aggregated_val.keys()\n",
    "        string = f\"{aggregated_val['learned']} & {aggregated_val['greedy']} & {aggregated_val['greedy_t']} & {aggregated_val['lp_rounding']}\"\n",
    "        results[graph_type] = string\n",
    "print(results)\n",
    "for graph_type, val in results.items():\n",
    "    print(graph_type)\n",
    "    print(val)\n",
    "\n"
   ]
  },
  {
   "cell_type": "code",
   "execution_count": null,
   "metadata": {},
   "outputs": [],
   "source": []
  }
 ],
 "metadata": {
  "kernelspec": {
   "display_name": "clrs",
   "language": "python",
   "name": "python3"
  },
  "language_info": {
   "codemirror_mode": {
    "name": "ipython",
    "version": 3
   },
   "file_extension": ".py",
   "mimetype": "text/x-python",
   "name": "python",
   "nbconvert_exporter": "python",
   "pygments_lexer": "ipython3",
   "version": "3.10.12"
  }
 },
 "nbformat": 4,
 "nbformat_minor": 2
}
