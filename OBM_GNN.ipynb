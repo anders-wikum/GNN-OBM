{
 "cells": [
  {
   "cell_type": "code",
   "execution_count": 1,
   "metadata": {},
   "outputs": [],
   "source": [
    "import graph_generator as gg\n",
    "import obm_dp as dp\n",
    "import numpy as np\n",
    "import matplotlib.pyplot as plt\n",
    "from torch_geometric.loader import DataLoader\n",
    "from torch_geometric.data import InMemoryDataset\n",
    "import torch\n",
    "from util import diff\n",
    "from gnn_library.util import train, objectview\n",
    "\n",
    "%load_ext autoreload\n",
    "%autoreload 2"
   ]
  },
  {
   "cell_type": "code",
   "execution_count": 2,
   "metadata": {},
   "outputs": [
    {
     "name": "stdout",
     "output_type": "stream",
     "text": [
      "PyTorch has version 2.0.0+cu117\n",
      "Using device: cuda\n"
     ]
    }
   ],
   "source": [
    "device = torch.device('cuda' if torch.cuda.is_available() else 'cpu')\n",
    "print(\"PyTorch has version {}\".format(torch.__version__))\n",
    "print('Using device:', device)"
   ]
  },
  {
   "cell_type": "code",
   "execution_count": 3,
   "metadata": {},
   "outputs": [],
   "source": [
    "args = {\n",
    "    'processor':         'GENConv',\n",
    "    'head':              'regression',\n",
    "    'num_layers':        2,\n",
    "    'num_mlp_layers':    2,\n",
    "    'aggr':              'max',\n",
    "    'batch_size':        32,\n",
    "    'node_feature_dim':  4,\n",
    "    'edge_feature_dim':  1,\n",
    "    'graph_feature_dim': 2,\n",
    "    'hidden_dim':        64,\n",
    "    'dropout':           0.5,\n",
    "    'epochs':            50,\n",
    "    'opt':               'adam',\n",
    "    'opt_scheduler':     'none',\n",
    "    'opt_restart':       0,\n",
    "    'weight_decay':      5e-3,\n",
    "    'lr':                0.0001,\n",
    "    'device':            device\n",
    "}\n",
    "args = objectview(args)\n",
    "\n",
    "m = 10; n = 6; train_num = 100; test_num = 30\n",
    "\n",
    "er_config = {\n",
    "    'graph_type': 'ER',\n",
    "    'p': 1,\n",
    "    'weighted': True\n",
    "}\n",
    "ba_config = {\n",
    "    'graph_type': 'BA',\n",
    "    'ba_param': 3,\n",
    "    'weighted': True\n",
    "}\n",
    "geom_config = {\n",
    "    'graph_type': 'GEOM',\n",
    "    'threshold': 0.2,\n",
    "    'scaling': 1 / np.sqrt(2)\n",
    "}\n",
    "\n",
    "class Dataset(InMemoryDataset):\n",
    "\n",
    "    def __init__(self, data_list):\n",
    "        super().__init__(None)\n",
    "        self.data, self.slices = self.collate(data_list)\n",
    "\n",
    "\n",
    "train_dataset = Dataset(\n",
    "    [\n",
    "        *gg.generate_examples(train_num, m, n, [0.8] * m, args.head, **er_config),\n",
    "        *gg.generate_examples(train_num, m, n, [0.8] * m, args.head, **ba_config),\n",
    "        *gg.generate_examples(2 * train_num, m, n, [0.8] * m, args.head, **geom_config)\n",
    "    ]\n",
    ")\n",
    "\n",
    "test_dataset = Dataset(\n",
    "    [\n",
    "        *gg.generate_examples(test_num, m, n, [0.8] * m, args.head, **er_config),\n",
    "        *gg.generate_examples(test_num, m, n, [0.8] * m, args.head, **ba_config),\n",
    "        *gg.generate_examples(2 * test_num, m, n, [0.8] * m, args.head, **geom_config), \n",
    "    ]\n",
    ")\n",
    "\n",
    "train_loader = DataLoader(\n",
    "    train_dataset,\n",
    "    batch_size=args.batch_size,\n",
    "    shuffle=True,\n",
    "    num_workers=8\n",
    ")\n",
    "\n",
    "test_loader = DataLoader(\n",
    "    test_dataset,\n",
    "    batch_size=args.batch_size,\n",
    "    shuffle=True,\n",
    "    num_workers=8\n",
    ")\n",
    "\n"
   ]
  },
  {
   "cell_type": "code",
   "execution_count": 4,
   "metadata": {},
   "outputs": [
    {
     "name": "stderr",
     "output_type": "stream",
     "text": [
      "Training:   0%|          | 0/50 [00:00<?, ?Epochs/s]"
     ]
    },
    {
     "name": "stdout",
     "output_type": "stream",
     "text": [
      "0.07284918028116226\n"
     ]
    },
    {
     "name": "stderr",
     "output_type": "stream",
     "text": [
      "Training:   2%|▏         | 1/50 [00:04<03:35,  4.39s/Epochs]"
     ]
    },
    {
     "name": "stdout",
     "output_type": "stream",
     "text": [
      "TEST LOSS: 0.038776498287916183\n"
     ]
    },
    {
     "name": "stderr",
     "output_type": "stream",
     "text": [
      "Training:   4%|▍         | 2/50 [00:07<02:45,  3.45s/Epochs]"
     ]
    },
    {
     "name": "stdout",
     "output_type": "stream",
     "text": [
      "0.03489814293384552\n",
      "0.023938888616859912\n"
     ]
    },
    {
     "name": "stderr",
     "output_type": "stream",
     "text": [
      "Training:   6%|▌         | 3/50 [00:10<02:45,  3.52s/Epochs]"
     ]
    },
    {
     "name": "stdout",
     "output_type": "stream",
     "text": [
      "TEST LOSS: 0.019017258659005165\n"
     ]
    },
    {
     "name": "stderr",
     "output_type": "stream",
     "text": [
      "Training:   8%|▊         | 4/50 [00:13<02:25,  3.17s/Epochs]"
     ]
    },
    {
     "name": "stdout",
     "output_type": "stream",
     "text": [
      "0.020459658689796923\n",
      "0.01752516456693411\n"
     ]
    },
    {
     "name": "stderr",
     "output_type": "stream",
     "text": [
      "Training:  10%|█         | 5/50 [00:17<02:30,  3.33s/Epochs]"
     ]
    },
    {
     "name": "stdout",
     "output_type": "stream",
     "text": [
      "TEST LOSS: 0.015620729885995388\n"
     ]
    },
    {
     "name": "stderr",
     "output_type": "stream",
     "text": [
      "Training:  12%|█▏        | 6/50 [00:19<02:18,  3.16s/Epochs]"
     ]
    },
    {
     "name": "stdout",
     "output_type": "stream",
     "text": [
      "0.01638795445114374\n",
      "0.014670530751347543\n"
     ]
    },
    {
     "name": "stderr",
     "output_type": "stream",
     "text": [
      "Training:  14%|█▍        | 7/50 [00:23<02:22,  3.32s/Epochs]"
     ]
    },
    {
     "name": "stdout",
     "output_type": "stream",
     "text": [
      "TEST LOSS: 0.016666270792484283\n"
     ]
    },
    {
     "name": "stderr",
     "output_type": "stream",
     "text": [
      "Training:  16%|█▌        | 8/50 [00:26<02:09,  3.09s/Epochs]"
     ]
    },
    {
     "name": "stdout",
     "output_type": "stream",
     "text": [
      "0.01392210217565298\n",
      "0.01327046975120902\n"
     ]
    },
    {
     "name": "stderr",
     "output_type": "stream",
     "text": [
      "Training:  18%|█▊        | 9/50 [00:29<02:12,  3.22s/Epochs]"
     ]
    },
    {
     "name": "stdout",
     "output_type": "stream",
     "text": [
      "TEST LOSS: 0.0156965721398592\n"
     ]
    },
    {
     "name": "stderr",
     "output_type": "stream",
     "text": [
      "Training:  20%|██        | 10/50 [00:32<02:02,  3.07s/Epochs]"
     ]
    },
    {
     "name": "stdout",
     "output_type": "stream",
     "text": [
      "0.01231865881383419\n",
      "0.012015512686222791\n"
     ]
    },
    {
     "name": "stderr",
     "output_type": "stream",
     "text": [
      "Training:  22%|██▏       | 11/50 [00:35<02:04,  3.18s/Epochs]"
     ]
    },
    {
     "name": "stdout",
     "output_type": "stream",
     "text": [
      "TEST LOSS: 0.014426570385694504\n"
     ]
    },
    {
     "name": "stderr",
     "output_type": "stream",
     "text": [
      "Training:  24%|██▍       | 12/50 [00:38<01:55,  3.05s/Epochs]"
     ]
    },
    {
     "name": "stdout",
     "output_type": "stream",
     "text": [
      "0.011397808738052845\n",
      "0.011314182735979558\n"
     ]
    },
    {
     "name": "stderr",
     "output_type": "stream",
     "text": [
      "Training:  26%|██▌       | 13/50 [00:42<01:59,  3.22s/Epochs]"
     ]
    },
    {
     "name": "stdout",
     "output_type": "stream",
     "text": [
      "TEST LOSS: 0.01453070156276226\n"
     ]
    },
    {
     "name": "stderr",
     "output_type": "stream",
     "text": [
      "Training:  28%|██▊       | 14/50 [00:44<01:48,  3.00s/Epochs]"
     ]
    },
    {
     "name": "stdout",
     "output_type": "stream",
     "text": [
      "0.010970980092883111\n",
      "0.010701314356178045\n"
     ]
    },
    {
     "name": "stderr",
     "output_type": "stream",
     "text": [
      "Training:  30%|███       | 15/50 [00:48<01:49,  3.14s/Epochs]"
     ]
    },
    {
     "name": "stdout",
     "output_type": "stream",
     "text": [
      "TEST LOSS: 0.014704669825732708\n"
     ]
    },
    {
     "name": "stderr",
     "output_type": "stream",
     "text": [
      "Training:  32%|███▏      | 16/50 [00:50<01:42,  3.03s/Epochs]"
     ]
    },
    {
     "name": "stdout",
     "output_type": "stream",
     "text": [
      "0.010161407809704542\n",
      "0.010071582324802876\n"
     ]
    },
    {
     "name": "stderr",
     "output_type": "stream",
     "text": [
      "Training:  34%|███▍      | 17/50 [00:54<01:46,  3.23s/Epochs]"
     ]
    },
    {
     "name": "stdout",
     "output_type": "stream",
     "text": [
      "TEST LOSS: 0.012327685952186584\n"
     ]
    },
    {
     "name": "stderr",
     "output_type": "stream",
     "text": [
      "Training:  36%|███▌      | 18/50 [00:57<01:37,  3.06s/Epochs]"
     ]
    },
    {
     "name": "stdout",
     "output_type": "stream",
     "text": [
      "0.009865624736994505\n",
      "0.009677001431584358\n"
     ]
    },
    {
     "name": "stderr",
     "output_type": "stream",
     "text": [
      "Training:  38%|███▊      | 19/50 [01:00<01:38,  3.19s/Epochs]"
     ]
    },
    {
     "name": "stdout",
     "output_type": "stream",
     "text": [
      "TEST LOSS: 0.007990199141204357\n"
     ]
    },
    {
     "name": "stderr",
     "output_type": "stream",
     "text": [
      "Training:  40%|████      | 20/50 [01:03<01:30,  3.01s/Epochs]"
     ]
    },
    {
     "name": "stdout",
     "output_type": "stream",
     "text": [
      "0.009392944537103176\n",
      "0.009374826978892088\n"
     ]
    },
    {
     "name": "stderr",
     "output_type": "stream",
     "text": [
      "Training:  42%|████▏     | 21/50 [01:06<01:31,  3.17s/Epochs]"
     ]
    },
    {
     "name": "stdout",
     "output_type": "stream",
     "text": [
      "TEST LOSS: 0.011839457787573338\n"
     ]
    },
    {
     "name": "stderr",
     "output_type": "stream",
     "text": [
      "Training:  44%|████▍     | 22/50 [01:09<01:24,  3.03s/Epochs]"
     ]
    },
    {
     "name": "stdout",
     "output_type": "stream",
     "text": [
      "0.009499248649924994\n",
      "0.008754793148487806\n"
     ]
    },
    {
     "name": "stderr",
     "output_type": "stream",
     "text": [
      "Training:  46%|████▌     | 23/50 [01:13<01:27,  3.25s/Epochs]"
     ]
    },
    {
     "name": "stdout",
     "output_type": "stream",
     "text": [
      "TEST LOSS: 0.007428162265568972\n"
     ]
    },
    {
     "name": "stderr",
     "output_type": "stream",
     "text": [
      "Training:  48%|████▊     | 24/50 [01:16<01:21,  3.15s/Epochs]"
     ]
    },
    {
     "name": "stdout",
     "output_type": "stream",
     "text": [
      "0.008823154043406249\n",
      "0.008552324239164591\n"
     ]
    },
    {
     "name": "stderr",
     "output_type": "stream",
     "text": [
      "Training:  50%|█████     | 25/50 [01:19<01:22,  3.29s/Epochs]"
     ]
    },
    {
     "name": "stdout",
     "output_type": "stream",
     "text": [
      "TEST LOSS: 0.008760672993957996\n"
     ]
    },
    {
     "name": "stderr",
     "output_type": "stream",
     "text": [
      "Training:  52%|█████▏    | 26/50 [01:22<01:14,  3.10s/Epochs]"
     ]
    },
    {
     "name": "stdout",
     "output_type": "stream",
     "text": [
      "0.008609007123857737\n",
      "0.00869895274937153\n"
     ]
    },
    {
     "name": "stderr",
     "output_type": "stream",
     "text": [
      "Training:  54%|█████▍    | 27/50 [01:26<01:13,  3.22s/Epochs]"
     ]
    },
    {
     "name": "stdout",
     "output_type": "stream",
     "text": [
      "TEST LOSS: 0.007312353700399399\n"
     ]
    },
    {
     "name": "stderr",
     "output_type": "stream",
     "text": [
      "Training:  56%|█████▌    | 28/50 [01:28<01:07,  3.05s/Epochs]"
     ]
    },
    {
     "name": "stdout",
     "output_type": "stream",
     "text": [
      "0.008666303109377622\n",
      "0.008639150902628899\n"
     ]
    },
    {
     "name": "stderr",
     "output_type": "stream",
     "text": [
      "Training:  58%|█████▊    | 29/50 [01:32<01:07,  3.19s/Epochs]"
     ]
    },
    {
     "name": "stdout",
     "output_type": "stream",
     "text": [
      "TEST LOSS: 0.005890691187232733\n"
     ]
    },
    {
     "name": "stderr",
     "output_type": "stream",
     "text": [
      "Training:  60%|██████    | 30/50 [01:35<01:01,  3.09s/Epochs]"
     ]
    },
    {
     "name": "stdout",
     "output_type": "stream",
     "text": [
      "0.00863022193312645\n",
      "0.008554343946278095\n"
     ]
    },
    {
     "name": "stderr",
     "output_type": "stream",
     "text": [
      "Training:  62%|██████▏   | 31/50 [01:38<01:02,  3.29s/Epochs]"
     ]
    },
    {
     "name": "stdout",
     "output_type": "stream",
     "text": [
      "TEST LOSS: 0.007004532031714916\n"
     ]
    },
    {
     "name": "stderr",
     "output_type": "stream",
     "text": [
      "Training:  64%|██████▍   | 32/50 [01:41<00:55,  3.10s/Epochs]"
     ]
    },
    {
     "name": "stdout",
     "output_type": "stream",
     "text": [
      "0.008482316989451648\n",
      "0.008560737330466509\n"
     ]
    },
    {
     "name": "stderr",
     "output_type": "stream",
     "text": [
      "Training:  66%|██████▌   | 33/50 [01:45<00:55,  3.25s/Epochs]"
     ]
    },
    {
     "name": "stdout",
     "output_type": "stream",
     "text": [
      "TEST LOSS: 0.010289915837347507\n"
     ]
    },
    {
     "name": "stderr",
     "output_type": "stream",
     "text": [
      "Training:  68%|██████▊   | 34/50 [01:47<00:49,  3.07s/Epochs]"
     ]
    },
    {
     "name": "stdout",
     "output_type": "stream",
     "text": [
      "0.00796099478378892\n",
      "0.00785055771842599\n"
     ]
    },
    {
     "name": "stderr",
     "output_type": "stream",
     "text": [
      "Training:  70%|███████   | 35/50 [01:51<00:48,  3.26s/Epochs]"
     ]
    },
    {
     "name": "stdout",
     "output_type": "stream",
     "text": [
      "TEST LOSS: 0.005906934384256601\n"
     ]
    },
    {
     "name": "stderr",
     "output_type": "stream",
     "text": [
      "Training:  72%|███████▏  | 36/50 [01:54<00:43,  3.09s/Epochs]"
     ]
    },
    {
     "name": "stdout",
     "output_type": "stream",
     "text": [
      "0.008184330109506845\n",
      "0.008345396270975471\n"
     ]
    },
    {
     "name": "stderr",
     "output_type": "stream",
     "text": [
      "Training:  74%|███████▍  | 37/50 [01:58<00:43,  3.34s/Epochs]"
     ]
    },
    {
     "name": "stdout",
     "output_type": "stream",
     "text": [
      "TEST LOSS: 0.0071967244148254395\n"
     ]
    },
    {
     "name": "stderr",
     "output_type": "stream",
     "text": [
      "Training:  76%|███████▌  | 38/50 [02:00<00:37,  3.13s/Epochs]"
     ]
    },
    {
     "name": "stdout",
     "output_type": "stream",
     "text": [
      "0.008411853812634944\n",
      "0.008386586092412471\n"
     ]
    },
    {
     "name": "stderr",
     "output_type": "stream",
     "text": [
      "Training:  78%|███████▊  | 39/50 [02:04<00:36,  3.28s/Epochs]"
     ]
    },
    {
     "name": "stdout",
     "output_type": "stream",
     "text": [
      "TEST LOSS: 0.008492137305438519\n"
     ]
    },
    {
     "name": "stderr",
     "output_type": "stream",
     "text": [
      "Training:  80%|████████  | 40/50 [02:06<00:31,  3.10s/Epochs]"
     ]
    },
    {
     "name": "stdout",
     "output_type": "stream",
     "text": [
      "0.008121008530259132\n",
      "0.00834816636517644\n"
     ]
    },
    {
     "name": "stderr",
     "output_type": "stream",
     "text": [
      "Training:  82%|████████▏ | 41/50 [02:10<00:28,  3.21s/Epochs]"
     ]
    },
    {
     "name": "stdout",
     "output_type": "stream",
     "text": [
      "TEST LOSS: 0.006716604344546795\n"
     ]
    },
    {
     "name": "stderr",
     "output_type": "stream",
     "text": [
      "Training:  84%|████████▍ | 42/50 [02:13<00:24,  3.08s/Epochs]"
     ]
    },
    {
     "name": "stdout",
     "output_type": "stream",
     "text": [
      "0.008248632431030273\n",
      "0.008072362005710602\n"
     ]
    },
    {
     "name": "stderr",
     "output_type": "stream",
     "text": [
      "Training:  86%|████████▌ | 43/50 [02:16<00:22,  3.21s/Epochs]"
     ]
    },
    {
     "name": "stdout",
     "output_type": "stream",
     "text": [
      "TEST LOSS: 0.008496984839439392\n"
     ]
    },
    {
     "name": "stderr",
     "output_type": "stream",
     "text": [
      "Training:  88%|████████▊ | 44/50 [02:19<00:18,  3.02s/Epochs]"
     ]
    },
    {
     "name": "stdout",
     "output_type": "stream",
     "text": [
      "0.008058637414127589\n",
      "0.008322690829634667\n"
     ]
    },
    {
     "name": "stderr",
     "output_type": "stream",
     "text": [
      "Training:  90%|█████████ | 45/50 [02:23<00:16,  3.27s/Epochs]"
     ]
    },
    {
     "name": "stdout",
     "output_type": "stream",
     "text": [
      "TEST LOSS: 0.00920234713703394\n"
     ]
    },
    {
     "name": "stderr",
     "output_type": "stream",
     "text": [
      "Training:  92%|█████████▏| 46/50 [02:25<00:12,  3.11s/Epochs]"
     ]
    },
    {
     "name": "stdout",
     "output_type": "stream",
     "text": [
      "0.007948072649538517\n",
      "0.008015216201543808\n"
     ]
    },
    {
     "name": "stderr",
     "output_type": "stream",
     "text": [
      "Training:  94%|█████████▍| 47/50 [02:29<00:09,  3.25s/Epochs]"
     ]
    },
    {
     "name": "stdout",
     "output_type": "stream",
     "text": [
      "TEST LOSS: 0.011285916902124882\n"
     ]
    },
    {
     "name": "stderr",
     "output_type": "stream",
     "text": [
      "Training:  96%|█████████▌| 48/50 [02:32<00:06,  3.05s/Epochs]"
     ]
    },
    {
     "name": "stdout",
     "output_type": "stream",
     "text": [
      "0.008010873083025217\n",
      "0.008003679279237985\n"
     ]
    },
    {
     "name": "stderr",
     "output_type": "stream",
     "text": [
      "Training:  98%|█████████▊| 49/50 [02:35<00:03,  3.20s/Epochs]"
     ]
    },
    {
     "name": "stdout",
     "output_type": "stream",
     "text": [
      "TEST LOSS: 0.0073929098434746265\n"
     ]
    },
    {
     "name": "stderr",
     "output_type": "stream",
     "text": [
      "Training: 100%|██████████| 50/50 [02:38<00:00,  3.17s/Epochs]"
     ]
    },
    {
     "name": "stdout",
     "output_type": "stream",
     "text": [
      "0.00787277977913618\n"
     ]
    },
    {
     "name": "stderr",
     "output_type": "stream",
     "text": [
      "\n"
     ]
    }
   ],
   "source": [
    "_, _, trained_model, _ = train(train_loader, test_loader, args)"
   ]
  },
  {
   "cell_type": "code",
   "execution_count": null,
   "metadata": {},
   "outputs": [],
   "source": [
    "num_trials = 250\n",
    "node_configs = [(n, 16) for n in range(16, 52, 4)]\n",
    "node_configs = [(48, 16), (32, 32), (16, 48)]\n",
    "graph_configs = [\n",
    "    {\n",
    "        'graph_type': 'GM'\n",
    "    },\n",
    "    {\n",
    "        'graph_type': 'ER',\n",
    "        'p': 0.75,\n",
    "        'weighted': True\n",
    "    },\n",
    "    {\n",
    "        'graph_type': 'BA',\n",
    "        'ba_param': 4,\n",
    "        'weighted': True\n",
    "    },\n",
    "    {\n",
    "        'graph_type': 'GEOM',\n",
    "        'threshold': 0.2,\n",
    "        'scaling': 1 / np.sqrt(2),\n",
    "    }\n",
    "]\n",
    "\n",
    "def test_model(trained_model, num_trials, node_configs, graph_configs):\n",
    "    for m, n in node_configs:\n",
    "        for config in graph_configs:\n",
    "            print(m, n, config)\n",
    "            greedy_vals = []\n",
    "            learned_vals = []\n",
    "            for _ in range(num_trials):\n",
    "                A = gg.sample_bipartite_graph(m, n, **config)\n",
    "                p = [0.8 for _ in range(m)]\n",
    "                coin_flips = [np.random.binomial(1, _p) for _p in p]\n",
    "                all_nodes = np.arange(n + m + 1)\n",
    "                offline_nodes = frozenset(np.arange(n))\n",
    "                matching = []\n",
    "                value = 0\n",
    "                for t in range(m):\n",
    "                    if coin_flips[t]:\n",
    "                        input = gg._to_pyg_test(A, p, offline_nodes, t)\n",
    "                        pred = trained_model(input.x, input.edge_index, input.edge_attr, input.batch, input.graph_features)\n",
    "                        if pred.detach().numpy() <= 0.5:\n",
    "                            mask = input.neighbors.detach().numpy()[:A.shape[1]]\n",
    "                            if np.any(mask):\n",
    "                                chosen_index = np.argmax(A[t, :][mask])\n",
    "                                choice = all_nodes[input.neighbors][chosen_index]\n",
    "                                matching.append((t, choice))\n",
    "                                value += A[t, choice]\n",
    "                    \n",
    "                        offline_nodes = diff(offline_nodes, choice)\n",
    "\n",
    "                _, offline_opt = dp.offline_opt(A, coin_flips)\n",
    "                _, greed_value = dp.greedy(A, coin_flips, 0.0)\n",
    "                if offline_opt > 0:\n",
    "                    learned_vals.append(value / offline_opt)\n",
    "                    greedy_vals.append(greed_value / offline_opt)\n",
    "            \n",
    "            learned_mean = np.mean(learned_vals); greedy_mean = np.mean(greedy_vals)\n",
    "            learned_std = np.std(learned_vals, ddof=1); greedy_std = np.std(greedy_vals, ddof=1)\n",
    "            print(f\"Learned competitive ratio: {learned_mean} ± {2 * learned_std / np.sqrt(num_trials)}\")\n",
    "            print(f\"Greedy competitive ratio: {greedy_mean} ± {2 * greedy_std / np.sqrt(num_trials)}\")\n",
    "            print()\n",
    "\n",
    "test_model(trained_model, num_trials, node_configs, graph_configs)"
   ]
  },
  {
   "cell_type": "code",
   "execution_count": 25,
   "metadata": {},
   "outputs": [
    {
     "name": "stdout",
     "output_type": "stream",
     "text": [
      "48 12 {'graph_type': 'ER', 'p': 0.75, 'weighted': True}\n",
      "Learned competitive ratio: 0.9574933306983373 ± 0.0018458122938221262\n",
      "Greedy competitive ratio: 0.8079544354864452 ± 0.006539081425118263\n",
      "\n",
      "48 12 {'graph_type': 'BA', 'ba_param': 3, 'weighted': True}\n",
      "Learned competitive ratio: 0.9539008636604945 ± 0.003749800055346284\n",
      "Greedy competitive ratio: 0.7421485347514687 ± 0.0094833880780435\n",
      "\n",
      "48 12 {'graph_type': 'GEOM', 'threshold': 0.2, 'scaling': 0.7071067811865475}\n",
      "Learned competitive ratio: 0.8901478092909113 ± 0.0037024872141038024\n",
      "Greedy competitive ratio: 0.7761669677773101 ± 0.006054551271997401\n",
      "\n",
      "32 32 {'graph_type': 'ER', 'p': 0.75, 'weighted': True}\n",
      "Learned competitive ratio: 0.9694898162300155 ± 0.0020327045382768365\n",
      "Greedy competitive ratio: 0.9755950063085385 ± 0.0019026713749863524\n",
      "\n",
      "32 32 {'graph_type': 'BA', 'ba_param': 3, 'weighted': True}\n",
      "Learned competitive ratio: 0.9206662789499378 ± 0.004520443420423441\n",
      "Greedy competitive ratio: 0.8499216595260385 ± 0.006231946241725255\n",
      "\n",
      "32 32 {'graph_type': 'GEOM', 'threshold': 0.2, 'scaling': 0.7071067811865475}\n",
      "Learned competitive ratio: 0.9282240212981068 ± 0.004507064858607412\n",
      "Greedy competitive ratio: 0.9717358390581442 ± 0.0014599719706018032\n",
      "\n",
      "12 48 {'graph_type': 'ER', 'p': 0.75, 'weighted': True}\n",
      "Learned competitive ratio: 0.9415791272443066 ± 0.0033107785065888515\n",
      "Greedy competitive ratio: 0.9984840172207824 ± 0.00036588196768847495\n",
      "\n",
      "12 48 {'graph_type': 'BA', 'ba_param': 3, 'weighted': True}\n",
      "Learned competitive ratio: 0.9424721385252202 ± 0.0037116371573798013\n",
      "Greedy competitive ratio: 0.992043082313482 ± 0.0018172592344818093\n",
      "\n",
      "12 48 {'graph_type': 'GEOM', 'threshold': 0.2, 'scaling': 0.7071067811865475}\n",
      "Learned competitive ratio: 0.9240510529295326 ± 0.005120123338701718\n",
      "Greedy competitive ratio: 0.9907666791132301 ± 0.0010801667210679092\n",
      "\n"
     ]
    }
   ],
   "source": [
    "num_trials = 250\n",
    "node_configs = [(n, 16) for n in range(16, 52, 4)]\n",
    "node_configs = [(48, 12), (32, 32), (12, 48)]\n",
    "graph_configs = [\n",
    "    # {\n",
    "    #     'graph_type': 'GM'\n",
    "    # },\n",
    "    {\n",
    "        'graph_type': 'ER',\n",
    "        'p': 0.75,\n",
    "        'weighted': True\n",
    "    },\n",
    "    {\n",
    "        'graph_type': 'BA',\n",
    "        'ba_param': 3,\n",
    "        'weighted': True\n",
    "    },\n",
    "    {\n",
    "        'graph_type': 'GEOM',\n",
    "        'threshold': 0.2,\n",
    "        'scaling': 1 / np.sqrt(2),\n",
    "    }\n",
    "]\n",
    "\n",
    "def test_model(trained_model, num_trials, node_configs, graph_configs):\n",
    "    \n",
    "    for m, n in node_configs:\n",
    "        all_nodes = torch.arange(0, n + m + 1).to(device)\n",
    "\n",
    "        for config in graph_configs:\n",
    "            print(m, n, config)\n",
    "            greedy_vals = []\n",
    "            learned_vals = []\n",
    "            for _ in range(num_trials):\n",
    "                A = gg.sample_bipartite_graph(m, n, **config)\n",
    "                p = [0.8 for _ in range(m)]\n",
    "                coin_flips = [np.random.binomial(1, _p) for _p in p]\n",
    "                offline_nodes = frozenset(np.arange(n))\n",
    "                matching = []\n",
    "                value = 0\n",
    "                for t in range(m):\n",
    "                    if coin_flips[t]:\n",
    "                        input = gg._to_pyg_test(A, p, offline_nodes, t)\n",
    "                        input.to(device)\n",
    "                        pred = trained_model(input.x, input.edge_index, input.edge_attr, input.batch, input.graph_features)\n",
    "                        neighbors = input.neighbors.to(device)\n",
    "                        chosen_index = torch.argmax(pred[neighbors])\n",
    "                \n",
    "                        choice = all_nodes[neighbors][chosen_index].cpu().item()\n",
    "                        if choice < n:\n",
    "                            matching.append((t, choice))\n",
    "                            value += A[t, choice]\n",
    "                    \n",
    "                        offline_nodes = diff(offline_nodes, choice)\n",
    "\n",
    "                _, offline_opt = dp.offline_opt(A, coin_flips)\n",
    "                _, greed_value = dp.greedy(A, coin_flips, 0.0)\n",
    "                if offline_opt > 0:\n",
    "                    learned_vals.append(value / offline_opt)\n",
    "                    greedy_vals.append(greed_value / offline_opt)\n",
    "            \n",
    "            learned_mean = np.mean(learned_vals); greedy_mean = np.mean(greedy_vals)\n",
    "            learned_std = np.std(learned_vals, ddof=1); greedy_std = np.std(greedy_vals, ddof=1)\n",
    "            print(f\"Learned competitive ratio: {learned_mean} ± {2 * learned_std / np.sqrt(num_trials)}\")\n",
    "            print(f\"Greedy competitive ratio: {greedy_mean} ± {2 * greedy_std / np.sqrt(num_trials)}\")\n",
    "            print()\n",
    "\n",
    "test_model(trained_model, num_trials, node_configs, graph_configs)"
   ]
  },
  {
   "cell_type": "code",
   "execution_count": null,
   "metadata": {},
   "outputs": [],
   "source": [
    "\n",
    "\n",
    "def edge_weight_dist(config):\n",
    "  weights = []\n",
    "  for _ in range(100):\n",
    "    weight = gg.sample_bipartite_graph(8, 8, **config)\n",
    "    weight[weight>0] = 1\n",
    "    weights.append(weight.sum(axis=0))\n",
    "  return np.array(weights)"
   ]
  },
  {
   "cell_type": "code",
   "execution_count": null,
   "metadata": {},
   "outputs": [],
   "source": [
    "config = {\n",
    "        'graph_type': 'GEOM',\n",
    "        'threshold': 0.2,\n",
    "        'scaling': 1 / np.sqrt(2)\n",
    "    }\n",
    "edge_weight_dist(config).mean(axis=0)"
   ]
  },
  {
   "cell_type": "code",
   "execution_count": null,
   "metadata": {},
   "outputs": [],
   "source": [
    "config = {\n",
    "        'graph_type': 'GEOM',\n",
    "        'threshold': 0.2,\n",
    "        'scaling': 0.5\n",
    "    }\n",
    "edge_weight_dist(config)"
   ]
  },
  {
   "cell_type": "code",
   "execution_count": null,
   "metadata": {},
   "outputs": [],
   "source": [
    "import matplotlib.pyplot as plt\n",
    "outputs = [\n",
    "  (\n",
    "    [0.934, 0.919, 0.909, 0.910, 0.908, 0.905, 0.909, 0.909, 0.910],\n",
    "    [0.898, 0.867, 0.845, 0.838, 0.829, 0.798, 0.782, 0.763, 0.761],\n",
    "    'GMISSION'\n",
    "  ),\n",
    "  (\n",
    "    [0.915, 0.911, 0.934, 0.950, 0.962, 0.965, 0.965, 0.968, 0.969],\n",
    "    [0.956, 0.921, 0.888, 0.876, 0.864, 0.852, 0.847, 0.842, 0.846],\n",
    "    'ER'\n",
    "  ),\n",
    "  (\n",
    "    [0.909, 0.906, 0.918, 0.929, 0.942, 0.943, 0.952, 0.950, 0.955],\n",
    "    [0.875, 0.828, 0.821, 0.806, 0.796, 0.795, 0.788, 0.774, 0.774],\n",
    "    'BA'\n",
    "  ),\n",
    "  (\n",
    "    [0.859, 0.861, 0.882, 0.903, 0.930, 0.936, 0.949, 0.949, 0.953],\n",
    "    [0.961, 0.941, 0.905, 0.875, 0.855, 0.838, 0.825, 0.814, 0.804],\n",
    "    'GEOM'\n",
    "  ),\n",
    "]\n",
    "\n",
    "node_seq = [n/16 for n in range(16, 52, 4)]\n",
    "\n",
    "for output in outputs:\n",
    "    plt.plot(node_seq, output[0], label=f'GNN')\n",
    "    plt.plot(node_seq, output[1], label=f'Greedy')\n",
    "    plt.legend()\n",
    "    plt.title(output[2])\n",
    "    plt.xlabel('Offline/Online ratio')\n",
    "    plt.ylabel('Competitive ratio')\n",
    "    plt.show()"
   ]
  },
  {
   "cell_type": "code",
   "execution_count": null,
   "metadata": {},
   "outputs": [],
   "source": [
    "m = 10; n = 10; num_trials = 1\n",
    "\n",
    "# config = {\n",
    "#     'graph_type': 'ER',\n",
    "#     'p': 0.75,\n",
    "#     'weighted': True\n",
    "# }\n",
    "# config = {\n",
    "#         'graph_type': 'BA',\n",
    "#         'ba_param': 3,\n",
    "#         'weighted': True\n",
    "# }\n",
    "config = {\n",
    "    'graph_type': 'GEOM',\n",
    "    'threshold': 0.2,\n",
    "    'scaling': 1 / np.sqrt(2)\n",
    "}\n",
    "# config = {\n",
    "#         'graph_type': 'GM'\n",
    "# }\n",
    "def diagnose(hints, preds):\n",
    "    return np.max(hints) - hints[np.argmax(preds)]\n",
    "    \n",
    "lost_weights = []\n",
    "choices = []\n",
    "no_skips = []\n",
    "\n",
    "for i in range(num_trials):\n",
    "    A = gg.sample_bipartite_graph(m, n, **config)\n",
    "    p = [0.8 for _ in range(m)]\n",
    "    cache = dp.cache_stochastic_opt(A, p)\n",
    "    coin_flips = [np.random.binomial(1, _p) for _p in p]\n",
    "    all_nodes = np.arange(n + m + 1)\n",
    "    offline_nodes = frozenset(np.arange(n))\n",
    "    OPT = cache[0][offline_nodes][0]\n",
    "    matching = []\n",
    "    value = 0\n",
    "    for t in range(m):\n",
    "        if coin_flips[t]:\n",
    "            input = gg._to_pyg_test(A, p, offline_nodes, t)\n",
    "            hints = dp.one_step_stochastic_opt(A, offline_nodes, t, cache)\n",
    "            opt_index = np.argmax(hints)\n",
    "            pred = trained_model(input.x, input.edge_index, input.edge_attr, input.batch, input.graph_features)\n",
    "            preds = pred[input.neighbors].detach().numpy()\n",
    "            chosen_index = np.argmax(preds)\n",
    "            choice = all_nodes[input.neighbors][chosen_index]\n",
    "            lost_weight = diagnose(hints, preds) / OPT\n",
    "\n",
    "            #print(hints, preds, A[t,:][input.neighbors.detach().numpy()[:12]])\n",
    "            choices.append(opt_index == chosen_index)\n",
    "            print(opt_index, chosen_index, hints[opt_index], hints[chosen_index], len(hints) - 1)\n",
    "            no_skips.append(chosen_index == len(hints) - 1)\n",
    "\n",
    "            lost_weights.append(lost_weight)\n",
    "            #print(f\"Lost weight: {lost_weight}\")\n",
    "            \n",
    "            \n",
    "            if choice < n:            \n",
    "                matching.append((t, choice))\n",
    "                value += A[t, choice]\n",
    "\n",
    "        \n",
    "            offline_nodes = diff(offline_nodes, choice)\n",
    "    greedy_matching, greedy_val = dp.greedy(A, coin_flips, 0)\n",
    "    # print(len(matching), value, len(greedy_matching), greedy_val, matching, greedy_matching)\n",
    "    # print(A[0,0])"
   ]
  },
  {
   "cell_type": "code",
   "execution_count": null,
   "metadata": {},
   "outputs": [],
   "source": [
    "np.mean(no_skips)"
   ]
  },
  {
   "cell_type": "code",
   "execution_count": null,
   "metadata": {},
   "outputs": [],
   "source": [
    "np.mean(choices)"
   ]
  },
  {
   "cell_type": "code",
   "execution_count": null,
   "metadata": {},
   "outputs": [],
   "source": [
    "plt.hist(lost_weights, bins=25)\n",
    "print(np.mean(lost_weights).round(3), np.std(lost_weights).round(3), len(lost_weights) / 250)\n",
    "print(np.quantile(lost_weights, [0.1 * x for x in range(1,10)]))\n",
    "plt.show()"
   ]
  },
  {
   "cell_type": "code",
   "execution_count": null,
   "metadata": {},
   "outputs": [],
   "source": [
    "plt.hist(lost_weights, bins=25)\n",
    "print(np.mean(lost_weights).round(3), np.std(lost_weights).round(3), len(lost_weights))\n",
    "print(np.quantile(lost_weights, [0.1 * x for x in range(1,10)]))\n",
    "plt.show()"
   ]
  },
  {
   "cell_type": "code",
   "execution_count": null,
   "metadata": {},
   "outputs": [],
   "source": [
    "#Need to predict skip more often?\n",
    "for t in range(m):\n",
    "  print(t, np.mean((record[0][t])).round(3), np.mean(record[1][t]).round(3), np.mean(record[2][t]).round(3))\n",
    "  # plt.bar(labels, vals)\n",
    "  # plt.xticks(rotation=45)\n",
    "  # plt.show()"
   ]
  },
  {
   "cell_type": "markdown",
   "metadata": {},
   "source": [
    "0 0.434 0.184 -0.064\n",
    "1 0.46 0.177 -0.068\n",
    "2 0.515 0.178 -0.059\n",
    "3 0.545 0.173 -0.066\n",
    "4 0.677 0.144 -0.071\n",
    "5 0.99 0.094 -0.0\n",
    "\n",
    "0 0.5 0.11 -0.049\n",
    "1 0.527 0.113 -0.038\n",
    "2 0.465 0.105 -0.046\n",
    "3 0.547 0.091 -0.036\n",
    "4 0.552 0.079 -0.04\n",
    "5 0.99 0.075 -0.0\n",
    "\n",
    "0 0.522 0.115 -0.038\n",
    "1 0.438 0.106 -0.046\n",
    "2 0.576 0.105 -0.058\n",
    "3 0.505 0.093 -0.061\n",
    "4 0.626 0.079 -0.045\n",
    "5 0.99 0.071 -0.0"
   ]
  },
  {
   "cell_type": "code",
   "execution_count": null,
   "metadata": {},
   "outputs": [],
   "source": [
    "m = 14; n = 8; num_trials = 100\n",
    "\n",
    "# config = {\n",
    "#     'graph_type': 'ER',\n",
    "#     'p': 0.75,\n",
    "#     'weighted': True\n",
    "# }\n",
    "config = {\n",
    "    'graph_type': 'GEOM',\n",
    "    'threshold': 0.2,\n",
    "    'scaling': 1 / np.sqrt(2)\n",
    "}\n",
    "def error_code(chosen_index, pred_index, length):\n",
    "    if chosen_index == pred_index and chosen_index == length - 1:\n",
    "        return \"Correct\"\n",
    "    elif chosen_index == pred_index:\n",
    "        return \"Correct\"\n",
    "    elif chosen_index == length - 1:\n",
    "        return \"Incorrect\"\n",
    "    elif pred_index == length - 1:\n",
    "        return \"Incorrect\"\n",
    "    else:\n",
    "        return \"Incorrect\"\n",
    "    \n",
    "record = ([[] for _ in range(m)], [[] for _ in range(m)], [[] for _ in range(m)])\n",
    "greedy_vals = []\n",
    "learned_vals = []\n",
    "for i in range(num_trials):\n",
    "    A = gg.sample_bipartite_graph(m, n, **config)\n",
    "    p = [1 for _ in range(m)]\n",
    "    cache = dp.cache_stochastic_opt(A, p)\n",
    "    coin_flips = [np.random.binomial(1, _p) for _p in p]\n",
    "    all_nodes = np.arange(n + m + 1)\n",
    "    offline_nodes = frozenset(np.arange(n))\n",
    "    matching = []\n",
    "    value = 0\n",
    "    for t in range(m):\n",
    "        if coin_flips[t]:\n",
    "            input = gg._to_pyg_test(A, p, offline_nodes, t)\n",
    "            pred = trained_model(input.x, input.edge_index, input.edge_attr, input.graph_features)\n",
    "            \n",
    "            hints = dp.one_step_stochastic_opt(A, offline_nodes, t, cache)\n",
    "            hints = np.max(hints) - hints\n",
    "            # print(t)\n",
    "            # print(pred[input.neighbors].squeeze().detach().numpy())\n",
    "            # print(hints)\n",
    "            # print()\n",
    "            chosen_index = np.argmin(pred[input.neighbors].detach().numpy())\n",
    "            opt_index = np.argmin(hints)\n",
    "            choice = all_nodes[input.neighbors][chosen_index]\n",
    "            correct = (chosen_index == opt_index)\n",
    "            reduction = hints[opt_index] - hints[chosen_index]\n",
    "            record[0][t].append(error_code(opt_index, chosen_index, len(hints)))\n",
    "            record[1][t].append(reduction)\n",
    "            record[2][t].append(np.sum(input.neighbors.detach().numpy()))\n",
    "            if choice < n:\n",
    "                matching.append((t, choice))\n",
    "                value += A[t, choice]\n",
    "        \n",
    "            offline_nodes = diff(offline_nodes, choice)\n",
    "\n",
    "   \n",
    "    opt_matching, opt_value = dp.stochastic_opt(A, coin_flips, cache)\n",
    "    _, greed_value = dp.greedy(A, coin_flips, 0)\n",
    "    learned_vals.append(value / opt_value)\n",
    "    greedy_vals.append(greed_value / opt_value)"
   ]
  },
  {
   "cell_type": "code",
   "execution_count": null,
   "metadata": {},
   "outputs": [],
   "source": [
    "#Need to predict skip more often?\n",
    "import matplotlib.pyplot as plt\n",
    "for t in range(m):\n",
    "  labels, vals =  np.unique(record[0][t], return_counts=True)\n",
    "  print(t, np.mean(np.array(record[0][t]) == 'Correct'), np.mean(record[2][t]))\n",
    "  # plt.bar(labels, vals)\n",
    "  # plt.xticks(rotation=45)\n",
    "  # plt.show()"
   ]
  },
  {
   "cell_type": "markdown",
   "metadata": {},
   "source": [
    "0 0.59 8.18\n",
    "1 0.51 7.69\n",
    "2 0.54 7.35\n",
    "3 0.64 6.55\n",
    "4 0.54 6.2\n",
    "5 0.69 5.54\n",
    "6 0.68 5.12\n",
    "7 0.64 4.61\n",
    "8 0.63 4.19\n",
    "9 0.7 3.78\n",
    "10 0.67 3.31\n",
    "11 0.74 2.65\n",
    "12 0.83 2.32\n",
    "13 1.0 1.9"
   ]
  },
  {
   "cell_type": "code",
   "execution_count": null,
   "metadata": {},
   "outputs": [],
   "source": [
    "import matplotlib.pyplot as plt\n",
    "\n",
    "for i in range(len(record[0])):\n",
    "    print(f\"Node: {i}, average reduction: {np.mean(record[1][i])}\")\n",
    "    print(f\"Node: {i}, average neighbors: {np.mean(record[2][i])}\")\n",
    "    plt.hist(record[1][i], bins=10)\n",
    "    plt.show()"
   ]
  },
  {
   "cell_type": "code",
   "execution_count": null,
   "metadata": {},
   "outputs": [],
   "source": [
    "matching"
   ]
  },
  {
   "cell_type": "code",
   "execution_count": null,
   "metadata": {},
   "outputs": [],
   "source": [
    "opt_matching"
   ]
  },
  {
   "cell_type": "code",
   "execution_count": null,
   "metadata": {},
   "outputs": [],
   "source": [
    "value, opt_value"
   ]
  },
  {
   "cell_type": "code",
   "execution_count": null,
   "metadata": {},
   "outputs": [],
   "source": [
    "greed_value"
   ]
  },
  {
   "cell_type": "code",
   "execution_count": null,
   "metadata": {},
   "outputs": [],
   "source": []
  },
  {
   "cell_type": "code",
   "execution_count": null,
   "metadata": {},
   "outputs": [],
   "source": [
    "def greedy_test(num_trials, node_configs, graph_configs, r):\n",
    "    matched_weights = []\n",
    "    for m, n in node_configs:\n",
    "        for config in graph_configs:\n",
    "            vals = []\n",
    "            print(m, n, config)\n",
    "            for _ in range(num_trials):\n",
    "                A = gg.sample_bipartite_graph(m, n, **config)\n",
    "                p = [0.8 for _ in range(m)]\n",
    "                coin_flips = [np.random.binomial(1, _p) for _p in p]\n",
    "                matching, val = dp.greedy(A, coin_flips, r)\n",
    "                matched_weight = [A[t, i] for (t, i) in matching]\n",
    "                matched_weights.append(matched_weight)\n",
    "                vals.append(val / dp.offline_opt(A, coin_flips)[1])\n",
    "            mean_ratio = np.mean(vals)\n",
    "            std_ratio = np.std(vals, ddof=1)\n",
    "            print(f\"Stoch opt competitive ratio: {np.round(mean_ratio, 3)} ± {np.round(2 * std_ratio / np.sqrt(num_trials), 3)}\")\n",
    "            print()\n",
    "    return np.array(matched_weights)\n",
    "\n",
    "\n",
    "num_trials = 1000\n",
    "node_configs = [(50, 10)]\n",
    "graph_configs = [\n",
    "    {\n",
    "        'graph_type': 'GEOM',\n",
    "        'threshold': 0.2,\n",
    "        'scaling': 1 / np.sqrt(2)\n",
    "    }\n",
    "]\n",
    "\n"
   ]
  },
  {
   "cell_type": "code",
   "execution_count": null,
   "metadata": {},
   "outputs": [],
   "source": [
    "matched_weights = greedy_test(num_trials, node_configs, graph_configs, 0)\n",
    "matched_weights.mean(axis=0)"
   ]
  },
  {
   "cell_type": "code",
   "execution_count": null,
   "metadata": {},
   "outputs": [],
   "source": [
    "matched_weights = greedy_test(num_trials, node_configs, graph_configs, 0)\n",
    "matched_weights.mean(axis=0)"
   ]
  },
  {
   "cell_type": "code",
   "execution_count": null,
   "metadata": {},
   "outputs": [],
   "source": [
    "greedy_test(num_trials, node_configs, graph_configs, 0)"
   ]
  },
  {
   "cell_type": "code",
   "execution_count": null,
   "metadata": {},
   "outputs": [],
   "source": [
    "greedy_test(num_trials, node_configs, graph_configs, 0.25)"
   ]
  },
  {
   "cell_type": "code",
   "execution_count": null,
   "metadata": {},
   "outputs": [],
   "source": [
    "greedy_test(num_trials, node_configs, graph_configs, 0.5)"
   ]
  },
  {
   "cell_type": "code",
   "execution_count": null,
   "metadata": {},
   "outputs": [],
   "source": [
    "greedy_test(num_trials, node_configs, graph_configs, 0.75)"
   ]
  },
  {
   "cell_type": "code",
   "execution_count": null,
   "metadata": {},
   "outputs": [],
   "source": [
    "m = 5; n = 10\n",
    "config = {\n",
    "    'graph_type': 'GEOM',\n",
    "    'threshold': 0.2,\n",
    "    'scaling': 1 / np.sqrt(2)\n",
    "}\n",
    "\n",
    "A = gg.sample_bipartite_graph(m, n, **config)\n",
    "for t in range(m):\n",
    "  print(np.mean(A[t, :]), np.std(A[t, :]))"
   ]
  },
  {
   "cell_type": "code",
   "execution_count": null,
   "metadata": {},
   "outputs": [],
   "source": [
    "config = {\n",
    "    'graph_type': 'ER',\n",
    "    'p': 0.75,\n",
    "    'weighted': True\n",
    "}\n",
    "\n",
    "A = gg.sample_bipartite_graph(m, n, **config)\n",
    "for t in range(m):\n",
    "  print(np.mean(A[t, :]), np.std(A[t, :]))"
   ]
  },
  {
   "cell_type": "code",
   "execution_count": null,
   "metadata": {},
   "outputs": [],
   "source": [
    "config = {\n",
    "    'graph_type': 'BA',\n",
    "    'ba_param': 4,\n",
    "    'weighted': True\n",
    "}\n",
    "\n",
    "A = gg.sample_bipartite_graph(m, n, **config)\n",
    "weights = A.flatten()\n",
    "for t in range(m):\n",
    "  print(np.mean(A[t, :]), np.std(A[t, :]))"
   ]
  },
  {
   "cell_type": "code",
   "execution_count": null,
   "metadata": {},
   "outputs": [],
   "source": []
  }
 ],
 "metadata": {
  "kernelspec": {
   "display_name": "clrs",
   "language": "python",
   "name": "python3"
  },
  "language_info": {
   "codemirror_mode": {
    "name": "ipython",
    "version": 3
   },
   "file_extension": ".py",
   "mimetype": "text/x-python",
   "name": "python",
   "nbconvert_exporter": "python",
   "pygments_lexer": "ipython3",
   "version": "3.10.6"
  }
 },
 "nbformat": 4,
 "nbformat_minor": 2
}
