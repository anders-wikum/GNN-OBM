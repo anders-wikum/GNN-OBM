{
 "cells": [
  {
   "cell_type": "code",
   "execution_count": 1,
   "metadata": {},
   "outputs": [],
   "source": [
    "import graph_generator as gg\n",
    "import obm_dp as dp\n",
    "import numpy as np\n",
    "import matplotlib.pyplot as plt\n",
    "from torch_geometric.loader import DataLoader\n",
    "from torch_geometric.data import InMemoryDataset\n",
    "import torch\n",
    "import math\n",
    "import time\n",
    "from util import diff\n",
    "from gnn_library.util import train, objectview\n",
    "\n",
    "%load_ext autoreload\n",
    "%autoreload 2"
   ]
  },
  {
   "cell_type": "code",
   "execution_count": 2,
   "metadata": {},
   "outputs": [
    {
     "name": "stdout",
     "output_type": "stream",
     "text": [
      "PyTorch has version 2.0.0+cu117\n",
      "Using device: cuda\n"
     ]
    }
   ],
   "source": [
    "device = torch.device('cuda' if torch.cuda.is_available() else 'cpu')\n",
    "print(\"PyTorch has version {}\".format(torch.__version__))\n",
    "print('Using device:', device)"
   ]
  },
  {
   "cell_type": "code",
   "execution_count": 8,
   "metadata": {},
   "outputs": [],
   "source": [
    "args = {\n",
    "    'processor':         'GENConv',\n",
    "    'head':              'regression',\n",
    "    'num_layers':        2,\n",
    "    'num_mlp_layers':    2,\n",
    "    'aggr':              'max',\n",
    "    'batch_size':        32,\n",
    "    'node_feature_dim':  4,\n",
    "    'edge_feature_dim':  1,\n",
    "    'graph_feature_dim': 1,\n",
    "    'hidden_dim':        64,\n",
    "    'dropout':           0.35,\n",
    "    'epochs':            50,\n",
    "    'opt':               'adam',\n",
    "    'opt_scheduler':     'none',\n",
    "    'opt_restart':       0,\n",
    "    'weight_decay':      5e-3,\n",
    "    'lr':                0.0001,\n",
    "    'device':            device\n",
    "}\n",
    "args = objectview(args)\n",
    "\n",
    "m = 10; n = 6; train_num = 100; test_num = 30\n",
    "\n",
    "er_config = {\n",
    "    'graph_type': 'ER',\n",
    "    'p': 1,\n",
    "    'weighted': True\n",
    "}\n",
    "ba_config = {\n",
    "    'graph_type': 'BA',\n",
    "    'ba_param': 3,\n",
    "    'weighted': True\n",
    "}\n",
    "geom_config = {\n",
    "    'graph_type': 'GEOM',\n",
    "    'threshold': 0.2,\n",
    "    'scaling': 1 / np.sqrt(2)\n",
    "}\n",
    "\n",
    "class Dataset(InMemoryDataset):\n",
    "\n",
    "    def __init__(self, data_list):\n",
    "        super().__init__(None)\n",
    "        self.data, self.slices = self.collate(data_list)\n",
    "\n",
    "\n",
    "train_dataset = Dataset(\n",
    "    [\n",
    "        *gg.generate_examples(train_num, 10, 6, np.random.uniform(0.5, 1, m), args.head, **er_config),\n",
    "        *gg.generate_examples(train_num, 10, 6, np.random.uniform(0.5, 1, m), args.head, **ba_config),\n",
    "        *gg.generate_examples(2 * train_num, 10, 6, np.random.uniform(0.5, 1, m), args.head, **geom_config),\n",
    "    ]\n",
    ")\n",
    "\n",
    "test_dataset = Dataset(\n",
    "    [\n",
    "        *gg.generate_examples(test_num, 10, 6, np.random.uniform(0.5, 1, m), args.head, **er_config),\n",
    "        *gg.generate_examples(test_num, 10, 6, np.random.uniform(0.5, 1, m), args.head, **ba_config),\n",
    "        *gg.generate_examples(2 * test_num, 10, 6, np.random.uniform(0.5, 1, m), args.head, **geom_config)\n",
    "    ]\n",
    ")\n",
    "\n",
    "train_loader = DataLoader(\n",
    "    train_dataset,\n",
    "    batch_size=args.batch_size,\n",
    "    shuffle=True,\n",
    "    num_workers=16\n",
    ")\n",
    "\n",
    "test_loader = DataLoader(\n",
    "    test_dataset,\n",
    "    batch_size=args.batch_size,\n",
    "    shuffle=True,\n",
    "    num_workers=16\n",
    ")\n",
    "\n"
   ]
  },
  {
   "cell_type": "code",
   "execution_count": 9,
   "metadata": {},
   "outputs": [
    {
     "name": "stderr",
     "output_type": "stream",
     "text": [
      "Training:   0%|          | 0/50 [00:00<?, ?Epochs/s]"
     ]
    },
    {
     "name": "stdout",
     "output_type": "stream",
     "text": [
      "0.0023848596392199396\n"
     ]
    },
    {
     "name": "stderr",
     "output_type": "stream",
     "text": [
      "Training:   2%|▏         | 1/50 [00:05<04:10,  5.12s/Epochs]"
     ]
    },
    {
     "name": "stdout",
     "output_type": "stream",
     "text": [
      "TEST LOSS: 0.0006865332252345979\n"
     ]
    },
    {
     "name": "stderr",
     "output_type": "stream",
     "text": [
      "Training:   4%|▍         | 2/50 [00:08<03:12,  4.01s/Epochs]"
     ]
    },
    {
     "name": "stdout",
     "output_type": "stream",
     "text": [
      "0.0009924940285272897\n",
      "0.0007363361925818026\n"
     ]
    },
    {
     "name": "stderr",
     "output_type": "stream",
     "text": [
      "Training:   6%|▌         | 3/50 [00:12<03:20,  4.28s/Epochs]"
     ]
    },
    {
     "name": "stdout",
     "output_type": "stream",
     "text": [
      "TEST LOSS: 0.000382967438781634\n"
     ]
    },
    {
     "name": "stderr",
     "output_type": "stream",
     "text": [
      "Training:   8%|▊         | 4/50 [00:16<02:57,  3.86s/Epochs]"
     ]
    },
    {
     "name": "stdout",
     "output_type": "stream",
     "text": [
      "0.0006141193683724851\n",
      "0.0005446414137259126\n"
     ]
    },
    {
     "name": "stderr",
     "output_type": "stream",
     "text": [
      "Training:  10%|█         | 5/50 [00:20<03:05,  4.12s/Epochs]"
     ]
    },
    {
     "name": "stdout",
     "output_type": "stream",
     "text": [
      "TEST LOSS: 0.0003246059932280332\n"
     ]
    },
    {
     "name": "stderr",
     "output_type": "stream",
     "text": [
      "Training:  12%|█▏        | 6/50 [00:23<02:47,  3.81s/Epochs]"
     ]
    },
    {
     "name": "stdout",
     "output_type": "stream",
     "text": [
      "0.00047925590164959433\n",
      "0.0004616518437396735\n"
     ]
    },
    {
     "name": "stderr",
     "output_type": "stream",
     "text": [
      "Training:  14%|█▍        | 7/50 [00:28<02:54,  4.07s/Epochs]"
     ]
    },
    {
     "name": "stdout",
     "output_type": "stream",
     "text": [
      "TEST LOSS: 0.0003144670627079904\n"
     ]
    },
    {
     "name": "stderr",
     "output_type": "stream",
     "text": [
      "Training:  16%|█▌        | 8/50 [00:31<02:37,  3.75s/Epochs]"
     ]
    },
    {
     "name": "stdout",
     "output_type": "stream",
     "text": [
      "0.0004353402957785875\n",
      "0.0004020233637420461\n"
     ]
    },
    {
     "name": "stderr",
     "output_type": "stream",
     "text": [
      "Training:  18%|█▊        | 9/50 [00:36<02:43,  3.98s/Epochs]"
     ]
    },
    {
     "name": "stdout",
     "output_type": "stream",
     "text": [
      "TEST LOSS: 0.0002902722917497158\n"
     ]
    },
    {
     "name": "stderr",
     "output_type": "stream",
     "text": [
      "Training:  20%|██        | 10/50 [00:39<02:30,  3.75s/Epochs]"
     ]
    },
    {
     "name": "stdout",
     "output_type": "stream",
     "text": [
      "0.0003817321601090953\n",
      "0.0003658879526192322\n"
     ]
    },
    {
     "name": "stderr",
     "output_type": "stream",
     "text": [
      "Training:  22%|██▏       | 11/50 [00:44<02:37,  4.03s/Epochs]"
     ]
    },
    {
     "name": "stdout",
     "output_type": "stream",
     "text": [
      "TEST LOSS: 0.000325417349813506\n"
     ]
    },
    {
     "name": "stderr",
     "output_type": "stream",
     "text": [
      "Training:  24%|██▍       | 12/50 [00:47<02:24,  3.81s/Epochs]"
     ]
    },
    {
     "name": "stdout",
     "output_type": "stream",
     "text": [
      "0.00034610114630777386\n",
      "0.000342054279637523\n"
     ]
    },
    {
     "name": "stderr",
     "output_type": "stream",
     "text": [
      "Training:  26%|██▌       | 13/50 [00:52<02:34,  4.17s/Epochs]"
     ]
    },
    {
     "name": "stdout",
     "output_type": "stream",
     "text": [
      "TEST LOSS: 0.0002674647548701614\n"
     ]
    },
    {
     "name": "stderr",
     "output_type": "stream",
     "text": [
      "Training:  28%|██▊       | 14/50 [00:55<02:19,  3.88s/Epochs]"
     ]
    },
    {
     "name": "stdout",
     "output_type": "stream",
     "text": [
      "0.000332185422652401\n",
      "0.00032959099754225463\n"
     ]
    },
    {
     "name": "stderr",
     "output_type": "stream",
     "text": [
      "Training:  30%|███       | 15/50 [01:00<02:23,  4.11s/Epochs]"
     ]
    },
    {
     "name": "stdout",
     "output_type": "stream",
     "text": [
      "TEST LOSS: 0.00030480517307296395\n"
     ]
    },
    {
     "name": "stderr",
     "output_type": "stream",
     "text": [
      "Training:  32%|███▏      | 16/50 [01:03<02:11,  3.87s/Epochs]"
     ]
    },
    {
     "name": "stdout",
     "output_type": "stream",
     "text": [
      "0.0003023358945501968\n",
      "0.0003012086657108739\n"
     ]
    },
    {
     "name": "stderr",
     "output_type": "stream",
     "text": [
      "Training:  34%|███▍      | 17/50 [01:08<02:16,  4.14s/Epochs]"
     ]
    },
    {
     "name": "stdout",
     "output_type": "stream",
     "text": [
      "TEST LOSS: 0.00028444884810596704\n"
     ]
    },
    {
     "name": "stderr",
     "output_type": "stream",
     "text": [
      "Training:  36%|███▌      | 18/50 [01:11<02:03,  3.85s/Epochs]"
     ]
    },
    {
     "name": "stdout",
     "output_type": "stream",
     "text": [
      "0.00028649009973742066\n",
      "0.0002821151226526126\n"
     ]
    },
    {
     "name": "stderr",
     "output_type": "stream",
     "text": [
      "Training:  38%|███▊      | 19/50 [01:16<02:10,  4.21s/Epochs]"
     ]
    },
    {
     "name": "stdout",
     "output_type": "stream",
     "text": [
      "TEST LOSS: 0.00024091164232231677\n"
     ]
    },
    {
     "name": "stderr",
     "output_type": "stream",
     "text": [
      "Training:  40%|████      | 20/50 [01:19<01:56,  3.89s/Epochs]"
     ]
    },
    {
     "name": "stdout",
     "output_type": "stream",
     "text": [
      "0.0002741005547577515\n",
      "0.0002781282716896385\n"
     ]
    },
    {
     "name": "stderr",
     "output_type": "stream",
     "text": [
      "Training:  42%|████▏     | 21/50 [01:24<02:01,  4.19s/Epochs]"
     ]
    },
    {
     "name": "stdout",
     "output_type": "stream",
     "text": [
      "TEST LOSS: 0.00023215966939460486\n"
     ]
    },
    {
     "name": "stderr",
     "output_type": "stream",
     "text": [
      "Training:  44%|████▍     | 22/50 [01:27<01:49,  3.93s/Epochs]"
     ]
    },
    {
     "name": "stdout",
     "output_type": "stream",
     "text": [
      "0.0002688418000470847\n",
      "0.0002643157560378313\n"
     ]
    },
    {
     "name": "stderr",
     "output_type": "stream",
     "text": [
      "Training:  46%|████▌     | 23/50 [01:32<01:52,  4.17s/Epochs]"
     ]
    },
    {
     "name": "stdout",
     "output_type": "stream",
     "text": [
      "TEST LOSS: 0.00027396815130487084\n"
     ]
    },
    {
     "name": "stderr",
     "output_type": "stream",
     "text": [
      "Training:  48%|████▊     | 24/50 [01:35<01:40,  3.86s/Epochs]"
     ]
    },
    {
     "name": "stdout",
     "output_type": "stream",
     "text": [
      "0.00025941955368034543\n",
      "0.0002443485833937302\n"
     ]
    },
    {
     "name": "stderr",
     "output_type": "stream",
     "text": [
      "Training:  50%|█████     | 25/50 [01:40<01:42,  4.10s/Epochs]"
     ]
    },
    {
     "name": "stdout",
     "output_type": "stream",
     "text": [
      "TEST LOSS: 0.0003197547048330307\n"
     ]
    },
    {
     "name": "stderr",
     "output_type": "stream",
     "text": [
      "Training:  52%|█████▏    | 26/50 [01:43<01:31,  3.81s/Epochs]"
     ]
    },
    {
     "name": "stdout",
     "output_type": "stream",
     "text": [
      "0.000252451944979839\n",
      "0.0002473373253596947\n"
     ]
    },
    {
     "name": "stderr",
     "output_type": "stream",
     "text": [
      "Training:  54%|█████▍    | 27/50 [01:48<01:32,  4.04s/Epochs]"
     ]
    },
    {
     "name": "stdout",
     "output_type": "stream",
     "text": [
      "TEST LOSS: 0.0003376150853000581\n"
     ]
    },
    {
     "name": "stderr",
     "output_type": "stream",
     "text": [
      "Training:  56%|█████▌    | 28/50 [01:51<01:23,  3.80s/Epochs]"
     ]
    },
    {
     "name": "stdout",
     "output_type": "stream",
     "text": [
      "0.00024095870193559677\n",
      "0.00024357373593375086\n"
     ]
    },
    {
     "name": "stderr",
     "output_type": "stream",
     "text": [
      "Training:  58%|█████▊    | 29/50 [01:55<01:24,  4.01s/Epochs]"
     ]
    },
    {
     "name": "stdout",
     "output_type": "stream",
     "text": [
      "TEST LOSS: 0.0001868558319984004\n"
     ]
    },
    {
     "name": "stderr",
     "output_type": "stream",
     "text": [
      "Training:  60%|██████    | 30/50 [01:58<01:14,  3.75s/Epochs]"
     ]
    },
    {
     "name": "stdout",
     "output_type": "stream",
     "text": [
      "0.00023891106015071272\n",
      "0.00023491662682499737\n"
     ]
    },
    {
     "name": "stderr",
     "output_type": "stream",
     "text": [
      "Training:  62%|██████▏   | 31/50 [02:03<01:17,  4.07s/Epochs]"
     ]
    },
    {
     "name": "stdout",
     "output_type": "stream",
     "text": [
      "TEST LOSS: 0.00022785244800616056\n"
     ]
    },
    {
     "name": "stderr",
     "output_type": "stream",
     "text": [
      "Training:  64%|██████▍   | 32/50 [02:07<01:10,  3.89s/Epochs]"
     ]
    },
    {
     "name": "stdout",
     "output_type": "stream",
     "text": [
      "0.00024231763230636715\n",
      "0.00023374981782399117\n"
     ]
    },
    {
     "name": "stderr",
     "output_type": "stream",
     "text": [
      "Training:  66%|██████▌   | 33/50 [02:12<01:11,  4.18s/Epochs]"
     ]
    },
    {
     "name": "stdout",
     "output_type": "stream",
     "text": [
      "TEST LOSS: 0.0002962882281281054\n"
     ]
    },
    {
     "name": "stderr",
     "output_type": "stream",
     "text": [
      "Training:  68%|██████▊   | 34/50 [02:15<01:02,  3.94s/Epochs]"
     ]
    },
    {
     "name": "stdout",
     "output_type": "stream",
     "text": [
      "0.0002304593026638031\n",
      "0.0002347394634853117\n"
     ]
    },
    {
     "name": "stderr",
     "output_type": "stream",
     "text": [
      "Training:  70%|███████   | 35/50 [02:20<01:02,  4.16s/Epochs]"
     ]
    },
    {
     "name": "stdout",
     "output_type": "stream",
     "text": [
      "TEST LOSS: 0.0001836655574152246\n"
     ]
    },
    {
     "name": "stderr",
     "output_type": "stream",
     "text": [
      "Training:  72%|███████▏  | 36/50 [02:23<00:53,  3.85s/Epochs]"
     ]
    },
    {
     "name": "stdout",
     "output_type": "stream",
     "text": [
      "0.00022754381998674945\n",
      "0.0002344367916812189\n"
     ]
    },
    {
     "name": "stderr",
     "output_type": "stream",
     "text": [
      "Training:  74%|███████▍  | 37/50 [02:27<00:53,  4.09s/Epochs]"
     ]
    },
    {
     "name": "stdout",
     "output_type": "stream",
     "text": [
      "TEST LOSS: 0.00023548954050056636\n"
     ]
    },
    {
     "name": "stderr",
     "output_type": "stream",
     "text": [
      "Training:  76%|███████▌  | 38/50 [02:31<00:45,  3.82s/Epochs]"
     ]
    },
    {
     "name": "stdout",
     "output_type": "stream",
     "text": [
      "0.000214413472043816\n",
      "0.00022547433408908545\n"
     ]
    },
    {
     "name": "stderr",
     "output_type": "stream",
     "text": [
      "Training:  78%|███████▊  | 39/50 [02:35<00:44,  4.06s/Epochs]"
     ]
    },
    {
     "name": "stdout",
     "output_type": "stream",
     "text": [
      "TEST LOSS: 0.00028124675736762583\n"
     ]
    },
    {
     "name": "stderr",
     "output_type": "stream",
     "text": [
      "Training:  80%|████████  | 40/50 [02:39<00:38,  3.85s/Epochs]"
     ]
    },
    {
     "name": "stdout",
     "output_type": "stream",
     "text": [
      "0.0002140045751584694\n",
      "0.0002195882091182284\n"
     ]
    },
    {
     "name": "stderr",
     "output_type": "stream",
     "text": [
      "Training:  82%|████████▏ | 41/50 [02:43<00:36,  4.08s/Epochs]"
     ]
    },
    {
     "name": "stdout",
     "output_type": "stream",
     "text": [
      "TEST LOSS: 0.0003693867474794388\n"
     ]
    },
    {
     "name": "stderr",
     "output_type": "stream",
     "text": [
      "Training:  84%|████████▍ | 42/50 [02:46<00:30,  3.83s/Epochs]"
     ]
    },
    {
     "name": "stdout",
     "output_type": "stream",
     "text": [
      "0.0002239495879621245\n",
      "0.00021239602431887762\n"
     ]
    },
    {
     "name": "stderr",
     "output_type": "stream",
     "text": [
      "Training:  86%|████████▌ | 43/50 [02:51<00:28,  4.05s/Epochs]"
     ]
    },
    {
     "name": "stdout",
     "output_type": "stream",
     "text": [
      "TEST LOSS: 0.00022296175302471966\n"
     ]
    },
    {
     "name": "stderr",
     "output_type": "stream",
     "text": [
      "Training:  88%|████████▊ | 44/50 [02:54<00:23,  3.86s/Epochs]"
     ]
    },
    {
     "name": "stdout",
     "output_type": "stream",
     "text": [
      "0.00021453417505836115\n",
      "0.00021701761486474426\n"
     ]
    },
    {
     "name": "stderr",
     "output_type": "stream",
     "text": [
      "Training:  90%|█████████ | 45/50 [02:59<00:20,  4.10s/Epochs]"
     ]
    },
    {
     "name": "stdout",
     "output_type": "stream",
     "text": [
      "TEST LOSS: 0.00023755469010211527\n"
     ]
    },
    {
     "name": "stderr",
     "output_type": "stream",
     "text": [
      "Training:  92%|█████████▏| 46/50 [03:03<00:15,  3.98s/Epochs]"
     ]
    },
    {
     "name": "stdout",
     "output_type": "stream",
     "text": [
      "0.00022844511410221457\n",
      "0.00021335264283698052\n"
     ]
    },
    {
     "name": "stderr",
     "output_type": "stream",
     "text": [
      "Training:  94%|█████████▍| 47/50 [03:08<00:12,  4.20s/Epochs]"
     ]
    },
    {
     "name": "stdout",
     "output_type": "stream",
     "text": [
      "TEST LOSS: 0.0003475627745501697\n"
     ]
    },
    {
     "name": "stderr",
     "output_type": "stream",
     "text": [
      "Training:  96%|█████████▌| 48/50 [03:11<00:07,  3.99s/Epochs]"
     ]
    },
    {
     "name": "stdout",
     "output_type": "stream",
     "text": [
      "0.00020901080779731274\n",
      "0.00021142683591460809\n"
     ]
    },
    {
     "name": "stderr",
     "output_type": "stream",
     "text": [
      "Training:  98%|█████████▊| 49/50 [03:16<00:04,  4.25s/Epochs]"
     ]
    },
    {
     "name": "stdout",
     "output_type": "stream",
     "text": [
      "TEST LOSS: 0.0002424729464109987\n"
     ]
    },
    {
     "name": "stderr",
     "output_type": "stream",
     "text": [
      "Training: 100%|██████████| 50/50 [03:19<00:00,  3.99s/Epochs]"
     ]
    },
    {
     "name": "stdout",
     "output_type": "stream",
     "text": [
      "0.0002123579842154868\n"
     ]
    },
    {
     "name": "stderr",
     "output_type": "stream",
     "text": [
      "\n"
     ]
    }
   ],
   "source": [
    "train_losses, test_losses, trained_model, _ = train(train_loader, test_loader, args)"
   ]
  },
  {
   "cell_type": "code",
   "execution_count": 57,
   "metadata": {},
   "outputs": [
    {
     "name": "stdout",
     "output_type": "stream",
     "text": [
      "250 250 {'graph_type': 'ER', 'p': 0.2, 'weighted': True}\n",
      "Learned competitive ratio: [0.96835015 0.97609376 0.97803644 0.98048062 0.98473856]\n",
      "Greedy competitive ratio: [0.98355918 0.98658909 0.98831781 0.99010081 0.99421403]\n",
      "\n",
      "250 250 {'graph_type': 'BA', 'ba_param': 3, 'weighted': True}\n",
      "Learned competitive ratio: [0.89685678 0.91077624 0.91862069 0.93245457 0.95049158]\n",
      "Greedy competitive ratio: [0.8012446  0.84401783 0.85059135 0.86062543 0.89568046]\n",
      "\n",
      "250 250 {'graph_type': 'GEOM', 'threshold': 0.5, 'scaling': 0.7071067811865475}\n",
      "Learned competitive ratio: [0.70165503 0.76936393 0.79468349 0.83067035 0.85931773]\n",
      "Greedy competitive ratio: [0.94887874 0.9673024  0.970675   0.97660082 0.98777667]\n",
      "\n"
     ]
    }
   ],
   "source": [
    "num_trials = 25\n",
    "node_configs = [(250, 250)]\n",
    "graph_configs = [\n",
    "    # {\n",
    "    #     'graph_type': 'GM'\n",
    "    # },\n",
    "    {\n",
    "        'graph_type': 'ER',\n",
    "        'p': 0.2,\n",
    "        'weighted': True\n",
    "    },\n",
    "    {\n",
    "        'graph_type': 'BA',\n",
    "        'ba_param': 3,\n",
    "        'weighted': True\n",
    "    },\n",
    "    {\n",
    "        'graph_type': 'GEOM',\n",
    "        'threshold': 0.5,\n",
    "        'scaling': 1 / np.sqrt(2),\n",
    "    }\n",
    "]\n",
    "    \n",
    "\n",
    "def masked_argmax(tensor, mask, dim):\n",
    "    masked = torch.mul(tensor, mask)\n",
    "    neg_inf = torch.zeros_like(tensor)\n",
    "    neg_inf[~mask] = -math.inf \n",
    "    return (masked + neg_inf).argmax(dim=dim)\n",
    "\n",
    "def test_model(trained_model, num_trials, m, n, config):\n",
    "\n",
    "    offline_nodes = [frozenset(np.arange(n)) for _ in range(num_trials)]\n",
    "    matchings = [[] for _ in range(num_trials)]\n",
    "    values = [0 for _ in range(num_trials)]\n",
    "    p = np.random.uniform(0.5, 1, (m, num_trials))\n",
    "    coin_flips = np.vectorize(lambda x: np.random.binomial(1, x))(p)\n",
    "    \n",
    "\n",
    "    print(m, n, config)\n",
    "    As = [gg.sample_bipartite_graph(m, n, **config) for _ in range(num_trials)]\n",
    "    dataset = [\n",
    "        gg._to_pyg_test(\n",
    "            As[i],\n",
    "            p[:, i],\n",
    "            offline_nodes[i],\n",
    "            0\n",
    "        )\n",
    "        for i in range(num_trials)\n",
    "    ]\n",
    "\n",
    "    for t in range(m):\n",
    "        arrivals = coin_flips[t, :]\n",
    "        num_arrivals = int(sum(arrivals))\n",
    "        if num_arrivals > 0:\n",
    "\n",
    "            iter_data = Dataset(\n",
    "                [\n",
    "                    dataset[i]\n",
    "                    for i in range(num_trials)\n",
    "                    if arrivals[i]\n",
    "                ]\n",
    "            )\n",
    "\n",
    "\n",
    "            iter_loader = DataLoader(\n",
    "                iter_data,\n",
    "                batch_size=num_arrivals,\n",
    "                shuffle=False\n",
    "            )\n",
    "\n",
    "            batch = list(iter_loader)[0]\n",
    "            batch.to(device)\n",
    "\n",
    "            pred = trained_model(batch.x, batch.edge_index, batch.edge_attr,\n",
    "                                num_arrivals, batch.graph_features)\n",
    " \n",
    "            # print(f\"t: {t}\")\n",
    "            # print(batch.edge_index)\n",
    "            # print(batch.edge_attr)\n",
    "            # print(pred.view(num_arrivals, -1))\n",
    "            # print()\n",
    "            choices = masked_argmax(\n",
    "                pred.view(num_arrivals, -1),\n",
    "                batch.neighbors.view(num_arrivals, -1),\n",
    "                dim=1\n",
    "            )\n",
    "\n",
    "        arrival_index = 0\n",
    "        for i in range(num_trials):\n",
    "            choice = -1\n",
    "            if arrivals[i]:\n",
    "                choice = choices[arrival_index].cpu().item()\n",
    "                arrival_index += 1\n",
    "                if choice < n:\n",
    "                    matchings[i].append((t, choice))\n",
    "                    values[i] += As[i][t, choice]\n",
    "                    offline_nodes[i] = diff(offline_nodes[i], choice)\n",
    "                else:\n",
    "                    choice = -1\n",
    "                \n",
    "                \n",
    "            if t < m - 1:\n",
    "                dataset[i] = gg._update_pyg(dataset[i], t + 1, choice, As[i], offline_nodes[i])\n",
    "\n",
    "\n",
    "\n",
    "    opts = [\n",
    "        dp.offline_opt(As[i], coin_flips[:, i])[1]\n",
    "        for i in range(num_trials)\n",
    "    ]\n",
    "    learned_ratios = [\n",
    "        values[i] / opts[i]\n",
    "        for i in range(num_trials)\n",
    "        if opts[i] > 0\n",
    "    ]\n",
    "\n",
    "    greedy_ratios = [\n",
    "        dp.greedy(As[i], coin_flips[:, i], 0)[1] / opts[i]\n",
    "        for i in range(num_trials)\n",
    "        if opts[i] > 0\n",
    "    ]\n",
    "\n",
    "    \n",
    "    print(f\"Learned competitive ratio: {np.quantile(learned_ratios, [0, 0.25, 0.5, 0.75, 1])}\")\n",
    "    print(f\"Greedy competitive ratio: {np.quantile(greedy_ratios, [0, 0.25, 0.5, 0.75, 1])}\")\n",
    "    print()\n",
    "\n",
    "for graph_config in graph_configs:\n",
    "    for node_config in node_configs:\n",
    "        test_model(trained_model, num_trials, *node_config, graph_config)"
   ]
  },
  {
   "cell_type": "code",
   "execution_count": 48,
   "metadata": {},
   "outputs": [
    {
     "name": "stdout",
     "output_type": "stream",
     "text": [
      "30 10 {'graph_type': 'ER', 'p': 0.2, 'weighted': True}\n",
      "Learned competitive ratio: [0.79702391 0.9140855  0.94979474 0.97554601 1.        ]\n",
      "Greedy competitive ratio: [0.45235643 0.68316698 0.74646186 0.81717415 0.99331092]\n",
      "\n",
      "60 10 {'graph_type': 'ER', 'p': 0.2, 'weighted': True}\n",
      "Learned competitive ratio: [0.81848763 0.91582072 0.9394166  0.96204883 0.99679838]\n",
      "Greedy competitive ratio: [0.37965475 0.60736507 0.66587954 0.73348854 0.91787347]\n",
      "\n",
      "30 10 {'graph_type': 'BA', 'ba_param': 3, 'weighted': True}\n",
      "Learned competitive ratio: [0.78160602 0.91955132 0.94970817 0.9699254  1.        ]\n",
      "Greedy competitive ratio: [0.54399691 0.70862678 0.7605725  0.8255007  0.96045967]\n",
      "\n",
      "60 10 {'graph_type': 'BA', 'ba_param': 3, 'weighted': True}\n",
      "Learned competitive ratio: [0.82459893 0.92194213 0.93952287 0.95881477 0.9984181 ]\n",
      "Greedy competitive ratio: [0.44922293 0.66900184 0.72311038 0.77372705 0.94855961]\n",
      "\n",
      "30 10 {'graph_type': 'GEOM', 'threshold': 0.2, 'scaling': 0.7071067811865475}\n",
      "Learned competitive ratio: [0.80896879 0.89373687 0.91667501 0.93986317 0.99895287]\n",
      "Greedy competitive ratio: [0.65507898 0.77389226 0.81074463 0.84916553 0.92740188]\n",
      "\n",
      "60 10 {'graph_type': 'GEOM', 'threshold': 0.2, 'scaling': 0.7071067811865475}\n",
      "Learned competitive ratio: [0.7604977  0.8499311  0.87444148 0.89831317 0.96786096]\n",
      "Greedy competitive ratio: [0.58523159 0.71345082 0.75450603 0.78722905 0.94523417]\n",
      "\n"
     ]
    }
   ],
   "source": [
    "num_trials = 250\n",
    "node_configs = [(30, 10), (60, 10)]\n",
    "graph_configs = [\n",
    "    # {\n",
    "    #     'graph_type': 'GM'\n",
    "    # },\n",
    "    {\n",
    "        'graph_type': 'ER',\n",
    "        'p': 0.2,\n",
    "        'weighted': True\n",
    "    },\n",
    "    {\n",
    "        'graph_type': 'BA',\n",
    "        'ba_param': 3,\n",
    "        'weighted': True\n",
    "    },\n",
    "    {\n",
    "        'graph_type': 'GEOM',\n",
    "        'threshold': 0.2,\n",
    "        'scaling': 1 / np.sqrt(2),\n",
    "    }\n",
    "]\n",
    "\n",
    "def test_model(trained_model, num_trials, node_configs, graph_configs):\n",
    "    for config in graph_configs:\n",
    "        for m, n in node_configs:\n",
    "            all_nodes = torch.arange(0, n + m + 1).to(device)\n",
    "            print(m, n, config)\n",
    "            greedy_vals = []\n",
    "            learned_vals = []\n",
    "            for _ in range(num_trials):\n",
    "                A = gg.sample_bipartite_graph(m, n, **config)\n",
    "                p = np.random.uniform(0.5, 1, m)\n",
    "                coin_flips = [np.random.binomial(1, _p) for _p in p]\n",
    "                offline_nodes = frozenset(np.arange(n))\n",
    "                matching = []\n",
    "                value = 0\n",
    "                for t in range(m):\n",
    "                    if coin_flips[t]:\n",
    "                        input = gg._to_pyg_test(A, p, offline_nodes, t)\n",
    "                        input.to(device)\n",
    "                        pred = trained_model(input.x, input.edge_index, input.edge_attr, 1, input.graph_features)\n",
    "                        neighbors = input.neighbors.to(device)\n",
    "                        chosen_index = torch.argmax(pred[neighbors])\n",
    "                \n",
    "                        choice = all_nodes[neighbors][chosen_index].cpu().item()\n",
    "                        if choice < n:\n",
    "                            matching.append((t, choice))\n",
    "                            value += A[t, choice]\n",
    "                    \n",
    "                        offline_nodes = diff(offline_nodes, choice)\n",
    "\n",
    "                _, offline_opt = dp.offline_opt(A, coin_flips)\n",
    "                _, greed_value = dp.greedy(A, coin_flips, 0.0)\n",
    "                if offline_opt > 0:\n",
    "                    learned_vals.append(value / offline_opt)\n",
    "                    greedy_vals.append(greed_value / offline_opt)\n",
    "            \n",
    "            print(f\"Learned competitive ratio: {np.quantile(learned_vals, [0, 0.25, 0.5, 0.75, 1])}\")\n",
    "            print(f\"Greedy competitive ratio: {np.quantile(greedy_vals, [0, 0.25, 0.5, 0.75, 1])}\")\n",
    "            print()\n",
    "\n",
    "test_model(trained_model, num_trials, node_configs, graph_configs)"
   ]
  },
  {
   "cell_type": "code",
   "execution_count": null,
   "metadata": {},
   "outputs": [
    {
     "name": "stdout",
     "output_type": "stream",
     "text": [
      "32 32 {'graph_type': 'ER', 'p': 0.75, 'weighted': True}\n"
     ]
    },
    {
     "ename": "RuntimeError",
     "evalue": "a Tensor with 65 elements cannot be converted to Scalar",
     "output_type": "error",
     "traceback": [
      "\u001b[0;31m---------------------------------------------------------------------------\u001b[0m",
      "\u001b[0;31mRuntimeError\u001b[0m                              Traceback (most recent call last)",
      "\u001b[1;32m/home/wikum/GNN-OBM/OBM_GNN.ipynb Cell 6\u001b[0m in \u001b[0;36m<cell line: 64>\u001b[0;34m()\u001b[0m\n\u001b[1;32m     <a href='vscode-notebook-cell://ssh-remote%2Bsoal-7.stanford.edu/home/wikum/GNN-OBM/OBM_GNN.ipynb#W6sdnNjb2RlLXJlbW90ZQ%3D%3D?line=60'>61</a>\u001b[0m             \u001b[39mprint\u001b[39m(\u001b[39mf\u001b[39m\u001b[39m\"\u001b[39m\u001b[39mGreedy competitive ratio: \u001b[39m\u001b[39m{\u001b[39;00mgreedy_mean\u001b[39m}\u001b[39;00m\u001b[39m ± \u001b[39m\u001b[39m{\u001b[39;00m\u001b[39m2\u001b[39m \u001b[39m*\u001b[39m greedy_std \u001b[39m/\u001b[39m np\u001b[39m.\u001b[39msqrt(num_trials)\u001b[39m}\u001b[39;00m\u001b[39m\"\u001b[39m)\n\u001b[1;32m     <a href='vscode-notebook-cell://ssh-remote%2Bsoal-7.stanford.edu/home/wikum/GNN-OBM/OBM_GNN.ipynb#W6sdnNjb2RlLXJlbW90ZQ%3D%3D?line=61'>62</a>\u001b[0m             \u001b[39mprint\u001b[39m()\n\u001b[0;32m---> <a href='vscode-notebook-cell://ssh-remote%2Bsoal-7.stanford.edu/home/wikum/GNN-OBM/OBM_GNN.ipynb#W6sdnNjb2RlLXJlbW90ZQ%3D%3D?line=63'>64</a>\u001b[0m test_model(trained_model, num_trials, node_configs, graph_configs)\n",
      "\u001b[1;32m/home/wikum/GNN-OBM/OBM_GNN.ipynb Cell 6\u001b[0m in \u001b[0;36mtest_model\u001b[0;34m(trained_model, num_trials, node_configs, graph_configs)\u001b[0m\n\u001b[1;32m     <a href='vscode-notebook-cell://ssh-remote%2Bsoal-7.stanford.edu/home/wikum/GNN-OBM/OBM_GNN.ipynb#W6sdnNjb2RlLXJlbW90ZQ%3D%3D?line=40'>41</a>\u001b[0m \u001b[39minput\u001b[39m\u001b[39m.\u001b[39mto(device)\n\u001b[1;32m     <a href='vscode-notebook-cell://ssh-remote%2Bsoal-7.stanford.edu/home/wikum/GNN-OBM/OBM_GNN.ipynb#W6sdnNjb2RlLXJlbW90ZQ%3D%3D?line=41'>42</a>\u001b[0m pred \u001b[39m=\u001b[39m trained_model(\u001b[39minput\u001b[39m\u001b[39m.\u001b[39mx, \u001b[39minput\u001b[39m\u001b[39m.\u001b[39medge_index, \u001b[39minput\u001b[39m\u001b[39m.\u001b[39medge_attr, \u001b[39m1\u001b[39m, \u001b[39minput\u001b[39m\u001b[39m.\u001b[39mgraph_features)\n\u001b[0;32m---> <a href='vscode-notebook-cell://ssh-remote%2Bsoal-7.stanford.edu/home/wikum/GNN-OBM/OBM_GNN.ipynb#W6sdnNjb2RlLXJlbW90ZQ%3D%3D?line=42'>43</a>\u001b[0m \u001b[39mif\u001b[39;00m pred\u001b[39m.\u001b[39;49mcpu()\u001b[39m.\u001b[39;49mitem() \u001b[39m<\u001b[39m\u001b[39m=\u001b[39m \u001b[39m0.5\u001b[39m:\n\u001b[1;32m     <a href='vscode-notebook-cell://ssh-remote%2Bsoal-7.stanford.edu/home/wikum/GNN-OBM/OBM_GNN.ipynb#W6sdnNjb2RlLXJlbW90ZQ%3D%3D?line=43'>44</a>\u001b[0m     mask \u001b[39m=\u001b[39m \u001b[39minput\u001b[39m\u001b[39m.\u001b[39mneighbors\u001b[39m.\u001b[39mcpu()\u001b[39m.\u001b[39mdetach()\u001b[39m.\u001b[39mnumpy()[:A\u001b[39m.\u001b[39mshape[\u001b[39m1\u001b[39m]]\n\u001b[1;32m     <a href='vscode-notebook-cell://ssh-remote%2Bsoal-7.stanford.edu/home/wikum/GNN-OBM/OBM_GNN.ipynb#W6sdnNjb2RlLXJlbW90ZQ%3D%3D?line=44'>45</a>\u001b[0m     \u001b[39mif\u001b[39;00m np\u001b[39m.\u001b[39many(mask):\n",
      "\u001b[0;31mRuntimeError\u001b[0m: a Tensor with 65 elements cannot be converted to Scalar"
     ]
    }
   ],
   "source": [
    "num_trials = 250\n",
    "node_configs = [(32, 32), (16, 48)]\n",
    "graph_configs = [\n",
    "    # {\n",
    "    #     'graph_type': 'GM'\n",
    "    # },\n",
    "    {\n",
    "        'graph_type': 'ER',\n",
    "        'p': 0.75,\n",
    "        'weighted': True\n",
    "    },\n",
    "    {\n",
    "        'graph_type': 'BA',\n",
    "        'ba_param': 4,\n",
    "        'weighted': True\n",
    "    },\n",
    "    {\n",
    "        'graph_type': 'GEOM',\n",
    "        'threshold': 0.2,\n",
    "        'scaling': 1 / np.sqrt(2),\n",
    "    }\n",
    "]\n",
    "\n",
    "def test_model(trained_model, num_trials, node_configs, graph_configs):\n",
    "    for config in graph_configs:\n",
    "        for m, n in node_configs:\n",
    "            all_nodes = torch.arange(0, n + m + 1).to(device)\n",
    "            print(m, n, config)\n",
    "            greedy_vals = []\n",
    "            learned_vals = []\n",
    "            for _ in range(num_trials):\n",
    "                A = gg.sample_bipartite_graph(m, n, **config)\n",
    "                p = [0.8 for _ in range(m)]\n",
    "                coin_flips = [np.random.binomial(1, _p) for _p in p]\n",
    "                offline_nodes = frozenset(np.arange(n))\n",
    "                matching = []\n",
    "                value = 0\n",
    "                for t in range(m):\n",
    "                    if coin_flips[t]:\n",
    "                        input = gg._to_pyg_test(A, p, offline_nodes, t)\n",
    "                        input.to(device)\n",
    "                        pred = trained_model(input.x, input.edge_index, input.edge_attr, 1, input.graph_features)\n",
    "                        if pred.cpu().item() <= 0.5:\n",
    "                            mask = input.neighbors.cpu().detach().numpy()[:A.shape[1]]\n",
    "                            if np.any(mask):\n",
    "                                chosen_index = np.argmax(A[t, :][mask])\n",
    "                                choice = all_nodes[input.neighbors][chosen_index].cpu().item()\n",
    "                                matching.append((t, choice))\n",
    "                                value += A[t, choice]\n",
    "                                offline_nodes = diff(offline_nodes, choice)\n",
    "\n",
    "                _, offline_opt = dp.offline_opt(A, coin_flips)\n",
    "                _, greed_value = dp.greedy(A, coin_flips, 0.0)\n",
    "                if offline_opt > 0:\n",
    "                    learned_vals.append(value / offline_opt)\n",
    "                    greedy_vals.append(greed_value / offline_opt)\n",
    "            \n",
    "            learned_mean = np.mean(learned_vals); greedy_mean = np.mean(greedy_vals)\n",
    "            learned_std = np.std(learned_vals, ddof=1); greedy_std = np.std(greedy_vals, ddof=1)\n",
    "            print(f\"Learned competitive ratio: {learned_mean} ± {2 * learned_std / np.sqrt(num_trials)}\")\n",
    "            print(f\"Greedy competitive ratio: {greedy_mean} ± {2 * greedy_std / np.sqrt(num_trials)}\")\n",
    "            print()\n",
    "\n",
    "test_model(trained_model, num_trials, node_configs, graph_configs)"
   ]
  },
  {
   "cell_type": "code",
   "execution_count": null,
   "metadata": {},
   "outputs": [],
   "source": [
    "\n",
    "\n",
    "def edge_weight_dist(m ,n, num, config, degree):\n",
    "  weights = []\n",
    "  for _ in range(num):\n",
    "    weight = gg.sample_bipartite_graph(m, n, **config)\n",
    "    if degree:\n",
    "      weight[weight>0] = 1\n",
    "      weights.append(weight.sum(axis=0))\n",
    "    else:\n",
    "      weight = weight.flatten()\n",
    "      weight = weight[weight > 0]\n",
    "      weights.extend(weight)\n",
    "  return np.array(weights)"
   ]
  },
  {
   "cell_type": "code",
   "execution_count": null,
   "metadata": {},
   "outputs": [
    {
     "name": "stdout",
     "output_type": "stream",
     "text": [
      "0.7527238491712286\n",
      "0.6634019558352728\n",
      "\n",
      "0.9973640619086351\n",
      "0.9867668224470197\n",
      "\n",
      "0.9177868987301777\n",
      "0.8129560468973501\n",
      "\n",
      "0.7254273979728423\n",
      "0.6958035534203616\n",
      "\n"
     ]
    }
   ],
   "source": [
    "graph_configs = [\n",
    "    {\n",
    "        'graph_type': 'GM'\n",
    "    },\n",
    "    {\n",
    "        'graph_type': 'ER',\n",
    "        'p': 0.75,\n",
    "        'weighted': True\n",
    "    },\n",
    "    {\n",
    "        'graph_type': 'BA',\n",
    "        'ba_param': 3,\n",
    "        'weighted': True\n",
    "    },\n",
    "    {\n",
    "        'graph_type': 'GEOM',\n",
    "        'threshold': 0.2,\n",
    "        'scaling': 1 / np.sqrt(2),\n",
    "    }\n",
    "]\n",
    "\n",
    "for config in graph_configs:\n",
    "    print(edge_weight_dist(500, 100, 50, config, True).mean())\n",
    "    print(edge_weight_dist(100, 100, 50, config, True).mean())\n",
    "    print()"
   ]
  },
  {
   "cell_type": "code",
   "execution_count": null,
   "metadata": {},
   "outputs": [],
   "source": [
    "degrees = edge_weight_dist(500, 100, 50, graph_configs[0], True)"
   ]
  },
  {
   "cell_type": "code",
   "execution_count": null,
   "metadata": {},
   "outputs": [
    {
     "data": {
      "image/png": "[encoded data removed]",
      "text/plain": [
       "<Figure size 432x288 with 1 Axes>"
      ]
     },
     "metadata": {
      "needs_background": "light"
     },
     "output_type": "display_data"
    }
   ],
   "source": [
    "plt.hist(degrees.flatten())\n",
    "plt.xlabel('Offline node degree')\n",
    "plt.ylabel('Count')\n",
    "plt.show()"
   ]
  },
  {
   "cell_type": "code",
   "execution_count": null,
   "metadata": {},
   "outputs": [
    {
     "data": {
      "image/png": "[encoded data removed]",
      "text/plain": [
       "<Figure size 432x288 with 1 Axes>"
      ]
     },
     "metadata": {
      "needs_background": "light"
     },
     "output_type": "display_data"
    }
   ],
   "source": [
    "plt.hist(degrees.flatten())\n",
    "plt.xlabel('Offline node degree')\n",
    "plt.ylabel('Count')\n",
    "plt.show()"
   ]
  },
  {
   "cell_type": "code",
   "execution_count": null,
   "metadata": {},
   "outputs": [],
   "source": [
    "config = {\n",
    "        'graph_type': 'GEOM',\n",
    "        'threshold': 0.2,\n",
    "        'scaling': 0.5\n",
    "    }\n",
    "edge_weight_dist(config)"
   ]
  },
  {
   "cell_type": "code",
   "execution_count": null,
   "metadata": {},
   "outputs": [],
   "source": [
    "import matplotlib.pyplot as plt\n",
    "outputs = [\n",
    "  (\n",
    "    [0.934, 0.919, 0.909, 0.910, 0.908, 0.905, 0.909, 0.909, 0.910],\n",
    "    [0.898, 0.867, 0.845, 0.838, 0.829, 0.798, 0.782, 0.763, 0.761],\n",
    "    'GMISSION'\n",
    "  ),\n",
    "  (\n",
    "    [0.915, 0.911, 0.934, 0.950, 0.962, 0.965, 0.965, 0.968, 0.969],\n",
    "    [0.956, 0.921, 0.888, 0.876, 0.864, 0.852, 0.847, 0.842, 0.846],\n",
    "    'ER'\n",
    "  ),\n",
    "  (\n",
    "    [0.909, 0.906, 0.918, 0.929, 0.942, 0.943, 0.952, 0.950, 0.955],\n",
    "    [0.875, 0.828, 0.821, 0.806, 0.796, 0.795, 0.788, 0.774, 0.774],\n",
    "    'BA'\n",
    "  ),\n",
    "  (\n",
    "    [0.859, 0.861, 0.882, 0.903, 0.930, 0.936, 0.949, 0.949, 0.953],\n",
    "    [0.961, 0.941, 0.905, 0.875, 0.855, 0.838, 0.825, 0.814, 0.804],\n",
    "    'GEOM'\n",
    "  ),\n",
    "]\n",
    "\n",
    "node_seq = [n/16 for n in range(16, 52, 4)]\n",
    "\n",
    "for output in outputs:\n",
    "    plt.plot(node_seq, output[0], label=f'GNN')\n",
    "    plt.plot(node_seq, output[1], label=f'Greedy')\n",
    "    plt.legend()\n",
    "    plt.title(output[2])\n",
    "    plt.xlabel('Offline/Online ratio')\n",
    "    plt.ylabel('Competitive ratio')\n",
    "    plt.show()"
   ]
  },
  {
   "cell_type": "code",
   "execution_count": null,
   "metadata": {},
   "outputs": [],
   "source": [
    "m = 10; n = 10; num_trials = 1\n",
    "\n",
    "# config = {\n",
    "#     'graph_type': 'ER',\n",
    "#     'p': 0.75,\n",
    "#     'weighted': True\n",
    "# }\n",
    "# config = {\n",
    "#         'graph_type': 'BA',\n",
    "#         'ba_param': 3,\n",
    "#         'weighted': True\n",
    "# }\n",
    "config = {\n",
    "    'graph_type': 'GEOM',\n",
    "    'threshold': 0.2,\n",
    "    'scaling': 1 / np.sqrt(2)\n",
    "}\n",
    "# config = {\n",
    "#         'graph_type': 'GM'\n",
    "# }\n",
    "def diagnose(hints, preds):\n",
    "    return np.max(hints) - hints[np.argmax(preds)]\n",
    "    \n",
    "lost_weights = []\n",
    "choices = []\n",
    "no_skips = []\n",
    "\n",
    "for i in range(num_trials):\n",
    "    A = gg.sample_bipartite_graph(m, n, **config)\n",
    "    p = [0.8 for _ in range(m)]\n",
    "    cache = dp.cache_stochastic_opt(A, p)\n",
    "    coin_flips = [np.random.binomial(1, _p) for _p in p]\n",
    "    all_nodes = np.arange(n + m + 1)\n",
    "    offline_nodes = frozenset(np.arange(n))\n",
    "    OPT = cache[0][offline_nodes][0]\n",
    "    matching = []\n",
    "    value = 0\n",
    "    for t in range(m):\n",
    "        if coin_flips[t]:\n",
    "            input = gg._to_pyg_test(A, p, offline_nodes, t)\n",
    "            hints = dp.one_step_stochastic_opt(A, offline_nodes, t, cache)\n",
    "            opt_index = np.argmax(hints)\n",
    "            pred = trained_model(input.x, input.edge_index, input.edge_attr, input.batch, input.graph_features)\n",
    "            preds = pred[input.neighbors].detach().numpy()\n",
    "            chosen_index = np.argmax(preds)\n",
    "            choice = all_nodes[input.neighbors][chosen_index]\n",
    "            lost_weight = diagnose(hints, preds) / OPT\n",
    "\n",
    "            #print(hints, preds, A[t,:][input.neighbors.detach().numpy()[:12]])\n",
    "            choices.append(opt_index == chosen_index)\n",
    "            print(opt_index, chosen_index, hints[opt_index], hints[chosen_index], len(hints) - 1)\n",
    "            no_skips.append(chosen_index == len(hints) - 1)\n",
    "\n",
    "            lost_weights.append(lost_weight)\n",
    "            #print(f\"Lost weight: {lost_weight}\")\n",
    "            \n",
    "            \n",
    "            if choice < n:            \n",
    "                matching.append((t, choice))\n",
    "                value += A[t, choice]\n",
    "\n",
    "        \n",
    "            offline_nodes = diff(offline_nodes, choice)\n",
    "    greedy_matching, greedy_val = dp.greedy(A, coin_flips, 0)\n",
    "    # print(len(matching), value, len(greedy_matching), greedy_val, matching, greedy_matching)\n",
    "    # print(A[0,0])"
   ]
  },
  {
   "cell_type": "code",
   "execution_count": null,
   "metadata": {},
   "outputs": [],
   "source": [
    "np.mean(no_skips)"
   ]
  },
  {
   "cell_type": "code",
   "execution_count": null,
   "metadata": {},
   "outputs": [],
   "source": [
    "np.mean(choices)"
   ]
  },
  {
   "cell_type": "code",
   "execution_count": null,
   "metadata": {},
   "outputs": [],
   "source": [
    "plt.hist(lost_weights, bins=25)\n",
    "print(np.mean(lost_weights).round(3), np.std(lost_weights).round(3), len(lost_weights) / 250)\n",
    "print(np.quantile(lost_weights, [0.1 * x for x in range(1,10)]))\n",
    "plt.show()"
   ]
  },
  {
   "cell_type": "code",
   "execution_count": null,
   "metadata": {},
   "outputs": [],
   "source": [
    "plt.hist(lost_weights, bins=25)\n",
    "print(np.mean(lost_weights).round(3), np.std(lost_weights).round(3), len(lost_weights))\n",
    "print(np.quantile(lost_weights, [0.1 * x for x in range(1,10)]))\n",
    "plt.show()"
   ]
  },
  {
   "cell_type": "code",
   "execution_count": null,
   "metadata": {},
   "outputs": [],
   "source": [
    "m = 14; n = 8; num_trials = 100\n",
    "\n",
    "# config = {\n",
    "#     'graph_type': 'ER',\n",
    "#     'p': 0.75,\n",
    "#     'weighted': True\n",
    "# }\n",
    "config = {\n",
    "    'graph_type': 'GEOM',\n",
    "    'threshold': 0.2,\n",
    "    'scaling': 1 / np.sqrt(2)\n",
    "}\n",
    "def error_code(chosen_index, pred_index, length):\n",
    "    if chosen_index == pred_index and chosen_index == length - 1:\n",
    "        return \"Correct\"\n",
    "    elif chosen_index == pred_index:\n",
    "        return \"Correct\"\n",
    "    elif chosen_index == length - 1:\n",
    "        return \"Incorrect\"\n",
    "    elif pred_index == length - 1:\n",
    "        return \"Incorrect\"\n",
    "    else:\n",
    "        return \"Incorrect\"\n",
    "    \n",
    "record = ([[] for _ in range(m)], [[] for _ in range(m)], [[] for _ in range(m)])\n",
    "greedy_vals = []\n",
    "learned_vals = []\n",
    "for i in range(num_trials):\n",
    "    A = gg.sample_bipartite_graph(m, n, **config)\n",
    "    p = [1 for _ in range(m)]\n",
    "    cache = dp.cache_stochastic_opt(A, p)\n",
    "    coin_flips = [np.random.binomial(1, _p) for _p in p]\n",
    "    all_nodes = np.arange(n + m + 1)\n",
    "    offline_nodes = frozenset(np.arange(n))\n",
    "    matching = []\n",
    "    value = 0\n",
    "    for t in range(m):\n",
    "        if coin_flips[t]:\n",
    "            input = gg._to_pyg_test(A, p, offline_nodes, t)\n",
    "            pred = trained_model(input.x, input.edge_index, input.edge_attr, input.graph_features)\n",
    "            \n",
    "            hints = dp.one_step_stochastic_opt(A, offline_nodes, t, cache)\n",
    "            hints = np.max(hints) - hints\n",
    "            # print(t)\n",
    "            # print(pred[input.neighbors].squeeze().detach().numpy())\n",
    "            # print(hints)\n",
    "            # print()\n",
    "            chosen_index = np.argmin(pred[input.neighbors].detach().numpy())\n",
    "            opt_index = np.argmin(hints)\n",
    "            choice = all_nodes[input.neighbors][chosen_index]\n",
    "            correct = (chosen_index == opt_index)\n",
    "            reduction = hints[opt_index] - hints[chosen_index]\n",
    "            record[0][t].append(error_code(opt_index, chosen_index, len(hints)))\n",
    "            record[1][t].append(reduction)\n",
    "            record[2][t].append(np.sum(input.neighbors.detach().numpy()))\n",
    "            if choice < n:\n",
    "                matching.append((t, choice))\n",
    "                value += A[t, choice]\n",
    "        \n",
    "            offline_nodes = diff(offline_nodes, choice)\n",
    "\n",
    "   \n",
    "    opt_matching, opt_value = dp.stochastic_opt(A, coin_flips, cache)\n",
    "    _, greed_value = dp.greedy(A, coin_flips, 0)\n",
    "    learned_vals.append(value / opt_value)\n",
    "    greedy_vals.append(greed_value / opt_value)"
   ]
  },
  {
   "cell_type": "code",
   "execution_count": null,
   "metadata": {},
   "outputs": [],
   "source": [
    "#Need to predict skip more often?\n",
    "import matplotlib.pyplot as plt\n",
    "for t in range(m):\n",
    "  labels, vals =  np.unique(record[0][t], return_counts=True)\n",
    "  print(t, np.mean(np.array(record[0][t]) == 'Correct'), np.mean(record[2][t]))\n",
    "  # plt.bar(labels, vals)\n",
    "  # plt.xticks(rotation=45)\n",
    "  # plt.show()"
   ]
  },
  {
   "cell_type": "markdown",
   "metadata": {},
   "source": [
    "0 0.59 8.18\n",
    "1 0.51 7.69\n",
    "2 0.54 7.35\n",
    "3 0.64 6.55\n",
    "4 0.54 6.2\n",
    "5 0.69 5.54\n",
    "6 0.68 5.12\n",
    "7 0.64 4.61\n",
    "8 0.63 4.19\n",
    "9 0.7 3.78\n",
    "10 0.67 3.31\n",
    "11 0.74 2.65\n",
    "12 0.83 2.32\n",
    "13 1.0 1.9"
   ]
  },
  {
   "cell_type": "code",
   "execution_count": null,
   "metadata": {},
   "outputs": [],
   "source": [
    "import matplotlib.pyplot as plt\n",
    "\n",
    "for i in range(len(record[0])):\n",
    "    print(f\"Node: {i}, average reduction: {np.mean(record[1][i])}\")\n",
    "    print(f\"Node: {i}, average neighbors: {np.mean(record[2][i])}\")\n",
    "    plt.hist(record[1][i], bins=10)\n",
    "    plt.show()"
   ]
  },
  {
   "cell_type": "code",
   "execution_count": null,
   "metadata": {},
   "outputs": [],
   "source": [
    "matching"
   ]
  },
  {
   "cell_type": "code",
   "execution_count": null,
   "metadata": {},
   "outputs": [],
   "source": [
    "opt_matching"
   ]
  },
  {
   "cell_type": "code",
   "execution_count": null,
   "metadata": {},
   "outputs": [],
   "source": [
    "value, opt_value"
   ]
  },
  {
   "cell_type": "code",
   "execution_count": null,
   "metadata": {},
   "outputs": [],
   "source": [
    "greed_value"
   ]
  },
  {
   "cell_type": "code",
   "execution_count": null,
   "metadata": {},
   "outputs": [],
   "source": []
  },
  {
   "cell_type": "code",
   "execution_count": null,
   "metadata": {},
   "outputs": [],
   "source": [
    "def greedy_test(num_trials, node_configs, graph_configs, r):\n",
    "    matched_weights = []\n",
    "    for m, n in node_configs:\n",
    "        for config in graph_configs:\n",
    "            vals = []\n",
    "            print(m, n, config)\n",
    "            for _ in range(num_trials):\n",
    "                A = gg.sample_bipartite_graph(m, n, **config)\n",
    "                p = [0.8 for _ in range(m)]\n",
    "                coin_flips = [np.random.binomial(1, _p) for _p in p]\n",
    "                matching, val = dp.greedy(A, coin_flips, r)\n",
    "                matched_weight = [A[t, i] for (t, i) in matching]\n",
    "                matched_weights.append(matched_weight)\n",
    "                vals.append(val / dp.offline_opt(A, coin_flips)[1])\n",
    "            mean_ratio = np.mean(vals)\n",
    "            std_ratio = np.std(vals, ddof=1)\n",
    "            print(f\"Stoch opt competitive ratio: {np.round(mean_ratio, 3)} ± {np.round(2 * std_ratio / np.sqrt(num_trials), 3)}\")\n",
    "            print()\n",
    "    return np.array(matched_weights)\n",
    "\n",
    "\n",
    "num_trials = 1000\n",
    "node_configs = [(50, 10)]\n",
    "graph_configs = [\n",
    "    {\n",
    "        'graph_type': 'GEOM',\n",
    "        'threshold': 0.2,\n",
    "        'scaling': 1 / np.sqrt(2)\n",
    "    }\n",
    "]\n",
    "\n"
   ]
  },
  {
   "cell_type": "code",
   "execution_count": null,
   "metadata": {},
   "outputs": [],
   "source": [
    "matched_weights = greedy_test(num_trials, node_configs, graph_configs, 0)\n",
    "matched_weights.mean(axis=0)"
   ]
  },
  {
   "cell_type": "code",
   "execution_count": null,
   "metadata": {},
   "outputs": [],
   "source": [
    "matched_weights = greedy_test(num_trials, node_configs, graph_configs, 0)\n",
    "matched_weights.mean(axis=0)"
   ]
  },
  {
   "cell_type": "code",
   "execution_count": null,
   "metadata": {},
   "outputs": [],
   "source": [
    "greedy_test(num_trials, node_configs, graph_configs, 0)"
   ]
  },
  {
   "cell_type": "code",
   "execution_count": null,
   "metadata": {},
   "outputs": [],
   "source": [
    "greedy_test(num_trials, node_configs, graph_configs, 0.25)"
   ]
  },
  {
   "cell_type": "code",
   "execution_count": null,
   "metadata": {},
   "outputs": [],
   "source": [
    "greedy_test(num_trials, node_configs, graph_configs, 0.5)"
   ]
  },
  {
   "cell_type": "code",
   "execution_count": null,
   "metadata": {},
   "outputs": [],
   "source": [
    "greedy_test(num_trials, node_configs, graph_configs, 0.75)"
   ]
  },
  {
   "cell_type": "code",
   "execution_count": null,
   "metadata": {},
   "outputs": [],
   "source": [
    "m = 5; n = 10\n",
    "config = {\n",
    "    'graph_type': 'GEOM',\n",
    "    'threshold': 0.2,\n",
    "    'scaling': 1 / np.sqrt(2)\n",
    "}\n",
    "\n",
    "A = gg.sample_bipartite_graph(m, n, **config)\n",
    "for t in range(m):\n",
    "  print(np.mean(A[t, :]), np.std(A[t, :]))"
   ]
  },
  {
   "cell_type": "code",
   "execution_count": null,
   "metadata": {},
   "outputs": [],
   "source": [
    "config = {\n",
    "    'graph_type': 'ER',\n",
    "    'p': 0.75,\n",
    "    'weighted': True\n",
    "}\n",
    "\n",
    "A = gg.sample_bipartite_graph(m, n, **config)\n",
    "for t in range(m):\n",
    "  print(np.mean(A[t, :]), np.std(A[t, :]))"
   ]
  },
  {
   "cell_type": "code",
   "execution_count": null,
   "metadata": {},
   "outputs": [],
   "source": [
    "config = {\n",
    "    'graph_type': 'BA',\n",
    "    'ba_param': 4,\n",
    "    'weighted': True\n",
    "}\n",
    "\n",
    "A = gg.sample_bipartite_graph(m, n, **config)\n",
    "weights = A.flatten()\n",
    "for t in range(m):\n",
    "  print(np.mean(A[t, :]), np.std(A[t, :]))"
   ]
  },
  {
   "cell_type": "code",
   "execution_count": null,
   "metadata": {},
   "outputs": [],
   "source": []
  }
 ],
 "metadata": {
  "kernelspec": {
   "display_name": "clrs",
   "language": "python",
   "name": "python3"
  },
  "language_info": {
   "codemirror_mode": {
    "name": "ipython",
    "version": 3
   },
   "file_extension": ".py",
   "mimetype": "text/x-python",
   "name": "python",
   "nbconvert_exporter": "python",
   "pygments_lexer": "ipython3",
   "version": "3.10.6"
  }
 },
 "nbformat": 4,
 "nbformat_minor": 2
}
