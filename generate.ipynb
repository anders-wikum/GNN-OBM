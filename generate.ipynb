{
 "cells": [
  {
   "cell_type": "code",
   "execution_count": null,
   "metadata": {},
   "outputs": [],
   "source": [
    "import graph_generator as gg\n",
    "import obm_dp as dp\n",
    "import numpy as np\n",
    "from util import diff\n",
    "\n",
    "%load_ext autoreload\n",
    "%autoreload 2"
   ]
  },
  {
   "cell_type": "code",
   "execution_count": null,
   "metadata": {},
   "outputs": [],
   "source": [
    "m = 4; n = 4\n",
    "config = {\n",
    "    'graph_type': 'GEOM',\n",
    "    'threshold': 0.5,\n",
    "    'scaling': 1/ np.sqrt(2)\n",
    "}\n",
    "A = gg.sample_bipartite_graph(m, n, **config)\n",
    "p = [0.75 for _ in range(m)]\n",
    "\n",
    "cache = dp.cache_stochastic_opt(A, p)"
   ]
  },
  {
   "cell_type": "code",
   "execution_count": null,
   "metadata": {},
   "outputs": [],
   "source": [
    "graphs = []\n",
    "\n",
    "def update(dict, u):\n",
    "    del dict[u]\n",
    "    for (key, val) in dict.items():\n",
    "        if val > u:\n",
    "            dict[key] -= 1\n",
    "    \n",
    "\n",
    "def generate_examples(A, cache, p):\n",
    "    graphs = []\n",
    "\n",
    "    p = list(np.copy(p))\n",
    "    m, n = A.shape\n",
    "    offline_nodes = frozenset(np.arange(n))\n",
    "    reduced_nodes = frozenset(np.arange(n))\n",
    "    reduced_of_node = dict(zip(range(n), range(n)))\n",
    "    reduced_A = np.copy(A)\n",
    "\n",
    "    for t in range(m):\n",
    "        hint, neighbor_mask = dp.one_step_stochastic_opt(A, offline_nodes, t, cache)\n",
    "        graphs.append(gg._to_pyg(reduced_A, p, hint, neighbor_mask))\n",
    "        choice = cache[t][offline_nodes][1]\n",
    "        \n",
    "        offline_nodes = diff(offline_nodes, choice)\n",
    "        \n",
    "        if choice != -1:\n",
    "            reduced_nodes = diff(reduced_nodes, reduced_of_node[choice])\n",
    "            update(reduced_of_node, choice)\n",
    "       \n",
    "        reduced_A = reduced_A[1:, :]\n",
    "        reduced_A = np.take(reduced_A, list(reduced_nodes), axis=1)\n",
    "        reduced_nodes = frozenset(np.arange(len(reduced_nodes)))\n",
    "        p.pop()\n",
    "\n",
    "    return graphs\n",
    "           \n",
    "\n",
    "generate_examples(A, cache, p)\n",
    "\n"
   ]
  }
 ],
 "metadata": {
  "kernelspec": {
   "display_name": "clrs",
   "language": "python",
   "name": "python3"
  },
  "language_info": {
   "codemirror_mode": {
    "name": "ipython",
    "version": 3
   },
   "file_extension": ".py",
   "mimetype": "text/x-python",
   "name": "python",
   "nbconvert_exporter": "python",
   "pygments_lexer": "ipython3",
   "version": "3.11.3"
  }
 },
 "nbformat": 4,
 "nbformat_minor": 2
}
