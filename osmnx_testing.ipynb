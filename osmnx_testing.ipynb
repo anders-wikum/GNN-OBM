{
 "cells": [
  {
   "cell_type": "code",
   "execution_count": null,
   "metadata": {},
   "outputs": [],
   "source": [
    "import osmnx as ox\n",
    "import networkx as nx\n",
    "import matplotlib.pyplot as plt\n",
    "import numpy as np\n",
    "import torch_converter as tc\n",
    "import instance_generator as ig\n",
    "import pickle\n",
    "\n",
    "%load_ext autoreload\n",
    "%autoreload 2"
   ]
  },
  {
   "cell_type": "code",
   "execution_count": null,
   "metadata": {},
   "outputs": [],
   "source": [
    "G = ox.graph_from_place(\"Piedmont, California, USA\", network_type=\"drive\")\n",
    "# G = ox.graph_from_place(\"Founex, Switzerland\", network_type=\"drive\")\n",
    "#G = ox.graph_from_place(\"San Francisco, California, USA\", network_type=\"drive\")\n",
    "G = ox.speed.add_edge_speeds(G)\n",
    "G = ox.speed.add_edge_travel_times(G)\n",
    "fig, ax = ox.plot_graph(G)\n",
    "fig.savefig(\"data/founex\")"
   ]
  },
  {
   "cell_type": "code",
   "execution_count": null,
   "metadata": {},
   "outputs": [],
   "source": [
    "places = [\n",
    "    \"Piedmont, California, USA\",\n",
    "    \"Founex, Switzerland\",\n",
    "    \"Carmel, Indiana, USA\",\n",
    "    \"Geneva, Switzerland\"\n",
    "]\n",
    "\n",
    "for place in places:\n",
    "    G = ox.graph_from_place(place, network_type=\"drive\")\n",
    "    G = ox.speed.add_edge_speeds(G)\n",
    "    G = ox.speed.add_edge_travel_times(G)\n",
    "    print(f\"Now considering: {place}\")\n",
    "    fig, ax = ox.plot_graph(G)\n",
    "    plt.show()\n",
    "\n",
    "    path_lengths = dict(\n",
    "        nx.all_pairs_dijkstra_path_length(G, weight='travel_time')\n",
    "    )\n",
    "    with open(f\"data/OSMNX_{place}_travel_times.pickle\", \"wb\") as handle:\n",
    "        pickle.dump(path_lengths, handle, protocol=pickle.HIGHEST_PROTOCOL)"
   ]
  },
  {
   "cell_type": "code",
   "execution_count": null,
   "metadata": {},
   "outputs": [],
   "source": [
    "\n",
    "G = ox.graph_from_place(\"Piedmont, California, USA\", network_type=\"drive\")\n",
    "print(53117098 in G.nodes())"
   ]
  },
  {
   "cell_type": "code",
   "execution_count": null,
   "metadata": {},
   "outputs": [],
   "source": [
    "with open(\"data/OSMNX_Piedmont, California, USA_travel_times.pickle\", \"rb\") as handle:\n",
    "    travel_times = pickle.load(handle)"
   ]
  },
  {
   "cell_type": "code",
   "execution_count": null,
   "metadata": {},
   "outputs": [],
   "source": [
    "travel_times[53035698]"
   ]
  },
  {
   "cell_type": "code",
   "execution_count": null,
   "metadata": {},
   "outputs": [],
   "source": [
    "import pickle\n",
    "def get_location_info(city):\n",
    "\tintersections = ox.graph_from_place(city, network_type=\"drive\").nodes\n",
    "\twith open(f\"data/OSMNX_{city}_travel_times.pickle\", \"rb\") as handle:\n",
    "\t\tdrive_times = pickle.load(handle)\n",
    "\n",
    "\treturn {\n",
    "\t\t'intersections': intersections, \n",
    "\t\t'drive_times': drive_times,\n",
    "\t\t'city': city\n",
    "\t}\n",
    "piedmont = get_location_info(\"Piedmont, California, USA\")\n"
   ]
  },
  {
   "cell_type": "code",
   "execution_count": null,
   "metadata": {},
   "outputs": [],
   "source": [
    "%%time\n",
    "from instance_generator import _sample_bipartite_graph\n",
    "seed = np.random.randint(0, 500000)\n",
    "rng = np.random.default_rng(seed)# get the nearest network nodes to two lat/lng points with the distance module\n",
    "kwargs = {\n",
    "\t'graph_type': 'OSMNX',\n",
    "\t'location_info': piedmont\n",
    "}\n",
    "# matrix, routes = _sample_osmnx_graph(8, 8, rng, **kwargs)\n",
    "matrix = _sample_bipartite_graph(200, 100, rng, **kwargs)"
   ]
  },
  {
   "cell_type": "code",
   "execution_count": null,
   "metadata": {},
   "outputs": [],
   "source": [
    "np.max(matrix)"
   ]
  },
  {
   "cell_type": "code",
   "execution_count": null,
   "metadata": {},
   "outputs": [],
   "source": [
    "plt.hist(matrix.flatten(), bins=50)"
   ]
  },
  {
   "attachments": {
    "image.png": {
     "image/png": "[encoded data removed]"
    }
   },
   "cell_type": "markdown",
   "metadata": {},
   "source": [
    "![image.png](attachment:image.png)"
   ]
  },
  {
   "cell_type": "code",
   "execution_count": null,
   "metadata": {},
   "outputs": [],
   "source": [
    "tc._featurize((matrix, np.random.uniform(0.5, 1, 48)))"
   ]
  },
  {
   "cell_type": "code",
   "execution_count": null,
   "metadata": {},
   "outputs": [],
   "source": [
    "geom_config = {\n",
    "    'graph_type': 'GEOM',\n",
    "    'threshold': 0.2,\n",
    "    'scaling': 1 / np.sqrt(2)\n",
    "}\n",
    "instances = ig.sample_instances(48, 16, 1, rng, **geom_config)\n",
    "tc._featurize(instances[0])"
   ]
  },
  {
   "cell_type": "code",
   "execution_count": null,
   "metadata": {},
   "outputs": [],
   "source": [
    "graph = nx.Graph(G)\n",
    "pos = nx.spring_layout(graph)  # You can choose different layout algorithms\n",
    "nx.draw(graph, pos, with_labels=True, font_weight='bold', node_color='skyblue', edge_color='gray', alpha=0.7)\n",
    "plt.show()"
   ]
  },
  {
   "cell_type": "code",
   "execution_count": null,
   "metadata": {},
   "outputs": [],
   "source": [
    "seed = np.random.randint(0, 500000)\n",
    "rng = np.random.default_rng(seed)# get the nearest network nodes to two lat/lng points with the distance module\n",
    "\n",
    "orig = ox.distance.nearest_nodes(G, X=-122.245846, Y=37.828903)\n",
    "dest = ox.distance.nearest_nodes(G, X=-122.215006, Y=37.812303)\n",
    "orig = rng.choice(G.nodes, 2)\n",
    "dest = rng.choice(G.nodes, 2)\n",
    "# orig = 703006798\n",
    "# dest = 53126347\n",
    "print(orig, dest)\n",
    "\n"
   ]
  },
  {
   "cell_type": "code",
   "execution_count": null,
   "metadata": {},
   "outputs": [],
   "source": [
    "# find the shortest path between nodes, minimizing travel time, then plot it\n",
    "routes = ox.shortest_path(G, 6982135025, 256021767, weight=\"travel_time\")\n",
    "print(routes)\n",
    "# time = nx.shortest_path_length(G, orig, dest, weight=\"travel_time\")\n",
    "rc = ['r', 'y', 'c']\n",
    "rc = ['g', 'y', 'r', 'c']\n",
    "rc = ['c']\n",
    "# fig, ax = ox.plot_graph_route(G, routes, route_color='c', node_size=0)\n",
    "def col(r):\n",
    "\tif r == 6982135025:\n",
    "\t\treturn 'r'\n",
    "\telif r in dest:\n",
    "\t\treturn 'b'\n",
    "\telse:\n",
    "\t\treturn 'grey'\n",
    "nc = [col(node) for node in G.nodes]\n",
    "fig, ax = ox.plot_graph(G, node_color=nc, node_size = 50)\n",
    "fig.savefig(\"data/founex_nodes.png\")\n",
    "# fig, ax = ox.plot_graph_routes(G, routes, node_size=0, route_colors=rc)"
   ]
  },
  {
   "cell_type": "code",
   "execution_count": null,
   "metadata": {},
   "outputs": [],
   "source": [
    "G.nodes"
   ]
  },
  {
   "cell_type": "code",
   "execution_count": null,
   "metadata": {},
   "outputs": [],
   "source": [
    "for a, b in zip(orig, dest):\n",
    "\troutes = nx.shortest_path_length(G, a, b, weight=\"travel_time\")\n",
    "\tprint(routes)"
   ]
  },
  {
   "cell_type": "code",
   "execution_count": null,
   "metadata": {},
   "outputs": [],
   "source": [
    "for a, b in zip(orig, dest):\n",
    "\troutes = nx.shortest_path_length(G, a, weight=\"travel_time\")\n",
    "\tprint(routes[b])"
   ]
  },
  {
   "cell_type": "code",
   "execution_count": null,
   "metadata": {},
   "outputs": [],
   "source": []
  },
  {
   "cell_type": "code",
   "execution_count": null,
   "metadata": {},
   "outputs": [],
   "source": [
    "# rc = ['r', 'y', 'c'] * 2\n",
    "rc = ['r', 'y', 'c', 'g'] * 4\n",
    "print(len(routes))\n",
    "fig, ax = ox.plot_graph_routes(G, routes, node_size=0, route_colors=rc)\n",
    "fig.savefig(\"data/sf_routes.png\")"
   ]
  },
  {
   "cell_type": "code",
   "execution_count": null,
   "metadata": {},
   "outputs": [],
   "source": [
    "matrix"
   ]
  },
  {
   "cell_type": "code",
   "execution_count": null,
   "metadata": {},
   "outputs": [],
   "source": [
    "mat = np.array"
   ]
  }
 ],
 "metadata": {
  "kernelspec": {
   "display_name": "local",
   "language": "python",
   "name": "python3"
  },
  "language_info": {
   "codemirror_mode": {
    "name": "ipython",
    "version": 3
   },
   "file_extension": ".py",
   "mimetype": "text/x-python",
   "name": "python",
   "nbconvert_exporter": "python",
   "pygments_lexer": "ipython3",
   "version": "3.10.12"
  },
  "orig_nbformat": 4
 },
 "nbformat": 4,
 "nbformat_minor": 2
}
