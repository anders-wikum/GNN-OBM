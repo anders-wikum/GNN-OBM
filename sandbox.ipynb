{
 "cells": [
  {
   "cell_type": "code",
   "execution_count": null,
   "metadata": {},
   "outputs": [],
   "source": [
    "import graph_generator as gg\n",
    "import obm_dp as dp\n",
    "import numpy as np\n",
    "import matplotlib.pyplot as plt\n",
    "from dp_analysis import NODE_FUNCS, expected_quantities\n",
    "\n",
    "%load_ext autoreload\n",
    "%autoreload 2"
   ]
  },
  {
   "cell_type": "code",
   "execution_count": null,
   "metadata": {},
   "outputs": [],
   "source": [
    "config = {\n",
    "    'graph_type': 'GEOM',\n",
    "    'threshold': 0.0,\n",
    "    'scaling': 1/ np.sqrt(2)\n",
    "}\n",
    "\n",
    "m = 5\n",
    "n = 5\n",
    "A = gg.sample_bipartite_graph(m, n, **config)\n",
    "p = [1 for _ in range(m)]"
   ]
  },
  {
   "cell_type": "code",
   "execution_count": null,
   "metadata": {},
   "outputs": [],
   "source": [
    "cache = dp.cache_stochastic_opt(A, p)\n",
    "coin_flips = [np.random.binomial(1, _p) for _p in p]"
   ]
  },
  {
   "cell_type": "code",
   "execution_count": null,
   "metadata": {},
   "outputs": [],
   "source": [
    "dp.stochastic_opt(A, coin_flips, cache)"
   ]
  },
  {
   "cell_type": "code",
   "execution_count": null,
   "metadata": {},
   "outputs": [],
   "source": [
    "dp.greedy(A, coin_flips)"
   ]
  },
  {
   "cell_type": "code",
   "execution_count": null,
   "metadata": {},
   "outputs": [],
   "source": [
    "def monte_carlo_layer_quantity(m: int, n: int, num_graphs: int, node_func: callable, **kwargs):\n",
    "    data = []\n",
    "    for _ in range(num_graphs):\n",
    "        A = gg.sample_bipartite_graph(m, n, **kwargs)\n",
    "        p = [0.75 for _ in range(m)]\n",
    "        cache = {}\n",
    "        cache = dp.cache_stochastic_opt(A, p)\n",
    "        layers, quantities = expected_quantities(cache, node_func, A)\n",
    "        data.append(quantities)\n",
    "   \n",
    "    return layers, np.array(data)\n",
    "\n",
    "\n",
    "def plot_err(layers, means, errs, ylabel):\n",
    "    plt.plot(layers, means)\n",
    "    plt.fill_between(layers, means - errs, means + errs, alpha=0.3)\n",
    "    plt.xlabel('DP Layer')\n",
    "    plt.ylabel(ylabel)\n",
    "    plt.show()\n",
    "\n",
    "\n",
    "def analyze_dp(\n",
    "    m: int,\n",
    "    n: int,\n",
    "    num_graphs: int,\n",
    "    node_func: callable,\n",
    "    ylabel: str,\n",
    "    **graph_kwargs\n",
    ") -> None:\n",
    "    \n",
    "    layers, data = monte_carlo_layer_quantity(m, n, num_graphs, node_func, **graph_kwargs)\n",
    "    means = np.mean(data, axis=0)\n",
    "    stds = np.std(data, axis=0, ddof=1)\n",
    "    errs = 2 * stds / np.sqrt(num_graphs)  \n",
    "    plot_err(layers, means, errs, ylabel)\n",
    "\n",
    "    "
   ]
  },
  {
   "cell_type": "code",
   "execution_count": null,
   "metadata": {},
   "outputs": [],
   "source": [
    "num_graphs = 100\n",
    "node_func = NODE_FUNCS['greedy_suboptimality']\n",
    "analyze_dp(m, n, num_graphs, node_func, 'Average fractional value-to-go reduction', **config)"
   ]
  },
  {
   "cell_type": "code",
   "execution_count": null,
   "metadata": {},
   "outputs": [],
   "source": [
    "node_func = NODE_FUNCS['uniform_suboptimality']\n",
    "analyze_dp(m, n, num_graphs, node_func, 'Average fractional value-to-go reduction', **config)"
   ]
  },
  {
   "cell_type": "code",
   "execution_count": null,
   "metadata": {},
   "outputs": [],
   "source": [
    "node_func = NODE_FUNCS['greedy_correctness']\n",
    "analyze_dp(m, n, num_graphs, node_func, 'Fraction of correct decisions', **config)"
   ]
  },
  {
   "cell_type": "code",
   "execution_count": null,
   "metadata": {},
   "outputs": [],
   "source": [
    "node_func = NODE_FUNCS['relative_entropy']\n",
    "analyze_dp(m, n, num_graphs, node_func, 'KL divergence with uniform', **config)"
   ]
  },
  {
   "cell_type": "code",
   "execution_count": null,
   "metadata": {},
   "outputs": [],
   "source": [
    "config = {\n",
    "    'graph_type': 'BA',\n",
    "    'ba_param': 4,\n",
    "    'weighted': True\n",
    "}\n",
    "m = 10; n = 7\n",
    "num_graphs = 250\n",
    "node_func = NODE_FUNCS['greedy_suboptimality']\n",
    "analyze_dp(m, n, num_graphs, node_func, 'Average fractional value-to-go reduction', **config)"
   ]
  },
  {
   "cell_type": "code",
   "execution_count": null,
   "metadata": {},
   "outputs": [],
   "source": [
    "num_graphs = 250\n",
    "node_func = NODE_FUNCS['uniform_suboptimality']\n",
    "analyze_dp(m, n, num_graphs, node_func, 'Average fractional value-to-go reduction', **config)"
   ]
  },
  {
   "cell_type": "code",
   "execution_count": null,
   "metadata": {},
   "outputs": [],
   "source": [
    "node_func = NODE_FUNCS['greedy_correctness']\n",
    "analyze_dp(m, n, num_graphs, node_func, 'Fraction of correct decisions', **config)"
   ]
  },
  {
   "cell_type": "code",
   "execution_count": null,
   "metadata": {},
   "outputs": [],
   "source": []
  }
 ],
 "metadata": {
  "kernelspec": {
   "display_name": "clrs",
   "language": "python",
   "name": "python3"
  },
  "language_info": {
   "codemirror_mode": {
    "name": "ipython",
    "version": 3
   },
   "file_extension": ".py",
   "mimetype": "text/x-python",
   "name": "python",
   "nbconvert_exporter": "python",
   "pygments_lexer": "ipython3",
   "version": "3.11.3"
  }
 },
 "nbformat": 4,
 "nbformat_minor": 2
}
