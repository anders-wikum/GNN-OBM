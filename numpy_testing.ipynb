{
 "cells": [
  {
   "cell_type": "code",
   "execution_count": 1,
   "metadata": {},
   "outputs": [],
   "source": [
    "import numpy as np\n",
    "import torch\n",
    "import networkx as nx\n",
    "import matplotlib.pyplot as plt\n",
    "\n",
    "%load_ext autoreload\n",
    "%autoreload 2"
   ]
  },
  {
   "cell_type": "code",
   "execution_count": 10,
   "metadata": {},
   "outputs": [
    {
     "name": "stdout",
     "output_type": "stream",
     "text": [
      "[1 2 3 4]\n",
      "[2 3 4 5]\n",
      "[3 4 5 6]\n",
      "[4 5 6 7]\n"
     ]
    }
   ],
   "source": [
    "a = np.tile([1, 2, 3, 4], (4, 1))\n",
    "a += np.arange(4).reshape(-1, 1)\n",
    "for line in a:\n",
    "\tprint(line)"
   ]
  },
  {
   "cell_type": "code",
   "execution_count": 9,
   "metadata": {},
   "outputs": [
    {
     "data": {
      "text/plain": [
       "torch.Size([3, 1])"
      ]
     },
     "execution_count": 9,
     "metadata": {},
     "output_type": "execute_result"
    }
   ],
   "source": [
    "torch.unsqueeze(torch.tensor([1, 2, 4]), 1).shape"
   ]
  },
  {
   "cell_type": "code",
   "execution_count": 8,
   "metadata": {},
   "outputs": [
    {
     "data": {
      "text/plain": [
       "[6, 6, 6, 6, 6, 7]"
      ]
     },
     "execution_count": 8,
     "metadata": {},
     "output_type": "execute_result"
    }
   ],
   "source": [
    "\n",
    "hidden_channels= 5 * [6]\n",
    "hidden_channels.append(7)\n",
    "hidden_channels"
   ]
  },
  {
   "cell_type": "code",
   "execution_count": 3,
   "metadata": {},
   "outputs": [
    {
     "data": {
      "text/plain": [
       "[1]"
      ]
     },
     "execution_count": 3,
     "metadata": {},
     "output_type": "execute_result"
    }
   ],
   "source": [
    "a = [1 for _ in range(1)]\n",
    "a"
   ]
  },
  {
   "cell_type": "code",
   "execution_count": 6,
   "metadata": {},
   "outputs": [
    {
     "name": "stdout",
     "output_type": "stream",
     "text": [
      "2\n"
     ]
    }
   ],
   "source": [
    "arr = np.array([1, 2, 4, 4])\n",
    "print(np.sum([arr == np.max(arr)]))\n"
   ]
  },
  {
   "cell_type": "code",
   "execution_count": 2,
   "metadata": {},
   "outputs": [],
   "source": [
    "from algorithms import faulty_stochastic_opt"
   ]
  },
  {
   "cell_type": "code",
   "execution_count": 11,
   "metadata": {},
   "outputs": [
    {
     "data": {
      "text/plain": [
       "array([[1, 0, 0],\n",
       "       [0, 1, 0],\n",
       "       [0, 0, 1],\n",
       "       [0, 0, 1]])"
      ]
     },
     "execution_count": 11,
     "metadata": {},
     "output_type": "execute_result"
    }
   ],
   "source": [
    "ideal_labels = np.array([\n",
    "\t[1, 0, 0],\n",
    "\t[0, 1, 0],\n",
    "\t[0, 1, 0],\n",
    "\t[0, 0, 1],\n",
    "])\n",
    "faulty_stochastic_opt(ideal_labels, 0.5, np.random.default_rng(2))"
   ]
  },
  {
   "cell_type": "code",
   "execution_count": 2,
   "metadata": {},
   "outputs": [
    {
     "data": {
      "text/plain": [
       "array([1, 2, 2, 4])"
      ]
     },
     "execution_count": 2,
     "metadata": {},
     "output_type": "execute_result"
    }
   ],
   "source": [
    "test = np.arange(6)\n",
    "elems = [1, 2, 2, 4]\n",
    "test[elems]"
   ]
  },
  {
   "cell_type": "code",
   "execution_count": 4,
   "metadata": {},
   "outputs": [
    {
     "name": "stdout",
     "output_type": "stream",
     "text": [
      "0.25\n"
     ]
    },
    {
     "data": {
      "text/plain": [
       "array([[0., 1., 0., 0., 1., 0.],\n",
       "       [0., 0., 0., 0., 0., 0.],\n",
       "       [0., 0., 0., 0., 0., 0.],\n",
       "       [0., 1., 0., 1., 1., 1.],\n",
       "       [0., 0., 0., 1., 1., 0.],\n",
       "       [0., 0., 0., 0., 0., 0.],\n",
       "       [0., 0., 0., 0., 0., 0.],\n",
       "       [1., 1., 1., 1., 1., 1.],\n",
       "       [0., 0., 0., 0., 0., 0.],\n",
       "       [0., 0., 0., 1., 0., 0.]])"
      ]
     },
     "execution_count": 4,
     "metadata": {},
     "output_type": "execute_result"
    }
   ],
   "source": []
  },
  {
   "cell_type": "code",
   "execution_count": 2,
   "metadata": {},
   "outputs": [
    {
     "data": {
      "image/png": "[encoded data removed]",
      "text/plain": [
       "<Figure size 432x288 with 1 Axes>"
      ]
     },
     "metadata": {},
     "output_type": "display_data"
    }
   ],
   "source": [
    "from instance_generator import _sample_partitioned_graph\n",
    "\n",
    "rng = np.random.default_rng(10)\n",
    "p = 0.5\n",
    "m = 8\n",
    "n = 8\n",
    "k = 4\n",
    "eps = 0.1\n",
    "\n",
    "kwargs = {'p': p, 'k': k, 'eps': eps}\n",
    "\n",
    "adj = _sample_partitioned_graph(m, n, rng, **kwargs)\n",
    "mat = np.zeros((m+n, m+n))\n",
    "mat[:m, -n:] = adj\n",
    "mat[-n:, :m] = adj.T\n",
    "\n",
    "# Create a graph from the adjacency matrix\n",
    "graph = nx.Graph(mat)\n",
    "\n",
    "# Draw the graph\n",
    "# pos = nx.spring_layout(graph)  # You can choose different layout algorithms\n",
    "pos = nx.bipartite_layout(graph, np.arange(m))  # You can choose different layout algorithms\n",
    "nx.draw(graph, pos, with_labels=True, font_weight='bold', node_color='skyblue', edge_color='gray', alpha=0.7)\n",
    "# plt.savefig(f\"data/sparse_er_eps_{eps}.png\")\n",
    "plt.show()"
   ]
  },
  {
   "cell_type": "code",
   "execution_count": 16,
   "metadata": {},
   "outputs": [
    {
     "name": "stdout",
     "output_type": "stream",
     "text": [
      "{0: array([0.26161213, 0.29849114]), 1: array([0.81422574, 0.09191594]), 2: array([0.60010053, 0.72856053]), 3: array([0.18790107, 0.05514663]), 4: array([0.27496937, 0.65743301]), 5: array([0.56226566, 0.15006226]), 6: array([0.43263079, 0.6692973 ]), 7: array([0.42278467, 0.6331844 ]), 8: array([0.96743595, 0.68306482]), 9: array([0.39162483, 0.18725257]), 10: array([0.34596067, 0.51106597]), 11: array([0.89120941, 0.77556394]), 12: array([0.3181466, 0.9242169]), 13: array([0.47090989, 0.69375884]), 14: array([0.10720731, 0.10454356]), 15: array([0.20190745, 0.88444967])}\n"
     ]
    },
    {
     "data": {
      "image/png": "[encoded data removed]",
      "text/plain": [
       "<Figure size 432x288 with 1 Axes>"
      ]
     },
     "metadata": {},
     "output_type": "display_data"
    }
   ],
   "source": [
    "# visualize the FEAT graphs\n",
    "from instance_generator import _sample_feature_bipartite_graph\n",
    "rng = np.random.default_rng(2)\n",
    "\n",
    "m = 8\n",
    "n = 8\n",
    "q = 0.6\n",
    "\n",
    "kwargs = {\n",
    "\t  'q': q,\n",
    "\t  'ret_features': True\n",
    "\t}\n",
    "\n",
    "\n",
    "adj, M, N = _sample_feature_bipartite_graph(m, n, rng, **kwargs)\n",
    "mat = np.zeros((m+n, m+n))\n",
    "mat[:m, -n:] = adj\n",
    "mat[-n:, :m] = adj.T\n",
    "\n",
    "graph = nx.Graph(mat)\n",
    "\n",
    "color_map = []\n",
    "for node in graph:\n",
    "    if node < m:\n",
    "        color_map.append('skyblue')\n",
    "    else: \n",
    "        color_map.append('tab:red') \n",
    "\n",
    "positions = np.vstack([M[:, :2], N[:, :2]])\n",
    "pos = {node: positions[node] for node in range(m+n)}\n",
    "print(pos)\n",
    "nx.draw(graph, pos, node_color = color_map, with_labels=True, font_weight='bold', edge_color='gray', alpha=0.7)\n",
    "plt.savefig(f\"data/FEAT_dot_prod_2d_{q}.png\")\n",
    "plt.show()"
   ]
  },
  {
   "cell_type": "code",
   "execution_count": null,
   "metadata": {},
   "outputs": [],
   "source": []
  }
 ],
 "metadata": {
  "kernelspec": {
   "display_name": "local",
   "language": "python",
   "name": "python3"
  },
  "language_info": {
   "codemirror_mode": {
    "name": "ipython",
    "version": 3
   },
   "file_extension": ".py",
   "mimetype": "text/x-python",
   "name": "python",
   "nbconvert_exporter": "python",
   "pygments_lexer": "ipython3",
   "version": "3.10.12"
  },
  "orig_nbformat": 4
 },
 "nbformat": 4,
 "nbformat_minor": 2
}
