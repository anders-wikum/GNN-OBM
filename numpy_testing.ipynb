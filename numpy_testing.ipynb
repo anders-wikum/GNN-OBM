{
 "cells": [
  {
   "cell_type": "code",
   "execution_count": 1,
   "metadata": {},
   "outputs": [],
   "source": [
    "import numpy as np\n",
    "import torch\n",
    "import networkx as nx\n",
    "import matplotlib.pyplot as plt\n",
    "\n",
    "%load_ext autoreload\n",
    "%autoreload 2"
   ]
  },
  {
   "cell_type": "code",
   "execution_count": null,
   "metadata": {},
   "outputs": [],
   "source": [
    "a = np.tile([1, 2, 3, 4], (4, 1))\n",
    "a += np.arange(4).reshape(-1, 1)\n",
    "for line in a:\n",
    "\tprint(line)"
   ]
  },
  {
   "cell_type": "code",
   "execution_count": null,
   "metadata": {},
   "outputs": [],
   "source": [
    "torch.unsqueeze(torch.tensor([1, 2, 4]), 1).shape"
   ]
  },
  {
   "cell_type": "code",
   "execution_count": null,
   "metadata": {},
   "outputs": [],
   "source": [
    "\n",
    "hidden_channels= 5 * [6]\n",
    "hidden_channels.append(7)\n",
    "hidden_channels"
   ]
  },
  {
   "cell_type": "code",
   "execution_count": null,
   "metadata": {},
   "outputs": [],
   "source": [
    "a = [1 for _ in range(1)]\n",
    "a"
   ]
  },
  {
   "cell_type": "code",
   "execution_count": null,
   "metadata": {},
   "outputs": [],
   "source": [
    "arr = np.array([1, 2, 4, 4])\n",
    "print(np.sum([arr == np.max(arr)]))\n"
   ]
  },
  {
   "cell_type": "code",
   "execution_count": null,
   "metadata": {},
   "outputs": [],
   "source": [
    "from algorithms import faulty_stochastic_opt"
   ]
  },
  {
   "cell_type": "code",
   "execution_count": null,
   "metadata": {},
   "outputs": [],
   "source": [
    "ideal_labels = np.array([\n",
    "\t[1, 0, 0],\n",
    "\t[0, 1, 0],\n",
    "\t[0, 1, 0],\n",
    "\t[0, 0, 1],\n",
    "])\n",
    "faulty_stochastic_opt(ideal_labels, 0.5, np.random.default_rng(2))"
   ]
  },
  {
   "cell_type": "code",
   "execution_count": null,
   "metadata": {},
   "outputs": [],
   "source": [
    "test = np.arange(6)\n",
    "elems = [1, 2, 2, 4]\n",
    "test[elems]"
   ]
  },
  {
   "cell_type": "code",
   "execution_count": null,
   "metadata": {},
   "outputs": [],
   "source": []
  },
  {
   "cell_type": "code",
   "execution_count": null,
   "metadata": {},
   "outputs": [],
   "source": [
    "from instance_generator import _sample_partitioned_graph\n",
    "\n",
    "rng = np.random.default_rng(10)\n",
    "p = 0.5\n",
    "m = 8\n",
    "n = 8\n",
    "k = 4\n",
    "eps = 0.1\n",
    "\n",
    "kwargs = {'p': p, 'k': k, 'eps': eps}\n",
    "\n",
    "adj = _sample_partitioned_graph(m, n, rng, **kwargs)\n",
    "mat = np.zeros((m+n, m+n))\n",
    "mat[:m, -n:] = adj\n",
    "mat[-n:, :m] = adj.T\n",
    "\n",
    "# Create a graph from the adjacency matrix\n",
    "graph = nx.Graph(mat)\n",
    "\n",
    "# Draw the graph\n",
    "# pos = nx.spring_layout(graph)  # You can choose different layout algorithms\n",
    "pos = nx.bipartite_layout(graph, np.arange(m))  # You can choose different layout algorithms\n",
    "nx.draw(graph, pos, with_labels=True, font_weight='bold', node_color='skyblue', edge_color='gray', alpha=0.7)\n",
    "# plt.savefig(f\"data/sparse_er_eps_{eps}.png\")\n",
    "plt.show()"
   ]
  },
  {
   "cell_type": "code",
   "execution_count": null,
   "metadata": {},
   "outputs": [],
   "source": [
    "# visualize the FEAT graphs\n",
    "from instance_generator import _sample_feature_bipartite_graph\n",
    "from util import _symmetrize\n",
    "rng = np.random.default_rng(10)\n",
    "kwargs = {\n",
    "\t  'q': 0.9,\n",
    "\t  'ret_features': True\n",
    "\t}\n",
    "\n",
    "\n",
    "adj, M, N = _sample_feature_bipartite_graph(m, n, rng, **kwargs)\n",
    "print(np.sum(adj))\n",
    "mat = _symmetrize(adj)\n",
    "graph = nx.Graph(mat)\n",
    "\n",
    "color_map = []\n",
    "for node in graph:\n",
    "    if node < m:\n",
    "        color_map.append('skyblue')\n",
    "    else: \n",
    "        color_map.append('tab:red') \n",
    "\n",
    "positions = np.vstack([M[:, :2], N[:, :2]])\n",
    "pos = {node: positions[node] for node in range(m+n)}\n",
    "fig, ax = plt.subplots(figsize=(10, 8))\n",
    "nx.draw(graph, pos, with_labels=True, font_weight='bold', node_color='skyblue', edge_color='gray', alpha=0.7, ax=ax)\n",
    "limits=plt.axis('on') # turns on axis\n",
    "ax.tick_params(left=True, bottom=True, labelleft=True, labelbottom=True)\n",
    "ax.set_title(f\"q={kwargs['q']}\")\n",
    "# plt.hlines(y=0, xmin=-1, xmax=1, alpha=0.5, color='red', linestyles='--')\n",
    "# plt.vlines(x=0, ymin=-1, ymax=1, alpha=0.5, color='red', linestyles='--')\n",
    "\n",
    "# plt.savefig(f\"data/FEAT_dot_prod_2d_no_rating.png\")\n",
    "plt.show()"
   ]
  },
  {
   "cell_type": "code",
   "execution_count": null,
   "metadata": {},
   "outputs": [],
   "source": [
    "8 * 16 * 0.1"
   ]
  },
  {
   "cell_type": "code",
   "execution_count": 30,
   "metadata": {},
   "outputs": [
    {
     "name": "stdout",
     "output_type": "stream",
     "text": [
      "tensor(0.6667)\n"
     ]
    }
   ],
   "source": [
    "a = torch.tensor([1, 2, 1, 0, 0, 4, 4, 4, 4, 5])\n",
    "c = torch.tensor([1, 5, 1, 0, 6, 4, 4, 4, 4, 12])\n",
    "\n",
    "b = torch.tensor([0, 0, 0, 1, 1, 1, 2, 2, 2, 2])\n",
    "\n",
    "# Create a 2D mask where each row corresponds to the indices in b\n",
    "mask = torch.arange(len(torch.unique(b))).unsqueeze(1) == b.unsqueeze(0)\n",
    "\n",
    "# Use the mask to select elements from a and find the maximum along each row\n",
    "result = torch.argmax(torch.where(mask, a.unsqueeze(0), float('-inf')), dim=1)\n",
    "result2 = torch.argmax(torch.where(mask, c.unsqueeze(0), float('-inf')), dim=1)\n",
    "acc = torch.sum(result == result2) / result.shape[0]\n",
    "print(acc)\n",
    "# print(result)"
   ]
  },
  {
   "cell_type": "code",
   "execution_count": 8,
   "metadata": {},
   "outputs": [
    {
     "data": {
      "text/plain": [
       "array([[ True,  True,  True, False, False, False, False, False, False,\n",
       "        False],\n",
       "       [False, False, False,  True,  True,  True, False, False, False,\n",
       "        False],\n",
       "       [False, False, False, False, False, False,  True,  True,  True,\n",
       "         True],\n",
       "       [False, False, False, False, False, False, False, False, False,\n",
       "        False],\n",
       "       [False, False, False, False, False, False, False, False, False,\n",
       "        False],\n",
       "       [False, False, False, False, False, False, False, False, False,\n",
       "        False],\n",
       "       [False, False, False, False, False, False, False, False, False,\n",
       "        False],\n",
       "       [False, False, False, False, False, False, False, False, False,\n",
       "        False],\n",
       "       [False, False, False, False, False, False, False, False, False,\n",
       "        False],\n",
       "       [False, False, False, False, False, False, False, False, False,\n",
       "        False]])"
      ]
     },
     "execution_count": 8,
     "metadata": {},
     "output_type": "execute_result"
    }
   ],
   "source": [
    "np.arange(len(np.unique(b)))[:, None] == b"
   ]
  },
  {
   "cell_type": "code",
   "execution_count": 24,
   "metadata": {},
   "outputs": [
    {
     "data": {
      "text/plain": [
       "10"
      ]
     },
     "execution_count": 24,
     "metadata": {},
     "output_type": "execute_result"
    }
   ],
   "source": [
    "a.shape[0]"
   ]
  },
  {
   "cell_type": "code",
   "execution_count": null,
   "metadata": {},
   "outputs": [],
   "source": []
  }
 ],
 "metadata": {
  "kernelspec": {
   "display_name": "local",
   "language": "python",
   "name": "python3"
  },
  "language_info": {
   "codemirror_mode": {
    "name": "ipython",
    "version": 3
   },
   "file_extension": ".py",
   "mimetype": "text/x-python",
   "name": "python",
   "nbconvert_exporter": "python",
   "pygments_lexer": "ipython3",
   "version": "3.10.12"
  },
  "orig_nbformat": 4
 },
 "nbformat": 4,
 "nbformat_minor": 2
}
